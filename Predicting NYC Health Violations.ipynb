{
 "cells": [
  {
   "cell_type": "code",
   "execution_count": 1,
   "metadata": {
    "ExecuteTime": {
     "end_time": "2022-03-24T19:54:41.225196Z",
     "start_time": "2022-03-24T19:54:34.738890Z"
    }
   },
   "outputs": [],
   "source": [
    "from IPython import display\n",
    "import pandas as pd\n",
    "import numpy as np\n",
    "import matplotlib.pyplot as plt\n",
    "%matplotlib inline\n",
    "import seaborn as sns\n",
    "import warnings\n",
    "warnings.filterwarnings(\"ignore\")\n",
    "pd.set_option('display.max_colwidth',100)\n",
    "pd.set_option('display.max_columns',50)\n"
   ]
  },
  {
   "cell_type": "code",
   "execution_count": 2,
   "metadata": {
    "ExecuteTime": {
     "end_time": "2022-03-24T19:54:43.703118Z",
     "start_time": "2022-03-24T19:54:43.187600Z"
    }
   },
   "outputs": [],
   "source": [
    "import requests\n",
    "import json"
   ]
  },
  {
   "cell_type": "code",
   "execution_count": 3,
   "metadata": {
    "ExecuteTime": {
     "end_time": "2022-03-24T19:54:44.851527Z",
     "start_time": "2022-03-24T19:54:44.829634Z"
    }
   },
   "outputs": [],
   "source": [
    "from sodapy import Socrata"
   ]
  },
  {
   "cell_type": "code",
   "execution_count": null,
   "metadata": {},
   "outputs": [],
   "source": []
  },
  {
   "cell_type": "markdown",
   "metadata": {},
   "source": [
    "# Introduction"
   ]
  },
  {
   "cell_type": "markdown",
   "metadata": {},
   "source": [
    "According to the Centers for Disease Control, more than 48 million Americans per year become sick from food, and an estimated 75% of the outbreaks came from food prepared by caterers, delis, and restaurants. In most cities, health inspections are generally random, which can increase time spent on spot checks at clean restaurants that have been following the rules closely — and missed opportunities to improve health and hygiene at places with more pressing food safety issues.\n",
    "\n",
    "The goal for this project is to leverage public citizen generated data from social media to narrow the search for critical health and safety violations in New York City. As the City of New York manages  an open data portal, everyone can access historical hygiene inspections and violation records. By combine these two data source this project aims to determine which words, phrases, ratings, and patterns among restaurants lead to critical health and safety violations. This model can assist city health inspectors do their job better by prioritizing the kitchens most likely to be in violation of code."
   ]
  },
  {
   "cell_type": "markdown",
   "metadata": {},
   "source": [
    "# Obtain"
   ]
  },
  {
   "cell_type": "markdown",
   "metadata": {},
   "source": [
    "This project requires data pulled from two different sources, the City of New York and Yelp. To obtain the data we will call the API keys."
   ]
  },
  {
   "cell_type": "markdown",
   "metadata": {},
   "source": [
    "## NYC Open Data API"
   ]
  },
  {
   "cell_type": "markdown",
   "metadata": {},
   "source": [
    "The New York Health Department inspects the approximately 27,000 restaurants within the city to monitor their compliance with food safety regulations. Inspectors observe how food is prepared, served and stored and whether restaurant workers are practicing good hygiene. They check food temperatures, equipment maintenance and pest control measures."
   ]
  },
  {
   "cell_type": "markdown",
   "metadata": {},
   "source": [
    "Calling API"
   ]
  },
  {
   "cell_type": "code",
   "execution_count": null,
   "metadata": {
    "ExecuteTime": {
     "end_time": "2022-03-23T14:18:42.498560Z",
     "start_time": "2022-03-23T14:18:42.494193Z"
    }
   },
   "outputs": [],
   "source": [
    "# url = 'https://data.cityofnewyork.us/resource/43nn-pn8j.json?$limit=400000'\n",
    "# nyc_response = requests.get(url)\n",
    "# nyc_response.ok\n",
    "# nyc_data = nyc_response.json()\n",
    "# nyc_data\n",
    "# pd.DataFrame(nyc_data)"
   ]
  },
  {
   "cell_type": "code",
   "execution_count": 5,
   "metadata": {
    "ExecuteTime": {
     "end_time": "2022-03-24T20:02:12.838067Z",
     "start_time": "2022-03-24T19:57:30.890722Z"
    }
   },
   "outputs": [],
   "source": [
    "dohmh_df = pd.read_csv('https://data.cityofnewyork.us/resource/43nn-pn8j.csv?$limit=400000')"
   ]
  },
  {
   "cell_type": "code",
   "execution_count": 7,
   "metadata": {
    "ExecuteTime": {
     "end_time": "2022-03-24T20:02:12.963337Z",
     "start_time": "2022-03-24T20:02:12.954447Z"
    }
   },
   "outputs": [
    {
     "data": {
      "text/plain": [
       "(327812, 26)"
      ]
     },
     "execution_count": 7,
     "metadata": {},
     "output_type": "execute_result"
    }
   ],
   "source": [
    "dohmh_df.shape"
   ]
  },
  {
   "cell_type": "code",
   "execution_count": 6,
   "metadata": {
    "ExecuteTime": {
     "end_time": "2022-03-24T20:02:12.947402Z",
     "start_time": "2022-03-24T20:02:12.842800Z"
    }
   },
   "outputs": [
    {
     "data": {
      "text/html": [
       "<div>\n",
       "<style scoped>\n",
       "    .dataframe tbody tr th:only-of-type {\n",
       "        vertical-align: middle;\n",
       "    }\n",
       "\n",
       "    .dataframe tbody tr th {\n",
       "        vertical-align: top;\n",
       "    }\n",
       "\n",
       "    .dataframe thead th {\n",
       "        text-align: right;\n",
       "    }\n",
       "</style>\n",
       "<table border=\"1\" class=\"dataframe\">\n",
       "  <thead>\n",
       "    <tr style=\"text-align: right;\">\n",
       "      <th></th>\n",
       "      <th>camis</th>\n",
       "      <th>dba</th>\n",
       "      <th>boro</th>\n",
       "      <th>building</th>\n",
       "      <th>street</th>\n",
       "      <th>zipcode</th>\n",
       "      <th>phone</th>\n",
       "      <th>cuisine_description</th>\n",
       "      <th>inspection_date</th>\n",
       "      <th>action</th>\n",
       "      <th>violation_code</th>\n",
       "      <th>violation_description</th>\n",
       "      <th>critical_flag</th>\n",
       "      <th>score</th>\n",
       "      <th>grade</th>\n",
       "      <th>grade_date</th>\n",
       "      <th>record_date</th>\n",
       "      <th>inspection_type</th>\n",
       "      <th>latitude</th>\n",
       "      <th>longitude</th>\n",
       "      <th>community_board</th>\n",
       "      <th>council_district</th>\n",
       "      <th>census_tract</th>\n",
       "      <th>bin</th>\n",
       "      <th>bbl</th>\n",
       "      <th>nta</th>\n",
       "    </tr>\n",
       "  </thead>\n",
       "  <tbody>\n",
       "    <tr>\n",
       "      <th>0</th>\n",
       "      <td>50008319</td>\n",
       "      <td>POULETTE</td>\n",
       "      <td>Manhattan</td>\n",
       "      <td>790</td>\n",
       "      <td>9 AVENUE</td>\n",
       "      <td>10019.0</td>\n",
       "      <td>2129569488</td>\n",
       "      <td>Chicken</td>\n",
       "      <td>2019-01-28T00:00:00.000</td>\n",
       "      <td>Violations were cited in the following area(s).</td>\n",
       "      <td>04D</td>\n",
       "      <td>Food worker does not wash hands thoroughly after using the toilet, coughing, sneezing, smoking, ...</td>\n",
       "      <td>Critical</td>\n",
       "      <td>22.0</td>\n",
       "      <td>NaN</td>\n",
       "      <td>NaN</td>\n",
       "      <td>2022-03-24T06:00:41.000</td>\n",
       "      <td>Cycle Inspection / Initial Inspection</td>\n",
       "      <td>40.765040</td>\n",
       "      <td>-73.987795</td>\n",
       "      <td>104.0</td>\n",
       "      <td>3.0</td>\n",
       "      <td>13300.0</td>\n",
       "      <td>1025235.0</td>\n",
       "      <td>1.010430e+09</td>\n",
       "      <td>MN15</td>\n",
       "    </tr>\n",
       "    <tr>\n",
       "      <th>1</th>\n",
       "      <td>50100420</td>\n",
       "      <td>SOHO DINER</td>\n",
       "      <td>Manhattan</td>\n",
       "      <td>320</td>\n",
       "      <td>WEST BROADWAY</td>\n",
       "      <td>10013.0</td>\n",
       "      <td>2129653091</td>\n",
       "      <td>American</td>\n",
       "      <td>2020-01-02T00:00:00.000</td>\n",
       "      <td>Violations were cited in the following area(s).</td>\n",
       "      <td>10B</td>\n",
       "      <td>Plumbing not properly installed or maintained; anti-siphonage or backflow prevention device not ...</td>\n",
       "      <td>Not Critical</td>\n",
       "      <td>33.0</td>\n",
       "      <td>NaN</td>\n",
       "      <td>NaN</td>\n",
       "      <td>2022-03-24T06:00:41.000</td>\n",
       "      <td>Pre-permit (Operational) / Initial Inspection</td>\n",
       "      <td>40.721906</td>\n",
       "      <td>-74.004178</td>\n",
       "      <td>102.0</td>\n",
       "      <td>1.0</td>\n",
       "      <td>4700.0</td>\n",
       "      <td>1087764.0</td>\n",
       "      <td>1.002270e+09</td>\n",
       "      <td>MN24</td>\n",
       "    </tr>\n",
       "    <tr>\n",
       "      <th>2</th>\n",
       "      <td>41678734</td>\n",
       "      <td>TINY'S DINER</td>\n",
       "      <td>Bronx</td>\n",
       "      <td>3603</td>\n",
       "      <td>RIVERDALE AVENUE</td>\n",
       "      <td>10463.0</td>\n",
       "      <td>7187087600</td>\n",
       "      <td>American</td>\n",
       "      <td>2019-09-23T00:00:00.000</td>\n",
       "      <td>Violations were cited in the following area(s).</td>\n",
       "      <td>04M</td>\n",
       "      <td>Live roaches present in facility's food and/or non-food areas.</td>\n",
       "      <td>Critical</td>\n",
       "      <td>24.0</td>\n",
       "      <td>NaN</td>\n",
       "      <td>NaN</td>\n",
       "      <td>2022-03-24T06:00:41.000</td>\n",
       "      <td>Cycle Inspection / Initial Inspection</td>\n",
       "      <td>40.886691</td>\n",
       "      <td>-73.907056</td>\n",
       "      <td>208.0</td>\n",
       "      <td>11.0</td>\n",
       "      <td>29500.0</td>\n",
       "      <td>2084186.0</td>\n",
       "      <td>2.057960e+09</td>\n",
       "      <td>BX29</td>\n",
       "    </tr>\n",
       "  </tbody>\n",
       "</table>\n",
       "</div>"
      ],
      "text/plain": [
       "      camis           dba       boro building            street  zipcode  \\\n",
       "0  50008319      POULETTE  Manhattan      790          9 AVENUE  10019.0   \n",
       "1  50100420    SOHO DINER  Manhattan      320     WEST BROADWAY  10013.0   \n",
       "2  41678734  TINY'S DINER      Bronx     3603  RIVERDALE AVENUE  10463.0   \n",
       "\n",
       "        phone cuisine_description          inspection_date  \\\n",
       "0  2129569488             Chicken  2019-01-28T00:00:00.000   \n",
       "1  2129653091            American  2020-01-02T00:00:00.000   \n",
       "2  7187087600            American  2019-09-23T00:00:00.000   \n",
       "\n",
       "                                            action violation_code  \\\n",
       "0  Violations were cited in the following area(s).            04D   \n",
       "1  Violations were cited in the following area(s).            10B   \n",
       "2  Violations were cited in the following area(s).            04M   \n",
       "\n",
       "                                                                                 violation_description  \\\n",
       "0  Food worker does not wash hands thoroughly after using the toilet, coughing, sneezing, smoking, ...   \n",
       "1  Plumbing not properly installed or maintained; anti-siphonage or backflow prevention device not ...   \n",
       "2                                       Live roaches present in facility's food and/or non-food areas.   \n",
       "\n",
       "  critical_flag  score grade grade_date              record_date  \\\n",
       "0      Critical   22.0   NaN        NaN  2022-03-24T06:00:41.000   \n",
       "1  Not Critical   33.0   NaN        NaN  2022-03-24T06:00:41.000   \n",
       "2      Critical   24.0   NaN        NaN  2022-03-24T06:00:41.000   \n",
       "\n",
       "                                 inspection_type   latitude  longitude  \\\n",
       "0          Cycle Inspection / Initial Inspection  40.765040 -73.987795   \n",
       "1  Pre-permit (Operational) / Initial Inspection  40.721906 -74.004178   \n",
       "2          Cycle Inspection / Initial Inspection  40.886691 -73.907056   \n",
       "\n",
       "   community_board  council_district  census_tract        bin           bbl  \\\n",
       "0            104.0               3.0       13300.0  1025235.0  1.010430e+09   \n",
       "1            102.0               1.0        4700.0  1087764.0  1.002270e+09   \n",
       "2            208.0              11.0       29500.0  2084186.0  2.057960e+09   \n",
       "\n",
       "    nta  \n",
       "0  MN15  \n",
       "1  MN24  \n",
       "2  BX29  "
      ]
     },
     "execution_count": 6,
     "metadata": {},
     "output_type": "execute_result"
    }
   ],
   "source": [
    "dohmh_df.head(3)"
   ]
  },
  {
   "cell_type": "code",
   "execution_count": null,
   "metadata": {
    "ExecuteTime": {
     "end_time": "2022-03-23T14:15:24.838006Z",
     "start_time": "2022-03-23T14:15:23.353483Z"
    },
    "scrolled": true
   },
   "outputs": [],
   "source": [
    "# # Take a look at duplicated records\n",
    "# duplicates = df1.duplicated(subset=['camis'], keep=False)\n",
    "# df1.loc[duplicates.loc[duplicates==True].index].sort_values(by='camis')"
   ]
  },
  {
   "cell_type": "code",
   "execution_count": null,
   "metadata": {
    "ExecuteTime": {
     "end_time": "2022-03-21T23:11:43.399873Z",
     "start_time": "2022-03-21T23:11:42.924387Z"
    }
   },
   "outputs": [],
   "source": [
    "# # Unauthenticated client only works with public data sets. Note 'None'\n",
    "# # in place of application token, and no username or password:\n",
    "# client = Socrata(\"data.cityofnewyork.us\", None)\n",
    "\n",
    "\n",
    "\n",
    "# # Example authenticated client (needed for non-public datasets):\n",
    "# client = Socrata(data.cityofnewyork.us,\n",
    "#                  MyAppToken,\n",
    "#                  userame=\"user@example.com\",\n",
    "#                  password=\"AFakePassword\")\n",
    "\n",
    "# # First 2000 results, returned as JSON from API / converted to Python list of\n",
    "# # dictionaries by sodapy.\n",
    "# results = client.get(\"43nn-pn8j\", limit=2000)\n",
    "\n",
    "# # Convert to pandas DataFrame\n",
    "# dohmh_df = pd.DataFrame.from_records(results)"
   ]
  },
  {
   "cell_type": "markdown",
   "metadata": {},
   "source": [
    "## Yelp API"
   ]
  },
  {
   "cell_type": "code",
   "execution_count": 33,
   "metadata": {
    "ExecuteTime": {
     "end_time": "2022-03-24T22:19:37.184879Z",
     "start_time": "2022-03-24T22:19:37.170155Z"
    }
   },
   "outputs": [],
   "source": [
    "with open('/Users/Rob/.secret/yelp_api.json') as f:\n",
    "    creds = json.load(f)"
   ]
  },
  {
   "cell_type": "code",
   "execution_count": 34,
   "metadata": {
    "ExecuteTime": {
     "end_time": "2022-03-24T22:19:38.461718Z",
     "start_time": "2022-03-24T22:19:38.453872Z"
    }
   },
   "outputs": [
    {
     "data": {
      "text/plain": [
       "dict_keys(['api_key'])"
      ]
     },
     "execution_count": 34,
     "metadata": {},
     "output_type": "execute_result"
    }
   ],
   "source": [
    "creds.keys()"
   ]
  },
  {
   "cell_type": "code",
   "execution_count": 35,
   "metadata": {
    "ExecuteTime": {
     "end_time": "2022-03-24T22:19:40.396482Z",
     "start_time": "2022-03-24T22:19:40.392765Z"
    }
   },
   "outputs": [],
   "source": [
    "#Business Search      \n",
    "url = 'https://api.yelp.com/v3/businesses/search'\n",
    "\n",
    "#Business Match       \n",
    "# url = 'https://api.yelp.com/v3/businesses/matches'\n",
    "\n",
    "#Phone Search         \n",
    "# url = 'https://api.yelp.com/v3/businesses/search/phone'\n",
    "\n",
    "#Business Details     \n",
    "# url = 'https://api.yelp.com/v3/businesses/{id}'\n",
    "\n",
    "#Business Reviews     \n",
    "# url = 'https://api.yelp.com/v3/businesses/{id}/reviews'"
   ]
  },
  {
   "cell_type": "code",
   "execution_count": 37,
   "metadata": {
    "ExecuteTime": {
     "end_time": "2022-03-24T22:20:45.404933Z",
     "start_time": "2022-03-24T22:20:44.399380Z"
    }
   },
   "outputs": [
    {
     "name": "stdout",
     "output_type": "stream",
     "text": [
      "200\n"
     ]
    }
   ],
   "source": [
    "#Business Search  \n",
    "headers = {\n",
    "    'Authorization': 'Bearer ' + creds['api_key']\n",
    "          }\n",
    "\n",
    "SEARCH_LIMIT = 50\n",
    "\n",
    "url_params = {\n",
    "    'limit': SEARCH_LIMIT,\n",
    "    'location' : 'New York City',\n",
    "    'offset': 0\n",
    "             }\n",
    "\n",
    "\n",
    "response = requests.get(url, headers=headers, params=url_params)\n",
    "print(response.status_code)"
   ]
  },
  {
   "cell_type": "code",
   "execution_count": 46,
   "metadata": {
    "ExecuteTime": {
     "end_time": "2022-03-24T22:34:02.447633Z",
     "start_time": "2022-03-24T22:34:02.440953Z"
    }
   },
   "outputs": [],
   "source": [
    "# Functionize the Yelp API call\n",
    "def get_results(location, SEARCH_LIMIT=50,\n",
    "                url='https://api.yelp.com/v3/businesses/search',\n",
    "                cred=None,fpath='/Users/Rob/.secret/yelp_api.json',\n",
    "                offset=820):\n",
    "    \n",
    "    \n",
    "    if cred is None:\n",
    "    \n",
    "        with open(fpath) as f:\n",
    "            cred = json.load(f)\n",
    "\n",
    "    headers = {\n",
    "        'Authorization': 'Bearer ' + cred['api_key']\n",
    "    }\n",
    "\n",
    "    url_params = {\n",
    "        'limit': SEARCH_LIMIT,\n",
    "        'location' : location,\n",
    "        'offset': offset\n",
    "    }\n",
    "\n",
    "\n",
    "    response = requests.get(url, headers=headers, params=url_params)\n",
    "    return response.json()"
   ]
  },
  {
   "cell_type": "code",
   "execution_count": 39,
   "metadata": {
    "ExecuteTime": {
     "end_time": "2022-03-24T22:21:30.092805Z",
     "start_time": "2022-03-24T22:21:29.293477Z"
    }
   },
   "outputs": [],
   "source": [
    "response = get_results('NYC')"
   ]
  },
  {
   "cell_type": "code",
   "execution_count": 40,
   "metadata": {
    "ExecuteTime": {
     "end_time": "2022-03-24T22:21:31.048294Z",
     "start_time": "2022-03-24T22:21:31.043872Z"
    },
    "scrolled": true
   },
   "outputs": [],
   "source": [
    "n_per_page = len(response['businesses'])"
   ]
  },
  {
   "cell_type": "code",
   "execution_count": 41,
   "metadata": {
    "ExecuteTime": {
     "end_time": "2022-03-24T22:21:33.029563Z",
     "start_time": "2022-03-24T22:21:32.147581Z"
    }
   },
   "outputs": [
    {
     "data": {
      "text/html": [
       "<div>\n",
       "<style scoped>\n",
       "    .dataframe tbody tr th:only-of-type {\n",
       "        vertical-align: middle;\n",
       "    }\n",
       "\n",
       "    .dataframe tbody tr th {\n",
       "        vertical-align: top;\n",
       "    }\n",
       "\n",
       "    .dataframe thead th {\n",
       "        text-align: right;\n",
       "    }\n",
       "</style>\n",
       "<table border=\"1\" class=\"dataframe\">\n",
       "  <thead>\n",
       "    <tr style=\"text-align: right;\">\n",
       "      <th></th>\n",
       "      <th>id</th>\n",
       "      <th>alias</th>\n",
       "      <th>name</th>\n",
       "      <th>image_url</th>\n",
       "      <th>is_closed</th>\n",
       "      <th>url</th>\n",
       "      <th>review_count</th>\n",
       "      <th>categories</th>\n",
       "      <th>rating</th>\n",
       "      <th>coordinates</th>\n",
       "      <th>transactions</th>\n",
       "      <th>price</th>\n",
       "      <th>location</th>\n",
       "      <th>phone</th>\n",
       "      <th>display_phone</th>\n",
       "      <th>distance</th>\n",
       "    </tr>\n",
       "  </thead>\n",
       "  <tbody>\n",
       "    <tr>\n",
       "      <th>0</th>\n",
       "      <td>xt4sa64WOrpJvZBDPNPNYg</td>\n",
       "      <td>jacobs-pickles-new-york</td>\n",
       "      <td>Jacob's Pickles</td>\n",
       "      <td>https://s3-media1.fl.yelpcdn.com/bphoto/yU9q4U1WSk6diDF0dcA9ag/o.jpg</td>\n",
       "      <td>False</td>\n",
       "      <td>https://www.yelp.com/biz/jacobs-pickles-new-york?adjust_creative=82uXkAt1Tiw7u9_h33zr1A&amp;utm_camp...</td>\n",
       "      <td>4739</td>\n",
       "      <td>[{'alias': 'comfortfood', 'title': 'Comfort Food'}, {'alias': 'southern', 'title': 'Southern'}, ...</td>\n",
       "      <td>4.0</td>\n",
       "      <td>{'latitude': 40.7866504411994, 'longitude': -73.9755284786224}</td>\n",
       "      <td>[delivery, pickup]</td>\n",
       "      <td>$$</td>\n",
       "      <td>{'address1': '509 Amsterdam Ave', 'address2': '', 'address3': '', 'city': 'New York', 'zip_code'...</td>\n",
       "      <td>+12124705566</td>\n",
       "      <td>(212) 470-5566</td>\n",
       "      <td>9166.964738</td>\n",
       "    </tr>\n",
       "    <tr>\n",
       "      <th>1</th>\n",
       "      <td>ga6sRtE0l85iftw_5-W84Q</td>\n",
       "      <td>dominique-ansel-bakery-new-york</td>\n",
       "      <td>Dominique Ansel Bakery</td>\n",
       "      <td>https://s3-media3.fl.yelpcdn.com/bphoto/ae6sDhEfUXTE5EKfWSOrCQ/o.jpg</td>\n",
       "      <td>False</td>\n",
       "      <td>https://www.yelp.com/biz/dominique-ansel-bakery-new-york?adjust_creative=82uXkAt1Tiw7u9_h33zr1A&amp;...</td>\n",
       "      <td>4953</td>\n",
       "      <td>[{'alias': 'bakeries', 'title': 'Bakeries'}, {'alias': 'desserts', 'title': 'Desserts'}]</td>\n",
       "      <td>4.0</td>\n",
       "      <td>{'latitude': 40.72516, 'longitude': -74.00296}</td>\n",
       "      <td>[delivery]</td>\n",
       "      <td>$$</td>\n",
       "      <td>{'address1': '189 Spring St', 'address2': '', 'address3': '', 'city': 'New York', 'zip_code': '1...</td>\n",
       "      <td>+12122192773</td>\n",
       "      <td>(212) 219-2773</td>\n",
       "      <td>2312.769277</td>\n",
       "    </tr>\n",
       "    <tr>\n",
       "      <th>2</th>\n",
       "      <td>vk7W3_sQwr7eZbRFsXv6rw</td>\n",
       "      <td>taiyaki-nyc-new-york</td>\n",
       "      <td>Taiyaki NYC</td>\n",
       "      <td>https://s3-media4.fl.yelpcdn.com/bphoto/F3Vyd-otu36oE8B8M1XXug/o.jpg</td>\n",
       "      <td>False</td>\n",
       "      <td>https://www.yelp.com/biz/taiyaki-nyc-new-york?adjust_creative=82uXkAt1Tiw7u9_h33zr1A&amp;utm_campaig...</td>\n",
       "      <td>3091</td>\n",
       "      <td>[{'alias': 'desserts', 'title': 'Desserts'}, {'alias': 'japanese', 'title': 'Japanese'}, {'alias...</td>\n",
       "      <td>4.5</td>\n",
       "      <td>{'latitude': 40.71789, 'longitude': -73.9988}</td>\n",
       "      <td>[delivery, pickup]</td>\n",
       "      <td>$</td>\n",
       "      <td>{'address1': '119 Baxter St', 'address2': '', 'address3': None, 'city': 'New York', 'zip_code': ...</td>\n",
       "      <td>+12129662882</td>\n",
       "      <td>(212) 966-2882</td>\n",
       "      <td>1439.725809</td>\n",
       "    </tr>\n",
       "    <tr>\n",
       "      <th>3</th>\n",
       "      <td>FEVQpbOPOwAPNIgO7D3xxw</td>\n",
       "      <td>shake-shack-new-york-2</td>\n",
       "      <td>Shake Shack</td>\n",
       "      <td>https://s3-media1.fl.yelpcdn.com/bphoto/T-tX3g_OErxUpBtZDo1ixg/o.jpg</td>\n",
       "      <td>False</td>\n",
       "      <td>https://www.yelp.com/biz/shake-shack-new-york-2?adjust_creative=82uXkAt1Tiw7u9_h33zr1A&amp;utm_campa...</td>\n",
       "      <td>5655</td>\n",
       "      <td>[{'alias': 'burgers', 'title': 'Burgers'}, {'alias': 'foodstands', 'title': 'Food Stands'}, {'al...</td>\n",
       "      <td>4.0</td>\n",
       "      <td>{'latitude': 40.74212, 'longitude': -73.98707}</td>\n",
       "      <td>[delivery, pickup]</td>\n",
       "      <td>$$</td>\n",
       "      <td>{'address1': 'E 23rd St Madison Ave', 'address2': '', 'address3': 'Madison Square Park', 'city':...</td>\n",
       "      <td>+12128896600</td>\n",
       "      <td>(212) 889-6600</td>\n",
       "      <td>3975.513089</td>\n",
       "    </tr>\n",
       "    <tr>\n",
       "      <th>4</th>\n",
       "      <td>ysqgdbSrezXgVwER2kQWKA</td>\n",
       "      <td>julianas-brooklyn-3</td>\n",
       "      <td>Juliana's</td>\n",
       "      <td>https://s3-media2.fl.yelpcdn.com/bphoto/clscwgOF9_Ecq-Rwsq7jyQ/o.jpg</td>\n",
       "      <td>False</td>\n",
       "      <td>https://www.yelp.com/biz/julianas-brooklyn-3?adjust_creative=82uXkAt1Tiw7u9_h33zr1A&amp;utm_campaign...</td>\n",
       "      <td>2408</td>\n",
       "      <td>[{'alias': 'pizza', 'title': 'Pizza'}]</td>\n",
       "      <td>4.5</td>\n",
       "      <td>{'latitude': 40.70274718768062, 'longitude': -73.99343490196397}</td>\n",
       "      <td>[delivery]</td>\n",
       "      <td>$$</td>\n",
       "      <td>{'address1': '19 Old Fulton St', 'address2': '', 'address3': '', 'city': 'Brooklyn', 'zip_code':...</td>\n",
       "      <td>+17185966700</td>\n",
       "      <td>(718) 596-6700</td>\n",
       "      <td>308.569844</td>\n",
       "    </tr>\n",
       "  </tbody>\n",
       "</table>\n",
       "</div>"
      ],
      "text/plain": [
       "                       id                            alias  \\\n",
       "0  xt4sa64WOrpJvZBDPNPNYg          jacobs-pickles-new-york   \n",
       "1  ga6sRtE0l85iftw_5-W84Q  dominique-ansel-bakery-new-york   \n",
       "2  vk7W3_sQwr7eZbRFsXv6rw             taiyaki-nyc-new-york   \n",
       "3  FEVQpbOPOwAPNIgO7D3xxw           shake-shack-new-york-2   \n",
       "4  ysqgdbSrezXgVwER2kQWKA              julianas-brooklyn-3   \n",
       "\n",
       "                     name  \\\n",
       "0         Jacob's Pickles   \n",
       "1  Dominique Ansel Bakery   \n",
       "2             Taiyaki NYC   \n",
       "3             Shake Shack   \n",
       "4               Juliana's   \n",
       "\n",
       "                                                              image_url  \\\n",
       "0  https://s3-media1.fl.yelpcdn.com/bphoto/yU9q4U1WSk6diDF0dcA9ag/o.jpg   \n",
       "1  https://s3-media3.fl.yelpcdn.com/bphoto/ae6sDhEfUXTE5EKfWSOrCQ/o.jpg   \n",
       "2  https://s3-media4.fl.yelpcdn.com/bphoto/F3Vyd-otu36oE8B8M1XXug/o.jpg   \n",
       "3  https://s3-media1.fl.yelpcdn.com/bphoto/T-tX3g_OErxUpBtZDo1ixg/o.jpg   \n",
       "4  https://s3-media2.fl.yelpcdn.com/bphoto/clscwgOF9_Ecq-Rwsq7jyQ/o.jpg   \n",
       "\n",
       "   is_closed  \\\n",
       "0      False   \n",
       "1      False   \n",
       "2      False   \n",
       "3      False   \n",
       "4      False   \n",
       "\n",
       "                                                                                                   url  \\\n",
       "0  https://www.yelp.com/biz/jacobs-pickles-new-york?adjust_creative=82uXkAt1Tiw7u9_h33zr1A&utm_camp...   \n",
       "1  https://www.yelp.com/biz/dominique-ansel-bakery-new-york?adjust_creative=82uXkAt1Tiw7u9_h33zr1A&...   \n",
       "2  https://www.yelp.com/biz/taiyaki-nyc-new-york?adjust_creative=82uXkAt1Tiw7u9_h33zr1A&utm_campaig...   \n",
       "3  https://www.yelp.com/biz/shake-shack-new-york-2?adjust_creative=82uXkAt1Tiw7u9_h33zr1A&utm_campa...   \n",
       "4  https://www.yelp.com/biz/julianas-brooklyn-3?adjust_creative=82uXkAt1Tiw7u9_h33zr1A&utm_campaign...   \n",
       "\n",
       "   review_count  \\\n",
       "0          4739   \n",
       "1          4953   \n",
       "2          3091   \n",
       "3          5655   \n",
       "4          2408   \n",
       "\n",
       "                                                                                            categories  \\\n",
       "0  [{'alias': 'comfortfood', 'title': 'Comfort Food'}, {'alias': 'southern', 'title': 'Southern'}, ...   \n",
       "1             [{'alias': 'bakeries', 'title': 'Bakeries'}, {'alias': 'desserts', 'title': 'Desserts'}]   \n",
       "2  [{'alias': 'desserts', 'title': 'Desserts'}, {'alias': 'japanese', 'title': 'Japanese'}, {'alias...   \n",
       "3  [{'alias': 'burgers', 'title': 'Burgers'}, {'alias': 'foodstands', 'title': 'Food Stands'}, {'al...   \n",
       "4                                                               [{'alias': 'pizza', 'title': 'Pizza'}]   \n",
       "\n",
       "   rating                                                       coordinates  \\\n",
       "0     4.0    {'latitude': 40.7866504411994, 'longitude': -73.9755284786224}   \n",
       "1     4.0                    {'latitude': 40.72516, 'longitude': -74.00296}   \n",
       "2     4.5                     {'latitude': 40.71789, 'longitude': -73.9988}   \n",
       "3     4.0                    {'latitude': 40.74212, 'longitude': -73.98707}   \n",
       "4     4.5  {'latitude': 40.70274718768062, 'longitude': -73.99343490196397}   \n",
       "\n",
       "         transactions price  \\\n",
       "0  [delivery, pickup]    $$   \n",
       "1          [delivery]    $$   \n",
       "2  [delivery, pickup]     $   \n",
       "3  [delivery, pickup]    $$   \n",
       "4          [delivery]    $$   \n",
       "\n",
       "                                                                                              location  \\\n",
       "0  {'address1': '509 Amsterdam Ave', 'address2': '', 'address3': '', 'city': 'New York', 'zip_code'...   \n",
       "1  {'address1': '189 Spring St', 'address2': '', 'address3': '', 'city': 'New York', 'zip_code': '1...   \n",
       "2  {'address1': '119 Baxter St', 'address2': '', 'address3': None, 'city': 'New York', 'zip_code': ...   \n",
       "3  {'address1': 'E 23rd St Madison Ave', 'address2': '', 'address3': 'Madison Square Park', 'city':...   \n",
       "4  {'address1': '19 Old Fulton St', 'address2': '', 'address3': '', 'city': 'Brooklyn', 'zip_code':...   \n",
       "\n",
       "          phone   display_phone     distance  \n",
       "0  +12124705566  (212) 470-5566  9166.964738  \n",
       "1  +12122192773  (212) 219-2773  2312.769277  \n",
       "2  +12129662882  (212) 966-2882  1439.725809  \n",
       "3  +12128896600  (212) 889-6600  3975.513089  \n",
       "4  +17185966700  (718) 596-6700   308.569844  "
      ]
     },
     "execution_count": 41,
     "metadata": {},
     "output_type": "execute_result"
    }
   ],
   "source": [
    "response2 = get_results('NYC',offset=n_per_page)\n",
    "pd.DataFrame(response2['businesses']).head()"
   ]
  },
  {
   "cell_type": "markdown",
   "metadata": {},
   "source": [
    "### Loop Through Pagination"
   ]
  },
  {
   "cell_type": "code",
   "execution_count": 47,
   "metadata": {
    "ExecuteTime": {
     "end_time": "2022-03-24T22:34:10.991602Z",
     "start_time": "2022-03-24T22:34:10.460641Z"
    }
   },
   "outputs": [
    {
     "ename": "KeyError",
     "evalue": "'businesses'",
     "output_type": "error",
     "traceback": [
      "\u001b[0;31m---------------------------------------------------------------------------\u001b[0m",
      "\u001b[0;31mKeyError\u001b[0m                                  Traceback (most recent call last)",
      "\u001b[0;32m<ipython-input-47-2358450a0d6e>\u001b[0m in \u001b[0;36m<module>\u001b[0;34m\u001b[0m\n\u001b[1;32m      1\u001b[0m \u001b[0moffset\u001b[0m\u001b[0;34m=\u001b[0m\u001b[0;36m820\u001b[0m\u001b[0;34m\u001b[0m\u001b[0;34m\u001b[0m\u001b[0m\n\u001b[1;32m      2\u001b[0m \u001b[0mresponse\u001b[0m \u001b[0;34m=\u001b[0m \u001b[0mget_results\u001b[0m\u001b[0;34m(\u001b[0m\u001b[0;34m'NYC'\u001b[0m\u001b[0;34m,\u001b[0m\u001b[0moffset\u001b[0m\u001b[0;34m=\u001b[0m\u001b[0moffset\u001b[0m\u001b[0;34m)\u001b[0m\u001b[0;34m\u001b[0m\u001b[0;34m\u001b[0m\u001b[0m\n\u001b[0;32m----> 3\u001b[0;31m \u001b[0mn_per_page\u001b[0m \u001b[0;34m=\u001b[0m \u001b[0mlen\u001b[0m\u001b[0;34m(\u001b[0m\u001b[0mresponse\u001b[0m\u001b[0;34m[\u001b[0m\u001b[0;34m'businesses'\u001b[0m\u001b[0;34m]\u001b[0m\u001b[0;34m)\u001b[0m\u001b[0;34m\u001b[0m\u001b[0;34m\u001b[0m\u001b[0m\n\u001b[0m\u001b[1;32m      4\u001b[0m \u001b[0mtotal_result\u001b[0m \u001b[0;34m=\u001b[0m \u001b[0mresponse\u001b[0m\u001b[0;34m[\u001b[0m\u001b[0;34m'total'\u001b[0m\u001b[0;34m]\u001b[0m\u001b[0;34m\u001b[0m\u001b[0;34m\u001b[0m\u001b[0m\n\u001b[1;32m      5\u001b[0m \u001b[0;34m\u001b[0m\u001b[0m\n",
      "\u001b[0;31mKeyError\u001b[0m: 'businesses'"
     ]
    }
   ],
   "source": [
    "offset=820\n",
    "response = get_results('NYC',offset=offset)\n",
    "n_per_page = len(response['businesses'])\n",
    "total_result = response['total']\n",
    "\n",
    "results = response['businesses']\n",
    "\n",
    "while offset < total_result:\n",
    "    offset+=n_per_page\n",
    "    res = get_results('NYC',offset=offset)\n",
    "    results.extend(res['businesses'])\n",
    "results[:5]"
   ]
  },
  {
   "cell_type": "code",
   "execution_count": 48,
   "metadata": {
    "ExecuteTime": {
     "end_time": "2022-03-24T22:34:14.428062Z",
     "start_time": "2022-03-24T22:34:14.421102Z"
    }
   },
   "outputs": [
    {
     "data": {
      "text/plain": [
       "820"
      ]
     },
     "execution_count": 48,
     "metadata": {},
     "output_type": "execute_result"
    }
   ],
   "source": [
    "len(results)"
   ]
  },
  {
   "cell_type": "code",
   "execution_count": null,
   "metadata": {
    "ExecuteTime": {
     "end_time": "2022-03-23T02:21:15.402471Z",
     "start_time": "2022-03-23T02:21:15.221893Z"
    }
   },
   "outputs": [],
   "source": [
    "df = pd.DataFrame(results)\n",
    "df.to_csv('yelp_results.csv',index=False)\n",
    "df = pd.read_csv('yelp_results.csv')\n",
    "df"
   ]
  },
  {
   "cell_type": "code",
   "execution_count": null,
   "metadata": {
    "ExecuteTime": {
     "end_time": "2022-03-22T22:37:24.921979Z",
     "start_time": "2022-03-22T22:37:24.895779Z"
    }
   },
   "outputs": [],
   "source": [
    "# response.json().keys()"
   ]
  },
  {
   "cell_type": "code",
   "execution_count": null,
   "metadata": {
    "ExecuteTime": {
     "end_time": "2022-03-23T01:52:39.899435Z",
     "start_time": "2022-03-23T01:52:39.894942Z"
    }
   },
   "outputs": [],
   "source": [
    "# yelp_df = pd.DataFrame(response.json()['businesses'])\n",
    "# # yelp_df.head(3)"
   ]
  },
  {
   "cell_type": "code",
   "execution_count": null,
   "metadata": {
    "ExecuteTime": {
     "end_time": "2022-03-23T01:52:48.820508Z",
     "start_time": "2022-03-23T01:52:48.809218Z"
    }
   },
   "outputs": [],
   "source": [
    "# lat = []\n",
    "# long = []\n",
    "\n",
    "# for _,business in yelp_df.iterrows():\n",
    "#     lat.append(business['coordinates']['latitude'])\n",
    "#     long.append(business['coordinates']['longitude'])\n",
    "\n",
    "# yelp_df['lat'] = lat\n",
    "# yelp_df['long'] = long"
   ]
  },
  {
   "cell_type": "code",
   "execution_count": null,
   "metadata": {},
   "outputs": [],
   "source": []
  },
  {
   "cell_type": "markdown",
   "metadata": {},
   "source": [
    "# Data Understanding"
   ]
  },
  {
   "cell_type": "markdown",
   "metadata": {},
   "source": [
    "For this project there will be two sources and types of data used:\n",
    "\n",
    "* Historical health and hygiene inspections recorded by New York City Department of Health and Mental Hygiene (DOHMH) public health inspectors\n",
    "* User generated Yelp business ratings and reviews"
   ]
  },
  {
   "cell_type": "markdown",
   "metadata": {},
   "source": [
    "## Understanding NYC DOHMH Data"
   ]
  },
  {
   "cell_type": "markdown",
   "metadata": {},
   "source": [
    "This dataset contains over 330,000 records, let's explore its contents."
   ]
  },
  {
   "cell_type": "code",
   "execution_count": 25,
   "metadata": {
    "ExecuteTime": {
     "end_time": "2022-03-24T20:13:39.503467Z",
     "start_time": "2022-03-24T20:13:39.388312Z"
    }
   },
   "outputs": [],
   "source": [
    "dohmh_df['inspection_date'] =  pd.to_datetime(dohmh_inspections['inspection_date'])"
   ]
  },
  {
   "cell_type": "code",
   "execution_count": 26,
   "metadata": {
    "ExecuteTime": {
     "end_time": "2022-03-24T20:13:45.498607Z",
     "start_time": "2022-03-24T20:13:45.485185Z"
    }
   },
   "outputs": [
    {
     "data": {
      "text/plain": [
       "Timestamp('2009-05-16 14:26:00')"
      ]
     },
     "execution_count": 26,
     "metadata": {},
     "output_type": "execute_result"
    }
   ],
   "source": [
    "dohmh_df['inspection_date'].min()"
   ]
  },
  {
   "cell_type": "code",
   "execution_count": 27,
   "metadata": {
    "ExecuteTime": {
     "end_time": "2022-03-24T20:13:56.414351Z",
     "start_time": "2022-03-24T20:13:56.397701Z"
    }
   },
   "outputs": [
    {
     "data": {
      "text/plain": [
       "Timestamp('2022-03-23 00:00:00')"
      ]
     },
     "execution_count": 27,
     "metadata": {},
     "output_type": "execute_result"
    }
   ],
   "source": [
    "dohmh_df['inspection_date'].max()"
   ]
  },
  {
   "cell_type": "markdown",
   "metadata": {},
   "source": [
    "Inspections in this dataset range from May 2008 up to present day."
   ]
  },
  {
   "cell_type": "code",
   "execution_count": 30,
   "metadata": {
    "ExecuteTime": {
     "end_time": "2022-03-24T20:16:39.819970Z",
     "start_time": "2022-03-24T20:16:39.815805Z"
    }
   },
   "outputs": [],
   "source": [
    "# dohmh_df.set_index('inspection_date')"
   ]
  },
  {
   "cell_type": "code",
   "execution_count": 8,
   "metadata": {
    "ExecuteTime": {
     "end_time": "2022-03-24T20:06:23.107542Z",
     "start_time": "2022-03-24T20:06:23.039343Z"
    }
   },
   "outputs": [
    {
     "data": {
      "text/plain": [
       "Manhattan        128531\n",
       "Brooklyn          80711\n",
       "Queens            76067\n",
       "Bronx             32081\n",
       "Staten Island     10328\n",
       "0                    94\n",
       "Name: boro, dtype: int64"
      ]
     },
     "execution_count": 8,
     "metadata": {},
     "output_type": "execute_result"
    }
   ],
   "source": [
    "dohmh_df['boro'].value_counts()"
   ]
  },
  {
   "cell_type": "code",
   "execution_count": 9,
   "metadata": {
    "ExecuteTime": {
     "end_time": "2022-03-24T20:06:48.973901Z",
     "start_time": "2022-03-24T20:06:48.947792Z"
    }
   },
   "outputs": [
    {
     "data": {
      "text/plain": [
       "12.0     32619\n",
       "13.0     27258\n",
       "10.0     17650\n",
       "11.0     17018\n",
       "9.0      15522\n",
       "         ...  \n",
       "150.0        9\n",
       "109.0        8\n",
       "132.0        8\n",
       "136.0        7\n",
       "112.0        5\n",
       "Name: score, Length: 130, dtype: int64"
      ]
     },
     "execution_count": 9,
     "metadata": {},
     "output_type": "execute_result"
    }
   ],
   "source": [
    "dohmh_df['score'].value_counts()"
   ]
  },
  {
   "cell_type": "markdown",
   "metadata": {},
   "source": [
    "Health code violations found during an inspections carries a point value, and a restaurant’s score corresponds to a letter grade. A lower point score, leads to a better letter grade:\n",
    "\n",
    "\"A\" grade: 0 to 13 points for sanitary violations\n",
    "\"B\" grade: 14 to 27 points for sanitary violations\n",
    "\"C\" grade: 28 or more points for sanitary violations"
   ]
  },
  {
   "cell_type": "code",
   "execution_count": 32,
   "metadata": {
    "ExecuteTime": {
     "end_time": "2022-03-24T21:02:03.809341Z",
     "start_time": "2022-03-24T21:02:03.669288Z"
    }
   },
   "outputs": [
    {
     "data": {
      "text/plain": [
       "28723"
      ]
     },
     "execution_count": 32,
     "metadata": {},
     "output_type": "execute_result"
    }
   ],
   "source": [
    "dohmh_df['camis'].nunique()"
   ]
  },
  {
   "cell_type": "code",
   "execution_count": 10,
   "metadata": {
    "ExecuteTime": {
     "end_time": "2022-03-24T20:06:52.338177Z",
     "start_time": "2022-03-24T20:06:52.329477Z"
    }
   },
   "outputs": [
    {
     "data": {
      "text/plain": [
       "15183"
      ]
     },
     "execution_count": 10,
     "metadata": {},
     "output_type": "execute_result"
    }
   ],
   "source": [
    "dohmh_df['score'].isna().sum()"
   ]
  },
  {
   "cell_type": "code",
   "execution_count": 11,
   "metadata": {
    "ExecuteTime": {
     "end_time": "2022-03-24T20:06:53.801108Z",
     "start_time": "2022-03-24T20:06:53.742457Z"
    }
   },
   "outputs": [
    {
     "data": {
      "text/plain": [
       "A    129112\n",
       "B     18953\n",
       "C      7804\n",
       "N      4394\n",
       "Z      3447\n",
       "P      1929\n",
       "G         1\n",
       "Name: grade, dtype: int64"
      ]
     },
     "execution_count": 11,
     "metadata": {},
     "output_type": "execute_result"
    }
   ],
   "source": [
    "dohmh_df['grade'].value_counts()"
   ]
  },
  {
   "cell_type": "code",
   "execution_count": 12,
   "metadata": {
    "ExecuteTime": {
     "end_time": "2022-03-24T20:06:55.741139Z",
     "start_time": "2022-03-24T20:06:55.706697Z"
    }
   },
   "outputs": [
    {
     "data": {
      "text/plain": [
       "162172"
      ]
     },
     "execution_count": 12,
     "metadata": {},
     "output_type": "execute_result"
    }
   ],
   "source": [
    "dohmh_df['grade'].isna().sum()"
   ]
  },
  {
   "cell_type": "code",
   "execution_count": 13,
   "metadata": {
    "ExecuteTime": {
     "end_time": "2022-03-24T20:07:21.888553Z",
     "start_time": "2022-03-24T20:07:21.831624Z"
    }
   },
   "outputs": [
    {
     "data": {
      "text/plain": [
       "Critical          172065\n",
       "Not Critical      150074\n",
       "Not Applicable      5673\n",
       "Name: critical_flag, dtype: int64"
      ]
     },
     "execution_count": 13,
     "metadata": {},
     "output_type": "execute_result"
    }
   ],
   "source": [
    "dohmh_df['critical_flag'].value_counts()"
   ]
  },
  {
   "cell_type": "markdown",
   "metadata": {},
   "source": [
    "Critical violations are those most likely to contribute to foodborne illness"
   ]
  },
  {
   "cell_type": "code",
   "execution_count": 14,
   "metadata": {
    "ExecuteTime": {
     "end_time": "2022-03-24T20:07:24.216744Z",
     "start_time": "2022-03-24T20:07:24.147788Z"
    }
   },
   "outputs": [
    {
     "data": {
      "text/plain": [
       "Critical          0.524889\n",
       "Not Critical      0.457805\n",
       "Not Applicable    0.017306\n",
       "Name: critical_flag, dtype: float64"
      ]
     },
     "execution_count": 14,
     "metadata": {},
     "output_type": "execute_result"
    }
   ],
   "source": [
    "dohmh_df['critical_flag'].value_counts(normalize=True)"
   ]
  },
  {
   "cell_type": "code",
   "execution_count": 15,
   "metadata": {
    "ExecuteTime": {
     "end_time": "2022-03-24T20:07:25.228707Z",
     "start_time": "2022-03-24T20:07:25.168956Z"
    }
   },
   "outputs": [
    {
     "data": {
      "text/plain": [
       "Cycle Inspection / Initial Inspection                          186227\n",
       "Cycle Inspection / Re-inspection                                71636\n",
       "Pre-permit (Operational) / Initial Inspection                   31948\n",
       "Pre-permit (Operational) / Re-inspection                        12584\n",
       "Administrative Miscellaneous / Initial Inspection                5855\n",
       "Cycle Inspection / Reopening Inspection                          3128\n",
       "Pre-permit (Non-operational) / Initial Inspection                2987\n",
       "Smoke-Free Air Act / Initial Inspection                          1440\n",
       "Administrative Miscellaneous / Re-inspection                     1404\n",
       "Pre-permit (Operational) / Compliance Inspection                 1193\n",
       "Pre-permit (Operational) / Reopening Inspection                  1089\n",
       "Trans Fat / Initial Inspection                                   1038\n",
       "Inter-Agency Task Force / Initial Inspection                      974\n",
       "Calorie Posting / Initial Inspection                              643\n",
       "Cycle Inspection / Compliance Inspection                          519\n",
       "Smoke-Free Air Act / Re-inspection                                310\n",
       "Pre-permit (Non-operational) / Re-inspection                      230\n",
       "Trans Fat / Re-inspection                                         214\n",
       "Calorie Posting / Re-inspection                                   108\n",
       "Pre-permit (Operational) / Second Compliance Inspection            82\n",
       "Administrative Miscellaneous / Compliance Inspection               79\n",
       "Administrative Miscellaneous / Reopening Inspection                56\n",
       "Smoke-Free Air Act / Limited Inspection                            31\n",
       "Pre-permit (Non-operational) / Compliance Inspection               24\n",
       "Trans Fat / Compliance Inspection                                  13\n",
       "Administrative Miscellaneous / Second Compliance Inspection         9\n",
       "Cycle Inspection / Second Compliance Inspection                     8\n",
       "Calorie Posting / Compliance Inspection                             8\n",
       "Smoke-Free Air Act / Compliance Inspection                          5\n",
       "Trans Fat / Second Compliance Inspection                            2\n",
       "Name: inspection_type, dtype: int64"
      ]
     },
     "execution_count": 15,
     "metadata": {},
     "output_type": "execute_result"
    }
   ],
   "source": [
    "dohmh_df['inspection_type'].value_counts()"
   ]
  },
  {
   "cell_type": "code",
   "execution_count": 16,
   "metadata": {
    "ExecuteTime": {
     "end_time": "2022-03-24T20:07:38.100761Z",
     "start_time": "2022-03-24T20:07:37.943890Z"
    }
   },
   "outputs": [],
   "source": [
    "dohmh_inspections = dohmh_df[(dohmh_df['inspection_type'] ==\n",
    "                              'Cycle Inspection / Initial Inspection') | (dohmh_df['inspection_type'] ==\n",
    "                              'Cycle Inspection / Re-inspection')]"
   ]
  },
  {
   "cell_type": "code",
   "execution_count": 17,
   "metadata": {
    "ExecuteTime": {
     "end_time": "2022-03-24T20:07:39.304821Z",
     "start_time": "2022-03-24T20:07:39.258596Z"
    }
   },
   "outputs": [
    {
     "data": {
      "text/plain": [
       "Critical          142171\n",
       "Not Critical      115284\n",
       "Not Applicable       408\n",
       "Name: critical_flag, dtype: int64"
      ]
     },
     "execution_count": 17,
     "metadata": {},
     "output_type": "execute_result"
    }
   ],
   "source": [
    "dohmh_inspections['critical_flag'].value_counts()"
   ]
  },
  {
   "cell_type": "code",
   "execution_count": 18,
   "metadata": {
    "ExecuteTime": {
     "end_time": "2022-03-24T20:07:42.252074Z",
     "start_time": "2022-03-24T20:07:41.396795Z"
    }
   },
   "outputs": [
    {
     "data": {
      "text/plain": [
       "15701"
      ]
     },
     "execution_count": 18,
     "metadata": {},
     "output_type": "execute_result"
    }
   ],
   "source": [
    "dohmh_inspections.duplicated().sum()"
   ]
  },
  {
   "cell_type": "code",
   "execution_count": 19,
   "metadata": {
    "ExecuteTime": {
     "end_time": "2022-03-24T20:07:43.870691Z",
     "start_time": "2022-03-24T20:07:42.979136Z"
    }
   },
   "outputs": [
    {
     "data": {
      "text/html": [
       "<div>\n",
       "<style scoped>\n",
       "    .dataframe tbody tr th:only-of-type {\n",
       "        vertical-align: middle;\n",
       "    }\n",
       "\n",
       "    .dataframe tbody tr th {\n",
       "        vertical-align: top;\n",
       "    }\n",
       "\n",
       "    .dataframe thead th {\n",
       "        text-align: right;\n",
       "    }\n",
       "</style>\n",
       "<table border=\"1\" class=\"dataframe\">\n",
       "  <thead>\n",
       "    <tr style=\"text-align: right;\">\n",
       "      <th></th>\n",
       "      <th>camis</th>\n",
       "      <th>dba</th>\n",
       "      <th>boro</th>\n",
       "      <th>building</th>\n",
       "      <th>street</th>\n",
       "      <th>zipcode</th>\n",
       "      <th>phone</th>\n",
       "      <th>cuisine_description</th>\n",
       "      <th>inspection_date</th>\n",
       "      <th>action</th>\n",
       "      <th>violation_code</th>\n",
       "      <th>violation_description</th>\n",
       "      <th>critical_flag</th>\n",
       "      <th>score</th>\n",
       "      <th>grade</th>\n",
       "      <th>grade_date</th>\n",
       "      <th>record_date</th>\n",
       "      <th>inspection_type</th>\n",
       "      <th>latitude</th>\n",
       "      <th>longitude</th>\n",
       "      <th>community_board</th>\n",
       "      <th>council_district</th>\n",
       "      <th>census_tract</th>\n",
       "      <th>bin</th>\n",
       "      <th>bbl</th>\n",
       "      <th>nta</th>\n",
       "    </tr>\n",
       "  </thead>\n",
       "  <tbody>\n",
       "    <tr>\n",
       "      <th>4</th>\n",
       "      <td>40795021</td>\n",
       "      <td>TAO RESTAURANT</td>\n",
       "      <td>Manhattan</td>\n",
       "      <td>42</td>\n",
       "      <td>EAST   58 STREET</td>\n",
       "      <td>10022.0</td>\n",
       "      <td>2128882288</td>\n",
       "      <td>Asian/Asian Fusion</td>\n",
       "      <td>2020-03-11T00:00:00.000</td>\n",
       "      <td>Violations were cited in the following area(s).</td>\n",
       "      <td>10F</td>\n",
       "      <td>Non-food contact surface improperly constructed. Unacceptable material used. Non-food contact su...</td>\n",
       "      <td>Not Critical</td>\n",
       "      <td>9.0</td>\n",
       "      <td>NaN</td>\n",
       "      <td>NaN</td>\n",
       "      <td>2022-03-24T06:00:41.000</td>\n",
       "      <td>Cycle Inspection / Initial Inspection</td>\n",
       "      <td>40.762786</td>\n",
       "      <td>-73.971486</td>\n",
       "      <td>105.0</td>\n",
       "      <td>4.0</td>\n",
       "      <td>11202.0</td>\n",
       "      <td>1036073.0</td>\n",
       "      <td>1.012930e+09</td>\n",
       "      <td>MN17</td>\n",
       "    </tr>\n",
       "    <tr>\n",
       "      <th>91</th>\n",
       "      <td>41489806</td>\n",
       "      <td>MASALA TIMES</td>\n",
       "      <td>Manhattan</td>\n",
       "      <td>194</td>\n",
       "      <td>BLEECKER STREET</td>\n",
       "      <td>10012.0</td>\n",
       "      <td>2129955100</td>\n",
       "      <td>Indian</td>\n",
       "      <td>2019-02-05T00:00:00.000</td>\n",
       "      <td>Violations were cited in the following area(s).</td>\n",
       "      <td>10F</td>\n",
       "      <td>Non-food contact surface improperly constructed. Unacceptable material used. Non-food contact su...</td>\n",
       "      <td>Not Critical</td>\n",
       "      <td>32.0</td>\n",
       "      <td>NaN</td>\n",
       "      <td>NaN</td>\n",
       "      <td>2022-03-24T06:00:41.000</td>\n",
       "      <td>Cycle Inspection / Initial Inspection</td>\n",
       "      <td>40.729306</td>\n",
       "      <td>-74.001512</td>\n",
       "      <td>102.0</td>\n",
       "      <td>3.0</td>\n",
       "      <td>6500.0</td>\n",
       "      <td>1008300.0</td>\n",
       "      <td>1.005260e+09</td>\n",
       "      <td>MN23</td>\n",
       "    </tr>\n",
       "    <tr>\n",
       "      <th>95</th>\n",
       "      <td>50084938</td>\n",
       "      <td>TACO BELL CANTINA</td>\n",
       "      <td>Manhattan</td>\n",
       "      <td>500</td>\n",
       "      <td>8 AVENUE</td>\n",
       "      <td>10018.0</td>\n",
       "      <td>9292323040</td>\n",
       "      <td>Tex-Mex</td>\n",
       "      <td>2020-01-02T00:00:00.000</td>\n",
       "      <td>Violations were cited in the following area(s).</td>\n",
       "      <td>10F</td>\n",
       "      <td>Non-food contact surface improperly constructed. Unacceptable material used. Non-food contact su...</td>\n",
       "      <td>Not Critical</td>\n",
       "      <td>13.0</td>\n",
       "      <td>A</td>\n",
       "      <td>2020-01-02T00:00:00.000</td>\n",
       "      <td>2022-03-24T06:00:41.000</td>\n",
       "      <td>Cycle Inspection / Initial Inspection</td>\n",
       "      <td>40.752936</td>\n",
       "      <td>-73.992904</td>\n",
       "      <td>105.0</td>\n",
       "      <td>3.0</td>\n",
       "      <td>10900.0</td>\n",
       "      <td>1014421.0</td>\n",
       "      <td>1.007850e+09</td>\n",
       "      <td>MN17</td>\n",
       "    </tr>\n",
       "    <tr>\n",
       "      <th>97</th>\n",
       "      <td>41129343</td>\n",
       "      <td>PINO'S LA FORCHETTA</td>\n",
       "      <td>Brooklyn</td>\n",
       "      <td>181</td>\n",
       "      <td>7 AVENUE</td>\n",
       "      <td>11215.0</td>\n",
       "      <td>7189654020</td>\n",
       "      <td>Pizza</td>\n",
       "      <td>2019-12-07T00:00:00.000</td>\n",
       "      <td>Violations were cited in the following area(s).</td>\n",
       "      <td>06C</td>\n",
       "      <td>Food not protected from potential source of contamination during storage, preparation, transport...</td>\n",
       "      <td>Critical</td>\n",
       "      <td>18.0</td>\n",
       "      <td>NaN</td>\n",
       "      <td>NaN</td>\n",
       "      <td>2022-03-24T06:00:41.000</td>\n",
       "      <td>Cycle Inspection / Initial Inspection</td>\n",
       "      <td>40.671373</td>\n",
       "      <td>-73.977826</td>\n",
       "      <td>306.0</td>\n",
       "      <td>39.0</td>\n",
       "      <td>15500.0</td>\n",
       "      <td>3025166.0</td>\n",
       "      <td>3.010760e+09</td>\n",
       "      <td>BK37</td>\n",
       "    </tr>\n",
       "    <tr>\n",
       "      <th>132</th>\n",
       "      <td>50049662</td>\n",
       "      <td>NEW CARRIZAL RESTAURANT</td>\n",
       "      <td>Brooklyn</td>\n",
       "      <td>1346</td>\n",
       "      <td>BROADWAY</td>\n",
       "      <td>11221.0</td>\n",
       "      <td>3479150505</td>\n",
       "      <td>Spanish</td>\n",
       "      <td>2017-10-05T00:00:00.000</td>\n",
       "      <td>Violations were cited in the following area(s).</td>\n",
       "      <td>10F</td>\n",
       "      <td>Non-food contact surface improperly constructed. Unacceptable material used. Non-food contact su...</td>\n",
       "      <td>Not Critical</td>\n",
       "      <td>25.0</td>\n",
       "      <td>B</td>\n",
       "      <td>2017-10-05T00:00:00.000</td>\n",
       "      <td>2022-03-24T06:00:41.000</td>\n",
       "      <td>Cycle Inspection / Re-inspection</td>\n",
       "      <td>40.689846</td>\n",
       "      <td>-73.922704</td>\n",
       "      <td>303.0</td>\n",
       "      <td>41.0</td>\n",
       "      <td>37500.0</td>\n",
       "      <td>3039620.0</td>\n",
       "      <td>3.014790e+09</td>\n",
       "      <td>BK35</td>\n",
       "    </tr>\n",
       "    <tr>\n",
       "      <th>...</th>\n",
       "      <td>...</td>\n",
       "      <td>...</td>\n",
       "      <td>...</td>\n",
       "      <td>...</td>\n",
       "      <td>...</td>\n",
       "      <td>...</td>\n",
       "      <td>...</td>\n",
       "      <td>...</td>\n",
       "      <td>...</td>\n",
       "      <td>...</td>\n",
       "      <td>...</td>\n",
       "      <td>...</td>\n",
       "      <td>...</td>\n",
       "      <td>...</td>\n",
       "      <td>...</td>\n",
       "      <td>...</td>\n",
       "      <td>...</td>\n",
       "      <td>...</td>\n",
       "      <td>...</td>\n",
       "      <td>...</td>\n",
       "      <td>...</td>\n",
       "      <td>...</td>\n",
       "      <td>...</td>\n",
       "      <td>...</td>\n",
       "      <td>...</td>\n",
       "      <td>...</td>\n",
       "    </tr>\n",
       "    <tr>\n",
       "      <th>327759</th>\n",
       "      <td>50043744</td>\n",
       "      <td>CARIBBEAN COFFEE SHOP</td>\n",
       "      <td>Brooklyn</td>\n",
       "      <td>527</td>\n",
       "      <td>STANLEY AVENUE</td>\n",
       "      <td>11207.0</td>\n",
       "      <td>7189752301</td>\n",
       "      <td>Caribbean</td>\n",
       "      <td>2018-04-04T00:00:00.000</td>\n",
       "      <td>Violations were cited in the following area(s).</td>\n",
       "      <td>05D</td>\n",
       "      <td>Hand washing facility not provided in or near food preparation area and toilet room. Hot and col...</td>\n",
       "      <td>Critical</td>\n",
       "      <td>43.0</td>\n",
       "      <td>NaN</td>\n",
       "      <td>NaN</td>\n",
       "      <td>2022-03-24T06:00:41.000</td>\n",
       "      <td>Cycle Inspection / Initial Inspection</td>\n",
       "      <td>40.657221</td>\n",
       "      <td>-73.888863</td>\n",
       "      <td>305.0</td>\n",
       "      <td>42.0</td>\n",
       "      <td>110400.0</td>\n",
       "      <td>3097671.0</td>\n",
       "      <td>3.043470e+09</td>\n",
       "      <td>BK82</td>\n",
       "    </tr>\n",
       "    <tr>\n",
       "      <th>327796</th>\n",
       "      <td>50003774</td>\n",
       "      <td>GOLDEN KRUST CARIBBEAN BAKERY &amp; GRILL</td>\n",
       "      <td>Brooklyn</td>\n",
       "      <td>4108</td>\n",
       "      <td>FARRAGUT ROAD</td>\n",
       "      <td>11210.0</td>\n",
       "      <td>7185766021</td>\n",
       "      <td>Caribbean</td>\n",
       "      <td>2019-09-09T00:00:00.000</td>\n",
       "      <td>Violations were cited in the following area(s).</td>\n",
       "      <td>10F</td>\n",
       "      <td>Non-food contact surface improperly constructed. Unacceptable material used. Non-food contact su...</td>\n",
       "      <td>Not Critical</td>\n",
       "      <td>4.0</td>\n",
       "      <td>A</td>\n",
       "      <td>2019-09-09T00:00:00.000</td>\n",
       "      <td>2022-03-24T06:00:41.000</td>\n",
       "      <td>Cycle Inspection / Re-inspection</td>\n",
       "      <td>40.636919</td>\n",
       "      <td>-73.937311</td>\n",
       "      <td>317.0</td>\n",
       "      <td>45.0</td>\n",
       "      <td>83600.0</td>\n",
       "      <td>3114504.0</td>\n",
       "      <td>3.050160e+09</td>\n",
       "      <td>BK91</td>\n",
       "    </tr>\n",
       "    <tr>\n",
       "      <th>327797</th>\n",
       "      <td>50003774</td>\n",
       "      <td>GOLDEN KRUST CARIBBEAN BAKERY &amp; GRILL</td>\n",
       "      <td>Brooklyn</td>\n",
       "      <td>4108</td>\n",
       "      <td>FARRAGUT ROAD</td>\n",
       "      <td>11210.0</td>\n",
       "      <td>7185766021</td>\n",
       "      <td>Caribbean</td>\n",
       "      <td>2019-09-09T00:00:00.000</td>\n",
       "      <td>Violations were cited in the following area(s).</td>\n",
       "      <td>10F</td>\n",
       "      <td>Non-food contact surface improperly constructed. Unacceptable material used. Non-food contact su...</td>\n",
       "      <td>Not Critical</td>\n",
       "      <td>4.0</td>\n",
       "      <td>A</td>\n",
       "      <td>2019-09-09T00:00:00.000</td>\n",
       "      <td>2022-03-24T06:00:41.000</td>\n",
       "      <td>Cycle Inspection / Re-inspection</td>\n",
       "      <td>40.636919</td>\n",
       "      <td>-73.937311</td>\n",
       "      <td>317.0</td>\n",
       "      <td>45.0</td>\n",
       "      <td>83600.0</td>\n",
       "      <td>3114504.0</td>\n",
       "      <td>3.050160e+09</td>\n",
       "      <td>BK91</td>\n",
       "    </tr>\n",
       "    <tr>\n",
       "      <th>327799</th>\n",
       "      <td>41556790</td>\n",
       "      <td>FIVE GUYS FAMOUS BURGERS AND FRIES</td>\n",
       "      <td>Manhattan</td>\n",
       "      <td>2847</td>\n",
       "      <td>BROADFWAY</td>\n",
       "      <td>NaN</td>\n",
       "      <td>2126787701</td>\n",
       "      <td>Hamburgers</td>\n",
       "      <td>2019-03-01T00:00:00.000</td>\n",
       "      <td>Violations were cited in the following area(s).</td>\n",
       "      <td>10F</td>\n",
       "      <td>Non-food contact surface improperly constructed. Unacceptable material used. Non-food contact su...</td>\n",
       "      <td>Not Critical</td>\n",
       "      <td>3.0</td>\n",
       "      <td>A</td>\n",
       "      <td>2019-03-01T00:00:00.000</td>\n",
       "      <td>2022-03-24T06:00:41.000</td>\n",
       "      <td>Cycle Inspection / Initial Inspection</td>\n",
       "      <td>0.000000</td>\n",
       "      <td>0.000000</td>\n",
       "      <td>NaN</td>\n",
       "      <td>NaN</td>\n",
       "      <td>NaN</td>\n",
       "      <td>NaN</td>\n",
       "      <td>1.000000e+00</td>\n",
       "      <td>NaN</td>\n",
       "    </tr>\n",
       "    <tr>\n",
       "      <th>327804</th>\n",
       "      <td>41448021</td>\n",
       "      <td>PIER 76</td>\n",
       "      <td>Staten Island</td>\n",
       "      <td>76</td>\n",
       "      <td>BAY STREET</td>\n",
       "      <td>10301.0</td>\n",
       "      <td>7184477437</td>\n",
       "      <td>Italian</td>\n",
       "      <td>2018-09-24T00:00:00.000</td>\n",
       "      <td>Violations were cited in the following area(s).</td>\n",
       "      <td>10B</td>\n",
       "      <td>Plumbing not properly installed or maintained; anti-siphonage or backflow prevention device not ...</td>\n",
       "      <td>Not Critical</td>\n",
       "      <td>12.0</td>\n",
       "      <td>A</td>\n",
       "      <td>2018-09-24T00:00:00.000</td>\n",
       "      <td>2022-03-24T06:00:41.000</td>\n",
       "      <td>Cycle Inspection / Re-inspection</td>\n",
       "      <td>40.640285</td>\n",
       "      <td>-74.075628</td>\n",
       "      <td>501.0</td>\n",
       "      <td>49.0</td>\n",
       "      <td>300.0</td>\n",
       "      <td>5000037.0</td>\n",
       "      <td>5.000050e+09</td>\n",
       "      <td>SI22</td>\n",
       "    </tr>\n",
       "  </tbody>\n",
       "</table>\n",
       "<p>15701 rows × 26 columns</p>\n",
       "</div>"
      ],
      "text/plain": [
       "           camis                                    dba           boro  \\\n",
       "4       40795021                         TAO RESTAURANT      Manhattan   \n",
       "91      41489806                           MASALA TIMES      Manhattan   \n",
       "95      50084938                      TACO BELL CANTINA      Manhattan   \n",
       "97      41129343                    PINO'S LA FORCHETTA       Brooklyn   \n",
       "132     50049662                NEW CARRIZAL RESTAURANT       Brooklyn   \n",
       "...          ...                                    ...            ...   \n",
       "327759  50043744                  CARIBBEAN COFFEE SHOP       Brooklyn   \n",
       "327796  50003774  GOLDEN KRUST CARIBBEAN BAKERY & GRILL       Brooklyn   \n",
       "327797  50003774  GOLDEN KRUST CARIBBEAN BAKERY & GRILL       Brooklyn   \n",
       "327799  41556790     FIVE GUYS FAMOUS BURGERS AND FRIES      Manhattan   \n",
       "327804  41448021                                PIER 76  Staten Island   \n",
       "\n",
       "       building            street  zipcode       phone cuisine_description  \\\n",
       "4            42  EAST   58 STREET  10022.0  2128882288  Asian/Asian Fusion   \n",
       "91          194   BLEECKER STREET  10012.0  2129955100              Indian   \n",
       "95          500          8 AVENUE  10018.0  9292323040             Tex-Mex   \n",
       "97          181          7 AVENUE  11215.0  7189654020               Pizza   \n",
       "132        1346          BROADWAY  11221.0  3479150505             Spanish   \n",
       "...         ...               ...      ...         ...                 ...   \n",
       "327759      527    STANLEY AVENUE  11207.0  7189752301           Caribbean   \n",
       "327796     4108     FARRAGUT ROAD  11210.0  7185766021           Caribbean   \n",
       "327797     4108     FARRAGUT ROAD  11210.0  7185766021           Caribbean   \n",
       "327799     2847         BROADFWAY      NaN  2126787701          Hamburgers   \n",
       "327804       76        BAY STREET  10301.0  7184477437             Italian   \n",
       "\n",
       "                inspection_date  \\\n",
       "4       2020-03-11T00:00:00.000   \n",
       "91      2019-02-05T00:00:00.000   \n",
       "95      2020-01-02T00:00:00.000   \n",
       "97      2019-12-07T00:00:00.000   \n",
       "132     2017-10-05T00:00:00.000   \n",
       "...                         ...   \n",
       "327759  2018-04-04T00:00:00.000   \n",
       "327796  2019-09-09T00:00:00.000   \n",
       "327797  2019-09-09T00:00:00.000   \n",
       "327799  2019-03-01T00:00:00.000   \n",
       "327804  2018-09-24T00:00:00.000   \n",
       "\n",
       "                                                 action violation_code  \\\n",
       "4       Violations were cited in the following area(s).            10F   \n",
       "91      Violations were cited in the following area(s).            10F   \n",
       "95      Violations were cited in the following area(s).            10F   \n",
       "97      Violations were cited in the following area(s).            06C   \n",
       "132     Violations were cited in the following area(s).            10F   \n",
       "...                                                 ...            ...   \n",
       "327759  Violations were cited in the following area(s).            05D   \n",
       "327796  Violations were cited in the following area(s).            10F   \n",
       "327797  Violations were cited in the following area(s).            10F   \n",
       "327799  Violations were cited in the following area(s).            10F   \n",
       "327804  Violations were cited in the following area(s).            10B   \n",
       "\n",
       "                                                                                      violation_description  \\\n",
       "4       Non-food contact surface improperly constructed. Unacceptable material used. Non-food contact su...   \n",
       "91      Non-food contact surface improperly constructed. Unacceptable material used. Non-food contact su...   \n",
       "95      Non-food contact surface improperly constructed. Unacceptable material used. Non-food contact su...   \n",
       "97      Food not protected from potential source of contamination during storage, preparation, transport...   \n",
       "132     Non-food contact surface improperly constructed. Unacceptable material used. Non-food contact su...   \n",
       "...                                                                                                     ...   \n",
       "327759  Hand washing facility not provided in or near food preparation area and toilet room. Hot and col...   \n",
       "327796  Non-food contact surface improperly constructed. Unacceptable material used. Non-food contact su...   \n",
       "327797  Non-food contact surface improperly constructed. Unacceptable material used. Non-food contact su...   \n",
       "327799  Non-food contact surface improperly constructed. Unacceptable material used. Non-food contact su...   \n",
       "327804  Plumbing not properly installed or maintained; anti-siphonage or backflow prevention device not ...   \n",
       "\n",
       "       critical_flag  score grade               grade_date  \\\n",
       "4       Not Critical    9.0   NaN                      NaN   \n",
       "91      Not Critical   32.0   NaN                      NaN   \n",
       "95      Not Critical   13.0     A  2020-01-02T00:00:00.000   \n",
       "97          Critical   18.0   NaN                      NaN   \n",
       "132     Not Critical   25.0     B  2017-10-05T00:00:00.000   \n",
       "...              ...    ...   ...                      ...   \n",
       "327759      Critical   43.0   NaN                      NaN   \n",
       "327796  Not Critical    4.0     A  2019-09-09T00:00:00.000   \n",
       "327797  Not Critical    4.0     A  2019-09-09T00:00:00.000   \n",
       "327799  Not Critical    3.0     A  2019-03-01T00:00:00.000   \n",
       "327804  Not Critical   12.0     A  2018-09-24T00:00:00.000   \n",
       "\n",
       "                    record_date                        inspection_type  \\\n",
       "4       2022-03-24T06:00:41.000  Cycle Inspection / Initial Inspection   \n",
       "91      2022-03-24T06:00:41.000  Cycle Inspection / Initial Inspection   \n",
       "95      2022-03-24T06:00:41.000  Cycle Inspection / Initial Inspection   \n",
       "97      2022-03-24T06:00:41.000  Cycle Inspection / Initial Inspection   \n",
       "132     2022-03-24T06:00:41.000       Cycle Inspection / Re-inspection   \n",
       "...                         ...                                    ...   \n",
       "327759  2022-03-24T06:00:41.000  Cycle Inspection / Initial Inspection   \n",
       "327796  2022-03-24T06:00:41.000       Cycle Inspection / Re-inspection   \n",
       "327797  2022-03-24T06:00:41.000       Cycle Inspection / Re-inspection   \n",
       "327799  2022-03-24T06:00:41.000  Cycle Inspection / Initial Inspection   \n",
       "327804  2022-03-24T06:00:41.000       Cycle Inspection / Re-inspection   \n",
       "\n",
       "         latitude  longitude  community_board  council_district  census_tract  \\\n",
       "4       40.762786 -73.971486            105.0               4.0       11202.0   \n",
       "91      40.729306 -74.001512            102.0               3.0        6500.0   \n",
       "95      40.752936 -73.992904            105.0               3.0       10900.0   \n",
       "97      40.671373 -73.977826            306.0              39.0       15500.0   \n",
       "132     40.689846 -73.922704            303.0              41.0       37500.0   \n",
       "...           ...        ...              ...               ...           ...   \n",
       "327759  40.657221 -73.888863            305.0              42.0      110400.0   \n",
       "327796  40.636919 -73.937311            317.0              45.0       83600.0   \n",
       "327797  40.636919 -73.937311            317.0              45.0       83600.0   \n",
       "327799   0.000000   0.000000              NaN               NaN           NaN   \n",
       "327804  40.640285 -74.075628            501.0              49.0         300.0   \n",
       "\n",
       "              bin           bbl   nta  \n",
       "4       1036073.0  1.012930e+09  MN17  \n",
       "91      1008300.0  1.005260e+09  MN23  \n",
       "95      1014421.0  1.007850e+09  MN17  \n",
       "97      3025166.0  3.010760e+09  BK37  \n",
       "132     3039620.0  3.014790e+09  BK35  \n",
       "...           ...           ...   ...  \n",
       "327759  3097671.0  3.043470e+09  BK82  \n",
       "327796  3114504.0  3.050160e+09  BK91  \n",
       "327797  3114504.0  3.050160e+09  BK91  \n",
       "327799        NaN  1.000000e+00   NaN  \n",
       "327804  5000037.0  5.000050e+09  SI22  \n",
       "\n",
       "[15701 rows x 26 columns]"
      ]
     },
     "execution_count": 19,
     "metadata": {},
     "output_type": "execute_result"
    }
   ],
   "source": [
    "dohmh_inspections.loc[dohmh_inspections.duplicated(keep='first'),:]"
   ]
  },
  {
   "cell_type": "code",
   "execution_count": 20,
   "metadata": {
    "ExecuteTime": {
     "end_time": "2022-03-24T20:08:56.928336Z",
     "start_time": "2022-03-24T20:08:56.117001Z"
    }
   },
   "outputs": [
    {
     "data": {
      "text/plain": [
       "(242162, 26)"
      ]
     },
     "execution_count": 20,
     "metadata": {},
     "output_type": "execute_result"
    }
   ],
   "source": [
    "dohmh_inspections.drop_duplicates().shape"
   ]
  },
  {
   "cell_type": "code",
   "execution_count": 21,
   "metadata": {
    "ExecuteTime": {
     "end_time": "2022-03-24T20:08:58.207660Z",
     "start_time": "2022-03-24T20:08:58.176274Z"
    }
   },
   "outputs": [
    {
     "data": {
      "text/plain": [
       "238071"
      ]
     },
     "execution_count": 21,
     "metadata": {},
     "output_type": "execute_result"
    }
   ],
   "source": [
    "dohmh_inspections.duplicated(subset=['camis']).sum()"
   ]
  },
  {
   "cell_type": "markdown",
   "metadata": {},
   "source": [
    "## Mapping with Follium"
   ]
  },
  {
   "cell_type": "code",
   "execution_count": null,
   "metadata": {},
   "outputs": [],
   "source": [
    "\n"
   ]
  }
 ],
 "metadata": {
  "kernelspec": {
   "display_name": "Python (learn-env)",
   "language": "python",
   "name": "learn-env"
  },
  "language_info": {
   "codemirror_mode": {
    "name": "ipython",
    "version": 3
   },
   "file_extension": ".py",
   "mimetype": "text/x-python",
   "name": "python",
   "nbconvert_exporter": "python",
   "pygments_lexer": "ipython3",
   "version": "3.8.5"
  },
  "toc": {
   "base_numbering": 1,
   "nav_menu": {},
   "number_sections": true,
   "sideBar": true,
   "skip_h1_title": false,
   "title_cell": "Table of Contents",
   "title_sidebar": "Contents",
   "toc_cell": false,
   "toc_position": {},
   "toc_section_display": true,
   "toc_window_display": true
  }
 },
 "nbformat": 4,
 "nbformat_minor": 4
}
