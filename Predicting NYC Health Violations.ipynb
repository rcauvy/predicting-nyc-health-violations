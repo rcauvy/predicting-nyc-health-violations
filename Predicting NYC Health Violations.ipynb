{
 "cells": [
  {
   "cell_type": "code",
   "execution_count": 113,
   "metadata": {
    "ExecuteTime": {
     "end_time": "2022-04-13T17:02:41.646935Z",
     "start_time": "2022-04-13T17:02:41.637416Z"
    }
   },
   "outputs": [],
   "source": [
    "from IPython import display\n",
    "import requests\n",
    "import json\n",
    "from sodapy import Socrata\n",
    "import pandas as pd\n",
    "import numpy as np\n",
    "import matplotlib.pyplot as plt\n",
    "%matplotlib inline\n",
    "import seaborn as sns\n",
    "import warnings\n",
    "import time\n",
    "warnings.filterwarnings(\"ignore\")\n",
    "pd.set_option('display.max_colwidth',100)\n",
    "pd.set_option('display.max_columns',50)\n",
    "\n",
    "from sklearn.preprocessing import OneHotEncoder\n"
   ]
  },
  {
   "cell_type": "markdown",
   "metadata": {},
   "source": [
    "# Introduction"
   ]
  },
  {
   "cell_type": "markdown",
   "metadata": {},
   "source": [
    "According to the CDC, more than 48 million Americans per year become sick from food, and an estimated 75% of the outbreaks came from food prepared by caterers, delis, and restaurants. In most cities, health inspections are generally random, which can increase time spent on spot checks at clean restaurants that have been following the rules closely — and missed opportunities to improve health and hygiene at places with more pressing food safety issues.\n",
    "\n",
    "The goal for this project is to leverage public citizen generated data from social media to narrow the search for critical health and safety violations in New York City. As the City of New York manages  an open data portal, everyone can access historical hygiene inspections and violation records. By combine these two data source this project aims to determine which words, phrases, ratings, and patterns among restaurants lead to critical health and safety violations. This model can assist city health inspectors do their job better by prioritizing the kitchens most likely to be in violation of code."
   ]
  },
  {
   "cell_type": "markdown",
   "metadata": {},
   "source": [
    "# Obtain"
   ]
  },
  {
   "cell_type": "markdown",
   "metadata": {},
   "source": [
    "This project requires data pulled from two different sources, the City of New York and Yelp. To obtain the data we will call the API keys."
   ]
  },
  {
   "cell_type": "markdown",
   "metadata": {},
   "source": [
    "## NYC Open Data Portal"
   ]
  },
  {
   "cell_type": "markdown",
   "metadata": {},
   "source": []
  },
  {
   "cell_type": "code",
   "execution_count": 114,
   "metadata": {
    "ExecuteTime": {
     "end_time": "2022-04-13T17:02:47.043945Z",
     "start_time": "2022-04-13T17:02:45.500972Z"
    }
   },
   "outputs": [
    {
     "data": {
      "text/html": [
       "<div>\n",
       "<style scoped>\n",
       "    .dataframe tbody tr th:only-of-type {\n",
       "        vertical-align: middle;\n",
       "    }\n",
       "\n",
       "    .dataframe tbody tr th {\n",
       "        vertical-align: top;\n",
       "    }\n",
       "\n",
       "    .dataframe thead th {\n",
       "        text-align: right;\n",
       "    }\n",
       "</style>\n",
       "<table border=\"1\" class=\"dataframe\">\n",
       "  <thead>\n",
       "    <tr style=\"text-align: right;\">\n",
       "      <th></th>\n",
       "      <th>CAMIS</th>\n",
       "      <th>DBA</th>\n",
       "      <th>BORO</th>\n",
       "      <th>BUILDING</th>\n",
       "      <th>STREET</th>\n",
       "      <th>ZIPCODE</th>\n",
       "      <th>PHONE</th>\n",
       "      <th>CUISINE DESCRIPTION</th>\n",
       "      <th>INSPECTION DATE</th>\n",
       "      <th>ACTION</th>\n",
       "      <th>VIOLATION CODE</th>\n",
       "      <th>VIOLATION DESCRIPTION</th>\n",
       "      <th>CRITICAL FLAG</th>\n",
       "      <th>SCORE</th>\n",
       "      <th>GRADE</th>\n",
       "      <th>GRADE DATE</th>\n",
       "      <th>RECORD DATE</th>\n",
       "      <th>INSPECTION TYPE</th>\n",
       "      <th>Latitude</th>\n",
       "      <th>Longitude</th>\n",
       "      <th>Community Board</th>\n",
       "      <th>Council District</th>\n",
       "      <th>Census Tract</th>\n",
       "      <th>BIN</th>\n",
       "      <th>BBL</th>\n",
       "      <th>NTA</th>\n",
       "    </tr>\n",
       "  </thead>\n",
       "  <tbody>\n",
       "    <tr>\n",
       "      <th>0</th>\n",
       "      <td>50008319</td>\n",
       "      <td>POULETTE</td>\n",
       "      <td>Manhattan</td>\n",
       "      <td>790</td>\n",
       "      <td>9 AVENUE</td>\n",
       "      <td>10019.0</td>\n",
       "      <td>2129569488</td>\n",
       "      <td>Chicken</td>\n",
       "      <td>01/28/2019</td>\n",
       "      <td>Violations were cited in the following area(s).</td>\n",
       "      <td>04D</td>\n",
       "      <td>Food worker does not wash hands thoroughly after using the toilet, coughing, sneezing, smoking, ...</td>\n",
       "      <td>Critical</td>\n",
       "      <td>22</td>\n",
       "      <td>NaN</td>\n",
       "      <td>NaN</td>\n",
       "      <td>03/24/2022</td>\n",
       "      <td>Cycle Inspection / Initial Inspection</td>\n",
       "      <td>40.765040</td>\n",
       "      <td>-73.987795</td>\n",
       "      <td>104.0</td>\n",
       "      <td>3.0</td>\n",
       "      <td>13300.0</td>\n",
       "      <td>1025235.0</td>\n",
       "      <td>1.010430e+09</td>\n",
       "      <td>MN15</td>\n",
       "    </tr>\n",
       "    <tr>\n",
       "      <th>1</th>\n",
       "      <td>41678734</td>\n",
       "      <td>TINY'S DINER</td>\n",
       "      <td>Bronx</td>\n",
       "      <td>3603</td>\n",
       "      <td>RIVERDALE AVENUE</td>\n",
       "      <td>10463.0</td>\n",
       "      <td>7187087600</td>\n",
       "      <td>American</td>\n",
       "      <td>09/23/2019</td>\n",
       "      <td>Violations were cited in the following area(s).</td>\n",
       "      <td>04M</td>\n",
       "      <td>Live roaches present in facility's food and/or non-food areas.</td>\n",
       "      <td>Critical</td>\n",
       "      <td>24</td>\n",
       "      <td>NaN</td>\n",
       "      <td>NaN</td>\n",
       "      <td>03/24/2022</td>\n",
       "      <td>Cycle Inspection / Initial Inspection</td>\n",
       "      <td>40.886691</td>\n",
       "      <td>-73.907056</td>\n",
       "      <td>208.0</td>\n",
       "      <td>11.0</td>\n",
       "      <td>29500.0</td>\n",
       "      <td>2084186.0</td>\n",
       "      <td>2.057960e+09</td>\n",
       "      <td>BX29</td>\n",
       "    </tr>\n",
       "    <tr>\n",
       "      <th>2</th>\n",
       "      <td>40795021</td>\n",
       "      <td>TAO RESTAURANT</td>\n",
       "      <td>Manhattan</td>\n",
       "      <td>42</td>\n",
       "      <td>EAST   58 STREET</td>\n",
       "      <td>10022.0</td>\n",
       "      <td>2128882288</td>\n",
       "      <td>Asian/Asian Fusion</td>\n",
       "      <td>03/11/2020</td>\n",
       "      <td>Violations were cited in the following area(s).</td>\n",
       "      <td>10F</td>\n",
       "      <td>Non-food contact surface improperly constructed. Unacceptable material used. Non-food contact su...</td>\n",
       "      <td>Not Critical</td>\n",
       "      <td>9</td>\n",
       "      <td>NaN</td>\n",
       "      <td>NaN</td>\n",
       "      <td>03/24/2022</td>\n",
       "      <td>Cycle Inspection / Initial Inspection</td>\n",
       "      <td>40.762786</td>\n",
       "      <td>-73.971486</td>\n",
       "      <td>105.0</td>\n",
       "      <td>4.0</td>\n",
       "      <td>11202.0</td>\n",
       "      <td>1036073.0</td>\n",
       "      <td>1.012930e+09</td>\n",
       "      <td>MN17</td>\n",
       "    </tr>\n",
       "    <tr>\n",
       "      <th>3</th>\n",
       "      <td>40795021</td>\n",
       "      <td>TAO RESTAURANT</td>\n",
       "      <td>Manhattan</td>\n",
       "      <td>42</td>\n",
       "      <td>EAST   58 STREET</td>\n",
       "      <td>10022.0</td>\n",
       "      <td>2128882288</td>\n",
       "      <td>Asian/Asian Fusion</td>\n",
       "      <td>03/11/2020</td>\n",
       "      <td>Violations were cited in the following area(s).</td>\n",
       "      <td>10F</td>\n",
       "      <td>Non-food contact surface improperly constructed. Unacceptable material used. Non-food contact su...</td>\n",
       "      <td>Not Critical</td>\n",
       "      <td>9</td>\n",
       "      <td>NaN</td>\n",
       "      <td>NaN</td>\n",
       "      <td>03/24/2022</td>\n",
       "      <td>Cycle Inspection / Initial Inspection</td>\n",
       "      <td>40.762786</td>\n",
       "      <td>-73.971486</td>\n",
       "      <td>105.0</td>\n",
       "      <td>4.0</td>\n",
       "      <td>11202.0</td>\n",
       "      <td>1036073.0</td>\n",
       "      <td>1.012930e+09</td>\n",
       "      <td>MN17</td>\n",
       "    </tr>\n",
       "    <tr>\n",
       "      <th>4</th>\n",
       "      <td>40538234</td>\n",
       "      <td>DUNKIN',' BASKIN ROBBINS</td>\n",
       "      <td>Queens</td>\n",
       "      <td>9925</td>\n",
       "      <td>HORACE HARDING EXPRESSWAY</td>\n",
       "      <td>11368.0</td>\n",
       "      <td>7182719222</td>\n",
       "      <td>Donuts</td>\n",
       "      <td>07/29/2021</td>\n",
       "      <td>Violations were cited in the following area(s).</td>\n",
       "      <td>06E</td>\n",
       "      <td>Sanitized equipment or utensil, including in-use food dispensing utensil, improperly used or sto...</td>\n",
       "      <td>Critical</td>\n",
       "      <td>10</td>\n",
       "      <td>A</td>\n",
       "      <td>07/29/2021</td>\n",
       "      <td>03/24/2022</td>\n",
       "      <td>Cycle Inspection / Initial Inspection</td>\n",
       "      <td>40.736185</td>\n",
       "      <td>-73.858052</td>\n",
       "      <td>404.0</td>\n",
       "      <td>21.0</td>\n",
       "      <td>43702.0</td>\n",
       "      <td>4047915.0</td>\n",
       "      <td>4.019480e+09</td>\n",
       "      <td>QN25</td>\n",
       "    </tr>\n",
       "    <tr>\n",
       "      <th>...</th>\n",
       "      <td>...</td>\n",
       "      <td>...</td>\n",
       "      <td>...</td>\n",
       "      <td>...</td>\n",
       "      <td>...</td>\n",
       "      <td>...</td>\n",
       "      <td>...</td>\n",
       "      <td>...</td>\n",
       "      <td>...</td>\n",
       "      <td>...</td>\n",
       "      <td>...</td>\n",
       "      <td>...</td>\n",
       "      <td>...</td>\n",
       "      <td>...</td>\n",
       "      <td>...</td>\n",
       "      <td>...</td>\n",
       "      <td>...</td>\n",
       "      <td>...</td>\n",
       "      <td>...</td>\n",
       "      <td>...</td>\n",
       "      <td>...</td>\n",
       "      <td>...</td>\n",
       "      <td>...</td>\n",
       "      <td>...</td>\n",
       "      <td>...</td>\n",
       "      <td>...</td>\n",
       "    </tr>\n",
       "    <tr>\n",
       "      <th>186222</th>\n",
       "      <td>41556790</td>\n",
       "      <td>FIVE GUYS FAMOUS BURGERS AND FRIES</td>\n",
       "      <td>Manhattan</td>\n",
       "      <td>2847</td>\n",
       "      <td>BROADFWAY</td>\n",
       "      <td>NaN</td>\n",
       "      <td>2126787701</td>\n",
       "      <td>Hamburgers</td>\n",
       "      <td>03/01/2019</td>\n",
       "      <td>Violations were cited in the following area(s).</td>\n",
       "      <td>10F</td>\n",
       "      <td>Non-food contact surface improperly constructed. Unacceptable material used. Non-food contact su...</td>\n",
       "      <td>Not Critical</td>\n",
       "      <td>3</td>\n",
       "      <td>A</td>\n",
       "      <td>03/01/2019</td>\n",
       "      <td>03/24/2022</td>\n",
       "      <td>Cycle Inspection / Initial Inspection</td>\n",
       "      <td>0.000000</td>\n",
       "      <td>0.000000</td>\n",
       "      <td>NaN</td>\n",
       "      <td>NaN</td>\n",
       "      <td>NaN</td>\n",
       "      <td>NaN</td>\n",
       "      <td>1.000000e+00</td>\n",
       "      <td>NaN</td>\n",
       "    </tr>\n",
       "    <tr>\n",
       "      <th>186223</th>\n",
       "      <td>50032876</td>\n",
       "      <td>TANNER SMITH'S</td>\n",
       "      <td>Manhattan</td>\n",
       "      <td>204</td>\n",
       "      <td>WEST   55 STREET</td>\n",
       "      <td>10019.0</td>\n",
       "      <td>9175172283</td>\n",
       "      <td>American</td>\n",
       "      <td>06/07/2019</td>\n",
       "      <td>Violations were cited in the following area(s).</td>\n",
       "      <td>08A</td>\n",
       "      <td>Facility not vermin proof. Harborage or conditions conducive to attracting vermin to the premise...</td>\n",
       "      <td>Not Critical</td>\n",
       "      <td>12</td>\n",
       "      <td>A</td>\n",
       "      <td>06/07/2019</td>\n",
       "      <td>03/24/2022</td>\n",
       "      <td>Cycle Inspection / Initial Inspection</td>\n",
       "      <td>40.764364</td>\n",
       "      <td>-73.981362</td>\n",
       "      <td>105.0</td>\n",
       "      <td>4.0</td>\n",
       "      <td>13700.0</td>\n",
       "      <td>1024857.0</td>\n",
       "      <td>1.010260e+09</td>\n",
       "      <td>MN17</td>\n",
       "    </tr>\n",
       "    <tr>\n",
       "      <th>186224</th>\n",
       "      <td>50003842</td>\n",
       "      <td>T- 45</td>\n",
       "      <td>Manhattan</td>\n",
       "      <td>135</td>\n",
       "      <td>WEST   45 STREET</td>\n",
       "      <td>10036.0</td>\n",
       "      <td>6466403775</td>\n",
       "      <td>American</td>\n",
       "      <td>07/26/2018</td>\n",
       "      <td>Violations were cited in the following area(s).</td>\n",
       "      <td>10B</td>\n",
       "      <td>Plumbing not properly installed or maintained; anti-siphonage or backflow prevention device not ...</td>\n",
       "      <td>Not Critical</td>\n",
       "      <td>49</td>\n",
       "      <td>NaN</td>\n",
       "      <td>NaN</td>\n",
       "      <td>03/24/2022</td>\n",
       "      <td>Cycle Inspection / Initial Inspection</td>\n",
       "      <td>40.757244</td>\n",
       "      <td>-73.983815</td>\n",
       "      <td>105.0</td>\n",
       "      <td>4.0</td>\n",
       "      <td>11900.0</td>\n",
       "      <td>1089796.0</td>\n",
       "      <td>1.009980e+09</td>\n",
       "      <td>MN17</td>\n",
       "    </tr>\n",
       "    <tr>\n",
       "      <th>186225</th>\n",
       "      <td>41640824</td>\n",
       "      <td>RICURAS ECUADORIAN BAKERY</td>\n",
       "      <td>Bronx</td>\n",
       "      <td>1576</td>\n",
       "      <td>WATSON AVENUE</td>\n",
       "      <td>10472.0</td>\n",
       "      <td>7184508363</td>\n",
       "      <td>Spanish</td>\n",
       "      <td>07/20/2018</td>\n",
       "      <td>Violations were cited in the following area(s).</td>\n",
       "      <td>06F</td>\n",
       "      <td>Wiping cloths soiled or not stored in sanitizing solution.</td>\n",
       "      <td>Critical</td>\n",
       "      <td>12</td>\n",
       "      <td>A</td>\n",
       "      <td>07/20/2018</td>\n",
       "      <td>03/24/2022</td>\n",
       "      <td>Cycle Inspection / Initial Inspection</td>\n",
       "      <td>40.826352</td>\n",
       "      <td>-73.876066</td>\n",
       "      <td>209.0</td>\n",
       "      <td>18.0</td>\n",
       "      <td>5001.0</td>\n",
       "      <td>2023533.0</td>\n",
       "      <td>2.037160e+09</td>\n",
       "      <td>BX55</td>\n",
       "    </tr>\n",
       "    <tr>\n",
       "      <th>186226</th>\n",
       "      <td>41450971</td>\n",
       "      <td>GIOVANNI'S RESTAURANT</td>\n",
       "      <td>Bronx</td>\n",
       "      <td>3209</td>\n",
       "      <td>WESTCHESTER AVENUE</td>\n",
       "      <td>10461.0</td>\n",
       "      <td>7188924340</td>\n",
       "      <td>Pizza</td>\n",
       "      <td>06/21/2017</td>\n",
       "      <td>Violations were cited in the following area(s).</td>\n",
       "      <td>06D</td>\n",
       "      <td>Food contact surface not properly washed, rinsed and sanitized after each use and following any ...</td>\n",
       "      <td>Critical</td>\n",
       "      <td>16</td>\n",
       "      <td>NaN</td>\n",
       "      <td>NaN</td>\n",
       "      <td>03/24/2022</td>\n",
       "      <td>Cycle Inspection / Initial Inspection</td>\n",
       "      <td>40.851761</td>\n",
       "      <td>-73.829569</td>\n",
       "      <td>210.0</td>\n",
       "      <td>13.0</td>\n",
       "      <td>30000.0</td>\n",
       "      <td>2047655.0</td>\n",
       "      <td>2.042450e+09</td>\n",
       "      <td>BX10</td>\n",
       "    </tr>\n",
       "  </tbody>\n",
       "</table>\n",
       "<p>186227 rows × 26 columns</p>\n",
       "</div>"
      ],
      "text/plain": [
       "           CAMIS                                 DBA       BORO BUILDING  \\\n",
       "0       50008319                            POULETTE  Manhattan      790   \n",
       "1       41678734                        TINY'S DINER      Bronx     3603   \n",
       "2       40795021                      TAO RESTAURANT  Manhattan       42   \n",
       "3       40795021                      TAO RESTAURANT  Manhattan       42   \n",
       "4       40538234            DUNKIN',' BASKIN ROBBINS     Queens     9925   \n",
       "...          ...                                 ...        ...      ...   \n",
       "186222  41556790  FIVE GUYS FAMOUS BURGERS AND FRIES  Manhattan     2847   \n",
       "186223  50032876                      TANNER SMITH'S  Manhattan      204   \n",
       "186224  50003842                               T- 45  Manhattan      135   \n",
       "186225  41640824           RICURAS ECUADORIAN BAKERY      Bronx     1576   \n",
       "186226  41450971               GIOVANNI'S RESTAURANT      Bronx     3209   \n",
       "\n",
       "                           STREET  ZIPCODE       PHONE CUISINE DESCRIPTION  \\\n",
       "0                        9 AVENUE  10019.0  2129569488             Chicken   \n",
       "1                RIVERDALE AVENUE  10463.0  7187087600            American   \n",
       "2                EAST   58 STREET  10022.0  2128882288  Asian/Asian Fusion   \n",
       "3                EAST   58 STREET  10022.0  2128882288  Asian/Asian Fusion   \n",
       "4       HORACE HARDING EXPRESSWAY  11368.0  7182719222              Donuts   \n",
       "...                           ...      ...         ...                 ...   \n",
       "186222                  BROADFWAY      NaN  2126787701          Hamburgers   \n",
       "186223           WEST   55 STREET  10019.0  9175172283            American   \n",
       "186224           WEST   45 STREET  10036.0  6466403775            American   \n",
       "186225              WATSON AVENUE  10472.0  7184508363             Spanish   \n",
       "186226         WESTCHESTER AVENUE  10461.0  7188924340               Pizza   \n",
       "\n",
       "       INSPECTION DATE                                           ACTION  \\\n",
       "0           01/28/2019  Violations were cited in the following area(s).   \n",
       "1           09/23/2019  Violations were cited in the following area(s).   \n",
       "2           03/11/2020  Violations were cited in the following area(s).   \n",
       "3           03/11/2020  Violations were cited in the following area(s).   \n",
       "4           07/29/2021  Violations were cited in the following area(s).   \n",
       "...                ...                                              ...   \n",
       "186222      03/01/2019  Violations were cited in the following area(s).   \n",
       "186223      06/07/2019  Violations were cited in the following area(s).   \n",
       "186224      07/26/2018  Violations were cited in the following area(s).   \n",
       "186225      07/20/2018  Violations were cited in the following area(s).   \n",
       "186226      06/21/2017  Violations were cited in the following area(s).   \n",
       "\n",
       "       VIOLATION CODE  \\\n",
       "0                 04D   \n",
       "1                 04M   \n",
       "2                 10F   \n",
       "3                 10F   \n",
       "4                 06E   \n",
       "...               ...   \n",
       "186222            10F   \n",
       "186223            08A   \n",
       "186224            10B   \n",
       "186225            06F   \n",
       "186226            06D   \n",
       "\n",
       "                                                                                      VIOLATION DESCRIPTION  \\\n",
       "0       Food worker does not wash hands thoroughly after using the toilet, coughing, sneezing, smoking, ...   \n",
       "1                                            Live roaches present in facility's food and/or non-food areas.   \n",
       "2       Non-food contact surface improperly constructed. Unacceptable material used. Non-food contact su...   \n",
       "3       Non-food contact surface improperly constructed. Unacceptable material used. Non-food contact su...   \n",
       "4       Sanitized equipment or utensil, including in-use food dispensing utensil, improperly used or sto...   \n",
       "...                                                                                                     ...   \n",
       "186222  Non-food contact surface improperly constructed. Unacceptable material used. Non-food contact su...   \n",
       "186223  Facility not vermin proof. Harborage or conditions conducive to attracting vermin to the premise...   \n",
       "186224  Plumbing not properly installed or maintained; anti-siphonage or backflow prevention device not ...   \n",
       "186225                                           Wiping cloths soiled or not stored in sanitizing solution.   \n",
       "186226  Food contact surface not properly washed, rinsed and sanitized after each use and following any ...   \n",
       "\n",
       "       CRITICAL FLAG  SCORE GRADE  GRADE DATE RECORD DATE  \\\n",
       "0           Critical     22   NaN         NaN  03/24/2022   \n",
       "1           Critical     24   NaN         NaN  03/24/2022   \n",
       "2       Not Critical      9   NaN         NaN  03/24/2022   \n",
       "3       Not Critical      9   NaN         NaN  03/24/2022   \n",
       "4           Critical     10     A  07/29/2021  03/24/2022   \n",
       "...              ...    ...   ...         ...         ...   \n",
       "186222  Not Critical      3     A  03/01/2019  03/24/2022   \n",
       "186223  Not Critical     12     A  06/07/2019  03/24/2022   \n",
       "186224  Not Critical     49   NaN         NaN  03/24/2022   \n",
       "186225      Critical     12     A  07/20/2018  03/24/2022   \n",
       "186226      Critical     16   NaN         NaN  03/24/2022   \n",
       "\n",
       "                              INSPECTION TYPE   Latitude  Longitude  \\\n",
       "0       Cycle Inspection / Initial Inspection  40.765040 -73.987795   \n",
       "1       Cycle Inspection / Initial Inspection  40.886691 -73.907056   \n",
       "2       Cycle Inspection / Initial Inspection  40.762786 -73.971486   \n",
       "3       Cycle Inspection / Initial Inspection  40.762786 -73.971486   \n",
       "4       Cycle Inspection / Initial Inspection  40.736185 -73.858052   \n",
       "...                                       ...        ...        ...   \n",
       "186222  Cycle Inspection / Initial Inspection   0.000000   0.000000   \n",
       "186223  Cycle Inspection / Initial Inspection  40.764364 -73.981362   \n",
       "186224  Cycle Inspection / Initial Inspection  40.757244 -73.983815   \n",
       "186225  Cycle Inspection / Initial Inspection  40.826352 -73.876066   \n",
       "186226  Cycle Inspection / Initial Inspection  40.851761 -73.829569   \n",
       "\n",
       "        Community Board  Council District  Census Tract        BIN  \\\n",
       "0                 104.0               3.0       13300.0  1025235.0   \n",
       "1                 208.0              11.0       29500.0  2084186.0   \n",
       "2                 105.0               4.0       11202.0  1036073.0   \n",
       "3                 105.0               4.0       11202.0  1036073.0   \n",
       "4                 404.0              21.0       43702.0  4047915.0   \n",
       "...                 ...               ...           ...        ...   \n",
       "186222              NaN               NaN           NaN        NaN   \n",
       "186223            105.0               4.0       13700.0  1024857.0   \n",
       "186224            105.0               4.0       11900.0  1089796.0   \n",
       "186225            209.0              18.0        5001.0  2023533.0   \n",
       "186226            210.0              13.0       30000.0  2047655.0   \n",
       "\n",
       "                 BBL   NTA  \n",
       "0       1.010430e+09  MN15  \n",
       "1       2.057960e+09  BX29  \n",
       "2       1.012930e+09  MN17  \n",
       "3       1.012930e+09  MN17  \n",
       "4       4.019480e+09  QN25  \n",
       "...              ...   ...  \n",
       "186222  1.000000e+00   NaN  \n",
       "186223  1.010260e+09  MN17  \n",
       "186224  1.009980e+09  MN17  \n",
       "186225  2.037160e+09  BX55  \n",
       "186226  2.042450e+09  BX10  \n",
       "\n",
       "[186227 rows x 26 columns]"
      ]
     },
     "execution_count": 114,
     "metadata": {},
     "output_type": "execute_result"
    }
   ],
   "source": [
    "doh = pd.read_csv('data/DOHMH_New_York_City_Restaurant_Inspection_Results.csv')\n",
    "doh"
   ]
  },
  {
   "cell_type": "code",
   "execution_count": 115,
   "metadata": {
    "ExecuteTime": {
     "end_time": "2022-04-13T17:03:24.922493Z",
     "start_time": "2022-04-13T17:03:24.670709Z"
    }
   },
   "outputs": [
    {
     "name": "stdout",
     "output_type": "stream",
     "text": [
      "<class 'pandas.core.frame.DataFrame'>\n",
      "RangeIndex: 186227 entries, 0 to 186226\n",
      "Data columns (total 26 columns):\n",
      " #   Column                 Non-Null Count   Dtype  \n",
      "---  ------                 --------------   -----  \n",
      " 0   CAMIS                  186227 non-null  int64  \n",
      " 1   DBA                    186200 non-null  object \n",
      " 2   BORO                   186227 non-null  object \n",
      " 3   BUILDING               185799 non-null  object \n",
      " 4   STREET                 186227 non-null  object \n",
      " 5   ZIPCODE                183146 non-null  float64\n",
      " 6   PHONE                  186214 non-null  object \n",
      " 7   CUISINE DESCRIPTION    186226 non-null  object \n",
      " 8   INSPECTION DATE        186227 non-null  object \n",
      " 9   ACTION                 186227 non-null  object \n",
      " 10  VIOLATION CODE         185413 non-null  object \n",
      " 11  VIOLATION DESCRIPTION  185863 non-null  object \n",
      " 12  CRITICAL FLAG          186227 non-null  object \n",
      " 13  SCORE                  186227 non-null  int64  \n",
      " 14  GRADE                  67933 non-null   object \n",
      " 15  GRADE DATE             67238 non-null   object \n",
      " 16  RECORD DATE            186227 non-null  object \n",
      " 17  INSPECTION TYPE        186227 non-null  object \n",
      " 18  Latitude               186069 non-null  float64\n",
      " 19  Longitude              186069 non-null  float64\n",
      " 20  Community Board        182624 non-null  float64\n",
      " 21  Council District       182629 non-null  float64\n",
      " 22  Census Tract           182629 non-null  float64\n",
      " 23  BIN                    181803 non-null  float64\n",
      " 24  BBL                    185705 non-null  float64\n",
      " 25  NTA                    182624 non-null  object \n",
      "dtypes: float64(8), int64(2), object(16)\n",
      "memory usage: 36.9+ MB\n"
     ]
    }
   ],
   "source": [
    "doh.info()"
   ]
  },
  {
   "cell_type": "code",
   "execution_count": 123,
   "metadata": {
    "ExecuteTime": {
     "end_time": "2022-04-13T17:07:54.355316Z",
     "start_time": "2022-04-13T17:07:54.221898Z"
    }
   },
   "outputs": [],
   "source": [
    "doh.dropna(subset=['PHONE'],inplace=True)"
   ]
  },
  {
   "cell_type": "code",
   "execution_count": 124,
   "metadata": {
    "ExecuteTime": {
     "end_time": "2022-04-13T17:07:55.537151Z",
     "start_time": "2022-04-13T17:07:55.325137Z"
    }
   },
   "outputs": [
    {
     "name": "stdout",
     "output_type": "stream",
     "text": [
      "<class 'pandas.core.frame.DataFrame'>\n",
      "Int64Index: 186214 entries, 0 to 186226\n",
      "Data columns (total 26 columns):\n",
      " #   Column                 Non-Null Count   Dtype  \n",
      "---  ------                 --------------   -----  \n",
      " 0   CAMIS                  186214 non-null  int64  \n",
      " 1   DBA                    186187 non-null  object \n",
      " 2   BORO                   186214 non-null  object \n",
      " 3   BUILDING               185786 non-null  object \n",
      " 4   STREET                 186214 non-null  object \n",
      " 5   ZIPCODE                183133 non-null  float64\n",
      " 6   PHONE                  186214 non-null  object \n",
      " 7   CUISINE DESCRIPTION    186213 non-null  object \n",
      " 8   INSPECTION DATE        186214 non-null  object \n",
      " 9   ACTION                 186214 non-null  object \n",
      " 10  VIOLATION CODE         185400 non-null  object \n",
      " 11  VIOLATION DESCRIPTION  185850 non-null  object \n",
      " 12  CRITICAL FLAG          186214 non-null  object \n",
      " 13  SCORE                  186214 non-null  int64  \n",
      " 14  GRADE                  67924 non-null   object \n",
      " 15  GRADE DATE             67229 non-null   object \n",
      " 16  RECORD DATE            186214 non-null  object \n",
      " 17  INSPECTION TYPE        186214 non-null  object \n",
      " 18  Latitude               186056 non-null  float64\n",
      " 19  Longitude              186056 non-null  float64\n",
      " 20  Community Board        182611 non-null  float64\n",
      " 21  Council District       182616 non-null  float64\n",
      " 22  Census Tract           182616 non-null  float64\n",
      " 23  BIN                    181790 non-null  float64\n",
      " 24  BBL                    185692 non-null  float64\n",
      " 25  NTA                    182611 non-null  object \n",
      "dtypes: float64(8), int64(2), object(16)\n",
      "memory usage: 38.4+ MB\n"
     ]
    }
   ],
   "source": [
    "doh.info()"
   ]
  },
  {
   "cell_type": "code",
   "execution_count": 125,
   "metadata": {
    "ExecuteTime": {
     "end_time": "2022-04-13T17:08:02.793491Z",
     "start_time": "2022-04-13T17:08:02.781326Z"
    }
   },
   "outputs": [
    {
     "data": {
      "text/plain": [
       "19790"
      ]
     },
     "execution_count": 125,
     "metadata": {},
     "output_type": "execute_result"
    }
   ],
   "source": [
    "# How many unique restaurants are in this dataset?\n",
    "doh['CAMIS'].nunique()"
   ]
  },
  {
   "cell_type": "markdown",
   "metadata": {},
   "source": [
    "Health code violations found during an inspections carries a point value, and a restaurant’s score corresponds to a letter grade. A lower point score, leads to a better letter grade:\n",
    "\n",
    "\"A\" grade: 0 to 13 points for sanitary violations\n",
    "\"B\" grade: 14 to 27 points for sanitary violations\n",
    "\"C\" grade: 28 or more points for sanitary violations"
   ]
  },
  {
   "cell_type": "code",
   "execution_count": 126,
   "metadata": {
    "ExecuteTime": {
     "end_time": "2022-04-13T17:08:23.907942Z",
     "start_time": "2022-04-13T17:08:23.889478Z"
    }
   },
   "outputs": [],
   "source": [
    "doh['A'] = doh['SCORE'] < 14\n",
    "doh['B'] = (doh['SCORE'] > 13) & (doh['SCORE'] < 28)\n",
    "doh['C'] = doh['SCORE'] > 27"
   ]
  },
  {
   "cell_type": "code",
   "execution_count": 127,
   "metadata": {
    "ExecuteTime": {
     "end_time": "2022-04-13T17:08:27.549848Z",
     "start_time": "2022-04-13T17:08:27.473743Z"
    }
   },
   "outputs": [
    {
     "data": {
      "text/html": [
       "<div>\n",
       "<style scoped>\n",
       "    .dataframe tbody tr th:only-of-type {\n",
       "        vertical-align: middle;\n",
       "    }\n",
       "\n",
       "    .dataframe tbody tr th {\n",
       "        vertical-align: top;\n",
       "    }\n",
       "\n",
       "    .dataframe thead th {\n",
       "        text-align: right;\n",
       "    }\n",
       "</style>\n",
       "<table border=\"1\" class=\"dataframe\">\n",
       "  <thead>\n",
       "    <tr style=\"text-align: right;\">\n",
       "      <th></th>\n",
       "      <th>CAMIS</th>\n",
       "      <th>DBA</th>\n",
       "      <th>BORO</th>\n",
       "      <th>BUILDING</th>\n",
       "      <th>STREET</th>\n",
       "      <th>ZIPCODE</th>\n",
       "      <th>PHONE</th>\n",
       "      <th>CUISINE DESCRIPTION</th>\n",
       "      <th>INSPECTION DATE</th>\n",
       "      <th>ACTION</th>\n",
       "      <th>VIOLATION CODE</th>\n",
       "      <th>VIOLATION DESCRIPTION</th>\n",
       "      <th>CRITICAL FLAG</th>\n",
       "      <th>SCORE</th>\n",
       "      <th>GRADE</th>\n",
       "      <th>GRADE DATE</th>\n",
       "      <th>RECORD DATE</th>\n",
       "      <th>INSPECTION TYPE</th>\n",
       "      <th>Latitude</th>\n",
       "      <th>Longitude</th>\n",
       "      <th>Community Board</th>\n",
       "      <th>Council District</th>\n",
       "      <th>Census Tract</th>\n",
       "      <th>BIN</th>\n",
       "      <th>BBL</th>\n",
       "      <th>NTA</th>\n",
       "      <th>A</th>\n",
       "      <th>B</th>\n",
       "      <th>C</th>\n",
       "    </tr>\n",
       "  </thead>\n",
       "  <tbody>\n",
       "    <tr>\n",
       "      <th>0</th>\n",
       "      <td>50008319</td>\n",
       "      <td>POULETTE</td>\n",
       "      <td>Manhattan</td>\n",
       "      <td>790</td>\n",
       "      <td>9 AVENUE</td>\n",
       "      <td>10019.0</td>\n",
       "      <td>2129569488</td>\n",
       "      <td>Chicken</td>\n",
       "      <td>01/28/2019</td>\n",
       "      <td>Violations were cited in the following area(s).</td>\n",
       "      <td>04D</td>\n",
       "      <td>Food worker does not wash hands thoroughly after using the toilet, coughing, sneezing, smoking, ...</td>\n",
       "      <td>Critical</td>\n",
       "      <td>22</td>\n",
       "      <td>NaN</td>\n",
       "      <td>NaN</td>\n",
       "      <td>03/24/2022</td>\n",
       "      <td>Cycle Inspection / Initial Inspection</td>\n",
       "      <td>40.765040</td>\n",
       "      <td>-73.987795</td>\n",
       "      <td>104.0</td>\n",
       "      <td>3.0</td>\n",
       "      <td>13300.0</td>\n",
       "      <td>1025235.0</td>\n",
       "      <td>1.010430e+09</td>\n",
       "      <td>MN15</td>\n",
       "      <td>False</td>\n",
       "      <td>True</td>\n",
       "      <td>False</td>\n",
       "    </tr>\n",
       "    <tr>\n",
       "      <th>1</th>\n",
       "      <td>41678734</td>\n",
       "      <td>TINY'S DINER</td>\n",
       "      <td>Bronx</td>\n",
       "      <td>3603</td>\n",
       "      <td>RIVERDALE AVENUE</td>\n",
       "      <td>10463.0</td>\n",
       "      <td>7187087600</td>\n",
       "      <td>American</td>\n",
       "      <td>09/23/2019</td>\n",
       "      <td>Violations were cited in the following area(s).</td>\n",
       "      <td>04M</td>\n",
       "      <td>Live roaches present in facility's food and/or non-food areas.</td>\n",
       "      <td>Critical</td>\n",
       "      <td>24</td>\n",
       "      <td>NaN</td>\n",
       "      <td>NaN</td>\n",
       "      <td>03/24/2022</td>\n",
       "      <td>Cycle Inspection / Initial Inspection</td>\n",
       "      <td>40.886691</td>\n",
       "      <td>-73.907056</td>\n",
       "      <td>208.0</td>\n",
       "      <td>11.0</td>\n",
       "      <td>29500.0</td>\n",
       "      <td>2084186.0</td>\n",
       "      <td>2.057960e+09</td>\n",
       "      <td>BX29</td>\n",
       "      <td>False</td>\n",
       "      <td>True</td>\n",
       "      <td>False</td>\n",
       "    </tr>\n",
       "    <tr>\n",
       "      <th>2</th>\n",
       "      <td>40795021</td>\n",
       "      <td>TAO RESTAURANT</td>\n",
       "      <td>Manhattan</td>\n",
       "      <td>42</td>\n",
       "      <td>EAST   58 STREET</td>\n",
       "      <td>10022.0</td>\n",
       "      <td>2128882288</td>\n",
       "      <td>Asian/Asian Fusion</td>\n",
       "      <td>03/11/2020</td>\n",
       "      <td>Violations were cited in the following area(s).</td>\n",
       "      <td>10F</td>\n",
       "      <td>Non-food contact surface improperly constructed. Unacceptable material used. Non-food contact su...</td>\n",
       "      <td>Not Critical</td>\n",
       "      <td>9</td>\n",
       "      <td>NaN</td>\n",
       "      <td>NaN</td>\n",
       "      <td>03/24/2022</td>\n",
       "      <td>Cycle Inspection / Initial Inspection</td>\n",
       "      <td>40.762786</td>\n",
       "      <td>-73.971486</td>\n",
       "      <td>105.0</td>\n",
       "      <td>4.0</td>\n",
       "      <td>11202.0</td>\n",
       "      <td>1036073.0</td>\n",
       "      <td>1.012930e+09</td>\n",
       "      <td>MN17</td>\n",
       "      <td>True</td>\n",
       "      <td>False</td>\n",
       "      <td>False</td>\n",
       "    </tr>\n",
       "    <tr>\n",
       "      <th>3</th>\n",
       "      <td>40795021</td>\n",
       "      <td>TAO RESTAURANT</td>\n",
       "      <td>Manhattan</td>\n",
       "      <td>42</td>\n",
       "      <td>EAST   58 STREET</td>\n",
       "      <td>10022.0</td>\n",
       "      <td>2128882288</td>\n",
       "      <td>Asian/Asian Fusion</td>\n",
       "      <td>03/11/2020</td>\n",
       "      <td>Violations were cited in the following area(s).</td>\n",
       "      <td>10F</td>\n",
       "      <td>Non-food contact surface improperly constructed. Unacceptable material used. Non-food contact su...</td>\n",
       "      <td>Not Critical</td>\n",
       "      <td>9</td>\n",
       "      <td>NaN</td>\n",
       "      <td>NaN</td>\n",
       "      <td>03/24/2022</td>\n",
       "      <td>Cycle Inspection / Initial Inspection</td>\n",
       "      <td>40.762786</td>\n",
       "      <td>-73.971486</td>\n",
       "      <td>105.0</td>\n",
       "      <td>4.0</td>\n",
       "      <td>11202.0</td>\n",
       "      <td>1036073.0</td>\n",
       "      <td>1.012930e+09</td>\n",
       "      <td>MN17</td>\n",
       "      <td>True</td>\n",
       "      <td>False</td>\n",
       "      <td>False</td>\n",
       "    </tr>\n",
       "    <tr>\n",
       "      <th>4</th>\n",
       "      <td>40538234</td>\n",
       "      <td>DUNKIN',' BASKIN ROBBINS</td>\n",
       "      <td>Queens</td>\n",
       "      <td>9925</td>\n",
       "      <td>HORACE HARDING EXPRESSWAY</td>\n",
       "      <td>11368.0</td>\n",
       "      <td>7182719222</td>\n",
       "      <td>Donuts</td>\n",
       "      <td>07/29/2021</td>\n",
       "      <td>Violations were cited in the following area(s).</td>\n",
       "      <td>06E</td>\n",
       "      <td>Sanitized equipment or utensil, including in-use food dispensing utensil, improperly used or sto...</td>\n",
       "      <td>Critical</td>\n",
       "      <td>10</td>\n",
       "      <td>A</td>\n",
       "      <td>07/29/2021</td>\n",
       "      <td>03/24/2022</td>\n",
       "      <td>Cycle Inspection / Initial Inspection</td>\n",
       "      <td>40.736185</td>\n",
       "      <td>-73.858052</td>\n",
       "      <td>404.0</td>\n",
       "      <td>21.0</td>\n",
       "      <td>43702.0</td>\n",
       "      <td>4047915.0</td>\n",
       "      <td>4.019480e+09</td>\n",
       "      <td>QN25</td>\n",
       "      <td>True</td>\n",
       "      <td>False</td>\n",
       "      <td>False</td>\n",
       "    </tr>\n",
       "    <tr>\n",
       "      <th>...</th>\n",
       "      <td>...</td>\n",
       "      <td>...</td>\n",
       "      <td>...</td>\n",
       "      <td>...</td>\n",
       "      <td>...</td>\n",
       "      <td>...</td>\n",
       "      <td>...</td>\n",
       "      <td>...</td>\n",
       "      <td>...</td>\n",
       "      <td>...</td>\n",
       "      <td>...</td>\n",
       "      <td>...</td>\n",
       "      <td>...</td>\n",
       "      <td>...</td>\n",
       "      <td>...</td>\n",
       "      <td>...</td>\n",
       "      <td>...</td>\n",
       "      <td>...</td>\n",
       "      <td>...</td>\n",
       "      <td>...</td>\n",
       "      <td>...</td>\n",
       "      <td>...</td>\n",
       "      <td>...</td>\n",
       "      <td>...</td>\n",
       "      <td>...</td>\n",
       "      <td>...</td>\n",
       "      <td>...</td>\n",
       "      <td>...</td>\n",
       "      <td>...</td>\n",
       "    </tr>\n",
       "    <tr>\n",
       "      <th>186222</th>\n",
       "      <td>41556790</td>\n",
       "      <td>FIVE GUYS FAMOUS BURGERS AND FRIES</td>\n",
       "      <td>Manhattan</td>\n",
       "      <td>2847</td>\n",
       "      <td>BROADFWAY</td>\n",
       "      <td>NaN</td>\n",
       "      <td>2126787701</td>\n",
       "      <td>Hamburgers</td>\n",
       "      <td>03/01/2019</td>\n",
       "      <td>Violations were cited in the following area(s).</td>\n",
       "      <td>10F</td>\n",
       "      <td>Non-food contact surface improperly constructed. Unacceptable material used. Non-food contact su...</td>\n",
       "      <td>Not Critical</td>\n",
       "      <td>3</td>\n",
       "      <td>A</td>\n",
       "      <td>03/01/2019</td>\n",
       "      <td>03/24/2022</td>\n",
       "      <td>Cycle Inspection / Initial Inspection</td>\n",
       "      <td>0.000000</td>\n",
       "      <td>0.000000</td>\n",
       "      <td>NaN</td>\n",
       "      <td>NaN</td>\n",
       "      <td>NaN</td>\n",
       "      <td>NaN</td>\n",
       "      <td>1.000000e+00</td>\n",
       "      <td>NaN</td>\n",
       "      <td>True</td>\n",
       "      <td>False</td>\n",
       "      <td>False</td>\n",
       "    </tr>\n",
       "    <tr>\n",
       "      <th>186223</th>\n",
       "      <td>50032876</td>\n",
       "      <td>TANNER SMITH'S</td>\n",
       "      <td>Manhattan</td>\n",
       "      <td>204</td>\n",
       "      <td>WEST   55 STREET</td>\n",
       "      <td>10019.0</td>\n",
       "      <td>9175172283</td>\n",
       "      <td>American</td>\n",
       "      <td>06/07/2019</td>\n",
       "      <td>Violations were cited in the following area(s).</td>\n",
       "      <td>08A</td>\n",
       "      <td>Facility not vermin proof. Harborage or conditions conducive to attracting vermin to the premise...</td>\n",
       "      <td>Not Critical</td>\n",
       "      <td>12</td>\n",
       "      <td>A</td>\n",
       "      <td>06/07/2019</td>\n",
       "      <td>03/24/2022</td>\n",
       "      <td>Cycle Inspection / Initial Inspection</td>\n",
       "      <td>40.764364</td>\n",
       "      <td>-73.981362</td>\n",
       "      <td>105.0</td>\n",
       "      <td>4.0</td>\n",
       "      <td>13700.0</td>\n",
       "      <td>1024857.0</td>\n",
       "      <td>1.010260e+09</td>\n",
       "      <td>MN17</td>\n",
       "      <td>True</td>\n",
       "      <td>False</td>\n",
       "      <td>False</td>\n",
       "    </tr>\n",
       "    <tr>\n",
       "      <th>186224</th>\n",
       "      <td>50003842</td>\n",
       "      <td>T- 45</td>\n",
       "      <td>Manhattan</td>\n",
       "      <td>135</td>\n",
       "      <td>WEST   45 STREET</td>\n",
       "      <td>10036.0</td>\n",
       "      <td>6466403775</td>\n",
       "      <td>American</td>\n",
       "      <td>07/26/2018</td>\n",
       "      <td>Violations were cited in the following area(s).</td>\n",
       "      <td>10B</td>\n",
       "      <td>Plumbing not properly installed or maintained; anti-siphonage or backflow prevention device not ...</td>\n",
       "      <td>Not Critical</td>\n",
       "      <td>49</td>\n",
       "      <td>NaN</td>\n",
       "      <td>NaN</td>\n",
       "      <td>03/24/2022</td>\n",
       "      <td>Cycle Inspection / Initial Inspection</td>\n",
       "      <td>40.757244</td>\n",
       "      <td>-73.983815</td>\n",
       "      <td>105.0</td>\n",
       "      <td>4.0</td>\n",
       "      <td>11900.0</td>\n",
       "      <td>1089796.0</td>\n",
       "      <td>1.009980e+09</td>\n",
       "      <td>MN17</td>\n",
       "      <td>False</td>\n",
       "      <td>False</td>\n",
       "      <td>True</td>\n",
       "    </tr>\n",
       "    <tr>\n",
       "      <th>186225</th>\n",
       "      <td>41640824</td>\n",
       "      <td>RICURAS ECUADORIAN BAKERY</td>\n",
       "      <td>Bronx</td>\n",
       "      <td>1576</td>\n",
       "      <td>WATSON AVENUE</td>\n",
       "      <td>10472.0</td>\n",
       "      <td>7184508363</td>\n",
       "      <td>Spanish</td>\n",
       "      <td>07/20/2018</td>\n",
       "      <td>Violations were cited in the following area(s).</td>\n",
       "      <td>06F</td>\n",
       "      <td>Wiping cloths soiled or not stored in sanitizing solution.</td>\n",
       "      <td>Critical</td>\n",
       "      <td>12</td>\n",
       "      <td>A</td>\n",
       "      <td>07/20/2018</td>\n",
       "      <td>03/24/2022</td>\n",
       "      <td>Cycle Inspection / Initial Inspection</td>\n",
       "      <td>40.826352</td>\n",
       "      <td>-73.876066</td>\n",
       "      <td>209.0</td>\n",
       "      <td>18.0</td>\n",
       "      <td>5001.0</td>\n",
       "      <td>2023533.0</td>\n",
       "      <td>2.037160e+09</td>\n",
       "      <td>BX55</td>\n",
       "      <td>True</td>\n",
       "      <td>False</td>\n",
       "      <td>False</td>\n",
       "    </tr>\n",
       "    <tr>\n",
       "      <th>186226</th>\n",
       "      <td>41450971</td>\n",
       "      <td>GIOVANNI'S RESTAURANT</td>\n",
       "      <td>Bronx</td>\n",
       "      <td>3209</td>\n",
       "      <td>WESTCHESTER AVENUE</td>\n",
       "      <td>10461.0</td>\n",
       "      <td>7188924340</td>\n",
       "      <td>Pizza</td>\n",
       "      <td>06/21/2017</td>\n",
       "      <td>Violations were cited in the following area(s).</td>\n",
       "      <td>06D</td>\n",
       "      <td>Food contact surface not properly washed, rinsed and sanitized after each use and following any ...</td>\n",
       "      <td>Critical</td>\n",
       "      <td>16</td>\n",
       "      <td>NaN</td>\n",
       "      <td>NaN</td>\n",
       "      <td>03/24/2022</td>\n",
       "      <td>Cycle Inspection / Initial Inspection</td>\n",
       "      <td>40.851761</td>\n",
       "      <td>-73.829569</td>\n",
       "      <td>210.0</td>\n",
       "      <td>13.0</td>\n",
       "      <td>30000.0</td>\n",
       "      <td>2047655.0</td>\n",
       "      <td>2.042450e+09</td>\n",
       "      <td>BX10</td>\n",
       "      <td>False</td>\n",
       "      <td>True</td>\n",
       "      <td>False</td>\n",
       "    </tr>\n",
       "  </tbody>\n",
       "</table>\n",
       "<p>186214 rows × 29 columns</p>\n",
       "</div>"
      ],
      "text/plain": [
       "           CAMIS                                 DBA       BORO BUILDING  \\\n",
       "0       50008319                            POULETTE  Manhattan      790   \n",
       "1       41678734                        TINY'S DINER      Bronx     3603   \n",
       "2       40795021                      TAO RESTAURANT  Manhattan       42   \n",
       "3       40795021                      TAO RESTAURANT  Manhattan       42   \n",
       "4       40538234            DUNKIN',' BASKIN ROBBINS     Queens     9925   \n",
       "...          ...                                 ...        ...      ...   \n",
       "186222  41556790  FIVE GUYS FAMOUS BURGERS AND FRIES  Manhattan     2847   \n",
       "186223  50032876                      TANNER SMITH'S  Manhattan      204   \n",
       "186224  50003842                               T- 45  Manhattan      135   \n",
       "186225  41640824           RICURAS ECUADORIAN BAKERY      Bronx     1576   \n",
       "186226  41450971               GIOVANNI'S RESTAURANT      Bronx     3209   \n",
       "\n",
       "                           STREET  ZIPCODE       PHONE CUISINE DESCRIPTION  \\\n",
       "0                        9 AVENUE  10019.0  2129569488             Chicken   \n",
       "1                RIVERDALE AVENUE  10463.0  7187087600            American   \n",
       "2                EAST   58 STREET  10022.0  2128882288  Asian/Asian Fusion   \n",
       "3                EAST   58 STREET  10022.0  2128882288  Asian/Asian Fusion   \n",
       "4       HORACE HARDING EXPRESSWAY  11368.0  7182719222              Donuts   \n",
       "...                           ...      ...         ...                 ...   \n",
       "186222                  BROADFWAY      NaN  2126787701          Hamburgers   \n",
       "186223           WEST   55 STREET  10019.0  9175172283            American   \n",
       "186224           WEST   45 STREET  10036.0  6466403775            American   \n",
       "186225              WATSON AVENUE  10472.0  7184508363             Spanish   \n",
       "186226         WESTCHESTER AVENUE  10461.0  7188924340               Pizza   \n",
       "\n",
       "       INSPECTION DATE                                           ACTION  \\\n",
       "0           01/28/2019  Violations were cited in the following area(s).   \n",
       "1           09/23/2019  Violations were cited in the following area(s).   \n",
       "2           03/11/2020  Violations were cited in the following area(s).   \n",
       "3           03/11/2020  Violations were cited in the following area(s).   \n",
       "4           07/29/2021  Violations were cited in the following area(s).   \n",
       "...                ...                                              ...   \n",
       "186222      03/01/2019  Violations were cited in the following area(s).   \n",
       "186223      06/07/2019  Violations were cited in the following area(s).   \n",
       "186224      07/26/2018  Violations were cited in the following area(s).   \n",
       "186225      07/20/2018  Violations were cited in the following area(s).   \n",
       "186226      06/21/2017  Violations were cited in the following area(s).   \n",
       "\n",
       "       VIOLATION CODE  \\\n",
       "0                 04D   \n",
       "1                 04M   \n",
       "2                 10F   \n",
       "3                 10F   \n",
       "4                 06E   \n",
       "...               ...   \n",
       "186222            10F   \n",
       "186223            08A   \n",
       "186224            10B   \n",
       "186225            06F   \n",
       "186226            06D   \n",
       "\n",
       "                                                                                      VIOLATION DESCRIPTION  \\\n",
       "0       Food worker does not wash hands thoroughly after using the toilet, coughing, sneezing, smoking, ...   \n",
       "1                                            Live roaches present in facility's food and/or non-food areas.   \n",
       "2       Non-food contact surface improperly constructed. Unacceptable material used. Non-food contact su...   \n",
       "3       Non-food contact surface improperly constructed. Unacceptable material used. Non-food contact su...   \n",
       "4       Sanitized equipment or utensil, including in-use food dispensing utensil, improperly used or sto...   \n",
       "...                                                                                                     ...   \n",
       "186222  Non-food contact surface improperly constructed. Unacceptable material used. Non-food contact su...   \n",
       "186223  Facility not vermin proof. Harborage or conditions conducive to attracting vermin to the premise...   \n",
       "186224  Plumbing not properly installed or maintained; anti-siphonage or backflow prevention device not ...   \n",
       "186225                                           Wiping cloths soiled or not stored in sanitizing solution.   \n",
       "186226  Food contact surface not properly washed, rinsed and sanitized after each use and following any ...   \n",
       "\n",
       "       CRITICAL FLAG  SCORE GRADE  GRADE DATE RECORD DATE  \\\n",
       "0           Critical     22   NaN         NaN  03/24/2022   \n",
       "1           Critical     24   NaN         NaN  03/24/2022   \n",
       "2       Not Critical      9   NaN         NaN  03/24/2022   \n",
       "3       Not Critical      9   NaN         NaN  03/24/2022   \n",
       "4           Critical     10     A  07/29/2021  03/24/2022   \n",
       "...              ...    ...   ...         ...         ...   \n",
       "186222  Not Critical      3     A  03/01/2019  03/24/2022   \n",
       "186223  Not Critical     12     A  06/07/2019  03/24/2022   \n",
       "186224  Not Critical     49   NaN         NaN  03/24/2022   \n",
       "186225      Critical     12     A  07/20/2018  03/24/2022   \n",
       "186226      Critical     16   NaN         NaN  03/24/2022   \n",
       "\n",
       "                              INSPECTION TYPE   Latitude  Longitude  \\\n",
       "0       Cycle Inspection / Initial Inspection  40.765040 -73.987795   \n",
       "1       Cycle Inspection / Initial Inspection  40.886691 -73.907056   \n",
       "2       Cycle Inspection / Initial Inspection  40.762786 -73.971486   \n",
       "3       Cycle Inspection / Initial Inspection  40.762786 -73.971486   \n",
       "4       Cycle Inspection / Initial Inspection  40.736185 -73.858052   \n",
       "...                                       ...        ...        ...   \n",
       "186222  Cycle Inspection / Initial Inspection   0.000000   0.000000   \n",
       "186223  Cycle Inspection / Initial Inspection  40.764364 -73.981362   \n",
       "186224  Cycle Inspection / Initial Inspection  40.757244 -73.983815   \n",
       "186225  Cycle Inspection / Initial Inspection  40.826352 -73.876066   \n",
       "186226  Cycle Inspection / Initial Inspection  40.851761 -73.829569   \n",
       "\n",
       "        Community Board  Council District  Census Tract        BIN  \\\n",
       "0                 104.0               3.0       13300.0  1025235.0   \n",
       "1                 208.0              11.0       29500.0  2084186.0   \n",
       "2                 105.0               4.0       11202.0  1036073.0   \n",
       "3                 105.0               4.0       11202.0  1036073.0   \n",
       "4                 404.0              21.0       43702.0  4047915.0   \n",
       "...                 ...               ...           ...        ...   \n",
       "186222              NaN               NaN           NaN        NaN   \n",
       "186223            105.0               4.0       13700.0  1024857.0   \n",
       "186224            105.0               4.0       11900.0  1089796.0   \n",
       "186225            209.0              18.0        5001.0  2023533.0   \n",
       "186226            210.0              13.0       30000.0  2047655.0   \n",
       "\n",
       "                 BBL   NTA      A      B      C  \n",
       "0       1.010430e+09  MN15  False   True  False  \n",
       "1       2.057960e+09  BX29  False   True  False  \n",
       "2       1.012930e+09  MN17   True  False  False  \n",
       "3       1.012930e+09  MN17   True  False  False  \n",
       "4       4.019480e+09  QN25   True  False  False  \n",
       "...              ...   ...    ...    ...    ...  \n",
       "186222  1.000000e+00   NaN   True  False  False  \n",
       "186223  1.010260e+09  MN17   True  False  False  \n",
       "186224  1.009980e+09  MN17  False  False   True  \n",
       "186225  2.037160e+09  BX55   True  False  False  \n",
       "186226  2.042450e+09  BX10  False   True  False  \n",
       "\n",
       "[186214 rows x 29 columns]"
      ]
     },
     "execution_count": 127,
     "metadata": {},
     "output_type": "execute_result"
    }
   ],
   "source": [
    "doh"
   ]
  },
  {
   "cell_type": "code",
   "execution_count": 128,
   "metadata": {
    "ExecuteTime": {
     "end_time": "2022-04-13T17:08:34.524141Z",
     "start_time": "2022-04-13T17:08:34.460245Z"
    }
   },
   "outputs": [],
   "source": [
    "doh['PHONE'] = '+1'+doh['PHONE']"
   ]
  },
  {
   "cell_type": "markdown",
   "metadata": {},
   "source": [
    "Of the 19,792 unique restaurants, 12,221 did not pass the intitial inspections at least once."
   ]
  },
  {
   "cell_type": "code",
   "execution_count": 129,
   "metadata": {
    "ExecuteTime": {
     "end_time": "2022-04-13T17:08:44.563524Z",
     "start_time": "2022-04-13T17:08:44.428513Z"
    }
   },
   "outputs": [],
   "source": [
    "doh_grades = doh.groupby(['CAMIS'])['PHONE','BORO','BUILDING','STREET','ZIPCODE',\n",
    "                                    'PHONE','CUISINE DESCRIPTION',\n",
    "                                    'Latitude','Longitude','Community Board',\n",
    "                                    'Council District','Census Tract',\n",
    "                                    'A', 'B','C'].sum()"
   ]
  },
  {
   "cell_type": "code",
   "execution_count": 130,
   "metadata": {
    "ExecuteTime": {
     "end_time": "2022-04-13T17:08:46.599325Z",
     "start_time": "2022-04-13T17:08:46.565784Z"
    }
   },
   "outputs": [
    {
     "data": {
      "text/html": [
       "<div>\n",
       "<style scoped>\n",
       "    .dataframe tbody tr th:only-of-type {\n",
       "        vertical-align: middle;\n",
       "    }\n",
       "\n",
       "    .dataframe tbody tr th {\n",
       "        vertical-align: top;\n",
       "    }\n",
       "\n",
       "    .dataframe thead th {\n",
       "        text-align: right;\n",
       "    }\n",
       "</style>\n",
       "<table border=\"1\" class=\"dataframe\">\n",
       "  <thead>\n",
       "    <tr style=\"text-align: right;\">\n",
       "      <th></th>\n",
       "      <th>ZIPCODE</th>\n",
       "      <th>Latitude</th>\n",
       "      <th>Longitude</th>\n",
       "      <th>Community Board</th>\n",
       "      <th>Council District</th>\n",
       "      <th>Census Tract</th>\n",
       "      <th>A</th>\n",
       "      <th>B</th>\n",
       "      <th>C</th>\n",
       "    </tr>\n",
       "    <tr>\n",
       "      <th>CAMIS</th>\n",
       "      <th></th>\n",
       "      <th></th>\n",
       "      <th></th>\n",
       "      <th></th>\n",
       "      <th></th>\n",
       "      <th></th>\n",
       "      <th></th>\n",
       "      <th></th>\n",
       "      <th></th>\n",
       "    </tr>\n",
       "  </thead>\n",
       "  <tbody>\n",
       "    <tr>\n",
       "      <th>30075445</th>\n",
       "      <td>83696.0</td>\n",
       "      <td>326.785850</td>\n",
       "      <td>-590.847775</td>\n",
       "      <td>1688.0</td>\n",
       "      <td>104.0</td>\n",
       "      <td>201600.0</td>\n",
       "      <td>1</td>\n",
       "      <td>7</td>\n",
       "      <td>0</td>\n",
       "    </tr>\n",
       "    <tr>\n",
       "      <th>30112340</th>\n",
       "      <td>56125.0</td>\n",
       "      <td>203.313258</td>\n",
       "      <td>-369.810407</td>\n",
       "      <td>1545.0</td>\n",
       "      <td>200.0</td>\n",
       "      <td>163500.0</td>\n",
       "      <td>5</td>\n",
       "      <td>0</td>\n",
       "      <td>0</td>\n",
       "    </tr>\n",
       "    <tr>\n",
       "      <th>30191841</th>\n",
       "      <td>50095.0</td>\n",
       "      <td>203.836629</td>\n",
       "      <td>-369.921552</td>\n",
       "      <td>520.0</td>\n",
       "      <td>15.0</td>\n",
       "      <td>69500.0</td>\n",
       "      <td>5</td>\n",
       "      <td>0</td>\n",
       "      <td>0</td>\n",
       "    </tr>\n",
       "    <tr>\n",
       "      <th>40356018</th>\n",
       "      <td>44896.0</td>\n",
       "      <td>162.319681</td>\n",
       "      <td>-295.928361</td>\n",
       "      <td>1252.0</td>\n",
       "      <td>188.0</td>\n",
       "      <td>139200.0</td>\n",
       "      <td>4</td>\n",
       "      <td>0</td>\n",
       "      <td>0</td>\n",
       "    </tr>\n",
       "    <tr>\n",
       "      <th>40356483</th>\n",
       "      <td>101106.0</td>\n",
       "      <td>365.581004</td>\n",
       "      <td>-665.162905</td>\n",
       "      <td>2862.0</td>\n",
       "      <td>414.0</td>\n",
       "      <td>630000.0</td>\n",
       "      <td>5</td>\n",
       "      <td>4</td>\n",
       "      <td>0</td>\n",
       "    </tr>\n",
       "    <tr>\n",
       "      <th>...</th>\n",
       "      <td>...</td>\n",
       "      <td>...</td>\n",
       "      <td>...</td>\n",
       "      <td>...</td>\n",
       "      <td>...</td>\n",
       "      <td>...</td>\n",
       "      <td>...</td>\n",
       "      <td>...</td>\n",
       "      <td>...</td>\n",
       "    </tr>\n",
       "    <tr>\n",
       "      <th>50115169</th>\n",
       "      <td>10002.0</td>\n",
       "      <td>40.714841</td>\n",
       "      <td>-73.991700</td>\n",
       "      <td>103.0</td>\n",
       "      <td>1.0</td>\n",
       "      <td>1600.0</td>\n",
       "      <td>1</td>\n",
       "      <td>0</td>\n",
       "      <td>0</td>\n",
       "    </tr>\n",
       "    <tr>\n",
       "      <th>50116155</th>\n",
       "      <td>33699.0</td>\n",
       "      <td>122.051758</td>\n",
       "      <td>-221.752145</td>\n",
       "      <td>948.0</td>\n",
       "      <td>123.0</td>\n",
       "      <td>111900.0</td>\n",
       "      <td>3</td>\n",
       "      <td>0</td>\n",
       "      <td>0</td>\n",
       "    </tr>\n",
       "    <tr>\n",
       "      <th>50117350</th>\n",
       "      <td>50090.0</td>\n",
       "      <td>203.762660</td>\n",
       "      <td>-369.947575</td>\n",
       "      <td>525.0</td>\n",
       "      <td>15.0</td>\n",
       "      <td>54500.0</td>\n",
       "      <td>5</td>\n",
       "      <td>0</td>\n",
       "      <td>0</td>\n",
       "    </tr>\n",
       "    <tr>\n",
       "      <th>50117434</th>\n",
       "      <td>79604.0</td>\n",
       "      <td>285.289075</td>\n",
       "      <td>-517.196049</td>\n",
       "      <td>2821.0</td>\n",
       "      <td>175.0</td>\n",
       "      <td>228900.0</td>\n",
       "      <td>0</td>\n",
       "      <td>0</td>\n",
       "      <td>7</td>\n",
       "    </tr>\n",
       "    <tr>\n",
       "      <th>50117959</th>\n",
       "      <td>30087.0</td>\n",
       "      <td>122.371566</td>\n",
       "      <td>-221.827553</td>\n",
       "      <td>333.0</td>\n",
       "      <td>24.0</td>\n",
       "      <td>51000.0</td>\n",
       "      <td>3</td>\n",
       "      <td>0</td>\n",
       "      <td>0</td>\n",
       "    </tr>\n",
       "  </tbody>\n",
       "</table>\n",
       "<p>19790 rows × 9 columns</p>\n",
       "</div>"
      ],
      "text/plain": [
       "           ZIPCODE    Latitude   Longitude  Community Board  Council District  \\\n",
       "CAMIS                                                                           \n",
       "30075445   83696.0  326.785850 -590.847775           1688.0             104.0   \n",
       "30112340   56125.0  203.313258 -369.810407           1545.0             200.0   \n",
       "30191841   50095.0  203.836629 -369.921552            520.0              15.0   \n",
       "40356018   44896.0  162.319681 -295.928361           1252.0             188.0   \n",
       "40356483  101106.0  365.581004 -665.162905           2862.0             414.0   \n",
       "...            ...         ...         ...              ...               ...   \n",
       "50115169   10002.0   40.714841  -73.991700            103.0               1.0   \n",
       "50116155   33699.0  122.051758 -221.752145            948.0             123.0   \n",
       "50117350   50090.0  203.762660 -369.947575            525.0              15.0   \n",
       "50117434   79604.0  285.289075 -517.196049           2821.0             175.0   \n",
       "50117959   30087.0  122.371566 -221.827553            333.0              24.0   \n",
       "\n",
       "          Census Tract  A  B  C  \n",
       "CAMIS                            \n",
       "30075445      201600.0  1  7  0  \n",
       "30112340      163500.0  5  0  0  \n",
       "30191841       69500.0  5  0  0  \n",
       "40356018      139200.0  4  0  0  \n",
       "40356483      630000.0  5  4  0  \n",
       "...                ... .. .. ..  \n",
       "50115169        1600.0  1  0  0  \n",
       "50116155      111900.0  3  0  0  \n",
       "50117350       54500.0  5  0  0  \n",
       "50117434      228900.0  0  0  7  \n",
       "50117959       51000.0  3  0  0  \n",
       "\n",
       "[19790 rows x 9 columns]"
      ]
     },
     "execution_count": 130,
     "metadata": {},
     "output_type": "execute_result"
    }
   ],
   "source": [
    "doh_grades"
   ]
  },
  {
   "cell_type": "code",
   "execution_count": 133,
   "metadata": {
    "ExecuteTime": {
     "end_time": "2022-04-13T17:09:31.567720Z",
     "start_time": "2022-04-13T17:09:31.541780Z"
    }
   },
   "outputs": [
    {
     "data": {
      "text/html": [
       "<div>\n",
       "<style scoped>\n",
       "    .dataframe tbody tr th:only-of-type {\n",
       "        vertical-align: middle;\n",
       "    }\n",
       "\n",
       "    .dataframe tbody tr th {\n",
       "        vertical-align: top;\n",
       "    }\n",
       "\n",
       "    .dataframe thead th {\n",
       "        text-align: right;\n",
       "    }\n",
       "</style>\n",
       "<table border=\"1\" class=\"dataframe\">\n",
       "  <thead>\n",
       "    <tr style=\"text-align: right;\">\n",
       "      <th></th>\n",
       "      <th>ZIPCODE</th>\n",
       "      <th>Latitude</th>\n",
       "      <th>Longitude</th>\n",
       "      <th>Community Board</th>\n",
       "      <th>Council District</th>\n",
       "      <th>Census Tract</th>\n",
       "      <th>A</th>\n",
       "      <th>B</th>\n",
       "      <th>C</th>\n",
       "    </tr>\n",
       "    <tr>\n",
       "      <th>CAMIS</th>\n",
       "      <th></th>\n",
       "      <th></th>\n",
       "      <th></th>\n",
       "      <th></th>\n",
       "      <th></th>\n",
       "      <th></th>\n",
       "      <th></th>\n",
       "      <th></th>\n",
       "      <th></th>\n",
       "    </tr>\n",
       "  </thead>\n",
       "  <tbody>\n",
       "    <tr>\n",
       "      <th>30075445</th>\n",
       "      <td>83696.0</td>\n",
       "      <td>326.785850</td>\n",
       "      <td>-590.847775</td>\n",
       "      <td>1688.0</td>\n",
       "      <td>104.0</td>\n",
       "      <td>201600.0</td>\n",
       "      <td>1</td>\n",
       "      <td>7</td>\n",
       "      <td>0</td>\n",
       "    </tr>\n",
       "    <tr>\n",
       "      <th>40356483</th>\n",
       "      <td>101106.0</td>\n",
       "      <td>365.581004</td>\n",
       "      <td>-665.162905</td>\n",
       "      <td>2862.0</td>\n",
       "      <td>414.0</td>\n",
       "      <td>630000.0</td>\n",
       "      <td>5</td>\n",
       "      <td>4</td>\n",
       "      <td>0</td>\n",
       "    </tr>\n",
       "    <tr>\n",
       "      <th>40362264</th>\n",
       "      <td>70175.0</td>\n",
       "      <td>285.548344</td>\n",
       "      <td>-517.773967</td>\n",
       "      <td>749.0</td>\n",
       "      <td>42.0</td>\n",
       "      <td>126700.0</td>\n",
       "      <td>3</td>\n",
       "      <td>4</td>\n",
       "      <td>0</td>\n",
       "    </tr>\n",
       "    <tr>\n",
       "      <th>40362274</th>\n",
       "      <td>70084.0</td>\n",
       "      <td>285.080205</td>\n",
       "      <td>-517.982347</td>\n",
       "      <td>714.0</td>\n",
       "      <td>7.0</td>\n",
       "      <td>38507.0</td>\n",
       "      <td>1</td>\n",
       "      <td>6</td>\n",
       "      <td>0</td>\n",
       "    </tr>\n",
       "    <tr>\n",
       "      <th>40362715</th>\n",
       "      <td>230115.0</td>\n",
       "      <td>936.235858</td>\n",
       "      <td>-1702.198016</td>\n",
       "      <td>2323.0</td>\n",
       "      <td>23.0</td>\n",
       "      <td>16100.0</td>\n",
       "      <td>7</td>\n",
       "      <td>11</td>\n",
       "      <td>5</td>\n",
       "    </tr>\n",
       "    <tr>\n",
       "      <th>...</th>\n",
       "      <td>...</td>\n",
       "      <td>...</td>\n",
       "      <td>...</td>\n",
       "      <td>...</td>\n",
       "      <td>...</td>\n",
       "      <td>...</td>\n",
       "      <td>...</td>\n",
       "      <td>...</td>\n",
       "      <td>...</td>\n",
       "    </tr>\n",
       "    <tr>\n",
       "      <th>50111805</th>\n",
       "      <td>30042.0</td>\n",
       "      <td>122.195939</td>\n",
       "      <td>-222.011203</td>\n",
       "      <td>306.0</td>\n",
       "      <td>9.0</td>\n",
       "      <td>20100.0</td>\n",
       "      <td>0</td>\n",
       "      <td>3</td>\n",
       "      <td>0</td>\n",
       "    </tr>\n",
       "    <tr>\n",
       "      <th>50113198</th>\n",
       "      <td>40008.0</td>\n",
       "      <td>162.854183</td>\n",
       "      <td>-295.984590</td>\n",
       "      <td>412.0</td>\n",
       "      <td>4.0</td>\n",
       "      <td>3200.0</td>\n",
       "      <td>0</td>\n",
       "      <td>4</td>\n",
       "      <td>0</td>\n",
       "    </tr>\n",
       "    <tr>\n",
       "      <th>50113951</th>\n",
       "      <td>41820.0</td>\n",
       "      <td>163.249463</td>\n",
       "      <td>-295.613108</td>\n",
       "      <td>808.0</td>\n",
       "      <td>32.0</td>\n",
       "      <td>33200.0</td>\n",
       "      <td>0</td>\n",
       "      <td>4</td>\n",
       "      <td>0</td>\n",
       "    </tr>\n",
       "    <tr>\n",
       "      <th>50113984</th>\n",
       "      <td>30081.0</td>\n",
       "      <td>122.429129</td>\n",
       "      <td>-221.880270</td>\n",
       "      <td>327.0</td>\n",
       "      <td>21.0</td>\n",
       "      <td>60900.0</td>\n",
       "      <td>0</td>\n",
       "      <td>3</td>\n",
       "      <td>0</td>\n",
       "    </tr>\n",
       "    <tr>\n",
       "      <th>50114370</th>\n",
       "      <td>33639.0</td>\n",
       "      <td>121.993404</td>\n",
       "      <td>-221.794553</td>\n",
       "      <td>927.0</td>\n",
       "      <td>123.0</td>\n",
       "      <td>106500.0</td>\n",
       "      <td>0</td>\n",
       "      <td>3</td>\n",
       "      <td>0</td>\n",
       "    </tr>\n",
       "  </tbody>\n",
       "</table>\n",
       "<p>9977 rows × 9 columns</p>\n",
       "</div>"
      ],
      "text/plain": [
       "           ZIPCODE    Latitude    Longitude  Community Board  \\\n",
       "CAMIS                                                          \n",
       "30075445   83696.0  326.785850  -590.847775           1688.0   \n",
       "40356483  101106.0  365.581004  -665.162905           2862.0   \n",
       "40362264   70175.0  285.548344  -517.773967            749.0   \n",
       "40362274   70084.0  285.080205  -517.982347            714.0   \n",
       "40362715  230115.0  936.235858 -1702.198016           2323.0   \n",
       "...            ...         ...          ...              ...   \n",
       "50111805   30042.0  122.195939  -222.011203            306.0   \n",
       "50113198   40008.0  162.854183  -295.984590            412.0   \n",
       "50113951   41820.0  163.249463  -295.613108            808.0   \n",
       "50113984   30081.0  122.429129  -221.880270            327.0   \n",
       "50114370   33639.0  121.993404  -221.794553            927.0   \n",
       "\n",
       "          Council District  Census Tract  A   B  C  \n",
       "CAMIS                                               \n",
       "30075445             104.0      201600.0  1   7  0  \n",
       "40356483             414.0      630000.0  5   4  0  \n",
       "40362264              42.0      126700.0  3   4  0  \n",
       "40362274               7.0       38507.0  1   6  0  \n",
       "40362715              23.0       16100.0  7  11  5  \n",
       "...                    ...           ... ..  .. ..  \n",
       "50111805               9.0       20100.0  0   3  0  \n",
       "50113198               4.0        3200.0  0   4  0  \n",
       "50113951              32.0       33200.0  0   4  0  \n",
       "50113984              21.0       60900.0  0   3  0  \n",
       "50114370             123.0      106500.0  0   3  0  \n",
       "\n",
       "[9977 rows x 9 columns]"
      ]
     },
     "execution_count": 133,
     "metadata": {},
     "output_type": "execute_result"
    }
   ],
   "source": [
    "doh_grades[doh_grades['B'] > 0]"
   ]
  },
  {
   "cell_type": "markdown",
   "metadata": {},
   "source": [
    "Of the 19,792 unique restaurants, 9,978 failed an initial cycle inspection at least once."
   ]
  },
  {
   "cell_type": "code",
   "execution_count": 132,
   "metadata": {
    "ExecuteTime": {
     "end_time": "2022-04-13T17:09:08.867808Z",
     "start_time": "2022-04-13T17:09:08.833131Z"
    }
   },
   "outputs": [
    {
     "data": {
      "text/html": [
       "<div>\n",
       "<style scoped>\n",
       "    .dataframe tbody tr th:only-of-type {\n",
       "        vertical-align: middle;\n",
       "    }\n",
       "\n",
       "    .dataframe tbody tr th {\n",
       "        vertical-align: top;\n",
       "    }\n",
       "\n",
       "    .dataframe thead th {\n",
       "        text-align: right;\n",
       "    }\n",
       "</style>\n",
       "<table border=\"1\" class=\"dataframe\">\n",
       "  <thead>\n",
       "    <tr style=\"text-align: right;\">\n",
       "      <th></th>\n",
       "      <th>ZIPCODE</th>\n",
       "      <th>Latitude</th>\n",
       "      <th>Longitude</th>\n",
       "      <th>Community Board</th>\n",
       "      <th>Council District</th>\n",
       "      <th>Census Tract</th>\n",
       "      <th>A</th>\n",
       "      <th>B</th>\n",
       "      <th>C</th>\n",
       "    </tr>\n",
       "    <tr>\n",
       "      <th>CAMIS</th>\n",
       "      <th></th>\n",
       "      <th></th>\n",
       "      <th></th>\n",
       "      <th></th>\n",
       "      <th></th>\n",
       "      <th></th>\n",
       "      <th></th>\n",
       "      <th></th>\n",
       "      <th></th>\n",
       "    </tr>\n",
       "  </thead>\n",
       "  <tbody>\n",
       "    <tr>\n",
       "      <th>40360076</th>\n",
       "      <td>112180.0</td>\n",
       "      <td>406.433297</td>\n",
       "      <td>-739.781887</td>\n",
       "      <td>3120.0</td>\n",
       "      <td>390.0</td>\n",
       "      <td>496000.0</td>\n",
       "      <td>4</td>\n",
       "      <td>0</td>\n",
       "      <td>6</td>\n",
       "    </tr>\n",
       "    <tr>\n",
       "      <th>40362715</th>\n",
       "      <td>230115.0</td>\n",
       "      <td>936.235858</td>\n",
       "      <td>-1702.198016</td>\n",
       "      <td>2323.0</td>\n",
       "      <td>23.0</td>\n",
       "      <td>16100.0</td>\n",
       "      <td>7</td>\n",
       "      <td>11</td>\n",
       "      <td>5</td>\n",
       "    </tr>\n",
       "    <tr>\n",
       "      <th>40363630</th>\n",
       "      <td>200560.0</td>\n",
       "      <td>815.505622</td>\n",
       "      <td>-1479.131518</td>\n",
       "      <td>2160.0</td>\n",
       "      <td>100.0</td>\n",
       "      <td>280000.0</td>\n",
       "      <td>2</td>\n",
       "      <td>11</td>\n",
       "      <td>7</td>\n",
       "    </tr>\n",
       "    <tr>\n",
       "      <th>40364179</th>\n",
       "      <td>190475.0</td>\n",
       "      <td>775.226054</td>\n",
       "      <td>-1405.243039</td>\n",
       "      <td>2033.0</td>\n",
       "      <td>133.0</td>\n",
       "      <td>366700.0</td>\n",
       "      <td>3</td>\n",
       "      <td>5</td>\n",
       "      <td>11</td>\n",
       "    </tr>\n",
       "    <tr>\n",
       "      <th>40364362</th>\n",
       "      <td>120228.0</td>\n",
       "      <td>489.124894</td>\n",
       "      <td>-887.733038</td>\n",
       "      <td>1260.0</td>\n",
       "      <td>48.0</td>\n",
       "      <td>124800.0</td>\n",
       "      <td>3</td>\n",
       "      <td>3</td>\n",
       "      <td>6</td>\n",
       "    </tr>\n",
       "    <tr>\n",
       "      <th>...</th>\n",
       "      <td>...</td>\n",
       "      <td>...</td>\n",
       "      <td>...</td>\n",
       "      <td>...</td>\n",
       "      <td>...</td>\n",
       "      <td>...</td>\n",
       "      <td>...</td>\n",
       "      <td>...</td>\n",
       "      <td>...</td>\n",
       "    </tr>\n",
       "    <tr>\n",
       "      <th>50110216</th>\n",
       "      <td>79604.0</td>\n",
       "      <td>285.233461</td>\n",
       "      <td>-517.186091</td>\n",
       "      <td>2828.0</td>\n",
       "      <td>147.0</td>\n",
       "      <td>188307.0</td>\n",
       "      <td>0</td>\n",
       "      <td>0</td>\n",
       "      <td>7</td>\n",
       "    </tr>\n",
       "    <tr>\n",
       "      <th>50112974</th>\n",
       "      <td>70049.0</td>\n",
       "      <td>285.004311</td>\n",
       "      <td>-518.044896</td>\n",
       "      <td>707.0</td>\n",
       "      <td>7.0</td>\n",
       "      <td>14700.0</td>\n",
       "      <td>0</td>\n",
       "      <td>0</td>\n",
       "      <td>7</td>\n",
       "    </tr>\n",
       "    <tr>\n",
       "      <th>50113139</th>\n",
       "      <td>100926.0</td>\n",
       "      <td>365.433842</td>\n",
       "      <td>-665.981428</td>\n",
       "      <td>2799.0</td>\n",
       "      <td>423.0</td>\n",
       "      <td>259200.0</td>\n",
       "      <td>0</td>\n",
       "      <td>0</td>\n",
       "      <td>9</td>\n",
       "    </tr>\n",
       "    <tr>\n",
       "      <th>50113991</th>\n",
       "      <td>60162.0</td>\n",
       "      <td>244.858259</td>\n",
       "      <td>-443.760539</td>\n",
       "      <td>654.0</td>\n",
       "      <td>42.0</td>\n",
       "      <td>121800.0</td>\n",
       "      <td>0</td>\n",
       "      <td>0</td>\n",
       "      <td>6</td>\n",
       "    </tr>\n",
       "    <tr>\n",
       "      <th>50117434</th>\n",
       "      <td>79604.0</td>\n",
       "      <td>285.289075</td>\n",
       "      <td>-517.196049</td>\n",
       "      <td>2821.0</td>\n",
       "      <td>175.0</td>\n",
       "      <td>228900.0</td>\n",
       "      <td>0</td>\n",
       "      <td>0</td>\n",
       "      <td>7</td>\n",
       "    </tr>\n",
       "  </tbody>\n",
       "</table>\n",
       "<p>5648 rows × 9 columns</p>\n",
       "</div>"
      ],
      "text/plain": [
       "           ZIPCODE    Latitude    Longitude  Community Board  \\\n",
       "CAMIS                                                          \n",
       "40360076  112180.0  406.433297  -739.781887           3120.0   \n",
       "40362715  230115.0  936.235858 -1702.198016           2323.0   \n",
       "40363630  200560.0  815.505622 -1479.131518           2160.0   \n",
       "40364179  190475.0  775.226054 -1405.243039           2033.0   \n",
       "40364362  120228.0  489.124894  -887.733038           1260.0   \n",
       "...            ...         ...          ...              ...   \n",
       "50110216   79604.0  285.233461  -517.186091           2828.0   \n",
       "50112974   70049.0  285.004311  -518.044896            707.0   \n",
       "50113139  100926.0  365.433842  -665.981428           2799.0   \n",
       "50113991   60162.0  244.858259  -443.760539            654.0   \n",
       "50117434   79604.0  285.289075  -517.196049           2821.0   \n",
       "\n",
       "          Council District  Census Tract  A   B   C  \n",
       "CAMIS                                                \n",
       "40360076             390.0      496000.0  4   0   6  \n",
       "40362715              23.0       16100.0  7  11   5  \n",
       "40363630             100.0      280000.0  2  11   7  \n",
       "40364179             133.0      366700.0  3   5  11  \n",
       "40364362              48.0      124800.0  3   3   6  \n",
       "...                    ...           ... ..  ..  ..  \n",
       "50110216             147.0      188307.0  0   0   7  \n",
       "50112974               7.0       14700.0  0   0   7  \n",
       "50113139             423.0      259200.0  0   0   9  \n",
       "50113991              42.0      121800.0  0   0   6  \n",
       "50117434             175.0      228900.0  0   0   7  \n",
       "\n",
       "[5648 rows x 9 columns]"
      ]
     },
     "execution_count": 132,
     "metadata": {},
     "output_type": "execute_result"
    }
   ],
   "source": [
    "doh_grades[doh_grades['C'] > 0]"
   ]
  },
  {
   "cell_type": "markdown",
   "metadata": {},
   "source": [
    "Of the 19,792 unique restaurants, 5,648 severly failed an initial cycle inspection at least once and are at risk of being closed by the DOHMH."
   ]
  },
  {
   "cell_type": "code",
   "execution_count": 134,
   "metadata": {
    "ExecuteTime": {
     "end_time": "2022-04-13T17:10:23.189704Z",
     "start_time": "2022-04-13T17:10:22.468092Z"
    }
   },
   "outputs": [
    {
     "data": {
      "text/plain": [
       "11502"
      ]
     },
     "execution_count": 134,
     "metadata": {},
     "output_type": "execute_result"
    }
   ],
   "source": [
    "doh.duplicated().sum()"
   ]
  },
  {
   "cell_type": "code",
   "execution_count": 135,
   "metadata": {
    "ExecuteTime": {
     "end_time": "2022-04-13T17:10:27.080054Z",
     "start_time": "2022-04-13T17:10:26.225059Z"
    }
   },
   "outputs": [],
   "source": [
    "doh.drop_duplicates(inplace=True)"
   ]
  },
  {
   "cell_type": "code",
   "execution_count": 136,
   "metadata": {
    "ExecuteTime": {
     "end_time": "2022-04-13T17:10:27.762440Z",
     "start_time": "2022-04-13T17:10:27.754708Z"
    }
   },
   "outputs": [
    {
     "data": {
      "text/plain": [
       "(174712, 29)"
      ]
     },
     "execution_count": 136,
     "metadata": {},
     "output_type": "execute_result"
    }
   ],
   "source": [
    "doh.shape"
   ]
  },
  {
   "cell_type": "code",
   "execution_count": 137,
   "metadata": {
    "ExecuteTime": {
     "end_time": "2022-04-13T17:10:30.463785Z",
     "start_time": "2022-04-13T17:10:30.454255Z"
    }
   },
   "outputs": [
    {
     "data": {
      "text/plain": [
       "0"
      ]
     },
     "execution_count": 137,
     "metadata": {},
     "output_type": "execute_result"
    }
   ],
   "source": [
    "doh['SCORE'].isna().sum()"
   ]
  },
  {
   "cell_type": "code",
   "execution_count": null,
   "metadata": {
    "ExecuteTime": {
     "end_time": "2022-03-26T00:43:44.952194Z",
     "start_time": "2022-03-26T00:43:44.318734Z"
    }
   },
   "outputs": [],
   "source": [
    "doh['SCORE'].hist(bins=113, figsize=(12,8));"
   ]
  },
  {
   "cell_type": "code",
   "execution_count": null,
   "metadata": {
    "ExecuteTime": {
     "end_time": "2022-03-26T00:43:46.040149Z",
     "start_time": "2022-03-26T00:43:46.018190Z"
    }
   },
   "outputs": [],
   "source": [
    "doh['SCORE'].value_counts()"
   ]
  },
  {
   "cell_type": "code",
   "execution_count": null,
   "metadata": {
    "ExecuteTime": {
     "end_time": "2022-03-26T00:43:55.538283Z",
     "start_time": "2022-03-26T00:43:55.527840Z"
    }
   },
   "outputs": [],
   "source": [
    "doh['SCORE'].mean()"
   ]
  },
  {
   "cell_type": "code",
   "execution_count": null,
   "metadata": {
    "ExecuteTime": {
     "end_time": "2022-03-26T00:43:56.340926Z",
     "start_time": "2022-03-26T00:43:56.320324Z"
    }
   },
   "outputs": [],
   "source": [
    "doh['SCORE'].median()"
   ]
  },
  {
   "cell_type": "code",
   "execution_count": null,
   "metadata": {
    "ExecuteTime": {
     "end_time": "2022-03-26T00:43:57.150869Z",
     "start_time": "2022-03-26T00:43:57.134478Z"
    }
   },
   "outputs": [],
   "source": [
    "doh['SCORE'].mode()"
   ]
  },
  {
   "cell_type": "code",
   "execution_count": null,
   "metadata": {
    "ExecuteTime": {
     "end_time": "2022-03-26T00:43:59.815226Z",
     "start_time": "2022-03-26T00:43:59.794722Z"
    }
   },
   "outputs": [],
   "source": [
    "doh['GRADE'].isna().sum()"
   ]
  },
  {
   "cell_type": "code",
   "execution_count": null,
   "metadata": {
    "ExecuteTime": {
     "end_time": "2022-03-25T18:42:20.540069Z",
     "start_time": "2022-03-25T18:42:20.473413Z"
    }
   },
   "outputs": [],
   "source": [
    "doh['GRADE'].value_counts()"
   ]
  },
  {
   "cell_type": "code",
   "execution_count": null,
   "metadata": {
    "ExecuteTime": {
     "end_time": "2022-03-25T18:30:39.271881Z",
     "start_time": "2022-03-25T18:30:39.033137Z"
    }
   },
   "outputs": [],
   "source": [
    "doh.info()"
   ]
  },
  {
   "cell_type": "code",
   "execution_count": null,
   "metadata": {
    "ExecuteTime": {
     "end_time": "2022-03-26T00:33:04.431419Z",
     "start_time": "2022-03-26T00:33:03.703544Z"
    }
   },
   "outputs": [],
   "source": [
    "doh['INSPECTION DATE'] =  pd.to_datetime(doh['INSPECTION DATE'])"
   ]
  },
  {
   "cell_type": "code",
   "execution_count": null,
   "metadata": {
    "ExecuteTime": {
     "end_time": "2022-03-26T00:42:54.549470Z",
     "start_time": "2022-03-26T00:42:54.522854Z"
    }
   },
   "outputs": [],
   "source": [
    "# doh.pivot(columns=['CAMIS','INSPECTION DATE'],values='SCORE')"
   ]
  },
  {
   "cell_type": "code",
   "execution_count": null,
   "metadata": {},
   "outputs": [],
   "source": []
  },
  {
   "cell_type": "markdown",
   "metadata": {},
   "source": [
    "The New York Health Department inspects the approximately 27,000 restaurants within the city to monitor their compliance with food safety regulations. Inspectors observe how food is prepared, served and stored and whether restaurant workers are practicing good hygiene. They check food temperatures, equipment maintenance and pest control measures."
   ]
  },
  {
   "cell_type": "markdown",
   "metadata": {},
   "source": [
    "Calling API"
   ]
  },
  {
   "cell_type": "code",
   "execution_count": null,
   "metadata": {
    "ExecuteTime": {
     "end_time": "2022-03-25T16:51:41.595774Z",
     "start_time": "2022-03-25T16:51:40.363098Z"
    }
   },
   "outputs": [],
   "source": [
    "dohmh_df['score'].hist(bins='auto', figsize=(12,8));"
   ]
  },
  {
   "cell_type": "code",
   "execution_count": null,
   "metadata": {
    "ExecuteTime": {
     "end_time": "2022-03-23T14:15:24.838006Z",
     "start_time": "2022-03-23T14:15:23.353483Z"
    },
    "scrolled": true
   },
   "outputs": [],
   "source": [
    "# # Take a look at duplicated records\n",
    "# duplicates = df1.duplicated(subset=['camis'], keep=False)\n",
    "# df1.loc[duplicates.loc[duplicates==True].index].sort_values(by='camis')"
   ]
  },
  {
   "cell_type": "markdown",
   "metadata": {},
   "source": [
    "## Yelp API"
   ]
  },
  {
   "cell_type": "code",
   "execution_count": 8,
   "metadata": {
    "ExecuteTime": {
     "end_time": "2022-04-12T22:00:01.528856Z",
     "start_time": "2022-04-12T22:00:01.523046Z"
    }
   },
   "outputs": [],
   "source": [
    "with open('/Users/Rob/.secret/yelp_api.json') as f:\n",
    "    creds = json.load(f)"
   ]
  },
  {
   "cell_type": "code",
   "execution_count": 9,
   "metadata": {
    "ExecuteTime": {
     "end_time": "2022-04-12T22:00:03.772875Z",
     "start_time": "2022-04-12T22:00:03.761462Z"
    }
   },
   "outputs": [
    {
     "data": {
      "text/plain": [
       "dict_keys(['api_key'])"
      ]
     },
     "execution_count": 9,
     "metadata": {},
     "output_type": "execute_result"
    }
   ],
   "source": [
    "creds.keys()"
   ]
  },
  {
   "cell_type": "code",
   "execution_count": 10,
   "metadata": {
    "ExecuteTime": {
     "end_time": "2022-04-12T22:00:12.138716Z",
     "start_time": "2022-04-12T22:00:12.133805Z"
    }
   },
   "outputs": [],
   "source": [
    "#Business Search      \n",
    "# url = 'https://api.yelp.com/v3/businesses/search'\n",
    "\n",
    "#Business Match       \n",
    "# url = 'https://api.yelp.com/v3/businesses/matches'\n",
    "\n",
    "#Phone Search         \n",
    "url = 'https://api.yelp.com/v3/businesses/search/phone'\n",
    "\n",
    "#Business Details     \n",
    "# url = 'https://api.yelp.com/v3/businesses/{id}'\n",
    "\n",
    "#Business Reviews     \n",
    "# url = 'https://api.yelp.com/v3/businesses/{id}/reviews'"
   ]
  },
  {
   "cell_type": "code",
   "execution_count": null,
   "metadata": {
    "ExecuteTime": {
     "end_time": "2022-04-12T17:40:46.110231Z",
     "start_time": "2022-04-12T17:40:45.431775Z"
    }
   },
   "outputs": [],
   "source": [
    "# #Business Search  \n",
    "# headers = {\n",
    "#     'Authorization': 'Bearer ' + creds['api_key']\n",
    "#           }\n",
    "# location = 'New York NY'\n",
    "# SEARCH_LIMIT = 50\n",
    "\n",
    "# url_params = {\n",
    "#     'limit': SEARCH_LIMIT,\n",
    "#     'location' : location.replace(' ','+'),\n",
    "#     'offset': 0\n",
    "#              }\n",
    "\n",
    "\n",
    "# response = requests.get(url, headers=headers, params=url_params)\n",
    "# print(response.status_code)"
   ]
  },
  {
   "cell_type": "code",
   "execution_count": 140,
   "metadata": {
    "ExecuteTime": {
     "end_time": "2022-04-13T17:14:10.707782Z",
     "start_time": "2022-04-13T17:14:10.699345Z"
    }
   },
   "outputs": [
    {
     "data": {
      "text/plain": [
       "['+12129569488',\n",
       " '+17187087600',\n",
       " '+12128882288',\n",
       " '+12128882288',\n",
       " '+17182719222']"
      ]
     },
     "execution_count": 140,
     "metadata": {},
     "output_type": "execute_result"
    }
   ],
   "source": [
    "phones = list(top_doh['PHONE'])\n",
    "phones"
   ]
  },
  {
   "cell_type": "code",
   "execution_count": 73,
   "metadata": {
    "ExecuteTime": {
     "end_time": "2022-04-13T16:32:06.324632Z",
     "start_time": "2022-04-13T16:32:06.127121Z"
    }
   },
   "outputs": [],
   "source": [
    "phone_numbers = set(doh['PHONE'])"
   ]
  },
  {
   "cell_type": "code",
   "execution_count": 74,
   "metadata": {
    "ExecuteTime": {
     "end_time": "2022-04-13T16:32:21.037480Z",
     "start_time": "2022-04-13T16:32:21.028623Z"
    }
   },
   "outputs": [
    {
     "data": {
      "text/plain": [
       "18938"
      ]
     },
     "execution_count": 74,
     "metadata": {},
     "output_type": "execute_result"
    }
   ],
   "source": [
    "len(phone_numbers)"
   ]
  },
  {
   "cell_type": "code",
   "execution_count": 154,
   "metadata": {
    "ExecuteTime": {
     "end_time": "2022-04-13T17:20:35.201573Z",
     "start_time": "2022-04-13T17:20:35.195696Z"
    }
   },
   "outputs": [],
   "source": [
    "phone_numbers = list(phone_numbers)"
   ]
  },
  {
   "cell_type": "code",
   "execution_count": 155,
   "metadata": {
    "ExecuteTime": {
     "end_time": "2022-04-13T17:20:35.882683Z",
     "start_time": "2022-04-13T17:20:35.878245Z"
    }
   },
   "outputs": [],
   "source": [
    "phone_numbers1 = phone_numbers[1:1000]"
   ]
  },
  {
   "cell_type": "code",
   "execution_count": 199,
   "metadata": {
    "ExecuteTime": {
     "end_time": "2022-04-13T17:55:34.146965Z",
     "start_time": "2022-04-13T17:55:34.138277Z"
    }
   },
   "outputs": [],
   "source": [
    "phone_numbers2 = phone_numbers[1000:2000]"
   ]
  },
  {
   "cell_type": "code",
   "execution_count": 235,
   "metadata": {
    "ExecuteTime": {
     "end_time": "2022-04-14T02:20:00.268122Z",
     "start_time": "2022-04-14T02:20:00.258854Z"
    }
   },
   "outputs": [],
   "source": [
    "phone_numbers3 = phone_numbers[2000:2500]"
   ]
  },
  {
   "cell_type": "code",
   "execution_count": 236,
   "metadata": {
    "ExecuteTime": {
     "end_time": "2022-04-14T02:20:02.892386Z",
     "start_time": "2022-04-14T02:20:02.885842Z"
    }
   },
   "outputs": [],
   "source": [
    "phone_numbers4 = phone_numbers[2500:3500]"
   ]
  },
  {
   "cell_type": "code",
   "execution_count": 254,
   "metadata": {
    "ExecuteTime": {
     "end_time": "2022-04-14T02:25:37.278461Z",
     "start_time": "2022-04-14T02:25:37.270195Z"
    }
   },
   "outputs": [],
   "source": [
    "phone_numbers5 = phone_numbers[3500:5000]"
   ]
  },
  {
   "cell_type": "code",
   "execution_count": 298,
   "metadata": {
    "ExecuteTime": {
     "end_time": "2022-04-14T14:00:19.873400Z",
     "start_time": "2022-04-14T14:00:19.867556Z"
    }
   },
   "outputs": [],
   "source": [
    "phone_numbers6 = phone_numbers[5000:6000]"
   ]
  },
  {
   "cell_type": "code",
   "execution_count": 306,
   "metadata": {
    "ExecuteTime": {
     "end_time": "2022-04-14T14:06:29.044373Z",
     "start_time": "2022-04-14T14:06:29.033607Z"
    }
   },
   "outputs": [],
   "source": [
    "phone_numbers7 = phone_numbers[6000:7500]"
   ]
  },
  {
   "cell_type": "code",
   "execution_count": 317,
   "metadata": {
    "ExecuteTime": {
     "end_time": "2022-04-14T14:24:15.186206Z",
     "start_time": "2022-04-14T14:24:15.177173Z"
    }
   },
   "outputs": [],
   "source": [
    "phone_numbers8 = phone_numbers[7500:10000]"
   ]
  },
  {
   "cell_type": "code",
   "execution_count": 327,
   "metadata": {
    "ExecuteTime": {
     "end_time": "2022-04-15T00:53:23.113441Z",
     "start_time": "2022-04-15T00:53:23.102826Z"
    }
   },
   "outputs": [],
   "source": [
    "phone_numbers9 = phone_numbers[10000:12500]"
   ]
  },
  {
   "cell_type": "code",
   "execution_count": 338,
   "metadata": {
    "ExecuteTime": {
     "end_time": "2022-04-15T01:22:06.966859Z",
     "start_time": "2022-04-15T01:22:06.962653Z"
    }
   },
   "outputs": [],
   "source": [
    "phone_numbers10 = phone_numbers[12500:15000]"
   ]
  },
  {
   "cell_type": "code",
   "execution_count": 339,
   "metadata": {
    "ExecuteTime": {
     "end_time": "2022-04-15T01:22:07.654752Z",
     "start_time": "2022-04-15T01:22:07.646139Z"
    }
   },
   "outputs": [],
   "source": [
    "phone_numbers11 = phone_numbers[15000:17500]"
   ]
  },
  {
   "cell_type": "code",
   "execution_count": 341,
   "metadata": {
    "ExecuteTime": {
     "end_time": "2022-04-15T01:22:14.382449Z",
     "start_time": "2022-04-15T01:22:14.378293Z"
    }
   },
   "outputs": [],
   "source": [
    "phone_numbers12 = phone_numbers[17500:18940]"
   ]
  },
  {
   "cell_type": "code",
   "execution_count": 336,
   "metadata": {
    "ExecuteTime": {
     "end_time": "2022-04-15T01:21:08.956654Z",
     "start_time": "2022-04-15T01:21:08.952178Z"
    }
   },
   "outputs": [],
   "source": [
    "# Initialize empty list\n",
    "biz_list10 = []"
   ]
  },
  {
   "cell_type": "code",
   "execution_count": 331,
   "metadata": {
    "ExecuteTime": {
     "end_time": "2022-04-15T01:18:03.173878Z",
     "start_time": "2022-04-15T01:07:28.545729Z"
    }
   },
   "outputs": [],
   "source": [
    "#Phone Search \n",
    "for number in phone_numbers9:\n",
    "    url = 'https://api.yelp.com/v3/businesses/search/phone'\n",
    "    headers = {'Authorization': 'Bearer ' + creds['api_key']}\n",
    "    url_params = {'phone': number}\n",
    "    response = requests.get(url, headers=headers, params=url_params)\n",
    "    response_json = response.json()\n",
    "    biz_list9.extend(response_json.get('businesses','U'))\n",
    "    "
   ]
  },
  {
   "cell_type": "code",
   "execution_count": 332,
   "metadata": {
    "ExecuteTime": {
     "end_time": "2022-04-15T01:19:30.310261Z",
     "start_time": "2022-04-15T01:19:30.305730Z"
    }
   },
   "outputs": [],
   "source": [
    "while 'U' in biz_list9:\n",
    "    biz_list9.remove('U')"
   ]
  },
  {
   "cell_type": "code",
   "execution_count": 334,
   "metadata": {
    "ExecuteTime": {
     "end_time": "2022-04-15T01:19:48.701470Z",
     "start_time": "2022-04-15T01:19:48.487309Z"
    },
    "scrolled": true
   },
   "outputs": [
    {
     "data": {
      "text/html": [
       "<div>\n",
       "<style scoped>\n",
       "    .dataframe tbody tr th:only-of-type {\n",
       "        vertical-align: middle;\n",
       "    }\n",
       "\n",
       "    .dataframe tbody tr th {\n",
       "        vertical-align: top;\n",
       "    }\n",
       "\n",
       "    .dataframe thead th {\n",
       "        text-align: right;\n",
       "    }\n",
       "</style>\n",
       "<table border=\"1\" class=\"dataframe\">\n",
       "  <thead>\n",
       "    <tr style=\"text-align: right;\">\n",
       "      <th></th>\n",
       "      <th>id</th>\n",
       "      <th>alias</th>\n",
       "      <th>name</th>\n",
       "      <th>image_url</th>\n",
       "      <th>is_closed</th>\n",
       "      <th>url</th>\n",
       "      <th>review_count</th>\n",
       "      <th>categories</th>\n",
       "      <th>rating</th>\n",
       "      <th>coordinates</th>\n",
       "      <th>transactions</th>\n",
       "      <th>price</th>\n",
       "      <th>location</th>\n",
       "      <th>phone</th>\n",
       "      <th>display_phone</th>\n",
       "    </tr>\n",
       "  </thead>\n",
       "  <tbody>\n",
       "    <tr>\n",
       "      <th>0</th>\n",
       "      <td>AiwRnZcVELiu_jO-6OAWcg</td>\n",
       "      <td>cooper-square-hotel-bar-new-york</td>\n",
       "      <td>Cooper Square Hotel Bar</td>\n",
       "      <td>https://s3-media0.fl.yelpcdn.com/bphoto/m7qkIhV-hwMgkh15IqwgCw/o.jpg</td>\n",
       "      <td>True</td>\n",
       "      <td>https://www.yelp.com/biz/cooper-square-hotel-bar-new-york?adjust_creative=82uXkAt1Tiw7u9_h33zr1A...</td>\n",
       "      <td>7</td>\n",
       "      <td>[{'alias': 'bars', 'title': 'Bars'}]</td>\n",
       "      <td>4.5</td>\n",
       "      <td>{'latitude': 40.727699, 'longitude': -73.990837}</td>\n",
       "      <td>[]</td>\n",
       "      <td>$$$</td>\n",
       "      <td>{'address1': '25 Cooper Square', 'address2': '', 'address3': '', 'city': 'New York', 'zip_code':...</td>\n",
       "      <td>12124755700</td>\n",
       "      <td>(212) 475-5700</td>\n",
       "    </tr>\n",
       "    <tr>\n",
       "      <th>1</th>\n",
       "      <td>bEb9i8NKD_wIzYFDtwNr5g</td>\n",
       "      <td>cooper-square-hotel-new-york</td>\n",
       "      <td>Cooper Square Hotel</td>\n",
       "      <td>https://s3-media0.fl.yelpcdn.com/bphoto/OYDtCS9d7X7UdYKqEcQ-9Q/o.jpg</td>\n",
       "      <td>True</td>\n",
       "      <td>https://www.yelp.com/biz/cooper-square-hotel-new-york?adjust_creative=82uXkAt1Tiw7u9_h33zr1A&amp;utm...</td>\n",
       "      <td>49</td>\n",
       "      <td>[{'alias': 'hotels', 'title': 'Hotels'}]</td>\n",
       "      <td>4.0</td>\n",
       "      <td>{'latitude': 40.7278786, 'longitude': -73.9907608}</td>\n",
       "      <td>[]</td>\n",
       "      <td>$$$</td>\n",
       "      <td>{'address1': '25 Cooper Sq', 'address2': '', 'address3': '', 'city': 'New York', 'zip_code': '10...</td>\n",
       "      <td>12124755700</td>\n",
       "      <td>(212) 475-5700</td>\n",
       "    </tr>\n",
       "    <tr>\n",
       "      <th>2</th>\n",
       "      <td>VMGinfrQm6JQfGMUsDFBfg</td>\n",
       "      <td>the-standard-east-village-new-york</td>\n",
       "      <td>The Standard, East Village</td>\n",
       "      <td>https://s3-media0.fl.yelpcdn.com/bphoto/aOEmCElDrEfk8fMx_BkT9w/o.jpg</td>\n",
       "      <td>False</td>\n",
       "      <td>https://www.yelp.com/biz/the-standard-east-village-new-york?adjust_creative=82uXkAt1Tiw7u9_h33zr...</td>\n",
       "      <td>214</td>\n",
       "      <td>[{'alias': 'hotels', 'title': 'Hotels'}]</td>\n",
       "      <td>3.5</td>\n",
       "      <td>{'latitude': 40.7278523436442, 'longitude': -73.9907492250947}</td>\n",
       "      <td>[]</td>\n",
       "      <td>$$</td>\n",
       "      <td>{'address1': '25 Cooper Sq', 'address2': '', 'address3': '', 'city': 'New York', 'zip_code': '10...</td>\n",
       "      <td>12124755700</td>\n",
       "      <td>(212) 475-5700</td>\n",
       "    </tr>\n",
       "    <tr>\n",
       "      <th>3</th>\n",
       "      <td>2Edq66lsiO17FSAVAlVVkA</td>\n",
       "      <td>café-standard-new-york-2</td>\n",
       "      <td>Café Standard</td>\n",
       "      <td>https://s3-media0.fl.yelpcdn.com/bphoto/ZIFHt7tODjjEbdSM4UN2ZA/o.jpg</td>\n",
       "      <td>False</td>\n",
       "      <td>https://www.yelp.com/biz/caf%C3%A9-standard-new-york-2?adjust_creative=82uXkAt1Tiw7u9_h33zr1A&amp;ut...</td>\n",
       "      <td>95</td>\n",
       "      <td>[{'alias': 'newamerican', 'title': 'American (New)'}, {'alias': 'bars', 'title': 'Bars'}, {'alia...</td>\n",
       "      <td>3.5</td>\n",
       "      <td>{'latitude': 40.727844, 'longitude': -73.990739}</td>\n",
       "      <td>['delivery']</td>\n",
       "      <td>$$</td>\n",
       "      <td>{'address1': '25 Cooper Sq', 'address2': '', 'address3': '', 'city': 'New York', 'zip_code': '10...</td>\n",
       "      <td>12124755700</td>\n",
       "      <td>(212) 475-5700</td>\n",
       "    </tr>\n",
       "    <tr>\n",
       "      <th>4</th>\n",
       "      <td>c1JiJmoldv_kXa-wXt5_RA</td>\n",
       "      <td>the-second-floor-bar-new-york</td>\n",
       "      <td>The Second Floor Bar</td>\n",
       "      <td>https://s3-media0.fl.yelpcdn.com/bphoto/O6jkZOKs13GCvKGcPDudJQ/o.jpg</td>\n",
       "      <td>True</td>\n",
       "      <td>https://www.yelp.com/biz/the-second-floor-bar-new-york?adjust_creative=82uXkAt1Tiw7u9_h33zr1A&amp;ut...</td>\n",
       "      <td>12</td>\n",
       "      <td>[{'alias': 'lounges', 'title': 'Lounges'}]</td>\n",
       "      <td>3.5</td>\n",
       "      <td>{'latitude': 40.727931, 'longitude': -73.990786}</td>\n",
       "      <td>[]</td>\n",
       "      <td>$$$</td>\n",
       "      <td>{'address1': '25 Cooper Sq', 'address2': '', 'address3': 'The Cooper Square Hotel', 'city': 'New...</td>\n",
       "      <td>12124755700</td>\n",
       "      <td>(212) 475-5700</td>\n",
       "    </tr>\n",
       "    <tr>\n",
       "      <th>...</th>\n",
       "      <td>...</td>\n",
       "      <td>...</td>\n",
       "      <td>...</td>\n",
       "      <td>...</td>\n",
       "      <td>...</td>\n",
       "      <td>...</td>\n",
       "      <td>...</td>\n",
       "      <td>...</td>\n",
       "      <td>...</td>\n",
       "      <td>...</td>\n",
       "      <td>...</td>\n",
       "      <td>...</td>\n",
       "      <td>...</td>\n",
       "      <td>...</td>\n",
       "      <td>...</td>\n",
       "    </tr>\n",
       "    <tr>\n",
       "      <th>2171</th>\n",
       "      <td>t7nd5Po9u5DoBjw2aazgRg</td>\n",
       "      <td>bella-napoli-pizzeria-bronx</td>\n",
       "      <td>Bella Napoli Pizzeria</td>\n",
       "      <td>https://s3-media0.fl.yelpcdn.com/bphoto/pA9-ML8v4UO9bq1CvqdEAw/o.jpg</td>\n",
       "      <td>False</td>\n",
       "      <td>https://www.yelp.com/biz/bella-napoli-pizzeria-bronx?adjust_creative=82uXkAt1Tiw7u9_h33zr1A&amp;utm_...</td>\n",
       "      <td>51</td>\n",
       "      <td>[{'alias': 'pizza', 'title': 'Pizza'}, {'alias': 'seafood', 'title': 'Seafood'}, {'alias': 'dess...</td>\n",
       "      <td>4.0</td>\n",
       "      <td>{'latitude': 40.9010966, 'longitude': -73.8620706}</td>\n",
       "      <td>['delivery', 'pickup']</td>\n",
       "      <td>$$</td>\n",
       "      <td>{'address1': '524 E 240th St', 'address2': '', 'address3': '', 'city': 'Bronx', 'zip_code': '104...</td>\n",
       "      <td>17183252177</td>\n",
       "      <td>(718) 325-2177</td>\n",
       "    </tr>\n",
       "    <tr>\n",
       "      <th>2172</th>\n",
       "      <td>uWvId20JfT0R9Jz-9f1dIw</td>\n",
       "      <td>veritable-new-york</td>\n",
       "      <td>Veritable</td>\n",
       "      <td>https://s3-media0.fl.yelpcdn.com/bphoto/bREmHySRlNiVZ-Q85wRZ6Q/o.jpg</td>\n",
       "      <td>False</td>\n",
       "      <td>https://www.yelp.com/biz/veritable-new-york?adjust_creative=82uXkAt1Tiw7u9_h33zr1A&amp;utm_campaign=...</td>\n",
       "      <td>95</td>\n",
       "      <td>[{'alias': 'sandwiches', 'title': 'Sandwiches'}, {'alias': 'comfortfood', 'title': 'Comfort Food...</td>\n",
       "      <td>3.5</td>\n",
       "      <td>{'latitude': 40.763313, 'longitude': -73.962627}</td>\n",
       "      <td>['pickup', 'delivery']</td>\n",
       "      <td>$</td>\n",
       "      <td>{'address1': '1201 2nd Ave', 'address2': '', 'address3': None, 'city': 'New York', 'zip_code': '...</td>\n",
       "      <td>12127530600</td>\n",
       "      <td>(212) 753-0600</td>\n",
       "    </tr>\n",
       "    <tr>\n",
       "      <th>2173</th>\n",
       "      <td>iFvDZ-vNGbeAbpFaMnhW2A</td>\n",
       "      <td>nowhere-new-york</td>\n",
       "      <td>Nowhere</td>\n",
       "      <td>https://s3-media0.fl.yelpcdn.com/bphoto/5HwmgU6FfoJs20u7DyTdIQ/o.jpg</td>\n",
       "      <td>False</td>\n",
       "      <td>https://www.yelp.com/biz/nowhere-new-york?adjust_creative=82uXkAt1Tiw7u9_h33zr1A&amp;utm_campaign=ye...</td>\n",
       "      <td>144</td>\n",
       "      <td>[{'alias': 'gaybars', 'title': 'Gay Bars'}]</td>\n",
       "      <td>3.5</td>\n",
       "      <td>{'latitude': 40.73171, 'longitude': -73.98417}</td>\n",
       "      <td>[]</td>\n",
       "      <td>$</td>\n",
       "      <td>{'address1': '322 E 14th St', 'address2': '', 'address3': '', 'city': 'New York', 'zip_code': '1...</td>\n",
       "      <td>12124774744</td>\n",
       "      <td>(212) 477-4744</td>\n",
       "    </tr>\n",
       "    <tr>\n",
       "      <th>2174</th>\n",
       "      <td>whVaI4qtx4Fseff5owxOaw</td>\n",
       "      <td>hampton-inn-manhattan-times-square-central-new-york</td>\n",
       "      <td>Hampton Inn Manhattan/Times Square Central</td>\n",
       "      <td>https://s3-media0.fl.yelpcdn.com/bphoto/zKmx3D8zsyO4WX5gON4j6A/o.jpg</td>\n",
       "      <td>False</td>\n",
       "      <td>https://www.yelp.com/biz/hampton-inn-manhattan-times-square-central-new-york?adjust_creative=82u...</td>\n",
       "      <td>113</td>\n",
       "      <td>[{'alias': 'hotels', 'title': 'Hotels'}]</td>\n",
       "      <td>3.5</td>\n",
       "      <td>{'latitude': 40.755607071741345, 'longitude': -73.98866325616837}</td>\n",
       "      <td>[]</td>\n",
       "      <td>$$</td>\n",
       "      <td>{'address1': '220 West 41st St', 'address2': '', 'address3': '', 'city': 'New York', 'zip_code':...</td>\n",
       "      <td>12122211188</td>\n",
       "      <td>(212) 221-1188</td>\n",
       "    </tr>\n",
       "    <tr>\n",
       "      <th>2175</th>\n",
       "      <td>G65jVYSAYE-74TCcnU2n8A</td>\n",
       "      <td>el-nuevo-portal-brooklyn</td>\n",
       "      <td>El Nuevo Portal</td>\n",
       "      <td>https://s3-media0.fl.yelpcdn.com/bphoto/q7r1QpqiLdjV1Qb4KQFl1Q/o.jpg</td>\n",
       "      <td>False</td>\n",
       "      <td>https://www.yelp.com/biz/el-nuevo-portal-brooklyn?adjust_creative=82uXkAt1Tiw7u9_h33zr1A&amp;utm_cam...</td>\n",
       "      <td>141</td>\n",
       "      <td>[{'alias': 'latin', 'title': 'Latin American'}, {'alias': 'spanish', 'title': 'Spanish'}]</td>\n",
       "      <td>4.0</td>\n",
       "      <td>{'latitude': 40.6844032, 'longitude': -73.9918238}</td>\n",
       "      <td>['delivery', 'pickup']</td>\n",
       "      <td>$</td>\n",
       "      <td>{'address1': '217 Smith St', 'address2': '', 'address3': '', 'city': 'Brooklyn', 'zip_code': '11...</td>\n",
       "      <td>17182461416</td>\n",
       "      <td>(718) 246-1416</td>\n",
       "    </tr>\n",
       "  </tbody>\n",
       "</table>\n",
       "<p>2176 rows × 15 columns</p>\n",
       "</div>"
      ],
      "text/plain": [
       "                          id  \\\n",
       "0     AiwRnZcVELiu_jO-6OAWcg   \n",
       "1     bEb9i8NKD_wIzYFDtwNr5g   \n",
       "2     VMGinfrQm6JQfGMUsDFBfg   \n",
       "3     2Edq66lsiO17FSAVAlVVkA   \n",
       "4     c1JiJmoldv_kXa-wXt5_RA   \n",
       "...                      ...   \n",
       "2171  t7nd5Po9u5DoBjw2aazgRg   \n",
       "2172  uWvId20JfT0R9Jz-9f1dIw   \n",
       "2173  iFvDZ-vNGbeAbpFaMnhW2A   \n",
       "2174  whVaI4qtx4Fseff5owxOaw   \n",
       "2175  G65jVYSAYE-74TCcnU2n8A   \n",
       "\n",
       "                                                    alias  \\\n",
       "0                        cooper-square-hotel-bar-new-york   \n",
       "1                            cooper-square-hotel-new-york   \n",
       "2                      the-standard-east-village-new-york   \n",
       "3                                café-standard-new-york-2   \n",
       "4                           the-second-floor-bar-new-york   \n",
       "...                                                   ...   \n",
       "2171                          bella-napoli-pizzeria-bronx   \n",
       "2172                                   veritable-new-york   \n",
       "2173                                     nowhere-new-york   \n",
       "2174  hampton-inn-manhattan-times-square-central-new-york   \n",
       "2175                             el-nuevo-portal-brooklyn   \n",
       "\n",
       "                                            name  \\\n",
       "0                        Cooper Square Hotel Bar   \n",
       "1                            Cooper Square Hotel   \n",
       "2                     The Standard, East Village   \n",
       "3                                  Café Standard   \n",
       "4                           The Second Floor Bar   \n",
       "...                                          ...   \n",
       "2171                       Bella Napoli Pizzeria   \n",
       "2172                                   Veritable   \n",
       "2173                                     Nowhere   \n",
       "2174  Hampton Inn Manhattan/Times Square Central   \n",
       "2175                             El Nuevo Portal   \n",
       "\n",
       "                                                                 image_url  \\\n",
       "0     https://s3-media0.fl.yelpcdn.com/bphoto/m7qkIhV-hwMgkh15IqwgCw/o.jpg   \n",
       "1     https://s3-media0.fl.yelpcdn.com/bphoto/OYDtCS9d7X7UdYKqEcQ-9Q/o.jpg   \n",
       "2     https://s3-media0.fl.yelpcdn.com/bphoto/aOEmCElDrEfk8fMx_BkT9w/o.jpg   \n",
       "3     https://s3-media0.fl.yelpcdn.com/bphoto/ZIFHt7tODjjEbdSM4UN2ZA/o.jpg   \n",
       "4     https://s3-media0.fl.yelpcdn.com/bphoto/O6jkZOKs13GCvKGcPDudJQ/o.jpg   \n",
       "...                                                                    ...   \n",
       "2171  https://s3-media0.fl.yelpcdn.com/bphoto/pA9-ML8v4UO9bq1CvqdEAw/o.jpg   \n",
       "2172  https://s3-media0.fl.yelpcdn.com/bphoto/bREmHySRlNiVZ-Q85wRZ6Q/o.jpg   \n",
       "2173  https://s3-media0.fl.yelpcdn.com/bphoto/5HwmgU6FfoJs20u7DyTdIQ/o.jpg   \n",
       "2174  https://s3-media0.fl.yelpcdn.com/bphoto/zKmx3D8zsyO4WX5gON4j6A/o.jpg   \n",
       "2175  https://s3-media0.fl.yelpcdn.com/bphoto/q7r1QpqiLdjV1Qb4KQFl1Q/o.jpg   \n",
       "\n",
       "      is_closed  \\\n",
       "0          True   \n",
       "1          True   \n",
       "2         False   \n",
       "3         False   \n",
       "4          True   \n",
       "...         ...   \n",
       "2171      False   \n",
       "2172      False   \n",
       "2173      False   \n",
       "2174      False   \n",
       "2175      False   \n",
       "\n",
       "                                                                                                      url  \\\n",
       "0     https://www.yelp.com/biz/cooper-square-hotel-bar-new-york?adjust_creative=82uXkAt1Tiw7u9_h33zr1A...   \n",
       "1     https://www.yelp.com/biz/cooper-square-hotel-new-york?adjust_creative=82uXkAt1Tiw7u9_h33zr1A&utm...   \n",
       "2     https://www.yelp.com/biz/the-standard-east-village-new-york?adjust_creative=82uXkAt1Tiw7u9_h33zr...   \n",
       "3     https://www.yelp.com/biz/caf%C3%A9-standard-new-york-2?adjust_creative=82uXkAt1Tiw7u9_h33zr1A&ut...   \n",
       "4     https://www.yelp.com/biz/the-second-floor-bar-new-york?adjust_creative=82uXkAt1Tiw7u9_h33zr1A&ut...   \n",
       "...                                                                                                   ...   \n",
       "2171  https://www.yelp.com/biz/bella-napoli-pizzeria-bronx?adjust_creative=82uXkAt1Tiw7u9_h33zr1A&utm_...   \n",
       "2172  https://www.yelp.com/biz/veritable-new-york?adjust_creative=82uXkAt1Tiw7u9_h33zr1A&utm_campaign=...   \n",
       "2173  https://www.yelp.com/biz/nowhere-new-york?adjust_creative=82uXkAt1Tiw7u9_h33zr1A&utm_campaign=ye...   \n",
       "2174  https://www.yelp.com/biz/hampton-inn-manhattan-times-square-central-new-york?adjust_creative=82u...   \n",
       "2175  https://www.yelp.com/biz/el-nuevo-portal-brooklyn?adjust_creative=82uXkAt1Tiw7u9_h33zr1A&utm_cam...   \n",
       "\n",
       "      review_count  \\\n",
       "0                7   \n",
       "1               49   \n",
       "2              214   \n",
       "3               95   \n",
       "4               12   \n",
       "...            ...   \n",
       "2171            51   \n",
       "2172            95   \n",
       "2173           144   \n",
       "2174           113   \n",
       "2175           141   \n",
       "\n",
       "                                                                                               categories  \\\n",
       "0                                                                    [{'alias': 'bars', 'title': 'Bars'}]   \n",
       "1                                                                [{'alias': 'hotels', 'title': 'Hotels'}]   \n",
       "2                                                                [{'alias': 'hotels', 'title': 'Hotels'}]   \n",
       "3     [{'alias': 'newamerican', 'title': 'American (New)'}, {'alias': 'bars', 'title': 'Bars'}, {'alia...   \n",
       "4                                                              [{'alias': 'lounges', 'title': 'Lounges'}]   \n",
       "...                                                                                                   ...   \n",
       "2171  [{'alias': 'pizza', 'title': 'Pizza'}, {'alias': 'seafood', 'title': 'Seafood'}, {'alias': 'dess...   \n",
       "2172  [{'alias': 'sandwiches', 'title': 'Sandwiches'}, {'alias': 'comfortfood', 'title': 'Comfort Food...   \n",
       "2173                                                          [{'alias': 'gaybars', 'title': 'Gay Bars'}]   \n",
       "2174                                                             [{'alias': 'hotels', 'title': 'Hotels'}]   \n",
       "2175            [{'alias': 'latin', 'title': 'Latin American'}, {'alias': 'spanish', 'title': 'Spanish'}]   \n",
       "\n",
       "      rating  \\\n",
       "0        4.5   \n",
       "1        4.0   \n",
       "2        3.5   \n",
       "3        3.5   \n",
       "4        3.5   \n",
       "...      ...   \n",
       "2171     4.0   \n",
       "2172     3.5   \n",
       "2173     3.5   \n",
       "2174     3.5   \n",
       "2175     4.0   \n",
       "\n",
       "                                                            coordinates  \\\n",
       "0                      {'latitude': 40.727699, 'longitude': -73.990837}   \n",
       "1                    {'latitude': 40.7278786, 'longitude': -73.9907608}   \n",
       "2        {'latitude': 40.7278523436442, 'longitude': -73.9907492250947}   \n",
       "3                      {'latitude': 40.727844, 'longitude': -73.990739}   \n",
       "4                      {'latitude': 40.727931, 'longitude': -73.990786}   \n",
       "...                                                                 ...   \n",
       "2171                 {'latitude': 40.9010966, 'longitude': -73.8620706}   \n",
       "2172                   {'latitude': 40.763313, 'longitude': -73.962627}   \n",
       "2173                     {'latitude': 40.73171, 'longitude': -73.98417}   \n",
       "2174  {'latitude': 40.755607071741345, 'longitude': -73.98866325616837}   \n",
       "2175                 {'latitude': 40.6844032, 'longitude': -73.9918238}   \n",
       "\n",
       "                transactions price  \\\n",
       "0                         []   $$$   \n",
       "1                         []   $$$   \n",
       "2                         []    $$   \n",
       "3               ['delivery']    $$   \n",
       "4                         []   $$$   \n",
       "...                      ...   ...   \n",
       "2171  ['delivery', 'pickup']    $$   \n",
       "2172  ['pickup', 'delivery']     $   \n",
       "2173                      []     $   \n",
       "2174                      []    $$   \n",
       "2175  ['delivery', 'pickup']     $   \n",
       "\n",
       "                                                                                                 location  \\\n",
       "0     {'address1': '25 Cooper Square', 'address2': '', 'address3': '', 'city': 'New York', 'zip_code':...   \n",
       "1     {'address1': '25 Cooper Sq', 'address2': '', 'address3': '', 'city': 'New York', 'zip_code': '10...   \n",
       "2     {'address1': '25 Cooper Sq', 'address2': '', 'address3': '', 'city': 'New York', 'zip_code': '10...   \n",
       "3     {'address1': '25 Cooper Sq', 'address2': '', 'address3': '', 'city': 'New York', 'zip_code': '10...   \n",
       "4     {'address1': '25 Cooper Sq', 'address2': '', 'address3': 'The Cooper Square Hotel', 'city': 'New...   \n",
       "...                                                                                                   ...   \n",
       "2171  {'address1': '524 E 240th St', 'address2': '', 'address3': '', 'city': 'Bronx', 'zip_code': '104...   \n",
       "2172  {'address1': '1201 2nd Ave', 'address2': '', 'address3': None, 'city': 'New York', 'zip_code': '...   \n",
       "2173  {'address1': '322 E 14th St', 'address2': '', 'address3': '', 'city': 'New York', 'zip_code': '1...   \n",
       "2174  {'address1': '220 West 41st St', 'address2': '', 'address3': '', 'city': 'New York', 'zip_code':...   \n",
       "2175  {'address1': '217 Smith St', 'address2': '', 'address3': '', 'city': 'Brooklyn', 'zip_code': '11...   \n",
       "\n",
       "            phone   display_phone  \n",
       "0     12124755700  (212) 475-5700  \n",
       "1     12124755700  (212) 475-5700  \n",
       "2     12124755700  (212) 475-5700  \n",
       "3     12124755700  (212) 475-5700  \n",
       "4     12124755700  (212) 475-5700  \n",
       "...           ...             ...  \n",
       "2171  17183252177  (718) 325-2177  \n",
       "2172  12127530600  (212) 753-0600  \n",
       "2173  12124774744  (212) 477-4744  \n",
       "2174  12122211188  (212) 221-1188  \n",
       "2175  17182461416  (718) 246-1416  \n",
       "\n",
       "[2176 rows x 15 columns]"
      ]
     },
     "execution_count": 334,
     "metadata": {},
     "output_type": "execute_result"
    }
   ],
   "source": [
    "biz9_df = pd.DataFrame(biz_list9)\n",
    "biz9_df.to_csv('yelp_phones9.csv',index=False)\n",
    "df = pd.read_csv('yelp_phones9.csv')\n",
    "df"
   ]
  },
  {
   "cell_type": "code",
   "execution_count": 221,
   "metadata": {
    "ExecuteTime": {
     "end_time": "2022-04-13T18:15:45.508901Z",
     "start_time": "2022-04-13T18:15:45.482663Z"
    }
   },
   "outputs": [],
   "source": [
    "df_1 = pd.read_csv('yelp_phone1.csv')"
   ]
  },
  {
   "cell_type": "code",
   "execution_count": 223,
   "metadata": {
    "ExecuteTime": {
     "end_time": "2022-04-13T18:16:51.045553Z",
     "start_time": "2022-04-13T18:16:51.011526Z"
    }
   },
   "outputs": [],
   "source": [
    "df_2 = pd.read_csv('yelp_phone2.csv')"
   ]
  },
  {
   "cell_type": "code",
   "execution_count": 229,
   "metadata": {
    "ExecuteTime": {
     "end_time": "2022-04-13T18:21:58.748554Z",
     "start_time": "2022-04-13T18:21:58.730526Z"
    }
   },
   "outputs": [],
   "source": [
    "df_3 = pd.read_csv('yelp_phone3.csv')"
   ]
  },
  {
   "cell_type": "code",
   "execution_count": 311,
   "metadata": {
    "ExecuteTime": {
     "end_time": "2022-04-15T02:11:02.297516Z",
     "start_time": "2022-04-15T02:11:02.245026Z"
    }
   },
   "outputs": [],
   "source": [
    "df_4 = pd.read_csv('yelp_phone4.csv')"
   ]
  },
  {
   "cell_type": "code",
   "execution_count": 312,
   "metadata": {
    "ExecuteTime": {
     "end_time": "2022-04-15T02:11:02.297516Z",
     "start_time": "2022-04-15T02:11:02.245026Z"
    }
   },
   "outputs": [],
   "source": [
    "df_5 = pd.read_csv('yelp_phone5.csv')"
   ]
  },
  {
   "cell_type": "code",
   "execution_count": 313,
   "metadata": {
    "ExecuteTime": {
     "end_time": "2022-04-15T02:11:02.297516Z",
     "start_time": "2022-04-15T02:11:02.245026Z"
    }
   },
   "outputs": [],
   "source": [
    "df_6 = pd.read_csv('yelp_phone6.csv')"
   ]
  },
  {
   "cell_type": "code",
   "execution_count": 314,
   "metadata": {
    "ExecuteTime": {
     "end_time": "2022-04-15T02:11:02.297516Z",
     "start_time": "2022-04-15T02:11:02.245026Z"
    }
   },
   "outputs": [],
   "source": [
    "df_7 = pd.read_csv('yelp_phone7.csv')"
   ]
  },
  {
   "cell_type": "code",
   "execution_count": 359,
   "metadata": {
    "ExecuteTime": {
     "end_time": "2022-04-15T02:11:02.297516Z",
     "start_time": "2022-04-15T02:11:02.245026Z"
    }
   },
   "outputs": [],
   "source": [
    "df_8 = pd.read_csv('yelp_phone8.csv')"
   ]
  },
  {
   "cell_type": "code",
   "execution_count": 360,
   "metadata": {
    "ExecuteTime": {
     "end_time": "2022-04-15T02:11:02.297516Z",
     "start_time": "2022-04-15T02:11:02.245026Z"
    }
   },
   "outputs": [],
   "source": [
    "df_9 = pd.read_csv('yelp_phone9.csv')"
   ]
  },
  {
   "cell_type": "code",
   "execution_count": 229,
   "metadata": {
    "ExecuteTime": {
     "end_time": "2022-04-14T14:21:52.814823Z",
     "start_time": "2022-04-14T14:21:52.775974Z"
    }
   },
   "outputs": [],
   "source": [
    "df_9 = pd.read_csv('yelp_phone9.csv')"
   ]
  },
  {
   "cell_type": "code",
   "execution_count": 229,
   "metadata": {
    "ExecuteTime": {
     "end_time": "2022-04-14T14:21:52.814823Z",
     "start_time": "2022-04-14T14:21:52.775974Z"
    }
   },
   "outputs": [],
   "source": [
    "df_9 = pd.read_csv('yelp_phone9.csv')"
   ]
  },
  {
   "cell_type": "code",
   "execution_count": 229,
   "metadata": {
    "ExecuteTime": {
     "end_time": "2022-04-14T14:21:52.814823Z",
     "start_time": "2022-04-14T14:21:52.775974Z"
    }
   },
   "outputs": [],
   "source": [
    "df_9 = pd.read_csv('yelp_phone9.csv')"
   ]
  },
  {
   "cell_type": "code",
   "execution_count": 375,
   "metadata": {
    "ExecuteTime": {
     "end_time": "2022-04-15T02:35:02.042466Z",
     "start_time": "2022-04-15T02:35:02.007005Z"
    }
   },
   "outputs": [],
   "source": [
    "yelp_df = pd.concat([df_1,df_2,df_3,df_4,df_5,df_6,df_7,df_8,df_9],ignore_index=True)"
   ]
  },
  {
   "cell_type": "code",
   "execution_count": null,
   "metadata": {
    "ExecuteTime": {
     "end_time": "2022-04-06T21:10:42.746234Z",
     "start_time": "2022-04-06T21:10:42.728669Z"
    }
   },
   "outputs": [],
   "source": [
    "# def prepare_data(data_list):\n",
    "#     \"\"\"\n",
    "#     This function takes in a list of dictionaries and prepares it\n",
    "#     for analysis\n",
    "#     \"\"\"\n",
    "    \n",
    "#     # Make a new list to hold results\n",
    "#     results = []\n",
    "    \n",
    "#     for business_data in data_list:\n",
    "    \n",
    "#         # Make a new dictionary to hold prepared data for this business\n",
    "#         prepared_data = {}\n",
    "        \n",
    "#         # Extract name, review_count, rating, and price key-value pairs\n",
    "#         # from business_data and add to prepared_data\n",
    "#         # If a key is not present in business_data, add it to prepared_data\n",
    "#         # with an associated value of None\n",
    "#         for key in (\"name\", \"review_count\", \"rating\", \"price\"):\n",
    "#             prepared_data[key] = business_data.get(key, None)\n",
    "    \n",
    "#         # Parse and add latitude and longitude columns\n",
    "#         coordinates = business_data[\"coordinates\"]\n",
    "#         prepared_data[\"latitude\"] = coordinates[\"latitude\"]\n",
    "#         prepared_data[\"longitude\"] = coordinates[\"longitude\"]\n",
    "        \n",
    "#         # Add to list if all values are present\n",
    "#         if all(prepared_data.values()):\n",
    "#             results.append(prepared_data)\n",
    "    \n",
    "#     return results\n",
    "    \n",
    "# # Test out function\n",
    "# prepared_businesses = prepare_data(businesses)\n",
    "# prepared_businesses[:5]"
   ]
  },
  {
   "cell_type": "code",
   "execution_count": null,
   "metadata": {
    "ExecuteTime": {
     "end_time": "2022-03-23T01:52:48.820508Z",
     "start_time": "2022-03-23T01:52:48.809218Z"
    }
   },
   "outputs": [],
   "source": [
    "# lat = []\n",
    "# long = []\n",
    "\n",
    "# for _,business in yelp_df.iterrows():\n",
    "#     lat.append(business['coordinates']['latitude'])\n",
    "#     long.append(business['coordinates']['longitude'])\n",
    "\n",
    "# yelp_df['lat'] = lat\n",
    "# yelp_df['long'] = long"
   ]
  },
  {
   "cell_type": "markdown",
   "metadata": {},
   "source": [
    "## Getting Yelp Reviews"
   ]
  },
  {
   "cell_type": "code",
   "execution_count": 365,
   "metadata": {
    "ExecuteTime": {
     "end_time": "2022-04-15T02:12:08.605749Z",
     "start_time": "2022-04-15T02:12:08.247867Z"
    }
   },
   "outputs": [
    {
     "data": {
      "text/plain": [
       "{'reviews': [{'id': '3hXVb3qfwkpNYoVs3_9_QA',\n",
       "   'url': 'https://www.yelp.com/biz/ii-caffe-latte-2-new-york-4?adjust_creative=82uXkAt1Tiw7u9_h33zr1A&hrid=3hXVb3qfwkpNYoVs3_9_QA&utm_campaign=yelp_api_v3&utm_medium=api_v3_business_reviews&utm_source=82uXkAt1Tiw7u9_h33zr1A',\n",
       "   'text': 'Met my bestie for a warm beverage yesterday and we ended up here at Caffe Latte. Immediately upon entering, the lady working there let us know that the...',\n",
       "   'rating': 5,\n",
       "   'time_created': '2020-03-15 06:15:11',\n",
       "   'user': {'id': 'KJd4Ey6_spwKIX0oq3CjQw',\n",
       "    'profile_url': 'https://www.yelp.com/user_details?userid=KJd4Ey6_spwKIX0oq3CjQw',\n",
       "    'image_url': 'https://s3-media3.fl.yelpcdn.com/photo/DbTi7vDMa5PUndu-CdP54A/o.jpg',\n",
       "    'name': 'Salisha T.'}},\n",
       "  {'id': 'ONoRuoJtZXfo1rXs8GlGFA',\n",
       "   'url': 'https://www.yelp.com/biz/ii-caffe-latte-2-new-york-4?adjust_creative=82uXkAt1Tiw7u9_h33zr1A&hrid=ONoRuoJtZXfo1rXs8GlGFA&utm_campaign=yelp_api_v3&utm_medium=api_v3_business_reviews&utm_source=82uXkAt1Tiw7u9_h33zr1A',\n",
       "   'text': \"Walked in to check out their menu. Person working there didn't acknowledge me. I guess the dishes were more important than my patronage. Place was empty so...\",\n",
       "   'rating': 1,\n",
       "   'time_created': '2021-10-24 14:53:53',\n",
       "   'user': {'id': 'm-YCck86Jp7hzgswZDezgw',\n",
       "    'profile_url': 'https://www.yelp.com/user_details?userid=m-YCck86Jp7hzgswZDezgw',\n",
       "    'image_url': 'https://s3-media1.fl.yelpcdn.com/photo/Ut474DCzE16ALtL_lEXTYg/o.jpg',\n",
       "    'name': 'Tangerine L.'}},\n",
       "  {'id': 'Y2kV33dCd9RBZ0WrrY6-DQ',\n",
       "   'url': 'https://www.yelp.com/biz/ii-caffe-latte-2-new-york-4?adjust_creative=82uXkAt1Tiw7u9_h33zr1A&hrid=Y2kV33dCd9RBZ0WrrY6-DQ&utm_campaign=yelp_api_v3&utm_medium=api_v3_business_reviews&utm_source=82uXkAt1Tiw7u9_h33zr1A',\n",
       "   'text': \"I've been to this location twice and each time the service , the food and the atmosphere has CHANGED MY LIFE. I had the black Ink ravioli and my long time...\",\n",
       "   'rating': 5,\n",
       "   'time_created': '2021-03-24 15:18:29',\n",
       "   'user': {'id': 'zHGwvcogwOgDGzJsggjf0g',\n",
       "    'profile_url': 'https://www.yelp.com/user_details?userid=zHGwvcogwOgDGzJsggjf0g',\n",
       "    'image_url': 'https://s3-media3.fl.yelpcdn.com/photo/djVGPAjOPVZEFogzXEG07w/o.jpg',\n",
       "    'name': 'Malik c.'}}],\n",
       " 'total': 127,\n",
       " 'possible_languages': ['en', 'de']}"
      ]
     },
     "execution_count": 365,
     "metadata": {},
     "output_type": "execute_result"
    }
   ],
   "source": [
    "#Review Search \n",
    "yelp_id = 'fEsgUESZxOQtd4YEmAUuow'\n",
    "url = f'https://api.yelp.com/v3/businesses/{yelp_id}/reviews'\n",
    "headers = {'Authorization': 'Bearer ' + creds['api_key']}\n",
    "response = requests.get(url, headers=headers)\n",
    "response_json = response.json()\n",
    "response_json"
   ]
  },
  {
   "cell_type": "code",
   "execution_count": 382,
   "metadata": {
    "ExecuteTime": {
     "end_time": "2022-04-15T02:40:22.429405Z",
     "start_time": "2022-04-15T02:40:22.419460Z"
    }
   },
   "outputs": [],
   "source": [
    "review_corp = []\n",
    "\n",
    "for review in response_json.get('reviews'):\n",
    "    review_corp.append(review['text'])"
   ]
  },
  {
   "cell_type": "code",
   "execution_count": 366,
   "metadata": {
    "ExecuteTime": {
     "end_time": "2022-04-15T02:12:48.343959Z",
     "start_time": "2022-04-15T02:12:48.337455Z"
    }
   },
   "outputs": [
    {
     "data": {
      "text/plain": [
       "'fEsgUESZxOQtd4YEmAUuow'"
      ]
     },
     "execution_count": 366,
     "metadata": {},
     "output_type": "execute_result"
    }
   ],
   "source": [
    "yelp_id"
   ]
  },
  {
   "cell_type": "code",
   "execution_count": null,
   "metadata": {},
   "outputs": [],
   "source": []
  },
  {
   "cell_type": "code",
   "execution_count": 386,
   "metadata": {
    "ExecuteTime": {
     "end_time": "2022-04-15T02:44:56.085995Z",
     "start_time": "2022-04-15T02:44:56.082350Z"
    }
   },
   "outputs": [],
   "source": [
    "review_corp = ''.join(review_corp)"
   ]
  },
  {
   "cell_type": "code",
   "execution_count": 383,
   "metadata": {
    "ExecuteTime": {
     "end_time": "2022-04-15T02:40:24.820929Z",
     "start_time": "2022-04-15T02:40:24.806937Z"
    }
   },
   "outputs": [
    {
     "data": {
      "text/html": [
       "<div>\n",
       "<style scoped>\n",
       "    .dataframe tbody tr th:only-of-type {\n",
       "        vertical-align: middle;\n",
       "    }\n",
       "\n",
       "    .dataframe tbody tr th {\n",
       "        vertical-align: top;\n",
       "    }\n",
       "\n",
       "    .dataframe thead th {\n",
       "        text-align: right;\n",
       "    }\n",
       "</style>\n",
       "<table border=\"1\" class=\"dataframe\">\n",
       "  <thead>\n",
       "    <tr style=\"text-align: right;\">\n",
       "      <th></th>\n",
       "      <th>yelp_id</th>\n",
       "      <th>review_text</th>\n",
       "    </tr>\n",
       "  </thead>\n",
       "  <tbody>\n",
       "    <tr>\n",
       "      <th>0</th>\n",
       "      <td>fEsgUESZxOQtd4YEmAUuow</td>\n",
       "      <td>Met my bestie for a warm beverage yesterday and we ended up here at Caffe Latte. Immediately upo...</td>\n",
       "    </tr>\n",
       "    <tr>\n",
       "      <th>1</th>\n",
       "      <td>fEsgUESZxOQtd4YEmAUuow</td>\n",
       "      <td>Walked in to check out their menu. Person working there didn't acknowledge me. I guess the dishe...</td>\n",
       "    </tr>\n",
       "    <tr>\n",
       "      <th>2</th>\n",
       "      <td>fEsgUESZxOQtd4YEmAUuow</td>\n",
       "      <td>I've been to this location twice and each time the service , the food and the atmosphere has CHA...</td>\n",
       "    </tr>\n",
       "  </tbody>\n",
       "</table>\n",
       "</div>"
      ],
      "text/plain": [
       "                  yelp_id  \\\n",
       "0  fEsgUESZxOQtd4YEmAUuow   \n",
       "1  fEsgUESZxOQtd4YEmAUuow   \n",
       "2  fEsgUESZxOQtd4YEmAUuow   \n",
       "\n",
       "                                                                                           review_text  \n",
       "0  Met my bestie for a warm beverage yesterday and we ended up here at Caffe Latte. Immediately upo...  \n",
       "1  Walked in to check out their menu. Person working there didn't acknowledge me. I guess the dishe...  \n",
       "2  I've been to this location twice and each time the service , the food and the atmosphere has CHA...  "
      ]
     },
     "execution_count": 383,
     "metadata": {},
     "output_type": "execute_result"
    }
   ],
   "source": [
    "dict_test = {'yelp_id' : yelp_id, 'review_text' : review_corp}\n",
    "df_test = pd.DataFrame(dict_test)\n",
    "df_test"
   ]
  },
  {
   "cell_type": "code",
   "execution_count": null,
   "metadata": {},
   "outputs": [],
   "source": []
  },
  {
   "cell_type": "code",
   "execution_count": 324,
   "metadata": {
    "ExecuteTime": {
     "end_time": "2022-04-14T15:07:46.486247Z",
     "start_time": "2022-04-14T15:07:46.435062Z"
    }
   },
   "outputs": [
    {
     "data": {
      "text/html": [
       "<div>\n",
       "<style scoped>\n",
       "    .dataframe tbody tr th:only-of-type {\n",
       "        vertical-align: middle;\n",
       "    }\n",
       "\n",
       "    .dataframe tbody tr th {\n",
       "        vertical-align: top;\n",
       "    }\n",
       "\n",
       "    .dataframe thead th {\n",
       "        text-align: right;\n",
       "    }\n",
       "</style>\n",
       "<table border=\"1\" class=\"dataframe\">\n",
       "  <thead>\n",
       "    <tr style=\"text-align: right;\">\n",
       "      <th></th>\n",
       "      <th>id</th>\n",
       "      <th>url</th>\n",
       "      <th>text</th>\n",
       "      <th>rating</th>\n",
       "      <th>time_created</th>\n",
       "      <th>user</th>\n",
       "    </tr>\n",
       "  </thead>\n",
       "  <tbody>\n",
       "    <tr>\n",
       "      <th>0</th>\n",
       "      <td>3hXVb3qfwkpNYoVs3_9_QA</td>\n",
       "      <td>https://www.yelp.com/biz/ii-caffe-latte-2-new-york-4?adjust_creative=82uXkAt1Tiw7u9_h33zr1A&amp;hrid...</td>\n",
       "      <td>Met my bestie for a warm beverage yesterday and we ended up here at Caffe Latte. Immediately upo...</td>\n",
       "      <td>5</td>\n",
       "      <td>2020-03-15 06:15:11</td>\n",
       "      <td>{'id': 'KJd4Ey6_spwKIX0oq3CjQw', 'profile_url': 'https://www.yelp.com/user_details?userid=KJd4Ey...</td>\n",
       "    </tr>\n",
       "    <tr>\n",
       "      <th>1</th>\n",
       "      <td>ONoRuoJtZXfo1rXs8GlGFA</td>\n",
       "      <td>https://www.yelp.com/biz/ii-caffe-latte-2-new-york-4?adjust_creative=82uXkAt1Tiw7u9_h33zr1A&amp;hrid...</td>\n",
       "      <td>Walked in to check out their menu. Person working there didn't acknowledge me. I guess the dishe...</td>\n",
       "      <td>1</td>\n",
       "      <td>2021-10-24 14:53:53</td>\n",
       "      <td>{'id': 'm-YCck86Jp7hzgswZDezgw', 'profile_url': 'https://www.yelp.com/user_details?userid=m-YCck...</td>\n",
       "    </tr>\n",
       "    <tr>\n",
       "      <th>2</th>\n",
       "      <td>Y2kV33dCd9RBZ0WrrY6-DQ</td>\n",
       "      <td>https://www.yelp.com/biz/ii-caffe-latte-2-new-york-4?adjust_creative=82uXkAt1Tiw7u9_h33zr1A&amp;hrid...</td>\n",
       "      <td>I've been to this location twice and each time the service , the food and the atmosphere has CHA...</td>\n",
       "      <td>5</td>\n",
       "      <td>2021-03-24 15:18:29</td>\n",
       "      <td>{'id': 'zHGwvcogwOgDGzJsggjf0g', 'profile_url': 'https://www.yelp.com/user_details?userid=zHGwvc...</td>\n",
       "    </tr>\n",
       "  </tbody>\n",
       "</table>\n",
       "</div>"
      ],
      "text/plain": [
       "                       id  \\\n",
       "0  3hXVb3qfwkpNYoVs3_9_QA   \n",
       "1  ONoRuoJtZXfo1rXs8GlGFA   \n",
       "2  Y2kV33dCd9RBZ0WrrY6-DQ   \n",
       "\n",
       "                                                                                                   url  \\\n",
       "0  https://www.yelp.com/biz/ii-caffe-latte-2-new-york-4?adjust_creative=82uXkAt1Tiw7u9_h33zr1A&hrid...   \n",
       "1  https://www.yelp.com/biz/ii-caffe-latte-2-new-york-4?adjust_creative=82uXkAt1Tiw7u9_h33zr1A&hrid...   \n",
       "2  https://www.yelp.com/biz/ii-caffe-latte-2-new-york-4?adjust_creative=82uXkAt1Tiw7u9_h33zr1A&hrid...   \n",
       "\n",
       "                                                                                                  text  \\\n",
       "0  Met my bestie for a warm beverage yesterday and we ended up here at Caffe Latte. Immediately upo...   \n",
       "1  Walked in to check out their menu. Person working there didn't acknowledge me. I guess the dishe...   \n",
       "2  I've been to this location twice and each time the service , the food and the atmosphere has CHA...   \n",
       "\n",
       "   rating         time_created  \\\n",
       "0       5  2020-03-15 06:15:11   \n",
       "1       1  2021-10-24 14:53:53   \n",
       "2       5  2021-03-24 15:18:29   \n",
       "\n",
       "                                                                                                  user  \n",
       "0  {'id': 'KJd4Ey6_spwKIX0oq3CjQw', 'profile_url': 'https://www.yelp.com/user_details?userid=KJd4Ey...  \n",
       "1  {'id': 'm-YCck86Jp7hzgswZDezgw', 'profile_url': 'https://www.yelp.com/user_details?userid=m-YCck...  \n",
       "2  {'id': 'zHGwvcogwOgDGzJsggjf0g', 'profile_url': 'https://www.yelp.com/user_details?userid=zHGwvc...  "
      ]
     },
     "execution_count": 324,
     "metadata": {},
     "output_type": "execute_result"
    }
   ],
   "source": [
    "review_df = pd.DataFrame(response_json.get('reviews'))\n",
    "review_df"
   ]
  },
  {
   "cell_type": "markdown",
   "metadata": {},
   "source": [
    "# Data Understanding"
   ]
  },
  {
   "cell_type": "markdown",
   "metadata": {},
   "source": [
    "For this project there will be two sources and types of data used:\n",
    "\n",
    "* Historical health and hygiene inspections recorded by New York City Department of Health and Mental Hygiene (DOHMH) public health inspectors\n",
    "* User generated Yelp business ratings and reviews"
   ]
  },
  {
   "cell_type": "markdown",
   "metadata": {},
   "source": [
    "## Understanding NYC DOHMH Data"
   ]
  },
  {
   "cell_type": "markdown",
   "metadata": {},
   "source": [
    "This dataset contains over 330,000 records, let's explore its contents."
   ]
  },
  {
   "cell_type": "code",
   "execution_count": null,
   "metadata": {
    "ExecuteTime": {
     "end_time": "2022-03-24T20:13:39.503467Z",
     "start_time": "2022-03-24T20:13:39.388312Z"
    }
   },
   "outputs": [],
   "source": [
    "dohmh_df['inspection_date'] =  pd.to_datetime(dohmh_inspections['inspection_date'])"
   ]
  },
  {
   "cell_type": "code",
   "execution_count": null,
   "metadata": {
    "ExecuteTime": {
     "end_time": "2022-03-24T20:13:45.498607Z",
     "start_time": "2022-03-24T20:13:45.485185Z"
    }
   },
   "outputs": [],
   "source": [
    "dohmh_df['inspection_date'].min()"
   ]
  },
  {
   "cell_type": "code",
   "execution_count": null,
   "metadata": {
    "ExecuteTime": {
     "end_time": "2022-03-24T20:13:56.414351Z",
     "start_time": "2022-03-24T20:13:56.397701Z"
    }
   },
   "outputs": [],
   "source": [
    "dohmh_df['inspection_date'].max()"
   ]
  },
  {
   "cell_type": "markdown",
   "metadata": {},
   "source": [
    "Inspections in this dataset range from May 2008 up to present day."
   ]
  },
  {
   "cell_type": "code",
   "execution_count": null,
   "metadata": {
    "ExecuteTime": {
     "end_time": "2022-03-24T20:16:39.819970Z",
     "start_time": "2022-03-24T20:16:39.815805Z"
    }
   },
   "outputs": [],
   "source": [
    "# dohmh_df.set_index('inspection_date')"
   ]
  },
  {
   "cell_type": "code",
   "execution_count": null,
   "metadata": {
    "ExecuteTime": {
     "end_time": "2022-03-24T20:06:23.107542Z",
     "start_time": "2022-03-24T20:06:23.039343Z"
    }
   },
   "outputs": [],
   "source": [
    "dohmh_df['boro'].value_counts()"
   ]
  },
  {
   "cell_type": "code",
   "execution_count": null,
   "metadata": {
    "ExecuteTime": {
     "end_time": "2022-03-24T20:06:48.973901Z",
     "start_time": "2022-03-24T20:06:48.947792Z"
    }
   },
   "outputs": [],
   "source": [
    "dohmh_df['score'].value_counts()"
   ]
  },
  {
   "cell_type": "code",
   "execution_count": null,
   "metadata": {},
   "outputs": [],
   "source": []
  },
  {
   "cell_type": "code",
   "execution_count": null,
   "metadata": {
    "ExecuteTime": {
     "end_time": "2022-03-24T20:06:52.338177Z",
     "start_time": "2022-03-24T20:06:52.329477Z"
    }
   },
   "outputs": [],
   "source": [
    "dohmh_df['score'].isna().sum()"
   ]
  },
  {
   "cell_type": "code",
   "execution_count": null,
   "metadata": {
    "ExecuteTime": {
     "end_time": "2022-03-24T20:06:53.801108Z",
     "start_time": "2022-03-24T20:06:53.742457Z"
    }
   },
   "outputs": [],
   "source": [
    "dohmh_df['grade'].value_counts()"
   ]
  },
  {
   "cell_type": "code",
   "execution_count": null,
   "metadata": {
    "ExecuteTime": {
     "end_time": "2022-03-25T18:08:16.344961Z",
     "start_time": "2022-03-25T18:08:16.232615Z"
    }
   },
   "outputs": [],
   "source": [
    "dohmh_df['grade'].value_counts(normalize=True)"
   ]
  },
  {
   "cell_type": "code",
   "execution_count": null,
   "metadata": {
    "ExecuteTime": {
     "end_time": "2022-03-24T20:06:55.741139Z",
     "start_time": "2022-03-24T20:06:55.706697Z"
    }
   },
   "outputs": [],
   "source": [
    "dohmh_df['grade'].isna().sum()"
   ]
  },
  {
   "cell_type": "code",
   "execution_count": null,
   "metadata": {
    "ExecuteTime": {
     "end_time": "2022-03-24T20:07:21.888553Z",
     "start_time": "2022-03-24T20:07:21.831624Z"
    }
   },
   "outputs": [],
   "source": [
    "dohmh_df['critical_flag'].value_counts()"
   ]
  },
  {
   "cell_type": "markdown",
   "metadata": {},
   "source": [
    "Critical violations are those most likely to contribute to foodborne illness"
   ]
  },
  {
   "cell_type": "code",
   "execution_count": null,
   "metadata": {
    "ExecuteTime": {
     "end_time": "2022-03-24T20:07:24.216744Z",
     "start_time": "2022-03-24T20:07:24.147788Z"
    }
   },
   "outputs": [],
   "source": [
    "dohmh_df['critical_flag'].value_counts(normalize=True)"
   ]
  },
  {
   "cell_type": "code",
   "execution_count": null,
   "metadata": {
    "ExecuteTime": {
     "end_time": "2022-03-24T20:07:25.228707Z",
     "start_time": "2022-03-24T20:07:25.168956Z"
    }
   },
   "outputs": [],
   "source": [
    "dohmh_df['inspection_type'].value_counts()"
   ]
  },
  {
   "cell_type": "code",
   "execution_count": null,
   "metadata": {
    "ExecuteTime": {
     "end_time": "2022-03-24T23:19:02.351760Z",
     "start_time": "2022-03-24T23:19:02.076866Z"
    }
   },
   "outputs": [],
   "source": [
    "dohmh_inspections = dohmh_df[(dohmh_df['inspection_type'] ==\n",
    "                              'Cycle Inspection / Initial Inspection') | (dohmh_df['inspection_type'] ==\n",
    "                              'Cycle Inspection / Re-inspection')]"
   ]
  },
  {
   "cell_type": "code",
   "execution_count": null,
   "metadata": {
    "ExecuteTime": {
     "end_time": "2022-03-24T23:19:04.172448Z",
     "start_time": "2022-03-24T23:19:04.102283Z"
    }
   },
   "outputs": [],
   "source": [
    "dohmh_inspections['critical_flag'].value_counts()"
   ]
  },
  {
   "cell_type": "code",
   "execution_count": null,
   "metadata": {
    "ExecuteTime": {
     "end_time": "2022-03-25T13:45:01.843258Z",
     "start_time": "2022-03-25T13:45:00.880168Z"
    }
   },
   "outputs": [],
   "source": [
    "# Drop records with NA critical_flag\n",
    "\n",
    "dohmh_ohe = dohmh_inspections[dohmh_inspections['critical_flag'] != 'Not Applicable']"
   ]
  },
  {
   "cell_type": "code",
   "execution_count": null,
   "metadata": {
    "ExecuteTime": {
     "end_time": "2022-03-25T13:45:33.328672Z",
     "start_time": "2022-03-25T13:45:33.035849Z"
    }
   },
   "outputs": [],
   "source": [
    "dohmh_ohe = pd.get_dummies(dohmh_inspections,columns=['critical_flag'])"
   ]
  },
  {
   "cell_type": "code",
   "execution_count": null,
   "metadata": {
    "ExecuteTime": {
     "end_time": "2022-03-25T13:45:51.839949Z",
     "start_time": "2022-03-25T13:45:51.783181Z"
    }
   },
   "outputs": [],
   "source": [
    "dohmh_ohe.head(2)"
   ]
  },
  {
   "cell_type": "code",
   "execution_count": null,
   "metadata": {
    "ExecuteTime": {
     "end_time": "2022-03-25T14:50:30.907183Z",
     "start_time": "2022-03-25T14:50:30.884584Z"
    }
   },
   "outputs": [],
   "source": [
    "critical_flags = dohmh_ohe.groupby(['camis'])['critical_flag_Critical'].count()"
   ]
  },
  {
   "cell_type": "code",
   "execution_count": null,
   "metadata": {
    "ExecuteTime": {
     "end_time": "2022-03-25T14:50:23.875323Z",
     "start_time": "2022-03-25T14:50:23.860854Z"
    }
   },
   "outputs": [],
   "source": [
    "critical_flags[critical_flagss]"
   ]
  },
  {
   "cell_type": "code",
   "execution_count": null,
   "metadata": {
    "ExecuteTime": {
     "end_time": "2022-03-25T14:07:58.740052Z",
     "start_time": "2022-03-25T14:07:58.732065Z"
    }
   },
   "outputs": [],
   "source": [
    "critical_flags['critical_flag_Not Critical'].sum()"
   ]
  },
  {
   "cell_type": "code",
   "execution_count": null,
   "metadata": {
    "ExecuteTime": {
     "end_time": "2022-03-25T14:00:08.447544Z",
     "start_time": "2022-03-25T14:00:08.443356Z"
    }
   },
   "outputs": [],
   "source": [
    "non_critical_flags = dohmh_ohe.groupby(['camis'])"
   ]
  },
  {
   "cell_type": "code",
   "execution_count": null,
   "metadata": {
    "ExecuteTime": {
     "end_time": "2022-03-25T14:00:31.528917Z",
     "start_time": "2022-03-25T14:00:30.783695Z"
    }
   },
   "outputs": [],
   "source": [
    "dohmh_inspections.duplicated().sum()"
   ]
  },
  {
   "cell_type": "code",
   "execution_count": null,
   "metadata": {
    "ExecuteTime": {
     "end_time": "2022-03-24T20:07:43.870691Z",
     "start_time": "2022-03-24T20:07:42.979136Z"
    }
   },
   "outputs": [],
   "source": [
    "dohmh_inspections.loc[dohmh_inspections.duplicated(keep='first'),:]"
   ]
  },
  {
   "cell_type": "code",
   "execution_count": null,
   "metadata": {
    "ExecuteTime": {
     "end_time": "2022-03-25T14:00:44.519563Z",
     "start_time": "2022-03-25T14:00:43.762531Z"
    }
   },
   "outputs": [],
   "source": [
    "dohmh_inspections.drop_duplicates().shape"
   ]
  },
  {
   "cell_type": "code",
   "execution_count": null,
   "metadata": {
    "ExecuteTime": {
     "end_time": "2022-03-25T14:00:47.862026Z",
     "start_time": "2022-03-25T14:00:47.835019Z"
    }
   },
   "outputs": [],
   "source": [
    "dohmh_inspections.duplicated(subset=['camis']).sum()"
   ]
  },
  {
   "cell_type": "code",
   "execution_count": null,
   "metadata": {
    "ExecuteTime": {
     "end_time": "2022-03-25T14:01:12.814518Z",
     "start_time": "2022-03-25T14:01:12.801669Z"
    }
   },
   "outputs": [],
   "source": [
    "dohmh_inspections['camis'].nunique()"
   ]
  },
  {
   "cell_type": "markdown",
   "metadata": {},
   "source": [
    "There are approximately 28,000 restaurants that have been inspected by the DOHMH. Let's check out how many have ever been flagged for a critical violation."
   ]
  },
  {
   "cell_type": "markdown",
   "metadata": {},
   "source": [
    "## Mapping with Follium"
   ]
  },
  {
   "cell_type": "code",
   "execution_count": null,
   "metadata": {},
   "outputs": [],
   "source": [
    "\n"
   ]
  }
 ],
 "metadata": {
  "kernelspec": {
   "display_name": "Python (learn-env)",
   "language": "python",
   "name": "learn-env"
  },
  "language_info": {
   "codemirror_mode": {
    "name": "ipython",
    "version": 3
   },
   "file_extension": ".py",
   "mimetype": "text/x-python",
   "name": "python",
   "nbconvert_exporter": "python",
   "pygments_lexer": "ipython3",
   "version": "3.8.5"
  },
  "toc": {
   "base_numbering": 1,
   "nav_menu": {},
   "number_sections": true,
   "sideBar": true,
   "skip_h1_title": false,
   "title_cell": "Table of Contents",
   "title_sidebar": "Contents",
   "toc_cell": false,
   "toc_position": {
    "height": "calc(100% - 180px)",
    "left": "10px",
    "top": "150px",
    "width": "248px"
   },
   "toc_section_display": true,
   "toc_window_display": true
  }
 },
 "nbformat": 4,
 "nbformat_minor": 4
}
