{
 "cells": [
  {
   "cell_type": "code",
   "execution_count": 1,
   "metadata": {
    "ExecuteTime": {
     "end_time": "2022-04-19T01:52:13.737358Z",
     "start_time": "2022-04-19T01:52:05.691761Z"
    }
   },
   "outputs": [],
   "source": [
    "from IPython import display\n",
    "from bs4 import BeautifulSoup as bs\n",
    "import requests\n",
    "import json\n",
    "from sodapy import Socrata\n",
    "import pandas as pd\n",
    "import numpy as np\n",
    "import matplotlib.pyplot as plt\n",
    "%matplotlib inline\n",
    "import seaborn as sns\n",
    "import warnings\n",
    "import time\n",
    "warnings.filterwarnings(\"ignore\")\n",
    "pd.set_option('display.max_colwidth',None)\n",
    "pd.set_option('display.max_columns',50)\n",
    "pd.options.display.float_format = '{:.1f}'.format\n",
    "\n",
    "from sklearn.preprocessing import OneHotEncoder\n"
   ]
  },
  {
   "cell_type": "markdown",
   "metadata": {},
   "source": [
    "# Introduction"
   ]
  },
  {
   "cell_type": "markdown",
   "metadata": {},
   "source": [
    "According to the CDC, more than 48 million Americans per year become sick from food, and an estimated 75% of the outbreaks came from food prepared by caterers, delis, and restaurants. In most cities, health inspections are generally random, which can increase time spent on spot checks at clean restaurants that have been following the rules closely — and missed opportunities to improve health and hygiene at places with more pressing food safety issues.\n",
    "\n",
    "The goal for this project is to leverage public citizen generated data from social media to narrow the search for critical health and safety violations in New York City. As the City of New York manages  an open data portal, everyone can access historical hygiene inspections and violation records. By combine these two data source this project aims to determine which words, phrases, ratings, and patterns among restaurants lead to critical health and safety violations. This model can assist city health inspectors do their job better by prioritizing the kitchens most likely to be in violation of code."
   ]
  },
  {
   "cell_type": "markdown",
   "metadata": {},
   "source": [
    "# Obtain"
   ]
  },
  {
   "cell_type": "markdown",
   "metadata": {},
   "source": [
    "This project requires data pulled from two different sources, the City of New York and Yelp. To obtain the data we will call the API keys."
   ]
  },
  {
   "cell_type": "markdown",
   "metadata": {},
   "source": [
    "## NYC Open Data Portal"
   ]
  },
  {
   "cell_type": "markdown",
   "metadata": {},
   "source": []
  },
  {
   "cell_type": "code",
   "execution_count": 2,
   "metadata": {
    "ExecuteTime": {
     "end_time": "2022-04-16T16:29:08.031411Z",
     "start_time": "2022-04-16T16:29:06.515611Z"
    }
   },
   "outputs": [
    {
     "data": {
      "text/html": [
       "<div>\n",
       "<style scoped>\n",
       "    .dataframe tbody tr th:only-of-type {\n",
       "        vertical-align: middle;\n",
       "    }\n",
       "\n",
       "    .dataframe tbody tr th {\n",
       "        vertical-align: top;\n",
       "    }\n",
       "\n",
       "    .dataframe thead th {\n",
       "        text-align: right;\n",
       "    }\n",
       "</style>\n",
       "<table border=\"1\" class=\"dataframe\">\n",
       "  <thead>\n",
       "    <tr style=\"text-align: right;\">\n",
       "      <th></th>\n",
       "      <th>CAMIS</th>\n",
       "      <th>DBA</th>\n",
       "      <th>BORO</th>\n",
       "      <th>BUILDING</th>\n",
       "      <th>STREET</th>\n",
       "      <th>ZIPCODE</th>\n",
       "      <th>PHONE</th>\n",
       "      <th>CUISINE DESCRIPTION</th>\n",
       "      <th>INSPECTION DATE</th>\n",
       "      <th>ACTION</th>\n",
       "      <th>VIOLATION CODE</th>\n",
       "      <th>VIOLATION DESCRIPTION</th>\n",
       "      <th>CRITICAL FLAG</th>\n",
       "      <th>SCORE</th>\n",
       "      <th>GRADE</th>\n",
       "      <th>GRADE DATE</th>\n",
       "      <th>RECORD DATE</th>\n",
       "      <th>INSPECTION TYPE</th>\n",
       "      <th>Latitude</th>\n",
       "      <th>Longitude</th>\n",
       "      <th>Community Board</th>\n",
       "      <th>Council District</th>\n",
       "      <th>Census Tract</th>\n",
       "      <th>BIN</th>\n",
       "      <th>BBL</th>\n",
       "      <th>NTA</th>\n",
       "    </tr>\n",
       "  </thead>\n",
       "  <tbody>\n",
       "    <tr>\n",
       "      <th>0</th>\n",
       "      <td>50008319</td>\n",
       "      <td>POULETTE</td>\n",
       "      <td>Manhattan</td>\n",
       "      <td>790</td>\n",
       "      <td>9 AVENUE</td>\n",
       "      <td>10019.0</td>\n",
       "      <td>2129569488</td>\n",
       "      <td>Chicken</td>\n",
       "      <td>01/28/2019</td>\n",
       "      <td>Violations were cited in the following area(s).</td>\n",
       "      <td>04D</td>\n",
       "      <td>Food worker does not wash hands thoroughly after using the toilet, coughing, sneezing, smoking, ...</td>\n",
       "      <td>Critical</td>\n",
       "      <td>22</td>\n",
       "      <td>NaN</td>\n",
       "      <td>NaN</td>\n",
       "      <td>03/24/2022</td>\n",
       "      <td>Cycle Inspection / Initial Inspection</td>\n",
       "      <td>40.765040</td>\n",
       "      <td>-73.987795</td>\n",
       "      <td>104.0</td>\n",
       "      <td>3.0</td>\n",
       "      <td>13300.0</td>\n",
       "      <td>1025235.0</td>\n",
       "      <td>1.010430e+09</td>\n",
       "      <td>MN15</td>\n",
       "    </tr>\n",
       "    <tr>\n",
       "      <th>1</th>\n",
       "      <td>41678734</td>\n",
       "      <td>TINY'S DINER</td>\n",
       "      <td>Bronx</td>\n",
       "      <td>3603</td>\n",
       "      <td>RIVERDALE AVENUE</td>\n",
       "      <td>10463.0</td>\n",
       "      <td>7187087600</td>\n",
       "      <td>American</td>\n",
       "      <td>09/23/2019</td>\n",
       "      <td>Violations were cited in the following area(s).</td>\n",
       "      <td>04M</td>\n",
       "      <td>Live roaches present in facility's food and/or non-food areas.</td>\n",
       "      <td>Critical</td>\n",
       "      <td>24</td>\n",
       "      <td>NaN</td>\n",
       "      <td>NaN</td>\n",
       "      <td>03/24/2022</td>\n",
       "      <td>Cycle Inspection / Initial Inspection</td>\n",
       "      <td>40.886691</td>\n",
       "      <td>-73.907056</td>\n",
       "      <td>208.0</td>\n",
       "      <td>11.0</td>\n",
       "      <td>29500.0</td>\n",
       "      <td>2084186.0</td>\n",
       "      <td>2.057960e+09</td>\n",
       "      <td>BX29</td>\n",
       "    </tr>\n",
       "    <tr>\n",
       "      <th>2</th>\n",
       "      <td>40795021</td>\n",
       "      <td>TAO RESTAURANT</td>\n",
       "      <td>Manhattan</td>\n",
       "      <td>42</td>\n",
       "      <td>EAST   58 STREET</td>\n",
       "      <td>10022.0</td>\n",
       "      <td>2128882288</td>\n",
       "      <td>Asian/Asian Fusion</td>\n",
       "      <td>03/11/2020</td>\n",
       "      <td>Violations were cited in the following area(s).</td>\n",
       "      <td>10F</td>\n",
       "      <td>Non-food contact surface improperly constructed. Unacceptable material used. Non-food contact su...</td>\n",
       "      <td>Not Critical</td>\n",
       "      <td>9</td>\n",
       "      <td>NaN</td>\n",
       "      <td>NaN</td>\n",
       "      <td>03/24/2022</td>\n",
       "      <td>Cycle Inspection / Initial Inspection</td>\n",
       "      <td>40.762786</td>\n",
       "      <td>-73.971486</td>\n",
       "      <td>105.0</td>\n",
       "      <td>4.0</td>\n",
       "      <td>11202.0</td>\n",
       "      <td>1036073.0</td>\n",
       "      <td>1.012930e+09</td>\n",
       "      <td>MN17</td>\n",
       "    </tr>\n",
       "    <tr>\n",
       "      <th>3</th>\n",
       "      <td>40795021</td>\n",
       "      <td>TAO RESTAURANT</td>\n",
       "      <td>Manhattan</td>\n",
       "      <td>42</td>\n",
       "      <td>EAST   58 STREET</td>\n",
       "      <td>10022.0</td>\n",
       "      <td>2128882288</td>\n",
       "      <td>Asian/Asian Fusion</td>\n",
       "      <td>03/11/2020</td>\n",
       "      <td>Violations were cited in the following area(s).</td>\n",
       "      <td>10F</td>\n",
       "      <td>Non-food contact surface improperly constructed. Unacceptable material used. Non-food contact su...</td>\n",
       "      <td>Not Critical</td>\n",
       "      <td>9</td>\n",
       "      <td>NaN</td>\n",
       "      <td>NaN</td>\n",
       "      <td>03/24/2022</td>\n",
       "      <td>Cycle Inspection / Initial Inspection</td>\n",
       "      <td>40.762786</td>\n",
       "      <td>-73.971486</td>\n",
       "      <td>105.0</td>\n",
       "      <td>4.0</td>\n",
       "      <td>11202.0</td>\n",
       "      <td>1036073.0</td>\n",
       "      <td>1.012930e+09</td>\n",
       "      <td>MN17</td>\n",
       "    </tr>\n",
       "    <tr>\n",
       "      <th>4</th>\n",
       "      <td>40538234</td>\n",
       "      <td>DUNKIN',' BASKIN ROBBINS</td>\n",
       "      <td>Queens</td>\n",
       "      <td>9925</td>\n",
       "      <td>HORACE HARDING EXPRESSWAY</td>\n",
       "      <td>11368.0</td>\n",
       "      <td>7182719222</td>\n",
       "      <td>Donuts</td>\n",
       "      <td>07/29/2021</td>\n",
       "      <td>Violations were cited in the following area(s).</td>\n",
       "      <td>06E</td>\n",
       "      <td>Sanitized equipment or utensil, including in-use food dispensing utensil, improperly used or sto...</td>\n",
       "      <td>Critical</td>\n",
       "      <td>10</td>\n",
       "      <td>A</td>\n",
       "      <td>07/29/2021</td>\n",
       "      <td>03/24/2022</td>\n",
       "      <td>Cycle Inspection / Initial Inspection</td>\n",
       "      <td>40.736185</td>\n",
       "      <td>-73.858052</td>\n",
       "      <td>404.0</td>\n",
       "      <td>21.0</td>\n",
       "      <td>43702.0</td>\n",
       "      <td>4047915.0</td>\n",
       "      <td>4.019480e+09</td>\n",
       "      <td>QN25</td>\n",
       "    </tr>\n",
       "    <tr>\n",
       "      <th>...</th>\n",
       "      <td>...</td>\n",
       "      <td>...</td>\n",
       "      <td>...</td>\n",
       "      <td>...</td>\n",
       "      <td>...</td>\n",
       "      <td>...</td>\n",
       "      <td>...</td>\n",
       "      <td>...</td>\n",
       "      <td>...</td>\n",
       "      <td>...</td>\n",
       "      <td>...</td>\n",
       "      <td>...</td>\n",
       "      <td>...</td>\n",
       "      <td>...</td>\n",
       "      <td>...</td>\n",
       "      <td>...</td>\n",
       "      <td>...</td>\n",
       "      <td>...</td>\n",
       "      <td>...</td>\n",
       "      <td>...</td>\n",
       "      <td>...</td>\n",
       "      <td>...</td>\n",
       "      <td>...</td>\n",
       "      <td>...</td>\n",
       "      <td>...</td>\n",
       "      <td>...</td>\n",
       "    </tr>\n",
       "    <tr>\n",
       "      <th>186222</th>\n",
       "      <td>41556790</td>\n",
       "      <td>FIVE GUYS FAMOUS BURGERS AND FRIES</td>\n",
       "      <td>Manhattan</td>\n",
       "      <td>2847</td>\n",
       "      <td>BROADFWAY</td>\n",
       "      <td>NaN</td>\n",
       "      <td>2126787701</td>\n",
       "      <td>Hamburgers</td>\n",
       "      <td>03/01/2019</td>\n",
       "      <td>Violations were cited in the following area(s).</td>\n",
       "      <td>10F</td>\n",
       "      <td>Non-food contact surface improperly constructed. Unacceptable material used. Non-food contact su...</td>\n",
       "      <td>Not Critical</td>\n",
       "      <td>3</td>\n",
       "      <td>A</td>\n",
       "      <td>03/01/2019</td>\n",
       "      <td>03/24/2022</td>\n",
       "      <td>Cycle Inspection / Initial Inspection</td>\n",
       "      <td>0.000000</td>\n",
       "      <td>0.000000</td>\n",
       "      <td>NaN</td>\n",
       "      <td>NaN</td>\n",
       "      <td>NaN</td>\n",
       "      <td>NaN</td>\n",
       "      <td>1.000000e+00</td>\n",
       "      <td>NaN</td>\n",
       "    </tr>\n",
       "    <tr>\n",
       "      <th>186223</th>\n",
       "      <td>50032876</td>\n",
       "      <td>TANNER SMITH'S</td>\n",
       "      <td>Manhattan</td>\n",
       "      <td>204</td>\n",
       "      <td>WEST   55 STREET</td>\n",
       "      <td>10019.0</td>\n",
       "      <td>9175172283</td>\n",
       "      <td>American</td>\n",
       "      <td>06/07/2019</td>\n",
       "      <td>Violations were cited in the following area(s).</td>\n",
       "      <td>08A</td>\n",
       "      <td>Facility not vermin proof. Harborage or conditions conducive to attracting vermin to the premise...</td>\n",
       "      <td>Not Critical</td>\n",
       "      <td>12</td>\n",
       "      <td>A</td>\n",
       "      <td>06/07/2019</td>\n",
       "      <td>03/24/2022</td>\n",
       "      <td>Cycle Inspection / Initial Inspection</td>\n",
       "      <td>40.764364</td>\n",
       "      <td>-73.981362</td>\n",
       "      <td>105.0</td>\n",
       "      <td>4.0</td>\n",
       "      <td>13700.0</td>\n",
       "      <td>1024857.0</td>\n",
       "      <td>1.010260e+09</td>\n",
       "      <td>MN17</td>\n",
       "    </tr>\n",
       "    <tr>\n",
       "      <th>186224</th>\n",
       "      <td>50003842</td>\n",
       "      <td>T- 45</td>\n",
       "      <td>Manhattan</td>\n",
       "      <td>135</td>\n",
       "      <td>WEST   45 STREET</td>\n",
       "      <td>10036.0</td>\n",
       "      <td>6466403775</td>\n",
       "      <td>American</td>\n",
       "      <td>07/26/2018</td>\n",
       "      <td>Violations were cited in the following area(s).</td>\n",
       "      <td>10B</td>\n",
       "      <td>Plumbing not properly installed or maintained; anti-siphonage or backflow prevention device not ...</td>\n",
       "      <td>Not Critical</td>\n",
       "      <td>49</td>\n",
       "      <td>NaN</td>\n",
       "      <td>NaN</td>\n",
       "      <td>03/24/2022</td>\n",
       "      <td>Cycle Inspection / Initial Inspection</td>\n",
       "      <td>40.757244</td>\n",
       "      <td>-73.983815</td>\n",
       "      <td>105.0</td>\n",
       "      <td>4.0</td>\n",
       "      <td>11900.0</td>\n",
       "      <td>1089796.0</td>\n",
       "      <td>1.009980e+09</td>\n",
       "      <td>MN17</td>\n",
       "    </tr>\n",
       "    <tr>\n",
       "      <th>186225</th>\n",
       "      <td>41640824</td>\n",
       "      <td>RICURAS ECUADORIAN BAKERY</td>\n",
       "      <td>Bronx</td>\n",
       "      <td>1576</td>\n",
       "      <td>WATSON AVENUE</td>\n",
       "      <td>10472.0</td>\n",
       "      <td>7184508363</td>\n",
       "      <td>Spanish</td>\n",
       "      <td>07/20/2018</td>\n",
       "      <td>Violations were cited in the following area(s).</td>\n",
       "      <td>06F</td>\n",
       "      <td>Wiping cloths soiled or not stored in sanitizing solution.</td>\n",
       "      <td>Critical</td>\n",
       "      <td>12</td>\n",
       "      <td>A</td>\n",
       "      <td>07/20/2018</td>\n",
       "      <td>03/24/2022</td>\n",
       "      <td>Cycle Inspection / Initial Inspection</td>\n",
       "      <td>40.826352</td>\n",
       "      <td>-73.876066</td>\n",
       "      <td>209.0</td>\n",
       "      <td>18.0</td>\n",
       "      <td>5001.0</td>\n",
       "      <td>2023533.0</td>\n",
       "      <td>2.037160e+09</td>\n",
       "      <td>BX55</td>\n",
       "    </tr>\n",
       "    <tr>\n",
       "      <th>186226</th>\n",
       "      <td>41450971</td>\n",
       "      <td>GIOVANNI'S RESTAURANT</td>\n",
       "      <td>Bronx</td>\n",
       "      <td>3209</td>\n",
       "      <td>WESTCHESTER AVENUE</td>\n",
       "      <td>10461.0</td>\n",
       "      <td>7188924340</td>\n",
       "      <td>Pizza</td>\n",
       "      <td>06/21/2017</td>\n",
       "      <td>Violations were cited in the following area(s).</td>\n",
       "      <td>06D</td>\n",
       "      <td>Food contact surface not properly washed, rinsed and sanitized after each use and following any ...</td>\n",
       "      <td>Critical</td>\n",
       "      <td>16</td>\n",
       "      <td>NaN</td>\n",
       "      <td>NaN</td>\n",
       "      <td>03/24/2022</td>\n",
       "      <td>Cycle Inspection / Initial Inspection</td>\n",
       "      <td>40.851761</td>\n",
       "      <td>-73.829569</td>\n",
       "      <td>210.0</td>\n",
       "      <td>13.0</td>\n",
       "      <td>30000.0</td>\n",
       "      <td>2047655.0</td>\n",
       "      <td>2.042450e+09</td>\n",
       "      <td>BX10</td>\n",
       "    </tr>\n",
       "  </tbody>\n",
       "</table>\n",
       "<p>186227 rows × 26 columns</p>\n",
       "</div>"
      ],
      "text/plain": [
       "           CAMIS                                 DBA       BORO BUILDING  \\\n",
       "0       50008319                            POULETTE  Manhattan      790   \n",
       "1       41678734                        TINY'S DINER      Bronx     3603   \n",
       "2       40795021                      TAO RESTAURANT  Manhattan       42   \n",
       "3       40795021                      TAO RESTAURANT  Manhattan       42   \n",
       "4       40538234            DUNKIN',' BASKIN ROBBINS     Queens     9925   \n",
       "...          ...                                 ...        ...      ...   \n",
       "186222  41556790  FIVE GUYS FAMOUS BURGERS AND FRIES  Manhattan     2847   \n",
       "186223  50032876                      TANNER SMITH'S  Manhattan      204   \n",
       "186224  50003842                               T- 45  Manhattan      135   \n",
       "186225  41640824           RICURAS ECUADORIAN BAKERY      Bronx     1576   \n",
       "186226  41450971               GIOVANNI'S RESTAURANT      Bronx     3209   \n",
       "\n",
       "                           STREET  ZIPCODE       PHONE CUISINE DESCRIPTION  \\\n",
       "0                        9 AVENUE  10019.0  2129569488             Chicken   \n",
       "1                RIVERDALE AVENUE  10463.0  7187087600            American   \n",
       "2                EAST   58 STREET  10022.0  2128882288  Asian/Asian Fusion   \n",
       "3                EAST   58 STREET  10022.0  2128882288  Asian/Asian Fusion   \n",
       "4       HORACE HARDING EXPRESSWAY  11368.0  7182719222              Donuts   \n",
       "...                           ...      ...         ...                 ...   \n",
       "186222                  BROADFWAY      NaN  2126787701          Hamburgers   \n",
       "186223           WEST   55 STREET  10019.0  9175172283            American   \n",
       "186224           WEST   45 STREET  10036.0  6466403775            American   \n",
       "186225              WATSON AVENUE  10472.0  7184508363             Spanish   \n",
       "186226         WESTCHESTER AVENUE  10461.0  7188924340               Pizza   \n",
       "\n",
       "       INSPECTION DATE                                           ACTION  \\\n",
       "0           01/28/2019  Violations were cited in the following area(s).   \n",
       "1           09/23/2019  Violations were cited in the following area(s).   \n",
       "2           03/11/2020  Violations were cited in the following area(s).   \n",
       "3           03/11/2020  Violations were cited in the following area(s).   \n",
       "4           07/29/2021  Violations were cited in the following area(s).   \n",
       "...                ...                                              ...   \n",
       "186222      03/01/2019  Violations were cited in the following area(s).   \n",
       "186223      06/07/2019  Violations were cited in the following area(s).   \n",
       "186224      07/26/2018  Violations were cited in the following area(s).   \n",
       "186225      07/20/2018  Violations were cited in the following area(s).   \n",
       "186226      06/21/2017  Violations were cited in the following area(s).   \n",
       "\n",
       "       VIOLATION CODE  \\\n",
       "0                 04D   \n",
       "1                 04M   \n",
       "2                 10F   \n",
       "3                 10F   \n",
       "4                 06E   \n",
       "...               ...   \n",
       "186222            10F   \n",
       "186223            08A   \n",
       "186224            10B   \n",
       "186225            06F   \n",
       "186226            06D   \n",
       "\n",
       "                                                                                      VIOLATION DESCRIPTION  \\\n",
       "0       Food worker does not wash hands thoroughly after using the toilet, coughing, sneezing, smoking, ...   \n",
       "1                                            Live roaches present in facility's food and/or non-food areas.   \n",
       "2       Non-food contact surface improperly constructed. Unacceptable material used. Non-food contact su...   \n",
       "3       Non-food contact surface improperly constructed. Unacceptable material used. Non-food contact su...   \n",
       "4       Sanitized equipment or utensil, including in-use food dispensing utensil, improperly used or sto...   \n",
       "...                                                                                                     ...   \n",
       "186222  Non-food contact surface improperly constructed. Unacceptable material used. Non-food contact su...   \n",
       "186223  Facility not vermin proof. Harborage or conditions conducive to attracting vermin to the premise...   \n",
       "186224  Plumbing not properly installed or maintained; anti-siphonage or backflow prevention device not ...   \n",
       "186225                                           Wiping cloths soiled or not stored in sanitizing solution.   \n",
       "186226  Food contact surface not properly washed, rinsed and sanitized after each use and following any ...   \n",
       "\n",
       "       CRITICAL FLAG  SCORE GRADE  GRADE DATE RECORD DATE  \\\n",
       "0           Critical     22   NaN         NaN  03/24/2022   \n",
       "1           Critical     24   NaN         NaN  03/24/2022   \n",
       "2       Not Critical      9   NaN         NaN  03/24/2022   \n",
       "3       Not Critical      9   NaN         NaN  03/24/2022   \n",
       "4           Critical     10     A  07/29/2021  03/24/2022   \n",
       "...              ...    ...   ...         ...         ...   \n",
       "186222  Not Critical      3     A  03/01/2019  03/24/2022   \n",
       "186223  Not Critical     12     A  06/07/2019  03/24/2022   \n",
       "186224  Not Critical     49   NaN         NaN  03/24/2022   \n",
       "186225      Critical     12     A  07/20/2018  03/24/2022   \n",
       "186226      Critical     16   NaN         NaN  03/24/2022   \n",
       "\n",
       "                              INSPECTION TYPE   Latitude  Longitude  \\\n",
       "0       Cycle Inspection / Initial Inspection  40.765040 -73.987795   \n",
       "1       Cycle Inspection / Initial Inspection  40.886691 -73.907056   \n",
       "2       Cycle Inspection / Initial Inspection  40.762786 -73.971486   \n",
       "3       Cycle Inspection / Initial Inspection  40.762786 -73.971486   \n",
       "4       Cycle Inspection / Initial Inspection  40.736185 -73.858052   \n",
       "...                                       ...        ...        ...   \n",
       "186222  Cycle Inspection / Initial Inspection   0.000000   0.000000   \n",
       "186223  Cycle Inspection / Initial Inspection  40.764364 -73.981362   \n",
       "186224  Cycle Inspection / Initial Inspection  40.757244 -73.983815   \n",
       "186225  Cycle Inspection / Initial Inspection  40.826352 -73.876066   \n",
       "186226  Cycle Inspection / Initial Inspection  40.851761 -73.829569   \n",
       "\n",
       "        Community Board  Council District  Census Tract        BIN  \\\n",
       "0                 104.0               3.0       13300.0  1025235.0   \n",
       "1                 208.0              11.0       29500.0  2084186.0   \n",
       "2                 105.0               4.0       11202.0  1036073.0   \n",
       "3                 105.0               4.0       11202.0  1036073.0   \n",
       "4                 404.0              21.0       43702.0  4047915.0   \n",
       "...                 ...               ...           ...        ...   \n",
       "186222              NaN               NaN           NaN        NaN   \n",
       "186223            105.0               4.0       13700.0  1024857.0   \n",
       "186224            105.0               4.0       11900.0  1089796.0   \n",
       "186225            209.0              18.0        5001.0  2023533.0   \n",
       "186226            210.0              13.0       30000.0  2047655.0   \n",
       "\n",
       "                 BBL   NTA  \n",
       "0       1.010430e+09  MN15  \n",
       "1       2.057960e+09  BX29  \n",
       "2       1.012930e+09  MN17  \n",
       "3       1.012930e+09  MN17  \n",
       "4       4.019480e+09  QN25  \n",
       "...              ...   ...  \n",
       "186222  1.000000e+00   NaN  \n",
       "186223  1.010260e+09  MN17  \n",
       "186224  1.009980e+09  MN17  \n",
       "186225  2.037160e+09  BX55  \n",
       "186226  2.042450e+09  BX10  \n",
       "\n",
       "[186227 rows x 26 columns]"
      ]
     },
     "execution_count": 2,
     "metadata": {},
     "output_type": "execute_result"
    }
   ],
   "source": [
    "doh = pd.read_csv('data/DOHMH_New_York_City_Restaurant_Inspection_Results.csv')\n",
    "doh"
   ]
  },
  {
   "cell_type": "code",
   "execution_count": 3,
   "metadata": {
    "ExecuteTime": {
     "end_time": "2022-04-16T16:29:10.818411Z",
     "start_time": "2022-04-16T16:29:10.601547Z"
    }
   },
   "outputs": [
    {
     "name": "stdout",
     "output_type": "stream",
     "text": [
      "<class 'pandas.core.frame.DataFrame'>\n",
      "RangeIndex: 186227 entries, 0 to 186226\n",
      "Data columns (total 26 columns):\n",
      " #   Column                 Non-Null Count   Dtype  \n",
      "---  ------                 --------------   -----  \n",
      " 0   CAMIS                  186227 non-null  int64  \n",
      " 1   DBA                    186200 non-null  object \n",
      " 2   BORO                   186227 non-null  object \n",
      " 3   BUILDING               185799 non-null  object \n",
      " 4   STREET                 186227 non-null  object \n",
      " 5   ZIPCODE                183146 non-null  float64\n",
      " 6   PHONE                  186214 non-null  object \n",
      " 7   CUISINE DESCRIPTION    186226 non-null  object \n",
      " 8   INSPECTION DATE        186227 non-null  object \n",
      " 9   ACTION                 186227 non-null  object \n",
      " 10  VIOLATION CODE         185413 non-null  object \n",
      " 11  VIOLATION DESCRIPTION  185863 non-null  object \n",
      " 12  CRITICAL FLAG          186227 non-null  object \n",
      " 13  SCORE                  186227 non-null  int64  \n",
      " 14  GRADE                  67933 non-null   object \n",
      " 15  GRADE DATE             67238 non-null   object \n",
      " 16  RECORD DATE            186227 non-null  object \n",
      " 17  INSPECTION TYPE        186227 non-null  object \n",
      " 18  Latitude               186069 non-null  float64\n",
      " 19  Longitude              186069 non-null  float64\n",
      " 20  Community Board        182624 non-null  float64\n",
      " 21  Council District       182629 non-null  float64\n",
      " 22  Census Tract           182629 non-null  float64\n",
      " 23  BIN                    181803 non-null  float64\n",
      " 24  BBL                    185705 non-null  float64\n",
      " 25  NTA                    182624 non-null  object \n",
      "dtypes: float64(8), int64(2), object(16)\n",
      "memory usage: 36.9+ MB\n"
     ]
    }
   ],
   "source": [
    "doh.info()"
   ]
  },
  {
   "cell_type": "code",
   "execution_count": 4,
   "metadata": {
    "ExecuteTime": {
     "end_time": "2022-04-16T16:29:14.171695Z",
     "start_time": "2022-04-16T16:29:14.061136Z"
    }
   },
   "outputs": [],
   "source": [
    "doh.dropna(subset=['PHONE'],inplace=True)"
   ]
  },
  {
   "cell_type": "code",
   "execution_count": 5,
   "metadata": {
    "ExecuteTime": {
     "end_time": "2022-04-16T16:29:15.144678Z",
     "start_time": "2022-04-16T16:29:14.976498Z"
    }
   },
   "outputs": [
    {
     "name": "stdout",
     "output_type": "stream",
     "text": [
      "<class 'pandas.core.frame.DataFrame'>\n",
      "Int64Index: 186214 entries, 0 to 186226\n",
      "Data columns (total 26 columns):\n",
      " #   Column                 Non-Null Count   Dtype  \n",
      "---  ------                 --------------   -----  \n",
      " 0   CAMIS                  186214 non-null  int64  \n",
      " 1   DBA                    186187 non-null  object \n",
      " 2   BORO                   186214 non-null  object \n",
      " 3   BUILDING               185786 non-null  object \n",
      " 4   STREET                 186214 non-null  object \n",
      " 5   ZIPCODE                183133 non-null  float64\n",
      " 6   PHONE                  186214 non-null  object \n",
      " 7   CUISINE DESCRIPTION    186213 non-null  object \n",
      " 8   INSPECTION DATE        186214 non-null  object \n",
      " 9   ACTION                 186214 non-null  object \n",
      " 10  VIOLATION CODE         185400 non-null  object \n",
      " 11  VIOLATION DESCRIPTION  185850 non-null  object \n",
      " 12  CRITICAL FLAG          186214 non-null  object \n",
      " 13  SCORE                  186214 non-null  int64  \n",
      " 14  GRADE                  67924 non-null   object \n",
      " 15  GRADE DATE             67229 non-null   object \n",
      " 16  RECORD DATE            186214 non-null  object \n",
      " 17  INSPECTION TYPE        186214 non-null  object \n",
      " 18  Latitude               186056 non-null  float64\n",
      " 19  Longitude              186056 non-null  float64\n",
      " 20  Community Board        182611 non-null  float64\n",
      " 21  Council District       182616 non-null  float64\n",
      " 22  Census Tract           182616 non-null  float64\n",
      " 23  BIN                    181790 non-null  float64\n",
      " 24  BBL                    185692 non-null  float64\n",
      " 25  NTA                    182611 non-null  object \n",
      "dtypes: float64(8), int64(2), object(16)\n",
      "memory usage: 38.4+ MB\n"
     ]
    }
   ],
   "source": [
    "doh.info()"
   ]
  },
  {
   "cell_type": "code",
   "execution_count": 235,
   "metadata": {
    "ExecuteTime": {
     "end_time": "2022-04-17T22:50:17.685151Z",
     "start_time": "2022-04-17T22:50:17.657362Z"
    }
   },
   "outputs": [
    {
     "data": {
      "text/plain": [
       "19790"
      ]
     },
     "execution_count": 235,
     "metadata": {},
     "output_type": "execute_result"
    }
   ],
   "source": [
    "# How many unique restaurants are in this dataset?\n",
    "doh['CAMIS'].nunique()"
   ]
  },
  {
   "cell_type": "markdown",
   "metadata": {},
   "source": [
    "Health code violations found during an inspections carries a point value, and a restaurant’s score corresponds to a letter grade. A lower point score, leads to a better letter grade:\n",
    "\n",
    "\"A\" grade: 0 to 13 points for sanitary violations\n",
    "\"B\" grade: 14 to 27 points for sanitary violations\n",
    "\"C\" grade: 28 or more points for sanitary violations"
   ]
  },
  {
   "cell_type": "code",
   "execution_count": 7,
   "metadata": {
    "ExecuteTime": {
     "end_time": "2022-04-16T16:29:26.472000Z",
     "start_time": "2022-04-16T16:29:26.456607Z"
    }
   },
   "outputs": [],
   "source": [
    "doh['A'] = doh['SCORE'] < 14\n",
    "doh['B'] = (doh['SCORE'] > 13) & (doh['SCORE'] < 28)\n",
    "doh['C'] = doh['SCORE'] > 27"
   ]
  },
  {
   "cell_type": "code",
   "execution_count": 8,
   "metadata": {
    "ExecuteTime": {
     "end_time": "2022-04-16T16:29:27.293884Z",
     "start_time": "2022-04-16T16:29:27.229306Z"
    }
   },
   "outputs": [
    {
     "data": {
      "text/html": [
       "<div>\n",
       "<style scoped>\n",
       "    .dataframe tbody tr th:only-of-type {\n",
       "        vertical-align: middle;\n",
       "    }\n",
       "\n",
       "    .dataframe tbody tr th {\n",
       "        vertical-align: top;\n",
       "    }\n",
       "\n",
       "    .dataframe thead th {\n",
       "        text-align: right;\n",
       "    }\n",
       "</style>\n",
       "<table border=\"1\" class=\"dataframe\">\n",
       "  <thead>\n",
       "    <tr style=\"text-align: right;\">\n",
       "      <th></th>\n",
       "      <th>CAMIS</th>\n",
       "      <th>DBA</th>\n",
       "      <th>BORO</th>\n",
       "      <th>BUILDING</th>\n",
       "      <th>STREET</th>\n",
       "      <th>ZIPCODE</th>\n",
       "      <th>PHONE</th>\n",
       "      <th>CUISINE DESCRIPTION</th>\n",
       "      <th>INSPECTION DATE</th>\n",
       "      <th>ACTION</th>\n",
       "      <th>VIOLATION CODE</th>\n",
       "      <th>VIOLATION DESCRIPTION</th>\n",
       "      <th>CRITICAL FLAG</th>\n",
       "      <th>SCORE</th>\n",
       "      <th>GRADE</th>\n",
       "      <th>GRADE DATE</th>\n",
       "      <th>RECORD DATE</th>\n",
       "      <th>INSPECTION TYPE</th>\n",
       "      <th>Latitude</th>\n",
       "      <th>Longitude</th>\n",
       "      <th>Community Board</th>\n",
       "      <th>Council District</th>\n",
       "      <th>Census Tract</th>\n",
       "      <th>BIN</th>\n",
       "      <th>BBL</th>\n",
       "      <th>NTA</th>\n",
       "      <th>A</th>\n",
       "      <th>B</th>\n",
       "      <th>C</th>\n",
       "    </tr>\n",
       "  </thead>\n",
       "  <tbody>\n",
       "    <tr>\n",
       "      <th>0</th>\n",
       "      <td>50008319</td>\n",
       "      <td>POULETTE</td>\n",
       "      <td>Manhattan</td>\n",
       "      <td>790</td>\n",
       "      <td>9 AVENUE</td>\n",
       "      <td>10019.0</td>\n",
       "      <td>2129569488</td>\n",
       "      <td>Chicken</td>\n",
       "      <td>01/28/2019</td>\n",
       "      <td>Violations were cited in the following area(s).</td>\n",
       "      <td>04D</td>\n",
       "      <td>Food worker does not wash hands thoroughly after using the toilet, coughing, sneezing, smoking, ...</td>\n",
       "      <td>Critical</td>\n",
       "      <td>22</td>\n",
       "      <td>NaN</td>\n",
       "      <td>NaN</td>\n",
       "      <td>03/24/2022</td>\n",
       "      <td>Cycle Inspection / Initial Inspection</td>\n",
       "      <td>40.765040</td>\n",
       "      <td>-73.987795</td>\n",
       "      <td>104.0</td>\n",
       "      <td>3.0</td>\n",
       "      <td>13300.0</td>\n",
       "      <td>1025235.0</td>\n",
       "      <td>1.010430e+09</td>\n",
       "      <td>MN15</td>\n",
       "      <td>False</td>\n",
       "      <td>True</td>\n",
       "      <td>False</td>\n",
       "    </tr>\n",
       "    <tr>\n",
       "      <th>1</th>\n",
       "      <td>41678734</td>\n",
       "      <td>TINY'S DINER</td>\n",
       "      <td>Bronx</td>\n",
       "      <td>3603</td>\n",
       "      <td>RIVERDALE AVENUE</td>\n",
       "      <td>10463.0</td>\n",
       "      <td>7187087600</td>\n",
       "      <td>American</td>\n",
       "      <td>09/23/2019</td>\n",
       "      <td>Violations were cited in the following area(s).</td>\n",
       "      <td>04M</td>\n",
       "      <td>Live roaches present in facility's food and/or non-food areas.</td>\n",
       "      <td>Critical</td>\n",
       "      <td>24</td>\n",
       "      <td>NaN</td>\n",
       "      <td>NaN</td>\n",
       "      <td>03/24/2022</td>\n",
       "      <td>Cycle Inspection / Initial Inspection</td>\n",
       "      <td>40.886691</td>\n",
       "      <td>-73.907056</td>\n",
       "      <td>208.0</td>\n",
       "      <td>11.0</td>\n",
       "      <td>29500.0</td>\n",
       "      <td>2084186.0</td>\n",
       "      <td>2.057960e+09</td>\n",
       "      <td>BX29</td>\n",
       "      <td>False</td>\n",
       "      <td>True</td>\n",
       "      <td>False</td>\n",
       "    </tr>\n",
       "    <tr>\n",
       "      <th>2</th>\n",
       "      <td>40795021</td>\n",
       "      <td>TAO RESTAURANT</td>\n",
       "      <td>Manhattan</td>\n",
       "      <td>42</td>\n",
       "      <td>EAST   58 STREET</td>\n",
       "      <td>10022.0</td>\n",
       "      <td>2128882288</td>\n",
       "      <td>Asian/Asian Fusion</td>\n",
       "      <td>03/11/2020</td>\n",
       "      <td>Violations were cited in the following area(s).</td>\n",
       "      <td>10F</td>\n",
       "      <td>Non-food contact surface improperly constructed. Unacceptable material used. Non-food contact su...</td>\n",
       "      <td>Not Critical</td>\n",
       "      <td>9</td>\n",
       "      <td>NaN</td>\n",
       "      <td>NaN</td>\n",
       "      <td>03/24/2022</td>\n",
       "      <td>Cycle Inspection / Initial Inspection</td>\n",
       "      <td>40.762786</td>\n",
       "      <td>-73.971486</td>\n",
       "      <td>105.0</td>\n",
       "      <td>4.0</td>\n",
       "      <td>11202.0</td>\n",
       "      <td>1036073.0</td>\n",
       "      <td>1.012930e+09</td>\n",
       "      <td>MN17</td>\n",
       "      <td>True</td>\n",
       "      <td>False</td>\n",
       "      <td>False</td>\n",
       "    </tr>\n",
       "    <tr>\n",
       "      <th>3</th>\n",
       "      <td>40795021</td>\n",
       "      <td>TAO RESTAURANT</td>\n",
       "      <td>Manhattan</td>\n",
       "      <td>42</td>\n",
       "      <td>EAST   58 STREET</td>\n",
       "      <td>10022.0</td>\n",
       "      <td>2128882288</td>\n",
       "      <td>Asian/Asian Fusion</td>\n",
       "      <td>03/11/2020</td>\n",
       "      <td>Violations were cited in the following area(s).</td>\n",
       "      <td>10F</td>\n",
       "      <td>Non-food contact surface improperly constructed. Unacceptable material used. Non-food contact su...</td>\n",
       "      <td>Not Critical</td>\n",
       "      <td>9</td>\n",
       "      <td>NaN</td>\n",
       "      <td>NaN</td>\n",
       "      <td>03/24/2022</td>\n",
       "      <td>Cycle Inspection / Initial Inspection</td>\n",
       "      <td>40.762786</td>\n",
       "      <td>-73.971486</td>\n",
       "      <td>105.0</td>\n",
       "      <td>4.0</td>\n",
       "      <td>11202.0</td>\n",
       "      <td>1036073.0</td>\n",
       "      <td>1.012930e+09</td>\n",
       "      <td>MN17</td>\n",
       "      <td>True</td>\n",
       "      <td>False</td>\n",
       "      <td>False</td>\n",
       "    </tr>\n",
       "    <tr>\n",
       "      <th>4</th>\n",
       "      <td>40538234</td>\n",
       "      <td>DUNKIN',' BASKIN ROBBINS</td>\n",
       "      <td>Queens</td>\n",
       "      <td>9925</td>\n",
       "      <td>HORACE HARDING EXPRESSWAY</td>\n",
       "      <td>11368.0</td>\n",
       "      <td>7182719222</td>\n",
       "      <td>Donuts</td>\n",
       "      <td>07/29/2021</td>\n",
       "      <td>Violations were cited in the following area(s).</td>\n",
       "      <td>06E</td>\n",
       "      <td>Sanitized equipment or utensil, including in-use food dispensing utensil, improperly used or sto...</td>\n",
       "      <td>Critical</td>\n",
       "      <td>10</td>\n",
       "      <td>A</td>\n",
       "      <td>07/29/2021</td>\n",
       "      <td>03/24/2022</td>\n",
       "      <td>Cycle Inspection / Initial Inspection</td>\n",
       "      <td>40.736185</td>\n",
       "      <td>-73.858052</td>\n",
       "      <td>404.0</td>\n",
       "      <td>21.0</td>\n",
       "      <td>43702.0</td>\n",
       "      <td>4047915.0</td>\n",
       "      <td>4.019480e+09</td>\n",
       "      <td>QN25</td>\n",
       "      <td>True</td>\n",
       "      <td>False</td>\n",
       "      <td>False</td>\n",
       "    </tr>\n",
       "    <tr>\n",
       "      <th>...</th>\n",
       "      <td>...</td>\n",
       "      <td>...</td>\n",
       "      <td>...</td>\n",
       "      <td>...</td>\n",
       "      <td>...</td>\n",
       "      <td>...</td>\n",
       "      <td>...</td>\n",
       "      <td>...</td>\n",
       "      <td>...</td>\n",
       "      <td>...</td>\n",
       "      <td>...</td>\n",
       "      <td>...</td>\n",
       "      <td>...</td>\n",
       "      <td>...</td>\n",
       "      <td>...</td>\n",
       "      <td>...</td>\n",
       "      <td>...</td>\n",
       "      <td>...</td>\n",
       "      <td>...</td>\n",
       "      <td>...</td>\n",
       "      <td>...</td>\n",
       "      <td>...</td>\n",
       "      <td>...</td>\n",
       "      <td>...</td>\n",
       "      <td>...</td>\n",
       "      <td>...</td>\n",
       "      <td>...</td>\n",
       "      <td>...</td>\n",
       "      <td>...</td>\n",
       "    </tr>\n",
       "    <tr>\n",
       "      <th>186222</th>\n",
       "      <td>41556790</td>\n",
       "      <td>FIVE GUYS FAMOUS BURGERS AND FRIES</td>\n",
       "      <td>Manhattan</td>\n",
       "      <td>2847</td>\n",
       "      <td>BROADFWAY</td>\n",
       "      <td>NaN</td>\n",
       "      <td>2126787701</td>\n",
       "      <td>Hamburgers</td>\n",
       "      <td>03/01/2019</td>\n",
       "      <td>Violations were cited in the following area(s).</td>\n",
       "      <td>10F</td>\n",
       "      <td>Non-food contact surface improperly constructed. Unacceptable material used. Non-food contact su...</td>\n",
       "      <td>Not Critical</td>\n",
       "      <td>3</td>\n",
       "      <td>A</td>\n",
       "      <td>03/01/2019</td>\n",
       "      <td>03/24/2022</td>\n",
       "      <td>Cycle Inspection / Initial Inspection</td>\n",
       "      <td>0.000000</td>\n",
       "      <td>0.000000</td>\n",
       "      <td>NaN</td>\n",
       "      <td>NaN</td>\n",
       "      <td>NaN</td>\n",
       "      <td>NaN</td>\n",
       "      <td>1.000000e+00</td>\n",
       "      <td>NaN</td>\n",
       "      <td>True</td>\n",
       "      <td>False</td>\n",
       "      <td>False</td>\n",
       "    </tr>\n",
       "    <tr>\n",
       "      <th>186223</th>\n",
       "      <td>50032876</td>\n",
       "      <td>TANNER SMITH'S</td>\n",
       "      <td>Manhattan</td>\n",
       "      <td>204</td>\n",
       "      <td>WEST   55 STREET</td>\n",
       "      <td>10019.0</td>\n",
       "      <td>9175172283</td>\n",
       "      <td>American</td>\n",
       "      <td>06/07/2019</td>\n",
       "      <td>Violations were cited in the following area(s).</td>\n",
       "      <td>08A</td>\n",
       "      <td>Facility not vermin proof. Harborage or conditions conducive to attracting vermin to the premise...</td>\n",
       "      <td>Not Critical</td>\n",
       "      <td>12</td>\n",
       "      <td>A</td>\n",
       "      <td>06/07/2019</td>\n",
       "      <td>03/24/2022</td>\n",
       "      <td>Cycle Inspection / Initial Inspection</td>\n",
       "      <td>40.764364</td>\n",
       "      <td>-73.981362</td>\n",
       "      <td>105.0</td>\n",
       "      <td>4.0</td>\n",
       "      <td>13700.0</td>\n",
       "      <td>1024857.0</td>\n",
       "      <td>1.010260e+09</td>\n",
       "      <td>MN17</td>\n",
       "      <td>True</td>\n",
       "      <td>False</td>\n",
       "      <td>False</td>\n",
       "    </tr>\n",
       "    <tr>\n",
       "      <th>186224</th>\n",
       "      <td>50003842</td>\n",
       "      <td>T- 45</td>\n",
       "      <td>Manhattan</td>\n",
       "      <td>135</td>\n",
       "      <td>WEST   45 STREET</td>\n",
       "      <td>10036.0</td>\n",
       "      <td>6466403775</td>\n",
       "      <td>American</td>\n",
       "      <td>07/26/2018</td>\n",
       "      <td>Violations were cited in the following area(s).</td>\n",
       "      <td>10B</td>\n",
       "      <td>Plumbing not properly installed or maintained; anti-siphonage or backflow prevention device not ...</td>\n",
       "      <td>Not Critical</td>\n",
       "      <td>49</td>\n",
       "      <td>NaN</td>\n",
       "      <td>NaN</td>\n",
       "      <td>03/24/2022</td>\n",
       "      <td>Cycle Inspection / Initial Inspection</td>\n",
       "      <td>40.757244</td>\n",
       "      <td>-73.983815</td>\n",
       "      <td>105.0</td>\n",
       "      <td>4.0</td>\n",
       "      <td>11900.0</td>\n",
       "      <td>1089796.0</td>\n",
       "      <td>1.009980e+09</td>\n",
       "      <td>MN17</td>\n",
       "      <td>False</td>\n",
       "      <td>False</td>\n",
       "      <td>True</td>\n",
       "    </tr>\n",
       "    <tr>\n",
       "      <th>186225</th>\n",
       "      <td>41640824</td>\n",
       "      <td>RICURAS ECUADORIAN BAKERY</td>\n",
       "      <td>Bronx</td>\n",
       "      <td>1576</td>\n",
       "      <td>WATSON AVENUE</td>\n",
       "      <td>10472.0</td>\n",
       "      <td>7184508363</td>\n",
       "      <td>Spanish</td>\n",
       "      <td>07/20/2018</td>\n",
       "      <td>Violations were cited in the following area(s).</td>\n",
       "      <td>06F</td>\n",
       "      <td>Wiping cloths soiled or not stored in sanitizing solution.</td>\n",
       "      <td>Critical</td>\n",
       "      <td>12</td>\n",
       "      <td>A</td>\n",
       "      <td>07/20/2018</td>\n",
       "      <td>03/24/2022</td>\n",
       "      <td>Cycle Inspection / Initial Inspection</td>\n",
       "      <td>40.826352</td>\n",
       "      <td>-73.876066</td>\n",
       "      <td>209.0</td>\n",
       "      <td>18.0</td>\n",
       "      <td>5001.0</td>\n",
       "      <td>2023533.0</td>\n",
       "      <td>2.037160e+09</td>\n",
       "      <td>BX55</td>\n",
       "      <td>True</td>\n",
       "      <td>False</td>\n",
       "      <td>False</td>\n",
       "    </tr>\n",
       "    <tr>\n",
       "      <th>186226</th>\n",
       "      <td>41450971</td>\n",
       "      <td>GIOVANNI'S RESTAURANT</td>\n",
       "      <td>Bronx</td>\n",
       "      <td>3209</td>\n",
       "      <td>WESTCHESTER AVENUE</td>\n",
       "      <td>10461.0</td>\n",
       "      <td>7188924340</td>\n",
       "      <td>Pizza</td>\n",
       "      <td>06/21/2017</td>\n",
       "      <td>Violations were cited in the following area(s).</td>\n",
       "      <td>06D</td>\n",
       "      <td>Food contact surface not properly washed, rinsed and sanitized after each use and following any ...</td>\n",
       "      <td>Critical</td>\n",
       "      <td>16</td>\n",
       "      <td>NaN</td>\n",
       "      <td>NaN</td>\n",
       "      <td>03/24/2022</td>\n",
       "      <td>Cycle Inspection / Initial Inspection</td>\n",
       "      <td>40.851761</td>\n",
       "      <td>-73.829569</td>\n",
       "      <td>210.0</td>\n",
       "      <td>13.0</td>\n",
       "      <td>30000.0</td>\n",
       "      <td>2047655.0</td>\n",
       "      <td>2.042450e+09</td>\n",
       "      <td>BX10</td>\n",
       "      <td>False</td>\n",
       "      <td>True</td>\n",
       "      <td>False</td>\n",
       "    </tr>\n",
       "  </tbody>\n",
       "</table>\n",
       "<p>186214 rows × 29 columns</p>\n",
       "</div>"
      ],
      "text/plain": [
       "           CAMIS                                 DBA       BORO BUILDING  \\\n",
       "0       50008319                            POULETTE  Manhattan      790   \n",
       "1       41678734                        TINY'S DINER      Bronx     3603   \n",
       "2       40795021                      TAO RESTAURANT  Manhattan       42   \n",
       "3       40795021                      TAO RESTAURANT  Manhattan       42   \n",
       "4       40538234            DUNKIN',' BASKIN ROBBINS     Queens     9925   \n",
       "...          ...                                 ...        ...      ...   \n",
       "186222  41556790  FIVE GUYS FAMOUS BURGERS AND FRIES  Manhattan     2847   \n",
       "186223  50032876                      TANNER SMITH'S  Manhattan      204   \n",
       "186224  50003842                               T- 45  Manhattan      135   \n",
       "186225  41640824           RICURAS ECUADORIAN BAKERY      Bronx     1576   \n",
       "186226  41450971               GIOVANNI'S RESTAURANT      Bronx     3209   \n",
       "\n",
       "                           STREET  ZIPCODE       PHONE CUISINE DESCRIPTION  \\\n",
       "0                        9 AVENUE  10019.0  2129569488             Chicken   \n",
       "1                RIVERDALE AVENUE  10463.0  7187087600            American   \n",
       "2                EAST   58 STREET  10022.0  2128882288  Asian/Asian Fusion   \n",
       "3                EAST   58 STREET  10022.0  2128882288  Asian/Asian Fusion   \n",
       "4       HORACE HARDING EXPRESSWAY  11368.0  7182719222              Donuts   \n",
       "...                           ...      ...         ...                 ...   \n",
       "186222                  BROADFWAY      NaN  2126787701          Hamburgers   \n",
       "186223           WEST   55 STREET  10019.0  9175172283            American   \n",
       "186224           WEST   45 STREET  10036.0  6466403775            American   \n",
       "186225              WATSON AVENUE  10472.0  7184508363             Spanish   \n",
       "186226         WESTCHESTER AVENUE  10461.0  7188924340               Pizza   \n",
       "\n",
       "       INSPECTION DATE                                           ACTION  \\\n",
       "0           01/28/2019  Violations were cited in the following area(s).   \n",
       "1           09/23/2019  Violations were cited in the following area(s).   \n",
       "2           03/11/2020  Violations were cited in the following area(s).   \n",
       "3           03/11/2020  Violations were cited in the following area(s).   \n",
       "4           07/29/2021  Violations were cited in the following area(s).   \n",
       "...                ...                                              ...   \n",
       "186222      03/01/2019  Violations were cited in the following area(s).   \n",
       "186223      06/07/2019  Violations were cited in the following area(s).   \n",
       "186224      07/26/2018  Violations were cited in the following area(s).   \n",
       "186225      07/20/2018  Violations were cited in the following area(s).   \n",
       "186226      06/21/2017  Violations were cited in the following area(s).   \n",
       "\n",
       "       VIOLATION CODE  \\\n",
       "0                 04D   \n",
       "1                 04M   \n",
       "2                 10F   \n",
       "3                 10F   \n",
       "4                 06E   \n",
       "...               ...   \n",
       "186222            10F   \n",
       "186223            08A   \n",
       "186224            10B   \n",
       "186225            06F   \n",
       "186226            06D   \n",
       "\n",
       "                                                                                      VIOLATION DESCRIPTION  \\\n",
       "0       Food worker does not wash hands thoroughly after using the toilet, coughing, sneezing, smoking, ...   \n",
       "1                                            Live roaches present in facility's food and/or non-food areas.   \n",
       "2       Non-food contact surface improperly constructed. Unacceptable material used. Non-food contact su...   \n",
       "3       Non-food contact surface improperly constructed. Unacceptable material used. Non-food contact su...   \n",
       "4       Sanitized equipment or utensil, including in-use food dispensing utensil, improperly used or sto...   \n",
       "...                                                                                                     ...   \n",
       "186222  Non-food contact surface improperly constructed. Unacceptable material used. Non-food contact su...   \n",
       "186223  Facility not vermin proof. Harborage or conditions conducive to attracting vermin to the premise...   \n",
       "186224  Plumbing not properly installed or maintained; anti-siphonage or backflow prevention device not ...   \n",
       "186225                                           Wiping cloths soiled or not stored in sanitizing solution.   \n",
       "186226  Food contact surface not properly washed, rinsed and sanitized after each use and following any ...   \n",
       "\n",
       "       CRITICAL FLAG  SCORE GRADE  GRADE DATE RECORD DATE  \\\n",
       "0           Critical     22   NaN         NaN  03/24/2022   \n",
       "1           Critical     24   NaN         NaN  03/24/2022   \n",
       "2       Not Critical      9   NaN         NaN  03/24/2022   \n",
       "3       Not Critical      9   NaN         NaN  03/24/2022   \n",
       "4           Critical     10     A  07/29/2021  03/24/2022   \n",
       "...              ...    ...   ...         ...         ...   \n",
       "186222  Not Critical      3     A  03/01/2019  03/24/2022   \n",
       "186223  Not Critical     12     A  06/07/2019  03/24/2022   \n",
       "186224  Not Critical     49   NaN         NaN  03/24/2022   \n",
       "186225      Critical     12     A  07/20/2018  03/24/2022   \n",
       "186226      Critical     16   NaN         NaN  03/24/2022   \n",
       "\n",
       "                              INSPECTION TYPE   Latitude  Longitude  \\\n",
       "0       Cycle Inspection / Initial Inspection  40.765040 -73.987795   \n",
       "1       Cycle Inspection / Initial Inspection  40.886691 -73.907056   \n",
       "2       Cycle Inspection / Initial Inspection  40.762786 -73.971486   \n",
       "3       Cycle Inspection / Initial Inspection  40.762786 -73.971486   \n",
       "4       Cycle Inspection / Initial Inspection  40.736185 -73.858052   \n",
       "...                                       ...        ...        ...   \n",
       "186222  Cycle Inspection / Initial Inspection   0.000000   0.000000   \n",
       "186223  Cycle Inspection / Initial Inspection  40.764364 -73.981362   \n",
       "186224  Cycle Inspection / Initial Inspection  40.757244 -73.983815   \n",
       "186225  Cycle Inspection / Initial Inspection  40.826352 -73.876066   \n",
       "186226  Cycle Inspection / Initial Inspection  40.851761 -73.829569   \n",
       "\n",
       "        Community Board  Council District  Census Tract        BIN  \\\n",
       "0                 104.0               3.0       13300.0  1025235.0   \n",
       "1                 208.0              11.0       29500.0  2084186.0   \n",
       "2                 105.0               4.0       11202.0  1036073.0   \n",
       "3                 105.0               4.0       11202.0  1036073.0   \n",
       "4                 404.0              21.0       43702.0  4047915.0   \n",
       "...                 ...               ...           ...        ...   \n",
       "186222              NaN               NaN           NaN        NaN   \n",
       "186223            105.0               4.0       13700.0  1024857.0   \n",
       "186224            105.0               4.0       11900.0  1089796.0   \n",
       "186225            209.0              18.0        5001.0  2023533.0   \n",
       "186226            210.0              13.0       30000.0  2047655.0   \n",
       "\n",
       "                 BBL   NTA      A      B      C  \n",
       "0       1.010430e+09  MN15  False   True  False  \n",
       "1       2.057960e+09  BX29  False   True  False  \n",
       "2       1.012930e+09  MN17   True  False  False  \n",
       "3       1.012930e+09  MN17   True  False  False  \n",
       "4       4.019480e+09  QN25   True  False  False  \n",
       "...              ...   ...    ...    ...    ...  \n",
       "186222  1.000000e+00   NaN   True  False  False  \n",
       "186223  1.010260e+09  MN17   True  False  False  \n",
       "186224  1.009980e+09  MN17  False  False   True  \n",
       "186225  2.037160e+09  BX55   True  False  False  \n",
       "186226  2.042450e+09  BX10  False   True  False  \n",
       "\n",
       "[186214 rows x 29 columns]"
      ]
     },
     "execution_count": 8,
     "metadata": {},
     "output_type": "execute_result"
    }
   ],
   "source": [
    "doh"
   ]
  },
  {
   "cell_type": "code",
   "execution_count": 9,
   "metadata": {
    "ExecuteTime": {
     "end_time": "2022-04-16T16:29:45.055380Z",
     "start_time": "2022-04-16T16:29:45.010468Z"
    }
   },
   "outputs": [],
   "source": [
    "doh['PHONE'] = '+1'+doh['PHONE']"
   ]
  },
  {
   "cell_type": "markdown",
   "metadata": {},
   "source": [
    "Of the 19,792 unique restaurants, 12,221 did not pass the intitial inspections at least once."
   ]
  },
  {
   "cell_type": "code",
   "execution_count": 10,
   "metadata": {
    "ExecuteTime": {
     "end_time": "2022-04-16T16:29:48.073125Z",
     "start_time": "2022-04-16T16:29:47.943585Z"
    }
   },
   "outputs": [],
   "source": [
    "doh_grades = doh.groupby(['CAMIS'])['PHONE','BORO','BUILDING','STREET','ZIPCODE',\n",
    "                                    'PHONE','CUISINE DESCRIPTION',\n",
    "                                    'Latitude','Longitude','Community Board',\n",
    "                                    'Council District','Census Tract',\n",
    "                                    'A', 'B','C'].sum()"
   ]
  },
  {
   "cell_type": "code",
   "execution_count": 11,
   "metadata": {
    "ExecuteTime": {
     "end_time": "2022-04-16T16:29:49.806585Z",
     "start_time": "2022-04-16T16:29:49.780596Z"
    }
   },
   "outputs": [
    {
     "data": {
      "text/html": [
       "<div>\n",
       "<style scoped>\n",
       "    .dataframe tbody tr th:only-of-type {\n",
       "        vertical-align: middle;\n",
       "    }\n",
       "\n",
       "    .dataframe tbody tr th {\n",
       "        vertical-align: top;\n",
       "    }\n",
       "\n",
       "    .dataframe thead th {\n",
       "        text-align: right;\n",
       "    }\n",
       "</style>\n",
       "<table border=\"1\" class=\"dataframe\">\n",
       "  <thead>\n",
       "    <tr style=\"text-align: right;\">\n",
       "      <th></th>\n",
       "      <th>ZIPCODE</th>\n",
       "      <th>Latitude</th>\n",
       "      <th>Longitude</th>\n",
       "      <th>Community Board</th>\n",
       "      <th>Council District</th>\n",
       "      <th>Census Tract</th>\n",
       "      <th>A</th>\n",
       "      <th>B</th>\n",
       "      <th>C</th>\n",
       "    </tr>\n",
       "    <tr>\n",
       "      <th>CAMIS</th>\n",
       "      <th></th>\n",
       "      <th></th>\n",
       "      <th></th>\n",
       "      <th></th>\n",
       "      <th></th>\n",
       "      <th></th>\n",
       "      <th></th>\n",
       "      <th></th>\n",
       "      <th></th>\n",
       "    </tr>\n",
       "  </thead>\n",
       "  <tbody>\n",
       "    <tr>\n",
       "      <th>30075445</th>\n",
       "      <td>83696.0</td>\n",
       "      <td>326.785850</td>\n",
       "      <td>-590.847775</td>\n",
       "      <td>1688.0</td>\n",
       "      <td>104.0</td>\n",
       "      <td>201600.0</td>\n",
       "      <td>1</td>\n",
       "      <td>7</td>\n",
       "      <td>0</td>\n",
       "    </tr>\n",
       "    <tr>\n",
       "      <th>30112340</th>\n",
       "      <td>56125.0</td>\n",
       "      <td>203.313258</td>\n",
       "      <td>-369.810407</td>\n",
       "      <td>1545.0</td>\n",
       "      <td>200.0</td>\n",
       "      <td>163500.0</td>\n",
       "      <td>5</td>\n",
       "      <td>0</td>\n",
       "      <td>0</td>\n",
       "    </tr>\n",
       "    <tr>\n",
       "      <th>30191841</th>\n",
       "      <td>50095.0</td>\n",
       "      <td>203.836629</td>\n",
       "      <td>-369.921552</td>\n",
       "      <td>520.0</td>\n",
       "      <td>15.0</td>\n",
       "      <td>69500.0</td>\n",
       "      <td>5</td>\n",
       "      <td>0</td>\n",
       "      <td>0</td>\n",
       "    </tr>\n",
       "    <tr>\n",
       "      <th>40356018</th>\n",
       "      <td>44896.0</td>\n",
       "      <td>162.319681</td>\n",
       "      <td>-295.928361</td>\n",
       "      <td>1252.0</td>\n",
       "      <td>188.0</td>\n",
       "      <td>139200.0</td>\n",
       "      <td>4</td>\n",
       "      <td>0</td>\n",
       "      <td>0</td>\n",
       "    </tr>\n",
       "    <tr>\n",
       "      <th>40356483</th>\n",
       "      <td>101106.0</td>\n",
       "      <td>365.581004</td>\n",
       "      <td>-665.162905</td>\n",
       "      <td>2862.0</td>\n",
       "      <td>414.0</td>\n",
       "      <td>630000.0</td>\n",
       "      <td>5</td>\n",
       "      <td>4</td>\n",
       "      <td>0</td>\n",
       "    </tr>\n",
       "    <tr>\n",
       "      <th>...</th>\n",
       "      <td>...</td>\n",
       "      <td>...</td>\n",
       "      <td>...</td>\n",
       "      <td>...</td>\n",
       "      <td>...</td>\n",
       "      <td>...</td>\n",
       "      <td>...</td>\n",
       "      <td>...</td>\n",
       "      <td>...</td>\n",
       "    </tr>\n",
       "    <tr>\n",
       "      <th>50115169</th>\n",
       "      <td>10002.0</td>\n",
       "      <td>40.714841</td>\n",
       "      <td>-73.991700</td>\n",
       "      <td>103.0</td>\n",
       "      <td>1.0</td>\n",
       "      <td>1600.0</td>\n",
       "      <td>1</td>\n",
       "      <td>0</td>\n",
       "      <td>0</td>\n",
       "    </tr>\n",
       "    <tr>\n",
       "      <th>50116155</th>\n",
       "      <td>33699.0</td>\n",
       "      <td>122.051758</td>\n",
       "      <td>-221.752145</td>\n",
       "      <td>948.0</td>\n",
       "      <td>123.0</td>\n",
       "      <td>111900.0</td>\n",
       "      <td>3</td>\n",
       "      <td>0</td>\n",
       "      <td>0</td>\n",
       "    </tr>\n",
       "    <tr>\n",
       "      <th>50117350</th>\n",
       "      <td>50090.0</td>\n",
       "      <td>203.762660</td>\n",
       "      <td>-369.947575</td>\n",
       "      <td>525.0</td>\n",
       "      <td>15.0</td>\n",
       "      <td>54500.0</td>\n",
       "      <td>5</td>\n",
       "      <td>0</td>\n",
       "      <td>0</td>\n",
       "    </tr>\n",
       "    <tr>\n",
       "      <th>50117434</th>\n",
       "      <td>79604.0</td>\n",
       "      <td>285.289075</td>\n",
       "      <td>-517.196049</td>\n",
       "      <td>2821.0</td>\n",
       "      <td>175.0</td>\n",
       "      <td>228900.0</td>\n",
       "      <td>0</td>\n",
       "      <td>0</td>\n",
       "      <td>7</td>\n",
       "    </tr>\n",
       "    <tr>\n",
       "      <th>50117959</th>\n",
       "      <td>30087.0</td>\n",
       "      <td>122.371566</td>\n",
       "      <td>-221.827553</td>\n",
       "      <td>333.0</td>\n",
       "      <td>24.0</td>\n",
       "      <td>51000.0</td>\n",
       "      <td>3</td>\n",
       "      <td>0</td>\n",
       "      <td>0</td>\n",
       "    </tr>\n",
       "  </tbody>\n",
       "</table>\n",
       "<p>19790 rows × 9 columns</p>\n",
       "</div>"
      ],
      "text/plain": [
       "           ZIPCODE    Latitude   Longitude  Community Board  Council District  \\\n",
       "CAMIS                                                                           \n",
       "30075445   83696.0  326.785850 -590.847775           1688.0             104.0   \n",
       "30112340   56125.0  203.313258 -369.810407           1545.0             200.0   \n",
       "30191841   50095.0  203.836629 -369.921552            520.0              15.0   \n",
       "40356018   44896.0  162.319681 -295.928361           1252.0             188.0   \n",
       "40356483  101106.0  365.581004 -665.162905           2862.0             414.0   \n",
       "...            ...         ...         ...              ...               ...   \n",
       "50115169   10002.0   40.714841  -73.991700            103.0               1.0   \n",
       "50116155   33699.0  122.051758 -221.752145            948.0             123.0   \n",
       "50117350   50090.0  203.762660 -369.947575            525.0              15.0   \n",
       "50117434   79604.0  285.289075 -517.196049           2821.0             175.0   \n",
       "50117959   30087.0  122.371566 -221.827553            333.0              24.0   \n",
       "\n",
       "          Census Tract  A  B  C  \n",
       "CAMIS                            \n",
       "30075445      201600.0  1  7  0  \n",
       "30112340      163500.0  5  0  0  \n",
       "30191841       69500.0  5  0  0  \n",
       "40356018      139200.0  4  0  0  \n",
       "40356483      630000.0  5  4  0  \n",
       "...                ... .. .. ..  \n",
       "50115169        1600.0  1  0  0  \n",
       "50116155      111900.0  3  0  0  \n",
       "50117350       54500.0  5  0  0  \n",
       "50117434      228900.0  0  0  7  \n",
       "50117959       51000.0  3  0  0  \n",
       "\n",
       "[19790 rows x 9 columns]"
      ]
     },
     "execution_count": 11,
     "metadata": {},
     "output_type": "execute_result"
    }
   ],
   "source": [
    "doh_grades"
   ]
  },
  {
   "cell_type": "code",
   "execution_count": 12,
   "metadata": {
    "ExecuteTime": {
     "end_time": "2022-04-16T16:29:51.915703Z",
     "start_time": "2022-04-16T16:29:51.890669Z"
    }
   },
   "outputs": [
    {
     "data": {
      "text/html": [
       "<div>\n",
       "<style scoped>\n",
       "    .dataframe tbody tr th:only-of-type {\n",
       "        vertical-align: middle;\n",
       "    }\n",
       "\n",
       "    .dataframe tbody tr th {\n",
       "        vertical-align: top;\n",
       "    }\n",
       "\n",
       "    .dataframe thead th {\n",
       "        text-align: right;\n",
       "    }\n",
       "</style>\n",
       "<table border=\"1\" class=\"dataframe\">\n",
       "  <thead>\n",
       "    <tr style=\"text-align: right;\">\n",
       "      <th></th>\n",
       "      <th>ZIPCODE</th>\n",
       "      <th>Latitude</th>\n",
       "      <th>Longitude</th>\n",
       "      <th>Community Board</th>\n",
       "      <th>Council District</th>\n",
       "      <th>Census Tract</th>\n",
       "      <th>A</th>\n",
       "      <th>B</th>\n",
       "      <th>C</th>\n",
       "    </tr>\n",
       "    <tr>\n",
       "      <th>CAMIS</th>\n",
       "      <th></th>\n",
       "      <th></th>\n",
       "      <th></th>\n",
       "      <th></th>\n",
       "      <th></th>\n",
       "      <th></th>\n",
       "      <th></th>\n",
       "      <th></th>\n",
       "      <th></th>\n",
       "    </tr>\n",
       "  </thead>\n",
       "  <tbody>\n",
       "    <tr>\n",
       "      <th>30075445</th>\n",
       "      <td>83696.0</td>\n",
       "      <td>326.785850</td>\n",
       "      <td>-590.847775</td>\n",
       "      <td>1688.0</td>\n",
       "      <td>104.0</td>\n",
       "      <td>201600.0</td>\n",
       "      <td>1</td>\n",
       "      <td>7</td>\n",
       "      <td>0</td>\n",
       "    </tr>\n",
       "    <tr>\n",
       "      <th>40356483</th>\n",
       "      <td>101106.0</td>\n",
       "      <td>365.581004</td>\n",
       "      <td>-665.162905</td>\n",
       "      <td>2862.0</td>\n",
       "      <td>414.0</td>\n",
       "      <td>630000.0</td>\n",
       "      <td>5</td>\n",
       "      <td>4</td>\n",
       "      <td>0</td>\n",
       "    </tr>\n",
       "    <tr>\n",
       "      <th>40362264</th>\n",
       "      <td>70175.0</td>\n",
       "      <td>285.548344</td>\n",
       "      <td>-517.773967</td>\n",
       "      <td>749.0</td>\n",
       "      <td>42.0</td>\n",
       "      <td>126700.0</td>\n",
       "      <td>3</td>\n",
       "      <td>4</td>\n",
       "      <td>0</td>\n",
       "    </tr>\n",
       "    <tr>\n",
       "      <th>40362274</th>\n",
       "      <td>70084.0</td>\n",
       "      <td>285.080205</td>\n",
       "      <td>-517.982347</td>\n",
       "      <td>714.0</td>\n",
       "      <td>7.0</td>\n",
       "      <td>38507.0</td>\n",
       "      <td>1</td>\n",
       "      <td>6</td>\n",
       "      <td>0</td>\n",
       "    </tr>\n",
       "    <tr>\n",
       "      <th>40362715</th>\n",
       "      <td>230115.0</td>\n",
       "      <td>936.235858</td>\n",
       "      <td>-1702.198016</td>\n",
       "      <td>2323.0</td>\n",
       "      <td>23.0</td>\n",
       "      <td>16100.0</td>\n",
       "      <td>7</td>\n",
       "      <td>11</td>\n",
       "      <td>5</td>\n",
       "    </tr>\n",
       "    <tr>\n",
       "      <th>...</th>\n",
       "      <td>...</td>\n",
       "      <td>...</td>\n",
       "      <td>...</td>\n",
       "      <td>...</td>\n",
       "      <td>...</td>\n",
       "      <td>...</td>\n",
       "      <td>...</td>\n",
       "      <td>...</td>\n",
       "      <td>...</td>\n",
       "    </tr>\n",
       "    <tr>\n",
       "      <th>50111805</th>\n",
       "      <td>30042.0</td>\n",
       "      <td>122.195939</td>\n",
       "      <td>-222.011203</td>\n",
       "      <td>306.0</td>\n",
       "      <td>9.0</td>\n",
       "      <td>20100.0</td>\n",
       "      <td>0</td>\n",
       "      <td>3</td>\n",
       "      <td>0</td>\n",
       "    </tr>\n",
       "    <tr>\n",
       "      <th>50113198</th>\n",
       "      <td>40008.0</td>\n",
       "      <td>162.854183</td>\n",
       "      <td>-295.984590</td>\n",
       "      <td>412.0</td>\n",
       "      <td>4.0</td>\n",
       "      <td>3200.0</td>\n",
       "      <td>0</td>\n",
       "      <td>4</td>\n",
       "      <td>0</td>\n",
       "    </tr>\n",
       "    <tr>\n",
       "      <th>50113951</th>\n",
       "      <td>41820.0</td>\n",
       "      <td>163.249463</td>\n",
       "      <td>-295.613108</td>\n",
       "      <td>808.0</td>\n",
       "      <td>32.0</td>\n",
       "      <td>33200.0</td>\n",
       "      <td>0</td>\n",
       "      <td>4</td>\n",
       "      <td>0</td>\n",
       "    </tr>\n",
       "    <tr>\n",
       "      <th>50113984</th>\n",
       "      <td>30081.0</td>\n",
       "      <td>122.429129</td>\n",
       "      <td>-221.880270</td>\n",
       "      <td>327.0</td>\n",
       "      <td>21.0</td>\n",
       "      <td>60900.0</td>\n",
       "      <td>0</td>\n",
       "      <td>3</td>\n",
       "      <td>0</td>\n",
       "    </tr>\n",
       "    <tr>\n",
       "      <th>50114370</th>\n",
       "      <td>33639.0</td>\n",
       "      <td>121.993404</td>\n",
       "      <td>-221.794553</td>\n",
       "      <td>927.0</td>\n",
       "      <td>123.0</td>\n",
       "      <td>106500.0</td>\n",
       "      <td>0</td>\n",
       "      <td>3</td>\n",
       "      <td>0</td>\n",
       "    </tr>\n",
       "  </tbody>\n",
       "</table>\n",
       "<p>9977 rows × 9 columns</p>\n",
       "</div>"
      ],
      "text/plain": [
       "           ZIPCODE    Latitude    Longitude  Community Board  \\\n",
       "CAMIS                                                          \n",
       "30075445   83696.0  326.785850  -590.847775           1688.0   \n",
       "40356483  101106.0  365.581004  -665.162905           2862.0   \n",
       "40362264   70175.0  285.548344  -517.773967            749.0   \n",
       "40362274   70084.0  285.080205  -517.982347            714.0   \n",
       "40362715  230115.0  936.235858 -1702.198016           2323.0   \n",
       "...            ...         ...          ...              ...   \n",
       "50111805   30042.0  122.195939  -222.011203            306.0   \n",
       "50113198   40008.0  162.854183  -295.984590            412.0   \n",
       "50113951   41820.0  163.249463  -295.613108            808.0   \n",
       "50113984   30081.0  122.429129  -221.880270            327.0   \n",
       "50114370   33639.0  121.993404  -221.794553            927.0   \n",
       "\n",
       "          Council District  Census Tract  A   B  C  \n",
       "CAMIS                                               \n",
       "30075445             104.0      201600.0  1   7  0  \n",
       "40356483             414.0      630000.0  5   4  0  \n",
       "40362264              42.0      126700.0  3   4  0  \n",
       "40362274               7.0       38507.0  1   6  0  \n",
       "40362715              23.0       16100.0  7  11  5  \n",
       "...                    ...           ... ..  .. ..  \n",
       "50111805               9.0       20100.0  0   3  0  \n",
       "50113198               4.0        3200.0  0   4  0  \n",
       "50113951              32.0       33200.0  0   4  0  \n",
       "50113984              21.0       60900.0  0   3  0  \n",
       "50114370             123.0      106500.0  0   3  0  \n",
       "\n",
       "[9977 rows x 9 columns]"
      ]
     },
     "execution_count": 12,
     "metadata": {},
     "output_type": "execute_result"
    }
   ],
   "source": [
    "doh_grades[doh_grades['B'] > 0]"
   ]
  },
  {
   "cell_type": "markdown",
   "metadata": {},
   "source": [
    "Of the 19,792 unique restaurants, 9,978 failed an initial cycle inspection at least once."
   ]
  },
  {
   "cell_type": "code",
   "execution_count": 13,
   "metadata": {
    "ExecuteTime": {
     "end_time": "2022-04-16T16:29:54.019613Z",
     "start_time": "2022-04-16T16:29:53.987531Z"
    }
   },
   "outputs": [
    {
     "data": {
      "text/html": [
       "<div>\n",
       "<style scoped>\n",
       "    .dataframe tbody tr th:only-of-type {\n",
       "        vertical-align: middle;\n",
       "    }\n",
       "\n",
       "    .dataframe tbody tr th {\n",
       "        vertical-align: top;\n",
       "    }\n",
       "\n",
       "    .dataframe thead th {\n",
       "        text-align: right;\n",
       "    }\n",
       "</style>\n",
       "<table border=\"1\" class=\"dataframe\">\n",
       "  <thead>\n",
       "    <tr style=\"text-align: right;\">\n",
       "      <th></th>\n",
       "      <th>ZIPCODE</th>\n",
       "      <th>Latitude</th>\n",
       "      <th>Longitude</th>\n",
       "      <th>Community Board</th>\n",
       "      <th>Council District</th>\n",
       "      <th>Census Tract</th>\n",
       "      <th>A</th>\n",
       "      <th>B</th>\n",
       "      <th>C</th>\n",
       "    </tr>\n",
       "    <tr>\n",
       "      <th>CAMIS</th>\n",
       "      <th></th>\n",
       "      <th></th>\n",
       "      <th></th>\n",
       "      <th></th>\n",
       "      <th></th>\n",
       "      <th></th>\n",
       "      <th></th>\n",
       "      <th></th>\n",
       "      <th></th>\n",
       "    </tr>\n",
       "  </thead>\n",
       "  <tbody>\n",
       "    <tr>\n",
       "      <th>40360076</th>\n",
       "      <td>112180.0</td>\n",
       "      <td>406.433297</td>\n",
       "      <td>-739.781887</td>\n",
       "      <td>3120.0</td>\n",
       "      <td>390.0</td>\n",
       "      <td>496000.0</td>\n",
       "      <td>4</td>\n",
       "      <td>0</td>\n",
       "      <td>6</td>\n",
       "    </tr>\n",
       "    <tr>\n",
       "      <th>40362715</th>\n",
       "      <td>230115.0</td>\n",
       "      <td>936.235858</td>\n",
       "      <td>-1702.198016</td>\n",
       "      <td>2323.0</td>\n",
       "      <td>23.0</td>\n",
       "      <td>16100.0</td>\n",
       "      <td>7</td>\n",
       "      <td>11</td>\n",
       "      <td>5</td>\n",
       "    </tr>\n",
       "    <tr>\n",
       "      <th>40363630</th>\n",
       "      <td>200560.0</td>\n",
       "      <td>815.505622</td>\n",
       "      <td>-1479.131518</td>\n",
       "      <td>2160.0</td>\n",
       "      <td>100.0</td>\n",
       "      <td>280000.0</td>\n",
       "      <td>2</td>\n",
       "      <td>11</td>\n",
       "      <td>7</td>\n",
       "    </tr>\n",
       "    <tr>\n",
       "      <th>40364179</th>\n",
       "      <td>190475.0</td>\n",
       "      <td>775.226054</td>\n",
       "      <td>-1405.243039</td>\n",
       "      <td>2033.0</td>\n",
       "      <td>133.0</td>\n",
       "      <td>366700.0</td>\n",
       "      <td>3</td>\n",
       "      <td>5</td>\n",
       "      <td>11</td>\n",
       "    </tr>\n",
       "    <tr>\n",
       "      <th>40364362</th>\n",
       "      <td>120228.0</td>\n",
       "      <td>489.124894</td>\n",
       "      <td>-887.733038</td>\n",
       "      <td>1260.0</td>\n",
       "      <td>48.0</td>\n",
       "      <td>124800.0</td>\n",
       "      <td>3</td>\n",
       "      <td>3</td>\n",
       "      <td>6</td>\n",
       "    </tr>\n",
       "    <tr>\n",
       "      <th>...</th>\n",
       "      <td>...</td>\n",
       "      <td>...</td>\n",
       "      <td>...</td>\n",
       "      <td>...</td>\n",
       "      <td>...</td>\n",
       "      <td>...</td>\n",
       "      <td>...</td>\n",
       "      <td>...</td>\n",
       "      <td>...</td>\n",
       "    </tr>\n",
       "    <tr>\n",
       "      <th>50110216</th>\n",
       "      <td>79604.0</td>\n",
       "      <td>285.233461</td>\n",
       "      <td>-517.186091</td>\n",
       "      <td>2828.0</td>\n",
       "      <td>147.0</td>\n",
       "      <td>188307.0</td>\n",
       "      <td>0</td>\n",
       "      <td>0</td>\n",
       "      <td>7</td>\n",
       "    </tr>\n",
       "    <tr>\n",
       "      <th>50112974</th>\n",
       "      <td>70049.0</td>\n",
       "      <td>285.004311</td>\n",
       "      <td>-518.044896</td>\n",
       "      <td>707.0</td>\n",
       "      <td>7.0</td>\n",
       "      <td>14700.0</td>\n",
       "      <td>0</td>\n",
       "      <td>0</td>\n",
       "      <td>7</td>\n",
       "    </tr>\n",
       "    <tr>\n",
       "      <th>50113139</th>\n",
       "      <td>100926.0</td>\n",
       "      <td>365.433842</td>\n",
       "      <td>-665.981428</td>\n",
       "      <td>2799.0</td>\n",
       "      <td>423.0</td>\n",
       "      <td>259200.0</td>\n",
       "      <td>0</td>\n",
       "      <td>0</td>\n",
       "      <td>9</td>\n",
       "    </tr>\n",
       "    <tr>\n",
       "      <th>50113991</th>\n",
       "      <td>60162.0</td>\n",
       "      <td>244.858259</td>\n",
       "      <td>-443.760539</td>\n",
       "      <td>654.0</td>\n",
       "      <td>42.0</td>\n",
       "      <td>121800.0</td>\n",
       "      <td>0</td>\n",
       "      <td>0</td>\n",
       "      <td>6</td>\n",
       "    </tr>\n",
       "    <tr>\n",
       "      <th>50117434</th>\n",
       "      <td>79604.0</td>\n",
       "      <td>285.289075</td>\n",
       "      <td>-517.196049</td>\n",
       "      <td>2821.0</td>\n",
       "      <td>175.0</td>\n",
       "      <td>228900.0</td>\n",
       "      <td>0</td>\n",
       "      <td>0</td>\n",
       "      <td>7</td>\n",
       "    </tr>\n",
       "  </tbody>\n",
       "</table>\n",
       "<p>5648 rows × 9 columns</p>\n",
       "</div>"
      ],
      "text/plain": [
       "           ZIPCODE    Latitude    Longitude  Community Board  \\\n",
       "CAMIS                                                          \n",
       "40360076  112180.0  406.433297  -739.781887           3120.0   \n",
       "40362715  230115.0  936.235858 -1702.198016           2323.0   \n",
       "40363630  200560.0  815.505622 -1479.131518           2160.0   \n",
       "40364179  190475.0  775.226054 -1405.243039           2033.0   \n",
       "40364362  120228.0  489.124894  -887.733038           1260.0   \n",
       "...            ...         ...          ...              ...   \n",
       "50110216   79604.0  285.233461  -517.186091           2828.0   \n",
       "50112974   70049.0  285.004311  -518.044896            707.0   \n",
       "50113139  100926.0  365.433842  -665.981428           2799.0   \n",
       "50113991   60162.0  244.858259  -443.760539            654.0   \n",
       "50117434   79604.0  285.289075  -517.196049           2821.0   \n",
       "\n",
       "          Council District  Census Tract  A   B   C  \n",
       "CAMIS                                                \n",
       "40360076             390.0      496000.0  4   0   6  \n",
       "40362715              23.0       16100.0  7  11   5  \n",
       "40363630             100.0      280000.0  2  11   7  \n",
       "40364179             133.0      366700.0  3   5  11  \n",
       "40364362              48.0      124800.0  3   3   6  \n",
       "...                    ...           ... ..  ..  ..  \n",
       "50110216             147.0      188307.0  0   0   7  \n",
       "50112974               7.0       14700.0  0   0   7  \n",
       "50113139             423.0      259200.0  0   0   9  \n",
       "50113991              42.0      121800.0  0   0   6  \n",
       "50117434             175.0      228900.0  0   0   7  \n",
       "\n",
       "[5648 rows x 9 columns]"
      ]
     },
     "execution_count": 13,
     "metadata": {},
     "output_type": "execute_result"
    }
   ],
   "source": [
    "doh_grades[doh_grades['C'] > 0]"
   ]
  },
  {
   "cell_type": "markdown",
   "metadata": {},
   "source": [
    "Of the 19,792 unique restaurants, 5,648 severly failed an initial cycle inspection at least once and are at risk of being closed by the DOHMH."
   ]
  },
  {
   "cell_type": "code",
   "execution_count": 236,
   "metadata": {
    "ExecuteTime": {
     "end_time": "2022-04-17T22:50:35.483677Z",
     "start_time": "2022-04-17T22:50:34.397486Z"
    }
   },
   "outputs": [
    {
     "data": {
      "text/plain": [
       "0"
      ]
     },
     "execution_count": 236,
     "metadata": {},
     "output_type": "execute_result"
    }
   ],
   "source": [
    "doh.duplicated().sum()"
   ]
  },
  {
   "cell_type": "code",
   "execution_count": 237,
   "metadata": {
    "ExecuteTime": {
     "end_time": "2022-04-17T22:50:40.339995Z",
     "start_time": "2022-04-17T22:50:39.801865Z"
    }
   },
   "outputs": [],
   "source": [
    "doh.drop_duplicates(inplace=True)"
   ]
  },
  {
   "cell_type": "code",
   "execution_count": 238,
   "metadata": {
    "ExecuteTime": {
     "end_time": "2022-04-17T22:50:41.308074Z",
     "start_time": "2022-04-17T22:50:41.301306Z"
    }
   },
   "outputs": [
    {
     "data": {
      "text/plain": [
       "(174712, 29)"
      ]
     },
     "execution_count": 238,
     "metadata": {},
     "output_type": "execute_result"
    }
   ],
   "source": [
    "doh.shape"
   ]
  },
  {
   "cell_type": "code",
   "execution_count": 17,
   "metadata": {
    "ExecuteTime": {
     "end_time": "2022-04-16T16:30:02.159367Z",
     "start_time": "2022-04-16T16:30:02.150237Z"
    }
   },
   "outputs": [
    {
     "data": {
      "text/plain": [
       "0"
      ]
     },
     "execution_count": 17,
     "metadata": {},
     "output_type": "execute_result"
    }
   ],
   "source": [
    "doh['SCORE'].isna().sum()"
   ]
  },
  {
   "cell_type": "code",
   "execution_count": 18,
   "metadata": {
    "ExecuteTime": {
     "end_time": "2022-04-16T16:30:04.870386Z",
     "start_time": "2022-04-16T16:30:04.274344Z"
    }
   },
   "outputs": [
    {
     "data": {
      "image/png": "[encoded data removed]",
      "text/plain": [
       "<Figure size 864x576 with 1 Axes>"
      ]
     },
     "metadata": {
      "needs_background": "light"
     },
     "output_type": "display_data"
    }
   ],
   "source": [
    "doh['SCORE'].hist(bins=113, figsize=(12,8));"
   ]
  },
  {
   "cell_type": "code",
   "execution_count": 19,
   "metadata": {
    "ExecuteTime": {
     "end_time": "2022-04-16T16:30:04.890243Z",
     "start_time": "2022-04-16T16:30:04.874510Z"
    }
   },
   "outputs": [
    {
     "data": {
      "text/plain": [
       "12     16132\n",
       "13     12559\n",
       "10      8627\n",
       "11      8408\n",
       "9       7904\n",
       "       ...  \n",
       "115        8\n",
       "109        8\n",
       "106        7\n",
       "103        7\n",
       "92         7\n",
       "Name: SCORE, Length: 113, dtype: int64"
      ]
     },
     "execution_count": 19,
     "metadata": {},
     "output_type": "execute_result"
    }
   ],
   "source": [
    "doh['SCORE'].value_counts()"
   ]
  },
  {
   "cell_type": "code",
   "execution_count": 20,
   "metadata": {
    "ExecuteTime": {
     "end_time": "2022-04-16T16:30:07.671492Z",
     "start_time": "2022-04-16T16:30:07.659542Z"
    }
   },
   "outputs": [
    {
     "data": {
      "text/plain": [
       "21.3592082970832"
      ]
     },
     "execution_count": 20,
     "metadata": {},
     "output_type": "execute_result"
    }
   ],
   "source": [
    "doh['SCORE'].mean()"
   ]
  },
  {
   "cell_type": "code",
   "execution_count": 21,
   "metadata": {
    "ExecuteTime": {
     "end_time": "2022-04-16T16:30:08.106627Z",
     "start_time": "2022-04-16T16:30:08.093954Z"
    }
   },
   "outputs": [
    {
     "data": {
      "text/plain": [
       "18.0"
      ]
     },
     "execution_count": 21,
     "metadata": {},
     "output_type": "execute_result"
    }
   ],
   "source": [
    "doh['SCORE'].median()"
   ]
  },
  {
   "cell_type": "code",
   "execution_count": 22,
   "metadata": {
    "ExecuteTime": {
     "end_time": "2022-04-16T16:30:09.669729Z",
     "start_time": "2022-04-16T16:30:09.660794Z"
    }
   },
   "outputs": [
    {
     "data": {
      "text/plain": [
       "0    12\n",
       "dtype: int64"
      ]
     },
     "execution_count": 22,
     "metadata": {},
     "output_type": "execute_result"
    }
   ],
   "source": [
    "doh['SCORE'].mode()"
   ]
  },
  {
   "cell_type": "code",
   "execution_count": 23,
   "metadata": {
    "ExecuteTime": {
     "end_time": "2022-04-16T16:30:10.324822Z",
     "start_time": "2022-04-16T16:30:10.309069Z"
    }
   },
   "outputs": [
    {
     "data": {
      "text/plain": [
       "112800"
      ]
     },
     "execution_count": 23,
     "metadata": {},
     "output_type": "execute_result"
    }
   ],
   "source": [
    "doh['GRADE'].isna().sum()"
   ]
  },
  {
   "cell_type": "code",
   "execution_count": 24,
   "metadata": {
    "ExecuteTime": {
     "end_time": "2022-04-16T16:30:11.055127Z",
     "start_time": "2022-04-16T16:30:11.028912Z"
    }
   },
   "outputs": [
    {
     "data": {
      "text/plain": [
       "A    61251\n",
       "N      650\n",
       "C        6\n",
       "Z        3\n",
       "B        2\n",
       "Name: GRADE, dtype: int64"
      ]
     },
     "execution_count": 24,
     "metadata": {},
     "output_type": "execute_result"
    }
   ],
   "source": [
    "doh['GRADE'].value_counts()"
   ]
  },
  {
   "cell_type": "code",
   "execution_count": 25,
   "metadata": {
    "ExecuteTime": {
     "end_time": "2022-04-16T16:30:13.156631Z",
     "start_time": "2022-04-16T16:30:12.991620Z"
    }
   },
   "outputs": [
    {
     "name": "stdout",
     "output_type": "stream",
     "text": [
      "<class 'pandas.core.frame.DataFrame'>\n",
      "Int64Index: 174712 entries, 0 to 186226\n",
      "Data columns (total 29 columns):\n",
      " #   Column                 Non-Null Count   Dtype  \n",
      "---  ------                 --------------   -----  \n",
      " 0   CAMIS                  174712 non-null  int64  \n",
      " 1   DBA                    174685 non-null  object \n",
      " 2   BORO                   174712 non-null  object \n",
      " 3   BUILDING               174307 non-null  object \n",
      " 4   STREET                 174712 non-null  object \n",
      " 5   ZIPCODE                171818 non-null  float64\n",
      " 6   PHONE                  174712 non-null  object \n",
      " 7   CUISINE DESCRIPTION    174711 non-null  object \n",
      " 8   INSPECTION DATE        174712 non-null  object \n",
      " 9   ACTION                 174712 non-null  object \n",
      " 10  VIOLATION CODE         173916 non-null  object \n",
      " 11  VIOLATION DESCRIPTION  174348 non-null  object \n",
      " 12  CRITICAL FLAG          174712 non-null  object \n",
      " 13  SCORE                  174712 non-null  int64  \n",
      " 14  GRADE                  61912 non-null   object \n",
      " 15  GRADE DATE             61262 non-null   object \n",
      " 16  RECORD DATE            174712 non-null  object \n",
      " 17  INSPECTION TYPE        174712 non-null  object \n",
      " 18  Latitude               174564 non-null  float64\n",
      " 19  Longitude              174564 non-null  float64\n",
      " 20  Community Board        171328 non-null  float64\n",
      " 21  Council District       171333 non-null  float64\n",
      " 22  Census Tract           171333 non-null  float64\n",
      " 23  BIN                    170560 non-null  float64\n",
      " 24  BBL                    174222 non-null  float64\n",
      " 25  NTA                    171328 non-null  object \n",
      " 26  A                      174712 non-null  bool   \n",
      " 27  B                      174712 non-null  bool   \n",
      " 28  C                      174712 non-null  bool   \n",
      "dtypes: bool(3), float64(8), int64(2), object(16)\n",
      "memory usage: 36.5+ MB\n"
     ]
    }
   ],
   "source": [
    "doh.info()"
   ]
  },
  {
   "cell_type": "code",
   "execution_count": 26,
   "metadata": {
    "ExecuteTime": {
     "end_time": "2022-04-16T16:30:16.722913Z",
     "start_time": "2022-04-16T16:30:16.521822Z"
    }
   },
   "outputs": [],
   "source": [
    "doh['INSPECTION DATE'] =  pd.to_datetime(doh['INSPECTION DATE'])"
   ]
  },
  {
   "cell_type": "code",
   "execution_count": null,
   "metadata": {
    "ExecuteTime": {
     "end_time": "2022-03-26T00:42:54.549470Z",
     "start_time": "2022-03-26T00:42:54.522854Z"
    }
   },
   "outputs": [],
   "source": [
    "# doh.pivot(columns=['CAMIS','INSPECTION DATE'],values='SCORE')"
   ]
  },
  {
   "cell_type": "code",
   "execution_count": null,
   "metadata": {},
   "outputs": [],
   "source": []
  },
  {
   "cell_type": "markdown",
   "metadata": {},
   "source": [
    "The New York Health Department inspects the approximately 27,000 restaurants within the city to monitor their compliance with food safety regulations. Inspectors observe how food is prepared, served and stored and whether restaurant workers are practicing good hygiene. They check food temperatures, equipment maintenance and pest control measures."
   ]
  },
  {
   "cell_type": "markdown",
   "metadata": {},
   "source": [
    "Calling API"
   ]
  },
  {
   "cell_type": "code",
   "execution_count": null,
   "metadata": {
    "ExecuteTime": {
     "end_time": "2022-03-23T14:15:24.838006Z",
     "start_time": "2022-03-23T14:15:23.353483Z"
    },
    "scrolled": true
   },
   "outputs": [],
   "source": [
    "# # Take a look at duplicated records\n",
    "# duplicates = df1.duplicated(subset=['camis'], keep=False)\n",
    "# df1.loc[duplicates.loc[duplicates==True].index].sort_values(by='camis')"
   ]
  },
  {
   "cell_type": "markdown",
   "metadata": {},
   "source": [
    "## Yelp API"
   ]
  },
  {
   "cell_type": "code",
   "execution_count": 2,
   "metadata": {
    "ExecuteTime": {
     "end_time": "2022-04-18T10:17:04.615583Z",
     "start_time": "2022-04-18T10:17:04.604551Z"
    }
   },
   "outputs": [],
   "source": [
    "with open('/Users/Rob/.secret/yelp_api.json') as f:\n",
    "    creds = json.load(f)"
   ]
  },
  {
   "cell_type": "code",
   "execution_count": 29,
   "metadata": {
    "ExecuteTime": {
     "end_time": "2022-04-16T16:30:53.765404Z",
     "start_time": "2022-04-16T16:30:53.757849Z"
    }
   },
   "outputs": [
    {
     "data": {
      "text/plain": [
       "dict_keys(['api_key'])"
      ]
     },
     "execution_count": 29,
     "metadata": {},
     "output_type": "execute_result"
    }
   ],
   "source": [
    "creds.keys()"
   ]
  },
  {
   "cell_type": "code",
   "execution_count": 10,
   "metadata": {
    "ExecuteTime": {
     "end_time": "2022-04-12T22:00:12.138716Z",
     "start_time": "2022-04-12T22:00:12.133805Z"
    }
   },
   "outputs": [],
   "source": [
    "#Business Search      \n",
    "# url = 'https://api.yelp.com/v3/businesses/search'\n",
    "\n",
    "#Business Match       \n",
    "# url = 'https://api.yelp.com/v3/businesses/matches'\n",
    "\n",
    "#Phone Search         \n",
    "url = 'https://api.yelp.com/v3/businesses/search/phone'\n",
    "\n",
    "#Business Details     \n",
    "# url = 'https://api.yelp.com/v3/businesses/{id}'\n",
    "\n",
    "#Business Reviews     \n",
    "# url = 'https://api.yelp.com/v3/businesses/{id}/reviews'"
   ]
  },
  {
   "cell_type": "code",
   "execution_count": null,
   "metadata": {
    "ExecuteTime": {
     "end_time": "2022-04-12T17:40:46.110231Z",
     "start_time": "2022-04-12T17:40:45.431775Z"
    }
   },
   "outputs": [],
   "source": [
    "# #Business Search  \n",
    "# headers = {\n",
    "#     'Authorization': 'Bearer ' + creds['api_key']\n",
    "#           }\n",
    "# location = 'New York NY'\n",
    "# SEARCH_LIMIT = 50\n",
    "\n",
    "# url_params = {\n",
    "#     'limit': SEARCH_LIMIT,\n",
    "#     'location' : location.replace(' ','+'),\n",
    "#     'offset': 0\n",
    "#              }\n",
    "\n",
    "\n",
    "# response = requests.get(url, headers=headers, params=url_params)\n",
    "# print(response.status_code)"
   ]
  },
  {
   "cell_type": "code",
   "execution_count": 31,
   "metadata": {
    "ExecuteTime": {
     "end_time": "2022-04-16T16:31:15.947376Z",
     "start_time": "2022-04-16T16:31:15.891598Z"
    }
   },
   "outputs": [],
   "source": [
    "phone_numbers = set(doh['PHONE'])"
   ]
  },
  {
   "cell_type": "code",
   "execution_count": 32,
   "metadata": {
    "ExecuteTime": {
     "end_time": "2022-04-16T16:31:17.768126Z",
     "start_time": "2022-04-16T16:31:17.762149Z"
    }
   },
   "outputs": [
    {
     "data": {
      "text/plain": [
       "18937"
      ]
     },
     "execution_count": 32,
     "metadata": {},
     "output_type": "execute_result"
    }
   ],
   "source": [
    "len(phone_numbers)"
   ]
  },
  {
   "cell_type": "code",
   "execution_count": 33,
   "metadata": {
    "ExecuteTime": {
     "end_time": "2022-04-16T16:31:21.897811Z",
     "start_time": "2022-04-16T16:31:21.892683Z"
    }
   },
   "outputs": [],
   "source": [
    "phone_numbers = list(phone_numbers)"
   ]
  },
  {
   "cell_type": "code",
   "execution_count": 155,
   "metadata": {
    "ExecuteTime": {
     "end_time": "2022-04-13T17:20:35.882683Z",
     "start_time": "2022-04-13T17:20:35.878245Z"
    }
   },
   "outputs": [],
   "source": [
    "phone_numbers1 = phone_numbers[1:1000]"
   ]
  },
  {
   "cell_type": "code",
   "execution_count": 199,
   "metadata": {
    "ExecuteTime": {
     "end_time": "2022-04-13T17:55:34.146965Z",
     "start_time": "2022-04-13T17:55:34.138277Z"
    }
   },
   "outputs": [],
   "source": [
    "phone_numbers2 = phone_numbers[1000:2000]"
   ]
  },
  {
   "cell_type": "code",
   "execution_count": 235,
   "metadata": {
    "ExecuteTime": {
     "end_time": "2022-04-14T02:20:00.268122Z",
     "start_time": "2022-04-14T02:20:00.258854Z"
    }
   },
   "outputs": [],
   "source": [
    "phone_numbers3 = phone_numbers[2000:2500]"
   ]
  },
  {
   "cell_type": "code",
   "execution_count": 236,
   "metadata": {
    "ExecuteTime": {
     "end_time": "2022-04-14T02:20:02.892386Z",
     "start_time": "2022-04-14T02:20:02.885842Z"
    }
   },
   "outputs": [],
   "source": [
    "phone_numbers4 = phone_numbers[2500:3500]"
   ]
  },
  {
   "cell_type": "code",
   "execution_count": 254,
   "metadata": {
    "ExecuteTime": {
     "end_time": "2022-04-14T02:25:37.278461Z",
     "start_time": "2022-04-14T02:25:37.270195Z"
    }
   },
   "outputs": [],
   "source": [
    "phone_numbers5 = phone_numbers[3500:5000]"
   ]
  },
  {
   "cell_type": "code",
   "execution_count": 298,
   "metadata": {
    "ExecuteTime": {
     "end_time": "2022-04-14T14:00:19.873400Z",
     "start_time": "2022-04-14T14:00:19.867556Z"
    }
   },
   "outputs": [],
   "source": [
    "phone_numbers6 = phone_numbers[5000:6000]"
   ]
  },
  {
   "cell_type": "code",
   "execution_count": 306,
   "metadata": {
    "ExecuteTime": {
     "end_time": "2022-04-14T14:06:29.044373Z",
     "start_time": "2022-04-14T14:06:29.033607Z"
    }
   },
   "outputs": [],
   "source": [
    "phone_numbers7 = phone_numbers[6000:7500]"
   ]
  },
  {
   "cell_type": "code",
   "execution_count": 317,
   "metadata": {
    "ExecuteTime": {
     "end_time": "2022-04-14T14:24:15.186206Z",
     "start_time": "2022-04-14T14:24:15.177173Z"
    }
   },
   "outputs": [],
   "source": [
    "phone_numbers8 = phone_numbers[7500:10000]"
   ]
  },
  {
   "cell_type": "code",
   "execution_count": 327,
   "metadata": {
    "ExecuteTime": {
     "end_time": "2022-04-15T00:53:23.113441Z",
     "start_time": "2022-04-15T00:53:23.102826Z"
    }
   },
   "outputs": [],
   "source": [
    "phone_numbers9 = phone_numbers[10000:12500]"
   ]
  },
  {
   "cell_type": "code",
   "execution_count": 34,
   "metadata": {
    "ExecuteTime": {
     "end_time": "2022-04-16T16:31:41.489503Z",
     "start_time": "2022-04-16T16:31:41.484761Z"
    }
   },
   "outputs": [],
   "source": [
    "phone_numbers10 = phone_numbers[12500:15000]"
   ]
  },
  {
   "cell_type": "code",
   "execution_count": 39,
   "metadata": {
    "ExecuteTime": {
     "end_time": "2022-04-16T16:41:31.145357Z",
     "start_time": "2022-04-16T16:41:31.140619Z"
    }
   },
   "outputs": [],
   "source": [
    "phone_numbers11 = phone_numbers[15000:17500]"
   ]
  },
  {
   "cell_type": "code",
   "execution_count": 67,
   "metadata": {
    "ExecuteTime": {
     "end_time": "2022-04-16T16:57:21.772718Z",
     "start_time": "2022-04-16T16:57:21.768590Z"
    }
   },
   "outputs": [],
   "source": [
    "phone_numbers12 = phone_numbers[17500:20000]"
   ]
  },
  {
   "cell_type": "code",
   "execution_count": 3,
   "metadata": {
    "ExecuteTime": {
     "end_time": "2022-04-19T01:55:51.821257Z",
     "start_time": "2022-04-19T01:55:51.815084Z"
    }
   },
   "outputs": [],
   "source": [
    "#Phone Search\n",
    "def get_businesses(phone_numbers):\n",
    "    \n",
    "    biz_list = []\n",
    "    \n",
    "    for number in phone_numbers:\n",
    "        url = 'https://api.yelp.com/v3/businesses/search/phone'\n",
    "        headers = {'Authorization': 'Bearer ' + creds['api_key']}\n",
    "        url_params = {'phone': number}\n",
    "        response = requests.get(url, headers=headers, params=url_params)\n",
    "        response_json = response.json()\n",
    "        biz_list.extend(response_json.get('businesses','U'))\n",
    "        \n",
    "    while 'U' in biz_list:\n",
    "        biz_list.remove('U')\n",
    "        \n",
    "    return biz_list"
   ]
  },
  {
   "cell_type": "code",
   "execution_count": 105,
   "metadata": {
    "ExecuteTime": {
     "end_time": "2022-04-17T07:10:49.187934Z",
     "start_time": "2022-04-17T07:10:48.862272Z"
    },
    "scrolled": true
   },
   "outputs": [
    {
     "data": {
      "text/html": [
       "<div>\n",
       "<style scoped>\n",
       "    .dataframe tbody tr th:only-of-type {\n",
       "        vertical-align: middle;\n",
       "    }\n",
       "\n",
       "    .dataframe tbody tr th {\n",
       "        vertical-align: top;\n",
       "    }\n",
       "\n",
       "    .dataframe thead th {\n",
       "        text-align: right;\n",
       "    }\n",
       "</style>\n",
       "<table border=\"1\" class=\"dataframe\">\n",
       "  <thead>\n",
       "    <tr style=\"text-align: right;\">\n",
       "      <th></th>\n",
       "      <th>id</th>\n",
       "      <th>alias</th>\n",
       "      <th>name</th>\n",
       "      <th>image_url</th>\n",
       "      <th>is_closed</th>\n",
       "      <th>url</th>\n",
       "      <th>review_count</th>\n",
       "      <th>categories</th>\n",
       "      <th>rating</th>\n",
       "      <th>coordinates</th>\n",
       "      <th>transactions</th>\n",
       "      <th>price</th>\n",
       "      <th>location</th>\n",
       "      <th>phone</th>\n",
       "      <th>display_phone</th>\n",
       "    </tr>\n",
       "  </thead>\n",
       "  <tbody>\n",
       "    <tr>\n",
       "      <th>0</th>\n",
       "      <td>SGpqzs1ZtOqGPVTfedrf8w</td>\n",
       "      <td>simons-bbq-brooklyn-2</td>\n",
       "      <td>Simon's BBQ</td>\n",
       "      <td>https://s3-media0.fl.yelpcdn.com/bphoto/wBiZZY6KZlK0D80fHROhrA/o.jpg</td>\n",
       "      <td>False</td>\n",
       "      <td>https://www.yelp.com/biz/simons-bbq-brooklyn-2?adjust_creative=82uXkAt1Tiw7u9_h33zr1A&amp;utm_campaign=yelp_api_v3&amp;utm_medium=api_v3_phone_search&amp;utm_source=82uXkAt1Tiw7u9_h33zr1A</td>\n",
       "      <td>32</td>\n",
       "      <td>[{'alias': 'bbq', 'title': 'Barbeque'}, {'alias': 'chinese', 'title': 'Chinese'}]</td>\n",
       "      <td>4.0</td>\n",
       "      <td>{'latitude': 40.6416092, 'longitude': -74.0027924}</td>\n",
       "      <td>[]</td>\n",
       "      <td>$</td>\n",
       "      <td>{'address1': '4823 8th Ave 1R', 'address2': '', 'address3': '', 'city': 'Brooklyn', 'zip_code': '11220', 'country': 'US', 'state': 'NY', 'display_address': ['4823 8th Ave 1R', 'Brooklyn, NY 11220']}</td>\n",
       "      <td>17184310688</td>\n",
       "      <td>(718) 431-0688</td>\n",
       "    </tr>\n",
       "    <tr>\n",
       "      <th>1</th>\n",
       "      <td>F-eRrDik2KK0sNjpGiNbAg</td>\n",
       "      <td>trattoria-il-gusto-wine-bar-new-york-2</td>\n",
       "      <td>Trattoria iL Gusto Wine Bar</td>\n",
       "      <td>https://s3-media0.fl.yelpcdn.com/bphoto/BSjc210htrdhV7R3LGYnHw/o.jpg</td>\n",
       "      <td>False</td>\n",
       "      <td>https://www.yelp.com/biz/trattoria-il-gusto-wine-bar-new-york-2?adjust_creative=82uXkAt1Tiw7u9_h33zr1A&amp;utm_campaign=yelp_api_v3&amp;utm_medium=api_v3_phone_search&amp;utm_source=82uXkAt1Tiw7u9_h33zr1A</td>\n",
       "      <td>73</td>\n",
       "      <td>[{'alias': 'wine_bars', 'title': 'Wine Bars'}, {'alias': 'italian', 'title': 'Italian'}, {'alias': 'desserts', 'title': 'Desserts'}]</td>\n",
       "      <td>3.5</td>\n",
       "      <td>{'latitude': 40.78923, 'longitude': -73.9698499}</td>\n",
       "      <td>['delivery', 'pickup']</td>\n",
       "      <td>$$</td>\n",
       "      <td>{'address1': '625 Columbus Ave', 'address2': '', 'address3': None, 'city': 'New York', 'zip_code': '10024', 'country': 'US', 'state': 'NY', 'display_address': ['625 Columbus Ave', 'New York, NY 10024']}</td>\n",
       "      <td>12125797970</td>\n",
       "      <td>(212) 579-7970</td>\n",
       "    </tr>\n",
       "    <tr>\n",
       "      <th>2</th>\n",
       "      <td>WVNKWxmjijbwvQrVHaPtQw</td>\n",
       "      <td>trattoria-pesce-pasta-quattro-new-york</td>\n",
       "      <td>Trattoria Pesce Pasta Quattro</td>\n",
       "      <td>https://s3-media0.fl.yelpcdn.com/bphoto/y_uAxhK6H_nxW_ny6ncXtg/o.jpg</td>\n",
       "      <td>True</td>\n",
       "      <td>https://www.yelp.com/biz/trattoria-pesce-pasta-quattro-new-york?adjust_creative=82uXkAt1Tiw7u9_h33zr1A&amp;utm_campaign=yelp_api_v3&amp;utm_medium=api_v3_phone_search&amp;utm_source=82uXkAt1Tiw7u9_h33zr1A</td>\n",
       "      <td>42</td>\n",
       "      <td>[{'alias': 'italian', 'title': 'Italian'}, {'alias': 'seafood', 'title': 'Seafood'}, {'alias': 'wine_bars', 'title': 'Wine Bars'}]</td>\n",
       "      <td>3.5</td>\n",
       "      <td>{'latitude': 40.78923, 'longitude': -73.9698499}</td>\n",
       "      <td>['delivery', 'pickup']</td>\n",
       "      <td>$$</td>\n",
       "      <td>{'address1': '625 Columbus Ave', 'address2': '', 'address3': '', 'city': 'New York', 'zip_code': '10024', 'country': 'US', 'state': 'NY', 'display_address': ['625 Columbus Ave', 'New York, NY 10024']}</td>\n",
       "      <td>12125797970</td>\n",
       "      <td>(212) 579-7970</td>\n",
       "    </tr>\n",
       "    <tr>\n",
       "      <th>3</th>\n",
       "      <td>edLi09LmjWXgL1NOCJ4qjA</td>\n",
       "      <td>bungalow-bar-rockaway-beach</td>\n",
       "      <td>Bungalow Bar</td>\n",
       "      <td>https://s3-media0.fl.yelpcdn.com/bphoto/e7zNdLKPXDzym15W6wU_iQ/o.jpg</td>\n",
       "      <td>False</td>\n",
       "      <td>https://www.yelp.com/biz/bungalow-bar-rockaway-beach?adjust_creative=82uXkAt1Tiw7u9_h33zr1A&amp;utm_campaign=yelp_api_v3&amp;utm_medium=api_v3_phone_search&amp;utm_source=82uXkAt1Tiw7u9_h33zr1A</td>\n",
       "      <td>568</td>\n",
       "      <td>[{'alias': 'tradamerican', 'title': 'American (Traditional)'}, {'alias': 'seafood', 'title': 'Seafood'}, {'alias': 'bars', 'title': 'Bars'}]</td>\n",
       "      <td>4.0</td>\n",
       "      <td>{'latitude': 40.5890639, 'longitude': -73.817172}</td>\n",
       "      <td>['pickup', 'delivery']</td>\n",
       "      <td>$$</td>\n",
       "      <td>{'address1': '377 Beach 92nd St', 'address2': '', 'address3': '', 'city': 'Rockaway Beach', 'zip_code': '11693', 'country': 'US', 'state': 'NY', 'display_address': ['377 Beach 92nd St', 'Rockaway Beach, NY 11693']}</td>\n",
       "      <td>17189452100</td>\n",
       "      <td>(718) 945-2100</td>\n",
       "    </tr>\n",
       "    <tr>\n",
       "      <th>4</th>\n",
       "      <td>hvMbN42EaHlZoHMS3degLg</td>\n",
       "      <td>sweet-talk-brooklyn</td>\n",
       "      <td>Sweet Talk</td>\n",
       "      <td>https://s3-media0.fl.yelpcdn.com/bphoto/6aXGfu845w3VNjEvQpYTUw/o.jpg</td>\n",
       "      <td>False</td>\n",
       "      <td>https://www.yelp.com/biz/sweet-talk-brooklyn?adjust_creative=82uXkAt1Tiw7u9_h33zr1A&amp;utm_campaign=yelp_api_v3&amp;utm_medium=api_v3_phone_search&amp;utm_source=82uXkAt1Tiw7u9_h33zr1A</td>\n",
       "      <td>262</td>\n",
       "      <td>[{'alias': 'cocktailbars', 'title': 'Cocktail Bars'}, {'alias': 'hawaiian', 'title': 'Hawaiian'}, {'alias': 'tacos', 'title': 'Tacos'}]</td>\n",
       "      <td>4.0</td>\n",
       "      <td>{'latitude': 40.6712112426758, 'longitude': -73.9909439086914}</td>\n",
       "      <td>['delivery', 'pickup']</td>\n",
       "      <td>$$</td>\n",
       "      <td>{'address1': '457 3rd Ave', 'address2': '', 'address3': '', 'city': 'Brooklyn', 'zip_code': '11215', 'country': 'US', 'state': 'NY', 'display_address': ['457 3rd Ave', 'Brooklyn, NY 11215']}</td>\n",
       "      <td>17184993400</td>\n",
       "      <td>(718) 499-3400</td>\n",
       "    </tr>\n",
       "    <tr>\n",
       "      <th>...</th>\n",
       "      <td>...</td>\n",
       "      <td>...</td>\n",
       "      <td>...</td>\n",
       "      <td>...</td>\n",
       "      <td>...</td>\n",
       "      <td>...</td>\n",
       "      <td>...</td>\n",
       "      <td>...</td>\n",
       "      <td>...</td>\n",
       "      <td>...</td>\n",
       "      <td>...</td>\n",
       "      <td>...</td>\n",
       "      <td>...</td>\n",
       "      <td>...</td>\n",
       "      <td>...</td>\n",
       "    </tr>\n",
       "    <tr>\n",
       "      <th>2134</th>\n",
       "      <td>osnb51lPIHxUKRlcg7idwA</td>\n",
       "      <td>kathys-dumplings-brooklyn</td>\n",
       "      <td>Kathy's Dumplings</td>\n",
       "      <td>https://s3-media0.fl.yelpcdn.com/bphoto/4PHqX5uxThKNvLcD0DZqrw/o.jpg</td>\n",
       "      <td>False</td>\n",
       "      <td>https://www.yelp.com/biz/kathys-dumplings-brooklyn?adjust_creative=82uXkAt1Tiw7u9_h33zr1A&amp;utm_campaign=yelp_api_v3&amp;utm_medium=api_v3_phone_search&amp;utm_source=82uXkAt1Tiw7u9_h33zr1A</td>\n",
       "      <td>231</td>\n",
       "      <td>[{'alias': 'chinese', 'title': 'Chinese'}]</td>\n",
       "      <td>4.0</td>\n",
       "      <td>{'latitude': 40.6279735, 'longitude': -74.0293625}</td>\n",
       "      <td>['pickup', 'delivery']</td>\n",
       "      <td>$</td>\n",
       "      <td>{'address1': '7924 3rd Ave', 'address2': '', 'address3': '', 'city': 'Brooklyn', 'zip_code': '11209', 'country': 'US', 'state': 'NY', 'display_address': ['7924 3rd Ave', 'Brooklyn, NY 11209']}</td>\n",
       "      <td>17188337000</td>\n",
       "      <td>(718) 833-7000</td>\n",
       "    </tr>\n",
       "    <tr>\n",
       "      <th>2135</th>\n",
       "      <td>SkYcO8FaqYgoP-66g58OMw</td>\n",
       "      <td>thai-pot-forest-hills</td>\n",
       "      <td>Thai Pot</td>\n",
       "      <td>https://s3-media0.fl.yelpcdn.com/bphoto/Qu_oE3bTpWt-pJw8r4LXxw/o.jpg</td>\n",
       "      <td>False</td>\n",
       "      <td>https://www.yelp.com/biz/thai-pot-forest-hills?adjust_creative=82uXkAt1Tiw7u9_h33zr1A&amp;utm_campaign=yelp_api_v3&amp;utm_medium=api_v3_phone_search&amp;utm_source=82uXkAt1Tiw7u9_h33zr1A</td>\n",
       "      <td>258</td>\n",
       "      <td>[{'alias': 'thai', 'title': 'Thai'}]</td>\n",
       "      <td>3.0</td>\n",
       "      <td>{'latitude': 40.7247545048924, 'longitude': -73.8498401641846}</td>\n",
       "      <td>['delivery', 'pickup']</td>\n",
       "      <td>$$</td>\n",
       "      <td>{'address1': '103-07 Queens Blvd', 'address2': '', 'address3': '', 'city': 'Forest Hills', 'zip_code': '11375', 'country': 'US', 'state': 'NY', 'display_address': ['103-07 Queens Blvd', 'Forest Hills, NY 11375']}</td>\n",
       "      <td>17188973898</td>\n",
       "      <td>(718) 897-3898</td>\n",
       "    </tr>\n",
       "    <tr>\n",
       "      <th>2136</th>\n",
       "      <td>nt-B5XlmTJlQsDqoiL7UKA</td>\n",
       "      <td>chang-pai-jamaica</td>\n",
       "      <td>Chang Pai</td>\n",
       "      <td>https://s3-media0.fl.yelpcdn.com/bphoto/KAR293sfF0SDEHYpjT9cHQ/o.jpg</td>\n",
       "      <td>False</td>\n",
       "      <td>https://www.yelp.com/biz/chang-pai-jamaica?adjust_creative=82uXkAt1Tiw7u9_h33zr1A&amp;utm_campaign=yelp_api_v3&amp;utm_medium=api_v3_phone_search&amp;utm_source=82uXkAt1Tiw7u9_h33zr1A</td>\n",
       "      <td>70</td>\n",
       "      <td>[{'alias': 'thai', 'title': 'Thai'}, {'alias': 'chinese', 'title': 'Chinese'}]</td>\n",
       "      <td>2.0</td>\n",
       "      <td>{'latitude': 40.7094307, 'longitude': -73.7955093}</td>\n",
       "      <td>['delivery', 'pickup']</td>\n",
       "      <td>$$</td>\n",
       "      <td>{'address1': '166-12 Hillside Ave', 'address2': '', 'address3': '', 'city': 'Jamaica', 'zip_code': '11432', 'country': 'US', 'state': 'NY', 'display_address': ['166-12 Hillside Ave', 'Jamaica, NY 11432']}</td>\n",
       "      <td>17182918222</td>\n",
       "      <td>(718) 291-8222</td>\n",
       "    </tr>\n",
       "    <tr>\n",
       "      <th>2137</th>\n",
       "      <td>E-_NtEsnwxrMfqb5_vIW3Q</td>\n",
       "      <td>starbucks-los-angeles-193</td>\n",
       "      <td>Starbucks</td>\n",
       "      <td>https://s3-media0.fl.yelpcdn.com/bphoto/V5NGsaUdyns0Jm_aPGFMSw/o.jpg</td>\n",
       "      <td>True</td>\n",
       "      <td>https://www.yelp.com/biz/starbucks-los-angeles-193?adjust_creative=82uXkAt1Tiw7u9_h33zr1A&amp;utm_campaign=yelp_api_v3&amp;utm_medium=api_v3_phone_search&amp;utm_source=82uXkAt1Tiw7u9_h33zr1A</td>\n",
       "      <td>1</td>\n",
       "      <td>[{'alias': 'coffee', 'title': 'Coffee &amp; Tea'}]</td>\n",
       "      <td>1.0</td>\n",
       "      <td>{'latitude': 33.986341, 'longitude': -118.32644}</td>\n",
       "      <td>[]</td>\n",
       "      <td>$</td>\n",
       "      <td>{'address1': '871 8th Ave', 'address2': '', 'address3': '', 'city': 'Los Angeles', 'zip_code': '90019', 'country': 'US', 'state': 'CA', 'display_address': ['871 8th Ave', 'Los Angeles, CA 90019']}</td>\n",
       "      <td>12122467699</td>\n",
       "      <td>(212) 246-7699</td>\n",
       "    </tr>\n",
       "    <tr>\n",
       "      <th>2138</th>\n",
       "      <td>pJPQ1N5PRti_ab--mXL5Tw</td>\n",
       "      <td>starbucks-new-york-310</td>\n",
       "      <td>Starbucks</td>\n",
       "      <td>https://s3-media0.fl.yelpcdn.com/bphoto/_hzEpvNsjC_OgLk9VGN47A/o.jpg</td>\n",
       "      <td>False</td>\n",
       "      <td>https://www.yelp.com/biz/starbucks-new-york-310?adjust_creative=82uXkAt1Tiw7u9_h33zr1A&amp;utm_campaign=yelp_api_v3&amp;utm_medium=api_v3_phone_search&amp;utm_source=82uXkAt1Tiw7u9_h33zr1A</td>\n",
       "      <td>61</td>\n",
       "      <td>[{'alias': 'coffee', 'title': 'Coffee &amp; Tea'}]</td>\n",
       "      <td>2.5</td>\n",
       "      <td>{'latitude': 40.763714, 'longitude': -73.985313}</td>\n",
       "      <td>[]</td>\n",
       "      <td>$$</td>\n",
       "      <td>{'address1': '871 8th Ave', 'address2': '', 'address3': '', 'city': 'New York', 'zip_code': '10019', 'country': 'US', 'state': 'NY', 'display_address': ['871 8th Ave', 'New York, NY 10019']}</td>\n",
       "      <td>12122467699</td>\n",
       "      <td>(212) 246-7699</td>\n",
       "    </tr>\n",
       "  </tbody>\n",
       "</table>\n",
       "<p>2139 rows × 15 columns</p>\n",
       "</div>"
      ],
      "text/plain": [
       "                          id                                   alias  \\\n",
       "0     SGpqzs1ZtOqGPVTfedrf8w                   simons-bbq-brooklyn-2   \n",
       "1     F-eRrDik2KK0sNjpGiNbAg  trattoria-il-gusto-wine-bar-new-york-2   \n",
       "2     WVNKWxmjijbwvQrVHaPtQw  trattoria-pesce-pasta-quattro-new-york   \n",
       "3     edLi09LmjWXgL1NOCJ4qjA             bungalow-bar-rockaway-beach   \n",
       "4     hvMbN42EaHlZoHMS3degLg                     sweet-talk-brooklyn   \n",
       "...                      ...                                     ...   \n",
       "2134  osnb51lPIHxUKRlcg7idwA               kathys-dumplings-brooklyn   \n",
       "2135  SkYcO8FaqYgoP-66g58OMw                   thai-pot-forest-hills   \n",
       "2136  nt-B5XlmTJlQsDqoiL7UKA                       chang-pai-jamaica   \n",
       "2137  E-_NtEsnwxrMfqb5_vIW3Q               starbucks-los-angeles-193   \n",
       "2138  pJPQ1N5PRti_ab--mXL5Tw                  starbucks-new-york-310   \n",
       "\n",
       "                               name  \\\n",
       "0                       Simon's BBQ   \n",
       "1       Trattoria iL Gusto Wine Bar   \n",
       "2     Trattoria Pesce Pasta Quattro   \n",
       "3                      Bungalow Bar   \n",
       "4                        Sweet Talk   \n",
       "...                             ...   \n",
       "2134              Kathy's Dumplings   \n",
       "2135                       Thai Pot   \n",
       "2136                      Chang Pai   \n",
       "2137                      Starbucks   \n",
       "2138                      Starbucks   \n",
       "\n",
       "                                                                 image_url  \\\n",
       "0     https://s3-media0.fl.yelpcdn.com/bphoto/wBiZZY6KZlK0D80fHROhrA/o.jpg   \n",
       "1     https://s3-media0.fl.yelpcdn.com/bphoto/BSjc210htrdhV7R3LGYnHw/o.jpg   \n",
       "2     https://s3-media0.fl.yelpcdn.com/bphoto/y_uAxhK6H_nxW_ny6ncXtg/o.jpg   \n",
       "3     https://s3-media0.fl.yelpcdn.com/bphoto/e7zNdLKPXDzym15W6wU_iQ/o.jpg   \n",
       "4     https://s3-media0.fl.yelpcdn.com/bphoto/6aXGfu845w3VNjEvQpYTUw/o.jpg   \n",
       "...                                                                    ...   \n",
       "2134  https://s3-media0.fl.yelpcdn.com/bphoto/4PHqX5uxThKNvLcD0DZqrw/o.jpg   \n",
       "2135  https://s3-media0.fl.yelpcdn.com/bphoto/Qu_oE3bTpWt-pJw8r4LXxw/o.jpg   \n",
       "2136  https://s3-media0.fl.yelpcdn.com/bphoto/KAR293sfF0SDEHYpjT9cHQ/o.jpg   \n",
       "2137  https://s3-media0.fl.yelpcdn.com/bphoto/V5NGsaUdyns0Jm_aPGFMSw/o.jpg   \n",
       "2138  https://s3-media0.fl.yelpcdn.com/bphoto/_hzEpvNsjC_OgLk9VGN47A/o.jpg   \n",
       "\n",
       "      is_closed  \\\n",
       "0         False   \n",
       "1         False   \n",
       "2          True   \n",
       "3         False   \n",
       "4         False   \n",
       "...         ...   \n",
       "2134      False   \n",
       "2135      False   \n",
       "2136      False   \n",
       "2137       True   \n",
       "2138      False   \n",
       "\n",
       "                                                                                                                                                                                                   url  \\\n",
       "0                      https://www.yelp.com/biz/simons-bbq-brooklyn-2?adjust_creative=82uXkAt1Tiw7u9_h33zr1A&utm_campaign=yelp_api_v3&utm_medium=api_v3_phone_search&utm_source=82uXkAt1Tiw7u9_h33zr1A   \n",
       "1     https://www.yelp.com/biz/trattoria-il-gusto-wine-bar-new-york-2?adjust_creative=82uXkAt1Tiw7u9_h33zr1A&utm_campaign=yelp_api_v3&utm_medium=api_v3_phone_search&utm_source=82uXkAt1Tiw7u9_h33zr1A   \n",
       "2     https://www.yelp.com/biz/trattoria-pesce-pasta-quattro-new-york?adjust_creative=82uXkAt1Tiw7u9_h33zr1A&utm_campaign=yelp_api_v3&utm_medium=api_v3_phone_search&utm_source=82uXkAt1Tiw7u9_h33zr1A   \n",
       "3                https://www.yelp.com/biz/bungalow-bar-rockaway-beach?adjust_creative=82uXkAt1Tiw7u9_h33zr1A&utm_campaign=yelp_api_v3&utm_medium=api_v3_phone_search&utm_source=82uXkAt1Tiw7u9_h33zr1A   \n",
       "4                        https://www.yelp.com/biz/sweet-talk-brooklyn?adjust_creative=82uXkAt1Tiw7u9_h33zr1A&utm_campaign=yelp_api_v3&utm_medium=api_v3_phone_search&utm_source=82uXkAt1Tiw7u9_h33zr1A   \n",
       "...                                                                                                                                                                                                ...   \n",
       "2134               https://www.yelp.com/biz/kathys-dumplings-brooklyn?adjust_creative=82uXkAt1Tiw7u9_h33zr1A&utm_campaign=yelp_api_v3&utm_medium=api_v3_phone_search&utm_source=82uXkAt1Tiw7u9_h33zr1A   \n",
       "2135                   https://www.yelp.com/biz/thai-pot-forest-hills?adjust_creative=82uXkAt1Tiw7u9_h33zr1A&utm_campaign=yelp_api_v3&utm_medium=api_v3_phone_search&utm_source=82uXkAt1Tiw7u9_h33zr1A   \n",
       "2136                       https://www.yelp.com/biz/chang-pai-jamaica?adjust_creative=82uXkAt1Tiw7u9_h33zr1A&utm_campaign=yelp_api_v3&utm_medium=api_v3_phone_search&utm_source=82uXkAt1Tiw7u9_h33zr1A   \n",
       "2137               https://www.yelp.com/biz/starbucks-los-angeles-193?adjust_creative=82uXkAt1Tiw7u9_h33zr1A&utm_campaign=yelp_api_v3&utm_medium=api_v3_phone_search&utm_source=82uXkAt1Tiw7u9_h33zr1A   \n",
       "2138                  https://www.yelp.com/biz/starbucks-new-york-310?adjust_creative=82uXkAt1Tiw7u9_h33zr1A&utm_campaign=yelp_api_v3&utm_medium=api_v3_phone_search&utm_source=82uXkAt1Tiw7u9_h33zr1A   \n",
       "\n",
       "      review_count  \\\n",
       "0               32   \n",
       "1               73   \n",
       "2               42   \n",
       "3              568   \n",
       "4              262   \n",
       "...            ...   \n",
       "2134           231   \n",
       "2135           258   \n",
       "2136            70   \n",
       "2137             1   \n",
       "2138            61   \n",
       "\n",
       "                                                                                                                                        categories  \\\n",
       "0                                                                [{'alias': 'bbq', 'title': 'Barbeque'}, {'alias': 'chinese', 'title': 'Chinese'}]   \n",
       "1             [{'alias': 'wine_bars', 'title': 'Wine Bars'}, {'alias': 'italian', 'title': 'Italian'}, {'alias': 'desserts', 'title': 'Desserts'}]   \n",
       "2               [{'alias': 'italian', 'title': 'Italian'}, {'alias': 'seafood', 'title': 'Seafood'}, {'alias': 'wine_bars', 'title': 'Wine Bars'}]   \n",
       "3     [{'alias': 'tradamerican', 'title': 'American (Traditional)'}, {'alias': 'seafood', 'title': 'Seafood'}, {'alias': 'bars', 'title': 'Bars'}]   \n",
       "4          [{'alias': 'cocktailbars', 'title': 'Cocktail Bars'}, {'alias': 'hawaiian', 'title': 'Hawaiian'}, {'alias': 'tacos', 'title': 'Tacos'}]   \n",
       "...                                                                                                                                            ...   \n",
       "2134                                                                                                    [{'alias': 'chinese', 'title': 'Chinese'}]   \n",
       "2135                                                                                                          [{'alias': 'thai', 'title': 'Thai'}]   \n",
       "2136                                                                [{'alias': 'thai', 'title': 'Thai'}, {'alias': 'chinese', 'title': 'Chinese'}]   \n",
       "2137                                                                                                [{'alias': 'coffee', 'title': 'Coffee & Tea'}]   \n",
       "2138                                                                                                [{'alias': 'coffee', 'title': 'Coffee & Tea'}]   \n",
       "\n",
       "      rating                                                     coordinates  \\\n",
       "0        4.0              {'latitude': 40.6416092, 'longitude': -74.0027924}   \n",
       "1        3.5                {'latitude': 40.78923, 'longitude': -73.9698499}   \n",
       "2        3.5                {'latitude': 40.78923, 'longitude': -73.9698499}   \n",
       "3        4.0               {'latitude': 40.5890639, 'longitude': -73.817172}   \n",
       "4        4.0  {'latitude': 40.6712112426758, 'longitude': -73.9909439086914}   \n",
       "...      ...                                                             ...   \n",
       "2134     4.0              {'latitude': 40.6279735, 'longitude': -74.0293625}   \n",
       "2135     3.0  {'latitude': 40.7247545048924, 'longitude': -73.8498401641846}   \n",
       "2136     2.0              {'latitude': 40.7094307, 'longitude': -73.7955093}   \n",
       "2137     1.0                {'latitude': 33.986341, 'longitude': -118.32644}   \n",
       "2138     2.5                {'latitude': 40.763714, 'longitude': -73.985313}   \n",
       "\n",
       "                transactions price  \\\n",
       "0                         []     $   \n",
       "1     ['delivery', 'pickup']    $$   \n",
       "2     ['delivery', 'pickup']    $$   \n",
       "3     ['pickup', 'delivery']    $$   \n",
       "4     ['delivery', 'pickup']    $$   \n",
       "...                      ...   ...   \n",
       "2134  ['pickup', 'delivery']     $   \n",
       "2135  ['delivery', 'pickup']    $$   \n",
       "2136  ['delivery', 'pickup']    $$   \n",
       "2137                      []     $   \n",
       "2138                      []    $$   \n",
       "\n",
       "                                                                                                                                                                                                                    location  \\\n",
       "0                     {'address1': '4823 8th Ave 1R', 'address2': '', 'address3': '', 'city': 'Brooklyn', 'zip_code': '11220', 'country': 'US', 'state': 'NY', 'display_address': ['4823 8th Ave 1R', 'Brooklyn, NY 11220']}   \n",
       "1                 {'address1': '625 Columbus Ave', 'address2': '', 'address3': None, 'city': 'New York', 'zip_code': '10024', 'country': 'US', 'state': 'NY', 'display_address': ['625 Columbus Ave', 'New York, NY 10024']}   \n",
       "2                   {'address1': '625 Columbus Ave', 'address2': '', 'address3': '', 'city': 'New York', 'zip_code': '10024', 'country': 'US', 'state': 'NY', 'display_address': ['625 Columbus Ave', 'New York, NY 10024']}   \n",
       "3     {'address1': '377 Beach 92nd St', 'address2': '', 'address3': '', 'city': 'Rockaway Beach', 'zip_code': '11693', 'country': 'US', 'state': 'NY', 'display_address': ['377 Beach 92nd St', 'Rockaway Beach, NY 11693']}   \n",
       "4                             {'address1': '457 3rd Ave', 'address2': '', 'address3': '', 'city': 'Brooklyn', 'zip_code': '11215', 'country': 'US', 'state': 'NY', 'display_address': ['457 3rd Ave', 'Brooklyn, NY 11215']}   \n",
       "...                                                                                                                                                                                                                      ...   \n",
       "2134                        {'address1': '7924 3rd Ave', 'address2': '', 'address3': '', 'city': 'Brooklyn', 'zip_code': '11209', 'country': 'US', 'state': 'NY', 'display_address': ['7924 3rd Ave', 'Brooklyn, NY 11209']}   \n",
       "2135    {'address1': '103-07 Queens Blvd', 'address2': '', 'address3': '', 'city': 'Forest Hills', 'zip_code': '11375', 'country': 'US', 'state': 'NY', 'display_address': ['103-07 Queens Blvd', 'Forest Hills, NY 11375']}   \n",
       "2136            {'address1': '166-12 Hillside Ave', 'address2': '', 'address3': '', 'city': 'Jamaica', 'zip_code': '11432', 'country': 'US', 'state': 'NY', 'display_address': ['166-12 Hillside Ave', 'Jamaica, NY 11432']}   \n",
       "2137                    {'address1': '871 8th Ave', 'address2': '', 'address3': '', 'city': 'Los Angeles', 'zip_code': '90019', 'country': 'US', 'state': 'CA', 'display_address': ['871 8th Ave', 'Los Angeles, CA 90019']}   \n",
       "2138                          {'address1': '871 8th Ave', 'address2': '', 'address3': '', 'city': 'New York', 'zip_code': '10019', 'country': 'US', 'state': 'NY', 'display_address': ['871 8th Ave', 'New York, NY 10019']}   \n",
       "\n",
       "            phone   display_phone  \n",
       "0     17184310688  (718) 431-0688  \n",
       "1     12125797970  (212) 579-7970  \n",
       "2     12125797970  (212) 579-7970  \n",
       "3     17189452100  (718) 945-2100  \n",
       "4     17184993400  (718) 499-3400  \n",
       "...           ...             ...  \n",
       "2134  17188337000  (718) 833-7000  \n",
       "2135  17188973898  (718) 897-3898  \n",
       "2136  17182918222  (718) 291-8222  \n",
       "2137  12122467699  (212) 246-7699  \n",
       "2138  12122467699  (212) 246-7699  \n",
       "\n",
       "[2139 rows x 15 columns]"
      ]
     },
     "execution_count": 105,
     "metadata": {},
     "output_type": "execute_result"
    }
   ],
   "source": [
    "biz12_df = pd.DataFrame(biz_list)\n",
    "biz12_df.to_csv('yelp_phone12.csv',index=False)\n",
    "df = pd.read_csv('yelp_phone12.csv')\n",
    "df"
   ]
  },
  {
   "cell_type": "code",
   "execution_count": 38,
   "metadata": {
    "ExecuteTime": {
     "end_time": "2022-04-19T12:48:30.200386Z",
     "start_time": "2022-04-19T12:48:29.818859Z"
    }
   },
   "outputs": [],
   "source": [
    "df_1 = pd.read_csv('yelp_phone1.csv')\n",
    "df_2 = pd.read_csv('yelp_phone2.csv')\n",
    "df_3 = pd.read_csv('yelp_phone3.csv')\n",
    "df_4 = pd.read_csv('yelp_phone4.csv')\n",
    "df_5 = pd.read_csv('yelp_phone5.csv')\n",
    "df_6 = pd.read_csv('yelp_phone6.csv')\n",
    "df_7 = pd.read_csv('yelp_phone7.csv')\n",
    "df_8 = pd.read_csv('yelp_phone8.csv')\n",
    "df_9 = pd.read_csv('yelp_phone9.csv')\n",
    "df_10 = pd.read_csv('yelp_phone10.csv')\n",
    "df_11 = pd.read_csv('yelp_phone11.csv')\n",
    "df_12 = pd.read_csv('yelp_phone12.csv')"
   ]
  },
  {
   "cell_type": "code",
   "execution_count": 11,
   "metadata": {
    "ExecuteTime": {
     "end_time": "2022-04-19T02:07:57.151604Z",
     "start_time": "2022-04-19T02:07:57.147019Z"
    }
   },
   "outputs": [],
   "source": [
    "df_list = [df_1,df_2,df_3,df_4,df_5,df_6,df_7,df_8,df_9,df_10,df_11,df_12]"
   ]
  },
  {
   "cell_type": "code",
   "execution_count": 243,
   "metadata": {
    "ExecuteTime": {
     "end_time": "2022-04-17T22:54:31.347499Z",
     "start_time": "2022-04-17T22:54:31.273749Z"
    }
   },
   "outputs": [
    {
     "data": {
      "text/html": [
       "<div>\n",
       "<style scoped>\n",
       "    .dataframe tbody tr th:only-of-type {\n",
       "        vertical-align: middle;\n",
       "    }\n",
       "\n",
       "    .dataframe tbody tr th {\n",
       "        vertical-align: top;\n",
       "    }\n",
       "\n",
       "    .dataframe thead th {\n",
       "        text-align: right;\n",
       "    }\n",
       "</style>\n",
       "<table border=\"1\" class=\"dataframe\">\n",
       "  <thead>\n",
       "    <tr style=\"text-align: right;\">\n",
       "      <th></th>\n",
       "      <th>id</th>\n",
       "      <th>alias</th>\n",
       "      <th>name</th>\n",
       "      <th>image_url</th>\n",
       "      <th>is_closed</th>\n",
       "      <th>url</th>\n",
       "      <th>review_count</th>\n",
       "      <th>categories</th>\n",
       "      <th>rating</th>\n",
       "      <th>coordinates</th>\n",
       "      <th>transactions</th>\n",
       "      <th>price</th>\n",
       "      <th>location</th>\n",
       "      <th>phone</th>\n",
       "      <th>display_phone</th>\n",
       "    </tr>\n",
       "  </thead>\n",
       "  <tbody>\n",
       "    <tr>\n",
       "      <th>0</th>\n",
       "      <td>fEsgUESZxOQtd4YEmAUuow</td>\n",
       "      <td>ii-caffe-latte-2-new-york-4</td>\n",
       "      <td>II Caffe Latte 2</td>\n",
       "      <td>https://s3-media0.fl.yelpcdn.com/bphoto/rL-1bjIrEvnG6zV8ofrZpg/o.jpg</td>\n",
       "      <td>False</td>\n",
       "      <td>https://www.yelp.com/biz/ii-caffe-latte-2-new-york-4?adjust_creative=82uXkAt1Tiw7u9_h33zr1A&amp;utm_campaign=yelp_api_v3&amp;utm_medium=api_v3_phone_search&amp;utm_source=82uXkAt1Tiw7u9_h33zr1A</td>\n",
       "      <td>127</td>\n",
       "      <td>[{'alias': 'breakfast_brunch', 'title': 'Breakfast &amp; Brunch'}, {'alias': 'desserts', 'title': 'Desserts'}, {'alias': 'cafes', 'title': 'Cafes'}]</td>\n",
       "      <td>3.5</td>\n",
       "      <td>{'latitude': 40.8246899, 'longitude': -73.94704}</td>\n",
       "      <td>['delivery', 'pickup']</td>\n",
       "      <td>$$</td>\n",
       "      <td>{'address1': '458 W 145th St', 'address2': '', 'address3': '', 'city': 'New York', 'zip_code': '10031', 'country': 'US', 'state': 'NY', 'display_address': ['458 W 145th St', 'New York, NY 10031']}</td>\n",
       "      <td>12122340202</td>\n",
       "      <td>(212) 234-0202</td>\n",
       "    </tr>\n",
       "    <tr>\n",
       "      <th>1</th>\n",
       "      <td>zm_ngfMxyU6d85AaTIgI7Q</td>\n",
       "      <td>chloes-restaurant-and-lounge-brooklyn</td>\n",
       "      <td>Chloe's Restaurant &amp; Lounge</td>\n",
       "      <td>https://s3-media0.fl.yelpcdn.com/bphoto/AFD_nPVpU1rhI7VMWvbltA/o.jpg</td>\n",
       "      <td>False</td>\n",
       "      <td>https://www.yelp.com/biz/chloes-restaurant-and-lounge-brooklyn?adjust_creative=82uXkAt1Tiw7u9_h33zr1A&amp;utm_campaign=yelp_api_v3&amp;utm_medium=api_v3_phone_search&amp;utm_source=82uXkAt1Tiw7u9_h33zr1A</td>\n",
       "      <td>192</td>\n",
       "      <td>[{'alias': 'haitian', 'title': 'Haitian'}, {'alias': 'salad', 'title': 'Salad'}, {'alias': 'seafood', 'title': 'Seafood'}]</td>\n",
       "      <td>2.5</td>\n",
       "      <td>{'latitude': 40.63755, 'longitude': -73.89731}</td>\n",
       "      <td>['delivery', 'pickup']</td>\n",
       "      <td>$$</td>\n",
       "      <td>{'address1': '9413 Ave L', 'address2': None, 'address3': '', 'city': 'Brooklyn', 'zip_code': '11236', 'country': 'US', 'state': 'NY', 'display_address': ['9413 Ave L', 'Brooklyn, NY 11236']}</td>\n",
       "      <td>13477709051</td>\n",
       "      <td>(347) 770-9051</td>\n",
       "    </tr>\n",
       "    <tr>\n",
       "      <th>2</th>\n",
       "      <td>LbGAKVX3cwZj4fUC2XOLxg</td>\n",
       "      <td>jahns-jackson-heights</td>\n",
       "      <td>Jahn's</td>\n",
       "      <td>https://s3-media0.fl.yelpcdn.com/bphoto/9Oa1n8Dyo_n2N9YIhJxsgw/o.jpg</td>\n",
       "      <td>False</td>\n",
       "      <td>https://www.yelp.com/biz/jahns-jackson-heights?adjust_creative=82uXkAt1Tiw7u9_h33zr1A&amp;utm_campaign=yelp_api_v3&amp;utm_medium=api_v3_phone_search&amp;utm_source=82uXkAt1Tiw7u9_h33zr1A</td>\n",
       "      <td>172</td>\n",
       "      <td>[{'alias': 'diners', 'title': 'Diners'}]</td>\n",
       "      <td>3.5</td>\n",
       "      <td>{'latitude': 40.74941, 'longitude': -73.88497}</td>\n",
       "      <td>['delivery', 'pickup']</td>\n",
       "      <td>$$</td>\n",
       "      <td>{'address1': '81-04 37th Ave', 'address2': '', 'address3': '', 'city': 'Jackson Heights', 'zip_code': '11372', 'country': 'US', 'state': 'NY', 'display_address': ['81-04 37th Ave', 'Jackson Heights, NY 11372']}</td>\n",
       "      <td>17186510700</td>\n",
       "      <td>(718) 651-0700</td>\n",
       "    </tr>\n",
       "    <tr>\n",
       "      <th>3</th>\n",
       "      <td>i8ejDDR4COtukAAA1Ls5fw</td>\n",
       "      <td>soba-ya-new-york</td>\n",
       "      <td>Soba-ya</td>\n",
       "      <td>https://s3-media0.fl.yelpcdn.com/bphoto/LnjY25INn-aM1eAyiav8XA/o.jpg</td>\n",
       "      <td>False</td>\n",
       "      <td>https://www.yelp.com/biz/soba-ya-new-york?adjust_creative=82uXkAt1Tiw7u9_h33zr1A&amp;utm_campaign=yelp_api_v3&amp;utm_medium=api_v3_phone_search&amp;utm_source=82uXkAt1Tiw7u9_h33zr1A</td>\n",
       "      <td>1496</td>\n",
       "      <td>[{'alias': 'japanese', 'title': 'Japanese'}, {'alias': 'noodles', 'title': 'Noodles'}]</td>\n",
       "      <td>4.0</td>\n",
       "      <td>{'latitude': 40.72965, 'longitude': -73.9878899}</td>\n",
       "      <td>['delivery', 'pickup']</td>\n",
       "      <td>$$</td>\n",
       "      <td>{'address1': '229 E 9th St', 'address2': '', 'address3': '', 'city': 'New York', 'zip_code': '10003', 'country': 'US', 'state': 'NY', 'display_address': ['229 E 9th St', 'New York, NY 10003']}</td>\n",
       "      <td>12125336966</td>\n",
       "      <td>(212) 533-6966</td>\n",
       "    </tr>\n",
       "    <tr>\n",
       "      <th>4</th>\n",
       "      <td>YV0VaJgV2zotzI7XNUaMCQ</td>\n",
       "      <td>mcdonalds-new-york-100</td>\n",
       "      <td>McDonald's</td>\n",
       "      <td>https://s3-media0.fl.yelpcdn.com/bphoto/X710tzNcQt5xzpJMVIpZHw/o.jpg</td>\n",
       "      <td>False</td>\n",
       "      <td>https://www.yelp.com/biz/mcdonalds-new-york-100?adjust_creative=82uXkAt1Tiw7u9_h33zr1A&amp;utm_campaign=yelp_api_v3&amp;utm_medium=api_v3_phone_search&amp;utm_source=82uXkAt1Tiw7u9_h33zr1A</td>\n",
       "      <td>85</td>\n",
       "      <td>[{'alias': 'hotdogs', 'title': 'Fast Food'}, {'alias': 'burgers', 'title': 'Burgers'}, {'alias': 'coffee', 'title': 'Coffee &amp; Tea'}]</td>\n",
       "      <td>2.5</td>\n",
       "      <td>{'latitude': 40.71852, 'longitude': -74.00115}</td>\n",
       "      <td>['delivery']</td>\n",
       "      <td>$</td>\n",
       "      <td>{'address1': '262 Canal St', 'address2': None, 'address3': '', 'city': 'New York', 'zip_code': '10013', 'country': 'US', 'state': 'NY', 'display_address': ['262 Canal St', 'New York, NY 10013']}</td>\n",
       "      <td>12129415823</td>\n",
       "      <td>(212) 941-5823</td>\n",
       "    </tr>\n",
       "    <tr>\n",
       "      <th>...</th>\n",
       "      <td>...</td>\n",
       "      <td>...</td>\n",
       "      <td>...</td>\n",
       "      <td>...</td>\n",
       "      <td>...</td>\n",
       "      <td>...</td>\n",
       "      <td>...</td>\n",
       "      <td>...</td>\n",
       "      <td>...</td>\n",
       "      <td>...</td>\n",
       "      <td>...</td>\n",
       "      <td>...</td>\n",
       "      <td>...</td>\n",
       "      <td>...</td>\n",
       "      <td>...</td>\n",
       "    </tr>\n",
       "    <tr>\n",
       "      <th>17297</th>\n",
       "      <td>osnb51lPIHxUKRlcg7idwA</td>\n",
       "      <td>kathys-dumplings-brooklyn</td>\n",
       "      <td>Kathy's Dumplings</td>\n",
       "      <td>https://s3-media0.fl.yelpcdn.com/bphoto/4PHqX5uxThKNvLcD0DZqrw/o.jpg</td>\n",
       "      <td>False</td>\n",
       "      <td>https://www.yelp.com/biz/kathys-dumplings-brooklyn?adjust_creative=82uXkAt1Tiw7u9_h33zr1A&amp;utm_campaign=yelp_api_v3&amp;utm_medium=api_v3_phone_search&amp;utm_source=82uXkAt1Tiw7u9_h33zr1A</td>\n",
       "      <td>231</td>\n",
       "      <td>[{'alias': 'chinese', 'title': 'Chinese'}]</td>\n",
       "      <td>4.0</td>\n",
       "      <td>{'latitude': 40.6279735, 'longitude': -74.0293625}</td>\n",
       "      <td>['pickup', 'delivery']</td>\n",
       "      <td>$</td>\n",
       "      <td>{'address1': '7924 3rd Ave', 'address2': '', 'address3': '', 'city': 'Brooklyn', 'zip_code': '11209', 'country': 'US', 'state': 'NY', 'display_address': ['7924 3rd Ave', 'Brooklyn, NY 11209']}</td>\n",
       "      <td>17188337000</td>\n",
       "      <td>(718) 833-7000</td>\n",
       "    </tr>\n",
       "    <tr>\n",
       "      <th>17298</th>\n",
       "      <td>SkYcO8FaqYgoP-66g58OMw</td>\n",
       "      <td>thai-pot-forest-hills</td>\n",
       "      <td>Thai Pot</td>\n",
       "      <td>https://s3-media0.fl.yelpcdn.com/bphoto/Qu_oE3bTpWt-pJw8r4LXxw/o.jpg</td>\n",
       "      <td>False</td>\n",
       "      <td>https://www.yelp.com/biz/thai-pot-forest-hills?adjust_creative=82uXkAt1Tiw7u9_h33zr1A&amp;utm_campaign=yelp_api_v3&amp;utm_medium=api_v3_phone_search&amp;utm_source=82uXkAt1Tiw7u9_h33zr1A</td>\n",
       "      <td>258</td>\n",
       "      <td>[{'alias': 'thai', 'title': 'Thai'}]</td>\n",
       "      <td>3.0</td>\n",
       "      <td>{'latitude': 40.7247545048924, 'longitude': -73.8498401641846}</td>\n",
       "      <td>['delivery', 'pickup']</td>\n",
       "      <td>$$</td>\n",
       "      <td>{'address1': '103-07 Queens Blvd', 'address2': '', 'address3': '', 'city': 'Forest Hills', 'zip_code': '11375', 'country': 'US', 'state': 'NY', 'display_address': ['103-07 Queens Blvd', 'Forest Hills, NY 11375']}</td>\n",
       "      <td>17188973898</td>\n",
       "      <td>(718) 897-3898</td>\n",
       "    </tr>\n",
       "    <tr>\n",
       "      <th>17299</th>\n",
       "      <td>nt-B5XlmTJlQsDqoiL7UKA</td>\n",
       "      <td>chang-pai-jamaica</td>\n",
       "      <td>Chang Pai</td>\n",
       "      <td>https://s3-media0.fl.yelpcdn.com/bphoto/KAR293sfF0SDEHYpjT9cHQ/o.jpg</td>\n",
       "      <td>False</td>\n",
       "      <td>https://www.yelp.com/biz/chang-pai-jamaica?adjust_creative=82uXkAt1Tiw7u9_h33zr1A&amp;utm_campaign=yelp_api_v3&amp;utm_medium=api_v3_phone_search&amp;utm_source=82uXkAt1Tiw7u9_h33zr1A</td>\n",
       "      <td>70</td>\n",
       "      <td>[{'alias': 'thai', 'title': 'Thai'}, {'alias': 'chinese', 'title': 'Chinese'}]</td>\n",
       "      <td>2.0</td>\n",
       "      <td>{'latitude': 40.7094307, 'longitude': -73.7955093}</td>\n",
       "      <td>['delivery', 'pickup']</td>\n",
       "      <td>$$</td>\n",
       "      <td>{'address1': '166-12 Hillside Ave', 'address2': '', 'address3': '', 'city': 'Jamaica', 'zip_code': '11432', 'country': 'US', 'state': 'NY', 'display_address': ['166-12 Hillside Ave', 'Jamaica, NY 11432']}</td>\n",
       "      <td>17182918222</td>\n",
       "      <td>(718) 291-8222</td>\n",
       "    </tr>\n",
       "    <tr>\n",
       "      <th>17300</th>\n",
       "      <td>E-_NtEsnwxrMfqb5_vIW3Q</td>\n",
       "      <td>starbucks-los-angeles-193</td>\n",
       "      <td>Starbucks</td>\n",
       "      <td>https://s3-media0.fl.yelpcdn.com/bphoto/V5NGsaUdyns0Jm_aPGFMSw/o.jpg</td>\n",
       "      <td>True</td>\n",
       "      <td>https://www.yelp.com/biz/starbucks-los-angeles-193?adjust_creative=82uXkAt1Tiw7u9_h33zr1A&amp;utm_campaign=yelp_api_v3&amp;utm_medium=api_v3_phone_search&amp;utm_source=82uXkAt1Tiw7u9_h33zr1A</td>\n",
       "      <td>1</td>\n",
       "      <td>[{'alias': 'coffee', 'title': 'Coffee &amp; Tea'}]</td>\n",
       "      <td>1.0</td>\n",
       "      <td>{'latitude': 33.986341, 'longitude': -118.32644}</td>\n",
       "      <td>[]</td>\n",
       "      <td>$</td>\n",
       "      <td>{'address1': '871 8th Ave', 'address2': '', 'address3': '', 'city': 'Los Angeles', 'zip_code': '90019', 'country': 'US', 'state': 'CA', 'display_address': ['871 8th Ave', 'Los Angeles, CA 90019']}</td>\n",
       "      <td>12122467699</td>\n",
       "      <td>(212) 246-7699</td>\n",
       "    </tr>\n",
       "    <tr>\n",
       "      <th>17301</th>\n",
       "      <td>pJPQ1N5PRti_ab--mXL5Tw</td>\n",
       "      <td>starbucks-new-york-310</td>\n",
       "      <td>Starbucks</td>\n",
       "      <td>https://s3-media0.fl.yelpcdn.com/bphoto/_hzEpvNsjC_OgLk9VGN47A/o.jpg</td>\n",
       "      <td>False</td>\n",
       "      <td>https://www.yelp.com/biz/starbucks-new-york-310?adjust_creative=82uXkAt1Tiw7u9_h33zr1A&amp;utm_campaign=yelp_api_v3&amp;utm_medium=api_v3_phone_search&amp;utm_source=82uXkAt1Tiw7u9_h33zr1A</td>\n",
       "      <td>61</td>\n",
       "      <td>[{'alias': 'coffee', 'title': 'Coffee &amp; Tea'}]</td>\n",
       "      <td>2.5</td>\n",
       "      <td>{'latitude': 40.763714, 'longitude': -73.985313}</td>\n",
       "      <td>[]</td>\n",
       "      <td>$$</td>\n",
       "      <td>{'address1': '871 8th Ave', 'address2': '', 'address3': '', 'city': 'New York', 'zip_code': '10019', 'country': 'US', 'state': 'NY', 'display_address': ['871 8th Ave', 'New York, NY 10019']}</td>\n",
       "      <td>12122467699</td>\n",
       "      <td>(212) 246-7699</td>\n",
       "    </tr>\n",
       "  </tbody>\n",
       "</table>\n",
       "<p>17302 rows × 15 columns</p>\n",
       "</div>"
      ],
      "text/plain": [
       "                           id                                  alias  \\\n",
       "0      fEsgUESZxOQtd4YEmAUuow            ii-caffe-latte-2-new-york-4   \n",
       "1      zm_ngfMxyU6d85AaTIgI7Q  chloes-restaurant-and-lounge-brooklyn   \n",
       "2      LbGAKVX3cwZj4fUC2XOLxg                  jahns-jackson-heights   \n",
       "3      i8ejDDR4COtukAAA1Ls5fw                       soba-ya-new-york   \n",
       "4      YV0VaJgV2zotzI7XNUaMCQ                 mcdonalds-new-york-100   \n",
       "...                       ...                                    ...   \n",
       "17297  osnb51lPIHxUKRlcg7idwA              kathys-dumplings-brooklyn   \n",
       "17298  SkYcO8FaqYgoP-66g58OMw                  thai-pot-forest-hills   \n",
       "17299  nt-B5XlmTJlQsDqoiL7UKA                      chang-pai-jamaica   \n",
       "17300  E-_NtEsnwxrMfqb5_vIW3Q              starbucks-los-angeles-193   \n",
       "17301  pJPQ1N5PRti_ab--mXL5Tw                 starbucks-new-york-310   \n",
       "\n",
       "                              name  \\\n",
       "0                 II Caffe Latte 2   \n",
       "1      Chloe's Restaurant & Lounge   \n",
       "2                           Jahn's   \n",
       "3                          Soba-ya   \n",
       "4                       McDonald's   \n",
       "...                            ...   \n",
       "17297            Kathy's Dumplings   \n",
       "17298                     Thai Pot   \n",
       "17299                    Chang Pai   \n",
       "17300                    Starbucks   \n",
       "17301                    Starbucks   \n",
       "\n",
       "                                                                  image_url  \\\n",
       "0      https://s3-media0.fl.yelpcdn.com/bphoto/rL-1bjIrEvnG6zV8ofrZpg/o.jpg   \n",
       "1      https://s3-media0.fl.yelpcdn.com/bphoto/AFD_nPVpU1rhI7VMWvbltA/o.jpg   \n",
       "2      https://s3-media0.fl.yelpcdn.com/bphoto/9Oa1n8Dyo_n2N9YIhJxsgw/o.jpg   \n",
       "3      https://s3-media0.fl.yelpcdn.com/bphoto/LnjY25INn-aM1eAyiav8XA/o.jpg   \n",
       "4      https://s3-media0.fl.yelpcdn.com/bphoto/X710tzNcQt5xzpJMVIpZHw/o.jpg   \n",
       "...                                                                     ...   \n",
       "17297  https://s3-media0.fl.yelpcdn.com/bphoto/4PHqX5uxThKNvLcD0DZqrw/o.jpg   \n",
       "17298  https://s3-media0.fl.yelpcdn.com/bphoto/Qu_oE3bTpWt-pJw8r4LXxw/o.jpg   \n",
       "17299  https://s3-media0.fl.yelpcdn.com/bphoto/KAR293sfF0SDEHYpjT9cHQ/o.jpg   \n",
       "17300  https://s3-media0.fl.yelpcdn.com/bphoto/V5NGsaUdyns0Jm_aPGFMSw/o.jpg   \n",
       "17301  https://s3-media0.fl.yelpcdn.com/bphoto/_hzEpvNsjC_OgLk9VGN47A/o.jpg   \n",
       "\n",
       "       is_closed  \\\n",
       "0          False   \n",
       "1          False   \n",
       "2          False   \n",
       "3          False   \n",
       "4          False   \n",
       "...          ...   \n",
       "17297      False   \n",
       "17298      False   \n",
       "17299      False   \n",
       "17300       True   \n",
       "17301      False   \n",
       "\n",
       "                                                                                                                                                                                                   url  \\\n",
       "0                https://www.yelp.com/biz/ii-caffe-latte-2-new-york-4?adjust_creative=82uXkAt1Tiw7u9_h33zr1A&utm_campaign=yelp_api_v3&utm_medium=api_v3_phone_search&utm_source=82uXkAt1Tiw7u9_h33zr1A   \n",
       "1      https://www.yelp.com/biz/chloes-restaurant-and-lounge-brooklyn?adjust_creative=82uXkAt1Tiw7u9_h33zr1A&utm_campaign=yelp_api_v3&utm_medium=api_v3_phone_search&utm_source=82uXkAt1Tiw7u9_h33zr1A   \n",
       "2                      https://www.yelp.com/biz/jahns-jackson-heights?adjust_creative=82uXkAt1Tiw7u9_h33zr1A&utm_campaign=yelp_api_v3&utm_medium=api_v3_phone_search&utm_source=82uXkAt1Tiw7u9_h33zr1A   \n",
       "3                           https://www.yelp.com/biz/soba-ya-new-york?adjust_creative=82uXkAt1Tiw7u9_h33zr1A&utm_campaign=yelp_api_v3&utm_medium=api_v3_phone_search&utm_source=82uXkAt1Tiw7u9_h33zr1A   \n",
       "4                     https://www.yelp.com/biz/mcdonalds-new-york-100?adjust_creative=82uXkAt1Tiw7u9_h33zr1A&utm_campaign=yelp_api_v3&utm_medium=api_v3_phone_search&utm_source=82uXkAt1Tiw7u9_h33zr1A   \n",
       "...                                                                                                                                                                                                ...   \n",
       "17297              https://www.yelp.com/biz/kathys-dumplings-brooklyn?adjust_creative=82uXkAt1Tiw7u9_h33zr1A&utm_campaign=yelp_api_v3&utm_medium=api_v3_phone_search&utm_source=82uXkAt1Tiw7u9_h33zr1A   \n",
       "17298                  https://www.yelp.com/biz/thai-pot-forest-hills?adjust_creative=82uXkAt1Tiw7u9_h33zr1A&utm_campaign=yelp_api_v3&utm_medium=api_v3_phone_search&utm_source=82uXkAt1Tiw7u9_h33zr1A   \n",
       "17299                      https://www.yelp.com/biz/chang-pai-jamaica?adjust_creative=82uXkAt1Tiw7u9_h33zr1A&utm_campaign=yelp_api_v3&utm_medium=api_v3_phone_search&utm_source=82uXkAt1Tiw7u9_h33zr1A   \n",
       "17300              https://www.yelp.com/biz/starbucks-los-angeles-193?adjust_creative=82uXkAt1Tiw7u9_h33zr1A&utm_campaign=yelp_api_v3&utm_medium=api_v3_phone_search&utm_source=82uXkAt1Tiw7u9_h33zr1A   \n",
       "17301                 https://www.yelp.com/biz/starbucks-new-york-310?adjust_creative=82uXkAt1Tiw7u9_h33zr1A&utm_campaign=yelp_api_v3&utm_medium=api_v3_phone_search&utm_source=82uXkAt1Tiw7u9_h33zr1A   \n",
       "\n",
       "       review_count  \\\n",
       "0               127   \n",
       "1               192   \n",
       "2               172   \n",
       "3              1496   \n",
       "4                85   \n",
       "...             ...   \n",
       "17297           231   \n",
       "17298           258   \n",
       "17299            70   \n",
       "17300             1   \n",
       "17301            61   \n",
       "\n",
       "                                                                                                                                             categories  \\\n",
       "0      [{'alias': 'breakfast_brunch', 'title': 'Breakfast & Brunch'}, {'alias': 'desserts', 'title': 'Desserts'}, {'alias': 'cafes', 'title': 'Cafes'}]   \n",
       "1                            [{'alias': 'haitian', 'title': 'Haitian'}, {'alias': 'salad', 'title': 'Salad'}, {'alias': 'seafood', 'title': 'Seafood'}]   \n",
       "2                                                                                                              [{'alias': 'diners', 'title': 'Diners'}]   \n",
       "3                                                                [{'alias': 'japanese', 'title': 'Japanese'}, {'alias': 'noodles', 'title': 'Noodles'}]   \n",
       "4                  [{'alias': 'hotdogs', 'title': 'Fast Food'}, {'alias': 'burgers', 'title': 'Burgers'}, {'alias': 'coffee', 'title': 'Coffee & Tea'}]   \n",
       "...                                                                                                                                                 ...   \n",
       "17297                                                                                                        [{'alias': 'chinese', 'title': 'Chinese'}]   \n",
       "17298                                                                                                              [{'alias': 'thai', 'title': 'Thai'}]   \n",
       "17299                                                                    [{'alias': 'thai', 'title': 'Thai'}, {'alias': 'chinese', 'title': 'Chinese'}]   \n",
       "17300                                                                                                    [{'alias': 'coffee', 'title': 'Coffee & Tea'}]   \n",
       "17301                                                                                                    [{'alias': 'coffee', 'title': 'Coffee & Tea'}]   \n",
       "\n",
       "       rating                                                     coordinates  \\\n",
       "0         3.5                {'latitude': 40.8246899, 'longitude': -73.94704}   \n",
       "1         2.5                  {'latitude': 40.63755, 'longitude': -73.89731}   \n",
       "2         3.5                  {'latitude': 40.74941, 'longitude': -73.88497}   \n",
       "3         4.0                {'latitude': 40.72965, 'longitude': -73.9878899}   \n",
       "4         2.5                  {'latitude': 40.71852, 'longitude': -74.00115}   \n",
       "...       ...                                                             ...   \n",
       "17297     4.0              {'latitude': 40.6279735, 'longitude': -74.0293625}   \n",
       "17298     3.0  {'latitude': 40.7247545048924, 'longitude': -73.8498401641846}   \n",
       "17299     2.0              {'latitude': 40.7094307, 'longitude': -73.7955093}   \n",
       "17300     1.0                {'latitude': 33.986341, 'longitude': -118.32644}   \n",
       "17301     2.5                {'latitude': 40.763714, 'longitude': -73.985313}   \n",
       "\n",
       "                 transactions price  \\\n",
       "0      ['delivery', 'pickup']    $$   \n",
       "1      ['delivery', 'pickup']    $$   \n",
       "2      ['delivery', 'pickup']    $$   \n",
       "3      ['delivery', 'pickup']    $$   \n",
       "4                ['delivery']     $   \n",
       "...                       ...   ...   \n",
       "17297  ['pickup', 'delivery']     $   \n",
       "17298  ['delivery', 'pickup']    $$   \n",
       "17299  ['delivery', 'pickup']    $$   \n",
       "17300                      []     $   \n",
       "17301                      []    $$   \n",
       "\n",
       "                                                                                                                                                                                                                   location  \\\n",
       "0                      {'address1': '458 W 145th St', 'address2': '', 'address3': '', 'city': 'New York', 'zip_code': '10031', 'country': 'US', 'state': 'NY', 'display_address': ['458 W 145th St', 'New York, NY 10031']}   \n",
       "1                            {'address1': '9413 Ave L', 'address2': None, 'address3': '', 'city': 'Brooklyn', 'zip_code': '11236', 'country': 'US', 'state': 'NY', 'display_address': ['9413 Ave L', 'Brooklyn, NY 11236']}   \n",
       "2        {'address1': '81-04 37th Ave', 'address2': '', 'address3': '', 'city': 'Jackson Heights', 'zip_code': '11372', 'country': 'US', 'state': 'NY', 'display_address': ['81-04 37th Ave', 'Jackson Heights, NY 11372']}   \n",
       "3                          {'address1': '229 E 9th St', 'address2': '', 'address3': '', 'city': 'New York', 'zip_code': '10003', 'country': 'US', 'state': 'NY', 'display_address': ['229 E 9th St', 'New York, NY 10003']}   \n",
       "4                        {'address1': '262 Canal St', 'address2': None, 'address3': '', 'city': 'New York', 'zip_code': '10013', 'country': 'US', 'state': 'NY', 'display_address': ['262 Canal St', 'New York, NY 10013']}   \n",
       "...                                                                                                                                                                                                                     ...   \n",
       "17297                      {'address1': '7924 3rd Ave', 'address2': '', 'address3': '', 'city': 'Brooklyn', 'zip_code': '11209', 'country': 'US', 'state': 'NY', 'display_address': ['7924 3rd Ave', 'Brooklyn, NY 11209']}   \n",
       "17298  {'address1': '103-07 Queens Blvd', 'address2': '', 'address3': '', 'city': 'Forest Hills', 'zip_code': '11375', 'country': 'US', 'state': 'NY', 'display_address': ['103-07 Queens Blvd', 'Forest Hills, NY 11375']}   \n",
       "17299          {'address1': '166-12 Hillside Ave', 'address2': '', 'address3': '', 'city': 'Jamaica', 'zip_code': '11432', 'country': 'US', 'state': 'NY', 'display_address': ['166-12 Hillside Ave', 'Jamaica, NY 11432']}   \n",
       "17300                  {'address1': '871 8th Ave', 'address2': '', 'address3': '', 'city': 'Los Angeles', 'zip_code': '90019', 'country': 'US', 'state': 'CA', 'display_address': ['871 8th Ave', 'Los Angeles, CA 90019']}   \n",
       "17301                        {'address1': '871 8th Ave', 'address2': '', 'address3': '', 'city': 'New York', 'zip_code': '10019', 'country': 'US', 'state': 'NY', 'display_address': ['871 8th Ave', 'New York, NY 10019']}   \n",
       "\n",
       "             phone   display_phone  \n",
       "0      12122340202  (212) 234-0202  \n",
       "1      13477709051  (347) 770-9051  \n",
       "2      17186510700  (718) 651-0700  \n",
       "3      12125336966  (212) 533-6966  \n",
       "4      12129415823  (212) 941-5823  \n",
       "...            ...             ...  \n",
       "17297  17188337000  (718) 833-7000  \n",
       "17298  17188973898  (718) 897-3898  \n",
       "17299  17182918222  (718) 291-8222  \n",
       "17300  12122467699  (212) 246-7699  \n",
       "17301  12122467699  (212) 246-7699  \n",
       "\n",
       "[17302 rows x 15 columns]"
      ]
     },
     "execution_count": 243,
     "metadata": {},
     "output_type": "execute_result"
    }
   ],
   "source": [
    "yelp_businesses_df = pd.concat(df_list,ignore_index=True)\n",
    "yelp_businesses_df"
   ]
  },
  {
   "cell_type": "code",
   "execution_count": 108,
   "metadata": {
    "ExecuteTime": {
     "end_time": "2022-04-17T07:11:44.640718Z",
     "start_time": "2022-04-17T07:11:43.935448Z"
    }
   },
   "outputs": [
    {
     "data": {
      "text/html": [
       "<div>\n",
       "<style scoped>\n",
       "    .dataframe tbody tr th:only-of-type {\n",
       "        vertical-align: middle;\n",
       "    }\n",
       "\n",
       "    .dataframe tbody tr th {\n",
       "        vertical-align: top;\n",
       "    }\n",
       "\n",
       "    .dataframe thead th {\n",
       "        text-align: right;\n",
       "    }\n",
       "</style>\n",
       "<table border=\"1\" class=\"dataframe\">\n",
       "  <thead>\n",
       "    <tr style=\"text-align: right;\">\n",
       "      <th></th>\n",
       "      <th>id</th>\n",
       "      <th>alias</th>\n",
       "      <th>name</th>\n",
       "      <th>image_url</th>\n",
       "      <th>is_closed</th>\n",
       "      <th>url</th>\n",
       "      <th>review_count</th>\n",
       "      <th>categories</th>\n",
       "      <th>rating</th>\n",
       "      <th>coordinates</th>\n",
       "      <th>transactions</th>\n",
       "      <th>price</th>\n",
       "      <th>location</th>\n",
       "      <th>phone</th>\n",
       "      <th>display_phone</th>\n",
       "    </tr>\n",
       "  </thead>\n",
       "  <tbody>\n",
       "    <tr>\n",
       "      <th>0</th>\n",
       "      <td>fEsgUESZxOQtd4YEmAUuow</td>\n",
       "      <td>ii-caffe-latte-2-new-york-4</td>\n",
       "      <td>II Caffe Latte 2</td>\n",
       "      <td>https://s3-media0.fl.yelpcdn.com/bphoto/rL-1bjIrEvnG6zV8ofrZpg/o.jpg</td>\n",
       "      <td>False</td>\n",
       "      <td>https://www.yelp.com/biz/ii-caffe-latte-2-new-york-4?adjust_creative=82uXkAt1Tiw7u9_h33zr1A&amp;utm_campaign=yelp_api_v3&amp;utm_medium=api_v3_phone_search&amp;utm_source=82uXkAt1Tiw7u9_h33zr1A</td>\n",
       "      <td>127</td>\n",
       "      <td>[{'alias': 'breakfast_brunch', 'title': 'Breakfast &amp; Brunch'}, {'alias': 'desserts', 'title': 'Desserts'}, {'alias': 'cafes', 'title': 'Cafes'}]</td>\n",
       "      <td>3.5</td>\n",
       "      <td>{'latitude': 40.8246899, 'longitude': -73.94704}</td>\n",
       "      <td>['delivery', 'pickup']</td>\n",
       "      <td>$$</td>\n",
       "      <td>{'address1': '458 W 145th St', 'address2': '', 'address3': '', 'city': 'New York', 'zip_code': '10031', 'country': 'US', 'state': 'NY', 'display_address': ['458 W 145th St', 'New York, NY 10031']}</td>\n",
       "      <td>12122340202</td>\n",
       "      <td>(212) 234-0202</td>\n",
       "    </tr>\n",
       "    <tr>\n",
       "      <th>1</th>\n",
       "      <td>zm_ngfMxyU6d85AaTIgI7Q</td>\n",
       "      <td>chloes-restaurant-and-lounge-brooklyn</td>\n",
       "      <td>Chloe's Restaurant &amp; Lounge</td>\n",
       "      <td>https://s3-media0.fl.yelpcdn.com/bphoto/AFD_nPVpU1rhI7VMWvbltA/o.jpg</td>\n",
       "      <td>False</td>\n",
       "      <td>https://www.yelp.com/biz/chloes-restaurant-and-lounge-brooklyn?adjust_creative=82uXkAt1Tiw7u9_h33zr1A&amp;utm_campaign=yelp_api_v3&amp;utm_medium=api_v3_phone_search&amp;utm_source=82uXkAt1Tiw7u9_h33zr1A</td>\n",
       "      <td>192</td>\n",
       "      <td>[{'alias': 'haitian', 'title': 'Haitian'}, {'alias': 'salad', 'title': 'Salad'}, {'alias': 'seafood', 'title': 'Seafood'}]</td>\n",
       "      <td>2.5</td>\n",
       "      <td>{'latitude': 40.63755, 'longitude': -73.89731}</td>\n",
       "      <td>['delivery', 'pickup']</td>\n",
       "      <td>$$</td>\n",
       "      <td>{'address1': '9413 Ave L', 'address2': None, 'address3': '', 'city': 'Brooklyn', 'zip_code': '11236', 'country': 'US', 'state': 'NY', 'display_address': ['9413 Ave L', 'Brooklyn, NY 11236']}</td>\n",
       "      <td>13477709051</td>\n",
       "      <td>(347) 770-9051</td>\n",
       "    </tr>\n",
       "    <tr>\n",
       "      <th>2</th>\n",
       "      <td>LbGAKVX3cwZj4fUC2XOLxg</td>\n",
       "      <td>jahns-jackson-heights</td>\n",
       "      <td>Jahn's</td>\n",
       "      <td>https://s3-media0.fl.yelpcdn.com/bphoto/9Oa1n8Dyo_n2N9YIhJxsgw/o.jpg</td>\n",
       "      <td>False</td>\n",
       "      <td>https://www.yelp.com/biz/jahns-jackson-heights?adjust_creative=82uXkAt1Tiw7u9_h33zr1A&amp;utm_campaign=yelp_api_v3&amp;utm_medium=api_v3_phone_search&amp;utm_source=82uXkAt1Tiw7u9_h33zr1A</td>\n",
       "      <td>172</td>\n",
       "      <td>[{'alias': 'diners', 'title': 'Diners'}]</td>\n",
       "      <td>3.5</td>\n",
       "      <td>{'latitude': 40.74941, 'longitude': -73.88497}</td>\n",
       "      <td>['delivery', 'pickup']</td>\n",
       "      <td>$$</td>\n",
       "      <td>{'address1': '81-04 37th Ave', 'address2': '', 'address3': '', 'city': 'Jackson Heights', 'zip_code': '11372', 'country': 'US', 'state': 'NY', 'display_address': ['81-04 37th Ave', 'Jackson Heights, NY 11372']}</td>\n",
       "      <td>17186510700</td>\n",
       "      <td>(718) 651-0700</td>\n",
       "    </tr>\n",
       "    <tr>\n",
       "      <th>3</th>\n",
       "      <td>i8ejDDR4COtukAAA1Ls5fw</td>\n",
       "      <td>soba-ya-new-york</td>\n",
       "      <td>Soba-ya</td>\n",
       "      <td>https://s3-media0.fl.yelpcdn.com/bphoto/LnjY25INn-aM1eAyiav8XA/o.jpg</td>\n",
       "      <td>False</td>\n",
       "      <td>https://www.yelp.com/biz/soba-ya-new-york?adjust_creative=82uXkAt1Tiw7u9_h33zr1A&amp;utm_campaign=yelp_api_v3&amp;utm_medium=api_v3_phone_search&amp;utm_source=82uXkAt1Tiw7u9_h33zr1A</td>\n",
       "      <td>1496</td>\n",
       "      <td>[{'alias': 'japanese', 'title': 'Japanese'}, {'alias': 'noodles', 'title': 'Noodles'}]</td>\n",
       "      <td>4.0</td>\n",
       "      <td>{'latitude': 40.72965, 'longitude': -73.9878899}</td>\n",
       "      <td>['delivery', 'pickup']</td>\n",
       "      <td>$$</td>\n",
       "      <td>{'address1': '229 E 9th St', 'address2': '', 'address3': '', 'city': 'New York', 'zip_code': '10003', 'country': 'US', 'state': 'NY', 'display_address': ['229 E 9th St', 'New York, NY 10003']}</td>\n",
       "      <td>12125336966</td>\n",
       "      <td>(212) 533-6966</td>\n",
       "    </tr>\n",
       "    <tr>\n",
       "      <th>4</th>\n",
       "      <td>YV0VaJgV2zotzI7XNUaMCQ</td>\n",
       "      <td>mcdonalds-new-york-100</td>\n",
       "      <td>McDonald's</td>\n",
       "      <td>https://s3-media0.fl.yelpcdn.com/bphoto/X710tzNcQt5xzpJMVIpZHw/o.jpg</td>\n",
       "      <td>False</td>\n",
       "      <td>https://www.yelp.com/biz/mcdonalds-new-york-100?adjust_creative=82uXkAt1Tiw7u9_h33zr1A&amp;utm_campaign=yelp_api_v3&amp;utm_medium=api_v3_phone_search&amp;utm_source=82uXkAt1Tiw7u9_h33zr1A</td>\n",
       "      <td>85</td>\n",
       "      <td>[{'alias': 'hotdogs', 'title': 'Fast Food'}, {'alias': 'burgers', 'title': 'Burgers'}, {'alias': 'coffee', 'title': 'Coffee &amp; Tea'}]</td>\n",
       "      <td>2.5</td>\n",
       "      <td>{'latitude': 40.71852, 'longitude': -74.00115}</td>\n",
       "      <td>['delivery']</td>\n",
       "      <td>$</td>\n",
       "      <td>{'address1': '262 Canal St', 'address2': None, 'address3': '', 'city': 'New York', 'zip_code': '10013', 'country': 'US', 'state': 'NY', 'display_address': ['262 Canal St', 'New York, NY 10013']}</td>\n",
       "      <td>12129415823</td>\n",
       "      <td>(212) 941-5823</td>\n",
       "    </tr>\n",
       "    <tr>\n",
       "      <th>...</th>\n",
       "      <td>...</td>\n",
       "      <td>...</td>\n",
       "      <td>...</td>\n",
       "      <td>...</td>\n",
       "      <td>...</td>\n",
       "      <td>...</td>\n",
       "      <td>...</td>\n",
       "      <td>...</td>\n",
       "      <td>...</td>\n",
       "      <td>...</td>\n",
       "      <td>...</td>\n",
       "      <td>...</td>\n",
       "      <td>...</td>\n",
       "      <td>...</td>\n",
       "      <td>...</td>\n",
       "    </tr>\n",
       "    <tr>\n",
       "      <th>17297</th>\n",
       "      <td>osnb51lPIHxUKRlcg7idwA</td>\n",
       "      <td>kathys-dumplings-brooklyn</td>\n",
       "      <td>Kathy's Dumplings</td>\n",
       "      <td>https://s3-media0.fl.yelpcdn.com/bphoto/4PHqX5uxThKNvLcD0DZqrw/o.jpg</td>\n",
       "      <td>False</td>\n",
       "      <td>https://www.yelp.com/biz/kathys-dumplings-brooklyn?adjust_creative=82uXkAt1Tiw7u9_h33zr1A&amp;utm_campaign=yelp_api_v3&amp;utm_medium=api_v3_phone_search&amp;utm_source=82uXkAt1Tiw7u9_h33zr1A</td>\n",
       "      <td>231</td>\n",
       "      <td>[{'alias': 'chinese', 'title': 'Chinese'}]</td>\n",
       "      <td>4.0</td>\n",
       "      <td>{'latitude': 40.6279735, 'longitude': -74.0293625}</td>\n",
       "      <td>['pickup', 'delivery']</td>\n",
       "      <td>$</td>\n",
       "      <td>{'address1': '7924 3rd Ave', 'address2': '', 'address3': '', 'city': 'Brooklyn', 'zip_code': '11209', 'country': 'US', 'state': 'NY', 'display_address': ['7924 3rd Ave', 'Brooklyn, NY 11209']}</td>\n",
       "      <td>17188337000</td>\n",
       "      <td>(718) 833-7000</td>\n",
       "    </tr>\n",
       "    <tr>\n",
       "      <th>17298</th>\n",
       "      <td>SkYcO8FaqYgoP-66g58OMw</td>\n",
       "      <td>thai-pot-forest-hills</td>\n",
       "      <td>Thai Pot</td>\n",
       "      <td>https://s3-media0.fl.yelpcdn.com/bphoto/Qu_oE3bTpWt-pJw8r4LXxw/o.jpg</td>\n",
       "      <td>False</td>\n",
       "      <td>https://www.yelp.com/biz/thai-pot-forest-hills?adjust_creative=82uXkAt1Tiw7u9_h33zr1A&amp;utm_campaign=yelp_api_v3&amp;utm_medium=api_v3_phone_search&amp;utm_source=82uXkAt1Tiw7u9_h33zr1A</td>\n",
       "      <td>258</td>\n",
       "      <td>[{'alias': 'thai', 'title': 'Thai'}]</td>\n",
       "      <td>3.0</td>\n",
       "      <td>{'latitude': 40.7247545048924, 'longitude': -73.8498401641846}</td>\n",
       "      <td>['delivery', 'pickup']</td>\n",
       "      <td>$$</td>\n",
       "      <td>{'address1': '103-07 Queens Blvd', 'address2': '', 'address3': '', 'city': 'Forest Hills', 'zip_code': '11375', 'country': 'US', 'state': 'NY', 'display_address': ['103-07 Queens Blvd', 'Forest Hills, NY 11375']}</td>\n",
       "      <td>17188973898</td>\n",
       "      <td>(718) 897-3898</td>\n",
       "    </tr>\n",
       "    <tr>\n",
       "      <th>17299</th>\n",
       "      <td>nt-B5XlmTJlQsDqoiL7UKA</td>\n",
       "      <td>chang-pai-jamaica</td>\n",
       "      <td>Chang Pai</td>\n",
       "      <td>https://s3-media0.fl.yelpcdn.com/bphoto/KAR293sfF0SDEHYpjT9cHQ/o.jpg</td>\n",
       "      <td>False</td>\n",
       "      <td>https://www.yelp.com/biz/chang-pai-jamaica?adjust_creative=82uXkAt1Tiw7u9_h33zr1A&amp;utm_campaign=yelp_api_v3&amp;utm_medium=api_v3_phone_search&amp;utm_source=82uXkAt1Tiw7u9_h33zr1A</td>\n",
       "      <td>70</td>\n",
       "      <td>[{'alias': 'thai', 'title': 'Thai'}, {'alias': 'chinese', 'title': 'Chinese'}]</td>\n",
       "      <td>2.0</td>\n",
       "      <td>{'latitude': 40.7094307, 'longitude': -73.7955093}</td>\n",
       "      <td>['delivery', 'pickup']</td>\n",
       "      <td>$$</td>\n",
       "      <td>{'address1': '166-12 Hillside Ave', 'address2': '', 'address3': '', 'city': 'Jamaica', 'zip_code': '11432', 'country': 'US', 'state': 'NY', 'display_address': ['166-12 Hillside Ave', 'Jamaica, NY 11432']}</td>\n",
       "      <td>17182918222</td>\n",
       "      <td>(718) 291-8222</td>\n",
       "    </tr>\n",
       "    <tr>\n",
       "      <th>17300</th>\n",
       "      <td>E-_NtEsnwxrMfqb5_vIW3Q</td>\n",
       "      <td>starbucks-los-angeles-193</td>\n",
       "      <td>Starbucks</td>\n",
       "      <td>https://s3-media0.fl.yelpcdn.com/bphoto/V5NGsaUdyns0Jm_aPGFMSw/o.jpg</td>\n",
       "      <td>True</td>\n",
       "      <td>https://www.yelp.com/biz/starbucks-los-angeles-193?adjust_creative=82uXkAt1Tiw7u9_h33zr1A&amp;utm_campaign=yelp_api_v3&amp;utm_medium=api_v3_phone_search&amp;utm_source=82uXkAt1Tiw7u9_h33zr1A</td>\n",
       "      <td>1</td>\n",
       "      <td>[{'alias': 'coffee', 'title': 'Coffee &amp; Tea'}]</td>\n",
       "      <td>1.0</td>\n",
       "      <td>{'latitude': 33.986341, 'longitude': -118.32644}</td>\n",
       "      <td>[]</td>\n",
       "      <td>$</td>\n",
       "      <td>{'address1': '871 8th Ave', 'address2': '', 'address3': '', 'city': 'Los Angeles', 'zip_code': '90019', 'country': 'US', 'state': 'CA', 'display_address': ['871 8th Ave', 'Los Angeles, CA 90019']}</td>\n",
       "      <td>12122467699</td>\n",
       "      <td>(212) 246-7699</td>\n",
       "    </tr>\n",
       "    <tr>\n",
       "      <th>17301</th>\n",
       "      <td>pJPQ1N5PRti_ab--mXL5Tw</td>\n",
       "      <td>starbucks-new-york-310</td>\n",
       "      <td>Starbucks</td>\n",
       "      <td>https://s3-media0.fl.yelpcdn.com/bphoto/_hzEpvNsjC_OgLk9VGN47A/o.jpg</td>\n",
       "      <td>False</td>\n",
       "      <td>https://www.yelp.com/biz/starbucks-new-york-310?adjust_creative=82uXkAt1Tiw7u9_h33zr1A&amp;utm_campaign=yelp_api_v3&amp;utm_medium=api_v3_phone_search&amp;utm_source=82uXkAt1Tiw7u9_h33zr1A</td>\n",
       "      <td>61</td>\n",
       "      <td>[{'alias': 'coffee', 'title': 'Coffee &amp; Tea'}]</td>\n",
       "      <td>2.5</td>\n",
       "      <td>{'latitude': 40.763714, 'longitude': -73.985313}</td>\n",
       "      <td>[]</td>\n",
       "      <td>$$</td>\n",
       "      <td>{'address1': '871 8th Ave', 'address2': '', 'address3': '', 'city': 'New York', 'zip_code': '10019', 'country': 'US', 'state': 'NY', 'display_address': ['871 8th Ave', 'New York, NY 10019']}</td>\n",
       "      <td>12122467699</td>\n",
       "      <td>(212) 246-7699</td>\n",
       "    </tr>\n",
       "  </tbody>\n",
       "</table>\n",
       "<p>17302 rows × 15 columns</p>\n",
       "</div>"
      ],
      "text/plain": [
       "                           id                                  alias  \\\n",
       "0      fEsgUESZxOQtd4YEmAUuow            ii-caffe-latte-2-new-york-4   \n",
       "1      zm_ngfMxyU6d85AaTIgI7Q  chloes-restaurant-and-lounge-brooklyn   \n",
       "2      LbGAKVX3cwZj4fUC2XOLxg                  jahns-jackson-heights   \n",
       "3      i8ejDDR4COtukAAA1Ls5fw                       soba-ya-new-york   \n",
       "4      YV0VaJgV2zotzI7XNUaMCQ                 mcdonalds-new-york-100   \n",
       "...                       ...                                    ...   \n",
       "17297  osnb51lPIHxUKRlcg7idwA              kathys-dumplings-brooklyn   \n",
       "17298  SkYcO8FaqYgoP-66g58OMw                  thai-pot-forest-hills   \n",
       "17299  nt-B5XlmTJlQsDqoiL7UKA                      chang-pai-jamaica   \n",
       "17300  E-_NtEsnwxrMfqb5_vIW3Q              starbucks-los-angeles-193   \n",
       "17301  pJPQ1N5PRti_ab--mXL5Tw                 starbucks-new-york-310   \n",
       "\n",
       "                              name  \\\n",
       "0                 II Caffe Latte 2   \n",
       "1      Chloe's Restaurant & Lounge   \n",
       "2                           Jahn's   \n",
       "3                          Soba-ya   \n",
       "4                       McDonald's   \n",
       "...                            ...   \n",
       "17297            Kathy's Dumplings   \n",
       "17298                     Thai Pot   \n",
       "17299                    Chang Pai   \n",
       "17300                    Starbucks   \n",
       "17301                    Starbucks   \n",
       "\n",
       "                                                                  image_url  \\\n",
       "0      https://s3-media0.fl.yelpcdn.com/bphoto/rL-1bjIrEvnG6zV8ofrZpg/o.jpg   \n",
       "1      https://s3-media0.fl.yelpcdn.com/bphoto/AFD_nPVpU1rhI7VMWvbltA/o.jpg   \n",
       "2      https://s3-media0.fl.yelpcdn.com/bphoto/9Oa1n8Dyo_n2N9YIhJxsgw/o.jpg   \n",
       "3      https://s3-media0.fl.yelpcdn.com/bphoto/LnjY25INn-aM1eAyiav8XA/o.jpg   \n",
       "4      https://s3-media0.fl.yelpcdn.com/bphoto/X710tzNcQt5xzpJMVIpZHw/o.jpg   \n",
       "...                                                                     ...   \n",
       "17297  https://s3-media0.fl.yelpcdn.com/bphoto/4PHqX5uxThKNvLcD0DZqrw/o.jpg   \n",
       "17298  https://s3-media0.fl.yelpcdn.com/bphoto/Qu_oE3bTpWt-pJw8r4LXxw/o.jpg   \n",
       "17299  https://s3-media0.fl.yelpcdn.com/bphoto/KAR293sfF0SDEHYpjT9cHQ/o.jpg   \n",
       "17300  https://s3-media0.fl.yelpcdn.com/bphoto/V5NGsaUdyns0Jm_aPGFMSw/o.jpg   \n",
       "17301  https://s3-media0.fl.yelpcdn.com/bphoto/_hzEpvNsjC_OgLk9VGN47A/o.jpg   \n",
       "\n",
       "       is_closed  \\\n",
       "0          False   \n",
       "1          False   \n",
       "2          False   \n",
       "3          False   \n",
       "4          False   \n",
       "...          ...   \n",
       "17297      False   \n",
       "17298      False   \n",
       "17299      False   \n",
       "17300       True   \n",
       "17301      False   \n",
       "\n",
       "                                                                                                                                                                                                   url  \\\n",
       "0                https://www.yelp.com/biz/ii-caffe-latte-2-new-york-4?adjust_creative=82uXkAt1Tiw7u9_h33zr1A&utm_campaign=yelp_api_v3&utm_medium=api_v3_phone_search&utm_source=82uXkAt1Tiw7u9_h33zr1A   \n",
       "1      https://www.yelp.com/biz/chloes-restaurant-and-lounge-brooklyn?adjust_creative=82uXkAt1Tiw7u9_h33zr1A&utm_campaign=yelp_api_v3&utm_medium=api_v3_phone_search&utm_source=82uXkAt1Tiw7u9_h33zr1A   \n",
       "2                      https://www.yelp.com/biz/jahns-jackson-heights?adjust_creative=82uXkAt1Tiw7u9_h33zr1A&utm_campaign=yelp_api_v3&utm_medium=api_v3_phone_search&utm_source=82uXkAt1Tiw7u9_h33zr1A   \n",
       "3                           https://www.yelp.com/biz/soba-ya-new-york?adjust_creative=82uXkAt1Tiw7u9_h33zr1A&utm_campaign=yelp_api_v3&utm_medium=api_v3_phone_search&utm_source=82uXkAt1Tiw7u9_h33zr1A   \n",
       "4                     https://www.yelp.com/biz/mcdonalds-new-york-100?adjust_creative=82uXkAt1Tiw7u9_h33zr1A&utm_campaign=yelp_api_v3&utm_medium=api_v3_phone_search&utm_source=82uXkAt1Tiw7u9_h33zr1A   \n",
       "...                                                                                                                                                                                                ...   \n",
       "17297              https://www.yelp.com/biz/kathys-dumplings-brooklyn?adjust_creative=82uXkAt1Tiw7u9_h33zr1A&utm_campaign=yelp_api_v3&utm_medium=api_v3_phone_search&utm_source=82uXkAt1Tiw7u9_h33zr1A   \n",
       "17298                  https://www.yelp.com/biz/thai-pot-forest-hills?adjust_creative=82uXkAt1Tiw7u9_h33zr1A&utm_campaign=yelp_api_v3&utm_medium=api_v3_phone_search&utm_source=82uXkAt1Tiw7u9_h33zr1A   \n",
       "17299                      https://www.yelp.com/biz/chang-pai-jamaica?adjust_creative=82uXkAt1Tiw7u9_h33zr1A&utm_campaign=yelp_api_v3&utm_medium=api_v3_phone_search&utm_source=82uXkAt1Tiw7u9_h33zr1A   \n",
       "17300              https://www.yelp.com/biz/starbucks-los-angeles-193?adjust_creative=82uXkAt1Tiw7u9_h33zr1A&utm_campaign=yelp_api_v3&utm_medium=api_v3_phone_search&utm_source=82uXkAt1Tiw7u9_h33zr1A   \n",
       "17301                 https://www.yelp.com/biz/starbucks-new-york-310?adjust_creative=82uXkAt1Tiw7u9_h33zr1A&utm_campaign=yelp_api_v3&utm_medium=api_v3_phone_search&utm_source=82uXkAt1Tiw7u9_h33zr1A   \n",
       "\n",
       "       review_count  \\\n",
       "0               127   \n",
       "1               192   \n",
       "2               172   \n",
       "3              1496   \n",
       "4                85   \n",
       "...             ...   \n",
       "17297           231   \n",
       "17298           258   \n",
       "17299            70   \n",
       "17300             1   \n",
       "17301            61   \n",
       "\n",
       "                                                                                                                                             categories  \\\n",
       "0      [{'alias': 'breakfast_brunch', 'title': 'Breakfast & Brunch'}, {'alias': 'desserts', 'title': 'Desserts'}, {'alias': 'cafes', 'title': 'Cafes'}]   \n",
       "1                            [{'alias': 'haitian', 'title': 'Haitian'}, {'alias': 'salad', 'title': 'Salad'}, {'alias': 'seafood', 'title': 'Seafood'}]   \n",
       "2                                                                                                              [{'alias': 'diners', 'title': 'Diners'}]   \n",
       "3                                                                [{'alias': 'japanese', 'title': 'Japanese'}, {'alias': 'noodles', 'title': 'Noodles'}]   \n",
       "4                  [{'alias': 'hotdogs', 'title': 'Fast Food'}, {'alias': 'burgers', 'title': 'Burgers'}, {'alias': 'coffee', 'title': 'Coffee & Tea'}]   \n",
       "...                                                                                                                                                 ...   \n",
       "17297                                                                                                        [{'alias': 'chinese', 'title': 'Chinese'}]   \n",
       "17298                                                                                                              [{'alias': 'thai', 'title': 'Thai'}]   \n",
       "17299                                                                    [{'alias': 'thai', 'title': 'Thai'}, {'alias': 'chinese', 'title': 'Chinese'}]   \n",
       "17300                                                                                                    [{'alias': 'coffee', 'title': 'Coffee & Tea'}]   \n",
       "17301                                                                                                    [{'alias': 'coffee', 'title': 'Coffee & Tea'}]   \n",
       "\n",
       "       rating                                                     coordinates  \\\n",
       "0         3.5                {'latitude': 40.8246899, 'longitude': -73.94704}   \n",
       "1         2.5                  {'latitude': 40.63755, 'longitude': -73.89731}   \n",
       "2         3.5                  {'latitude': 40.74941, 'longitude': -73.88497}   \n",
       "3         4.0                {'latitude': 40.72965, 'longitude': -73.9878899}   \n",
       "4         2.5                  {'latitude': 40.71852, 'longitude': -74.00115}   \n",
       "...       ...                                                             ...   \n",
       "17297     4.0              {'latitude': 40.6279735, 'longitude': -74.0293625}   \n",
       "17298     3.0  {'latitude': 40.7247545048924, 'longitude': -73.8498401641846}   \n",
       "17299     2.0              {'latitude': 40.7094307, 'longitude': -73.7955093}   \n",
       "17300     1.0                {'latitude': 33.986341, 'longitude': -118.32644}   \n",
       "17301     2.5                {'latitude': 40.763714, 'longitude': -73.985313}   \n",
       "\n",
       "                 transactions price  \\\n",
       "0      ['delivery', 'pickup']    $$   \n",
       "1      ['delivery', 'pickup']    $$   \n",
       "2      ['delivery', 'pickup']    $$   \n",
       "3      ['delivery', 'pickup']    $$   \n",
       "4                ['delivery']     $   \n",
       "...                       ...   ...   \n",
       "17297  ['pickup', 'delivery']     $   \n",
       "17298  ['delivery', 'pickup']    $$   \n",
       "17299  ['delivery', 'pickup']    $$   \n",
       "17300                      []     $   \n",
       "17301                      []    $$   \n",
       "\n",
       "                                                                                                                                                                                                                   location  \\\n",
       "0                      {'address1': '458 W 145th St', 'address2': '', 'address3': '', 'city': 'New York', 'zip_code': '10031', 'country': 'US', 'state': 'NY', 'display_address': ['458 W 145th St', 'New York, NY 10031']}   \n",
       "1                            {'address1': '9413 Ave L', 'address2': None, 'address3': '', 'city': 'Brooklyn', 'zip_code': '11236', 'country': 'US', 'state': 'NY', 'display_address': ['9413 Ave L', 'Brooklyn, NY 11236']}   \n",
       "2        {'address1': '81-04 37th Ave', 'address2': '', 'address3': '', 'city': 'Jackson Heights', 'zip_code': '11372', 'country': 'US', 'state': 'NY', 'display_address': ['81-04 37th Ave', 'Jackson Heights, NY 11372']}   \n",
       "3                          {'address1': '229 E 9th St', 'address2': '', 'address3': '', 'city': 'New York', 'zip_code': '10003', 'country': 'US', 'state': 'NY', 'display_address': ['229 E 9th St', 'New York, NY 10003']}   \n",
       "4                        {'address1': '262 Canal St', 'address2': None, 'address3': '', 'city': 'New York', 'zip_code': '10013', 'country': 'US', 'state': 'NY', 'display_address': ['262 Canal St', 'New York, NY 10013']}   \n",
       "...                                                                                                                                                                                                                     ...   \n",
       "17297                      {'address1': '7924 3rd Ave', 'address2': '', 'address3': '', 'city': 'Brooklyn', 'zip_code': '11209', 'country': 'US', 'state': 'NY', 'display_address': ['7924 3rd Ave', 'Brooklyn, NY 11209']}   \n",
       "17298  {'address1': '103-07 Queens Blvd', 'address2': '', 'address3': '', 'city': 'Forest Hills', 'zip_code': '11375', 'country': 'US', 'state': 'NY', 'display_address': ['103-07 Queens Blvd', 'Forest Hills, NY 11375']}   \n",
       "17299          {'address1': '166-12 Hillside Ave', 'address2': '', 'address3': '', 'city': 'Jamaica', 'zip_code': '11432', 'country': 'US', 'state': 'NY', 'display_address': ['166-12 Hillside Ave', 'Jamaica, NY 11432']}   \n",
       "17300                  {'address1': '871 8th Ave', 'address2': '', 'address3': '', 'city': 'Los Angeles', 'zip_code': '90019', 'country': 'US', 'state': 'CA', 'display_address': ['871 8th Ave', 'Los Angeles, CA 90019']}   \n",
       "17301                        {'address1': '871 8th Ave', 'address2': '', 'address3': '', 'city': 'New York', 'zip_code': '10019', 'country': 'US', 'state': 'NY', 'display_address': ['871 8th Ave', 'New York, NY 10019']}   \n",
       "\n",
       "             phone   display_phone  \n",
       "0      12122340202  (212) 234-0202  \n",
       "1      13477709051  (347) 770-9051  \n",
       "2      17186510700  (718) 651-0700  \n",
       "3      12125336966  (212) 533-6966  \n",
       "4      12129415823  (212) 941-5823  \n",
       "...            ...             ...  \n",
       "17297  17188337000  (718) 833-7000  \n",
       "17298  17188973898  (718) 897-3898  \n",
       "17299  17182918222  (718) 291-8222  \n",
       "17300  12122467699  (212) 246-7699  \n",
       "17301  12122467699  (212) 246-7699  \n",
       "\n",
       "[17302 rows x 15 columns]"
      ]
     },
     "execution_count": 108,
     "metadata": {},
     "output_type": "execute_result"
    }
   ],
   "source": [
    "yelp_businesses_df.to_csv('yelp_businesses.csv',index=False)\n",
    "yelp_df = pd.read_csv('yelp_businesses.csv')\n",
    "yelp_df"
   ]
  },
  {
   "cell_type": "code",
   "execution_count": 109,
   "metadata": {
    "ExecuteTime": {
     "end_time": "2022-04-17T07:12:43.271814Z",
     "start_time": "2022-04-17T07:12:43.206394Z"
    }
   },
   "outputs": [
    {
     "name": "stdout",
     "output_type": "stream",
     "text": [
      "<class 'pandas.core.frame.DataFrame'>\n",
      "RangeIndex: 17302 entries, 0 to 17301\n",
      "Data columns (total 15 columns):\n",
      " #   Column         Non-Null Count  Dtype  \n",
      "---  ------         --------------  -----  \n",
      " 0   id             17302 non-null  object \n",
      " 1   alias          17302 non-null  object \n",
      " 2   name           17302 non-null  object \n",
      " 3   image_url      16563 non-null  object \n",
      " 4   is_closed      17302 non-null  bool   \n",
      " 5   url            17302 non-null  object \n",
      " 6   review_count   17302 non-null  int64  \n",
      " 7   categories     17302 non-null  object \n",
      " 8   rating         17302 non-null  float64\n",
      " 9   coordinates    17302 non-null  object \n",
      " 10  transactions   17302 non-null  object \n",
      " 11  price          14501 non-null  object \n",
      " 12  location       17302 non-null  object \n",
      " 13  phone          17302 non-null  int64  \n",
      " 14  display_phone  17302 non-null  object \n",
      "dtypes: bool(1), float64(1), int64(2), object(11)\n",
      "memory usage: 1.9+ MB\n"
     ]
    }
   ],
   "source": [
    "yelp_df.info()"
   ]
  },
  {
   "cell_type": "code",
   "execution_count": 234,
   "metadata": {
    "ExecuteTime": {
     "end_time": "2022-04-17T22:49:42.145388Z",
     "start_time": "2022-04-17T22:49:42.132333Z"
    }
   },
   "outputs": [
    {
     "data": {
      "text/plain": [
       "10294"
      ]
     },
     "execution_count": 234,
     "metadata": {},
     "output_type": "execute_result"
    }
   ],
   "source": [
    "yelp_df['display_phone'].nunique()"
   ]
  },
  {
   "cell_type": "code",
   "execution_count": 231,
   "metadata": {
    "ExecuteTime": {
     "end_time": "2022-04-17T22:48:22.439239Z",
     "start_time": "2022-04-17T22:48:22.307121Z"
    }
   },
   "outputs": [
    {
     "data": {
      "text/html": [
       "<div>\n",
       "<style scoped>\n",
       "    .dataframe tbody tr th:only-of-type {\n",
       "        vertical-align: middle;\n",
       "    }\n",
       "\n",
       "    .dataframe tbody tr th {\n",
       "        vertical-align: top;\n",
       "    }\n",
       "\n",
       "    .dataframe thead th {\n",
       "        text-align: right;\n",
       "    }\n",
       "</style>\n",
       "<table border=\"1\" class=\"dataframe\">\n",
       "  <thead>\n",
       "    <tr style=\"text-align: right;\">\n",
       "      <th></th>\n",
       "      <th>id</th>\n",
       "      <th>alias</th>\n",
       "      <th>name</th>\n",
       "      <th>image_url</th>\n",
       "      <th>is_closed</th>\n",
       "      <th>url</th>\n",
       "      <th>review_count</th>\n",
       "      <th>categories</th>\n",
       "      <th>rating</th>\n",
       "      <th>coordinates</th>\n",
       "      <th>transactions</th>\n",
       "      <th>price</th>\n",
       "      <th>location</th>\n",
       "      <th>phone</th>\n",
       "      <th>display_phone</th>\n",
       "    </tr>\n",
       "  </thead>\n",
       "  <tbody>\n",
       "    <tr>\n",
       "      <th>6</th>\n",
       "      <td>yIWKtjt9v0m7i8mKBQlsug</td>\n",
       "      <td>la-casa-de-julia-woodside</td>\n",
       "      <td>La Casa de Julia</td>\n",
       "      <td>https://s3-media0.fl.yelpcdn.com/bphoto/OOY3KQW7ylz-tDRyNkdRtA/o.jpg</td>\n",
       "      <td>False</td>\n",
       "      <td>https://www.yelp.com/biz/la-casa-de-julia-woodside</td>\n",
       "      <td>9</td>\n",
       "      <td>[{'alias': 'tacos', 'title': 'Tacos'}, {'alias': 'sportsbars', 'title': 'Sports Bars'}]</td>\n",
       "      <td>3.5</td>\n",
       "      <td>{'latitude': 40.74618, 'longitude': -73.89954}</td>\n",
       "      <td>['delivery', 'pickup']</td>\n",
       "      <td>NaN</td>\n",
       "      <td>{'address1': '64-09 Roosevelt Ave', 'address2': None, 'address3': None, 'city': 'Woodside', 'zip_code': '11377', 'country': 'US', 'state': 'NY', 'display_address': ['64-09 Roosevelt Ave', 'Woodside, NY 11377']}</td>\n",
       "      <td>13478080627</td>\n",
       "      <td>(347) 808-0627</td>\n",
       "    </tr>\n",
       "    <tr>\n",
       "      <th>9</th>\n",
       "      <td>zdgJUdnxkRmmtb4qIk0ZHg</td>\n",
       "      <td>sushi-zo-midtown-new-york-new-york</td>\n",
       "      <td>Sushi Zo | Midtown New York</td>\n",
       "      <td>https://s3-media0.fl.yelpcdn.com/bphoto/kibfipheDdcSR7MGtjmH5Q/o.jpg</td>\n",
       "      <td>False</td>\n",
       "      <td>https://www.yelp.com/biz/sushi-zo-midtown-new-york-new-york</td>\n",
       "      <td>28</td>\n",
       "      <td>[{'alias': 'sushi', 'title': 'Sushi Bars'}]</td>\n",
       "      <td>4.5</td>\n",
       "      <td>{'latitude': 40.74971, 'longitude': -73.97759}</td>\n",
       "      <td>[]</td>\n",
       "      <td>$$$$</td>\n",
       "      <td>{'address1': '127 E 39th St', 'address2': '', 'address3': None, 'city': 'New York', 'zip_code': '10016', 'country': 'US', 'state': 'NY', 'display_address': ['127 E 39th St', 'New York, NY 10016']}</td>\n",
       "      <td>19172658054</td>\n",
       "      <td>(917) 265-8054</td>\n",
       "    </tr>\n",
       "    <tr>\n",
       "      <th>10</th>\n",
       "      <td>v8npyOL2ADgobgr6pSUNuA</td>\n",
       "      <td>mcdonalds-brooklyn-100</td>\n",
       "      <td>McDonald's</td>\n",
       "      <td>https://s3-media0.fl.yelpcdn.com/bphoto/Ujr37VSP0i5PitOv-uEMfQ/o.jpg</td>\n",
       "      <td>False</td>\n",
       "      <td>https://www.yelp.com/biz/mcdonalds-brooklyn-100</td>\n",
       "      <td>60</td>\n",
       "      <td>[{'alias': 'hotdogs', 'title': 'Fast Food'}, {'alias': 'burgers', 'title': 'Burgers'}, {'alias': 'coffee', 'title': 'Coffee &amp; Tea'}]</td>\n",
       "      <td>2.5</td>\n",
       "      <td>{'latitude': 40.5993204166153, 'longitude': -73.9889772317838}</td>\n",
       "      <td>['delivery']</td>\n",
       "      <td>$</td>\n",
       "      <td>{'address1': '2413 86th St', 'address2': '', 'address3': '', 'city': 'Brooklyn', 'zip_code': '11214', 'country': 'US', 'state': 'NY', 'display_address': ['2413 86th St', 'Brooklyn, NY 11214']}</td>\n",
       "      <td>17183729098</td>\n",
       "      <td>(718) 372-9098</td>\n",
       "    </tr>\n",
       "    <tr>\n",
       "      <th>11</th>\n",
       "      <td>HhOu55Tw7IuUL3h65GF25A</td>\n",
       "      <td>bonjour-crepes-and-wine-new-york-2</td>\n",
       "      <td>Bonjour Crepes &amp; Wine</td>\n",
       "      <td>https://s3-media0.fl.yelpcdn.com/bphoto/QRsfojUgceb7LVhTCLGwuw/o.jpg</td>\n",
       "      <td>False</td>\n",
       "      <td>https://www.yelp.com/biz/bonjour-crepes-and-wine-new-york-2</td>\n",
       "      <td>161</td>\n",
       "      <td>[{'alias': 'creperies', 'title': 'Creperies'}, {'alias': 'wine_bars', 'title': 'Wine Bars'}, {'alias': 'coffee', 'title': 'Coffee &amp; Tea'}]</td>\n",
       "      <td>3.5</td>\n",
       "      <td>{'latitude': 40.78456, 'longitude': -73.95219}</td>\n",
       "      <td>['pickup', 'delivery']</td>\n",
       "      <td>$$</td>\n",
       "      <td>{'address1': '1442 Lexington Ave', 'address2': '', 'address3': '', 'city': 'New York', 'zip_code': '10128', 'country': 'US', 'state': 'NY', 'display_address': ['1442 Lexington Ave', 'New York, NY 10128']}</td>\n",
       "      <td>12125344300</td>\n",
       "      <td>(212) 534-4300</td>\n",
       "    </tr>\n",
       "    <tr>\n",
       "      <th>13</th>\n",
       "      <td>wLvcBF3tbvu5h6XDYfm7DA</td>\n",
       "      <td>burp-castle-new-york</td>\n",
       "      <td>Burp Castle</td>\n",
       "      <td>https://s3-media0.fl.yelpcdn.com/bphoto/3aqHNbGm3mRGIjclVq0CaA/o.jpg</td>\n",
       "      <td>False</td>\n",
       "      <td>https://www.yelp.com/biz/burp-castle-new-york</td>\n",
       "      <td>557</td>\n",
       "      <td>[{'alias': 'pubs', 'title': 'Pubs'}, {'alias': 'lounges', 'title': 'Lounges'}]</td>\n",
       "      <td>4.0</td>\n",
       "      <td>{'latitude': 40.7283252192663, 'longitude': -73.9886448736218}</td>\n",
       "      <td>[]</td>\n",
       "      <td>$$</td>\n",
       "      <td>{'address1': '41 E 7th St', 'address2': '', 'address3': '', 'city': 'New York', 'zip_code': '10003', 'country': 'US', 'state': 'NY', 'display_address': ['41 E 7th St', 'New York, NY 10003']}</td>\n",
       "      <td>12129824576</td>\n",
       "      <td>(212) 982-4576</td>\n",
       "    </tr>\n",
       "    <tr>\n",
       "      <th>...</th>\n",
       "      <td>...</td>\n",
       "      <td>...</td>\n",
       "      <td>...</td>\n",
       "      <td>...</td>\n",
       "      <td>...</td>\n",
       "      <td>...</td>\n",
       "      <td>...</td>\n",
       "      <td>...</td>\n",
       "      <td>...</td>\n",
       "      <td>...</td>\n",
       "      <td>...</td>\n",
       "      <td>...</td>\n",
       "      <td>...</td>\n",
       "      <td>...</td>\n",
       "      <td>...</td>\n",
       "    </tr>\n",
       "    <tr>\n",
       "      <th>17297</th>\n",
       "      <td>osnb51lPIHxUKRlcg7idwA</td>\n",
       "      <td>kathys-dumplings-brooklyn</td>\n",
       "      <td>Kathy's Dumplings</td>\n",
       "      <td>https://s3-media0.fl.yelpcdn.com/bphoto/4PHqX5uxThKNvLcD0DZqrw/o.jpg</td>\n",
       "      <td>False</td>\n",
       "      <td>https://www.yelp.com/biz/kathys-dumplings-brooklyn</td>\n",
       "      <td>231</td>\n",
       "      <td>[{'alias': 'chinese', 'title': 'Chinese'}]</td>\n",
       "      <td>4.0</td>\n",
       "      <td>{'latitude': 40.6279735, 'longitude': -74.0293625}</td>\n",
       "      <td>['pickup', 'delivery']</td>\n",
       "      <td>$</td>\n",
       "      <td>{'address1': '7924 3rd Ave', 'address2': '', 'address3': '', 'city': 'Brooklyn', 'zip_code': '11209', 'country': 'US', 'state': 'NY', 'display_address': ['7924 3rd Ave', 'Brooklyn, NY 11209']}</td>\n",
       "      <td>17188337000</td>\n",
       "      <td>(718) 833-7000</td>\n",
       "    </tr>\n",
       "    <tr>\n",
       "      <th>17298</th>\n",
       "      <td>SkYcO8FaqYgoP-66g58OMw</td>\n",
       "      <td>thai-pot-forest-hills</td>\n",
       "      <td>Thai Pot</td>\n",
       "      <td>https://s3-media0.fl.yelpcdn.com/bphoto/Qu_oE3bTpWt-pJw8r4LXxw/o.jpg</td>\n",
       "      <td>False</td>\n",
       "      <td>https://www.yelp.com/biz/thai-pot-forest-hills</td>\n",
       "      <td>258</td>\n",
       "      <td>[{'alias': 'thai', 'title': 'Thai'}]</td>\n",
       "      <td>3.0</td>\n",
       "      <td>{'latitude': 40.7247545048924, 'longitude': -73.8498401641846}</td>\n",
       "      <td>['delivery', 'pickup']</td>\n",
       "      <td>$$</td>\n",
       "      <td>{'address1': '103-07 Queens Blvd', 'address2': '', 'address3': '', 'city': 'Forest Hills', 'zip_code': '11375', 'country': 'US', 'state': 'NY', 'display_address': ['103-07 Queens Blvd', 'Forest Hills, NY 11375']}</td>\n",
       "      <td>17188973898</td>\n",
       "      <td>(718) 897-3898</td>\n",
       "    </tr>\n",
       "    <tr>\n",
       "      <th>17299</th>\n",
       "      <td>nt-B5XlmTJlQsDqoiL7UKA</td>\n",
       "      <td>chang-pai-jamaica</td>\n",
       "      <td>Chang Pai</td>\n",
       "      <td>https://s3-media0.fl.yelpcdn.com/bphoto/KAR293sfF0SDEHYpjT9cHQ/o.jpg</td>\n",
       "      <td>False</td>\n",
       "      <td>https://www.yelp.com/biz/chang-pai-jamaica</td>\n",
       "      <td>70</td>\n",
       "      <td>[{'alias': 'thai', 'title': 'Thai'}, {'alias': 'chinese', 'title': 'Chinese'}]</td>\n",
       "      <td>2.0</td>\n",
       "      <td>{'latitude': 40.7094307, 'longitude': -73.7955093}</td>\n",
       "      <td>['delivery', 'pickup']</td>\n",
       "      <td>$$</td>\n",
       "      <td>{'address1': '166-12 Hillside Ave', 'address2': '', 'address3': '', 'city': 'Jamaica', 'zip_code': '11432', 'country': 'US', 'state': 'NY', 'display_address': ['166-12 Hillside Ave', 'Jamaica, NY 11432']}</td>\n",
       "      <td>17182918222</td>\n",
       "      <td>(718) 291-8222</td>\n",
       "    </tr>\n",
       "    <tr>\n",
       "      <th>17300</th>\n",
       "      <td>E-_NtEsnwxrMfqb5_vIW3Q</td>\n",
       "      <td>starbucks-los-angeles-193</td>\n",
       "      <td>Starbucks</td>\n",
       "      <td>https://s3-media0.fl.yelpcdn.com/bphoto/V5NGsaUdyns0Jm_aPGFMSw/o.jpg</td>\n",
       "      <td>True</td>\n",
       "      <td>https://www.yelp.com/biz/starbucks-los-angeles-193</td>\n",
       "      <td>1</td>\n",
       "      <td>[{'alias': 'coffee', 'title': 'Coffee &amp; Tea'}]</td>\n",
       "      <td>1.0</td>\n",
       "      <td>{'latitude': 33.986341, 'longitude': -118.32644}</td>\n",
       "      <td>[]</td>\n",
       "      <td>$</td>\n",
       "      <td>{'address1': '871 8th Ave', 'address2': '', 'address3': '', 'city': 'Los Angeles', 'zip_code': '90019', 'country': 'US', 'state': 'CA', 'display_address': ['871 8th Ave', 'Los Angeles, CA 90019']}</td>\n",
       "      <td>12122467699</td>\n",
       "      <td>(212) 246-7699</td>\n",
       "    </tr>\n",
       "    <tr>\n",
       "      <th>17301</th>\n",
       "      <td>pJPQ1N5PRti_ab--mXL5Tw</td>\n",
       "      <td>starbucks-new-york-310</td>\n",
       "      <td>Starbucks</td>\n",
       "      <td>https://s3-media0.fl.yelpcdn.com/bphoto/_hzEpvNsjC_OgLk9VGN47A/o.jpg</td>\n",
       "      <td>False</td>\n",
       "      <td>https://www.yelp.com/biz/starbucks-new-york-310</td>\n",
       "      <td>61</td>\n",
       "      <td>[{'alias': 'coffee', 'title': 'Coffee &amp; Tea'}]</td>\n",
       "      <td>2.5</td>\n",
       "      <td>{'latitude': 40.763714, 'longitude': -73.985313}</td>\n",
       "      <td>[]</td>\n",
       "      <td>$$</td>\n",
       "      <td>{'address1': '871 8th Ave', 'address2': '', 'address3': '', 'city': 'New York', 'zip_code': '10019', 'country': 'US', 'state': 'NY', 'display_address': ['871 8th Ave', 'New York, NY 10019']}</td>\n",
       "      <td>12122467699</td>\n",
       "      <td>(212) 246-7699</td>\n",
       "    </tr>\n",
       "  </tbody>\n",
       "</table>\n",
       "<p>8474 rows × 15 columns</p>\n",
       "</div>"
      ],
      "text/plain": [
       "                           id                               alias  \\\n",
       "6      yIWKtjt9v0m7i8mKBQlsug           la-casa-de-julia-woodside   \n",
       "9      zdgJUdnxkRmmtb4qIk0ZHg  sushi-zo-midtown-new-york-new-york   \n",
       "10     v8npyOL2ADgobgr6pSUNuA              mcdonalds-brooklyn-100   \n",
       "11     HhOu55Tw7IuUL3h65GF25A  bonjour-crepes-and-wine-new-york-2   \n",
       "13     wLvcBF3tbvu5h6XDYfm7DA                burp-castle-new-york   \n",
       "...                       ...                                 ...   \n",
       "17297  osnb51lPIHxUKRlcg7idwA           kathys-dumplings-brooklyn   \n",
       "17298  SkYcO8FaqYgoP-66g58OMw               thai-pot-forest-hills   \n",
       "17299  nt-B5XlmTJlQsDqoiL7UKA                   chang-pai-jamaica   \n",
       "17300  E-_NtEsnwxrMfqb5_vIW3Q           starbucks-los-angeles-193   \n",
       "17301  pJPQ1N5PRti_ab--mXL5Tw              starbucks-new-york-310   \n",
       "\n",
       "                              name  \\\n",
       "6                 La Casa de Julia   \n",
       "9      Sushi Zo | Midtown New York   \n",
       "10                      McDonald's   \n",
       "11           Bonjour Crepes & Wine   \n",
       "13                     Burp Castle   \n",
       "...                            ...   \n",
       "17297            Kathy's Dumplings   \n",
       "17298                     Thai Pot   \n",
       "17299                    Chang Pai   \n",
       "17300                    Starbucks   \n",
       "17301                    Starbucks   \n",
       "\n",
       "                                                                  image_url  \\\n",
       "6      https://s3-media0.fl.yelpcdn.com/bphoto/OOY3KQW7ylz-tDRyNkdRtA/o.jpg   \n",
       "9      https://s3-media0.fl.yelpcdn.com/bphoto/kibfipheDdcSR7MGtjmH5Q/o.jpg   \n",
       "10     https://s3-media0.fl.yelpcdn.com/bphoto/Ujr37VSP0i5PitOv-uEMfQ/o.jpg   \n",
       "11     https://s3-media0.fl.yelpcdn.com/bphoto/QRsfojUgceb7LVhTCLGwuw/o.jpg   \n",
       "13     https://s3-media0.fl.yelpcdn.com/bphoto/3aqHNbGm3mRGIjclVq0CaA/o.jpg   \n",
       "...                                                                     ...   \n",
       "17297  https://s3-media0.fl.yelpcdn.com/bphoto/4PHqX5uxThKNvLcD0DZqrw/o.jpg   \n",
       "17298  https://s3-media0.fl.yelpcdn.com/bphoto/Qu_oE3bTpWt-pJw8r4LXxw/o.jpg   \n",
       "17299  https://s3-media0.fl.yelpcdn.com/bphoto/KAR293sfF0SDEHYpjT9cHQ/o.jpg   \n",
       "17300  https://s3-media0.fl.yelpcdn.com/bphoto/V5NGsaUdyns0Jm_aPGFMSw/o.jpg   \n",
       "17301  https://s3-media0.fl.yelpcdn.com/bphoto/_hzEpvNsjC_OgLk9VGN47A/o.jpg   \n",
       "\n",
       "       is_closed                                                          url  \\\n",
       "6          False           https://www.yelp.com/biz/la-casa-de-julia-woodside   \n",
       "9          False  https://www.yelp.com/biz/sushi-zo-midtown-new-york-new-york   \n",
       "10         False              https://www.yelp.com/biz/mcdonalds-brooklyn-100   \n",
       "11         False  https://www.yelp.com/biz/bonjour-crepes-and-wine-new-york-2   \n",
       "13         False                https://www.yelp.com/biz/burp-castle-new-york   \n",
       "...          ...                                                          ...   \n",
       "17297      False           https://www.yelp.com/biz/kathys-dumplings-brooklyn   \n",
       "17298      False               https://www.yelp.com/biz/thai-pot-forest-hills   \n",
       "17299      False                   https://www.yelp.com/biz/chang-pai-jamaica   \n",
       "17300       True           https://www.yelp.com/biz/starbucks-los-angeles-193   \n",
       "17301      False              https://www.yelp.com/biz/starbucks-new-york-310   \n",
       "\n",
       "       review_count  \\\n",
       "6                 9   \n",
       "9                28   \n",
       "10               60   \n",
       "11              161   \n",
       "13              557   \n",
       "...             ...   \n",
       "17297           231   \n",
       "17298           258   \n",
       "17299            70   \n",
       "17300             1   \n",
       "17301            61   \n",
       "\n",
       "                                                                                                                                       categories  \\\n",
       "6                                                         [{'alias': 'tacos', 'title': 'Tacos'}, {'alias': 'sportsbars', 'title': 'Sports Bars'}]   \n",
       "9                                                                                                     [{'alias': 'sushi', 'title': 'Sushi Bars'}]   \n",
       "10           [{'alias': 'hotdogs', 'title': 'Fast Food'}, {'alias': 'burgers', 'title': 'Burgers'}, {'alias': 'coffee', 'title': 'Coffee & Tea'}]   \n",
       "11     [{'alias': 'creperies', 'title': 'Creperies'}, {'alias': 'wine_bars', 'title': 'Wine Bars'}, {'alias': 'coffee', 'title': 'Coffee & Tea'}]   \n",
       "13                                                                 [{'alias': 'pubs', 'title': 'Pubs'}, {'alias': 'lounges', 'title': 'Lounges'}]   \n",
       "...                                                                                                                                           ...   \n",
       "17297                                                                                                  [{'alias': 'chinese', 'title': 'Chinese'}]   \n",
       "17298                                                                                                        [{'alias': 'thai', 'title': 'Thai'}]   \n",
       "17299                                                              [{'alias': 'thai', 'title': 'Thai'}, {'alias': 'chinese', 'title': 'Chinese'}]   \n",
       "17300                                                                                              [{'alias': 'coffee', 'title': 'Coffee & Tea'}]   \n",
       "17301                                                                                              [{'alias': 'coffee', 'title': 'Coffee & Tea'}]   \n",
       "\n",
       "       rating                                                     coordinates  \\\n",
       "6         3.5                  {'latitude': 40.74618, 'longitude': -73.89954}   \n",
       "9         4.5                  {'latitude': 40.74971, 'longitude': -73.97759}   \n",
       "10        2.5  {'latitude': 40.5993204166153, 'longitude': -73.9889772317838}   \n",
       "11        3.5                  {'latitude': 40.78456, 'longitude': -73.95219}   \n",
       "13        4.0  {'latitude': 40.7283252192663, 'longitude': -73.9886448736218}   \n",
       "...       ...                                                             ...   \n",
       "17297     4.0              {'latitude': 40.6279735, 'longitude': -74.0293625}   \n",
       "17298     3.0  {'latitude': 40.7247545048924, 'longitude': -73.8498401641846}   \n",
       "17299     2.0              {'latitude': 40.7094307, 'longitude': -73.7955093}   \n",
       "17300     1.0                {'latitude': 33.986341, 'longitude': -118.32644}   \n",
       "17301     2.5                {'latitude': 40.763714, 'longitude': -73.985313}   \n",
       "\n",
       "                 transactions price  \\\n",
       "6      ['delivery', 'pickup']   NaN   \n",
       "9                          []  $$$$   \n",
       "10               ['delivery']     $   \n",
       "11     ['pickup', 'delivery']    $$   \n",
       "13                         []    $$   \n",
       "...                       ...   ...   \n",
       "17297  ['pickup', 'delivery']     $   \n",
       "17298  ['delivery', 'pickup']    $$   \n",
       "17299  ['delivery', 'pickup']    $$   \n",
       "17300                      []     $   \n",
       "17301                      []    $$   \n",
       "\n",
       "                                                                                                                                                                                                                   location  \\\n",
       "6        {'address1': '64-09 Roosevelt Ave', 'address2': None, 'address3': None, 'city': 'Woodside', 'zip_code': '11377', 'country': 'US', 'state': 'NY', 'display_address': ['64-09 Roosevelt Ave', 'Woodside, NY 11377']}   \n",
       "9                      {'address1': '127 E 39th St', 'address2': '', 'address3': None, 'city': 'New York', 'zip_code': '10016', 'country': 'US', 'state': 'NY', 'display_address': ['127 E 39th St', 'New York, NY 10016']}   \n",
       "10                         {'address1': '2413 86th St', 'address2': '', 'address3': '', 'city': 'Brooklyn', 'zip_code': '11214', 'country': 'US', 'state': 'NY', 'display_address': ['2413 86th St', 'Brooklyn, NY 11214']}   \n",
       "11             {'address1': '1442 Lexington Ave', 'address2': '', 'address3': '', 'city': 'New York', 'zip_code': '10128', 'country': 'US', 'state': 'NY', 'display_address': ['1442 Lexington Ave', 'New York, NY 10128']}   \n",
       "13                           {'address1': '41 E 7th St', 'address2': '', 'address3': '', 'city': 'New York', 'zip_code': '10003', 'country': 'US', 'state': 'NY', 'display_address': ['41 E 7th St', 'New York, NY 10003']}   \n",
       "...                                                                                                                                                                                                                     ...   \n",
       "17297                      {'address1': '7924 3rd Ave', 'address2': '', 'address3': '', 'city': 'Brooklyn', 'zip_code': '11209', 'country': 'US', 'state': 'NY', 'display_address': ['7924 3rd Ave', 'Brooklyn, NY 11209']}   \n",
       "17298  {'address1': '103-07 Queens Blvd', 'address2': '', 'address3': '', 'city': 'Forest Hills', 'zip_code': '11375', 'country': 'US', 'state': 'NY', 'display_address': ['103-07 Queens Blvd', 'Forest Hills, NY 11375']}   \n",
       "17299          {'address1': '166-12 Hillside Ave', 'address2': '', 'address3': '', 'city': 'Jamaica', 'zip_code': '11432', 'country': 'US', 'state': 'NY', 'display_address': ['166-12 Hillside Ave', 'Jamaica, NY 11432']}   \n",
       "17300                  {'address1': '871 8th Ave', 'address2': '', 'address3': '', 'city': 'Los Angeles', 'zip_code': '90019', 'country': 'US', 'state': 'CA', 'display_address': ['871 8th Ave', 'Los Angeles, CA 90019']}   \n",
       "17301                        {'address1': '871 8th Ave', 'address2': '', 'address3': '', 'city': 'New York', 'zip_code': '10019', 'country': 'US', 'state': 'NY', 'display_address': ['871 8th Ave', 'New York, NY 10019']}   \n",
       "\n",
       "             phone   display_phone  \n",
       "6      13478080627  (347) 808-0627  \n",
       "9      19172658054  (917) 265-8054  \n",
       "10     17183729098  (718) 372-9098  \n",
       "11     12125344300  (212) 534-4300  \n",
       "13     12129824576  (212) 982-4576  \n",
       "...            ...             ...  \n",
       "17297  17188337000  (718) 833-7000  \n",
       "17298  17188973898  (718) 897-3898  \n",
       "17299  17182918222  (718) 291-8222  \n",
       "17300  12122467699  (212) 246-7699  \n",
       "17301  12122467699  (212) 246-7699  \n",
       "\n",
       "[8474 rows x 15 columns]"
      ]
     },
     "execution_count": 231,
     "metadata": {},
     "output_type": "execute_result"
    }
   ],
   "source": [
    "yelp_df[yelp_df.duplicated(['id'], keep=False)]"
   ]
  },
  {
   "cell_type": "code",
   "execution_count": 110,
   "metadata": {
    "ExecuteTime": {
     "end_time": "2022-04-17T07:12:49.775208Z",
     "start_time": "2022-04-17T07:12:49.694141Z"
    }
   },
   "outputs": [
    {
     "data": {
      "text/html": [
       "<div>\n",
       "<style scoped>\n",
       "    .dataframe tbody tr th:only-of-type {\n",
       "        vertical-align: middle;\n",
       "    }\n",
       "\n",
       "    .dataframe tbody tr th {\n",
       "        vertical-align: top;\n",
       "    }\n",
       "\n",
       "    .dataframe thead th {\n",
       "        text-align: right;\n",
       "    }\n",
       "</style>\n",
       "<table border=\"1\" class=\"dataframe\">\n",
       "  <thead>\n",
       "    <tr style=\"text-align: right;\">\n",
       "      <th></th>\n",
       "      <th>review_count</th>\n",
       "      <th>rating</th>\n",
       "      <th>phone</th>\n",
       "    </tr>\n",
       "  </thead>\n",
       "  <tbody>\n",
       "    <tr>\n",
       "      <th>count</th>\n",
       "      <td>17302.0</td>\n",
       "      <td>17302.0</td>\n",
       "      <td>17302.0</td>\n",
       "    </tr>\n",
       "    <tr>\n",
       "      <th>mean</th>\n",
       "      <td>189.5</td>\n",
       "      <td>3.5</td>\n",
       "      <td>15227799712.2</td>\n",
       "    </tr>\n",
       "    <tr>\n",
       "      <th>std</th>\n",
       "      <td>378.4</td>\n",
       "      <td>0.8</td>\n",
       "      <td>2494930771.0</td>\n",
       "    </tr>\n",
       "    <tr>\n",
       "      <th>min</th>\n",
       "      <td>1.0</td>\n",
       "      <td>1.0</td>\n",
       "      <td>12062250663.0</td>\n",
       "    </tr>\n",
       "    <tr>\n",
       "      <th>25%</th>\n",
       "      <td>17.0</td>\n",
       "      <td>3.0</td>\n",
       "      <td>12127498940.5</td>\n",
       "    </tr>\n",
       "    <tr>\n",
       "      <th>50%</th>\n",
       "      <td>67.0</td>\n",
       "      <td>3.5</td>\n",
       "      <td>17182416042.0</td>\n",
       "    </tr>\n",
       "    <tr>\n",
       "      <th>75%</th>\n",
       "      <td>209.0</td>\n",
       "      <td>4.0</td>\n",
       "      <td>17186241444.0</td>\n",
       "    </tr>\n",
       "    <tr>\n",
       "      <th>max</th>\n",
       "      <td>13458.0</td>\n",
       "      <td>5.0</td>\n",
       "      <td>19732238527.0</td>\n",
       "    </tr>\n",
       "  </tbody>\n",
       "</table>\n",
       "</div>"
      ],
      "text/plain": [
       "       review_count  rating         phone\n",
       "count       17302.0 17302.0       17302.0\n",
       "mean          189.5     3.5 15227799712.2\n",
       "std           378.4     0.8  2494930771.0\n",
       "min             1.0     1.0 12062250663.0\n",
       "25%            17.0     3.0 12127498940.5\n",
       "50%            67.0     3.5 17182416042.0\n",
       "75%           209.0     4.0 17186241444.0\n",
       "max         13458.0     5.0 19732238527.0"
      ]
     },
     "execution_count": 110,
     "metadata": {},
     "output_type": "execute_result"
    }
   ],
   "source": [
    "yelp_businesses_df.describe()"
   ]
  },
  {
   "cell_type": "code",
   "execution_count": 111,
   "metadata": {
    "ExecuteTime": {
     "end_time": "2022-04-17T07:12:53.483662Z",
     "start_time": "2022-04-17T07:12:53.475902Z"
    }
   },
   "outputs": [
    {
     "data": {
      "text/plain": [
       "3278066"
      ]
     },
     "execution_count": 111,
     "metadata": {},
     "output_type": "execute_result"
    }
   ],
   "source": [
    "yelp_businesses_df['review_count'].sum()"
   ]
  },
  {
   "cell_type": "code",
   "execution_count": 12,
   "metadata": {
    "ExecuteTime": {
     "end_time": "2022-04-19T02:08:04.569362Z",
     "start_time": "2022-04-19T02:08:04.535334Z"
    }
   },
   "outputs": [],
   "source": [
    "for df in df_list:\n",
    "    df['url'] = 'https://www.yelp.com/biz/'+df['alias']"
   ]
  },
  {
   "cell_type": "code",
   "execution_count": 13,
   "metadata": {
    "ExecuteTime": {
     "end_time": "2022-04-19T02:08:08.506113Z",
     "start_time": "2022-04-19T02:08:08.502064Z"
    }
   },
   "outputs": [],
   "source": [
    "df_10_2 = df_10.loc[1000:2173]\n",
    "# df_10_2.to_csv('df_10_2',index=False)"
   ]
  },
  {
   "cell_type": "code",
   "execution_count": 39,
   "metadata": {
    "ExecuteTime": {
     "end_time": "2022-04-19T12:48:45.437154Z",
     "start_time": "2022-04-19T12:48:45.425397Z"
    }
   },
   "outputs": [
    {
     "data": {
      "text/plain": [
       "2139"
      ]
     },
     "execution_count": 39,
     "metadata": {},
     "output_type": "execute_result"
    }
   ],
   "source": [
    "url_list12 = list(df_12['url'])\n",
    "len(url_list12)"
   ]
  },
  {
   "cell_type": "code",
   "execution_count": 41,
   "metadata": {
    "ExecuteTime": {
     "end_time": "2022-04-19T12:49:38.577430Z",
     "start_time": "2022-04-19T12:49:38.571076Z"
    }
   },
   "outputs": [],
   "source": [
    "def get_text(url_list):\n",
    "    review_txt = []\n",
    "\n",
    "    for url in url_list:\n",
    "        req = requests.get(url)\n",
    "        soup = bs(req.content)\n",
    "        comments = soup.find_all(class_='raw__09f24__T4Ezm', lang=\"en\")\n",
    "        comment_txt = []\n",
    "\n",
    "        for comment in comments:\n",
    "            comment_txt.append(comment.text)\n",
    "\n",
    "        comment_corp = ('.'.join(comment_txt))\n",
    "        review_txt.append(comment_corp)\n",
    "    return review_txt"
   ]
  },
  {
   "cell_type": "code",
   "execution_count": 16,
   "metadata": {
    "ExecuteTime": {
     "end_time": "2022-04-19T03:13:38.253237Z",
     "start_time": "2022-04-19T02:08:32.280712Z"
    }
   },
   "outputs": [],
   "source": [
    "review_txt10_2 = get_text(url_list10_2)"
   ]
  },
  {
   "cell_type": "code",
   "execution_count": 25,
   "metadata": {
    "ExecuteTime": {
     "end_time": "2022-04-19T05:17:47.401913Z",
     "start_time": "2022-04-19T03:20:10.895528Z"
    }
   },
   "outputs": [],
   "source": [
    "review_txt11 = get_text(url_list11)"
   ]
  },
  {
   "cell_type": "code",
   "execution_count": 27,
   "metadata": {
    "ExecuteTime": {
     "end_time": "2022-04-19T07:12:57.034554Z",
     "start_time": "2022-04-19T05:17:47.425453Z"
    }
   },
   "outputs": [],
   "source": [
    "review_txt11_2 = get_text(url_list11)"
   ]
  },
  {
   "cell_type": "code",
   "execution_count": 42,
   "metadata": {
    "ExecuteTime": {
     "end_time": "2022-04-19T13:59:59.430512Z",
     "start_time": "2022-04-19T12:49:57.220043Z"
    }
   },
   "outputs": [],
   "source": [
    "review_txt12 = get_text(url_list12)"
   ]
  },
  {
   "cell_type": "code",
   "execution_count": 43,
   "metadata": {
    "ExecuteTime": {
     "end_time": "2022-04-19T14:03:45.665257Z",
     "start_time": "2022-04-19T14:03:45.425922Z"
    }
   },
   "outputs": [],
   "source": [
    "rvw_txt = pd.DataFrame(review_txt12,columns=['Review_Text'])\n",
    "rvw_txt.to_csv('rvw_txt12.csv',index=False)\n"
   ]
  },
  {
   "cell_type": "code",
   "execution_count": 36,
   "metadata": {
    "ExecuteTime": {
     "end_time": "2022-04-19T12:47:33.634200Z",
     "start_time": "2022-04-19T12:47:33.617553Z"
    }
   },
   "outputs": [
    {
     "data": {
      "text/html": [
       "<div>\n",
       "<style scoped>\n",
       "    .dataframe tbody tr th:only-of-type {\n",
       "        vertical-align: middle;\n",
       "    }\n",
       "\n",
       "    .dataframe tbody tr th {\n",
       "        vertical-align: top;\n",
       "    }\n",
       "\n",
       "    .dataframe thead th {\n",
       "        text-align: right;\n",
       "    }\n",
       "</style>\n",
       "<table border=\"1\" class=\"dataframe\">\n",
       "  <thead>\n",
       "    <tr style=\"text-align: right;\">\n",
       "      <th></th>\n",
       "      <th>Review_Text</th>\n",
       "    </tr>\n",
       "  </thead>\n",
       "  <tbody>\n",
       "    <tr>\n",
       "      <th>9</th>\n",
       "      <td></td>\n",
       "    </tr>\n",
       "    <tr>\n",
       "      <th>11</th>\n",
       "      <td></td>\n",
       "    </tr>\n",
       "    <tr>\n",
       "      <th>14</th>\n",
       "      <td></td>\n",
       "    </tr>\n",
       "    <tr>\n",
       "      <th>15</th>\n",
       "      <td></td>\n",
       "    </tr>\n",
       "    <tr>\n",
       "      <th>17</th>\n",
       "      <td></td>\n",
       "    </tr>\n",
       "    <tr>\n",
       "      <th>...</th>\n",
       "      <td>...</td>\n",
       "    </tr>\n",
       "    <tr>\n",
       "      <th>2125</th>\n",
       "      <td></td>\n",
       "    </tr>\n",
       "    <tr>\n",
       "      <th>2126</th>\n",
       "      <td></td>\n",
       "    </tr>\n",
       "    <tr>\n",
       "      <th>2129</th>\n",
       "      <td></td>\n",
       "    </tr>\n",
       "    <tr>\n",
       "      <th>2132</th>\n",
       "      <td></td>\n",
       "    </tr>\n",
       "    <tr>\n",
       "      <th>2133</th>\n",
       "      <td></td>\n",
       "    </tr>\n",
       "  </tbody>\n",
       "</table>\n",
       "<p>604 rows × 1 columns</p>\n",
       "</div>"
      ],
      "text/plain": [
       "     Review_Text\n",
       "9               \n",
       "11              \n",
       "14              \n",
       "15              \n",
       "17              \n",
       "...          ...\n",
       "2125            \n",
       "2126            \n",
       "2129            \n",
       "2132            \n",
       "2133            \n",
       "\n",
       "[604 rows x 1 columns]"
      ]
     },
     "execution_count": 36,
     "metadata": {},
     "output_type": "execute_result"
    }
   ],
   "source": [
    "rvw_txt[rvw_txt['Review_Text']  == '']"
   ]
  },
  {
   "cell_type": "code",
   "execution_count": 13,
   "metadata": {
    "ExecuteTime": {
     "end_time": "2022-04-18T11:11:31.242703Z",
     "start_time": "2022-04-18T11:11:31.214447Z"
    }
   },
   "outputs": [],
   "source": [
    "df_2['Review_Text'] = review_txt2"
   ]
  },
  {
   "cell_type": "code",
   "execution_count": 18,
   "metadata": {
    "ExecuteTime": {
     "end_time": "2022-04-18T11:15:24.981021Z",
     "start_time": "2022-04-18T11:15:24.871169Z"
    }
   },
   "outputs": [],
   "source": [
    "rvw1 = pd.read_csv('rvw_txt1.csv')"
   ]
  },
  {
   "cell_type": "code",
   "execution_count": 23,
   "metadata": {
    "ExecuteTime": {
     "end_time": "2022-04-18T11:16:35.191690Z",
     "start_time": "2022-04-18T11:16:35.181277Z"
    }
   },
   "outputs": [],
   "source": [
    "df_1['Reviews'] =  rvw1"
   ]
  },
  {
   "cell_type": "code",
   "execution_count": 21,
   "metadata": {
    "ExecuteTime": {
     "end_time": "2022-04-19T03:16:18.568260Z",
     "start_time": "2022-04-19T03:16:18.513328Z"
    }
   },
   "outputs": [],
   "source": [
    "rvw10_2 = pd.read_csv('rvw_txt10_2.csv')"
   ]
  },
  {
   "cell_type": "code",
   "execution_count": 22,
   "metadata": {
    "ExecuteTime": {
     "end_time": "2022-04-19T03:16:46.582811Z",
     "start_time": "2022-04-19T03:16:46.521528Z"
    }
   },
   "outputs": [
    {
     "data": {
      "text/html": [
       "<div>\n",
       "<style scoped>\n",
       "    .dataframe tbody tr th:only-of-type {\n",
       "        vertical-align: middle;\n",
       "    }\n",
       "\n",
       "    .dataframe tbody tr th {\n",
       "        vertical-align: top;\n",
       "    }\n",
       "\n",
       "    .dataframe thead th {\n",
       "        text-align: right;\n",
       "    }\n",
       "</style>\n",
       "<table border=\"1\" class=\"dataframe\">\n",
       "  <thead>\n",
       "    <tr style=\"text-align: right;\">\n",
       "      <th></th>\n",
       "      <th>id</th>\n",
       "      <th>alias</th>\n",
       "      <th>name</th>\n",
       "      <th>image_url</th>\n",
       "      <th>is_closed</th>\n",
       "      <th>url</th>\n",
       "      <th>review_count</th>\n",
       "      <th>categories</th>\n",
       "      <th>rating</th>\n",
       "      <th>coordinates</th>\n",
       "      <th>transactions</th>\n",
       "      <th>price</th>\n",
       "      <th>location</th>\n",
       "      <th>phone</th>\n",
       "      <th>display_phone</th>\n",
       "      <th>Reviews</th>\n",
       "    </tr>\n",
       "  </thead>\n",
       "  <tbody>\n",
       "    <tr>\n",
       "      <th>1000</th>\n",
       "      <td>l4uvmfRL7xMFlcLo_FK4dw</td>\n",
       "      <td>pepe-rosso-to-go-new-york-2</td>\n",
       "      <td>Pepe Rosso To Go</td>\n",
       "      <td>NaN</td>\n",
       "      <td>True</td>\n",
       "      <td>https://www.yelp.com/biz/pepe-rosso-to-go-new-york-2</td>\n",
       "      <td>5</td>\n",
       "      <td>[{'alias': 'italian', 'title': 'Italian'}, {'alias': 'seafood', 'title': 'Seafood'}]</td>\n",
       "      <td>4.0</td>\n",
       "      <td>{'latitude': 40.763996, 'longitude': -73.986862}</td>\n",
       "      <td>[]</td>\n",
       "      <td>NaN</td>\n",
       "      <td>{'address1': '346 W 52nd St', 'address2': '', 'address3': '', 'city': 'New York', 'zip_code': '10019', 'country': 'US', 'state': 'NY', 'display_address': ['346 W 52nd St', 'New York, NY 10019']}</td>\n",
       "      <td>12126774555</td>\n",
       "      <td>(212) 677-4555</td>\n",
       "      <td>NaN</td>\n",
       "    </tr>\n",
       "    <tr>\n",
       "      <th>1001</th>\n",
       "      <td>1pbM_bWgGfTbzR8ou5vb2w</td>\n",
       "      <td>dallas-bbq-brooklyn</td>\n",
       "      <td>Dallas BBQ</td>\n",
       "      <td>https://s3-media0.fl.yelpcdn.com/bphoto/DYXVQ9ix_TdNuxH0BGDj9g/o.jpg</td>\n",
       "      <td>False</td>\n",
       "      <td>https://www.yelp.com/biz/dallas-bbq-brooklyn</td>\n",
       "      <td>416</td>\n",
       "      <td>[{'alias': 'bbq', 'title': 'Barbeque'}, {'alias': 'venues', 'title': 'Venues &amp; Event Spaces'}]</td>\n",
       "      <td>3.0</td>\n",
       "      <td>{'latitude': 40.690003956348185, 'longitude': -73.98709323203853}</td>\n",
       "      <td>['delivery', 'pickup']</td>\n",
       "      <td>$$</td>\n",
       "      <td>{'address1': '180 Livingston St', 'address2': '', 'address3': '', 'city': 'Brooklyn', 'zip_code': '11201', 'country': 'US', 'state': 'NY', 'display_address': ['180 Livingston St', 'Brooklyn, NY 11201']}</td>\n",
       "      <td>17186435700</td>\n",
       "      <td>(718) 643-5700</td>\n",
       "      <td>NaN</td>\n",
       "    </tr>\n",
       "    <tr>\n",
       "      <th>1002</th>\n",
       "      <td>4Eziz-iTjfj_pgxTo-StrQ</td>\n",
       "      <td>bamboo-sushi-new-york-5</td>\n",
       "      <td>Bamboo Sushi</td>\n",
       "      <td>https://s3-media0.fl.yelpcdn.com/bphoto/SUGzmuvtR9pZ8V0Qlaqmsg/o.jpg</td>\n",
       "      <td>False</td>\n",
       "      <td>https://www.yelp.com/biz/bamboo-sushi-new-york-5</td>\n",
       "      <td>138</td>\n",
       "      <td>[{'alias': 'japanese', 'title': 'Japanese'}, {'alias': 'sushi', 'title': 'Sushi Bars'}]</td>\n",
       "      <td>3.5</td>\n",
       "      <td>{'latitude': 40.7656397370609, 'longitude': -73.9573489797623}</td>\n",
       "      <td>['delivery', 'pickup']</td>\n",
       "      <td>$$</td>\n",
       "      <td>{'address1': '1280 1st Ave', 'address2': '', 'address3': '', 'city': 'New York', 'zip_code': '10065', 'country': 'US', 'state': 'NY', 'display_address': ['1280 1st Ave', 'New York, NY 10065']}</td>\n",
       "      <td>12123961919</td>\n",
       "      <td>(212) 396-1919</td>\n",
       "      <td>NaN</td>\n",
       "    </tr>\n",
       "    <tr>\n",
       "      <th>1003</th>\n",
       "      <td>hWjWMY5HtHg1SS7kNAdOHw</td>\n",
       "      <td>stumptown-coffee-roasters-brooklyn-3</td>\n",
       "      <td>Stumptown Coffee Roasters</td>\n",
       "      <td>https://s3-media0.fl.yelpcdn.com/bphoto/prNm8znCx1Q7Rdp2csi1og/o.jpg</td>\n",
       "      <td>False</td>\n",
       "      <td>https://www.yelp.com/biz/stumptown-coffee-roasters-brooklyn-3</td>\n",
       "      <td>59</td>\n",
       "      <td>[{'alias': 'coffeeroasteries', 'title': 'Coffee Roasteries'}]</td>\n",
       "      <td>4.0</td>\n",
       "      <td>{'latitude': 40.68888, 'longitude': -73.99214}</td>\n",
       "      <td>['delivery']</td>\n",
       "      <td>$$$</td>\n",
       "      <td>{'address1': '212B Pacific St', 'address2': '', 'address3': None, 'city': 'Brooklyn', 'zip_code': '11201', 'country': 'US', 'state': 'NY', 'display_address': ['212B Pacific St', 'Brooklyn, NY 11201']}</td>\n",
       "      <td>13474166741</td>\n",
       "      <td>(347) 416-6741</td>\n",
       "      <td>NaN</td>\n",
       "    </tr>\n",
       "    <tr>\n",
       "      <th>1004</th>\n",
       "      <td>AhWaMg_vGkCkTZIxO_fL7Q</td>\n",
       "      <td>chef-king-bronx</td>\n",
       "      <td>Chef King</td>\n",
       "      <td>https://s3-media0.fl.yelpcdn.com/bphoto/c1iplXOX0J58dwBLw6Vi5w/o.jpg</td>\n",
       "      <td>False</td>\n",
       "      <td>https://www.yelp.com/biz/chef-king-bronx</td>\n",
       "      <td>5</td>\n",
       "      <td>[{'alias': 'restaurants', 'title': 'Restaurants'}]</td>\n",
       "      <td>2.0</td>\n",
       "      <td>{'latitude': 40.865715, 'longitude': -73.856628}</td>\n",
       "      <td>['pickup', 'delivery']</td>\n",
       "      <td>NaN</td>\n",
       "      <td>{'address1': '1075 Allerton Ave', 'address2': '', 'address3': '', 'city': 'Bronx', 'zip_code': '10469', 'country': 'US', 'state': 'NY', 'display_address': ['1075 Allerton Ave', 'Bronx, NY 10469']}</td>\n",
       "      <td>17185191119</td>\n",
       "      <td>(718) 519-1119</td>\n",
       "      <td>NaN</td>\n",
       "    </tr>\n",
       "    <tr>\n",
       "      <th>...</th>\n",
       "      <td>...</td>\n",
       "      <td>...</td>\n",
       "      <td>...</td>\n",
       "      <td>...</td>\n",
       "      <td>...</td>\n",
       "      <td>...</td>\n",
       "      <td>...</td>\n",
       "      <td>...</td>\n",
       "      <td>...</td>\n",
       "      <td>...</td>\n",
       "      <td>...</td>\n",
       "      <td>...</td>\n",
       "      <td>...</td>\n",
       "      <td>...</td>\n",
       "      <td>...</td>\n",
       "      <td>...</td>\n",
       "    </tr>\n",
       "    <tr>\n",
       "      <th>2166</th>\n",
       "      <td>l2AYFhojzCSiqeZ4YG5iyQ</td>\n",
       "      <td>subway-brooklyn-153</td>\n",
       "      <td>Subway</td>\n",
       "      <td>https://s3-media0.fl.yelpcdn.com/bphoto/4I8jRpOiSlJfv5h3fS1nhw/o.jpg</td>\n",
       "      <td>False</td>\n",
       "      <td>https://www.yelp.com/biz/subway-brooklyn-153</td>\n",
       "      <td>10</td>\n",
       "      <td>[{'alias': 'sandwiches', 'title': 'Sandwiches'}]</td>\n",
       "      <td>3.0</td>\n",
       "      <td>{'latitude': 40.7035375, 'longitude': -73.9183278057669}</td>\n",
       "      <td>['delivery', 'pickup']</td>\n",
       "      <td>$</td>\n",
       "      <td>{'address1': '120 Wyckoff Ave', 'address2': None, 'address3': None, 'city': 'Brooklyn', 'zip_code': '11237', 'country': 'US', 'state': 'NY', 'display_address': ['120 Wyckoff Ave', 'Brooklyn, NY 11237']}</td>\n",
       "      <td>17188212995</td>\n",
       "      <td>(718) 821-2995</td>\n",
       "      <td>NaN</td>\n",
       "    </tr>\n",
       "    <tr>\n",
       "      <th>2167</th>\n",
       "      <td>nkT08Tewf6TLaysiuiF8Ow</td>\n",
       "      <td>pig-n-whistle-new-york-11</td>\n",
       "      <td>Pig n Whistle</td>\n",
       "      <td>https://s3-media0.fl.yelpcdn.com/bphoto/dFo62aYLufYcNtc5FRjW_A/o.jpg</td>\n",
       "      <td>False</td>\n",
       "      <td>https://www.yelp.com/biz/pig-n-whistle-new-york-11</td>\n",
       "      <td>210</td>\n",
       "      <td>[{'alias': 'pubs', 'title': 'Pubs'}, {'alias': 'newamerican', 'title': 'American (New)'}, {'alias': 'sportsbars', 'title': 'Sports Bars'}]</td>\n",
       "      <td>3.5</td>\n",
       "      <td>{'latitude': 40.7523995, 'longitude': -73.9901114}</td>\n",
       "      <td>['delivery']</td>\n",
       "      <td>$$</td>\n",
       "      <td>{'address1': '202 W 36th St', 'address2': '', 'address3': '', 'city': 'New York', 'zip_code': '10018', 'country': 'US', 'state': 'NY', 'display_address': ['202 W 36th St', 'New York, NY 10018']}</td>\n",
       "      <td>12122394820</td>\n",
       "      <td>(212) 239-4820</td>\n",
       "      <td>NaN</td>\n",
       "    </tr>\n",
       "    <tr>\n",
       "      <th>2168</th>\n",
       "      <td>_bnpewXqoina6HSALmvSxQ</td>\n",
       "      <td>basil-cucina-and-catering-staten-island</td>\n",
       "      <td>Basil Cucina &amp; Catering</td>\n",
       "      <td>https://s3-media0.fl.yelpcdn.com/bphoto/_z0Ywn9qPmfYr5gQAOuqIA/o.jpg</td>\n",
       "      <td>False</td>\n",
       "      <td>https://www.yelp.com/biz/basil-cucina-and-catering-staten-island</td>\n",
       "      <td>107</td>\n",
       "      <td>[{'alias': 'italian', 'title': 'Italian'}, {'alias': 'sandwiches', 'title': 'Sandwiches'}, {'alias': 'salad', 'title': 'Salad'}]</td>\n",
       "      <td>4.0</td>\n",
       "      <td>{'latitude': 40.6247, 'longitude': -74.1448}</td>\n",
       "      <td>['pickup', 'delivery']</td>\n",
       "      <td>$$</td>\n",
       "      <td>{'address1': '1686 Forest Ave', 'address2': '', 'address3': None, 'city': 'Staten Island', 'zip_code': '10302', 'country': 'US', 'state': 'NY', 'display_address': ['1686 Forest Ave', 'Staten Island, NY 10302']}</td>\n",
       "      <td>17184481087</td>\n",
       "      <td>(718) 448-1087</td>\n",
       "      <td>NaN</td>\n",
       "    </tr>\n",
       "    <tr>\n",
       "      <th>2169</th>\n",
       "      <td>_AU96YHJM_CgFfw_QzpvAQ</td>\n",
       "      <td>akrotiri-seafood-taverna-astoria</td>\n",
       "      <td>Akrotiri Seafood Taverna</td>\n",
       "      <td>https://s3-media0.fl.yelpcdn.com/bphoto/xrHvu5C7mHBNlDvgB4le3w/o.jpg</td>\n",
       "      <td>True</td>\n",
       "      <td>https://www.yelp.com/biz/akrotiri-seafood-taverna-astoria</td>\n",
       "      <td>173</td>\n",
       "      <td>[{'alias': 'greek', 'title': 'Greek'}, {'alias': 'wine_bars', 'title': 'Wine Bars'}, {'alias': 'seafood', 'title': 'Seafood'}]</td>\n",
       "      <td>4.0</td>\n",
       "      <td>{'latitude': 40.76748178184, 'longitude': -73.9227594697491}</td>\n",
       "      <td>['pickup', 'delivery']</td>\n",
       "      <td>$$$</td>\n",
       "      <td>{'address1': '29-20 30th Ave', 'address2': '', 'address3': None, 'city': 'Astoria', 'zip_code': '11102', 'country': 'US', 'state': 'NY', 'display_address': ['29-20 30th Ave', 'Astoria, NY 11102']}</td>\n",
       "      <td>17187262447</td>\n",
       "      <td>(718) 726-2447</td>\n",
       "      <td>NaN</td>\n",
       "    </tr>\n",
       "    <tr>\n",
       "      <th>2170</th>\n",
       "      <td>YJkEEz6l62aAvEqBHm872g</td>\n",
       "      <td>plaza-lounge-astoria</td>\n",
       "      <td>Plaza Lounge</td>\n",
       "      <td>https://s3-media0.fl.yelpcdn.com/bphoto/QbQ58Vyi36FPxM6n_ZwhUg/o.jpg</td>\n",
       "      <td>True</td>\n",
       "      <td>https://www.yelp.com/biz/plaza-lounge-astoria</td>\n",
       "      <td>111</td>\n",
       "      <td>[{'alias': 'greek', 'title': 'Greek'}, {'alias': 'newamerican', 'title': 'American (New)'}, {'alias': 'breakfast_brunch', 'title': 'Breakfast &amp; Brunch'}]</td>\n",
       "      <td>3.5</td>\n",
       "      <td>{'latitude': 40.7675356, 'longitude': -73.9227888}</td>\n",
       "      <td>['pickup', 'delivery']</td>\n",
       "      <td>$$</td>\n",
       "      <td>{'address1': '29-20 30th Ave', 'address2': '', 'address3': '', 'city': 'Astoria', 'zip_code': '11102', 'country': 'US', 'state': 'NY', 'display_address': ['29-20 30th Ave', 'Astoria, NY 11102']}</td>\n",
       "      <td>17187262447</td>\n",
       "      <td>(718) 726-2447</td>\n",
       "      <td>NaN</td>\n",
       "    </tr>\n",
       "  </tbody>\n",
       "</table>\n",
       "<p>1171 rows × 16 columns</p>\n",
       "</div>"
      ],
      "text/plain": [
       "                          id                                    alias  \\\n",
       "1000  l4uvmfRL7xMFlcLo_FK4dw              pepe-rosso-to-go-new-york-2   \n",
       "1001  1pbM_bWgGfTbzR8ou5vb2w                      dallas-bbq-brooklyn   \n",
       "1002  4Eziz-iTjfj_pgxTo-StrQ                  bamboo-sushi-new-york-5   \n",
       "1003  hWjWMY5HtHg1SS7kNAdOHw     stumptown-coffee-roasters-brooklyn-3   \n",
       "1004  AhWaMg_vGkCkTZIxO_fL7Q                          chef-king-bronx   \n",
       "...                      ...                                      ...   \n",
       "2166  l2AYFhojzCSiqeZ4YG5iyQ                      subway-brooklyn-153   \n",
       "2167  nkT08Tewf6TLaysiuiF8Ow                pig-n-whistle-new-york-11   \n",
       "2168  _bnpewXqoina6HSALmvSxQ  basil-cucina-and-catering-staten-island   \n",
       "2169  _AU96YHJM_CgFfw_QzpvAQ         akrotiri-seafood-taverna-astoria   \n",
       "2170  YJkEEz6l62aAvEqBHm872g                     plaza-lounge-astoria   \n",
       "\n",
       "                           name  \\\n",
       "1000           Pepe Rosso To Go   \n",
       "1001                 Dallas BBQ   \n",
       "1002               Bamboo Sushi   \n",
       "1003  Stumptown Coffee Roasters   \n",
       "1004                  Chef King   \n",
       "...                         ...   \n",
       "2166                     Subway   \n",
       "2167              Pig n Whistle   \n",
       "2168    Basil Cucina & Catering   \n",
       "2169   Akrotiri Seafood Taverna   \n",
       "2170               Plaza Lounge   \n",
       "\n",
       "                                                                 image_url  \\\n",
       "1000                                                                   NaN   \n",
       "1001  https://s3-media0.fl.yelpcdn.com/bphoto/DYXVQ9ix_TdNuxH0BGDj9g/o.jpg   \n",
       "1002  https://s3-media0.fl.yelpcdn.com/bphoto/SUGzmuvtR9pZ8V0Qlaqmsg/o.jpg   \n",
       "1003  https://s3-media0.fl.yelpcdn.com/bphoto/prNm8znCx1Q7Rdp2csi1og/o.jpg   \n",
       "1004  https://s3-media0.fl.yelpcdn.com/bphoto/c1iplXOX0J58dwBLw6Vi5w/o.jpg   \n",
       "...                                                                    ...   \n",
       "2166  https://s3-media0.fl.yelpcdn.com/bphoto/4I8jRpOiSlJfv5h3fS1nhw/o.jpg   \n",
       "2167  https://s3-media0.fl.yelpcdn.com/bphoto/dFo62aYLufYcNtc5FRjW_A/o.jpg   \n",
       "2168  https://s3-media0.fl.yelpcdn.com/bphoto/_z0Ywn9qPmfYr5gQAOuqIA/o.jpg   \n",
       "2169  https://s3-media0.fl.yelpcdn.com/bphoto/xrHvu5C7mHBNlDvgB4le3w/o.jpg   \n",
       "2170  https://s3-media0.fl.yelpcdn.com/bphoto/QbQ58Vyi36FPxM6n_ZwhUg/o.jpg   \n",
       "\n",
       "      is_closed  \\\n",
       "1000       True   \n",
       "1001      False   \n",
       "1002      False   \n",
       "1003      False   \n",
       "1004      False   \n",
       "...         ...   \n",
       "2166      False   \n",
       "2167      False   \n",
       "2168      False   \n",
       "2169       True   \n",
       "2170       True   \n",
       "\n",
       "                                                                   url  \\\n",
       "1000              https://www.yelp.com/biz/pepe-rosso-to-go-new-york-2   \n",
       "1001                      https://www.yelp.com/biz/dallas-bbq-brooklyn   \n",
       "1002                  https://www.yelp.com/biz/bamboo-sushi-new-york-5   \n",
       "1003     https://www.yelp.com/biz/stumptown-coffee-roasters-brooklyn-3   \n",
       "1004                          https://www.yelp.com/biz/chef-king-bronx   \n",
       "...                                                                ...   \n",
       "2166                      https://www.yelp.com/biz/subway-brooklyn-153   \n",
       "2167                https://www.yelp.com/biz/pig-n-whistle-new-york-11   \n",
       "2168  https://www.yelp.com/biz/basil-cucina-and-catering-staten-island   \n",
       "2169         https://www.yelp.com/biz/akrotiri-seafood-taverna-astoria   \n",
       "2170                     https://www.yelp.com/biz/plaza-lounge-astoria   \n",
       "\n",
       "      review_count  \\\n",
       "1000             5   \n",
       "1001           416   \n",
       "1002           138   \n",
       "1003            59   \n",
       "1004             5   \n",
       "...            ...   \n",
       "2166            10   \n",
       "2167           210   \n",
       "2168           107   \n",
       "2169           173   \n",
       "2170           111   \n",
       "\n",
       "                                                                                                                                                     categories  \\\n",
       "1000                                                                       [{'alias': 'italian', 'title': 'Italian'}, {'alias': 'seafood', 'title': 'Seafood'}]   \n",
       "1001                                                             [{'alias': 'bbq', 'title': 'Barbeque'}, {'alias': 'venues', 'title': 'Venues & Event Spaces'}]   \n",
       "1002                                                                    [{'alias': 'japanese', 'title': 'Japanese'}, {'alias': 'sushi', 'title': 'Sushi Bars'}]   \n",
       "1003                                                                                              [{'alias': 'coffeeroasteries', 'title': 'Coffee Roasteries'}]   \n",
       "1004                                                                                                         [{'alias': 'restaurants', 'title': 'Restaurants'}]   \n",
       "...                                                                                                                                                         ...   \n",
       "2166                                                                                                           [{'alias': 'sandwiches', 'title': 'Sandwiches'}]   \n",
       "2167                 [{'alias': 'pubs', 'title': 'Pubs'}, {'alias': 'newamerican', 'title': 'American (New)'}, {'alias': 'sportsbars', 'title': 'Sports Bars'}]   \n",
       "2168                           [{'alias': 'italian', 'title': 'Italian'}, {'alias': 'sandwiches', 'title': 'Sandwiches'}, {'alias': 'salad', 'title': 'Salad'}]   \n",
       "2169                             [{'alias': 'greek', 'title': 'Greek'}, {'alias': 'wine_bars', 'title': 'Wine Bars'}, {'alias': 'seafood', 'title': 'Seafood'}]   \n",
       "2170  [{'alias': 'greek', 'title': 'Greek'}, {'alias': 'newamerican', 'title': 'American (New)'}, {'alias': 'breakfast_brunch', 'title': 'Breakfast & Brunch'}]   \n",
       "\n",
       "      rating  \\\n",
       "1000     4.0   \n",
       "1001     3.0   \n",
       "1002     3.5   \n",
       "1003     4.0   \n",
       "1004     2.0   \n",
       "...      ...   \n",
       "2166     3.0   \n",
       "2167     3.5   \n",
       "2168     4.0   \n",
       "2169     4.0   \n",
       "2170     3.5   \n",
       "\n",
       "                                                            coordinates  \\\n",
       "1000                   {'latitude': 40.763996, 'longitude': -73.986862}   \n",
       "1001  {'latitude': 40.690003956348185, 'longitude': -73.98709323203853}   \n",
       "1002     {'latitude': 40.7656397370609, 'longitude': -73.9573489797623}   \n",
       "1003                     {'latitude': 40.68888, 'longitude': -73.99214}   \n",
       "1004                   {'latitude': 40.865715, 'longitude': -73.856628}   \n",
       "...                                                                 ...   \n",
       "2166           {'latitude': 40.7035375, 'longitude': -73.9183278057669}   \n",
       "2167                 {'latitude': 40.7523995, 'longitude': -73.9901114}   \n",
       "2168                       {'latitude': 40.6247, 'longitude': -74.1448}   \n",
       "2169       {'latitude': 40.76748178184, 'longitude': -73.9227594697491}   \n",
       "2170                 {'latitude': 40.7675356, 'longitude': -73.9227888}   \n",
       "\n",
       "                transactions price  \\\n",
       "1000                      []   NaN   \n",
       "1001  ['delivery', 'pickup']    $$   \n",
       "1002  ['delivery', 'pickup']    $$   \n",
       "1003            ['delivery']   $$$   \n",
       "1004  ['pickup', 'delivery']   NaN   \n",
       "...                      ...   ...   \n",
       "2166  ['delivery', 'pickup']     $   \n",
       "2167            ['delivery']    $$   \n",
       "2168  ['pickup', 'delivery']    $$   \n",
       "2169  ['pickup', 'delivery']   $$$   \n",
       "2170  ['pickup', 'delivery']    $$   \n",
       "\n",
       "                                                                                                                                                                                                                location  \\\n",
       "1000                  {'address1': '346 W 52nd St', 'address2': '', 'address3': '', 'city': 'New York', 'zip_code': '10019', 'country': 'US', 'state': 'NY', 'display_address': ['346 W 52nd St', 'New York, NY 10019']}   \n",
       "1001          {'address1': '180 Livingston St', 'address2': '', 'address3': '', 'city': 'Brooklyn', 'zip_code': '11201', 'country': 'US', 'state': 'NY', 'display_address': ['180 Livingston St', 'Brooklyn, NY 11201']}   \n",
       "1002                    {'address1': '1280 1st Ave', 'address2': '', 'address3': '', 'city': 'New York', 'zip_code': '10065', 'country': 'US', 'state': 'NY', 'display_address': ['1280 1st Ave', 'New York, NY 10065']}   \n",
       "1003            {'address1': '212B Pacific St', 'address2': '', 'address3': None, 'city': 'Brooklyn', 'zip_code': '11201', 'country': 'US', 'state': 'NY', 'display_address': ['212B Pacific St', 'Brooklyn, NY 11201']}   \n",
       "1004                {'address1': '1075 Allerton Ave', 'address2': '', 'address3': '', 'city': 'Bronx', 'zip_code': '10469', 'country': 'US', 'state': 'NY', 'display_address': ['1075 Allerton Ave', 'Bronx, NY 10469']}   \n",
       "...                                                                                                                                                                                                                  ...   \n",
       "2166          {'address1': '120 Wyckoff Ave', 'address2': None, 'address3': None, 'city': 'Brooklyn', 'zip_code': '11237', 'country': 'US', 'state': 'NY', 'display_address': ['120 Wyckoff Ave', 'Brooklyn, NY 11237']}   \n",
       "2167                  {'address1': '202 W 36th St', 'address2': '', 'address3': '', 'city': 'New York', 'zip_code': '10018', 'country': 'US', 'state': 'NY', 'display_address': ['202 W 36th St', 'New York, NY 10018']}   \n",
       "2168  {'address1': '1686 Forest Ave', 'address2': '', 'address3': None, 'city': 'Staten Island', 'zip_code': '10302', 'country': 'US', 'state': 'NY', 'display_address': ['1686 Forest Ave', 'Staten Island, NY 10302']}   \n",
       "2169                {'address1': '29-20 30th Ave', 'address2': '', 'address3': None, 'city': 'Astoria', 'zip_code': '11102', 'country': 'US', 'state': 'NY', 'display_address': ['29-20 30th Ave', 'Astoria, NY 11102']}   \n",
       "2170                  {'address1': '29-20 30th Ave', 'address2': '', 'address3': '', 'city': 'Astoria', 'zip_code': '11102', 'country': 'US', 'state': 'NY', 'display_address': ['29-20 30th Ave', 'Astoria, NY 11102']}   \n",
       "\n",
       "            phone   display_phone Reviews  \n",
       "1000  12126774555  (212) 677-4555     NaN  \n",
       "1001  17186435700  (718) 643-5700     NaN  \n",
       "1002  12123961919  (212) 396-1919     NaN  \n",
       "1003  13474166741  (347) 416-6741     NaN  \n",
       "1004  17185191119  (718) 519-1119     NaN  \n",
       "...           ...             ...     ...  \n",
       "2166  17188212995  (718) 821-2995     NaN  \n",
       "2167  12122394820  (212) 239-4820     NaN  \n",
       "2168  17184481087  (718) 448-1087     NaN  \n",
       "2169  17187262447  (718) 726-2447     NaN  \n",
       "2170  17187262447  (718) 726-2447     NaN  \n",
       "\n",
       "[1171 rows x 16 columns]"
      ]
     },
     "execution_count": 22,
     "metadata": {},
     "output_type": "execute_result"
    }
   ],
   "source": [
    "df_10_2['Reviews'] = rvw10_2\n",
    "df_10_2"
   ]
  },
  {
   "cell_type": "code",
   "execution_count": 23,
   "metadata": {
    "ExecuteTime": {
     "end_time": "2022-04-19T03:17:29.119268Z",
     "start_time": "2022-04-19T03:17:29.103333Z"
    }
   },
   "outputs": [
    {
     "data": {
      "text/plain": [
       "1044"
      ]
     },
     "execution_count": 23,
     "metadata": {},
     "output_type": "execute_result"
    }
   ],
   "source": [
    "df_10_2['Reviews'].isna().sum()"
   ]
  },
  {
   "cell_type": "code",
   "execution_count": null,
   "metadata": {
    "ExecuteTime": {
     "end_time": "2022-04-06T21:10:42.746234Z",
     "start_time": "2022-04-06T21:10:42.728669Z"
    }
   },
   "outputs": [],
   "source": [
    "# def prepare_data(data_list):\n",
    "#     \"\"\"\n",
    "#     This function takes in a list of dictionaries and prepares it\n",
    "#     for analysis\n",
    "#     \"\"\"\n",
    "    \n",
    "#     # Make a new list to hold results\n",
    "#     results = []\n",
    "    \n",
    "#     for business_data in data_list:\n",
    "    \n",
    "#         # Make a new dictionary to hold prepared data for this business\n",
    "#         prepared_data = {}\n",
    "        \n",
    "#         # Extract name, review_count, rating, and price key-value pairs\n",
    "#         # from business_data and add to prepared_data\n",
    "#         # If a key is not present in business_data, add it to prepared_data\n",
    "#         # with an associated value of None\n",
    "#         for key in (\"name\", \"review_count\", \"rating\", \"price\"):\n",
    "#             prepared_data[key] = business_data.get(key, None)\n",
    "    \n",
    "#         # Parse and add latitude and longitude columns\n",
    "#         coordinates = business_data[\"coordinates\"]\n",
    "#         prepared_data[\"latitude\"] = coordinates[\"latitude\"]\n",
    "#         prepared_data[\"longitude\"] = coordinates[\"longitude\"]\n",
    "        \n",
    "#         # Add to list if all values are present\n",
    "#         if all(prepared_data.values()):\n",
    "#             results.append(prepared_data)\n",
    "    \n",
    "#     return results\n",
    "    \n",
    "# # Test out function\n",
    "# prepared_businesses = prepare_data(businesses)\n",
    "# prepared_businesses[:5]"
   ]
  },
  {
   "cell_type": "code",
   "execution_count": null,
   "metadata": {
    "ExecuteTime": {
     "end_time": "2022-03-23T01:52:48.820508Z",
     "start_time": "2022-03-23T01:52:48.809218Z"
    }
   },
   "outputs": [],
   "source": [
    "# lat = []\n",
    "# long = []\n",
    "\n",
    "# for _,business in yelp_df.iterrows():\n",
    "#     lat.append(business['coordinates']['latitude'])\n",
    "#     long.append(business['coordinates']['longitude'])\n",
    "\n",
    "# yelp_df['lat'] = lat\n",
    "# yelp_df['long'] = long"
   ]
  },
  {
   "cell_type": "markdown",
   "metadata": {},
   "source": [
    "## Getting Yelp Reviews"
   ]
  },
  {
   "cell_type": "code",
   "execution_count": 74,
   "metadata": {
    "ExecuteTime": {
     "end_time": "2022-04-16T17:22:24.996907Z",
     "start_time": "2022-04-16T17:22:24.990683Z"
    }
   },
   "outputs": [],
   "source": [
    "yelp_ids = list(yelp_businesses_df['id'])"
   ]
  },
  {
   "cell_type": "code",
   "execution_count": 82,
   "metadata": {
    "ExecuteTime": {
     "end_time": "2022-04-16T17:38:19.508517Z",
     "start_time": "2022-04-16T17:38:19.503966Z"
    }
   },
   "outputs": [],
   "source": [
    " yelp_ids1 = yelp_ids[0:2]"
   ]
  },
  {
   "cell_type": "code",
   "execution_count": 83,
   "metadata": {
    "ExecuteTime": {
     "end_time": "2022-04-16T17:38:20.027170Z",
     "start_time": "2022-04-16T17:38:20.015130Z"
    }
   },
   "outputs": [
    {
     "data": {
      "text/plain": [
       "['fEsgUESZxOQtd4YEmAUuow', 'zm_ngfMxyU6d85AaTIgI7Q']"
      ]
     },
     "execution_count": 83,
     "metadata": {},
     "output_type": "execute_result"
    }
   ],
   "source": [
    "yelp_ids1"
   ]
  },
  {
   "cell_type": "code",
   "execution_count": 84,
   "metadata": {
    "ExecuteTime": {
     "end_time": "2022-04-16T17:38:23.035631Z",
     "start_time": "2022-04-16T17:38:22.612783Z"
    }
   },
   "outputs": [
    {
     "data": {
      "text/html": [
       "<div>\n",
       "<style scoped>\n",
       "    .dataframe tbody tr th:only-of-type {\n",
       "        vertical-align: middle;\n",
       "    }\n",
       "\n",
       "    .dataframe tbody tr th {\n",
       "        vertical-align: top;\n",
       "    }\n",
       "\n",
       "    .dataframe thead th {\n",
       "        text-align: right;\n",
       "    }\n",
       "</style>\n",
       "<table border=\"1\" class=\"dataframe\">\n",
       "  <thead>\n",
       "    <tr style=\"text-align: right;\">\n",
       "      <th></th>\n",
       "      <th>yelp_id</th>\n",
       "      <th>review_text</th>\n",
       "    </tr>\n",
       "  </thead>\n",
       "  <tbody>\n",
       "    <tr>\n",
       "      <th>0</th>\n",
       "      <td>zm_ngfMxyU6d85AaTIgI7Q</td>\n",
       "      <td>Met my bestie for a warm beverage yesterday and we ended up here at Caffe Latte. Immediately upon entering, the lady working there let us know that the...</td>\n",
       "    </tr>\n",
       "    <tr>\n",
       "      <th>1</th>\n",
       "      <td>zm_ngfMxyU6d85AaTIgI7Q</td>\n",
       "      <td>Walked in to check out their menu. Person working there didn't acknowledge me. I guess the dishes were more important than my patronage. Place was empty so...</td>\n",
       "    </tr>\n",
       "    <tr>\n",
       "      <th>2</th>\n",
       "      <td>zm_ngfMxyU6d85AaTIgI7Q</td>\n",
       "      <td>I've been to this location twice and each time the service , the food and the atmosphere has CHANGED MY LIFE. I had the black Ink ravioli and my long time...</td>\n",
       "    </tr>\n",
       "    <tr>\n",
       "      <th>3</th>\n",
       "      <td>zm_ngfMxyU6d85AaTIgI7Q</td>\n",
       "      <td>- good griot\\n- nice pairing with the waffle\\n- not much traditional american breakfast\\n- DJ turned up at 3:30 on a sunday\\n- the champagne tasted cheap\\n- the...</td>\n",
       "    </tr>\n",
       "    <tr>\n",
       "      <th>4</th>\n",
       "      <td>zm_ngfMxyU6d85AaTIgI7Q</td>\n",
       "      <td>I ordered  griot and rice on 3/1/22. When I reached home, I was disappointed with the amount of griot I received in a small tin container. I spent $20 plus...</td>\n",
       "    </tr>\n",
       "    <tr>\n",
       "      <th>5</th>\n",
       "      <td>zm_ngfMxyU6d85AaTIgI7Q</td>\n",
       "      <td>My business partner and I, attempted to have dinner at this establishment. The hostess greeted us and ask if we preferred to be seated at the front or the...</td>\n",
       "    </tr>\n",
       "  </tbody>\n",
       "</table>\n",
       "</div>"
      ],
      "text/plain": [
       "                  yelp_id  \\\n",
       "0  zm_ngfMxyU6d85AaTIgI7Q   \n",
       "1  zm_ngfMxyU6d85AaTIgI7Q   \n",
       "2  zm_ngfMxyU6d85AaTIgI7Q   \n",
       "3  zm_ngfMxyU6d85AaTIgI7Q   \n",
       "4  zm_ngfMxyU6d85AaTIgI7Q   \n",
       "5  zm_ngfMxyU6d85AaTIgI7Q   \n",
       "\n",
       "                                                                                                                                                           review_text  \n",
       "0           Met my bestie for a warm beverage yesterday and we ended up here at Caffe Latte. Immediately upon entering, the lady working there let us know that the...  \n",
       "1       Walked in to check out their menu. Person working there didn't acknowledge me. I guess the dishes were more important than my patronage. Place was empty so...  \n",
       "2        I've been to this location twice and each time the service , the food and the atmosphere has CHANGED MY LIFE. I had the black Ink ravioli and my long time...  \n",
       "3  - good griot\\n- nice pairing with the waffle\\n- not much traditional american breakfast\\n- DJ turned up at 3:30 on a sunday\\n- the champagne tasted cheap\\n- the...  \n",
       "4       I ordered  griot and rice on 3/1/22. When I reached home, I was disappointed with the amount of griot I received in a small tin container. I spent $20 plus...  \n",
       "5        My business partner and I, attempted to have dinner at this establishment. The hostess greeted us and ask if we preferred to be seated at the front or the...  "
      ]
     },
     "execution_count": 84,
     "metadata": {},
     "output_type": "execute_result"
    }
   ],
   "source": [
    "review_corp = []\n",
    "\n",
    "for business in  yelp_ids1:\n",
    "    yelp_id = business\n",
    "    url = f'https://api.yelp.com/v3/businesses/{yelp_id}/reviews'\n",
    "    headers = {'Authorization': 'Bearer ' + creds['api_key']}\n",
    "    response = requests.get(url, headers=headers)\n",
    "    response_json = response.json()\n",
    "    response_json\n",
    "    \n",
    "    for review in response_json.get('reviews'):\n",
    "        review_corp.append(review['text'])\n",
    "        \n",
    "    dict_test = {'yelp_id' : yelp_id, 'review_text' : review_corp}\n",
    "\n",
    "    df_test = pd.DataFrame(dict_test)\n",
    "    \n",
    "df_test"
   ]
  },
  {
   "cell_type": "code",
   "execution_count": 118,
   "metadata": {
    "ExecuteTime": {
     "end_time": "2022-04-17T07:16:22.703797Z",
     "start_time": "2022-04-17T07:16:22.695925Z"
    }
   },
   "outputs": [
    {
     "data": {
      "text/plain": [
       "['Met my bestie for a warm beverage yesterday and we ended up here at Caffe Latte. Immediately upon entering, the lady working there let us know that the...',\n",
       " \"Walked in to check out their menu. Person working there didn't acknowledge me. I guess the dishes were more important than my patronage. Place was empty so...\",\n",
       " \"I've been to this location twice and each time the service , the food and the atmosphere has CHANGED MY LIFE. I had the black Ink ravioli and my long time...\",\n",
       " '- good griot\\n- nice pairing with the waffle\\n- not much traditional american breakfast\\n- DJ turned up at 3:30 on a sunday\\n- the champagne tasted cheap\\n- the...',\n",
       " 'I ordered  griot and rice on 3/1/22. When I reached home, I was disappointed with the amount of griot I received in a small tin container. I spent $20 plus...',\n",
       " 'My business partner and I, attempted to have dinner at this establishment. The hostess greeted us and ask if we preferred to be seated at the front or the...']"
      ]
     },
     "execution_count": 118,
     "metadata": {},
     "output_type": "execute_result"
    }
   ],
   "source": [
    "review_corp"
   ]
  },
  {
   "cell_type": "code",
   "execution_count": 119,
   "metadata": {
    "ExecuteTime": {
     "end_time": "2022-04-17T16:05:35.052610Z",
     "start_time": "2022-04-17T16:05:35.026084Z"
    }
   },
   "outputs": [
    {
     "name": "stdout",
     "output_type": "stream",
     "text": [
      "154\n",
      "158\n",
      "157\n",
      "158\n",
      "158\n",
      "157\n"
     ]
    }
   ],
   "source": [
    "for review in review_corp:\n",
    "    print(len(review))"
   ]
  },
  {
   "cell_type": "code",
   "execution_count": 365,
   "metadata": {
    "ExecuteTime": {
     "end_time": "2022-04-15T02:12:08.605749Z",
     "start_time": "2022-04-15T02:12:08.247867Z"
    }
   },
   "outputs": [
    {
     "data": {
      "text/plain": [
       "{'reviews': [{'id': '3hXVb3qfwkpNYoVs3_9_QA',\n",
       "   'url': 'https://www.yelp.com/biz/ii-caffe-latte-2-new-york-4?adjust_creative=82uXkAt1Tiw7u9_h33zr1A&hrid=3hXVb3qfwkpNYoVs3_9_QA&utm_campaign=yelp_api_v3&utm_medium=api_v3_business_reviews&utm_source=82uXkAt1Tiw7u9_h33zr1A',\n",
       "   'text': 'Met my bestie for a warm beverage yesterday and we ended up here at Caffe Latte. Immediately upon entering, the lady working there let us know that the...',\n",
       "   'rating': 5,\n",
       "   'time_created': '2020-03-15 06:15:11',\n",
       "   'user': {'id': 'KJd4Ey6_spwKIX0oq3CjQw',\n",
       "    'profile_url': 'https://www.yelp.com/user_details?userid=KJd4Ey6_spwKIX0oq3CjQw',\n",
       "    'image_url': 'https://s3-media3.fl.yelpcdn.com/photo/DbTi7vDMa5PUndu-CdP54A/o.jpg',\n",
       "    'name': 'Salisha T.'}},\n",
       "  {'id': 'ONoRuoJtZXfo1rXs8GlGFA',\n",
       "   'url': 'https://www.yelp.com/biz/ii-caffe-latte-2-new-york-4?adjust_creative=82uXkAt1Tiw7u9_h33zr1A&hrid=ONoRuoJtZXfo1rXs8GlGFA&utm_campaign=yelp_api_v3&utm_medium=api_v3_business_reviews&utm_source=82uXkAt1Tiw7u9_h33zr1A',\n",
       "   'text': \"Walked in to check out their menu. Person working there didn't acknowledge me. I guess the dishes were more important than my patronage. Place was empty so...\",\n",
       "   'rating': 1,\n",
       "   'time_created': '2021-10-24 14:53:53',\n",
       "   'user': {'id': 'm-YCck86Jp7hzgswZDezgw',\n",
       "    'profile_url': 'https://www.yelp.com/user_details?userid=m-YCck86Jp7hzgswZDezgw',\n",
       "    'image_url': 'https://s3-media1.fl.yelpcdn.com/photo/Ut474DCzE16ALtL_lEXTYg/o.jpg',\n",
       "    'name': 'Tangerine L.'}},\n",
       "  {'id': 'Y2kV33dCd9RBZ0WrrY6-DQ',\n",
       "   'url': 'https://www.yelp.com/biz/ii-caffe-latte-2-new-york-4?adjust_creative=82uXkAt1Tiw7u9_h33zr1A&hrid=Y2kV33dCd9RBZ0WrrY6-DQ&utm_campaign=yelp_api_v3&utm_medium=api_v3_business_reviews&utm_source=82uXkAt1Tiw7u9_h33zr1A',\n",
       "   'text': \"I've been to this location twice and each time the service , the food and the atmosphere has CHANGED MY LIFE. I had the black Ink ravioli and my long time...\",\n",
       "   'rating': 5,\n",
       "   'time_created': '2021-03-24 15:18:29',\n",
       "   'user': {'id': 'zHGwvcogwOgDGzJsggjf0g',\n",
       "    'profile_url': 'https://www.yelp.com/user_details?userid=zHGwvcogwOgDGzJsggjf0g',\n",
       "    'image_url': 'https://s3-media3.fl.yelpcdn.com/photo/djVGPAjOPVZEFogzXEG07w/o.jpg',\n",
       "    'name': 'Malik c.'}}],\n",
       " 'total': 127,\n",
       " 'possible_languages': ['en', 'de']}"
      ]
     },
     "execution_count": 365,
     "metadata": {},
     "output_type": "execute_result"
    }
   ],
   "source": [
    "#Review Search \n",
    "yelp_id = 'fEsgUESZxOQtd4YEmAUuow'\n",
    "url = f'https://api.yelp.com/v3/businesses/{yelp_id}/reviews'\n",
    "headers = {'Authorization': 'Bearer ' + creds['api_key']}\n",
    "response = requests.get(url, headers=headers)\n",
    "response_json = response.json()\n",
    "response_json"
   ]
  },
  {
   "cell_type": "code",
   "execution_count": 382,
   "metadata": {
    "ExecuteTime": {
     "end_time": "2022-04-15T02:40:22.429405Z",
     "start_time": "2022-04-15T02:40:22.419460Z"
    }
   },
   "outputs": [],
   "source": [
    "review_corp = []\n",
    "\n",
    "for review in response_json.get('reviews'):\n",
    "    review_corp.append(review['text'])"
   ]
  },
  {
   "cell_type": "code",
   "execution_count": 366,
   "metadata": {
    "ExecuteTime": {
     "end_time": "2022-04-15T02:12:48.343959Z",
     "start_time": "2022-04-15T02:12:48.337455Z"
    }
   },
   "outputs": [
    {
     "data": {
      "text/plain": [
       "'fEsgUESZxOQtd4YEmAUuow'"
      ]
     },
     "execution_count": 366,
     "metadata": {},
     "output_type": "execute_result"
    }
   ],
   "source": [
    "yelp_id"
   ]
  },
  {
   "cell_type": "code",
   "execution_count": null,
   "metadata": {},
   "outputs": [],
   "source": []
  },
  {
   "cell_type": "code",
   "execution_count": 386,
   "metadata": {
    "ExecuteTime": {
     "end_time": "2022-04-15T02:44:56.085995Z",
     "start_time": "2022-04-15T02:44:56.082350Z"
    }
   },
   "outputs": [],
   "source": [
    "review_corp = ''.join(review_corp)"
   ]
  },
  {
   "cell_type": "code",
   "execution_count": 383,
   "metadata": {
    "ExecuteTime": {
     "end_time": "2022-04-15T02:40:24.820929Z",
     "start_time": "2022-04-15T02:40:24.806937Z"
    }
   },
   "outputs": [
    {
     "data": {
      "text/html": [
       "<div>\n",
       "<style scoped>\n",
       "    .dataframe tbody tr th:only-of-type {\n",
       "        vertical-align: middle;\n",
       "    }\n",
       "\n",
       "    .dataframe tbody tr th {\n",
       "        vertical-align: top;\n",
       "    }\n",
       "\n",
       "    .dataframe thead th {\n",
       "        text-align: right;\n",
       "    }\n",
       "</style>\n",
       "<table border=\"1\" class=\"dataframe\">\n",
       "  <thead>\n",
       "    <tr style=\"text-align: right;\">\n",
       "      <th></th>\n",
       "      <th>yelp_id</th>\n",
       "      <th>review_text</th>\n",
       "    </tr>\n",
       "  </thead>\n",
       "  <tbody>\n",
       "    <tr>\n",
       "      <th>0</th>\n",
       "      <td>fEsgUESZxOQtd4YEmAUuow</td>\n",
       "      <td>Met my bestie for a warm beverage yesterday and we ended up here at Caffe Latte. Immediately upo...</td>\n",
       "    </tr>\n",
       "    <tr>\n",
       "      <th>1</th>\n",
       "      <td>fEsgUESZxOQtd4YEmAUuow</td>\n",
       "      <td>Walked in to check out their menu. Person working there didn't acknowledge me. I guess the dishe...</td>\n",
       "    </tr>\n",
       "    <tr>\n",
       "      <th>2</th>\n",
       "      <td>fEsgUESZxOQtd4YEmAUuow</td>\n",
       "      <td>I've been to this location twice and each time the service , the food and the atmosphere has CHA...</td>\n",
       "    </tr>\n",
       "  </tbody>\n",
       "</table>\n",
       "</div>"
      ],
      "text/plain": [
       "                  yelp_id  \\\n",
       "0  fEsgUESZxOQtd4YEmAUuow   \n",
       "1  fEsgUESZxOQtd4YEmAUuow   \n",
       "2  fEsgUESZxOQtd4YEmAUuow   \n",
       "\n",
       "                                                                                           review_text  \n",
       "0  Met my bestie for a warm beverage yesterday and we ended up here at Caffe Latte. Immediately upo...  \n",
       "1  Walked in to check out their menu. Person working there didn't acknowledge me. I guess the dishe...  \n",
       "2  I've been to this location twice and each time the service , the food and the atmosphere has CHA...  "
      ]
     },
     "execution_count": 383,
     "metadata": {},
     "output_type": "execute_result"
    }
   ],
   "source": [
    "dict_test = {'yelp_id' : yelp_id, 'review_text' : review_corp}\n",
    "df_test = pd.DataFrame(dict_test)\n",
    "df_test"
   ]
  },
  {
   "cell_type": "code",
   "execution_count": null,
   "metadata": {},
   "outputs": [],
   "source": []
  },
  {
   "cell_type": "code",
   "execution_count": 324,
   "metadata": {
    "ExecuteTime": {
     "end_time": "2022-04-14T15:07:46.486247Z",
     "start_time": "2022-04-14T15:07:46.435062Z"
    }
   },
   "outputs": [
    {
     "data": {
      "text/html": [
       "<div>\n",
       "<style scoped>\n",
       "    .dataframe tbody tr th:only-of-type {\n",
       "        vertical-align: middle;\n",
       "    }\n",
       "\n",
       "    .dataframe tbody tr th {\n",
       "        vertical-align: top;\n",
       "    }\n",
       "\n",
       "    .dataframe thead th {\n",
       "        text-align: right;\n",
       "    }\n",
       "</style>\n",
       "<table border=\"1\" class=\"dataframe\">\n",
       "  <thead>\n",
       "    <tr style=\"text-align: right;\">\n",
       "      <th></th>\n",
       "      <th>id</th>\n",
       "      <th>url</th>\n",
       "      <th>text</th>\n",
       "      <th>rating</th>\n",
       "      <th>time_created</th>\n",
       "      <th>user</th>\n",
       "    </tr>\n",
       "  </thead>\n",
       "  <tbody>\n",
       "    <tr>\n",
       "      <th>0</th>\n",
       "      <td>3hXVb3qfwkpNYoVs3_9_QA</td>\n",
       "      <td>https://www.yelp.com/biz/ii-caffe-latte-2-new-york-4?adjust_creative=82uXkAt1Tiw7u9_h33zr1A&amp;hrid...</td>\n",
       "      <td>Met my bestie for a warm beverage yesterday and we ended up here at Caffe Latte. Immediately upo...</td>\n",
       "      <td>5</td>\n",
       "      <td>2020-03-15 06:15:11</td>\n",
       "      <td>{'id': 'KJd4Ey6_spwKIX0oq3CjQw', 'profile_url': 'https://www.yelp.com/user_details?userid=KJd4Ey...</td>\n",
       "    </tr>\n",
       "    <tr>\n",
       "      <th>1</th>\n",
       "      <td>ONoRuoJtZXfo1rXs8GlGFA</td>\n",
       "      <td>https://www.yelp.com/biz/ii-caffe-latte-2-new-york-4?adjust_creative=82uXkAt1Tiw7u9_h33zr1A&amp;hrid...</td>\n",
       "      <td>Walked in to check out their menu. Person working there didn't acknowledge me. I guess the dishe...</td>\n",
       "      <td>1</td>\n",
       "      <td>2021-10-24 14:53:53</td>\n",
       "      <td>{'id': 'm-YCck86Jp7hzgswZDezgw', 'profile_url': 'https://www.yelp.com/user_details?userid=m-YCck...</td>\n",
       "    </tr>\n",
       "    <tr>\n",
       "      <th>2</th>\n",
       "      <td>Y2kV33dCd9RBZ0WrrY6-DQ</td>\n",
       "      <td>https://www.yelp.com/biz/ii-caffe-latte-2-new-york-4?adjust_creative=82uXkAt1Tiw7u9_h33zr1A&amp;hrid...</td>\n",
       "      <td>I've been to this location twice and each time the service , the food and the atmosphere has CHA...</td>\n",
       "      <td>5</td>\n",
       "      <td>2021-03-24 15:18:29</td>\n",
       "      <td>{'id': 'zHGwvcogwOgDGzJsggjf0g', 'profile_url': 'https://www.yelp.com/user_details?userid=zHGwvc...</td>\n",
       "    </tr>\n",
       "  </tbody>\n",
       "</table>\n",
       "</div>"
      ],
      "text/plain": [
       "                       id  \\\n",
       "0  3hXVb3qfwkpNYoVs3_9_QA   \n",
       "1  ONoRuoJtZXfo1rXs8GlGFA   \n",
       "2  Y2kV33dCd9RBZ0WrrY6-DQ   \n",
       "\n",
       "                                                                                                   url  \\\n",
       "0  https://www.yelp.com/biz/ii-caffe-latte-2-new-york-4?adjust_creative=82uXkAt1Tiw7u9_h33zr1A&hrid...   \n",
       "1  https://www.yelp.com/biz/ii-caffe-latte-2-new-york-4?adjust_creative=82uXkAt1Tiw7u9_h33zr1A&hrid...   \n",
       "2  https://www.yelp.com/biz/ii-caffe-latte-2-new-york-4?adjust_creative=82uXkAt1Tiw7u9_h33zr1A&hrid...   \n",
       "\n",
       "                                                                                                  text  \\\n",
       "0  Met my bestie for a warm beverage yesterday and we ended up here at Caffe Latte. Immediately upo...   \n",
       "1  Walked in to check out their menu. Person working there didn't acknowledge me. I guess the dishe...   \n",
       "2  I've been to this location twice and each time the service , the food and the atmosphere has CHA...   \n",
       "\n",
       "   rating         time_created  \\\n",
       "0       5  2020-03-15 06:15:11   \n",
       "1       1  2021-10-24 14:53:53   \n",
       "2       5  2021-03-24 15:18:29   \n",
       "\n",
       "                                                                                                  user  \n",
       "0  {'id': 'KJd4Ey6_spwKIX0oq3CjQw', 'profile_url': 'https://www.yelp.com/user_details?userid=KJd4Ey...  \n",
       "1  {'id': 'm-YCck86Jp7hzgswZDezgw', 'profile_url': 'https://www.yelp.com/user_details?userid=m-YCck...  \n",
       "2  {'id': 'zHGwvcogwOgDGzJsggjf0g', 'profile_url': 'https://www.yelp.com/user_details?userid=zHGwvc...  "
      ]
     },
     "execution_count": 324,
     "metadata": {},
     "output_type": "execute_result"
    }
   ],
   "source": [
    "review_df = pd.DataFrame(response_json.get('reviews'))\n",
    "review_df"
   ]
  },
  {
   "cell_type": "code",
   "execution_count": null,
   "metadata": {},
   "outputs": [],
   "source": []
  },
  {
   "cell_type": "markdown",
   "metadata": {},
   "source": [
    "# Data Understanding"
   ]
  },
  {
   "cell_type": "markdown",
   "metadata": {},
   "source": [
    "For this project there will be two sources and types of data used:\n",
    "\n",
    "* Historical health and hygiene inspections recorded by New York City Department of Health and Mental Hygiene (DOHMH) public health inspectors\n",
    "* User generated Yelp business ratings and reviews"
   ]
  },
  {
   "cell_type": "markdown",
   "metadata": {},
   "source": [
    "## Understanding NYC DOHMH Data"
   ]
  },
  {
   "cell_type": "markdown",
   "metadata": {},
   "source": [
    "This dataset contains over 330,000 records, let's explore its contents."
   ]
  },
  {
   "cell_type": "code",
   "execution_count": null,
   "metadata": {
    "ExecuteTime": {
     "end_time": "2022-03-24T20:13:39.503467Z",
     "start_time": "2022-03-24T20:13:39.388312Z"
    }
   },
   "outputs": [],
   "source": [
    "dohmh_df['inspection_date'] =  pd.to_datetime(dohmh_inspections['inspection_date'])"
   ]
  },
  {
   "cell_type": "code",
   "execution_count": null,
   "metadata": {
    "ExecuteTime": {
     "end_time": "2022-03-24T20:13:45.498607Z",
     "start_time": "2022-03-24T20:13:45.485185Z"
    }
   },
   "outputs": [],
   "source": [
    "dohmh_df['inspection_date'].min()"
   ]
  },
  {
   "cell_type": "code",
   "execution_count": null,
   "metadata": {
    "ExecuteTime": {
     "end_time": "2022-03-24T20:13:56.414351Z",
     "start_time": "2022-03-24T20:13:56.397701Z"
    }
   },
   "outputs": [],
   "source": [
    "dohmh_df['inspection_date'].max()"
   ]
  },
  {
   "cell_type": "markdown",
   "metadata": {},
   "source": [
    "Inspections in this dataset range from May 2008 up to present day."
   ]
  },
  {
   "cell_type": "code",
   "execution_count": null,
   "metadata": {
    "ExecuteTime": {
     "end_time": "2022-03-24T20:16:39.819970Z",
     "start_time": "2022-03-24T20:16:39.815805Z"
    }
   },
   "outputs": [],
   "source": [
    "# dohmh_df.set_index('inspection_date')"
   ]
  },
  {
   "cell_type": "code",
   "execution_count": null,
   "metadata": {
    "ExecuteTime": {
     "end_time": "2022-03-24T20:06:23.107542Z",
     "start_time": "2022-03-24T20:06:23.039343Z"
    }
   },
   "outputs": [],
   "source": [
    "dohmh_df['boro'].value_counts()"
   ]
  },
  {
   "cell_type": "code",
   "execution_count": null,
   "metadata": {
    "ExecuteTime": {
     "end_time": "2022-03-24T20:06:48.973901Z",
     "start_time": "2022-03-24T20:06:48.947792Z"
    }
   },
   "outputs": [],
   "source": [
    "dohmh_df['score'].value_counts()"
   ]
  },
  {
   "cell_type": "code",
   "execution_count": null,
   "metadata": {},
   "outputs": [],
   "source": []
  },
  {
   "cell_type": "code",
   "execution_count": null,
   "metadata": {
    "ExecuteTime": {
     "end_time": "2022-03-24T20:06:52.338177Z",
     "start_time": "2022-03-24T20:06:52.329477Z"
    }
   },
   "outputs": [],
   "source": [
    "dohmh_df['score'].isna().sum()"
   ]
  },
  {
   "cell_type": "code",
   "execution_count": null,
   "metadata": {
    "ExecuteTime": {
     "end_time": "2022-03-24T20:06:53.801108Z",
     "start_time": "2022-03-24T20:06:53.742457Z"
    }
   },
   "outputs": [],
   "source": [
    "dohmh_df['grade'].value_counts()"
   ]
  },
  {
   "cell_type": "code",
   "execution_count": null,
   "metadata": {
    "ExecuteTime": {
     "end_time": "2022-03-25T18:08:16.344961Z",
     "start_time": "2022-03-25T18:08:16.232615Z"
    }
   },
   "outputs": [],
   "source": [
    "dohmh_df['grade'].value_counts(normalize=True)"
   ]
  },
  {
   "cell_type": "code",
   "execution_count": null,
   "metadata": {
    "ExecuteTime": {
     "end_time": "2022-03-24T20:06:55.741139Z",
     "start_time": "2022-03-24T20:06:55.706697Z"
    }
   },
   "outputs": [],
   "source": [
    "dohmh_df['grade'].isna().sum()"
   ]
  },
  {
   "cell_type": "code",
   "execution_count": null,
   "metadata": {
    "ExecuteTime": {
     "end_time": "2022-03-24T20:07:21.888553Z",
     "start_time": "2022-03-24T20:07:21.831624Z"
    }
   },
   "outputs": [],
   "source": [
    "dohmh_df['critical_flag'].value_counts()"
   ]
  },
  {
   "cell_type": "markdown",
   "metadata": {},
   "source": [
    "Critical violations are those most likely to contribute to foodborne illness"
   ]
  },
  {
   "cell_type": "code",
   "execution_count": null,
   "metadata": {
    "ExecuteTime": {
     "end_time": "2022-03-24T20:07:24.216744Z",
     "start_time": "2022-03-24T20:07:24.147788Z"
    }
   },
   "outputs": [],
   "source": [
    "dohmh_df['critical_flag'].value_counts(normalize=True)"
   ]
  },
  {
   "cell_type": "code",
   "execution_count": null,
   "metadata": {
    "ExecuteTime": {
     "end_time": "2022-03-24T20:07:25.228707Z",
     "start_time": "2022-03-24T20:07:25.168956Z"
    }
   },
   "outputs": [],
   "source": [
    "dohmh_df['inspection_type'].value_counts()"
   ]
  },
  {
   "cell_type": "code",
   "execution_count": null,
   "metadata": {
    "ExecuteTime": {
     "end_time": "2022-03-24T23:19:02.351760Z",
     "start_time": "2022-03-24T23:19:02.076866Z"
    }
   },
   "outputs": [],
   "source": [
    "dohmh_inspections = dohmh_df[(dohmh_df['inspection_type'] ==\n",
    "                              'Cycle Inspection / Initial Inspection') | (dohmh_df['inspection_type'] ==\n",
    "                              'Cycle Inspection / Re-inspection')]"
   ]
  },
  {
   "cell_type": "code",
   "execution_count": null,
   "metadata": {
    "ExecuteTime": {
     "end_time": "2022-03-24T23:19:04.172448Z",
     "start_time": "2022-03-24T23:19:04.102283Z"
    }
   },
   "outputs": [],
   "source": [
    "dohmh_inspections['critical_flag'].value_counts()"
   ]
  },
  {
   "cell_type": "code",
   "execution_count": null,
   "metadata": {
    "ExecuteTime": {
     "end_time": "2022-03-25T13:45:01.843258Z",
     "start_time": "2022-03-25T13:45:00.880168Z"
    }
   },
   "outputs": [],
   "source": [
    "# Drop records with NA critical_flag\n",
    "\n",
    "dohmh_ohe = dohmh_inspections[dohmh_inspections['critical_flag'] != 'Not Applicable']"
   ]
  },
  {
   "cell_type": "code",
   "execution_count": null,
   "metadata": {
    "ExecuteTime": {
     "end_time": "2022-03-25T13:45:33.328672Z",
     "start_time": "2022-03-25T13:45:33.035849Z"
    }
   },
   "outputs": [],
   "source": [
    "dohmh_ohe = pd.get_dummies(dohmh_inspections,columns=['critical_flag'])"
   ]
  },
  {
   "cell_type": "code",
   "execution_count": null,
   "metadata": {
    "ExecuteTime": {
     "end_time": "2022-03-25T13:45:51.839949Z",
     "start_time": "2022-03-25T13:45:51.783181Z"
    }
   },
   "outputs": [],
   "source": [
    "dohmh_ohe.head(2)"
   ]
  },
  {
   "cell_type": "code",
   "execution_count": null,
   "metadata": {
    "ExecuteTime": {
     "end_time": "2022-03-25T14:50:30.907183Z",
     "start_time": "2022-03-25T14:50:30.884584Z"
    }
   },
   "outputs": [],
   "source": [
    "critical_flags = dohmh_ohe.groupby(['camis'])['critical_flag_Critical'].count()"
   ]
  },
  {
   "cell_type": "code",
   "execution_count": null,
   "metadata": {
    "ExecuteTime": {
     "end_time": "2022-03-25T14:50:23.875323Z",
     "start_time": "2022-03-25T14:50:23.860854Z"
    }
   },
   "outputs": [],
   "source": [
    "critical_flags[critical_flagss]"
   ]
  },
  {
   "cell_type": "code",
   "execution_count": null,
   "metadata": {
    "ExecuteTime": {
     "end_time": "2022-03-25T14:07:58.740052Z",
     "start_time": "2022-03-25T14:07:58.732065Z"
    }
   },
   "outputs": [],
   "source": [
    "critical_flags['critical_flag_Not Critical'].sum()"
   ]
  },
  {
   "cell_type": "code",
   "execution_count": null,
   "metadata": {
    "ExecuteTime": {
     "end_time": "2022-03-25T14:00:08.447544Z",
     "start_time": "2022-03-25T14:00:08.443356Z"
    }
   },
   "outputs": [],
   "source": [
    "non_critical_flags = dohmh_ohe.groupby(['camis'])"
   ]
  },
  {
   "cell_type": "code",
   "execution_count": null,
   "metadata": {
    "ExecuteTime": {
     "end_time": "2022-03-25T14:00:31.528917Z",
     "start_time": "2022-03-25T14:00:30.783695Z"
    }
   },
   "outputs": [],
   "source": [
    "dohmh_inspections.duplicated().sum()"
   ]
  },
  {
   "cell_type": "code",
   "execution_count": null,
   "metadata": {
    "ExecuteTime": {
     "end_time": "2022-03-24T20:07:43.870691Z",
     "start_time": "2022-03-24T20:07:42.979136Z"
    }
   },
   "outputs": [],
   "source": [
    "dohmh_inspections.loc[dohmh_inspections.duplicated(keep='first'),:]"
   ]
  },
  {
   "cell_type": "code",
   "execution_count": null,
   "metadata": {
    "ExecuteTime": {
     "end_time": "2022-03-25T14:00:44.519563Z",
     "start_time": "2022-03-25T14:00:43.762531Z"
    }
   },
   "outputs": [],
   "source": [
    "dohmh_inspections.drop_duplicates().shape"
   ]
  },
  {
   "cell_type": "code",
   "execution_count": null,
   "metadata": {
    "ExecuteTime": {
     "end_time": "2022-03-25T14:00:47.862026Z",
     "start_time": "2022-03-25T14:00:47.835019Z"
    }
   },
   "outputs": [],
   "source": [
    "dohmh_inspections.duplicated(subset=['camis']).sum()"
   ]
  },
  {
   "cell_type": "code",
   "execution_count": null,
   "metadata": {
    "ExecuteTime": {
     "end_time": "2022-03-25T14:01:12.814518Z",
     "start_time": "2022-03-25T14:01:12.801669Z"
    }
   },
   "outputs": [],
   "source": [
    "dohmh_inspections['camis'].nunique()"
   ]
  },
  {
   "cell_type": "markdown",
   "metadata": {},
   "source": [
    "There are approximately 28,000 restaurants that have been inspected by the DOHMH. Let's check out how many have ever been flagged for a critical violation."
   ]
  }
 ],
 "metadata": {
  "kernelspec": {
   "display_name": "Python (learn-env)",
   "language": "python",
   "name": "learn-env"
  },
  "language_info": {
   "codemirror_mode": {
    "name": "ipython",
    "version": 3
   },
   "file_extension": ".py",
   "mimetype": "text/x-python",
   "name": "python",
   "nbconvert_exporter": "python",
   "pygments_lexer": "ipython3",
   "version": "3.8.5"
  },
  "toc": {
   "base_numbering": 1,
   "nav_menu": {},
   "number_sections": true,
   "sideBar": true,
   "skip_h1_title": false,
   "title_cell": "Table of Contents",
   "title_sidebar": "Contents",
   "toc_cell": false,
   "toc_position": {
    "height": "calc(100% - 180px)",
    "left": "10px",
    "top": "150px",
    "width": "248px"
   },
   "toc_section_display": true,
   "toc_window_display": true
  }
 },
 "nbformat": 4,
 "nbformat_minor": 4
}
