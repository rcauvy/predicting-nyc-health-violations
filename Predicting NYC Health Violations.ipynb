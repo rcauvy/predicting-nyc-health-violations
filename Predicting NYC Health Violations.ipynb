{
 "cells": [
  {
   "cell_type": "code",
   "execution_count": 113,
   "metadata": {
    "ExecuteTime": {
     "end_time": "2022-04-13T17:02:41.646935Z",
     "start_time": "2022-04-13T17:02:41.637416Z"
    }
   },
   "outputs": [],
   "source": [
    "from IPython import display\n",
    "import requests\n",
    "import json\n",
    "from sodapy import Socrata\n",
    "import pandas as pd\n",
    "import numpy as np\n",
    "import matplotlib.pyplot as plt\n",
    "%matplotlib inline\n",
    "import seaborn as sns\n",
    "import warnings\n",
    "import time\n",
    "warnings.filterwarnings(\"ignore\")\n",
    "pd.set_option('display.max_colwidth',100)\n",
    "pd.set_option('display.max_columns',50)\n",
    "\n",
    "from sklearn.preprocessing import OneHotEncoder\n"
   ]
  },
  {
   "cell_type": "markdown",
   "metadata": {},
   "source": [
    "# Introduction"
   ]
  },
  {
   "cell_type": "markdown",
   "metadata": {},
   "source": [
    "According to the CDC, more than 48 million Americans per year become sick from food, and an estimated 75% of the outbreaks came from food prepared by caterers, delis, and restaurants. In most cities, health inspections are generally random, which can increase time spent on spot checks at clean restaurants that have been following the rules closely — and missed opportunities to improve health and hygiene at places with more pressing food safety issues.\n",
    "\n",
    "The goal for this project is to leverage public citizen generated data from social media to narrow the search for critical health and safety violations in New York City. As the City of New York manages  an open data portal, everyone can access historical hygiene inspections and violation records. By combine these two data source this project aims to determine which words, phrases, ratings, and patterns among restaurants lead to critical health and safety violations. This model can assist city health inspectors do their job better by prioritizing the kitchens most likely to be in violation of code."
   ]
  },
  {
   "cell_type": "markdown",
   "metadata": {},
   "source": [
    "# Obtain"
   ]
  },
  {
   "cell_type": "markdown",
   "metadata": {},
   "source": [
    "This project requires data pulled from two different sources, the City of New York and Yelp. To obtain the data we will call the API keys."
   ]
  },
  {
   "cell_type": "markdown",
   "metadata": {},
   "source": [
    "## NYC Open Data Portal"
   ]
  },
  {
   "cell_type": "markdown",
   "metadata": {},
   "source": []
  },
  {
   "cell_type": "code",
   "execution_count": 114,
   "metadata": {
    "ExecuteTime": {
     "end_time": "2022-04-13T17:02:47.043945Z",
     "start_time": "2022-04-13T17:02:45.500972Z"
    }
   },
   "outputs": [
    {
     "data": {
      "text/html": [
       "<div>\n",
       "<style scoped>\n",
       "    .dataframe tbody tr th:only-of-type {\n",
       "        vertical-align: middle;\n",
       "    }\n",
       "\n",
       "    .dataframe tbody tr th {\n",
       "        vertical-align: top;\n",
       "    }\n",
       "\n",
       "    .dataframe thead th {\n",
       "        text-align: right;\n",
       "    }\n",
       "</style>\n",
       "<table border=\"1\" class=\"dataframe\">\n",
       "  <thead>\n",
       "    <tr style=\"text-align: right;\">\n",
       "      <th></th>\n",
       "      <th>CAMIS</th>\n",
       "      <th>DBA</th>\n",
       "      <th>BORO</th>\n",
       "      <th>BUILDING</th>\n",
       "      <th>STREET</th>\n",
       "      <th>ZIPCODE</th>\n",
       "      <th>PHONE</th>\n",
       "      <th>CUISINE DESCRIPTION</th>\n",
       "      <th>INSPECTION DATE</th>\n",
       "      <th>ACTION</th>\n",
       "      <th>VIOLATION CODE</th>\n",
       "      <th>VIOLATION DESCRIPTION</th>\n",
       "      <th>CRITICAL FLAG</th>\n",
       "      <th>SCORE</th>\n",
       "      <th>GRADE</th>\n",
       "      <th>GRADE DATE</th>\n",
       "      <th>RECORD DATE</th>\n",
       "      <th>INSPECTION TYPE</th>\n",
       "      <th>Latitude</th>\n",
       "      <th>Longitude</th>\n",
       "      <th>Community Board</th>\n",
       "      <th>Council District</th>\n",
       "      <th>Census Tract</th>\n",
       "      <th>BIN</th>\n",
       "      <th>BBL</th>\n",
       "      <th>NTA</th>\n",
       "    </tr>\n",
       "  </thead>\n",
       "  <tbody>\n",
       "    <tr>\n",
       "      <th>0</th>\n",
       "      <td>50008319</td>\n",
       "      <td>POULETTE</td>\n",
       "      <td>Manhattan</td>\n",
       "      <td>790</td>\n",
       "      <td>9 AVENUE</td>\n",
       "      <td>10019.0</td>\n",
       "      <td>2129569488</td>\n",
       "      <td>Chicken</td>\n",
       "      <td>01/28/2019</td>\n",
       "      <td>Violations were cited in the following area(s).</td>\n",
       "      <td>04D</td>\n",
       "      <td>Food worker does not wash hands thoroughly after using the toilet, coughing, sneezing, smoking, ...</td>\n",
       "      <td>Critical</td>\n",
       "      <td>22</td>\n",
       "      <td>NaN</td>\n",
       "      <td>NaN</td>\n",
       "      <td>03/24/2022</td>\n",
       "      <td>Cycle Inspection / Initial Inspection</td>\n",
       "      <td>40.765040</td>\n",
       "      <td>-73.987795</td>\n",
       "      <td>104.0</td>\n",
       "      <td>3.0</td>\n",
       "      <td>13300.0</td>\n",
       "      <td>1025235.0</td>\n",
       "      <td>1.010430e+09</td>\n",
       "      <td>MN15</td>\n",
       "    </tr>\n",
       "    <tr>\n",
       "      <th>1</th>\n",
       "      <td>41678734</td>\n",
       "      <td>TINY'S DINER</td>\n",
       "      <td>Bronx</td>\n",
       "      <td>3603</td>\n",
       "      <td>RIVERDALE AVENUE</td>\n",
       "      <td>10463.0</td>\n",
       "      <td>7187087600</td>\n",
       "      <td>American</td>\n",
       "      <td>09/23/2019</td>\n",
       "      <td>Violations were cited in the following area(s).</td>\n",
       "      <td>04M</td>\n",
       "      <td>Live roaches present in facility's food and/or non-food areas.</td>\n",
       "      <td>Critical</td>\n",
       "      <td>24</td>\n",
       "      <td>NaN</td>\n",
       "      <td>NaN</td>\n",
       "      <td>03/24/2022</td>\n",
       "      <td>Cycle Inspection / Initial Inspection</td>\n",
       "      <td>40.886691</td>\n",
       "      <td>-73.907056</td>\n",
       "      <td>208.0</td>\n",
       "      <td>11.0</td>\n",
       "      <td>29500.0</td>\n",
       "      <td>2084186.0</td>\n",
       "      <td>2.057960e+09</td>\n",
       "      <td>BX29</td>\n",
       "    </tr>\n",
       "    <tr>\n",
       "      <th>2</th>\n",
       "      <td>40795021</td>\n",
       "      <td>TAO RESTAURANT</td>\n",
       "      <td>Manhattan</td>\n",
       "      <td>42</td>\n",
       "      <td>EAST   58 STREET</td>\n",
       "      <td>10022.0</td>\n",
       "      <td>2128882288</td>\n",
       "      <td>Asian/Asian Fusion</td>\n",
       "      <td>03/11/2020</td>\n",
       "      <td>Violations were cited in the following area(s).</td>\n",
       "      <td>10F</td>\n",
       "      <td>Non-food contact surface improperly constructed. Unacceptable material used. Non-food contact su...</td>\n",
       "      <td>Not Critical</td>\n",
       "      <td>9</td>\n",
       "      <td>NaN</td>\n",
       "      <td>NaN</td>\n",
       "      <td>03/24/2022</td>\n",
       "      <td>Cycle Inspection / Initial Inspection</td>\n",
       "      <td>40.762786</td>\n",
       "      <td>-73.971486</td>\n",
       "      <td>105.0</td>\n",
       "      <td>4.0</td>\n",
       "      <td>11202.0</td>\n",
       "      <td>1036073.0</td>\n",
       "      <td>1.012930e+09</td>\n",
       "      <td>MN17</td>\n",
       "    </tr>\n",
       "    <tr>\n",
       "      <th>3</th>\n",
       "      <td>40795021</td>\n",
       "      <td>TAO RESTAURANT</td>\n",
       "      <td>Manhattan</td>\n",
       "      <td>42</td>\n",
       "      <td>EAST   58 STREET</td>\n",
       "      <td>10022.0</td>\n",
       "      <td>2128882288</td>\n",
       "      <td>Asian/Asian Fusion</td>\n",
       "      <td>03/11/2020</td>\n",
       "      <td>Violations were cited in the following area(s).</td>\n",
       "      <td>10F</td>\n",
       "      <td>Non-food contact surface improperly constructed. Unacceptable material used. Non-food contact su...</td>\n",
       "      <td>Not Critical</td>\n",
       "      <td>9</td>\n",
       "      <td>NaN</td>\n",
       "      <td>NaN</td>\n",
       "      <td>03/24/2022</td>\n",
       "      <td>Cycle Inspection / Initial Inspection</td>\n",
       "      <td>40.762786</td>\n",
       "      <td>-73.971486</td>\n",
       "      <td>105.0</td>\n",
       "      <td>4.0</td>\n",
       "      <td>11202.0</td>\n",
       "      <td>1036073.0</td>\n",
       "      <td>1.012930e+09</td>\n",
       "      <td>MN17</td>\n",
       "    </tr>\n",
       "    <tr>\n",
       "      <th>4</th>\n",
       "      <td>40538234</td>\n",
       "      <td>DUNKIN',' BASKIN ROBBINS</td>\n",
       "      <td>Queens</td>\n",
       "      <td>9925</td>\n",
       "      <td>HORACE HARDING EXPRESSWAY</td>\n",
       "      <td>11368.0</td>\n",
       "      <td>7182719222</td>\n",
       "      <td>Donuts</td>\n",
       "      <td>07/29/2021</td>\n",
       "      <td>Violations were cited in the following area(s).</td>\n",
       "      <td>06E</td>\n",
       "      <td>Sanitized equipment or utensil, including in-use food dispensing utensil, improperly used or sto...</td>\n",
       "      <td>Critical</td>\n",
       "      <td>10</td>\n",
       "      <td>A</td>\n",
       "      <td>07/29/2021</td>\n",
       "      <td>03/24/2022</td>\n",
       "      <td>Cycle Inspection / Initial Inspection</td>\n",
       "      <td>40.736185</td>\n",
       "      <td>-73.858052</td>\n",
       "      <td>404.0</td>\n",
       "      <td>21.0</td>\n",
       "      <td>43702.0</td>\n",
       "      <td>4047915.0</td>\n",
       "      <td>4.019480e+09</td>\n",
       "      <td>QN25</td>\n",
       "    </tr>\n",
       "    <tr>\n",
       "      <th>...</th>\n",
       "      <td>...</td>\n",
       "      <td>...</td>\n",
       "      <td>...</td>\n",
       "      <td>...</td>\n",
       "      <td>...</td>\n",
       "      <td>...</td>\n",
       "      <td>...</td>\n",
       "      <td>...</td>\n",
       "      <td>...</td>\n",
       "      <td>...</td>\n",
       "      <td>...</td>\n",
       "      <td>...</td>\n",
       "      <td>...</td>\n",
       "      <td>...</td>\n",
       "      <td>...</td>\n",
       "      <td>...</td>\n",
       "      <td>...</td>\n",
       "      <td>...</td>\n",
       "      <td>...</td>\n",
       "      <td>...</td>\n",
       "      <td>...</td>\n",
       "      <td>...</td>\n",
       "      <td>...</td>\n",
       "      <td>...</td>\n",
       "      <td>...</td>\n",
       "      <td>...</td>\n",
       "    </tr>\n",
       "    <tr>\n",
       "      <th>186222</th>\n",
       "      <td>41556790</td>\n",
       "      <td>FIVE GUYS FAMOUS BURGERS AND FRIES</td>\n",
       "      <td>Manhattan</td>\n",
       "      <td>2847</td>\n",
       "      <td>BROADFWAY</td>\n",
       "      <td>NaN</td>\n",
       "      <td>2126787701</td>\n",
       "      <td>Hamburgers</td>\n",
       "      <td>03/01/2019</td>\n",
       "      <td>Violations were cited in the following area(s).</td>\n",
       "      <td>10F</td>\n",
       "      <td>Non-food contact surface improperly constructed. Unacceptable material used. Non-food contact su...</td>\n",
       "      <td>Not Critical</td>\n",
       "      <td>3</td>\n",
       "      <td>A</td>\n",
       "      <td>03/01/2019</td>\n",
       "      <td>03/24/2022</td>\n",
       "      <td>Cycle Inspection / Initial Inspection</td>\n",
       "      <td>0.000000</td>\n",
       "      <td>0.000000</td>\n",
       "      <td>NaN</td>\n",
       "      <td>NaN</td>\n",
       "      <td>NaN</td>\n",
       "      <td>NaN</td>\n",
       "      <td>1.000000e+00</td>\n",
       "      <td>NaN</td>\n",
       "    </tr>\n",
       "    <tr>\n",
       "      <th>186223</th>\n",
       "      <td>50032876</td>\n",
       "      <td>TANNER SMITH'S</td>\n",
       "      <td>Manhattan</td>\n",
       "      <td>204</td>\n",
       "      <td>WEST   55 STREET</td>\n",
       "      <td>10019.0</td>\n",
       "      <td>9175172283</td>\n",
       "      <td>American</td>\n",
       "      <td>06/07/2019</td>\n",
       "      <td>Violations were cited in the following area(s).</td>\n",
       "      <td>08A</td>\n",
       "      <td>Facility not vermin proof. Harborage or conditions conducive to attracting vermin to the premise...</td>\n",
       "      <td>Not Critical</td>\n",
       "      <td>12</td>\n",
       "      <td>A</td>\n",
       "      <td>06/07/2019</td>\n",
       "      <td>03/24/2022</td>\n",
       "      <td>Cycle Inspection / Initial Inspection</td>\n",
       "      <td>40.764364</td>\n",
       "      <td>-73.981362</td>\n",
       "      <td>105.0</td>\n",
       "      <td>4.0</td>\n",
       "      <td>13700.0</td>\n",
       "      <td>1024857.0</td>\n",
       "      <td>1.010260e+09</td>\n",
       "      <td>MN17</td>\n",
       "    </tr>\n",
       "    <tr>\n",
       "      <th>186224</th>\n",
       "      <td>50003842</td>\n",
       "      <td>T- 45</td>\n",
       "      <td>Manhattan</td>\n",
       "      <td>135</td>\n",
       "      <td>WEST   45 STREET</td>\n",
       "      <td>10036.0</td>\n",
       "      <td>6466403775</td>\n",
       "      <td>American</td>\n",
       "      <td>07/26/2018</td>\n",
       "      <td>Violations were cited in the following area(s).</td>\n",
       "      <td>10B</td>\n",
       "      <td>Plumbing not properly installed or maintained; anti-siphonage or backflow prevention device not ...</td>\n",
       "      <td>Not Critical</td>\n",
       "      <td>49</td>\n",
       "      <td>NaN</td>\n",
       "      <td>NaN</td>\n",
       "      <td>03/24/2022</td>\n",
       "      <td>Cycle Inspection / Initial Inspection</td>\n",
       "      <td>40.757244</td>\n",
       "      <td>-73.983815</td>\n",
       "      <td>105.0</td>\n",
       "      <td>4.0</td>\n",
       "      <td>11900.0</td>\n",
       "      <td>1089796.0</td>\n",
       "      <td>1.009980e+09</td>\n",
       "      <td>MN17</td>\n",
       "    </tr>\n",
       "    <tr>\n",
       "      <th>186225</th>\n",
       "      <td>41640824</td>\n",
       "      <td>RICURAS ECUADORIAN BAKERY</td>\n",
       "      <td>Bronx</td>\n",
       "      <td>1576</td>\n",
       "      <td>WATSON AVENUE</td>\n",
       "      <td>10472.0</td>\n",
       "      <td>7184508363</td>\n",
       "      <td>Spanish</td>\n",
       "      <td>07/20/2018</td>\n",
       "      <td>Violations were cited in the following area(s).</td>\n",
       "      <td>06F</td>\n",
       "      <td>Wiping cloths soiled or not stored in sanitizing solution.</td>\n",
       "      <td>Critical</td>\n",
       "      <td>12</td>\n",
       "      <td>A</td>\n",
       "      <td>07/20/2018</td>\n",
       "      <td>03/24/2022</td>\n",
       "      <td>Cycle Inspection / Initial Inspection</td>\n",
       "      <td>40.826352</td>\n",
       "      <td>-73.876066</td>\n",
       "      <td>209.0</td>\n",
       "      <td>18.0</td>\n",
       "      <td>5001.0</td>\n",
       "      <td>2023533.0</td>\n",
       "      <td>2.037160e+09</td>\n",
       "      <td>BX55</td>\n",
       "    </tr>\n",
       "    <tr>\n",
       "      <th>186226</th>\n",
       "      <td>41450971</td>\n",
       "      <td>GIOVANNI'S RESTAURANT</td>\n",
       "      <td>Bronx</td>\n",
       "      <td>3209</td>\n",
       "      <td>WESTCHESTER AVENUE</td>\n",
       "      <td>10461.0</td>\n",
       "      <td>7188924340</td>\n",
       "      <td>Pizza</td>\n",
       "      <td>06/21/2017</td>\n",
       "      <td>Violations were cited in the following area(s).</td>\n",
       "      <td>06D</td>\n",
       "      <td>Food contact surface not properly washed, rinsed and sanitized after each use and following any ...</td>\n",
       "      <td>Critical</td>\n",
       "      <td>16</td>\n",
       "      <td>NaN</td>\n",
       "      <td>NaN</td>\n",
       "      <td>03/24/2022</td>\n",
       "      <td>Cycle Inspection / Initial Inspection</td>\n",
       "      <td>40.851761</td>\n",
       "      <td>-73.829569</td>\n",
       "      <td>210.0</td>\n",
       "      <td>13.0</td>\n",
       "      <td>30000.0</td>\n",
       "      <td>2047655.0</td>\n",
       "      <td>2.042450e+09</td>\n",
       "      <td>BX10</td>\n",
       "    </tr>\n",
       "  </tbody>\n",
       "</table>\n",
       "<p>186227 rows × 26 columns</p>\n",
       "</div>"
      ],
      "text/plain": [
       "           CAMIS                                 DBA       BORO BUILDING  \\\n",
       "0       50008319                            POULETTE  Manhattan      790   \n",
       "1       41678734                        TINY'S DINER      Bronx     3603   \n",
       "2       40795021                      TAO RESTAURANT  Manhattan       42   \n",
       "3       40795021                      TAO RESTAURANT  Manhattan       42   \n",
       "4       40538234            DUNKIN',' BASKIN ROBBINS     Queens     9925   \n",
       "...          ...                                 ...        ...      ...   \n",
       "186222  41556790  FIVE GUYS FAMOUS BURGERS AND FRIES  Manhattan     2847   \n",
       "186223  50032876                      TANNER SMITH'S  Manhattan      204   \n",
       "186224  50003842                               T- 45  Manhattan      135   \n",
       "186225  41640824           RICURAS ECUADORIAN BAKERY      Bronx     1576   \n",
       "186226  41450971               GIOVANNI'S RESTAURANT      Bronx     3209   \n",
       "\n",
       "                           STREET  ZIPCODE       PHONE CUISINE DESCRIPTION  \\\n",
       "0                        9 AVENUE  10019.0  2129569488             Chicken   \n",
       "1                RIVERDALE AVENUE  10463.0  7187087600            American   \n",
       "2                EAST   58 STREET  10022.0  2128882288  Asian/Asian Fusion   \n",
       "3                EAST   58 STREET  10022.0  2128882288  Asian/Asian Fusion   \n",
       "4       HORACE HARDING EXPRESSWAY  11368.0  7182719222              Donuts   \n",
       "...                           ...      ...         ...                 ...   \n",
       "186222                  BROADFWAY      NaN  2126787701          Hamburgers   \n",
       "186223           WEST   55 STREET  10019.0  9175172283            American   \n",
       "186224           WEST   45 STREET  10036.0  6466403775            American   \n",
       "186225              WATSON AVENUE  10472.0  7184508363             Spanish   \n",
       "186226         WESTCHESTER AVENUE  10461.0  7188924340               Pizza   \n",
       "\n",
       "       INSPECTION DATE                                           ACTION  \\\n",
       "0           01/28/2019  Violations were cited in the following area(s).   \n",
       "1           09/23/2019  Violations were cited in the following area(s).   \n",
       "2           03/11/2020  Violations were cited in the following area(s).   \n",
       "3           03/11/2020  Violations were cited in the following area(s).   \n",
       "4           07/29/2021  Violations were cited in the following area(s).   \n",
       "...                ...                                              ...   \n",
       "186222      03/01/2019  Violations were cited in the following area(s).   \n",
       "186223      06/07/2019  Violations were cited in the following area(s).   \n",
       "186224      07/26/2018  Violations were cited in the following area(s).   \n",
       "186225      07/20/2018  Violations were cited in the following area(s).   \n",
       "186226      06/21/2017  Violations were cited in the following area(s).   \n",
       "\n",
       "       VIOLATION CODE  \\\n",
       "0                 04D   \n",
       "1                 04M   \n",
       "2                 10F   \n",
       "3                 10F   \n",
       "4                 06E   \n",
       "...               ...   \n",
       "186222            10F   \n",
       "186223            08A   \n",
       "186224            10B   \n",
       "186225            06F   \n",
       "186226            06D   \n",
       "\n",
       "                                                                                      VIOLATION DESCRIPTION  \\\n",
       "0       Food worker does not wash hands thoroughly after using the toilet, coughing, sneezing, smoking, ...   \n",
       "1                                            Live roaches present in facility's food and/or non-food areas.   \n",
       "2       Non-food contact surface improperly constructed. Unacceptable material used. Non-food contact su...   \n",
       "3       Non-food contact surface improperly constructed. Unacceptable material used. Non-food contact su...   \n",
       "4       Sanitized equipment or utensil, including in-use food dispensing utensil, improperly used or sto...   \n",
       "...                                                                                                     ...   \n",
       "186222  Non-food contact surface improperly constructed. Unacceptable material used. Non-food contact su...   \n",
       "186223  Facility not vermin proof. Harborage or conditions conducive to attracting vermin to the premise...   \n",
       "186224  Plumbing not properly installed or maintained; anti-siphonage or backflow prevention device not ...   \n",
       "186225                                           Wiping cloths soiled or not stored in sanitizing solution.   \n",
       "186226  Food contact surface not properly washed, rinsed and sanitized after each use and following any ...   \n",
       "\n",
       "       CRITICAL FLAG  SCORE GRADE  GRADE DATE RECORD DATE  \\\n",
       "0           Critical     22   NaN         NaN  03/24/2022   \n",
       "1           Critical     24   NaN         NaN  03/24/2022   \n",
       "2       Not Critical      9   NaN         NaN  03/24/2022   \n",
       "3       Not Critical      9   NaN         NaN  03/24/2022   \n",
       "4           Critical     10     A  07/29/2021  03/24/2022   \n",
       "...              ...    ...   ...         ...         ...   \n",
       "186222  Not Critical      3     A  03/01/2019  03/24/2022   \n",
       "186223  Not Critical     12     A  06/07/2019  03/24/2022   \n",
       "186224  Not Critical     49   NaN         NaN  03/24/2022   \n",
       "186225      Critical     12     A  07/20/2018  03/24/2022   \n",
       "186226      Critical     16   NaN         NaN  03/24/2022   \n",
       "\n",
       "                              INSPECTION TYPE   Latitude  Longitude  \\\n",
       "0       Cycle Inspection / Initial Inspection  40.765040 -73.987795   \n",
       "1       Cycle Inspection / Initial Inspection  40.886691 -73.907056   \n",
       "2       Cycle Inspection / Initial Inspection  40.762786 -73.971486   \n",
       "3       Cycle Inspection / Initial Inspection  40.762786 -73.971486   \n",
       "4       Cycle Inspection / Initial Inspection  40.736185 -73.858052   \n",
       "...                                       ...        ...        ...   \n",
       "186222  Cycle Inspection / Initial Inspection   0.000000   0.000000   \n",
       "186223  Cycle Inspection / Initial Inspection  40.764364 -73.981362   \n",
       "186224  Cycle Inspection / Initial Inspection  40.757244 -73.983815   \n",
       "186225  Cycle Inspection / Initial Inspection  40.826352 -73.876066   \n",
       "186226  Cycle Inspection / Initial Inspection  40.851761 -73.829569   \n",
       "\n",
       "        Community Board  Council District  Census Tract        BIN  \\\n",
       "0                 104.0               3.0       13300.0  1025235.0   \n",
       "1                 208.0              11.0       29500.0  2084186.0   \n",
       "2                 105.0               4.0       11202.0  1036073.0   \n",
       "3                 105.0               4.0       11202.0  1036073.0   \n",
       "4                 404.0              21.0       43702.0  4047915.0   \n",
       "...                 ...               ...           ...        ...   \n",
       "186222              NaN               NaN           NaN        NaN   \n",
       "186223            105.0               4.0       13700.0  1024857.0   \n",
       "186224            105.0               4.0       11900.0  1089796.0   \n",
       "186225            209.0              18.0        5001.0  2023533.0   \n",
       "186226            210.0              13.0       30000.0  2047655.0   \n",
       "\n",
       "                 BBL   NTA  \n",
       "0       1.010430e+09  MN15  \n",
       "1       2.057960e+09  BX29  \n",
       "2       1.012930e+09  MN17  \n",
       "3       1.012930e+09  MN17  \n",
       "4       4.019480e+09  QN25  \n",
       "...              ...   ...  \n",
       "186222  1.000000e+00   NaN  \n",
       "186223  1.010260e+09  MN17  \n",
       "186224  1.009980e+09  MN17  \n",
       "186225  2.037160e+09  BX55  \n",
       "186226  2.042450e+09  BX10  \n",
       "\n",
       "[186227 rows x 26 columns]"
      ]
     },
     "execution_count": 114,
     "metadata": {},
     "output_type": "execute_result"
    }
   ],
   "source": [
    "doh = pd.read_csv('data/DOHMH_New_York_City_Restaurant_Inspection_Results.csv')\n",
    "doh"
   ]
  },
  {
   "cell_type": "code",
   "execution_count": 115,
   "metadata": {
    "ExecuteTime": {
     "end_time": "2022-04-13T17:03:24.922493Z",
     "start_time": "2022-04-13T17:03:24.670709Z"
    }
   },
   "outputs": [
    {
     "name": "stdout",
     "output_type": "stream",
     "text": [
      "<class 'pandas.core.frame.DataFrame'>\n",
      "RangeIndex: 186227 entries, 0 to 186226\n",
      "Data columns (total 26 columns):\n",
      " #   Column                 Non-Null Count   Dtype  \n",
      "---  ------                 --------------   -----  \n",
      " 0   CAMIS                  186227 non-null  int64  \n",
      " 1   DBA                    186200 non-null  object \n",
      " 2   BORO                   186227 non-null  object \n",
      " 3   BUILDING               185799 non-null  object \n",
      " 4   STREET                 186227 non-null  object \n",
      " 5   ZIPCODE                183146 non-null  float64\n",
      " 6   PHONE                  186214 non-null  object \n",
      " 7   CUISINE DESCRIPTION    186226 non-null  object \n",
      " 8   INSPECTION DATE        186227 non-null  object \n",
      " 9   ACTION                 186227 non-null  object \n",
      " 10  VIOLATION CODE         185413 non-null  object \n",
      " 11  VIOLATION DESCRIPTION  185863 non-null  object \n",
      " 12  CRITICAL FLAG          186227 non-null  object \n",
      " 13  SCORE                  186227 non-null  int64  \n",
      " 14  GRADE                  67933 non-null   object \n",
      " 15  GRADE DATE             67238 non-null   object \n",
      " 16  RECORD DATE            186227 non-null  object \n",
      " 17  INSPECTION TYPE        186227 non-null  object \n",
      " 18  Latitude               186069 non-null  float64\n",
      " 19  Longitude              186069 non-null  float64\n",
      " 20  Community Board        182624 non-null  float64\n",
      " 21  Council District       182629 non-null  float64\n",
      " 22  Census Tract           182629 non-null  float64\n",
      " 23  BIN                    181803 non-null  float64\n",
      " 24  BBL                    185705 non-null  float64\n",
      " 25  NTA                    182624 non-null  object \n",
      "dtypes: float64(8), int64(2), object(16)\n",
      "memory usage: 36.9+ MB\n"
     ]
    }
   ],
   "source": [
    "doh.info()"
   ]
  },
  {
   "cell_type": "code",
   "execution_count": 123,
   "metadata": {
    "ExecuteTime": {
     "end_time": "2022-04-13T17:07:54.355316Z",
     "start_time": "2022-04-13T17:07:54.221898Z"
    }
   },
   "outputs": [],
   "source": [
    "doh.dropna(subset=['PHONE'],inplace=True)"
   ]
  },
  {
   "cell_type": "code",
   "execution_count": 124,
   "metadata": {
    "ExecuteTime": {
     "end_time": "2022-04-13T17:07:55.537151Z",
     "start_time": "2022-04-13T17:07:55.325137Z"
    }
   },
   "outputs": [
    {
     "name": "stdout",
     "output_type": "stream",
     "text": [
      "<class 'pandas.core.frame.DataFrame'>\n",
      "Int64Index: 186214 entries, 0 to 186226\n",
      "Data columns (total 26 columns):\n",
      " #   Column                 Non-Null Count   Dtype  \n",
      "---  ------                 --------------   -----  \n",
      " 0   CAMIS                  186214 non-null  int64  \n",
      " 1   DBA                    186187 non-null  object \n",
      " 2   BORO                   186214 non-null  object \n",
      " 3   BUILDING               185786 non-null  object \n",
      " 4   STREET                 186214 non-null  object \n",
      " 5   ZIPCODE                183133 non-null  float64\n",
      " 6   PHONE                  186214 non-null  object \n",
      " 7   CUISINE DESCRIPTION    186213 non-null  object \n",
      " 8   INSPECTION DATE        186214 non-null  object \n",
      " 9   ACTION                 186214 non-null  object \n",
      " 10  VIOLATION CODE         185400 non-null  object \n",
      " 11  VIOLATION DESCRIPTION  185850 non-null  object \n",
      " 12  CRITICAL FLAG          186214 non-null  object \n",
      " 13  SCORE                  186214 non-null  int64  \n",
      " 14  GRADE                  67924 non-null   object \n",
      " 15  GRADE DATE             67229 non-null   object \n",
      " 16  RECORD DATE            186214 non-null  object \n",
      " 17  INSPECTION TYPE        186214 non-null  object \n",
      " 18  Latitude               186056 non-null  float64\n",
      " 19  Longitude              186056 non-null  float64\n",
      " 20  Community Board        182611 non-null  float64\n",
      " 21  Council District       182616 non-null  float64\n",
      " 22  Census Tract           182616 non-null  float64\n",
      " 23  BIN                    181790 non-null  float64\n",
      " 24  BBL                    185692 non-null  float64\n",
      " 25  NTA                    182611 non-null  object \n",
      "dtypes: float64(8), int64(2), object(16)\n",
      "memory usage: 38.4+ MB\n"
     ]
    }
   ],
   "source": [
    "doh.info()"
   ]
  },
  {
   "cell_type": "code",
   "execution_count": 125,
   "metadata": {
    "ExecuteTime": {
     "end_time": "2022-04-13T17:08:02.793491Z",
     "start_time": "2022-04-13T17:08:02.781326Z"
    }
   },
   "outputs": [
    {
     "data": {
      "text/plain": [
       "19790"
      ]
     },
     "execution_count": 125,
     "metadata": {},
     "output_type": "execute_result"
    }
   ],
   "source": [
    "# How many unique restaurants are in this dataset?\n",
    "doh['CAMIS'].nunique()"
   ]
  },
  {
   "cell_type": "markdown",
   "metadata": {},
   "source": [
    "Health code violations found during an inspections carries a point value, and a restaurant’s score corresponds to a letter grade. A lower point score, leads to a better letter grade:\n",
    "\n",
    "\"A\" grade: 0 to 13 points for sanitary violations\n",
    "\"B\" grade: 14 to 27 points for sanitary violations\n",
    "\"C\" grade: 28 or more points for sanitary violations"
   ]
  },
  {
   "cell_type": "code",
   "execution_count": 126,
   "metadata": {
    "ExecuteTime": {
     "end_time": "2022-04-13T17:08:23.907942Z",
     "start_time": "2022-04-13T17:08:23.889478Z"
    }
   },
   "outputs": [],
   "source": [
    "doh['A'] = doh['SCORE'] < 14\n",
    "doh['B'] = (doh['SCORE'] > 13) & (doh['SCORE'] < 28)\n",
    "doh['C'] = doh['SCORE'] > 27"
   ]
  },
  {
   "cell_type": "code",
   "execution_count": 127,
   "metadata": {
    "ExecuteTime": {
     "end_time": "2022-04-13T17:08:27.549848Z",
     "start_time": "2022-04-13T17:08:27.473743Z"
    }
   },
   "outputs": [
    {
     "data": {
      "text/html": [
       "<div>\n",
       "<style scoped>\n",
       "    .dataframe tbody tr th:only-of-type {\n",
       "        vertical-align: middle;\n",
       "    }\n",
       "\n",
       "    .dataframe tbody tr th {\n",
       "        vertical-align: top;\n",
       "    }\n",
       "\n",
       "    .dataframe thead th {\n",
       "        text-align: right;\n",
       "    }\n",
       "</style>\n",
       "<table border=\"1\" class=\"dataframe\">\n",
       "  <thead>\n",
       "    <tr style=\"text-align: right;\">\n",
       "      <th></th>\n",
       "      <th>CAMIS</th>\n",
       "      <th>DBA</th>\n",
       "      <th>BORO</th>\n",
       "      <th>BUILDING</th>\n",
       "      <th>STREET</th>\n",
       "      <th>ZIPCODE</th>\n",
       "      <th>PHONE</th>\n",
       "      <th>CUISINE DESCRIPTION</th>\n",
       "      <th>INSPECTION DATE</th>\n",
       "      <th>ACTION</th>\n",
       "      <th>VIOLATION CODE</th>\n",
       "      <th>VIOLATION DESCRIPTION</th>\n",
       "      <th>CRITICAL FLAG</th>\n",
       "      <th>SCORE</th>\n",
       "      <th>GRADE</th>\n",
       "      <th>GRADE DATE</th>\n",
       "      <th>RECORD DATE</th>\n",
       "      <th>INSPECTION TYPE</th>\n",
       "      <th>Latitude</th>\n",
       "      <th>Longitude</th>\n",
       "      <th>Community Board</th>\n",
       "      <th>Council District</th>\n",
       "      <th>Census Tract</th>\n",
       "      <th>BIN</th>\n",
       "      <th>BBL</th>\n",
       "      <th>NTA</th>\n",
       "      <th>A</th>\n",
       "      <th>B</th>\n",
       "      <th>C</th>\n",
       "    </tr>\n",
       "  </thead>\n",
       "  <tbody>\n",
       "    <tr>\n",
       "      <th>0</th>\n",
       "      <td>50008319</td>\n",
       "      <td>POULETTE</td>\n",
       "      <td>Manhattan</td>\n",
       "      <td>790</td>\n",
       "      <td>9 AVENUE</td>\n",
       "      <td>10019.0</td>\n",
       "      <td>2129569488</td>\n",
       "      <td>Chicken</td>\n",
       "      <td>01/28/2019</td>\n",
       "      <td>Violations were cited in the following area(s).</td>\n",
       "      <td>04D</td>\n",
       "      <td>Food worker does not wash hands thoroughly after using the toilet, coughing, sneezing, smoking, ...</td>\n",
       "      <td>Critical</td>\n",
       "      <td>22</td>\n",
       "      <td>NaN</td>\n",
       "      <td>NaN</td>\n",
       "      <td>03/24/2022</td>\n",
       "      <td>Cycle Inspection / Initial Inspection</td>\n",
       "      <td>40.765040</td>\n",
       "      <td>-73.987795</td>\n",
       "      <td>104.0</td>\n",
       "      <td>3.0</td>\n",
       "      <td>13300.0</td>\n",
       "      <td>1025235.0</td>\n",
       "      <td>1.010430e+09</td>\n",
       "      <td>MN15</td>\n",
       "      <td>False</td>\n",
       "      <td>True</td>\n",
       "      <td>False</td>\n",
       "    </tr>\n",
       "    <tr>\n",
       "      <th>1</th>\n",
       "      <td>41678734</td>\n",
       "      <td>TINY'S DINER</td>\n",
       "      <td>Bronx</td>\n",
       "      <td>3603</td>\n",
       "      <td>RIVERDALE AVENUE</td>\n",
       "      <td>10463.0</td>\n",
       "      <td>7187087600</td>\n",
       "      <td>American</td>\n",
       "      <td>09/23/2019</td>\n",
       "      <td>Violations were cited in the following area(s).</td>\n",
       "      <td>04M</td>\n",
       "      <td>Live roaches present in facility's food and/or non-food areas.</td>\n",
       "      <td>Critical</td>\n",
       "      <td>24</td>\n",
       "      <td>NaN</td>\n",
       "      <td>NaN</td>\n",
       "      <td>03/24/2022</td>\n",
       "      <td>Cycle Inspection / Initial Inspection</td>\n",
       "      <td>40.886691</td>\n",
       "      <td>-73.907056</td>\n",
       "      <td>208.0</td>\n",
       "      <td>11.0</td>\n",
       "      <td>29500.0</td>\n",
       "      <td>2084186.0</td>\n",
       "      <td>2.057960e+09</td>\n",
       "      <td>BX29</td>\n",
       "      <td>False</td>\n",
       "      <td>True</td>\n",
       "      <td>False</td>\n",
       "    </tr>\n",
       "    <tr>\n",
       "      <th>2</th>\n",
       "      <td>40795021</td>\n",
       "      <td>TAO RESTAURANT</td>\n",
       "      <td>Manhattan</td>\n",
       "      <td>42</td>\n",
       "      <td>EAST   58 STREET</td>\n",
       "      <td>10022.0</td>\n",
       "      <td>2128882288</td>\n",
       "      <td>Asian/Asian Fusion</td>\n",
       "      <td>03/11/2020</td>\n",
       "      <td>Violations were cited in the following area(s).</td>\n",
       "      <td>10F</td>\n",
       "      <td>Non-food contact surface improperly constructed. Unacceptable material used. Non-food contact su...</td>\n",
       "      <td>Not Critical</td>\n",
       "      <td>9</td>\n",
       "      <td>NaN</td>\n",
       "      <td>NaN</td>\n",
       "      <td>03/24/2022</td>\n",
       "      <td>Cycle Inspection / Initial Inspection</td>\n",
       "      <td>40.762786</td>\n",
       "      <td>-73.971486</td>\n",
       "      <td>105.0</td>\n",
       "      <td>4.0</td>\n",
       "      <td>11202.0</td>\n",
       "      <td>1036073.0</td>\n",
       "      <td>1.012930e+09</td>\n",
       "      <td>MN17</td>\n",
       "      <td>True</td>\n",
       "      <td>False</td>\n",
       "      <td>False</td>\n",
       "    </tr>\n",
       "    <tr>\n",
       "      <th>3</th>\n",
       "      <td>40795021</td>\n",
       "      <td>TAO RESTAURANT</td>\n",
       "      <td>Manhattan</td>\n",
       "      <td>42</td>\n",
       "      <td>EAST   58 STREET</td>\n",
       "      <td>10022.0</td>\n",
       "      <td>2128882288</td>\n",
       "      <td>Asian/Asian Fusion</td>\n",
       "      <td>03/11/2020</td>\n",
       "      <td>Violations were cited in the following area(s).</td>\n",
       "      <td>10F</td>\n",
       "      <td>Non-food contact surface improperly constructed. Unacceptable material used. Non-food contact su...</td>\n",
       "      <td>Not Critical</td>\n",
       "      <td>9</td>\n",
       "      <td>NaN</td>\n",
       "      <td>NaN</td>\n",
       "      <td>03/24/2022</td>\n",
       "      <td>Cycle Inspection / Initial Inspection</td>\n",
       "      <td>40.762786</td>\n",
       "      <td>-73.971486</td>\n",
       "      <td>105.0</td>\n",
       "      <td>4.0</td>\n",
       "      <td>11202.0</td>\n",
       "      <td>1036073.0</td>\n",
       "      <td>1.012930e+09</td>\n",
       "      <td>MN17</td>\n",
       "      <td>True</td>\n",
       "      <td>False</td>\n",
       "      <td>False</td>\n",
       "    </tr>\n",
       "    <tr>\n",
       "      <th>4</th>\n",
       "      <td>40538234</td>\n",
       "      <td>DUNKIN',' BASKIN ROBBINS</td>\n",
       "      <td>Queens</td>\n",
       "      <td>9925</td>\n",
       "      <td>HORACE HARDING EXPRESSWAY</td>\n",
       "      <td>11368.0</td>\n",
       "      <td>7182719222</td>\n",
       "      <td>Donuts</td>\n",
       "      <td>07/29/2021</td>\n",
       "      <td>Violations were cited in the following area(s).</td>\n",
       "      <td>06E</td>\n",
       "      <td>Sanitized equipment or utensil, including in-use food dispensing utensil, improperly used or sto...</td>\n",
       "      <td>Critical</td>\n",
       "      <td>10</td>\n",
       "      <td>A</td>\n",
       "      <td>07/29/2021</td>\n",
       "      <td>03/24/2022</td>\n",
       "      <td>Cycle Inspection / Initial Inspection</td>\n",
       "      <td>40.736185</td>\n",
       "      <td>-73.858052</td>\n",
       "      <td>404.0</td>\n",
       "      <td>21.0</td>\n",
       "      <td>43702.0</td>\n",
       "      <td>4047915.0</td>\n",
       "      <td>4.019480e+09</td>\n",
       "      <td>QN25</td>\n",
       "      <td>True</td>\n",
       "      <td>False</td>\n",
       "      <td>False</td>\n",
       "    </tr>\n",
       "    <tr>\n",
       "      <th>...</th>\n",
       "      <td>...</td>\n",
       "      <td>...</td>\n",
       "      <td>...</td>\n",
       "      <td>...</td>\n",
       "      <td>...</td>\n",
       "      <td>...</td>\n",
       "      <td>...</td>\n",
       "      <td>...</td>\n",
       "      <td>...</td>\n",
       "      <td>...</td>\n",
       "      <td>...</td>\n",
       "      <td>...</td>\n",
       "      <td>...</td>\n",
       "      <td>...</td>\n",
       "      <td>...</td>\n",
       "      <td>...</td>\n",
       "      <td>...</td>\n",
       "      <td>...</td>\n",
       "      <td>...</td>\n",
       "      <td>...</td>\n",
       "      <td>...</td>\n",
       "      <td>...</td>\n",
       "      <td>...</td>\n",
       "      <td>...</td>\n",
       "      <td>...</td>\n",
       "      <td>...</td>\n",
       "      <td>...</td>\n",
       "      <td>...</td>\n",
       "      <td>...</td>\n",
       "    </tr>\n",
       "    <tr>\n",
       "      <th>186222</th>\n",
       "      <td>41556790</td>\n",
       "      <td>FIVE GUYS FAMOUS BURGERS AND FRIES</td>\n",
       "      <td>Manhattan</td>\n",
       "      <td>2847</td>\n",
       "      <td>BROADFWAY</td>\n",
       "      <td>NaN</td>\n",
       "      <td>2126787701</td>\n",
       "      <td>Hamburgers</td>\n",
       "      <td>03/01/2019</td>\n",
       "      <td>Violations were cited in the following area(s).</td>\n",
       "      <td>10F</td>\n",
       "      <td>Non-food contact surface improperly constructed. Unacceptable material used. Non-food contact su...</td>\n",
       "      <td>Not Critical</td>\n",
       "      <td>3</td>\n",
       "      <td>A</td>\n",
       "      <td>03/01/2019</td>\n",
       "      <td>03/24/2022</td>\n",
       "      <td>Cycle Inspection / Initial Inspection</td>\n",
       "      <td>0.000000</td>\n",
       "      <td>0.000000</td>\n",
       "      <td>NaN</td>\n",
       "      <td>NaN</td>\n",
       "      <td>NaN</td>\n",
       "      <td>NaN</td>\n",
       "      <td>1.000000e+00</td>\n",
       "      <td>NaN</td>\n",
       "      <td>True</td>\n",
       "      <td>False</td>\n",
       "      <td>False</td>\n",
       "    </tr>\n",
       "    <tr>\n",
       "      <th>186223</th>\n",
       "      <td>50032876</td>\n",
       "      <td>TANNER SMITH'S</td>\n",
       "      <td>Manhattan</td>\n",
       "      <td>204</td>\n",
       "      <td>WEST   55 STREET</td>\n",
       "      <td>10019.0</td>\n",
       "      <td>9175172283</td>\n",
       "      <td>American</td>\n",
       "      <td>06/07/2019</td>\n",
       "      <td>Violations were cited in the following area(s).</td>\n",
       "      <td>08A</td>\n",
       "      <td>Facility not vermin proof. Harborage or conditions conducive to attracting vermin to the premise...</td>\n",
       "      <td>Not Critical</td>\n",
       "      <td>12</td>\n",
       "      <td>A</td>\n",
       "      <td>06/07/2019</td>\n",
       "      <td>03/24/2022</td>\n",
       "      <td>Cycle Inspection / Initial Inspection</td>\n",
       "      <td>40.764364</td>\n",
       "      <td>-73.981362</td>\n",
       "      <td>105.0</td>\n",
       "      <td>4.0</td>\n",
       "      <td>13700.0</td>\n",
       "      <td>1024857.0</td>\n",
       "      <td>1.010260e+09</td>\n",
       "      <td>MN17</td>\n",
       "      <td>True</td>\n",
       "      <td>False</td>\n",
       "      <td>False</td>\n",
       "    </tr>\n",
       "    <tr>\n",
       "      <th>186224</th>\n",
       "      <td>50003842</td>\n",
       "      <td>T- 45</td>\n",
       "      <td>Manhattan</td>\n",
       "      <td>135</td>\n",
       "      <td>WEST   45 STREET</td>\n",
       "      <td>10036.0</td>\n",
       "      <td>6466403775</td>\n",
       "      <td>American</td>\n",
       "      <td>07/26/2018</td>\n",
       "      <td>Violations were cited in the following area(s).</td>\n",
       "      <td>10B</td>\n",
       "      <td>Plumbing not properly installed or maintained; anti-siphonage or backflow prevention device not ...</td>\n",
       "      <td>Not Critical</td>\n",
       "      <td>49</td>\n",
       "      <td>NaN</td>\n",
       "      <td>NaN</td>\n",
       "      <td>03/24/2022</td>\n",
       "      <td>Cycle Inspection / Initial Inspection</td>\n",
       "      <td>40.757244</td>\n",
       "      <td>-73.983815</td>\n",
       "      <td>105.0</td>\n",
       "      <td>4.0</td>\n",
       "      <td>11900.0</td>\n",
       "      <td>1089796.0</td>\n",
       "      <td>1.009980e+09</td>\n",
       "      <td>MN17</td>\n",
       "      <td>False</td>\n",
       "      <td>False</td>\n",
       "      <td>True</td>\n",
       "    </tr>\n",
       "    <tr>\n",
       "      <th>186225</th>\n",
       "      <td>41640824</td>\n",
       "      <td>RICURAS ECUADORIAN BAKERY</td>\n",
       "      <td>Bronx</td>\n",
       "      <td>1576</td>\n",
       "      <td>WATSON AVENUE</td>\n",
       "      <td>10472.0</td>\n",
       "      <td>7184508363</td>\n",
       "      <td>Spanish</td>\n",
       "      <td>07/20/2018</td>\n",
       "      <td>Violations were cited in the following area(s).</td>\n",
       "      <td>06F</td>\n",
       "      <td>Wiping cloths soiled or not stored in sanitizing solution.</td>\n",
       "      <td>Critical</td>\n",
       "      <td>12</td>\n",
       "      <td>A</td>\n",
       "      <td>07/20/2018</td>\n",
       "      <td>03/24/2022</td>\n",
       "      <td>Cycle Inspection / Initial Inspection</td>\n",
       "      <td>40.826352</td>\n",
       "      <td>-73.876066</td>\n",
       "      <td>209.0</td>\n",
       "      <td>18.0</td>\n",
       "      <td>5001.0</td>\n",
       "      <td>2023533.0</td>\n",
       "      <td>2.037160e+09</td>\n",
       "      <td>BX55</td>\n",
       "      <td>True</td>\n",
       "      <td>False</td>\n",
       "      <td>False</td>\n",
       "    </tr>\n",
       "    <tr>\n",
       "      <th>186226</th>\n",
       "      <td>41450971</td>\n",
       "      <td>GIOVANNI'S RESTAURANT</td>\n",
       "      <td>Bronx</td>\n",
       "      <td>3209</td>\n",
       "      <td>WESTCHESTER AVENUE</td>\n",
       "      <td>10461.0</td>\n",
       "      <td>7188924340</td>\n",
       "      <td>Pizza</td>\n",
       "      <td>06/21/2017</td>\n",
       "      <td>Violations were cited in the following area(s).</td>\n",
       "      <td>06D</td>\n",
       "      <td>Food contact surface not properly washed, rinsed and sanitized after each use and following any ...</td>\n",
       "      <td>Critical</td>\n",
       "      <td>16</td>\n",
       "      <td>NaN</td>\n",
       "      <td>NaN</td>\n",
       "      <td>03/24/2022</td>\n",
       "      <td>Cycle Inspection / Initial Inspection</td>\n",
       "      <td>40.851761</td>\n",
       "      <td>-73.829569</td>\n",
       "      <td>210.0</td>\n",
       "      <td>13.0</td>\n",
       "      <td>30000.0</td>\n",
       "      <td>2047655.0</td>\n",
       "      <td>2.042450e+09</td>\n",
       "      <td>BX10</td>\n",
       "      <td>False</td>\n",
       "      <td>True</td>\n",
       "      <td>False</td>\n",
       "    </tr>\n",
       "  </tbody>\n",
       "</table>\n",
       "<p>186214 rows × 29 columns</p>\n",
       "</div>"
      ],
      "text/plain": [
       "           CAMIS                                 DBA       BORO BUILDING  \\\n",
       "0       50008319                            POULETTE  Manhattan      790   \n",
       "1       41678734                        TINY'S DINER      Bronx     3603   \n",
       "2       40795021                      TAO RESTAURANT  Manhattan       42   \n",
       "3       40795021                      TAO RESTAURANT  Manhattan       42   \n",
       "4       40538234            DUNKIN',' BASKIN ROBBINS     Queens     9925   \n",
       "...          ...                                 ...        ...      ...   \n",
       "186222  41556790  FIVE GUYS FAMOUS BURGERS AND FRIES  Manhattan     2847   \n",
       "186223  50032876                      TANNER SMITH'S  Manhattan      204   \n",
       "186224  50003842                               T- 45  Manhattan      135   \n",
       "186225  41640824           RICURAS ECUADORIAN BAKERY      Bronx     1576   \n",
       "186226  41450971               GIOVANNI'S RESTAURANT      Bronx     3209   \n",
       "\n",
       "                           STREET  ZIPCODE       PHONE CUISINE DESCRIPTION  \\\n",
       "0                        9 AVENUE  10019.0  2129569488             Chicken   \n",
       "1                RIVERDALE AVENUE  10463.0  7187087600            American   \n",
       "2                EAST   58 STREET  10022.0  2128882288  Asian/Asian Fusion   \n",
       "3                EAST   58 STREET  10022.0  2128882288  Asian/Asian Fusion   \n",
       "4       HORACE HARDING EXPRESSWAY  11368.0  7182719222              Donuts   \n",
       "...                           ...      ...         ...                 ...   \n",
       "186222                  BROADFWAY      NaN  2126787701          Hamburgers   \n",
       "186223           WEST   55 STREET  10019.0  9175172283            American   \n",
       "186224           WEST   45 STREET  10036.0  6466403775            American   \n",
       "186225              WATSON AVENUE  10472.0  7184508363             Spanish   \n",
       "186226         WESTCHESTER AVENUE  10461.0  7188924340               Pizza   \n",
       "\n",
       "       INSPECTION DATE                                           ACTION  \\\n",
       "0           01/28/2019  Violations were cited in the following area(s).   \n",
       "1           09/23/2019  Violations were cited in the following area(s).   \n",
       "2           03/11/2020  Violations were cited in the following area(s).   \n",
       "3           03/11/2020  Violations were cited in the following area(s).   \n",
       "4           07/29/2021  Violations were cited in the following area(s).   \n",
       "...                ...                                              ...   \n",
       "186222      03/01/2019  Violations were cited in the following area(s).   \n",
       "186223      06/07/2019  Violations were cited in the following area(s).   \n",
       "186224      07/26/2018  Violations were cited in the following area(s).   \n",
       "186225      07/20/2018  Violations were cited in the following area(s).   \n",
       "186226      06/21/2017  Violations were cited in the following area(s).   \n",
       "\n",
       "       VIOLATION CODE  \\\n",
       "0                 04D   \n",
       "1                 04M   \n",
       "2                 10F   \n",
       "3                 10F   \n",
       "4                 06E   \n",
       "...               ...   \n",
       "186222            10F   \n",
       "186223            08A   \n",
       "186224            10B   \n",
       "186225            06F   \n",
       "186226            06D   \n",
       "\n",
       "                                                                                      VIOLATION DESCRIPTION  \\\n",
       "0       Food worker does not wash hands thoroughly after using the toilet, coughing, sneezing, smoking, ...   \n",
       "1                                            Live roaches present in facility's food and/or non-food areas.   \n",
       "2       Non-food contact surface improperly constructed. Unacceptable material used. Non-food contact su...   \n",
       "3       Non-food contact surface improperly constructed. Unacceptable material used. Non-food contact su...   \n",
       "4       Sanitized equipment or utensil, including in-use food dispensing utensil, improperly used or sto...   \n",
       "...                                                                                                     ...   \n",
       "186222  Non-food contact surface improperly constructed. Unacceptable material used. Non-food contact su...   \n",
       "186223  Facility not vermin proof. Harborage or conditions conducive to attracting vermin to the premise...   \n",
       "186224  Plumbing not properly installed or maintained; anti-siphonage or backflow prevention device not ...   \n",
       "186225                                           Wiping cloths soiled or not stored in sanitizing solution.   \n",
       "186226  Food contact surface not properly washed, rinsed and sanitized after each use and following any ...   \n",
       "\n",
       "       CRITICAL FLAG  SCORE GRADE  GRADE DATE RECORD DATE  \\\n",
       "0           Critical     22   NaN         NaN  03/24/2022   \n",
       "1           Critical     24   NaN         NaN  03/24/2022   \n",
       "2       Not Critical      9   NaN         NaN  03/24/2022   \n",
       "3       Not Critical      9   NaN         NaN  03/24/2022   \n",
       "4           Critical     10     A  07/29/2021  03/24/2022   \n",
       "...              ...    ...   ...         ...         ...   \n",
       "186222  Not Critical      3     A  03/01/2019  03/24/2022   \n",
       "186223  Not Critical     12     A  06/07/2019  03/24/2022   \n",
       "186224  Not Critical     49   NaN         NaN  03/24/2022   \n",
       "186225      Critical     12     A  07/20/2018  03/24/2022   \n",
       "186226      Critical     16   NaN         NaN  03/24/2022   \n",
       "\n",
       "                              INSPECTION TYPE   Latitude  Longitude  \\\n",
       "0       Cycle Inspection / Initial Inspection  40.765040 -73.987795   \n",
       "1       Cycle Inspection / Initial Inspection  40.886691 -73.907056   \n",
       "2       Cycle Inspection / Initial Inspection  40.762786 -73.971486   \n",
       "3       Cycle Inspection / Initial Inspection  40.762786 -73.971486   \n",
       "4       Cycle Inspection / Initial Inspection  40.736185 -73.858052   \n",
       "...                                       ...        ...        ...   \n",
       "186222  Cycle Inspection / Initial Inspection   0.000000   0.000000   \n",
       "186223  Cycle Inspection / Initial Inspection  40.764364 -73.981362   \n",
       "186224  Cycle Inspection / Initial Inspection  40.757244 -73.983815   \n",
       "186225  Cycle Inspection / Initial Inspection  40.826352 -73.876066   \n",
       "186226  Cycle Inspection / Initial Inspection  40.851761 -73.829569   \n",
       "\n",
       "        Community Board  Council District  Census Tract        BIN  \\\n",
       "0                 104.0               3.0       13300.0  1025235.0   \n",
       "1                 208.0              11.0       29500.0  2084186.0   \n",
       "2                 105.0               4.0       11202.0  1036073.0   \n",
       "3                 105.0               4.0       11202.0  1036073.0   \n",
       "4                 404.0              21.0       43702.0  4047915.0   \n",
       "...                 ...               ...           ...        ...   \n",
       "186222              NaN               NaN           NaN        NaN   \n",
       "186223            105.0               4.0       13700.0  1024857.0   \n",
       "186224            105.0               4.0       11900.0  1089796.0   \n",
       "186225            209.0              18.0        5001.0  2023533.0   \n",
       "186226            210.0              13.0       30000.0  2047655.0   \n",
       "\n",
       "                 BBL   NTA      A      B      C  \n",
       "0       1.010430e+09  MN15  False   True  False  \n",
       "1       2.057960e+09  BX29  False   True  False  \n",
       "2       1.012930e+09  MN17   True  False  False  \n",
       "3       1.012930e+09  MN17   True  False  False  \n",
       "4       4.019480e+09  QN25   True  False  False  \n",
       "...              ...   ...    ...    ...    ...  \n",
       "186222  1.000000e+00   NaN   True  False  False  \n",
       "186223  1.010260e+09  MN17   True  False  False  \n",
       "186224  1.009980e+09  MN17  False  False   True  \n",
       "186225  2.037160e+09  BX55   True  False  False  \n",
       "186226  2.042450e+09  BX10  False   True  False  \n",
       "\n",
       "[186214 rows x 29 columns]"
      ]
     },
     "execution_count": 127,
     "metadata": {},
     "output_type": "execute_result"
    }
   ],
   "source": [
    "doh"
   ]
  },
  {
   "cell_type": "code",
   "execution_count": 128,
   "metadata": {
    "ExecuteTime": {
     "end_time": "2022-04-13T17:08:34.524141Z",
     "start_time": "2022-04-13T17:08:34.460245Z"
    }
   },
   "outputs": [],
   "source": [
    "doh['PHONE'] = '+1'+doh['PHONE']"
   ]
  },
  {
   "cell_type": "markdown",
   "metadata": {},
   "source": [
    "Of the 19,792 unique restaurants, 12,221 did not pass the intitial inspections at least once."
   ]
  },
  {
   "cell_type": "code",
   "execution_count": 129,
   "metadata": {
    "ExecuteTime": {
     "end_time": "2022-04-13T17:08:44.563524Z",
     "start_time": "2022-04-13T17:08:44.428513Z"
    }
   },
   "outputs": [],
   "source": [
    "doh_grades = doh.groupby(['CAMIS'])['PHONE','BORO','BUILDING','STREET','ZIPCODE',\n",
    "                                    'PHONE','CUISINE DESCRIPTION',\n",
    "                                    'Latitude','Longitude','Community Board',\n",
    "                                    'Council District','Census Tract',\n",
    "                                    'A', 'B','C'].sum()"
   ]
  },
  {
   "cell_type": "code",
   "execution_count": 130,
   "metadata": {
    "ExecuteTime": {
     "end_time": "2022-04-13T17:08:46.599325Z",
     "start_time": "2022-04-13T17:08:46.565784Z"
    }
   },
   "outputs": [
    {
     "data": {
      "text/html": [
       "<div>\n",
       "<style scoped>\n",
       "    .dataframe tbody tr th:only-of-type {\n",
       "        vertical-align: middle;\n",
       "    }\n",
       "\n",
       "    .dataframe tbody tr th {\n",
       "        vertical-align: top;\n",
       "    }\n",
       "\n",
       "    .dataframe thead th {\n",
       "        text-align: right;\n",
       "    }\n",
       "</style>\n",
       "<table border=\"1\" class=\"dataframe\">\n",
       "  <thead>\n",
       "    <tr style=\"text-align: right;\">\n",
       "      <th></th>\n",
       "      <th>ZIPCODE</th>\n",
       "      <th>Latitude</th>\n",
       "      <th>Longitude</th>\n",
       "      <th>Community Board</th>\n",
       "      <th>Council District</th>\n",
       "      <th>Census Tract</th>\n",
       "      <th>A</th>\n",
       "      <th>B</th>\n",
       "      <th>C</th>\n",
       "    </tr>\n",
       "    <tr>\n",
       "      <th>CAMIS</th>\n",
       "      <th></th>\n",
       "      <th></th>\n",
       "      <th></th>\n",
       "      <th></th>\n",
       "      <th></th>\n",
       "      <th></th>\n",
       "      <th></th>\n",
       "      <th></th>\n",
       "      <th></th>\n",
       "    </tr>\n",
       "  </thead>\n",
       "  <tbody>\n",
       "    <tr>\n",
       "      <th>30075445</th>\n",
       "      <td>83696.0</td>\n",
       "      <td>326.785850</td>\n",
       "      <td>-590.847775</td>\n",
       "      <td>1688.0</td>\n",
       "      <td>104.0</td>\n",
       "      <td>201600.0</td>\n",
       "      <td>1</td>\n",
       "      <td>7</td>\n",
       "      <td>0</td>\n",
       "    </tr>\n",
       "    <tr>\n",
       "      <th>30112340</th>\n",
       "      <td>56125.0</td>\n",
       "      <td>203.313258</td>\n",
       "      <td>-369.810407</td>\n",
       "      <td>1545.0</td>\n",
       "      <td>200.0</td>\n",
       "      <td>163500.0</td>\n",
       "      <td>5</td>\n",
       "      <td>0</td>\n",
       "      <td>0</td>\n",
       "    </tr>\n",
       "    <tr>\n",
       "      <th>30191841</th>\n",
       "      <td>50095.0</td>\n",
       "      <td>203.836629</td>\n",
       "      <td>-369.921552</td>\n",
       "      <td>520.0</td>\n",
       "      <td>15.0</td>\n",
       "      <td>69500.0</td>\n",
       "      <td>5</td>\n",
       "      <td>0</td>\n",
       "      <td>0</td>\n",
       "    </tr>\n",
       "    <tr>\n",
       "      <th>40356018</th>\n",
       "      <td>44896.0</td>\n",
       "      <td>162.319681</td>\n",
       "      <td>-295.928361</td>\n",
       "      <td>1252.0</td>\n",
       "      <td>188.0</td>\n",
       "      <td>139200.0</td>\n",
       "      <td>4</td>\n",
       "      <td>0</td>\n",
       "      <td>0</td>\n",
       "    </tr>\n",
       "    <tr>\n",
       "      <th>40356483</th>\n",
       "      <td>101106.0</td>\n",
       "      <td>365.581004</td>\n",
       "      <td>-665.162905</td>\n",
       "      <td>2862.0</td>\n",
       "      <td>414.0</td>\n",
       "      <td>630000.0</td>\n",
       "      <td>5</td>\n",
       "      <td>4</td>\n",
       "      <td>0</td>\n",
       "    </tr>\n",
       "    <tr>\n",
       "      <th>...</th>\n",
       "      <td>...</td>\n",
       "      <td>...</td>\n",
       "      <td>...</td>\n",
       "      <td>...</td>\n",
       "      <td>...</td>\n",
       "      <td>...</td>\n",
       "      <td>...</td>\n",
       "      <td>...</td>\n",
       "      <td>...</td>\n",
       "    </tr>\n",
       "    <tr>\n",
       "      <th>50115169</th>\n",
       "      <td>10002.0</td>\n",
       "      <td>40.714841</td>\n",
       "      <td>-73.991700</td>\n",
       "      <td>103.0</td>\n",
       "      <td>1.0</td>\n",
       "      <td>1600.0</td>\n",
       "      <td>1</td>\n",
       "      <td>0</td>\n",
       "      <td>0</td>\n",
       "    </tr>\n",
       "    <tr>\n",
       "      <th>50116155</th>\n",
       "      <td>33699.0</td>\n",
       "      <td>122.051758</td>\n",
       "      <td>-221.752145</td>\n",
       "      <td>948.0</td>\n",
       "      <td>123.0</td>\n",
       "      <td>111900.0</td>\n",
       "      <td>3</td>\n",
       "      <td>0</td>\n",
       "      <td>0</td>\n",
       "    </tr>\n",
       "    <tr>\n",
       "      <th>50117350</th>\n",
       "      <td>50090.0</td>\n",
       "      <td>203.762660</td>\n",
       "      <td>-369.947575</td>\n",
       "      <td>525.0</td>\n",
       "      <td>15.0</td>\n",
       "      <td>54500.0</td>\n",
       "      <td>5</td>\n",
       "      <td>0</td>\n",
       "      <td>0</td>\n",
       "    </tr>\n",
       "    <tr>\n",
       "      <th>50117434</th>\n",
       "      <td>79604.0</td>\n",
       "      <td>285.289075</td>\n",
       "      <td>-517.196049</td>\n",
       "      <td>2821.0</td>\n",
       "      <td>175.0</td>\n",
       "      <td>228900.0</td>\n",
       "      <td>0</td>\n",
       "      <td>0</td>\n",
       "      <td>7</td>\n",
       "    </tr>\n",
       "    <tr>\n",
       "      <th>50117959</th>\n",
       "      <td>30087.0</td>\n",
       "      <td>122.371566</td>\n",
       "      <td>-221.827553</td>\n",
       "      <td>333.0</td>\n",
       "      <td>24.0</td>\n",
       "      <td>51000.0</td>\n",
       "      <td>3</td>\n",
       "      <td>0</td>\n",
       "      <td>0</td>\n",
       "    </tr>\n",
       "  </tbody>\n",
       "</table>\n",
       "<p>19790 rows × 9 columns</p>\n",
       "</div>"
      ],
      "text/plain": [
       "           ZIPCODE    Latitude   Longitude  Community Board  Council District  \\\n",
       "CAMIS                                                                           \n",
       "30075445   83696.0  326.785850 -590.847775           1688.0             104.0   \n",
       "30112340   56125.0  203.313258 -369.810407           1545.0             200.0   \n",
       "30191841   50095.0  203.836629 -369.921552            520.0              15.0   \n",
       "40356018   44896.0  162.319681 -295.928361           1252.0             188.0   \n",
       "40356483  101106.0  365.581004 -665.162905           2862.0             414.0   \n",
       "...            ...         ...         ...              ...               ...   \n",
       "50115169   10002.0   40.714841  -73.991700            103.0               1.0   \n",
       "50116155   33699.0  122.051758 -221.752145            948.0             123.0   \n",
       "50117350   50090.0  203.762660 -369.947575            525.0              15.0   \n",
       "50117434   79604.0  285.289075 -517.196049           2821.0             175.0   \n",
       "50117959   30087.0  122.371566 -221.827553            333.0              24.0   \n",
       "\n",
       "          Census Tract  A  B  C  \n",
       "CAMIS                            \n",
       "30075445      201600.0  1  7  0  \n",
       "30112340      163500.0  5  0  0  \n",
       "30191841       69500.0  5  0  0  \n",
       "40356018      139200.0  4  0  0  \n",
       "40356483      630000.0  5  4  0  \n",
       "...                ... .. .. ..  \n",
       "50115169        1600.0  1  0  0  \n",
       "50116155      111900.0  3  0  0  \n",
       "50117350       54500.0  5  0  0  \n",
       "50117434      228900.0  0  0  7  \n",
       "50117959       51000.0  3  0  0  \n",
       "\n",
       "[19790 rows x 9 columns]"
      ]
     },
     "execution_count": 130,
     "metadata": {},
     "output_type": "execute_result"
    }
   ],
   "source": [
    "doh_grades"
   ]
  },
  {
   "cell_type": "code",
   "execution_count": 133,
   "metadata": {
    "ExecuteTime": {
     "end_time": "2022-04-13T17:09:31.567720Z",
     "start_time": "2022-04-13T17:09:31.541780Z"
    }
   },
   "outputs": [
    {
     "data": {
      "text/html": [
       "<div>\n",
       "<style scoped>\n",
       "    .dataframe tbody tr th:only-of-type {\n",
       "        vertical-align: middle;\n",
       "    }\n",
       "\n",
       "    .dataframe tbody tr th {\n",
       "        vertical-align: top;\n",
       "    }\n",
       "\n",
       "    .dataframe thead th {\n",
       "        text-align: right;\n",
       "    }\n",
       "</style>\n",
       "<table border=\"1\" class=\"dataframe\">\n",
       "  <thead>\n",
       "    <tr style=\"text-align: right;\">\n",
       "      <th></th>\n",
       "      <th>ZIPCODE</th>\n",
       "      <th>Latitude</th>\n",
       "      <th>Longitude</th>\n",
       "      <th>Community Board</th>\n",
       "      <th>Council District</th>\n",
       "      <th>Census Tract</th>\n",
       "      <th>A</th>\n",
       "      <th>B</th>\n",
       "      <th>C</th>\n",
       "    </tr>\n",
       "    <tr>\n",
       "      <th>CAMIS</th>\n",
       "      <th></th>\n",
       "      <th></th>\n",
       "      <th></th>\n",
       "      <th></th>\n",
       "      <th></th>\n",
       "      <th></th>\n",
       "      <th></th>\n",
       "      <th></th>\n",
       "      <th></th>\n",
       "    </tr>\n",
       "  </thead>\n",
       "  <tbody>\n",
       "    <tr>\n",
       "      <th>30075445</th>\n",
       "      <td>83696.0</td>\n",
       "      <td>326.785850</td>\n",
       "      <td>-590.847775</td>\n",
       "      <td>1688.0</td>\n",
       "      <td>104.0</td>\n",
       "      <td>201600.0</td>\n",
       "      <td>1</td>\n",
       "      <td>7</td>\n",
       "      <td>0</td>\n",
       "    </tr>\n",
       "    <tr>\n",
       "      <th>40356483</th>\n",
       "      <td>101106.0</td>\n",
       "      <td>365.581004</td>\n",
       "      <td>-665.162905</td>\n",
       "      <td>2862.0</td>\n",
       "      <td>414.0</td>\n",
       "      <td>630000.0</td>\n",
       "      <td>5</td>\n",
       "      <td>4</td>\n",
       "      <td>0</td>\n",
       "    </tr>\n",
       "    <tr>\n",
       "      <th>40362264</th>\n",
       "      <td>70175.0</td>\n",
       "      <td>285.548344</td>\n",
       "      <td>-517.773967</td>\n",
       "      <td>749.0</td>\n",
       "      <td>42.0</td>\n",
       "      <td>126700.0</td>\n",
       "      <td>3</td>\n",
       "      <td>4</td>\n",
       "      <td>0</td>\n",
       "    </tr>\n",
       "    <tr>\n",
       "      <th>40362274</th>\n",
       "      <td>70084.0</td>\n",
       "      <td>285.080205</td>\n",
       "      <td>-517.982347</td>\n",
       "      <td>714.0</td>\n",
       "      <td>7.0</td>\n",
       "      <td>38507.0</td>\n",
       "      <td>1</td>\n",
       "      <td>6</td>\n",
       "      <td>0</td>\n",
       "    </tr>\n",
       "    <tr>\n",
       "      <th>40362715</th>\n",
       "      <td>230115.0</td>\n",
       "      <td>936.235858</td>\n",
       "      <td>-1702.198016</td>\n",
       "      <td>2323.0</td>\n",
       "      <td>23.0</td>\n",
       "      <td>16100.0</td>\n",
       "      <td>7</td>\n",
       "      <td>11</td>\n",
       "      <td>5</td>\n",
       "    </tr>\n",
       "    <tr>\n",
       "      <th>...</th>\n",
       "      <td>...</td>\n",
       "      <td>...</td>\n",
       "      <td>...</td>\n",
       "      <td>...</td>\n",
       "      <td>...</td>\n",
       "      <td>...</td>\n",
       "      <td>...</td>\n",
       "      <td>...</td>\n",
       "      <td>...</td>\n",
       "    </tr>\n",
       "    <tr>\n",
       "      <th>50111805</th>\n",
       "      <td>30042.0</td>\n",
       "      <td>122.195939</td>\n",
       "      <td>-222.011203</td>\n",
       "      <td>306.0</td>\n",
       "      <td>9.0</td>\n",
       "      <td>20100.0</td>\n",
       "      <td>0</td>\n",
       "      <td>3</td>\n",
       "      <td>0</td>\n",
       "    </tr>\n",
       "    <tr>\n",
       "      <th>50113198</th>\n",
       "      <td>40008.0</td>\n",
       "      <td>162.854183</td>\n",
       "      <td>-295.984590</td>\n",
       "      <td>412.0</td>\n",
       "      <td>4.0</td>\n",
       "      <td>3200.0</td>\n",
       "      <td>0</td>\n",
       "      <td>4</td>\n",
       "      <td>0</td>\n",
       "    </tr>\n",
       "    <tr>\n",
       "      <th>50113951</th>\n",
       "      <td>41820.0</td>\n",
       "      <td>163.249463</td>\n",
       "      <td>-295.613108</td>\n",
       "      <td>808.0</td>\n",
       "      <td>32.0</td>\n",
       "      <td>33200.0</td>\n",
       "      <td>0</td>\n",
       "      <td>4</td>\n",
       "      <td>0</td>\n",
       "    </tr>\n",
       "    <tr>\n",
       "      <th>50113984</th>\n",
       "      <td>30081.0</td>\n",
       "      <td>122.429129</td>\n",
       "      <td>-221.880270</td>\n",
       "      <td>327.0</td>\n",
       "      <td>21.0</td>\n",
       "      <td>60900.0</td>\n",
       "      <td>0</td>\n",
       "      <td>3</td>\n",
       "      <td>0</td>\n",
       "    </tr>\n",
       "    <tr>\n",
       "      <th>50114370</th>\n",
       "      <td>33639.0</td>\n",
       "      <td>121.993404</td>\n",
       "      <td>-221.794553</td>\n",
       "      <td>927.0</td>\n",
       "      <td>123.0</td>\n",
       "      <td>106500.0</td>\n",
       "      <td>0</td>\n",
       "      <td>3</td>\n",
       "      <td>0</td>\n",
       "    </tr>\n",
       "  </tbody>\n",
       "</table>\n",
       "<p>9977 rows × 9 columns</p>\n",
       "</div>"
      ],
      "text/plain": [
       "           ZIPCODE    Latitude    Longitude  Community Board  \\\n",
       "CAMIS                                                          \n",
       "30075445   83696.0  326.785850  -590.847775           1688.0   \n",
       "40356483  101106.0  365.581004  -665.162905           2862.0   \n",
       "40362264   70175.0  285.548344  -517.773967            749.0   \n",
       "40362274   70084.0  285.080205  -517.982347            714.0   \n",
       "40362715  230115.0  936.235858 -1702.198016           2323.0   \n",
       "...            ...         ...          ...              ...   \n",
       "50111805   30042.0  122.195939  -222.011203            306.0   \n",
       "50113198   40008.0  162.854183  -295.984590            412.0   \n",
       "50113951   41820.0  163.249463  -295.613108            808.0   \n",
       "50113984   30081.0  122.429129  -221.880270            327.0   \n",
       "50114370   33639.0  121.993404  -221.794553            927.0   \n",
       "\n",
       "          Council District  Census Tract  A   B  C  \n",
       "CAMIS                                               \n",
       "30075445             104.0      201600.0  1   7  0  \n",
       "40356483             414.0      630000.0  5   4  0  \n",
       "40362264              42.0      126700.0  3   4  0  \n",
       "40362274               7.0       38507.0  1   6  0  \n",
       "40362715              23.0       16100.0  7  11  5  \n",
       "...                    ...           ... ..  .. ..  \n",
       "50111805               9.0       20100.0  0   3  0  \n",
       "50113198               4.0        3200.0  0   4  0  \n",
       "50113951              32.0       33200.0  0   4  0  \n",
       "50113984              21.0       60900.0  0   3  0  \n",
       "50114370             123.0      106500.0  0   3  0  \n",
       "\n",
       "[9977 rows x 9 columns]"
      ]
     },
     "execution_count": 133,
     "metadata": {},
     "output_type": "execute_result"
    }
   ],
   "source": [
    "doh_grades[doh_grades['B'] > 0]"
   ]
  },
  {
   "cell_type": "markdown",
   "metadata": {},
   "source": [
    "Of the 19,792 unique restaurants, 9,978 failed an initial cycle inspection at least once."
   ]
  },
  {
   "cell_type": "code",
   "execution_count": 132,
   "metadata": {
    "ExecuteTime": {
     "end_time": "2022-04-13T17:09:08.867808Z",
     "start_time": "2022-04-13T17:09:08.833131Z"
    }
   },
   "outputs": [
    {
     "data": {
      "text/html": [
       "<div>\n",
       "<style scoped>\n",
       "    .dataframe tbody tr th:only-of-type {\n",
       "        vertical-align: middle;\n",
       "    }\n",
       "\n",
       "    .dataframe tbody tr th {\n",
       "        vertical-align: top;\n",
       "    }\n",
       "\n",
       "    .dataframe thead th {\n",
       "        text-align: right;\n",
       "    }\n",
       "</style>\n",
       "<table border=\"1\" class=\"dataframe\">\n",
       "  <thead>\n",
       "    <tr style=\"text-align: right;\">\n",
       "      <th></th>\n",
       "      <th>ZIPCODE</th>\n",
       "      <th>Latitude</th>\n",
       "      <th>Longitude</th>\n",
       "      <th>Community Board</th>\n",
       "      <th>Council District</th>\n",
       "      <th>Census Tract</th>\n",
       "      <th>A</th>\n",
       "      <th>B</th>\n",
       "      <th>C</th>\n",
       "    </tr>\n",
       "    <tr>\n",
       "      <th>CAMIS</th>\n",
       "      <th></th>\n",
       "      <th></th>\n",
       "      <th></th>\n",
       "      <th></th>\n",
       "      <th></th>\n",
       "      <th></th>\n",
       "      <th></th>\n",
       "      <th></th>\n",
       "      <th></th>\n",
       "    </tr>\n",
       "  </thead>\n",
       "  <tbody>\n",
       "    <tr>\n",
       "      <th>40360076</th>\n",
       "      <td>112180.0</td>\n",
       "      <td>406.433297</td>\n",
       "      <td>-739.781887</td>\n",
       "      <td>3120.0</td>\n",
       "      <td>390.0</td>\n",
       "      <td>496000.0</td>\n",
       "      <td>4</td>\n",
       "      <td>0</td>\n",
       "      <td>6</td>\n",
       "    </tr>\n",
       "    <tr>\n",
       "      <th>40362715</th>\n",
       "      <td>230115.0</td>\n",
       "      <td>936.235858</td>\n",
       "      <td>-1702.198016</td>\n",
       "      <td>2323.0</td>\n",
       "      <td>23.0</td>\n",
       "      <td>16100.0</td>\n",
       "      <td>7</td>\n",
       "      <td>11</td>\n",
       "      <td>5</td>\n",
       "    </tr>\n",
       "    <tr>\n",
       "      <th>40363630</th>\n",
       "      <td>200560.0</td>\n",
       "      <td>815.505622</td>\n",
       "      <td>-1479.131518</td>\n",
       "      <td>2160.0</td>\n",
       "      <td>100.0</td>\n",
       "      <td>280000.0</td>\n",
       "      <td>2</td>\n",
       "      <td>11</td>\n",
       "      <td>7</td>\n",
       "    </tr>\n",
       "    <tr>\n",
       "      <th>40364179</th>\n",
       "      <td>190475.0</td>\n",
       "      <td>775.226054</td>\n",
       "      <td>-1405.243039</td>\n",
       "      <td>2033.0</td>\n",
       "      <td>133.0</td>\n",
       "      <td>366700.0</td>\n",
       "      <td>3</td>\n",
       "      <td>5</td>\n",
       "      <td>11</td>\n",
       "    </tr>\n",
       "    <tr>\n",
       "      <th>40364362</th>\n",
       "      <td>120228.0</td>\n",
       "      <td>489.124894</td>\n",
       "      <td>-887.733038</td>\n",
       "      <td>1260.0</td>\n",
       "      <td>48.0</td>\n",
       "      <td>124800.0</td>\n",
       "      <td>3</td>\n",
       "      <td>3</td>\n",
       "      <td>6</td>\n",
       "    </tr>\n",
       "    <tr>\n",
       "      <th>...</th>\n",
       "      <td>...</td>\n",
       "      <td>...</td>\n",
       "      <td>...</td>\n",
       "      <td>...</td>\n",
       "      <td>...</td>\n",
       "      <td>...</td>\n",
       "      <td>...</td>\n",
       "      <td>...</td>\n",
       "      <td>...</td>\n",
       "    </tr>\n",
       "    <tr>\n",
       "      <th>50110216</th>\n",
       "      <td>79604.0</td>\n",
       "      <td>285.233461</td>\n",
       "      <td>-517.186091</td>\n",
       "      <td>2828.0</td>\n",
       "      <td>147.0</td>\n",
       "      <td>188307.0</td>\n",
       "      <td>0</td>\n",
       "      <td>0</td>\n",
       "      <td>7</td>\n",
       "    </tr>\n",
       "    <tr>\n",
       "      <th>50112974</th>\n",
       "      <td>70049.0</td>\n",
       "      <td>285.004311</td>\n",
       "      <td>-518.044896</td>\n",
       "      <td>707.0</td>\n",
       "      <td>7.0</td>\n",
       "      <td>14700.0</td>\n",
       "      <td>0</td>\n",
       "      <td>0</td>\n",
       "      <td>7</td>\n",
       "    </tr>\n",
       "    <tr>\n",
       "      <th>50113139</th>\n",
       "      <td>100926.0</td>\n",
       "      <td>365.433842</td>\n",
       "      <td>-665.981428</td>\n",
       "      <td>2799.0</td>\n",
       "      <td>423.0</td>\n",
       "      <td>259200.0</td>\n",
       "      <td>0</td>\n",
       "      <td>0</td>\n",
       "      <td>9</td>\n",
       "    </tr>\n",
       "    <tr>\n",
       "      <th>50113991</th>\n",
       "      <td>60162.0</td>\n",
       "      <td>244.858259</td>\n",
       "      <td>-443.760539</td>\n",
       "      <td>654.0</td>\n",
       "      <td>42.0</td>\n",
       "      <td>121800.0</td>\n",
       "      <td>0</td>\n",
       "      <td>0</td>\n",
       "      <td>6</td>\n",
       "    </tr>\n",
       "    <tr>\n",
       "      <th>50117434</th>\n",
       "      <td>79604.0</td>\n",
       "      <td>285.289075</td>\n",
       "      <td>-517.196049</td>\n",
       "      <td>2821.0</td>\n",
       "      <td>175.0</td>\n",
       "      <td>228900.0</td>\n",
       "      <td>0</td>\n",
       "      <td>0</td>\n",
       "      <td>7</td>\n",
       "    </tr>\n",
       "  </tbody>\n",
       "</table>\n",
       "<p>5648 rows × 9 columns</p>\n",
       "</div>"
      ],
      "text/plain": [
       "           ZIPCODE    Latitude    Longitude  Community Board  \\\n",
       "CAMIS                                                          \n",
       "40360076  112180.0  406.433297  -739.781887           3120.0   \n",
       "40362715  230115.0  936.235858 -1702.198016           2323.0   \n",
       "40363630  200560.0  815.505622 -1479.131518           2160.0   \n",
       "40364179  190475.0  775.226054 -1405.243039           2033.0   \n",
       "40364362  120228.0  489.124894  -887.733038           1260.0   \n",
       "...            ...         ...          ...              ...   \n",
       "50110216   79604.0  285.233461  -517.186091           2828.0   \n",
       "50112974   70049.0  285.004311  -518.044896            707.0   \n",
       "50113139  100926.0  365.433842  -665.981428           2799.0   \n",
       "50113991   60162.0  244.858259  -443.760539            654.0   \n",
       "50117434   79604.0  285.289075  -517.196049           2821.0   \n",
       "\n",
       "          Council District  Census Tract  A   B   C  \n",
       "CAMIS                                                \n",
       "40360076             390.0      496000.0  4   0   6  \n",
       "40362715              23.0       16100.0  7  11   5  \n",
       "40363630             100.0      280000.0  2  11   7  \n",
       "40364179             133.0      366700.0  3   5  11  \n",
       "40364362              48.0      124800.0  3   3   6  \n",
       "...                    ...           ... ..  ..  ..  \n",
       "50110216             147.0      188307.0  0   0   7  \n",
       "50112974               7.0       14700.0  0   0   7  \n",
       "50113139             423.0      259200.0  0   0   9  \n",
       "50113991              42.0      121800.0  0   0   6  \n",
       "50117434             175.0      228900.0  0   0   7  \n",
       "\n",
       "[5648 rows x 9 columns]"
      ]
     },
     "execution_count": 132,
     "metadata": {},
     "output_type": "execute_result"
    }
   ],
   "source": [
    "doh_grades[doh_grades['C'] > 0]"
   ]
  },
  {
   "cell_type": "markdown",
   "metadata": {},
   "source": [
    "Of the 19,792 unique restaurants, 5,648 severly failed an initial cycle inspection at least once and are at risk of being closed by the DOHMH."
   ]
  },
  {
   "cell_type": "code",
   "execution_count": 134,
   "metadata": {
    "ExecuteTime": {
     "end_time": "2022-04-13T17:10:23.189704Z",
     "start_time": "2022-04-13T17:10:22.468092Z"
    }
   },
   "outputs": [
    {
     "data": {
      "text/plain": [
       "11502"
      ]
     },
     "execution_count": 134,
     "metadata": {},
     "output_type": "execute_result"
    }
   ],
   "source": [
    "doh.duplicated().sum()"
   ]
  },
  {
   "cell_type": "code",
   "execution_count": 135,
   "metadata": {
    "ExecuteTime": {
     "end_time": "2022-04-13T17:10:27.080054Z",
     "start_time": "2022-04-13T17:10:26.225059Z"
    }
   },
   "outputs": [],
   "source": [
    "doh.drop_duplicates(inplace=True)"
   ]
  },
  {
   "cell_type": "code",
   "execution_count": 136,
   "metadata": {
    "ExecuteTime": {
     "end_time": "2022-04-13T17:10:27.762440Z",
     "start_time": "2022-04-13T17:10:27.754708Z"
    }
   },
   "outputs": [
    {
     "data": {
      "text/plain": [
       "(174712, 29)"
      ]
     },
     "execution_count": 136,
     "metadata": {},
     "output_type": "execute_result"
    }
   ],
   "source": [
    "doh.shape"
   ]
  },
  {
   "cell_type": "code",
   "execution_count": 137,
   "metadata": {
    "ExecuteTime": {
     "end_time": "2022-04-13T17:10:30.463785Z",
     "start_time": "2022-04-13T17:10:30.454255Z"
    }
   },
   "outputs": [
    {
     "data": {
      "text/plain": [
       "0"
      ]
     },
     "execution_count": 137,
     "metadata": {},
     "output_type": "execute_result"
    }
   ],
   "source": [
    "doh['SCORE'].isna().sum()"
   ]
  },
  {
   "cell_type": "code",
   "execution_count": null,
   "metadata": {
    "ExecuteTime": {
     "end_time": "2022-03-26T00:43:44.952194Z",
     "start_time": "2022-03-26T00:43:44.318734Z"
    }
   },
   "outputs": [],
   "source": [
    "doh['SCORE'].hist(bins=113, figsize=(12,8));"
   ]
  },
  {
   "cell_type": "code",
   "execution_count": null,
   "metadata": {
    "ExecuteTime": {
     "end_time": "2022-03-26T00:43:46.040149Z",
     "start_time": "2022-03-26T00:43:46.018190Z"
    }
   },
   "outputs": [],
   "source": [
    "doh['SCORE'].value_counts()"
   ]
  },
  {
   "cell_type": "code",
   "execution_count": null,
   "metadata": {
    "ExecuteTime": {
     "end_time": "2022-03-26T00:43:55.538283Z",
     "start_time": "2022-03-26T00:43:55.527840Z"
    }
   },
   "outputs": [],
   "source": [
    "doh['SCORE'].mean()"
   ]
  },
  {
   "cell_type": "code",
   "execution_count": null,
   "metadata": {
    "ExecuteTime": {
     "end_time": "2022-03-26T00:43:56.340926Z",
     "start_time": "2022-03-26T00:43:56.320324Z"
    }
   },
   "outputs": [],
   "source": [
    "doh['SCORE'].median()"
   ]
  },
  {
   "cell_type": "code",
   "execution_count": null,
   "metadata": {
    "ExecuteTime": {
     "end_time": "2022-03-26T00:43:57.150869Z",
     "start_time": "2022-03-26T00:43:57.134478Z"
    }
   },
   "outputs": [],
   "source": [
    "doh['SCORE'].mode()"
   ]
  },
  {
   "cell_type": "code",
   "execution_count": null,
   "metadata": {
    "ExecuteTime": {
     "end_time": "2022-03-26T00:43:59.815226Z",
     "start_time": "2022-03-26T00:43:59.794722Z"
    }
   },
   "outputs": [],
   "source": [
    "doh['GRADE'].isna().sum()"
   ]
  },
  {
   "cell_type": "code",
   "execution_count": null,
   "metadata": {
    "ExecuteTime": {
     "end_time": "2022-03-25T18:42:20.540069Z",
     "start_time": "2022-03-25T18:42:20.473413Z"
    }
   },
   "outputs": [],
   "source": [
    "doh['GRADE'].value_counts()"
   ]
  },
  {
   "cell_type": "code",
   "execution_count": null,
   "metadata": {
    "ExecuteTime": {
     "end_time": "2022-03-25T18:30:39.271881Z",
     "start_time": "2022-03-25T18:30:39.033137Z"
    }
   },
   "outputs": [],
   "source": [
    "doh.info()"
   ]
  },
  {
   "cell_type": "code",
   "execution_count": null,
   "metadata": {
    "ExecuteTime": {
     "end_time": "2022-03-26T00:33:04.431419Z",
     "start_time": "2022-03-26T00:33:03.703544Z"
    }
   },
   "outputs": [],
   "source": [
    "doh['INSPECTION DATE'] =  pd.to_datetime(doh['INSPECTION DATE'])"
   ]
  },
  {
   "cell_type": "code",
   "execution_count": null,
   "metadata": {
    "ExecuteTime": {
     "end_time": "2022-03-26T00:42:54.549470Z",
     "start_time": "2022-03-26T00:42:54.522854Z"
    }
   },
   "outputs": [],
   "source": [
    "# doh.pivot(columns=['CAMIS','INSPECTION DATE'],values='SCORE')"
   ]
  },
  {
   "cell_type": "code",
   "execution_count": null,
   "metadata": {},
   "outputs": [],
   "source": []
  },
  {
   "cell_type": "markdown",
   "metadata": {},
   "source": [
    "The New York Health Department inspects the approximately 27,000 restaurants within the city to monitor their compliance with food safety regulations. Inspectors observe how food is prepared, served and stored and whether restaurant workers are practicing good hygiene. They check food temperatures, equipment maintenance and pest control measures."
   ]
  },
  {
   "cell_type": "markdown",
   "metadata": {},
   "source": [
    "Calling API"
   ]
  },
  {
   "cell_type": "code",
   "execution_count": null,
   "metadata": {
    "ExecuteTime": {
     "end_time": "2022-03-25T16:51:41.595774Z",
     "start_time": "2022-03-25T16:51:40.363098Z"
    }
   },
   "outputs": [],
   "source": [
    "dohmh_df['score'].hist(bins='auto', figsize=(12,8));"
   ]
  },
  {
   "cell_type": "code",
   "execution_count": null,
   "metadata": {
    "ExecuteTime": {
     "end_time": "2022-03-23T14:15:24.838006Z",
     "start_time": "2022-03-23T14:15:23.353483Z"
    },
    "scrolled": true
   },
   "outputs": [],
   "source": [
    "# # Take a look at duplicated records\n",
    "# duplicates = df1.duplicated(subset=['camis'], keep=False)\n",
    "# df1.loc[duplicates.loc[duplicates==True].index].sort_values(by='camis')"
   ]
  },
  {
   "cell_type": "markdown",
   "metadata": {},
   "source": [
    "## Yelp API"
   ]
  },
  {
   "cell_type": "code",
   "execution_count": 8,
   "metadata": {
    "ExecuteTime": {
     "end_time": "2022-04-12T22:00:01.528856Z",
     "start_time": "2022-04-12T22:00:01.523046Z"
    }
   },
   "outputs": [],
   "source": [
    "with open('/Users/Rob/.secret/yelp_api.json') as f:\n",
    "    creds = json.load(f)"
   ]
  },
  {
   "cell_type": "code",
   "execution_count": 9,
   "metadata": {
    "ExecuteTime": {
     "end_time": "2022-04-12T22:00:03.772875Z",
     "start_time": "2022-04-12T22:00:03.761462Z"
    }
   },
   "outputs": [
    {
     "data": {
      "text/plain": [
       "dict_keys(['api_key'])"
      ]
     },
     "execution_count": 9,
     "metadata": {},
     "output_type": "execute_result"
    }
   ],
   "source": [
    "creds.keys()"
   ]
  },
  {
   "cell_type": "code",
   "execution_count": 10,
   "metadata": {
    "ExecuteTime": {
     "end_time": "2022-04-12T22:00:12.138716Z",
     "start_time": "2022-04-12T22:00:12.133805Z"
    }
   },
   "outputs": [],
   "source": [
    "#Business Search      \n",
    "# url = 'https://api.yelp.com/v3/businesses/search'\n",
    "\n",
    "#Business Match       \n",
    "# url = 'https://api.yelp.com/v3/businesses/matches'\n",
    "\n",
    "#Phone Search         \n",
    "url = 'https://api.yelp.com/v3/businesses/search/phone'\n",
    "\n",
    "#Business Details     \n",
    "# url = 'https://api.yelp.com/v3/businesses/{id}'\n",
    "\n",
    "#Business Reviews     \n",
    "# url = 'https://api.yelp.com/v3/businesses/{id}/reviews'"
   ]
  },
  {
   "cell_type": "code",
   "execution_count": null,
   "metadata": {
    "ExecuteTime": {
     "end_time": "2022-04-12T17:40:46.110231Z",
     "start_time": "2022-04-12T17:40:45.431775Z"
    }
   },
   "outputs": [],
   "source": [
    "# #Business Search  \n",
    "# headers = {\n",
    "#     'Authorization': 'Bearer ' + creds['api_key']\n",
    "#           }\n",
    "# location = 'New York NY'\n",
    "# SEARCH_LIMIT = 50\n",
    "\n",
    "# url_params = {\n",
    "#     'limit': SEARCH_LIMIT,\n",
    "#     'location' : location.replace(' ','+'),\n",
    "#     'offset': 0\n",
    "#              }\n",
    "\n",
    "\n",
    "# response = requests.get(url, headers=headers, params=url_params)\n",
    "# print(response.status_code)"
   ]
  },
  {
   "cell_type": "code",
   "execution_count": 140,
   "metadata": {
    "ExecuteTime": {
     "end_time": "2022-04-13T17:14:10.707782Z",
     "start_time": "2022-04-13T17:14:10.699345Z"
    }
   },
   "outputs": [
    {
     "data": {
      "text/plain": [
       "['+12129569488',\n",
       " '+17187087600',\n",
       " '+12128882288',\n",
       " '+12128882288',\n",
       " '+17182719222']"
      ]
     },
     "execution_count": 140,
     "metadata": {},
     "output_type": "execute_result"
    }
   ],
   "source": [
    "phones = list(top_doh['PHONE'])\n",
    "phones"
   ]
  },
  {
   "cell_type": "code",
   "execution_count": 73,
   "metadata": {
    "ExecuteTime": {
     "end_time": "2022-04-13T16:32:06.324632Z",
     "start_time": "2022-04-13T16:32:06.127121Z"
    }
   },
   "outputs": [],
   "source": [
    "phone_numbers = set(doh['PHONE'])"
   ]
  },
  {
   "cell_type": "code",
   "execution_count": 74,
   "metadata": {
    "ExecuteTime": {
     "end_time": "2022-04-13T16:32:21.037480Z",
     "start_time": "2022-04-13T16:32:21.028623Z"
    }
   },
   "outputs": [
    {
     "data": {
      "text/plain": [
       "18938"
      ]
     },
     "execution_count": 74,
     "metadata": {},
     "output_type": "execute_result"
    }
   ],
   "source": [
    "len(phone_numbers)"
   ]
  },
  {
   "cell_type": "code",
   "execution_count": 154,
   "metadata": {
    "ExecuteTime": {
     "end_time": "2022-04-13T17:20:35.201573Z",
     "start_time": "2022-04-13T17:20:35.195696Z"
    }
   },
   "outputs": [],
   "source": [
    "phone_numbers = list(phone_numbers)"
   ]
  },
  {
   "cell_type": "code",
   "execution_count": 155,
   "metadata": {
    "ExecuteTime": {
     "end_time": "2022-04-13T17:20:35.882683Z",
     "start_time": "2022-04-13T17:20:35.878245Z"
    }
   },
   "outputs": [],
   "source": [
    "phone_numbers1 = phone_numbers[1:1000]"
   ]
  },
  {
   "cell_type": "code",
   "execution_count": 199,
   "metadata": {
    "ExecuteTime": {
     "end_time": "2022-04-13T17:55:34.146965Z",
     "start_time": "2022-04-13T17:55:34.138277Z"
    }
   },
   "outputs": [],
   "source": [
    "phone_numbers2 = phone_numbers[1000:2000]"
   ]
  },
  {
   "cell_type": "code",
   "execution_count": 235,
   "metadata": {
    "ExecuteTime": {
     "end_time": "2022-04-14T02:20:00.268122Z",
     "start_time": "2022-04-14T02:20:00.258854Z"
    }
   },
   "outputs": [],
   "source": [
    "phone_numbers3 = phone_numbers[2000:2500]"
   ]
  },
  {
   "cell_type": "code",
   "execution_count": 236,
   "metadata": {
    "ExecuteTime": {
     "end_time": "2022-04-14T02:20:02.892386Z",
     "start_time": "2022-04-14T02:20:02.885842Z"
    }
   },
   "outputs": [],
   "source": [
    "phone_numbers4 = phone_numbers[2500:3500]"
   ]
  },
  {
   "cell_type": "code",
   "execution_count": 254,
   "metadata": {
    "ExecuteTime": {
     "end_time": "2022-04-14T02:25:37.278461Z",
     "start_time": "2022-04-14T02:25:37.270195Z"
    }
   },
   "outputs": [],
   "source": [
    "phone_numbers5 = phone_numbers[3500:5000]"
   ]
  },
  {
   "cell_type": "code",
   "execution_count": 298,
   "metadata": {
    "ExecuteTime": {
     "end_time": "2022-04-14T14:00:19.873400Z",
     "start_time": "2022-04-14T14:00:19.867556Z"
    }
   },
   "outputs": [],
   "source": [
    "phone_numbers6 = phone_numbers[5000:6000]"
   ]
  },
  {
   "cell_type": "code",
   "execution_count": 306,
   "metadata": {
    "ExecuteTime": {
     "end_time": "2022-04-14T14:06:29.044373Z",
     "start_time": "2022-04-14T14:06:29.033607Z"
    }
   },
   "outputs": [],
   "source": [
    "phone_numbers7 = phone_numbers[6000:7500]"
   ]
  },
  {
   "cell_type": "code",
   "execution_count": 307,
   "metadata": {
    "ExecuteTime": {
     "end_time": "2022-04-14T14:06:33.650762Z",
     "start_time": "2022-04-14T14:06:33.646490Z"
    }
   },
   "outputs": [],
   "source": [
    "# Initialize empty list\n",
    "biz_list7 = []"
   ]
  },
  {
   "cell_type": "code",
   "execution_count": 308,
   "metadata": {
    "ExecuteTime": {
     "end_time": "2022-04-14T14:12:29.660777Z",
     "start_time": "2022-04-14T14:06:47.158534Z"
    }
   },
   "outputs": [],
   "source": [
    "#Phone Search \n",
    "for number in phone_numbers7:\n",
    "    url = 'https://api.yelp.com/v3/businesses/search/phone'\n",
    "    headers = {'Authorization': 'Bearer ' + creds['api_key']}\n",
    "    url_params = {'phone': number}\n",
    "    response = requests.get(url, headers=headers, params=url_params)\n",
    "    response_json = response.json()\n",
    "    biz_list7.extend(response_json.get('businesses','U'))\n",
    "    "
   ]
  },
  {
   "cell_type": "code",
   "execution_count": 309,
   "metadata": {
    "ExecuteTime": {
     "end_time": "2022-04-14T14:12:37.070709Z",
     "start_time": "2022-04-14T14:12:37.065079Z"
    }
   },
   "outputs": [],
   "source": [
    "while 'U' in biz_list7:\n",
    "    biz_list7.remove('U')"
   ]
  },
  {
   "cell_type": "code",
   "execution_count": 310,
   "metadata": {
    "ExecuteTime": {
     "end_time": "2022-04-14T14:12:42.440601Z",
     "start_time": "2022-04-14T14:12:42.262597Z"
    },
    "scrolled": true
   },
   "outputs": [
    {
     "data": {
      "text/html": [
       "<div>\n",
       "<style scoped>\n",
       "    .dataframe tbody tr th:only-of-type {\n",
       "        vertical-align: middle;\n",
       "    }\n",
       "\n",
       "    .dataframe tbody tr th {\n",
       "        vertical-align: top;\n",
       "    }\n",
       "\n",
       "    .dataframe thead th {\n",
       "        text-align: right;\n",
       "    }\n",
       "</style>\n",
       "<table border=\"1\" class=\"dataframe\">\n",
       "  <thead>\n",
       "    <tr style=\"text-align: right;\">\n",
       "      <th></th>\n",
       "      <th>id</th>\n",
       "      <th>alias</th>\n",
       "      <th>name</th>\n",
       "      <th>image_url</th>\n",
       "      <th>is_closed</th>\n",
       "      <th>url</th>\n",
       "      <th>review_count</th>\n",
       "      <th>categories</th>\n",
       "      <th>rating</th>\n",
       "      <th>coordinates</th>\n",
       "      <th>transactions</th>\n",
       "      <th>price</th>\n",
       "      <th>location</th>\n",
       "      <th>phone</th>\n",
       "      <th>display_phone</th>\n",
       "    </tr>\n",
       "  </thead>\n",
       "  <tbody>\n",
       "    <tr>\n",
       "      <th>0</th>\n",
       "      <td>WCiGrGn89yBrVbqXRkejwg</td>\n",
       "      <td>jamaican-flavors-jamaica</td>\n",
       "      <td>Jamaican Flavors</td>\n",
       "      <td>https://s3-media0.fl.yelpcdn.com/bphoto/GdYOODcwJLYZGd_C231qcw/o.jpg</td>\n",
       "      <td>False</td>\n",
       "      <td>https://www.yelp.com/biz/jamaican-flavors-jamaica?adjust_creative=82uXkAt1Tiw7u9_h33zr1A&amp;utm_cam...</td>\n",
       "      <td>111</td>\n",
       "      <td>[{'alias': 'bakeries', 'title': 'Bakeries'}, {'alias': 'soulfood', 'title': 'Soul Food'}, {'alia...</td>\n",
       "      <td>4.0</td>\n",
       "      <td>{'latitude': 40.705629, 'longitude': -73.795176}</td>\n",
       "      <td>[]</td>\n",
       "      <td>$</td>\n",
       "      <td>{'address1': '16417 Jamaica Ave', 'address2': '', 'address3': '', 'city': 'Jamaica', 'zip_code':...</td>\n",
       "      <td>17185262228</td>\n",
       "      <td>(718) 526-2228</td>\n",
       "    </tr>\n",
       "    <tr>\n",
       "      <th>1</th>\n",
       "      <td>vnf1WSV7dTmOeOkIJ46hiw</td>\n",
       "      <td>curry-king-new-york</td>\n",
       "      <td>Curry King</td>\n",
       "      <td>https://s3-media0.fl.yelpcdn.com/bphoto/dN8o-aaavsnCvjgvZDXhsw/o.jpg</td>\n",
       "      <td>False</td>\n",
       "      <td>https://www.yelp.com/biz/curry-king-new-york?adjust_creative=82uXkAt1Tiw7u9_h33zr1A&amp;utm_campaign...</td>\n",
       "      <td>68</td>\n",
       "      <td>[{'alias': 'indpak', 'title': 'Indian'}, {'alias': 'halal', 'title': 'Halal'}, {'alias': 'pakist...</td>\n",
       "      <td>2.5</td>\n",
       "      <td>{'latitude': 40.799566279368, 'longitude': -73.9629824840441}</td>\n",
       "      <td>['pickup', 'delivery']</td>\n",
       "      <td>$</td>\n",
       "      <td>{'address1': '942 Columbus Ave', 'address2': '', 'address3': '', 'city': 'New York', 'zip_code':...</td>\n",
       "      <td>16466697826</td>\n",
       "      <td>(646) 669-7826</td>\n",
       "    </tr>\n",
       "    <tr>\n",
       "      <th>2</th>\n",
       "      <td>0sFAy3tueTdZYIywI_87AA</td>\n",
       "      <td>paris-baguette-flushing-4</td>\n",
       "      <td>Paris Baguette</td>\n",
       "      <td>https://s3-media0.fl.yelpcdn.com/bphoto/M3prfsZvyyiRVsWfNm3_yg/o.jpg</td>\n",
       "      <td>False</td>\n",
       "      <td>https://www.yelp.com/biz/paris-baguette-flushing-4?adjust_creative=82uXkAt1Tiw7u9_h33zr1A&amp;utm_ca...</td>\n",
       "      <td>194</td>\n",
       "      <td>[{'alias': 'coffee', 'title': 'Coffee &amp; Tea'}, {'alias': 'bakeries', 'title': 'Bakeries'}, {'ali...</td>\n",
       "      <td>3.5</td>\n",
       "      <td>{'latitude': 40.7635157983811, 'longitude': -73.8088456168771}</td>\n",
       "      <td>['delivery']</td>\n",
       "      <td>$$</td>\n",
       "      <td>{'address1': '156-24 Northern Blvd', 'address2': '', 'address3': '', 'city': 'Flushing', 'zip_co...</td>\n",
       "      <td>17189610404</td>\n",
       "      <td>(718) 961-0404</td>\n",
       "    </tr>\n",
       "    <tr>\n",
       "      <th>3</th>\n",
       "      <td>-OplSkpDk33uikS5fO-JQw</td>\n",
       "      <td>addictive-wine-and-tapas-bar-jackson-heights-4</td>\n",
       "      <td>Addictive Wine and Tapas Bar</td>\n",
       "      <td>https://s3-media0.fl.yelpcdn.com/bphoto/n1_yRJ1iQEuXFaerOTy3-Q/o.jpg</td>\n",
       "      <td>False</td>\n",
       "      <td>https://www.yelp.com/biz/addictive-wine-and-tapas-bar-jackson-heights-4?adjust_creative=82uXkAt1...</td>\n",
       "      <td>231</td>\n",
       "      <td>[{'alias': 'wine_bars', 'title': 'Wine Bars'}, {'alias': 'tapas', 'title': 'Tapas Bars'}, {'alia...</td>\n",
       "      <td>4.5</td>\n",
       "      <td>{'latitude': 40.75632, 'longitude': -73.8806}</td>\n",
       "      <td>['pickup', 'delivery']</td>\n",
       "      <td>$$</td>\n",
       "      <td>{'address1': '87-01 Northern Blvd', 'address2': None, 'address3': '', 'city': 'Jackson Heights',...</td>\n",
       "      <td>13478320951</td>\n",
       "      <td>(347) 832-0951</td>\n",
       "    </tr>\n",
       "    <tr>\n",
       "      <th>4</th>\n",
       "      <td>ePZjA9S2xD6ZKpTfaH3Irg</td>\n",
       "      <td>gong-cha-brooklyn</td>\n",
       "      <td>Gong Cha</td>\n",
       "      <td>https://s3-media0.fl.yelpcdn.com/bphoto/4lfIopMiXui_BOcSdGwTbQ/o.jpg</td>\n",
       "      <td>False</td>\n",
       "      <td>https://www.yelp.com/biz/gong-cha-brooklyn?adjust_creative=82uXkAt1Tiw7u9_h33zr1A&amp;utm_campaign=y...</td>\n",
       "      <td>60</td>\n",
       "      <td>[{'alias': 'bubbletea', 'title': 'Bubble Tea'}]</td>\n",
       "      <td>4.0</td>\n",
       "      <td>{'latitude': 40.69147, 'longitude': -73.98643}</td>\n",
       "      <td>['delivery', 'pickup']</td>\n",
       "      <td>$</td>\n",
       "      <td>{'address1': '156 Lawrence St', 'address2': None, 'address3': '', 'city': 'Brooklyn', 'zip_code'...</td>\n",
       "      <td>19179091207</td>\n",
       "      <td>(917) 909-1207</td>\n",
       "    </tr>\n",
       "    <tr>\n",
       "      <th>...</th>\n",
       "      <td>...</td>\n",
       "      <td>...</td>\n",
       "      <td>...</td>\n",
       "      <td>...</td>\n",
       "      <td>...</td>\n",
       "      <td>...</td>\n",
       "      <td>...</td>\n",
       "      <td>...</td>\n",
       "      <td>...</td>\n",
       "      <td>...</td>\n",
       "      <td>...</td>\n",
       "      <td>...</td>\n",
       "      <td>...</td>\n",
       "      <td>...</td>\n",
       "      <td>...</td>\n",
       "    </tr>\n",
       "    <tr>\n",
       "      <th>1269</th>\n",
       "      <td>TynT1ykBkQhXd6nuTK6JUQ</td>\n",
       "      <td>rego-bagels-rego-park-2</td>\n",
       "      <td>Rego Bagels</td>\n",
       "      <td>https://s3-media0.fl.yelpcdn.com/bphoto/kwLN-ldWtcuj5Y7YfXafqA/o.jpg</td>\n",
       "      <td>False</td>\n",
       "      <td>https://www.yelp.com/biz/rego-bagels-rego-park-2?adjust_creative=82uXkAt1Tiw7u9_h33zr1A&amp;utm_camp...</td>\n",
       "      <td>171</td>\n",
       "      <td>[{'alias': 'bagels', 'title': 'Bagels'}, {'alias': 'coffee', 'title': 'Coffee &amp; Tea'}, {'alias':...</td>\n",
       "      <td>4.0</td>\n",
       "      <td>{'latitude': 40.7295312415351, 'longitude': -73.8625347233294}</td>\n",
       "      <td>['pickup', 'delivery']</td>\n",
       "      <td>$</td>\n",
       "      <td>{'address1': '9508 63rd Dr', 'address2': '', 'address3': '', 'city': 'Rego Park', 'zip_code': '1...</td>\n",
       "      <td>17184596265</td>\n",
       "      <td>(718) 459-6265</td>\n",
       "    </tr>\n",
       "    <tr>\n",
       "      <th>1270</th>\n",
       "      <td>mUl0wtO7tPkBocuJqZ-7Dw</td>\n",
       "      <td>dun-huang-grand-central-new-york-4</td>\n",
       "      <td>Dun Huang -  Grand Central</td>\n",
       "      <td>https://s3-media0.fl.yelpcdn.com/bphoto/TmMr0NikR2kI8TXBHZ7qJw/o.jpg</td>\n",
       "      <td>False</td>\n",
       "      <td>https://www.yelp.com/biz/dun-huang-grand-central-new-york-4?adjust_creative=82uXkAt1Tiw7u9_h33zr...</td>\n",
       "      <td>245</td>\n",
       "      <td>[{'alias': 'chinese', 'title': 'Chinese'}, {'alias': 'noodles', 'title': 'Noodles'}]</td>\n",
       "      <td>4.5</td>\n",
       "      <td>{'latitude': 40.74922, 'longitude': -73.97785}</td>\n",
       "      <td>['delivery', 'pickup']</td>\n",
       "      <td>$$</td>\n",
       "      <td>{'address1': '320 Lexington Ave', 'address2': None, 'address3': None, 'city': 'New York', 'zip_c...</td>\n",
       "      <td>16469644007</td>\n",
       "      <td>(646) 964-4007</td>\n",
       "    </tr>\n",
       "    <tr>\n",
       "      <th>1271</th>\n",
       "      <td>iAmvX6GjUo7hA4ndAGhg-g</td>\n",
       "      <td>tenny-and-betsy-tea-and-pop-ups-new-york</td>\n",
       "      <td>Tenny &amp; Betsy - Tea and Pop-Ups</td>\n",
       "      <td>https://s3-media0.fl.yelpcdn.com/bphoto/QE8EA1Vk4tu8wDYneNsMYQ/o.jpg</td>\n",
       "      <td>True</td>\n",
       "      <td>https://www.yelp.com/biz/tenny-and-betsy-tea-and-pop-ups-new-york?adjust_creative=82uXkAt1Tiw7u9...</td>\n",
       "      <td>76</td>\n",
       "      <td>[{'alias': 'bubbletea', 'title': 'Bubble Tea'}, {'alias': 'desserts', 'title': 'Desserts'}, {'al...</td>\n",
       "      <td>3.5</td>\n",
       "      <td>{'latitude': 40.77258, 'longitude': -73.95903}</td>\n",
       "      <td>['pickup', 'delivery']</td>\n",
       "      <td>$$</td>\n",
       "      <td>{'address1': '197 E 76th St', 'address2': None, 'address3': '', 'city': 'New York', 'zip_code': ...</td>\n",
       "      <td>16467264000</td>\n",
       "      <td>(646) 726-4000</td>\n",
       "    </tr>\n",
       "    <tr>\n",
       "      <th>1272</th>\n",
       "      <td>QmrIDsmapdURUZhSAQwG6A</td>\n",
       "      <td>popeyes-louisiana-kitchen-long-island-city</td>\n",
       "      <td>Popeyes Louisiana Kitchen</td>\n",
       "      <td>https://s3-media0.fl.yelpcdn.com/bphoto/4GUkKzWSIFXdB7KMb3xrBA/o.jpg</td>\n",
       "      <td>False</td>\n",
       "      <td>https://www.yelp.com/biz/popeyes-louisiana-kitchen-long-island-city?adjust_creative=82uXkAt1Tiw7...</td>\n",
       "      <td>20</td>\n",
       "      <td>[{'alias': 'hotdogs', 'title': 'Fast Food'}, {'alias': 'chicken_wings', 'title': 'Chicken Wings'}]</td>\n",
       "      <td>3.0</td>\n",
       "      <td>{'latitude': 40.7645172, 'longitude': -73.932938}</td>\n",
       "      <td>['delivery']</td>\n",
       "      <td>$</td>\n",
       "      <td>{'address1': '33-18 21st St', 'address2': None, 'address3': None, 'city': 'Long Island City', 'z...</td>\n",
       "      <td>13475310906</td>\n",
       "      <td>(347) 531-0906</td>\n",
       "    </tr>\n",
       "    <tr>\n",
       "      <th>1273</th>\n",
       "      <td>REEaNSEUBROOQyrWkANqJQ</td>\n",
       "      <td>rays-smoothies-bronx</td>\n",
       "      <td>Ray's Smoothies</td>\n",
       "      <td>https://s3-media0.fl.yelpcdn.com/bphoto/xh8afqIaHQF9Xm6LuHlG1w/o.jpg</td>\n",
       "      <td>False</td>\n",
       "      <td>https://www.yelp.com/biz/rays-smoothies-bronx?adjust_creative=82uXkAt1Tiw7u9_h33zr1A&amp;utm_campaig...</td>\n",
       "      <td>4</td>\n",
       "      <td>[{'alias': 'juicebars', 'title': 'Juice Bars &amp; Smoothies'}]</td>\n",
       "      <td>5.0</td>\n",
       "      <td>{'latitude': 40.8384567192967, 'longitude': -73.9187905753916}</td>\n",
       "      <td>['delivery', 'pickup']</td>\n",
       "      <td>NaN</td>\n",
       "      <td>{'address1': '1320 Jerome Ave', 'address2': '', 'address3': '', 'city': 'Bronx', 'zip_code': '10...</td>\n",
       "      <td>13475907067</td>\n",
       "      <td>(347) 590-7067</td>\n",
       "    </tr>\n",
       "  </tbody>\n",
       "</table>\n",
       "<p>1274 rows × 15 columns</p>\n",
       "</div>"
      ],
      "text/plain": [
       "                          id                                           alias  \\\n",
       "0     WCiGrGn89yBrVbqXRkejwg                        jamaican-flavors-jamaica   \n",
       "1     vnf1WSV7dTmOeOkIJ46hiw                             curry-king-new-york   \n",
       "2     0sFAy3tueTdZYIywI_87AA                       paris-baguette-flushing-4   \n",
       "3     -OplSkpDk33uikS5fO-JQw  addictive-wine-and-tapas-bar-jackson-heights-4   \n",
       "4     ePZjA9S2xD6ZKpTfaH3Irg                               gong-cha-brooklyn   \n",
       "...                      ...                                             ...   \n",
       "1269  TynT1ykBkQhXd6nuTK6JUQ                         rego-bagels-rego-park-2   \n",
       "1270  mUl0wtO7tPkBocuJqZ-7Dw              dun-huang-grand-central-new-york-4   \n",
       "1271  iAmvX6GjUo7hA4ndAGhg-g        tenny-and-betsy-tea-and-pop-ups-new-york   \n",
       "1272  QmrIDsmapdURUZhSAQwG6A      popeyes-louisiana-kitchen-long-island-city   \n",
       "1273  REEaNSEUBROOQyrWkANqJQ                            rays-smoothies-bronx   \n",
       "\n",
       "                                 name  \\\n",
       "0                    Jamaican Flavors   \n",
       "1                          Curry King   \n",
       "2                      Paris Baguette   \n",
       "3        Addictive Wine and Tapas Bar   \n",
       "4                            Gong Cha   \n",
       "...                               ...   \n",
       "1269                      Rego Bagels   \n",
       "1270       Dun Huang -  Grand Central   \n",
       "1271  Tenny & Betsy - Tea and Pop-Ups   \n",
       "1272        Popeyes Louisiana Kitchen   \n",
       "1273                  Ray's Smoothies   \n",
       "\n",
       "                                                                 image_url  \\\n",
       "0     https://s3-media0.fl.yelpcdn.com/bphoto/GdYOODcwJLYZGd_C231qcw/o.jpg   \n",
       "1     https://s3-media0.fl.yelpcdn.com/bphoto/dN8o-aaavsnCvjgvZDXhsw/o.jpg   \n",
       "2     https://s3-media0.fl.yelpcdn.com/bphoto/M3prfsZvyyiRVsWfNm3_yg/o.jpg   \n",
       "3     https://s3-media0.fl.yelpcdn.com/bphoto/n1_yRJ1iQEuXFaerOTy3-Q/o.jpg   \n",
       "4     https://s3-media0.fl.yelpcdn.com/bphoto/4lfIopMiXui_BOcSdGwTbQ/o.jpg   \n",
       "...                                                                    ...   \n",
       "1269  https://s3-media0.fl.yelpcdn.com/bphoto/kwLN-ldWtcuj5Y7YfXafqA/o.jpg   \n",
       "1270  https://s3-media0.fl.yelpcdn.com/bphoto/TmMr0NikR2kI8TXBHZ7qJw/o.jpg   \n",
       "1271  https://s3-media0.fl.yelpcdn.com/bphoto/QE8EA1Vk4tu8wDYneNsMYQ/o.jpg   \n",
       "1272  https://s3-media0.fl.yelpcdn.com/bphoto/4GUkKzWSIFXdB7KMb3xrBA/o.jpg   \n",
       "1273  https://s3-media0.fl.yelpcdn.com/bphoto/xh8afqIaHQF9Xm6LuHlG1w/o.jpg   \n",
       "\n",
       "      is_closed  \\\n",
       "0         False   \n",
       "1         False   \n",
       "2         False   \n",
       "3         False   \n",
       "4         False   \n",
       "...         ...   \n",
       "1269      False   \n",
       "1270      False   \n",
       "1271       True   \n",
       "1272      False   \n",
       "1273      False   \n",
       "\n",
       "                                                                                                      url  \\\n",
       "0     https://www.yelp.com/biz/jamaican-flavors-jamaica?adjust_creative=82uXkAt1Tiw7u9_h33zr1A&utm_cam...   \n",
       "1     https://www.yelp.com/biz/curry-king-new-york?adjust_creative=82uXkAt1Tiw7u9_h33zr1A&utm_campaign...   \n",
       "2     https://www.yelp.com/biz/paris-baguette-flushing-4?adjust_creative=82uXkAt1Tiw7u9_h33zr1A&utm_ca...   \n",
       "3     https://www.yelp.com/biz/addictive-wine-and-tapas-bar-jackson-heights-4?adjust_creative=82uXkAt1...   \n",
       "4     https://www.yelp.com/biz/gong-cha-brooklyn?adjust_creative=82uXkAt1Tiw7u9_h33zr1A&utm_campaign=y...   \n",
       "...                                                                                                   ...   \n",
       "1269  https://www.yelp.com/biz/rego-bagels-rego-park-2?adjust_creative=82uXkAt1Tiw7u9_h33zr1A&utm_camp...   \n",
       "1270  https://www.yelp.com/biz/dun-huang-grand-central-new-york-4?adjust_creative=82uXkAt1Tiw7u9_h33zr...   \n",
       "1271  https://www.yelp.com/biz/tenny-and-betsy-tea-and-pop-ups-new-york?adjust_creative=82uXkAt1Tiw7u9...   \n",
       "1272  https://www.yelp.com/biz/popeyes-louisiana-kitchen-long-island-city?adjust_creative=82uXkAt1Tiw7...   \n",
       "1273  https://www.yelp.com/biz/rays-smoothies-bronx?adjust_creative=82uXkAt1Tiw7u9_h33zr1A&utm_campaig...   \n",
       "\n",
       "      review_count  \\\n",
       "0              111   \n",
       "1               68   \n",
       "2              194   \n",
       "3              231   \n",
       "4               60   \n",
       "...            ...   \n",
       "1269           171   \n",
       "1270           245   \n",
       "1271            76   \n",
       "1272            20   \n",
       "1273             4   \n",
       "\n",
       "                                                                                               categories  \\\n",
       "0     [{'alias': 'bakeries', 'title': 'Bakeries'}, {'alias': 'soulfood', 'title': 'Soul Food'}, {'alia...   \n",
       "1     [{'alias': 'indpak', 'title': 'Indian'}, {'alias': 'halal', 'title': 'Halal'}, {'alias': 'pakist...   \n",
       "2     [{'alias': 'coffee', 'title': 'Coffee & Tea'}, {'alias': 'bakeries', 'title': 'Bakeries'}, {'ali...   \n",
       "3     [{'alias': 'wine_bars', 'title': 'Wine Bars'}, {'alias': 'tapas', 'title': 'Tapas Bars'}, {'alia...   \n",
       "4                                                         [{'alias': 'bubbletea', 'title': 'Bubble Tea'}]   \n",
       "...                                                                                                   ...   \n",
       "1269  [{'alias': 'bagels', 'title': 'Bagels'}, {'alias': 'coffee', 'title': 'Coffee & Tea'}, {'alias':...   \n",
       "1270                 [{'alias': 'chinese', 'title': 'Chinese'}, {'alias': 'noodles', 'title': 'Noodles'}]   \n",
       "1271  [{'alias': 'bubbletea', 'title': 'Bubble Tea'}, {'alias': 'desserts', 'title': 'Desserts'}, {'al...   \n",
       "1272   [{'alias': 'hotdogs', 'title': 'Fast Food'}, {'alias': 'chicken_wings', 'title': 'Chicken Wings'}]   \n",
       "1273                                          [{'alias': 'juicebars', 'title': 'Juice Bars & Smoothies'}]   \n",
       "\n",
       "      rating                                                     coordinates  \\\n",
       "0        4.0                {'latitude': 40.705629, 'longitude': -73.795176}   \n",
       "1        2.5   {'latitude': 40.799566279368, 'longitude': -73.9629824840441}   \n",
       "2        3.5  {'latitude': 40.7635157983811, 'longitude': -73.8088456168771}   \n",
       "3        4.5                   {'latitude': 40.75632, 'longitude': -73.8806}   \n",
       "4        4.0                  {'latitude': 40.69147, 'longitude': -73.98643}   \n",
       "...      ...                                                             ...   \n",
       "1269     4.0  {'latitude': 40.7295312415351, 'longitude': -73.8625347233294}   \n",
       "1270     4.5                  {'latitude': 40.74922, 'longitude': -73.97785}   \n",
       "1271     3.5                  {'latitude': 40.77258, 'longitude': -73.95903}   \n",
       "1272     3.0               {'latitude': 40.7645172, 'longitude': -73.932938}   \n",
       "1273     5.0  {'latitude': 40.8384567192967, 'longitude': -73.9187905753916}   \n",
       "\n",
       "                transactions price  \\\n",
       "0                         []     $   \n",
       "1     ['pickup', 'delivery']     $   \n",
       "2               ['delivery']    $$   \n",
       "3     ['pickup', 'delivery']    $$   \n",
       "4     ['delivery', 'pickup']     $   \n",
       "...                      ...   ...   \n",
       "1269  ['pickup', 'delivery']     $   \n",
       "1270  ['delivery', 'pickup']    $$   \n",
       "1271  ['pickup', 'delivery']    $$   \n",
       "1272            ['delivery']     $   \n",
       "1273  ['delivery', 'pickup']   NaN   \n",
       "\n",
       "                                                                                                 location  \\\n",
       "0     {'address1': '16417 Jamaica Ave', 'address2': '', 'address3': '', 'city': 'Jamaica', 'zip_code':...   \n",
       "1     {'address1': '942 Columbus Ave', 'address2': '', 'address3': '', 'city': 'New York', 'zip_code':...   \n",
       "2     {'address1': '156-24 Northern Blvd', 'address2': '', 'address3': '', 'city': 'Flushing', 'zip_co...   \n",
       "3     {'address1': '87-01 Northern Blvd', 'address2': None, 'address3': '', 'city': 'Jackson Heights',...   \n",
       "4     {'address1': '156 Lawrence St', 'address2': None, 'address3': '', 'city': 'Brooklyn', 'zip_code'...   \n",
       "...                                                                                                   ...   \n",
       "1269  {'address1': '9508 63rd Dr', 'address2': '', 'address3': '', 'city': 'Rego Park', 'zip_code': '1...   \n",
       "1270  {'address1': '320 Lexington Ave', 'address2': None, 'address3': None, 'city': 'New York', 'zip_c...   \n",
       "1271  {'address1': '197 E 76th St', 'address2': None, 'address3': '', 'city': 'New York', 'zip_code': ...   \n",
       "1272  {'address1': '33-18 21st St', 'address2': None, 'address3': None, 'city': 'Long Island City', 'z...   \n",
       "1273  {'address1': '1320 Jerome Ave', 'address2': '', 'address3': '', 'city': 'Bronx', 'zip_code': '10...   \n",
       "\n",
       "            phone   display_phone  \n",
       "0     17185262228  (718) 526-2228  \n",
       "1     16466697826  (646) 669-7826  \n",
       "2     17189610404  (718) 961-0404  \n",
       "3     13478320951  (347) 832-0951  \n",
       "4     19179091207  (917) 909-1207  \n",
       "...           ...             ...  \n",
       "1269  17184596265  (718) 459-6265  \n",
       "1270  16469644007  (646) 964-4007  \n",
       "1271  16467264000  (646) 726-4000  \n",
       "1272  13475310906  (347) 531-0906  \n",
       "1273  13475907067  (347) 590-7067  \n",
       "\n",
       "[1274 rows x 15 columns]"
      ]
     },
     "execution_count": 310,
     "metadata": {},
     "output_type": "execute_result"
    }
   ],
   "source": [
    "biz_list7_df = pd.DataFrame(biz_list7)\n",
    "biz_list7_df.to_csv('yelp_phone7.csv',index=False)\n",
    "df = pd.read_csv('yelp_phone7.csv')\n",
    "df"
   ]
  },
  {
   "cell_type": "code",
   "execution_count": 221,
   "metadata": {
    "ExecuteTime": {
     "end_time": "2022-04-13T18:15:45.508901Z",
     "start_time": "2022-04-13T18:15:45.482663Z"
    }
   },
   "outputs": [],
   "source": [
    "df_1 = pd.read_csv('yelp_phone1.csv')"
   ]
  },
  {
   "cell_type": "code",
   "execution_count": 223,
   "metadata": {
    "ExecuteTime": {
     "end_time": "2022-04-13T18:16:51.045553Z",
     "start_time": "2022-04-13T18:16:51.011526Z"
    }
   },
   "outputs": [],
   "source": [
    "df_2 = pd.read_csv('yelp_phone2.csv')"
   ]
  },
  {
   "cell_type": "code",
   "execution_count": 229,
   "metadata": {
    "ExecuteTime": {
     "end_time": "2022-04-13T18:21:58.748554Z",
     "start_time": "2022-04-13T18:21:58.730526Z"
    }
   },
   "outputs": [],
   "source": [
    "df_3 = pd.read_csv('yelp_phone3.csv')"
   ]
  },
  {
   "cell_type": "code",
   "execution_count": 230,
   "metadata": {
    "ExecuteTime": {
     "end_time": "2022-04-13T18:22:10.579446Z",
     "start_time": "2022-04-13T18:22:10.565628Z"
    }
   },
   "outputs": [],
   "source": [
    "yelp_df = pd.concat([df_1,df_2,df_3],ignore_index=True)"
   ]
  },
  {
   "cell_type": "code",
   "execution_count": 231,
   "metadata": {
    "ExecuteTime": {
     "end_time": "2022-04-13T18:22:11.344758Z",
     "start_time": "2022-04-13T18:22:11.305990Z"
    }
   },
   "outputs": [
    {
     "data": {
      "text/html": [
       "<div>\n",
       "<style scoped>\n",
       "    .dataframe tbody tr th:only-of-type {\n",
       "        vertical-align: middle;\n",
       "    }\n",
       "\n",
       "    .dataframe tbody tr th {\n",
       "        vertical-align: top;\n",
       "    }\n",
       "\n",
       "    .dataframe thead th {\n",
       "        text-align: right;\n",
       "    }\n",
       "</style>\n",
       "<table border=\"1\" class=\"dataframe\">\n",
       "  <thead>\n",
       "    <tr style=\"text-align: right;\">\n",
       "      <th></th>\n",
       "      <th>id</th>\n",
       "      <th>alias</th>\n",
       "      <th>name</th>\n",
       "      <th>image_url</th>\n",
       "      <th>is_closed</th>\n",
       "      <th>url</th>\n",
       "      <th>review_count</th>\n",
       "      <th>categories</th>\n",
       "      <th>rating</th>\n",
       "      <th>coordinates</th>\n",
       "      <th>transactions</th>\n",
       "      <th>price</th>\n",
       "      <th>location</th>\n",
       "      <th>phone</th>\n",
       "      <th>display_phone</th>\n",
       "    </tr>\n",
       "  </thead>\n",
       "  <tbody>\n",
       "    <tr>\n",
       "      <th>0</th>\n",
       "      <td>fEsgUESZxOQtd4YEmAUuow</td>\n",
       "      <td>ii-caffe-latte-2-new-york-4</td>\n",
       "      <td>II Caffe Latte 2</td>\n",
       "      <td>https://s3-media0.fl.yelpcdn.com/bphoto/rL-1bjIrEvnG6zV8ofrZpg/o.jpg</td>\n",
       "      <td>False</td>\n",
       "      <td>https://www.yelp.com/biz/ii-caffe-latte-2-new-york-4?adjust_creative=82uXkAt1Tiw7u9_h33zr1A&amp;utm_...</td>\n",
       "      <td>127</td>\n",
       "      <td>[{'alias': 'breakfast_brunch', 'title': 'Breakfast &amp; Brunch'}, {'alias': 'desserts', 'title': 'D...</td>\n",
       "      <td>3.5</td>\n",
       "      <td>{'latitude': 40.8246899, 'longitude': -73.94704}</td>\n",
       "      <td>['delivery', 'pickup']</td>\n",
       "      <td>$$</td>\n",
       "      <td>{'address1': '458 W 145th St', 'address2': '', 'address3': '', 'city': 'New York', 'zip_code': '...</td>\n",
       "      <td>12122340202</td>\n",
       "      <td>(212) 234-0202</td>\n",
       "    </tr>\n",
       "    <tr>\n",
       "      <th>1</th>\n",
       "      <td>zm_ngfMxyU6d85AaTIgI7Q</td>\n",
       "      <td>chloes-restaurant-and-lounge-brooklyn</td>\n",
       "      <td>Chloe's Restaurant &amp; Lounge</td>\n",
       "      <td>https://s3-media0.fl.yelpcdn.com/bphoto/AFD_nPVpU1rhI7VMWvbltA/o.jpg</td>\n",
       "      <td>False</td>\n",
       "      <td>https://www.yelp.com/biz/chloes-restaurant-and-lounge-brooklyn?adjust_creative=82uXkAt1Tiw7u9_h3...</td>\n",
       "      <td>192</td>\n",
       "      <td>[{'alias': 'haitian', 'title': 'Haitian'}, {'alias': 'salad', 'title': 'Salad'}, {'alias': 'seaf...</td>\n",
       "      <td>2.5</td>\n",
       "      <td>{'latitude': 40.63755, 'longitude': -73.89731}</td>\n",
       "      <td>['delivery', 'pickup']</td>\n",
       "      <td>$$</td>\n",
       "      <td>{'address1': '9413 Ave L', 'address2': None, 'address3': '', 'city': 'Brooklyn', 'zip_code': '11...</td>\n",
       "      <td>13477709051</td>\n",
       "      <td>(347) 770-9051</td>\n",
       "    </tr>\n",
       "    <tr>\n",
       "      <th>2</th>\n",
       "      <td>LbGAKVX3cwZj4fUC2XOLxg</td>\n",
       "      <td>jahns-jackson-heights</td>\n",
       "      <td>Jahn's</td>\n",
       "      <td>https://s3-media0.fl.yelpcdn.com/bphoto/9Oa1n8Dyo_n2N9YIhJxsgw/o.jpg</td>\n",
       "      <td>False</td>\n",
       "      <td>https://www.yelp.com/biz/jahns-jackson-heights?adjust_creative=82uXkAt1Tiw7u9_h33zr1A&amp;utm_campai...</td>\n",
       "      <td>172</td>\n",
       "      <td>[{'alias': 'diners', 'title': 'Diners'}]</td>\n",
       "      <td>3.5</td>\n",
       "      <td>{'latitude': 40.74941, 'longitude': -73.88497}</td>\n",
       "      <td>['delivery', 'pickup']</td>\n",
       "      <td>$$</td>\n",
       "      <td>{'address1': '81-04 37th Ave', 'address2': '', 'address3': '', 'city': 'Jackson Heights', 'zip_c...</td>\n",
       "      <td>17186510700</td>\n",
       "      <td>(718) 651-0700</td>\n",
       "    </tr>\n",
       "    <tr>\n",
       "      <th>3</th>\n",
       "      <td>i8ejDDR4COtukAAA1Ls5fw</td>\n",
       "      <td>soba-ya-new-york</td>\n",
       "      <td>Soba-ya</td>\n",
       "      <td>https://s3-media0.fl.yelpcdn.com/bphoto/LnjY25INn-aM1eAyiav8XA/o.jpg</td>\n",
       "      <td>False</td>\n",
       "      <td>https://www.yelp.com/biz/soba-ya-new-york?adjust_creative=82uXkAt1Tiw7u9_h33zr1A&amp;utm_campaign=ye...</td>\n",
       "      <td>1496</td>\n",
       "      <td>[{'alias': 'japanese', 'title': 'Japanese'}, {'alias': 'noodles', 'title': 'Noodles'}]</td>\n",
       "      <td>4.0</td>\n",
       "      <td>{'latitude': 40.72965, 'longitude': -73.9878899}</td>\n",
       "      <td>['delivery', 'pickup']</td>\n",
       "      <td>$$</td>\n",
       "      <td>{'address1': '229 E 9th St', 'address2': '', 'address3': '', 'city': 'New York', 'zip_code': '10...</td>\n",
       "      <td>12125336966</td>\n",
       "      <td>(212) 533-6966</td>\n",
       "    </tr>\n",
       "    <tr>\n",
       "      <th>4</th>\n",
       "      <td>YV0VaJgV2zotzI7XNUaMCQ</td>\n",
       "      <td>mcdonalds-new-york-100</td>\n",
       "      <td>McDonald's</td>\n",
       "      <td>https://s3-media0.fl.yelpcdn.com/bphoto/X710tzNcQt5xzpJMVIpZHw/o.jpg</td>\n",
       "      <td>False</td>\n",
       "      <td>https://www.yelp.com/biz/mcdonalds-new-york-100?adjust_creative=82uXkAt1Tiw7u9_h33zr1A&amp;utm_campa...</td>\n",
       "      <td>85</td>\n",
       "      <td>[{'alias': 'hotdogs', 'title': 'Fast Food'}, {'alias': 'burgers', 'title': 'Burgers'}, {'alias':...</td>\n",
       "      <td>2.5</td>\n",
       "      <td>{'latitude': 40.71852, 'longitude': -74.00115}</td>\n",
       "      <td>['delivery']</td>\n",
       "      <td>$</td>\n",
       "      <td>{'address1': '262 Canal St', 'address2': None, 'address3': '', 'city': 'New York', 'zip_code': '...</td>\n",
       "      <td>12129415823</td>\n",
       "      <td>(212) 941-5823</td>\n",
       "    </tr>\n",
       "    <tr>\n",
       "      <th>...</th>\n",
       "      <td>...</td>\n",
       "      <td>...</td>\n",
       "      <td>...</td>\n",
       "      <td>...</td>\n",
       "      <td>...</td>\n",
       "      <td>...</td>\n",
       "      <td>...</td>\n",
       "      <td>...</td>\n",
       "      <td>...</td>\n",
       "      <td>...</td>\n",
       "      <td>...</td>\n",
       "      <td>...</td>\n",
       "      <td>...</td>\n",
       "      <td>...</td>\n",
       "      <td>...</td>\n",
       "    </tr>\n",
       "    <tr>\n",
       "      <th>2159</th>\n",
       "      <td>aIRhO0WZ3KprUphL3oYsBg</td>\n",
       "      <td>applebees-grill-bar-staten-island-4</td>\n",
       "      <td>Applebee's Grill + Bar</td>\n",
       "      <td>https://s3-media0.fl.yelpcdn.com/bphoto/oIR3BQHVVgdXBWCS7bAbJg/o.jpg</td>\n",
       "      <td>False</td>\n",
       "      <td>https://www.yelp.com/biz/applebees-grill-bar-staten-island-4?adjust_creative=82uXkAt1Tiw7u9_h33z...</td>\n",
       "      <td>67</td>\n",
       "      <td>[{'alias': 'tradamerican', 'title': 'American (Traditional)'}, {'alias': 'sportsbars', 'title': ...</td>\n",
       "      <td>2.5</td>\n",
       "      <td>{'latitude': 40.530092, 'longitude': -74.229161}</td>\n",
       "      <td>['delivery', 'pickup']</td>\n",
       "      <td>$$</td>\n",
       "      <td>{'address1': \"2720 Veteran's Rd W\", 'address2': None, 'address3': None, 'city': 'Staten Island',...</td>\n",
       "      <td>17189431200</td>\n",
       "      <td>(718) 943-1200</td>\n",
       "    </tr>\n",
       "    <tr>\n",
       "      <th>2160</th>\n",
       "      <td>-wGvjd9NmPqrT0tm_pq1QQ</td>\n",
       "      <td>the-black-whale-bronx</td>\n",
       "      <td>The Black Whale</td>\n",
       "      <td>https://s3-media0.fl.yelpcdn.com/bphoto/X1ThAksqctFuD5kBszAz7w/o.jpg</td>\n",
       "      <td>False</td>\n",
       "      <td>https://www.yelp.com/biz/the-black-whale-bronx?adjust_creative=82uXkAt1Tiw7u9_h33zr1A&amp;utm_campai...</td>\n",
       "      <td>184</td>\n",
       "      <td>[{'alias': 'newamerican', 'title': 'American (New)'}, {'alias': 'diners', 'title': 'Diners'}, {'...</td>\n",
       "      <td>3.5</td>\n",
       "      <td>{'latitude': 40.846302, 'longitude': -73.786432}</td>\n",
       "      <td>[]</td>\n",
       "      <td>$$</td>\n",
       "      <td>{'address1': '279 City Island Ave', 'address2': '', 'address3': '', 'city': 'Bronx', 'zip_code':...</td>\n",
       "      <td>17188853657</td>\n",
       "      <td>(718) 885-3657</td>\n",
       "    </tr>\n",
       "    <tr>\n",
       "      <th>2161</th>\n",
       "      <td>fCxQXdLdS1HLHk7bQOsy3A</td>\n",
       "      <td>kajitsu-new-york</td>\n",
       "      <td>Kajitsu</td>\n",
       "      <td>https://s3-media0.fl.yelpcdn.com/bphoto/ixv3qiJXKEqSPHZRW8EMVw/o.jpg</td>\n",
       "      <td>True</td>\n",
       "      <td>https://www.yelp.com/biz/kajitsu-new-york?adjust_creative=82uXkAt1Tiw7u9_h33zr1A&amp;utm_campaign=ye...</td>\n",
       "      <td>136</td>\n",
       "      <td>[{'alias': 'japanese', 'title': 'Japanese'}, {'alias': 'vegetarian', 'title': 'Vegetarian'}, {'a...</td>\n",
       "      <td>4.0</td>\n",
       "      <td>{'latitude': 40.7276955, 'longitude': -73.9840698}</td>\n",
       "      <td>[]</td>\n",
       "      <td>$$$$</td>\n",
       "      <td>{'address1': '414 E 9th St', 'address2': '', 'address3': '', 'city': 'New York', 'zip_code': '10...</td>\n",
       "      <td>12122284873</td>\n",
       "      <td>(212) 228-4873</td>\n",
       "    </tr>\n",
       "    <tr>\n",
       "      <th>2162</th>\n",
       "      <td>rn6SmSqAYx2kLFIAxytMMQ</td>\n",
       "      <td>kajitsu-new-york-3</td>\n",
       "      <td>Kajitsu</td>\n",
       "      <td>https://s3-media0.fl.yelpcdn.com/bphoto/rbJC-rNk-wuW1AmtNUl67Q/o.jpg</td>\n",
       "      <td>False</td>\n",
       "      <td>https://www.yelp.com/biz/kajitsu-new-york-3?adjust_creative=82uXkAt1Tiw7u9_h33zr1A&amp;utm_campaign=...</td>\n",
       "      <td>280</td>\n",
       "      <td>[{'alias': 'japanese', 'title': 'Japanese'}, {'alias': 'vegetarian', 'title': 'Vegetarian'}, {'a...</td>\n",
       "      <td>4.0</td>\n",
       "      <td>{'latitude': 40.7498614, 'longitude': -73.9777215}</td>\n",
       "      <td>['delivery', 'pickup']</td>\n",
       "      <td>$$$$</td>\n",
       "      <td>{'address1': '125 E 39th St', 'address2': '', 'address3': '', 'city': 'New York', 'zip_code': '1...</td>\n",
       "      <td>12122284873</td>\n",
       "      <td>(212) 228-4873</td>\n",
       "    </tr>\n",
       "    <tr>\n",
       "      <th>2163</th>\n",
       "      <td>IjRxYyr41Yl1fGhIrss1vg</td>\n",
       "      <td>kokage-new-york</td>\n",
       "      <td>Kokage</td>\n",
       "      <td>https://s3-media0.fl.yelpcdn.com/bphoto/FG-id6XIpKaSJvEEwMGAwg/o.jpg</td>\n",
       "      <td>False</td>\n",
       "      <td>https://www.yelp.com/biz/kokage-new-york?adjust_creative=82uXkAt1Tiw7u9_h33zr1A&amp;utm_campaign=yel...</td>\n",
       "      <td>103</td>\n",
       "      <td>[{'alias': 'japanese', 'title': 'Japanese'}, {'alias': 'noodles', 'title': 'Noodles'}]</td>\n",
       "      <td>4.0</td>\n",
       "      <td>{'latitude': 40.7498614, 'longitude': -73.9777215}</td>\n",
       "      <td>['delivery']</td>\n",
       "      <td>$$$</td>\n",
       "      <td>{'address1': '125 E 39th St', 'address2': '', 'address3': '', 'city': 'New York', 'zip_code': '1...</td>\n",
       "      <td>12122284873</td>\n",
       "      <td>(212) 228-4873</td>\n",
       "    </tr>\n",
       "  </tbody>\n",
       "</table>\n",
       "<p>2164 rows × 15 columns</p>\n",
       "</div>"
      ],
      "text/plain": [
       "                          id                                  alias  \\\n",
       "0     fEsgUESZxOQtd4YEmAUuow            ii-caffe-latte-2-new-york-4   \n",
       "1     zm_ngfMxyU6d85AaTIgI7Q  chloes-restaurant-and-lounge-brooklyn   \n",
       "2     LbGAKVX3cwZj4fUC2XOLxg                  jahns-jackson-heights   \n",
       "3     i8ejDDR4COtukAAA1Ls5fw                       soba-ya-new-york   \n",
       "4     YV0VaJgV2zotzI7XNUaMCQ                 mcdonalds-new-york-100   \n",
       "...                      ...                                    ...   \n",
       "2159  aIRhO0WZ3KprUphL3oYsBg    applebees-grill-bar-staten-island-4   \n",
       "2160  -wGvjd9NmPqrT0tm_pq1QQ                  the-black-whale-bronx   \n",
       "2161  fCxQXdLdS1HLHk7bQOsy3A                       kajitsu-new-york   \n",
       "2162  rn6SmSqAYx2kLFIAxytMMQ                     kajitsu-new-york-3   \n",
       "2163  IjRxYyr41Yl1fGhIrss1vg                        kokage-new-york   \n",
       "\n",
       "                             name  \\\n",
       "0                II Caffe Latte 2   \n",
       "1     Chloe's Restaurant & Lounge   \n",
       "2                          Jahn's   \n",
       "3                         Soba-ya   \n",
       "4                      McDonald's   \n",
       "...                           ...   \n",
       "2159       Applebee's Grill + Bar   \n",
       "2160              The Black Whale   \n",
       "2161                      Kajitsu   \n",
       "2162                      Kajitsu   \n",
       "2163                       Kokage   \n",
       "\n",
       "                                                                 image_url  \\\n",
       "0     https://s3-media0.fl.yelpcdn.com/bphoto/rL-1bjIrEvnG6zV8ofrZpg/o.jpg   \n",
       "1     https://s3-media0.fl.yelpcdn.com/bphoto/AFD_nPVpU1rhI7VMWvbltA/o.jpg   \n",
       "2     https://s3-media0.fl.yelpcdn.com/bphoto/9Oa1n8Dyo_n2N9YIhJxsgw/o.jpg   \n",
       "3     https://s3-media0.fl.yelpcdn.com/bphoto/LnjY25INn-aM1eAyiav8XA/o.jpg   \n",
       "4     https://s3-media0.fl.yelpcdn.com/bphoto/X710tzNcQt5xzpJMVIpZHw/o.jpg   \n",
       "...                                                                    ...   \n",
       "2159  https://s3-media0.fl.yelpcdn.com/bphoto/oIR3BQHVVgdXBWCS7bAbJg/o.jpg   \n",
       "2160  https://s3-media0.fl.yelpcdn.com/bphoto/X1ThAksqctFuD5kBszAz7w/o.jpg   \n",
       "2161  https://s3-media0.fl.yelpcdn.com/bphoto/ixv3qiJXKEqSPHZRW8EMVw/o.jpg   \n",
       "2162  https://s3-media0.fl.yelpcdn.com/bphoto/rbJC-rNk-wuW1AmtNUl67Q/o.jpg   \n",
       "2163  https://s3-media0.fl.yelpcdn.com/bphoto/FG-id6XIpKaSJvEEwMGAwg/o.jpg   \n",
       "\n",
       "      is_closed  \\\n",
       "0         False   \n",
       "1         False   \n",
       "2         False   \n",
       "3         False   \n",
       "4         False   \n",
       "...         ...   \n",
       "2159      False   \n",
       "2160      False   \n",
       "2161       True   \n",
       "2162      False   \n",
       "2163      False   \n",
       "\n",
       "                                                                                                      url  \\\n",
       "0     https://www.yelp.com/biz/ii-caffe-latte-2-new-york-4?adjust_creative=82uXkAt1Tiw7u9_h33zr1A&utm_...   \n",
       "1     https://www.yelp.com/biz/chloes-restaurant-and-lounge-brooklyn?adjust_creative=82uXkAt1Tiw7u9_h3...   \n",
       "2     https://www.yelp.com/biz/jahns-jackson-heights?adjust_creative=82uXkAt1Tiw7u9_h33zr1A&utm_campai...   \n",
       "3     https://www.yelp.com/biz/soba-ya-new-york?adjust_creative=82uXkAt1Tiw7u9_h33zr1A&utm_campaign=ye...   \n",
       "4     https://www.yelp.com/biz/mcdonalds-new-york-100?adjust_creative=82uXkAt1Tiw7u9_h33zr1A&utm_campa...   \n",
       "...                                                                                                   ...   \n",
       "2159  https://www.yelp.com/biz/applebees-grill-bar-staten-island-4?adjust_creative=82uXkAt1Tiw7u9_h33z...   \n",
       "2160  https://www.yelp.com/biz/the-black-whale-bronx?adjust_creative=82uXkAt1Tiw7u9_h33zr1A&utm_campai...   \n",
       "2161  https://www.yelp.com/biz/kajitsu-new-york?adjust_creative=82uXkAt1Tiw7u9_h33zr1A&utm_campaign=ye...   \n",
       "2162  https://www.yelp.com/biz/kajitsu-new-york-3?adjust_creative=82uXkAt1Tiw7u9_h33zr1A&utm_campaign=...   \n",
       "2163  https://www.yelp.com/biz/kokage-new-york?adjust_creative=82uXkAt1Tiw7u9_h33zr1A&utm_campaign=yel...   \n",
       "\n",
       "      review_count  \\\n",
       "0              127   \n",
       "1              192   \n",
       "2              172   \n",
       "3             1496   \n",
       "4               85   \n",
       "...            ...   \n",
       "2159            67   \n",
       "2160           184   \n",
       "2161           136   \n",
       "2162           280   \n",
       "2163           103   \n",
       "\n",
       "                                                                                               categories  \\\n",
       "0     [{'alias': 'breakfast_brunch', 'title': 'Breakfast & Brunch'}, {'alias': 'desserts', 'title': 'D...   \n",
       "1     [{'alias': 'haitian', 'title': 'Haitian'}, {'alias': 'salad', 'title': 'Salad'}, {'alias': 'seaf...   \n",
       "2                                                                [{'alias': 'diners', 'title': 'Diners'}]   \n",
       "3                  [{'alias': 'japanese', 'title': 'Japanese'}, {'alias': 'noodles', 'title': 'Noodles'}]   \n",
       "4     [{'alias': 'hotdogs', 'title': 'Fast Food'}, {'alias': 'burgers', 'title': 'Burgers'}, {'alias':...   \n",
       "...                                                                                                   ...   \n",
       "2159  [{'alias': 'tradamerican', 'title': 'American (Traditional)'}, {'alias': 'sportsbars', 'title': ...   \n",
       "2160  [{'alias': 'newamerican', 'title': 'American (New)'}, {'alias': 'diners', 'title': 'Diners'}, {'...   \n",
       "2161  [{'alias': 'japanese', 'title': 'Japanese'}, {'alias': 'vegetarian', 'title': 'Vegetarian'}, {'a...   \n",
       "2162  [{'alias': 'japanese', 'title': 'Japanese'}, {'alias': 'vegetarian', 'title': 'Vegetarian'}, {'a...   \n",
       "2163               [{'alias': 'japanese', 'title': 'Japanese'}, {'alias': 'noodles', 'title': 'Noodles'}]   \n",
       "\n",
       "      rating                                         coordinates  \\\n",
       "0        3.5    {'latitude': 40.8246899, 'longitude': -73.94704}   \n",
       "1        2.5      {'latitude': 40.63755, 'longitude': -73.89731}   \n",
       "2        3.5      {'latitude': 40.74941, 'longitude': -73.88497}   \n",
       "3        4.0    {'latitude': 40.72965, 'longitude': -73.9878899}   \n",
       "4        2.5      {'latitude': 40.71852, 'longitude': -74.00115}   \n",
       "...      ...                                                 ...   \n",
       "2159     2.5    {'latitude': 40.530092, 'longitude': -74.229161}   \n",
       "2160     3.5    {'latitude': 40.846302, 'longitude': -73.786432}   \n",
       "2161     4.0  {'latitude': 40.7276955, 'longitude': -73.9840698}   \n",
       "2162     4.0  {'latitude': 40.7498614, 'longitude': -73.9777215}   \n",
       "2163     4.0  {'latitude': 40.7498614, 'longitude': -73.9777215}   \n",
       "\n",
       "                transactions price  \\\n",
       "0     ['delivery', 'pickup']    $$   \n",
       "1     ['delivery', 'pickup']    $$   \n",
       "2     ['delivery', 'pickup']    $$   \n",
       "3     ['delivery', 'pickup']    $$   \n",
       "4               ['delivery']     $   \n",
       "...                      ...   ...   \n",
       "2159  ['delivery', 'pickup']    $$   \n",
       "2160                      []    $$   \n",
       "2161                      []  $$$$   \n",
       "2162  ['delivery', 'pickup']  $$$$   \n",
       "2163            ['delivery']   $$$   \n",
       "\n",
       "                                                                                                 location  \\\n",
       "0     {'address1': '458 W 145th St', 'address2': '', 'address3': '', 'city': 'New York', 'zip_code': '...   \n",
       "1     {'address1': '9413 Ave L', 'address2': None, 'address3': '', 'city': 'Brooklyn', 'zip_code': '11...   \n",
       "2     {'address1': '81-04 37th Ave', 'address2': '', 'address3': '', 'city': 'Jackson Heights', 'zip_c...   \n",
       "3     {'address1': '229 E 9th St', 'address2': '', 'address3': '', 'city': 'New York', 'zip_code': '10...   \n",
       "4     {'address1': '262 Canal St', 'address2': None, 'address3': '', 'city': 'New York', 'zip_code': '...   \n",
       "...                                                                                                   ...   \n",
       "2159  {'address1': \"2720 Veteran's Rd W\", 'address2': None, 'address3': None, 'city': 'Staten Island',...   \n",
       "2160  {'address1': '279 City Island Ave', 'address2': '', 'address3': '', 'city': 'Bronx', 'zip_code':...   \n",
       "2161  {'address1': '414 E 9th St', 'address2': '', 'address3': '', 'city': 'New York', 'zip_code': '10...   \n",
       "2162  {'address1': '125 E 39th St', 'address2': '', 'address3': '', 'city': 'New York', 'zip_code': '1...   \n",
       "2163  {'address1': '125 E 39th St', 'address2': '', 'address3': '', 'city': 'New York', 'zip_code': '1...   \n",
       "\n",
       "            phone   display_phone  \n",
       "0     12122340202  (212) 234-0202  \n",
       "1     13477709051  (347) 770-9051  \n",
       "2     17186510700  (718) 651-0700  \n",
       "3     12125336966  (212) 533-6966  \n",
       "4     12129415823  (212) 941-5823  \n",
       "...           ...             ...  \n",
       "2159  17189431200  (718) 943-1200  \n",
       "2160  17188853657  (718) 885-3657  \n",
       "2161  12122284873  (212) 228-4873  \n",
       "2162  12122284873  (212) 228-4873  \n",
       "2163  12122284873  (212) 228-4873  \n",
       "\n",
       "[2164 rows x 15 columns]"
      ]
     },
     "execution_count": 231,
     "metadata": {},
     "output_type": "execute_result"
    }
   ],
   "source": [
    "yelp_df"
   ]
  },
  {
   "cell_type": "code",
   "execution_count": null,
   "metadata": {
    "ExecuteTime": {
     "end_time": "2022-04-06T21:10:42.746234Z",
     "start_time": "2022-04-06T21:10:42.728669Z"
    }
   },
   "outputs": [],
   "source": [
    "# def prepare_data(data_list):\n",
    "#     \"\"\"\n",
    "#     This function takes in a list of dictionaries and prepares it\n",
    "#     for analysis\n",
    "#     \"\"\"\n",
    "    \n",
    "#     # Make a new list to hold results\n",
    "#     results = []\n",
    "    \n",
    "#     for business_data in data_list:\n",
    "    \n",
    "#         # Make a new dictionary to hold prepared data for this business\n",
    "#         prepared_data = {}\n",
    "        \n",
    "#         # Extract name, review_count, rating, and price key-value pairs\n",
    "#         # from business_data and add to prepared_data\n",
    "#         # If a key is not present in business_data, add it to prepared_data\n",
    "#         # with an associated value of None\n",
    "#         for key in (\"name\", \"review_count\", \"rating\", \"price\"):\n",
    "#             prepared_data[key] = business_data.get(key, None)\n",
    "    \n",
    "#         # Parse and add latitude and longitude columns\n",
    "#         coordinates = business_data[\"coordinates\"]\n",
    "#         prepared_data[\"latitude\"] = coordinates[\"latitude\"]\n",
    "#         prepared_data[\"longitude\"] = coordinates[\"longitude\"]\n",
    "        \n",
    "#         # Add to list if all values are present\n",
    "#         if all(prepared_data.values()):\n",
    "#             results.append(prepared_data)\n",
    "    \n",
    "#     return results\n",
    "    \n",
    "# # Test out function\n",
    "# prepared_businesses = prepare_data(businesses)\n",
    "# prepared_businesses[:5]"
   ]
  },
  {
   "cell_type": "code",
   "execution_count": null,
   "metadata": {
    "ExecuteTime": {
     "end_time": "2022-04-11T22:02:01.893509Z",
     "start_time": "2022-04-11T22:00:38.625992Z"
    }
   },
   "outputs": [],
   "source": [
    "# full_dataset = []\n",
    "\n",
    "# for offset in get_offsets(total):\n",
    "    \n",
    "#     url_params['offset'] = offset\n",
    "    \n",
    "#     response = requests.get(url, headers=headers, params=url_params)\n",
    "    \n",
    "#     time.sleep(1)\n",
    "    \n",
    "#     response_json = response.json()\n",
    "    \n",
    "#     businesses = response_json.get('businesses')\n",
    "# #    \n",
    "#     prepared_business = prepare_data(businesses)\n",
    "    \n",
    "#     full_dataset.extend(prepared_businesses)\n",
    "\n",
    "# len(full_dataset)"
   ]
  },
  {
   "cell_type": "code",
   "execution_count": null,
   "metadata": {
    "ExecuteTime": {
     "end_time": "2022-04-12T17:41:35.415761Z",
     "start_time": "2022-04-12T17:41:14.580318Z"
    }
   },
   "outputs": [],
   "source": [
    "# # Loop to retrieve all the results from the original request for all NYC businesses\n",
    "# offset=0\n",
    "# response = get_results('New York,NY',offset=offset)\n",
    "\n",
    "# n_per_page = len(response['businesses'])\n",
    "# total_result = response['total']\n",
    "\n",
    "# results = response_json.get('businesses',{})\n",
    "\n",
    "# while offset < total_result:\n",
    "#     offset+=n_per_page\n",
    "#     res = get_results('New York,NY',offset=offset)\n",
    "#     results.extend(res['businesses'])\n",
    "# results[:5]"
   ]
  },
  {
   "cell_type": "code",
   "execution_count": null,
   "metadata": {
    "ExecuteTime": {
     "end_time": "2022-03-23T01:52:48.820508Z",
     "start_time": "2022-03-23T01:52:48.809218Z"
    }
   },
   "outputs": [],
   "source": [
    "# lat = []\n",
    "# long = []\n",
    "\n",
    "# for _,business in yelp_df.iterrows():\n",
    "#     lat.append(business['coordinates']['latitude'])\n",
    "#     long.append(business['coordinates']['longitude'])\n",
    "\n",
    "# yelp_df['lat'] = lat\n",
    "# yelp_df['long'] = long"
   ]
  },
  {
   "cell_type": "code",
   "execution_count": null,
   "metadata": {},
   "outputs": [],
   "source": []
  },
  {
   "cell_type": "markdown",
   "metadata": {},
   "source": [
    "# Data Understanding"
   ]
  },
  {
   "cell_type": "markdown",
   "metadata": {},
   "source": [
    "For this project there will be two sources and types of data used:\n",
    "\n",
    "* Historical health and hygiene inspections recorded by New York City Department of Health and Mental Hygiene (DOHMH) public health inspectors\n",
    "* User generated Yelp business ratings and reviews"
   ]
  },
  {
   "cell_type": "markdown",
   "metadata": {},
   "source": [
    "## Understanding NYC DOHMH Data"
   ]
  },
  {
   "cell_type": "markdown",
   "metadata": {},
   "source": [
    "This dataset contains over 330,000 records, let's explore its contents."
   ]
  },
  {
   "cell_type": "code",
   "execution_count": null,
   "metadata": {
    "ExecuteTime": {
     "end_time": "2022-03-24T20:13:39.503467Z",
     "start_time": "2022-03-24T20:13:39.388312Z"
    }
   },
   "outputs": [],
   "source": [
    "dohmh_df['inspection_date'] =  pd.to_datetime(dohmh_inspections['inspection_date'])"
   ]
  },
  {
   "cell_type": "code",
   "execution_count": null,
   "metadata": {
    "ExecuteTime": {
     "end_time": "2022-03-24T20:13:45.498607Z",
     "start_time": "2022-03-24T20:13:45.485185Z"
    }
   },
   "outputs": [],
   "source": [
    "dohmh_df['inspection_date'].min()"
   ]
  },
  {
   "cell_type": "code",
   "execution_count": null,
   "metadata": {
    "ExecuteTime": {
     "end_time": "2022-03-24T20:13:56.414351Z",
     "start_time": "2022-03-24T20:13:56.397701Z"
    }
   },
   "outputs": [],
   "source": [
    "dohmh_df['inspection_date'].max()"
   ]
  },
  {
   "cell_type": "markdown",
   "metadata": {},
   "source": [
    "Inspections in this dataset range from May 2008 up to present day."
   ]
  },
  {
   "cell_type": "code",
   "execution_count": null,
   "metadata": {
    "ExecuteTime": {
     "end_time": "2022-03-24T20:16:39.819970Z",
     "start_time": "2022-03-24T20:16:39.815805Z"
    }
   },
   "outputs": [],
   "source": [
    "# dohmh_df.set_index('inspection_date')"
   ]
  },
  {
   "cell_type": "code",
   "execution_count": null,
   "metadata": {
    "ExecuteTime": {
     "end_time": "2022-03-24T20:06:23.107542Z",
     "start_time": "2022-03-24T20:06:23.039343Z"
    }
   },
   "outputs": [],
   "source": [
    "dohmh_df['boro'].value_counts()"
   ]
  },
  {
   "cell_type": "code",
   "execution_count": null,
   "metadata": {
    "ExecuteTime": {
     "end_time": "2022-03-24T20:06:48.973901Z",
     "start_time": "2022-03-24T20:06:48.947792Z"
    }
   },
   "outputs": [],
   "source": [
    "dohmh_df['score'].value_counts()"
   ]
  },
  {
   "cell_type": "code",
   "execution_count": null,
   "metadata": {},
   "outputs": [],
   "source": []
  },
  {
   "cell_type": "code",
   "execution_count": null,
   "metadata": {
    "ExecuteTime": {
     "end_time": "2022-03-24T20:06:52.338177Z",
     "start_time": "2022-03-24T20:06:52.329477Z"
    }
   },
   "outputs": [],
   "source": [
    "dohmh_df['score'].isna().sum()"
   ]
  },
  {
   "cell_type": "code",
   "execution_count": null,
   "metadata": {
    "ExecuteTime": {
     "end_time": "2022-03-24T20:06:53.801108Z",
     "start_time": "2022-03-24T20:06:53.742457Z"
    }
   },
   "outputs": [],
   "source": [
    "dohmh_df['grade'].value_counts()"
   ]
  },
  {
   "cell_type": "code",
   "execution_count": null,
   "metadata": {
    "ExecuteTime": {
     "end_time": "2022-03-25T18:08:16.344961Z",
     "start_time": "2022-03-25T18:08:16.232615Z"
    }
   },
   "outputs": [],
   "source": [
    "dohmh_df['grade'].value_counts(normalize=True)"
   ]
  },
  {
   "cell_type": "code",
   "execution_count": null,
   "metadata": {
    "ExecuteTime": {
     "end_time": "2022-03-24T20:06:55.741139Z",
     "start_time": "2022-03-24T20:06:55.706697Z"
    }
   },
   "outputs": [],
   "source": [
    "dohmh_df['grade'].isna().sum()"
   ]
  },
  {
   "cell_type": "code",
   "execution_count": null,
   "metadata": {
    "ExecuteTime": {
     "end_time": "2022-03-24T20:07:21.888553Z",
     "start_time": "2022-03-24T20:07:21.831624Z"
    }
   },
   "outputs": [],
   "source": [
    "dohmh_df['critical_flag'].value_counts()"
   ]
  },
  {
   "cell_type": "markdown",
   "metadata": {},
   "source": [
    "Critical violations are those most likely to contribute to foodborne illness"
   ]
  },
  {
   "cell_type": "code",
   "execution_count": null,
   "metadata": {
    "ExecuteTime": {
     "end_time": "2022-03-24T20:07:24.216744Z",
     "start_time": "2022-03-24T20:07:24.147788Z"
    }
   },
   "outputs": [],
   "source": [
    "dohmh_df['critical_flag'].value_counts(normalize=True)"
   ]
  },
  {
   "cell_type": "code",
   "execution_count": null,
   "metadata": {
    "ExecuteTime": {
     "end_time": "2022-03-24T20:07:25.228707Z",
     "start_time": "2022-03-24T20:07:25.168956Z"
    }
   },
   "outputs": [],
   "source": [
    "dohmh_df['inspection_type'].value_counts()"
   ]
  },
  {
   "cell_type": "code",
   "execution_count": null,
   "metadata": {
    "ExecuteTime": {
     "end_time": "2022-03-24T23:19:02.351760Z",
     "start_time": "2022-03-24T23:19:02.076866Z"
    }
   },
   "outputs": [],
   "source": [
    "dohmh_inspections = dohmh_df[(dohmh_df['inspection_type'] ==\n",
    "                              'Cycle Inspection / Initial Inspection') | (dohmh_df['inspection_type'] ==\n",
    "                              'Cycle Inspection / Re-inspection')]"
   ]
  },
  {
   "cell_type": "code",
   "execution_count": null,
   "metadata": {
    "ExecuteTime": {
     "end_time": "2022-03-24T23:19:04.172448Z",
     "start_time": "2022-03-24T23:19:04.102283Z"
    }
   },
   "outputs": [],
   "source": [
    "dohmh_inspections['critical_flag'].value_counts()"
   ]
  },
  {
   "cell_type": "code",
   "execution_count": null,
   "metadata": {
    "ExecuteTime": {
     "end_time": "2022-03-25T13:45:01.843258Z",
     "start_time": "2022-03-25T13:45:00.880168Z"
    }
   },
   "outputs": [],
   "source": [
    "# Drop records with NA critical_flag\n",
    "\n",
    "dohmh_ohe = dohmh_inspections[dohmh_inspections['critical_flag'] != 'Not Applicable']"
   ]
  },
  {
   "cell_type": "code",
   "execution_count": null,
   "metadata": {
    "ExecuteTime": {
     "end_time": "2022-03-25T13:45:33.328672Z",
     "start_time": "2022-03-25T13:45:33.035849Z"
    }
   },
   "outputs": [],
   "source": [
    "dohmh_ohe = pd.get_dummies(dohmh_inspections,columns=['critical_flag'])"
   ]
  },
  {
   "cell_type": "code",
   "execution_count": null,
   "metadata": {
    "ExecuteTime": {
     "end_time": "2022-03-25T13:45:51.839949Z",
     "start_time": "2022-03-25T13:45:51.783181Z"
    }
   },
   "outputs": [],
   "source": [
    "dohmh_ohe.head(2)"
   ]
  },
  {
   "cell_type": "code",
   "execution_count": null,
   "metadata": {
    "ExecuteTime": {
     "end_time": "2022-03-25T14:50:30.907183Z",
     "start_time": "2022-03-25T14:50:30.884584Z"
    }
   },
   "outputs": [],
   "source": [
    "critical_flags = dohmh_ohe.groupby(['camis'])['critical_flag_Critical'].count()"
   ]
  },
  {
   "cell_type": "code",
   "execution_count": null,
   "metadata": {
    "ExecuteTime": {
     "end_time": "2022-03-25T14:50:23.875323Z",
     "start_time": "2022-03-25T14:50:23.860854Z"
    }
   },
   "outputs": [],
   "source": [
    "critical_flags[critical_flagss]"
   ]
  },
  {
   "cell_type": "code",
   "execution_count": null,
   "metadata": {
    "ExecuteTime": {
     "end_time": "2022-03-25T14:07:58.740052Z",
     "start_time": "2022-03-25T14:07:58.732065Z"
    }
   },
   "outputs": [],
   "source": [
    "critical_flags['critical_flag_Not Critical'].sum()"
   ]
  },
  {
   "cell_type": "code",
   "execution_count": null,
   "metadata": {
    "ExecuteTime": {
     "end_time": "2022-03-25T14:00:08.447544Z",
     "start_time": "2022-03-25T14:00:08.443356Z"
    }
   },
   "outputs": [],
   "source": [
    "non_critical_flags = dohmh_ohe.groupby(['camis'])"
   ]
  },
  {
   "cell_type": "code",
   "execution_count": null,
   "metadata": {
    "ExecuteTime": {
     "end_time": "2022-03-25T14:00:31.528917Z",
     "start_time": "2022-03-25T14:00:30.783695Z"
    }
   },
   "outputs": [],
   "source": [
    "dohmh_inspections.duplicated().sum()"
   ]
  },
  {
   "cell_type": "code",
   "execution_count": null,
   "metadata": {
    "ExecuteTime": {
     "end_time": "2022-03-24T20:07:43.870691Z",
     "start_time": "2022-03-24T20:07:42.979136Z"
    }
   },
   "outputs": [],
   "source": [
    "dohmh_inspections.loc[dohmh_inspections.duplicated(keep='first'),:]"
   ]
  },
  {
   "cell_type": "code",
   "execution_count": null,
   "metadata": {
    "ExecuteTime": {
     "end_time": "2022-03-25T14:00:44.519563Z",
     "start_time": "2022-03-25T14:00:43.762531Z"
    }
   },
   "outputs": [],
   "source": [
    "dohmh_inspections.drop_duplicates().shape"
   ]
  },
  {
   "cell_type": "code",
   "execution_count": null,
   "metadata": {
    "ExecuteTime": {
     "end_time": "2022-03-25T14:00:47.862026Z",
     "start_time": "2022-03-25T14:00:47.835019Z"
    }
   },
   "outputs": [],
   "source": [
    "dohmh_inspections.duplicated(subset=['camis']).sum()"
   ]
  },
  {
   "cell_type": "code",
   "execution_count": null,
   "metadata": {
    "ExecuteTime": {
     "end_time": "2022-03-25T14:01:12.814518Z",
     "start_time": "2022-03-25T14:01:12.801669Z"
    }
   },
   "outputs": [],
   "source": [
    "dohmh_inspections['camis'].nunique()"
   ]
  },
  {
   "cell_type": "markdown",
   "metadata": {},
   "source": [
    "There are approximately 28,000 restaurants that have been inspected by the DOHMH. Let's check out how many have ever been flagged for a critical violation."
   ]
  },
  {
   "cell_type": "markdown",
   "metadata": {},
   "source": [
    "## Mapping with Follium"
   ]
  },
  {
   "cell_type": "code",
   "execution_count": null,
   "metadata": {},
   "outputs": [],
   "source": [
    "\n"
   ]
  }
 ],
 "metadata": {
  "kernelspec": {
   "display_name": "Python (learn-env)",
   "language": "python",
   "name": "learn-env"
  },
  "language_info": {
   "codemirror_mode": {
    "name": "ipython",
    "version": 3
   },
   "file_extension": ".py",
   "mimetype": "text/x-python",
   "name": "python",
   "nbconvert_exporter": "python",
   "pygments_lexer": "ipython3",
   "version": "3.8.5"
  },
  "toc": {
   "base_numbering": 1,
   "nav_menu": {},
   "number_sections": true,
   "sideBar": true,
   "skip_h1_title": false,
   "title_cell": "Table of Contents",
   "title_sidebar": "Contents",
   "toc_cell": false,
   "toc_position": {
    "height": "calc(100% - 180px)",
    "left": "10px",
    "top": "150px",
    "width": "248px"
   },
   "toc_section_display": true,
   "toc_window_display": true
  }
 },
 "nbformat": 4,
 "nbformat_minor": 4
}
