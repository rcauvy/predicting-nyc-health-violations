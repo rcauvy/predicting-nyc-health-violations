{
 "cells": [
  {
   "cell_type": "code",
   "execution_count": 1,
   "metadata": {
    "ExecuteTime": {
     "end_time": "2022-04-12T18:55:50.084564Z",
     "start_time": "2022-04-12T18:55:41.462753Z"
    }
   },
   "outputs": [],
   "source": [
    "from IPython import display\n",
    "import requests\n",
    "import json\n",
    "from sodapy import Socrata\n",
    "import pandas as pd\n",
    "import numpy as np\n",
    "import matplotlib.pyplot as plt\n",
    "%matplotlib inline\n",
    "import seaborn as sns\n",
    "import warnings\n",
    "import time\n",
    "warnings.filterwarnings(\"ignore\")\n",
    "pd.set_option('display.max_colwidth',100)\n",
    "pd.set_option('display.max_columns',50)\n",
    "\n",
    "from sklearn.preprocessing import OneHotEncoder\n"
   ]
  },
  {
   "cell_type": "markdown",
   "metadata": {},
   "source": [
    "# Introduction"
   ]
  },
  {
   "cell_type": "markdown",
   "metadata": {},
   "source": [
    "According to the CDC, more than 48 million Americans per year become sick from food, and an estimated 75% of the outbreaks came from food prepared by caterers, delis, and restaurants. In most cities, health inspections are generally random, which can increase time spent on spot checks at clean restaurants that have been following the rules closely — and missed opportunities to improve health and hygiene at places with more pressing food safety issues.\n",
    "\n",
    "The goal for this project is to leverage public citizen generated data from social media to narrow the search for critical health and safety violations in New York City. As the City of New York manages  an open data portal, everyone can access historical hygiene inspections and violation records. By combine these two data source this project aims to determine which words, phrases, ratings, and patterns among restaurants lead to critical health and safety violations. This model can assist city health inspectors do their job better by prioritizing the kitchens most likely to be in violation of code."
   ]
  },
  {
   "cell_type": "markdown",
   "metadata": {},
   "source": [
    "# Obtain"
   ]
  },
  {
   "cell_type": "markdown",
   "metadata": {},
   "source": [
    "This project requires data pulled from two different sources, the City of New York and Yelp. To obtain the data we will call the API keys."
   ]
  },
  {
   "cell_type": "code",
   "execution_count": null,
   "metadata": {},
   "outputs": [],
   "source": [
    "# Las Vegas Data"
   ]
  },
  {
   "cell_type": "code",
   "execution_count": 2,
   "metadata": {
    "ExecuteTime": {
     "end_time": "2022-04-12T18:57:20.505720Z",
     "start_time": "2022-04-12T18:57:18.166123Z"
    }
   },
   "outputs": [
    {
     "data": {
      "text/html": [
       "<div>\n",
       "<style scoped>\n",
       "    .dataframe tbody tr th:only-of-type {\n",
       "        vertical-align: middle;\n",
       "    }\n",
       "\n",
       "    .dataframe tbody tr th {\n",
       "        vertical-align: top;\n",
       "    }\n",
       "\n",
       "    .dataframe thead th {\n",
       "        text-align: right;\n",
       "    }\n",
       "</style>\n",
       "<table border=\"1\" class=\"dataframe\">\n",
       "  <thead>\n",
       "    <tr style=\"text-align: right;\">\n",
       "      <th></th>\n",
       "      <th>ObjectId</th>\n",
       "      <th>Serial_Number</th>\n",
       "      <th>Permit_Number</th>\n",
       "      <th>Restaurant_Name</th>\n",
       "      <th>Location_Name</th>\n",
       "      <th>Category_Name</th>\n",
       "      <th>Address</th>\n",
       "      <th>City</th>\n",
       "      <th>State</th>\n",
       "      <th>Zip</th>\n",
       "      <th>Current_Demerits</th>\n",
       "      <th>Current_Grade</th>\n",
       "      <th>Date_Current</th>\n",
       "      <th>Inspection_Date</th>\n",
       "      <th>Inspection_Time</th>\n",
       "      <th>Employee_ID</th>\n",
       "      <th>Inspection_Type</th>\n",
       "      <th>Inspection_Demerits</th>\n",
       "      <th>Inspection_Grade</th>\n",
       "      <th>Permit_Status</th>\n",
       "      <th>Inspection_Result</th>\n",
       "      <th>Violations</th>\n",
       "      <th>Record_Updated</th>\n",
       "      <th>Location_1</th>\n",
       "    </tr>\n",
       "  </thead>\n",
       "  <tbody>\n",
       "    <tr>\n",
       "      <th>0</th>\n",
       "      <td>1</td>\n",
       "      <td>DAPRX3DFB</td>\n",
       "      <td>PR0126049</td>\n",
       "      <td>POLLOS EL DORADO</td>\n",
       "      <td>POLLOS EL DORADO</td>\n",
       "      <td>Restaurant</td>\n",
       "      <td>5717 MERRILL</td>\n",
       "      <td>Las Vegas</td>\n",
       "      <td>Nevada</td>\n",
       "      <td>89120</td>\n",
       "      <td>0</td>\n",
       "      <td>A</td>\n",
       "      <td>2022-04-08 00:00:00</td>\n",
       "      <td>2022-04-08 00:00:00</td>\n",
       "      <td>2022-04-08 13:30:00</td>\n",
       "      <td>EE7000559</td>\n",
       "      <td>Re-inspection</td>\n",
       "      <td>0.0</td>\n",
       "      <td>A</td>\n",
       "      <td>NaN</td>\n",
       "      <td>A Grade</td>\n",
       "      <td>2930</td>\n",
       "      <td>2022-04-08 14:24:14</td>\n",
       "      <td>(36.08527340, -115.07467880)</td>\n",
       "    </tr>\n",
       "    <tr>\n",
       "      <th>1</th>\n",
       "      <td>2</td>\n",
       "      <td>DA7O2JSB1</td>\n",
       "      <td>PR0003157</td>\n",
       "      <td>7-ELEVEN #13703 - SNACK BAR</td>\n",
       "      <td>7-Eleven Food Store #13703</td>\n",
       "      <td>Snack Bar</td>\n",
       "      <td>5891 E Lake Mead Blvd</td>\n",
       "      <td>Las Vegas</td>\n",
       "      <td>Nevada</td>\n",
       "      <td>89156-6816</td>\n",
       "      <td>6</td>\n",
       "      <td>A</td>\n",
       "      <td>2022-04-08 00:00:00</td>\n",
       "      <td>2022-04-08 00:00:00</td>\n",
       "      <td>2022-04-08 07:00:00</td>\n",
       "      <td>EE7001675</td>\n",
       "      <td>Routine Inspection</td>\n",
       "      <td>6.0</td>\n",
       "      <td>A</td>\n",
       "      <td>NaN</td>\n",
       "      <td>A Grade</td>\n",
       "      <td>215,2909,2930</td>\n",
       "      <td>2022-04-08 08:08:38</td>\n",
       "      <td>(36.19587090, -115.04415700)</td>\n",
       "    </tr>\n",
       "    <tr>\n",
       "      <th>2</th>\n",
       "      <td>3</td>\n",
       "      <td>DAYGUXFYM</td>\n",
       "      <td>PR0133375</td>\n",
       "      <td>JOE'S PLACE</td>\n",
       "      <td>JOE'S PLACE</td>\n",
       "      <td>Restaurant</td>\n",
       "      <td>375 GIBSON Rd</td>\n",
       "      <td>Henderson</td>\n",
       "      <td>Nevada</td>\n",
       "      <td>89014</td>\n",
       "      <td>8</td>\n",
       "      <td>A</td>\n",
       "      <td>2022-04-08 00:00:00</td>\n",
       "      <td>2022-04-08 00:00:00</td>\n",
       "      <td>2022-04-08 08:00:00</td>\n",
       "      <td>EE7001553</td>\n",
       "      <td>Routine Inspection</td>\n",
       "      <td>8.0</td>\n",
       "      <td>A</td>\n",
       "      <td>NaN</td>\n",
       "      <td>A Grade</td>\n",
       "      <td>211,2954</td>\n",
       "      <td>2022-04-08 10:31:54</td>\n",
       "      <td>(36.05439840, -115.02902200)</td>\n",
       "    </tr>\n",
       "    <tr>\n",
       "      <th>3</th>\n",
       "      <td>4</td>\n",
       "      <td>DAYOQVLMW</td>\n",
       "      <td>PR0133375</td>\n",
       "      <td>JOE'S PLACE</td>\n",
       "      <td>JOE'S PLACE</td>\n",
       "      <td>Restaurant</td>\n",
       "      <td>375 GIBSON Rd</td>\n",
       "      <td>Henderson</td>\n",
       "      <td>Nevada</td>\n",
       "      <td>89014</td>\n",
       "      <td>8</td>\n",
       "      <td>A</td>\n",
       "      <td>2022-04-08 00:00:00</td>\n",
       "      <td>2022-04-08 00:00:00</td>\n",
       "      <td>2022-04-08 09:15:00</td>\n",
       "      <td>EE7001553</td>\n",
       "      <td>Routine Inspection</td>\n",
       "      <td>6.0</td>\n",
       "      <td>A</td>\n",
       "      <td>NaN</td>\n",
       "      <td>A Grade</td>\n",
       "      <td>212,2912,2928,2930,2955</td>\n",
       "      <td>2022-04-08 10:48:30</td>\n",
       "      <td>(36.05439840, -115.02902200)</td>\n",
       "    </tr>\n",
       "    <tr>\n",
       "      <th>4</th>\n",
       "      <td>5</td>\n",
       "      <td>DANSRWNBW</td>\n",
       "      <td>PR0112829</td>\n",
       "      <td>FREDDY'S FROZEN CUSTARD &amp; STEAKBURGERS</td>\n",
       "      <td>FREDDY'S FROZEN CUSTARD &amp; STEAKBURGERS</td>\n",
       "      <td>Restaurant</td>\n",
       "      <td>1290 W WARM SPRINGS</td>\n",
       "      <td>Henderson</td>\n",
       "      <td>Nevada</td>\n",
       "      <td>89014</td>\n",
       "      <td>0</td>\n",
       "      <td>A</td>\n",
       "      <td>2022-04-08 00:00:00</td>\n",
       "      <td>2022-04-08 00:00:00</td>\n",
       "      <td>2022-04-08 10:30:00</td>\n",
       "      <td>EE7001809</td>\n",
       "      <td>Routine Inspection</td>\n",
       "      <td>0.0</td>\n",
       "      <td>A</td>\n",
       "      <td>NaN</td>\n",
       "      <td>A Grade</td>\n",
       "      <td>2912,2930</td>\n",
       "      <td>2022-04-08 11:39:42</td>\n",
       "      <td>(36.05681470, -115.04147690)</td>\n",
       "    </tr>\n",
       "    <tr>\n",
       "      <th>...</th>\n",
       "      <td>...</td>\n",
       "      <td>...</td>\n",
       "      <td>...</td>\n",
       "      <td>...</td>\n",
       "      <td>...</td>\n",
       "      <td>...</td>\n",
       "      <td>...</td>\n",
       "      <td>...</td>\n",
       "      <td>...</td>\n",
       "      <td>...</td>\n",
       "      <td>...</td>\n",
       "      <td>...</td>\n",
       "      <td>...</td>\n",
       "      <td>...</td>\n",
       "      <td>...</td>\n",
       "      <td>...</td>\n",
       "      <td>...</td>\n",
       "      <td>...</td>\n",
       "      <td>...</td>\n",
       "      <td>...</td>\n",
       "      <td>...</td>\n",
       "      <td>...</td>\n",
       "      <td>...</td>\n",
       "      <td>...</td>\n",
       "    </tr>\n",
       "    <tr>\n",
       "      <th>300595</th>\n",
       "      <td>300596</td>\n",
       "      <td>DA0503728</td>\n",
       "      <td>PR0013916</td>\n",
       "      <td>Chaser's Pub</td>\n",
       "      <td>Chaser's Pub</td>\n",
       "      <td>Bar / Tavern</td>\n",
       "      <td>6870 Spring Mountain Rd</td>\n",
       "      <td>Las Vegas</td>\n",
       "      <td>Nevada</td>\n",
       "      <td>89146-8856</td>\n",
       "      <td>6</td>\n",
       "      <td>A</td>\n",
       "      <td>2021-02-23 00:00:00</td>\n",
       "      <td>2005-01-04 00:00:00</td>\n",
       "      <td>2005-01-04 12:45:00</td>\n",
       "      <td>EE7000330</td>\n",
       "      <td>Routine Inspection</td>\n",
       "      <td>9.0</td>\n",
       "      <td>A</td>\n",
       "      <td>NaN</td>\n",
       "      <td>Compliant</td>\n",
       "      <td>14,19,112</td>\n",
       "      <td>2013-02-21 22:26:12</td>\n",
       "      <td>(36.12585700, -115.24223600)</td>\n",
       "    </tr>\n",
       "    <tr>\n",
       "      <th>300596</th>\n",
       "      <td>300597</td>\n",
       "      <td>DA0503747</td>\n",
       "      <td>PR0013916</td>\n",
       "      <td>Chaser's Pub</td>\n",
       "      <td>Chaser's Pub</td>\n",
       "      <td>Bar / Tavern</td>\n",
       "      <td>6870 Spring Mountain Rd</td>\n",
       "      <td>Las Vegas</td>\n",
       "      <td>Nevada</td>\n",
       "      <td>89146-8856</td>\n",
       "      <td>6</td>\n",
       "      <td>A</td>\n",
       "      <td>2021-02-23 00:00:00</td>\n",
       "      <td>2005-01-04 00:00:00</td>\n",
       "      <td>2005-01-04 12:35:00</td>\n",
       "      <td>EE7000330</td>\n",
       "      <td>Routine Inspection</td>\n",
       "      <td>8.0</td>\n",
       "      <td>A</td>\n",
       "      <td>NaN</td>\n",
       "      <td>Compliant</td>\n",
       "      <td>13,14,19</td>\n",
       "      <td>2013-02-21 22:26:12</td>\n",
       "      <td>(36.12585700, -115.24223600)</td>\n",
       "    </tr>\n",
       "    <tr>\n",
       "      <th>300597</th>\n",
       "      <td>300598</td>\n",
       "      <td>DA0124319</td>\n",
       "      <td>PR0003308</td>\n",
       "      <td>C J Market - Deli</td>\n",
       "      <td>C J Market</td>\n",
       "      <td>Snack Bar</td>\n",
       "      <td>1000 S Torrey Pines Dr</td>\n",
       "      <td>Las Vegas</td>\n",
       "      <td>Nevada</td>\n",
       "      <td>89107-3520</td>\n",
       "      <td>12</td>\n",
       "      <td>B</td>\n",
       "      <td>2011-09-08 00:00:00</td>\n",
       "      <td>2005-01-04 00:00:00</td>\n",
       "      <td>2005-01-04 15:30:00</td>\n",
       "      <td>EE7000619</td>\n",
       "      <td>Routine Inspection</td>\n",
       "      <td>0.0</td>\n",
       "      <td>A</td>\n",
       "      <td>NaN</td>\n",
       "      <td>Compliant</td>\n",
       "      <td>NaN</td>\n",
       "      <td>2013-02-21 22:26:12</td>\n",
       "      <td>(36.15992900, -115.23496600)</td>\n",
       "    </tr>\n",
       "    <tr>\n",
       "      <th>300598</th>\n",
       "      <td>300599</td>\n",
       "      <td>DA0499656</td>\n",
       "      <td>PR0013392</td>\n",
       "      <td>Agave Restaurant Front Line</td>\n",
       "      <td>Agave</td>\n",
       "      <td>Restaurant</td>\n",
       "      <td>10820 W Charleston Blvd</td>\n",
       "      <td>Las Vegas</td>\n",
       "      <td>Nevada</td>\n",
       "      <td>89135-1102</td>\n",
       "      <td>3</td>\n",
       "      <td>A</td>\n",
       "      <td>2012-06-20 00:00:00</td>\n",
       "      <td>2005-01-04 00:00:00</td>\n",
       "      <td>2005-01-04 12:55:00</td>\n",
       "      <td>EE7000373</td>\n",
       "      <td>Routine Inspection</td>\n",
       "      <td>4.0</td>\n",
       "      <td>A</td>\n",
       "      <td>NaN</td>\n",
       "      <td>Compliant</td>\n",
       "      <td>4</td>\n",
       "      <td>2013-02-21 22:26:12</td>\n",
       "      <td>(36.16070900, -115.33139300)</td>\n",
       "    </tr>\n",
       "    <tr>\n",
       "      <th>300599</th>\n",
       "      <td>300600</td>\n",
       "      <td>DA0443463</td>\n",
       "      <td>PR0010381</td>\n",
       "      <td>BETMGM SPORTSBOOK &amp; BAR</td>\n",
       "      <td>MGM GRAND HOTEL &amp; CASINO</td>\n",
       "      <td>Bar / Tavern</td>\n",
       "      <td>3799 S Las Vegas Blvd</td>\n",
       "      <td>Las Vegas</td>\n",
       "      <td>Nevada</td>\n",
       "      <td>89109-4319</td>\n",
       "      <td>6</td>\n",
       "      <td>A</td>\n",
       "      <td>2022-03-21 00:00:00</td>\n",
       "      <td>2005-01-04 00:00:00</td>\n",
       "      <td>2005-01-04 14:20:00</td>\n",
       "      <td>EE7000355</td>\n",
       "      <td>Routine Inspection</td>\n",
       "      <td>5.0</td>\n",
       "      <td>A</td>\n",
       "      <td>NaN</td>\n",
       "      <td>Compliant</td>\n",
       "      <td>14,35</td>\n",
       "      <td>2013-02-21 22:26:12</td>\n",
       "      <td>(36.10225070, -115.16996790)</td>\n",
       "    </tr>\n",
       "  </tbody>\n",
       "</table>\n",
       "<p>300600 rows × 24 columns</p>\n",
       "</div>"
      ],
      "text/plain": [
       "        ObjectId Serial_Number Permit_Number  \\\n",
       "0              1     DAPRX3DFB     PR0126049   \n",
       "1              2     DA7O2JSB1     PR0003157   \n",
       "2              3     DAYGUXFYM     PR0133375   \n",
       "3              4     DAYOQVLMW     PR0133375   \n",
       "4              5     DANSRWNBW     PR0112829   \n",
       "...          ...           ...           ...   \n",
       "300595    300596     DA0503728     PR0013916   \n",
       "300596    300597     DA0503747     PR0013916   \n",
       "300597    300598     DA0124319     PR0003308   \n",
       "300598    300599     DA0499656     PR0013392   \n",
       "300599    300600     DA0443463     PR0010381   \n",
       "\n",
       "                               Restaurant_Name  \\\n",
       "0                             POLLOS EL DORADO   \n",
       "1                  7-ELEVEN #13703 - SNACK BAR   \n",
       "2                                  JOE'S PLACE   \n",
       "3                                  JOE'S PLACE   \n",
       "4       FREDDY'S FROZEN CUSTARD & STEAKBURGERS   \n",
       "...                                        ...   \n",
       "300595                            Chaser's Pub   \n",
       "300596                            Chaser's Pub   \n",
       "300597                       C J Market - Deli   \n",
       "300598             Agave Restaurant Front Line   \n",
       "300599                 BETMGM SPORTSBOOK & BAR   \n",
       "\n",
       "                                 Location_Name Category_Name  \\\n",
       "0                             POLLOS EL DORADO    Restaurant   \n",
       "1                   7-Eleven Food Store #13703     Snack Bar   \n",
       "2                                  JOE'S PLACE    Restaurant   \n",
       "3                                  JOE'S PLACE    Restaurant   \n",
       "4       FREDDY'S FROZEN CUSTARD & STEAKBURGERS    Restaurant   \n",
       "...                                        ...           ...   \n",
       "300595                            Chaser's Pub  Bar / Tavern   \n",
       "300596                            Chaser's Pub  Bar / Tavern   \n",
       "300597                              C J Market     Snack Bar   \n",
       "300598                                   Agave    Restaurant   \n",
       "300599                MGM GRAND HOTEL & CASINO  Bar / Tavern   \n",
       "\n",
       "                        Address       City   State         Zip  \\\n",
       "0                  5717 MERRILL  Las Vegas  Nevada       89120   \n",
       "1         5891 E Lake Mead Blvd  Las Vegas  Nevada  89156-6816   \n",
       "2                 375 GIBSON Rd  Henderson  Nevada       89014   \n",
       "3                 375 GIBSON Rd  Henderson  Nevada       89014   \n",
       "4           1290 W WARM SPRINGS  Henderson  Nevada       89014   \n",
       "...                         ...        ...     ...         ...   \n",
       "300595  6870 Spring Mountain Rd  Las Vegas  Nevada  89146-8856   \n",
       "300596  6870 Spring Mountain Rd  Las Vegas  Nevada  89146-8856   \n",
       "300597   1000 S Torrey Pines Dr  Las Vegas  Nevada  89107-3520   \n",
       "300598  10820 W Charleston Blvd  Las Vegas  Nevada  89135-1102   \n",
       "300599    3799 S Las Vegas Blvd  Las Vegas  Nevada  89109-4319   \n",
       "\n",
       "       Current_Demerits Current_Grade         Date_Current  \\\n",
       "0                     0             A  2022-04-08 00:00:00   \n",
       "1                     6             A  2022-04-08 00:00:00   \n",
       "2                     8             A  2022-04-08 00:00:00   \n",
       "3                     8             A  2022-04-08 00:00:00   \n",
       "4                     0             A  2022-04-08 00:00:00   \n",
       "...                 ...           ...                  ...   \n",
       "300595                6             A  2021-02-23 00:00:00   \n",
       "300596                6             A  2021-02-23 00:00:00   \n",
       "300597               12             B  2011-09-08 00:00:00   \n",
       "300598                3             A  2012-06-20 00:00:00   \n",
       "300599                6             A  2022-03-21 00:00:00   \n",
       "\n",
       "            Inspection_Date      Inspection_Time Employee_ID  \\\n",
       "0       2022-04-08 00:00:00  2022-04-08 13:30:00   EE7000559   \n",
       "1       2022-04-08 00:00:00  2022-04-08 07:00:00   EE7001675   \n",
       "2       2022-04-08 00:00:00  2022-04-08 08:00:00   EE7001553   \n",
       "3       2022-04-08 00:00:00  2022-04-08 09:15:00   EE7001553   \n",
       "4       2022-04-08 00:00:00  2022-04-08 10:30:00   EE7001809   \n",
       "...                     ...                  ...         ...   \n",
       "300595  2005-01-04 00:00:00  2005-01-04 12:45:00   EE7000330   \n",
       "300596  2005-01-04 00:00:00  2005-01-04 12:35:00   EE7000330   \n",
       "300597  2005-01-04 00:00:00  2005-01-04 15:30:00   EE7000619   \n",
       "300598  2005-01-04 00:00:00  2005-01-04 12:55:00   EE7000373   \n",
       "300599  2005-01-04 00:00:00  2005-01-04 14:20:00   EE7000355   \n",
       "\n",
       "           Inspection_Type  Inspection_Demerits Inspection_Grade  \\\n",
       "0            Re-inspection                  0.0                A   \n",
       "1       Routine Inspection                  6.0                A   \n",
       "2       Routine Inspection                  8.0                A   \n",
       "3       Routine Inspection                  6.0                A   \n",
       "4       Routine Inspection                  0.0                A   \n",
       "...                    ...                  ...              ...   \n",
       "300595  Routine Inspection                  9.0                A   \n",
       "300596  Routine Inspection                  8.0                A   \n",
       "300597  Routine Inspection                  0.0                A   \n",
       "300598  Routine Inspection                  4.0                A   \n",
       "300599  Routine Inspection                  5.0                A   \n",
       "\n",
       "        Permit_Status Inspection_Result               Violations  \\\n",
       "0                 NaN           A Grade                     2930   \n",
       "1                 NaN           A Grade            215,2909,2930   \n",
       "2                 NaN           A Grade                 211,2954   \n",
       "3                 NaN           A Grade  212,2912,2928,2930,2955   \n",
       "4                 NaN           A Grade                2912,2930   \n",
       "...               ...               ...                      ...   \n",
       "300595            NaN         Compliant                14,19,112   \n",
       "300596            NaN         Compliant                 13,14,19   \n",
       "300597            NaN         Compliant                      NaN   \n",
       "300598            NaN         Compliant                        4   \n",
       "300599            NaN         Compliant                    14,35   \n",
       "\n",
       "             Record_Updated                    Location_1  \n",
       "0       2022-04-08 14:24:14  (36.08527340, -115.07467880)  \n",
       "1       2022-04-08 08:08:38  (36.19587090, -115.04415700)  \n",
       "2       2022-04-08 10:31:54  (36.05439840, -115.02902200)  \n",
       "3       2022-04-08 10:48:30  (36.05439840, -115.02902200)  \n",
       "4       2022-04-08 11:39:42  (36.05681470, -115.04147690)  \n",
       "...                     ...                           ...  \n",
       "300595  2013-02-21 22:26:12  (36.12585700, -115.24223600)  \n",
       "300596  2013-02-21 22:26:12  (36.12585700, -115.24223600)  \n",
       "300597  2013-02-21 22:26:12  (36.15992900, -115.23496600)  \n",
       "300598  2013-02-21 22:26:12  (36.16070900, -115.33139300)  \n",
       "300599  2013-02-21 22:26:12  (36.10225070, -115.16996790)  \n",
       "\n",
       "[300600 rows x 24 columns]"
      ]
     },
     "execution_count": 2,
     "metadata": {},
     "output_type": "execute_result"
    }
   ],
   "source": [
    "inspections = pd.read_csv('data/Restaurant_Inspections_Open_Data.csv')\n",
    "inspections"
   ]
  },
  {
   "cell_type": "code",
   "execution_count": 3,
   "metadata": {
    "ExecuteTime": {
     "end_time": "2022-04-12T18:58:29.650116Z",
     "start_time": "2022-04-12T18:58:29.640632Z"
    }
   },
   "outputs": [],
   "source": [
    "# Yelp dataset"
   ]
  },
  {
   "cell_type": "code",
   "execution_count": null,
   "metadata": {},
   "outputs": [],
   "source": []
  },
  {
   "cell_type": "code",
   "execution_count": 19,
   "metadata": {
    "ExecuteTime": {
     "end_time": "2022-04-12T19:10:43.902613Z",
     "start_time": "2022-04-12T19:10:37.044085Z"
    }
   },
   "outputs": [],
   "source": [
    "businesses = pd.read_json('data/yelp_dataset/yelp_academic_dataset_business.json',lines=True)"
   ]
  },
  {
   "cell_type": "code",
   "execution_count": null,
   "metadata": {
    "ExecuteTime": {
     "end_time": "2022-04-12T19:39:31.724905Z",
     "start_time": "2022-04-12T19:11:53.126Z"
    }
   },
   "outputs": [],
   "source": [
    "businesses.head(3)"
   ]
  },
  {
   "cell_type": "code",
   "execution_count": 15,
   "metadata": {
    "ExecuteTime": {
     "end_time": "2022-04-12T19:09:27.195786Z",
     "start_time": "2022-04-12T19:09:27.144040Z"
    }
   },
   "outputs": [],
   "source": [
    "NV = businesses[businesses['state'] == 'NV']"
   ]
  },
  {
   "cell_type": "code",
   "execution_count": 16,
   "metadata": {
    "ExecuteTime": {
     "end_time": "2022-04-12T19:09:41.139732Z",
     "start_time": "2022-04-12T19:09:41.125621Z"
    }
   },
   "outputs": [
    {
     "data": {
      "text/plain": [
       "Reno               5932\n",
       "Sparks             1623\n",
       "Sun Valley           38\n",
       "Virginia City        32\n",
       "Verdi                29\n",
       "Spanish Springs      25\n",
       "Washoe Valley         4\n",
       "New Washoe City       4\n",
       "Cold Springs          2\n",
       "Stead                 2\n",
       "reno                  2\n",
       "Carson City           2\n",
       "Reno                  2\n",
       "Reno City             1\n",
       "Reno Nevada           1\n",
       "Mount Laurel          1\n",
       "Spark                 1\n",
       "Nevada                1\n",
       "sparks                1\n",
       "McCarran              1\n",
       "Fernley               1\n",
       "Sparks,               1\n",
       "South Reno            1\n",
       "Sparks NV             1\n",
       "Sparks                1\n",
       "VC Highlands          1\n",
       "SPARKS                1\n",
       "RENO AP               1\n",
       "Washoe                1\n",
       "RENO                  1\n",
       "Reno Sparks           1\n",
       "Name: city, dtype: int64"
      ]
     },
     "execution_count": 16,
     "metadata": {},
     "output_type": "execute_result"
    }
   ],
   "source": [
    "NV['city'].value_counts()"
   ]
  },
  {
   "cell_type": "code",
   "execution_count": 21,
   "metadata": {
    "ExecuteTime": {
     "end_time": "2022-04-12T20:11:36.560691Z",
     "start_time": "2022-04-12T19:41:10.938920Z"
    }
   },
   "outputs": [
    {
     "ename": "JSONDecodeError",
     "evalue": "Extra data: line 2 column 1 (char 709)",
     "output_type": "error",
     "traceback": [
      "\u001b[0;31m---------------------------------------------------------------------------\u001b[0m",
      "\u001b[0;31mJSONDecodeError\u001b[0m                           Traceback (most recent call last)",
      "\u001b[0;32m<ipython-input-21-c9d457ea8388>\u001b[0m in \u001b[0;36m<module>\u001b[0;34m\u001b[0m\n\u001b[1;32m      1\u001b[0m \u001b[0;32mwith\u001b[0m \u001b[0mopen\u001b[0m\u001b[0;34m(\u001b[0m\u001b[0;34m'data/yelp_dataset/yelp_academic_dataset_review.json'\u001b[0m\u001b[0;34m,\u001b[0m\u001b[0;34m'r'\u001b[0m\u001b[0;34m)\u001b[0m \u001b[0;32mas\u001b[0m \u001b[0mf\u001b[0m\u001b[0;34m:\u001b[0m\u001b[0;34m\u001b[0m\u001b[0;34m\u001b[0m\u001b[0m\n\u001b[0;32m----> 2\u001b[0;31m     \u001b[0mreviews\u001b[0m \u001b[0;34m=\u001b[0m \u001b[0mjson\u001b[0m\u001b[0;34m.\u001b[0m\u001b[0mload\u001b[0m\u001b[0;34m(\u001b[0m\u001b[0mf\u001b[0m\u001b[0;34m)\u001b[0m\u001b[0;34m\u001b[0m\u001b[0;34m\u001b[0m\u001b[0m\n\u001b[0m",
      "\u001b[0;32m/opt/anaconda3/envs/learn-env/lib/python3.8/json/__init__.py\u001b[0m in \u001b[0;36mload\u001b[0;34m(fp, cls, object_hook, parse_float, parse_int, parse_constant, object_pairs_hook, **kw)\u001b[0m\n\u001b[1;32m    291\u001b[0m     \u001b[0mkwarg\u001b[0m\u001b[0;34m;\u001b[0m \u001b[0motherwise\u001b[0m\u001b[0;31m \u001b[0m\u001b[0;31m`\u001b[0m\u001b[0;31m`\u001b[0m\u001b[0mJSONDecoder\u001b[0m\u001b[0;31m`\u001b[0m\u001b[0;31m`\u001b[0m \u001b[0;32mis\u001b[0m \u001b[0mused\u001b[0m\u001b[0;34m.\u001b[0m\u001b[0;34m\u001b[0m\u001b[0;34m\u001b[0m\u001b[0m\n\u001b[1;32m    292\u001b[0m     \"\"\"\n\u001b[0;32m--> 293\u001b[0;31m     return loads(fp.read(),\n\u001b[0m\u001b[1;32m    294\u001b[0m         \u001b[0mcls\u001b[0m\u001b[0;34m=\u001b[0m\u001b[0mcls\u001b[0m\u001b[0;34m,\u001b[0m \u001b[0mobject_hook\u001b[0m\u001b[0;34m=\u001b[0m\u001b[0mobject_hook\u001b[0m\u001b[0;34m,\u001b[0m\u001b[0;34m\u001b[0m\u001b[0;34m\u001b[0m\u001b[0m\n\u001b[1;32m    295\u001b[0m         \u001b[0mparse_float\u001b[0m\u001b[0;34m=\u001b[0m\u001b[0mparse_float\u001b[0m\u001b[0;34m,\u001b[0m \u001b[0mparse_int\u001b[0m\u001b[0;34m=\u001b[0m\u001b[0mparse_int\u001b[0m\u001b[0;34m,\u001b[0m\u001b[0;34m\u001b[0m\u001b[0;34m\u001b[0m\u001b[0m\n",
      "\u001b[0;32m/opt/anaconda3/envs/learn-env/lib/python3.8/json/__init__.py\u001b[0m in \u001b[0;36mloads\u001b[0;34m(s, cls, object_hook, parse_float, parse_int, parse_constant, object_pairs_hook, **kw)\u001b[0m\n\u001b[1;32m    355\u001b[0m             \u001b[0mparse_int\u001b[0m \u001b[0;32mis\u001b[0m \u001b[0;32mNone\u001b[0m \u001b[0;32mand\u001b[0m \u001b[0mparse_float\u001b[0m \u001b[0;32mis\u001b[0m \u001b[0;32mNone\u001b[0m \u001b[0;32mand\u001b[0m\u001b[0;34m\u001b[0m\u001b[0;34m\u001b[0m\u001b[0m\n\u001b[1;32m    356\u001b[0m             parse_constant is None and object_pairs_hook is None and not kw):\n\u001b[0;32m--> 357\u001b[0;31m         \u001b[0;32mreturn\u001b[0m \u001b[0m_default_decoder\u001b[0m\u001b[0;34m.\u001b[0m\u001b[0mdecode\u001b[0m\u001b[0;34m(\u001b[0m\u001b[0ms\u001b[0m\u001b[0;34m)\u001b[0m\u001b[0;34m\u001b[0m\u001b[0;34m\u001b[0m\u001b[0m\n\u001b[0m\u001b[1;32m    358\u001b[0m     \u001b[0;32mif\u001b[0m \u001b[0mcls\u001b[0m \u001b[0;32mis\u001b[0m \u001b[0;32mNone\u001b[0m\u001b[0;34m:\u001b[0m\u001b[0;34m\u001b[0m\u001b[0;34m\u001b[0m\u001b[0m\n\u001b[1;32m    359\u001b[0m         \u001b[0mcls\u001b[0m \u001b[0;34m=\u001b[0m \u001b[0mJSONDecoder\u001b[0m\u001b[0;34m\u001b[0m\u001b[0;34m\u001b[0m\u001b[0m\n",
      "\u001b[0;32m/opt/anaconda3/envs/learn-env/lib/python3.8/json/decoder.py\u001b[0m in \u001b[0;36mdecode\u001b[0;34m(self, s, _w)\u001b[0m\n\u001b[1;32m    338\u001b[0m         \u001b[0mend\u001b[0m \u001b[0;34m=\u001b[0m \u001b[0m_w\u001b[0m\u001b[0;34m(\u001b[0m\u001b[0ms\u001b[0m\u001b[0;34m,\u001b[0m \u001b[0mend\u001b[0m\u001b[0;34m)\u001b[0m\u001b[0;34m.\u001b[0m\u001b[0mend\u001b[0m\u001b[0;34m(\u001b[0m\u001b[0;34m)\u001b[0m\u001b[0;34m\u001b[0m\u001b[0;34m\u001b[0m\u001b[0m\n\u001b[1;32m    339\u001b[0m         \u001b[0;32mif\u001b[0m \u001b[0mend\u001b[0m \u001b[0;34m!=\u001b[0m \u001b[0mlen\u001b[0m\u001b[0;34m(\u001b[0m\u001b[0ms\u001b[0m\u001b[0;34m)\u001b[0m\u001b[0;34m:\u001b[0m\u001b[0;34m\u001b[0m\u001b[0;34m\u001b[0m\u001b[0m\n\u001b[0;32m--> 340\u001b[0;31m             \u001b[0;32mraise\u001b[0m \u001b[0mJSONDecodeError\u001b[0m\u001b[0;34m(\u001b[0m\u001b[0;34m\"Extra data\"\u001b[0m\u001b[0;34m,\u001b[0m \u001b[0ms\u001b[0m\u001b[0;34m,\u001b[0m \u001b[0mend\u001b[0m\u001b[0;34m)\u001b[0m\u001b[0;34m\u001b[0m\u001b[0;34m\u001b[0m\u001b[0m\n\u001b[0m\u001b[1;32m    341\u001b[0m         \u001b[0;32mreturn\u001b[0m \u001b[0mobj\u001b[0m\u001b[0;34m\u001b[0m\u001b[0;34m\u001b[0m\u001b[0m\n\u001b[1;32m    342\u001b[0m \u001b[0;34m\u001b[0m\u001b[0m\n",
      "\u001b[0;31mJSONDecodeError\u001b[0m: Extra data: line 2 column 1 (char 709)"
     ]
    }
   ],
   "source": [
    "with open('data/yelp_dataset/yelp_academic_dataset_review.json','r') as f:\n",
    "    reviews = json.load(f)"
   ]
  },
  {
   "cell_type": "markdown",
   "metadata": {},
   "source": [
    "## NYC Open Data API"
   ]
  },
  {
   "cell_type": "code",
   "execution_count": null,
   "metadata": {},
   "outputs": [],
   "source": []
  },
  {
   "cell_type": "code",
   "execution_count": null,
   "metadata": {
    "ExecuteTime": {
     "end_time": "2022-03-26T00:44:33.880028Z",
     "start_time": "2022-03-26T00:44:32.436823Z"
    }
   },
   "outputs": [],
   "source": [
    "doh = pd.read_csv('data/DOHMH_New_York_City_Restaurant_Inspection_Results.csv')\n",
    "doh"
   ]
  },
  {
   "cell_type": "code",
   "execution_count": null,
   "metadata": {
    "ExecuteTime": {
     "end_time": "2022-03-26T01:03:54.040063Z",
     "start_time": "2022-03-26T01:03:54.023530Z"
    }
   },
   "outputs": [],
   "source": [
    "# How many unique restaurants are in this dataset?\n",
    "doh['CAMIS'].nunique()"
   ]
  },
  {
   "cell_type": "markdown",
   "metadata": {},
   "source": [
    "Health code violations found during an inspections carries a point value, and a restaurant’s score corresponds to a letter grade. A lower point score, leads to a better letter grade:\n",
    "\n",
    "\"A\" grade: 0 to 13 points for sanitary violations\n",
    "\"B\" grade: 14 to 27 points for sanitary violations\n",
    "\"C\" grade: 28 or more points for sanitary violations"
   ]
  },
  {
   "cell_type": "code",
   "execution_count": null,
   "metadata": {
    "ExecuteTime": {
     "end_time": "2022-03-26T01:11:04.267007Z",
     "start_time": "2022-03-26T01:11:04.252601Z"
    }
   },
   "outputs": [],
   "source": [
    "doh['A'] = doh['SCORE'] < 14\n",
    "doh['B'] = (doh['SCORE'] > 13) & (doh['SCORE'] < 28)\n",
    "doh['C'] = doh['SCORE'] > 27"
   ]
  },
  {
   "cell_type": "code",
   "execution_count": null,
   "metadata": {
    "ExecuteTime": {
     "end_time": "2022-03-26T01:11:10.020018Z",
     "start_time": "2022-03-26T01:11:09.943685Z"
    }
   },
   "outputs": [],
   "source": [
    "doh"
   ]
  },
  {
   "cell_type": "code",
   "execution_count": null,
   "metadata": {
    "ExecuteTime": {
     "end_time": "2022-03-26T01:06:24.388179Z",
     "start_time": "2022-03-26T01:06:24.338716Z"
    }
   },
   "outputs": [],
   "source": [
    "pass_fail = doh.groupby(['CAMIS'])['PASS', 'FAIL'].sum()"
   ]
  },
  {
   "cell_type": "code",
   "execution_count": null,
   "metadata": {
    "ExecuteTime": {
     "end_time": "2022-03-26T01:06:42.441376Z",
     "start_time": "2022-03-26T01:06:42.422816Z"
    }
   },
   "outputs": [],
   "source": [
    "pass_fail[pass_fail['FAIL'] > 0]"
   ]
  },
  {
   "cell_type": "markdown",
   "metadata": {},
   "source": [
    "Of the 19,792 unique restaurants, 12,221 did not pass the intitial inspections at least once."
   ]
  },
  {
   "cell_type": "code",
   "execution_count": null,
   "metadata": {
    "ExecuteTime": {
     "end_time": "2022-03-28T21:20:22.013226Z",
     "start_time": "2022-03-28T21:20:21.908414Z"
    }
   },
   "outputs": [],
   "source": [
    "doh_grades = doh.groupby(['CAMIS'])['BORO','BUILDING','STREET','ZIPCODE',\n",
    "                                    'PHONE','CUISINE DESCRIPTION',\n",
    "                                    'Latitude','Longitude','Community Board',\n",
    "                                    'Council District','Census Tract',\n",
    "                                    'A', 'B','C'].sum()"
   ]
  },
  {
   "cell_type": "code",
   "execution_count": null,
   "metadata": {
    "ExecuteTime": {
     "end_time": "2022-03-28T21:20:23.011587Z",
     "start_time": "2022-03-28T21:20:22.983283Z"
    }
   },
   "outputs": [],
   "source": [
    "doh_grades"
   ]
  },
  {
   "cell_type": "code",
   "execution_count": null,
   "metadata": {
    "ExecuteTime": {
     "end_time": "2022-03-28T21:15:24.193049Z",
     "start_time": "2022-03-28T21:15:24.138405Z"
    }
   },
   "outputs": [],
   "source": [
    "doh_grades[doh_grades['B'] > 0]"
   ]
  },
  {
   "cell_type": "markdown",
   "metadata": {},
   "source": [
    "Of the 19,792 unique restaurants, 9,978 failed an initial cycle inspection at least once."
   ]
  },
  {
   "cell_type": "code",
   "execution_count": null,
   "metadata": {
    "ExecuteTime": {
     "end_time": "2022-03-26T00:43:37.144692Z",
     "start_time": "2022-03-26T00:43:36.443669Z"
    }
   },
   "outputs": [],
   "source": [
    "doh.duplicated().sum()"
   ]
  },
  {
   "cell_type": "code",
   "execution_count": null,
   "metadata": {
    "ExecuteTime": {
     "end_time": "2022-03-26T00:43:38.596351Z",
     "start_time": "2022-03-26T00:43:37.979780Z"
    }
   },
   "outputs": [],
   "source": [
    "doh.drop_duplicates(inplace=True)"
   ]
  },
  {
   "cell_type": "code",
   "execution_count": null,
   "metadata": {
    "ExecuteTime": {
     "end_time": "2022-03-26T00:43:39.535897Z",
     "start_time": "2022-03-26T00:43:39.526939Z"
    }
   },
   "outputs": [],
   "source": [
    "doh.shape"
   ]
  },
  {
   "cell_type": "code",
   "execution_count": null,
   "metadata": {
    "ExecuteTime": {
     "end_time": "2022-03-26T00:43:43.616308Z",
     "start_time": "2022-03-26T00:43:43.610145Z"
    }
   },
   "outputs": [],
   "source": [
    "doh['SCORE'].isna().sum()"
   ]
  },
  {
   "cell_type": "code",
   "execution_count": null,
   "metadata": {
    "ExecuteTime": {
     "end_time": "2022-03-26T00:43:44.952194Z",
     "start_time": "2022-03-26T00:43:44.318734Z"
    }
   },
   "outputs": [],
   "source": [
    "doh['SCORE'].hist(bins=113, figsize=(12,8));"
   ]
  },
  {
   "cell_type": "code",
   "execution_count": null,
   "metadata": {
    "ExecuteTime": {
     "end_time": "2022-03-26T00:43:46.040149Z",
     "start_time": "2022-03-26T00:43:46.018190Z"
    }
   },
   "outputs": [],
   "source": [
    "doh['SCORE'].value_counts()"
   ]
  },
  {
   "cell_type": "code",
   "execution_count": null,
   "metadata": {
    "ExecuteTime": {
     "end_time": "2022-03-26T00:43:55.538283Z",
     "start_time": "2022-03-26T00:43:55.527840Z"
    }
   },
   "outputs": [],
   "source": [
    "doh['SCORE'].mean()"
   ]
  },
  {
   "cell_type": "code",
   "execution_count": null,
   "metadata": {
    "ExecuteTime": {
     "end_time": "2022-03-26T00:43:56.340926Z",
     "start_time": "2022-03-26T00:43:56.320324Z"
    }
   },
   "outputs": [],
   "source": [
    "doh['SCORE'].median()"
   ]
  },
  {
   "cell_type": "code",
   "execution_count": null,
   "metadata": {
    "ExecuteTime": {
     "end_time": "2022-03-26T00:43:57.150869Z",
     "start_time": "2022-03-26T00:43:57.134478Z"
    }
   },
   "outputs": [],
   "source": [
    "doh['SCORE'].mode()"
   ]
  },
  {
   "cell_type": "code",
   "execution_count": null,
   "metadata": {
    "ExecuteTime": {
     "end_time": "2022-03-26T00:43:59.815226Z",
     "start_time": "2022-03-26T00:43:59.794722Z"
    }
   },
   "outputs": [],
   "source": [
    "doh['GRADE'].isna().sum()"
   ]
  },
  {
   "cell_type": "code",
   "execution_count": null,
   "metadata": {
    "ExecuteTime": {
     "end_time": "2022-03-25T18:42:20.540069Z",
     "start_time": "2022-03-25T18:42:20.473413Z"
    }
   },
   "outputs": [],
   "source": [
    "doh['GRADE'].value_counts()"
   ]
  },
  {
   "cell_type": "code",
   "execution_count": null,
   "metadata": {
    "ExecuteTime": {
     "end_time": "2022-03-25T18:30:39.271881Z",
     "start_time": "2022-03-25T18:30:39.033137Z"
    }
   },
   "outputs": [],
   "source": [
    "doh.info()"
   ]
  },
  {
   "cell_type": "code",
   "execution_count": null,
   "metadata": {
    "ExecuteTime": {
     "end_time": "2022-03-26T00:33:04.431419Z",
     "start_time": "2022-03-26T00:33:03.703544Z"
    }
   },
   "outputs": [],
   "source": [
    "doh['INSPECTION DATE'] =  pd.to_datetime(doh['INSPECTION DATE'])"
   ]
  },
  {
   "cell_type": "code",
   "execution_count": null,
   "metadata": {
    "ExecuteTime": {
     "end_time": "2022-03-26T00:42:54.549470Z",
     "start_time": "2022-03-26T00:42:54.522854Z"
    }
   },
   "outputs": [],
   "source": [
    "# doh.pivot(columns=['CAMIS','INSPECTION DATE'],values='SCORE')"
   ]
  },
  {
   "cell_type": "code",
   "execution_count": null,
   "metadata": {},
   "outputs": [],
   "source": []
  },
  {
   "cell_type": "markdown",
   "metadata": {},
   "source": [
    "The New York Health Department inspects the approximately 27,000 restaurants within the city to monitor their compliance with food safety regulations. Inspectors observe how food is prepared, served and stored and whether restaurant workers are practicing good hygiene. They check food temperatures, equipment maintenance and pest control measures."
   ]
  },
  {
   "cell_type": "markdown",
   "metadata": {},
   "source": [
    "Calling API"
   ]
  },
  {
   "cell_type": "code",
   "execution_count": null,
   "metadata": {
    "ExecuteTime": {
     "end_time": "2022-03-24T23:11:25.954376Z",
     "start_time": "2022-03-24T23:10:57.399537Z"
    }
   },
   "outputs": [],
   "source": [
    "# url = 'https://data.cityofnewyork.us/resource/43nn-pn8j.json?$limit=400000'\n",
    "# nyc_response = requests.get(url)\n",
    "# nyc_response.ok\n",
    "# nyc_data = nyc_response.json()\n",
    "# nyc_data\n",
    "# pd.DataFrame(nyc_data)"
   ]
  },
  {
   "cell_type": "code",
   "execution_count": null,
   "metadata": {
    "ExecuteTime": {
     "end_time": "2022-03-24T23:10:57.396492Z",
     "start_time": "2022-03-24T23:09:17.096308Z"
    }
   },
   "outputs": [],
   "source": [
    "# dohmh_df = pd.read_csv('https://data.cityofnewyork.us/resource/43nn-pn8j.csv?$limit=400000')"
   ]
  },
  {
   "cell_type": "code",
   "execution_count": null,
   "metadata": {
    "ExecuteTime": {
     "end_time": "2022-03-25T16:51:41.595774Z",
     "start_time": "2022-03-25T16:51:40.363098Z"
    }
   },
   "outputs": [],
   "source": [
    "dohmh_df['score'].hist(bins='auto', figsize=(12,8));"
   ]
  },
  {
   "cell_type": "code",
   "execution_count": null,
   "metadata": {
    "ExecuteTime": {
     "end_time": "2022-03-23T14:15:24.838006Z",
     "start_time": "2022-03-23T14:15:23.353483Z"
    },
    "scrolled": true
   },
   "outputs": [],
   "source": [
    "# # Take a look at duplicated records\n",
    "# duplicates = df1.duplicated(subset=['camis'], keep=False)\n",
    "# df1.loc[duplicates.loc[duplicates==True].index].sort_values(by='camis')"
   ]
  },
  {
   "cell_type": "code",
   "execution_count": null,
   "metadata": {
    "ExecuteTime": {
     "end_time": "2022-03-21T23:11:43.399873Z",
     "start_time": "2022-03-21T23:11:42.924387Z"
    }
   },
   "outputs": [],
   "source": [
    "# # Unauthenticated client only works with public data sets. Note 'None'\n",
    "# # in place of application token, and no username or password:\n",
    "# client = Socrata(\"data.cityofnewyork.us\", None)\n",
    "\n",
    "\n",
    "\n",
    "# # Example authenticated client (needed for non-public datasets):\n",
    "# client = Socrata(data.cityofnewyork.us,\n",
    "#                  MyAppToken,\n",
    "#                  userame=\"user@example.com\",\n",
    "#                  password=\"AFakePassword\")\n",
    "\n",
    "# # First 2000 results, returned as JSON from API / converted to Python list of\n",
    "# # dictionaries by sodapy.\n",
    "# results = client.get(\"43nn-pn8j\", limit=2000)\n",
    "\n",
    "# # Convert to pandas DataFrame\n",
    "# dohmh_df = pd.DataFrame.from_records(results)"
   ]
  },
  {
   "cell_type": "markdown",
   "metadata": {},
   "source": [
    "## Yelp API"
   ]
  },
  {
   "cell_type": "code",
   "execution_count": null,
   "metadata": {
    "ExecuteTime": {
     "end_time": "2022-04-12T17:40:41.806371Z",
     "start_time": "2022-04-12T17:40:41.796981Z"
    }
   },
   "outputs": [],
   "source": [
    "with open('/Users/Rob/.secret/yelp_api.json') as f:\n",
    "    creds = json.load(f)"
   ]
  },
  {
   "cell_type": "code",
   "execution_count": null,
   "metadata": {
    "ExecuteTime": {
     "end_time": "2022-04-12T17:40:42.371329Z",
     "start_time": "2022-04-12T17:40:42.364499Z"
    }
   },
   "outputs": [],
   "source": [
    "creds.keys()"
   ]
  },
  {
   "cell_type": "code",
   "execution_count": null,
   "metadata": {
    "ExecuteTime": {
     "end_time": "2022-04-06T20:02:36.614430Z",
     "start_time": "2022-04-06T20:02:36.596166Z"
    }
   },
   "outputs": [],
   "source": [
    "#Business Search      \n",
    "url = 'https://api.yelp.com/v3/businesses/search'\n",
    "\n",
    "#Business Match       \n",
    "# url = 'https://api.yelp.com/v3/businesses/matches'\n",
    "\n",
    "#Phone Search         \n",
    "# url = 'https://api.yelp.com/v3/businesses/search/phone'\n",
    "\n",
    "#Business Details     \n",
    "# url = 'https://api.yelp.com/v3/businesses/{id}'\n",
    "\n",
    "#Business Reviews     \n",
    "# url = 'https://api.yelp.com/v3/businesses/{id}/reviews'"
   ]
  },
  {
   "cell_type": "code",
   "execution_count": null,
   "metadata": {
    "ExecuteTime": {
     "end_time": "2022-04-12T17:40:46.110231Z",
     "start_time": "2022-04-12T17:40:45.431775Z"
    }
   },
   "outputs": [],
   "source": [
    "#Business Search  \n",
    "headers = {\n",
    "    'Authorization': 'Bearer ' + creds['api_key']\n",
    "          }\n",
    "location = 'New York NY'\n",
    "SEARCH_LIMIT = 50\n",
    "\n",
    "url_params = {\n",
    "    'limit': SEARCH_LIMIT,\n",
    "    'location' : location.replace(' ','+'),\n",
    "    'offset': 0\n",
    "             }\n",
    "\n",
    "\n",
    "response = requests.get(url, headers=headers, params=url_params)\n",
    "print(response.status_code)"
   ]
  },
  {
   "cell_type": "code",
   "execution_count": null,
   "metadata": {
    "ExecuteTime": {
     "end_time": "2022-04-12T17:40:49.094500Z",
     "start_time": "2022-04-12T17:40:49.081949Z"
    }
   },
   "outputs": [],
   "source": [
    "response_json = response.json()\n",
    "# View the keys\n",
    "response_json.keys()"
   ]
  },
  {
   "cell_type": "code",
   "execution_count": null,
   "metadata": {
    "ExecuteTime": {
     "end_time": "2022-04-12T17:40:50.355695Z",
     "start_time": "2022-04-12T17:40:50.348527Z"
    }
   },
   "outputs": [],
   "source": [
    "# Functionize the Yelp API call\n",
    "def get_results(location, SEARCH_LIMIT=50,offset=0,\n",
    "                url='https://api.yelp.com/v3/businesses/search',\n",
    "                cred=None,fpath='/Users/Rob/.secret/yelp_api.json'):\n",
    "    \n",
    "    \n",
    "    if cred is None:\n",
    "    \n",
    "        with open(fpath) as f:\n",
    "            cred = json.load(f)\n",
    "\n",
    "    headers = {\n",
    "        'Authorization': 'Bearer ' + cred['api_key']\n",
    "    }\n",
    "\n",
    "    url_params = {\n",
    "        'location' : location,\n",
    "        'limit': SEARCH_LIMIT,\n",
    "        'offset': offset\n",
    "    }\n",
    "\n",
    "\n",
    "    response = requests.get(url, headers=headers, params=url_params)\n",
    "    return response.json()"
   ]
  },
  {
   "cell_type": "code",
   "execution_count": null,
   "metadata": {
    "ExecuteTime": {
     "end_time": "2022-04-12T17:39:25.584385Z",
     "start_time": "2022-04-12T17:39:23.968681Z"
    }
   },
   "outputs": [],
   "source": [
    "response = get_results('New York NY')"
   ]
  },
  {
   "cell_type": "code",
   "execution_count": null,
   "metadata": {
    "ExecuteTime": {
     "end_time": "2022-04-12T17:39:26.360396Z",
     "start_time": "2022-04-12T17:39:26.353049Z"
    }
   },
   "outputs": [],
   "source": [
    "response['total']"
   ]
  },
  {
   "cell_type": "code",
   "execution_count": null,
   "metadata": {
    "ExecuteTime": {
     "end_time": "2022-04-12T17:39:29.384669Z",
     "start_time": "2022-04-12T17:39:29.380991Z"
    }
   },
   "outputs": [],
   "source": [
    "total = response['total']"
   ]
  },
  {
   "cell_type": "markdown",
   "metadata": {},
   "source": [
    "Yelp has information for 25,800 businesses in NYC."
   ]
  },
  {
   "cell_type": "code",
   "execution_count": null,
   "metadata": {
    "ExecuteTime": {
     "end_time": "2022-04-12T17:38:01.283702Z",
     "start_time": "2022-04-12T17:38:01.256389Z"
    }
   },
   "outputs": [],
   "source": [
    "# Retrieve the value from response_json\n",
    "businesses = response_json.get('businesses',{})\n",
    "# View the first 2 records\n",
    "businesses"
   ]
  },
  {
   "cell_type": "code",
   "execution_count": null,
   "metadata": {
    "ExecuteTime": {
     "end_time": "2022-04-12T17:38:07.467539Z",
     "start_time": "2022-04-12T17:38:07.458973Z"
    }
   },
   "outputs": [],
   "source": [
    "type(businesses)"
   ]
  },
  {
   "cell_type": "code",
   "execution_count": null,
   "metadata": {
    "ExecuteTime": {
     "end_time": "2022-04-06T21:10:42.746234Z",
     "start_time": "2022-04-06T21:10:42.728669Z"
    }
   },
   "outputs": [],
   "source": [
    "# def prepare_data(data_list):\n",
    "#     \"\"\"\n",
    "#     This function takes in a list of dictionaries and prepares it\n",
    "#     for analysis\n",
    "#     \"\"\"\n",
    "    \n",
    "#     # Make a new list to hold results\n",
    "#     results = []\n",
    "    \n",
    "#     for business_data in data_list:\n",
    "    \n",
    "#         # Make a new dictionary to hold prepared data for this business\n",
    "#         prepared_data = {}\n",
    "        \n",
    "#         # Extract name, review_count, rating, and price key-value pairs\n",
    "#         # from business_data and add to prepared_data\n",
    "#         # If a key is not present in business_data, add it to prepared_data\n",
    "#         # with an associated value of None\n",
    "#         for key in (\"name\", \"review_count\", \"rating\", \"price\"):\n",
    "#             prepared_data[key] = business_data.get(key, None)\n",
    "    \n",
    "#         # Parse and add latitude and longitude columns\n",
    "#         coordinates = business_data[\"coordinates\"]\n",
    "#         prepared_data[\"latitude\"] = coordinates[\"latitude\"]\n",
    "#         prepared_data[\"longitude\"] = coordinates[\"longitude\"]\n",
    "        \n",
    "#         # Add to list if all values are present\n",
    "#         if all(prepared_data.values()):\n",
    "#             results.append(prepared_data)\n",
    "    \n",
    "#     return results\n",
    "    \n",
    "# # Test out function\n",
    "# prepared_businesses = prepare_data(businesses)\n",
    "# prepared_businesses[:5]"
   ]
  },
  {
   "cell_type": "markdown",
   "metadata": {},
   "source": [
    "### Loop Through Pagination"
   ]
  },
  {
   "cell_type": "code",
   "execution_count": null,
   "metadata": {
    "ExecuteTime": {
     "end_time": "2022-04-06T20:59:13.829586Z",
     "start_time": "2022-04-06T20:59:13.824532Z"
    }
   },
   "outputs": [],
   "source": [
    "def get_offsets(total):\n",
    "    \"\"\"\n",
    "    Get a list of offsets needed to get all pages\n",
    "    of data up until the total\n",
    "    \"\"\"\n",
    "    return list(range(0, total, 50))"
   ]
  },
  {
   "cell_type": "code",
   "execution_count": null,
   "metadata": {
    "ExecuteTime": {
     "end_time": "2022-04-06T21:04:30.453526Z",
     "start_time": "2022-04-06T21:04:30.446242Z"
    }
   },
   "outputs": [],
   "source": [
    "url_params"
   ]
  },
  {
   "cell_type": "code",
   "execution_count": null,
   "metadata": {
    "ExecuteTime": {
     "end_time": "2022-04-11T22:02:01.893509Z",
     "start_time": "2022-04-11T22:00:38.625992Z"
    }
   },
   "outputs": [],
   "source": [
    "# full_dataset = []\n",
    "\n",
    "# for offset in get_offsets(total):\n",
    "    \n",
    "#     url_params['offset'] = offset\n",
    "    \n",
    "#     response = requests.get(url, headers=headers, params=url_params)\n",
    "    \n",
    "#     time.sleep(1)\n",
    "    \n",
    "#     response_json = response.json()\n",
    "    \n",
    "#     businesses = response_json.get('businesses')\n",
    "# #    \n",
    "#     prepared_business = prepare_data(businesses)\n",
    "    \n",
    "#     full_dataset.extend(prepared_businesses)\n",
    "\n",
    "# len(full_dataset)"
   ]
  },
  {
   "cell_type": "code",
   "execution_count": null,
   "metadata": {
    "ExecuteTime": {
     "end_time": "2022-04-12T17:41:35.415761Z",
     "start_time": "2022-04-12T17:41:14.580318Z"
    }
   },
   "outputs": [],
   "source": [
    "# Loop to retrieve all the results from the original request for all NYC businesses\n",
    "offset=0\n",
    "response = get_results('New York,NY',offset=offset)\n",
    "\n",
    "n_per_page = len(response['businesses'])\n",
    "total_result = response['total']\n",
    "\n",
    "results = response_json.get('businesses',{})\n",
    "\n",
    "while offset < total_result:\n",
    "    offset+=n_per_page\n",
    "    res = get_results('New York,NY',offset=offset)\n",
    "    results.extend(res['businesses'])\n",
    "results[:5]"
   ]
  },
  {
   "cell_type": "code",
   "execution_count": null,
   "metadata": {
    "ExecuteTime": {
     "end_time": "2022-04-12T17:43:40.752363Z",
     "start_time": "2022-04-12T17:43:40.743060Z"
    }
   },
   "outputs": [],
   "source": [
    "res"
   ]
  },
  {
   "cell_type": "code",
   "execution_count": null,
   "metadata": {
    "ExecuteTime": {
     "end_time": "2022-04-06T20:49:53.570860Z",
     "start_time": "2022-04-06T20:49:53.555324Z"
    }
   },
   "outputs": [],
   "source": [
    "len(results)"
   ]
  },
  {
   "cell_type": "code",
   "execution_count": null,
   "metadata": {
    "ExecuteTime": {
     "end_time": "2022-04-06T20:50:05.545264Z",
     "start_time": "2022-04-06T20:50:05.352853Z"
    }
   },
   "outputs": [],
   "source": [
    "df = pd.DataFrame(results)\n",
    "df.to_csv('yelp_results2.csv',index=False)\n",
    "df = pd.read_csv('yelp_results2.csv')\n",
    "df"
   ]
  },
  {
   "cell_type": "code",
   "execution_count": null,
   "metadata": {
    "ExecuteTime": {
     "end_time": "2022-03-22T22:37:24.921979Z",
     "start_time": "2022-03-22T22:37:24.895779Z"
    }
   },
   "outputs": [],
   "source": [
    "# response.json().keys()"
   ]
  },
  {
   "cell_type": "code",
   "execution_count": null,
   "metadata": {
    "ExecuteTime": {
     "end_time": "2022-03-23T01:52:39.899435Z",
     "start_time": "2022-03-23T01:52:39.894942Z"
    }
   },
   "outputs": [],
   "source": [
    "# yelp_df = pd.DataFrame(response.json()['businesses'])\n",
    "# # yelp_df.head(3)"
   ]
  },
  {
   "cell_type": "code",
   "execution_count": null,
   "metadata": {
    "ExecuteTime": {
     "end_time": "2022-03-23T01:52:48.820508Z",
     "start_time": "2022-03-23T01:52:48.809218Z"
    }
   },
   "outputs": [],
   "source": [
    "# lat = []\n",
    "# long = []\n",
    "\n",
    "# for _,business in yelp_df.iterrows():\n",
    "#     lat.append(business['coordinates']['latitude'])\n",
    "#     long.append(business['coordinates']['longitude'])\n",
    "\n",
    "# yelp_df['lat'] = lat\n",
    "# yelp_df['long'] = long"
   ]
  },
  {
   "cell_type": "code",
   "execution_count": null,
   "metadata": {},
   "outputs": [],
   "source": []
  },
  {
   "cell_type": "markdown",
   "metadata": {},
   "source": [
    "# Data Understanding"
   ]
  },
  {
   "cell_type": "markdown",
   "metadata": {},
   "source": [
    "For this project there will be two sources and types of data used:\n",
    "\n",
    "* Historical health and hygiene inspections recorded by New York City Department of Health and Mental Hygiene (DOHMH) public health inspectors\n",
    "* User generated Yelp business ratings and reviews"
   ]
  },
  {
   "cell_type": "markdown",
   "metadata": {},
   "source": [
    "## Understanding NYC DOHMH Data"
   ]
  },
  {
   "cell_type": "markdown",
   "metadata": {},
   "source": [
    "This dataset contains over 330,000 records, let's explore its contents."
   ]
  },
  {
   "cell_type": "code",
   "execution_count": null,
   "metadata": {
    "ExecuteTime": {
     "end_time": "2022-03-24T20:13:39.503467Z",
     "start_time": "2022-03-24T20:13:39.388312Z"
    }
   },
   "outputs": [],
   "source": [
    "dohmh_df['inspection_date'] =  pd.to_datetime(dohmh_inspections['inspection_date'])"
   ]
  },
  {
   "cell_type": "code",
   "execution_count": null,
   "metadata": {
    "ExecuteTime": {
     "end_time": "2022-03-24T20:13:45.498607Z",
     "start_time": "2022-03-24T20:13:45.485185Z"
    }
   },
   "outputs": [],
   "source": [
    "dohmh_df['inspection_date'].min()"
   ]
  },
  {
   "cell_type": "code",
   "execution_count": null,
   "metadata": {
    "ExecuteTime": {
     "end_time": "2022-03-24T20:13:56.414351Z",
     "start_time": "2022-03-24T20:13:56.397701Z"
    }
   },
   "outputs": [],
   "source": [
    "dohmh_df['inspection_date'].max()"
   ]
  },
  {
   "cell_type": "markdown",
   "metadata": {},
   "source": [
    "Inspections in this dataset range from May 2008 up to present day."
   ]
  },
  {
   "cell_type": "code",
   "execution_count": null,
   "metadata": {
    "ExecuteTime": {
     "end_time": "2022-03-24T20:16:39.819970Z",
     "start_time": "2022-03-24T20:16:39.815805Z"
    }
   },
   "outputs": [],
   "source": [
    "# dohmh_df.set_index('inspection_date')"
   ]
  },
  {
   "cell_type": "code",
   "execution_count": null,
   "metadata": {
    "ExecuteTime": {
     "end_time": "2022-03-24T20:06:23.107542Z",
     "start_time": "2022-03-24T20:06:23.039343Z"
    }
   },
   "outputs": [],
   "source": [
    "dohmh_df['boro'].value_counts()"
   ]
  },
  {
   "cell_type": "code",
   "execution_count": null,
   "metadata": {
    "ExecuteTime": {
     "end_time": "2022-03-24T20:06:48.973901Z",
     "start_time": "2022-03-24T20:06:48.947792Z"
    }
   },
   "outputs": [],
   "source": [
    "dohmh_df['score'].value_counts()"
   ]
  },
  {
   "cell_type": "code",
   "execution_count": null,
   "metadata": {},
   "outputs": [],
   "source": []
  },
  {
   "cell_type": "code",
   "execution_count": null,
   "metadata": {
    "ExecuteTime": {
     "end_time": "2022-03-24T20:06:52.338177Z",
     "start_time": "2022-03-24T20:06:52.329477Z"
    }
   },
   "outputs": [],
   "source": [
    "dohmh_df['score'].isna().sum()"
   ]
  },
  {
   "cell_type": "code",
   "execution_count": null,
   "metadata": {
    "ExecuteTime": {
     "end_time": "2022-03-24T20:06:53.801108Z",
     "start_time": "2022-03-24T20:06:53.742457Z"
    }
   },
   "outputs": [],
   "source": [
    "dohmh_df['grade'].value_counts()"
   ]
  },
  {
   "cell_type": "code",
   "execution_count": null,
   "metadata": {
    "ExecuteTime": {
     "end_time": "2022-03-25T18:08:16.344961Z",
     "start_time": "2022-03-25T18:08:16.232615Z"
    }
   },
   "outputs": [],
   "source": [
    "dohmh_df['grade'].value_counts(normalize=True)"
   ]
  },
  {
   "cell_type": "code",
   "execution_count": null,
   "metadata": {
    "ExecuteTime": {
     "end_time": "2022-03-24T20:06:55.741139Z",
     "start_time": "2022-03-24T20:06:55.706697Z"
    }
   },
   "outputs": [],
   "source": [
    "dohmh_df['grade'].isna().sum()"
   ]
  },
  {
   "cell_type": "code",
   "execution_count": null,
   "metadata": {
    "ExecuteTime": {
     "end_time": "2022-03-24T20:07:21.888553Z",
     "start_time": "2022-03-24T20:07:21.831624Z"
    }
   },
   "outputs": [],
   "source": [
    "dohmh_df['critical_flag'].value_counts()"
   ]
  },
  {
   "cell_type": "markdown",
   "metadata": {},
   "source": [
    "Critical violations are those most likely to contribute to foodborne illness"
   ]
  },
  {
   "cell_type": "code",
   "execution_count": null,
   "metadata": {
    "ExecuteTime": {
     "end_time": "2022-03-24T20:07:24.216744Z",
     "start_time": "2022-03-24T20:07:24.147788Z"
    }
   },
   "outputs": [],
   "source": [
    "dohmh_df['critical_flag'].value_counts(normalize=True)"
   ]
  },
  {
   "cell_type": "code",
   "execution_count": null,
   "metadata": {
    "ExecuteTime": {
     "end_time": "2022-03-24T20:07:25.228707Z",
     "start_time": "2022-03-24T20:07:25.168956Z"
    }
   },
   "outputs": [],
   "source": [
    "dohmh_df['inspection_type'].value_counts()"
   ]
  },
  {
   "cell_type": "code",
   "execution_count": null,
   "metadata": {
    "ExecuteTime": {
     "end_time": "2022-03-24T23:19:02.351760Z",
     "start_time": "2022-03-24T23:19:02.076866Z"
    }
   },
   "outputs": [],
   "source": [
    "dohmh_inspections = dohmh_df[(dohmh_df['inspection_type'] ==\n",
    "                              'Cycle Inspection / Initial Inspection') | (dohmh_df['inspection_type'] ==\n",
    "                              'Cycle Inspection / Re-inspection')]"
   ]
  },
  {
   "cell_type": "code",
   "execution_count": null,
   "metadata": {
    "ExecuteTime": {
     "end_time": "2022-03-24T23:19:04.172448Z",
     "start_time": "2022-03-24T23:19:04.102283Z"
    }
   },
   "outputs": [],
   "source": [
    "dohmh_inspections['critical_flag'].value_counts()"
   ]
  },
  {
   "cell_type": "code",
   "execution_count": null,
   "metadata": {
    "ExecuteTime": {
     "end_time": "2022-03-25T13:45:01.843258Z",
     "start_time": "2022-03-25T13:45:00.880168Z"
    }
   },
   "outputs": [],
   "source": [
    "# Drop records with NA critical_flag\n",
    "\n",
    "dohmh_ohe = dohmh_inspections[dohmh_inspections['critical_flag'] != 'Not Applicable']"
   ]
  },
  {
   "cell_type": "code",
   "execution_count": null,
   "metadata": {
    "ExecuteTime": {
     "end_time": "2022-03-25T13:45:33.328672Z",
     "start_time": "2022-03-25T13:45:33.035849Z"
    }
   },
   "outputs": [],
   "source": [
    "dohmh_ohe = pd.get_dummies(dohmh_inspections,columns=['critical_flag'])"
   ]
  },
  {
   "cell_type": "code",
   "execution_count": null,
   "metadata": {
    "ExecuteTime": {
     "end_time": "2022-03-25T13:45:51.839949Z",
     "start_time": "2022-03-25T13:45:51.783181Z"
    }
   },
   "outputs": [],
   "source": [
    "dohmh_ohe.head(2)"
   ]
  },
  {
   "cell_type": "code",
   "execution_count": null,
   "metadata": {
    "ExecuteTime": {
     "end_time": "2022-03-25T14:50:30.907183Z",
     "start_time": "2022-03-25T14:50:30.884584Z"
    }
   },
   "outputs": [],
   "source": [
    "critical_flags = dohmh_ohe.groupby(['camis'])['critical_flag_Critical'].count()"
   ]
  },
  {
   "cell_type": "code",
   "execution_count": null,
   "metadata": {
    "ExecuteTime": {
     "end_time": "2022-03-25T14:50:23.875323Z",
     "start_time": "2022-03-25T14:50:23.860854Z"
    }
   },
   "outputs": [],
   "source": [
    "critical_flags[critical_flagss]"
   ]
  },
  {
   "cell_type": "code",
   "execution_count": null,
   "metadata": {
    "ExecuteTime": {
     "end_time": "2022-03-25T14:07:58.740052Z",
     "start_time": "2022-03-25T14:07:58.732065Z"
    }
   },
   "outputs": [],
   "source": [
    "critical_flags['critical_flag_Not Critical'].sum()"
   ]
  },
  {
   "cell_type": "code",
   "execution_count": null,
   "metadata": {
    "ExecuteTime": {
     "end_time": "2022-03-25T14:00:08.447544Z",
     "start_time": "2022-03-25T14:00:08.443356Z"
    }
   },
   "outputs": [],
   "source": [
    "non_critical_flags = dohmh_ohe.groupby(['camis'])"
   ]
  },
  {
   "cell_type": "code",
   "execution_count": null,
   "metadata": {
    "ExecuteTime": {
     "end_time": "2022-03-25T14:00:31.528917Z",
     "start_time": "2022-03-25T14:00:30.783695Z"
    }
   },
   "outputs": [],
   "source": [
    "dohmh_inspections.duplicated().sum()"
   ]
  },
  {
   "cell_type": "code",
   "execution_count": null,
   "metadata": {
    "ExecuteTime": {
     "end_time": "2022-03-24T20:07:43.870691Z",
     "start_time": "2022-03-24T20:07:42.979136Z"
    }
   },
   "outputs": [],
   "source": [
    "dohmh_inspections.loc[dohmh_inspections.duplicated(keep='first'),:]"
   ]
  },
  {
   "cell_type": "code",
   "execution_count": null,
   "metadata": {
    "ExecuteTime": {
     "end_time": "2022-03-25T14:00:44.519563Z",
     "start_time": "2022-03-25T14:00:43.762531Z"
    }
   },
   "outputs": [],
   "source": [
    "dohmh_inspections.drop_duplicates().shape"
   ]
  },
  {
   "cell_type": "code",
   "execution_count": null,
   "metadata": {
    "ExecuteTime": {
     "end_time": "2022-03-25T14:00:47.862026Z",
     "start_time": "2022-03-25T14:00:47.835019Z"
    }
   },
   "outputs": [],
   "source": [
    "dohmh_inspections.duplicated(subset=['camis']).sum()"
   ]
  },
  {
   "cell_type": "code",
   "execution_count": null,
   "metadata": {
    "ExecuteTime": {
     "end_time": "2022-03-25T14:01:12.814518Z",
     "start_time": "2022-03-25T14:01:12.801669Z"
    }
   },
   "outputs": [],
   "source": [
    "dohmh_inspections['camis'].nunique()"
   ]
  },
  {
   "cell_type": "markdown",
   "metadata": {},
   "source": [
    "There are approximately 28,000 restaurants that have been inspected by the DOHMH. Let's check out how many have ever been flagged for a critical violation."
   ]
  },
  {
   "cell_type": "markdown",
   "metadata": {},
   "source": [
    "## Mapping with Follium"
   ]
  },
  {
   "cell_type": "code",
   "execution_count": null,
   "metadata": {},
   "outputs": [],
   "source": [
    "\n"
   ]
  }
 ],
 "metadata": {
  "kernelspec": {
   "display_name": "Python (learn-env)",
   "language": "python",
   "name": "learn-env"
  },
  "language_info": {
   "codemirror_mode": {
    "name": "ipython",
    "version": 3
   },
   "file_extension": ".py",
   "mimetype": "text/x-python",
   "name": "python",
   "nbconvert_exporter": "python",
   "pygments_lexer": "ipython3",
   "version": "3.8.5"
  },
  "toc": {
   "base_numbering": 1,
   "nav_menu": {},
   "number_sections": true,
   "sideBar": true,
   "skip_h1_title": false,
   "title_cell": "Table of Contents",
   "title_sidebar": "Contents",
   "toc_cell": false,
   "toc_position": {
    "height": "calc(100% - 180px)",
    "left": "10px",
    "top": "150px",
    "width": "248px"
   },
   "toc_section_display": true,
   "toc_window_display": true
  }
 },
 "nbformat": 4,
 "nbformat_minor": 4
}
