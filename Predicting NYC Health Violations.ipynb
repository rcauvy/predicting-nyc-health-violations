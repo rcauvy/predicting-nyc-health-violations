{
 "cells": [
  {
   "cell_type": "code",
   "execution_count": 1,
   "metadata": {
    "ExecuteTime": {
     "end_time": "2022-03-18T04:51:15.175226Z",
     "start_time": "2022-03-18T04:51:10.391502Z"
    }
   },
   "outputs": [],
   "source": [
    "from IPython import display\n",
    "import pandas as pd\n",
    "import numpy as np\n",
    "import matplotlib.pyplot as plt\n",
    "%matplotlib inline\n",
    "import seaborn as sns\n",
    "import warnings\n",
    "warnings.filterwarnings(\"ignore\")\n",
    "pd.set_option('display.max_colwidth',100)\n",
    "pd.set_option('display.max_columns',50)\n"
   ]
  },
  {
   "cell_type": "code",
   "execution_count": 29,
   "metadata": {
    "ExecuteTime": {
     "end_time": "2022-03-18T15:46:34.909706Z",
     "start_time": "2022-03-18T15:46:33.199140Z"
    }
   },
   "outputs": [],
   "source": [
    "import requests\n",
    "import json"
   ]
  },
  {
   "cell_type": "code",
   "execution_count": 36,
   "metadata": {
    "ExecuteTime": {
     "end_time": "2022-03-21T23:10:26.486592Z",
     "start_time": "2022-03-21T23:10:26.117389Z"
    }
   },
   "outputs": [],
   "source": [
    "from sodapy import Socrata"
   ]
  },
  {
   "cell_type": "code",
   "execution_count": 31,
   "metadata": {
    "ExecuteTime": {
     "end_time": "2022-03-18T15:50:52.681231Z",
     "start_time": "2022-03-18T15:50:52.599670Z"
    }
   },
   "outputs": [],
   "source": [
    "url = 'https://api.yelp.com/v3/businesses/search'"
   ]
  },
  {
   "cell_type": "code",
   "execution_count": 32,
   "metadata": {
    "ExecuteTime": {
     "end_time": "2022-03-18T15:53:41.334149Z",
     "start_time": "2022-03-18T15:53:40.638631Z"
    }
   },
   "outputs": [],
   "source": [
    "business_search = requests.get(url)"
   ]
  },
  {
   "cell_type": "code",
   "execution_count": 33,
   "metadata": {
    "ExecuteTime": {
     "end_time": "2022-03-18T15:53:59.271817Z",
     "start_time": "2022-03-18T15:53:59.146735Z"
    }
   },
   "outputs": [
    {
     "data": {
      "text/plain": [
       "requests.models.Response"
      ]
     },
     "execution_count": 33,
     "metadata": {},
     "output_type": "execute_result"
    }
   ],
   "source": [
    "type(business_search)"
   ]
  },
  {
   "cell_type": "code",
   "execution_count": 34,
   "metadata": {
    "ExecuteTime": {
     "end_time": "2022-03-18T15:54:36.805491Z",
     "start_time": "2022-03-18T15:54:36.762691Z"
    }
   },
   "outputs": [
    {
     "data": {
      "text/plain": [
       "400"
      ]
     },
     "execution_count": 34,
     "metadata": {},
     "output_type": "execute_result"
    }
   ],
   "source": [
    "business_search.status_code"
   ]
  },
  {
   "cell_type": "code",
   "execution_count": null,
   "metadata": {},
   "outputs": [],
   "source": []
  },
  {
   "cell_type": "code",
   "execution_count": null,
   "metadata": {},
   "outputs": [],
   "source": [
    "TABLE OF CONTENTS\n",
    "Click to jump to matching Markdown Header.\n",
    "\n",
    "\n",
    "Introduction\n",
    "OBTAIN\n",
    "SCRUB\n",
    "EXPLORE\n",
    "MODEL\n",
    "iNTERPRET\n",
    "Conclusions/Recommendations\n"
   ]
  },
  {
   "cell_type": "markdown",
   "metadata": {},
   "source": [
    "# Introduction"
   ]
  },
  {
   "cell_type": "markdown",
   "metadata": {},
   "source": [
    "According to the Centers for Disease Control, more than 48 million Americans per year become sick from food, and an estimated 75% of the outbreaks came from food prepared by caterers, delis, and restaurants. In most cities, health inspections are generally random, which can increase time spent on spot checks at clean restaurants that have been following the rules closely — and missed opportunities to improve health and hygiene at places with more pressing food safety issues.\n",
    "\n",
    "The goal for this project is to leverage public citizen generated data from social media to narrow the search for critical health and safety violations in New York City. As the City of New York manages  an open data portal, everyone can access historical hygiene inspections and violation records. By combine these two data source this project aims to determine which words, phrases, ratings, and patterns among restaurants lead to critical health and safety violations. This model can assist city health inspectors do their job better by prioritizing the kitchens most likely to be in violation of code."
   ]
  },
  {
   "cell_type": "markdown",
   "metadata": {},
   "source": [
    "# Obtain"
   ]
  },
  {
   "cell_type": "markdown",
   "metadata": {},
   "source": [
    "This project requires data pulled from two different sources, the City of New York and Yelp. To obtain the data we will call the API keys."
   ]
  },
  {
   "cell_type": "markdown",
   "metadata": {},
   "source": [
    "## NYC Open Data API"
   ]
  },
  {
   "cell_type": "code",
   "execution_count": 39,
   "metadata": {
    "ExecuteTime": {
     "end_time": "2022-03-21T23:11:43.399873Z",
     "start_time": "2022-03-21T23:11:42.924387Z"
    }
   },
   "outputs": [
    {
     "name": "stderr",
     "output_type": "stream",
     "text": [
      "WARNING:root:Requests made without an app_token will be subject to strict throttling limits.\n"
     ]
    }
   ],
   "source": [
    "# Unauthenticated client only works with public data sets. Note 'None'\n",
    "# in place of application token, and no username or password:\n",
    "client = Socrata(\"data.cityofnewyork.us\", None)\n",
    "\n",
    "# Example authenticated client (needed for non-public datasets):\n",
    "# client = Socrata(data.cityofnewyork.us,\n",
    "#                  MyAppToken,\n",
    "#                  userame=\"user@example.com\",\n",
    "#                  password=\"AFakePassword\")\n",
    "\n",
    "# First 2000 results, returned as JSON from API / converted to Python list of\n",
    "# dictionaries by sodapy.\n",
    "results = client.get(\"43nn-pn8j\", limit=2000)\n",
    "\n",
    "# Convert to pandas DataFrame\n",
    "dohmh_df = pd.DataFrame.from_records(results)"
   ]
  },
  {
   "cell_type": "code",
   "execution_count": 40,
   "metadata": {
    "ExecuteTime": {
     "end_time": "2022-03-21T23:11:46.193860Z",
     "start_time": "2022-03-21T23:11:46.149499Z"
    }
   },
   "outputs": [
    {
     "data": {
      "text/html": [
       "<div>\n",
       "<style scoped>\n",
       "    .dataframe tbody tr th:only-of-type {\n",
       "        vertical-align: middle;\n",
       "    }\n",
       "\n",
       "    .dataframe tbody tr th {\n",
       "        vertical-align: top;\n",
       "    }\n",
       "\n",
       "    .dataframe thead th {\n",
       "        text-align: right;\n",
       "    }\n",
       "</style>\n",
       "<table border=\"1\" class=\"dataframe\">\n",
       "  <thead>\n",
       "    <tr style=\"text-align: right;\">\n",
       "      <th></th>\n",
       "      <th>camis</th>\n",
       "      <th>dba</th>\n",
       "      <th>boro</th>\n",
       "      <th>building</th>\n",
       "      <th>street</th>\n",
       "      <th>zipcode</th>\n",
       "      <th>phone</th>\n",
       "      <th>cuisine_description</th>\n",
       "      <th>inspection_date</th>\n",
       "      <th>action</th>\n",
       "      <th>violation_code</th>\n",
       "      <th>violation_description</th>\n",
       "      <th>critical_flag</th>\n",
       "      <th>score</th>\n",
       "      <th>grade</th>\n",
       "      <th>grade_date</th>\n",
       "      <th>record_date</th>\n",
       "      <th>inspection_type</th>\n",
       "      <th>latitude</th>\n",
       "      <th>longitude</th>\n",
       "      <th>community_board</th>\n",
       "      <th>council_district</th>\n",
       "      <th>census_tract</th>\n",
       "      <th>bin</th>\n",
       "      <th>bbl</th>\n",
       "      <th>nta</th>\n",
       "    </tr>\n",
       "  </thead>\n",
       "  <tbody>\n",
       "    <tr>\n",
       "      <th>0</th>\n",
       "      <td>41707327</td>\n",
       "      <td>DRAGON STATE KITCHEN</td>\n",
       "      <td>Bronx</td>\n",
       "      <td>4124A</td>\n",
       "      <td>WHITE PLAINS ROAD</td>\n",
       "      <td>10466</td>\n",
       "      <td>7185152329</td>\n",
       "      <td>Chinese</td>\n",
       "      <td>2018-01-23T00:00:00.000</td>\n",
       "      <td>Violations were cited in the following area(s).</td>\n",
       "      <td>08A</td>\n",
       "      <td>Facility not vermin proof. Harborage or conditions conducive to attracting vermin to the premise...</td>\n",
       "      <td>Not Critical</td>\n",
       "      <td>9</td>\n",
       "      <td>A</td>\n",
       "      <td>2018-01-23T00:00:00.000</td>\n",
       "      <td>2022-03-21T06:00:38.000</td>\n",
       "      <td>Cycle Inspection / Re-inspection</td>\n",
       "      <td>40.891433609009</td>\n",
       "      <td>-73.858445915336</td>\n",
       "      <td>212</td>\n",
       "      <td>12</td>\n",
       "      <td>042200</td>\n",
       "      <td>2063647</td>\n",
       "      <td>2048440035</td>\n",
       "      <td>BX44</td>\n",
       "    </tr>\n",
       "    <tr>\n",
       "      <th>1</th>\n",
       "      <td>50043322</td>\n",
       "      <td>THE CRUS-Z FAMILY RESTAURANT</td>\n",
       "      <td>Queens</td>\n",
       "      <td>8709</td>\n",
       "      <td>ROOSEVELT AVE</td>\n",
       "      <td>11372</td>\n",
       "      <td>3473372628</td>\n",
       "      <td>Mexican</td>\n",
       "      <td>2018-09-11T00:00:00.000</td>\n",
       "      <td>Violations were cited in the following area(s).</td>\n",
       "      <td>02G</td>\n",
       "      <td>Cold food item held above 41º F (smoked fish and reduced oxygen packaged foods above 38 ºF) exce...</td>\n",
       "      <td>Critical</td>\n",
       "      <td>49</td>\n",
       "      <td>NaN</td>\n",
       "      <td>NaN</td>\n",
       "      <td>2022-03-21T06:00:38.000</td>\n",
       "      <td>Cycle Inspection / Initial Inspection</td>\n",
       "      <td>40.748143103699</td>\n",
       "      <td>-73.879106766814</td>\n",
       "      <td>403</td>\n",
       "      <td>21</td>\n",
       "      <td>027900</td>\n",
       "      <td>4036273</td>\n",
       "      <td>4014750042</td>\n",
       "      <td>QN28</td>\n",
       "    </tr>\n",
       "    <tr>\n",
       "      <th>2</th>\n",
       "      <td>50000613</td>\n",
       "      <td>SUSHI DOJO</td>\n",
       "      <td>Manhattan</td>\n",
       "      <td>110</td>\n",
       "      <td>1 AVENUE</td>\n",
       "      <td>10009</td>\n",
       "      <td>6466929398</td>\n",
       "      <td>Japanese</td>\n",
       "      <td>2022-03-16T00:00:00.000</td>\n",
       "      <td>Violations were cited in the following area(s).</td>\n",
       "      <td>06C</td>\n",
       "      <td>Food not protected from potential source of contamination during storage, preparation, transport...</td>\n",
       "      <td>Critical</td>\n",
       "      <td>31</td>\n",
       "      <td>NaN</td>\n",
       "      <td>NaN</td>\n",
       "      <td>2022-03-21T06:00:38.000</td>\n",
       "      <td>Cycle Inspection / Initial Inspection</td>\n",
       "      <td>40.726725405316</td>\n",
       "      <td>-73.985903892131</td>\n",
       "      <td>103</td>\n",
       "      <td>02</td>\n",
       "      <td>003200</td>\n",
       "      <td>1005773</td>\n",
       "      <td>1004340006</td>\n",
       "      <td>MN22</td>\n",
       "    </tr>\n",
       "    <tr>\n",
       "      <th>3</th>\n",
       "      <td>50073108</td>\n",
       "      <td>AREPALICIOUS</td>\n",
       "      <td>Queens</td>\n",
       "      <td>13720</td>\n",
       "      <td>CROSSBAY BLVD</td>\n",
       "      <td>11417</td>\n",
       "      <td>7184806049</td>\n",
       "      <td>Bakery Products/Desserts</td>\n",
       "      <td>2019-05-01T00:00:00.000</td>\n",
       "      <td>Violations were cited in the following area(s).</td>\n",
       "      <td>06D</td>\n",
       "      <td>Food contact surface not properly washed, rinsed and sanitized after each use and following any ...</td>\n",
       "      <td>Critical</td>\n",
       "      <td>11</td>\n",
       "      <td>A</td>\n",
       "      <td>2019-05-01T00:00:00.000</td>\n",
       "      <td>2022-03-21T06:00:38.000</td>\n",
       "      <td>Cycle Inspection / Initial Inspection</td>\n",
       "      <td>40.671360998626</td>\n",
       "      <td>-73.843006327716</td>\n",
       "      <td>410</td>\n",
       "      <td>32</td>\n",
       "      <td>005800</td>\n",
       "      <td>4458765</td>\n",
       "      <td>4114090010</td>\n",
       "      <td>QN56</td>\n",
       "    </tr>\n",
       "    <tr>\n",
       "      <th>4</th>\n",
       "      <td>41326216</td>\n",
       "      <td>NONNA'S OLD FASHIONED PIZZERIA</td>\n",
       "      <td>Staten Island</td>\n",
       "      <td>27</td>\n",
       "      <td>BROWER COURT</td>\n",
       "      <td>10308</td>\n",
       "      <td>7182278844</td>\n",
       "      <td>Pizza</td>\n",
       "      <td>2019-03-19T00:00:00.000</td>\n",
       "      <td>Violations were cited in the following area(s).</td>\n",
       "      <td>02B</td>\n",
       "      <td>Hot food item not held at or above 140º F.</td>\n",
       "      <td>Critical</td>\n",
       "      <td>12</td>\n",
       "      <td>A</td>\n",
       "      <td>2019-03-19T00:00:00.000</td>\n",
       "      <td>2022-03-21T06:00:38.000</td>\n",
       "      <td>Cycle Inspection / Initial Inspection</td>\n",
       "      <td>40.550965887755</td>\n",
       "      <td>-74.151186174889</td>\n",
       "      <td>503</td>\n",
       "      <td>51</td>\n",
       "      <td>014604</td>\n",
       "      <td>5070227</td>\n",
       "      <td>5054330010</td>\n",
       "      <td>SI54</td>\n",
       "    </tr>\n",
       "    <tr>\n",
       "      <th>...</th>\n",
       "      <td>...</td>\n",
       "      <td>...</td>\n",
       "      <td>...</td>\n",
       "      <td>...</td>\n",
       "      <td>...</td>\n",
       "      <td>...</td>\n",
       "      <td>...</td>\n",
       "      <td>...</td>\n",
       "      <td>...</td>\n",
       "      <td>...</td>\n",
       "      <td>...</td>\n",
       "      <td>...</td>\n",
       "      <td>...</td>\n",
       "      <td>...</td>\n",
       "      <td>...</td>\n",
       "      <td>...</td>\n",
       "      <td>...</td>\n",
       "      <td>...</td>\n",
       "      <td>...</td>\n",
       "      <td>...</td>\n",
       "      <td>...</td>\n",
       "      <td>...</td>\n",
       "      <td>...</td>\n",
       "      <td>...</td>\n",
       "      <td>...</td>\n",
       "      <td>...</td>\n",
       "    </tr>\n",
       "    <tr>\n",
       "      <th>1995</th>\n",
       "      <td>50099170</td>\n",
       "      <td>OMAR'S</td>\n",
       "      <td>Manhattan</td>\n",
       "      <td>302</td>\n",
       "      <td>BROOME STREET</td>\n",
       "      <td>10002</td>\n",
       "      <td>2122035552</td>\n",
       "      <td>French</td>\n",
       "      <td>2020-03-05T00:00:00.000</td>\n",
       "      <td>Violations were cited in the following area(s).</td>\n",
       "      <td>02G</td>\n",
       "      <td>Cold food item held above 41º F (smoked fish and reduced oxygen packaged foods above 38 ºF) exce...</td>\n",
       "      <td>Critical</td>\n",
       "      <td>11</td>\n",
       "      <td>N</td>\n",
       "      <td>NaN</td>\n",
       "      <td>2022-03-21T06:00:38.000</td>\n",
       "      <td>Pre-permit (Operational) / Initial Inspection</td>\n",
       "      <td>40.718727756026</td>\n",
       "      <td>-73.992211458718</td>\n",
       "      <td>103</td>\n",
       "      <td>01</td>\n",
       "      <td>001800</td>\n",
       "      <td>1066637</td>\n",
       "      <td>1004197501</td>\n",
       "      <td>MN27</td>\n",
       "    </tr>\n",
       "    <tr>\n",
       "      <th>1996</th>\n",
       "      <td>50099170</td>\n",
       "      <td>OMAR'S</td>\n",
       "      <td>Manhattan</td>\n",
       "      <td>302</td>\n",
       "      <td>BROOME STREET</td>\n",
       "      <td>10002</td>\n",
       "      <td>2122035552</td>\n",
       "      <td>French</td>\n",
       "      <td>2020-03-05T00:00:00.000</td>\n",
       "      <td>Violations were cited in the following area(s).</td>\n",
       "      <td>02G</td>\n",
       "      <td>Cold food item held above 41º F (smoked fish and reduced oxygen packaged foods above 38 ºF) exce...</td>\n",
       "      <td>Critical</td>\n",
       "      <td>11</td>\n",
       "      <td>N</td>\n",
       "      <td>NaN</td>\n",
       "      <td>2022-03-21T06:00:38.000</td>\n",
       "      <td>Pre-permit (Operational) / Initial Inspection</td>\n",
       "      <td>40.718727756026</td>\n",
       "      <td>-73.992211458718</td>\n",
       "      <td>103</td>\n",
       "      <td>01</td>\n",
       "      <td>001800</td>\n",
       "      <td>1066637</td>\n",
       "      <td>1004197501</td>\n",
       "      <td>MN27</td>\n",
       "    </tr>\n",
       "    <tr>\n",
       "      <th>1997</th>\n",
       "      <td>41225718</td>\n",
       "      <td>ROMAN'S</td>\n",
       "      <td>Brooklyn</td>\n",
       "      <td>243</td>\n",
       "      <td>DEKALB AVENUE</td>\n",
       "      <td>11205</td>\n",
       "      <td>7186225300</td>\n",
       "      <td>American</td>\n",
       "      <td>2018-11-16T00:00:00.000</td>\n",
       "      <td>Violations were cited in the following area(s).</td>\n",
       "      <td>04N</td>\n",
       "      <td>Filth flies or food/refuse/sewage-associated (FRSA) flies present in facility’s food and/or non-...</td>\n",
       "      <td>Critical</td>\n",
       "      <td>12</td>\n",
       "      <td>A</td>\n",
       "      <td>2018-11-16T00:00:00.000</td>\n",
       "      <td>2022-03-21T06:00:38.000</td>\n",
       "      <td>Cycle Inspection / Re-inspection</td>\n",
       "      <td>40.689483919583</td>\n",
       "      <td>-73.969497792791</td>\n",
       "      <td>302</td>\n",
       "      <td>35</td>\n",
       "      <td>018300</td>\n",
       "      <td>3058587</td>\n",
       "      <td>3020920066</td>\n",
       "      <td>BK68</td>\n",
       "    </tr>\n",
       "    <tr>\n",
       "      <th>1998</th>\n",
       "      <td>40546082</td>\n",
       "      <td>DON PEPI PIZZA</td>\n",
       "      <td>Manhattan</td>\n",
       "      <td>000</td>\n",
       "      <td>PENN STATION</td>\n",
       "      <td>10121</td>\n",
       "      <td>2129674385</td>\n",
       "      <td>Pizza</td>\n",
       "      <td>2019-03-05T00:00:00.000</td>\n",
       "      <td>No violations were recorded at the time of this inspection.</td>\n",
       "      <td>NaN</td>\n",
       "      <td>Single service item reused, improperly stored, dispensed; not used when required.</td>\n",
       "      <td>Not Critical</td>\n",
       "      <td>0</td>\n",
       "      <td>NaN</td>\n",
       "      <td>NaN</td>\n",
       "      <td>2022-03-21T06:00:44.000</td>\n",
       "      <td>Cycle Inspection / Initial Inspection</td>\n",
       "      <td>40.750059234828</td>\n",
       "      <td>-73.992106724456</td>\n",
       "      <td>105</td>\n",
       "      <td>03</td>\n",
       "      <td>010100</td>\n",
       "      <td>1083026</td>\n",
       "      <td>1007810002</td>\n",
       "      <td>MN17</td>\n",
       "    </tr>\n",
       "    <tr>\n",
       "      <th>1999</th>\n",
       "      <td>41298810</td>\n",
       "      <td>HARU</td>\n",
       "      <td>Manhattan</td>\n",
       "      <td>1</td>\n",
       "      <td>WALL STREET COURT</td>\n",
       "      <td>10005</td>\n",
       "      <td>2127856850</td>\n",
       "      <td>Japanese</td>\n",
       "      <td>2020-01-08T00:00:00.000</td>\n",
       "      <td>Violations were cited in the following area(s).</td>\n",
       "      <td>04N</td>\n",
       "      <td>Filth flies or food/refuse/sewage-associated (FRSA) flies present in facility’s food and/or non-...</td>\n",
       "      <td>Critical</td>\n",
       "      <td>12</td>\n",
       "      <td>A</td>\n",
       "      <td>2020-01-08T00:00:00.000</td>\n",
       "      <td>2022-03-21T06:00:38.000</td>\n",
       "      <td>Cycle Inspection / Initial Inspection</td>\n",
       "      <td>40.705121889645</td>\n",
       "      <td>-74.00842894472</td>\n",
       "      <td>101</td>\n",
       "      <td>01</td>\n",
       "      <td>000700</td>\n",
       "      <td>1000835</td>\n",
       "      <td>1000287501</td>\n",
       "      <td>MN25</td>\n",
       "    </tr>\n",
       "  </tbody>\n",
       "</table>\n",
       "<p>2000 rows × 26 columns</p>\n",
       "</div>"
      ],
      "text/plain": [
       "         camis                             dba           boro building  \\\n",
       "0     41707327            DRAGON STATE KITCHEN          Bronx    4124A   \n",
       "1     50043322    THE CRUS-Z FAMILY RESTAURANT         Queens     8709   \n",
       "2     50000613                      SUSHI DOJO      Manhattan      110   \n",
       "3     50073108                    AREPALICIOUS         Queens    13720   \n",
       "4     41326216  NONNA'S OLD FASHIONED PIZZERIA  Staten Island       27   \n",
       "...        ...                             ...            ...      ...   \n",
       "1995  50099170                          OMAR'S      Manhattan      302   \n",
       "1996  50099170                          OMAR'S      Manhattan      302   \n",
       "1997  41225718                         ROMAN'S       Brooklyn      243   \n",
       "1998  40546082                  DON PEPI PIZZA      Manhattan      000   \n",
       "1999  41298810                            HARU      Manhattan        1   \n",
       "\n",
       "                 street zipcode       phone       cuisine_description  \\\n",
       "0     WHITE PLAINS ROAD   10466  7185152329                   Chinese   \n",
       "1         ROOSEVELT AVE   11372  3473372628                   Mexican   \n",
       "2              1 AVENUE   10009  6466929398                  Japanese   \n",
       "3         CROSSBAY BLVD   11417  7184806049  Bakery Products/Desserts   \n",
       "4          BROWER COURT   10308  7182278844                     Pizza   \n",
       "...                 ...     ...         ...                       ...   \n",
       "1995      BROOME STREET   10002  2122035552                    French   \n",
       "1996      BROOME STREET   10002  2122035552                    French   \n",
       "1997      DEKALB AVENUE   11205  7186225300                  American   \n",
       "1998       PENN STATION   10121  2129674385                     Pizza   \n",
       "1999  WALL STREET COURT   10005  2127856850                  Japanese   \n",
       "\n",
       "              inspection_date  \\\n",
       "0     2018-01-23T00:00:00.000   \n",
       "1     2018-09-11T00:00:00.000   \n",
       "2     2022-03-16T00:00:00.000   \n",
       "3     2019-05-01T00:00:00.000   \n",
       "4     2019-03-19T00:00:00.000   \n",
       "...                       ...   \n",
       "1995  2020-03-05T00:00:00.000   \n",
       "1996  2020-03-05T00:00:00.000   \n",
       "1997  2018-11-16T00:00:00.000   \n",
       "1998  2019-03-05T00:00:00.000   \n",
       "1999  2020-01-08T00:00:00.000   \n",
       "\n",
       "                                                           action  \\\n",
       "0                 Violations were cited in the following area(s).   \n",
       "1                 Violations were cited in the following area(s).   \n",
       "2                 Violations were cited in the following area(s).   \n",
       "3                 Violations were cited in the following area(s).   \n",
       "4                 Violations were cited in the following area(s).   \n",
       "...                                                           ...   \n",
       "1995              Violations were cited in the following area(s).   \n",
       "1996              Violations were cited in the following area(s).   \n",
       "1997              Violations were cited in the following area(s).   \n",
       "1998  No violations were recorded at the time of this inspection.   \n",
       "1999              Violations were cited in the following area(s).   \n",
       "\n",
       "     violation_code  \\\n",
       "0               08A   \n",
       "1               02G   \n",
       "2               06C   \n",
       "3               06D   \n",
       "4               02B   \n",
       "...             ...   \n",
       "1995            02G   \n",
       "1996            02G   \n",
       "1997            04N   \n",
       "1998            NaN   \n",
       "1999            04N   \n",
       "\n",
       "                                                                                    violation_description  \\\n",
       "0     Facility not vermin proof. Harborage or conditions conducive to attracting vermin to the premise...   \n",
       "1     Cold food item held above 41º F (smoked fish and reduced oxygen packaged foods above 38 ºF) exce...   \n",
       "2     Food not protected from potential source of contamination during storage, preparation, transport...   \n",
       "3     Food contact surface not properly washed, rinsed and sanitized after each use and following any ...   \n",
       "4                                                              Hot food item not held at or above 140º F.   \n",
       "...                                                                                                   ...   \n",
       "1995  Cold food item held above 41º F (smoked fish and reduced oxygen packaged foods above 38 ºF) exce...   \n",
       "1996  Cold food item held above 41º F (smoked fish and reduced oxygen packaged foods above 38 ºF) exce...   \n",
       "1997  Filth flies or food/refuse/sewage-associated (FRSA) flies present in facility’s food and/or non-...   \n",
       "1998                    Single service item reused, improperly stored, dispensed; not used when required.   \n",
       "1999  Filth flies or food/refuse/sewage-associated (FRSA) flies present in facility’s food and/or non-...   \n",
       "\n",
       "     critical_flag score grade               grade_date  \\\n",
       "0     Not Critical     9     A  2018-01-23T00:00:00.000   \n",
       "1         Critical    49   NaN                      NaN   \n",
       "2         Critical    31   NaN                      NaN   \n",
       "3         Critical    11     A  2019-05-01T00:00:00.000   \n",
       "4         Critical    12     A  2019-03-19T00:00:00.000   \n",
       "...            ...   ...   ...                      ...   \n",
       "1995      Critical    11     N                      NaN   \n",
       "1996      Critical    11     N                      NaN   \n",
       "1997      Critical    12     A  2018-11-16T00:00:00.000   \n",
       "1998  Not Critical     0   NaN                      NaN   \n",
       "1999      Critical    12     A  2020-01-08T00:00:00.000   \n",
       "\n",
       "                  record_date                                inspection_type  \\\n",
       "0     2022-03-21T06:00:38.000               Cycle Inspection / Re-inspection   \n",
       "1     2022-03-21T06:00:38.000          Cycle Inspection / Initial Inspection   \n",
       "2     2022-03-21T06:00:38.000          Cycle Inspection / Initial Inspection   \n",
       "3     2022-03-21T06:00:38.000          Cycle Inspection / Initial Inspection   \n",
       "4     2022-03-21T06:00:38.000          Cycle Inspection / Initial Inspection   \n",
       "...                       ...                                            ...   \n",
       "1995  2022-03-21T06:00:38.000  Pre-permit (Operational) / Initial Inspection   \n",
       "1996  2022-03-21T06:00:38.000  Pre-permit (Operational) / Initial Inspection   \n",
       "1997  2022-03-21T06:00:38.000               Cycle Inspection / Re-inspection   \n",
       "1998  2022-03-21T06:00:44.000          Cycle Inspection / Initial Inspection   \n",
       "1999  2022-03-21T06:00:38.000          Cycle Inspection / Initial Inspection   \n",
       "\n",
       "             latitude         longitude community_board council_district  \\\n",
       "0     40.891433609009  -73.858445915336             212               12   \n",
       "1     40.748143103699  -73.879106766814             403               21   \n",
       "2     40.726725405316  -73.985903892131             103               02   \n",
       "3     40.671360998626  -73.843006327716             410               32   \n",
       "4     40.550965887755  -74.151186174889             503               51   \n",
       "...               ...               ...             ...              ...   \n",
       "1995  40.718727756026  -73.992211458718             103               01   \n",
       "1996  40.718727756026  -73.992211458718             103               01   \n",
       "1997  40.689483919583  -73.969497792791             302               35   \n",
       "1998  40.750059234828  -73.992106724456             105               03   \n",
       "1999  40.705121889645   -74.00842894472             101               01   \n",
       "\n",
       "     census_tract      bin         bbl   nta  \n",
       "0          042200  2063647  2048440035  BX44  \n",
       "1          027900  4036273  4014750042  QN28  \n",
       "2          003200  1005773  1004340006  MN22  \n",
       "3          005800  4458765  4114090010  QN56  \n",
       "4          014604  5070227  5054330010  SI54  \n",
       "...           ...      ...         ...   ...  \n",
       "1995       001800  1066637  1004197501  MN27  \n",
       "1996       001800  1066637  1004197501  MN27  \n",
       "1997       018300  3058587  3020920066  BK68  \n",
       "1998       010100  1083026  1007810002  MN17  \n",
       "1999       000700  1000835  1000287501  MN25  \n",
       "\n",
       "[2000 rows x 26 columns]"
      ]
     },
     "execution_count": 40,
     "metadata": {},
     "output_type": "execute_result"
    }
   ],
   "source": [
    "dohmh_df"
   ]
  },
  {
   "cell_type": "markdown",
   "metadata": {},
   "source": [
    "## Yelp API"
   ]
  },
  {
   "cell_type": "code",
   "execution_count": null,
   "metadata": {},
   "outputs": [],
   "source": [
    "#Business Search      URL -- 'https://api.yelp.com/v3/businesses/search'\n",
    "#Business Match       URL -- 'https://api.yelp.com/v3/businesses/matches'\n",
    "#Phone Search         URL -- 'https://api.yelp.com/v3/businesses/search/phone'\n",
    "\n",
    "#Business Details     URL -- 'https://api.yelp.com/v3/businesses/{id}'\n",
    "#Business Reviews     URL -- 'https://api.yelp.com/v3/businesses/{id}/reviews'\n",
    "\n",
    "\n",
    "# Define a business ID\n",
    "business_id = '4AErMBEoNzbk7Q8g45kKaQ'\n",
    "unix_time = 1546047836\n",
    "\n",
    "# Define my API Key, My Endpoint, and My Header\n",
    "API_KEY = 'YOUR API KEY'\n",
    "ENDPOINT = 'https://api.yelp.com/v3/businesses/{}/reviews'.format(business_id)\n",
    "HEADERS = {'Authorization': 'bearer %s' % API_KEY}\n",
    "\n",
    "# Define my parameters of the search\n",
    "# BUSINESS SEARCH PARAMETERS - EXAMPLE\n",
    "#PARAMETERS = {'term': 'food',\n",
    "#              'limit': 50,\n",
    "#              'offset': 50,\n",
    "#              'radius': 10000,\n",
    "#              'location': 'San Diego'}\n",
    "\n",
    "# BUSINESS MATCH PARAMETERS - EXAMPLE\n",
    "#PARAMETERS = {'name': 'Peets Coffee & Tea',\n",
    "#              'address1': '7845 Highland Village Pl',\n",
    "#              'city': 'San Diego',\n",
    "#              'state': 'CA',\n",
    "#              'country': 'US'}\n",
    "\n",
    "# Make a request to the Yelp API\n",
    "response = requests.get(url = ENDPOINT,\n",
    "                        params = PARAMETERS,\n",
    "                        headers = HEADERS)\n",
    "\n",
    "# Conver the JSON String\n",
    "business_data = response.json()\n",
    "\n",
    "# print the response\n",
    "print(json.dumps(business_data, indent = 3))"
   ]
  },
  {
   "cell_type": "markdown",
   "metadata": {},
   "source": [
    "# Data Understanding"
   ]
  },
  {
   "cell_type": "markdown",
   "metadata": {},
   "source": [
    "For this project there will be two sources and types of data used:\n",
    "\n",
    "* Historical health and hygiene inspections recorded by New York City Department of Health and Mental Hygiene (DOHMH) public health inspectors\n",
    "* User generated Yelp business ratings and reviews"
   ]
  },
  {
   "cell_type": "markdown",
   "metadata": {},
   "source": [
    "This dataset contains 337943 records. Let's explore further."
   ]
  },
  {
   "cell_type": "code",
   "execution_count": 42,
   "metadata": {
    "ExecuteTime": {
     "end_time": "2022-03-21T23:12:54.642439Z",
     "start_time": "2022-03-21T23:12:54.604085Z"
    }
   },
   "outputs": [
    {
     "data": {
      "text/plain": [
       "Manhattan        802\n",
       "Brooklyn         467\n",
       "Queens           445\n",
       "Bronx            216\n",
       "Staten Island     70\n",
       "Name: boro, dtype: int64"
      ]
     },
     "execution_count": 42,
     "metadata": {},
     "output_type": "execute_result"
    }
   ],
   "source": [
    "dohmh_df['boro'].value_counts()"
   ]
  },
  {
   "cell_type": "code",
   "execution_count": 43,
   "metadata": {
    "ExecuteTime": {
     "end_time": "2022-03-21T23:13:02.035495Z",
     "start_time": "2022-03-21T23:13:02.017696Z"
    }
   },
   "outputs": [
    {
     "data": {
      "text/plain": [
       "Violations were cited in the following area(s).                                                                                       1852\n",
       "Establishment Closed by DOHMH. Violations were cited in the following area(s) and those requiring immediate action were addressed.      85\n",
       "No violations were recorded at the time of this inspection.                                                                             31\n",
       "Establishment re-opened by DOHMH.                                                                                                       18\n",
       "Name: action, dtype: int64"
      ]
     },
     "execution_count": 43,
     "metadata": {},
     "output_type": "execute_result"
    }
   ],
   "source": [
    "dohmh_df['action'].value_counts()"
   ]
  },
  {
   "cell_type": "code",
   "execution_count": 45,
   "metadata": {
    "ExecuteTime": {
     "end_time": "2022-03-21T23:13:24.789453Z",
     "start_time": "2022-03-21T23:13:24.773778Z"
    }
   },
   "outputs": [
    {
     "data": {
      "text/plain": [
       "Critical          1078\n",
       "Not Critical       897\n",
       "Not Applicable      25\n",
       "Name: critical_flag, dtype: int64"
      ]
     },
     "execution_count": 45,
     "metadata": {},
     "output_type": "execute_result"
    }
   ],
   "source": [
    "dohmh_df['critical_flag'].value_counts()"
   ]
  },
  {
   "cell_type": "code",
   "execution_count": 46,
   "metadata": {
    "ExecuteTime": {
     "end_time": "2022-03-21T23:13:35.033236Z",
     "start_time": "2022-03-21T23:13:34.963092Z"
    }
   },
   "outputs": [
    {
     "data": {
      "text/plain": [
       "Critical          0.5390\n",
       "Not Critical      0.4485\n",
       "Not Applicable    0.0125\n",
       "Name: critical_flag, dtype: float64"
      ]
     },
     "execution_count": 46,
     "metadata": {},
     "output_type": "execute_result"
    }
   ],
   "source": [
    "dohmh_df['critical_flag'].value_counts(normalize=True)"
   ]
  },
  {
   "cell_type": "code",
   "execution_count": 47,
   "metadata": {
    "ExecuteTime": {
     "end_time": "2022-03-21T23:13:44.175471Z",
     "start_time": "2022-03-21T23:13:44.150687Z"
    }
   },
   "outputs": [
    {
     "data": {
      "text/plain": [
       "Cycle Inspection / Initial Inspection                0.566465\n",
       "Cycle Inspection / Re-inspection                     0.234642\n",
       "Pre-permit (Operational) / Initial Inspection        0.097684\n",
       "Pre-permit (Operational) / Re-inspection             0.037764\n",
       "Administrative Miscellaneous / Initial Inspection    0.015609\n",
       "Cycle Inspection / Reopening Inspection              0.008056\n",
       "Pre-permit (Non-operational) / Initial Inspection    0.007553\n",
       "Smoke-Free Air Act / Initial Inspection              0.007049\n",
       "Administrative Miscellaneous / Re-inspection         0.005035\n",
       "Trans Fat / Initial Inspection                       0.004532\n",
       "Pre-permit (Operational) / Compliance Inspection     0.004532\n",
       "Cycle Inspection / Compliance Inspection             0.003021\n",
       "Inter-Agency Task Force / Initial Inspection         0.002518\n",
       "Pre-permit (Operational) / Reopening Inspection      0.001511\n",
       "Smoke-Free Air Act / Re-inspection                   0.001007\n",
       "Trans Fat / Re-inspection                            0.001007\n",
       "Calorie Posting / Initial Inspection                 0.001007\n",
       "Calorie Posting / Re-inspection                      0.000504\n",
       "Pre-permit (Non-operational) / Re-inspection         0.000504\n",
       "Name: inspection_type, dtype: float64"
      ]
     },
     "execution_count": 47,
     "metadata": {},
     "output_type": "execute_result"
    }
   ],
   "source": [
    "dohmh_df['inspection_type'].value_counts(normalize=True)"
   ]
  },
  {
   "cell_type": "code",
   "execution_count": null,
   "metadata": {},
   "outputs": [],
   "source": []
  },
  {
   "cell_type": "code",
   "execution_count": null,
   "metadata": {},
   "outputs": [],
   "source": [
    "# # Python program to convert\n",
    "# # JSON file to CSV\n",
    "\n",
    "\n",
    "# import json\n",
    "# import csv\n",
    "\n",
    "\n",
    "# # Opening JSON file and loading the data\n",
    "# # into the variable data\n",
    "# with open('data/yelp_academic_dataset_review.json') as json_file:\n",
    "# yelp_data = json.load(json_file)\n",
    "\n",
    "# employee_data = data['emp_details']\n",
    "\n",
    "# # now we will open a file for writing\n",
    "# data_file = open('data_file.csv', 'w')\n",
    "\n",
    "# # create the csv writer object\n",
    "# csv_writer = csv.writer(data_file)\n",
    "\n",
    "# # Counter variable used for writing\n",
    "# # headers to the CSV file\n",
    "# count = 0\n",
    "\n",
    "# for emp in employee_data:\n",
    "# \tif count == 0:\n",
    "\n",
    "# \t\t# Writing headers of CSV file\n",
    "# \t\theader = emp.keys()\n",
    "# \t\tcsv_writer.writerow(header)\n",
    "# \t\tcount += 1\n",
    "\n",
    "# \t# Writing data of CSV file\n",
    "# \tcsv_writer.writerow(emp.values())\n",
    "\n",
    "# data_file.close()\n"
   ]
  }
 ],
 "metadata": {
  "kernelspec": {
   "display_name": "Python (learn-env)",
   "language": "python",
   "name": "learn-env"
  },
  "language_info": {
   "codemirror_mode": {
    "name": "ipython",
    "version": 3
   },
   "file_extension": ".py",
   "mimetype": "text/x-python",
   "name": "python",
   "nbconvert_exporter": "python",
   "pygments_lexer": "ipython3",
   "version": "3.8.5"
  },
  "toc": {
   "base_numbering": 1,
   "nav_menu": {},
   "number_sections": true,
   "sideBar": true,
   "skip_h1_title": false,
   "title_cell": "Table of Contents",
   "title_sidebar": "Contents",
   "toc_cell": false,
   "toc_position": {},
   "toc_section_display": true,
   "toc_window_display": true
  }
 },
 "nbformat": 4,
 "nbformat_minor": 4
}
