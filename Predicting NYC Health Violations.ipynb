{
 "cells": [
  {
   "cell_type": "markdown",
   "metadata": {},
   "source": [
    "# Introduction"
   ]
  },
  {
   "cell_type": "markdown",
   "metadata": {},
   "source": [
    "Cities across the United States are capitalizing on big data. Predictive policing is becoming a prominent tool for public safety in many cities. In Boston, an algorithm helps determine “problem properties” where the city can target interventions. In Chicago, they are protecting citizens by predicting which landlords are not complying with city ordinances. In New York, the Fire Department sends inspectors to the highest risk buildings so they can prevent deadly fires from breaking out."
   ]
  },
  {
   "cell_type": "markdown",
   "metadata": {},
   "source": [
    "According to the CDC, more than 48 million Americans per year become sick from food, and an estimated 75% of the outbreaks came from food prepared by caterers, delis, and restaurants. In most cities, health inspections are generally random, which can increase time spent on spot checks at clean restaurants that have been following the rules closely — and missed opportunities to improve health and hygiene at places with more pressing food safety issues.\n",
    "\n",
    "The goal for this project is to leverage public citizen generated data from social media to narrow the search for critical health and safety violations in New York City. As the City of New York manages  an open data portal, everyone can access historical hygiene inspections and violation records. By combine these two data source this project aims to determine which words, phrases, ratings, and patterns among restaurants lead to critical health and safety violations. This model can assist city health inspectors do their job better by prioritizing the kitchens most likely to be in violation of code."
   ]
  },
  {
   "cell_type": "markdown",
   "metadata": {},
   "source": [
    "The New York Health Department inspects the approximately 27,000 restaurants within the city to monitor their compliance with food safety regulations. Inspectors observe how food is prepared, served and stored and whether restaurant workers are practicing good hygiene. They check food temperatures, equipment maintenance and pest control measures."
   ]
  },
  {
   "cell_type": "markdown",
   "metadata": {},
   "source": [
    "### Imports"
   ]
  },
  {
   "cell_type": "code",
   "execution_count": 1,
   "metadata": {
    "ExecuteTime": {
     "end_time": "2022-05-11T02:23:01.311646Z",
     "start_time": "2022-05-11T02:22:17.131412Z"
    }
   },
   "outputs": [],
   "source": [
    "from IPython import display\n",
    "from bs4 import BeautifulSoup as bs\n",
    "import requests\n",
    "import json\n",
    "import pandas as pd\n",
    "import numpy as np\n",
    "\n",
    "import matplotlib.pyplot as plt\n",
    "%matplotlib inline\n",
    "import seaborn as sns\n",
    "import geopandas as gpd\n",
    "from shapely.geometry import Point, Polygon\n",
    "import plotly.express as px\n",
    "\n",
    "import warnings\n",
    "import time\n",
    "\n",
    "import folium\n",
    "import folium.plugins as plugins\n",
    "\n",
    "# misc\n",
    "import glob, os\n",
    "import ast\n",
    "\n",
    "call_apis = False\n",
    "warnings.filterwarnings(\"ignore\")\n",
    "pd.set_option('display.max_colwidth',200)\n",
    "pd.set_option('display.max_columns',50)\n",
    "pd.options.display.float_format = '{:.2f}'.format\n",
    "\n",
    "from sklearn.preprocessing import OneHotEncoder\n",
    "\n",
    "import spacy\n",
    "nlp = spacy.load(\"en_core_web_sm\")\n",
    "from spacy import displacy"
   ]
  },
  {
   "cell_type": "markdown",
   "metadata": {},
   "source": [
    "### Can you predict if a restaurant has received a C Grade?\n",
    "### Can you predict a restaurants yelp rating based on its review text?\n",
    "### Can you recommend a similar restaurant nearby with a better health score for restaurants searched for with a C"
   ]
  },
  {
   "cell_type": "markdown",
   "metadata": {},
   "source": [
    "# Obtain"
   ]
  },
  {
   "cell_type": "markdown",
   "metadata": {},
   "source": [
    "For this project there will be two sources and types of data used:\n",
    "\n",
    "* Historical health and hygiene inspections recorded by New York City Department of Health and Mental Hygiene (DOHMH) public health inspectors\n",
    "* User generated Yelp business ratings and reviews"
   ]
  },
  {
   "cell_type": "markdown",
   "metadata": {},
   "source": [
    "This project requires data pulled from two different sources, the City of New York and Yelp. To obtain the data we will call the API keys."
   ]
  },
  {
   "cell_type": "markdown",
   "metadata": {},
   "source": [
    " > The dataset contains every sustained or not yet adjudicated violation citation from every full or special program inspection conducted up to three years prior to the most recent inspection for restaurants and college cafeterias in an active status on the RECORD DATE (date of the data pull). When an inspection results in more than one violation, values for associated fields are repeated for each additional violation record. Establishments are uniquely identified by their CAMIS (record ID) number. Keep in mind that thousands of restaurants start business and go out of business every year; only restaurants in an active status are included in the dataset.\n",
    "Records are also included for each restaurant that has applied for a permit but has not yet been inspected and for inspections resulting in no violations. Establishments with inspection date of 1/1/1900 are new establishments that have not yet received an inspection. Restaurants that received no violations are represented by a single row and coded as having no violations using the ACTION field.\n",
    "Because this dataset is compiled from several large administrative data systems, it contains some illogical values that could be a result of data entry or transfer errors. Data may also be missing.\n",
    "This dataset and the information on the Health Department’s Restaurant Grading website come from the same data source. The Health Department’s Restaurant Grading website is here:\n",
    "http://www1.nyc.gov/site/doh/services/restaurant-grades.page"
   ]
  },
  {
   "cell_type": "markdown",
   "metadata": {},
   "source": [
    "> Why does the Health Department inspect restaurants?\n",
    "The Health Department inspects the approximately 27,000 restaurants in New York City to monitor their compliance with food safety regulations. Inspectors observe how food is prepared, served and stored and whether restaurant workers are practicing good hygiene. They check food temperatures, equipment maintenance and pest control measures."
   ]
  },
  {
   "cell_type": "markdown",
   "metadata": {},
   "source": [
    "> Since 2010, New York City has required restaurants to post letter grades that correspond to scores received from sanitary inspections. An inspection score of 0 to 13 is an A, 14 to 27 points is a B, and 28 or more points is a C. Grade cards must be posted where they can easily be seen by people passing by."
   ]
  },
  {
   "cell_type": "markdown",
   "metadata": {},
   "source": [
    "> The New York City Health Department inspects all food service establishments to make sure they meet Health Code requirements, which helps prevent\n",
    "foodborne illness. How often a restaurant is inspected depends on its inspection score. Restaurants that receive a low score on the initial or first inspection\n",
    "in the inspection cycle are inspected less often than those that receive a high score."
   ]
  },
  {
   "cell_type": "markdown",
   "metadata": {},
   "source": [
    "> The points for a particular violation depend on the health risk it poses to the public. Violations fall into three categories:\n",
    ">* A public health hazard, such as failing to keep food at the right temperature, triggers a minimum of 7 points. If the violation can’t be corrected before the inspection ends, the Health Department may close the restaurant until it’s fixed.\n",
    ">* A critical violation, for example, serving raw food such as a salad without properly washing it first, carries a minimum of 5 points.\n",
    ">* A general violation, such as not properly sanitizing\n",
    "cooking utensils, receives at least 2 points.\n",
    "\n",
    ">Inspectors assign additional points to reflect the extent of the\n",
    "violation. A violation’s condition level can range from 1 (least\n",
    "extensive) to 5 (most extensive). For example, the presence of\n",
    "one contaminated food item is a condition level 1 violation,\n",
    "generating 7 points. Four or more contaminated food items\n",
    "is a condition level 4 violation, resulting in 10 points. "
   ]
  },
  {
   "cell_type": "markdown",
   "metadata": {},
   "source": [
    "> How are restaurants graded?\n",
    "Violations found during inspections carry point values, and a restaurant’s score corresponds to a letter grade. The point/grade cut-offs are the same as for mobile food vending letter grading, with fewer points corresponding to a better grade:\n",
    "\n",
    ">* \"A\" grade: 0 to 13 points for sanitary violations\n",
    ">* \"B\" grade: 14 to 27 points for sanitary violations\n",
    ">* \"C\" grade: 28 or more points for sanitary violations\n"
   ]
  },
  {
   "cell_type": "markdown",
   "metadata": {},
   "source": [
    "The City of New York inspects all restaurants cyclically. And if a business does not pass it's initial inspection for the cycle, it will be re-inspected in 3-5 months."
   ]
  },
  {
   "cell_type": "code",
   "execution_count": 2,
   "metadata": {
    "ExecuteTime": {
     "end_time": "2022-05-11T02:24:04.384221Z",
     "start_time": "2022-05-11T02:24:04.380691Z"
    }
   },
   "outputs": [],
   "source": [
    "import spacy"
   ]
  },
  {
   "cell_type": "code",
   "execution_count": 3,
   "metadata": {
    "ExecuteTime": {
     "end_time": "2022-05-11T02:24:05.991617Z",
     "start_time": "2022-05-11T02:24:05.206831Z"
    }
   },
   "outputs": [],
   "source": [
    "nlp = spacy.load(\"en_core_web_sm\")"
   ]
  },
  {
   "cell_type": "code",
   "execution_count": 4,
   "metadata": {
    "ExecuteTime": {
     "end_time": "2022-05-11T02:24:06.611951Z",
     "start_time": "2022-05-11T02:24:06.511880Z"
    }
   },
   "outputs": [
    {
     "data": {
      "text/html": [
       "<span class=\"tex2jax_ignore\"><svg xmlns=\"http://www.w3.org/2000/svg\" xmlns:xlink=\"http://www.w3.org/1999/xlink\" xml:lang=\"en\" id=\"22834e6d2e82444da51b2f0cfb951a2c-0\" class=\"displacy\" width=\"1370\" height=\"357.0\" direction=\"ltr\" style=\"max-width: none; height: 357.0px; color: #000000; background: #ffffff; font-family: Arial; direction: ltr\">\n",
       "<text class=\"displacy-token\" fill=\"currentColor\" text-anchor=\"middle\" y=\"267.0\">\n",
       "    <tspan class=\"displacy-word\" fill=\"currentColor\" x=\"50\">Apple</tspan>\n",
       "    <tspan class=\"displacy-tag\" dy=\"2em\" fill=\"currentColor\" x=\"50\">PROPN</tspan>\n",
       "</text>\n",
       "\n",
       "<text class=\"displacy-token\" fill=\"currentColor\" text-anchor=\"middle\" y=\"267.0\">\n",
       "    <tspan class=\"displacy-word\" fill=\"currentColor\" x=\"160\">is</tspan>\n",
       "    <tspan class=\"displacy-tag\" dy=\"2em\" fill=\"currentColor\" x=\"160\">AUX</tspan>\n",
       "</text>\n",
       "\n",
       "<text class=\"displacy-token\" fill=\"currentColor\" text-anchor=\"middle\" y=\"267.0\">\n",
       "    <tspan class=\"displacy-word\" fill=\"currentColor\" x=\"270\">going</tspan>\n",
       "    <tspan class=\"displacy-tag\" dy=\"2em\" fill=\"currentColor\" x=\"270\">VERB</tspan>\n",
       "</text>\n",
       "\n",
       "<text class=\"displacy-token\" fill=\"currentColor\" text-anchor=\"middle\" y=\"267.0\">\n",
       "    <tspan class=\"displacy-word\" fill=\"currentColor\" x=\"380\">to</tspan>\n",
       "    <tspan class=\"displacy-tag\" dy=\"2em\" fill=\"currentColor\" x=\"380\">PART</tspan>\n",
       "</text>\n",
       "\n",
       "<text class=\"displacy-token\" fill=\"currentColor\" text-anchor=\"middle\" y=\"267.0\">\n",
       "    <tspan class=\"displacy-word\" fill=\"currentColor\" x=\"490\">build</tspan>\n",
       "    <tspan class=\"displacy-tag\" dy=\"2em\" fill=\"currentColor\" x=\"490\">VERB</tspan>\n",
       "</text>\n",
       "\n",
       "<text class=\"displacy-token\" fill=\"currentColor\" text-anchor=\"middle\" y=\"267.0\">\n",
       "    <tspan class=\"displacy-word\" fill=\"currentColor\" x=\"600\">a</tspan>\n",
       "    <tspan class=\"displacy-tag\" dy=\"2em\" fill=\"currentColor\" x=\"600\">DET</tspan>\n",
       "</text>\n",
       "\n",
       "<text class=\"displacy-token\" fill=\"currentColor\" text-anchor=\"middle\" y=\"267.0\">\n",
       "    <tspan class=\"displacy-word\" fill=\"currentColor\" x=\"710\">U.K.</tspan>\n",
       "    <tspan class=\"displacy-tag\" dy=\"2em\" fill=\"currentColor\" x=\"710\">PROPN</tspan>\n",
       "</text>\n",
       "\n",
       "<text class=\"displacy-token\" fill=\"currentColor\" text-anchor=\"middle\" y=\"267.0\">\n",
       "    <tspan class=\"displacy-word\" fill=\"currentColor\" x=\"820\">factory</tspan>\n",
       "    <tspan class=\"displacy-tag\" dy=\"2em\" fill=\"currentColor\" x=\"820\">NOUN</tspan>\n",
       "</text>\n",
       "\n",
       "<text class=\"displacy-token\" fill=\"currentColor\" text-anchor=\"middle\" y=\"267.0\">\n",
       "    <tspan class=\"displacy-word\" fill=\"currentColor\" x=\"930\">for</tspan>\n",
       "    <tspan class=\"displacy-tag\" dy=\"2em\" fill=\"currentColor\" x=\"930\">ADP</tspan>\n",
       "</text>\n",
       "\n",
       "<text class=\"displacy-token\" fill=\"currentColor\" text-anchor=\"middle\" y=\"267.0\">\n",
       "    <tspan class=\"displacy-word\" fill=\"currentColor\" x=\"1040\">$</tspan>\n",
       "    <tspan class=\"displacy-tag\" dy=\"2em\" fill=\"currentColor\" x=\"1040\">SYM</tspan>\n",
       "</text>\n",
       "\n",
       "<text class=\"displacy-token\" fill=\"currentColor\" text-anchor=\"middle\" y=\"267.0\">\n",
       "    <tspan class=\"displacy-word\" fill=\"currentColor\" x=\"1150\">6</tspan>\n",
       "    <tspan class=\"displacy-tag\" dy=\"2em\" fill=\"currentColor\" x=\"1150\">NUM</tspan>\n",
       "</text>\n",
       "\n",
       "<text class=\"displacy-token\" fill=\"currentColor\" text-anchor=\"middle\" y=\"267.0\">\n",
       "    <tspan class=\"displacy-word\" fill=\"currentColor\" x=\"1260\">million.</tspan>\n",
       "    <tspan class=\"displacy-tag\" dy=\"2em\" fill=\"currentColor\" x=\"1260\">NUM</tspan>\n",
       "</text>\n",
       "\n",
       "<g class=\"displacy-arrow\">\n",
       "    <path class=\"displacy-arc\" id=\"arrow-22834e6d2e82444da51b2f0cfb951a2c-0-0\" stroke-width=\"2px\" d=\"M70,222.0 C70,112.0 260.0,112.0 260.0,222.0\" fill=\"none\" stroke=\"currentColor\"/>\n",
       "    <text dy=\"1.25em\" style=\"font-size: 0.8em; letter-spacing: 1px\">\n",
       "        <textPath xlink:href=\"#arrow-22834e6d2e82444da51b2f0cfb951a2c-0-0\" class=\"displacy-label\" startOffset=\"50%\" side=\"left\" fill=\"currentColor\" text-anchor=\"middle\">nsubj</textPath>\n",
       "    </text>\n",
       "    <path class=\"displacy-arrowhead\" d=\"M70,224.0 L62,212.0 78,212.0\" fill=\"currentColor\"/>\n",
       "</g>\n",
       "\n",
       "<g class=\"displacy-arrow\">\n",
       "    <path class=\"displacy-arc\" id=\"arrow-22834e6d2e82444da51b2f0cfb951a2c-0-1\" stroke-width=\"2px\" d=\"M180,222.0 C180,167.0 255.0,167.0 255.0,222.0\" fill=\"none\" stroke=\"currentColor\"/>\n",
       "    <text dy=\"1.25em\" style=\"font-size: 0.8em; letter-spacing: 1px\">\n",
       "        <textPath xlink:href=\"#arrow-22834e6d2e82444da51b2f0cfb951a2c-0-1\" class=\"displacy-label\" startOffset=\"50%\" side=\"left\" fill=\"currentColor\" text-anchor=\"middle\">aux</textPath>\n",
       "    </text>\n",
       "    <path class=\"displacy-arrowhead\" d=\"M180,224.0 L172,212.0 188,212.0\" fill=\"currentColor\"/>\n",
       "</g>\n",
       "\n",
       "<g class=\"displacy-arrow\">\n",
       "    <path class=\"displacy-arc\" id=\"arrow-22834e6d2e82444da51b2f0cfb951a2c-0-2\" stroke-width=\"2px\" d=\"M400,222.0 C400,167.0 475.0,167.0 475.0,222.0\" fill=\"none\" stroke=\"currentColor\"/>\n",
       "    <text dy=\"1.25em\" style=\"font-size: 0.8em; letter-spacing: 1px\">\n",
       "        <textPath xlink:href=\"#arrow-22834e6d2e82444da51b2f0cfb951a2c-0-2\" class=\"displacy-label\" startOffset=\"50%\" side=\"left\" fill=\"currentColor\" text-anchor=\"middle\">aux</textPath>\n",
       "    </text>\n",
       "    <path class=\"displacy-arrowhead\" d=\"M400,224.0 L392,212.0 408,212.0\" fill=\"currentColor\"/>\n",
       "</g>\n",
       "\n",
       "<g class=\"displacy-arrow\">\n",
       "    <path class=\"displacy-arc\" id=\"arrow-22834e6d2e82444da51b2f0cfb951a2c-0-3\" stroke-width=\"2px\" d=\"M290,222.0 C290,112.0 480.0,112.0 480.0,222.0\" fill=\"none\" stroke=\"currentColor\"/>\n",
       "    <text dy=\"1.25em\" style=\"font-size: 0.8em; letter-spacing: 1px\">\n",
       "        <textPath xlink:href=\"#arrow-22834e6d2e82444da51b2f0cfb951a2c-0-3\" class=\"displacy-label\" startOffset=\"50%\" side=\"left\" fill=\"currentColor\" text-anchor=\"middle\">xcomp</textPath>\n",
       "    </text>\n",
       "    <path class=\"displacy-arrowhead\" d=\"M480.0,224.0 L488.0,212.0 472.0,212.0\" fill=\"currentColor\"/>\n",
       "</g>\n",
       "\n",
       "<g class=\"displacy-arrow\">\n",
       "    <path class=\"displacy-arc\" id=\"arrow-22834e6d2e82444da51b2f0cfb951a2c-0-4\" stroke-width=\"2px\" d=\"M620,222.0 C620,112.0 810.0,112.0 810.0,222.0\" fill=\"none\" stroke=\"currentColor\"/>\n",
       "    <text dy=\"1.25em\" style=\"font-size: 0.8em; letter-spacing: 1px\">\n",
       "        <textPath xlink:href=\"#arrow-22834e6d2e82444da51b2f0cfb951a2c-0-4\" class=\"displacy-label\" startOffset=\"50%\" side=\"left\" fill=\"currentColor\" text-anchor=\"middle\">det</textPath>\n",
       "    </text>\n",
       "    <path class=\"displacy-arrowhead\" d=\"M620,224.0 L612,212.0 628,212.0\" fill=\"currentColor\"/>\n",
       "</g>\n",
       "\n",
       "<g class=\"displacy-arrow\">\n",
       "    <path class=\"displacy-arc\" id=\"arrow-22834e6d2e82444da51b2f0cfb951a2c-0-5\" stroke-width=\"2px\" d=\"M730,222.0 C730,167.0 805.0,167.0 805.0,222.0\" fill=\"none\" stroke=\"currentColor\"/>\n",
       "    <text dy=\"1.25em\" style=\"font-size: 0.8em; letter-spacing: 1px\">\n",
       "        <textPath xlink:href=\"#arrow-22834e6d2e82444da51b2f0cfb951a2c-0-5\" class=\"displacy-label\" startOffset=\"50%\" side=\"left\" fill=\"currentColor\" text-anchor=\"middle\">compound</textPath>\n",
       "    </text>\n",
       "    <path class=\"displacy-arrowhead\" d=\"M730,224.0 L722,212.0 738,212.0\" fill=\"currentColor\"/>\n",
       "</g>\n",
       "\n",
       "<g class=\"displacy-arrow\">\n",
       "    <path class=\"displacy-arc\" id=\"arrow-22834e6d2e82444da51b2f0cfb951a2c-0-6\" stroke-width=\"2px\" d=\"M510,222.0 C510,57.0 815.0,57.0 815.0,222.0\" fill=\"none\" stroke=\"currentColor\"/>\n",
       "    <text dy=\"1.25em\" style=\"font-size: 0.8em; letter-spacing: 1px\">\n",
       "        <textPath xlink:href=\"#arrow-22834e6d2e82444da51b2f0cfb951a2c-0-6\" class=\"displacy-label\" startOffset=\"50%\" side=\"left\" fill=\"currentColor\" text-anchor=\"middle\">dobj</textPath>\n",
       "    </text>\n",
       "    <path class=\"displacy-arrowhead\" d=\"M815.0,224.0 L823.0,212.0 807.0,212.0\" fill=\"currentColor\"/>\n",
       "</g>\n",
       "\n",
       "<g class=\"displacy-arrow\">\n",
       "    <path class=\"displacy-arc\" id=\"arrow-22834e6d2e82444da51b2f0cfb951a2c-0-7\" stroke-width=\"2px\" d=\"M510,222.0 C510,2.0 930.0,2.0 930.0,222.0\" fill=\"none\" stroke=\"currentColor\"/>\n",
       "    <text dy=\"1.25em\" style=\"font-size: 0.8em; letter-spacing: 1px\">\n",
       "        <textPath xlink:href=\"#arrow-22834e6d2e82444da51b2f0cfb951a2c-0-7\" class=\"displacy-label\" startOffset=\"50%\" side=\"left\" fill=\"currentColor\" text-anchor=\"middle\">prep</textPath>\n",
       "    </text>\n",
       "    <path class=\"displacy-arrowhead\" d=\"M930.0,224.0 L938.0,212.0 922.0,212.0\" fill=\"currentColor\"/>\n",
       "</g>\n",
       "\n",
       "<g class=\"displacy-arrow\">\n",
       "    <path class=\"displacy-arc\" id=\"arrow-22834e6d2e82444da51b2f0cfb951a2c-0-8\" stroke-width=\"2px\" d=\"M1060,222.0 C1060,112.0 1250.0,112.0 1250.0,222.0\" fill=\"none\" stroke=\"currentColor\"/>\n",
       "    <text dy=\"1.25em\" style=\"font-size: 0.8em; letter-spacing: 1px\">\n",
       "        <textPath xlink:href=\"#arrow-22834e6d2e82444da51b2f0cfb951a2c-0-8\" class=\"displacy-label\" startOffset=\"50%\" side=\"left\" fill=\"currentColor\" text-anchor=\"middle\">quantmod</textPath>\n",
       "    </text>\n",
       "    <path class=\"displacy-arrowhead\" d=\"M1060,224.0 L1052,212.0 1068,212.0\" fill=\"currentColor\"/>\n",
       "</g>\n",
       "\n",
       "<g class=\"displacy-arrow\">\n",
       "    <path class=\"displacy-arc\" id=\"arrow-22834e6d2e82444da51b2f0cfb951a2c-0-9\" stroke-width=\"2px\" d=\"M1170,222.0 C1170,167.0 1245.0,167.0 1245.0,222.0\" fill=\"none\" stroke=\"currentColor\"/>\n",
       "    <text dy=\"1.25em\" style=\"font-size: 0.8em; letter-spacing: 1px\">\n",
       "        <textPath xlink:href=\"#arrow-22834e6d2e82444da51b2f0cfb951a2c-0-9\" class=\"displacy-label\" startOffset=\"50%\" side=\"left\" fill=\"currentColor\" text-anchor=\"middle\">compound</textPath>\n",
       "    </text>\n",
       "    <path class=\"displacy-arrowhead\" d=\"M1170,224.0 L1162,212.0 1178,212.0\" fill=\"currentColor\"/>\n",
       "</g>\n",
       "\n",
       "<g class=\"displacy-arrow\">\n",
       "    <path class=\"displacy-arc\" id=\"arrow-22834e6d2e82444da51b2f0cfb951a2c-0-10\" stroke-width=\"2px\" d=\"M950,222.0 C950,57.0 1255.0,57.0 1255.0,222.0\" fill=\"none\" stroke=\"currentColor\"/>\n",
       "    <text dy=\"1.25em\" style=\"font-size: 0.8em; letter-spacing: 1px\">\n",
       "        <textPath xlink:href=\"#arrow-22834e6d2e82444da51b2f0cfb951a2c-0-10\" class=\"displacy-label\" startOffset=\"50%\" side=\"left\" fill=\"currentColor\" text-anchor=\"middle\">pobj</textPath>\n",
       "    </text>\n",
       "    <path class=\"displacy-arrowhead\" d=\"M1255.0,224.0 L1263.0,212.0 1247.0,212.0\" fill=\"currentColor\"/>\n",
       "</g>\n",
       "</svg></span>"
      ],
      "text/plain": [
       "<IPython.core.display.HTML object>"
      ]
     },
     "metadata": {},
     "output_type": "display_data"
    }
   ],
   "source": [
    "from spacy import displacy\n",
    "\n",
    "doc = nlp(u'Apple is going to build a U.K. factory for $6 million.')\n",
    "displacy.render(doc, style='dep', jupyter=True, options={'distance': 110})"
   ]
  },
  {
   "cell_type": "code",
   "execution_count": 5,
   "metadata": {
    "ExecuteTime": {
     "end_time": "2022-05-11T02:24:08.637650Z",
     "start_time": "2022-05-11T02:24:08.614799Z"
    }
   },
   "outputs": [
    {
     "data": {
      "text/html": [
       "<span class=\"tex2jax_ignore\"><div class=\"entities\" style=\"line-height: 2.5; direction: ltr\">Over \n",
       "<mark class=\"entity\" style=\"background: #bfe1d9; padding: 0.45em 0.6em; margin: 0 0.25em; line-height: 1; border-radius: 0.35em;\">\n",
       "    the last quarter\n",
       "    <span style=\"font-size: 0.8em; font-weight: bold; line-height: 1; border-radius: 0.35em; vertical-align: middle; margin-left: 0.5rem\">DATE</span>\n",
       "</mark>\n",
       " \n",
       "<mark class=\"entity\" style=\"background: #7aecec; padding: 0.45em 0.6em; margin: 0 0.25em; line-height: 1; border-radius: 0.35em;\">\n",
       "    Apple\n",
       "    <span style=\"font-size: 0.8em; font-weight: bold; line-height: 1; border-radius: 0.35em; vertical-align: middle; margin-left: 0.5rem\">ORG</span>\n",
       "</mark>\n",
       " sold \n",
       "<mark class=\"entity\" style=\"background: #e4e7d2; padding: 0.45em 0.6em; margin: 0 0.25em; line-height: 1; border-radius: 0.35em;\">\n",
       "    nearly 20 thousand\n",
       "    <span style=\"font-size: 0.8em; font-weight: bold; line-height: 1; border-radius: 0.35em; vertical-align: middle; margin-left: 0.5rem\">CARDINAL</span>\n",
       "</mark>\n",
       " \n",
       "<mark class=\"entity\" style=\"background: #bfeeb7; padding: 0.45em 0.6em; margin: 0 0.25em; line-height: 1; border-radius: 0.35em;\">\n",
       "    iPods\n",
       "    <span style=\"font-size: 0.8em; font-weight: bold; line-height: 1; border-radius: 0.35em; vertical-align: middle; margin-left: 0.5rem\">PRODUCT</span>\n",
       "</mark>\n",
       " for a profit of \n",
       "<mark class=\"entity\" style=\"background: #e4e7d2; padding: 0.45em 0.6em; margin: 0 0.25em; line-height: 1; border-radius: 0.35em;\">\n",
       "    $6 million\n",
       "    <span style=\"font-size: 0.8em; font-weight: bold; line-height: 1; border-radius: 0.35em; vertical-align: middle; margin-left: 0.5rem\">MONEY</span>\n",
       "</mark>\n",
       ".</div></span>"
      ],
      "text/plain": [
       "<IPython.core.display.HTML object>"
      ]
     },
     "metadata": {},
     "output_type": "display_data"
    }
   ],
   "source": [
    "doc = nlp(u'Over the last quarter Apple sold nearly 20 thousand iPods for a profit of $6 million.')\n",
    "displacy.render(doc, style='ent', jupyter=True)"
   ]
  },
  {
   "cell_type": "markdown",
   "metadata": {},
   "source": [
    "## Obtaining Restaurant Inspection Results from NYC Open Data Portal"
   ]
  },
  {
   "cell_type": "markdown",
   "metadata": {
    "ExecuteTime": {
     "end_time": "2022-04-19T15:04:10.996002Z",
     "start_time": "2022-04-19T15:04:10.983796Z"
    }
   },
   "source": [
    "The dataset can be obtained here\n",
    "\n",
    "https://data.cityofnewyork.us/Health/DOHMH-New-York-City-Restaurant-Inspection-Results/43nn-pn8j"
   ]
  },
  {
   "cell_type": "markdown",
   "metadata": {},
   "source": [
    "The dataset was downloaded and saved to this repository. Let's load it in and explore its contents."
   ]
  },
  {
   "cell_type": "markdown",
   "metadata": {},
   "source": [
    "Detailed descriptions about each column can be found in the Restaurant Inspection Data Dictionary."
   ]
  },
  {
   "cell_type": "code",
   "execution_count": 6,
   "metadata": {
    "ExecuteTime": {
     "end_time": "2022-05-11T02:24:15.256395Z",
     "start_time": "2022-05-11T02:24:12.768433Z"
    }
   },
   "outputs": [
    {
     "data": {
      "text/html": [
       "<div>\n",
       "<style scoped>\n",
       "    .dataframe tbody tr th:only-of-type {\n",
       "        vertical-align: middle;\n",
       "    }\n",
       "\n",
       "    .dataframe tbody tr th {\n",
       "        vertical-align: top;\n",
       "    }\n",
       "\n",
       "    .dataframe thead th {\n",
       "        text-align: right;\n",
       "    }\n",
       "</style>\n",
       "<table border=\"1\" class=\"dataframe\">\n",
       "  <thead>\n",
       "    <tr style=\"text-align: right;\">\n",
       "      <th></th>\n",
       "      <th>CAMIS</th>\n",
       "      <th>DBA</th>\n",
       "      <th>BORO</th>\n",
       "      <th>BUILDING</th>\n",
       "      <th>STREET</th>\n",
       "      <th>ZIPCODE</th>\n",
       "      <th>PHONE</th>\n",
       "      <th>CUISINE DESCRIPTION</th>\n",
       "      <th>INSPECTION DATE</th>\n",
       "      <th>ACTION</th>\n",
       "      <th>VIOLATION CODE</th>\n",
       "      <th>VIOLATION DESCRIPTION</th>\n",
       "      <th>CRITICAL FLAG</th>\n",
       "      <th>SCORE</th>\n",
       "      <th>GRADE</th>\n",
       "      <th>GRADE DATE</th>\n",
       "      <th>RECORD DATE</th>\n",
       "      <th>INSPECTION TYPE</th>\n",
       "      <th>Latitude</th>\n",
       "      <th>Longitude</th>\n",
       "      <th>Community Board</th>\n",
       "      <th>Council District</th>\n",
       "      <th>Census Tract</th>\n",
       "      <th>BIN</th>\n",
       "      <th>BBL</th>\n",
       "      <th>NTA</th>\n",
       "    </tr>\n",
       "  </thead>\n",
       "  <tbody>\n",
       "    <tr>\n",
       "      <th>0</th>\n",
       "      <td>50008319</td>\n",
       "      <td>POULETTE</td>\n",
       "      <td>Manhattan</td>\n",
       "      <td>790</td>\n",
       "      <td>9 AVENUE</td>\n",
       "      <td>10019.00</td>\n",
       "      <td>2129569488</td>\n",
       "      <td>Chicken</td>\n",
       "      <td>01/28/2019</td>\n",
       "      <td>Violations were cited in the following area(s).</td>\n",
       "      <td>04D</td>\n",
       "      <td>Food worker does not wash hands thoroughly after using the toilet, coughing, sneezing, smoking, eating, preparing raw foods or otherwise contaminating hands.</td>\n",
       "      <td>Critical</td>\n",
       "      <td>22</td>\n",
       "      <td>NaN</td>\n",
       "      <td>NaN</td>\n",
       "      <td>03/24/2022</td>\n",
       "      <td>Cycle Inspection / Initial Inspection</td>\n",
       "      <td>40.77</td>\n",
       "      <td>-73.99</td>\n",
       "      <td>104.00</td>\n",
       "      <td>3.00</td>\n",
       "      <td>13300.00</td>\n",
       "      <td>1025235.00</td>\n",
       "      <td>1010430004.00</td>\n",
       "      <td>MN15</td>\n",
       "    </tr>\n",
       "    <tr>\n",
       "      <th>1</th>\n",
       "      <td>41678734</td>\n",
       "      <td>TINY'S DINER</td>\n",
       "      <td>Bronx</td>\n",
       "      <td>3603</td>\n",
       "      <td>RIVERDALE AVENUE</td>\n",
       "      <td>10463.00</td>\n",
       "      <td>7187087600</td>\n",
       "      <td>American</td>\n",
       "      <td>09/23/2019</td>\n",
       "      <td>Violations were cited in the following area(s).</td>\n",
       "      <td>04M</td>\n",
       "      <td>Live roaches present in facility's food and/or non-food areas.</td>\n",
       "      <td>Critical</td>\n",
       "      <td>24</td>\n",
       "      <td>NaN</td>\n",
       "      <td>NaN</td>\n",
       "      <td>03/24/2022</td>\n",
       "      <td>Cycle Inspection / Initial Inspection</td>\n",
       "      <td>40.89</td>\n",
       "      <td>-73.91</td>\n",
       "      <td>208.00</td>\n",
       "      <td>11.00</td>\n",
       "      <td>29500.00</td>\n",
       "      <td>2084186.00</td>\n",
       "      <td>2057960167.00</td>\n",
       "      <td>BX29</td>\n",
       "    </tr>\n",
       "    <tr>\n",
       "      <th>2</th>\n",
       "      <td>40795021</td>\n",
       "      <td>TAO RESTAURANT</td>\n",
       "      <td>Manhattan</td>\n",
       "      <td>42</td>\n",
       "      <td>EAST   58 STREET</td>\n",
       "      <td>10022.00</td>\n",
       "      <td>2128882288</td>\n",
       "      <td>Asian/Asian Fusion</td>\n",
       "      <td>03/11/2020</td>\n",
       "      <td>Violations were cited in the following area(s).</td>\n",
       "      <td>10F</td>\n",
       "      <td>Non-food contact surface improperly constructed. Unacceptable material used. Non-food contact surface or equipment improperly maintained and/or not properly sealed, raised, spaced or movable to al...</td>\n",
       "      <td>Not Critical</td>\n",
       "      <td>9</td>\n",
       "      <td>NaN</td>\n",
       "      <td>NaN</td>\n",
       "      <td>03/24/2022</td>\n",
       "      <td>Cycle Inspection / Initial Inspection</td>\n",
       "      <td>40.76</td>\n",
       "      <td>-73.97</td>\n",
       "      <td>105.00</td>\n",
       "      <td>4.00</td>\n",
       "      <td>11202.00</td>\n",
       "      <td>1036073.00</td>\n",
       "      <td>1012930047.00</td>\n",
       "      <td>MN17</td>\n",
       "    </tr>\n",
       "    <tr>\n",
       "      <th>3</th>\n",
       "      <td>40795021</td>\n",
       "      <td>TAO RESTAURANT</td>\n",
       "      <td>Manhattan</td>\n",
       "      <td>42</td>\n",
       "      <td>EAST   58 STREET</td>\n",
       "      <td>10022.00</td>\n",
       "      <td>2128882288</td>\n",
       "      <td>Asian/Asian Fusion</td>\n",
       "      <td>03/11/2020</td>\n",
       "      <td>Violations were cited in the following area(s).</td>\n",
       "      <td>10F</td>\n",
       "      <td>Non-food contact surface improperly constructed. Unacceptable material used. Non-food contact surface or equipment improperly maintained and/or not properly sealed, raised, spaced or movable to al...</td>\n",
       "      <td>Not Critical</td>\n",
       "      <td>9</td>\n",
       "      <td>NaN</td>\n",
       "      <td>NaN</td>\n",
       "      <td>03/24/2022</td>\n",
       "      <td>Cycle Inspection / Initial Inspection</td>\n",
       "      <td>40.76</td>\n",
       "      <td>-73.97</td>\n",
       "      <td>105.00</td>\n",
       "      <td>4.00</td>\n",
       "      <td>11202.00</td>\n",
       "      <td>1036073.00</td>\n",
       "      <td>1012930047.00</td>\n",
       "      <td>MN17</td>\n",
       "    </tr>\n",
       "    <tr>\n",
       "      <th>4</th>\n",
       "      <td>40538234</td>\n",
       "      <td>DUNKIN',' BASKIN ROBBINS</td>\n",
       "      <td>Queens</td>\n",
       "      <td>9925</td>\n",
       "      <td>HORACE HARDING EXPRESSWAY</td>\n",
       "      <td>11368.00</td>\n",
       "      <td>7182719222</td>\n",
       "      <td>Donuts</td>\n",
       "      <td>07/29/2021</td>\n",
       "      <td>Violations were cited in the following area(s).</td>\n",
       "      <td>06E</td>\n",
       "      <td>Sanitized equipment or utensil, including in-use food dispensing utensil, improperly used or stored.</td>\n",
       "      <td>Critical</td>\n",
       "      <td>10</td>\n",
       "      <td>A</td>\n",
       "      <td>07/29/2021</td>\n",
       "      <td>03/24/2022</td>\n",
       "      <td>Cycle Inspection / Initial Inspection</td>\n",
       "      <td>40.74</td>\n",
       "      <td>-73.86</td>\n",
       "      <td>404.00</td>\n",
       "      <td>21.00</td>\n",
       "      <td>43702.00</td>\n",
       "      <td>4047915.00</td>\n",
       "      <td>4019480019.00</td>\n",
       "      <td>QN25</td>\n",
       "    </tr>\n",
       "    <tr>\n",
       "      <th>...</th>\n",
       "      <td>...</td>\n",
       "      <td>...</td>\n",
       "      <td>...</td>\n",
       "      <td>...</td>\n",
       "      <td>...</td>\n",
       "      <td>...</td>\n",
       "      <td>...</td>\n",
       "      <td>...</td>\n",
       "      <td>...</td>\n",
       "      <td>...</td>\n",
       "      <td>...</td>\n",
       "      <td>...</td>\n",
       "      <td>...</td>\n",
       "      <td>...</td>\n",
       "      <td>...</td>\n",
       "      <td>...</td>\n",
       "      <td>...</td>\n",
       "      <td>...</td>\n",
       "      <td>...</td>\n",
       "      <td>...</td>\n",
       "      <td>...</td>\n",
       "      <td>...</td>\n",
       "      <td>...</td>\n",
       "      <td>...</td>\n",
       "      <td>...</td>\n",
       "      <td>...</td>\n",
       "    </tr>\n",
       "    <tr>\n",
       "      <th>186222</th>\n",
       "      <td>41556790</td>\n",
       "      <td>FIVE GUYS FAMOUS BURGERS AND FRIES</td>\n",
       "      <td>Manhattan</td>\n",
       "      <td>2847</td>\n",
       "      <td>BROADFWAY</td>\n",
       "      <td>NaN</td>\n",
       "      <td>2126787701</td>\n",
       "      <td>Hamburgers</td>\n",
       "      <td>03/01/2019</td>\n",
       "      <td>Violations were cited in the following area(s).</td>\n",
       "      <td>10F</td>\n",
       "      <td>Non-food contact surface improperly constructed. Unacceptable material used. Non-food contact surface or equipment improperly maintained and/or not properly sealed, raised, spaced or movable to al...</td>\n",
       "      <td>Not Critical</td>\n",
       "      <td>3</td>\n",
       "      <td>A</td>\n",
       "      <td>03/01/2019</td>\n",
       "      <td>03/24/2022</td>\n",
       "      <td>Cycle Inspection / Initial Inspection</td>\n",
       "      <td>0.00</td>\n",
       "      <td>0.00</td>\n",
       "      <td>NaN</td>\n",
       "      <td>NaN</td>\n",
       "      <td>NaN</td>\n",
       "      <td>NaN</td>\n",
       "      <td>1.00</td>\n",
       "      <td>NaN</td>\n",
       "    </tr>\n",
       "    <tr>\n",
       "      <th>186223</th>\n",
       "      <td>50032876</td>\n",
       "      <td>TANNER SMITH'S</td>\n",
       "      <td>Manhattan</td>\n",
       "      <td>204</td>\n",
       "      <td>WEST   55 STREET</td>\n",
       "      <td>10019.00</td>\n",
       "      <td>9175172283</td>\n",
       "      <td>American</td>\n",
       "      <td>06/07/2019</td>\n",
       "      <td>Violations were cited in the following area(s).</td>\n",
       "      <td>08A</td>\n",
       "      <td>Facility not vermin proof. Harborage or conditions conducive to attracting vermin to the premises and/or allowing vermin to exist.</td>\n",
       "      <td>Not Critical</td>\n",
       "      <td>12</td>\n",
       "      <td>A</td>\n",
       "      <td>06/07/2019</td>\n",
       "      <td>03/24/2022</td>\n",
       "      <td>Cycle Inspection / Initial Inspection</td>\n",
       "      <td>40.76</td>\n",
       "      <td>-73.98</td>\n",
       "      <td>105.00</td>\n",
       "      <td>4.00</td>\n",
       "      <td>13700.00</td>\n",
       "      <td>1024857.00</td>\n",
       "      <td>1010260037.00</td>\n",
       "      <td>MN17</td>\n",
       "    </tr>\n",
       "    <tr>\n",
       "      <th>186224</th>\n",
       "      <td>50003842</td>\n",
       "      <td>T- 45</td>\n",
       "      <td>Manhattan</td>\n",
       "      <td>135</td>\n",
       "      <td>WEST   45 STREET</td>\n",
       "      <td>10036.00</td>\n",
       "      <td>6466403775</td>\n",
       "      <td>American</td>\n",
       "      <td>07/26/2018</td>\n",
       "      <td>Violations were cited in the following area(s).</td>\n",
       "      <td>10B</td>\n",
       "      <td>Plumbing not properly installed or maintained; anti-siphonage or backflow prevention device not provided where required; equipment or floor not properly drained; sewage disposal system in disrepai...</td>\n",
       "      <td>Not Critical</td>\n",
       "      <td>49</td>\n",
       "      <td>NaN</td>\n",
       "      <td>NaN</td>\n",
       "      <td>03/24/2022</td>\n",
       "      <td>Cycle Inspection / Initial Inspection</td>\n",
       "      <td>40.76</td>\n",
       "      <td>-73.98</td>\n",
       "      <td>105.00</td>\n",
       "      <td>4.00</td>\n",
       "      <td>11900.00</td>\n",
       "      <td>1089796.00</td>\n",
       "      <td>1009980015.00</td>\n",
       "      <td>MN17</td>\n",
       "    </tr>\n",
       "    <tr>\n",
       "      <th>186225</th>\n",
       "      <td>41640824</td>\n",
       "      <td>RICURAS ECUADORIAN BAKERY</td>\n",
       "      <td>Bronx</td>\n",
       "      <td>1576</td>\n",
       "      <td>WATSON AVENUE</td>\n",
       "      <td>10472.00</td>\n",
       "      <td>7184508363</td>\n",
       "      <td>Spanish</td>\n",
       "      <td>07/20/2018</td>\n",
       "      <td>Violations were cited in the following area(s).</td>\n",
       "      <td>06F</td>\n",
       "      <td>Wiping cloths soiled or not stored in sanitizing solution.</td>\n",
       "      <td>Critical</td>\n",
       "      <td>12</td>\n",
       "      <td>A</td>\n",
       "      <td>07/20/2018</td>\n",
       "      <td>03/24/2022</td>\n",
       "      <td>Cycle Inspection / Initial Inspection</td>\n",
       "      <td>40.83</td>\n",
       "      <td>-73.88</td>\n",
       "      <td>209.00</td>\n",
       "      <td>18.00</td>\n",
       "      <td>5001.00</td>\n",
       "      <td>2023533.00</td>\n",
       "      <td>2037160036.00</td>\n",
       "      <td>BX55</td>\n",
       "    </tr>\n",
       "    <tr>\n",
       "      <th>186226</th>\n",
       "      <td>41450971</td>\n",
       "      <td>GIOVANNI'S RESTAURANT</td>\n",
       "      <td>Bronx</td>\n",
       "      <td>3209</td>\n",
       "      <td>WESTCHESTER AVENUE</td>\n",
       "      <td>10461.00</td>\n",
       "      <td>7188924340</td>\n",
       "      <td>Pizza</td>\n",
       "      <td>06/21/2017</td>\n",
       "      <td>Violations were cited in the following area(s).</td>\n",
       "      <td>06D</td>\n",
       "      <td>Food contact surface not properly washed, rinsed and sanitized after each use and following any activity when contamination may have occurred.</td>\n",
       "      <td>Critical</td>\n",
       "      <td>16</td>\n",
       "      <td>NaN</td>\n",
       "      <td>NaN</td>\n",
       "      <td>03/24/2022</td>\n",
       "      <td>Cycle Inspection / Initial Inspection</td>\n",
       "      <td>40.85</td>\n",
       "      <td>-73.83</td>\n",
       "      <td>210.00</td>\n",
       "      <td>13.00</td>\n",
       "      <td>30000.00</td>\n",
       "      <td>2047655.00</td>\n",
       "      <td>2042450020.00</td>\n",
       "      <td>BX10</td>\n",
       "    </tr>\n",
       "  </tbody>\n",
       "</table>\n",
       "<p>186227 rows × 26 columns</p>\n",
       "</div>"
      ],
      "text/plain": [
       "           CAMIS                                 DBA       BORO BUILDING  \\\n",
       "0       50008319                            POULETTE  Manhattan      790   \n",
       "1       41678734                        TINY'S DINER      Bronx     3603   \n",
       "2       40795021                      TAO RESTAURANT  Manhattan       42   \n",
       "3       40795021                      TAO RESTAURANT  Manhattan       42   \n",
       "4       40538234            DUNKIN',' BASKIN ROBBINS     Queens     9925   \n",
       "...          ...                                 ...        ...      ...   \n",
       "186222  41556790  FIVE GUYS FAMOUS BURGERS AND FRIES  Manhattan     2847   \n",
       "186223  50032876                      TANNER SMITH'S  Manhattan      204   \n",
       "186224  50003842                               T- 45  Manhattan      135   \n",
       "186225  41640824           RICURAS ECUADORIAN BAKERY      Bronx     1576   \n",
       "186226  41450971               GIOVANNI'S RESTAURANT      Bronx     3209   \n",
       "\n",
       "                           STREET  ZIPCODE       PHONE CUISINE DESCRIPTION  \\\n",
       "0                        9 AVENUE 10019.00  2129569488             Chicken   \n",
       "1                RIVERDALE AVENUE 10463.00  7187087600            American   \n",
       "2                EAST   58 STREET 10022.00  2128882288  Asian/Asian Fusion   \n",
       "3                EAST   58 STREET 10022.00  2128882288  Asian/Asian Fusion   \n",
       "4       HORACE HARDING EXPRESSWAY 11368.00  7182719222              Donuts   \n",
       "...                           ...      ...         ...                 ...   \n",
       "186222                  BROADFWAY      NaN  2126787701          Hamburgers   \n",
       "186223           WEST   55 STREET 10019.00  9175172283            American   \n",
       "186224           WEST   45 STREET 10036.00  6466403775            American   \n",
       "186225              WATSON AVENUE 10472.00  7184508363             Spanish   \n",
       "186226         WESTCHESTER AVENUE 10461.00  7188924340               Pizza   \n",
       "\n",
       "       INSPECTION DATE                                           ACTION  \\\n",
       "0           01/28/2019  Violations were cited in the following area(s).   \n",
       "1           09/23/2019  Violations were cited in the following area(s).   \n",
       "2           03/11/2020  Violations were cited in the following area(s).   \n",
       "3           03/11/2020  Violations were cited in the following area(s).   \n",
       "4           07/29/2021  Violations were cited in the following area(s).   \n",
       "...                ...                                              ...   \n",
       "186222      03/01/2019  Violations were cited in the following area(s).   \n",
       "186223      06/07/2019  Violations were cited in the following area(s).   \n",
       "186224      07/26/2018  Violations were cited in the following area(s).   \n",
       "186225      07/20/2018  Violations were cited in the following area(s).   \n",
       "186226      06/21/2017  Violations were cited in the following area(s).   \n",
       "\n",
       "       VIOLATION CODE  \\\n",
       "0                 04D   \n",
       "1                 04M   \n",
       "2                 10F   \n",
       "3                 10F   \n",
       "4                 06E   \n",
       "...               ...   \n",
       "186222            10F   \n",
       "186223            08A   \n",
       "186224            10B   \n",
       "186225            06F   \n",
       "186226            06D   \n",
       "\n",
       "                                                                                                                                                                                          VIOLATION DESCRIPTION  \\\n",
       "0                                                 Food worker does not wash hands thoroughly after using the toilet, coughing, sneezing, smoking, eating, preparing raw foods or otherwise contaminating hands.   \n",
       "1                                                                                                                                                Live roaches present in facility's food and/or non-food areas.   \n",
       "2       Non-food contact surface improperly constructed. Unacceptable material used. Non-food contact surface or equipment improperly maintained and/or not properly sealed, raised, spaced or movable to al...   \n",
       "3       Non-food contact surface improperly constructed. Unacceptable material used. Non-food contact surface or equipment improperly maintained and/or not properly sealed, raised, spaced or movable to al...   \n",
       "4                                                                                                          Sanitized equipment or utensil, including in-use food dispensing utensil, improperly used or stored.   \n",
       "...                                                                                                                                                                                                         ...   \n",
       "186222  Non-food contact surface improperly constructed. Unacceptable material used. Non-food contact surface or equipment improperly maintained and/or not properly sealed, raised, spaced or movable to al...   \n",
       "186223                                                                       Facility not vermin proof. Harborage or conditions conducive to attracting vermin to the premises and/or allowing vermin to exist.   \n",
       "186224  Plumbing not properly installed or maintained; anti-siphonage or backflow prevention device not provided where required; equipment or floor not properly drained; sewage disposal system in disrepai...   \n",
       "186225                                                                                                                                               Wiping cloths soiled or not stored in sanitizing solution.   \n",
       "186226                                                           Food contact surface not properly washed, rinsed and sanitized after each use and following any activity when contamination may have occurred.   \n",
       "\n",
       "       CRITICAL FLAG  SCORE GRADE  GRADE DATE RECORD DATE  \\\n",
       "0           Critical     22   NaN         NaN  03/24/2022   \n",
       "1           Critical     24   NaN         NaN  03/24/2022   \n",
       "2       Not Critical      9   NaN         NaN  03/24/2022   \n",
       "3       Not Critical      9   NaN         NaN  03/24/2022   \n",
       "4           Critical     10     A  07/29/2021  03/24/2022   \n",
       "...              ...    ...   ...         ...         ...   \n",
       "186222  Not Critical      3     A  03/01/2019  03/24/2022   \n",
       "186223  Not Critical     12     A  06/07/2019  03/24/2022   \n",
       "186224  Not Critical     49   NaN         NaN  03/24/2022   \n",
       "186225      Critical     12     A  07/20/2018  03/24/2022   \n",
       "186226      Critical     16   NaN         NaN  03/24/2022   \n",
       "\n",
       "                              INSPECTION TYPE  Latitude  Longitude  \\\n",
       "0       Cycle Inspection / Initial Inspection     40.77     -73.99   \n",
       "1       Cycle Inspection / Initial Inspection     40.89     -73.91   \n",
       "2       Cycle Inspection / Initial Inspection     40.76     -73.97   \n",
       "3       Cycle Inspection / Initial Inspection     40.76     -73.97   \n",
       "4       Cycle Inspection / Initial Inspection     40.74     -73.86   \n",
       "...                                       ...       ...        ...   \n",
       "186222  Cycle Inspection / Initial Inspection      0.00       0.00   \n",
       "186223  Cycle Inspection / Initial Inspection     40.76     -73.98   \n",
       "186224  Cycle Inspection / Initial Inspection     40.76     -73.98   \n",
       "186225  Cycle Inspection / Initial Inspection     40.83     -73.88   \n",
       "186226  Cycle Inspection / Initial Inspection     40.85     -73.83   \n",
       "\n",
       "        Community Board  Council District  Census Tract        BIN  \\\n",
       "0                104.00              3.00      13300.00 1025235.00   \n",
       "1                208.00             11.00      29500.00 2084186.00   \n",
       "2                105.00              4.00      11202.00 1036073.00   \n",
       "3                105.00              4.00      11202.00 1036073.00   \n",
       "4                404.00             21.00      43702.00 4047915.00   \n",
       "...                 ...               ...           ...        ...   \n",
       "186222              NaN               NaN           NaN        NaN   \n",
       "186223           105.00              4.00      13700.00 1024857.00   \n",
       "186224           105.00              4.00      11900.00 1089796.00   \n",
       "186225           209.00             18.00       5001.00 2023533.00   \n",
       "186226           210.00             13.00      30000.00 2047655.00   \n",
       "\n",
       "                 BBL   NTA  \n",
       "0      1010430004.00  MN15  \n",
       "1      2057960167.00  BX29  \n",
       "2      1012930047.00  MN17  \n",
       "3      1012930047.00  MN17  \n",
       "4      4019480019.00  QN25  \n",
       "...              ...   ...  \n",
       "186222          1.00   NaN  \n",
       "186223 1010260037.00  MN17  \n",
       "186224 1009980015.00  MN17  \n",
       "186225 2037160036.00  BX55  \n",
       "186226 2042450020.00  BX10  \n",
       "\n",
       "[186227 rows x 26 columns]"
      ]
     },
     "execution_count": 6,
     "metadata": {},
     "output_type": "execute_result"
    }
   ],
   "source": [
    "doh_df = pd.read_csv('data/nyc_open_data/DOHMH_New_York_City_Restaurant_Inspection_Results.csv')\n",
    "doh_df"
   ]
  },
  {
   "cell_type": "markdown",
   "metadata": {},
   "source": [
    "The dataset contains 186,227 inspection results. However, when an inspection results in more than one violation, values for associated fields are repeated for each additional violation record. So let's check how many individual restaurants are in the dataset."
   ]
  },
  {
   "cell_type": "markdown",
   "metadata": {},
   "source": [
    "### Understanding NYC DOHMH Data"
   ]
  },
  {
   "cell_type": "code",
   "execution_count": 8,
   "metadata": {
    "ExecuteTime": {
     "end_time": "2022-05-11T02:24:19.200782Z",
     "start_time": "2022-05-11T02:24:19.190830Z"
    }
   },
   "outputs": [
    {
     "name": "stdout",
     "output_type": "stream",
     "text": [
      "There are 19792 unique restaurants in the dataset. \n"
     ]
    }
   ],
   "source": [
    "# How many unique restaurants are in this dataset?\n",
    "n_unique = doh_df['CAMIS'].nunique()\n",
    "print(f'There are {n_unique} unique restaurants in the dataset. ')"
   ]
  },
  {
   "cell_type": "code",
   "execution_count": 7,
   "metadata": {
    "ExecuteTime": {
     "end_time": "2022-05-11T02:24:18.015750Z",
     "start_time": "2022-05-11T02:24:17.406809Z"
    },
    "scrolled": true
   },
   "outputs": [
    {
     "name": "stdout",
     "output_type": "stream",
     "text": [
      "<class 'pandas.core.frame.DataFrame'>\n",
      "RangeIndex: 186227 entries, 0 to 186226\n",
      "Data columns (total 26 columns):\n",
      " #   Column                 Non-Null Count   Dtype  \n",
      "---  ------                 --------------   -----  \n",
      " 0   CAMIS                  186227 non-null  int64  \n",
      " 1   DBA                    186200 non-null  object \n",
      " 2   BORO                   186227 non-null  object \n",
      " 3   BUILDING               185799 non-null  object \n",
      " 4   STREET                 186227 non-null  object \n",
      " 5   ZIPCODE                183146 non-null  float64\n",
      " 6   PHONE                  186214 non-null  object \n",
      " 7   CUISINE DESCRIPTION    186226 non-null  object \n",
      " 8   INSPECTION DATE        186227 non-null  object \n",
      " 9   ACTION                 186227 non-null  object \n",
      " 10  VIOLATION CODE         185413 non-null  object \n",
      " 11  VIOLATION DESCRIPTION  185863 non-null  object \n",
      " 12  CRITICAL FLAG          186227 non-null  object \n",
      " 13  SCORE                  186227 non-null  int64  \n",
      " 14  GRADE                  67933 non-null   object \n",
      " 15  GRADE DATE             67238 non-null   object \n",
      " 16  RECORD DATE            186227 non-null  object \n",
      " 17  INSPECTION TYPE        186227 non-null  object \n",
      " 18  Latitude               186069 non-null  float64\n",
      " 19  Longitude              186069 non-null  float64\n",
      " 20  Community Board        182624 non-null  float64\n",
      " 21  Council District       182629 non-null  float64\n",
      " 22  Census Tract           182629 non-null  float64\n",
      " 23  BIN                    181803 non-null  float64\n",
      " 24  BBL                    185705 non-null  float64\n",
      " 25  NTA                    182624 non-null  object \n",
      "dtypes: float64(8), int64(2), object(16)\n",
      "memory usage: 36.9+ MB\n"
     ]
    }
   ],
   "source": [
    "# Get more information about the dataset contents\n",
    "doh_df.info()"
   ]
  },
  {
   "cell_type": "code",
   "execution_count": 9,
   "metadata": {
    "ExecuteTime": {
     "end_time": "2022-05-11T02:24:23.875286Z",
     "start_time": "2022-05-11T02:24:23.703398Z"
    }
   },
   "outputs": [
    {
     "data": {
      "text/plain": [
       "0         10019.0\n",
       "1         10463.0\n",
       "2         10022.0\n",
       "3         10022.0\n",
       "4         11368.0\n",
       "           ...   \n",
       "186222        nan\n",
       "186223    10019.0\n",
       "186224    10036.0\n",
       "186225    10472.0\n",
       "186226    10461.0\n",
       "Name: ZIPCODE, Length: 186227, dtype: object"
      ]
     },
     "execution_count": 9,
     "metadata": {},
     "output_type": "execute_result"
    }
   ],
   "source": [
    "doh_df['ZIPCODE'].astype(str)"
   ]
  },
  {
   "cell_type": "code",
   "execution_count": 10,
   "metadata": {
    "ExecuteTime": {
     "end_time": "2022-05-11T02:24:24.374515Z",
     "start_time": "2022-05-11T02:24:24.212364Z"
    }
   },
   "outputs": [
    {
     "data": {
      "text/plain": [
       "0         104.0\n",
       "1         208.0\n",
       "2         105.0\n",
       "3         105.0\n",
       "4         404.0\n",
       "          ...  \n",
       "186222      nan\n",
       "186223    105.0\n",
       "186224    105.0\n",
       "186225    209.0\n",
       "186226    210.0\n",
       "Name: Community Board, Length: 186227, dtype: object"
      ]
     },
     "execution_count": 10,
     "metadata": {},
     "output_type": "execute_result"
    }
   ],
   "source": [
    "doh_df['Community Board'].astype(str)"
   ]
  },
  {
   "cell_type": "code",
   "execution_count": 11,
   "metadata": {
    "ExecuteTime": {
     "end_time": "2022-05-11T02:24:25.142033Z",
     "start_time": "2022-05-11T02:24:25.006894Z"
    }
   },
   "outputs": [
    {
     "data": {
      "text/plain": [
       "0          3.0\n",
       "1         11.0\n",
       "2          4.0\n",
       "3          4.0\n",
       "4         21.0\n",
       "          ... \n",
       "186222     nan\n",
       "186223     4.0\n",
       "186224     4.0\n",
       "186225    18.0\n",
       "186226    13.0\n",
       "Name: Council District, Length: 186227, dtype: object"
      ]
     },
     "execution_count": 11,
     "metadata": {},
     "output_type": "execute_result"
    }
   ],
   "source": [
    "doh_df['Council District'].astype(str)"
   ]
  },
  {
   "cell_type": "code",
   "execution_count": 12,
   "metadata": {
    "ExecuteTime": {
     "end_time": "2022-05-11T02:24:25.617259Z",
     "start_time": "2022-05-11T02:24:25.466228Z"
    }
   },
   "outputs": [
    {
     "data": {
      "text/plain": [
       "0         13300.0\n",
       "1         29500.0\n",
       "2         11202.0\n",
       "3         11202.0\n",
       "4         43702.0\n",
       "           ...   \n",
       "186222        nan\n",
       "186223    13700.0\n",
       "186224    11900.0\n",
       "186225     5001.0\n",
       "186226    30000.0\n",
       "Name: Census Tract, Length: 186227, dtype: object"
      ]
     },
     "execution_count": 12,
     "metadata": {},
     "output_type": "execute_result"
    }
   ],
   "source": [
    "doh_df['Census Tract'].astype(str)"
   ]
  },
  {
   "cell_type": "markdown",
   "metadata": {},
   "source": [
    "Every row has a restaurant ID, address, date, and score. Let's ensure there aren't any duplicated rows."
   ]
  },
  {
   "cell_type": "code",
   "execution_count": 13,
   "metadata": {
    "ExecuteTime": {
     "end_time": "2022-05-11T02:24:26.694862Z",
     "start_time": "2022-05-11T02:24:26.019998Z"
    }
   },
   "outputs": [
    {
     "name": "stdout",
     "output_type": "stream",
     "text": [
      "There are 22010 duplicated rows. \n"
     ]
    }
   ],
   "source": [
    "print(f'There are {doh_df.duplicated(keep=False).sum()} duplicated rows. ')"
   ]
  },
  {
   "cell_type": "code",
   "execution_count": 14,
   "metadata": {
    "ExecuteTime": {
     "end_time": "2022-05-11T02:24:27.405583Z",
     "start_time": "2022-05-11T02:24:26.701517Z"
    }
   },
   "outputs": [],
   "source": [
    "# Let's drop these duplucated rows\n",
    "doh_df.drop_duplicates(keep='first',inplace=True)"
   ]
  },
  {
   "cell_type": "code",
   "execution_count": 15,
   "metadata": {
    "ExecuteTime": {
     "end_time": "2022-05-11T02:24:27.418036Z",
     "start_time": "2022-05-11T02:24:27.410435Z"
    }
   },
   "outputs": [
    {
     "data": {
      "text/plain": [
       "(174725, 26)"
      ]
     },
     "execution_count": 15,
     "metadata": {},
     "output_type": "execute_result"
    }
   ],
   "source": [
    "# Confirming duplicates have been removed\n",
    "doh_df.shape"
   ]
  },
  {
   "cell_type": "markdown",
   "metadata": {},
   "source": [
    "Since this project will be leveraging data publicly generated from social media a lookup value will be needed to call the API and join the tables. The Yelp API has an endpoint for Phone Search. This will allow us to pull Yelp business data for each restaurant by proivinging a telephone number. More infomration can be found in the [documentation here.](https://www.yelp.com/developers/documentation/v3/business_search_phone)"
   ]
  },
  {
   "cell_type": "code",
   "execution_count": 16,
   "metadata": {
    "ExecuteTime": {
     "end_time": "2022-05-11T02:24:27.445194Z",
     "start_time": "2022-05-11T02:24:27.422562Z"
    }
   },
   "outputs": [
    {
     "name": "stdout",
     "output_type": "stream",
     "text": [
      "There are 13 restaunts missing a telephone number.\n"
     ]
    }
   ],
   "source": [
    "# Checking that every restaunt has a phone number\n",
    "missing_num = doh_df['PHONE'].isna().sum()\n",
    "print(f'There are {missing_num} restaunts missing a telephone number.')"
   ]
  },
  {
   "cell_type": "code",
   "execution_count": 17,
   "metadata": {
    "ExecuteTime": {
     "end_time": "2022-05-11T02:24:27.570657Z",
     "start_time": "2022-05-11T02:24:27.448678Z"
    }
   },
   "outputs": [],
   "source": [
    "# Since only 13 numbers are missing, these rows can be dropped\n",
    "doh_df.dropna(subset=['PHONE'],inplace=True)"
   ]
  },
  {
   "cell_type": "code",
   "execution_count": 18,
   "metadata": {
    "ExecuteTime": {
     "end_time": "2022-05-11T02:24:27.599133Z",
     "start_time": "2022-05-11T02:24:27.578599Z"
    }
   },
   "outputs": [
    {
     "data": {
      "text/plain": [
       "0"
      ]
     },
     "execution_count": 18,
     "metadata": {},
     "output_type": "execute_result"
    }
   ],
   "source": [
    "# Confirming records were dropped\n",
    "doh_df['PHONE'].isna().sum()"
   ]
  },
  {
   "cell_type": "code",
   "execution_count": 19,
   "metadata": {
    "ExecuteTime": {
     "end_time": "2022-05-11T02:24:27.912511Z",
     "start_time": "2022-05-11T02:24:27.896485Z"
    }
   },
   "outputs": [
    {
     "name": "stdout",
     "output_type": "stream",
     "text": [
      "There are 19790 unique restaurants remaining in the dataset. \n"
     ]
    }
   ],
   "source": [
    "# How many unique restaurants are remaining?\n",
    "n_unique = doh_df['CAMIS'].nunique()\n",
    "print(f'There are {n_unique} unique restaurants remaining in the dataset. ')"
   ]
  },
  {
   "cell_type": "markdown",
   "metadata": {},
   "source": [
    "Let's explore the date range for this dataset."
   ]
  },
  {
   "cell_type": "code",
   "execution_count": 20,
   "metadata": {
    "ExecuteTime": {
     "end_time": "2022-05-11T02:24:28.595851Z",
     "start_time": "2022-05-11T02:24:28.348623Z"
    }
   },
   "outputs": [
    {
     "name": "stdout",
     "output_type": "stream",
     "text": [
      "The data ranges from 2009-05-16 00:00:00 to 2022-03-23 00:00:00\n"
     ]
    }
   ],
   "source": [
    "doh_df['INSPECTION DATE'] =  pd.to_datetime(doh_df['INSPECTION DATE'])\n",
    "begin_date = doh_df['INSPECTION DATE'].min()\n",
    "end_date = doh_df['INSPECTION DATE'].max()\n",
    "print(f'The data ranges from {begin_date} to {end_date}')"
   ]
  },
  {
   "cell_type": "markdown",
   "metadata": {},
   "source": [
    "Inspections in this dataset range from May 2009 up to March 2022."
   ]
  },
  {
   "cell_type": "markdown",
   "metadata": {},
   "source": [
    "### Target Variable -- NYCDOH Inspection Grades"
   ]
  },
  {
   "cell_type": "markdown",
   "metadata": {},
   "source": [
    "Health code violations found during an inspections carries a point value, and a restaurant’s score corresponds to a letter grade. A lower point score, leads to a better letter grade:\n",
    "\n",
    "* \"A\" grade: 0 to 13 points for sanitary violations\n",
    "* \"B\" grade: 14 to 27 points for sanitary violations\n",
    "* \"C\" grade: 28 or more points for sanitary violations"
   ]
  },
  {
   "cell_type": "code",
   "execution_count": 21,
   "metadata": {
    "ExecuteTime": {
     "end_time": "2022-05-11T02:24:29.862796Z",
     "start_time": "2022-05-11T02:24:29.189807Z"
    }
   },
   "outputs": [
    {
     "data": {
      "image/png": "[encoded data removed]",
      "text/plain": [
       "<Figure size 864x432 with 1 Axes>"
      ]
     },
     "metadata": {
      "needs_background": "light"
     },
     "output_type": "display_data"
    }
   ],
   "source": [
    "# Let see what the score distribution is\n",
    "doh_df['SCORE'].hist(bins=113, figsize=(12,6));"
   ]
  },
  {
   "cell_type": "code",
   "execution_count": 22,
   "metadata": {
    "ExecuteTime": {
     "end_time": "2022-05-11T02:24:29.892846Z",
     "start_time": "2022-05-11T02:24:29.867572Z"
    }
   },
   "outputs": [
    {
     "data": {
      "text/plain": [
       "count   174712.00\n",
       "mean        21.36\n",
       "std         14.36\n",
       "min          0.00\n",
       "25%         12.00\n",
       "50%         18.00\n",
       "75%         27.00\n",
       "max        131.00\n",
       "Name: SCORE, dtype: float64"
      ]
     },
     "execution_count": 22,
     "metadata": {},
     "output_type": "execute_result"
    }
   ],
   "source": [
    "doh_df['SCORE'].describe()"
   ]
  },
  {
   "cell_type": "code",
   "execution_count": null,
   "metadata": {},
   "outputs": [],
   "source": []
  },
  {
   "cell_type": "code",
   "execution_count": 23,
   "metadata": {
    "ExecuteTime": {
     "end_time": "2022-05-11T02:24:30.016018Z",
     "start_time": "2022-05-11T02:24:29.961645Z"
    }
   },
   "outputs": [],
   "source": [
    "doh_graded = doh_df.copy()"
   ]
  },
  {
   "cell_type": "code",
   "execution_count": 24,
   "metadata": {
    "ExecuteTime": {
     "end_time": "2022-05-11T02:24:30.177473Z",
     "start_time": "2022-05-11T02:24:30.124906Z"
    }
   },
   "outputs": [],
   "source": [
    "doh_graded.drop(columns=['INSPECTION DATE', 'ACTION', 'VIOLATION CODE',\n",
    "       'VIOLATION DESCRIPTION', 'CRITICAL FLAG','GRADE',\n",
    "       'GRADE DATE', 'RECORD DATE', 'INSPECTION TYPE'],inplace=True)"
   ]
  },
  {
   "cell_type": "code",
   "execution_count": 25,
   "metadata": {
    "ExecuteTime": {
     "end_time": "2022-05-11T02:24:30.379236Z",
     "start_time": "2022-05-11T02:24:30.357630Z"
    }
   },
   "outputs": [],
   "source": [
    "doh_graded['A'] = (doh_graded['SCORE'] < 14).astype(int)\n",
    "doh_graded['B'] = (doh_graded['SCORE'] > 13).astype(int) & (doh_df['SCORE'] < 28).astype(int)\n",
    "doh_graded['C'] = (doh_graded['SCORE'] > 27).astype(int)"
   ]
  },
  {
   "cell_type": "code",
   "execution_count": 26,
   "metadata": {
    "ExecuteTime": {
     "end_time": "2022-05-11T02:24:32.358344Z",
     "start_time": "2022-05-11T02:24:30.607607Z"
    }
   },
   "outputs": [],
   "source": [
    "doh_grouped = doh_graded.groupby(by=['CAMIS', 'DBA','CUISINE DESCRIPTION',\n",
    "                                     'BORO', 'BUILDING',\n",
    "                                     'STREET', 'ZIPCODE', 'PHONE', 'Latitude',\n",
    "                                     'Longitude', 'Community Board',\n",
    "                                     'Council District','Census Tract'],dropna=False)['A','B','C'].sum()"
   ]
  },
  {
   "cell_type": "code",
   "execution_count": 27,
   "metadata": {
    "ExecuteTime": {
     "end_time": "2022-05-11T02:24:32.377620Z",
     "start_time": "2022-05-11T02:24:32.363219Z"
    }
   },
   "outputs": [
    {
     "data": {
      "text/plain": [
       "9977"
      ]
     },
     "execution_count": 27,
     "metadata": {},
     "output_type": "execute_result"
    }
   ],
   "source": [
    "(doh_grouped['B'] > 0).sum()"
   ]
  },
  {
   "cell_type": "markdown",
   "metadata": {},
   "source": [
    "Of the 19,790 unique restaurants, 9,977 failed an initial cycle inspection at least once."
   ]
  },
  {
   "cell_type": "code",
   "execution_count": 28,
   "metadata": {
    "ExecuteTime": {
     "end_time": "2022-05-11T02:24:32.975394Z",
     "start_time": "2022-05-11T02:24:32.961898Z"
    }
   },
   "outputs": [
    {
     "data": {
      "text/plain": [
       "5648"
      ]
     },
     "execution_count": 28,
     "metadata": {},
     "output_type": "execute_result"
    }
   ],
   "source": [
    "(doh_grouped['C'] > 0).sum()"
   ]
  },
  {
   "cell_type": "markdown",
   "metadata": {},
   "source": [
    "Of the 19,790 unique restaurants, 5,648 severly failed an initial cycle inspection at least once and are at risk of being closed by the DOHMH."
   ]
  },
  {
   "cell_type": "code",
   "execution_count": null,
   "metadata": {},
   "outputs": [],
   "source": []
  },
  {
   "cell_type": "code",
   "execution_count": 29,
   "metadata": {
    "ExecuteTime": {
     "end_time": "2022-05-11T02:24:33.581198Z",
     "start_time": "2022-05-11T02:24:33.567177Z"
    }
   },
   "outputs": [],
   "source": [
    "# Creating the Target Variable 'Severe' for Restaurants that have scored over 28 points in an initial inspection.\n",
    "doh_grouped['Severe'] = (doh_grouped['C'] > 0).astype(int)"
   ]
  },
  {
   "cell_type": "code",
   "execution_count": 30,
   "metadata": {
    "ExecuteTime": {
     "end_time": "2022-05-11T02:24:33.836481Z",
     "start_time": "2022-05-11T02:24:33.779021Z"
    }
   },
   "outputs": [
    {
     "data": {
      "text/html": [
       "<div>\n",
       "<style scoped>\n",
       "    .dataframe tbody tr th:only-of-type {\n",
       "        vertical-align: middle;\n",
       "    }\n",
       "\n",
       "    .dataframe tbody tr th {\n",
       "        vertical-align: top;\n",
       "    }\n",
       "\n",
       "    .dataframe thead th {\n",
       "        text-align: right;\n",
       "    }\n",
       "</style>\n",
       "<table border=\"1\" class=\"dataframe\">\n",
       "  <thead>\n",
       "    <tr style=\"text-align: right;\">\n",
       "      <th></th>\n",
       "      <th>CAMIS</th>\n",
       "      <th>DBA</th>\n",
       "      <th>CUISINE DESCRIPTION</th>\n",
       "      <th>BORO</th>\n",
       "      <th>BUILDING</th>\n",
       "      <th>STREET</th>\n",
       "      <th>ZIPCODE</th>\n",
       "      <th>PHONE</th>\n",
       "      <th>Latitude</th>\n",
       "      <th>Longitude</th>\n",
       "      <th>Community Board</th>\n",
       "      <th>Council District</th>\n",
       "      <th>Census Tract</th>\n",
       "      <th>Severe</th>\n",
       "    </tr>\n",
       "  </thead>\n",
       "  <tbody>\n",
       "    <tr>\n",
       "      <th>0</th>\n",
       "      <td>30075445</td>\n",
       "      <td>MORRIS PARK BAKE SHOP</td>\n",
       "      <td>Bakery Products/Desserts</td>\n",
       "      <td>Bronx</td>\n",
       "      <td>1007</td>\n",
       "      <td>MORRIS PARK AVENUE</td>\n",
       "      <td>10462.00</td>\n",
       "      <td>7188924968</td>\n",
       "      <td>40.85</td>\n",
       "      <td>-73.86</td>\n",
       "      <td>211.00</td>\n",
       "      <td>13.00</td>\n",
       "      <td>25200.00</td>\n",
       "      <td>0</td>\n",
       "    </tr>\n",
       "    <tr>\n",
       "      <th>1</th>\n",
       "      <td>30112340</td>\n",
       "      <td>WENDY'S</td>\n",
       "      <td>Hamburgers</td>\n",
       "      <td>Brooklyn</td>\n",
       "      <td>469</td>\n",
       "      <td>FLATBUSH AVENUE</td>\n",
       "      <td>11225.00</td>\n",
       "      <td>7182875005</td>\n",
       "      <td>40.66</td>\n",
       "      <td>-73.96</td>\n",
       "      <td>309.00</td>\n",
       "      <td>40.00</td>\n",
       "      <td>32700.00</td>\n",
       "      <td>0</td>\n",
       "    </tr>\n",
       "    <tr>\n",
       "      <th>2</th>\n",
       "      <td>30191841</td>\n",
       "      <td>DJ REYNOLDS PUB AND RESTAURANT</td>\n",
       "      <td>Irish</td>\n",
       "      <td>Manhattan</td>\n",
       "      <td>351</td>\n",
       "      <td>WEST   57 STREET</td>\n",
       "      <td>10019.00</td>\n",
       "      <td>2122452912</td>\n",
       "      <td>40.77</td>\n",
       "      <td>-73.98</td>\n",
       "      <td>104.00</td>\n",
       "      <td>3.00</td>\n",
       "      <td>13900.00</td>\n",
       "      <td>0</td>\n",
       "    </tr>\n",
       "    <tr>\n",
       "      <th>3</th>\n",
       "      <td>40356018</td>\n",
       "      <td>RIVIERA CATERERS</td>\n",
       "      <td>American</td>\n",
       "      <td>Brooklyn</td>\n",
       "      <td>2780</td>\n",
       "      <td>STILLWELL AVENUE</td>\n",
       "      <td>11224.00</td>\n",
       "      <td>7183723031</td>\n",
       "      <td>40.58</td>\n",
       "      <td>-73.98</td>\n",
       "      <td>313.00</td>\n",
       "      <td>47.00</td>\n",
       "      <td>34800.00</td>\n",
       "      <td>0</td>\n",
       "    </tr>\n",
       "    <tr>\n",
       "      <th>4</th>\n",
       "      <td>40356483</td>\n",
       "      <td>WILKEN'S FINE FOOD</td>\n",
       "      <td>Sandwiches</td>\n",
       "      <td>Brooklyn</td>\n",
       "      <td>7114</td>\n",
       "      <td>AVENUE U</td>\n",
       "      <td>11234.00</td>\n",
       "      <td>7184443838</td>\n",
       "      <td>40.62</td>\n",
       "      <td>-73.91</td>\n",
       "      <td>318.00</td>\n",
       "      <td>46.00</td>\n",
       "      <td>70000.00</td>\n",
       "      <td>0</td>\n",
       "    </tr>\n",
       "    <tr>\n",
       "      <th>...</th>\n",
       "      <td>...</td>\n",
       "      <td>...</td>\n",
       "      <td>...</td>\n",
       "      <td>...</td>\n",
       "      <td>...</td>\n",
       "      <td>...</td>\n",
       "      <td>...</td>\n",
       "      <td>...</td>\n",
       "      <td>...</td>\n",
       "      <td>...</td>\n",
       "      <td>...</td>\n",
       "      <td>...</td>\n",
       "      <td>...</td>\n",
       "      <td>...</td>\n",
       "    </tr>\n",
       "    <tr>\n",
       "      <th>19785</th>\n",
       "      <td>50115169</td>\n",
       "      <td>Sobak</td>\n",
       "      <td>Korean</td>\n",
       "      <td>Manhattan</td>\n",
       "      <td>51</td>\n",
       "      <td>CANAL STREET</td>\n",
       "      <td>10002.00</td>\n",
       "      <td>9294018597</td>\n",
       "      <td>40.71</td>\n",
       "      <td>-73.99</td>\n",
       "      <td>103.00</td>\n",
       "      <td>1.00</td>\n",
       "      <td>1600.00</td>\n",
       "      <td>0</td>\n",
       "    </tr>\n",
       "    <tr>\n",
       "      <th>19786</th>\n",
       "      <td>50116155</td>\n",
       "      <td>SEPTEMBER</td>\n",
       "      <td>Coffee/Tea</td>\n",
       "      <td>Brooklyn</td>\n",
       "      <td>83</td>\n",
       "      <td>SARATOGA AVENUE</td>\n",
       "      <td>11233.00</td>\n",
       "      <td>5086491703</td>\n",
       "      <td>40.68</td>\n",
       "      <td>-73.92</td>\n",
       "      <td>316.00</td>\n",
       "      <td>41.00</td>\n",
       "      <td>37300.00</td>\n",
       "      <td>0</td>\n",
       "    </tr>\n",
       "    <tr>\n",
       "      <th>19787</th>\n",
       "      <td>50117350</td>\n",
       "      <td>SONG TEA</td>\n",
       "      <td>Coffee/Tea</td>\n",
       "      <td>Manhattan</td>\n",
       "      <td>488</td>\n",
       "      <td>7 AVENUE</td>\n",
       "      <td>10018.00</td>\n",
       "      <td>6466697802</td>\n",
       "      <td>40.75</td>\n",
       "      <td>-73.99</td>\n",
       "      <td>105.00</td>\n",
       "      <td>3.00</td>\n",
       "      <td>10900.00</td>\n",
       "      <td>0</td>\n",
       "    </tr>\n",
       "    <tr>\n",
       "      <th>19788</th>\n",
       "      <td>50117434</td>\n",
       "      <td>LA POLLERA COLORADA</td>\n",
       "      <td>Spanish</td>\n",
       "      <td>Queens</td>\n",
       "      <td>8213</td>\n",
       "      <td>NORTHERN BLVD</td>\n",
       "      <td>11372.00</td>\n",
       "      <td>7184246531</td>\n",
       "      <td>40.76</td>\n",
       "      <td>-73.89</td>\n",
       "      <td>403.00</td>\n",
       "      <td>25.00</td>\n",
       "      <td>32700.00</td>\n",
       "      <td>1</td>\n",
       "    </tr>\n",
       "    <tr>\n",
       "      <th>19789</th>\n",
       "      <td>50117959</td>\n",
       "      <td>SOL MAYA RESTAURANT</td>\n",
       "      <td>American</td>\n",
       "      <td>Manhattan</td>\n",
       "      <td>2061</td>\n",
       "      <td>2 AVENUE</td>\n",
       "      <td>10029.00</td>\n",
       "      <td>2124106950</td>\n",
       "      <td>40.79</td>\n",
       "      <td>-73.94</td>\n",
       "      <td>111.00</td>\n",
       "      <td>8.00</td>\n",
       "      <td>17000.00</td>\n",
       "      <td>0</td>\n",
       "    </tr>\n",
       "  </tbody>\n",
       "</table>\n",
       "<p>19790 rows × 14 columns</p>\n",
       "</div>"
      ],
      "text/plain": [
       "          CAMIS                             DBA       CUISINE DESCRIPTION  \\\n",
       "0      30075445           MORRIS PARK BAKE SHOP  Bakery Products/Desserts   \n",
       "1      30112340                         WENDY'S                Hamburgers   \n",
       "2      30191841  DJ REYNOLDS PUB AND RESTAURANT                     Irish   \n",
       "3      40356018                RIVIERA CATERERS                  American   \n",
       "4      40356483              WILKEN'S FINE FOOD                Sandwiches   \n",
       "...         ...                             ...                       ...   \n",
       "19785  50115169                           Sobak                    Korean   \n",
       "19786  50116155                       SEPTEMBER                Coffee/Tea   \n",
       "19787  50117350                        SONG TEA                Coffee/Tea   \n",
       "19788  50117434             LA POLLERA COLORADA                   Spanish   \n",
       "19789  50117959             SOL MAYA RESTAURANT                  American   \n",
       "\n",
       "            BORO BUILDING              STREET  ZIPCODE       PHONE  Latitude  \\\n",
       "0          Bronx     1007  MORRIS PARK AVENUE 10462.00  7188924968     40.85   \n",
       "1       Brooklyn      469     FLATBUSH AVENUE 11225.00  7182875005     40.66   \n",
       "2      Manhattan      351    WEST   57 STREET 10019.00  2122452912     40.77   \n",
       "3       Brooklyn     2780    STILLWELL AVENUE 11224.00  7183723031     40.58   \n",
       "4       Brooklyn     7114            AVENUE U 11234.00  7184443838     40.62   \n",
       "...          ...      ...                 ...      ...         ...       ...   \n",
       "19785  Manhattan       51        CANAL STREET 10002.00  9294018597     40.71   \n",
       "19786   Brooklyn       83     SARATOGA AVENUE 11233.00  5086491703     40.68   \n",
       "19787  Manhattan      488            7 AVENUE 10018.00  6466697802     40.75   \n",
       "19788     Queens     8213       NORTHERN BLVD 11372.00  7184246531     40.76   \n",
       "19789  Manhattan     2061            2 AVENUE 10029.00  2124106950     40.79   \n",
       "\n",
       "       Longitude  Community Board  Council District  Census Tract  Severe  \n",
       "0         -73.86           211.00             13.00      25200.00       0  \n",
       "1         -73.96           309.00             40.00      32700.00       0  \n",
       "2         -73.98           104.00              3.00      13900.00       0  \n",
       "3         -73.98           313.00             47.00      34800.00       0  \n",
       "4         -73.91           318.00             46.00      70000.00       0  \n",
       "...          ...              ...               ...           ...     ...  \n",
       "19785     -73.99           103.00              1.00       1600.00       0  \n",
       "19786     -73.92           316.00             41.00      37300.00       0  \n",
       "19787     -73.99           105.00              3.00      10900.00       0  \n",
       "19788     -73.89           403.00             25.00      32700.00       1  \n",
       "19789     -73.94           111.00              8.00      17000.00       0  \n",
       "\n",
       "[19790 rows x 14 columns]"
      ]
     },
     "execution_count": 30,
     "metadata": {},
     "output_type": "execute_result"
    }
   ],
   "source": [
    "nyc_df = doh_grouped.reset_index()\n",
    "nyc_df.drop(['A','B','C'],axis=1, inplace=True)\n",
    "nyc_df"
   ]
  },
  {
   "cell_type": "markdown",
   "metadata": {},
   "source": [
    "#### NYC DOH Data Exploration"
   ]
  },
  {
   "cell_type": "code",
   "execution_count": 31,
   "metadata": {
    "ExecuteTime": {
     "end_time": "2022-05-11T02:24:34.499597Z",
     "start_time": "2022-05-11T02:24:34.489872Z"
    }
   },
   "outputs": [
    {
     "data": {
      "text/plain": [
       "Manhattan        7892\n",
       "Brooklyn         4801\n",
       "Queens           4468\n",
       "Bronx            1920\n",
       "Staten Island     704\n",
       "0                   5\n",
       "Name: BORO, dtype: int64"
      ]
     },
     "execution_count": 31,
     "metadata": {},
     "output_type": "execute_result"
    }
   ],
   "source": [
    "nyc_df['BORO'].value_counts()"
   ]
  },
  {
   "cell_type": "code",
   "execution_count": 32,
   "metadata": {
    "ExecuteTime": {
     "end_time": "2022-05-11T02:24:34.724629Z",
     "start_time": "2022-05-11T02:24:34.705323Z"
    }
   },
   "outputs": [
    {
     "data": {
      "text/plain": [
       "American             4269\n",
       "Chinese              1716\n",
       "Coffee/Tea           1316\n",
       "Pizza                1249\n",
       "Italian               829\n",
       "                     ... \n",
       "Iranian                 3\n",
       "Fruits/Vegetables       2\n",
       "Fusion                  1\n",
       "Chilean                 1\n",
       "Basque                  1\n",
       "Name: CUISINE DESCRIPTION, Length: 84, dtype: int64"
      ]
     },
     "execution_count": 32,
     "metadata": {},
     "output_type": "execute_result"
    }
   ],
   "source": [
    "nyc_df['CUISINE DESCRIPTION'].value_counts()"
   ]
  },
  {
   "cell_type": "code",
   "execution_count": 33,
   "metadata": {
    "ExecuteTime": {
     "end_time": "2022-05-11T02:24:34.961071Z",
     "start_time": "2022-05-11T02:24:34.949696Z"
    }
   },
   "outputs": [
    {
     "data": {
      "text/plain": [
       "10019.00    513\n",
       "10036.00    469\n",
       "10003.00    463\n",
       "10001.00    367\n",
       "10022.00    359\n",
       "           ... \n",
       "10115.00      1\n",
       "10173.00      1\n",
       "10285.00      1\n",
       "10177.00      1\n",
       "10069.00      1\n",
       "Name: ZIPCODE, Length: 221, dtype: int64"
      ]
     },
     "execution_count": 33,
     "metadata": {},
     "output_type": "execute_result"
    }
   ],
   "source": [
    "nyc_df['ZIPCODE'].value_counts()"
   ]
  },
  {
   "cell_type": "markdown",
   "metadata": {},
   "source": [
    "## Obtaining Yelp Buniness and Review Data"
   ]
  },
  {
   "cell_type": "markdown",
   "metadata": {},
   "source": [
    "Now that we have an understanding of the city's inspection results and have explored that dataset it is time to pull in data from the crowd-sourced review platform Yelp."
   ]
  },
  {
   "cell_type": "code",
   "execution_count": 34,
   "metadata": {
    "ExecuteTime": {
     "end_time": "2022-05-11T02:24:35.542328Z",
     "start_time": "2022-05-11T02:24:35.533614Z"
    }
   },
   "outputs": [],
   "source": [
    "# Loading in locally stored API credentials. \n",
    "# You can sign up for access and obtain credentials to the Yelp API here: \n",
    "# https://www.yelp.com/developers/documentation/v3\n",
    "\n",
    "with open('/Users/Rob/.secret/yelp_api.json') as f:\n",
    "    creds = json.load(f)"
   ]
  },
  {
   "cell_type": "code",
   "execution_count": 35,
   "metadata": {
    "ExecuteTime": {
     "end_time": "2022-05-11T02:24:35.815087Z",
     "start_time": "2022-05-11T02:24:35.808247Z"
    }
   },
   "outputs": [
    {
     "data": {
      "text/plain": [
       "dict_keys(['api_key'])"
      ]
     },
     "execution_count": 35,
     "metadata": {},
     "output_type": "execute_result"
    }
   ],
   "source": [
    "# Checking creds were properly loaded in\n",
    "creds.keys()"
   ]
  },
  {
   "cell_type": "markdown",
   "metadata": {},
   "source": [
    "### Yelp Business Search"
   ]
  },
  {
   "cell_type": "code",
   "execution_count": 36,
   "metadata": {
    "ExecuteTime": {
     "end_time": "2022-05-11T02:24:37.100000Z",
     "start_time": "2022-05-11T02:24:37.082440Z"
    }
   },
   "outputs": [
    {
     "name": "stdout",
     "output_type": "stream",
     "text": [
      "There are 18937 unique phone numbers.\n"
     ]
    }
   ],
   "source": [
    "# # Formatting phone numbers provided in the NYCDOH dataset \n",
    "# nyc_df['PHONE'] = '+1'+nyc_df['PHONE']\n",
    "\n",
    "# # Ensure the list contains unique phone numbers only\n",
    "# phone_numbers = set(nyc_df['PHONE'])\n",
    "# phone_numbers = list(phone_numbers)\n",
    "# number_count = len(phone_numbers)\n",
    "# print(f'There are {number_count} unique phone numbers.')"
   ]
  },
  {
   "cell_type": "markdown",
   "metadata": {},
   "source": [
    "So we will call the Yelp API at the Phone Search Endpoint for all the numbers in the `phone_numbers` list. However the API only allows 5000 callers per day so we'll slice the list into smaller list."
   ]
  },
  {
   "cell_type": "code",
   "execution_count": 37,
   "metadata": {
    "ExecuteTime": {
     "end_time": "2022-05-11T02:24:39.030090Z",
     "start_time": "2022-05-11T02:24:39.019392Z"
    }
   },
   "outputs": [],
   "source": [
    "# Slicing the phone list into smaller list to fit under the API daily limit restrictions\n",
    "# phone_numbers1 = phone_numbers[1:1000]\n",
    "# phone_numbers2 = phone_numbers[1000:2000]\n",
    "# phone_numbers3 = phone_numbers[2000:2500]\n",
    "# phone_numbers4 = phone_numbers[2500:3500]\n",
    "# phone_numbers5 = phone_numbers[3500:5000]\n",
    "# phone_numbers6 = phone_numbers[5000:6000]\n",
    "# phone_numbers7 = phone_numbers[6000:7500]\n",
    "# phone_numbers8 = phone_numbers[7500:10000]\n",
    "# phone_numbers9 = phone_numbers[10000:12500]\n",
    "# phone_numbers11 = phone_numbers[15000:17500]\n",
    "# phone_numbers12 = phone_numbers[17500:20000]\n",
    "# phone_numbers9 = phone_numbers[10000:12500]\n",
    "# phone_numbers10 = phone_numbers[12500:15000]\n",
    "# phone_numbers11 = phone_numbers[15000:17500]\n",
    "# phone_numbers12 = phone_numbers[17500:19000]"
   ]
  },
  {
   "cell_type": "code",
   "execution_count": 39,
   "metadata": {
    "ExecuteTime": {
     "end_time": "2022-05-11T02:24:54.518075Z",
     "start_time": "2022-05-11T02:24:54.512123Z"
    }
   },
   "outputs": [],
   "source": [
    "# #Functionizing the Yelp API Phone Search\n",
    "\n",
    "# def get_businesses(phone_numbers):\n",
    "#     \"\"\"Input a list of formatted phone numbers\n",
    "#     (must start with + and include the country code, like +14159083801)\n",
    "#     and returns a corresponding list of Yelp Businesses\"\"\"\n",
    "    \n",
    "#     biz_list = []\n",
    "    \n",
    "#     for number in phone_numbers:\n",
    "#         url = 'https://api.yelp.com/v3/businesses/search/phone'\n",
    "#         headers = {'Authorization': 'Bearer ' + creds['api_key']}\n",
    "#         url_params = {'phone': number}\n",
    "#         response = requests.get(url, headers=headers, params=url_params)\n",
    "#         response_json = response.json()\n",
    "#         biz_list.extend(response_json.get('businesses','U'))\n",
    "        \n",
    "#     while 'U' in biz_list:\n",
    "#         biz_list.remove('U')\n",
    "        \n",
    "#     return biz_list"
   ]
  },
  {
   "cell_type": "code",
   "execution_count": 40,
   "metadata": {
    "ExecuteTime": {
     "end_time": "2022-05-11T02:25:19.886504Z",
     "start_time": "2022-05-11T02:25:19.882357Z"
    }
   },
   "outputs": [],
   "source": [
    "# # Call `get_business` function\n",
    "# if call_apis == True:\n",
    "#     biz_list12 = get_businesses(phone_numbers12)\n",
    "    \n",
    "#     # Save returned list as a DataFrame and .csv file\n",
    "#     biz12_df = pd.DataFrame(biz_list12)\n",
    "#     biz12_df.to_csv('data/yelp_data/yelp_business/yelp_phone12.csv',index=False)"
   ]
  },
  {
   "cell_type": "code",
   "execution_count": 43,
   "metadata": {
    "ExecuteTime": {
     "end_time": "2022-05-11T02:26:33.929605Z",
     "start_time": "2022-05-11T02:26:33.923209Z"
    }
   },
   "outputs": [],
   "source": [
    "# List of files containing Yelp business data\n",
    "fpath = 'data/yelp_data/yelp_businesses/'\n",
    "os.listdir(fpath)\n",
    "query = fpath+\"*.csv\"\n",
    "f_list = glob.glob(query)"
   ]
  },
  {
   "cell_type": "code",
   "execution_count": 44,
   "metadata": {
    "ExecuteTime": {
     "end_time": "2022-05-11T02:26:38.353594Z",
     "start_time": "2022-05-11T02:26:37.883948Z"
    }
   },
   "outputs": [],
   "source": [
    "# Append saved Yelp Business tables to a dict\n",
    "yelp_tables = {}\n",
    "\n",
    "for f in f_list:\n",
    "    temp_df = pd.read_csv(f)\n",
    "    fname = f.replace('data/yelp_data/yelp_businesses/yelp_phone','df_').replace('.csv','')\n",
    "    yelp_tables[fname] = temp_df"
   ]
  },
  {
   "cell_type": "code",
   "execution_count": 45,
   "metadata": {
    "ExecuteTime": {
     "end_time": "2022-05-11T02:26:57.254228Z",
     "start_time": "2022-05-11T02:26:57.246191Z"
    }
   },
   "outputs": [],
   "source": [
    "yelp_df_list = [t for t in list(yelp_tables.keys())]"
   ]
  },
  {
   "cell_type": "code",
   "execution_count": 46,
   "metadata": {
    "ExecuteTime": {
     "end_time": "2022-05-11T02:26:58.490154Z",
     "start_time": "2022-05-11T02:26:58.440313Z"
    }
   },
   "outputs": [
    {
     "data": {
      "text/html": [
       "<div>\n",
       "<style scoped>\n",
       "    .dataframe tbody tr th:only-of-type {\n",
       "        vertical-align: middle;\n",
       "    }\n",
       "\n",
       "    .dataframe tbody tr th {\n",
       "        vertical-align: top;\n",
       "    }\n",
       "\n",
       "    .dataframe thead th {\n",
       "        text-align: right;\n",
       "    }\n",
       "</style>\n",
       "<table border=\"1\" class=\"dataframe\">\n",
       "  <thead>\n",
       "    <tr style=\"text-align: right;\">\n",
       "      <th></th>\n",
       "      <th>id</th>\n",
       "      <th>alias</th>\n",
       "      <th>name</th>\n",
       "      <th>image_url</th>\n",
       "      <th>is_closed</th>\n",
       "      <th>url</th>\n",
       "      <th>review_count</th>\n",
       "      <th>categories</th>\n",
       "      <th>rating</th>\n",
       "      <th>coordinates</th>\n",
       "      <th>transactions</th>\n",
       "      <th>price</th>\n",
       "      <th>location</th>\n",
       "      <th>phone</th>\n",
       "      <th>display_phone</th>\n",
       "    </tr>\n",
       "  </thead>\n",
       "  <tbody>\n",
       "    <tr>\n",
       "      <th>0</th>\n",
       "      <td>RzKR9QcYP03EQ_8DxTxowg</td>\n",
       "      <td>barrio-chino-new-york</td>\n",
       "      <td>Barrio Chino</td>\n",
       "      <td>https://s3-media0.fl.yelpcdn.com/bphoto/dpaRqPZD6xqDZo2ZfOyjnQ/o.jpg</td>\n",
       "      <td>False</td>\n",
       "      <td>https://www.yelp.com/biz/barrio-chino-new-york?adjust_creative=82uXkAt1Tiw7u9_h33zr1A&amp;utm_campaign=yelp_api_v3&amp;utm_medium=api_v3_phone_search&amp;utm_source=82uXkAt1Tiw7u9_h33zr1A</td>\n",
       "      <td>1148</td>\n",
       "      <td>[{'alias': 'mexican', 'title': 'Mexican'}, {'alias': 'bars', 'title': 'Bars'}]</td>\n",
       "      <td>4.00</td>\n",
       "      <td>{'latitude': 40.718022, 'longitude': -73.990026}</td>\n",
       "      <td>['delivery', 'pickup']</td>\n",
       "      <td>$$</td>\n",
       "      <td>{'address1': '253 Broome St', 'address2': None, 'address3': '', 'city': 'New York', 'zip_code': '10002', 'country': 'US', 'state': 'NY', 'display_address': ['253 Broome St', 'New York, NY 10002']}</td>\n",
       "      <td>12122286710</td>\n",
       "      <td>(212) 228-6710</td>\n",
       "    </tr>\n",
       "    <tr>\n",
       "      <th>1</th>\n",
       "      <td>hrP3xLWJ8sLwG_XxEGq61Q</td>\n",
       "      <td>reyes-restaurant-woodside</td>\n",
       "      <td>Reyes Restaurant</td>\n",
       "      <td>https://s3-media0.fl.yelpcdn.com/bphoto/_dwQGccROJaxa-oNIxQsEg/o.jpg</td>\n",
       "      <td>False</td>\n",
       "      <td>https://www.yelp.com/biz/reyes-restaurant-woodside?adjust_creative=82uXkAt1Tiw7u9_h33zr1A&amp;utm_campaign=yelp_api_v3&amp;utm_medium=api_v3_phone_search&amp;utm_source=82uXkAt1Tiw7u9_h33zr1A</td>\n",
       "      <td>7</td>\n",
       "      <td>[{'alias': 'latin', 'title': 'Latin American'}, {'alias': 'dominican', 'title': 'Dominican'}]</td>\n",
       "      <td>4.00</td>\n",
       "      <td>{'latitude': 40.7466, 'longitude': -73.9098}</td>\n",
       "      <td>['delivery']</td>\n",
       "      <td>$</td>\n",
       "      <td>{'address1': '4754 46th St', 'address2': '', 'address3': '', 'city': 'Woodside', 'zip_code': '11377', 'country': 'US', 'state': 'NY', 'display_address': ['4754 46th St', 'Woodside, NY 11377']}</td>\n",
       "      <td>17187529577</td>\n",
       "      <td>(718) 752-9577</td>\n",
       "    </tr>\n",
       "    <tr>\n",
       "      <th>2</th>\n",
       "      <td>in7QM4vNUTHVZIi7Outetg</td>\n",
       "      <td>mcdonalds-new-york-430</td>\n",
       "      <td>McDonald's</td>\n",
       "      <td>https://s3-media0.fl.yelpcdn.com/bphoto/bNmu8D1sjwJzbxxP9ZwJOQ/o.jpg</td>\n",
       "      <td>False</td>\n",
       "      <td>https://www.yelp.com/biz/mcdonalds-new-york-430?adjust_creative=82uXkAt1Tiw7u9_h33zr1A&amp;utm_campaign=yelp_api_v3&amp;utm_medium=api_v3_phone_search&amp;utm_source=82uXkAt1Tiw7u9_h33zr1A</td>\n",
       "      <td>103</td>\n",
       "      <td>[{'alias': 'burgers', 'title': 'Burgers'}, {'alias': 'hotdogs', 'title': 'Fast Food'}, {'alias': 'coffee', 'title': 'Coffee &amp; Tea'}]</td>\n",
       "      <td>1.50</td>\n",
       "      <td>{'latitude': 40.7163213865248, 'longitude': -74.0106988300204}</td>\n",
       "      <td>['delivery']</td>\n",
       "      <td>$</td>\n",
       "      <td>{'address1': '167 Chambers St', 'address2': '', 'address3': '', 'city': 'New York', 'zip_code': '10007', 'country': 'US', 'state': 'NY', 'display_address': ['167 Chambers St', 'New York, NY 10007']}</td>\n",
       "      <td>12126082405</td>\n",
       "      <td>(212) 608-2405</td>\n",
       "    </tr>\n",
       "    <tr>\n",
       "      <th>3</th>\n",
       "      <td>F-YGKegXRG2TE-Xw1AWeCA</td>\n",
       "      <td>popeyes-louisiana-kitchen-rockaway-beach-2</td>\n",
       "      <td>Popeyes Louisiana Kitchen</td>\n",
       "      <td>https://s3-media0.fl.yelpcdn.com/bphoto/A4MR2hDN3mWefMUT7bBB2A/o.jpg</td>\n",
       "      <td>False</td>\n",
       "      <td>https://www.yelp.com/biz/popeyes-louisiana-kitchen-rockaway-beach-2?adjust_creative=82uXkAt1Tiw7u9_h33zr1A&amp;utm_campaign=yelp_api_v3&amp;utm_medium=api_v3_phone_search&amp;utm_source=82uXkAt1Tiw7u9_h33zr1A</td>\n",
       "      <td>21</td>\n",
       "      <td>[{'alias': 'hotdogs', 'title': 'Fast Food'}, {'alias': 'seafood', 'title': 'Seafood'}, {'alias': 'chicken_wings', 'title': 'Chicken Wings'}]</td>\n",
       "      <td>2.00</td>\n",
       "      <td>{'latitude': 40.587551867915515, 'longitude': -73.81088484629929}</td>\n",
       "      <td>['pickup', 'delivery']</td>\n",
       "      <td>$</td>\n",
       "      <td>{'address1': '8601 Rockaway Beach Blvd', 'address2': '', 'address3': None, 'city': 'Rockaway Beach', 'zip_code': '11693', 'country': 'US', 'state': 'NY', 'display_address': ['8601 Rockaway Beach B...</td>\n",
       "      <td>17189452815</td>\n",
       "      <td>(718) 945-2815</td>\n",
       "    </tr>\n",
       "    <tr>\n",
       "      <th>4</th>\n",
       "      <td>rYl_R-UILYqA6vYsbNwLsg</td>\n",
       "      <td>joe-coffee-company-new-york-14</td>\n",
       "      <td>Joe Coffee Company</td>\n",
       "      <td>https://s3-media0.fl.yelpcdn.com/bphoto/e-nX3g-MQAN48MDPAv2cIg/o.jpg</td>\n",
       "      <td>False</td>\n",
       "      <td>https://www.yelp.com/biz/joe-coffee-company-new-york-14?adjust_creative=82uXkAt1Tiw7u9_h33zr1A&amp;utm_campaign=yelp_api_v3&amp;utm_medium=api_v3_phone_search&amp;utm_source=82uXkAt1Tiw7u9_h33zr1A</td>\n",
       "      <td>24</td>\n",
       "      <td>[{'alias': 'coffee', 'title': 'Coffee &amp; Tea'}, {'alias': 'coffeeroasteries', 'title': 'Coffee Roasteries'}]</td>\n",
       "      <td>4.00</td>\n",
       "      <td>{'latitude': 40.7126284147746, 'longitude': -74.0128198486877}</td>\n",
       "      <td>[]</td>\n",
       "      <td>$$</td>\n",
       "      <td>{'address1': '185 Greenwich St', 'address2': 'LL3110', 'address3': None, 'city': 'New York', 'zip_code': '10007', 'country': 'US', 'state': 'NY', 'display_address': ['185 Greenwich St', 'LL3110', ...</td>\n",
       "      <td>16467661719</td>\n",
       "      <td>(646) 766-1719</td>\n",
       "    </tr>\n",
       "    <tr>\n",
       "      <th>...</th>\n",
       "      <td>...</td>\n",
       "      <td>...</td>\n",
       "      <td>...</td>\n",
       "      <td>...</td>\n",
       "      <td>...</td>\n",
       "      <td>...</td>\n",
       "      <td>...</td>\n",
       "      <td>...</td>\n",
       "      <td>...</td>\n",
       "      <td>...</td>\n",
       "      <td>...</td>\n",
       "      <td>...</td>\n",
       "      <td>...</td>\n",
       "      <td>...</td>\n",
       "      <td>...</td>\n",
       "    </tr>\n",
       "    <tr>\n",
       "      <th>17297</th>\n",
       "      <td>K_e7_aNgghFLZ2zvjFSNkQ</td>\n",
       "      <td>loreley-beer-garden-new-york-2</td>\n",
       "      <td>Loreley Beer Garden</td>\n",
       "      <td>https://s3-media0.fl.yelpcdn.com/bphoto/RHzuMs1HJjcbSjpkmJIFlg/o.jpg</td>\n",
       "      <td>False</td>\n",
       "      <td>https://www.yelp.com/biz/loreley-beer-garden-new-york-2?adjust_creative=82uXkAt1Tiw7u9_h33zr1A&amp;utm_campaign=yelp_api_v3&amp;utm_medium=api_v3_phone_search&amp;utm_source=82uXkAt1Tiw7u9_h33zr1A</td>\n",
       "      <td>814</td>\n",
       "      <td>[{'alias': 'german', 'title': 'German'}, {'alias': 'beergardens', 'title': 'Beer Gardens'}]</td>\n",
       "      <td>3.50</td>\n",
       "      <td>{'latitude': 40.7212291, 'longitude': -73.992872}</td>\n",
       "      <td>['pickup', 'delivery']</td>\n",
       "      <td>$$</td>\n",
       "      <td>{'address1': '7 Rivington St', 'address2': None, 'address3': '', 'city': 'New York', 'zip_code': '10002', 'country': 'US', 'state': 'NY', 'display_address': ['7 Rivington St', 'New York, NY 10002']}</td>\n",
       "      <td>12122537077</td>\n",
       "      <td>(212) 253-7077</td>\n",
       "    </tr>\n",
       "    <tr>\n",
       "      <th>17298</th>\n",
       "      <td>Pi-AJhThWqhb89mjHU65Nw</td>\n",
       "      <td>majestic-restaurant-bronx</td>\n",
       "      <td>Majestic restaurant</td>\n",
       "      <td>https://s3-media0.fl.yelpcdn.com/bphoto/EpUrURPt_-Cu1sWNwmJbYw/o.jpg</td>\n",
       "      <td>False</td>\n",
       "      <td>https://www.yelp.com/biz/majestic-restaurant-bronx?adjust_creative=82uXkAt1Tiw7u9_h33zr1A&amp;utm_campaign=yelp_api_v3&amp;utm_medium=api_v3_phone_search&amp;utm_source=82uXkAt1Tiw7u9_h33zr1A</td>\n",
       "      <td>17</td>\n",
       "      <td>[{'alias': 'dominican', 'title': 'Dominican'}]</td>\n",
       "      <td>3.00</td>\n",
       "      <td>{'latitude': 40.854152, 'longitude': -73.8840031}</td>\n",
       "      <td>['pickup', 'delivery']</td>\n",
       "      <td>NaN</td>\n",
       "      <td>{'address1': '709 E 187th St', 'address2': None, 'address3': '', 'city': 'bronx', 'zip_code': '10458', 'country': 'US', 'state': 'NY', 'display_address': ['709 E 187th St', 'bronx, NY 10458']}</td>\n",
       "      <td>17186180032</td>\n",
       "      <td>(718) 618-0032</td>\n",
       "    </tr>\n",
       "    <tr>\n",
       "      <th>17299</th>\n",
       "      <td>lEUzamk42G4kkVXFdhExSw</td>\n",
       "      <td>golden-sands-cafe-sheepshead-bay</td>\n",
       "      <td>Golden Sands Cafe</td>\n",
       "      <td>https://s3-media0.fl.yelpcdn.com/bphoto/vUg1wFXfMjRqLdfs8j5a_Q/o.jpg</td>\n",
       "      <td>False</td>\n",
       "      <td>https://www.yelp.com/biz/golden-sands-cafe-sheepshead-bay?adjust_creative=82uXkAt1Tiw7u9_h33zr1A&amp;utm_campaign=yelp_api_v3&amp;utm_medium=api_v3_phone_search&amp;utm_source=82uXkAt1Tiw7u9_h33zr1A</td>\n",
       "      <td>18</td>\n",
       "      <td>[{'alias': 'dimsum', 'title': 'Dim Sum'}, {'alias': 'cafes', 'title': 'Cafes'}, {'alias': 'sandwiches', 'title': 'Sandwiches'}]</td>\n",
       "      <td>3.50</td>\n",
       "      <td>{'latitude': 40.599075, 'longitude': -73.951736}</td>\n",
       "      <td>['delivery', 'pickup']</td>\n",
       "      <td>$</td>\n",
       "      <td>{'address1': '1924 Ave U', 'address2': '', 'address3': '', 'city': 'Sheepshead Bay', 'zip_code': '11229', 'country': 'US', 'state': 'NY', 'display_address': ['1924 Ave U', 'Sheepshead Bay, NY 1122...</td>\n",
       "      <td>17186488898</td>\n",
       "      <td>(718) 648-8898</td>\n",
       "    </tr>\n",
       "    <tr>\n",
       "      <th>17300</th>\n",
       "      <td>8pSdwDyx4Xu4PdYluzxtJQ</td>\n",
       "      <td>century-cafe-of-brooklyn-brooklyn</td>\n",
       "      <td>Century Cafe of Brooklyn</td>\n",
       "      <td>https://s3-media0.fl.yelpcdn.com/bphoto/c4ZHWfFEv58OFjTTznd74Q/o.jpg</td>\n",
       "      <td>True</td>\n",
       "      <td>https://www.yelp.com/biz/century-cafe-of-brooklyn-brooklyn?adjust_creative=82uXkAt1Tiw7u9_h33zr1A&amp;utm_campaign=yelp_api_v3&amp;utm_medium=api_v3_phone_search&amp;utm_source=82uXkAt1Tiw7u9_h33zr1A</td>\n",
       "      <td>9</td>\n",
       "      <td>[{'alias': 'bakeries', 'title': 'Bakeries'}, {'alias': 'coffee', 'title': 'Coffee &amp; Tea'}]</td>\n",
       "      <td>3.50</td>\n",
       "      <td>{'latitude': 40.599084, 'longitude': -73.951738}</td>\n",
       "      <td>[]</td>\n",
       "      <td>$</td>\n",
       "      <td>{'address1': '1924 Ave U', 'address2': '', 'address3': '', 'city': 'Brooklyn', 'zip_code': '11229', 'country': 'US', 'state': 'NY', 'display_address': ['1924 Ave U', 'Brooklyn, NY 11229']}</td>\n",
       "      <td>17186488898</td>\n",
       "      <td>(718) 648-8898</td>\n",
       "    </tr>\n",
       "    <tr>\n",
       "      <th>17301</th>\n",
       "      <td>boJPw2UISD67hm3Ro0kong</td>\n",
       "      <td>bobby-vans-steakhouse-new-york-10</td>\n",
       "      <td>Bobby Van's Steakhouse</td>\n",
       "      <td>https://s3-media0.fl.yelpcdn.com/bphoto/qvJpHCqvsrhQKqPnKaEzWQ/o.jpg</td>\n",
       "      <td>False</td>\n",
       "      <td>https://www.yelp.com/biz/bobby-vans-steakhouse-new-york-10?adjust_creative=82uXkAt1Tiw7u9_h33zr1A&amp;utm_campaign=yelp_api_v3&amp;utm_medium=api_v3_phone_search&amp;utm_source=82uXkAt1Tiw7u9_h33zr1A</td>\n",
       "      <td>139</td>\n",
       "      <td>[{'alias': 'steak', 'title': 'Steakhouses'}, {'alias': 'tradamerican', 'title': 'American (Traditional)'}, {'alias': 'seafood', 'title': 'Seafood'}]</td>\n",
       "      <td>3.50</td>\n",
       "      <td>{'latitude': 40.7543768198208, 'longitude': -73.9755606651306}</td>\n",
       "      <td>['pickup', 'delivery']</td>\n",
       "      <td>$$$$</td>\n",
       "      <td>{'address1': '230 Park Ave', 'address2': '', 'address3': '', 'city': 'New York', 'zip_code': '10169', 'country': 'US', 'state': 'NY', 'display_address': ['230 Park Ave', 'New York, NY 10169']}</td>\n",
       "      <td>12128675490</td>\n",
       "      <td>(212) 867-5490</td>\n",
       "    </tr>\n",
       "  </tbody>\n",
       "</table>\n",
       "<p>17302 rows × 15 columns</p>\n",
       "</div>"
      ],
      "text/plain": [
       "                           id                                       alias  \\\n",
       "0      RzKR9QcYP03EQ_8DxTxowg                       barrio-chino-new-york   \n",
       "1      hrP3xLWJ8sLwG_XxEGq61Q                   reyes-restaurant-woodside   \n",
       "2      in7QM4vNUTHVZIi7Outetg                      mcdonalds-new-york-430   \n",
       "3      F-YGKegXRG2TE-Xw1AWeCA  popeyes-louisiana-kitchen-rockaway-beach-2   \n",
       "4      rYl_R-UILYqA6vYsbNwLsg              joe-coffee-company-new-york-14   \n",
       "...                       ...                                         ...   \n",
       "17297  K_e7_aNgghFLZ2zvjFSNkQ              loreley-beer-garden-new-york-2   \n",
       "17298  Pi-AJhThWqhb89mjHU65Nw                   majestic-restaurant-bronx   \n",
       "17299  lEUzamk42G4kkVXFdhExSw            golden-sands-cafe-sheepshead-bay   \n",
       "17300  8pSdwDyx4Xu4PdYluzxtJQ           century-cafe-of-brooklyn-brooklyn   \n",
       "17301  boJPw2UISD67hm3Ro0kong           bobby-vans-steakhouse-new-york-10   \n",
       "\n",
       "                            name  \\\n",
       "0                   Barrio Chino   \n",
       "1               Reyes Restaurant   \n",
       "2                     McDonald's   \n",
       "3      Popeyes Louisiana Kitchen   \n",
       "4             Joe Coffee Company   \n",
       "...                          ...   \n",
       "17297        Loreley Beer Garden   \n",
       "17298        Majestic restaurant   \n",
       "17299          Golden Sands Cafe   \n",
       "17300   Century Cafe of Brooklyn   \n",
       "17301     Bobby Van's Steakhouse   \n",
       "\n",
       "                                                                  image_url  \\\n",
       "0      https://s3-media0.fl.yelpcdn.com/bphoto/dpaRqPZD6xqDZo2ZfOyjnQ/o.jpg   \n",
       "1      https://s3-media0.fl.yelpcdn.com/bphoto/_dwQGccROJaxa-oNIxQsEg/o.jpg   \n",
       "2      https://s3-media0.fl.yelpcdn.com/bphoto/bNmu8D1sjwJzbxxP9ZwJOQ/o.jpg   \n",
       "3      https://s3-media0.fl.yelpcdn.com/bphoto/A4MR2hDN3mWefMUT7bBB2A/o.jpg   \n",
       "4      https://s3-media0.fl.yelpcdn.com/bphoto/e-nX3g-MQAN48MDPAv2cIg/o.jpg   \n",
       "...                                                                     ...   \n",
       "17297  https://s3-media0.fl.yelpcdn.com/bphoto/RHzuMs1HJjcbSjpkmJIFlg/o.jpg   \n",
       "17298  https://s3-media0.fl.yelpcdn.com/bphoto/EpUrURPt_-Cu1sWNwmJbYw/o.jpg   \n",
       "17299  https://s3-media0.fl.yelpcdn.com/bphoto/vUg1wFXfMjRqLdfs8j5a_Q/o.jpg   \n",
       "17300  https://s3-media0.fl.yelpcdn.com/bphoto/c4ZHWfFEv58OFjTTznd74Q/o.jpg   \n",
       "17301  https://s3-media0.fl.yelpcdn.com/bphoto/qvJpHCqvsrhQKqPnKaEzWQ/o.jpg   \n",
       "\n",
       "       is_closed  \\\n",
       "0          False   \n",
       "1          False   \n",
       "2          False   \n",
       "3          False   \n",
       "4          False   \n",
       "...          ...   \n",
       "17297      False   \n",
       "17298      False   \n",
       "17299      False   \n",
       "17300       True   \n",
       "17301      False   \n",
       "\n",
       "                                                                                                                                                                                                        url  \\\n",
       "0                           https://www.yelp.com/biz/barrio-chino-new-york?adjust_creative=82uXkAt1Tiw7u9_h33zr1A&utm_campaign=yelp_api_v3&utm_medium=api_v3_phone_search&utm_source=82uXkAt1Tiw7u9_h33zr1A   \n",
       "1                       https://www.yelp.com/biz/reyes-restaurant-woodside?adjust_creative=82uXkAt1Tiw7u9_h33zr1A&utm_campaign=yelp_api_v3&utm_medium=api_v3_phone_search&utm_source=82uXkAt1Tiw7u9_h33zr1A   \n",
       "2                          https://www.yelp.com/biz/mcdonalds-new-york-430?adjust_creative=82uXkAt1Tiw7u9_h33zr1A&utm_campaign=yelp_api_v3&utm_medium=api_v3_phone_search&utm_source=82uXkAt1Tiw7u9_h33zr1A   \n",
       "3      https://www.yelp.com/biz/popeyes-louisiana-kitchen-rockaway-beach-2?adjust_creative=82uXkAt1Tiw7u9_h33zr1A&utm_campaign=yelp_api_v3&utm_medium=api_v3_phone_search&utm_source=82uXkAt1Tiw7u9_h33zr1A   \n",
       "4                  https://www.yelp.com/biz/joe-coffee-company-new-york-14?adjust_creative=82uXkAt1Tiw7u9_h33zr1A&utm_campaign=yelp_api_v3&utm_medium=api_v3_phone_search&utm_source=82uXkAt1Tiw7u9_h33zr1A   \n",
       "...                                                                                                                                                                                                     ...   \n",
       "17297              https://www.yelp.com/biz/loreley-beer-garden-new-york-2?adjust_creative=82uXkAt1Tiw7u9_h33zr1A&utm_campaign=yelp_api_v3&utm_medium=api_v3_phone_search&utm_source=82uXkAt1Tiw7u9_h33zr1A   \n",
       "17298                   https://www.yelp.com/biz/majestic-restaurant-bronx?adjust_creative=82uXkAt1Tiw7u9_h33zr1A&utm_campaign=yelp_api_v3&utm_medium=api_v3_phone_search&utm_source=82uXkAt1Tiw7u9_h33zr1A   \n",
       "17299            https://www.yelp.com/biz/golden-sands-cafe-sheepshead-bay?adjust_creative=82uXkAt1Tiw7u9_h33zr1A&utm_campaign=yelp_api_v3&utm_medium=api_v3_phone_search&utm_source=82uXkAt1Tiw7u9_h33zr1A   \n",
       "17300           https://www.yelp.com/biz/century-cafe-of-brooklyn-brooklyn?adjust_creative=82uXkAt1Tiw7u9_h33zr1A&utm_campaign=yelp_api_v3&utm_medium=api_v3_phone_search&utm_source=82uXkAt1Tiw7u9_h33zr1A   \n",
       "17301           https://www.yelp.com/biz/bobby-vans-steakhouse-new-york-10?adjust_creative=82uXkAt1Tiw7u9_h33zr1A&utm_campaign=yelp_api_v3&utm_medium=api_v3_phone_search&utm_source=82uXkAt1Tiw7u9_h33zr1A   \n",
       "\n",
       "       review_count  \\\n",
       "0              1148   \n",
       "1                 7   \n",
       "2               103   \n",
       "3                21   \n",
       "4                24   \n",
       "...             ...   \n",
       "17297           814   \n",
       "17298            17   \n",
       "17299            18   \n",
       "17300             9   \n",
       "17301           139   \n",
       "\n",
       "                                                                                                                                                 categories  \\\n",
       "0                                                                            [{'alias': 'mexican', 'title': 'Mexican'}, {'alias': 'bars', 'title': 'Bars'}]   \n",
       "1                                                             [{'alias': 'latin', 'title': 'Latin American'}, {'alias': 'dominican', 'title': 'Dominican'}]   \n",
       "2                      [{'alias': 'burgers', 'title': 'Burgers'}, {'alias': 'hotdogs', 'title': 'Fast Food'}, {'alias': 'coffee', 'title': 'Coffee & Tea'}]   \n",
       "3              [{'alias': 'hotdogs', 'title': 'Fast Food'}, {'alias': 'seafood', 'title': 'Seafood'}, {'alias': 'chicken_wings', 'title': 'Chicken Wings'}]   \n",
       "4                                               [{'alias': 'coffee', 'title': 'Coffee & Tea'}, {'alias': 'coffeeroasteries', 'title': 'Coffee Roasteries'}]   \n",
       "...                                                                                                                                                     ...   \n",
       "17297                                                           [{'alias': 'german', 'title': 'German'}, {'alias': 'beergardens', 'title': 'Beer Gardens'}]   \n",
       "17298                                                                                                        [{'alias': 'dominican', 'title': 'Dominican'}]   \n",
       "17299                       [{'alias': 'dimsum', 'title': 'Dim Sum'}, {'alias': 'cafes', 'title': 'Cafes'}, {'alias': 'sandwiches', 'title': 'Sandwiches'}]   \n",
       "17300                                                            [{'alias': 'bakeries', 'title': 'Bakeries'}, {'alias': 'coffee', 'title': 'Coffee & Tea'}]   \n",
       "17301  [{'alias': 'steak', 'title': 'Steakhouses'}, {'alias': 'tradamerican', 'title': 'American (Traditional)'}, {'alias': 'seafood', 'title': 'Seafood'}]   \n",
       "\n",
       "       rating  \\\n",
       "0        4.00   \n",
       "1        4.00   \n",
       "2        1.50   \n",
       "3        2.00   \n",
       "4        4.00   \n",
       "...       ...   \n",
       "17297    3.50   \n",
       "17298    3.00   \n",
       "17299    3.50   \n",
       "17300    3.50   \n",
       "17301    3.50   \n",
       "\n",
       "                                                             coordinates  \\\n",
       "0                       {'latitude': 40.718022, 'longitude': -73.990026}   \n",
       "1                           {'latitude': 40.7466, 'longitude': -73.9098}   \n",
       "2         {'latitude': 40.7163213865248, 'longitude': -74.0106988300204}   \n",
       "3      {'latitude': 40.587551867915515, 'longitude': -73.81088484629929}   \n",
       "4         {'latitude': 40.7126284147746, 'longitude': -74.0128198486877}   \n",
       "...                                                                  ...   \n",
       "17297                  {'latitude': 40.7212291, 'longitude': -73.992872}   \n",
       "17298                  {'latitude': 40.854152, 'longitude': -73.8840031}   \n",
       "17299                   {'latitude': 40.599075, 'longitude': -73.951736}   \n",
       "17300                   {'latitude': 40.599084, 'longitude': -73.951738}   \n",
       "17301     {'latitude': 40.7543768198208, 'longitude': -73.9755606651306}   \n",
       "\n",
       "                 transactions price  \\\n",
       "0      ['delivery', 'pickup']    $$   \n",
       "1                ['delivery']     $   \n",
       "2                ['delivery']     $   \n",
       "3      ['pickup', 'delivery']     $   \n",
       "4                          []    $$   \n",
       "...                       ...   ...   \n",
       "17297  ['pickup', 'delivery']    $$   \n",
       "17298  ['pickup', 'delivery']   NaN   \n",
       "17299  ['delivery', 'pickup']     $   \n",
       "17300                      []     $   \n",
       "17301  ['pickup', 'delivery']  $$$$   \n",
       "\n",
       "                                                                                                                                                                                                      location  \\\n",
       "0         {'address1': '253 Broome St', 'address2': None, 'address3': '', 'city': 'New York', 'zip_code': '10002', 'country': 'US', 'state': 'NY', 'display_address': ['253 Broome St', 'New York, NY 10002']}   \n",
       "1             {'address1': '4754 46th St', 'address2': '', 'address3': '', 'city': 'Woodside', 'zip_code': '11377', 'country': 'US', 'state': 'NY', 'display_address': ['4754 46th St', 'Woodside, NY 11377']}   \n",
       "2       {'address1': '167 Chambers St', 'address2': '', 'address3': '', 'city': 'New York', 'zip_code': '10007', 'country': 'US', 'state': 'NY', 'display_address': ['167 Chambers St', 'New York, NY 10007']}   \n",
       "3      {'address1': '8601 Rockaway Beach Blvd', 'address2': '', 'address3': None, 'city': 'Rockaway Beach', 'zip_code': '11693', 'country': 'US', 'state': 'NY', 'display_address': ['8601 Rockaway Beach B...   \n",
       "4      {'address1': '185 Greenwich St', 'address2': 'LL3110', 'address3': None, 'city': 'New York', 'zip_code': '10007', 'country': 'US', 'state': 'NY', 'display_address': ['185 Greenwich St', 'LL3110', ...   \n",
       "...                                                                                                                                                                                                        ...   \n",
       "17297   {'address1': '7 Rivington St', 'address2': None, 'address3': '', 'city': 'New York', 'zip_code': '10002', 'country': 'US', 'state': 'NY', 'display_address': ['7 Rivington St', 'New York, NY 10002']}   \n",
       "17298         {'address1': '709 E 187th St', 'address2': None, 'address3': '', 'city': 'bronx', 'zip_code': '10458', 'country': 'US', 'state': 'NY', 'display_address': ['709 E 187th St', 'bronx, NY 10458']}   \n",
       "17299  {'address1': '1924 Ave U', 'address2': '', 'address3': '', 'city': 'Sheepshead Bay', 'zip_code': '11229', 'country': 'US', 'state': 'NY', 'display_address': ['1924 Ave U', 'Sheepshead Bay, NY 1122...   \n",
       "17300             {'address1': '1924 Ave U', 'address2': '', 'address3': '', 'city': 'Brooklyn', 'zip_code': '11229', 'country': 'US', 'state': 'NY', 'display_address': ['1924 Ave U', 'Brooklyn, NY 11229']}   \n",
       "17301         {'address1': '230 Park Ave', 'address2': '', 'address3': '', 'city': 'New York', 'zip_code': '10169', 'country': 'US', 'state': 'NY', 'display_address': ['230 Park Ave', 'New York, NY 10169']}   \n",
       "\n",
       "             phone   display_phone  \n",
       "0      12122286710  (212) 228-6710  \n",
       "1      17187529577  (718) 752-9577  \n",
       "2      12126082405  (212) 608-2405  \n",
       "3      17189452815  (718) 945-2815  \n",
       "4      16467661719  (646) 766-1719  \n",
       "...            ...             ...  \n",
       "17297  12122537077  (212) 253-7077  \n",
       "17298  17186180032  (718) 618-0032  \n",
       "17299  17186488898  (718) 648-8898  \n",
       "17300  17186488898  (718) 648-8898  \n",
       "17301  12128675490  (212) 867-5490  \n",
       "\n",
       "[17302 rows x 15 columns]"
      ]
     },
     "execution_count": 46,
     "metadata": {},
     "output_type": "execute_result"
    }
   ],
   "source": [
    "# Concatenating all Yelp Businesses responses from the Phone Search\n",
    "yelp_businesses_df = pd.concat(yelp_tables,ignore_index=True)\n",
    "yelp_businesses_df"
   ]
  },
  {
   "cell_type": "markdown",
   "metadata": {},
   "source": [
    "#### Exploring Yelp Businesses Response Data"
   ]
  },
  {
   "cell_type": "code",
   "execution_count": 47,
   "metadata": {
    "ExecuteTime": {
     "end_time": "2022-05-11T02:27:02.309698Z",
     "start_time": "2022-05-11T02:27:02.256627Z"
    }
   },
   "outputs": [
    {
     "name": "stdout",
     "output_type": "stream",
     "text": [
      "<class 'pandas.core.frame.DataFrame'>\n",
      "RangeIndex: 17302 entries, 0 to 17301\n",
      "Data columns (total 15 columns):\n",
      " #   Column         Non-Null Count  Dtype  \n",
      "---  ------         --------------  -----  \n",
      " 0   id             17302 non-null  object \n",
      " 1   alias          17302 non-null  object \n",
      " 2   name           17302 non-null  object \n",
      " 3   image_url      16563 non-null  object \n",
      " 4   is_closed      17302 non-null  bool   \n",
      " 5   url            17302 non-null  object \n",
      " 6   review_count   17302 non-null  int64  \n",
      " 7   categories     17302 non-null  object \n",
      " 8   rating         17302 non-null  float64\n",
      " 9   coordinates    17302 non-null  object \n",
      " 10  transactions   17302 non-null  object \n",
      " 11  price          14501 non-null  object \n",
      " 12  location       17302 non-null  object \n",
      " 13  phone          17302 non-null  int64  \n",
      " 14  display_phone  17302 non-null  object \n",
      "dtypes: bool(1), float64(1), int64(2), object(11)\n",
      "memory usage: 1.9+ MB\n"
     ]
    }
   ],
   "source": [
    "yelp_businesses_df.info()"
   ]
  },
  {
   "cell_type": "code",
   "execution_count": 48,
   "metadata": {
    "ExecuteTime": {
     "end_time": "2022-05-11T02:27:03.052106Z",
     "start_time": "2022-05-11T02:27:03.042130Z"
    }
   },
   "outputs": [
    {
     "data": {
      "text/plain": [
       "$$     0.53\n",
       "$      0.37\n",
       "$$$    0.07\n",
       "$$$$   0.02\n",
       "Name: price, dtype: float64"
      ]
     },
     "execution_count": 48,
     "metadata": {},
     "output_type": "execute_result"
    }
   ],
   "source": [
    "yelp_businesses_df['price'].value_counts(normalize=True)"
   ]
  },
  {
   "cell_type": "code",
   "execution_count": 49,
   "metadata": {
    "ExecuteTime": {
     "end_time": "2022-05-11T02:27:04.751988Z",
     "start_time": "2022-05-11T02:27:04.741876Z"
    }
   },
   "outputs": [
    {
     "data": {
      "text/plain": [
       "4.00   0.30\n",
       "3.50   0.25\n",
       "3.00   0.14\n",
       "4.50   0.12\n",
       "2.50   0.08\n",
       "2.00   0.04\n",
       "5.00   0.03\n",
       "1.50   0.02\n",
       "1.00   0.01\n",
       "Name: rating, dtype: float64"
      ]
     },
     "execution_count": 49,
     "metadata": {},
     "output_type": "execute_result"
    }
   ],
   "source": [
    "yelp_businesses_df['rating'].value_counts(normalize=True)"
   ]
  },
  {
   "cell_type": "code",
   "execution_count": 50,
   "metadata": {
    "ExecuteTime": {
     "end_time": "2022-05-11T02:27:05.526765Z",
     "start_time": "2022-05-11T02:27:05.509647Z"
    }
   },
   "outputs": [
    {
     "data": {
      "text/plain": [
       "[{'alias': 'chinese', 'title': 'Chinese'}]                                                                                                  0.05\n",
       "[{'alias': 'pizza', 'title': 'Pizza'}]                                                                                                      0.04\n",
       "[{'alias': 'coffee', 'title': 'Coffee & Tea'}]                                                                                              0.02\n",
       "[{'alias': 'mexican', 'title': 'Mexican'}]                                                                                                  0.02\n",
       "[{'alias': 'italian', 'title': 'Italian'}]                                                                                                  0.02\n",
       "                                                                                                                                            ... \n",
       "[{'alias': 'bakeries', 'title': 'Bakeries'}, {'alias': 'gourmet', 'title': 'Specialty Food'}, {'alias': 'desserts', 'title': 'Desserts'}]   0.00\n",
       "[{'alias': 'mexican', 'title': 'Mexican'}, {'alias': 'bars', 'title': 'Bars'}, {'alias': 'venues', 'title': 'Venues & Event Spaces'}]       0.00\n",
       "[{'alias': 'pizza', 'title': 'Pizza'}, {'alias': 'breakfast_brunch', 'title': 'Breakfast & Brunch'}]                                        0.00\n",
       "[{'alias': 'pubs', 'title': 'Pubs'}, {'alias': 'restaurants', 'title': 'Restaurants'}]                                                      0.00\n",
       "[{'alias': 'dimsum', 'title': 'Dim Sum'}, {'alias': 'cafes', 'title': 'Cafes'}, {'alias': 'sandwiches', 'title': 'Sandwiches'}]             0.00\n",
       "Name: categories, Length: 4277, dtype: float64"
      ]
     },
     "execution_count": 50,
     "metadata": {},
     "output_type": "execute_result"
    }
   ],
   "source": [
    "yelp_businesses_df['categories'].value_counts(normalize=True)"
   ]
  },
  {
   "cell_type": "code",
   "execution_count": null,
   "metadata": {},
   "outputs": [],
   "source": []
  },
  {
   "cell_type": "code",
   "execution_count": 51,
   "metadata": {
    "ExecuteTime": {
     "end_time": "2022-05-11T02:27:07.371582Z",
     "start_time": "2022-05-11T02:27:07.312540Z"
    }
   },
   "outputs": [
    {
     "data": {
      "text/plain": [
       "id               8474\n",
       "alias            8474\n",
       "name             8474\n",
       "image_url        8123\n",
       "is_closed        8474\n",
       "url              8474\n",
       "review_count     8474\n",
       "categories       8474\n",
       "rating           8474\n",
       "coordinates      8474\n",
       "transactions     8474\n",
       "price            7109\n",
       "location         8474\n",
       "phone            8474\n",
       "display_phone    8474\n",
       "dtype: int64"
      ]
     },
     "execution_count": 51,
     "metadata": {},
     "output_type": "execute_result"
    }
   ],
   "source": [
    "# Duplicates?\n",
    "yelp_businesses_df[yelp_businesses_df.duplicated(['id'], keep=False)].count()"
   ]
  },
  {
   "cell_type": "code",
   "execution_count": 52,
   "metadata": {
    "ExecuteTime": {
     "end_time": "2022-05-11T02:27:08.275743Z",
     "start_time": "2022-05-11T02:27:08.245406Z"
    }
   },
   "outputs": [
    {
     "data": {
      "text/html": [
       "<div>\n",
       "<style scoped>\n",
       "    .dataframe tbody tr th:only-of-type {\n",
       "        vertical-align: middle;\n",
       "    }\n",
       "\n",
       "    .dataframe tbody tr th {\n",
       "        vertical-align: top;\n",
       "    }\n",
       "\n",
       "    .dataframe thead th {\n",
       "        text-align: right;\n",
       "    }\n",
       "</style>\n",
       "<table border=\"1\" class=\"dataframe\">\n",
       "  <thead>\n",
       "    <tr style=\"text-align: right;\">\n",
       "      <th></th>\n",
       "      <th>review_count</th>\n",
       "      <th>rating</th>\n",
       "      <th>phone</th>\n",
       "    </tr>\n",
       "  </thead>\n",
       "  <tbody>\n",
       "    <tr>\n",
       "      <th>count</th>\n",
       "      <td>17302.00</td>\n",
       "      <td>17302.00</td>\n",
       "      <td>17302.00</td>\n",
       "    </tr>\n",
       "    <tr>\n",
       "      <th>mean</th>\n",
       "      <td>189.46</td>\n",
       "      <td>3.53</td>\n",
       "      <td>15227799712.25</td>\n",
       "    </tr>\n",
       "    <tr>\n",
       "      <th>std</th>\n",
       "      <td>378.43</td>\n",
       "      <td>0.79</td>\n",
       "      <td>2494930771.02</td>\n",
       "    </tr>\n",
       "    <tr>\n",
       "      <th>min</th>\n",
       "      <td>1.00</td>\n",
       "      <td>1.00</td>\n",
       "      <td>12062250663.00</td>\n",
       "    </tr>\n",
       "    <tr>\n",
       "      <th>25%</th>\n",
       "      <td>17.00</td>\n",
       "      <td>3.00</td>\n",
       "      <td>12127498940.50</td>\n",
       "    </tr>\n",
       "    <tr>\n",
       "      <th>50%</th>\n",
       "      <td>67.00</td>\n",
       "      <td>3.50</td>\n",
       "      <td>17182416042.00</td>\n",
       "    </tr>\n",
       "    <tr>\n",
       "      <th>75%</th>\n",
       "      <td>209.00</td>\n",
       "      <td>4.00</td>\n",
       "      <td>17186241444.00</td>\n",
       "    </tr>\n",
       "    <tr>\n",
       "      <th>max</th>\n",
       "      <td>13458.00</td>\n",
       "      <td>5.00</td>\n",
       "      <td>19732238527.00</td>\n",
       "    </tr>\n",
       "  </tbody>\n",
       "</table>\n",
       "</div>"
      ],
      "text/plain": [
       "       review_count   rating          phone\n",
       "count      17302.00 17302.00       17302.00\n",
       "mean         189.46     3.53 15227799712.25\n",
       "std          378.43     0.79  2494930771.02\n",
       "min            1.00     1.00 12062250663.00\n",
       "25%           17.00     3.00 12127498940.50\n",
       "50%           67.00     3.50 17182416042.00\n",
       "75%          209.00     4.00 17186241444.00\n",
       "max        13458.00     5.00 19732238527.00"
      ]
     },
     "execution_count": 52,
     "metadata": {},
     "output_type": "execute_result"
    }
   ],
   "source": [
    "yelp_businesses_df.describe()"
   ]
  },
  {
   "cell_type": "code",
   "execution_count": 53,
   "metadata": {
    "ExecuteTime": {
     "end_time": "2022-05-11T02:27:08.833552Z",
     "start_time": "2022-05-11T02:27:08.811492Z"
    }
   },
   "outputs": [
    {
     "data": {
      "text/plain": [
       "3278066"
      ]
     },
     "execution_count": 53,
     "metadata": {},
     "output_type": "execute_result"
    }
   ],
   "source": [
    "yelp_businesses_df['review_count'].sum()"
   ]
  },
  {
   "cell_type": "markdown",
   "metadata": {},
   "source": [
    "### Yelp Reviews"
   ]
  },
  {
   "cell_type": "markdown",
   "metadata": {},
   "source": [
    "Now that all the restaurants from the NYC DOHMH dataset have been used to search the Yelp API and have been concatenated we can use the return url to gather reviews for each business."
   ]
  },
  {
   "cell_type": "code",
   "execution_count": 54,
   "metadata": {
    "ExecuteTime": {
     "end_time": "2022-05-11T02:27:13.921816Z",
     "start_time": "2022-05-11T02:27:13.917667Z"
    }
   },
   "outputs": [],
   "source": [
    "# OLD from webscraping\n",
    "# df_10_2 = df_10.loc[1000:2173]\n",
    "# df_10_2.to_csv('df_10_2',index=False)"
   ]
  },
  {
   "cell_type": "code",
   "execution_count": 55,
   "metadata": {
    "ExecuteTime": {
     "end_time": "2022-05-11T02:27:20.869071Z",
     "start_time": "2022-05-11T02:27:20.859096Z"
    }
   },
   "outputs": [],
   "source": [
    "# def get_text(url_list):\n",
    "#     \"\"\" Given a list of urls, this function will iterate through the list and \n",
    "#     extract text from the first page of reviews. The data will be joined into \n",
    "#     a corpus for each business\"\"\"\n",
    "    \n",
    "#     review_txt = []\n",
    "\n",
    "#     for url in url_list:\n",
    "#         req = requests.get(url,allow_redirects=False)\n",
    "#         soup = bs(req.content)\n",
    "#         comments = soup.find_all(class_='raw__09f24__T4Ezm', lang=\"en\")\n",
    "#         comment_txt = []\n",
    "\n",
    "#         for comment in comments:\n",
    "#             comment_txt.append(comment.text)\n",
    "\n",
    "#         comment_corp = ('.'.join(comment_txt))\n",
    "#         review_txt.append(comment_corp)\n",
    "#     return review_txt"
   ]
  },
  {
   "cell_type": "markdown",
   "metadata": {},
   "source": [
    "Due to the time required to run this function, it can be broken into smaller requests. Since we already have smaller list used when we called the API earlier we can take the urls returned from the API here. "
   ]
  },
  {
   "cell_type": "code",
   "execution_count": 56,
   "metadata": {
    "ExecuteTime": {
     "end_time": "2022-05-11T02:27:30.453410Z",
     "start_time": "2022-05-11T02:27:30.445031Z"
    }
   },
   "outputs": [
    {
     "data": {
      "text/plain": [
       "859"
      ]
     },
     "execution_count": 56,
     "metadata": {},
     "output_type": "execute_result"
    }
   ],
   "source": [
    "# Obtaining list of yelp business urls from saved API response\n",
    "url_list = list(yelp_tables['df_1']['url'])\n",
    "len(url_list)"
   ]
  },
  {
   "cell_type": "code",
   "execution_count": 57,
   "metadata": {
    "ExecuteTime": {
     "end_time": "2022-05-11T02:27:37.735220Z",
     "start_time": "2022-05-11T02:27:37.731418Z"
    }
   },
   "outputs": [],
   "source": [
    "# Calling `get_text` function to obtain Yelp reviews\n",
    "if call_apis == True:\n",
    "    review_text = get_text(url_list)"
   ]
  },
  {
   "cell_type": "code",
   "execution_count": 58,
   "metadata": {
    "ExecuteTime": {
     "end_time": "2022-05-11T02:27:40.397591Z",
     "start_time": "2022-05-11T02:27:40.392776Z"
    }
   },
   "outputs": [],
   "source": [
    "# Saving the Reviews to a csv in the repository\n",
    "if call_apis == True:\n",
    "    rvw_txt = pd.DataFrame(review_text,columns=['Review_Text'])\n",
    "    rvw_txt.to_csv('rvw_txt1.csv',index=False)\n"
   ]
  },
  {
   "cell_type": "markdown",
   "metadata": {},
   "source": [
    "Repeat this for all the urls returned from the API"
   ]
  },
  {
   "cell_type": "markdown",
   "metadata": {},
   "source": [
    "### Joining Yelp Reviews to Yelp Business Tables"
   ]
  },
  {
   "cell_type": "code",
   "execution_count": 59,
   "metadata": {
    "ExecuteTime": {
     "end_time": "2022-05-11T02:27:45.135356Z",
     "start_time": "2022-05-11T02:27:45.129476Z"
    }
   },
   "outputs": [],
   "source": [
    "# List of files containing Yelp business data\n",
    "fpath = 'data/yelp_data/yelp_reviews/'\n",
    "os.listdir(fpath)\n",
    "query = fpath+\"*.csv\"\n",
    "f_list = glob.glob(query)"
   ]
  },
  {
   "cell_type": "code",
   "execution_count": 60,
   "metadata": {
    "ExecuteTime": {
     "end_time": "2022-05-11T02:27:47.057450Z",
     "start_time": "2022-05-11T02:27:45.693050Z"
    }
   },
   "outputs": [],
   "source": [
    "# Append saved Yelp Reviews to a dict\n",
    "rvw_tables = {}\n",
    "\n",
    "for file in f_list:\n",
    "    temp_df = pd.read_csv(file)\n",
    "    fname = file.replace('data/yelp_data/yelp_reviews/rvw_txt','txt_').replace('.csv','')\n",
    "    rvw_tables[fname] = temp_df"
   ]
  },
  {
   "cell_type": "code",
   "execution_count": 61,
   "metadata": {
    "ExecuteTime": {
     "end_time": "2022-05-11T02:27:47.096572Z",
     "start_time": "2022-05-11T02:27:47.061518Z"
    }
   },
   "outputs": [],
   "source": [
    "rvw_df_list = [t for t in list(rvw_tables.keys())]"
   ]
  },
  {
   "cell_type": "code",
   "execution_count": 62,
   "metadata": {
    "ExecuteTime": {
     "end_time": "2022-05-11T02:27:49.627202Z",
     "start_time": "2022-05-11T02:27:49.542509Z"
    }
   },
   "outputs": [],
   "source": [
    "rvw1 = pd.read_csv('data/yelp_data/yelp_reviews/rvw_txt1.csv')"
   ]
  },
  {
   "cell_type": "code",
   "execution_count": 63,
   "metadata": {
    "ExecuteTime": {
     "end_time": "2022-05-11T02:27:50.143607Z",
     "start_time": "2022-05-11T02:27:50.136857Z"
    }
   },
   "outputs": [
    {
     "data": {
      "text/plain": [
       "dict_keys(['df_8', 'df_9', 'df_1', 'df_2', 'df_3', 'df_11', 'df_7', 'df_6', 'df_10', 'df_12', 'df_4', 'df_5'])"
      ]
     },
     "execution_count": 63,
     "metadata": {},
     "output_type": "execute_result"
    }
   ],
   "source": [
    "yelp_tables.keys()"
   ]
  },
  {
   "cell_type": "code",
   "execution_count": 64,
   "metadata": {
    "ExecuteTime": {
     "end_time": "2022-05-11T02:27:50.832113Z",
     "start_time": "2022-05-11T02:27:50.826607Z"
    }
   },
   "outputs": [
    {
     "data": {
      "text/plain": [
       "dict_keys(['txt_11', 'txt_10', 'txt_12', 'txt_2', 'txt_3', 'txt_1', 'txt_4', 'txt_5', 'txt_7', 'txt_6', 'txt_8', 'txt_9'])"
      ]
     },
     "execution_count": 64,
     "metadata": {},
     "output_type": "execute_result"
    }
   ],
   "source": [
    "rvw_tables.keys()"
   ]
  },
  {
   "cell_type": "code",
   "execution_count": 65,
   "metadata": {
    "ExecuteTime": {
     "end_time": "2022-05-11T02:27:53.790133Z",
     "start_time": "2022-05-11T02:27:53.753638Z"
    }
   },
   "outputs": [],
   "source": [
    "# Adding review text to the Yelp Business tables\n",
    "yelp_tables['df_1']['Reviews'] =  rvw_tables['txt_1']\n",
    "yelp_tables['df_2']['Reviews'] =  rvw_tables['txt_2']\n",
    "yelp_tables['df_3']['Reviews'] =  rvw_tables['txt_3']\n",
    "yelp_tables['df_4']['Reviews'] =  rvw_tables['txt_4']\n",
    "yelp_tables['df_5']['Reviews'] =  rvw_tables['txt_5']\n",
    "yelp_tables['df_6']['Reviews'] =  rvw_tables['txt_6']\n",
    "yelp_tables['df_7']['Reviews'] =  rvw_tables['txt_7']\n",
    "yelp_tables['df_8']['Reviews'] =  rvw_tables['txt_8']\n",
    "yelp_tables['df_9']['Reviews'] =  rvw_tables['txt_9']\n",
    "yelp_tables['df_10']['Reviews'] =  rvw_tables['txt_10']\n",
    "yelp_tables['df_11']['Reviews'] =  rvw_tables['txt_11']\n",
    "yelp_tables['df_12']['Reviews'] =  rvw_tables['txt_12']"
   ]
  },
  {
   "cell_type": "code",
   "execution_count": 66,
   "metadata": {
    "ExecuteTime": {
     "end_time": "2022-05-11T02:27:55.656625Z",
     "start_time": "2022-05-11T02:27:55.616098Z"
    }
   },
   "outputs": [
    {
     "data": {
      "text/html": [
       "<div>\n",
       "<style scoped>\n",
       "    .dataframe tbody tr th:only-of-type {\n",
       "        vertical-align: middle;\n",
       "    }\n",
       "\n",
       "    .dataframe tbody tr th {\n",
       "        vertical-align: top;\n",
       "    }\n",
       "\n",
       "    .dataframe thead th {\n",
       "        text-align: right;\n",
       "    }\n",
       "</style>\n",
       "<table border=\"1\" class=\"dataframe\">\n",
       "  <thead>\n",
       "    <tr style=\"text-align: right;\">\n",
       "      <th></th>\n",
       "      <th>id</th>\n",
       "      <th>alias</th>\n",
       "      <th>name</th>\n",
       "      <th>image_url</th>\n",
       "      <th>is_closed</th>\n",
       "      <th>url</th>\n",
       "      <th>review_count</th>\n",
       "      <th>categories</th>\n",
       "      <th>rating</th>\n",
       "      <th>coordinates</th>\n",
       "      <th>transactions</th>\n",
       "      <th>price</th>\n",
       "      <th>location</th>\n",
       "      <th>phone</th>\n",
       "      <th>display_phone</th>\n",
       "      <th>Reviews</th>\n",
       "    </tr>\n",
       "  </thead>\n",
       "  <tbody>\n",
       "    <tr>\n",
       "      <th>0</th>\n",
       "      <td>RzKR9QcYP03EQ_8DxTxowg</td>\n",
       "      <td>barrio-chino-new-york</td>\n",
       "      <td>Barrio Chino</td>\n",
       "      <td>https://s3-media0.fl.yelpcdn.com/bphoto/dpaRqPZD6xqDZo2ZfOyjnQ/o.jpg</td>\n",
       "      <td>False</td>\n",
       "      <td>https://www.yelp.com/biz/barrio-chino-new-york?adjust_creative=82uXkAt1Tiw7u9_h33zr1A&amp;utm_campaign=yelp_api_v3&amp;utm_medium=api_v3_phone_search&amp;utm_source=82uXkAt1Tiw7u9_h33zr1A</td>\n",
       "      <td>1148</td>\n",
       "      <td>[{'alias': 'mexican', 'title': 'Mexican'}, {'alias': 'bars', 'title': 'Bars'}]</td>\n",
       "      <td>4.00</td>\n",
       "      <td>{'latitude': 40.718022, 'longitude': -73.990026}</td>\n",
       "      <td>['delivery', 'pickup']</td>\n",
       "      <td>$$</td>\n",
       "      <td>{'address1': '253 Broome St', 'address2': None, 'address3': '', 'city': 'New York', 'zip_code': '10002', 'country': 'US', 'state': 'NY', 'display_address': ['253 Broome St', 'New York, NY 10002']}</td>\n",
       "      <td>12122286710</td>\n",
       "      <td>(212) 228-6710</td>\n",
       "      <td>My sister has gone here a bunch of times and I finally went. I am truly mad at myself for not going sooner. We were seated without a reservation around 7 on a Tuesday. Service was superb. Water gl...</td>\n",
       "    </tr>\n",
       "    <tr>\n",
       "      <th>1</th>\n",
       "      <td>hrP3xLWJ8sLwG_XxEGq61Q</td>\n",
       "      <td>reyes-restaurant-woodside</td>\n",
       "      <td>Reyes Restaurant</td>\n",
       "      <td>https://s3-media0.fl.yelpcdn.com/bphoto/_dwQGccROJaxa-oNIxQsEg/o.jpg</td>\n",
       "      <td>False</td>\n",
       "      <td>https://www.yelp.com/biz/reyes-restaurant-woodside?adjust_creative=82uXkAt1Tiw7u9_h33zr1A&amp;utm_campaign=yelp_api_v3&amp;utm_medium=api_v3_phone_search&amp;utm_source=82uXkAt1Tiw7u9_h33zr1A</td>\n",
       "      <td>7</td>\n",
       "      <td>[{'alias': 'latin', 'title': 'Latin American'}, {'alias': 'dominican', 'title': 'Dominican'}]</td>\n",
       "      <td>4.00</td>\n",
       "      <td>{'latitude': 40.7466, 'longitude': -73.9098}</td>\n",
       "      <td>['delivery']</td>\n",
       "      <td>$</td>\n",
       "      <td>{'address1': '4754 46th St', 'address2': '', 'address3': '', 'city': 'Woodside', 'zip_code': '11377', 'country': 'US', 'state': 'NY', 'display_address': ['4754 46th St', 'Woodside, NY 11377']}</td>\n",
       "      <td>17187529577</td>\n",
       "      <td>(718) 752-9577</td>\n",
       "      <td>Good food served by good people. Love the mangu with everything, it's my go-to order..I was super happy to find out that there was a Dominican restaurant in my neighborhood. I came on a Saturday a...</td>\n",
       "    </tr>\n",
       "    <tr>\n",
       "      <th>2</th>\n",
       "      <td>in7QM4vNUTHVZIi7Outetg</td>\n",
       "      <td>mcdonalds-new-york-430</td>\n",
       "      <td>McDonald's</td>\n",
       "      <td>https://s3-media0.fl.yelpcdn.com/bphoto/bNmu8D1sjwJzbxxP9ZwJOQ/o.jpg</td>\n",
       "      <td>False</td>\n",
       "      <td>https://www.yelp.com/biz/mcdonalds-new-york-430?adjust_creative=82uXkAt1Tiw7u9_h33zr1A&amp;utm_campaign=yelp_api_v3&amp;utm_medium=api_v3_phone_search&amp;utm_source=82uXkAt1Tiw7u9_h33zr1A</td>\n",
       "      <td>103</td>\n",
       "      <td>[{'alias': 'burgers', 'title': 'Burgers'}, {'alias': 'hotdogs', 'title': 'Fast Food'}, {'alias': 'coffee', 'title': 'Coffee &amp; Tea'}]</td>\n",
       "      <td>1.50</td>\n",
       "      <td>{'latitude': 40.7163213865248, 'longitude': -74.0106988300204}</td>\n",
       "      <td>['delivery']</td>\n",
       "      <td>$</td>\n",
       "      <td>{'address1': '167 Chambers St', 'address2': '', 'address3': '', 'city': 'New York', 'zip_code': '10007', 'country': 'US', 'state': 'NY', 'display_address': ['167 Chambers St', 'New York, NY 10007']}</td>\n",
       "      <td>12126082405</td>\n",
       "      <td>(212) 608-2405</td>\n",
       "      <td>I love McDonalds breakfast but of the 6 times I've been here recently, this is the 2nd time they forget my hash brown and today I found a hair on my egg. I used to frequent this McDonalds in the p...</td>\n",
       "    </tr>\n",
       "    <tr>\n",
       "      <th>3</th>\n",
       "      <td>F-YGKegXRG2TE-Xw1AWeCA</td>\n",
       "      <td>popeyes-louisiana-kitchen-rockaway-beach-2</td>\n",
       "      <td>Popeyes Louisiana Kitchen</td>\n",
       "      <td>https://s3-media0.fl.yelpcdn.com/bphoto/A4MR2hDN3mWefMUT7bBB2A/o.jpg</td>\n",
       "      <td>False</td>\n",
       "      <td>https://www.yelp.com/biz/popeyes-louisiana-kitchen-rockaway-beach-2?adjust_creative=82uXkAt1Tiw7u9_h33zr1A&amp;utm_campaign=yelp_api_v3&amp;utm_medium=api_v3_phone_search&amp;utm_source=82uXkAt1Tiw7u9_h33zr1A</td>\n",
       "      <td>21</td>\n",
       "      <td>[{'alias': 'hotdogs', 'title': 'Fast Food'}, {'alias': 'seafood', 'title': 'Seafood'}, {'alias': 'chicken_wings', 'title': 'Chicken Wings'}]</td>\n",
       "      <td>2.00</td>\n",
       "      <td>{'latitude': 40.587551867915515, 'longitude': -73.81088484629929}</td>\n",
       "      <td>['pickup', 'delivery']</td>\n",
       "      <td>$</td>\n",
       "      <td>{'address1': '8601 Rockaway Beach Blvd', 'address2': '', 'address3': None, 'city': 'Rockaway Beach', 'zip_code': '11693', 'country': 'US', 'state': 'NY', 'display_address': ['8601 Rockaway Beach B...</td>\n",
       "      <td>17189452815</td>\n",
       "      <td>(718) 945-2815</td>\n",
       "      <td>The app was messed up &amp; I called &amp; spoke to this wonderful worker Tiffany! She was able to allow me to change my soda since their was no other option. She also allowed me to add ketchup to the ord...</td>\n",
       "    </tr>\n",
       "    <tr>\n",
       "      <th>4</th>\n",
       "      <td>rYl_R-UILYqA6vYsbNwLsg</td>\n",
       "      <td>joe-coffee-company-new-york-14</td>\n",
       "      <td>Joe Coffee Company</td>\n",
       "      <td>https://s3-media0.fl.yelpcdn.com/bphoto/e-nX3g-MQAN48MDPAv2cIg/o.jpg</td>\n",
       "      <td>False</td>\n",
       "      <td>https://www.yelp.com/biz/joe-coffee-company-new-york-14?adjust_creative=82uXkAt1Tiw7u9_h33zr1A&amp;utm_campaign=yelp_api_v3&amp;utm_medium=api_v3_phone_search&amp;utm_source=82uXkAt1Tiw7u9_h33zr1A</td>\n",
       "      <td>24</td>\n",
       "      <td>[{'alias': 'coffee', 'title': 'Coffee &amp; Tea'}, {'alias': 'coffeeroasteries', 'title': 'Coffee Roasteries'}]</td>\n",
       "      <td>4.00</td>\n",
       "      <td>{'latitude': 40.7126284147746, 'longitude': -74.0128198486877}</td>\n",
       "      <td>[]</td>\n",
       "      <td>$$</td>\n",
       "      <td>{'address1': '185 Greenwich St', 'address2': 'LL3110', 'address3': None, 'city': 'New York', 'zip_code': '10007', 'country': 'US', 'state': 'NY', 'display_address': ['185 Greenwich St', 'LL3110', ...</td>\n",
       "      <td>16467661719</td>\n",
       "      <td>(646) 766-1719</td>\n",
       "      <td>This is inside the Oculus. I just wanted a cappuccino, dry. The barista certainly knew how to make the perfect cup!Staff is friendly. The place was clean..STAY AT HOME, EVERYONE. FLATTEN THE CURVE...</td>\n",
       "    </tr>\n",
       "    <tr>\n",
       "      <th>...</th>\n",
       "      <td>...</td>\n",
       "      <td>...</td>\n",
       "      <td>...</td>\n",
       "      <td>...</td>\n",
       "      <td>...</td>\n",
       "      <td>...</td>\n",
       "      <td>...</td>\n",
       "      <td>...</td>\n",
       "      <td>...</td>\n",
       "      <td>...</td>\n",
       "      <td>...</td>\n",
       "      <td>...</td>\n",
       "      <td>...</td>\n",
       "      <td>...</td>\n",
       "      <td>...</td>\n",
       "      <td>...</td>\n",
       "    </tr>\n",
       "    <tr>\n",
       "      <th>17297</th>\n",
       "      <td>K_e7_aNgghFLZ2zvjFSNkQ</td>\n",
       "      <td>loreley-beer-garden-new-york-2</td>\n",
       "      <td>Loreley Beer Garden</td>\n",
       "      <td>https://s3-media0.fl.yelpcdn.com/bphoto/RHzuMs1HJjcbSjpkmJIFlg/o.jpg</td>\n",
       "      <td>False</td>\n",
       "      <td>https://www.yelp.com/biz/loreley-beer-garden-new-york-2?adjust_creative=82uXkAt1Tiw7u9_h33zr1A&amp;utm_campaign=yelp_api_v3&amp;utm_medium=api_v3_phone_search&amp;utm_source=82uXkAt1Tiw7u9_h33zr1A</td>\n",
       "      <td>814</td>\n",
       "      <td>[{'alias': 'german', 'title': 'German'}, {'alias': 'beergardens', 'title': 'Beer Gardens'}]</td>\n",
       "      <td>3.50</td>\n",
       "      <td>{'latitude': 40.7212291, 'longitude': -73.992872}</td>\n",
       "      <td>['pickup', 'delivery']</td>\n",
       "      <td>$$</td>\n",
       "      <td>{'address1': '7 Rivington St', 'address2': None, 'address3': '', 'city': 'New York', 'zip_code': '10002', 'country': 'US', 'state': 'NY', 'display_address': ['7 Rivington St', 'New York, NY 10002']}</td>\n",
       "      <td>12122537077</td>\n",
       "      <td>(212) 253-7077</td>\n",
       "      <td>Mulled wine: my friend says, \"Would recommend does a good job of warming you up on a cold night.\"bourbon apple cider - my friend said, \"nice warm drink with a good cinnamony flavor, like a college...</td>\n",
       "    </tr>\n",
       "    <tr>\n",
       "      <th>17298</th>\n",
       "      <td>Pi-AJhThWqhb89mjHU65Nw</td>\n",
       "      <td>majestic-restaurant-bronx</td>\n",
       "      <td>Majestic restaurant</td>\n",
       "      <td>https://s3-media0.fl.yelpcdn.com/bphoto/EpUrURPt_-Cu1sWNwmJbYw/o.jpg</td>\n",
       "      <td>False</td>\n",
       "      <td>https://www.yelp.com/biz/majestic-restaurant-bronx?adjust_creative=82uXkAt1Tiw7u9_h33zr1A&amp;utm_campaign=yelp_api_v3&amp;utm_medium=api_v3_phone_search&amp;utm_source=82uXkAt1Tiw7u9_h33zr1A</td>\n",
       "      <td>17</td>\n",
       "      <td>[{'alias': 'dominican', 'title': 'Dominican'}]</td>\n",
       "      <td>3.00</td>\n",
       "      <td>{'latitude': 40.854152, 'longitude': -73.8840031}</td>\n",
       "      <td>['pickup', 'delivery']</td>\n",
       "      <td>NaN</td>\n",
       "      <td>{'address1': '709 E 187th St', 'address2': None, 'address3': '', 'city': 'bronx', 'zip_code': '10458', 'country': 'US', 'state': 'NY', 'display_address': ['709 E 187th St', 'bronx, NY 10458']}</td>\n",
       "      <td>17186180032</td>\n",
       "      <td>(718) 618-0032</td>\n",
       "      <td>Breakfast was great and filling. The mangu was freshly made and tasted really good. The only thing that was missing was onions..I order food from here often and I love this place! Delivery is fast...</td>\n",
       "    </tr>\n",
       "    <tr>\n",
       "      <th>17299</th>\n",
       "      <td>lEUzamk42G4kkVXFdhExSw</td>\n",
       "      <td>golden-sands-cafe-sheepshead-bay</td>\n",
       "      <td>Golden Sands Cafe</td>\n",
       "      <td>https://s3-media0.fl.yelpcdn.com/bphoto/vUg1wFXfMjRqLdfs8j5a_Q/o.jpg</td>\n",
       "      <td>False</td>\n",
       "      <td>https://www.yelp.com/biz/golden-sands-cafe-sheepshead-bay?adjust_creative=82uXkAt1Tiw7u9_h33zr1A&amp;utm_campaign=yelp_api_v3&amp;utm_medium=api_v3_phone_search&amp;utm_source=82uXkAt1Tiw7u9_h33zr1A</td>\n",
       "      <td>18</td>\n",
       "      <td>[{'alias': 'dimsum', 'title': 'Dim Sum'}, {'alias': 'cafes', 'title': 'Cafes'}, {'alias': 'sandwiches', 'title': 'Sandwiches'}]</td>\n",
       "      <td>3.50</td>\n",
       "      <td>{'latitude': 40.599075, 'longitude': -73.951736}</td>\n",
       "      <td>['delivery', 'pickup']</td>\n",
       "      <td>$</td>\n",
       "      <td>{'address1': '1924 Ave U', 'address2': '', 'address3': '', 'city': 'Sheepshead Bay', 'zip_code': '11229', 'country': 'US', 'state': 'NY', 'display_address': ['1924 Ave U', 'Sheepshead Bay, NY 1122...</td>\n",
       "      <td>17186488898</td>\n",
       "      <td>(718) 648-8898</td>\n",
       "      <td>I usually stop by for breakfast or lunch. Dimsum and iced coffee are always on point. They have a large selection of buns, though I usually stick with a raisin twist or custard bao. Usually by mid...</td>\n",
       "    </tr>\n",
       "    <tr>\n",
       "      <th>17300</th>\n",
       "      <td>8pSdwDyx4Xu4PdYluzxtJQ</td>\n",
       "      <td>century-cafe-of-brooklyn-brooklyn</td>\n",
       "      <td>Century Cafe of Brooklyn</td>\n",
       "      <td>https://s3-media0.fl.yelpcdn.com/bphoto/c4ZHWfFEv58OFjTTznd74Q/o.jpg</td>\n",
       "      <td>True</td>\n",
       "      <td>https://www.yelp.com/biz/century-cafe-of-brooklyn-brooklyn?adjust_creative=82uXkAt1Tiw7u9_h33zr1A&amp;utm_campaign=yelp_api_v3&amp;utm_medium=api_v3_phone_search&amp;utm_source=82uXkAt1Tiw7u9_h33zr1A</td>\n",
       "      <td>9</td>\n",
       "      <td>[{'alias': 'bakeries', 'title': 'Bakeries'}, {'alias': 'coffee', 'title': 'Coffee &amp; Tea'}]</td>\n",
       "      <td>3.50</td>\n",
       "      <td>{'latitude': 40.599084, 'longitude': -73.951738}</td>\n",
       "      <td>[]</td>\n",
       "      <td>$</td>\n",
       "      <td>{'address1': '1924 Ave U', 'address2': '', 'address3': '', 'city': 'Brooklyn', 'zip_code': '11229', 'country': 'US', 'state': 'NY', 'display_address': ['1924 Ave U', 'Brooklyn, NY 11229']}</td>\n",
       "      <td>17186488898</td>\n",
       "      <td>(718) 648-8898</td>\n",
       "      <td>The 3 stars is for the very very decent vietnamese buns they have. It's really creamy and peppered to my liking. The one up is for the choices of dim sum and box lunch.I don't care for their milk ...</td>\n",
       "    </tr>\n",
       "    <tr>\n",
       "      <th>17301</th>\n",
       "      <td>boJPw2UISD67hm3Ro0kong</td>\n",
       "      <td>bobby-vans-steakhouse-new-york-10</td>\n",
       "      <td>Bobby Van's Steakhouse</td>\n",
       "      <td>https://s3-media0.fl.yelpcdn.com/bphoto/qvJpHCqvsrhQKqPnKaEzWQ/o.jpg</td>\n",
       "      <td>False</td>\n",
       "      <td>https://www.yelp.com/biz/bobby-vans-steakhouse-new-york-10?adjust_creative=82uXkAt1Tiw7u9_h33zr1A&amp;utm_campaign=yelp_api_v3&amp;utm_medium=api_v3_phone_search&amp;utm_source=82uXkAt1Tiw7u9_h33zr1A</td>\n",
       "      <td>139</td>\n",
       "      <td>[{'alias': 'steak', 'title': 'Steakhouses'}, {'alias': 'tradamerican', 'title': 'American (Traditional)'}, {'alias': 'seafood', 'title': 'Seafood'}]</td>\n",
       "      <td>3.50</td>\n",
       "      <td>{'latitude': 40.7543768198208, 'longitude': -73.9755606651306}</td>\n",
       "      <td>['pickup', 'delivery']</td>\n",
       "      <td>$$$$</td>\n",
       "      <td>{'address1': '230 Park Ave', 'address2': '', 'address3': '', 'city': 'New York', 'zip_code': '10169', 'country': 'US', 'state': 'NY', 'display_address': ['230 Park Ave', 'New York, NY 10169']}</td>\n",
       "      <td>12128675490</td>\n",
       "      <td>(212) 867-5490</td>\n",
       "      <td>Old school steakhouse--what you would expect. Every thing tastes good and the service is attentive. Not a single female on serving staff which I found interesting. I wish the menu had descriptions...</td>\n",
       "    </tr>\n",
       "  </tbody>\n",
       "</table>\n",
       "<p>17302 rows × 16 columns</p>\n",
       "</div>"
      ],
      "text/plain": [
       "                           id                                       alias  \\\n",
       "0      RzKR9QcYP03EQ_8DxTxowg                       barrio-chino-new-york   \n",
       "1      hrP3xLWJ8sLwG_XxEGq61Q                   reyes-restaurant-woodside   \n",
       "2      in7QM4vNUTHVZIi7Outetg                      mcdonalds-new-york-430   \n",
       "3      F-YGKegXRG2TE-Xw1AWeCA  popeyes-louisiana-kitchen-rockaway-beach-2   \n",
       "4      rYl_R-UILYqA6vYsbNwLsg              joe-coffee-company-new-york-14   \n",
       "...                       ...                                         ...   \n",
       "17297  K_e7_aNgghFLZ2zvjFSNkQ              loreley-beer-garden-new-york-2   \n",
       "17298  Pi-AJhThWqhb89mjHU65Nw                   majestic-restaurant-bronx   \n",
       "17299  lEUzamk42G4kkVXFdhExSw            golden-sands-cafe-sheepshead-bay   \n",
       "17300  8pSdwDyx4Xu4PdYluzxtJQ           century-cafe-of-brooklyn-brooklyn   \n",
       "17301  boJPw2UISD67hm3Ro0kong           bobby-vans-steakhouse-new-york-10   \n",
       "\n",
       "                            name  \\\n",
       "0                   Barrio Chino   \n",
       "1               Reyes Restaurant   \n",
       "2                     McDonald's   \n",
       "3      Popeyes Louisiana Kitchen   \n",
       "4             Joe Coffee Company   \n",
       "...                          ...   \n",
       "17297        Loreley Beer Garden   \n",
       "17298        Majestic restaurant   \n",
       "17299          Golden Sands Cafe   \n",
       "17300   Century Cafe of Brooklyn   \n",
       "17301     Bobby Van's Steakhouse   \n",
       "\n",
       "                                                                  image_url  \\\n",
       "0      https://s3-media0.fl.yelpcdn.com/bphoto/dpaRqPZD6xqDZo2ZfOyjnQ/o.jpg   \n",
       "1      https://s3-media0.fl.yelpcdn.com/bphoto/_dwQGccROJaxa-oNIxQsEg/o.jpg   \n",
       "2      https://s3-media0.fl.yelpcdn.com/bphoto/bNmu8D1sjwJzbxxP9ZwJOQ/o.jpg   \n",
       "3      https://s3-media0.fl.yelpcdn.com/bphoto/A4MR2hDN3mWefMUT7bBB2A/o.jpg   \n",
       "4      https://s3-media0.fl.yelpcdn.com/bphoto/e-nX3g-MQAN48MDPAv2cIg/o.jpg   \n",
       "...                                                                     ...   \n",
       "17297  https://s3-media0.fl.yelpcdn.com/bphoto/RHzuMs1HJjcbSjpkmJIFlg/o.jpg   \n",
       "17298  https://s3-media0.fl.yelpcdn.com/bphoto/EpUrURPt_-Cu1sWNwmJbYw/o.jpg   \n",
       "17299  https://s3-media0.fl.yelpcdn.com/bphoto/vUg1wFXfMjRqLdfs8j5a_Q/o.jpg   \n",
       "17300  https://s3-media0.fl.yelpcdn.com/bphoto/c4ZHWfFEv58OFjTTznd74Q/o.jpg   \n",
       "17301  https://s3-media0.fl.yelpcdn.com/bphoto/qvJpHCqvsrhQKqPnKaEzWQ/o.jpg   \n",
       "\n",
       "       is_closed  \\\n",
       "0          False   \n",
       "1          False   \n",
       "2          False   \n",
       "3          False   \n",
       "4          False   \n",
       "...          ...   \n",
       "17297      False   \n",
       "17298      False   \n",
       "17299      False   \n",
       "17300       True   \n",
       "17301      False   \n",
       "\n",
       "                                                                                                                                                                                                        url  \\\n",
       "0                           https://www.yelp.com/biz/barrio-chino-new-york?adjust_creative=82uXkAt1Tiw7u9_h33zr1A&utm_campaign=yelp_api_v3&utm_medium=api_v3_phone_search&utm_source=82uXkAt1Tiw7u9_h33zr1A   \n",
       "1                       https://www.yelp.com/biz/reyes-restaurant-woodside?adjust_creative=82uXkAt1Tiw7u9_h33zr1A&utm_campaign=yelp_api_v3&utm_medium=api_v3_phone_search&utm_source=82uXkAt1Tiw7u9_h33zr1A   \n",
       "2                          https://www.yelp.com/biz/mcdonalds-new-york-430?adjust_creative=82uXkAt1Tiw7u9_h33zr1A&utm_campaign=yelp_api_v3&utm_medium=api_v3_phone_search&utm_source=82uXkAt1Tiw7u9_h33zr1A   \n",
       "3      https://www.yelp.com/biz/popeyes-louisiana-kitchen-rockaway-beach-2?adjust_creative=82uXkAt1Tiw7u9_h33zr1A&utm_campaign=yelp_api_v3&utm_medium=api_v3_phone_search&utm_source=82uXkAt1Tiw7u9_h33zr1A   \n",
       "4                  https://www.yelp.com/biz/joe-coffee-company-new-york-14?adjust_creative=82uXkAt1Tiw7u9_h33zr1A&utm_campaign=yelp_api_v3&utm_medium=api_v3_phone_search&utm_source=82uXkAt1Tiw7u9_h33zr1A   \n",
       "...                                                                                                                                                                                                     ...   \n",
       "17297              https://www.yelp.com/biz/loreley-beer-garden-new-york-2?adjust_creative=82uXkAt1Tiw7u9_h33zr1A&utm_campaign=yelp_api_v3&utm_medium=api_v3_phone_search&utm_source=82uXkAt1Tiw7u9_h33zr1A   \n",
       "17298                   https://www.yelp.com/biz/majestic-restaurant-bronx?adjust_creative=82uXkAt1Tiw7u9_h33zr1A&utm_campaign=yelp_api_v3&utm_medium=api_v3_phone_search&utm_source=82uXkAt1Tiw7u9_h33zr1A   \n",
       "17299            https://www.yelp.com/biz/golden-sands-cafe-sheepshead-bay?adjust_creative=82uXkAt1Tiw7u9_h33zr1A&utm_campaign=yelp_api_v3&utm_medium=api_v3_phone_search&utm_source=82uXkAt1Tiw7u9_h33zr1A   \n",
       "17300           https://www.yelp.com/biz/century-cafe-of-brooklyn-brooklyn?adjust_creative=82uXkAt1Tiw7u9_h33zr1A&utm_campaign=yelp_api_v3&utm_medium=api_v3_phone_search&utm_source=82uXkAt1Tiw7u9_h33zr1A   \n",
       "17301           https://www.yelp.com/biz/bobby-vans-steakhouse-new-york-10?adjust_creative=82uXkAt1Tiw7u9_h33zr1A&utm_campaign=yelp_api_v3&utm_medium=api_v3_phone_search&utm_source=82uXkAt1Tiw7u9_h33zr1A   \n",
       "\n",
       "       review_count  \\\n",
       "0              1148   \n",
       "1                 7   \n",
       "2               103   \n",
       "3                21   \n",
       "4                24   \n",
       "...             ...   \n",
       "17297           814   \n",
       "17298            17   \n",
       "17299            18   \n",
       "17300             9   \n",
       "17301           139   \n",
       "\n",
       "                                                                                                                                                 categories  \\\n",
       "0                                                                            [{'alias': 'mexican', 'title': 'Mexican'}, {'alias': 'bars', 'title': 'Bars'}]   \n",
       "1                                                             [{'alias': 'latin', 'title': 'Latin American'}, {'alias': 'dominican', 'title': 'Dominican'}]   \n",
       "2                      [{'alias': 'burgers', 'title': 'Burgers'}, {'alias': 'hotdogs', 'title': 'Fast Food'}, {'alias': 'coffee', 'title': 'Coffee & Tea'}]   \n",
       "3              [{'alias': 'hotdogs', 'title': 'Fast Food'}, {'alias': 'seafood', 'title': 'Seafood'}, {'alias': 'chicken_wings', 'title': 'Chicken Wings'}]   \n",
       "4                                               [{'alias': 'coffee', 'title': 'Coffee & Tea'}, {'alias': 'coffeeroasteries', 'title': 'Coffee Roasteries'}]   \n",
       "...                                                                                                                                                     ...   \n",
       "17297                                                           [{'alias': 'german', 'title': 'German'}, {'alias': 'beergardens', 'title': 'Beer Gardens'}]   \n",
       "17298                                                                                                        [{'alias': 'dominican', 'title': 'Dominican'}]   \n",
       "17299                       [{'alias': 'dimsum', 'title': 'Dim Sum'}, {'alias': 'cafes', 'title': 'Cafes'}, {'alias': 'sandwiches', 'title': 'Sandwiches'}]   \n",
       "17300                                                            [{'alias': 'bakeries', 'title': 'Bakeries'}, {'alias': 'coffee', 'title': 'Coffee & Tea'}]   \n",
       "17301  [{'alias': 'steak', 'title': 'Steakhouses'}, {'alias': 'tradamerican', 'title': 'American (Traditional)'}, {'alias': 'seafood', 'title': 'Seafood'}]   \n",
       "\n",
       "       rating  \\\n",
       "0        4.00   \n",
       "1        4.00   \n",
       "2        1.50   \n",
       "3        2.00   \n",
       "4        4.00   \n",
       "...       ...   \n",
       "17297    3.50   \n",
       "17298    3.00   \n",
       "17299    3.50   \n",
       "17300    3.50   \n",
       "17301    3.50   \n",
       "\n",
       "                                                             coordinates  \\\n",
       "0                       {'latitude': 40.718022, 'longitude': -73.990026}   \n",
       "1                           {'latitude': 40.7466, 'longitude': -73.9098}   \n",
       "2         {'latitude': 40.7163213865248, 'longitude': -74.0106988300204}   \n",
       "3      {'latitude': 40.587551867915515, 'longitude': -73.81088484629929}   \n",
       "4         {'latitude': 40.7126284147746, 'longitude': -74.0128198486877}   \n",
       "...                                                                  ...   \n",
       "17297                  {'latitude': 40.7212291, 'longitude': -73.992872}   \n",
       "17298                  {'latitude': 40.854152, 'longitude': -73.8840031}   \n",
       "17299                   {'latitude': 40.599075, 'longitude': -73.951736}   \n",
       "17300                   {'latitude': 40.599084, 'longitude': -73.951738}   \n",
       "17301     {'latitude': 40.7543768198208, 'longitude': -73.9755606651306}   \n",
       "\n",
       "                 transactions price  \\\n",
       "0      ['delivery', 'pickup']    $$   \n",
       "1                ['delivery']     $   \n",
       "2                ['delivery']     $   \n",
       "3      ['pickup', 'delivery']     $   \n",
       "4                          []    $$   \n",
       "...                       ...   ...   \n",
       "17297  ['pickup', 'delivery']    $$   \n",
       "17298  ['pickup', 'delivery']   NaN   \n",
       "17299  ['delivery', 'pickup']     $   \n",
       "17300                      []     $   \n",
       "17301  ['pickup', 'delivery']  $$$$   \n",
       "\n",
       "                                                                                                                                                                                                      location  \\\n",
       "0         {'address1': '253 Broome St', 'address2': None, 'address3': '', 'city': 'New York', 'zip_code': '10002', 'country': 'US', 'state': 'NY', 'display_address': ['253 Broome St', 'New York, NY 10002']}   \n",
       "1             {'address1': '4754 46th St', 'address2': '', 'address3': '', 'city': 'Woodside', 'zip_code': '11377', 'country': 'US', 'state': 'NY', 'display_address': ['4754 46th St', 'Woodside, NY 11377']}   \n",
       "2       {'address1': '167 Chambers St', 'address2': '', 'address3': '', 'city': 'New York', 'zip_code': '10007', 'country': 'US', 'state': 'NY', 'display_address': ['167 Chambers St', 'New York, NY 10007']}   \n",
       "3      {'address1': '8601 Rockaway Beach Blvd', 'address2': '', 'address3': None, 'city': 'Rockaway Beach', 'zip_code': '11693', 'country': 'US', 'state': 'NY', 'display_address': ['8601 Rockaway Beach B...   \n",
       "4      {'address1': '185 Greenwich St', 'address2': 'LL3110', 'address3': None, 'city': 'New York', 'zip_code': '10007', 'country': 'US', 'state': 'NY', 'display_address': ['185 Greenwich St', 'LL3110', ...   \n",
       "...                                                                                                                                                                                                        ...   \n",
       "17297   {'address1': '7 Rivington St', 'address2': None, 'address3': '', 'city': 'New York', 'zip_code': '10002', 'country': 'US', 'state': 'NY', 'display_address': ['7 Rivington St', 'New York, NY 10002']}   \n",
       "17298         {'address1': '709 E 187th St', 'address2': None, 'address3': '', 'city': 'bronx', 'zip_code': '10458', 'country': 'US', 'state': 'NY', 'display_address': ['709 E 187th St', 'bronx, NY 10458']}   \n",
       "17299  {'address1': '1924 Ave U', 'address2': '', 'address3': '', 'city': 'Sheepshead Bay', 'zip_code': '11229', 'country': 'US', 'state': 'NY', 'display_address': ['1924 Ave U', 'Sheepshead Bay, NY 1122...   \n",
       "17300             {'address1': '1924 Ave U', 'address2': '', 'address3': '', 'city': 'Brooklyn', 'zip_code': '11229', 'country': 'US', 'state': 'NY', 'display_address': ['1924 Ave U', 'Brooklyn, NY 11229']}   \n",
       "17301         {'address1': '230 Park Ave', 'address2': '', 'address3': '', 'city': 'New York', 'zip_code': '10169', 'country': 'US', 'state': 'NY', 'display_address': ['230 Park Ave', 'New York, NY 10169']}   \n",
       "\n",
       "             phone   display_phone  \\\n",
       "0      12122286710  (212) 228-6710   \n",
       "1      17187529577  (718) 752-9577   \n",
       "2      12126082405  (212) 608-2405   \n",
       "3      17189452815  (718) 945-2815   \n",
       "4      16467661719  (646) 766-1719   \n",
       "...            ...             ...   \n",
       "17297  12122537077  (212) 253-7077   \n",
       "17298  17186180032  (718) 618-0032   \n",
       "17299  17186488898  (718) 648-8898   \n",
       "17300  17186488898  (718) 648-8898   \n",
       "17301  12128675490  (212) 867-5490   \n",
       "\n",
       "                                                                                                                                                                                                       Reviews  \n",
       "0      My sister has gone here a bunch of times and I finally went. I am truly mad at myself for not going sooner. We were seated without a reservation around 7 on a Tuesday. Service was superb. Water gl...  \n",
       "1      Good food served by good people. Love the mangu with everything, it's my go-to order..I was super happy to find out that there was a Dominican restaurant in my neighborhood. I came on a Saturday a...  \n",
       "2      I love McDonalds breakfast but of the 6 times I've been here recently, this is the 2nd time they forget my hash brown and today I found a hair on my egg. I used to frequent this McDonalds in the p...  \n",
       "3      The app was messed up & I called & spoke to this wonderful worker Tiffany! She was able to allow me to change my soda since their was no other option. She also allowed me to add ketchup to the ord...  \n",
       "4      This is inside the Oculus. I just wanted a cappuccino, dry. The barista certainly knew how to make the perfect cup!Staff is friendly. The place was clean..STAY AT HOME, EVERYONE. FLATTEN THE CURVE...  \n",
       "...                                                                                                                                                                                                        ...  \n",
       "17297  Mulled wine: my friend says, \"Would recommend does a good job of warming you up on a cold night.\"bourbon apple cider - my friend said, \"nice warm drink with a good cinnamony flavor, like a college...  \n",
       "17298  Breakfast was great and filling. The mangu was freshly made and tasted really good. The only thing that was missing was onions..I order food from here often and I love this place! Delivery is fast...  \n",
       "17299  I usually stop by for breakfast or lunch. Dimsum and iced coffee are always on point. They have a large selection of buns, though I usually stick with a raisin twist or custard bao. Usually by mid...  \n",
       "17300  The 3 stars is for the very very decent vietnamese buns they have. It's really creamy and peppered to my liking. The one up is for the choices of dim sum and box lunch.I don't care for their milk ...  \n",
       "17301  Old school steakhouse--what you would expect. Every thing tastes good and the service is attentive. Not a single female on serving staff which I found interesting. I wish the menu had descriptions...  \n",
       "\n",
       "[17302 rows x 16 columns]"
      ]
     },
     "execution_count": 66,
     "metadata": {},
     "output_type": "execute_result"
    }
   ],
   "source": [
    "# Concatenating all Yelp businesses tables with review text included\n",
    "yelp_df = pd.concat(yelp_tables,ignore_index=True)\n",
    "yelp_df"
   ]
  },
  {
   "cell_type": "code",
   "execution_count": null,
   "metadata": {
    "ExecuteTime": {
     "end_time": "2022-04-06T21:10:42.746234Z",
     "start_time": "2022-04-06T21:10:42.728669Z"
    }
   },
   "outputs": [],
   "source": [
    "# NOT OLD - clean JSON dataframes\n",
    "\n",
    "# def prepare_data(data_list):\n",
    "#     \"\"\"\n",
    "#     This function takes in a list of dictionaries and prepares it\n",
    "#     for analysis\n",
    "#     \"\"\"\n",
    "    \n",
    "#     # Make a new list to hold results\n",
    "#     results = []\n",
    "    \n",
    "#     for business_data in data_list:\n",
    "    \n",
    "#         # Make a new dictionary to hold prepared data for this business\n",
    "#         prepared_data = {}\n",
    "        \n",
    "#         # Extract name, review_count, rating, and price key-value pairs\n",
    "#         # from business_data and add to prepared_data\n",
    "#         # If a key is not present in business_data, add it to prepared_data\n",
    "#         # with an associated value of None\n",
    "#         for key in (\"name\", \"review_count\", \"rating\", \"price\"):\n",
    "#             prepared_data[key] = business_data.get(key, None)\n",
    "    \n",
    "#         # Parse and add latitude and longitude columns\n",
    "#         coordinates = business_data[\"coordinates\"]\n",
    "#         prepared_data[\"latitude\"] = coordinates[\"latitude\"]\n",
    "#         prepared_data[\"longitude\"] = coordinates[\"longitude\"]\n",
    "        \n",
    "#         # Add to list if all values are present\n",
    "#         if all(prepared_data.values()):\n",
    "#             results.append(prepared_data)\n",
    "    \n",
    "#     return results\n",
    "    \n",
    "# # Test out function\n",
    "# prepared_businesses = prepare_data(businesses)\n",
    "# prepared_businesses[:5]"
   ]
  },
  {
   "cell_type": "code",
   "execution_count": null,
   "metadata": {
    "ExecuteTime": {
     "end_time": "2022-03-23T01:52:48.820508Z",
     "start_time": "2022-03-23T01:52:48.809218Z"
    }
   },
   "outputs": [],
   "source": [
    "# NOT OLD - clean JSON dataframes\n",
    "# lat = []\n",
    "# long = []\n",
    "\n",
    "# for _,business in yelp_df.iterrows():\n",
    "#     lat.append(business['coordinates']['latitude'])\n",
    "#     long.append(business['coordinates']['longitude'])\n",
    "\n",
    "# yelp_df['lat'] = lat\n",
    "# yelp_df['long'] = long"
   ]
  },
  {
   "cell_type": "code",
   "execution_count": null,
   "metadata": {
    "ExecuteTime": {
     "end_time": "2022-04-16T17:22:24.996907Z",
     "start_time": "2022-04-16T17:22:24.990683Z"
    }
   },
   "outputs": [],
   "source": [
    "# OLD Yelp Review API\n",
    "# yelp_ids = list(yelp_businesses_df['id'])"
   ]
  },
  {
   "cell_type": "code",
   "execution_count": null,
   "metadata": {
    "ExecuteTime": {
     "end_time": "2022-04-16T17:38:23.035631Z",
     "start_time": "2022-04-16T17:38:22.612783Z"
    }
   },
   "outputs": [],
   "source": [
    "# OLD Yelp Review API\n",
    "# review_corp = []\n",
    "\n",
    "# for business in  yelp_ids:\n",
    "#     yelp_id = business\n",
    "#     url = f'https://api.yelp.com/v3/businesses/{yelp_id}/reviews'\n",
    "#     headers = {'Authorization': 'Bearer ' + creds['api_key']}\n",
    "#     response = requests.get(url, headers=headers)\n",
    "#     response_json = response.json()\n",
    "#     response_json\n",
    "    \n",
    "#     for review in response_json.get('reviews'):\n",
    "#         review_corp.append(review['text'])\n",
    "        \n",
    "#     dict_test = {'yelp_id' : yelp_id, 'review_text' : review_corp}\n",
    "\n",
    "#     df_test = pd.DataFrame(dict_test)\n",
    "    \n",
    "# df_test"
   ]
  },
  {
   "cell_type": "code",
   "execution_count": null,
   "metadata": {
    "ExecuteTime": {
     "end_time": "2022-04-17T16:05:35.052610Z",
     "start_time": "2022-04-17T16:05:35.026084Z"
    }
   },
   "outputs": [],
   "source": [
    "# OLD Yelp Review API\n",
    "# for review in review_corp:\n",
    "#     print(len(review))"
   ]
  },
  {
   "cell_type": "code",
   "execution_count": null,
   "metadata": {
    "ExecuteTime": {
     "end_time": "2022-04-15T02:12:08.605749Z",
     "start_time": "2022-04-15T02:12:08.247867Z"
    }
   },
   "outputs": [],
   "source": [
    "# OLD Yelp Review API\n",
    "# #Review Search \n",
    "# yelp_id = 'fEsgUESZxOQtd4YEmAUuow'\n",
    "# url = f'https://api.yelp.com/v3/businesses/{yelp_id}/reviews'\n",
    "# headers = {'Authorization': 'Bearer ' + creds['api_key']}\n",
    "# response = requests.get(url, headers=headers)\n",
    "# response_json = response.json()\n",
    "# response_json"
   ]
  },
  {
   "cell_type": "code",
   "execution_count": null,
   "metadata": {
    "ExecuteTime": {
     "end_time": "2022-04-15T02:40:22.429405Z",
     "start_time": "2022-04-15T02:40:22.419460Z"
    }
   },
   "outputs": [],
   "source": [
    "# OLD Yelp Review API\n",
    "# review_corp = []\n",
    "\n",
    "# for review in response_json.get('reviews'):\n",
    "#     review_corp.append(review['text'])"
   ]
  },
  {
   "cell_type": "code",
   "execution_count": null,
   "metadata": {
    "ExecuteTime": {
     "end_time": "2022-04-15T02:44:56.085995Z",
     "start_time": "2022-04-15T02:44:56.082350Z"
    }
   },
   "outputs": [],
   "source": [
    "# OLD Yelp Review API\n",
    "# review_corp = ''.join(review_corp)"
   ]
  },
  {
   "cell_type": "code",
   "execution_count": null,
   "metadata": {
    "ExecuteTime": {
     "end_time": "2022-04-15T02:40:24.820929Z",
     "start_time": "2022-04-15T02:40:24.806937Z"
    }
   },
   "outputs": [],
   "source": [
    "# OLD Yelp Review API\n",
    "# dict_test = {'yelp_id' : yelp_id, 'review_text' : review_corp}\n",
    "# df_test = pd.DataFrame(dict_test)\n",
    "# df_test"
   ]
  },
  {
   "cell_type": "code",
   "execution_count": null,
   "metadata": {
    "ExecuteTime": {
     "end_time": "2022-04-14T15:07:46.486247Z",
     "start_time": "2022-04-14T15:07:46.435062Z"
    }
   },
   "outputs": [],
   "source": [
    "# OLD Yelp Review API\n",
    "# review_df = pd.DataFrame(response_json.get('reviews'))\n",
    "# review_df"
   ]
  },
  {
   "cell_type": "markdown",
   "metadata": {},
   "source": [
    "## Joining NYC DOHMH & Yelp Datasets"
   ]
  },
  {
   "cell_type": "code",
   "execution_count": 67,
   "metadata": {
    "ExecuteTime": {
     "end_time": "2022-05-11T02:28:07.133507Z",
     "start_time": "2022-05-11T02:28:07.115909Z"
    }
   },
   "outputs": [
    {
     "data": {
      "text/html": [
       "<div>\n",
       "<style scoped>\n",
       "    .dataframe tbody tr th:only-of-type {\n",
       "        vertical-align: middle;\n",
       "    }\n",
       "\n",
       "    .dataframe tbody tr th {\n",
       "        vertical-align: top;\n",
       "    }\n",
       "\n",
       "    .dataframe thead th {\n",
       "        text-align: right;\n",
       "    }\n",
       "</style>\n",
       "<table border=\"1\" class=\"dataframe\">\n",
       "  <thead>\n",
       "    <tr style=\"text-align: right;\">\n",
       "      <th></th>\n",
       "      <th>CAMIS</th>\n",
       "      <th>DBA</th>\n",
       "      <th>CUISINE DESCRIPTION</th>\n",
       "      <th>BORO</th>\n",
       "      <th>BUILDING</th>\n",
       "      <th>STREET</th>\n",
       "      <th>ZIPCODE</th>\n",
       "      <th>PHONE</th>\n",
       "      <th>Latitude</th>\n",
       "      <th>Longitude</th>\n",
       "      <th>Community Board</th>\n",
       "      <th>Council District</th>\n",
       "      <th>Census Tract</th>\n",
       "      <th>Severe</th>\n",
       "    </tr>\n",
       "  </thead>\n",
       "  <tbody>\n",
       "    <tr>\n",
       "      <th>0</th>\n",
       "      <td>30075445</td>\n",
       "      <td>MORRIS PARK BAKE SHOP</td>\n",
       "      <td>Bakery Products/Desserts</td>\n",
       "      <td>Bronx</td>\n",
       "      <td>1007</td>\n",
       "      <td>MORRIS PARK AVENUE</td>\n",
       "      <td>10462.00</td>\n",
       "      <td>+17188924968</td>\n",
       "      <td>40.85</td>\n",
       "      <td>-73.86</td>\n",
       "      <td>211.00</td>\n",
       "      <td>13.00</td>\n",
       "      <td>25200.00</td>\n",
       "      <td>0</td>\n",
       "    </tr>\n",
       "    <tr>\n",
       "      <th>1</th>\n",
       "      <td>30112340</td>\n",
       "      <td>WENDY'S</td>\n",
       "      <td>Hamburgers</td>\n",
       "      <td>Brooklyn</td>\n",
       "      <td>469</td>\n",
       "      <td>FLATBUSH AVENUE</td>\n",
       "      <td>11225.00</td>\n",
       "      <td>+17182875005</td>\n",
       "      <td>40.66</td>\n",
       "      <td>-73.96</td>\n",
       "      <td>309.00</td>\n",
       "      <td>40.00</td>\n",
       "      <td>32700.00</td>\n",
       "      <td>0</td>\n",
       "    </tr>\n",
       "    <tr>\n",
       "      <th>2</th>\n",
       "      <td>30191841</td>\n",
       "      <td>DJ REYNOLDS PUB AND RESTAURANT</td>\n",
       "      <td>Irish</td>\n",
       "      <td>Manhattan</td>\n",
       "      <td>351</td>\n",
       "      <td>WEST   57 STREET</td>\n",
       "      <td>10019.00</td>\n",
       "      <td>+12122452912</td>\n",
       "      <td>40.77</td>\n",
       "      <td>-73.98</td>\n",
       "      <td>104.00</td>\n",
       "      <td>3.00</td>\n",
       "      <td>13900.00</td>\n",
       "      <td>0</td>\n",
       "    </tr>\n",
       "    <tr>\n",
       "      <th>3</th>\n",
       "      <td>40356018</td>\n",
       "      <td>RIVIERA CATERERS</td>\n",
       "      <td>American</td>\n",
       "      <td>Brooklyn</td>\n",
       "      <td>2780</td>\n",
       "      <td>STILLWELL AVENUE</td>\n",
       "      <td>11224.00</td>\n",
       "      <td>+17183723031</td>\n",
       "      <td>40.58</td>\n",
       "      <td>-73.98</td>\n",
       "      <td>313.00</td>\n",
       "      <td>47.00</td>\n",
       "      <td>34800.00</td>\n",
       "      <td>0</td>\n",
       "    </tr>\n",
       "    <tr>\n",
       "      <th>4</th>\n",
       "      <td>40356483</td>\n",
       "      <td>WILKEN'S FINE FOOD</td>\n",
       "      <td>Sandwiches</td>\n",
       "      <td>Brooklyn</td>\n",
       "      <td>7114</td>\n",
       "      <td>AVENUE U</td>\n",
       "      <td>11234.00</td>\n",
       "      <td>+17184443838</td>\n",
       "      <td>40.62</td>\n",
       "      <td>-73.91</td>\n",
       "      <td>318.00</td>\n",
       "      <td>46.00</td>\n",
       "      <td>70000.00</td>\n",
       "      <td>0</td>\n",
       "    </tr>\n",
       "  </tbody>\n",
       "</table>\n",
       "</div>"
      ],
      "text/plain": [
       "      CAMIS                             DBA       CUISINE DESCRIPTION  \\\n",
       "0  30075445           MORRIS PARK BAKE SHOP  Bakery Products/Desserts   \n",
       "1  30112340                         WENDY'S                Hamburgers   \n",
       "2  30191841  DJ REYNOLDS PUB AND RESTAURANT                     Irish   \n",
       "3  40356018                RIVIERA CATERERS                  American   \n",
       "4  40356483              WILKEN'S FINE FOOD                Sandwiches   \n",
       "\n",
       "        BORO BUILDING              STREET  ZIPCODE         PHONE  Latitude  \\\n",
       "0      Bronx     1007  MORRIS PARK AVENUE 10462.00  +17188924968     40.85   \n",
       "1   Brooklyn      469     FLATBUSH AVENUE 11225.00  +17182875005     40.66   \n",
       "2  Manhattan      351    WEST   57 STREET 10019.00  +12122452912     40.77   \n",
       "3   Brooklyn     2780    STILLWELL AVENUE 11224.00  +17183723031     40.58   \n",
       "4   Brooklyn     7114            AVENUE U 11234.00  +17184443838     40.62   \n",
       "\n",
       "   Longitude  Community Board  Council District  Census Tract  Severe  \n",
       "0     -73.86           211.00             13.00      25200.00       0  \n",
       "1     -73.96           309.00             40.00      32700.00       0  \n",
       "2     -73.98           104.00              3.00      13900.00       0  \n",
       "3     -73.98           313.00             47.00      34800.00       0  \n",
       "4     -73.91           318.00             46.00      70000.00       0  "
      ]
     },
     "execution_count": 67,
     "metadata": {},
     "output_type": "execute_result"
    }
   ],
   "source": [
    "nyc_df.head()"
   ]
  },
  {
   "cell_type": "code",
   "execution_count": 68,
   "metadata": {
    "ExecuteTime": {
     "end_time": "2022-05-11T02:28:09.971222Z",
     "start_time": "2022-05-11T02:28:09.894951Z"
    }
   },
   "outputs": [
    {
     "name": "stdout",
     "output_type": "stream",
     "text": [
      "<class 'pandas.core.frame.DataFrame'>\n",
      "RangeIndex: 19790 entries, 0 to 19789\n",
      "Data columns (total 14 columns):\n",
      " #   Column               Non-Null Count  Dtype  \n",
      "---  ------               --------------  -----  \n",
      " 0   CAMIS                19790 non-null  int64  \n",
      " 1   DBA                  19785 non-null  object \n",
      " 2   CUISINE DESCRIPTION  19789 non-null  object \n",
      " 3   BORO                 19790 non-null  object \n",
      " 4   BUILDING             19722 non-null  object \n",
      " 5   STREET               19790 non-null  object \n",
      " 6   ZIPCODE              19440 non-null  float64\n",
      " 7   PHONE                19790 non-null  object \n",
      " 8   Latitude             19764 non-null  float64\n",
      " 9   Longitude            19764 non-null  float64\n",
      " 10  Community Board      19358 non-null  float64\n",
      " 11  Council District     19359 non-null  float64\n",
      " 12  Census Tract         19359 non-null  float64\n",
      " 13  Severe               19790 non-null  int64  \n",
      "dtypes: float64(6), int64(2), object(6)\n",
      "memory usage: 2.1+ MB\n"
     ]
    }
   ],
   "source": [
    "nyc_df.info()"
   ]
  },
  {
   "cell_type": "code",
   "execution_count": 69,
   "metadata": {
    "ExecuteTime": {
     "end_time": "2022-05-11T02:28:13.157950Z",
     "start_time": "2022-05-11T02:28:13.138660Z"
    }
   },
   "outputs": [
    {
     "data": {
      "text/html": [
       "<div>\n",
       "<style scoped>\n",
       "    .dataframe tbody tr th:only-of-type {\n",
       "        vertical-align: middle;\n",
       "    }\n",
       "\n",
       "    .dataframe tbody tr th {\n",
       "        vertical-align: top;\n",
       "    }\n",
       "\n",
       "    .dataframe thead th {\n",
       "        text-align: right;\n",
       "    }\n",
       "</style>\n",
       "<table border=\"1\" class=\"dataframe\">\n",
       "  <thead>\n",
       "    <tr style=\"text-align: right;\">\n",
       "      <th></th>\n",
       "      <th>id</th>\n",
       "      <th>alias</th>\n",
       "      <th>name</th>\n",
       "      <th>image_url</th>\n",
       "      <th>is_closed</th>\n",
       "      <th>url</th>\n",
       "      <th>review_count</th>\n",
       "      <th>categories</th>\n",
       "      <th>rating</th>\n",
       "      <th>coordinates</th>\n",
       "      <th>transactions</th>\n",
       "      <th>price</th>\n",
       "      <th>location</th>\n",
       "      <th>phone</th>\n",
       "      <th>display_phone</th>\n",
       "      <th>Reviews</th>\n",
       "    </tr>\n",
       "  </thead>\n",
       "  <tbody>\n",
       "    <tr>\n",
       "      <th>0</th>\n",
       "      <td>RzKR9QcYP03EQ_8DxTxowg</td>\n",
       "      <td>barrio-chino-new-york</td>\n",
       "      <td>Barrio Chino</td>\n",
       "      <td>https://s3-media0.fl.yelpcdn.com/bphoto/dpaRqPZD6xqDZo2ZfOyjnQ/o.jpg</td>\n",
       "      <td>False</td>\n",
       "      <td>https://www.yelp.com/biz/barrio-chino-new-york?adjust_creative=82uXkAt1Tiw7u9_h33zr1A&amp;utm_campaign=yelp_api_v3&amp;utm_medium=api_v3_phone_search&amp;utm_source=82uXkAt1Tiw7u9_h33zr1A</td>\n",
       "      <td>1148</td>\n",
       "      <td>[{'alias': 'mexican', 'title': 'Mexican'}, {'alias': 'bars', 'title': 'Bars'}]</td>\n",
       "      <td>4.00</td>\n",
       "      <td>{'latitude': 40.718022, 'longitude': -73.990026}</td>\n",
       "      <td>['delivery', 'pickup']</td>\n",
       "      <td>$$</td>\n",
       "      <td>{'address1': '253 Broome St', 'address2': None, 'address3': '', 'city': 'New York', 'zip_code': '10002', 'country': 'US', 'state': 'NY', 'display_address': ['253 Broome St', 'New York, NY 10002']}</td>\n",
       "      <td>12122286710</td>\n",
       "      <td>(212) 228-6710</td>\n",
       "      <td>My sister has gone here a bunch of times and I finally went. I am truly mad at myself for not going sooner. We were seated without a reservation around 7 on a Tuesday. Service was superb. Water gl...</td>\n",
       "    </tr>\n",
       "    <tr>\n",
       "      <th>1</th>\n",
       "      <td>hrP3xLWJ8sLwG_XxEGq61Q</td>\n",
       "      <td>reyes-restaurant-woodside</td>\n",
       "      <td>Reyes Restaurant</td>\n",
       "      <td>https://s3-media0.fl.yelpcdn.com/bphoto/_dwQGccROJaxa-oNIxQsEg/o.jpg</td>\n",
       "      <td>False</td>\n",
       "      <td>https://www.yelp.com/biz/reyes-restaurant-woodside?adjust_creative=82uXkAt1Tiw7u9_h33zr1A&amp;utm_campaign=yelp_api_v3&amp;utm_medium=api_v3_phone_search&amp;utm_source=82uXkAt1Tiw7u9_h33zr1A</td>\n",
       "      <td>7</td>\n",
       "      <td>[{'alias': 'latin', 'title': 'Latin American'}, {'alias': 'dominican', 'title': 'Dominican'}]</td>\n",
       "      <td>4.00</td>\n",
       "      <td>{'latitude': 40.7466, 'longitude': -73.9098}</td>\n",
       "      <td>['delivery']</td>\n",
       "      <td>$</td>\n",
       "      <td>{'address1': '4754 46th St', 'address2': '', 'address3': '', 'city': 'Woodside', 'zip_code': '11377', 'country': 'US', 'state': 'NY', 'display_address': ['4754 46th St', 'Woodside, NY 11377']}</td>\n",
       "      <td>17187529577</td>\n",
       "      <td>(718) 752-9577</td>\n",
       "      <td>Good food served by good people. Love the mangu with everything, it's my go-to order..I was super happy to find out that there was a Dominican restaurant in my neighborhood. I came on a Saturday a...</td>\n",
       "    </tr>\n",
       "    <tr>\n",
       "      <th>2</th>\n",
       "      <td>in7QM4vNUTHVZIi7Outetg</td>\n",
       "      <td>mcdonalds-new-york-430</td>\n",
       "      <td>McDonald's</td>\n",
       "      <td>https://s3-media0.fl.yelpcdn.com/bphoto/bNmu8D1sjwJzbxxP9ZwJOQ/o.jpg</td>\n",
       "      <td>False</td>\n",
       "      <td>https://www.yelp.com/biz/mcdonalds-new-york-430?adjust_creative=82uXkAt1Tiw7u9_h33zr1A&amp;utm_campaign=yelp_api_v3&amp;utm_medium=api_v3_phone_search&amp;utm_source=82uXkAt1Tiw7u9_h33zr1A</td>\n",
       "      <td>103</td>\n",
       "      <td>[{'alias': 'burgers', 'title': 'Burgers'}, {'alias': 'hotdogs', 'title': 'Fast Food'}, {'alias': 'coffee', 'title': 'Coffee &amp; Tea'}]</td>\n",
       "      <td>1.50</td>\n",
       "      <td>{'latitude': 40.7163213865248, 'longitude': -74.0106988300204}</td>\n",
       "      <td>['delivery']</td>\n",
       "      <td>$</td>\n",
       "      <td>{'address1': '167 Chambers St', 'address2': '', 'address3': '', 'city': 'New York', 'zip_code': '10007', 'country': 'US', 'state': 'NY', 'display_address': ['167 Chambers St', 'New York, NY 10007']}</td>\n",
       "      <td>12126082405</td>\n",
       "      <td>(212) 608-2405</td>\n",
       "      <td>I love McDonalds breakfast but of the 6 times I've been here recently, this is the 2nd time they forget my hash brown and today I found a hair on my egg. I used to frequent this McDonalds in the p...</td>\n",
       "    </tr>\n",
       "    <tr>\n",
       "      <th>3</th>\n",
       "      <td>F-YGKegXRG2TE-Xw1AWeCA</td>\n",
       "      <td>popeyes-louisiana-kitchen-rockaway-beach-2</td>\n",
       "      <td>Popeyes Louisiana Kitchen</td>\n",
       "      <td>https://s3-media0.fl.yelpcdn.com/bphoto/A4MR2hDN3mWefMUT7bBB2A/o.jpg</td>\n",
       "      <td>False</td>\n",
       "      <td>https://www.yelp.com/biz/popeyes-louisiana-kitchen-rockaway-beach-2?adjust_creative=82uXkAt1Tiw7u9_h33zr1A&amp;utm_campaign=yelp_api_v3&amp;utm_medium=api_v3_phone_search&amp;utm_source=82uXkAt1Tiw7u9_h33zr1A</td>\n",
       "      <td>21</td>\n",
       "      <td>[{'alias': 'hotdogs', 'title': 'Fast Food'}, {'alias': 'seafood', 'title': 'Seafood'}, {'alias': 'chicken_wings', 'title': 'Chicken Wings'}]</td>\n",
       "      <td>2.00</td>\n",
       "      <td>{'latitude': 40.587551867915515, 'longitude': -73.81088484629929}</td>\n",
       "      <td>['pickup', 'delivery']</td>\n",
       "      <td>$</td>\n",
       "      <td>{'address1': '8601 Rockaway Beach Blvd', 'address2': '', 'address3': None, 'city': 'Rockaway Beach', 'zip_code': '11693', 'country': 'US', 'state': 'NY', 'display_address': ['8601 Rockaway Beach B...</td>\n",
       "      <td>17189452815</td>\n",
       "      <td>(718) 945-2815</td>\n",
       "      <td>The app was messed up &amp; I called &amp; spoke to this wonderful worker Tiffany! She was able to allow me to change my soda since their was no other option. She also allowed me to add ketchup to the ord...</td>\n",
       "    </tr>\n",
       "    <tr>\n",
       "      <th>4</th>\n",
       "      <td>rYl_R-UILYqA6vYsbNwLsg</td>\n",
       "      <td>joe-coffee-company-new-york-14</td>\n",
       "      <td>Joe Coffee Company</td>\n",
       "      <td>https://s3-media0.fl.yelpcdn.com/bphoto/e-nX3g-MQAN48MDPAv2cIg/o.jpg</td>\n",
       "      <td>False</td>\n",
       "      <td>https://www.yelp.com/biz/joe-coffee-company-new-york-14?adjust_creative=82uXkAt1Tiw7u9_h33zr1A&amp;utm_campaign=yelp_api_v3&amp;utm_medium=api_v3_phone_search&amp;utm_source=82uXkAt1Tiw7u9_h33zr1A</td>\n",
       "      <td>24</td>\n",
       "      <td>[{'alias': 'coffee', 'title': 'Coffee &amp; Tea'}, {'alias': 'coffeeroasteries', 'title': 'Coffee Roasteries'}]</td>\n",
       "      <td>4.00</td>\n",
       "      <td>{'latitude': 40.7126284147746, 'longitude': -74.0128198486877}</td>\n",
       "      <td>[]</td>\n",
       "      <td>$$</td>\n",
       "      <td>{'address1': '185 Greenwich St', 'address2': 'LL3110', 'address3': None, 'city': 'New York', 'zip_code': '10007', 'country': 'US', 'state': 'NY', 'display_address': ['185 Greenwich St', 'LL3110', ...</td>\n",
       "      <td>16467661719</td>\n",
       "      <td>(646) 766-1719</td>\n",
       "      <td>This is inside the Oculus. I just wanted a cappuccino, dry. The barista certainly knew how to make the perfect cup!Staff is friendly. The place was clean..STAY AT HOME, EVERYONE. FLATTEN THE CURVE...</td>\n",
       "    </tr>\n",
       "  </tbody>\n",
       "</table>\n",
       "</div>"
      ],
      "text/plain": [
       "                       id                                       alias  \\\n",
       "0  RzKR9QcYP03EQ_8DxTxowg                       barrio-chino-new-york   \n",
       "1  hrP3xLWJ8sLwG_XxEGq61Q                   reyes-restaurant-woodside   \n",
       "2  in7QM4vNUTHVZIi7Outetg                      mcdonalds-new-york-430   \n",
       "3  F-YGKegXRG2TE-Xw1AWeCA  popeyes-louisiana-kitchen-rockaway-beach-2   \n",
       "4  rYl_R-UILYqA6vYsbNwLsg              joe-coffee-company-new-york-14   \n",
       "\n",
       "                        name  \\\n",
       "0               Barrio Chino   \n",
       "1           Reyes Restaurant   \n",
       "2                 McDonald's   \n",
       "3  Popeyes Louisiana Kitchen   \n",
       "4         Joe Coffee Company   \n",
       "\n",
       "                                                              image_url  \\\n",
       "0  https://s3-media0.fl.yelpcdn.com/bphoto/dpaRqPZD6xqDZo2ZfOyjnQ/o.jpg   \n",
       "1  https://s3-media0.fl.yelpcdn.com/bphoto/_dwQGccROJaxa-oNIxQsEg/o.jpg   \n",
       "2  https://s3-media0.fl.yelpcdn.com/bphoto/bNmu8D1sjwJzbxxP9ZwJOQ/o.jpg   \n",
       "3  https://s3-media0.fl.yelpcdn.com/bphoto/A4MR2hDN3mWefMUT7bBB2A/o.jpg   \n",
       "4  https://s3-media0.fl.yelpcdn.com/bphoto/e-nX3g-MQAN48MDPAv2cIg/o.jpg   \n",
       "\n",
       "   is_closed  \\\n",
       "0      False   \n",
       "1      False   \n",
       "2      False   \n",
       "3      False   \n",
       "4      False   \n",
       "\n",
       "                                                                                                                                                                                                    url  \\\n",
       "0                       https://www.yelp.com/biz/barrio-chino-new-york?adjust_creative=82uXkAt1Tiw7u9_h33zr1A&utm_campaign=yelp_api_v3&utm_medium=api_v3_phone_search&utm_source=82uXkAt1Tiw7u9_h33zr1A   \n",
       "1                   https://www.yelp.com/biz/reyes-restaurant-woodside?adjust_creative=82uXkAt1Tiw7u9_h33zr1A&utm_campaign=yelp_api_v3&utm_medium=api_v3_phone_search&utm_source=82uXkAt1Tiw7u9_h33zr1A   \n",
       "2                      https://www.yelp.com/biz/mcdonalds-new-york-430?adjust_creative=82uXkAt1Tiw7u9_h33zr1A&utm_campaign=yelp_api_v3&utm_medium=api_v3_phone_search&utm_source=82uXkAt1Tiw7u9_h33zr1A   \n",
       "3  https://www.yelp.com/biz/popeyes-louisiana-kitchen-rockaway-beach-2?adjust_creative=82uXkAt1Tiw7u9_h33zr1A&utm_campaign=yelp_api_v3&utm_medium=api_v3_phone_search&utm_source=82uXkAt1Tiw7u9_h33zr1A   \n",
       "4              https://www.yelp.com/biz/joe-coffee-company-new-york-14?adjust_creative=82uXkAt1Tiw7u9_h33zr1A&utm_campaign=yelp_api_v3&utm_medium=api_v3_phone_search&utm_source=82uXkAt1Tiw7u9_h33zr1A   \n",
       "\n",
       "   review_count  \\\n",
       "0          1148   \n",
       "1             7   \n",
       "2           103   \n",
       "3            21   \n",
       "4            24   \n",
       "\n",
       "                                                                                                                                     categories  \\\n",
       "0                                                                [{'alias': 'mexican', 'title': 'Mexican'}, {'alias': 'bars', 'title': 'Bars'}]   \n",
       "1                                                 [{'alias': 'latin', 'title': 'Latin American'}, {'alias': 'dominican', 'title': 'Dominican'}]   \n",
       "2          [{'alias': 'burgers', 'title': 'Burgers'}, {'alias': 'hotdogs', 'title': 'Fast Food'}, {'alias': 'coffee', 'title': 'Coffee & Tea'}]   \n",
       "3  [{'alias': 'hotdogs', 'title': 'Fast Food'}, {'alias': 'seafood', 'title': 'Seafood'}, {'alias': 'chicken_wings', 'title': 'Chicken Wings'}]   \n",
       "4                                   [{'alias': 'coffee', 'title': 'Coffee & Tea'}, {'alias': 'coffeeroasteries', 'title': 'Coffee Roasteries'}]   \n",
       "\n",
       "   rating                                                        coordinates  \\\n",
       "0    4.00                   {'latitude': 40.718022, 'longitude': -73.990026}   \n",
       "1    4.00                       {'latitude': 40.7466, 'longitude': -73.9098}   \n",
       "2    1.50     {'latitude': 40.7163213865248, 'longitude': -74.0106988300204}   \n",
       "3    2.00  {'latitude': 40.587551867915515, 'longitude': -73.81088484629929}   \n",
       "4    4.00     {'latitude': 40.7126284147746, 'longitude': -74.0128198486877}   \n",
       "\n",
       "             transactions price  \\\n",
       "0  ['delivery', 'pickup']    $$   \n",
       "1            ['delivery']     $   \n",
       "2            ['delivery']     $   \n",
       "3  ['pickup', 'delivery']     $   \n",
       "4                      []    $$   \n",
       "\n",
       "                                                                                                                                                                                                  location  \\\n",
       "0     {'address1': '253 Broome St', 'address2': None, 'address3': '', 'city': 'New York', 'zip_code': '10002', 'country': 'US', 'state': 'NY', 'display_address': ['253 Broome St', 'New York, NY 10002']}   \n",
       "1         {'address1': '4754 46th St', 'address2': '', 'address3': '', 'city': 'Woodside', 'zip_code': '11377', 'country': 'US', 'state': 'NY', 'display_address': ['4754 46th St', 'Woodside, NY 11377']}   \n",
       "2   {'address1': '167 Chambers St', 'address2': '', 'address3': '', 'city': 'New York', 'zip_code': '10007', 'country': 'US', 'state': 'NY', 'display_address': ['167 Chambers St', 'New York, NY 10007']}   \n",
       "3  {'address1': '8601 Rockaway Beach Blvd', 'address2': '', 'address3': None, 'city': 'Rockaway Beach', 'zip_code': '11693', 'country': 'US', 'state': 'NY', 'display_address': ['8601 Rockaway Beach B...   \n",
       "4  {'address1': '185 Greenwich St', 'address2': 'LL3110', 'address3': None, 'city': 'New York', 'zip_code': '10007', 'country': 'US', 'state': 'NY', 'display_address': ['185 Greenwich St', 'LL3110', ...   \n",
       "\n",
       "         phone   display_phone  \\\n",
       "0  12122286710  (212) 228-6710   \n",
       "1  17187529577  (718) 752-9577   \n",
       "2  12126082405  (212) 608-2405   \n",
       "3  17189452815  (718) 945-2815   \n",
       "4  16467661719  (646) 766-1719   \n",
       "\n",
       "                                                                                                                                                                                                   Reviews  \n",
       "0  My sister has gone here a bunch of times and I finally went. I am truly mad at myself for not going sooner. We were seated without a reservation around 7 on a Tuesday. Service was superb. Water gl...  \n",
       "1  Good food served by good people. Love the mangu with everything, it's my go-to order..I was super happy to find out that there was a Dominican restaurant in my neighborhood. I came on a Saturday a...  \n",
       "2  I love McDonalds breakfast but of the 6 times I've been here recently, this is the 2nd time they forget my hash brown and today I found a hair on my egg. I used to frequent this McDonalds in the p...  \n",
       "3  The app was messed up & I called & spoke to this wonderful worker Tiffany! She was able to allow me to change my soda since their was no other option. She also allowed me to add ketchup to the ord...  \n",
       "4  This is inside the Oculus. I just wanted a cappuccino, dry. The barista certainly knew how to make the perfect cup!Staff is friendly. The place was clean..STAY AT HOME, EVERYONE. FLATTEN THE CURVE...  "
      ]
     },
     "execution_count": 69,
     "metadata": {},
     "output_type": "execute_result"
    }
   ],
   "source": [
    "yelp_df.head()"
   ]
  },
  {
   "cell_type": "code",
   "execution_count": 70,
   "metadata": {
    "ExecuteTime": {
     "end_time": "2022-05-11T02:28:14.153860Z",
     "start_time": "2022-05-11T02:28:14.095253Z"
    }
   },
   "outputs": [
    {
     "name": "stdout",
     "output_type": "stream",
     "text": [
      "<class 'pandas.core.frame.DataFrame'>\n",
      "RangeIndex: 17302 entries, 0 to 17301\n",
      "Data columns (total 16 columns):\n",
      " #   Column         Non-Null Count  Dtype  \n",
      "---  ------         --------------  -----  \n",
      " 0   id             17302 non-null  object \n",
      " 1   alias          17302 non-null  object \n",
      " 2   name           17302 non-null  object \n",
      " 3   image_url      16563 non-null  object \n",
      " 4   is_closed      17302 non-null  bool   \n",
      " 5   url            17302 non-null  object \n",
      " 6   review_count   17302 non-null  int64  \n",
      " 7   categories     17302 non-null  object \n",
      " 8   rating         17302 non-null  float64\n",
      " 9   coordinates    17302 non-null  object \n",
      " 10  transactions   17302 non-null  object \n",
      " 11  price          14501 non-null  object \n",
      " 12  location       17302 non-null  object \n",
      " 13  phone          17302 non-null  int64  \n",
      " 14  display_phone  17302 non-null  object \n",
      " 15  Reviews        14785 non-null  object \n",
      "dtypes: bool(1), float64(1), int64(2), object(12)\n",
      "memory usage: 2.0+ MB\n"
     ]
    }
   ],
   "source": [
    "yelp_df.info()"
   ]
  },
  {
   "cell_type": "code",
   "execution_count": 71,
   "metadata": {
    "ExecuteTime": {
     "end_time": "2022-05-11T02:28:15.149772Z",
     "start_time": "2022-05-11T02:28:15.132695Z"
    }
   },
   "outputs": [],
   "source": [
    "# Formatting Yelp phone numbers to align with NYC phone numbers to join on\n",
    "yelp_df['phone'] = '+' + yelp_df['phone'].apply(str)"
   ]
  },
  {
   "cell_type": "code",
   "execution_count": 72,
   "metadata": {
    "ExecuteTime": {
     "end_time": "2022-05-11T02:28:15.806628Z",
     "start_time": "2022-05-11T02:28:15.786542Z"
    }
   },
   "outputs": [
    {
     "data": {
      "text/html": [
       "<div>\n",
       "<style scoped>\n",
       "    .dataframe tbody tr th:only-of-type {\n",
       "        vertical-align: middle;\n",
       "    }\n",
       "\n",
       "    .dataframe tbody tr th {\n",
       "        vertical-align: top;\n",
       "    }\n",
       "\n",
       "    .dataframe thead th {\n",
       "        text-align: right;\n",
       "    }\n",
       "</style>\n",
       "<table border=\"1\" class=\"dataframe\">\n",
       "  <thead>\n",
       "    <tr style=\"text-align: right;\">\n",
       "      <th></th>\n",
       "      <th>id</th>\n",
       "      <th>alias</th>\n",
       "      <th>name</th>\n",
       "      <th>image_url</th>\n",
       "      <th>is_closed</th>\n",
       "      <th>url</th>\n",
       "      <th>review_count</th>\n",
       "      <th>categories</th>\n",
       "      <th>rating</th>\n",
       "      <th>coordinates</th>\n",
       "      <th>transactions</th>\n",
       "      <th>price</th>\n",
       "      <th>location</th>\n",
       "      <th>phone</th>\n",
       "      <th>display_phone</th>\n",
       "      <th>Reviews</th>\n",
       "    </tr>\n",
       "  </thead>\n",
       "  <tbody>\n",
       "    <tr>\n",
       "      <th>0</th>\n",
       "      <td>RzKR9QcYP03EQ_8DxTxowg</td>\n",
       "      <td>barrio-chino-new-york</td>\n",
       "      <td>Barrio Chino</td>\n",
       "      <td>https://s3-media0.fl.yelpcdn.com/bphoto/dpaRqPZD6xqDZo2ZfOyjnQ/o.jpg</td>\n",
       "      <td>False</td>\n",
       "      <td>https://www.yelp.com/biz/barrio-chino-new-york?adjust_creative=82uXkAt1Tiw7u9_h33zr1A&amp;utm_campaign=yelp_api_v3&amp;utm_medium=api_v3_phone_search&amp;utm_source=82uXkAt1Tiw7u9_h33zr1A</td>\n",
       "      <td>1148</td>\n",
       "      <td>[{'alias': 'mexican', 'title': 'Mexican'}, {'alias': 'bars', 'title': 'Bars'}]</td>\n",
       "      <td>4.00</td>\n",
       "      <td>{'latitude': 40.718022, 'longitude': -73.990026}</td>\n",
       "      <td>['delivery', 'pickup']</td>\n",
       "      <td>$$</td>\n",
       "      <td>{'address1': '253 Broome St', 'address2': None, 'address3': '', 'city': 'New York', 'zip_code': '10002', 'country': 'US', 'state': 'NY', 'display_address': ['253 Broome St', 'New York, NY 10002']}</td>\n",
       "      <td>+12122286710</td>\n",
       "      <td>(212) 228-6710</td>\n",
       "      <td>My sister has gone here a bunch of times and I finally went. I am truly mad at myself for not going sooner. We were seated without a reservation around 7 on a Tuesday. Service was superb. Water gl...</td>\n",
       "    </tr>\n",
       "    <tr>\n",
       "      <th>1</th>\n",
       "      <td>hrP3xLWJ8sLwG_XxEGq61Q</td>\n",
       "      <td>reyes-restaurant-woodside</td>\n",
       "      <td>Reyes Restaurant</td>\n",
       "      <td>https://s3-media0.fl.yelpcdn.com/bphoto/_dwQGccROJaxa-oNIxQsEg/o.jpg</td>\n",
       "      <td>False</td>\n",
       "      <td>https://www.yelp.com/biz/reyes-restaurant-woodside?adjust_creative=82uXkAt1Tiw7u9_h33zr1A&amp;utm_campaign=yelp_api_v3&amp;utm_medium=api_v3_phone_search&amp;utm_source=82uXkAt1Tiw7u9_h33zr1A</td>\n",
       "      <td>7</td>\n",
       "      <td>[{'alias': 'latin', 'title': 'Latin American'}, {'alias': 'dominican', 'title': 'Dominican'}]</td>\n",
       "      <td>4.00</td>\n",
       "      <td>{'latitude': 40.7466, 'longitude': -73.9098}</td>\n",
       "      <td>['delivery']</td>\n",
       "      <td>$</td>\n",
       "      <td>{'address1': '4754 46th St', 'address2': '', 'address3': '', 'city': 'Woodside', 'zip_code': '11377', 'country': 'US', 'state': 'NY', 'display_address': ['4754 46th St', 'Woodside, NY 11377']}</td>\n",
       "      <td>+17187529577</td>\n",
       "      <td>(718) 752-9577</td>\n",
       "      <td>Good food served by good people. Love the mangu with everything, it's my go-to order..I was super happy to find out that there was a Dominican restaurant in my neighborhood. I came on a Saturday a...</td>\n",
       "    </tr>\n",
       "    <tr>\n",
       "      <th>2</th>\n",
       "      <td>in7QM4vNUTHVZIi7Outetg</td>\n",
       "      <td>mcdonalds-new-york-430</td>\n",
       "      <td>McDonald's</td>\n",
       "      <td>https://s3-media0.fl.yelpcdn.com/bphoto/bNmu8D1sjwJzbxxP9ZwJOQ/o.jpg</td>\n",
       "      <td>False</td>\n",
       "      <td>https://www.yelp.com/biz/mcdonalds-new-york-430?adjust_creative=82uXkAt1Tiw7u9_h33zr1A&amp;utm_campaign=yelp_api_v3&amp;utm_medium=api_v3_phone_search&amp;utm_source=82uXkAt1Tiw7u9_h33zr1A</td>\n",
       "      <td>103</td>\n",
       "      <td>[{'alias': 'burgers', 'title': 'Burgers'}, {'alias': 'hotdogs', 'title': 'Fast Food'}, {'alias': 'coffee', 'title': 'Coffee &amp; Tea'}]</td>\n",
       "      <td>1.50</td>\n",
       "      <td>{'latitude': 40.7163213865248, 'longitude': -74.0106988300204}</td>\n",
       "      <td>['delivery']</td>\n",
       "      <td>$</td>\n",
       "      <td>{'address1': '167 Chambers St', 'address2': '', 'address3': '', 'city': 'New York', 'zip_code': '10007', 'country': 'US', 'state': 'NY', 'display_address': ['167 Chambers St', 'New York, NY 10007']}</td>\n",
       "      <td>+12126082405</td>\n",
       "      <td>(212) 608-2405</td>\n",
       "      <td>I love McDonalds breakfast but of the 6 times I've been here recently, this is the 2nd time they forget my hash brown and today I found a hair on my egg. I used to frequent this McDonalds in the p...</td>\n",
       "    </tr>\n",
       "    <tr>\n",
       "      <th>3</th>\n",
       "      <td>F-YGKegXRG2TE-Xw1AWeCA</td>\n",
       "      <td>popeyes-louisiana-kitchen-rockaway-beach-2</td>\n",
       "      <td>Popeyes Louisiana Kitchen</td>\n",
       "      <td>https://s3-media0.fl.yelpcdn.com/bphoto/A4MR2hDN3mWefMUT7bBB2A/o.jpg</td>\n",
       "      <td>False</td>\n",
       "      <td>https://www.yelp.com/biz/popeyes-louisiana-kitchen-rockaway-beach-2?adjust_creative=82uXkAt1Tiw7u9_h33zr1A&amp;utm_campaign=yelp_api_v3&amp;utm_medium=api_v3_phone_search&amp;utm_source=82uXkAt1Tiw7u9_h33zr1A</td>\n",
       "      <td>21</td>\n",
       "      <td>[{'alias': 'hotdogs', 'title': 'Fast Food'}, {'alias': 'seafood', 'title': 'Seafood'}, {'alias': 'chicken_wings', 'title': 'Chicken Wings'}]</td>\n",
       "      <td>2.00</td>\n",
       "      <td>{'latitude': 40.587551867915515, 'longitude': -73.81088484629929}</td>\n",
       "      <td>['pickup', 'delivery']</td>\n",
       "      <td>$</td>\n",
       "      <td>{'address1': '8601 Rockaway Beach Blvd', 'address2': '', 'address3': None, 'city': 'Rockaway Beach', 'zip_code': '11693', 'country': 'US', 'state': 'NY', 'display_address': ['8601 Rockaway Beach B...</td>\n",
       "      <td>+17189452815</td>\n",
       "      <td>(718) 945-2815</td>\n",
       "      <td>The app was messed up &amp; I called &amp; spoke to this wonderful worker Tiffany! She was able to allow me to change my soda since their was no other option. She also allowed me to add ketchup to the ord...</td>\n",
       "    </tr>\n",
       "    <tr>\n",
       "      <th>4</th>\n",
       "      <td>rYl_R-UILYqA6vYsbNwLsg</td>\n",
       "      <td>joe-coffee-company-new-york-14</td>\n",
       "      <td>Joe Coffee Company</td>\n",
       "      <td>https://s3-media0.fl.yelpcdn.com/bphoto/e-nX3g-MQAN48MDPAv2cIg/o.jpg</td>\n",
       "      <td>False</td>\n",
       "      <td>https://www.yelp.com/biz/joe-coffee-company-new-york-14?adjust_creative=82uXkAt1Tiw7u9_h33zr1A&amp;utm_campaign=yelp_api_v3&amp;utm_medium=api_v3_phone_search&amp;utm_source=82uXkAt1Tiw7u9_h33zr1A</td>\n",
       "      <td>24</td>\n",
       "      <td>[{'alias': 'coffee', 'title': 'Coffee &amp; Tea'}, {'alias': 'coffeeroasteries', 'title': 'Coffee Roasteries'}]</td>\n",
       "      <td>4.00</td>\n",
       "      <td>{'latitude': 40.7126284147746, 'longitude': -74.0128198486877}</td>\n",
       "      <td>[]</td>\n",
       "      <td>$$</td>\n",
       "      <td>{'address1': '185 Greenwich St', 'address2': 'LL3110', 'address3': None, 'city': 'New York', 'zip_code': '10007', 'country': 'US', 'state': 'NY', 'display_address': ['185 Greenwich St', 'LL3110', ...</td>\n",
       "      <td>+16467661719</td>\n",
       "      <td>(646) 766-1719</td>\n",
       "      <td>This is inside the Oculus. I just wanted a cappuccino, dry. The barista certainly knew how to make the perfect cup!Staff is friendly. The place was clean..STAY AT HOME, EVERYONE. FLATTEN THE CURVE...</td>\n",
       "    </tr>\n",
       "  </tbody>\n",
       "</table>\n",
       "</div>"
      ],
      "text/plain": [
       "                       id                                       alias  \\\n",
       "0  RzKR9QcYP03EQ_8DxTxowg                       barrio-chino-new-york   \n",
       "1  hrP3xLWJ8sLwG_XxEGq61Q                   reyes-restaurant-woodside   \n",
       "2  in7QM4vNUTHVZIi7Outetg                      mcdonalds-new-york-430   \n",
       "3  F-YGKegXRG2TE-Xw1AWeCA  popeyes-louisiana-kitchen-rockaway-beach-2   \n",
       "4  rYl_R-UILYqA6vYsbNwLsg              joe-coffee-company-new-york-14   \n",
       "\n",
       "                        name  \\\n",
       "0               Barrio Chino   \n",
       "1           Reyes Restaurant   \n",
       "2                 McDonald's   \n",
       "3  Popeyes Louisiana Kitchen   \n",
       "4         Joe Coffee Company   \n",
       "\n",
       "                                                              image_url  \\\n",
       "0  https://s3-media0.fl.yelpcdn.com/bphoto/dpaRqPZD6xqDZo2ZfOyjnQ/o.jpg   \n",
       "1  https://s3-media0.fl.yelpcdn.com/bphoto/_dwQGccROJaxa-oNIxQsEg/o.jpg   \n",
       "2  https://s3-media0.fl.yelpcdn.com/bphoto/bNmu8D1sjwJzbxxP9ZwJOQ/o.jpg   \n",
       "3  https://s3-media0.fl.yelpcdn.com/bphoto/A4MR2hDN3mWefMUT7bBB2A/o.jpg   \n",
       "4  https://s3-media0.fl.yelpcdn.com/bphoto/e-nX3g-MQAN48MDPAv2cIg/o.jpg   \n",
       "\n",
       "   is_closed  \\\n",
       "0      False   \n",
       "1      False   \n",
       "2      False   \n",
       "3      False   \n",
       "4      False   \n",
       "\n",
       "                                                                                                                                                                                                    url  \\\n",
       "0                       https://www.yelp.com/biz/barrio-chino-new-york?adjust_creative=82uXkAt1Tiw7u9_h33zr1A&utm_campaign=yelp_api_v3&utm_medium=api_v3_phone_search&utm_source=82uXkAt1Tiw7u9_h33zr1A   \n",
       "1                   https://www.yelp.com/biz/reyes-restaurant-woodside?adjust_creative=82uXkAt1Tiw7u9_h33zr1A&utm_campaign=yelp_api_v3&utm_medium=api_v3_phone_search&utm_source=82uXkAt1Tiw7u9_h33zr1A   \n",
       "2                      https://www.yelp.com/biz/mcdonalds-new-york-430?adjust_creative=82uXkAt1Tiw7u9_h33zr1A&utm_campaign=yelp_api_v3&utm_medium=api_v3_phone_search&utm_source=82uXkAt1Tiw7u9_h33zr1A   \n",
       "3  https://www.yelp.com/biz/popeyes-louisiana-kitchen-rockaway-beach-2?adjust_creative=82uXkAt1Tiw7u9_h33zr1A&utm_campaign=yelp_api_v3&utm_medium=api_v3_phone_search&utm_source=82uXkAt1Tiw7u9_h33zr1A   \n",
       "4              https://www.yelp.com/biz/joe-coffee-company-new-york-14?adjust_creative=82uXkAt1Tiw7u9_h33zr1A&utm_campaign=yelp_api_v3&utm_medium=api_v3_phone_search&utm_source=82uXkAt1Tiw7u9_h33zr1A   \n",
       "\n",
       "   review_count  \\\n",
       "0          1148   \n",
       "1             7   \n",
       "2           103   \n",
       "3            21   \n",
       "4            24   \n",
       "\n",
       "                                                                                                                                     categories  \\\n",
       "0                                                                [{'alias': 'mexican', 'title': 'Mexican'}, {'alias': 'bars', 'title': 'Bars'}]   \n",
       "1                                                 [{'alias': 'latin', 'title': 'Latin American'}, {'alias': 'dominican', 'title': 'Dominican'}]   \n",
       "2          [{'alias': 'burgers', 'title': 'Burgers'}, {'alias': 'hotdogs', 'title': 'Fast Food'}, {'alias': 'coffee', 'title': 'Coffee & Tea'}]   \n",
       "3  [{'alias': 'hotdogs', 'title': 'Fast Food'}, {'alias': 'seafood', 'title': 'Seafood'}, {'alias': 'chicken_wings', 'title': 'Chicken Wings'}]   \n",
       "4                                   [{'alias': 'coffee', 'title': 'Coffee & Tea'}, {'alias': 'coffeeroasteries', 'title': 'Coffee Roasteries'}]   \n",
       "\n",
       "   rating                                                        coordinates  \\\n",
       "0    4.00                   {'latitude': 40.718022, 'longitude': -73.990026}   \n",
       "1    4.00                       {'latitude': 40.7466, 'longitude': -73.9098}   \n",
       "2    1.50     {'latitude': 40.7163213865248, 'longitude': -74.0106988300204}   \n",
       "3    2.00  {'latitude': 40.587551867915515, 'longitude': -73.81088484629929}   \n",
       "4    4.00     {'latitude': 40.7126284147746, 'longitude': -74.0128198486877}   \n",
       "\n",
       "             transactions price  \\\n",
       "0  ['delivery', 'pickup']    $$   \n",
       "1            ['delivery']     $   \n",
       "2            ['delivery']     $   \n",
       "3  ['pickup', 'delivery']     $   \n",
       "4                      []    $$   \n",
       "\n",
       "                                                                                                                                                                                                  location  \\\n",
       "0     {'address1': '253 Broome St', 'address2': None, 'address3': '', 'city': 'New York', 'zip_code': '10002', 'country': 'US', 'state': 'NY', 'display_address': ['253 Broome St', 'New York, NY 10002']}   \n",
       "1         {'address1': '4754 46th St', 'address2': '', 'address3': '', 'city': 'Woodside', 'zip_code': '11377', 'country': 'US', 'state': 'NY', 'display_address': ['4754 46th St', 'Woodside, NY 11377']}   \n",
       "2   {'address1': '167 Chambers St', 'address2': '', 'address3': '', 'city': 'New York', 'zip_code': '10007', 'country': 'US', 'state': 'NY', 'display_address': ['167 Chambers St', 'New York, NY 10007']}   \n",
       "3  {'address1': '8601 Rockaway Beach Blvd', 'address2': '', 'address3': None, 'city': 'Rockaway Beach', 'zip_code': '11693', 'country': 'US', 'state': 'NY', 'display_address': ['8601 Rockaway Beach B...   \n",
       "4  {'address1': '185 Greenwich St', 'address2': 'LL3110', 'address3': None, 'city': 'New York', 'zip_code': '10007', 'country': 'US', 'state': 'NY', 'display_address': ['185 Greenwich St', 'LL3110', ...   \n",
       "\n",
       "          phone   display_phone  \\\n",
       "0  +12122286710  (212) 228-6710   \n",
       "1  +17187529577  (718) 752-9577   \n",
       "2  +12126082405  (212) 608-2405   \n",
       "3  +17189452815  (718) 945-2815   \n",
       "4  +16467661719  (646) 766-1719   \n",
       "\n",
       "                                                                                                                                                                                                   Reviews  \n",
       "0  My sister has gone here a bunch of times and I finally went. I am truly mad at myself for not going sooner. We were seated without a reservation around 7 on a Tuesday. Service was superb. Water gl...  \n",
       "1  Good food served by good people. Love the mangu with everything, it's my go-to order..I was super happy to find out that there was a Dominican restaurant in my neighborhood. I came on a Saturday a...  \n",
       "2  I love McDonalds breakfast but of the 6 times I've been here recently, this is the 2nd time they forget my hash brown and today I found a hair on my egg. I used to frequent this McDonalds in the p...  \n",
       "3  The app was messed up & I called & spoke to this wonderful worker Tiffany! She was able to allow me to change my soda since their was no other option. She also allowed me to add ketchup to the ord...  \n",
       "4  This is inside the Oculus. I just wanted a cappuccino, dry. The barista certainly knew how to make the perfect cup!Staff is friendly. The place was clean..STAY AT HOME, EVERYONE. FLATTEN THE CURVE...  "
      ]
     },
     "execution_count": 72,
     "metadata": {},
     "output_type": "execute_result"
    }
   ],
   "source": [
    "yelp_df.head()"
   ]
  },
  {
   "cell_type": "code",
   "execution_count": 73,
   "metadata": {
    "ExecuteTime": {
     "end_time": "2022-05-11T02:28:17.164985Z",
     "start_time": "2022-05-11T02:28:16.784447Z"
    }
   },
   "outputs": [],
   "source": [
    "from sqlalchemy import create_engine"
   ]
  },
  {
   "cell_type": "code",
   "execution_count": 74,
   "metadata": {
    "ExecuteTime": {
     "end_time": "2022-05-11T02:28:17.432813Z",
     "start_time": "2022-05-11T02:28:17.425579Z"
    }
   },
   "outputs": [],
   "source": [
    "# # must start with 'sqlite:///' for a relative path\n",
    "# engine = create_engine('sqlite:///capstone.db', echo=True) \n",
    "# # echo determines whether actions are output"
   ]
  },
  {
   "cell_type": "code",
   "execution_count": null,
   "metadata": {
    "ExecuteTime": {
     "end_time": "2022-04-20T20:30:58.121932Z",
     "start_time": "2022-04-20T20:30:58.116957Z"
    }
   },
   "outputs": [],
   "source": [
    "# # Functionize SQL table creation with .to_sql\n",
    "# def create_sql_table(df, table_name, engine):\n",
    "#     df.to_sql(table_name, con=engine, if_exists='replace')"
   ]
  },
  {
   "cell_type": "code",
   "execution_count": null,
   "metadata": {
    "ExecuteTime": {
     "end_time": "2022-04-20T22:08:42.503751Z",
     "start_time": "2022-04-20T22:08:42.493292Z"
    }
   },
   "outputs": [],
   "source": [
    "# create_sql_table(nyc_df, 'nyc_restaurants', engine)"
   ]
  },
  {
   "cell_type": "code",
   "execution_count": null,
   "metadata": {
    "ExecuteTime": {
     "end_time": "2022-04-20T22:08:37.351244Z",
     "start_time": "2022-04-20T22:08:37.329435Z"
    }
   },
   "outputs": [],
   "source": [
    "# create_sql_table(yelp_df, 'yelp', engine)"
   ]
  },
  {
   "cell_type": "code",
   "execution_count": 75,
   "metadata": {
    "ExecuteTime": {
     "end_time": "2022-05-11T02:28:23.741685Z",
     "start_time": "2022-05-11T02:28:23.685731Z"
    }
   },
   "outputs": [],
   "source": [
    "# Merging NYC and Yelp datasets\n",
    "df_1 = pd.merge(nyc_df, yelp_df, left_on='PHONE', right_on='phone', how='inner')"
   ]
  },
  {
   "cell_type": "code",
   "execution_count": 76,
   "metadata": {
    "ExecuteTime": {
     "end_time": "2022-05-11T02:28:25.047209Z",
     "start_time": "2022-05-11T02:28:25.012336Z"
    },
    "scrolled": true
   },
   "outputs": [
    {
     "data": {
      "text/html": [
       "<div>\n",
       "<style scoped>\n",
       "    .dataframe tbody tr th:only-of-type {\n",
       "        vertical-align: middle;\n",
       "    }\n",
       "\n",
       "    .dataframe tbody tr th {\n",
       "        vertical-align: top;\n",
       "    }\n",
       "\n",
       "    .dataframe thead th {\n",
       "        text-align: right;\n",
       "    }\n",
       "</style>\n",
       "<table border=\"1\" class=\"dataframe\">\n",
       "  <thead>\n",
       "    <tr style=\"text-align: right;\">\n",
       "      <th></th>\n",
       "      <th>CAMIS</th>\n",
       "      <th>DBA</th>\n",
       "      <th>CUISINE DESCRIPTION</th>\n",
       "      <th>BORO</th>\n",
       "      <th>BUILDING</th>\n",
       "      <th>STREET</th>\n",
       "      <th>ZIPCODE</th>\n",
       "      <th>PHONE</th>\n",
       "      <th>Latitude</th>\n",
       "      <th>Longitude</th>\n",
       "      <th>Community Board</th>\n",
       "      <th>Council District</th>\n",
       "      <th>Census Tract</th>\n",
       "      <th>Severe</th>\n",
       "      <th>id</th>\n",
       "      <th>alias</th>\n",
       "      <th>name</th>\n",
       "      <th>image_url</th>\n",
       "      <th>is_closed</th>\n",
       "      <th>url</th>\n",
       "      <th>review_count</th>\n",
       "      <th>categories</th>\n",
       "      <th>rating</th>\n",
       "      <th>coordinates</th>\n",
       "      <th>transactions</th>\n",
       "      <th>price</th>\n",
       "      <th>location</th>\n",
       "      <th>phone</th>\n",
       "      <th>display_phone</th>\n",
       "      <th>Reviews</th>\n",
       "    </tr>\n",
       "  </thead>\n",
       "  <tbody>\n",
       "    <tr>\n",
       "      <th>0</th>\n",
       "      <td>30112340</td>\n",
       "      <td>WENDY'S</td>\n",
       "      <td>Hamburgers</td>\n",
       "      <td>Brooklyn</td>\n",
       "      <td>469</td>\n",
       "      <td>FLATBUSH AVENUE</td>\n",
       "      <td>11225.00</td>\n",
       "      <td>+17182875005</td>\n",
       "      <td>40.66</td>\n",
       "      <td>-73.96</td>\n",
       "      <td>309.00</td>\n",
       "      <td>40.00</td>\n",
       "      <td>32700.00</td>\n",
       "      <td>0</td>\n",
       "      <td>AMxMPBkWi20dn_1BRalahA</td>\n",
       "      <td>wendys-brooklyn-4</td>\n",
       "      <td>Wendy's</td>\n",
       "      <td>https://s3-media0.fl.yelpcdn.com/bphoto/fR70FbX4_WV2-ofhsE89YA/o.jpg</td>\n",
       "      <td>False</td>\n",
       "      <td>https://www.yelp.com/biz/wendys-brooklyn-4?adjust_creative=82uXkAt1Tiw7u9_h33zr1A&amp;utm_campaign=yelp_api_v3&amp;utm_medium=api_v3_phone_search&amp;utm_source=82uXkAt1Tiw7u9_h33zr1A</td>\n",
       "      <td>55</td>\n",
       "      <td>[{'alias': 'hotdogs', 'title': 'Fast Food'}, {'alias': 'burgers', 'title': 'Burgers'}]</td>\n",
       "      <td>1.50</td>\n",
       "      <td>{'latitude': 40.662952, 'longitude': -73.961753}</td>\n",
       "      <td>['delivery']</td>\n",
       "      <td>$</td>\n",
       "      <td>{'address1': '469 Flatbush Ave', 'address2': '', 'address3': '', 'city': 'Brooklyn', 'zip_code': '11225', 'country': 'US', 'state': 'NY', 'display_address': ['469 Flatbush Ave', 'Brooklyn, NY 1122...</td>\n",
       "      <td>+17182875005</td>\n",
       "      <td>(718) 287-5005</td>\n",
       "      <td>Forgot my root beer and the burger tasted very weird.If I can give this place no stars I absolutely would. The workers here are in efficient.  They do not work the best possible way. They cause th...</td>\n",
       "    </tr>\n",
       "    <tr>\n",
       "      <th>1</th>\n",
       "      <td>40356018</td>\n",
       "      <td>RIVIERA CATERERS</td>\n",
       "      <td>American</td>\n",
       "      <td>Brooklyn</td>\n",
       "      <td>2780</td>\n",
       "      <td>STILLWELL AVENUE</td>\n",
       "      <td>11224.00</td>\n",
       "      <td>+17183723031</td>\n",
       "      <td>40.58</td>\n",
       "      <td>-73.98</td>\n",
       "      <td>313.00</td>\n",
       "      <td>47.00</td>\n",
       "      <td>34800.00</td>\n",
       "      <td>0</td>\n",
       "      <td>g8fAhVqBsC-BN6otcn85OA</td>\n",
       "      <td>riviera-caterers-brooklyn</td>\n",
       "      <td>Riviera Caterers</td>\n",
       "      <td>https://s3-media0.fl.yelpcdn.com/bphoto/5qZ27Uarz2kNWxV3KktK1g/o.jpg</td>\n",
       "      <td>False</td>\n",
       "      <td>https://www.yelp.com/biz/riviera-caterers-brooklyn?adjust_creative=82uXkAt1Tiw7u9_h33zr1A&amp;utm_campaign=yelp_api_v3&amp;utm_medium=api_v3_phone_search&amp;utm_source=82uXkAt1Tiw7u9_h33zr1A</td>\n",
       "      <td>55</td>\n",
       "      <td>[{'alias': 'catering', 'title': 'Caterers'}]</td>\n",
       "      <td>4.50</td>\n",
       "      <td>{'latitude': 40.57952, 'longitude': -73.98243}</td>\n",
       "      <td>[]</td>\n",
       "      <td>NaN</td>\n",
       "      <td>{'address1': '2780 Stillwell Ave', 'address2': '', 'address3': '', 'city': 'Brooklyn', 'zip_code': '11224', 'country': 'US', 'state': 'NY', 'display_address': ['2780 Stillwell Ave', 'Brooklyn, NY ...</td>\n",
       "      <td>+17183723031</td>\n",
       "      <td>(718) 372-3031</td>\n",
       "      <td>I had my wedding here a month ago and I would give Riviera 10 stars if I could. It was such a joy and ease to work with Adam, Tommy, and their staff.  A true diamond in the rough of Coney Island a...</td>\n",
       "    </tr>\n",
       "    <tr>\n",
       "      <th>2</th>\n",
       "      <td>40356483</td>\n",
       "      <td>WILKEN'S FINE FOOD</td>\n",
       "      <td>Sandwiches</td>\n",
       "      <td>Brooklyn</td>\n",
       "      <td>7114</td>\n",
       "      <td>AVENUE U</td>\n",
       "      <td>11234.00</td>\n",
       "      <td>+17184443838</td>\n",
       "      <td>40.62</td>\n",
       "      <td>-73.91</td>\n",
       "      <td>318.00</td>\n",
       "      <td>46.00</td>\n",
       "      <td>70000.00</td>\n",
       "      <td>0</td>\n",
       "      <td>Pe6MsH2DW0CXjvUtxUpI4A</td>\n",
       "      <td>wilkens-fine-foods-brooklyn-2</td>\n",
       "      <td>Wilkens Fine Foods</td>\n",
       "      <td>https://s3-media0.fl.yelpcdn.com/bphoto/gOyUSHz_oJWiN9Nw0AEpVg/o.jpg</td>\n",
       "      <td>False</td>\n",
       "      <td>https://www.yelp.com/biz/wilkens-fine-foods-brooklyn-2?adjust_creative=82uXkAt1Tiw7u9_h33zr1A&amp;utm_campaign=yelp_api_v3&amp;utm_medium=api_v3_phone_search&amp;utm_source=82uXkAt1Tiw7u9_h33zr1A</td>\n",
       "      <td>54</td>\n",
       "      <td>[{'alias': 'delis', 'title': 'Delis'}]</td>\n",
       "      <td>3.00</td>\n",
       "      <td>{'latitude': 40.6199, 'longitude': -73.90685}</td>\n",
       "      <td>['pickup', 'delivery']</td>\n",
       "      <td>$$</td>\n",
       "      <td>{'address1': '7114 Ave U', 'address2': '', 'address3': '', 'city': 'Brooklyn', 'zip_code': '11234', 'country': 'US', 'state': 'NY', 'display_address': ['7114 Ave U', 'Brooklyn, NY 11234']}</td>\n",
       "      <td>+17184443838</td>\n",
       "      <td>(718) 444-3838</td>\n",
       "      <td>We've recently discovered this gem on Uber Eats and they have the best sandwiches!!The broccoli rabe fried eggplant mozzarella sandwich was amazing. Having a fresh green veggie paired with a light...</td>\n",
       "    </tr>\n",
       "    <tr>\n",
       "      <th>3</th>\n",
       "      <td>40356731</td>\n",
       "      <td>TASTE THE TROPICS ICE CREAM</td>\n",
       "      <td>Frozen Desserts</td>\n",
       "      <td>Brooklyn</td>\n",
       "      <td>1839</td>\n",
       "      <td>NOSTRAND AVENUE</td>\n",
       "      <td>11226.00</td>\n",
       "      <td>+17188560821</td>\n",
       "      <td>40.64</td>\n",
       "      <td>-73.95</td>\n",
       "      <td>317.00</td>\n",
       "      <td>45.00</td>\n",
       "      <td>82800.00</td>\n",
       "      <td>0</td>\n",
       "      <td>Q18r5FKi2qkQhtKZqWR8ww</td>\n",
       "      <td>taste-the-tropics-usa-brooklyn</td>\n",
       "      <td>Taste the Tropics USA</td>\n",
       "      <td>https://s3-media0.fl.yelpcdn.com/bphoto/xW8S_DHdStqZiqjwQ_UUKw/o.jpg</td>\n",
       "      <td>False</td>\n",
       "      <td>https://www.yelp.com/biz/taste-the-tropics-usa-brooklyn?adjust_creative=82uXkAt1Tiw7u9_h33zr1A&amp;utm_campaign=yelp_api_v3&amp;utm_medium=api_v3_phone_search&amp;utm_source=82uXkAt1Tiw7u9_h33zr1A</td>\n",
       "      <td>49</td>\n",
       "      <td>[{'alias': 'icecream', 'title': 'Ice Cream &amp; Frozen Yogurt'}]</td>\n",
       "      <td>4.50</td>\n",
       "      <td>{'latitude': 40.64083, 'longitude': -73.94835}</td>\n",
       "      <td>['pickup', 'delivery']</td>\n",
       "      <td>$</td>\n",
       "      <td>{'address1': '1839 Nostrand Ave', 'address2': '', 'address3': '', 'city': 'Brooklyn', 'zip_code': '11226', 'country': 'US', 'state': 'NY', 'display_address': ['1839 Nostrand Ave', 'Brooklyn, NY 11...</td>\n",
       "      <td>+17188560821</td>\n",
       "      <td>(718) 856-0821</td>\n",
       "      <td>We've ordered from these folks a number of times on Grubhub and have always been extremely satisfied. We've never been to the actual store but I have called over there a few times with some questi...</td>\n",
       "    </tr>\n",
       "    <tr>\n",
       "      <th>4</th>\n",
       "      <td>40356731</td>\n",
       "      <td>TASTE THE TROPICS ICE CREAM</td>\n",
       "      <td>Frozen Desserts</td>\n",
       "      <td>Brooklyn</td>\n",
       "      <td>1839</td>\n",
       "      <td>NOSTRAND AVENUE</td>\n",
       "      <td>11226.00</td>\n",
       "      <td>+17188560821</td>\n",
       "      <td>40.64</td>\n",
       "      <td>-73.95</td>\n",
       "      <td>317.00</td>\n",
       "      <td>45.00</td>\n",
       "      <td>82800.00</td>\n",
       "      <td>0</td>\n",
       "      <td>Q18r5FKi2qkQhtKZqWR8ww</td>\n",
       "      <td>taste-the-tropics-usa-brooklyn</td>\n",
       "      <td>Taste the Tropics USA</td>\n",
       "      <td>https://s3-media0.fl.yelpcdn.com/bphoto/xW8S_DHdStqZiqjwQ_UUKw/o.jpg</td>\n",
       "      <td>False</td>\n",
       "      <td>https://www.yelp.com/biz/taste-the-tropics-usa-brooklyn?adjust_creative=82uXkAt1Tiw7u9_h33zr1A&amp;utm_campaign=yelp_api_v3&amp;utm_medium=api_v3_phone_search&amp;utm_source=82uXkAt1Tiw7u9_h33zr1A</td>\n",
       "      <td>49</td>\n",
       "      <td>[{'alias': 'icecream', 'title': 'Ice Cream &amp; Frozen Yogurt'}]</td>\n",
       "      <td>4.50</td>\n",
       "      <td>{'latitude': 40.64083, 'longitude': -73.94835}</td>\n",
       "      <td>['delivery', 'pickup']</td>\n",
       "      <td>$</td>\n",
       "      <td>{'address1': '1839 Nostrand Ave', 'address2': '', 'address3': '', 'city': 'Brooklyn', 'zip_code': '11226', 'country': 'US', 'state': 'NY', 'display_address': ['1839 Nostrand Ave', 'Brooklyn, NY 11...</td>\n",
       "      <td>+17188560821</td>\n",
       "      <td>(718) 856-0821</td>\n",
       "      <td>We've ordered from these folks a number of times on Grubhub and have always been extremely satisfied. We've never been to the actual store but I have called over there a few times with some questi...</td>\n",
       "    </tr>\n",
       "    <tr>\n",
       "      <th>...</th>\n",
       "      <td>...</td>\n",
       "      <td>...</td>\n",
       "      <td>...</td>\n",
       "      <td>...</td>\n",
       "      <td>...</td>\n",
       "      <td>...</td>\n",
       "      <td>...</td>\n",
       "      <td>...</td>\n",
       "      <td>...</td>\n",
       "      <td>...</td>\n",
       "      <td>...</td>\n",
       "      <td>...</td>\n",
       "      <td>...</td>\n",
       "      <td>...</td>\n",
       "      <td>...</td>\n",
       "      <td>...</td>\n",
       "      <td>...</td>\n",
       "      <td>...</td>\n",
       "      <td>...</td>\n",
       "      <td>...</td>\n",
       "      <td>...</td>\n",
       "      <td>...</td>\n",
       "      <td>...</td>\n",
       "      <td>...</td>\n",
       "      <td>...</td>\n",
       "      <td>...</td>\n",
       "      <td>...</td>\n",
       "      <td>...</td>\n",
       "      <td>...</td>\n",
       "      <td>...</td>\n",
       "    </tr>\n",
       "    <tr>\n",
       "      <th>18457</th>\n",
       "      <td>50113139</td>\n",
       "      <td>98K</td>\n",
       "      <td>Chicken</td>\n",
       "      <td>Brooklyn</td>\n",
       "      <td>12</td>\n",
       "      <td>BAY   25 STREET</td>\n",
       "      <td>11214.00</td>\n",
       "      <td>+17183331088</td>\n",
       "      <td>40.60</td>\n",
       "      <td>-74.00</td>\n",
       "      <td>311.00</td>\n",
       "      <td>47.00</td>\n",
       "      <td>28800.00</td>\n",
       "      <td>1</td>\n",
       "      <td>XHL1bVCv3zZskXXTiOk3Nw</td>\n",
       "      <td>munchies-cafe-brooklyn</td>\n",
       "      <td>Munchies Cafe</td>\n",
       "      <td>https://s3-media0.fl.yelpcdn.com/bphoto/b329J79tnMNzKATdFw5Lfg/o.jpg</td>\n",
       "      <td>True</td>\n",
       "      <td>https://www.yelp.com/biz/munchies-cafe-brooklyn?adjust_creative=82uXkAt1Tiw7u9_h33zr1A&amp;utm_campaign=yelp_api_v3&amp;utm_medium=api_v3_phone_search&amp;utm_source=82uXkAt1Tiw7u9_h33zr1A</td>\n",
       "      <td>137</td>\n",
       "      <td>[{'alias': 'desserts', 'title': 'Desserts'}, {'alias': 'chinese', 'title': 'Chinese'}]</td>\n",
       "      <td>3.50</td>\n",
       "      <td>{'latitude': 40.60394, 'longitude': -73.99796}</td>\n",
       "      <td>[]</td>\n",
       "      <td>$</td>\n",
       "      <td>{'address1': '12 Bay 25th St', 'address2': '', 'address3': '', 'city': 'Brooklyn', 'zip_code': '11214', 'country': 'US', 'state': 'NY', 'display_address': ['12 Bay 25th St', 'Brooklyn, NY 11214']}</td>\n",
       "      <td>+17183331088</td>\n",
       "      <td>(718) 333-1088</td>\n",
       "      <td>This is my go to dessert place since its nearby and affordable. The Ice-cream is extremely good, it tastes fresh and seems to be made with the fresh ingredients as well. The coconut and green tea ...</td>\n",
       "    </tr>\n",
       "    <tr>\n",
       "      <th>18458</th>\n",
       "      <td>50113139</td>\n",
       "      <td>98K</td>\n",
       "      <td>Chicken</td>\n",
       "      <td>Brooklyn</td>\n",
       "      <td>12</td>\n",
       "      <td>BAY   25 STREET</td>\n",
       "      <td>11214.00</td>\n",
       "      <td>+17183331088</td>\n",
       "      <td>40.60</td>\n",
       "      <td>-74.00</td>\n",
       "      <td>311.00</td>\n",
       "      <td>47.00</td>\n",
       "      <td>28800.00</td>\n",
       "      <td>1</td>\n",
       "      <td>--zlzg_JqUMb3KssgmT7MA</td>\n",
       "      <td>happy-home-cuisine-brooklyn</td>\n",
       "      <td>Happy Home Cuisine</td>\n",
       "      <td>https://s3-media0.fl.yelpcdn.com/bphoto/B2FPlMR4Nvu0roQlyMgVsg/o.jpg</td>\n",
       "      <td>True</td>\n",
       "      <td>https://www.yelp.com/biz/happy-home-cuisine-brooklyn?adjust_creative=82uXkAt1Tiw7u9_h33zr1A&amp;utm_campaign=yelp_api_v3&amp;utm_medium=api_v3_phone_search&amp;utm_source=82uXkAt1Tiw7u9_h33zr1A</td>\n",
       "      <td>36</td>\n",
       "      <td>[{'alias': 'bbq', 'title': 'Barbeque'}, {'alias': 'seafood', 'title': 'Seafood'}, {'alias': 'noodles', 'title': 'Noodles'}]</td>\n",
       "      <td>3.50</td>\n",
       "      <td>{'latitude': 40.6039450276978, 'longitude': -73.9979839324951}</td>\n",
       "      <td>['delivery']</td>\n",
       "      <td>$</td>\n",
       "      <td>{'address1': '12 Bay 25th St', 'address2': '', 'address3': None, 'city': 'Brooklyn', 'zip_code': '11214', 'country': 'US', 'state': 'NY', 'display_address': ['12 Bay 25th St', 'Brooklyn, NY 11214']}</td>\n",
       "      <td>+17183331088</td>\n",
       "      <td>(718) 333-1088</td>\n",
       "      <td>My family wanted bo zai fan and decided to come try here for outdoor dining on 10/3. There was 5 of us (plus baby stroller) sitting outside under the tent infront of the shop (indoor dining had ju...</td>\n",
       "    </tr>\n",
       "    <tr>\n",
       "      <th>18459</th>\n",
       "      <td>50113198</td>\n",
       "      <td>SENG SEAFOOD RESTAURANT</td>\n",
       "      <td>Seafood</td>\n",
       "      <td>Manhattan</td>\n",
       "      <td>39</td>\n",
       "      <td>EAST BROADWAY</td>\n",
       "      <td>10002.00</td>\n",
       "      <td>+16467999378</td>\n",
       "      <td>40.71</td>\n",
       "      <td>-74.00</td>\n",
       "      <td>103.00</td>\n",
       "      <td>1.00</td>\n",
       "      <td>800.00</td>\n",
       "      <td>0</td>\n",
       "      <td>rcwEQN8lxHzkr-QtfH_b8Q</td>\n",
       "      <td>seng-seafood-restaurant-new-york</td>\n",
       "      <td>Seng Seafood Restaurant</td>\n",
       "      <td>https://s3-media0.fl.yelpcdn.com/bphoto/VVyjCoK5-u1QCaUlq9UDtQ/o.jpg</td>\n",
       "      <td>False</td>\n",
       "      <td>https://www.yelp.com/biz/seng-seafood-restaurant-new-york?adjust_creative=82uXkAt1Tiw7u9_h33zr1A&amp;utm_campaign=yelp_api_v3&amp;utm_medium=api_v3_phone_search&amp;utm_source=82uXkAt1Tiw7u9_h33zr1A</td>\n",
       "      <td>21</td>\n",
       "      <td>[{'alias': 'dimsum', 'title': 'Dim Sum'}, {'alias': 'seafood', 'title': 'Seafood'}, {'alias': 'cantonese', 'title': 'Cantonese'}]</td>\n",
       "      <td>4.00</td>\n",
       "      <td>{'latitude': 40.71345, 'longitude': -73.9962}</td>\n",
       "      <td>['restaurant_reservation']</td>\n",
       "      <td>$$</td>\n",
       "      <td>{'address1': '39 E Broadway', 'address2': 'Fl 2', 'address3': None, 'city': 'New York', 'zip_code': '10002', 'country': 'US', 'state': 'NY', 'display_address': ['39 E Broadway', 'Fl 2', 'New York,...</td>\n",
       "      <td>+16467999378</td>\n",
       "      <td>(646) 799-9378</td>\n",
       "      <td>GREATEST PRICE FOR DIMSUM. You don't find prices like this anymore, not in NYC, not in Bay Area, not in Canada... It's $3.50 per dish (usually), and is pretty darn good. It hits the spot without b...</td>\n",
       "    </tr>\n",
       "    <tr>\n",
       "      <th>18460</th>\n",
       "      <td>50117350</td>\n",
       "      <td>SONG TEA</td>\n",
       "      <td>Coffee/Tea</td>\n",
       "      <td>Manhattan</td>\n",
       "      <td>488</td>\n",
       "      <td>7 AVENUE</td>\n",
       "      <td>10018.00</td>\n",
       "      <td>+16466697802</td>\n",
       "      <td>40.75</td>\n",
       "      <td>-73.99</td>\n",
       "      <td>105.00</td>\n",
       "      <td>3.00</td>\n",
       "      <td>10900.00</td>\n",
       "      <td>0</td>\n",
       "      <td>VAOGMSIeoou-6-Hnwsy5sw</td>\n",
       "      <td>song-tea-new-york</td>\n",
       "      <td>Song Tea</td>\n",
       "      <td>https://s3-media0.fl.yelpcdn.com/bphoto/HDrxhkHjJTqFYtEQp3zRew/o.jpg</td>\n",
       "      <td>False</td>\n",
       "      <td>https://www.yelp.com/biz/song-tea-new-york?adjust_creative=82uXkAt1Tiw7u9_h33zr1A&amp;utm_campaign=yelp_api_v3&amp;utm_medium=api_v3_phone_search&amp;utm_source=82uXkAt1Tiw7u9_h33zr1A</td>\n",
       "      <td>8</td>\n",
       "      <td>[{'alias': 'bubbletea', 'title': 'Bubble Tea'}]</td>\n",
       "      <td>4.00</td>\n",
       "      <td>{'latitude': 40.75255, 'longitude': -73.98972}</td>\n",
       "      <td>['delivery', 'pickup']</td>\n",
       "      <td>NaN</td>\n",
       "      <td>{'address1': '488 7th Ave', 'address2': '', 'address3': None, 'city': 'New York', 'zip_code': '10018', 'country': 'US', 'state': 'NY', 'display_address': ['488 7th Ave', 'New York, NY 10018']}</td>\n",
       "      <td>+16466697802</td>\n",
       "      <td>(646) 669-7802</td>\n",
       "      <td>I really like the drinks here that come with mochi.  It's a layer of gooey sticky ricecake that's really fun to drink through a straw, as opposed to individual pieces of mochi.Also the drinks have...</td>\n",
       "    </tr>\n",
       "    <tr>\n",
       "      <th>18461</th>\n",
       "      <td>50117959</td>\n",
       "      <td>SOL MAYA RESTAURANT</td>\n",
       "      <td>American</td>\n",
       "      <td>Manhattan</td>\n",
       "      <td>2061</td>\n",
       "      <td>2 AVENUE</td>\n",
       "      <td>10029.00</td>\n",
       "      <td>+12124106950</td>\n",
       "      <td>40.79</td>\n",
       "      <td>-73.94</td>\n",
       "      <td>111.00</td>\n",
       "      <td>8.00</td>\n",
       "      <td>17000.00</td>\n",
       "      <td>0</td>\n",
       "      <td>RUekg91-5EwrKjmFGkIleA</td>\n",
       "      <td>triple-a-1-restaurant-new-york</td>\n",
       "      <td>Triple A 1 Restaurant</td>\n",
       "      <td>https://s3-media0.fl.yelpcdn.com/bphoto/GoETPnK2Kye8xaND9lyf6g/o.jpg</td>\n",
       "      <td>False</td>\n",
       "      <td>https://www.yelp.com/biz/triple-a-1-restaurant-new-york?adjust_creative=82uXkAt1Tiw7u9_h33zr1A&amp;utm_campaign=yelp_api_v3&amp;utm_medium=api_v3_phone_search&amp;utm_source=82uXkAt1Tiw7u9_h33zr1A</td>\n",
       "      <td>61</td>\n",
       "      <td>[{'alias': 'diners', 'title': 'Diners'}, {'alias': 'mexican', 'title': 'Mexican'}, {'alias': 'breakfast_brunch', 'title': 'Breakfast &amp; Brunch'}]</td>\n",
       "      <td>3.50</td>\n",
       "      <td>{'latitude': 40.790588, 'longitude': -73.94281}</td>\n",
       "      <td>['delivery', 'pickup']</td>\n",
       "      <td>$</td>\n",
       "      <td>{'address1': '2061 2nd Ave', 'address2': '', 'address3': '', 'city': 'New York', 'zip_code': '10029', 'country': 'US', 'state': 'NY', 'display_address': ['2061 2nd Ave', 'New York, NY 10029']}</td>\n",
       "      <td>+12124106950</td>\n",
       "      <td>(212) 410-6950</td>\n",
       "      <td>Because I've been going here since I was 7 years old And never let me down some of the best food in myOpinion.Service is good but food is average and EXPENSIVE. We arrived around 9am and ordered f...</td>\n",
       "    </tr>\n",
       "  </tbody>\n",
       "</table>\n",
       "<p>18462 rows × 30 columns</p>\n",
       "</div>"
      ],
      "text/plain": [
       "          CAMIS                          DBA CUISINE DESCRIPTION       BORO  \\\n",
       "0      30112340                      WENDY'S          Hamburgers   Brooklyn   \n",
       "1      40356018             RIVIERA CATERERS            American   Brooklyn   \n",
       "2      40356483           WILKEN'S FINE FOOD          Sandwiches   Brooklyn   \n",
       "3      40356731  TASTE THE TROPICS ICE CREAM     Frozen Desserts   Brooklyn   \n",
       "4      40356731  TASTE THE TROPICS ICE CREAM     Frozen Desserts   Brooklyn   \n",
       "...         ...                          ...                 ...        ...   \n",
       "18457  50113139                          98K             Chicken   Brooklyn   \n",
       "18458  50113139                          98K             Chicken   Brooklyn   \n",
       "18459  50113198      SENG SEAFOOD RESTAURANT             Seafood  Manhattan   \n",
       "18460  50117350                     SONG TEA          Coffee/Tea  Manhattan   \n",
       "18461  50117959          SOL MAYA RESTAURANT            American  Manhattan   \n",
       "\n",
       "      BUILDING            STREET  ZIPCODE         PHONE  Latitude  Longitude  \\\n",
       "0          469   FLATBUSH AVENUE 11225.00  +17182875005     40.66     -73.96   \n",
       "1         2780  STILLWELL AVENUE 11224.00  +17183723031     40.58     -73.98   \n",
       "2         7114          AVENUE U 11234.00  +17184443838     40.62     -73.91   \n",
       "3         1839   NOSTRAND AVENUE 11226.00  +17188560821     40.64     -73.95   \n",
       "4         1839   NOSTRAND AVENUE 11226.00  +17188560821     40.64     -73.95   \n",
       "...        ...               ...      ...           ...       ...        ...   \n",
       "18457       12   BAY   25 STREET 11214.00  +17183331088     40.60     -74.00   \n",
       "18458       12   BAY   25 STREET 11214.00  +17183331088     40.60     -74.00   \n",
       "18459       39     EAST BROADWAY 10002.00  +16467999378     40.71     -74.00   \n",
       "18460      488          7 AVENUE 10018.00  +16466697802     40.75     -73.99   \n",
       "18461     2061          2 AVENUE 10029.00  +12124106950     40.79     -73.94   \n",
       "\n",
       "       Community Board  Council District  Census Tract  Severe  \\\n",
       "0               309.00             40.00      32700.00       0   \n",
       "1               313.00             47.00      34800.00       0   \n",
       "2               318.00             46.00      70000.00       0   \n",
       "3               317.00             45.00      82800.00       0   \n",
       "4               317.00             45.00      82800.00       0   \n",
       "...                ...               ...           ...     ...   \n",
       "18457           311.00             47.00      28800.00       1   \n",
       "18458           311.00             47.00      28800.00       1   \n",
       "18459           103.00              1.00        800.00       0   \n",
       "18460           105.00              3.00      10900.00       0   \n",
       "18461           111.00              8.00      17000.00       0   \n",
       "\n",
       "                           id                             alias  \\\n",
       "0      AMxMPBkWi20dn_1BRalahA                 wendys-brooklyn-4   \n",
       "1      g8fAhVqBsC-BN6otcn85OA         riviera-caterers-brooklyn   \n",
       "2      Pe6MsH2DW0CXjvUtxUpI4A     wilkens-fine-foods-brooklyn-2   \n",
       "3      Q18r5FKi2qkQhtKZqWR8ww    taste-the-tropics-usa-brooklyn   \n",
       "4      Q18r5FKi2qkQhtKZqWR8ww    taste-the-tropics-usa-brooklyn   \n",
       "...                       ...                               ...   \n",
       "18457  XHL1bVCv3zZskXXTiOk3Nw            munchies-cafe-brooklyn   \n",
       "18458  --zlzg_JqUMb3KssgmT7MA       happy-home-cuisine-brooklyn   \n",
       "18459  rcwEQN8lxHzkr-QtfH_b8Q  seng-seafood-restaurant-new-york   \n",
       "18460  VAOGMSIeoou-6-Hnwsy5sw                 song-tea-new-york   \n",
       "18461  RUekg91-5EwrKjmFGkIleA    triple-a-1-restaurant-new-york   \n",
       "\n",
       "                          name  \\\n",
       "0                      Wendy's   \n",
       "1             Riviera Caterers   \n",
       "2           Wilkens Fine Foods   \n",
       "3        Taste the Tropics USA   \n",
       "4        Taste the Tropics USA   \n",
       "...                        ...   \n",
       "18457            Munchies Cafe   \n",
       "18458       Happy Home Cuisine   \n",
       "18459  Seng Seafood Restaurant   \n",
       "18460                 Song Tea   \n",
       "18461    Triple A 1 Restaurant   \n",
       "\n",
       "                                                                  image_url  \\\n",
       "0      https://s3-media0.fl.yelpcdn.com/bphoto/fR70FbX4_WV2-ofhsE89YA/o.jpg   \n",
       "1      https://s3-media0.fl.yelpcdn.com/bphoto/5qZ27Uarz2kNWxV3KktK1g/o.jpg   \n",
       "2      https://s3-media0.fl.yelpcdn.com/bphoto/gOyUSHz_oJWiN9Nw0AEpVg/o.jpg   \n",
       "3      https://s3-media0.fl.yelpcdn.com/bphoto/xW8S_DHdStqZiqjwQ_UUKw/o.jpg   \n",
       "4      https://s3-media0.fl.yelpcdn.com/bphoto/xW8S_DHdStqZiqjwQ_UUKw/o.jpg   \n",
       "...                                                                     ...   \n",
       "18457  https://s3-media0.fl.yelpcdn.com/bphoto/b329J79tnMNzKATdFw5Lfg/o.jpg   \n",
       "18458  https://s3-media0.fl.yelpcdn.com/bphoto/B2FPlMR4Nvu0roQlyMgVsg/o.jpg   \n",
       "18459  https://s3-media0.fl.yelpcdn.com/bphoto/VVyjCoK5-u1QCaUlq9UDtQ/o.jpg   \n",
       "18460  https://s3-media0.fl.yelpcdn.com/bphoto/HDrxhkHjJTqFYtEQp3zRew/o.jpg   \n",
       "18461  https://s3-media0.fl.yelpcdn.com/bphoto/GoETPnK2Kye8xaND9lyf6g/o.jpg   \n",
       "\n",
       "       is_closed  \\\n",
       "0          False   \n",
       "1          False   \n",
       "2          False   \n",
       "3          False   \n",
       "4          False   \n",
       "...          ...   \n",
       "18457       True   \n",
       "18458       True   \n",
       "18459      False   \n",
       "18460      False   \n",
       "18461      False   \n",
       "\n",
       "                                                                                                                                                                                              url  \\\n",
       "0                     https://www.yelp.com/biz/wendys-brooklyn-4?adjust_creative=82uXkAt1Tiw7u9_h33zr1A&utm_campaign=yelp_api_v3&utm_medium=api_v3_phone_search&utm_source=82uXkAt1Tiw7u9_h33zr1A   \n",
       "1             https://www.yelp.com/biz/riviera-caterers-brooklyn?adjust_creative=82uXkAt1Tiw7u9_h33zr1A&utm_campaign=yelp_api_v3&utm_medium=api_v3_phone_search&utm_source=82uXkAt1Tiw7u9_h33zr1A   \n",
       "2         https://www.yelp.com/biz/wilkens-fine-foods-brooklyn-2?adjust_creative=82uXkAt1Tiw7u9_h33zr1A&utm_campaign=yelp_api_v3&utm_medium=api_v3_phone_search&utm_source=82uXkAt1Tiw7u9_h33zr1A   \n",
       "3        https://www.yelp.com/biz/taste-the-tropics-usa-brooklyn?adjust_creative=82uXkAt1Tiw7u9_h33zr1A&utm_campaign=yelp_api_v3&utm_medium=api_v3_phone_search&utm_source=82uXkAt1Tiw7u9_h33zr1A   \n",
       "4        https://www.yelp.com/biz/taste-the-tropics-usa-brooklyn?adjust_creative=82uXkAt1Tiw7u9_h33zr1A&utm_campaign=yelp_api_v3&utm_medium=api_v3_phone_search&utm_source=82uXkAt1Tiw7u9_h33zr1A   \n",
       "...                                                                                                                                                                                           ...   \n",
       "18457            https://www.yelp.com/biz/munchies-cafe-brooklyn?adjust_creative=82uXkAt1Tiw7u9_h33zr1A&utm_campaign=yelp_api_v3&utm_medium=api_v3_phone_search&utm_source=82uXkAt1Tiw7u9_h33zr1A   \n",
       "18458       https://www.yelp.com/biz/happy-home-cuisine-brooklyn?adjust_creative=82uXkAt1Tiw7u9_h33zr1A&utm_campaign=yelp_api_v3&utm_medium=api_v3_phone_search&utm_source=82uXkAt1Tiw7u9_h33zr1A   \n",
       "18459  https://www.yelp.com/biz/seng-seafood-restaurant-new-york?adjust_creative=82uXkAt1Tiw7u9_h33zr1A&utm_campaign=yelp_api_v3&utm_medium=api_v3_phone_search&utm_source=82uXkAt1Tiw7u9_h33zr1A   \n",
       "18460                 https://www.yelp.com/biz/song-tea-new-york?adjust_creative=82uXkAt1Tiw7u9_h33zr1A&utm_campaign=yelp_api_v3&utm_medium=api_v3_phone_search&utm_source=82uXkAt1Tiw7u9_h33zr1A   \n",
       "18461    https://www.yelp.com/biz/triple-a-1-restaurant-new-york?adjust_creative=82uXkAt1Tiw7u9_h33zr1A&utm_campaign=yelp_api_v3&utm_medium=api_v3_phone_search&utm_source=82uXkAt1Tiw7u9_h33zr1A   \n",
       "\n",
       "       review_count  \\\n",
       "0                55   \n",
       "1                55   \n",
       "2                54   \n",
       "3                49   \n",
       "4                49   \n",
       "...             ...   \n",
       "18457           137   \n",
       "18458            36   \n",
       "18459            21   \n",
       "18460             8   \n",
       "18461            61   \n",
       "\n",
       "                                                                                                                                             categories  \\\n",
       "0                                                                [{'alias': 'hotdogs', 'title': 'Fast Food'}, {'alias': 'burgers', 'title': 'Burgers'}]   \n",
       "1                                                                                                          [{'alias': 'catering', 'title': 'Caterers'}]   \n",
       "2                                                                                                                [{'alias': 'delis', 'title': 'Delis'}]   \n",
       "3                                                                                         [{'alias': 'icecream', 'title': 'Ice Cream & Frozen Yogurt'}]   \n",
       "4                                                                                         [{'alias': 'icecream', 'title': 'Ice Cream & Frozen Yogurt'}]   \n",
       "...                                                                                                                                                 ...   \n",
       "18457                                                            [{'alias': 'desserts', 'title': 'Desserts'}, {'alias': 'chinese', 'title': 'Chinese'}]   \n",
       "18458                       [{'alias': 'bbq', 'title': 'Barbeque'}, {'alias': 'seafood', 'title': 'Seafood'}, {'alias': 'noodles', 'title': 'Noodles'}]   \n",
       "18459                 [{'alias': 'dimsum', 'title': 'Dim Sum'}, {'alias': 'seafood', 'title': 'Seafood'}, {'alias': 'cantonese', 'title': 'Cantonese'}]   \n",
       "18460                                                                                                   [{'alias': 'bubbletea', 'title': 'Bubble Tea'}]   \n",
       "18461  [{'alias': 'diners', 'title': 'Diners'}, {'alias': 'mexican', 'title': 'Mexican'}, {'alias': 'breakfast_brunch', 'title': 'Breakfast & Brunch'}]   \n",
       "\n",
       "       rating                                                     coordinates  \\\n",
       "0        1.50                {'latitude': 40.662952, 'longitude': -73.961753}   \n",
       "1        4.50                  {'latitude': 40.57952, 'longitude': -73.98243}   \n",
       "2        3.00                   {'latitude': 40.6199, 'longitude': -73.90685}   \n",
       "3        4.50                  {'latitude': 40.64083, 'longitude': -73.94835}   \n",
       "4        4.50                  {'latitude': 40.64083, 'longitude': -73.94835}   \n",
       "...       ...                                                             ...   \n",
       "18457    3.50                  {'latitude': 40.60394, 'longitude': -73.99796}   \n",
       "18458    3.50  {'latitude': 40.6039450276978, 'longitude': -73.9979839324951}   \n",
       "18459    4.00                   {'latitude': 40.71345, 'longitude': -73.9962}   \n",
       "18460    4.00                  {'latitude': 40.75255, 'longitude': -73.98972}   \n",
       "18461    3.50                 {'latitude': 40.790588, 'longitude': -73.94281}   \n",
       "\n",
       "                     transactions price  \\\n",
       "0                    ['delivery']     $   \n",
       "1                              []   NaN   \n",
       "2          ['pickup', 'delivery']    $$   \n",
       "3          ['pickup', 'delivery']     $   \n",
       "4          ['delivery', 'pickup']     $   \n",
       "...                           ...   ...   \n",
       "18457                          []     $   \n",
       "18458                ['delivery']     $   \n",
       "18459  ['restaurant_reservation']    $$   \n",
       "18460      ['delivery', 'pickup']   NaN   \n",
       "18461      ['delivery', 'pickup']     $   \n",
       "\n",
       "                                                                                                                                                                                                      location  \\\n",
       "0      {'address1': '469 Flatbush Ave', 'address2': '', 'address3': '', 'city': 'Brooklyn', 'zip_code': '11225', 'country': 'US', 'state': 'NY', 'display_address': ['469 Flatbush Ave', 'Brooklyn, NY 1122...   \n",
       "1      {'address1': '2780 Stillwell Ave', 'address2': '', 'address3': '', 'city': 'Brooklyn', 'zip_code': '11224', 'country': 'US', 'state': 'NY', 'display_address': ['2780 Stillwell Ave', 'Brooklyn, NY ...   \n",
       "2                 {'address1': '7114 Ave U', 'address2': '', 'address3': '', 'city': 'Brooklyn', 'zip_code': '11234', 'country': 'US', 'state': 'NY', 'display_address': ['7114 Ave U', 'Brooklyn, NY 11234']}   \n",
       "3      {'address1': '1839 Nostrand Ave', 'address2': '', 'address3': '', 'city': 'Brooklyn', 'zip_code': '11226', 'country': 'US', 'state': 'NY', 'display_address': ['1839 Nostrand Ave', 'Brooklyn, NY 11...   \n",
       "4      {'address1': '1839 Nostrand Ave', 'address2': '', 'address3': '', 'city': 'Brooklyn', 'zip_code': '11226', 'country': 'US', 'state': 'NY', 'display_address': ['1839 Nostrand Ave', 'Brooklyn, NY 11...   \n",
       "...                                                                                                                                                                                                        ...   \n",
       "18457     {'address1': '12 Bay 25th St', 'address2': '', 'address3': '', 'city': 'Brooklyn', 'zip_code': '11214', 'country': 'US', 'state': 'NY', 'display_address': ['12 Bay 25th St', 'Brooklyn, NY 11214']}   \n",
       "18458   {'address1': '12 Bay 25th St', 'address2': '', 'address3': None, 'city': 'Brooklyn', 'zip_code': '11214', 'country': 'US', 'state': 'NY', 'display_address': ['12 Bay 25th St', 'Brooklyn, NY 11214']}   \n",
       "18459  {'address1': '39 E Broadway', 'address2': 'Fl 2', 'address3': None, 'city': 'New York', 'zip_code': '10002', 'country': 'US', 'state': 'NY', 'display_address': ['39 E Broadway', 'Fl 2', 'New York,...   \n",
       "18460         {'address1': '488 7th Ave', 'address2': '', 'address3': None, 'city': 'New York', 'zip_code': '10018', 'country': 'US', 'state': 'NY', 'display_address': ['488 7th Ave', 'New York, NY 10018']}   \n",
       "18461         {'address1': '2061 2nd Ave', 'address2': '', 'address3': '', 'city': 'New York', 'zip_code': '10029', 'country': 'US', 'state': 'NY', 'display_address': ['2061 2nd Ave', 'New York, NY 10029']}   \n",
       "\n",
       "              phone   display_phone  \\\n",
       "0      +17182875005  (718) 287-5005   \n",
       "1      +17183723031  (718) 372-3031   \n",
       "2      +17184443838  (718) 444-3838   \n",
       "3      +17188560821  (718) 856-0821   \n",
       "4      +17188560821  (718) 856-0821   \n",
       "...             ...             ...   \n",
       "18457  +17183331088  (718) 333-1088   \n",
       "18458  +17183331088  (718) 333-1088   \n",
       "18459  +16467999378  (646) 799-9378   \n",
       "18460  +16466697802  (646) 669-7802   \n",
       "18461  +12124106950  (212) 410-6950   \n",
       "\n",
       "                                                                                                                                                                                                       Reviews  \n",
       "0      Forgot my root beer and the burger tasted very weird.If I can give this place no stars I absolutely would. The workers here are in efficient.  They do not work the best possible way. They cause th...  \n",
       "1      I had my wedding here a month ago and I would give Riviera 10 stars if I could. It was such a joy and ease to work with Adam, Tommy, and their staff.  A true diamond in the rough of Coney Island a...  \n",
       "2      We've recently discovered this gem on Uber Eats and they have the best sandwiches!!The broccoli rabe fried eggplant mozzarella sandwich was amazing. Having a fresh green veggie paired with a light...  \n",
       "3      We've ordered from these folks a number of times on Grubhub and have always been extremely satisfied. We've never been to the actual store but I have called over there a few times with some questi...  \n",
       "4      We've ordered from these folks a number of times on Grubhub and have always been extremely satisfied. We've never been to the actual store but I have called over there a few times with some questi...  \n",
       "...                                                                                                                                                                                                        ...  \n",
       "18457  This is my go to dessert place since its nearby and affordable. The Ice-cream is extremely good, it tastes fresh and seems to be made with the fresh ingredients as well. The coconut and green tea ...  \n",
       "18458  My family wanted bo zai fan and decided to come try here for outdoor dining on 10/3. There was 5 of us (plus baby stroller) sitting outside under the tent infront of the shop (indoor dining had ju...  \n",
       "18459  GREATEST PRICE FOR DIMSUM. You don't find prices like this anymore, not in NYC, not in Bay Area, not in Canada... It's $3.50 per dish (usually), and is pretty darn good. It hits the spot without b...  \n",
       "18460  I really like the drinks here that come with mochi.  It's a layer of gooey sticky ricecake that's really fun to drink through a straw, as opposed to individual pieces of mochi.Also the drinks have...  \n",
       "18461  Because I've been going here since I was 7 years old And never let me down some of the best food in myOpinion.Service is good but food is average and EXPENSIVE. We arrived around 9am and ordered f...  \n",
       "\n",
       "[18462 rows x 30 columns]"
      ]
     },
     "execution_count": 76,
     "metadata": {},
     "output_type": "execute_result"
    }
   ],
   "source": [
    "# Saving merged dataset to csv\n",
    "# df_1.to_csv('full_dataset.csv')\n",
    "df_1"
   ]
  },
  {
   "cell_type": "code",
   "execution_count": 77,
   "metadata": {
    "ExecuteTime": {
     "end_time": "2022-05-11T02:28:28.343577Z",
     "start_time": "2022-05-11T02:28:28.239713Z"
    }
   },
   "outputs": [
    {
     "name": "stdout",
     "output_type": "stream",
     "text": [
      "<class 'pandas.core.frame.DataFrame'>\n",
      "Int64Index: 18462 entries, 0 to 18461\n",
      "Data columns (total 30 columns):\n",
      " #   Column               Non-Null Count  Dtype  \n",
      "---  ------               --------------  -----  \n",
      " 0   CAMIS                18462 non-null  int64  \n",
      " 1   DBA                  18461 non-null  object \n",
      " 2   CUISINE DESCRIPTION  18462 non-null  object \n",
      " 3   BORO                 18462 non-null  object \n",
      " 4   BUILDING             18302 non-null  object \n",
      " 5   STREET               18462 non-null  object \n",
      " 6   ZIPCODE              18168 non-null  float64\n",
      " 7   PHONE                18462 non-null  object \n",
      " 8   Latitude             18420 non-null  float64\n",
      " 9   Longitude            18420 non-null  float64\n",
      " 10  Community Board      17992 non-null  float64\n",
      " 11  Council District     17992 non-null  float64\n",
      " 12  Census Tract         17992 non-null  float64\n",
      " 13  Severe               18462 non-null  int64  \n",
      " 14  id                   18462 non-null  object \n",
      " 15  alias                18462 non-null  object \n",
      " 16  name                 18462 non-null  object \n",
      " 17  image_url            17672 non-null  object \n",
      " 18  is_closed            18462 non-null  bool   \n",
      " 19  url                  18462 non-null  object \n",
      " 20  review_count         18462 non-null  int64  \n",
      " 21  categories           18462 non-null  object \n",
      " 22  rating               18462 non-null  float64\n",
      " 23  coordinates          18462 non-null  object \n",
      " 24  transactions         18462 non-null  object \n",
      " 25  price                15391 non-null  object \n",
      " 26  location             18462 non-null  object \n",
      " 27  phone                18462 non-null  object \n",
      " 28  display_phone        18462 non-null  object \n",
      " 29  Reviews              15681 non-null  object \n",
      "dtypes: bool(1), float64(7), int64(3), object(19)\n",
      "memory usage: 4.2+ MB\n"
     ]
    }
   ],
   "source": [
    "df_1.info()"
   ]
  },
  {
   "cell_type": "markdown",
   "metadata": {},
   "source": [
    "# Scrubbing The Data"
   ]
  },
  {
   "cell_type": "code",
   "execution_count": null,
   "metadata": {
    "ExecuteTime": {
     "end_time": "2022-04-21T20:26:00.302099Z",
     "start_time": "2022-04-21T20:26:00.295385Z"
    }
   },
   "outputs": [],
   "source": [
    "# Get missing reviews\n",
    "# Drop businesses missing reviews\n",
    "# Drop unneccessary columns\n",
    "# Check duplicates\n",
    "# ??Feature Engineering\n",
    "# Get coordinates\n",
    "# Get takeout/delivery\n",
    "# Get $$$$"
   ]
  },
  {
   "cell_type": "code",
   "execution_count": 78,
   "metadata": {
    "ExecuteTime": {
     "end_time": "2022-05-11T02:28:35.788650Z",
     "start_time": "2022-05-11T02:28:35.746719Z"
    }
   },
   "outputs": [
    {
     "data": {
      "text/plain": [
       "2781"
      ]
     },
     "execution_count": 78,
     "metadata": {},
     "output_type": "execute_result"
    }
   ],
   "source": [
    "# Getting missing reviews\n",
    "missing_reviews = df_1[df_1.Reviews.isna()]\n",
    "urls = missing_reviews['url']\n",
    "len(list(urls))"
   ]
  },
  {
   "cell_type": "code",
   "execution_count": 79,
   "metadata": {
    "ExecuteTime": {
     "end_time": "2022-05-11T02:28:42.678028Z",
     "start_time": "2022-05-11T02:28:42.671469Z"
    }
   },
   "outputs": [],
   "source": [
    "# Re-running function from above with the list of urls missing reviews\n",
    "# adding_reviews = get_text(list(urls))"
   ]
  },
  {
   "cell_type": "code",
   "execution_count": 80,
   "metadata": {
    "ExecuteTime": {
     "end_time": "2022-05-11T02:28:54.295300Z",
     "start_time": "2022-05-11T02:28:54.291399Z"
    }
   },
   "outputs": [],
   "source": [
    "# Saving the review text as a csv to the repository\n",
    "# mssing_rvws = pd.DataFrame(adding_reviews,columns=['Review_Text'])\n",
    "# mssing_rvws.to_csv('mssing_rvws.csv',index=False)"
   ]
  },
  {
   "cell_type": "code",
   "execution_count": 81,
   "metadata": {
    "ExecuteTime": {
     "end_time": "2022-05-11T02:28:55.165300Z",
     "start_time": "2022-05-11T02:28:55.158717Z"
    }
   },
   "outputs": [],
   "source": [
    "missing_reviews2 = missing_reviews.copy()"
   ]
  },
  {
   "cell_type": "code",
   "execution_count": 82,
   "metadata": {
    "ExecuteTime": {
     "end_time": "2022-05-11T02:28:56.164739Z",
     "start_time": "2022-05-11T02:28:56.095581Z"
    }
   },
   "outputs": [
    {
     "ename": "KeyError",
     "evalue": "\"['level_0'] not found in axis\"",
     "output_type": "error",
     "traceback": [
      "\u001b[0;31m---------------------------------------------------------------------------\u001b[0m",
      "\u001b[0;31mKeyError\u001b[0m                                  Traceback (most recent call last)",
      "\u001b[0;32m<ipython-input-82-a1a9cc3c71ea>\u001b[0m in \u001b[0;36m<module>\u001b[0;34m\u001b[0m\n\u001b[1;32m      1\u001b[0m \u001b[0;31m# missing_reviews2.reset_index(inplace=True)\u001b[0m\u001b[0;34m\u001b[0m\u001b[0;34m\u001b[0m\u001b[0;34m\u001b[0m\u001b[0m\n\u001b[0;32m----> 2\u001b[0;31m \u001b[0mmissing_reviews2\u001b[0m\u001b[0;34m.\u001b[0m\u001b[0mdrop\u001b[0m\u001b[0;34m(\u001b[0m\u001b[0mcolumns\u001b[0m\u001b[0;34m=\u001b[0m\u001b[0;34m[\u001b[0m\u001b[0;34m'level_0'\u001b[0m\u001b[0;34m]\u001b[0m\u001b[0;34m,\u001b[0m\u001b[0minplace\u001b[0m\u001b[0;34m=\u001b[0m\u001b[0;32mTrue\u001b[0m\u001b[0;34m)\u001b[0m\u001b[0;34m\u001b[0m\u001b[0;34m\u001b[0m\u001b[0m\n\u001b[0m\u001b[1;32m      3\u001b[0m \u001b[0mmissing_reviews2\u001b[0m\u001b[0;34m\u001b[0m\u001b[0;34m\u001b[0m\u001b[0m\n",
      "\u001b[0;32m/opt/anaconda3/envs/learn-env/lib/python3.8/site-packages/pandas/util/_decorators.py\u001b[0m in \u001b[0;36mwrapper\u001b[0;34m(*args, **kwargs)\u001b[0m\n\u001b[1;32m    309\u001b[0m                     \u001b[0mstacklevel\u001b[0m\u001b[0;34m=\u001b[0m\u001b[0mstacklevel\u001b[0m\u001b[0;34m,\u001b[0m\u001b[0;34m\u001b[0m\u001b[0;34m\u001b[0m\u001b[0m\n\u001b[1;32m    310\u001b[0m                 )\n\u001b[0;32m--> 311\u001b[0;31m             \u001b[0;32mreturn\u001b[0m \u001b[0mfunc\u001b[0m\u001b[0;34m(\u001b[0m\u001b[0;34m*\u001b[0m\u001b[0margs\u001b[0m\u001b[0;34m,\u001b[0m \u001b[0;34m**\u001b[0m\u001b[0mkwargs\u001b[0m\u001b[0;34m)\u001b[0m\u001b[0;34m\u001b[0m\u001b[0;34m\u001b[0m\u001b[0m\n\u001b[0m\u001b[1;32m    312\u001b[0m \u001b[0;34m\u001b[0m\u001b[0m\n\u001b[1;32m    313\u001b[0m         \u001b[0;32mreturn\u001b[0m \u001b[0mwrapper\u001b[0m\u001b[0;34m\u001b[0m\u001b[0;34m\u001b[0m\u001b[0m\n",
      "\u001b[0;32m/opt/anaconda3/envs/learn-env/lib/python3.8/site-packages/pandas/core/frame.py\u001b[0m in \u001b[0;36mdrop\u001b[0;34m(self, labels, axis, index, columns, level, inplace, errors)\u001b[0m\n\u001b[1;32m   4952\u001b[0m                 \u001b[0mweight\u001b[0m  \u001b[0;36m1.0\u001b[0m     \u001b[0;36m0.8\u001b[0m\u001b[0;34m\u001b[0m\u001b[0;34m\u001b[0m\u001b[0m\n\u001b[1;32m   4953\u001b[0m         \"\"\"\n\u001b[0;32m-> 4954\u001b[0;31m         return super().drop(\n\u001b[0m\u001b[1;32m   4955\u001b[0m             \u001b[0mlabels\u001b[0m\u001b[0;34m=\u001b[0m\u001b[0mlabels\u001b[0m\u001b[0;34m,\u001b[0m\u001b[0;34m\u001b[0m\u001b[0;34m\u001b[0m\u001b[0m\n\u001b[1;32m   4956\u001b[0m             \u001b[0maxis\u001b[0m\u001b[0;34m=\u001b[0m\u001b[0maxis\u001b[0m\u001b[0;34m,\u001b[0m\u001b[0;34m\u001b[0m\u001b[0;34m\u001b[0m\u001b[0m\n",
      "\u001b[0;32m/opt/anaconda3/envs/learn-env/lib/python3.8/site-packages/pandas/core/generic.py\u001b[0m in \u001b[0;36mdrop\u001b[0;34m(self, labels, axis, index, columns, level, inplace, errors)\u001b[0m\n\u001b[1;32m   4265\u001b[0m         \u001b[0;32mfor\u001b[0m \u001b[0maxis\u001b[0m\u001b[0;34m,\u001b[0m \u001b[0mlabels\u001b[0m \u001b[0;32min\u001b[0m \u001b[0maxes\u001b[0m\u001b[0;34m.\u001b[0m\u001b[0mitems\u001b[0m\u001b[0;34m(\u001b[0m\u001b[0;34m)\u001b[0m\u001b[0;34m:\u001b[0m\u001b[0;34m\u001b[0m\u001b[0;34m\u001b[0m\u001b[0m\n\u001b[1;32m   4266\u001b[0m             \u001b[0;32mif\u001b[0m \u001b[0mlabels\u001b[0m \u001b[0;32mis\u001b[0m \u001b[0;32mnot\u001b[0m \u001b[0;32mNone\u001b[0m\u001b[0;34m:\u001b[0m\u001b[0;34m\u001b[0m\u001b[0;34m\u001b[0m\u001b[0m\n\u001b[0;32m-> 4267\u001b[0;31m                 \u001b[0mobj\u001b[0m \u001b[0;34m=\u001b[0m \u001b[0mobj\u001b[0m\u001b[0;34m.\u001b[0m\u001b[0m_drop_axis\u001b[0m\u001b[0;34m(\u001b[0m\u001b[0mlabels\u001b[0m\u001b[0;34m,\u001b[0m \u001b[0maxis\u001b[0m\u001b[0;34m,\u001b[0m \u001b[0mlevel\u001b[0m\u001b[0;34m=\u001b[0m\u001b[0mlevel\u001b[0m\u001b[0;34m,\u001b[0m \u001b[0merrors\u001b[0m\u001b[0;34m=\u001b[0m\u001b[0merrors\u001b[0m\u001b[0;34m)\u001b[0m\u001b[0;34m\u001b[0m\u001b[0;34m\u001b[0m\u001b[0m\n\u001b[0m\u001b[1;32m   4268\u001b[0m \u001b[0;34m\u001b[0m\u001b[0m\n\u001b[1;32m   4269\u001b[0m         \u001b[0;32mif\u001b[0m \u001b[0minplace\u001b[0m\u001b[0;34m:\u001b[0m\u001b[0;34m\u001b[0m\u001b[0;34m\u001b[0m\u001b[0m\n",
      "\u001b[0;32m/opt/anaconda3/envs/learn-env/lib/python3.8/site-packages/pandas/core/generic.py\u001b[0m in \u001b[0;36m_drop_axis\u001b[0;34m(self, labels, axis, level, errors, consolidate, only_slice)\u001b[0m\n\u001b[1;32m   4309\u001b[0m                 \u001b[0mnew_axis\u001b[0m \u001b[0;34m=\u001b[0m \u001b[0maxis\u001b[0m\u001b[0;34m.\u001b[0m\u001b[0mdrop\u001b[0m\u001b[0;34m(\u001b[0m\u001b[0mlabels\u001b[0m\u001b[0;34m,\u001b[0m \u001b[0mlevel\u001b[0m\u001b[0;34m=\u001b[0m\u001b[0mlevel\u001b[0m\u001b[0;34m,\u001b[0m \u001b[0merrors\u001b[0m\u001b[0;34m=\u001b[0m\u001b[0merrors\u001b[0m\u001b[0;34m)\u001b[0m\u001b[0;34m\u001b[0m\u001b[0;34m\u001b[0m\u001b[0m\n\u001b[1;32m   4310\u001b[0m             \u001b[0;32melse\u001b[0m\u001b[0;34m:\u001b[0m\u001b[0;34m\u001b[0m\u001b[0;34m\u001b[0m\u001b[0m\n\u001b[0;32m-> 4311\u001b[0;31m                 \u001b[0mnew_axis\u001b[0m \u001b[0;34m=\u001b[0m \u001b[0maxis\u001b[0m\u001b[0;34m.\u001b[0m\u001b[0mdrop\u001b[0m\u001b[0;34m(\u001b[0m\u001b[0mlabels\u001b[0m\u001b[0;34m,\u001b[0m \u001b[0merrors\u001b[0m\u001b[0;34m=\u001b[0m\u001b[0merrors\u001b[0m\u001b[0;34m)\u001b[0m\u001b[0;34m\u001b[0m\u001b[0;34m\u001b[0m\u001b[0m\n\u001b[0m\u001b[1;32m   4312\u001b[0m             \u001b[0mindexer\u001b[0m \u001b[0;34m=\u001b[0m \u001b[0maxis\u001b[0m\u001b[0;34m.\u001b[0m\u001b[0mget_indexer\u001b[0m\u001b[0;34m(\u001b[0m\u001b[0mnew_axis\u001b[0m\u001b[0;34m)\u001b[0m\u001b[0;34m\u001b[0m\u001b[0;34m\u001b[0m\u001b[0m\n\u001b[1;32m   4313\u001b[0m \u001b[0;34m\u001b[0m\u001b[0m\n",
      "\u001b[0;32m/opt/anaconda3/envs/learn-env/lib/python3.8/site-packages/pandas/core/indexes/base.py\u001b[0m in \u001b[0;36mdrop\u001b[0;34m(self, labels, errors)\u001b[0m\n\u001b[1;32m   6642\u001b[0m         \u001b[0;32mif\u001b[0m \u001b[0mmask\u001b[0m\u001b[0;34m.\u001b[0m\u001b[0many\u001b[0m\u001b[0;34m(\u001b[0m\u001b[0;34m)\u001b[0m\u001b[0;34m:\u001b[0m\u001b[0;34m\u001b[0m\u001b[0;34m\u001b[0m\u001b[0m\n\u001b[1;32m   6643\u001b[0m             \u001b[0;32mif\u001b[0m \u001b[0merrors\u001b[0m \u001b[0;34m!=\u001b[0m \u001b[0;34m\"ignore\"\u001b[0m\u001b[0;34m:\u001b[0m\u001b[0;34m\u001b[0m\u001b[0;34m\u001b[0m\u001b[0m\n\u001b[0;32m-> 6644\u001b[0;31m                 \u001b[0;32mraise\u001b[0m \u001b[0mKeyError\u001b[0m\u001b[0;34m(\u001b[0m\u001b[0;34mf\"{list(labels[mask])} not found in axis\"\u001b[0m\u001b[0;34m)\u001b[0m\u001b[0;34m\u001b[0m\u001b[0;34m\u001b[0m\u001b[0m\n\u001b[0m\u001b[1;32m   6645\u001b[0m             \u001b[0mindexer\u001b[0m \u001b[0;34m=\u001b[0m \u001b[0mindexer\u001b[0m\u001b[0;34m[\u001b[0m\u001b[0;34m~\u001b[0m\u001b[0mmask\u001b[0m\u001b[0;34m]\u001b[0m\u001b[0;34m\u001b[0m\u001b[0;34m\u001b[0m\u001b[0m\n\u001b[1;32m   6646\u001b[0m         \u001b[0;32mreturn\u001b[0m \u001b[0mself\u001b[0m\u001b[0;34m.\u001b[0m\u001b[0mdelete\u001b[0m\u001b[0;34m(\u001b[0m\u001b[0mindexer\u001b[0m\u001b[0;34m)\u001b[0m\u001b[0;34m\u001b[0m\u001b[0;34m\u001b[0m\u001b[0m\n",
      "\u001b[0;31mKeyError\u001b[0m: \"['level_0'] not found in axis\""
     ]
    }
   ],
   "source": [
    "# missing_reviews2.reset_index(inplace=True)\n",
    "missing_reviews2.drop(columns=['level_0'],inplace=True)\n",
    "missing_reviews2"
   ]
  },
  {
   "cell_type": "code",
   "execution_count": 83,
   "metadata": {
    "ExecuteTime": {
     "end_time": "2022-05-11T02:29:07.301148Z",
     "start_time": "2022-05-11T02:29:07.295743Z"
    }
   },
   "outputs": [],
   "source": [
    "urls_df = pd.DataFrame(urls)\n",
    "urls_df.reset_index(inplace=True)"
   ]
  },
  {
   "cell_type": "code",
   "execution_count": 84,
   "metadata": {
    "ExecuteTime": {
     "end_time": "2022-05-11T02:29:08.124767Z",
     "start_time": "2022-05-11T02:29:08.101476Z"
    }
   },
   "outputs": [
    {
     "ename": "NameError",
     "evalue": "name 'adding_reviews' is not defined",
     "output_type": "error",
     "traceback": [
      "\u001b[0;31m---------------------------------------------------------------------------\u001b[0m",
      "\u001b[0;31mNameError\u001b[0m                                 Traceback (most recent call last)",
      "\u001b[0;32m<ipython-input-84-82c8b2a1e486>\u001b[0m in \u001b[0;36m<module>\u001b[0;34m\u001b[0m\n\u001b[0;32m----> 1\u001b[0;31m \u001b[0murl_reviews_df\u001b[0m \u001b[0;34m=\u001b[0m \u001b[0mpd\u001b[0m\u001b[0;34m.\u001b[0m\u001b[0mconcat\u001b[0m\u001b[0;34m(\u001b[0m\u001b[0;34m[\u001b[0m\u001b[0murls_df\u001b[0m\u001b[0;34m,\u001b[0m\u001b[0madding_reviews\u001b[0m\u001b[0;34m]\u001b[0m\u001b[0;34m,\u001b[0m\u001b[0maxis\u001b[0m\u001b[0;34m=\u001b[0m\u001b[0;36m1\u001b[0m\u001b[0;34m)\u001b[0m\u001b[0;34m\u001b[0m\u001b[0;34m\u001b[0m\u001b[0m\n\u001b[0m",
      "\u001b[0;31mNameError\u001b[0m: name 'adding_reviews' is not defined"
     ]
    }
   ],
   "source": [
    "url_reviews_df = pd.concat([urls_df,adding_reviews],axis=1)"
   ]
  },
  {
   "cell_type": "code",
   "execution_count": null,
   "metadata": {
    "ExecuteTime": {
     "end_time": "2022-04-21T21:59:47.446750Z",
     "start_time": "2022-04-21T21:59:47.256724Z"
    }
   },
   "outputs": [],
   "source": [
    "rvw_df = pd.read_csv('mssing_rvws.csv')\n",
    "rvw_df"
   ]
  },
  {
   "cell_type": "code",
   "execution_count": null,
   "metadata": {
    "ExecuteTime": {
     "end_time": "2022-04-21T22:02:28.107772Z",
     "start_time": "2022-04-21T22:02:28.042050Z"
    }
   },
   "outputs": [],
   "source": [
    "fill_in_missing_df = pd.concat([missing_reviews2,adding_reviews],axis=1)\n",
    "fill_in_missing_df"
   ]
  },
  {
   "cell_type": "code",
   "execution_count": null,
   "metadata": {
    "ExecuteTime": {
     "end_time": "2022-04-21T22:10:30.232752Z",
     "start_time": "2022-04-21T22:10:30.228016Z"
    }
   },
   "outputs": [],
   "source": [
    "fill_in_missing_df.rename(columns={'reviews':'Reviews'},inplace=True)"
   ]
  },
  {
   "cell_type": "code",
   "execution_count": null,
   "metadata": {
    "ExecuteTime": {
     "end_time": "2022-04-21T22:07:00.859431Z",
     "start_time": "2022-04-21T22:07:00.850532Z"
    }
   },
   "outputs": [],
   "source": [
    "fill_in_missing_df['reviews'].isna().sum()"
   ]
  },
  {
   "cell_type": "code",
   "execution_count": null,
   "metadata": {
    "ExecuteTime": {
     "end_time": "2022-04-21T22:08:30.341340Z",
     "start_time": "2022-04-21T22:08:30.325215Z"
    }
   },
   "outputs": [],
   "source": [
    "fill_in_missing_df.drop(columns=['Reviews'],inplace=True)"
   ]
  },
  {
   "cell_type": "code",
   "execution_count": null,
   "metadata": {
    "ExecuteTime": {
     "end_time": "2022-04-21T22:10:36.186569Z",
     "start_time": "2022-04-21T22:10:36.101800Z"
    }
   },
   "outputs": [],
   "source": [
    "# Appending businesses with new reviews to full dataset\n",
    "df_2 = pd.concat([df_1,fill_in_missing_df])"
   ]
  },
  {
   "cell_type": "code",
   "execution_count": null,
   "metadata": {
    "ExecuteTime": {
     "end_time": "2022-04-21T22:17:57.979541Z",
     "start_time": "2022-04-21T22:17:57.950940Z"
    }
   },
   "outputs": [],
   "source": [
    "# dropping old rows without reviews\n",
    "df_2.dropna(subset=['Reviews'],inplace=True)"
   ]
  },
  {
   "cell_type": "code",
   "execution_count": null,
   "metadata": {
    "ExecuteTime": {
     "end_time": "2022-04-21T22:17:59.141449Z",
     "start_time": "2022-04-21T22:17:59.129876Z"
    }
   },
   "outputs": [],
   "source": [
    "df_2['Reviews'].isna().sum()"
   ]
  },
  {
   "cell_type": "code",
   "execution_count": null,
   "metadata": {
    "ExecuteTime": {
     "end_time": "2022-04-21T22:19:24.938547Z",
     "start_time": "2022-04-21T22:19:24.880105Z"
    }
   },
   "outputs": [],
   "source": [
    "df_2[df_2['Reviews'] == '']"
   ]
  },
  {
   "cell_type": "markdown",
   "metadata": {},
   "source": [
    "Still 220 businesses without reviews. Not too bad, but will try to extract these."
   ]
  },
  {
   "cell_type": "code",
   "execution_count": null,
   "metadata": {
    "ExecuteTime": {
     "end_time": "2022-04-21T22:51:00.293283Z",
     "start_time": "2022-04-21T22:51:00.282908Z"
    }
   },
   "outputs": [],
   "source": [
    "missing_rvws2 = df_2[df_2['Reviews'] == '']['url']"
   ]
  },
  {
   "cell_type": "code",
   "execution_count": null,
   "metadata": {
    "ExecuteTime": {
     "end_time": "2022-04-21T22:51:06.478727Z",
     "start_time": "2022-04-21T22:51:06.469893Z"
    }
   },
   "outputs": [],
   "source": [
    "missing_rvws2"
   ]
  },
  {
   "cell_type": "code",
   "execution_count": null,
   "metadata": {
    "ExecuteTime": {
     "end_time": "2022-04-21T22:30:30.694335Z",
     "start_time": "2022-04-21T22:23:50.086072Z"
    }
   },
   "outputs": [],
   "source": [
    "# Extracting the last reviews\n",
    "# adding_reviews2 = get_text(list(missing_rvws2))"
   ]
  },
  {
   "cell_type": "code",
   "execution_count": null,
   "metadata": {
    "ExecuteTime": {
     "end_time": "2022-04-21T22:33:36.268857Z",
     "start_time": "2022-04-21T22:33:36.234931Z"
    }
   },
   "outputs": [],
   "source": [
    "# # Saving the review text as a csv to the repository\n",
    "# mssing_rvws2 = pd.DataFrame(adding_reviews2,columns=['Review_Text'])\n",
    "# mssing_rvws2.to_csv('mssing_rvws2.csv',index=False)"
   ]
  },
  {
   "cell_type": "code",
   "execution_count": null,
   "metadata": {
    "ExecuteTime": {
     "end_time": "2022-04-21T22:52:19.562893Z",
     "start_time": "2022-04-21T22:52:19.556986Z"
    }
   },
   "outputs": [],
   "source": [
    "missing_rvws2_df = pd.DataFrame(missing_rvws2)\n",
    "missing_rvws2_df.reset_index(inplace=True)\n"
   ]
  },
  {
   "cell_type": "code",
   "execution_count": null,
   "metadata": {
    "ExecuteTime": {
     "end_time": "2022-04-21T22:58:40.998609Z",
     "start_time": "2022-04-21T22:58:40.979835Z"
    }
   },
   "outputs": [],
   "source": [
    "missing_rvws2_df"
   ]
  },
  {
   "cell_type": "code",
   "execution_count": null,
   "metadata": {
    "ExecuteTime": {
     "end_time": "2022-04-21T22:59:32.379649Z",
     "start_time": "2022-04-21T22:59:32.365728Z"
    }
   },
   "outputs": [],
   "source": []
  },
  {
   "cell_type": "code",
   "execution_count": null,
   "metadata": {
    "ExecuteTime": {
     "end_time": "2022-04-21T22:52:33.965945Z",
     "start_time": "2022-04-21T22:52:33.946549Z"
    }
   },
   "outputs": [],
   "source": [
    "fill_in_mssing_rvws_df2 = pd.concat([missing_rvws2_df,mssing_rvws2,],axis=1,join='outer',ignore_index=True)\n",
    "fill_in_mssing_rvws_df2"
   ]
  },
  {
   "cell_type": "code",
   "execution_count": null,
   "metadata": {},
   "outputs": [],
   "source": [
    "fill_in_missing_df2 = pd.concat([missing_reviews2,adding_reviews],axis=1)\n",
    "fill_in_missing_df"
   ]
  },
  {
   "cell_type": "code",
   "execution_count": null,
   "metadata": {
    "ExecuteTime": {
     "end_time": "2022-04-21T22:56:33.931240Z",
     "start_time": "2022-04-21T22:56:33.921473Z"
    }
   },
   "outputs": [],
   "source": [
    "missing_reviews_2_df = df_2[df_2['Reviews'] == '']"
   ]
  },
  {
   "cell_type": "code",
   "execution_count": null,
   "metadata": {
    "ExecuteTime": {
     "end_time": "2022-04-21T23:01:01.742101Z",
     "start_time": "2022-04-21T23:01:01.734921Z"
    }
   },
   "outputs": [],
   "source": [
    "missing_reviews_2_df.reset_index(inplace=True)\n",
    "missing_reviews_2_df.drop(columns=['index'],inplace=True)"
   ]
  },
  {
   "cell_type": "code",
   "execution_count": null,
   "metadata": {
    "ExecuteTime": {
     "end_time": "2022-04-21T23:01:06.196288Z",
     "start_time": "2022-04-21T23:01:06.138164Z"
    }
   },
   "outputs": [],
   "source": [
    "fill_in_missing_df2 = pd.concat([missing_reviews_2_df,mssing_rvws2],axis=1)\n",
    "fill_in_missing_df2\n"
   ]
  },
  {
   "cell_type": "code",
   "execution_count": null,
   "metadata": {
    "ExecuteTime": {
     "end_time": "2022-04-21T23:03:01.001559Z",
     "start_time": "2022-04-21T23:03:00.945338Z"
    }
   },
   "outputs": [],
   "source": [
    "fill_in_missing_df2.drop(columns=['Reviews'],inplace=True)\n",
    "fill_in_missing_df2.rename(columns={'Review_Text':'Reviews'},inplace=True)\n",
    "fill_in_missing_df2"
   ]
  },
  {
   "cell_type": "code",
   "execution_count": null,
   "metadata": {
    "ExecuteTime": {
     "end_time": "2022-04-21T23:09:55.573986Z",
     "start_time": "2022-04-21T23:09:55.537965Z"
    }
   },
   "outputs": [],
   "source": [
    "# Appending businesses with newly gathered reviews to full dataset\n",
    "df_3 = pd.concat([df_2,fill_in_missing_df2])"
   ]
  },
  {
   "cell_type": "code",
   "execution_count": null,
   "metadata": {
    "ExecuteTime": {
     "end_time": "2022-04-21T23:09:56.398912Z",
     "start_time": "2022-04-21T23:09:56.342365Z"
    }
   },
   "outputs": [],
   "source": [
    "df_3"
   ]
  },
  {
   "cell_type": "code",
   "execution_count": null,
   "metadata": {
    "ExecuteTime": {
     "end_time": "2022-04-21T23:11:43.594111Z",
     "start_time": "2022-04-21T23:11:43.399508Z"
    }
   },
   "outputs": [],
   "source": [
    "# Dropping old rows without reviews\n",
    "df_3 = df_3[df_3.Reviews != '']\n",
    "df_3"
   ]
  },
  {
   "cell_type": "code",
   "execution_count": null,
   "metadata": {},
   "outputs": [],
   "source": []
  },
  {
   "cell_type": "code",
   "execution_count": null,
   "metadata": {
    "ExecuteTime": {
     "end_time": "2022-04-21T23:12:05.736306Z",
     "start_time": "2022-04-21T23:12:03.749592Z"
    }
   },
   "outputs": [],
   "source": [
    "# Checking for duplicated rows\n",
    "df_3[df_3.duplicated(keep='first')]"
   ]
  },
  {
   "cell_type": "code",
   "execution_count": null,
   "metadata": {
    "ExecuteTime": {
     "end_time": "2022-04-21T23:12:48.244589Z",
     "start_time": "2022-04-21T23:12:47.890855Z"
    }
   },
   "outputs": [],
   "source": [
    "# Dropping Duplicated Rows\n",
    "df_3.drop_duplicates(keep='first',inplace=True)"
   ]
  },
  {
   "cell_type": "code",
   "execution_count": null,
   "metadata": {
    "ExecuteTime": {
     "end_time": "2022-04-21T23:12:50.295534Z",
     "start_time": "2022-04-21T23:12:50.244366Z"
    }
   },
   "outputs": [],
   "source": [
    "df_3"
   ]
  },
  {
   "cell_type": "code",
   "execution_count": null,
   "metadata": {
    "ExecuteTime": {
     "end_time": "2022-04-21T23:15:02.467938Z",
     "start_time": "2022-04-21T23:15:02.446172Z"
    }
   },
   "outputs": [],
   "source": [
    "# Resetting the index\n",
    "df_3.reset_index(inplace=True)\n",
    "df_3.drop(columns='index',inplace=True)"
   ]
  },
  {
   "cell_type": "code",
   "execution_count": null,
   "metadata": {
    "ExecuteTime": {
     "end_time": "2022-04-21T23:15:03.465664Z",
     "start_time": "2022-04-21T23:15:03.425512Z"
    }
   },
   "outputs": [],
   "source": [
    "df_3.info()"
   ]
  },
  {
   "cell_type": "code",
   "execution_count": null,
   "metadata": {
    "ExecuteTime": {
     "end_time": "2022-04-21T23:16:42.380016Z",
     "start_time": "2022-04-21T23:16:42.366846Z"
    }
   },
   "outputs": [],
   "source": [
    "# Looking at the distributions for each Boro\n",
    "df_3['BORO'].value_counts()"
   ]
  },
  {
   "cell_type": "code",
   "execution_count": null,
   "metadata": {
    "ExecuteTime": {
     "end_time": "2022-04-21T23:15:09.545583Z",
     "start_time": "2022-04-21T23:15:09.506080Z"
    }
   },
   "outputs": [],
   "source": [
    "# Inspecting missing Boro's\n",
    "df_3[df_3['BORO'] == '0' ]"
   ]
  },
  {
   "cell_type": "code",
   "execution_count": null,
   "metadata": {
    "ExecuteTime": {
     "end_time": "2022-04-21T23:16:38.839384Z",
     "start_time": "2022-04-21T23:16:38.833419Z"
    }
   },
   "outputs": [],
   "source": [
    "# Imputing missing BORO labels\n",
    "df_3.loc[6780:6781]['BORO'] = 'Brooklyn'\n",
    "df_3.loc[10182:10182]['BORO'] = 'Manhattan'"
   ]
  },
  {
   "cell_type": "code",
   "execution_count": null,
   "metadata": {
    "ExecuteTime": {
     "end_time": "2022-04-21T23:16:53.713884Z",
     "start_time": "2022-04-21T23:16:53.654803Z"
    },
    "scrolled": true
   },
   "outputs": [],
   "source": [
    "# Looking at Restaurants with missing zipcodes\n",
    "df_3[df_3['ZIPCODE'].isna()]"
   ]
  },
  {
   "cell_type": "code",
   "execution_count": null,
   "metadata": {
    "ExecuteTime": {
     "end_time": "2022-04-21T23:17:40.345464Z",
     "start_time": "2022-04-21T23:17:40.340322Z"
    },
    "scrolled": true
   },
   "outputs": [],
   "source": [
    "# Looking at Restaurants with missing zipcodes\n",
    "missing_zips = df_3['ZIPCODE'].isna()"
   ]
  },
  {
   "cell_type": "code",
   "execution_count": null,
   "metadata": {
    "ExecuteTime": {
     "end_time": "2022-04-21T23:17:49.992976Z",
     "start_time": "2022-04-21T23:17:49.096786Z"
    }
   },
   "outputs": [],
   "source": [
    "# Converting location data from str to dict dtype\n",
    "df_3['location'] = df_3['location'].apply(lambda x: ast.literal_eval(x))"
   ]
  },
  {
   "cell_type": "code",
   "execution_count": null,
   "metadata": {
    "ExecuteTime": {
     "end_time": "2022-04-21T23:17:52.289563Z",
     "start_time": "2022-04-21T23:17:52.279235Z"
    }
   },
   "outputs": [],
   "source": [
    "# Confirming change\n",
    "type(df_3.iloc[0]['location'])"
   ]
  },
  {
   "cell_type": "code",
   "execution_count": null,
   "metadata": {
    "ExecuteTime": {
     "end_time": "2022-04-21T23:18:06.903780Z",
     "start_time": "2022-04-21T23:18:06.853569Z"
    }
   },
   "outputs": [],
   "source": [
    "# Imputing Zipcodes missing from NYC data with Yelp value\n",
    "addrss_list = list(df_3['location'])\n",
    "zip_list =[]\n",
    "\n",
    "for zipcode in addrss_list:\n",
    "    zip_list.append(zipcode['zip_code'])\n",
    "    \n",
    "df_3['Zip_code'] = zip_list\n",
    "df_3.drop(columns=['ZIPCODE'],inplace=True)"
   ]
  },
  {
   "cell_type": "code",
   "execution_count": null,
   "metadata": {
    "ExecuteTime": {
     "end_time": "2022-04-21T23:54:11.440525Z",
     "start_time": "2022-04-21T23:54:11.428857Z"
    }
   },
   "outputs": [],
   "source": [
    "df_3['price'].value_counts()"
   ]
  },
  {
   "cell_type": "code",
   "execution_count": null,
   "metadata": {
    "ExecuteTime": {
     "end_time": "2022-04-21T23:19:07.784324Z",
     "start_time": "2022-04-21T23:19:07.765838Z"
    }
   },
   "outputs": [],
   "source": [
    "# Converting all review text into string objects\n",
    "df_3['Reviews'].astype(str,errors='raise')"
   ]
  },
  {
   "cell_type": "markdown",
   "metadata": {},
   "source": [
    "# Exploring The Dataset"
   ]
  },
  {
   "cell_type": "code",
   "execution_count": null,
   "metadata": {
    "ExecuteTime": {
     "end_time": "2022-04-22T17:04:53.220629Z",
     "start_time": "2022-04-22T17:04:53.193343Z"
    }
   },
   "outputs": [],
   "source": [
    "# Dropping unneccessary columns\n",
    "eda_df = df_3.drop(columns=['display_phone','phone','location','coordinates',\n",
    "                 'categories','is_closed','url','image_url','name','alias'])"
   ]
  },
  {
   "cell_type": "code",
   "execution_count": null,
   "metadata": {
    "ExecuteTime": {
     "end_time": "2022-04-22T17:04:55.207945Z",
     "start_time": "2022-04-22T17:04:55.187058Z"
    }
   },
   "outputs": [],
   "source": [
    "eda_df['price'].value_counts()"
   ]
  },
  {
   "cell_type": "code",
   "execution_count": null,
   "metadata": {
    "ExecuteTime": {
     "end_time": "2022-04-21T23:57:05.825875Z",
     "start_time": "2022-04-21T23:57:05.814878Z"
    }
   },
   "outputs": [],
   "source": [
    "eda_df['rating'].value_counts()"
   ]
  },
  {
   "cell_type": "code",
   "execution_count": null,
   "metadata": {
    "ExecuteTime": {
     "end_time": "2022-04-22T00:01:18.624011Z",
     "start_time": "2022-04-22T00:01:18.306933Z"
    }
   },
   "outputs": [],
   "source": [
    "#Get the distribution of the ratings\n",
    "x=eda_df['rating'].value_counts()\n",
    "x=x.sort_index()\n",
    "#plot\n",
    "plt.figure(figsize=(8,4))\n",
    "ax= sns.barplot(x.index, x.values, alpha=0.8)\n",
    "plt.title(\"Star Rating Distribution\")\n",
    "plt.ylabel('# of businesses', fontsize=12)\n",
    "plt.xlabel('Star Ratings ', fontsize=12)\n",
    "\n",
    "#adding the text labels\n",
    "rects = ax.patches\n",
    "labels = x.values\n",
    "for rect, label in zip(rects, labels):\n",
    "    height = rect.get_height()\n",
    "    ax.text(rect.get_x() + rect.get_width()/2, height + 5, label, ha='center', va='bottom')\n",
    "\n",
    "plt.show()"
   ]
  },
  {
   "cell_type": "code",
   "execution_count": null,
   "metadata": {
    "ExecuteTime": {
     "end_time": "2022-04-22T14:53:03.325605Z",
     "start_time": "2022-04-22T14:53:03.297737Z"
    }
   },
   "outputs": [],
   "source": [
    "fig = plt.figure()"
   ]
  },
  {
   "cell_type": "code",
   "execution_count": null,
   "metadata": {
    "ExecuteTime": {
     "end_time": "2022-04-22T01:46:44.567371Z",
     "start_time": "2022-04-22T01:46:44.555975Z"
    }
   },
   "outputs": [],
   "source": [
    "eda_df['rating'].value_counts()"
   ]
  },
  {
   "cell_type": "code",
   "execution_count": null,
   "metadata": {
    "ExecuteTime": {
     "end_time": "2022-04-22T01:47:12.407128Z",
     "start_time": "2022-04-22T01:47:11.976468Z"
    }
   },
   "outputs": [],
   "source": [
    "sns.distplot(eda_df.rating, kde=False)"
   ]
  },
  {
   "cell_type": "code",
   "execution_count": null,
   "metadata": {
    "ExecuteTime": {
     "end_time": "2022-04-21T23:26:23.722856Z",
     "start_time": "2022-04-21T23:26:23.701583Z"
    }
   },
   "outputs": [],
   "source": [
    "cuisines = pd.DataFrame(eda_df['CUISINE DESCRIPTION'].value_counts())\n",
    "cuisines.reset_index(inplace=True)\n",
    "cuisines[0:10]"
   ]
  },
  {
   "cell_type": "code",
   "execution_count": null,
   "metadata": {
    "ExecuteTime": {
     "end_time": "2022-04-22T00:08:24.648854Z",
     "start_time": "2022-04-22T00:08:24.118970Z"
    }
   },
   "outputs": [],
   "source": [
    "# What are the popular Cuisine categories?\n",
    "cuisine_cats = eda_df['CUISINE DESCRIPTION']\n",
    "\n",
    "x = cuisine_cats.value_counts()\n",
    "\n",
    "print(\"There are \",len(x),\" different types of cuisines in NYC\")\n",
    "\n",
    "#prep for chart\n",
    "x = x.sort_values(ascending=False)\n",
    "x = x.iloc[0:20]\n",
    "\n",
    "#chart\n",
    "plt.figure(figsize=(16,4))\n",
    "ax = sns.barplot(x.index, x.values, alpha=0.8)#,color=color[5])\n",
    "plt.title(\"What are the top categories?\",fontsize=25)\n",
    "locs, labels = plt.xticks()\n",
    "plt.setp(labels, rotation=80)\n",
    "plt.ylabel('# businesses', fontsize=12)\n",
    "plt.xlabel('Category', fontsize=12)\n",
    "\n",
    "#adding the text labels\n",
    "rects = ax.patches\n",
    "labels = x.values\n",
    "for rect, label in zip(rects, labels):\n",
    "    height = rect.get_height()\n",
    "    ax.text(rect.get_x() + rect.get_width()/2, height + 5, label, ha='center', va='bottom')\n",
    "\n",
    "plt.show()"
   ]
  },
  {
   "cell_type": "code",
   "execution_count": null,
   "metadata": {
    "ExecuteTime": {
     "end_time": "2022-04-22T01:41:27.343646Z",
     "start_time": "2022-04-22T01:41:27.318072Z"
    }
   },
   "outputs": [],
   "source": [
    "eda_df.columns"
   ]
  },
  {
   "cell_type": "code",
   "execution_count": null,
   "metadata": {
    "ExecuteTime": {
     "end_time": "2022-04-22T01:43:28.534917Z",
     "start_time": "2022-04-22T01:43:28.497181Z"
    }
   },
   "outputs": [],
   "source": [
    "# Most reviewed restaurants\n",
    "eda_df[['CAMIS','id','DBA', 'review_count', 'rating']].sort_values(ascending=False, by=\"review_count\")[0:50]"
   ]
  },
  {
   "cell_type": "code",
   "execution_count": null,
   "metadata": {
    "ExecuteTime": {
     "end_time": "2022-04-20T16:35:50.058081Z",
     "start_time": "2022-04-20T16:35:50.045598Z"
    }
   },
   "outputs": [],
   "source": [
    "# Look at all the feautres compared to the 0 class and 1 class"
   ]
  },
  {
   "cell_type": "code",
   "execution_count": null,
   "metadata": {
    "ExecuteTime": {
     "end_time": "2022-04-21T23:26:35.142051Z",
     "start_time": "2022-04-21T23:26:35.128735Z"
    }
   },
   "outputs": [],
   "source": [
    "labels_df = eda_df['Severe']\n",
    "labels_df.shape"
   ]
  },
  {
   "cell_type": "code",
   "execution_count": null,
   "metadata": {
    "ExecuteTime": {
     "end_time": "2022-04-21T23:26:36.577598Z",
     "start_time": "2022-04-21T23:26:36.315764Z"
    }
   },
   "outputs": [],
   "source": [
    "fig, ax = plt.subplots(figsize=(9.2, 5))\n",
    "\n",
    "n_obs = labels_df.shape\n",
    "\n",
    "(clean_df['Severe']\n",
    "    .value_counts()\n",
    "    .plot.barh(title=\"Proportion of Restaurants with Severe Violations\", ax=ax)\n",
    ")\n",
    "ax.set_ylabel(\"Severe Violations\")\n",
    "\n",
    "fig.tight_layout()"
   ]
  },
  {
   "cell_type": "code",
   "execution_count": null,
   "metadata": {
    "ExecuteTime": {
     "end_time": "2022-04-21T23:26:59.580904Z",
     "start_time": "2022-04-21T23:26:59.556783Z"
    }
   },
   "outputs": [],
   "source": [
    "counts = (eda_df[['BORO', 'Severe']]\n",
    "              .groupby(['BORO', 'Severe'])\n",
    "              .size()\n",
    "              .unstack('Severe')\n",
    "         )\n",
    "counts"
   ]
  },
  {
   "cell_type": "code",
   "execution_count": null,
   "metadata": {
    "ExecuteTime": {
     "end_time": "2022-04-21T23:27:06.550181Z",
     "start_time": "2022-04-21T23:27:06.202071Z"
    }
   },
   "outputs": [],
   "source": [
    "ax = counts.plot.barh()\n",
    "ax.legend(\n",
    "    loc='center right', \n",
    "    bbox_to_anchor=(1.3, 0.5), \n",
    "    title='Severe Violations'\n",
    ");"
   ]
  },
  {
   "cell_type": "code",
   "execution_count": null,
   "metadata": {
    "ExecuteTime": {
     "end_time": "2022-04-21T23:27:11.032743Z",
     "start_time": "2022-04-21T23:27:11.023012Z"
    }
   },
   "outputs": [],
   "source": [
    "severe_counts = counts.sum(axis='columns')\n",
    "severe_counts"
   ]
  },
  {
   "cell_type": "code",
   "execution_count": null,
   "metadata": {
    "ExecuteTime": {
     "end_time": "2022-04-21T23:27:18.150623Z",
     "start_time": "2022-04-21T23:27:18.133464Z"
    }
   },
   "outputs": [],
   "source": [
    "props = counts.div(severe_counts, axis='index')\n",
    "props"
   ]
  },
  {
   "cell_type": "code",
   "execution_count": null,
   "metadata": {
    "ExecuteTime": {
     "end_time": "2022-04-21T23:29:33.505663Z",
     "start_time": "2022-04-21T23:29:33.198931Z"
    }
   },
   "outputs": [],
   "source": [
    "# Prototyping Stack Barh plot\n",
    "ax = props.plot.barh(stacked=True)\n",
    "ax.set_title('Severe Violations by Boro')\n",
    "ax.set_xlabel('Proportion of Restaurants w/Severe Violations ')\n",
    "ax.legend(\n",
    "    loc='center left', \n",
    "    bbox_to_anchor=(1.05, 0.5),\n",
    "    title='Severe Violations'\n",
    ");"
   ]
  },
  {
   "cell_type": "code",
   "execution_count": null,
   "metadata": {
    "ExecuteTime": {
     "end_time": "2022-04-21T23:46:20.564282Z",
     "start_time": "2022-04-21T23:46:20.557745Z"
    }
   },
   "outputs": [],
   "source": [
    "def violation_rate_plot(col, target, data, ax=None):\n",
    "    \"\"\"Stacked bar chart of severe health and safety violations rate against \n",
    "    each feature of the data. \n",
    "    \n",
    "    Args:\n",
    "        col (string): column name of feature variable\n",
    "        target (string): column name of target variable\n",
    "        data (pandas DataFrame): dataframe that contains columns \n",
    "            `col` and `target`\n",
    "        ax (matplotlib axes object, optional): matplotlib axes \n",
    "            object to attach plot to\n",
    "    \"\"\"\n",
    "    counts = (eda_df[[target, col]]\n",
    "                  .groupby([target, col])\n",
    "                  .size()\n",
    "                  .unstack(target)\n",
    "             )\n",
    "    group_counts = counts.sum(axis='columns')\n",
    "    props = counts.div(group_counts, axis='index')\n",
    "\n",
    "    props.plot(kind=\"barh\", stacked=True, ax=ax)\n",
    "\n",
    "    ax.legend().remove()"
   ]
  },
  {
   "cell_type": "code",
   "execution_count": null,
   "metadata": {
    "ExecuteTime": {
     "end_time": "2022-04-21T23:31:51.540925Z",
     "start_time": "2022-04-21T23:31:51.533403Z"
    }
   },
   "outputs": [],
   "source": [
    "eda_df.columns"
   ]
  },
  {
   "cell_type": "code",
   "execution_count": null,
   "metadata": {
    "ExecuteTime": {
     "end_time": "2022-04-21T23:46:24.006721Z",
     "start_time": "2022-04-21T23:46:23.100280Z"
    }
   },
   "outputs": [],
   "source": [
    "# Loop through several columns and plot against both h1n1_vaccine and seasonal_vaccine.\n",
    "\n",
    "cols_to_plot = [\n",
    "    'rating',\n",
    "    'transactions',\n",
    "    'price'\n",
    "]\n",
    "\n",
    "fig, ax = plt.subplots(\n",
    "    len(cols_to_plot), figsize=(10,len(cols_to_plot)*2.5)\n",
    ")\n",
    "for idx, col in enumerate(cols_to_plot):\n",
    "    \n",
    "    violation_rate_plot(\n",
    "        col, 'Severe', eda_df, ax=ax[idx]\n",
    "    )\n",
    "    \n",
    "\n",
    "ax[0].legend(\n",
    "    loc='lower center', bbox_to_anchor=(0.5, 1.05), title='Severe Violations'\n",
    ")\n",
    "fig.tight_layout()"
   ]
  },
  {
   "cell_type": "code",
   "execution_count": null,
   "metadata": {
    "ExecuteTime": {
     "end_time": "2022-04-22T17:13:54.773915Z",
     "start_time": "2022-04-22T17:13:54.668606Z"
    }
   },
   "outputs": [],
   "source": [
    "# import street map\n",
    "# https://data.cityofnewyork.us/City-Government/Borough-Boundaries/tqmj-j8zm\n",
    "\n",
    "street_map = gpd.read_file('data/Borough_Boundaries/geo_export_392103e7-13e2-43bf-aaf0-7e5c6a24b7b2.shp')\n"
   ]
  },
  {
   "cell_type": "code",
   "execution_count": null,
   "metadata": {
    "ExecuteTime": {
     "end_time": "2022-04-22T17:20:48.646727Z",
     "start_time": "2022-04-22T17:20:48.639905Z"
    }
   },
   "outputs": [],
   "source": [
    "geo_eda = eda_df.copy()"
   ]
  },
  {
   "cell_type": "code",
   "execution_count": null,
   "metadata": {
    "ExecuteTime": {
     "end_time": "2022-04-22T17:20:49.773486Z",
     "start_time": "2022-04-22T17:20:49.757402Z"
    }
   },
   "outputs": [],
   "source": [
    "geo_eda.dropna(axis=0, subset=['Latitude','Longitude'], inplace=True)"
   ]
  },
  {
   "cell_type": "code",
   "execution_count": null,
   "metadata": {
    "ExecuteTime": {
     "end_time": "2022-04-22T17:20:53.587106Z",
     "start_time": "2022-04-22T17:20:53.569326Z"
    }
   },
   "outputs": [],
   "source": [
    "# Remove the most extreme .1% latitudes, &\n",
    "# the most extreme .1% longitudes\n",
    "\n",
    "geo_eda = geo_eda[\n",
    " (geo_eda['Latitude'] >= np.percentile(geo_eda['Latitude'], 0.05)) & \n",
    " (geo_eda['Latitude'] < np.percentile(geo_eda['Latitude'], 99.95)) &\n",
    " (geo_eda['Longitude'] >= np.percentile(geo_eda['Longitude'], 0.05)) & \n",
    " (geo_eda['Longitude'] <= np.percentile(geo_eda['Longitude'], 99.95))\n",
    "]"
   ]
  },
  {
   "cell_type": "code",
   "execution_count": null,
   "metadata": {
    "ExecuteTime": {
     "end_time": "2022-04-22T17:21:18.473190Z",
     "start_time": "2022-04-22T17:21:18.462622Z"
    }
   },
   "outputs": [],
   "source": [
    "geo_eda = geo_eda[geo_eda['Longitude'] != 0]"
   ]
  },
  {
   "cell_type": "code",
   "execution_count": null,
   "metadata": {
    "ExecuteTime": {
     "end_time": "2022-04-22T17:21:19.356524Z",
     "start_time": "2022-04-22T17:21:19.343406Z"
    }
   },
   "outputs": [],
   "source": [
    "geo_eda = geo_eda[geo_eda['Latitude'] != 0]"
   ]
  },
  {
   "cell_type": "code",
   "execution_count": null,
   "metadata": {
    "ExecuteTime": {
     "end_time": "2022-04-22T17:21:29.638507Z",
     "start_time": "2022-04-22T17:21:29.627656Z"
    }
   },
   "outputs": [],
   "source": [
    "print(geo_eda['Longitude'].max())\n",
    "print(geo_eda['Longitude'].min())\n",
    "print(geo_eda['Latitude'].max())\n",
    "print(geo_eda['Latitude'].min())"
   ]
  },
  {
   "cell_type": "code",
   "execution_count": null,
   "metadata": {
    "ExecuteTime": {
     "end_time": "2022-04-22T17:21:35.369608Z",
     "start_time": "2022-04-22T17:21:35.187088Z"
    }
   },
   "outputs": [],
   "source": [
    "# designate coordinate system\n",
    "crs = {'init':'epsg:4326'}\n",
    "# zip x and y coordinates into single feature\n",
    "geometry = [Point(xy) for xy in zip(geo_eda['Longitude'], geo_eda['Latitude'])]"
   ]
  },
  {
   "cell_type": "code",
   "execution_count": null,
   "metadata": {
    "ExecuteTime": {
     "end_time": "2022-04-22T17:21:38.709987Z",
     "start_time": "2022-04-22T17:21:38.696779Z"
    }
   },
   "outputs": [],
   "source": [
    "# create GeoPandas dataframe\n",
    "geo_df = gpd.GeoDataFrame(geo_eda, crs=crs, geometry = geometry)"
   ]
  },
  {
   "cell_type": "code",
   "execution_count": null,
   "metadata": {
    "ExecuteTime": {
     "end_time": "2022-04-23T16:47:09.297777Z",
     "start_time": "2022-04-23T16:47:07.262121Z"
    }
   },
   "outputs": [],
   "source": [
    "# Plotting map\n",
    "fig, ax = plt.subplots(figsize=(15,15))\n",
    "street_map.plot(ax=ax, alpha=.5,color='gray')\n",
    "geo_df[geo_df['Severe'] == 0].plot(ax=ax, alpha=.1, markersize=20,color='blue',label='Pass')\n",
    "geo_df[geo_df['Severe'] == 1].plot(ax=ax, alpha=.1, markersize=20,color='red',label='Fail')\n",
    "plt.legend(prop={'size':15});"
   ]
  },
  {
   "cell_type": "code",
   "execution_count": null,
   "metadata": {},
   "outputs": [],
   "source": [
    "# Plot all inspections by score"
   ]
  },
  {
   "cell_type": "code",
   "execution_count": null,
   "metadata": {
    "ExecuteTime": {
     "end_time": "2022-04-23T16:48:54.130482Z",
     "start_time": "2022-04-23T16:48:54.126517Z"
    }
   },
   "outputs": [],
   "source": [
    "#  Plot all inspections score or Pass/Fail over time (plotly?)"
   ]
  },
  {
   "cell_type": "code",
   "execution_count": null,
   "metadata": {},
   "outputs": [],
   "source": []
  },
  {
   "cell_type": "code",
   "execution_count": null,
   "metadata": {},
   "outputs": [],
   "source": [
    "f, (ax1, ax2) = plt.subplots(1, 2, figsize=(15,7))\n",
    "\n",
    "#a random point inside vegas\n",
    "lat = 36.207430\n",
    "lon = -115.268460\n",
    "#some adjustments to get the right pic\n",
    "lon_min, lon_max = lon-0.3,lon+0.5\n",
    "lat_min, lat_max = lat-0.4,lat+0.5\n",
    "#subset for vegas\n",
    "ratings_data_vegas=rating_data[(rating_data[\"longitude\"]>lon_min) &\\\n",
    "                    (rating_data[\"longitude\"]<lon_max) &\\\n",
    "                    (rating_data[\"latitude\"]>lat_min) &\\\n",
    "                    (rating_data[\"latitude\"]<lat_max)]\n",
    "\n",
    "#Facet scatter plot\n",
    "ratings_data_vegas.plot(kind='scatter', x='longitude', y='latitude',\n",
    "                color='yellow', \n",
    "                s=.02, alpha=.6, subplots=True, ax=ax1)\n",
    "ax1.set_title(\"Las Vegas\")\n",
    "ax1.set_facecolor('black')\n",
    "\n",
    "#a random point inside pheonix\n",
    "lat = 33.435463\n",
    "lon = -112.006989\n",
    "#some adjustments to get the right pic\n",
    "lon_min, lon_max = lon-0.3,lon+0.5\n",
    "lat_min, lat_max = lat-0.4,lat+0.5\n",
    "#subset for pheonix\n",
    "ratings_data_pheonix=rating_data[(rating_data[\"longitude\"]>lon_min) &\\\n",
    "                    (rating_data[\"longitude\"]<lon_max) &\\\n",
    "                    (rating_data[\"latitude\"]>lat_min) &\\\n",
    "                    (rating_data[\"latitude\"]<lat_max)]\n",
    "#plot pheonix\n",
    "ratings_data_pheonix.plot(kind='scatter', x='longitude', y='latitude',\n",
    "                color='yellow', \n",
    "                s=.02, alpha=.6, subplots=True, ax=ax2)\n",
    "ax2.set_title(\"Pheonix\")\n",
    "ax2.set_facecolor('black')\n",
    "f.show()"
   ]
  },
  {
   "cell_type": "code",
   "execution_count": null,
   "metadata": {},
   "outputs": [],
   "source": [
    "data=[]\n",
    "#rearranging data to suit the format needed for folium\n",
    "stars_list=list(rating_data['stars'].unique())\n",
    "for star in stars_list:\n",
    "    subset=ratings_data_vegas[ratings_data_vegas['stars']==star]\n",
    "    data.append(subset[['latitude','longitude']].values.tolist())\n",
    "#initialize at vegas\n",
    "lat = 36.127430\n",
    "lon = -115.138460\n",
    "zoom_start=11\n",
    "print(\"                     Vegas Review heatmap Animation \")\n",
    "\n",
    "# basic map\n",
    "m = folium.Map(location=[lat, lon], tiles=\"OpenStreetMap\", zoom_start=zoom_start)\n",
    "#inprovising the Heatmapwith time plugin to show variations across star ratings \n",
    "hm = plugins.HeatMapWithTime(data,max_opacity=0.3,auto_play=True,display_index=True,radius=7)\n",
    "hm.add_to(m)\n",
    "m"
   ]
  },
  {
   "cell_type": "markdown",
   "metadata": {},
   "source": [
    "## Exploring Image Data"
   ]
  },
  {
   "cell_type": "code",
   "execution_count": null,
   "metadata": {},
   "outputs": [],
   "source": [
    "# Randomly sample 8 images\n",
    "imgs_samples = random.sample(train_imgs, 8)\n",
    "\n",
    "# Plot random sample of 8 images\n",
    "plt.figure(figsize=(15, 10))\n",
    "for i in range(len(imgs_samples)):\n",
    "    # OpenCV2 reads images in BGR format\n",
    "    img = cv2.imread(os.path.join(train_dir, imgs_samples[i]))\n",
    "    # Switch color channels to RGB to make compatible with matplotlib imshow func\n",
    "    img = cv2.cvtColor(img, cv2.COLOR_BGR2RGB)\n",
    "    # Grab image's business ID and labels\n",
    "    business = train_photo_to_id.loc[train_photo_to_id['photo_id'] == int(imgs_samples[i][:-4]), 'business_id']\n",
    "    labels = train.loc[train['business_id'] == business.values[0], 'labels']\n",
    "    # Annotate each image with image ID, business ID, and labels\n",
    "    title = \"Image ID: \" + imgs_samples[i] + ' Business: ' + str(business.values[0]) + '\\nLabels: ' + ''.join(labels.values)\n",
    "    # Plot the image\n",
    "    plt.subplot(2, 4, i+1)\n",
    "    plt.tight_layout(pad=0.4, w_pad=0.5, h_pad=1.0)\n",
    "    plt.imshow(img)\n",
    "    plt.axis('off')\n",
    "    plt.title(title)\n",
    "plt.show()"
   ]
  },
  {
   "cell_type": "markdown",
   "metadata": {},
   "source": [
    "# Preprocessing For Further EDA"
   ]
  },
  {
   "cell_type": "markdown",
   "metadata": {},
   "source": [
    "### Lets find most frequent words in Negative reviews"
   ]
  },
  {
   "cell_type": "markdown",
   "metadata": {},
   "source": [
    "Basically, we will find most frequent words in reviews to get an overview of why users gave low ratings. These words could be related to those business attributes or services about which users are most unhappy.\n",
    "\n"
   ]
  },
  {
   "cell_type": "code",
   "execution_count": null,
   "metadata": {},
   "outputs": [],
   "source": []
  },
  {
   "cell_type": "code",
   "execution_count": null,
   "metadata": {},
   "outputs": [],
   "source": []
  },
  {
   "cell_type": "code",
   "execution_count": null,
   "metadata": {
    "ExecuteTime": {
     "end_time": "2022-04-22T01:48:05.163720Z",
     "start_time": "2022-04-22T01:48:04.983349Z"
    }
   },
   "outputs": [],
   "source": [
    "from sklearn.feature_extraction.text import CountVectorizer\n",
    "vectorizer = CountVectorizer(vocabulary=selected_words, lowercase=False)\n",
    "#corpus = ['This is the first document.','This is the second second document.']\n",
    "#print corpus\n",
    "selected_word_count = vectorizer.fit_transform(tip['text'].values.astype('U'))\n",
    "vectorizer.get_feature_names()"
   ]
  },
  {
   "cell_type": "code",
   "execution_count": null,
   "metadata": {},
   "outputs": [],
   "source": [
    "word_count_array = selected_word_count.toarray()\n",
    "word_count_array.shape"
   ]
  },
  {
   "cell_type": "code",
   "execution_count": null,
   "metadata": {},
   "outputs": [],
   "source": [
    "word_count_array.sum(axis=0)"
   ]
  },
  {
   "cell_type": "code",
   "execution_count": null,
   "metadata": {},
   "outputs": [],
   "source": [
    "temp = pd.DataFrame(index=vectorizer.get_feature_names(), \\\n",
    "                    data=word_count_array.sum(axis=0)).rename(columns={0: 'Count'})\n"
   ]
  },
  {
   "cell_type": "code",
   "execution_count": null,
   "metadata": {},
   "outputs": [],
   "source": [
    "temp.plot(kind='bar', stacked=False, figsize=[7,7], colormap='winter')\n"
   ]
  },
  {
   "cell_type": "code",
   "execution_count": null,
   "metadata": {},
   "outputs": [],
   "source": []
  },
  {
   "cell_type": "code",
   "execution_count": null,
   "metadata": {},
   "outputs": [],
   "source": []
  },
  {
   "cell_type": "code",
   "execution_count": null,
   "metadata": {},
   "outputs": [],
   "source": []
  },
  {
   "cell_type": "markdown",
   "metadata": {},
   "source": [
    "# Preprocessing For Modeling"
   ]
  },
  {
   "cell_type": "code",
   "execution_count": 1,
   "metadata": {
    "ExecuteTime": {
     "end_time": "2022-05-05T22:07:15.376103Z",
     "start_time": "2022-05-05T22:06:55.526521Z"
    }
   },
   "outputs": [],
   "source": [
    "import spacy"
   ]
  },
  {
   "cell_type": "code",
   "execution_count": 3,
   "metadata": {
    "ExecuteTime": {
     "end_time": "2022-05-05T22:07:30.795732Z",
     "start_time": "2022-05-05T22:07:24.630278Z"
    }
   },
   "outputs": [],
   "source": [
    "nlp =  spacy.load('en_core_web_lg')"
   ]
  },
  {
   "cell_type": "code",
   "execution_count": 5,
   "metadata": {
    "ExecuteTime": {
     "end_time": "2022-05-05T22:11:19.665988Z",
     "start_time": "2022-05-05T22:11:19.638474Z"
    }
   },
   "outputs": [],
   "source": [
    "tokens = nlp(u'lion cat pet')"
   ]
  },
  {
   "cell_type": "code",
   "execution_count": 6,
   "metadata": {
    "ExecuteTime": {
     "end_time": "2022-05-05T22:12:08.815603Z",
     "start_time": "2022-05-05T22:12:08.796432Z"
    }
   },
   "outputs": [
    {
     "name": "stdout",
     "output_type": "stream",
     "text": [
      "lion lion 1.0\n",
      "lion cat 0.5265437960624695\n",
      "lion pet 0.39923766255378723\n",
      "cat lion 0.5265437960624695\n",
      "cat cat 1.0\n",
      "cat pet 0.7505456805229187\n",
      "pet lion 0.39923766255378723\n",
      "pet cat 0.7505456805229187\n",
      "pet pet 1.0\n"
     ]
    }
   ],
   "source": [
    "for token1 in tokens:\n",
    "    for token2 in tokens:\n",
    "        print(token1.text,token2.text,token1.similarity(token2))"
   ]
  },
  {
   "cell_type": "code",
   "execution_count": 7,
   "metadata": {
    "ExecuteTime": {
     "end_time": "2022-05-06T14:43:44.603258Z",
     "start_time": "2022-05-06T14:43:36.321611Z"
    }
   },
   "outputs": [],
   "source": [
    "import nltk"
   ]
  },
  {
   "cell_type": "code",
   "execution_count": 8,
   "metadata": {
    "ExecuteTime": {
     "end_time": "2022-05-06T14:44:10.122290Z",
     "start_time": "2022-05-06T14:44:09.746406Z"
    }
   },
   "outputs": [
    {
     "name": "stderr",
     "output_type": "stream",
     "text": [
      "[nltk_data] Downloading package vader_lexicon to\n",
      "[nltk_data]     /Users/Rob/nltk_data...\n"
     ]
    },
    {
     "data": {
      "text/plain": [
       "True"
      ]
     },
     "execution_count": 8,
     "metadata": {},
     "output_type": "execute_result"
    }
   ],
   "source": [
    "nltk.download('vader_lexicon')"
   ]
  },
  {
   "cell_type": "code",
   "execution_count": 9,
   "metadata": {
    "ExecuteTime": {
     "end_time": "2022-05-06T14:45:27.864748Z",
     "start_time": "2022-05-06T14:45:27.859786Z"
    }
   },
   "outputs": [],
   "source": [
    "from nltk.sentiment.vader import SentimentIntensityAnalyzer"
   ]
  },
  {
   "cell_type": "code",
   "execution_count": 10,
   "metadata": {
    "ExecuteTime": {
     "end_time": "2022-05-06T14:46:02.721067Z",
     "start_time": "2022-05-06T14:46:02.687316Z"
    }
   },
   "outputs": [],
   "source": [
    "sid = SentimentIntensityAnalyzer()"
   ]
  },
  {
   "cell_type": "code",
   "execution_count": 18,
   "metadata": {
    "ExecuteTime": {
     "end_time": "2022-05-06T15:00:06.642947Z",
     "start_time": "2022-05-06T15:00:06.639345Z"
    }
   },
   "outputs": [],
   "source": [
    "a =  'This is an excellent restaurant!'"
   ]
  },
  {
   "cell_type": "code",
   "execution_count": 19,
   "metadata": {
    "ExecuteTime": {
     "end_time": "2022-05-06T15:00:07.416674Z",
     "start_time": "2022-05-06T15:00:07.409921Z"
    }
   },
   "outputs": [
    {
     "data": {
      "text/plain": [
       "{'neg': 0.0, 'neu': 0.501, 'pos': 0.499, 'compound': 0.6114}"
      ]
     },
     "execution_count": 19,
     "metadata": {},
     "output_type": "execute_result"
    }
   ],
   "source": [
    "sid.polarity_scores(a)"
   ]
  },
  {
   "cell_type": "code",
   "execution_count": null,
   "metadata": {},
   "outputs": [],
   "source": []
  },
  {
   "cell_type": "code",
   "execution_count": null,
   "metadata": {},
   "outputs": [],
   "source": [
    "# OHE Dummy Variables\n",
    "# Tokenizing/Vectorizing Text"
   ]
  },
  {
   "cell_type": "code",
   "execution_count": null,
   "metadata": {
    "ExecuteTime": {
     "end_time": "2022-04-21T18:16:46.247143Z",
     "start_time": "2022-04-21T18:16:46.242080Z"
    }
   },
   "outputs": [],
   "source": [
    "transactions = clean_df['transactions']"
   ]
  },
  {
   "cell_type": "code",
   "execution_count": null,
   "metadata": {
    "ExecuteTime": {
     "end_time": "2022-04-21T18:17:05.950046Z",
     "start_time": "2022-04-21T18:17:05.767135Z"
    }
   },
   "outputs": [],
   "source": [
    "# Use ast module to convert string objects into list\n",
    "transactions = transactions.apply(lambda x: ast.literal_eval(x))"
   ]
  },
  {
   "cell_type": "code",
   "execution_count": null,
   "metadata": {
    "ExecuteTime": {
     "end_time": "2022-04-21T18:17:07.606777Z",
     "start_time": "2022-04-21T18:17:07.559656Z"
    }
   },
   "outputs": [],
   "source": [
    "# Change list into dicts\n",
    "dcts = transactions.apply(lambda x: {c: 1 for c in x})\n",
    "\n",
    "# Create new dataframe based on the list of dictionaries.\n",
    "ohe_df = pd.DataFrame(dcts.tolist()).fillna(0)\n"
   ]
  },
  {
   "cell_type": "code",
   "execution_count": null,
   "metadata": {
    "ExecuteTime": {
     "end_time": "2022-04-21T18:17:08.934288Z",
     "start_time": "2022-04-21T18:17:08.921960Z"
    }
   },
   "outputs": [],
   "source": [
    "ohe_df"
   ]
  },
  {
   "cell_type": "code",
   "execution_count": null,
   "metadata": {
    "ExecuteTime": {
     "end_time": "2022-04-21T18:17:11.339042Z",
     "start_time": "2022-04-21T18:17:11.283007Z"
    }
   },
   "outputs": [],
   "source": [
    "# Concatenate dummy variales with the full dataset\n",
    "df_1 = pd.concat([clean_df,ohe_df],axis=1)\n",
    "df_1"
   ]
  },
  {
   "cell_type": "code",
   "execution_count": null,
   "metadata": {},
   "outputs": [],
   "source": []
  },
  {
   "cell_type": "code",
   "execution_count": null,
   "metadata": {
    "ExecuteTime": {
     "end_time": "2022-04-21T14:37:04.983979Z",
     "start_time": "2022-04-21T14:37:04.700902Z"
    }
   },
   "outputs": [],
   "source": [
    "# Joining the reviews text to a corpus\n",
    "all_text = ' '.join(df.Reviews)\n"
   ]
  },
  {
   "cell_type": "code",
   "execution_count": null,
   "metadata": {},
   "outputs": [],
   "source": [
    "from sklearn.feature_extraction.text import TfidfVectorizer\n",
    "\n",
    "# create a TfidfVectorizer object with english stop words\n",
    "# and a maximum of 1500 features (to ensure that we can\n",
    "# train the model in a reasonable amount of time)\n",
    "vec = TfidfVectorizer(stop_words='english',\n",
    "                      max_features=1500)\n",
    "\n",
    "# create the TfIdf feature matrix from the raw text\n",
    "train_tfidf = vec.fit_transform(train_text)"
   ]
  },
  {
   "cell_type": "code",
   "execution_count": null,
   "metadata": {},
   "outputs": [],
   "source": [
    "# take a quick look at some of the features\n",
    "pd.DataFrame(data=train_tfidf.todense(), columns=vec.get_feature_names()).iloc[:5, 30:45]"
   ]
  },
  {
   "cell_type": "code",
   "execution_count": null,
   "metadata": {},
   "outputs": [],
   "source": [
    "# Unigrams\n",
    "\n",
    "# Bigrams\n",
    "\n",
    "# Trigrams"
   ]
  },
  {
   "cell_type": "code",
   "execution_count": null,
   "metadata": {},
   "outputs": [],
   "source": [
    "# Word2Vect\n"
   ]
  },
  {
   "cell_type": "code",
   "execution_count": null,
   "metadata": {},
   "outputs": [],
   "source": []
  },
  {
   "cell_type": "code",
   "execution_count": null,
   "metadata": {
    "ExecuteTime": {
     "end_time": "2022-04-21T03:06:56.222527Z",
     "start_time": "2022-04-21T02:13:31.541Z"
    }
   },
   "outputs": [],
   "source": [
    "# Word embeddings"
   ]
  },
  {
   "cell_type": "code",
   "execution_count": null,
   "metadata": {},
   "outputs": [],
   "source": []
  },
  {
   "cell_type": "code",
   "execution_count": null,
   "metadata": {},
   "outputs": [],
   "source": []
  },
  {
   "cell_type": "code",
   "execution_count": null,
   "metadata": {},
   "outputs": [],
   "source": [
    "# Sentiment Analysis\n",
    "def review_sentiment(review):\n",
    "    # Replace None with appropriate code\n",
    "    if review['rating'] >= 4:\n",
    "        print('positive')\n",
    "    elif review['rating'] <= 2:\n",
    "        print('negative')\n",
    "    else:\n",
    "        print('neutral')"
   ]
  },
  {
   "cell_type": "markdown",
   "metadata": {},
   "source": [
    "# Model"
   ]
  },
  {
   "cell_type": "markdown",
   "metadata": {},
   "source": [
    "## Text Feature Extraction "
   ]
  },
  {
   "cell_type": "code",
   "execution_count": null,
   "metadata": {
    "ExecuteTime": {
     "end_time": "2022-04-27T21:38:52.000003Z",
     "start_time": "2022-04-27T21:38:51.723017Z"
    }
   },
   "outputs": [],
   "source": [
    "import spacy"
   ]
  },
  {
   "cell_type": "code",
   "execution_count": null,
   "metadata": {
    "ExecuteTime": {
     "end_time": "2022-04-27T21:39:17.347708Z",
     "start_time": "2022-04-27T21:39:17.269747Z"
    }
   },
   "outputs": [],
   "source": [
    "nlp =  spacy.load('en_core_web_md')"
   ]
  },
  {
   "cell_type": "markdown",
   "metadata": {},
   "source": [
    "## Model the data with out text first\n",
    "\n"
   ]
  },
  {
   "cell_type": "code",
   "execution_count": null,
   "metadata": {},
   "outputs": [],
   "source": []
  },
  {
   "cell_type": "code",
   "execution_count": null,
   "metadata": {},
   "outputs": [],
   "source": []
  },
  {
   "cell_type": "code",
   "execution_count": null,
   "metadata": {},
   "outputs": [],
   "source": []
  },
  {
   "cell_type": "code",
   "execution_count": null,
   "metadata": {},
   "outputs": [],
   "source": []
  },
  {
   "cell_type": "code",
   "execution_count": null,
   "metadata": {
    "ExecuteTime": {
     "end_time": "2022-04-26T23:59:09.386742Z",
     "start_time": "2022-04-26T23:59:08.408873Z"
    }
   },
   "outputs": [],
   "source": [
    "X_train, X_test, y_train, y_test = train_test_split(\n",
    "    seas_feats_df, \n",
    "    seas_labels_df, \n",
    "    test_size =.25, \n",
    "    random_state=42\n",
    ")\n",
    "\n",
    "X_train.head()"
   ]
  },
  {
   "cell_type": "code",
   "execution_count": null,
   "metadata": {},
   "outputs": [],
   "source": [
    "from sklearn import linear_model\n",
    "\n",
    "# get just the targets from the training labels\n",
    "train_targets = train_labels[['*', '**', '***']].astype(np.float64)\n",
    "\n",
    "# create a Linear regresion object\n",
    "ols = linear_model.LinearRegression()\n",
    "\n",
    "# fit that object on the training TfIdf matrix and target variables\n",
    "ols.fit(train_tfidf, train_targets)"
   ]
  },
  {
   "cell_type": "code",
   "execution_count": null,
   "metadata": {},
   "outputs": [],
   "source": [
    "### Function to produce the model's coefficients\n",
    "\n",
    "def eval_clf(model, X_test_tf,y_test,cmap='Reds',\n",
    "                            normalize='true',classes=['Unvaccinated', 'Vaccinated'],figsize=(10,4),\n",
    "                            X_train = None, y_train = None,):\n",
    "    \"\"\"Evaluates a scikit-learn binary classification model.\n",
    "\n",
    "    Args:\n",
    "        model ([type]): [description]\n",
    "        X_test_tf ([type]): [description]\n",
    "        y_test ([type]): [description]\n",
    "        cmap (str, optional): [description]. Defaults to 'Reds'.\n",
    "        normalize (str, optional): [description]. Defaults to 'true'.\n",
    "        classes ([type], optional): [description]. Defaults to None.\n",
    "        figsize (tuple, optional): [description]. Defaults to (8,4).\n",
    "        X_train ([type], optional): [description]. Defaults to None.\n",
    "        y_train ([type], optional): [description]. Defaults to None.\n",
    "    \"\"\"\n",
    "    \n",
    "    \n",
    "    y_hat_test = model.predict(X_test_tf)\n",
    "    print(metrics.classification_report(y_test, y_hat_test,target_names=classes))\n",
    "    \n",
    "\n",
    "    fig,ax = plt.subplots(ncols=2,figsize=figsize)\n",
    "    plt.grid(False)\n",
    "    plot_confusion_matrix(model, X_test_tf,y_test,cmap=cmap, \n",
    "                                  normalize=normalize,display_labels=classes,\n",
    "                                 ax=ax[0])\n",
    "    for a in ax:\n",
    "        a.grid(False)   \n",
    "        \n",
    "    curve = metrics.plot_roc_curve(model,X_test_tf,y_test,ax=ax[1])\n",
    "    curve.ax_.grid()\n",
    "    curve.ax_.plot([0,1],[0,1],ls=':')\n",
    "    fig.tight_layout()\n",
    "    plt.show()\n",
    "    \n",
    "    ## Add comparing Scores if X_train and y_train provided.\n",
    "    if (X_train is not None) & (y_train is not None):\n",
    "        print(f\"Training Score = {model.score(X_train,y_train):.2f}\")\n",
    "        print(f\"Test Score = {model.score(X_test_tf,y_test):.2f}\")"
   ]
  },
  {
   "cell_type": "code",
   "execution_count": null,
   "metadata": {},
   "outputs": [],
   "source": [
    "## Creating baseline classifier model\n",
    "\n",
    "base = DummyClassifier(strategy='stratified', random_state = 42)\n",
    "\n",
    "base.fit(X_train_df, y_train)\n",
    "\n",
    "eval_clf(base,X_test_tf,y_test,X_train=X_train_df,y_train=y_train)"
   ]
  },
  {
   "cell_type": "code",
   "execution_count": null,
   "metadata": {},
   "outputs": [],
   "source": []
  },
  {
   "cell_type": "code",
   "execution_count": null,
   "metadata": {},
   "outputs": [],
   "source": []
  },
  {
   "cell_type": "markdown",
   "metadata": {},
   "source": [
    "# Interpreting Results"
   ]
  },
  {
   "cell_type": "code",
   "execution_count": null,
   "metadata": {},
   "outputs": [],
   "source": [
    "# get the names of the features\n",
    "feature_names = np.array(vec.get_feature_names())\n",
    "\n",
    "def get_top_features(features, model, level, limit, bottom=False):\n",
    "    \"\"\" Get the top (most likely to see violations) and bottom (least\n",
    "        likely to see violations) features for a given model.\n",
    "        \n",
    "        :param features: an array of the feature names\n",
    "        :param model: a fitted linear regression model\n",
    "        :param level: 0, 1, 2 for *, **, *** violation levels\n",
    "        :param limit: how many features to return\n",
    "        :param worst: if we want the bottom features rather than the top \n",
    "    \"\"\"\n",
    "    # sort order for the coefficients\n",
    "    sorted_coeffs = np.argsort(model.coef_[i])\n",
    "    \n",
    "    if bottom:\n",
    "        # get the features at the end of the sorted list\n",
    "        return features[sorted_coeffs[-1 * limit:]]\n",
    "    else:\n",
    "        # get the features at the beginning of the sorted list\n",
    "        return features[sorted_coeffs[:limit]]\n",
    "    \n",
    "# get the features that indicate we are most and least likely to see violations\n",
    "worst_feature_sets = [get_top_features(feature_names, ols, i, 100) for i in range(3)]\n",
    "best_feature_sets = [get_top_features(feature_names, ols, i, 100, bottom=True) for i in range(3)]\n",
    "\n",
    "# reduce the independent feature sets to just the ones\n",
    "# that we see in common across the per-level models (*, **, ***)\n",
    "worst = reduce(np.intersect1d, best_feature_sets)\n",
    "best = reduce(np.intersect1d, worst_feature_sets)\n",
    "\n",
    "# display as a pretty table\n",
    "html_fmt = \"<table><th>More Violations</th><th>Fewer Violations</th><tbody>{}</tbody></table>\"\n",
    "table_rows = [\"<tr><td>{}</td><td>{}</td></tr>\".format(w, b) for w, b in zip(worst, best)]\n",
    "table_body = \"\\n\".join(table_rows)\n",
    "display.HTML(html_fmt.format(table_body))"
   ]
  },
  {
   "cell_type": "code",
   "execution_count": null,
   "metadata": {},
   "outputs": [],
   "source": []
  },
  {
   "cell_type": "code",
   "execution_count": null,
   "metadata": {},
   "outputs": [],
   "source": []
  },
  {
   "cell_type": "code",
   "execution_count": null,
   "metadata": {},
   "outputs": [],
   "source": []
  },
  {
   "cell_type": "markdown",
   "metadata": {},
   "source": [
    "# Conclusions"
   ]
  },
  {
   "cell_type": "markdown",
   "metadata": {},
   "source": [
    "## Best Model Results"
   ]
  },
  {
   "cell_type": "code",
   "execution_count": null,
   "metadata": {},
   "outputs": [],
   "source": []
  },
  {
   "cell_type": "markdown",
   "metadata": {},
   "source": [
    "## Takeaways and Recommended Actions"
   ]
  },
  {
   "cell_type": "code",
   "execution_count": null,
   "metadata": {},
   "outputs": [],
   "source": []
  },
  {
   "cell_type": "code",
   "execution_count": null,
   "metadata": {},
   "outputs": [],
   "source": []
  },
  {
   "cell_type": "markdown",
   "metadata": {},
   "source": [
    "##  Next Steps and Future Work"
   ]
  },
  {
   "cell_type": "code",
   "execution_count": null,
   "metadata": {},
   "outputs": [],
   "source": []
  }
 ],
 "metadata": {
  "kernelspec": {
   "display_name": "Python (learn-env)",
   "language": "python",
   "name": "learn-env"
  },
  "language_info": {
   "codemirror_mode": {
    "name": "ipython",
    "version": 3
   },
   "file_extension": ".py",
   "mimetype": "text/x-python",
   "name": "python",
   "nbconvert_exporter": "python",
   "pygments_lexer": "ipython3",
   "version": "3.8.5"
  },
  "toc": {
   "base_numbering": 1,
   "nav_menu": {},
   "number_sections": true,
   "sideBar": true,
   "skip_h1_title": false,
   "title_cell": "Table of Contents",
   "title_sidebar": "Contents",
   "toc_cell": false,
   "toc_position": {
    "height": "calc(100% - 180px)",
    "left": "10px",
    "top": "150px",
    "width": "207px"
   },
   "toc_section_display": true,
   "toc_window_display": true
  }
 },
 "nbformat": 4,
 "nbformat_minor": 4
}
