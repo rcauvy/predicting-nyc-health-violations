{
 "cells": [
  {
   "cell_type": "code",
   "execution_count": 58,
   "metadata": {
    "ExecuteTime": {
     "end_time": "2022-04-06T21:14:46.881750Z",
     "start_time": "2022-04-06T21:14:46.870587Z"
    }
   },
   "outputs": [],
   "source": [
    "from IPython import display\n",
    "import requests\n",
    "import json\n",
    "from sodapy import Socrata\n",
    "import pandas as pd\n",
    "import numpy as np\n",
    "import matplotlib.pyplot as plt\n",
    "%matplotlib inline\n",
    "import seaborn as sns\n",
    "import warnings\n",
    "import time\n",
    "warnings.filterwarnings(\"ignore\")\n",
    "pd.set_option('display.max_colwidth',100)\n",
    "pd.set_option('display.max_columns',50)\n",
    "\n",
    "from sklearn.preprocessing import OneHotEncoder\n"
   ]
  },
  {
   "cell_type": "markdown",
   "metadata": {},
   "source": [
    "# Introduction"
   ]
  },
  {
   "cell_type": "markdown",
   "metadata": {},
   "source": [
    "According to the CDC, more than 48 million Americans per year become sick from food, and an estimated 75% of the outbreaks came from food prepared by caterers, delis, and restaurants. In most cities, health inspections are generally random, which can increase time spent on spot checks at clean restaurants that have been following the rules closely — and missed opportunities to improve health and hygiene at places with more pressing food safety issues.\n",
    "\n",
    "The goal for this project is to leverage public citizen generated data from social media to narrow the search for critical health and safety violations in New York City. As the City of New York manages  an open data portal, everyone can access historical hygiene inspections and violation records. By combine these two data source this project aims to determine which words, phrases, ratings, and patterns among restaurants lead to critical health and safety violations. This model can assist city health inspectors do their job better by prioritizing the kitchens most likely to be in violation of code."
   ]
  },
  {
   "cell_type": "markdown",
   "metadata": {},
   "source": [
    "# Obtain"
   ]
  },
  {
   "cell_type": "markdown",
   "metadata": {},
   "source": [
    "This project requires data pulled from two different sources, the City of New York and Yelp. To obtain the data we will call the API keys."
   ]
  },
  {
   "cell_type": "markdown",
   "metadata": {},
   "source": [
    "## NYC Open Data API"
   ]
  },
  {
   "cell_type": "code",
   "execution_count": 17,
   "metadata": {
    "ExecuteTime": {
     "end_time": "2022-03-26T00:44:33.880028Z",
     "start_time": "2022-03-26T00:44:32.436823Z"
    }
   },
   "outputs": [
    {
     "data": {
      "text/html": [
       "<div>\n",
       "<style scoped>\n",
       "    .dataframe tbody tr th:only-of-type {\n",
       "        vertical-align: middle;\n",
       "    }\n",
       "\n",
       "    .dataframe tbody tr th {\n",
       "        vertical-align: top;\n",
       "    }\n",
       "\n",
       "    .dataframe thead th {\n",
       "        text-align: right;\n",
       "    }\n",
       "</style>\n",
       "<table border=\"1\" class=\"dataframe\">\n",
       "  <thead>\n",
       "    <tr style=\"text-align: right;\">\n",
       "      <th></th>\n",
       "      <th>CAMIS</th>\n",
       "      <th>DBA</th>\n",
       "      <th>BORO</th>\n",
       "      <th>BUILDING</th>\n",
       "      <th>STREET</th>\n",
       "      <th>ZIPCODE</th>\n",
       "      <th>PHONE</th>\n",
       "      <th>CUISINE DESCRIPTION</th>\n",
       "      <th>INSPECTION DATE</th>\n",
       "      <th>ACTION</th>\n",
       "      <th>VIOLATION CODE</th>\n",
       "      <th>VIOLATION DESCRIPTION</th>\n",
       "      <th>CRITICAL FLAG</th>\n",
       "      <th>SCORE</th>\n",
       "      <th>GRADE</th>\n",
       "      <th>GRADE DATE</th>\n",
       "      <th>RECORD DATE</th>\n",
       "      <th>INSPECTION TYPE</th>\n",
       "      <th>Latitude</th>\n",
       "      <th>Longitude</th>\n",
       "      <th>Community Board</th>\n",
       "      <th>Council District</th>\n",
       "      <th>Census Tract</th>\n",
       "      <th>BIN</th>\n",
       "      <th>BBL</th>\n",
       "      <th>NTA</th>\n",
       "    </tr>\n",
       "  </thead>\n",
       "  <tbody>\n",
       "    <tr>\n",
       "      <th>0</th>\n",
       "      <td>50008319</td>\n",
       "      <td>POULETTE</td>\n",
       "      <td>Manhattan</td>\n",
       "      <td>790</td>\n",
       "      <td>9 AVENUE</td>\n",
       "      <td>10019.0</td>\n",
       "      <td>2129569488</td>\n",
       "      <td>Chicken</td>\n",
       "      <td>01/28/2019</td>\n",
       "      <td>Violations were cited in the following area(s).</td>\n",
       "      <td>04D</td>\n",
       "      <td>Food worker does not wash hands thoroughly after using the toilet, coughing, sneezing, smoking, ...</td>\n",
       "      <td>Critical</td>\n",
       "      <td>22</td>\n",
       "      <td>NaN</td>\n",
       "      <td>NaN</td>\n",
       "      <td>03/24/2022</td>\n",
       "      <td>Cycle Inspection / Initial Inspection</td>\n",
       "      <td>40.765040</td>\n",
       "      <td>-73.987795</td>\n",
       "      <td>104.0</td>\n",
       "      <td>3.0</td>\n",
       "      <td>13300.0</td>\n",
       "      <td>1025235.0</td>\n",
       "      <td>1.010430e+09</td>\n",
       "      <td>MN15</td>\n",
       "    </tr>\n",
       "    <tr>\n",
       "      <th>1</th>\n",
       "      <td>41678734</td>\n",
       "      <td>TINY'S DINER</td>\n",
       "      <td>Bronx</td>\n",
       "      <td>3603</td>\n",
       "      <td>RIVERDALE AVENUE</td>\n",
       "      <td>10463.0</td>\n",
       "      <td>7187087600</td>\n",
       "      <td>American</td>\n",
       "      <td>09/23/2019</td>\n",
       "      <td>Violations were cited in the following area(s).</td>\n",
       "      <td>04M</td>\n",
       "      <td>Live roaches present in facility's food and/or non-food areas.</td>\n",
       "      <td>Critical</td>\n",
       "      <td>24</td>\n",
       "      <td>NaN</td>\n",
       "      <td>NaN</td>\n",
       "      <td>03/24/2022</td>\n",
       "      <td>Cycle Inspection / Initial Inspection</td>\n",
       "      <td>40.886691</td>\n",
       "      <td>-73.907056</td>\n",
       "      <td>208.0</td>\n",
       "      <td>11.0</td>\n",
       "      <td>29500.0</td>\n",
       "      <td>2084186.0</td>\n",
       "      <td>2.057960e+09</td>\n",
       "      <td>BX29</td>\n",
       "    </tr>\n",
       "    <tr>\n",
       "      <th>2</th>\n",
       "      <td>40795021</td>\n",
       "      <td>TAO RESTAURANT</td>\n",
       "      <td>Manhattan</td>\n",
       "      <td>42</td>\n",
       "      <td>EAST   58 STREET</td>\n",
       "      <td>10022.0</td>\n",
       "      <td>2128882288</td>\n",
       "      <td>Asian/Asian Fusion</td>\n",
       "      <td>03/11/2020</td>\n",
       "      <td>Violations were cited in the following area(s).</td>\n",
       "      <td>10F</td>\n",
       "      <td>Non-food contact surface improperly constructed. Unacceptable material used. Non-food contact su...</td>\n",
       "      <td>Not Critical</td>\n",
       "      <td>9</td>\n",
       "      <td>NaN</td>\n",
       "      <td>NaN</td>\n",
       "      <td>03/24/2022</td>\n",
       "      <td>Cycle Inspection / Initial Inspection</td>\n",
       "      <td>40.762786</td>\n",
       "      <td>-73.971486</td>\n",
       "      <td>105.0</td>\n",
       "      <td>4.0</td>\n",
       "      <td>11202.0</td>\n",
       "      <td>1036073.0</td>\n",
       "      <td>1.012930e+09</td>\n",
       "      <td>MN17</td>\n",
       "    </tr>\n",
       "    <tr>\n",
       "      <th>3</th>\n",
       "      <td>40795021</td>\n",
       "      <td>TAO RESTAURANT</td>\n",
       "      <td>Manhattan</td>\n",
       "      <td>42</td>\n",
       "      <td>EAST   58 STREET</td>\n",
       "      <td>10022.0</td>\n",
       "      <td>2128882288</td>\n",
       "      <td>Asian/Asian Fusion</td>\n",
       "      <td>03/11/2020</td>\n",
       "      <td>Violations were cited in the following area(s).</td>\n",
       "      <td>10F</td>\n",
       "      <td>Non-food contact surface improperly constructed. Unacceptable material used. Non-food contact su...</td>\n",
       "      <td>Not Critical</td>\n",
       "      <td>9</td>\n",
       "      <td>NaN</td>\n",
       "      <td>NaN</td>\n",
       "      <td>03/24/2022</td>\n",
       "      <td>Cycle Inspection / Initial Inspection</td>\n",
       "      <td>40.762786</td>\n",
       "      <td>-73.971486</td>\n",
       "      <td>105.0</td>\n",
       "      <td>4.0</td>\n",
       "      <td>11202.0</td>\n",
       "      <td>1036073.0</td>\n",
       "      <td>1.012930e+09</td>\n",
       "      <td>MN17</td>\n",
       "    </tr>\n",
       "    <tr>\n",
       "      <th>4</th>\n",
       "      <td>40538234</td>\n",
       "      <td>DUNKIN',' BASKIN ROBBINS</td>\n",
       "      <td>Queens</td>\n",
       "      <td>9925</td>\n",
       "      <td>HORACE HARDING EXPRESSWAY</td>\n",
       "      <td>11368.0</td>\n",
       "      <td>7182719222</td>\n",
       "      <td>Donuts</td>\n",
       "      <td>07/29/2021</td>\n",
       "      <td>Violations were cited in the following area(s).</td>\n",
       "      <td>06E</td>\n",
       "      <td>Sanitized equipment or utensil, including in-use food dispensing utensil, improperly used or sto...</td>\n",
       "      <td>Critical</td>\n",
       "      <td>10</td>\n",
       "      <td>A</td>\n",
       "      <td>07/29/2021</td>\n",
       "      <td>03/24/2022</td>\n",
       "      <td>Cycle Inspection / Initial Inspection</td>\n",
       "      <td>40.736185</td>\n",
       "      <td>-73.858052</td>\n",
       "      <td>404.0</td>\n",
       "      <td>21.0</td>\n",
       "      <td>43702.0</td>\n",
       "      <td>4047915.0</td>\n",
       "      <td>4.019480e+09</td>\n",
       "      <td>QN25</td>\n",
       "    </tr>\n",
       "    <tr>\n",
       "      <th>...</th>\n",
       "      <td>...</td>\n",
       "      <td>...</td>\n",
       "      <td>...</td>\n",
       "      <td>...</td>\n",
       "      <td>...</td>\n",
       "      <td>...</td>\n",
       "      <td>...</td>\n",
       "      <td>...</td>\n",
       "      <td>...</td>\n",
       "      <td>...</td>\n",
       "      <td>...</td>\n",
       "      <td>...</td>\n",
       "      <td>...</td>\n",
       "      <td>...</td>\n",
       "      <td>...</td>\n",
       "      <td>...</td>\n",
       "      <td>...</td>\n",
       "      <td>...</td>\n",
       "      <td>...</td>\n",
       "      <td>...</td>\n",
       "      <td>...</td>\n",
       "      <td>...</td>\n",
       "      <td>...</td>\n",
       "      <td>...</td>\n",
       "      <td>...</td>\n",
       "      <td>...</td>\n",
       "    </tr>\n",
       "    <tr>\n",
       "      <th>186222</th>\n",
       "      <td>41556790</td>\n",
       "      <td>FIVE GUYS FAMOUS BURGERS AND FRIES</td>\n",
       "      <td>Manhattan</td>\n",
       "      <td>2847</td>\n",
       "      <td>BROADFWAY</td>\n",
       "      <td>NaN</td>\n",
       "      <td>2126787701</td>\n",
       "      <td>Hamburgers</td>\n",
       "      <td>03/01/2019</td>\n",
       "      <td>Violations were cited in the following area(s).</td>\n",
       "      <td>10F</td>\n",
       "      <td>Non-food contact surface improperly constructed. Unacceptable material used. Non-food contact su...</td>\n",
       "      <td>Not Critical</td>\n",
       "      <td>3</td>\n",
       "      <td>A</td>\n",
       "      <td>03/01/2019</td>\n",
       "      <td>03/24/2022</td>\n",
       "      <td>Cycle Inspection / Initial Inspection</td>\n",
       "      <td>0.000000</td>\n",
       "      <td>0.000000</td>\n",
       "      <td>NaN</td>\n",
       "      <td>NaN</td>\n",
       "      <td>NaN</td>\n",
       "      <td>NaN</td>\n",
       "      <td>1.000000e+00</td>\n",
       "      <td>NaN</td>\n",
       "    </tr>\n",
       "    <tr>\n",
       "      <th>186223</th>\n",
       "      <td>50032876</td>\n",
       "      <td>TANNER SMITH'S</td>\n",
       "      <td>Manhattan</td>\n",
       "      <td>204</td>\n",
       "      <td>WEST   55 STREET</td>\n",
       "      <td>10019.0</td>\n",
       "      <td>9175172283</td>\n",
       "      <td>American</td>\n",
       "      <td>06/07/2019</td>\n",
       "      <td>Violations were cited in the following area(s).</td>\n",
       "      <td>08A</td>\n",
       "      <td>Facility not vermin proof. Harborage or conditions conducive to attracting vermin to the premise...</td>\n",
       "      <td>Not Critical</td>\n",
       "      <td>12</td>\n",
       "      <td>A</td>\n",
       "      <td>06/07/2019</td>\n",
       "      <td>03/24/2022</td>\n",
       "      <td>Cycle Inspection / Initial Inspection</td>\n",
       "      <td>40.764364</td>\n",
       "      <td>-73.981362</td>\n",
       "      <td>105.0</td>\n",
       "      <td>4.0</td>\n",
       "      <td>13700.0</td>\n",
       "      <td>1024857.0</td>\n",
       "      <td>1.010260e+09</td>\n",
       "      <td>MN17</td>\n",
       "    </tr>\n",
       "    <tr>\n",
       "      <th>186224</th>\n",
       "      <td>50003842</td>\n",
       "      <td>T- 45</td>\n",
       "      <td>Manhattan</td>\n",
       "      <td>135</td>\n",
       "      <td>WEST   45 STREET</td>\n",
       "      <td>10036.0</td>\n",
       "      <td>6466403775</td>\n",
       "      <td>American</td>\n",
       "      <td>07/26/2018</td>\n",
       "      <td>Violations were cited in the following area(s).</td>\n",
       "      <td>10B</td>\n",
       "      <td>Plumbing not properly installed or maintained; anti-siphonage or backflow prevention device not ...</td>\n",
       "      <td>Not Critical</td>\n",
       "      <td>49</td>\n",
       "      <td>NaN</td>\n",
       "      <td>NaN</td>\n",
       "      <td>03/24/2022</td>\n",
       "      <td>Cycle Inspection / Initial Inspection</td>\n",
       "      <td>40.757244</td>\n",
       "      <td>-73.983815</td>\n",
       "      <td>105.0</td>\n",
       "      <td>4.0</td>\n",
       "      <td>11900.0</td>\n",
       "      <td>1089796.0</td>\n",
       "      <td>1.009980e+09</td>\n",
       "      <td>MN17</td>\n",
       "    </tr>\n",
       "    <tr>\n",
       "      <th>186225</th>\n",
       "      <td>41640824</td>\n",
       "      <td>RICURAS ECUADORIAN BAKERY</td>\n",
       "      <td>Bronx</td>\n",
       "      <td>1576</td>\n",
       "      <td>WATSON AVENUE</td>\n",
       "      <td>10472.0</td>\n",
       "      <td>7184508363</td>\n",
       "      <td>Spanish</td>\n",
       "      <td>07/20/2018</td>\n",
       "      <td>Violations were cited in the following area(s).</td>\n",
       "      <td>06F</td>\n",
       "      <td>Wiping cloths soiled or not stored in sanitizing solution.</td>\n",
       "      <td>Critical</td>\n",
       "      <td>12</td>\n",
       "      <td>A</td>\n",
       "      <td>07/20/2018</td>\n",
       "      <td>03/24/2022</td>\n",
       "      <td>Cycle Inspection / Initial Inspection</td>\n",
       "      <td>40.826352</td>\n",
       "      <td>-73.876066</td>\n",
       "      <td>209.0</td>\n",
       "      <td>18.0</td>\n",
       "      <td>5001.0</td>\n",
       "      <td>2023533.0</td>\n",
       "      <td>2.037160e+09</td>\n",
       "      <td>BX55</td>\n",
       "    </tr>\n",
       "    <tr>\n",
       "      <th>186226</th>\n",
       "      <td>41450971</td>\n",
       "      <td>GIOVANNI'S RESTAURANT</td>\n",
       "      <td>Bronx</td>\n",
       "      <td>3209</td>\n",
       "      <td>WESTCHESTER AVENUE</td>\n",
       "      <td>10461.0</td>\n",
       "      <td>7188924340</td>\n",
       "      <td>Pizza</td>\n",
       "      <td>06/21/2017</td>\n",
       "      <td>Violations were cited in the following area(s).</td>\n",
       "      <td>06D</td>\n",
       "      <td>Food contact surface not properly washed, rinsed and sanitized after each use and following any ...</td>\n",
       "      <td>Critical</td>\n",
       "      <td>16</td>\n",
       "      <td>NaN</td>\n",
       "      <td>NaN</td>\n",
       "      <td>03/24/2022</td>\n",
       "      <td>Cycle Inspection / Initial Inspection</td>\n",
       "      <td>40.851761</td>\n",
       "      <td>-73.829569</td>\n",
       "      <td>210.0</td>\n",
       "      <td>13.0</td>\n",
       "      <td>30000.0</td>\n",
       "      <td>2047655.0</td>\n",
       "      <td>2.042450e+09</td>\n",
       "      <td>BX10</td>\n",
       "    </tr>\n",
       "  </tbody>\n",
       "</table>\n",
       "<p>186227 rows × 26 columns</p>\n",
       "</div>"
      ],
      "text/plain": [
       "           CAMIS                                 DBA       BORO BUILDING  \\\n",
       "0       50008319                            POULETTE  Manhattan      790   \n",
       "1       41678734                        TINY'S DINER      Bronx     3603   \n",
       "2       40795021                      TAO RESTAURANT  Manhattan       42   \n",
       "3       40795021                      TAO RESTAURANT  Manhattan       42   \n",
       "4       40538234            DUNKIN',' BASKIN ROBBINS     Queens     9925   \n",
       "...          ...                                 ...        ...      ...   \n",
       "186222  41556790  FIVE GUYS FAMOUS BURGERS AND FRIES  Manhattan     2847   \n",
       "186223  50032876                      TANNER SMITH'S  Manhattan      204   \n",
       "186224  50003842                               T- 45  Manhattan      135   \n",
       "186225  41640824           RICURAS ECUADORIAN BAKERY      Bronx     1576   \n",
       "186226  41450971               GIOVANNI'S RESTAURANT      Bronx     3209   \n",
       "\n",
       "                           STREET  ZIPCODE       PHONE CUISINE DESCRIPTION  \\\n",
       "0                        9 AVENUE  10019.0  2129569488             Chicken   \n",
       "1                RIVERDALE AVENUE  10463.0  7187087600            American   \n",
       "2                EAST   58 STREET  10022.0  2128882288  Asian/Asian Fusion   \n",
       "3                EAST   58 STREET  10022.0  2128882288  Asian/Asian Fusion   \n",
       "4       HORACE HARDING EXPRESSWAY  11368.0  7182719222              Donuts   \n",
       "...                           ...      ...         ...                 ...   \n",
       "186222                  BROADFWAY      NaN  2126787701          Hamburgers   \n",
       "186223           WEST   55 STREET  10019.0  9175172283            American   \n",
       "186224           WEST   45 STREET  10036.0  6466403775            American   \n",
       "186225              WATSON AVENUE  10472.0  7184508363             Spanish   \n",
       "186226         WESTCHESTER AVENUE  10461.0  7188924340               Pizza   \n",
       "\n",
       "       INSPECTION DATE                                           ACTION  \\\n",
       "0           01/28/2019  Violations were cited in the following area(s).   \n",
       "1           09/23/2019  Violations were cited in the following area(s).   \n",
       "2           03/11/2020  Violations were cited in the following area(s).   \n",
       "3           03/11/2020  Violations were cited in the following area(s).   \n",
       "4           07/29/2021  Violations were cited in the following area(s).   \n",
       "...                ...                                              ...   \n",
       "186222      03/01/2019  Violations were cited in the following area(s).   \n",
       "186223      06/07/2019  Violations were cited in the following area(s).   \n",
       "186224      07/26/2018  Violations were cited in the following area(s).   \n",
       "186225      07/20/2018  Violations were cited in the following area(s).   \n",
       "186226      06/21/2017  Violations were cited in the following area(s).   \n",
       "\n",
       "       VIOLATION CODE  \\\n",
       "0                 04D   \n",
       "1                 04M   \n",
       "2                 10F   \n",
       "3                 10F   \n",
       "4                 06E   \n",
       "...               ...   \n",
       "186222            10F   \n",
       "186223            08A   \n",
       "186224            10B   \n",
       "186225            06F   \n",
       "186226            06D   \n",
       "\n",
       "                                                                                      VIOLATION DESCRIPTION  \\\n",
       "0       Food worker does not wash hands thoroughly after using the toilet, coughing, sneezing, smoking, ...   \n",
       "1                                            Live roaches present in facility's food and/or non-food areas.   \n",
       "2       Non-food contact surface improperly constructed. Unacceptable material used. Non-food contact su...   \n",
       "3       Non-food contact surface improperly constructed. Unacceptable material used. Non-food contact su...   \n",
       "4       Sanitized equipment or utensil, including in-use food dispensing utensil, improperly used or sto...   \n",
       "...                                                                                                     ...   \n",
       "186222  Non-food contact surface improperly constructed. Unacceptable material used. Non-food contact su...   \n",
       "186223  Facility not vermin proof. Harborage or conditions conducive to attracting vermin to the premise...   \n",
       "186224  Plumbing not properly installed or maintained; anti-siphonage or backflow prevention device not ...   \n",
       "186225                                           Wiping cloths soiled or not stored in sanitizing solution.   \n",
       "186226  Food contact surface not properly washed, rinsed and sanitized after each use and following any ...   \n",
       "\n",
       "       CRITICAL FLAG  SCORE GRADE  GRADE DATE RECORD DATE  \\\n",
       "0           Critical     22   NaN         NaN  03/24/2022   \n",
       "1           Critical     24   NaN         NaN  03/24/2022   \n",
       "2       Not Critical      9   NaN         NaN  03/24/2022   \n",
       "3       Not Critical      9   NaN         NaN  03/24/2022   \n",
       "4           Critical     10     A  07/29/2021  03/24/2022   \n",
       "...              ...    ...   ...         ...         ...   \n",
       "186222  Not Critical      3     A  03/01/2019  03/24/2022   \n",
       "186223  Not Critical     12     A  06/07/2019  03/24/2022   \n",
       "186224  Not Critical     49   NaN         NaN  03/24/2022   \n",
       "186225      Critical     12     A  07/20/2018  03/24/2022   \n",
       "186226      Critical     16   NaN         NaN  03/24/2022   \n",
       "\n",
       "                              INSPECTION TYPE   Latitude  Longitude  \\\n",
       "0       Cycle Inspection / Initial Inspection  40.765040 -73.987795   \n",
       "1       Cycle Inspection / Initial Inspection  40.886691 -73.907056   \n",
       "2       Cycle Inspection / Initial Inspection  40.762786 -73.971486   \n",
       "3       Cycle Inspection / Initial Inspection  40.762786 -73.971486   \n",
       "4       Cycle Inspection / Initial Inspection  40.736185 -73.858052   \n",
       "...                                       ...        ...        ...   \n",
       "186222  Cycle Inspection / Initial Inspection   0.000000   0.000000   \n",
       "186223  Cycle Inspection / Initial Inspection  40.764364 -73.981362   \n",
       "186224  Cycle Inspection / Initial Inspection  40.757244 -73.983815   \n",
       "186225  Cycle Inspection / Initial Inspection  40.826352 -73.876066   \n",
       "186226  Cycle Inspection / Initial Inspection  40.851761 -73.829569   \n",
       "\n",
       "        Community Board  Council District  Census Tract        BIN  \\\n",
       "0                 104.0               3.0       13300.0  1025235.0   \n",
       "1                 208.0              11.0       29500.0  2084186.0   \n",
       "2                 105.0               4.0       11202.0  1036073.0   \n",
       "3                 105.0               4.0       11202.0  1036073.0   \n",
       "4                 404.0              21.0       43702.0  4047915.0   \n",
       "...                 ...               ...           ...        ...   \n",
       "186222              NaN               NaN           NaN        NaN   \n",
       "186223            105.0               4.0       13700.0  1024857.0   \n",
       "186224            105.0               4.0       11900.0  1089796.0   \n",
       "186225            209.0              18.0        5001.0  2023533.0   \n",
       "186226            210.0              13.0       30000.0  2047655.0   \n",
       "\n",
       "                 BBL   NTA  \n",
       "0       1.010430e+09  MN15  \n",
       "1       2.057960e+09  BX29  \n",
       "2       1.012930e+09  MN17  \n",
       "3       1.012930e+09  MN17  \n",
       "4       4.019480e+09  QN25  \n",
       "...              ...   ...  \n",
       "186222  1.000000e+00   NaN  \n",
       "186223  1.010260e+09  MN17  \n",
       "186224  1.009980e+09  MN17  \n",
       "186225  2.037160e+09  BX55  \n",
       "186226  2.042450e+09  BX10  \n",
       "\n",
       "[186227 rows x 26 columns]"
      ]
     },
     "execution_count": 17,
     "metadata": {},
     "output_type": "execute_result"
    }
   ],
   "source": [
    "doh = pd.read_csv('data/DOHMH_New_York_City_Restaurant_Inspection_Results.csv')\n",
    "doh"
   ]
  },
  {
   "cell_type": "code",
   "execution_count": 32,
   "metadata": {
    "ExecuteTime": {
     "end_time": "2022-03-26T01:03:54.040063Z",
     "start_time": "2022-03-26T01:03:54.023530Z"
    }
   },
   "outputs": [
    {
     "data": {
      "text/plain": [
       "19792"
      ]
     },
     "execution_count": 32,
     "metadata": {},
     "output_type": "execute_result"
    }
   ],
   "source": [
    "# How many unique restaurants are in this dataset?\n",
    "doh['CAMIS'].nunique()"
   ]
  },
  {
   "cell_type": "markdown",
   "metadata": {},
   "source": [
    "Health code violations found during an inspections carries a point value, and a restaurant’s score corresponds to a letter grade. A lower point score, leads to a better letter grade:\n",
    "\n",
    "\"A\" grade: 0 to 13 points for sanitary violations\n",
    "\"B\" grade: 14 to 27 points for sanitary violations\n",
    "\"C\" grade: 28 or more points for sanitary violations"
   ]
  },
  {
   "cell_type": "code",
   "execution_count": 37,
   "metadata": {
    "ExecuteTime": {
     "end_time": "2022-03-26T01:11:04.267007Z",
     "start_time": "2022-03-26T01:11:04.252601Z"
    }
   },
   "outputs": [],
   "source": [
    "doh['A'] = doh['SCORE'] < 14\n",
    "doh['B'] = (doh['SCORE'] > 13) & (doh['SCORE'] < 28)\n",
    "doh['C'] = doh['SCORE'] > 27"
   ]
  },
  {
   "cell_type": "code",
   "execution_count": 38,
   "metadata": {
    "ExecuteTime": {
     "end_time": "2022-03-26T01:11:10.020018Z",
     "start_time": "2022-03-26T01:11:09.943685Z"
    }
   },
   "outputs": [
    {
     "data": {
      "text/html": [
       "<div>\n",
       "<style scoped>\n",
       "    .dataframe tbody tr th:only-of-type {\n",
       "        vertical-align: middle;\n",
       "    }\n",
       "\n",
       "    .dataframe tbody tr th {\n",
       "        vertical-align: top;\n",
       "    }\n",
       "\n",
       "    .dataframe thead th {\n",
       "        text-align: right;\n",
       "    }\n",
       "</style>\n",
       "<table border=\"1\" class=\"dataframe\">\n",
       "  <thead>\n",
       "    <tr style=\"text-align: right;\">\n",
       "      <th></th>\n",
       "      <th>CAMIS</th>\n",
       "      <th>DBA</th>\n",
       "      <th>BORO</th>\n",
       "      <th>BUILDING</th>\n",
       "      <th>STREET</th>\n",
       "      <th>ZIPCODE</th>\n",
       "      <th>PHONE</th>\n",
       "      <th>CUISINE DESCRIPTION</th>\n",
       "      <th>INSPECTION DATE</th>\n",
       "      <th>ACTION</th>\n",
       "      <th>VIOLATION CODE</th>\n",
       "      <th>VIOLATION DESCRIPTION</th>\n",
       "      <th>CRITICAL FLAG</th>\n",
       "      <th>SCORE</th>\n",
       "      <th>GRADE</th>\n",
       "      <th>GRADE DATE</th>\n",
       "      <th>RECORD DATE</th>\n",
       "      <th>INSPECTION TYPE</th>\n",
       "      <th>Latitude</th>\n",
       "      <th>Longitude</th>\n",
       "      <th>Community Board</th>\n",
       "      <th>Council District</th>\n",
       "      <th>Census Tract</th>\n",
       "      <th>BIN</th>\n",
       "      <th>BBL</th>\n",
       "      <th>NTA</th>\n",
       "      <th>PASS</th>\n",
       "      <th>FAIL</th>\n",
       "      <th>A</th>\n",
       "      <th>B</th>\n",
       "      <th>C</th>\n",
       "    </tr>\n",
       "  </thead>\n",
       "  <tbody>\n",
       "    <tr>\n",
       "      <th>0</th>\n",
       "      <td>50008319</td>\n",
       "      <td>POULETTE</td>\n",
       "      <td>Manhattan</td>\n",
       "      <td>790</td>\n",
       "      <td>9 AVENUE</td>\n",
       "      <td>10019.0</td>\n",
       "      <td>2129569488</td>\n",
       "      <td>Chicken</td>\n",
       "      <td>01/28/2019</td>\n",
       "      <td>Violations were cited in the following area(s).</td>\n",
       "      <td>04D</td>\n",
       "      <td>Food worker does not wash hands thoroughly after using the toilet, coughing, sneezing, smoking, ...</td>\n",
       "      <td>Critical</td>\n",
       "      <td>22</td>\n",
       "      <td>NaN</td>\n",
       "      <td>NaN</td>\n",
       "      <td>03/24/2022</td>\n",
       "      <td>Cycle Inspection / Initial Inspection</td>\n",
       "      <td>40.765040</td>\n",
       "      <td>-73.987795</td>\n",
       "      <td>104.0</td>\n",
       "      <td>3.0</td>\n",
       "      <td>13300.0</td>\n",
       "      <td>1025235.0</td>\n",
       "      <td>1.010430e+09</td>\n",
       "      <td>MN15</td>\n",
       "      <td>False</td>\n",
       "      <td>True</td>\n",
       "      <td>False</td>\n",
       "      <td>True</td>\n",
       "      <td>False</td>\n",
       "    </tr>\n",
       "    <tr>\n",
       "      <th>1</th>\n",
       "      <td>41678734</td>\n",
       "      <td>TINY'S DINER</td>\n",
       "      <td>Bronx</td>\n",
       "      <td>3603</td>\n",
       "      <td>RIVERDALE AVENUE</td>\n",
       "      <td>10463.0</td>\n",
       "      <td>7187087600</td>\n",
       "      <td>American</td>\n",
       "      <td>09/23/2019</td>\n",
       "      <td>Violations were cited in the following area(s).</td>\n",
       "      <td>04M</td>\n",
       "      <td>Live roaches present in facility's food and/or non-food areas.</td>\n",
       "      <td>Critical</td>\n",
       "      <td>24</td>\n",
       "      <td>NaN</td>\n",
       "      <td>NaN</td>\n",
       "      <td>03/24/2022</td>\n",
       "      <td>Cycle Inspection / Initial Inspection</td>\n",
       "      <td>40.886691</td>\n",
       "      <td>-73.907056</td>\n",
       "      <td>208.0</td>\n",
       "      <td>11.0</td>\n",
       "      <td>29500.0</td>\n",
       "      <td>2084186.0</td>\n",
       "      <td>2.057960e+09</td>\n",
       "      <td>BX29</td>\n",
       "      <td>False</td>\n",
       "      <td>True</td>\n",
       "      <td>False</td>\n",
       "      <td>True</td>\n",
       "      <td>False</td>\n",
       "    </tr>\n",
       "    <tr>\n",
       "      <th>2</th>\n",
       "      <td>40795021</td>\n",
       "      <td>TAO RESTAURANT</td>\n",
       "      <td>Manhattan</td>\n",
       "      <td>42</td>\n",
       "      <td>EAST   58 STREET</td>\n",
       "      <td>10022.0</td>\n",
       "      <td>2128882288</td>\n",
       "      <td>Asian/Asian Fusion</td>\n",
       "      <td>03/11/2020</td>\n",
       "      <td>Violations were cited in the following area(s).</td>\n",
       "      <td>10F</td>\n",
       "      <td>Non-food contact surface improperly constructed. Unacceptable material used. Non-food contact su...</td>\n",
       "      <td>Not Critical</td>\n",
       "      <td>9</td>\n",
       "      <td>NaN</td>\n",
       "      <td>NaN</td>\n",
       "      <td>03/24/2022</td>\n",
       "      <td>Cycle Inspection / Initial Inspection</td>\n",
       "      <td>40.762786</td>\n",
       "      <td>-73.971486</td>\n",
       "      <td>105.0</td>\n",
       "      <td>4.0</td>\n",
       "      <td>11202.0</td>\n",
       "      <td>1036073.0</td>\n",
       "      <td>1.012930e+09</td>\n",
       "      <td>MN17</td>\n",
       "      <td>True</td>\n",
       "      <td>False</td>\n",
       "      <td>True</td>\n",
       "      <td>False</td>\n",
       "      <td>False</td>\n",
       "    </tr>\n",
       "    <tr>\n",
       "      <th>3</th>\n",
       "      <td>40795021</td>\n",
       "      <td>TAO RESTAURANT</td>\n",
       "      <td>Manhattan</td>\n",
       "      <td>42</td>\n",
       "      <td>EAST   58 STREET</td>\n",
       "      <td>10022.0</td>\n",
       "      <td>2128882288</td>\n",
       "      <td>Asian/Asian Fusion</td>\n",
       "      <td>03/11/2020</td>\n",
       "      <td>Violations were cited in the following area(s).</td>\n",
       "      <td>10F</td>\n",
       "      <td>Non-food contact surface improperly constructed. Unacceptable material used. Non-food contact su...</td>\n",
       "      <td>Not Critical</td>\n",
       "      <td>9</td>\n",
       "      <td>NaN</td>\n",
       "      <td>NaN</td>\n",
       "      <td>03/24/2022</td>\n",
       "      <td>Cycle Inspection / Initial Inspection</td>\n",
       "      <td>40.762786</td>\n",
       "      <td>-73.971486</td>\n",
       "      <td>105.0</td>\n",
       "      <td>4.0</td>\n",
       "      <td>11202.0</td>\n",
       "      <td>1036073.0</td>\n",
       "      <td>1.012930e+09</td>\n",
       "      <td>MN17</td>\n",
       "      <td>True</td>\n",
       "      <td>False</td>\n",
       "      <td>True</td>\n",
       "      <td>False</td>\n",
       "      <td>False</td>\n",
       "    </tr>\n",
       "    <tr>\n",
       "      <th>4</th>\n",
       "      <td>40538234</td>\n",
       "      <td>DUNKIN',' BASKIN ROBBINS</td>\n",
       "      <td>Queens</td>\n",
       "      <td>9925</td>\n",
       "      <td>HORACE HARDING EXPRESSWAY</td>\n",
       "      <td>11368.0</td>\n",
       "      <td>7182719222</td>\n",
       "      <td>Donuts</td>\n",
       "      <td>07/29/2021</td>\n",
       "      <td>Violations were cited in the following area(s).</td>\n",
       "      <td>06E</td>\n",
       "      <td>Sanitized equipment or utensil, including in-use food dispensing utensil, improperly used or sto...</td>\n",
       "      <td>Critical</td>\n",
       "      <td>10</td>\n",
       "      <td>A</td>\n",
       "      <td>07/29/2021</td>\n",
       "      <td>03/24/2022</td>\n",
       "      <td>Cycle Inspection / Initial Inspection</td>\n",
       "      <td>40.736185</td>\n",
       "      <td>-73.858052</td>\n",
       "      <td>404.0</td>\n",
       "      <td>21.0</td>\n",
       "      <td>43702.0</td>\n",
       "      <td>4047915.0</td>\n",
       "      <td>4.019480e+09</td>\n",
       "      <td>QN25</td>\n",
       "      <td>True</td>\n",
       "      <td>False</td>\n",
       "      <td>True</td>\n",
       "      <td>False</td>\n",
       "      <td>False</td>\n",
       "    </tr>\n",
       "    <tr>\n",
       "      <th>...</th>\n",
       "      <td>...</td>\n",
       "      <td>...</td>\n",
       "      <td>...</td>\n",
       "      <td>...</td>\n",
       "      <td>...</td>\n",
       "      <td>...</td>\n",
       "      <td>...</td>\n",
       "      <td>...</td>\n",
       "      <td>...</td>\n",
       "      <td>...</td>\n",
       "      <td>...</td>\n",
       "      <td>...</td>\n",
       "      <td>...</td>\n",
       "      <td>...</td>\n",
       "      <td>...</td>\n",
       "      <td>...</td>\n",
       "      <td>...</td>\n",
       "      <td>...</td>\n",
       "      <td>...</td>\n",
       "      <td>...</td>\n",
       "      <td>...</td>\n",
       "      <td>...</td>\n",
       "      <td>...</td>\n",
       "      <td>...</td>\n",
       "      <td>...</td>\n",
       "      <td>...</td>\n",
       "      <td>...</td>\n",
       "      <td>...</td>\n",
       "      <td>...</td>\n",
       "      <td>...</td>\n",
       "      <td>...</td>\n",
       "    </tr>\n",
       "    <tr>\n",
       "      <th>186222</th>\n",
       "      <td>41556790</td>\n",
       "      <td>FIVE GUYS FAMOUS BURGERS AND FRIES</td>\n",
       "      <td>Manhattan</td>\n",
       "      <td>2847</td>\n",
       "      <td>BROADFWAY</td>\n",
       "      <td>NaN</td>\n",
       "      <td>2126787701</td>\n",
       "      <td>Hamburgers</td>\n",
       "      <td>03/01/2019</td>\n",
       "      <td>Violations were cited in the following area(s).</td>\n",
       "      <td>10F</td>\n",
       "      <td>Non-food contact surface improperly constructed. Unacceptable material used. Non-food contact su...</td>\n",
       "      <td>Not Critical</td>\n",
       "      <td>3</td>\n",
       "      <td>A</td>\n",
       "      <td>03/01/2019</td>\n",
       "      <td>03/24/2022</td>\n",
       "      <td>Cycle Inspection / Initial Inspection</td>\n",
       "      <td>0.000000</td>\n",
       "      <td>0.000000</td>\n",
       "      <td>NaN</td>\n",
       "      <td>NaN</td>\n",
       "      <td>NaN</td>\n",
       "      <td>NaN</td>\n",
       "      <td>1.000000e+00</td>\n",
       "      <td>NaN</td>\n",
       "      <td>True</td>\n",
       "      <td>False</td>\n",
       "      <td>True</td>\n",
       "      <td>False</td>\n",
       "      <td>False</td>\n",
       "    </tr>\n",
       "    <tr>\n",
       "      <th>186223</th>\n",
       "      <td>50032876</td>\n",
       "      <td>TANNER SMITH'S</td>\n",
       "      <td>Manhattan</td>\n",
       "      <td>204</td>\n",
       "      <td>WEST   55 STREET</td>\n",
       "      <td>10019.0</td>\n",
       "      <td>9175172283</td>\n",
       "      <td>American</td>\n",
       "      <td>06/07/2019</td>\n",
       "      <td>Violations were cited in the following area(s).</td>\n",
       "      <td>08A</td>\n",
       "      <td>Facility not vermin proof. Harborage or conditions conducive to attracting vermin to the premise...</td>\n",
       "      <td>Not Critical</td>\n",
       "      <td>12</td>\n",
       "      <td>A</td>\n",
       "      <td>06/07/2019</td>\n",
       "      <td>03/24/2022</td>\n",
       "      <td>Cycle Inspection / Initial Inspection</td>\n",
       "      <td>40.764364</td>\n",
       "      <td>-73.981362</td>\n",
       "      <td>105.0</td>\n",
       "      <td>4.0</td>\n",
       "      <td>13700.0</td>\n",
       "      <td>1024857.0</td>\n",
       "      <td>1.010260e+09</td>\n",
       "      <td>MN17</td>\n",
       "      <td>True</td>\n",
       "      <td>False</td>\n",
       "      <td>True</td>\n",
       "      <td>False</td>\n",
       "      <td>False</td>\n",
       "    </tr>\n",
       "    <tr>\n",
       "      <th>186224</th>\n",
       "      <td>50003842</td>\n",
       "      <td>T- 45</td>\n",
       "      <td>Manhattan</td>\n",
       "      <td>135</td>\n",
       "      <td>WEST   45 STREET</td>\n",
       "      <td>10036.0</td>\n",
       "      <td>6466403775</td>\n",
       "      <td>American</td>\n",
       "      <td>07/26/2018</td>\n",
       "      <td>Violations were cited in the following area(s).</td>\n",
       "      <td>10B</td>\n",
       "      <td>Plumbing not properly installed or maintained; anti-siphonage or backflow prevention device not ...</td>\n",
       "      <td>Not Critical</td>\n",
       "      <td>49</td>\n",
       "      <td>NaN</td>\n",
       "      <td>NaN</td>\n",
       "      <td>03/24/2022</td>\n",
       "      <td>Cycle Inspection / Initial Inspection</td>\n",
       "      <td>40.757244</td>\n",
       "      <td>-73.983815</td>\n",
       "      <td>105.0</td>\n",
       "      <td>4.0</td>\n",
       "      <td>11900.0</td>\n",
       "      <td>1089796.0</td>\n",
       "      <td>1.009980e+09</td>\n",
       "      <td>MN17</td>\n",
       "      <td>False</td>\n",
       "      <td>True</td>\n",
       "      <td>False</td>\n",
       "      <td>False</td>\n",
       "      <td>True</td>\n",
       "    </tr>\n",
       "    <tr>\n",
       "      <th>186225</th>\n",
       "      <td>41640824</td>\n",
       "      <td>RICURAS ECUADORIAN BAKERY</td>\n",
       "      <td>Bronx</td>\n",
       "      <td>1576</td>\n",
       "      <td>WATSON AVENUE</td>\n",
       "      <td>10472.0</td>\n",
       "      <td>7184508363</td>\n",
       "      <td>Spanish</td>\n",
       "      <td>07/20/2018</td>\n",
       "      <td>Violations were cited in the following area(s).</td>\n",
       "      <td>06F</td>\n",
       "      <td>Wiping cloths soiled or not stored in sanitizing solution.</td>\n",
       "      <td>Critical</td>\n",
       "      <td>12</td>\n",
       "      <td>A</td>\n",
       "      <td>07/20/2018</td>\n",
       "      <td>03/24/2022</td>\n",
       "      <td>Cycle Inspection / Initial Inspection</td>\n",
       "      <td>40.826352</td>\n",
       "      <td>-73.876066</td>\n",
       "      <td>209.0</td>\n",
       "      <td>18.0</td>\n",
       "      <td>5001.0</td>\n",
       "      <td>2023533.0</td>\n",
       "      <td>2.037160e+09</td>\n",
       "      <td>BX55</td>\n",
       "      <td>True</td>\n",
       "      <td>False</td>\n",
       "      <td>True</td>\n",
       "      <td>False</td>\n",
       "      <td>False</td>\n",
       "    </tr>\n",
       "    <tr>\n",
       "      <th>186226</th>\n",
       "      <td>41450971</td>\n",
       "      <td>GIOVANNI'S RESTAURANT</td>\n",
       "      <td>Bronx</td>\n",
       "      <td>3209</td>\n",
       "      <td>WESTCHESTER AVENUE</td>\n",
       "      <td>10461.0</td>\n",
       "      <td>7188924340</td>\n",
       "      <td>Pizza</td>\n",
       "      <td>06/21/2017</td>\n",
       "      <td>Violations were cited in the following area(s).</td>\n",
       "      <td>06D</td>\n",
       "      <td>Food contact surface not properly washed, rinsed and sanitized after each use and following any ...</td>\n",
       "      <td>Critical</td>\n",
       "      <td>16</td>\n",
       "      <td>NaN</td>\n",
       "      <td>NaN</td>\n",
       "      <td>03/24/2022</td>\n",
       "      <td>Cycle Inspection / Initial Inspection</td>\n",
       "      <td>40.851761</td>\n",
       "      <td>-73.829569</td>\n",
       "      <td>210.0</td>\n",
       "      <td>13.0</td>\n",
       "      <td>30000.0</td>\n",
       "      <td>2047655.0</td>\n",
       "      <td>2.042450e+09</td>\n",
       "      <td>BX10</td>\n",
       "      <td>False</td>\n",
       "      <td>True</td>\n",
       "      <td>False</td>\n",
       "      <td>True</td>\n",
       "      <td>False</td>\n",
       "    </tr>\n",
       "  </tbody>\n",
       "</table>\n",
       "<p>186227 rows × 31 columns</p>\n",
       "</div>"
      ],
      "text/plain": [
       "           CAMIS                                 DBA       BORO BUILDING  \\\n",
       "0       50008319                            POULETTE  Manhattan      790   \n",
       "1       41678734                        TINY'S DINER      Bronx     3603   \n",
       "2       40795021                      TAO RESTAURANT  Manhattan       42   \n",
       "3       40795021                      TAO RESTAURANT  Manhattan       42   \n",
       "4       40538234            DUNKIN',' BASKIN ROBBINS     Queens     9925   \n",
       "...          ...                                 ...        ...      ...   \n",
       "186222  41556790  FIVE GUYS FAMOUS BURGERS AND FRIES  Manhattan     2847   \n",
       "186223  50032876                      TANNER SMITH'S  Manhattan      204   \n",
       "186224  50003842                               T- 45  Manhattan      135   \n",
       "186225  41640824           RICURAS ECUADORIAN BAKERY      Bronx     1576   \n",
       "186226  41450971               GIOVANNI'S RESTAURANT      Bronx     3209   \n",
       "\n",
       "                           STREET  ZIPCODE       PHONE CUISINE DESCRIPTION  \\\n",
       "0                        9 AVENUE  10019.0  2129569488             Chicken   \n",
       "1                RIVERDALE AVENUE  10463.0  7187087600            American   \n",
       "2                EAST   58 STREET  10022.0  2128882288  Asian/Asian Fusion   \n",
       "3                EAST   58 STREET  10022.0  2128882288  Asian/Asian Fusion   \n",
       "4       HORACE HARDING EXPRESSWAY  11368.0  7182719222              Donuts   \n",
       "...                           ...      ...         ...                 ...   \n",
       "186222                  BROADFWAY      NaN  2126787701          Hamburgers   \n",
       "186223           WEST   55 STREET  10019.0  9175172283            American   \n",
       "186224           WEST   45 STREET  10036.0  6466403775            American   \n",
       "186225              WATSON AVENUE  10472.0  7184508363             Spanish   \n",
       "186226         WESTCHESTER AVENUE  10461.0  7188924340               Pizza   \n",
       "\n",
       "       INSPECTION DATE                                           ACTION  \\\n",
       "0           01/28/2019  Violations were cited in the following area(s).   \n",
       "1           09/23/2019  Violations were cited in the following area(s).   \n",
       "2           03/11/2020  Violations were cited in the following area(s).   \n",
       "3           03/11/2020  Violations were cited in the following area(s).   \n",
       "4           07/29/2021  Violations were cited in the following area(s).   \n",
       "...                ...                                              ...   \n",
       "186222      03/01/2019  Violations were cited in the following area(s).   \n",
       "186223      06/07/2019  Violations were cited in the following area(s).   \n",
       "186224      07/26/2018  Violations were cited in the following area(s).   \n",
       "186225      07/20/2018  Violations were cited in the following area(s).   \n",
       "186226      06/21/2017  Violations were cited in the following area(s).   \n",
       "\n",
       "       VIOLATION CODE  \\\n",
       "0                 04D   \n",
       "1                 04M   \n",
       "2                 10F   \n",
       "3                 10F   \n",
       "4                 06E   \n",
       "...               ...   \n",
       "186222            10F   \n",
       "186223            08A   \n",
       "186224            10B   \n",
       "186225            06F   \n",
       "186226            06D   \n",
       "\n",
       "                                                                                      VIOLATION DESCRIPTION  \\\n",
       "0       Food worker does not wash hands thoroughly after using the toilet, coughing, sneezing, smoking, ...   \n",
       "1                                            Live roaches present in facility's food and/or non-food areas.   \n",
       "2       Non-food contact surface improperly constructed. Unacceptable material used. Non-food contact su...   \n",
       "3       Non-food contact surface improperly constructed. Unacceptable material used. Non-food contact su...   \n",
       "4       Sanitized equipment or utensil, including in-use food dispensing utensil, improperly used or sto...   \n",
       "...                                                                                                     ...   \n",
       "186222  Non-food contact surface improperly constructed. Unacceptable material used. Non-food contact su...   \n",
       "186223  Facility not vermin proof. Harborage or conditions conducive to attracting vermin to the premise...   \n",
       "186224  Plumbing not properly installed or maintained; anti-siphonage or backflow prevention device not ...   \n",
       "186225                                           Wiping cloths soiled or not stored in sanitizing solution.   \n",
       "186226  Food contact surface not properly washed, rinsed and sanitized after each use and following any ...   \n",
       "\n",
       "       CRITICAL FLAG  SCORE GRADE  GRADE DATE RECORD DATE  \\\n",
       "0           Critical     22   NaN         NaN  03/24/2022   \n",
       "1           Critical     24   NaN         NaN  03/24/2022   \n",
       "2       Not Critical      9   NaN         NaN  03/24/2022   \n",
       "3       Not Critical      9   NaN         NaN  03/24/2022   \n",
       "4           Critical     10     A  07/29/2021  03/24/2022   \n",
       "...              ...    ...   ...         ...         ...   \n",
       "186222  Not Critical      3     A  03/01/2019  03/24/2022   \n",
       "186223  Not Critical     12     A  06/07/2019  03/24/2022   \n",
       "186224  Not Critical     49   NaN         NaN  03/24/2022   \n",
       "186225      Critical     12     A  07/20/2018  03/24/2022   \n",
       "186226      Critical     16   NaN         NaN  03/24/2022   \n",
       "\n",
       "                              INSPECTION TYPE   Latitude  Longitude  \\\n",
       "0       Cycle Inspection / Initial Inspection  40.765040 -73.987795   \n",
       "1       Cycle Inspection / Initial Inspection  40.886691 -73.907056   \n",
       "2       Cycle Inspection / Initial Inspection  40.762786 -73.971486   \n",
       "3       Cycle Inspection / Initial Inspection  40.762786 -73.971486   \n",
       "4       Cycle Inspection / Initial Inspection  40.736185 -73.858052   \n",
       "...                                       ...        ...        ...   \n",
       "186222  Cycle Inspection / Initial Inspection   0.000000   0.000000   \n",
       "186223  Cycle Inspection / Initial Inspection  40.764364 -73.981362   \n",
       "186224  Cycle Inspection / Initial Inspection  40.757244 -73.983815   \n",
       "186225  Cycle Inspection / Initial Inspection  40.826352 -73.876066   \n",
       "186226  Cycle Inspection / Initial Inspection  40.851761 -73.829569   \n",
       "\n",
       "        Community Board  Council District  Census Tract        BIN  \\\n",
       "0                 104.0               3.0       13300.0  1025235.0   \n",
       "1                 208.0              11.0       29500.0  2084186.0   \n",
       "2                 105.0               4.0       11202.0  1036073.0   \n",
       "3                 105.0               4.0       11202.0  1036073.0   \n",
       "4                 404.0              21.0       43702.0  4047915.0   \n",
       "...                 ...               ...           ...        ...   \n",
       "186222              NaN               NaN           NaN        NaN   \n",
       "186223            105.0               4.0       13700.0  1024857.0   \n",
       "186224            105.0               4.0       11900.0  1089796.0   \n",
       "186225            209.0              18.0        5001.0  2023533.0   \n",
       "186226            210.0              13.0       30000.0  2047655.0   \n",
       "\n",
       "                 BBL   NTA   PASS   FAIL      A      B      C  \n",
       "0       1.010430e+09  MN15  False   True  False   True  False  \n",
       "1       2.057960e+09  BX29  False   True  False   True  False  \n",
       "2       1.012930e+09  MN17   True  False   True  False  False  \n",
       "3       1.012930e+09  MN17   True  False   True  False  False  \n",
       "4       4.019480e+09  QN25   True  False   True  False  False  \n",
       "...              ...   ...    ...    ...    ...    ...    ...  \n",
       "186222  1.000000e+00   NaN   True  False   True  False  False  \n",
       "186223  1.010260e+09  MN17   True  False   True  False  False  \n",
       "186224  1.009980e+09  MN17  False   True  False  False   True  \n",
       "186225  2.037160e+09  BX55   True  False   True  False  False  \n",
       "186226  2.042450e+09  BX10  False   True  False   True  False  \n",
       "\n",
       "[186227 rows x 31 columns]"
      ]
     },
     "execution_count": 38,
     "metadata": {},
     "output_type": "execute_result"
    }
   ],
   "source": [
    "doh"
   ]
  },
  {
   "cell_type": "code",
   "execution_count": 34,
   "metadata": {
    "ExecuteTime": {
     "end_time": "2022-03-26T01:06:24.388179Z",
     "start_time": "2022-03-26T01:06:24.338716Z"
    }
   },
   "outputs": [],
   "source": [
    "pass_fail = doh.groupby(['CAMIS'])['PASS', 'FAIL'].sum()"
   ]
  },
  {
   "cell_type": "code",
   "execution_count": 35,
   "metadata": {
    "ExecuteTime": {
     "end_time": "2022-03-26T01:06:42.441376Z",
     "start_time": "2022-03-26T01:06:42.422816Z"
    }
   },
   "outputs": [
    {
     "data": {
      "text/html": [
       "<div>\n",
       "<style scoped>\n",
       "    .dataframe tbody tr th:only-of-type {\n",
       "        vertical-align: middle;\n",
       "    }\n",
       "\n",
       "    .dataframe tbody tr th {\n",
       "        vertical-align: top;\n",
       "    }\n",
       "\n",
       "    .dataframe thead th {\n",
       "        text-align: right;\n",
       "    }\n",
       "</style>\n",
       "<table border=\"1\" class=\"dataframe\">\n",
       "  <thead>\n",
       "    <tr style=\"text-align: right;\">\n",
       "      <th></th>\n",
       "      <th>PASS</th>\n",
       "      <th>FAIL</th>\n",
       "    </tr>\n",
       "    <tr>\n",
       "      <th>CAMIS</th>\n",
       "      <th></th>\n",
       "      <th></th>\n",
       "    </tr>\n",
       "  </thead>\n",
       "  <tbody>\n",
       "    <tr>\n",
       "      <th>30075445</th>\n",
       "      <td>1</td>\n",
       "      <td>7</td>\n",
       "    </tr>\n",
       "    <tr>\n",
       "      <th>40356483</th>\n",
       "      <td>5</td>\n",
       "      <td>4</td>\n",
       "    </tr>\n",
       "    <tr>\n",
       "      <th>40360076</th>\n",
       "      <td>4</td>\n",
       "      <td>6</td>\n",
       "    </tr>\n",
       "    <tr>\n",
       "      <th>40362264</th>\n",
       "      <td>3</td>\n",
       "      <td>4</td>\n",
       "    </tr>\n",
       "    <tr>\n",
       "      <th>40362274</th>\n",
       "      <td>1</td>\n",
       "      <td>6</td>\n",
       "    </tr>\n",
       "    <tr>\n",
       "      <th>...</th>\n",
       "      <td>...</td>\n",
       "      <td>...</td>\n",
       "    </tr>\n",
       "    <tr>\n",
       "      <th>50113951</th>\n",
       "      <td>0</td>\n",
       "      <td>4</td>\n",
       "    </tr>\n",
       "    <tr>\n",
       "      <th>50113984</th>\n",
       "      <td>0</td>\n",
       "      <td>3</td>\n",
       "    </tr>\n",
       "    <tr>\n",
       "      <th>50113991</th>\n",
       "      <td>0</td>\n",
       "      <td>6</td>\n",
       "    </tr>\n",
       "    <tr>\n",
       "      <th>50114370</th>\n",
       "      <td>0</td>\n",
       "      <td>3</td>\n",
       "    </tr>\n",
       "    <tr>\n",
       "      <th>50117434</th>\n",
       "      <td>0</td>\n",
       "      <td>7</td>\n",
       "    </tr>\n",
       "  </tbody>\n",
       "</table>\n",
       "<p>12221 rows × 2 columns</p>\n",
       "</div>"
      ],
      "text/plain": [
       "          PASS  FAIL\n",
       "CAMIS               \n",
       "30075445     1     7\n",
       "40356483     5     4\n",
       "40360076     4     6\n",
       "40362264     3     4\n",
       "40362274     1     6\n",
       "...        ...   ...\n",
       "50113951     0     4\n",
       "50113984     0     3\n",
       "50113991     0     6\n",
       "50114370     0     3\n",
       "50117434     0     7\n",
       "\n",
       "[12221 rows x 2 columns]"
      ]
     },
     "execution_count": 35,
     "metadata": {},
     "output_type": "execute_result"
    }
   ],
   "source": [
    "pass_fail[pass_fail['FAIL'] > 0]"
   ]
  },
  {
   "cell_type": "markdown",
   "metadata": {},
   "source": [
    "Of the 19,792 unique restaurants, 12,221 did not pass the intitial inspections at least once."
   ]
  },
  {
   "cell_type": "code",
   "execution_count": 51,
   "metadata": {
    "ExecuteTime": {
     "end_time": "2022-03-28T21:20:22.013226Z",
     "start_time": "2022-03-28T21:20:21.908414Z"
    }
   },
   "outputs": [],
   "source": [
    "doh_grades = doh.groupby(['CAMIS'])['BORO','BUILDING','STREET','ZIPCODE',\n",
    "                                    'PHONE','CUISINE DESCRIPTION',\n",
    "                                    'Latitude','Longitude','Community Board',\n",
    "                                    'Council District','Census Tract',\n",
    "                                    'A', 'B','C'].sum()"
   ]
  },
  {
   "cell_type": "code",
   "execution_count": 52,
   "metadata": {
    "ExecuteTime": {
     "end_time": "2022-03-28T21:20:23.011587Z",
     "start_time": "2022-03-28T21:20:22.983283Z"
    }
   },
   "outputs": [
    {
     "data": {
      "text/html": [
       "<div>\n",
       "<style scoped>\n",
       "    .dataframe tbody tr th:only-of-type {\n",
       "        vertical-align: middle;\n",
       "    }\n",
       "\n",
       "    .dataframe tbody tr th {\n",
       "        vertical-align: top;\n",
       "    }\n",
       "\n",
       "    .dataframe thead th {\n",
       "        text-align: right;\n",
       "    }\n",
       "</style>\n",
       "<table border=\"1\" class=\"dataframe\">\n",
       "  <thead>\n",
       "    <tr style=\"text-align: right;\">\n",
       "      <th></th>\n",
       "      <th>ZIPCODE</th>\n",
       "      <th>Latitude</th>\n",
       "      <th>Longitude</th>\n",
       "      <th>Community Board</th>\n",
       "      <th>Council District</th>\n",
       "      <th>Census Tract</th>\n",
       "      <th>A</th>\n",
       "      <th>B</th>\n",
       "      <th>C</th>\n",
       "    </tr>\n",
       "    <tr>\n",
       "      <th>CAMIS</th>\n",
       "      <th></th>\n",
       "      <th></th>\n",
       "      <th></th>\n",
       "      <th></th>\n",
       "      <th></th>\n",
       "      <th></th>\n",
       "      <th></th>\n",
       "      <th></th>\n",
       "      <th></th>\n",
       "    </tr>\n",
       "  </thead>\n",
       "  <tbody>\n",
       "    <tr>\n",
       "      <th>30075445</th>\n",
       "      <td>83696.0</td>\n",
       "      <td>326.785850</td>\n",
       "      <td>-590.847775</td>\n",
       "      <td>1688.0</td>\n",
       "      <td>104.0</td>\n",
       "      <td>201600.0</td>\n",
       "      <td>1</td>\n",
       "      <td>7</td>\n",
       "      <td>0</td>\n",
       "    </tr>\n",
       "    <tr>\n",
       "      <th>30112340</th>\n",
       "      <td>56125.0</td>\n",
       "      <td>203.313258</td>\n",
       "      <td>-369.810407</td>\n",
       "      <td>1545.0</td>\n",
       "      <td>200.0</td>\n",
       "      <td>163500.0</td>\n",
       "      <td>5</td>\n",
       "      <td>0</td>\n",
       "      <td>0</td>\n",
       "    </tr>\n",
       "    <tr>\n",
       "      <th>30191841</th>\n",
       "      <td>50095.0</td>\n",
       "      <td>203.836629</td>\n",
       "      <td>-369.921552</td>\n",
       "      <td>520.0</td>\n",
       "      <td>15.0</td>\n",
       "      <td>69500.0</td>\n",
       "      <td>5</td>\n",
       "      <td>0</td>\n",
       "      <td>0</td>\n",
       "    </tr>\n",
       "    <tr>\n",
       "      <th>40356018</th>\n",
       "      <td>44896.0</td>\n",
       "      <td>162.319681</td>\n",
       "      <td>-295.928361</td>\n",
       "      <td>1252.0</td>\n",
       "      <td>188.0</td>\n",
       "      <td>139200.0</td>\n",
       "      <td>4</td>\n",
       "      <td>0</td>\n",
       "      <td>0</td>\n",
       "    </tr>\n",
       "    <tr>\n",
       "      <th>40356483</th>\n",
       "      <td>101106.0</td>\n",
       "      <td>365.581004</td>\n",
       "      <td>-665.162905</td>\n",
       "      <td>2862.0</td>\n",
       "      <td>414.0</td>\n",
       "      <td>630000.0</td>\n",
       "      <td>5</td>\n",
       "      <td>4</td>\n",
       "      <td>0</td>\n",
       "    </tr>\n",
       "    <tr>\n",
       "      <th>...</th>\n",
       "      <td>...</td>\n",
       "      <td>...</td>\n",
       "      <td>...</td>\n",
       "      <td>...</td>\n",
       "      <td>...</td>\n",
       "      <td>...</td>\n",
       "      <td>...</td>\n",
       "      <td>...</td>\n",
       "      <td>...</td>\n",
       "    </tr>\n",
       "    <tr>\n",
       "      <th>50115169</th>\n",
       "      <td>10002.0</td>\n",
       "      <td>40.714841</td>\n",
       "      <td>-73.991700</td>\n",
       "      <td>103.0</td>\n",
       "      <td>1.0</td>\n",
       "      <td>1600.0</td>\n",
       "      <td>1</td>\n",
       "      <td>0</td>\n",
       "      <td>0</td>\n",
       "    </tr>\n",
       "    <tr>\n",
       "      <th>50116155</th>\n",
       "      <td>33699.0</td>\n",
       "      <td>122.051758</td>\n",
       "      <td>-221.752145</td>\n",
       "      <td>948.0</td>\n",
       "      <td>123.0</td>\n",
       "      <td>111900.0</td>\n",
       "      <td>3</td>\n",
       "      <td>0</td>\n",
       "      <td>0</td>\n",
       "    </tr>\n",
       "    <tr>\n",
       "      <th>50117350</th>\n",
       "      <td>50090.0</td>\n",
       "      <td>203.762660</td>\n",
       "      <td>-369.947575</td>\n",
       "      <td>525.0</td>\n",
       "      <td>15.0</td>\n",
       "      <td>54500.0</td>\n",
       "      <td>5</td>\n",
       "      <td>0</td>\n",
       "      <td>0</td>\n",
       "    </tr>\n",
       "    <tr>\n",
       "      <th>50117434</th>\n",
       "      <td>79604.0</td>\n",
       "      <td>285.289075</td>\n",
       "      <td>-517.196049</td>\n",
       "      <td>2821.0</td>\n",
       "      <td>175.0</td>\n",
       "      <td>228900.0</td>\n",
       "      <td>0</td>\n",
       "      <td>0</td>\n",
       "      <td>7</td>\n",
       "    </tr>\n",
       "    <tr>\n",
       "      <th>50117959</th>\n",
       "      <td>30087.0</td>\n",
       "      <td>122.371566</td>\n",
       "      <td>-221.827553</td>\n",
       "      <td>333.0</td>\n",
       "      <td>24.0</td>\n",
       "      <td>51000.0</td>\n",
       "      <td>3</td>\n",
       "      <td>0</td>\n",
       "      <td>0</td>\n",
       "    </tr>\n",
       "  </tbody>\n",
       "</table>\n",
       "<p>19792 rows × 9 columns</p>\n",
       "</div>"
      ],
      "text/plain": [
       "           ZIPCODE    Latitude   Longitude  Community Board  Council District  \\\n",
       "CAMIS                                                                           \n",
       "30075445   83696.0  326.785850 -590.847775           1688.0             104.0   \n",
       "30112340   56125.0  203.313258 -369.810407           1545.0             200.0   \n",
       "30191841   50095.0  203.836629 -369.921552            520.0              15.0   \n",
       "40356018   44896.0  162.319681 -295.928361           1252.0             188.0   \n",
       "40356483  101106.0  365.581004 -665.162905           2862.0             414.0   \n",
       "...            ...         ...         ...              ...               ...   \n",
       "50115169   10002.0   40.714841  -73.991700            103.0               1.0   \n",
       "50116155   33699.0  122.051758 -221.752145            948.0             123.0   \n",
       "50117350   50090.0  203.762660 -369.947575            525.0              15.0   \n",
       "50117434   79604.0  285.289075 -517.196049           2821.0             175.0   \n",
       "50117959   30087.0  122.371566 -221.827553            333.0              24.0   \n",
       "\n",
       "          Census Tract  A  B  C  \n",
       "CAMIS                            \n",
       "30075445      201600.0  1  7  0  \n",
       "30112340      163500.0  5  0  0  \n",
       "30191841       69500.0  5  0  0  \n",
       "40356018      139200.0  4  0  0  \n",
       "40356483      630000.0  5  4  0  \n",
       "...                ... .. .. ..  \n",
       "50115169        1600.0  1  0  0  \n",
       "50116155      111900.0  3  0  0  \n",
       "50117350       54500.0  5  0  0  \n",
       "50117434      228900.0  0  0  7  \n",
       "50117959       51000.0  3  0  0  \n",
       "\n",
       "[19792 rows x 9 columns]"
      ]
     },
     "execution_count": 52,
     "metadata": {},
     "output_type": "execute_result"
    }
   ],
   "source": [
    "doh_grades"
   ]
  },
  {
   "cell_type": "code",
   "execution_count": 44,
   "metadata": {
    "ExecuteTime": {
     "end_time": "2022-03-28T21:15:24.193049Z",
     "start_time": "2022-03-28T21:15:24.138405Z"
    }
   },
   "outputs": [
    {
     "data": {
      "text/html": [
       "<div>\n",
       "<style scoped>\n",
       "    .dataframe tbody tr th:only-of-type {\n",
       "        vertical-align: middle;\n",
       "    }\n",
       "\n",
       "    .dataframe tbody tr th {\n",
       "        vertical-align: top;\n",
       "    }\n",
       "\n",
       "    .dataframe thead th {\n",
       "        text-align: right;\n",
       "    }\n",
       "</style>\n",
       "<table border=\"1\" class=\"dataframe\">\n",
       "  <thead>\n",
       "    <tr style=\"text-align: right;\">\n",
       "      <th></th>\n",
       "      <th>ZIPCODE</th>\n",
       "      <th>Latitude</th>\n",
       "      <th>Longitude</th>\n",
       "      <th>Community Board</th>\n",
       "      <th>Council District</th>\n",
       "      <th>Census Tract</th>\n",
       "      <th>A</th>\n",
       "      <th>B</th>\n",
       "      <th>C</th>\n",
       "    </tr>\n",
       "    <tr>\n",
       "      <th>CAMIS</th>\n",
       "      <th></th>\n",
       "      <th></th>\n",
       "      <th></th>\n",
       "      <th></th>\n",
       "      <th></th>\n",
       "      <th></th>\n",
       "      <th></th>\n",
       "      <th></th>\n",
       "      <th></th>\n",
       "    </tr>\n",
       "  </thead>\n",
       "  <tbody>\n",
       "    <tr>\n",
       "      <th>30075445</th>\n",
       "      <td>83696.0</td>\n",
       "      <td>326.785850</td>\n",
       "      <td>-590.847775</td>\n",
       "      <td>1688.0</td>\n",
       "      <td>104.0</td>\n",
       "      <td>201600.0</td>\n",
       "      <td>1</td>\n",
       "      <td>7</td>\n",
       "      <td>0</td>\n",
       "    </tr>\n",
       "    <tr>\n",
       "      <th>40356483</th>\n",
       "      <td>101106.0</td>\n",
       "      <td>365.581004</td>\n",
       "      <td>-665.162905</td>\n",
       "      <td>2862.0</td>\n",
       "      <td>414.0</td>\n",
       "      <td>630000.0</td>\n",
       "      <td>5</td>\n",
       "      <td>4</td>\n",
       "      <td>0</td>\n",
       "    </tr>\n",
       "    <tr>\n",
       "      <th>40362264</th>\n",
       "      <td>70175.0</td>\n",
       "      <td>285.548344</td>\n",
       "      <td>-517.773967</td>\n",
       "      <td>749.0</td>\n",
       "      <td>42.0</td>\n",
       "      <td>126700.0</td>\n",
       "      <td>3</td>\n",
       "      <td>4</td>\n",
       "      <td>0</td>\n",
       "    </tr>\n",
       "    <tr>\n",
       "      <th>40362274</th>\n",
       "      <td>70084.0</td>\n",
       "      <td>285.080205</td>\n",
       "      <td>-517.982347</td>\n",
       "      <td>714.0</td>\n",
       "      <td>7.0</td>\n",
       "      <td>38507.0</td>\n",
       "      <td>1</td>\n",
       "      <td>6</td>\n",
       "      <td>0</td>\n",
       "    </tr>\n",
       "    <tr>\n",
       "      <th>40362715</th>\n",
       "      <td>230115.0</td>\n",
       "      <td>936.235858</td>\n",
       "      <td>-1702.198016</td>\n",
       "      <td>2323.0</td>\n",
       "      <td>23.0</td>\n",
       "      <td>16100.0</td>\n",
       "      <td>7</td>\n",
       "      <td>11</td>\n",
       "      <td>5</td>\n",
       "    </tr>\n",
       "    <tr>\n",
       "      <th>...</th>\n",
       "      <td>...</td>\n",
       "      <td>...</td>\n",
       "      <td>...</td>\n",
       "      <td>...</td>\n",
       "      <td>...</td>\n",
       "      <td>...</td>\n",
       "      <td>...</td>\n",
       "      <td>...</td>\n",
       "      <td>...</td>\n",
       "    </tr>\n",
       "    <tr>\n",
       "      <th>50111805</th>\n",
       "      <td>30042.0</td>\n",
       "      <td>122.195939</td>\n",
       "      <td>-222.011203</td>\n",
       "      <td>306.0</td>\n",
       "      <td>9.0</td>\n",
       "      <td>20100.0</td>\n",
       "      <td>0</td>\n",
       "      <td>3</td>\n",
       "      <td>0</td>\n",
       "    </tr>\n",
       "    <tr>\n",
       "      <th>50113198</th>\n",
       "      <td>40008.0</td>\n",
       "      <td>162.854183</td>\n",
       "      <td>-295.984590</td>\n",
       "      <td>412.0</td>\n",
       "      <td>4.0</td>\n",
       "      <td>3200.0</td>\n",
       "      <td>0</td>\n",
       "      <td>4</td>\n",
       "      <td>0</td>\n",
       "    </tr>\n",
       "    <tr>\n",
       "      <th>50113951</th>\n",
       "      <td>41820.0</td>\n",
       "      <td>163.249463</td>\n",
       "      <td>-295.613108</td>\n",
       "      <td>808.0</td>\n",
       "      <td>32.0</td>\n",
       "      <td>33200.0</td>\n",
       "      <td>0</td>\n",
       "      <td>4</td>\n",
       "      <td>0</td>\n",
       "    </tr>\n",
       "    <tr>\n",
       "      <th>50113984</th>\n",
       "      <td>30081.0</td>\n",
       "      <td>122.429129</td>\n",
       "      <td>-221.880270</td>\n",
       "      <td>327.0</td>\n",
       "      <td>21.0</td>\n",
       "      <td>60900.0</td>\n",
       "      <td>0</td>\n",
       "      <td>3</td>\n",
       "      <td>0</td>\n",
       "    </tr>\n",
       "    <tr>\n",
       "      <th>50114370</th>\n",
       "      <td>33639.0</td>\n",
       "      <td>121.993404</td>\n",
       "      <td>-221.794553</td>\n",
       "      <td>927.0</td>\n",
       "      <td>123.0</td>\n",
       "      <td>106500.0</td>\n",
       "      <td>0</td>\n",
       "      <td>3</td>\n",
       "      <td>0</td>\n",
       "    </tr>\n",
       "  </tbody>\n",
       "</table>\n",
       "<p>9978 rows × 9 columns</p>\n",
       "</div>"
      ],
      "text/plain": [
       "           ZIPCODE    Latitude    Longitude  Community Board  \\\n",
       "CAMIS                                                          \n",
       "30075445   83696.0  326.785850  -590.847775           1688.0   \n",
       "40356483  101106.0  365.581004  -665.162905           2862.0   \n",
       "40362264   70175.0  285.548344  -517.773967            749.0   \n",
       "40362274   70084.0  285.080205  -517.982347            714.0   \n",
       "40362715  230115.0  936.235858 -1702.198016           2323.0   \n",
       "...            ...         ...          ...              ...   \n",
       "50111805   30042.0  122.195939  -222.011203            306.0   \n",
       "50113198   40008.0  162.854183  -295.984590            412.0   \n",
       "50113951   41820.0  163.249463  -295.613108            808.0   \n",
       "50113984   30081.0  122.429129  -221.880270            327.0   \n",
       "50114370   33639.0  121.993404  -221.794553            927.0   \n",
       "\n",
       "          Council District  Census Tract  A   B  C  \n",
       "CAMIS                                               \n",
       "30075445             104.0      201600.0  1   7  0  \n",
       "40356483             414.0      630000.0  5   4  0  \n",
       "40362264              42.0      126700.0  3   4  0  \n",
       "40362274               7.0       38507.0  1   6  0  \n",
       "40362715              23.0       16100.0  7  11  5  \n",
       "...                    ...           ... ..  .. ..  \n",
       "50111805               9.0       20100.0  0   3  0  \n",
       "50113198               4.0        3200.0  0   4  0  \n",
       "50113951              32.0       33200.0  0   4  0  \n",
       "50113984              21.0       60900.0  0   3  0  \n",
       "50114370             123.0      106500.0  0   3  0  \n",
       "\n",
       "[9978 rows x 9 columns]"
      ]
     },
     "execution_count": 44,
     "metadata": {},
     "output_type": "execute_result"
    }
   ],
   "source": [
    "doh_grades[doh_grades['B'] > 0]"
   ]
  },
  {
   "cell_type": "markdown",
   "metadata": {},
   "source": [
    "Of the 19,792 unique restaurants, 9,978 failed an initial cycle inspection at least once."
   ]
  },
  {
   "cell_type": "code",
   "execution_count": 6,
   "metadata": {
    "ExecuteTime": {
     "end_time": "2022-03-26T00:43:37.144692Z",
     "start_time": "2022-03-26T00:43:36.443669Z"
    }
   },
   "outputs": [
    {
     "data": {
      "text/plain": [
       "11502"
      ]
     },
     "execution_count": 6,
     "metadata": {},
     "output_type": "execute_result"
    }
   ],
   "source": [
    "doh.duplicated().sum()"
   ]
  },
  {
   "cell_type": "code",
   "execution_count": 7,
   "metadata": {
    "ExecuteTime": {
     "end_time": "2022-03-26T00:43:38.596351Z",
     "start_time": "2022-03-26T00:43:37.979780Z"
    }
   },
   "outputs": [],
   "source": [
    "doh.drop_duplicates(inplace=True)"
   ]
  },
  {
   "cell_type": "code",
   "execution_count": 8,
   "metadata": {
    "ExecuteTime": {
     "end_time": "2022-03-26T00:43:39.535897Z",
     "start_time": "2022-03-26T00:43:39.526939Z"
    }
   },
   "outputs": [
    {
     "data": {
      "text/plain": [
       "(174725, 26)"
      ]
     },
     "execution_count": 8,
     "metadata": {},
     "output_type": "execute_result"
    }
   ],
   "source": [
    "doh.shape"
   ]
  },
  {
   "cell_type": "code",
   "execution_count": 10,
   "metadata": {
    "ExecuteTime": {
     "end_time": "2022-03-26T00:43:43.616308Z",
     "start_time": "2022-03-26T00:43:43.610145Z"
    }
   },
   "outputs": [
    {
     "data": {
      "text/plain": [
       "0"
      ]
     },
     "execution_count": 10,
     "metadata": {},
     "output_type": "execute_result"
    }
   ],
   "source": [
    "doh['SCORE'].isna().sum()"
   ]
  },
  {
   "cell_type": "code",
   "execution_count": 11,
   "metadata": {
    "ExecuteTime": {
     "end_time": "2022-03-26T00:43:44.952194Z",
     "start_time": "2022-03-26T00:43:44.318734Z"
    }
   },
   "outputs": [
    {
     "data": {
      "image/png": "[encoded data removed]",
      "text/plain": [
       "<Figure size 864x576 with 1 Axes>"
      ]
     },
     "metadata": {
      "needs_background": "light"
     },
     "output_type": "display_data"
    }
   ],
   "source": [
    "doh['SCORE'].hist(bins=113, figsize=(12,8));"
   ]
  },
  {
   "cell_type": "code",
   "execution_count": 12,
   "metadata": {
    "ExecuteTime": {
     "end_time": "2022-03-26T00:43:46.040149Z",
     "start_time": "2022-03-26T00:43:46.018190Z"
    }
   },
   "outputs": [
    {
     "data": {
      "text/plain": [
       "12     16135\n",
       "13     12562\n",
       "10      8629\n",
       "11      8408\n",
       "9       7904\n",
       "       ...  \n",
       "115        8\n",
       "109        8\n",
       "106        7\n",
       "103        7\n",
       "92         7\n",
       "Name: SCORE, Length: 113, dtype: int64"
      ]
     },
     "execution_count": 12,
     "metadata": {},
     "output_type": "execute_result"
    }
   ],
   "source": [
    "doh['SCORE'].value_counts()"
   ]
  },
  {
   "cell_type": "code",
   "execution_count": 13,
   "metadata": {
    "ExecuteTime": {
     "end_time": "2022-03-26T00:43:55.538283Z",
     "start_time": "2022-03-26T00:43:55.527840Z"
    }
   },
   "outputs": [
    {
     "data": {
      "text/plain": [
       "21.358569180140222"
      ]
     },
     "execution_count": 13,
     "metadata": {},
     "output_type": "execute_result"
    }
   ],
   "source": [
    "doh['SCORE'].mean()"
   ]
  },
  {
   "cell_type": "code",
   "execution_count": 14,
   "metadata": {
    "ExecuteTime": {
     "end_time": "2022-03-26T00:43:56.340926Z",
     "start_time": "2022-03-26T00:43:56.320324Z"
    }
   },
   "outputs": [
    {
     "data": {
      "text/plain": [
       "18.0"
      ]
     },
     "execution_count": 14,
     "metadata": {},
     "output_type": "execute_result"
    }
   ],
   "source": [
    "doh['SCORE'].median()"
   ]
  },
  {
   "cell_type": "code",
   "execution_count": 15,
   "metadata": {
    "ExecuteTime": {
     "end_time": "2022-03-26T00:43:57.150869Z",
     "start_time": "2022-03-26T00:43:57.134478Z"
    }
   },
   "outputs": [
    {
     "data": {
      "text/plain": [
       "0    12\n",
       "dtype: int64"
      ]
     },
     "execution_count": 15,
     "metadata": {},
     "output_type": "execute_result"
    }
   ],
   "source": [
    "doh['SCORE'].mode()"
   ]
  },
  {
   "cell_type": "code",
   "execution_count": 16,
   "metadata": {
    "ExecuteTime": {
     "end_time": "2022-03-26T00:43:59.815226Z",
     "start_time": "2022-03-26T00:43:59.794722Z"
    }
   },
   "outputs": [
    {
     "data": {
      "text/plain": [
       "112804"
      ]
     },
     "execution_count": 16,
     "metadata": {},
     "output_type": "execute_result"
    }
   ],
   "source": [
    "doh['GRADE'].isna().sum()"
   ]
  },
  {
   "cell_type": "code",
   "execution_count": 129,
   "metadata": {
    "ExecuteTime": {
     "end_time": "2022-03-25T18:42:20.540069Z",
     "start_time": "2022-03-25T18:42:20.473413Z"
    }
   },
   "outputs": [
    {
     "data": {
      "text/plain": [
       "A    61260\n",
       "N      650\n",
       "C        6\n",
       "Z        3\n",
       "B        2\n",
       "Name: GRADE, dtype: int64"
      ]
     },
     "execution_count": 129,
     "metadata": {},
     "output_type": "execute_result"
    }
   ],
   "source": [
    "doh['GRADE'].value_counts()"
   ]
  },
  {
   "cell_type": "code",
   "execution_count": 128,
   "metadata": {
    "ExecuteTime": {
     "end_time": "2022-03-25T18:30:39.271881Z",
     "start_time": "2022-03-25T18:30:39.033137Z"
    }
   },
   "outputs": [
    {
     "name": "stdout",
     "output_type": "stream",
     "text": [
      "<class 'pandas.core.frame.DataFrame'>\n",
      "Int64Index: 174725 entries, 0 to 186226\n",
      "Data columns (total 26 columns):\n",
      " #   Column                 Non-Null Count   Dtype  \n",
      "---  ------                 --------------   -----  \n",
      " 0   CAMIS                  174725 non-null  int64  \n",
      " 1   DBA                    174698 non-null  object \n",
      " 2   BORO                   174725 non-null  object \n",
      " 3   BUILDING               174320 non-null  object \n",
      " 4   STREET                 174725 non-null  object \n",
      " 5   ZIPCODE                171831 non-null  float64\n",
      " 6   PHONE                  174712 non-null  object \n",
      " 7   CUISINE DESCRIPTION    174724 non-null  object \n",
      " 8   INSPECTION DATE        174725 non-null  object \n",
      " 9   ACTION                 174725 non-null  object \n",
      " 10  VIOLATION CODE         173929 non-null  object \n",
      " 11  VIOLATION DESCRIPTION  174361 non-null  object \n",
      " 12  CRITICAL FLAG          174725 non-null  object \n",
      " 13  SCORE                  174725 non-null  int64  \n",
      " 14  GRADE                  61921 non-null   object \n",
      " 15  GRADE DATE             61271 non-null   object \n",
      " 16  RECORD DATE            174725 non-null  object \n",
      " 17  INSPECTION TYPE        174725 non-null  object \n",
      " 18  Latitude               174577 non-null  float64\n",
      " 19  Longitude              174577 non-null  float64\n",
      " 20  Community Board        171341 non-null  float64\n",
      " 21  Council District       171346 non-null  float64\n",
      " 22  Census Tract           171346 non-null  float64\n",
      " 23  BIN                    170573 non-null  float64\n",
      " 24  BBL                    174235 non-null  float64\n",
      " 25  NTA                    171341 non-null  object \n",
      "dtypes: float64(8), int64(2), object(16)\n",
      "memory usage: 36.0+ MB\n"
     ]
    }
   ],
   "source": [
    "doh.info()"
   ]
  },
  {
   "cell_type": "code",
   "execution_count": 141,
   "metadata": {
    "ExecuteTime": {
     "end_time": "2022-03-26T00:33:04.431419Z",
     "start_time": "2022-03-26T00:33:03.703544Z"
    }
   },
   "outputs": [],
   "source": [
    "doh['INSPECTION DATE'] =  pd.to_datetime(doh['INSPECTION DATE'])"
   ]
  },
  {
   "cell_type": "code",
   "execution_count": 1,
   "metadata": {
    "ExecuteTime": {
     "end_time": "2022-03-26T00:42:54.549470Z",
     "start_time": "2022-03-26T00:42:54.522854Z"
    }
   },
   "outputs": [],
   "source": [
    "# doh.pivot(columns=['CAMIS','INSPECTION DATE'],values='SCORE')"
   ]
  },
  {
   "cell_type": "code",
   "execution_count": null,
   "metadata": {},
   "outputs": [],
   "source": []
  },
  {
   "cell_type": "markdown",
   "metadata": {},
   "source": [
    "The New York Health Department inspects the approximately 27,000 restaurants within the city to monitor their compliance with food safety regulations. Inspectors observe how food is prepared, served and stored and whether restaurant workers are practicing good hygiene. They check food temperatures, equipment maintenance and pest control measures."
   ]
  },
  {
   "cell_type": "markdown",
   "metadata": {},
   "source": [
    "Calling API"
   ]
  },
  {
   "cell_type": "code",
   "execution_count": 6,
   "metadata": {
    "ExecuteTime": {
     "end_time": "2022-03-24T23:11:25.954376Z",
     "start_time": "2022-03-24T23:10:57.399537Z"
    },
    "collapsed": true
   },
   "outputs": [
    {
     "data": {
      "text/html": [
       "<div>\n",
       "<style scoped>\n",
       "    .dataframe tbody tr th:only-of-type {\n",
       "        vertical-align: middle;\n",
       "    }\n",
       "\n",
       "    .dataframe tbody tr th {\n",
       "        vertical-align: top;\n",
       "    }\n",
       "\n",
       "    .dataframe thead th {\n",
       "        text-align: right;\n",
       "    }\n",
       "</style>\n",
       "<table border=\"1\" class=\"dataframe\">\n",
       "  <thead>\n",
       "    <tr style=\"text-align: right;\">\n",
       "      <th></th>\n",
       "      <th>camis</th>\n",
       "      <th>dba</th>\n",
       "      <th>boro</th>\n",
       "      <th>building</th>\n",
       "      <th>street</th>\n",
       "      <th>zipcode</th>\n",
       "      <th>phone</th>\n",
       "      <th>cuisine_description</th>\n",
       "      <th>inspection_date</th>\n",
       "      <th>action</th>\n",
       "      <th>violation_code</th>\n",
       "      <th>violation_description</th>\n",
       "      <th>critical_flag</th>\n",
       "      <th>score</th>\n",
       "      <th>record_date</th>\n",
       "      <th>inspection_type</th>\n",
       "      <th>latitude</th>\n",
       "      <th>longitude</th>\n",
       "      <th>community_board</th>\n",
       "      <th>council_district</th>\n",
       "      <th>census_tract</th>\n",
       "      <th>bin</th>\n",
       "      <th>bbl</th>\n",
       "      <th>nta</th>\n",
       "      <th>grade</th>\n",
       "      <th>grade_date</th>\n",
       "    </tr>\n",
       "  </thead>\n",
       "  <tbody>\n",
       "    <tr>\n",
       "      <th>0</th>\n",
       "      <td>50008319</td>\n",
       "      <td>POULETTE</td>\n",
       "      <td>Manhattan</td>\n",
       "      <td>790</td>\n",
       "      <td>9 AVENUE</td>\n",
       "      <td>10019</td>\n",
       "      <td>2129569488</td>\n",
       "      <td>Chicken</td>\n",
       "      <td>2019-01-28T00:00:00.000</td>\n",
       "      <td>Violations were cited in the following area(s).</td>\n",
       "      <td>04D</td>\n",
       "      <td>Food worker does not wash hands thoroughly after using the toilet, coughing, sneezing, smoking, ...</td>\n",
       "      <td>Critical</td>\n",
       "      <td>22</td>\n",
       "      <td>2022-03-24T06:00:41.000</td>\n",
       "      <td>Cycle Inspection / Initial Inspection</td>\n",
       "      <td>40.765039752379</td>\n",
       "      <td>-73.987794608853</td>\n",
       "      <td>104</td>\n",
       "      <td>03</td>\n",
       "      <td>013300</td>\n",
       "      <td>1025235</td>\n",
       "      <td>1010430004</td>\n",
       "      <td>MN15</td>\n",
       "      <td>NaN</td>\n",
       "      <td>NaN</td>\n",
       "    </tr>\n",
       "    <tr>\n",
       "      <th>1</th>\n",
       "      <td>50100420</td>\n",
       "      <td>SOHO DINER</td>\n",
       "      <td>Manhattan</td>\n",
       "      <td>320</td>\n",
       "      <td>WEST BROADWAY</td>\n",
       "      <td>10013</td>\n",
       "      <td>2129653091</td>\n",
       "      <td>American</td>\n",
       "      <td>2020-01-02T00:00:00.000</td>\n",
       "      <td>Violations were cited in the following area(s).</td>\n",
       "      <td>10B</td>\n",
       "      <td>Plumbing not properly installed or maintained; anti-siphonage or backflow prevention device not ...</td>\n",
       "      <td>Not Critical</td>\n",
       "      <td>33</td>\n",
       "      <td>2022-03-24T06:00:41.000</td>\n",
       "      <td>Pre-permit (Operational) / Initial Inspection</td>\n",
       "      <td>40.721906385162</td>\n",
       "      <td>-74.004177657535</td>\n",
       "      <td>102</td>\n",
       "      <td>01</td>\n",
       "      <td>004700</td>\n",
       "      <td>1087764</td>\n",
       "      <td>1002270028</td>\n",
       "      <td>MN24</td>\n",
       "      <td>NaN</td>\n",
       "      <td>NaN</td>\n",
       "    </tr>\n",
       "    <tr>\n",
       "      <th>2</th>\n",
       "      <td>41678734</td>\n",
       "      <td>TINY'S DINER</td>\n",
       "      <td>Bronx</td>\n",
       "      <td>3603</td>\n",
       "      <td>RIVERDALE AVENUE</td>\n",
       "      <td>10463</td>\n",
       "      <td>7187087600</td>\n",
       "      <td>American</td>\n",
       "      <td>2019-09-23T00:00:00.000</td>\n",
       "      <td>Violations were cited in the following area(s).</td>\n",
       "      <td>04M</td>\n",
       "      <td>Live roaches present in facility's food and/or non-food areas.</td>\n",
       "      <td>Critical</td>\n",
       "      <td>24</td>\n",
       "      <td>2022-03-24T06:00:41.000</td>\n",
       "      <td>Cycle Inspection / Initial Inspection</td>\n",
       "      <td>40.886690890724</td>\n",
       "      <td>-73.90705631532</td>\n",
       "      <td>208</td>\n",
       "      <td>11</td>\n",
       "      <td>029500</td>\n",
       "      <td>2084186</td>\n",
       "      <td>2057960167</td>\n",
       "      <td>BX29</td>\n",
       "      <td>NaN</td>\n",
       "      <td>NaN</td>\n",
       "    </tr>\n",
       "    <tr>\n",
       "      <th>3</th>\n",
       "      <td>40795021</td>\n",
       "      <td>TAO RESTAURANT</td>\n",
       "      <td>Manhattan</td>\n",
       "      <td>42</td>\n",
       "      <td>EAST   58 STREET</td>\n",
       "      <td>10022</td>\n",
       "      <td>2128882288</td>\n",
       "      <td>Asian/Asian Fusion</td>\n",
       "      <td>2020-03-11T00:00:00.000</td>\n",
       "      <td>Violations were cited in the following area(s).</td>\n",
       "      <td>10F</td>\n",
       "      <td>Non-food contact surface improperly constructed. Unacceptable material used. Non-food contact su...</td>\n",
       "      <td>Not Critical</td>\n",
       "      <td>9</td>\n",
       "      <td>2022-03-24T06:00:41.000</td>\n",
       "      <td>Cycle Inspection / Initial Inspection</td>\n",
       "      <td>40.762786157862</td>\n",
       "      <td>-73.971485622185</td>\n",
       "      <td>105</td>\n",
       "      <td>04</td>\n",
       "      <td>011202</td>\n",
       "      <td>1036073</td>\n",
       "      <td>1012930047</td>\n",
       "      <td>MN17</td>\n",
       "      <td>NaN</td>\n",
       "      <td>NaN</td>\n",
       "    </tr>\n",
       "    <tr>\n",
       "      <th>4</th>\n",
       "      <td>40795021</td>\n",
       "      <td>TAO RESTAURANT</td>\n",
       "      <td>Manhattan</td>\n",
       "      <td>42</td>\n",
       "      <td>EAST   58 STREET</td>\n",
       "      <td>10022</td>\n",
       "      <td>2128882288</td>\n",
       "      <td>Asian/Asian Fusion</td>\n",
       "      <td>2020-03-11T00:00:00.000</td>\n",
       "      <td>Violations were cited in the following area(s).</td>\n",
       "      <td>10F</td>\n",
       "      <td>Non-food contact surface improperly constructed. Unacceptable material used. Non-food contact su...</td>\n",
       "      <td>Not Critical</td>\n",
       "      <td>9</td>\n",
       "      <td>2022-03-24T06:00:41.000</td>\n",
       "      <td>Cycle Inspection / Initial Inspection</td>\n",
       "      <td>40.762786157862</td>\n",
       "      <td>-73.971485622185</td>\n",
       "      <td>105</td>\n",
       "      <td>04</td>\n",
       "      <td>011202</td>\n",
       "      <td>1036073</td>\n",
       "      <td>1012930047</td>\n",
       "      <td>MN17</td>\n",
       "      <td>NaN</td>\n",
       "      <td>NaN</td>\n",
       "    </tr>\n",
       "    <tr>\n",
       "      <th>...</th>\n",
       "      <td>...</td>\n",
       "      <td>...</td>\n",
       "      <td>...</td>\n",
       "      <td>...</td>\n",
       "      <td>...</td>\n",
       "      <td>...</td>\n",
       "      <td>...</td>\n",
       "      <td>...</td>\n",
       "      <td>...</td>\n",
       "      <td>...</td>\n",
       "      <td>...</td>\n",
       "      <td>...</td>\n",
       "      <td>...</td>\n",
       "      <td>...</td>\n",
       "      <td>...</td>\n",
       "      <td>...</td>\n",
       "      <td>...</td>\n",
       "      <td>...</td>\n",
       "      <td>...</td>\n",
       "      <td>...</td>\n",
       "      <td>...</td>\n",
       "      <td>...</td>\n",
       "      <td>...</td>\n",
       "      <td>...</td>\n",
       "      <td>...</td>\n",
       "      <td>...</td>\n",
       "    </tr>\n",
       "    <tr>\n",
       "      <th>327807</th>\n",
       "      <td>41640824</td>\n",
       "      <td>RICURAS ECUADORIAN BAKERY</td>\n",
       "      <td>Bronx</td>\n",
       "      <td>1576</td>\n",
       "      <td>WATSON AVENUE</td>\n",
       "      <td>10472</td>\n",
       "      <td>7184508363</td>\n",
       "      <td>Spanish</td>\n",
       "      <td>2018-07-20T00:00:00.000</td>\n",
       "      <td>Violations were cited in the following area(s).</td>\n",
       "      <td>06F</td>\n",
       "      <td>Wiping cloths soiled or not stored in sanitizing solution.</td>\n",
       "      <td>Critical</td>\n",
       "      <td>12</td>\n",
       "      <td>2022-03-24T06:00:41.000</td>\n",
       "      <td>Cycle Inspection / Initial Inspection</td>\n",
       "      <td>40.826351628305</td>\n",
       "      <td>-73.876066230043</td>\n",
       "      <td>209</td>\n",
       "      <td>18</td>\n",
       "      <td>005001</td>\n",
       "      <td>2023533</td>\n",
       "      <td>2037160036</td>\n",
       "      <td>BX55</td>\n",
       "      <td>A</td>\n",
       "      <td>2018-07-20T00:00:00.000</td>\n",
       "    </tr>\n",
       "    <tr>\n",
       "      <th>327808</th>\n",
       "      <td>50072745</td>\n",
       "      <td>DEJA VU</td>\n",
       "      <td>Staten Island</td>\n",
       "      <td>297</td>\n",
       "      <td>PORT RICHMOND AVENUE</td>\n",
       "      <td>10302</td>\n",
       "      <td>9178567068</td>\n",
       "      <td>Mexican</td>\n",
       "      <td>2019-06-19T00:00:00.000</td>\n",
       "      <td>Violations were cited in the following area(s).</td>\n",
       "      <td>06A</td>\n",
       "      <td>Personal cleanliness inadequate. Outer garment soiled with possible contaminant. Effective hair ...</td>\n",
       "      <td>Critical</td>\n",
       "      <td>36</td>\n",
       "      <td>2022-03-24T06:00:41.000</td>\n",
       "      <td>Pre-permit (Operational) / Initial Inspection</td>\n",
       "      <td>40.634311468665</td>\n",
       "      <td>-74.135861634571</td>\n",
       "      <td>501</td>\n",
       "      <td>49</td>\n",
       "      <td>021300</td>\n",
       "      <td>5024271</td>\n",
       "      <td>5010370003</td>\n",
       "      <td>SI28</td>\n",
       "      <td>NaN</td>\n",
       "      <td>NaN</td>\n",
       "    </tr>\n",
       "    <tr>\n",
       "      <th>327809</th>\n",
       "      <td>50057694</td>\n",
       "      <td>CHEN'S BUFFET</td>\n",
       "      <td>Manhattan</td>\n",
       "      <td>62</td>\n",
       "      <td>WILLIAM STREET</td>\n",
       "      <td>10005</td>\n",
       "      <td>2127979477</td>\n",
       "      <td>Chinese</td>\n",
       "      <td>2017-11-03T00:00:00.000</td>\n",
       "      <td>Violations were cited in the following area(s).</td>\n",
       "      <td>10B</td>\n",
       "      <td>Plumbing not properly installed or maintained; anti-siphonage or backflow prevention device not ...</td>\n",
       "      <td>Not Critical</td>\n",
       "      <td>13</td>\n",
       "      <td>2022-03-24T06:00:41.000</td>\n",
       "      <td>Cycle Inspection / Re-inspection</td>\n",
       "      <td>40.707158481908</td>\n",
       "      <td>-74.008793494858</td>\n",
       "      <td>101</td>\n",
       "      <td>01</td>\n",
       "      <td>000700</td>\n",
       "      <td>1001013</td>\n",
       "      <td>1000410024</td>\n",
       "      <td>MN25</td>\n",
       "      <td>A</td>\n",
       "      <td>2017-11-03T00:00:00.000</td>\n",
       "    </tr>\n",
       "    <tr>\n",
       "      <th>327810</th>\n",
       "      <td>41450971</td>\n",
       "      <td>GIOVANNI'S RESTAURANT</td>\n",
       "      <td>Bronx</td>\n",
       "      <td>3209</td>\n",
       "      <td>WESTCHESTER AVENUE</td>\n",
       "      <td>10461</td>\n",
       "      <td>7188924340</td>\n",
       "      <td>Pizza</td>\n",
       "      <td>2017-06-21T00:00:00.000</td>\n",
       "      <td>Violations were cited in the following area(s).</td>\n",
       "      <td>06D</td>\n",
       "      <td>Food contact surface not properly washed, rinsed and sanitized after each use and following any ...</td>\n",
       "      <td>Critical</td>\n",
       "      <td>16</td>\n",
       "      <td>2022-03-24T06:00:41.000</td>\n",
       "      <td>Cycle Inspection / Initial Inspection</td>\n",
       "      <td>40.851760514849</td>\n",
       "      <td>-73.829569495633</td>\n",
       "      <td>210</td>\n",
       "      <td>13</td>\n",
       "      <td>030000</td>\n",
       "      <td>2047655</td>\n",
       "      <td>2042450020</td>\n",
       "      <td>BX10</td>\n",
       "      <td>NaN</td>\n",
       "      <td>NaN</td>\n",
       "    </tr>\n",
       "    <tr>\n",
       "      <th>327811</th>\n",
       "      <td>50104980</td>\n",
       "      <td>5 STAR PIZZA</td>\n",
       "      <td>Bronx</td>\n",
       "      <td>295</td>\n",
       "      <td>EAST GUN HILL ROAD</td>\n",
       "      <td>10467</td>\n",
       "      <td>3478437342</td>\n",
       "      <td>Pizza</td>\n",
       "      <td>2021-08-30T00:00:00.000</td>\n",
       "      <td>Violations were cited in the following area(s).</td>\n",
       "      <td>08A</td>\n",
       "      <td>Facility not vermin proof. Harborage or conditions conducive to attracting vermin to the premise...</td>\n",
       "      <td>Not Critical</td>\n",
       "      <td>28</td>\n",
       "      <td>2022-03-24T06:00:41.000</td>\n",
       "      <td>Pre-permit (Operational) / Initial Inspection</td>\n",
       "      <td>40.879186211627</td>\n",
       "      <td>-73.874622131045</td>\n",
       "      <td>207</td>\n",
       "      <td>11</td>\n",
       "      <td>043100</td>\n",
       "      <td>2018623</td>\n",
       "      <td>2033560001</td>\n",
       "      <td>BX43</td>\n",
       "      <td>NaN</td>\n",
       "      <td>NaN</td>\n",
       "    </tr>\n",
       "  </tbody>\n",
       "</table>\n",
       "<p>327812 rows × 26 columns</p>\n",
       "</div>"
      ],
      "text/plain": [
       "           camis                        dba           boro building  \\\n",
       "0       50008319                   POULETTE      Manhattan      790   \n",
       "1       50100420                 SOHO DINER      Manhattan      320   \n",
       "2       41678734               TINY'S DINER          Bronx     3603   \n",
       "3       40795021             TAO RESTAURANT      Manhattan       42   \n",
       "4       40795021             TAO RESTAURANT      Manhattan       42   \n",
       "...          ...                        ...            ...      ...   \n",
       "327807  41640824  RICURAS ECUADORIAN BAKERY          Bronx     1576   \n",
       "327808  50072745                    DEJA VU  Staten Island      297   \n",
       "327809  50057694              CHEN'S BUFFET      Manhattan       62   \n",
       "327810  41450971      GIOVANNI'S RESTAURANT          Bronx     3209   \n",
       "327811  50104980               5 STAR PIZZA          Bronx      295   \n",
       "\n",
       "                      street zipcode       phone cuisine_description  \\\n",
       "0                   9 AVENUE   10019  2129569488             Chicken   \n",
       "1              WEST BROADWAY   10013  2129653091            American   \n",
       "2           RIVERDALE AVENUE   10463  7187087600            American   \n",
       "3           EAST   58 STREET   10022  2128882288  Asian/Asian Fusion   \n",
       "4           EAST   58 STREET   10022  2128882288  Asian/Asian Fusion   \n",
       "...                      ...     ...         ...                 ...   \n",
       "327807         WATSON AVENUE   10472  7184508363             Spanish   \n",
       "327808  PORT RICHMOND AVENUE   10302  9178567068             Mexican   \n",
       "327809        WILLIAM STREET   10005  2127979477             Chinese   \n",
       "327810    WESTCHESTER AVENUE   10461  7188924340               Pizza   \n",
       "327811    EAST GUN HILL ROAD   10467  3478437342               Pizza   \n",
       "\n",
       "                inspection_date  \\\n",
       "0       2019-01-28T00:00:00.000   \n",
       "1       2020-01-02T00:00:00.000   \n",
       "2       2019-09-23T00:00:00.000   \n",
       "3       2020-03-11T00:00:00.000   \n",
       "4       2020-03-11T00:00:00.000   \n",
       "...                         ...   \n",
       "327807  2018-07-20T00:00:00.000   \n",
       "327808  2019-06-19T00:00:00.000   \n",
       "327809  2017-11-03T00:00:00.000   \n",
       "327810  2017-06-21T00:00:00.000   \n",
       "327811  2021-08-30T00:00:00.000   \n",
       "\n",
       "                                                 action violation_code  \\\n",
       "0       Violations were cited in the following area(s).            04D   \n",
       "1       Violations were cited in the following area(s).            10B   \n",
       "2       Violations were cited in the following area(s).            04M   \n",
       "3       Violations were cited in the following area(s).            10F   \n",
       "4       Violations were cited in the following area(s).            10F   \n",
       "...                                                 ...            ...   \n",
       "327807  Violations were cited in the following area(s).            06F   \n",
       "327808  Violations were cited in the following area(s).            06A   \n",
       "327809  Violations were cited in the following area(s).            10B   \n",
       "327810  Violations were cited in the following area(s).            06D   \n",
       "327811  Violations were cited in the following area(s).            08A   \n",
       "\n",
       "                                                                                      violation_description  \\\n",
       "0       Food worker does not wash hands thoroughly after using the toilet, coughing, sneezing, smoking, ...   \n",
       "1       Plumbing not properly installed or maintained; anti-siphonage or backflow prevention device not ...   \n",
       "2                                            Live roaches present in facility's food and/or non-food areas.   \n",
       "3       Non-food contact surface improperly constructed. Unacceptable material used. Non-food contact su...   \n",
       "4       Non-food contact surface improperly constructed. Unacceptable material used. Non-food contact su...   \n",
       "...                                                                                                     ...   \n",
       "327807                                           Wiping cloths soiled or not stored in sanitizing solution.   \n",
       "327808  Personal cleanliness inadequate. Outer garment soiled with possible contaminant. Effective hair ...   \n",
       "327809  Plumbing not properly installed or maintained; anti-siphonage or backflow prevention device not ...   \n",
       "327810  Food contact surface not properly washed, rinsed and sanitized after each use and following any ...   \n",
       "327811  Facility not vermin proof. Harborage or conditions conducive to attracting vermin to the premise...   \n",
       "\n",
       "       critical_flag score              record_date  \\\n",
       "0           Critical    22  2022-03-24T06:00:41.000   \n",
       "1       Not Critical    33  2022-03-24T06:00:41.000   \n",
       "2           Critical    24  2022-03-24T06:00:41.000   \n",
       "3       Not Critical     9  2022-03-24T06:00:41.000   \n",
       "4       Not Critical     9  2022-03-24T06:00:41.000   \n",
       "...              ...   ...                      ...   \n",
       "327807      Critical    12  2022-03-24T06:00:41.000   \n",
       "327808      Critical    36  2022-03-24T06:00:41.000   \n",
       "327809  Not Critical    13  2022-03-24T06:00:41.000   \n",
       "327810      Critical    16  2022-03-24T06:00:41.000   \n",
       "327811  Not Critical    28  2022-03-24T06:00:41.000   \n",
       "\n",
       "                                      inspection_type         latitude  \\\n",
       "0               Cycle Inspection / Initial Inspection  40.765039752379   \n",
       "1       Pre-permit (Operational) / Initial Inspection  40.721906385162   \n",
       "2               Cycle Inspection / Initial Inspection  40.886690890724   \n",
       "3               Cycle Inspection / Initial Inspection  40.762786157862   \n",
       "4               Cycle Inspection / Initial Inspection  40.762786157862   \n",
       "...                                               ...              ...   \n",
       "327807          Cycle Inspection / Initial Inspection  40.826351628305   \n",
       "327808  Pre-permit (Operational) / Initial Inspection  40.634311468665   \n",
       "327809               Cycle Inspection / Re-inspection  40.707158481908   \n",
       "327810          Cycle Inspection / Initial Inspection  40.851760514849   \n",
       "327811  Pre-permit (Operational) / Initial Inspection  40.879186211627   \n",
       "\n",
       "               longitude community_board council_district census_tract  \\\n",
       "0       -73.987794608853             104               03       013300   \n",
       "1       -74.004177657535             102               01       004700   \n",
       "2        -73.90705631532             208               11       029500   \n",
       "3       -73.971485622185             105               04       011202   \n",
       "4       -73.971485622185             105               04       011202   \n",
       "...                  ...             ...              ...          ...   \n",
       "327807  -73.876066230043             209               18       005001   \n",
       "327808  -74.135861634571             501               49       021300   \n",
       "327809  -74.008793494858             101               01       000700   \n",
       "327810  -73.829569495633             210               13       030000   \n",
       "327811  -73.874622131045             207               11       043100   \n",
       "\n",
       "            bin         bbl   nta grade               grade_date  \n",
       "0       1025235  1010430004  MN15   NaN                      NaN  \n",
       "1       1087764  1002270028  MN24   NaN                      NaN  \n",
       "2       2084186  2057960167  BX29   NaN                      NaN  \n",
       "3       1036073  1012930047  MN17   NaN                      NaN  \n",
       "4       1036073  1012930047  MN17   NaN                      NaN  \n",
       "...         ...         ...   ...   ...                      ...  \n",
       "327807  2023533  2037160036  BX55     A  2018-07-20T00:00:00.000  \n",
       "327808  5024271  5010370003  SI28   NaN                      NaN  \n",
       "327809  1001013  1000410024  MN25     A  2017-11-03T00:00:00.000  \n",
       "327810  2047655  2042450020  BX10   NaN                      NaN  \n",
       "327811  2018623  2033560001  BX43   NaN                      NaN  \n",
       "\n",
       "[327812 rows x 26 columns]"
      ]
     },
     "execution_count": 6,
     "metadata": {},
     "output_type": "execute_result"
    }
   ],
   "source": [
    "# url = 'https://data.cityofnewyork.us/resource/43nn-pn8j.json?$limit=400000'\n",
    "# nyc_response = requests.get(url)\n",
    "# nyc_response.ok\n",
    "# nyc_data = nyc_response.json()\n",
    "# nyc_data\n",
    "# pd.DataFrame(nyc_data)"
   ]
  },
  {
   "cell_type": "code",
   "execution_count": 5,
   "metadata": {
    "ExecuteTime": {
     "end_time": "2022-03-24T23:10:57.396492Z",
     "start_time": "2022-03-24T23:09:17.096308Z"
    }
   },
   "outputs": [],
   "source": [
    "# dohmh_df = pd.read_csv('https://data.cityofnewyork.us/resource/43nn-pn8j.csv?$limit=400000')"
   ]
  },
  {
   "cell_type": "code",
   "execution_count": 106,
   "metadata": {
    "ExecuteTime": {
     "end_time": "2022-03-25T16:51:41.595774Z",
     "start_time": "2022-03-25T16:51:40.363098Z"
    }
   },
   "outputs": [
    {
     "data": {
      "text/plain": [
       "<AxesSubplot:>"
      ]
     },
     "execution_count": 106,
     "metadata": {},
     "output_type": "execute_result"
    },
    {
     "data": {
      "image/png": "[encoded data removed]",
      "text/plain": [
       "<Figure size 864x576 with 1 Axes>"
      ]
     },
     "metadata": {
      "needs_background": "light"
     },
     "output_type": "display_data"
    }
   ],
   "source": [
    "dohmh_df['score'].hist(bins='auto', figsize=(12,8));"
   ]
  },
  {
   "cell_type": "code",
   "execution_count": null,
   "metadata": {
    "ExecuteTime": {
     "end_time": "2022-03-23T14:15:24.838006Z",
     "start_time": "2022-03-23T14:15:23.353483Z"
    },
    "scrolled": true
   },
   "outputs": [],
   "source": [
    "# # Take a look at duplicated records\n",
    "# duplicates = df1.duplicated(subset=['camis'], keep=False)\n",
    "# df1.loc[duplicates.loc[duplicates==True].index].sort_values(by='camis')"
   ]
  },
  {
   "cell_type": "code",
   "execution_count": null,
   "metadata": {
    "ExecuteTime": {
     "end_time": "2022-03-21T23:11:43.399873Z",
     "start_time": "2022-03-21T23:11:42.924387Z"
    }
   },
   "outputs": [],
   "source": [
    "# # Unauthenticated client only works with public data sets. Note 'None'\n",
    "# # in place of application token, and no username or password:\n",
    "# client = Socrata(\"data.cityofnewyork.us\", None)\n",
    "\n",
    "\n",
    "\n",
    "# # Example authenticated client (needed for non-public datasets):\n",
    "# client = Socrata(data.cityofnewyork.us,\n",
    "#                  MyAppToken,\n",
    "#                  userame=\"user@example.com\",\n",
    "#                  password=\"AFakePassword\")\n",
    "\n",
    "# # First 2000 results, returned as JSON from API / converted to Python list of\n",
    "# # dictionaries by sodapy.\n",
    "# results = client.get(\"43nn-pn8j\", limit=2000)\n",
    "\n",
    "# # Convert to pandas DataFrame\n",
    "# dohmh_df = pd.DataFrame.from_records(results)"
   ]
  },
  {
   "cell_type": "markdown",
   "metadata": {},
   "source": [
    "## Yelp API"
   ]
  },
  {
   "cell_type": "code",
   "execution_count": 3,
   "metadata": {
    "ExecuteTime": {
     "end_time": "2022-04-05T22:38:44.891007Z",
     "start_time": "2022-04-05T22:38:44.884802Z"
    }
   },
   "outputs": [],
   "source": [
    "with open('/Users/Rob/.secret/yelp_api.json') as f:\n",
    "    creds = json.load(f)"
   ]
  },
  {
   "cell_type": "code",
   "execution_count": 4,
   "metadata": {
    "ExecuteTime": {
     "end_time": "2022-04-05T22:38:45.885782Z",
     "start_time": "2022-04-05T22:38:45.874964Z"
    }
   },
   "outputs": [
    {
     "data": {
      "text/plain": [
       "dict_keys(['api_key'])"
      ]
     },
     "execution_count": 4,
     "metadata": {},
     "output_type": "execute_result"
    }
   ],
   "source": [
    "creds.keys()"
   ]
  },
  {
   "cell_type": "code",
   "execution_count": 18,
   "metadata": {
    "ExecuteTime": {
     "end_time": "2022-04-06T20:02:36.614430Z",
     "start_time": "2022-04-06T20:02:36.596166Z"
    }
   },
   "outputs": [],
   "source": [
    "#Business Search      \n",
    "url = 'https://api.yelp.com/v3/businesses/search'\n",
    "\n",
    "#Business Match       \n",
    "# url = 'https://api.yelp.com/v3/businesses/matches'\n",
    "\n",
    "#Phone Search         \n",
    "# url = 'https://api.yelp.com/v3/businesses/search/phone'\n",
    "\n",
    "#Business Details     \n",
    "# url = 'https://api.yelp.com/v3/businesses/{id}'\n",
    "\n",
    "#Business Reviews     \n",
    "# url = 'https://api.yelp.com/v3/businesses/{id}/reviews'"
   ]
  },
  {
   "cell_type": "code",
   "execution_count": 52,
   "metadata": {
    "ExecuteTime": {
     "end_time": "2022-04-06T21:09:52.563306Z",
     "start_time": "2022-04-06T21:09:51.624464Z"
    }
   },
   "outputs": [
    {
     "name": "stdout",
     "output_type": "stream",
     "text": [
      "200\n"
     ]
    }
   ],
   "source": [
    "#Business Search  \n",
    "headers = {\n",
    "    'Authorization': 'Bearer ' + creds['api_key']\n",
    "          }\n",
    "location = 'New York NY'\n",
    "SEARCH_LIMIT = 50\n",
    "\n",
    "url_params = {\n",
    "    'limit': SEARCH_LIMIT,\n",
    "    'location' : location.replace(' ','+'),\n",
    "    'offset': 0\n",
    "             }\n",
    "\n",
    "\n",
    "response = requests.get(url, headers=headers, params=url_params)\n",
    "print(response.status_code)"
   ]
  },
  {
   "cell_type": "code",
   "execution_count": 53,
   "metadata": {
    "ExecuteTime": {
     "end_time": "2022-04-06T21:10:28.630353Z",
     "start_time": "2022-04-06T21:10:28.620995Z"
    }
   },
   "outputs": [
    {
     "data": {
      "text/plain": [
       "dict_keys(['businesses', 'total', 'region'])"
      ]
     },
     "execution_count": 53,
     "metadata": {},
     "output_type": "execute_result"
    }
   ],
   "source": [
    "response_json = response.json()\n",
    "# View the keys\n",
    "response_json.keys()"
   ]
  },
  {
   "cell_type": "code",
   "execution_count": 39,
   "metadata": {
    "ExecuteTime": {
     "end_time": "2022-04-06T20:57:21.066217Z",
     "start_time": "2022-04-06T20:57:21.056906Z"
    }
   },
   "outputs": [],
   "source": [
    "# Functionize the Yelp API call\n",
    "def get_results(location, SEARCH_LIMIT=50,offset=0,\n",
    "                url='https://api.yelp.com/v3/businesses/search',\n",
    "                cred=None,fpath='/Users/Rob/.secret/yelp_api.json'):\n",
    "    \n",
    "    \n",
    "    if cred is None:\n",
    "    \n",
    "        with open(fpath) as f:\n",
    "            cred = json.load(f)\n",
    "\n",
    "    headers = {\n",
    "        'Authorization': 'Bearer ' + cred['api_key']\n",
    "    }\n",
    "\n",
    "    url_params = {\n",
    "        'location' : location,\n",
    "        'limit': SEARCH_LIMIT,\n",
    "        'offset': offset\n",
    "    }\n",
    "\n",
    "\n",
    "    response = requests.get(url, headers=headers, params=url_params)\n",
    "    return response.json()"
   ]
  },
  {
   "cell_type": "code",
   "execution_count": 40,
   "metadata": {
    "ExecuteTime": {
     "end_time": "2022-04-06T20:57:22.583485Z",
     "start_time": "2022-04-06T20:57:21.807696Z"
    }
   },
   "outputs": [],
   "source": [
    "response = get_results('New York NY')"
   ]
  },
  {
   "cell_type": "code",
   "execution_count": 41,
   "metadata": {
    "ExecuteTime": {
     "end_time": "2022-04-06T20:57:22.598134Z",
     "start_time": "2022-04-06T20:57:22.588151Z"
    }
   },
   "outputs": [
    {
     "data": {
      "text/plain": [
       "25800"
      ]
     },
     "execution_count": 41,
     "metadata": {},
     "output_type": "execute_result"
    }
   ],
   "source": [
    "response['total']"
   ]
  },
  {
   "cell_type": "code",
   "execution_count": 42,
   "metadata": {
    "ExecuteTime": {
     "end_time": "2022-04-06T20:57:23.442458Z",
     "start_time": "2022-04-06T20:57:23.438508Z"
    }
   },
   "outputs": [],
   "source": [
    "total = response['total']"
   ]
  },
  {
   "cell_type": "markdown",
   "metadata": {},
   "source": [
    "Yelp has information for 25,800 businesses in NYC."
   ]
  },
  {
   "cell_type": "code",
   "execution_count": 54,
   "metadata": {
    "ExecuteTime": {
     "end_time": "2022-04-06T21:10:38.061272Z",
     "start_time": "2022-04-06T21:10:38.050719Z"
    }
   },
   "outputs": [
    {
     "data": {
      "text/plain": [
       "[{'id': 'H4jJ7XB3CetIr1pg56CczQ',\n",
       "  'alias': 'levain-bakery-new-york',\n",
       "  'name': 'Levain Bakery',\n",
       "  'image_url': 'https://s3-media3.fl.yelpcdn.com/bphoto/hCp7TJqo1m_rGPkvso4dxw/o.jpg',\n",
       "  'is_closed': False,\n",
       "  'url': 'https://www.yelp.com/biz/levain-bakery-new-york?adjust_creative=82uXkAt1Tiw7u9_h33zr1A&utm_campaign=yelp_api_v3&utm_medium=api_v3_business_search&utm_source=82uXkAt1Tiw7u9_h33zr1A',\n",
       "  'review_count': 8783,\n",
       "  'categories': [{'alias': 'bakeries', 'title': 'Bakeries'}],\n",
       "  'rating': 4.5,\n",
       "  'coordinates': {'latitude': 40.779961, 'longitude': -73.980299},\n",
       "  'transactions': [],\n",
       "  'price': '$$',\n",
       "  'location': {'address1': '167 W 74th St',\n",
       "   'address2': '',\n",
       "   'address3': '',\n",
       "   'city': 'New York',\n",
       "   'zip_code': '10023',\n",
       "   'country': 'US',\n",
       "   'state': 'NY',\n",
       "   'display_address': ['167 W 74th St', 'New York, NY 10023']},\n",
       "  'phone': '+19174643769',\n",
       "  'display_phone': '(917) 464-3769',\n",
       "  'distance': 8369.262424680568},\n",
       " {'id': 'V7lXZKBDzScDeGB8JmnzSA',\n",
       "  'alias': 'katzs-delicatessen-new-york',\n",
       "  'name': \"Katz's Delicatessen\",\n",
       "  'image_url': 'https://s3-media4.fl.yelpcdn.com/bphoto/7Yn37rOW4VQDI396jPPoyA/o.jpg',\n",
       "  'is_closed': False,\n",
       "  'url': 'https://www.yelp.com/biz/katzs-delicatessen-new-york?adjust_creative=82uXkAt1Tiw7u9_h33zr1A&utm_campaign=yelp_api_v3&utm_medium=api_v3_business_search&utm_source=82uXkAt1Tiw7u9_h33zr1A',\n",
       "  'review_count': 13435,\n",
       "  'categories': [{'alias': 'delis', 'title': 'Delis'},\n",
       "   {'alias': 'sandwiches', 'title': 'Sandwiches'},\n",
       "   {'alias': 'soup', 'title': 'Soup'}],\n",
       "  'rating': 4.0,\n",
       "  'coordinates': {'latitude': 40.722237, 'longitude': -73.9875259},\n",
       "  'transactions': ['pickup', 'delivery'],\n",
       "  'price': '$$',\n",
       "  'location': {'address1': '205 E Houston St',\n",
       "   'address2': '',\n",
       "   'address3': '',\n",
       "   'city': 'New York',\n",
       "   'zip_code': '10002',\n",
       "   'country': 'US',\n",
       "   'state': 'NY',\n",
       "   'display_address': ['205 E Houston St', 'New York, NY 10002']},\n",
       "  'phone': '+12122542246',\n",
       "  'display_phone': '(212) 254-2246',\n",
       "  'distance': 1952.3706239726876}]"
      ]
     },
     "execution_count": 54,
     "metadata": {},
     "output_type": "execute_result"
    }
   ],
   "source": [
    "# Retrieve the value from response_json\n",
    "businesses = response_json[\"businesses\"]\n",
    "\n",
    "# View the first 2 records\n",
    "businesses[:2]"
   ]
  },
  {
   "cell_type": "code",
   "execution_count": 55,
   "metadata": {
    "ExecuteTime": {
     "end_time": "2022-04-06T21:10:42.746234Z",
     "start_time": "2022-04-06T21:10:42.728669Z"
    }
   },
   "outputs": [
    {
     "data": {
      "text/plain": [
       "[{'name': 'Levain Bakery',\n",
       "  'review_count': 8783,\n",
       "  'rating': 4.5,\n",
       "  'price': '$$',\n",
       "  'latitude': 40.779961,\n",
       "  'longitude': -73.980299},\n",
       " {'name': \"Katz's Delicatessen\",\n",
       "  'review_count': 13435,\n",
       "  'rating': 4.0,\n",
       "  'price': '$$',\n",
       "  'latitude': 40.722237,\n",
       "  'longitude': -73.9875259},\n",
       " {'name': 'Ippudo NY',\n",
       "  'review_count': 10211,\n",
       "  'rating': 4.0,\n",
       "  'price': '$$',\n",
       "  'latitude': 40.73092,\n",
       "  'longitude': -73.99015},\n",
       " {'name': 'The Halal Guys',\n",
       "  'review_count': 9804,\n",
       "  'rating': 4.0,\n",
       "  'price': '$',\n",
       "  'latitude': 40.761861,\n",
       "  'longitude': -73.979306},\n",
       " {'name': 'Los Tacos No.1',\n",
       "  'review_count': 3333,\n",
       "  'rating': 4.5,\n",
       "  'price': '$',\n",
       "  'latitude': 40.7425547,\n",
       "  'longitude': -74.0060838}]"
      ]
     },
     "execution_count": 55,
     "metadata": {},
     "output_type": "execute_result"
    }
   ],
   "source": [
    "def prepare_data(data_list):\n",
    "    \"\"\"\n",
    "    This function takes in a list of dictionaries and prepares it\n",
    "    for analysis\n",
    "    \"\"\"\n",
    "    \n",
    "    # Make a new list to hold results\n",
    "    results = []\n",
    "    \n",
    "    for business_data in data_list:\n",
    "    \n",
    "        # Make a new dictionary to hold prepared data for this business\n",
    "        prepared_data = {}\n",
    "        \n",
    "        # Extract name, review_count, rating, and price key-value pairs\n",
    "        # from business_data and add to prepared_data\n",
    "        # If a key is not present in business_data, add it to prepared_data\n",
    "        # with an associated value of None\n",
    "        for key in (\"name\", \"review_count\", \"rating\", \"price\"):\n",
    "            prepared_data[key] = business_data.get(key, None)\n",
    "    \n",
    "        # Parse and add latitude and longitude columns\n",
    "        coordinates = business_data[\"coordinates\"]\n",
    "        prepared_data[\"latitude\"] = coordinates[\"latitude\"]\n",
    "        prepared_data[\"longitude\"] = coordinates[\"longitude\"]\n",
    "        \n",
    "        # Add to list if all values are present\n",
    "        if all(prepared_data.values()):\n",
    "            results.append(prepared_data)\n",
    "    \n",
    "    return results\n",
    "    \n",
    "# Test out function\n",
    "prepared_businesses = prepare_data(businesses)\n",
    "prepared_businesses[:5]"
   ]
  },
  {
   "cell_type": "markdown",
   "metadata": {},
   "source": [
    "### Loop Through Pagination"
   ]
  },
  {
   "cell_type": "code",
   "execution_count": 43,
   "metadata": {
    "ExecuteTime": {
     "end_time": "2022-04-06T20:59:13.829586Z",
     "start_time": "2022-04-06T20:59:13.824532Z"
    }
   },
   "outputs": [],
   "source": [
    "def get_offsets(total):\n",
    "    \"\"\"\n",
    "    Get a list of offsets needed to get all pages\n",
    "    of data up until the total\n",
    "    \"\"\"\n",
    "    return list(range(0, total, 50))"
   ]
  },
  {
   "cell_type": "code",
   "execution_count": 49,
   "metadata": {
    "ExecuteTime": {
     "end_time": "2022-04-06T21:04:30.453526Z",
     "start_time": "2022-04-06T21:04:30.446242Z"
    }
   },
   "outputs": [
    {
     "data": {
      "text/plain": [
       "{'limit': 50, 'location': 'New+York+NY', 'offset': 0}"
      ]
     },
     "execution_count": 49,
     "metadata": {},
     "output_type": "execute_result"
    }
   ],
   "source": [
    "url_params"
   ]
  },
  {
   "cell_type": "code",
   "execution_count": 60,
   "metadata": {
    "ExecuteTime": {
     "end_time": "2022-04-06T21:22:01.408482Z",
     "start_time": "2022-04-06T21:20:39.309439Z"
    }
   },
   "outputs": [
    {
     "ename": "KeyError",
     "evalue": "'businesses'",
     "output_type": "error",
     "traceback": [
      "\u001b[0;31m---------------------------------------------------------------------------\u001b[0m",
      "\u001b[0;31mKeyError\u001b[0m                                  Traceback (most recent call last)",
      "\u001b[0;32m<ipython-input-60-27d42197346b>\u001b[0m in \u001b[0;36m<module>\u001b[0;34m\u001b[0m\n\u001b[1;32m     11\u001b[0m     \u001b[0mresponse_json\u001b[0m \u001b[0;34m=\u001b[0m \u001b[0mresponse\u001b[0m\u001b[0;34m.\u001b[0m\u001b[0mjson\u001b[0m\u001b[0;34m(\u001b[0m\u001b[0;34m)\u001b[0m\u001b[0;34m\u001b[0m\u001b[0;34m\u001b[0m\u001b[0m\n\u001b[1;32m     12\u001b[0m \u001b[0;34m\u001b[0m\u001b[0m\n\u001b[0;32m---> 13\u001b[0;31m     \u001b[0mbusinesses\u001b[0m \u001b[0;34m=\u001b[0m \u001b[0mresponse_json\u001b[0m\u001b[0;34m[\u001b[0m\u001b[0;34m'businesses'\u001b[0m\u001b[0;34m]\u001b[0m\u001b[0;34m\u001b[0m\u001b[0;34m\u001b[0m\u001b[0m\n\u001b[0m\u001b[1;32m     14\u001b[0m \u001b[0;34m\u001b[0m\u001b[0m\n\u001b[1;32m     15\u001b[0m     \u001b[0mprepared_business\u001b[0m \u001b[0;34m=\u001b[0m \u001b[0mprepare_data\u001b[0m\u001b[0;34m(\u001b[0m\u001b[0mbusinesses\u001b[0m\u001b[0;34m)\u001b[0m\u001b[0;34m\u001b[0m\u001b[0;34m\u001b[0m\u001b[0m\n",
      "\u001b[0;31mKeyError\u001b[0m: 'businesses'"
     ]
    }
   ],
   "source": [
    "full_dataset = []\n",
    "\n",
    "for offset in get_offsets(total):\n",
    "    \n",
    "    url_params['offset'] = offset\n",
    "    \n",
    "    response = requests.get(url, headers=headers, params=url_params)\n",
    "    \n",
    "    time.sleep(3)\n",
    "    \n",
    "    response_json = response.json()\n",
    "    \n",
    "    businesses = response_json['businesses']\n",
    "    \n",
    "    prepared_business = prepare_data(businesses)\n",
    "    \n",
    "    full_dataset.extend(prepared_businesses)\n",
    "\n",
    "len(full_dataset)"
   ]
  },
  {
   "cell_type": "code",
   "execution_count": 35,
   "metadata": {
    "ExecuteTime": {
     "end_time": "2022-04-06T20:49:50.102491Z",
     "start_time": "2022-04-06T20:49:49.852994Z"
    }
   },
   "outputs": [
    {
     "ename": "KeyError",
     "evalue": "'businesses'",
     "output_type": "error",
     "traceback": [
      "\u001b[0;31m---------------------------------------------------------------------------\u001b[0m",
      "\u001b[0;31mKeyError\u001b[0m                                  Traceback (most recent call last)",
      "\u001b[0;32m<ipython-input-35-e0be553ba877>\u001b[0m in \u001b[0;36m<module>\u001b[0;34m\u001b[0m\n\u001b[1;32m      3\u001b[0m \u001b[0mresponse\u001b[0m \u001b[0;34m=\u001b[0m \u001b[0mget_results\u001b[0m\u001b[0;34m(\u001b[0m\u001b[0;34m'New York,NY'\u001b[0m\u001b[0;34m,\u001b[0m\u001b[0moffset\u001b[0m\u001b[0;34m=\u001b[0m\u001b[0moffset\u001b[0m\u001b[0;34m)\u001b[0m\u001b[0;34m\u001b[0m\u001b[0;34m\u001b[0m\u001b[0m\n\u001b[1;32m      4\u001b[0m \u001b[0;34m\u001b[0m\u001b[0m\n\u001b[0;32m----> 5\u001b[0;31m \u001b[0mn_per_page\u001b[0m \u001b[0;34m=\u001b[0m \u001b[0mlen\u001b[0m\u001b[0;34m(\u001b[0m\u001b[0mresponse\u001b[0m\u001b[0;34m[\u001b[0m\u001b[0;34m'businesses'\u001b[0m\u001b[0;34m]\u001b[0m\u001b[0;34m)\u001b[0m\u001b[0;34m\u001b[0m\u001b[0;34m\u001b[0m\u001b[0m\n\u001b[0m\u001b[1;32m      6\u001b[0m \u001b[0mtotal_result\u001b[0m \u001b[0;34m=\u001b[0m \u001b[0mresponse\u001b[0m\u001b[0;34m[\u001b[0m\u001b[0;34m'total'\u001b[0m\u001b[0;34m]\u001b[0m\u001b[0;34m\u001b[0m\u001b[0;34m\u001b[0m\u001b[0m\n\u001b[1;32m      7\u001b[0m \u001b[0;34m\u001b[0m\u001b[0m\n",
      "\u001b[0;31mKeyError\u001b[0m: 'businesses'"
     ]
    }
   ],
   "source": [
    "# Loop to retrieve all the results from the original request for all NYC businesses\n",
    "offset=1000\n",
    "response = get_results('New York,NY',offset=offset)\n",
    "\n",
    "n_per_page = len(response['businesses'])\n",
    "total_result = response['total']\n",
    "\n",
    "results = response['businesses']\n",
    "\n",
    "while offset < total_result:\n",
    "    offset+=n_per_page\n",
    "    res = get_results('New York,NY',offset=offset)\n",
    "    results.extend(res['businesses'])\n",
    "results[:5]"
   ]
  },
  {
   "cell_type": "code",
   "execution_count": 36,
   "metadata": {
    "ExecuteTime": {
     "end_time": "2022-04-06T20:49:53.570860Z",
     "start_time": "2022-04-06T20:49:53.555324Z"
    }
   },
   "outputs": [
    {
     "data": {
      "text/plain": [
       "1000"
      ]
     },
     "execution_count": 36,
     "metadata": {},
     "output_type": "execute_result"
    }
   ],
   "source": [
    "len(results)"
   ]
  },
  {
   "cell_type": "code",
   "execution_count": 37,
   "metadata": {
    "ExecuteTime": {
     "end_time": "2022-04-06T20:50:05.545264Z",
     "start_time": "2022-04-06T20:50:05.352853Z"
    }
   },
   "outputs": [
    {
     "data": {
      "text/html": [
       "<div>\n",
       "<style scoped>\n",
       "    .dataframe tbody tr th:only-of-type {\n",
       "        vertical-align: middle;\n",
       "    }\n",
       "\n",
       "    .dataframe tbody tr th {\n",
       "        vertical-align: top;\n",
       "    }\n",
       "\n",
       "    .dataframe thead th {\n",
       "        text-align: right;\n",
       "    }\n",
       "</style>\n",
       "<table border=\"1\" class=\"dataframe\">\n",
       "  <thead>\n",
       "    <tr style=\"text-align: right;\">\n",
       "      <th></th>\n",
       "      <th>id</th>\n",
       "      <th>alias</th>\n",
       "      <th>name</th>\n",
       "      <th>image_url</th>\n",
       "      <th>is_closed</th>\n",
       "      <th>url</th>\n",
       "      <th>review_count</th>\n",
       "      <th>categories</th>\n",
       "      <th>rating</th>\n",
       "      <th>coordinates</th>\n",
       "      <th>transactions</th>\n",
       "      <th>price</th>\n",
       "      <th>location</th>\n",
       "      <th>phone</th>\n",
       "      <th>display_phone</th>\n",
       "      <th>distance</th>\n",
       "    </tr>\n",
       "  </thead>\n",
       "  <tbody>\n",
       "    <tr>\n",
       "      <th>0</th>\n",
       "      <td>H4jJ7XB3CetIr1pg56CczQ</td>\n",
       "      <td>levain-bakery-new-york</td>\n",
       "      <td>Levain Bakery</td>\n",
       "      <td>https://s3-media3.fl.yelpcdn.com/bphoto/hCp7TJqo1m_rGPkvso4dxw/o.jpg</td>\n",
       "      <td>False</td>\n",
       "      <td>https://www.yelp.com/biz/levain-bakery-new-york?adjust_creative=82uXkAt1Tiw7u9_h33zr1A&amp;utm_campa...</td>\n",
       "      <td>8783</td>\n",
       "      <td>[{'alias': 'bakeries', 'title': 'Bakeries'}]</td>\n",
       "      <td>4.5</td>\n",
       "      <td>{'latitude': 40.779961, 'longitude': -73.980299}</td>\n",
       "      <td>[]</td>\n",
       "      <td>$$</td>\n",
       "      <td>{'address1': '167 W 74th St', 'address2': '', 'address3': '', 'city': 'New York', 'zip_code': '1...</td>\n",
       "      <td>1.917464e+10</td>\n",
       "      <td>(917) 464-3769</td>\n",
       "      <td>8369.262425</td>\n",
       "    </tr>\n",
       "    <tr>\n",
       "      <th>1</th>\n",
       "      <td>V7lXZKBDzScDeGB8JmnzSA</td>\n",
       "      <td>katzs-delicatessen-new-york</td>\n",
       "      <td>Katz's Delicatessen</td>\n",
       "      <td>https://s3-media4.fl.yelpcdn.com/bphoto/7Yn37rOW4VQDI396jPPoyA/o.jpg</td>\n",
       "      <td>False</td>\n",
       "      <td>https://www.yelp.com/biz/katzs-delicatessen-new-york?adjust_creative=82uXkAt1Tiw7u9_h33zr1A&amp;utm_...</td>\n",
       "      <td>13435</td>\n",
       "      <td>[{'alias': 'delis', 'title': 'Delis'}, {'alias': 'sandwiches', 'title': 'Sandwiches'}, {'alias':...</td>\n",
       "      <td>4.0</td>\n",
       "      <td>{'latitude': 40.722237, 'longitude': -73.9875259}</td>\n",
       "      <td>['pickup', 'delivery']</td>\n",
       "      <td>$$</td>\n",
       "      <td>{'address1': '205 E Houston St', 'address2': '', 'address3': '', 'city': 'New York', 'zip_code':...</td>\n",
       "      <td>1.212254e+10</td>\n",
       "      <td>(212) 254-2246</td>\n",
       "      <td>1952.370624</td>\n",
       "    </tr>\n",
       "    <tr>\n",
       "      <th>2</th>\n",
       "      <td>44SY464xDHbvOcjDzRbKkQ</td>\n",
       "      <td>ippudo-ny-new-york-7</td>\n",
       "      <td>Ippudo NY</td>\n",
       "      <td>https://s3-media1.fl.yelpcdn.com/bphoto/zF3EgqHCk7zBUwD2B3WTEA/o.jpg</td>\n",
       "      <td>False</td>\n",
       "      <td>https://www.yelp.com/biz/ippudo-ny-new-york-7?adjust_creative=82uXkAt1Tiw7u9_h33zr1A&amp;utm_campaig...</td>\n",
       "      <td>10211</td>\n",
       "      <td>[{'alias': 'ramen', 'title': 'Ramen'}]</td>\n",
       "      <td>4.0</td>\n",
       "      <td>{'latitude': 40.73092, 'longitude': -73.99015}</td>\n",
       "      <td>['pickup', 'delivery']</td>\n",
       "      <td>$$</td>\n",
       "      <td>{'address1': '65 4th Ave', 'address2': '', 'address3': '', 'city': 'New York', 'zip_code': '1000...</td>\n",
       "      <td>1.212388e+10</td>\n",
       "      <td>(212) 388-0088</td>\n",
       "      <td>2854.301267</td>\n",
       "    </tr>\n",
       "    <tr>\n",
       "      <th>3</th>\n",
       "      <td>xEnNFXtMLDF5kZDxfaCJgA</td>\n",
       "      <td>the-halal-guys-new-york-2</td>\n",
       "      <td>The Halal Guys</td>\n",
       "      <td>https://s3-media2.fl.yelpcdn.com/bphoto/pqcdqGpzyurT2pSVA9G2kw/o.jpg</td>\n",
       "      <td>False</td>\n",
       "      <td>https://www.yelp.com/biz/the-halal-guys-new-york-2?adjust_creative=82uXkAt1Tiw7u9_h33zr1A&amp;utm_ca...</td>\n",
       "      <td>9804</td>\n",
       "      <td>[{'alias': 'foodstands', 'title': 'Food Stands'}, {'alias': 'mideastern', 'title': 'Middle Easte...</td>\n",
       "      <td>4.0</td>\n",
       "      <td>{'latitude': 40.761861, 'longitude': -73.979306}</td>\n",
       "      <td>['pickup', 'delivery']</td>\n",
       "      <td>$</td>\n",
       "      <td>{'address1': 'W 53rd Street And 6th Ave', 'address2': None, 'address3': '', 'city': 'New York', ...</td>\n",
       "      <td>1.347527e+10</td>\n",
       "      <td>(347) 527-1505</td>\n",
       "      <td>6399.019110</td>\n",
       "    </tr>\n",
       "    <tr>\n",
       "      <th>4</th>\n",
       "      <td>KFnr0CGsHQ2ABFHbLNtobQ</td>\n",
       "      <td>central-park-conservancy-new-york</td>\n",
       "      <td>Central Park Conservancy</td>\n",
       "      <td>https://s3-media2.fl.yelpcdn.com/bphoto/2QeE4ZRjzmUsNDnqXCGqfA/o.jpg</td>\n",
       "      <td>False</td>\n",
       "      <td>https://www.yelp.com/biz/central-park-conservancy-new-york?adjust_creative=82uXkAt1Tiw7u9_h33zr1...</td>\n",
       "      <td>2621</td>\n",
       "      <td>[{'alias': 'parks', 'title': 'Parks'}]</td>\n",
       "      <td>5.0</td>\n",
       "      <td>{'latitude': 40.764266, 'longitude': -73.971656}</td>\n",
       "      <td>[]</td>\n",
       "      <td>NaN</td>\n",
       "      <td>{'address1': '14 E 60th St', 'address2': '', 'address3': '', 'city': 'New York', 'zip_code': '10...</td>\n",
       "      <td>1.212311e+10</td>\n",
       "      <td>(212) 310-6600</td>\n",
       "      <td>6814.558070</td>\n",
       "    </tr>\n",
       "    <tr>\n",
       "      <th>...</th>\n",
       "      <td>...</td>\n",
       "      <td>...</td>\n",
       "      <td>...</td>\n",
       "      <td>...</td>\n",
       "      <td>...</td>\n",
       "      <td>...</td>\n",
       "      <td>...</td>\n",
       "      <td>...</td>\n",
       "      <td>...</td>\n",
       "      <td>...</td>\n",
       "      <td>...</td>\n",
       "      <td>...</td>\n",
       "      <td>...</td>\n",
       "      <td>...</td>\n",
       "      <td>...</td>\n",
       "      <td>...</td>\n",
       "    </tr>\n",
       "    <tr>\n",
       "      <th>995</th>\n",
       "      <td>XKWvRI7WI4LotDLUboUUGA</td>\n",
       "      <td>barney-greengrass-new-york</td>\n",
       "      <td>Barney Greengrass</td>\n",
       "      <td>https://s3-media3.fl.yelpcdn.com/bphoto/je84DKJxPdEQq9QFzS3eWw/o.jpg</td>\n",
       "      <td>False</td>\n",
       "      <td>https://www.yelp.com/biz/barney-greengrass-new-york?adjust_creative=82uXkAt1Tiw7u9_h33zr1A&amp;utm_c...</td>\n",
       "      <td>805</td>\n",
       "      <td>[{'alias': 'gourmet', 'title': 'Specialty Food'}, {'alias': 'delis', 'title': 'Delis'}, {'alias'...</td>\n",
       "      <td>4.0</td>\n",
       "      <td>{'latitude': 40.7879308300971, 'longitude': -73.9745054748688}</td>\n",
       "      <td>['pickup', 'delivery']</td>\n",
       "      <td>$$</td>\n",
       "      <td>{'address1': '541 Amsterdam Ave', 'address2': '', 'address3': '', 'city': 'New York', 'zip_code'...</td>\n",
       "      <td>1.212724e+10</td>\n",
       "      <td>(212) 724-4707</td>\n",
       "      <td>9322.258113</td>\n",
       "    </tr>\n",
       "    <tr>\n",
       "      <th>996</th>\n",
       "      <td>tRIHhPKryUZ56SfIz6mLiA</td>\n",
       "      <td>angelos-coal-oven-pizzeria-new-york</td>\n",
       "      <td>Angelo's Coal Oven Pizzeria</td>\n",
       "      <td>https://s3-media2.fl.yelpcdn.com/bphoto/LX6yLXzik0UVep_1JGG3aw/o.jpg</td>\n",
       "      <td>False</td>\n",
       "      <td>https://www.yelp.com/biz/angelos-coal-oven-pizzeria-new-york?adjust_creative=82uXkAt1Tiw7u9_h33z...</td>\n",
       "      <td>968</td>\n",
       "      <td>[{'alias': 'pizza', 'title': 'Pizza'}, {'alias': 'italian', 'title': 'Italian'}]</td>\n",
       "      <td>4.0</td>\n",
       "      <td>{'latitude': 40.76492, 'longitude': -73.97794}</td>\n",
       "      <td>['pickup', 'delivery']</td>\n",
       "      <td>$$</td>\n",
       "      <td>{'address1': '117 W 57th St', 'address2': '', 'address3': '', 'city': 'New York', 'zip_code': '1...</td>\n",
       "      <td>1.212333e+10</td>\n",
       "      <td>(212) 333-4333</td>\n",
       "      <td>6753.601099</td>\n",
       "    </tr>\n",
       "    <tr>\n",
       "      <th>997</th>\n",
       "      <td>844H9r0tRQZmxiEtjeTW0A</td>\n",
       "      <td>the-bar-room-new-york-5</td>\n",
       "      <td>The Bar Room</td>\n",
       "      <td>https://s3-media1.fl.yelpcdn.com/bphoto/3d7O-RWYyGuQ1fsTtnIGSw/o.jpg</td>\n",
       "      <td>False</td>\n",
       "      <td>https://www.yelp.com/biz/the-bar-room-new-york-5?adjust_creative=82uXkAt1Tiw7u9_h33zr1A&amp;utm_camp...</td>\n",
       "      <td>514</td>\n",
       "      <td>[{'alias': 'lounges', 'title': 'Lounges'}, {'alias': 'french', 'title': 'French'}, {'alias': 'ne...</td>\n",
       "      <td>4.0</td>\n",
       "      <td>{'latitude': 40.7610309319265, 'longitude': -73.9765593703613}</td>\n",
       "      <td>[]</td>\n",
       "      <td>$$$</td>\n",
       "      <td>{'address1': '9 W 53rd St', 'address2': '', 'address3': '', 'city': 'New York', 'zip_code': '100...</td>\n",
       "      <td>1.212333e+10</td>\n",
       "      <td>(212) 333-1220</td>\n",
       "      <td>6358.931913</td>\n",
       "    </tr>\n",
       "    <tr>\n",
       "      <th>998</th>\n",
       "      <td>VzHdgvEv9bx9RVrNbhsmQw</td>\n",
       "      <td>little-pie-company-new-york</td>\n",
       "      <td>Little Pie Company</td>\n",
       "      <td>https://s3-media3.fl.yelpcdn.com/bphoto/JoFmxJW6t6jIO1DsJ41lfQ/o.jpg</td>\n",
       "      <td>False</td>\n",
       "      <td>https://www.yelp.com/biz/little-pie-company-new-york?adjust_creative=82uXkAt1Tiw7u9_h33zr1A&amp;utm_...</td>\n",
       "      <td>758</td>\n",
       "      <td>[{'alias': 'bakeries', 'title': 'Bakeries'}, {'alias': 'desserts', 'title': 'Desserts'}]</td>\n",
       "      <td>4.0</td>\n",
       "      <td>{'latitude': 40.75949, 'longitude': -73.99332}</td>\n",
       "      <td>['pickup', 'delivery']</td>\n",
       "      <td>$$</td>\n",
       "      <td>{'address1': '424 W 43rd St', 'address2': None, 'address3': '', 'city': 'New York', 'zip_code': ...</td>\n",
       "      <td>1.212736e+10</td>\n",
       "      <td>(212) 736-4780</td>\n",
       "      <td>6006.524799</td>\n",
       "    </tr>\n",
       "    <tr>\n",
       "      <th>999</th>\n",
       "      <td>8SehQovJOuQDLbtzLLYLyw</td>\n",
       "      <td>rh-rooftop-restaurant-new-york-new-york-2</td>\n",
       "      <td>RH Rooftop Restaurant New York</td>\n",
       "      <td>https://s3-media3.fl.yelpcdn.com/bphoto/qNQTyRt8yeJ8q9Tzc2BBLA/o.jpg</td>\n",
       "      <td>False</td>\n",
       "      <td>https://www.yelp.com/biz/rh-rooftop-restaurant-new-york-new-york-2?adjust_creative=82uXkAt1Tiw7u...</td>\n",
       "      <td>556</td>\n",
       "      <td>[{'alias': 'tradamerican', 'title': 'American (Traditional)'}, {'alias': 'wine_bars', 'title': '...</td>\n",
       "      <td>4.0</td>\n",
       "      <td>{'latitude': 40.73985, 'longitude': -74.00639}</td>\n",
       "      <td>[]</td>\n",
       "      <td>$$$</td>\n",
       "      <td>{'address1': '9 9th Ave', 'address2': None, 'address3': '', 'city': 'New York', 'zip_code': '100...</td>\n",
       "      <td>1.212217e+10</td>\n",
       "      <td>(212) 217-2210</td>\n",
       "      <td>3959.164638</td>\n",
       "    </tr>\n",
       "  </tbody>\n",
       "</table>\n",
       "<p>1000 rows × 16 columns</p>\n",
       "</div>"
      ],
      "text/plain": [
       "                         id                                      alias  \\\n",
       "0    H4jJ7XB3CetIr1pg56CczQ                     levain-bakery-new-york   \n",
       "1    V7lXZKBDzScDeGB8JmnzSA                katzs-delicatessen-new-york   \n",
       "2    44SY464xDHbvOcjDzRbKkQ                       ippudo-ny-new-york-7   \n",
       "3    xEnNFXtMLDF5kZDxfaCJgA                  the-halal-guys-new-york-2   \n",
       "4    KFnr0CGsHQ2ABFHbLNtobQ          central-park-conservancy-new-york   \n",
       "..                      ...                                        ...   \n",
       "995  XKWvRI7WI4LotDLUboUUGA                 barney-greengrass-new-york   \n",
       "996  tRIHhPKryUZ56SfIz6mLiA        angelos-coal-oven-pizzeria-new-york   \n",
       "997  844H9r0tRQZmxiEtjeTW0A                    the-bar-room-new-york-5   \n",
       "998  VzHdgvEv9bx9RVrNbhsmQw                little-pie-company-new-york   \n",
       "999  8SehQovJOuQDLbtzLLYLyw  rh-rooftop-restaurant-new-york-new-york-2   \n",
       "\n",
       "                               name  \\\n",
       "0                     Levain Bakery   \n",
       "1               Katz's Delicatessen   \n",
       "2                         Ippudo NY   \n",
       "3                    The Halal Guys   \n",
       "4          Central Park Conservancy   \n",
       "..                              ...   \n",
       "995               Barney Greengrass   \n",
       "996     Angelo's Coal Oven Pizzeria   \n",
       "997                    The Bar Room   \n",
       "998              Little Pie Company   \n",
       "999  RH Rooftop Restaurant New York   \n",
       "\n",
       "                                                                image_url  \\\n",
       "0    https://s3-media3.fl.yelpcdn.com/bphoto/hCp7TJqo1m_rGPkvso4dxw/o.jpg   \n",
       "1    https://s3-media4.fl.yelpcdn.com/bphoto/7Yn37rOW4VQDI396jPPoyA/o.jpg   \n",
       "2    https://s3-media1.fl.yelpcdn.com/bphoto/zF3EgqHCk7zBUwD2B3WTEA/o.jpg   \n",
       "3    https://s3-media2.fl.yelpcdn.com/bphoto/pqcdqGpzyurT2pSVA9G2kw/o.jpg   \n",
       "4    https://s3-media2.fl.yelpcdn.com/bphoto/2QeE4ZRjzmUsNDnqXCGqfA/o.jpg   \n",
       "..                                                                    ...   \n",
       "995  https://s3-media3.fl.yelpcdn.com/bphoto/je84DKJxPdEQq9QFzS3eWw/o.jpg   \n",
       "996  https://s3-media2.fl.yelpcdn.com/bphoto/LX6yLXzik0UVep_1JGG3aw/o.jpg   \n",
       "997  https://s3-media1.fl.yelpcdn.com/bphoto/3d7O-RWYyGuQ1fsTtnIGSw/o.jpg   \n",
       "998  https://s3-media3.fl.yelpcdn.com/bphoto/JoFmxJW6t6jIO1DsJ41lfQ/o.jpg   \n",
       "999  https://s3-media3.fl.yelpcdn.com/bphoto/qNQTyRt8yeJ8q9Tzc2BBLA/o.jpg   \n",
       "\n",
       "     is_closed  \\\n",
       "0        False   \n",
       "1        False   \n",
       "2        False   \n",
       "3        False   \n",
       "4        False   \n",
       "..         ...   \n",
       "995      False   \n",
       "996      False   \n",
       "997      False   \n",
       "998      False   \n",
       "999      False   \n",
       "\n",
       "                                                                                                     url  \\\n",
       "0    https://www.yelp.com/biz/levain-bakery-new-york?adjust_creative=82uXkAt1Tiw7u9_h33zr1A&utm_campa...   \n",
       "1    https://www.yelp.com/biz/katzs-delicatessen-new-york?adjust_creative=82uXkAt1Tiw7u9_h33zr1A&utm_...   \n",
       "2    https://www.yelp.com/biz/ippudo-ny-new-york-7?adjust_creative=82uXkAt1Tiw7u9_h33zr1A&utm_campaig...   \n",
       "3    https://www.yelp.com/biz/the-halal-guys-new-york-2?adjust_creative=82uXkAt1Tiw7u9_h33zr1A&utm_ca...   \n",
       "4    https://www.yelp.com/biz/central-park-conservancy-new-york?adjust_creative=82uXkAt1Tiw7u9_h33zr1...   \n",
       "..                                                                                                   ...   \n",
       "995  https://www.yelp.com/biz/barney-greengrass-new-york?adjust_creative=82uXkAt1Tiw7u9_h33zr1A&utm_c...   \n",
       "996  https://www.yelp.com/biz/angelos-coal-oven-pizzeria-new-york?adjust_creative=82uXkAt1Tiw7u9_h33z...   \n",
       "997  https://www.yelp.com/biz/the-bar-room-new-york-5?adjust_creative=82uXkAt1Tiw7u9_h33zr1A&utm_camp...   \n",
       "998  https://www.yelp.com/biz/little-pie-company-new-york?adjust_creative=82uXkAt1Tiw7u9_h33zr1A&utm_...   \n",
       "999  https://www.yelp.com/biz/rh-rooftop-restaurant-new-york-new-york-2?adjust_creative=82uXkAt1Tiw7u...   \n",
       "\n",
       "     review_count  \\\n",
       "0            8783   \n",
       "1           13435   \n",
       "2           10211   \n",
       "3            9804   \n",
       "4            2621   \n",
       "..            ...   \n",
       "995           805   \n",
       "996           968   \n",
       "997           514   \n",
       "998           758   \n",
       "999           556   \n",
       "\n",
       "                                                                                              categories  \\\n",
       "0                                                           [{'alias': 'bakeries', 'title': 'Bakeries'}]   \n",
       "1    [{'alias': 'delis', 'title': 'Delis'}, {'alias': 'sandwiches', 'title': 'Sandwiches'}, {'alias':...   \n",
       "2                                                                 [{'alias': 'ramen', 'title': 'Ramen'}]   \n",
       "3    [{'alias': 'foodstands', 'title': 'Food Stands'}, {'alias': 'mideastern', 'title': 'Middle Easte...   \n",
       "4                                                                 [{'alias': 'parks', 'title': 'Parks'}]   \n",
       "..                                                                                                   ...   \n",
       "995  [{'alias': 'gourmet', 'title': 'Specialty Food'}, {'alias': 'delis', 'title': 'Delis'}, {'alias'...   \n",
       "996                     [{'alias': 'pizza', 'title': 'Pizza'}, {'alias': 'italian', 'title': 'Italian'}]   \n",
       "997  [{'alias': 'lounges', 'title': 'Lounges'}, {'alias': 'french', 'title': 'French'}, {'alias': 'ne...   \n",
       "998             [{'alias': 'bakeries', 'title': 'Bakeries'}, {'alias': 'desserts', 'title': 'Desserts'}]   \n",
       "999  [{'alias': 'tradamerican', 'title': 'American (Traditional)'}, {'alias': 'wine_bars', 'title': '...   \n",
       "\n",
       "     rating                                                     coordinates  \\\n",
       "0       4.5                {'latitude': 40.779961, 'longitude': -73.980299}   \n",
       "1       4.0               {'latitude': 40.722237, 'longitude': -73.9875259}   \n",
       "2       4.0                  {'latitude': 40.73092, 'longitude': -73.99015}   \n",
       "3       4.0                {'latitude': 40.761861, 'longitude': -73.979306}   \n",
       "4       5.0                {'latitude': 40.764266, 'longitude': -73.971656}   \n",
       "..      ...                                                             ...   \n",
       "995     4.0  {'latitude': 40.7879308300971, 'longitude': -73.9745054748688}   \n",
       "996     4.0                  {'latitude': 40.76492, 'longitude': -73.97794}   \n",
       "997     4.0  {'latitude': 40.7610309319265, 'longitude': -73.9765593703613}   \n",
       "998     4.0                  {'latitude': 40.75949, 'longitude': -73.99332}   \n",
       "999     4.0                  {'latitude': 40.73985, 'longitude': -74.00639}   \n",
       "\n",
       "               transactions price  \\\n",
       "0                        []    $$   \n",
       "1    ['pickup', 'delivery']    $$   \n",
       "2    ['pickup', 'delivery']    $$   \n",
       "3    ['pickup', 'delivery']     $   \n",
       "4                        []   NaN   \n",
       "..                      ...   ...   \n",
       "995  ['pickup', 'delivery']    $$   \n",
       "996  ['pickup', 'delivery']    $$   \n",
       "997                      []   $$$   \n",
       "998  ['pickup', 'delivery']    $$   \n",
       "999                      []   $$$   \n",
       "\n",
       "                                                                                                location  \\\n",
       "0    {'address1': '167 W 74th St', 'address2': '', 'address3': '', 'city': 'New York', 'zip_code': '1...   \n",
       "1    {'address1': '205 E Houston St', 'address2': '', 'address3': '', 'city': 'New York', 'zip_code':...   \n",
       "2    {'address1': '65 4th Ave', 'address2': '', 'address3': '', 'city': 'New York', 'zip_code': '1000...   \n",
       "3    {'address1': 'W 53rd Street And 6th Ave', 'address2': None, 'address3': '', 'city': 'New York', ...   \n",
       "4    {'address1': '14 E 60th St', 'address2': '', 'address3': '', 'city': 'New York', 'zip_code': '10...   \n",
       "..                                                                                                   ...   \n",
       "995  {'address1': '541 Amsterdam Ave', 'address2': '', 'address3': '', 'city': 'New York', 'zip_code'...   \n",
       "996  {'address1': '117 W 57th St', 'address2': '', 'address3': '', 'city': 'New York', 'zip_code': '1...   \n",
       "997  {'address1': '9 W 53rd St', 'address2': '', 'address3': '', 'city': 'New York', 'zip_code': '100...   \n",
       "998  {'address1': '424 W 43rd St', 'address2': None, 'address3': '', 'city': 'New York', 'zip_code': ...   \n",
       "999  {'address1': '9 9th Ave', 'address2': None, 'address3': '', 'city': 'New York', 'zip_code': '100...   \n",
       "\n",
       "            phone   display_phone     distance  \n",
       "0    1.917464e+10  (917) 464-3769  8369.262425  \n",
       "1    1.212254e+10  (212) 254-2246  1952.370624  \n",
       "2    1.212388e+10  (212) 388-0088  2854.301267  \n",
       "3    1.347527e+10  (347) 527-1505  6399.019110  \n",
       "4    1.212311e+10  (212) 310-6600  6814.558070  \n",
       "..            ...             ...          ...  \n",
       "995  1.212724e+10  (212) 724-4707  9322.258113  \n",
       "996  1.212333e+10  (212) 333-4333  6753.601099  \n",
       "997  1.212333e+10  (212) 333-1220  6358.931913  \n",
       "998  1.212736e+10  (212) 736-4780  6006.524799  \n",
       "999  1.212217e+10  (212) 217-2210  3959.164638  \n",
       "\n",
       "[1000 rows x 16 columns]"
      ]
     },
     "execution_count": 37,
     "metadata": {},
     "output_type": "execute_result"
    }
   ],
   "source": [
    "df = pd.DataFrame(results)\n",
    "df.to_csv('yelp_results2.csv',index=False)\n",
    "df = pd.read_csv('yelp_results2.csv')\n",
    "df"
   ]
  },
  {
   "cell_type": "code",
   "execution_count": null,
   "metadata": {
    "ExecuteTime": {
     "end_time": "2022-03-22T22:37:24.921979Z",
     "start_time": "2022-03-22T22:37:24.895779Z"
    }
   },
   "outputs": [],
   "source": [
    "# response.json().keys()"
   ]
  },
  {
   "cell_type": "code",
   "execution_count": null,
   "metadata": {
    "ExecuteTime": {
     "end_time": "2022-03-23T01:52:39.899435Z",
     "start_time": "2022-03-23T01:52:39.894942Z"
    }
   },
   "outputs": [],
   "source": [
    "# yelp_df = pd.DataFrame(response.json()['businesses'])\n",
    "# # yelp_df.head(3)"
   ]
  },
  {
   "cell_type": "code",
   "execution_count": null,
   "metadata": {
    "ExecuteTime": {
     "end_time": "2022-03-23T01:52:48.820508Z",
     "start_time": "2022-03-23T01:52:48.809218Z"
    }
   },
   "outputs": [],
   "source": [
    "# lat = []\n",
    "# long = []\n",
    "\n",
    "# for _,business in yelp_df.iterrows():\n",
    "#     lat.append(business['coordinates']['latitude'])\n",
    "#     long.append(business['coordinates']['longitude'])\n",
    "\n",
    "# yelp_df['lat'] = lat\n",
    "# yelp_df['long'] = long"
   ]
  },
  {
   "cell_type": "code",
   "execution_count": null,
   "metadata": {},
   "outputs": [],
   "source": []
  },
  {
   "cell_type": "markdown",
   "metadata": {},
   "source": [
    "# Data Understanding"
   ]
  },
  {
   "cell_type": "markdown",
   "metadata": {},
   "source": [
    "For this project there will be two sources and types of data used:\n",
    "\n",
    "* Historical health and hygiene inspections recorded by New York City Department of Health and Mental Hygiene (DOHMH) public health inspectors\n",
    "* User generated Yelp business ratings and reviews"
   ]
  },
  {
   "cell_type": "markdown",
   "metadata": {},
   "source": [
    "## Understanding NYC DOHMH Data"
   ]
  },
  {
   "cell_type": "markdown",
   "metadata": {},
   "source": [
    "This dataset contains over 330,000 records, let's explore its contents."
   ]
  },
  {
   "cell_type": "code",
   "execution_count": 25,
   "metadata": {
    "ExecuteTime": {
     "end_time": "2022-03-24T20:13:39.503467Z",
     "start_time": "2022-03-24T20:13:39.388312Z"
    }
   },
   "outputs": [],
   "source": [
    "dohmh_df['inspection_date'] =  pd.to_datetime(dohmh_inspections['inspection_date'])"
   ]
  },
  {
   "cell_type": "code",
   "execution_count": 26,
   "metadata": {
    "ExecuteTime": {
     "end_time": "2022-03-24T20:13:45.498607Z",
     "start_time": "2022-03-24T20:13:45.485185Z"
    }
   },
   "outputs": [
    {
     "data": {
      "text/plain": [
       "Timestamp('2009-05-16 14:26:00')"
      ]
     },
     "execution_count": 26,
     "metadata": {},
     "output_type": "execute_result"
    }
   ],
   "source": [
    "dohmh_df['inspection_date'].min()"
   ]
  },
  {
   "cell_type": "code",
   "execution_count": 27,
   "metadata": {
    "ExecuteTime": {
     "end_time": "2022-03-24T20:13:56.414351Z",
     "start_time": "2022-03-24T20:13:56.397701Z"
    }
   },
   "outputs": [
    {
     "data": {
      "text/plain": [
       "Timestamp('2022-03-23 00:00:00')"
      ]
     },
     "execution_count": 27,
     "metadata": {},
     "output_type": "execute_result"
    }
   ],
   "source": [
    "dohmh_df['inspection_date'].max()"
   ]
  },
  {
   "cell_type": "markdown",
   "metadata": {},
   "source": [
    "Inspections in this dataset range from May 2008 up to present day."
   ]
  },
  {
   "cell_type": "code",
   "execution_count": 30,
   "metadata": {
    "ExecuteTime": {
     "end_time": "2022-03-24T20:16:39.819970Z",
     "start_time": "2022-03-24T20:16:39.815805Z"
    }
   },
   "outputs": [],
   "source": [
    "# dohmh_df.set_index('inspection_date')"
   ]
  },
  {
   "cell_type": "code",
   "execution_count": 8,
   "metadata": {
    "ExecuteTime": {
     "end_time": "2022-03-24T20:06:23.107542Z",
     "start_time": "2022-03-24T20:06:23.039343Z"
    }
   },
   "outputs": [
    {
     "data": {
      "text/plain": [
       "Manhattan        128531\n",
       "Brooklyn          80711\n",
       "Queens            76067\n",
       "Bronx             32081\n",
       "Staten Island     10328\n",
       "0                    94\n",
       "Name: boro, dtype: int64"
      ]
     },
     "execution_count": 8,
     "metadata": {},
     "output_type": "execute_result"
    }
   ],
   "source": [
    "dohmh_df['boro'].value_counts()"
   ]
  },
  {
   "cell_type": "code",
   "execution_count": 9,
   "metadata": {
    "ExecuteTime": {
     "end_time": "2022-03-24T20:06:48.973901Z",
     "start_time": "2022-03-24T20:06:48.947792Z"
    }
   },
   "outputs": [
    {
     "data": {
      "text/plain": [
       "12.0     32619\n",
       "13.0     27258\n",
       "10.0     17650\n",
       "11.0     17018\n",
       "9.0      15522\n",
       "         ...  \n",
       "150.0        9\n",
       "109.0        8\n",
       "132.0        8\n",
       "136.0        7\n",
       "112.0        5\n",
       "Name: score, Length: 130, dtype: int64"
      ]
     },
     "execution_count": 9,
     "metadata": {},
     "output_type": "execute_result"
    }
   ],
   "source": [
    "dohmh_df['score'].value_counts()"
   ]
  },
  {
   "cell_type": "code",
   "execution_count": null,
   "metadata": {},
   "outputs": [],
   "source": []
  },
  {
   "cell_type": "code",
   "execution_count": 10,
   "metadata": {
    "ExecuteTime": {
     "end_time": "2022-03-24T20:06:52.338177Z",
     "start_time": "2022-03-24T20:06:52.329477Z"
    }
   },
   "outputs": [
    {
     "data": {
      "text/plain": [
       "15183"
      ]
     },
     "execution_count": 10,
     "metadata": {},
     "output_type": "execute_result"
    }
   ],
   "source": [
    "dohmh_df['score'].isna().sum()"
   ]
  },
  {
   "cell_type": "code",
   "execution_count": 11,
   "metadata": {
    "ExecuteTime": {
     "end_time": "2022-03-24T20:06:53.801108Z",
     "start_time": "2022-03-24T20:06:53.742457Z"
    }
   },
   "outputs": [
    {
     "data": {
      "text/plain": [
       "A    129112\n",
       "B     18953\n",
       "C      7804\n",
       "N      4394\n",
       "Z      3447\n",
       "P      1929\n",
       "G         1\n",
       "Name: grade, dtype: int64"
      ]
     },
     "execution_count": 11,
     "metadata": {},
     "output_type": "execute_result"
    }
   ],
   "source": [
    "dohmh_df['grade'].value_counts()"
   ]
  },
  {
   "cell_type": "code",
   "execution_count": 107,
   "metadata": {
    "ExecuteTime": {
     "end_time": "2022-03-25T18:08:16.344961Z",
     "start_time": "2022-03-25T18:08:16.232615Z"
    }
   },
   "outputs": [
    {
     "data": {
      "text/plain": [
       "A    0.779474\n",
       "B    0.114423\n",
       "C    0.047114\n",
       "N    0.026527\n",
       "Z    0.020810\n",
       "P    0.011646\n",
       "G    0.000006\n",
       "Name: grade, dtype: float64"
      ]
     },
     "execution_count": 107,
     "metadata": {},
     "output_type": "execute_result"
    }
   ],
   "source": [
    "dohmh_df['grade'].value_counts(normalize=True)"
   ]
  },
  {
   "cell_type": "code",
   "execution_count": 12,
   "metadata": {
    "ExecuteTime": {
     "end_time": "2022-03-24T20:06:55.741139Z",
     "start_time": "2022-03-24T20:06:55.706697Z"
    }
   },
   "outputs": [
    {
     "data": {
      "text/plain": [
       "162172"
      ]
     },
     "execution_count": 12,
     "metadata": {},
     "output_type": "execute_result"
    }
   ],
   "source": [
    "dohmh_df['grade'].isna().sum()"
   ]
  },
  {
   "cell_type": "code",
   "execution_count": 13,
   "metadata": {
    "ExecuteTime": {
     "end_time": "2022-03-24T20:07:21.888553Z",
     "start_time": "2022-03-24T20:07:21.831624Z"
    }
   },
   "outputs": [
    {
     "data": {
      "text/plain": [
       "Critical          172065\n",
       "Not Critical      150074\n",
       "Not Applicable      5673\n",
       "Name: critical_flag, dtype: int64"
      ]
     },
     "execution_count": 13,
     "metadata": {},
     "output_type": "execute_result"
    }
   ],
   "source": [
    "dohmh_df['critical_flag'].value_counts()"
   ]
  },
  {
   "cell_type": "markdown",
   "metadata": {},
   "source": [
    "Critical violations are those most likely to contribute to foodborne illness"
   ]
  },
  {
   "cell_type": "code",
   "execution_count": 14,
   "metadata": {
    "ExecuteTime": {
     "end_time": "2022-03-24T20:07:24.216744Z",
     "start_time": "2022-03-24T20:07:24.147788Z"
    }
   },
   "outputs": [
    {
     "data": {
      "text/plain": [
       "Critical          0.524889\n",
       "Not Critical      0.457805\n",
       "Not Applicable    0.017306\n",
       "Name: critical_flag, dtype: float64"
      ]
     },
     "execution_count": 14,
     "metadata": {},
     "output_type": "execute_result"
    }
   ],
   "source": [
    "dohmh_df['critical_flag'].value_counts(normalize=True)"
   ]
  },
  {
   "cell_type": "code",
   "execution_count": 15,
   "metadata": {
    "ExecuteTime": {
     "end_time": "2022-03-24T20:07:25.228707Z",
     "start_time": "2022-03-24T20:07:25.168956Z"
    }
   },
   "outputs": [
    {
     "data": {
      "text/plain": [
       "Cycle Inspection / Initial Inspection                          186227\n",
       "Cycle Inspection / Re-inspection                                71636\n",
       "Pre-permit (Operational) / Initial Inspection                   31948\n",
       "Pre-permit (Operational) / Re-inspection                        12584\n",
       "Administrative Miscellaneous / Initial Inspection                5855\n",
       "Cycle Inspection / Reopening Inspection                          3128\n",
       "Pre-permit (Non-operational) / Initial Inspection                2987\n",
       "Smoke-Free Air Act / Initial Inspection                          1440\n",
       "Administrative Miscellaneous / Re-inspection                     1404\n",
       "Pre-permit (Operational) / Compliance Inspection                 1193\n",
       "Pre-permit (Operational) / Reopening Inspection                  1089\n",
       "Trans Fat / Initial Inspection                                   1038\n",
       "Inter-Agency Task Force / Initial Inspection                      974\n",
       "Calorie Posting / Initial Inspection                              643\n",
       "Cycle Inspection / Compliance Inspection                          519\n",
       "Smoke-Free Air Act / Re-inspection                                310\n",
       "Pre-permit (Non-operational) / Re-inspection                      230\n",
       "Trans Fat / Re-inspection                                         214\n",
       "Calorie Posting / Re-inspection                                   108\n",
       "Pre-permit (Operational) / Second Compliance Inspection            82\n",
       "Administrative Miscellaneous / Compliance Inspection               79\n",
       "Administrative Miscellaneous / Reopening Inspection                56\n",
       "Smoke-Free Air Act / Limited Inspection                            31\n",
       "Pre-permit (Non-operational) / Compliance Inspection               24\n",
       "Trans Fat / Compliance Inspection                                  13\n",
       "Administrative Miscellaneous / Second Compliance Inspection         9\n",
       "Cycle Inspection / Second Compliance Inspection                     8\n",
       "Calorie Posting / Compliance Inspection                             8\n",
       "Smoke-Free Air Act / Compliance Inspection                          5\n",
       "Trans Fat / Second Compliance Inspection                            2\n",
       "Name: inspection_type, dtype: int64"
      ]
     },
     "execution_count": 15,
     "metadata": {},
     "output_type": "execute_result"
    }
   ],
   "source": [
    "dohmh_df['inspection_type'].value_counts()"
   ]
  },
  {
   "cell_type": "code",
   "execution_count": 12,
   "metadata": {
    "ExecuteTime": {
     "end_time": "2022-03-24T23:19:02.351760Z",
     "start_time": "2022-03-24T23:19:02.076866Z"
    }
   },
   "outputs": [],
   "source": [
    "dohmh_inspections = dohmh_df[(dohmh_df['inspection_type'] ==\n",
    "                              'Cycle Inspection / Initial Inspection') | (dohmh_df['inspection_type'] ==\n",
    "                              'Cycle Inspection / Re-inspection')]"
   ]
  },
  {
   "cell_type": "code",
   "execution_count": 13,
   "metadata": {
    "ExecuteTime": {
     "end_time": "2022-03-24T23:19:04.172448Z",
     "start_time": "2022-03-24T23:19:04.102283Z"
    }
   },
   "outputs": [
    {
     "data": {
      "text/plain": [
       "Critical          142171\n",
       "Not Critical      115284\n",
       "Not Applicable       408\n",
       "Name: critical_flag, dtype: int64"
      ]
     },
     "execution_count": 13,
     "metadata": {},
     "output_type": "execute_result"
    }
   ],
   "source": [
    "dohmh_inspections['critical_flag'].value_counts()"
   ]
  },
  {
   "cell_type": "code",
   "execution_count": 14,
   "metadata": {
    "ExecuteTime": {
     "end_time": "2022-03-25T13:45:01.843258Z",
     "start_time": "2022-03-25T13:45:00.880168Z"
    }
   },
   "outputs": [],
   "source": [
    "# Drop records with NA critical_flag\n",
    "\n",
    "dohmh_ohe = dohmh_inspections[dohmh_inspections['critical_flag'] != 'Not Applicable']"
   ]
  },
  {
   "cell_type": "code",
   "execution_count": 17,
   "metadata": {
    "ExecuteTime": {
     "end_time": "2022-03-25T13:45:33.328672Z",
     "start_time": "2022-03-25T13:45:33.035849Z"
    }
   },
   "outputs": [],
   "source": [
    "dohmh_ohe = pd.get_dummies(dohmh_inspections,columns=['critical_flag'])"
   ]
  },
  {
   "cell_type": "code",
   "execution_count": 18,
   "metadata": {
    "ExecuteTime": {
     "end_time": "2022-03-25T13:45:51.839949Z",
     "start_time": "2022-03-25T13:45:51.783181Z"
    }
   },
   "outputs": [
    {
     "data": {
      "text/html": [
       "<div>\n",
       "<style scoped>\n",
       "    .dataframe tbody tr th:only-of-type {\n",
       "        vertical-align: middle;\n",
       "    }\n",
       "\n",
       "    .dataframe tbody tr th {\n",
       "        vertical-align: top;\n",
       "    }\n",
       "\n",
       "    .dataframe thead th {\n",
       "        text-align: right;\n",
       "    }\n",
       "</style>\n",
       "<table border=\"1\" class=\"dataframe\">\n",
       "  <thead>\n",
       "    <tr style=\"text-align: right;\">\n",
       "      <th></th>\n",
       "      <th>camis</th>\n",
       "      <th>dba</th>\n",
       "      <th>boro</th>\n",
       "      <th>building</th>\n",
       "      <th>street</th>\n",
       "      <th>zipcode</th>\n",
       "      <th>phone</th>\n",
       "      <th>cuisine_description</th>\n",
       "      <th>inspection_date</th>\n",
       "      <th>action</th>\n",
       "      <th>violation_code</th>\n",
       "      <th>violation_description</th>\n",
       "      <th>score</th>\n",
       "      <th>grade</th>\n",
       "      <th>grade_date</th>\n",
       "      <th>record_date</th>\n",
       "      <th>inspection_type</th>\n",
       "      <th>latitude</th>\n",
       "      <th>longitude</th>\n",
       "      <th>community_board</th>\n",
       "      <th>council_district</th>\n",
       "      <th>census_tract</th>\n",
       "      <th>bin</th>\n",
       "      <th>bbl</th>\n",
       "      <th>nta</th>\n",
       "      <th>critical_flag_Critical</th>\n",
       "      <th>critical_flag_Not Applicable</th>\n",
       "      <th>critical_flag_Not Critical</th>\n",
       "    </tr>\n",
       "  </thead>\n",
       "  <tbody>\n",
       "    <tr>\n",
       "      <th>0</th>\n",
       "      <td>50008319</td>\n",
       "      <td>POULETTE</td>\n",
       "      <td>Manhattan</td>\n",
       "      <td>790</td>\n",
       "      <td>9 AVENUE</td>\n",
       "      <td>10019.0</td>\n",
       "      <td>2129569488</td>\n",
       "      <td>Chicken</td>\n",
       "      <td>2019-01-28T00:00:00.000</td>\n",
       "      <td>Violations were cited in the following area(s).</td>\n",
       "      <td>04D</td>\n",
       "      <td>Food worker does not wash hands thoroughly after using the toilet, coughing, sneezing, smoking, ...</td>\n",
       "      <td>22.0</td>\n",
       "      <td>NaN</td>\n",
       "      <td>NaN</td>\n",
       "      <td>2022-03-24T06:00:41.000</td>\n",
       "      <td>Cycle Inspection / Initial Inspection</td>\n",
       "      <td>40.765040</td>\n",
       "      <td>-73.987795</td>\n",
       "      <td>104.0</td>\n",
       "      <td>3.0</td>\n",
       "      <td>13300.0</td>\n",
       "      <td>1025235.0</td>\n",
       "      <td>1.010430e+09</td>\n",
       "      <td>MN15</td>\n",
       "      <td>1</td>\n",
       "      <td>0</td>\n",
       "      <td>0</td>\n",
       "    </tr>\n",
       "    <tr>\n",
       "      <th>2</th>\n",
       "      <td>41678734</td>\n",
       "      <td>TINY'S DINER</td>\n",
       "      <td>Bronx</td>\n",
       "      <td>3603</td>\n",
       "      <td>RIVERDALE AVENUE</td>\n",
       "      <td>10463.0</td>\n",
       "      <td>7187087600</td>\n",
       "      <td>American</td>\n",
       "      <td>2019-09-23T00:00:00.000</td>\n",
       "      <td>Violations were cited in the following area(s).</td>\n",
       "      <td>04M</td>\n",
       "      <td>Live roaches present in facility's food and/or non-food areas.</td>\n",
       "      <td>24.0</td>\n",
       "      <td>NaN</td>\n",
       "      <td>NaN</td>\n",
       "      <td>2022-03-24T06:00:41.000</td>\n",
       "      <td>Cycle Inspection / Initial Inspection</td>\n",
       "      <td>40.886691</td>\n",
       "      <td>-73.907056</td>\n",
       "      <td>208.0</td>\n",
       "      <td>11.0</td>\n",
       "      <td>29500.0</td>\n",
       "      <td>2084186.0</td>\n",
       "      <td>2.057960e+09</td>\n",
       "      <td>BX29</td>\n",
       "      <td>1</td>\n",
       "      <td>0</td>\n",
       "      <td>0</td>\n",
       "    </tr>\n",
       "  </tbody>\n",
       "</table>\n",
       "</div>"
      ],
      "text/plain": [
       "      camis           dba       boro building            street  zipcode  \\\n",
       "0  50008319      POULETTE  Manhattan      790          9 AVENUE  10019.0   \n",
       "2  41678734  TINY'S DINER      Bronx     3603  RIVERDALE AVENUE  10463.0   \n",
       "\n",
       "        phone cuisine_description          inspection_date  \\\n",
       "0  2129569488             Chicken  2019-01-28T00:00:00.000   \n",
       "2  7187087600            American  2019-09-23T00:00:00.000   \n",
       "\n",
       "                                            action violation_code  \\\n",
       "0  Violations were cited in the following area(s).            04D   \n",
       "2  Violations were cited in the following area(s).            04M   \n",
       "\n",
       "                                                                                 violation_description  \\\n",
       "0  Food worker does not wash hands thoroughly after using the toilet, coughing, sneezing, smoking, ...   \n",
       "2                                       Live roaches present in facility's food and/or non-food areas.   \n",
       "\n",
       "   score grade grade_date              record_date  \\\n",
       "0   22.0   NaN        NaN  2022-03-24T06:00:41.000   \n",
       "2   24.0   NaN        NaN  2022-03-24T06:00:41.000   \n",
       "\n",
       "                         inspection_type   latitude  longitude  \\\n",
       "0  Cycle Inspection / Initial Inspection  40.765040 -73.987795   \n",
       "2  Cycle Inspection / Initial Inspection  40.886691 -73.907056   \n",
       "\n",
       "   community_board  council_district  census_tract        bin           bbl  \\\n",
       "0            104.0               3.0       13300.0  1025235.0  1.010430e+09   \n",
       "2            208.0              11.0       29500.0  2084186.0  2.057960e+09   \n",
       "\n",
       "    nta  critical_flag_Critical  critical_flag_Not Applicable  \\\n",
       "0  MN15                       1                             0   \n",
       "2  BX29                       1                             0   \n",
       "\n",
       "   critical_flag_Not Critical  \n",
       "0                           0  \n",
       "2                           0  "
      ]
     },
     "execution_count": 18,
     "metadata": {},
     "output_type": "execute_result"
    }
   ],
   "source": [
    "dohmh_ohe.head(2)"
   ]
  },
  {
   "cell_type": "code",
   "execution_count": 99,
   "metadata": {
    "ExecuteTime": {
     "end_time": "2022-03-25T14:50:30.907183Z",
     "start_time": "2022-03-25T14:50:30.884584Z"
    }
   },
   "outputs": [],
   "source": [
    "critical_flags = dohmh_ohe.groupby(['camis'])['critical_flag_Critical'].count()"
   ]
  },
  {
   "cell_type": "code",
   "execution_count": 98,
   "metadata": {
    "ExecuteTime": {
     "end_time": "2022-03-25T14:50:23.875323Z",
     "start_time": "2022-03-25T14:50:23.860854Z"
    }
   },
   "outputs": [
    {
     "data": {
      "text/html": [
       "<div>\n",
       "<style scoped>\n",
       "    .dataframe tbody tr th:only-of-type {\n",
       "        vertical-align: middle;\n",
       "    }\n",
       "\n",
       "    .dataframe tbody tr th {\n",
       "        vertical-align: top;\n",
       "    }\n",
       "\n",
       "    .dataframe thead th {\n",
       "        text-align: right;\n",
       "    }\n",
       "</style>\n",
       "<table border=\"1\" class=\"dataframe\">\n",
       "  <thead>\n",
       "    <tr style=\"text-align: right;\">\n",
       "      <th></th>\n",
       "      <th>dba</th>\n",
       "      <th>critical_flag_Critical</th>\n",
       "    </tr>\n",
       "    <tr>\n",
       "      <th>camis</th>\n",
       "      <th></th>\n",
       "      <th></th>\n",
       "    </tr>\n",
       "  </thead>\n",
       "  <tbody>\n",
       "    <tr>\n",
       "      <th>30075445</th>\n",
       "      <td>12</td>\n",
       "      <td>12</td>\n",
       "    </tr>\n",
       "    <tr>\n",
       "      <th>30112340</th>\n",
       "      <td>9</td>\n",
       "      <td>9</td>\n",
       "    </tr>\n",
       "    <tr>\n",
       "      <th>30191841</th>\n",
       "      <td>5</td>\n",
       "      <td>5</td>\n",
       "    </tr>\n",
       "    <tr>\n",
       "      <th>40356018</th>\n",
       "      <td>4</td>\n",
       "      <td>4</td>\n",
       "    </tr>\n",
       "    <tr>\n",
       "      <th>40356483</th>\n",
       "      <td>12</td>\n",
       "      <td>12</td>\n",
       "    </tr>\n",
       "    <tr>\n",
       "      <th>...</th>\n",
       "      <td>...</td>\n",
       "      <td>...</td>\n",
       "    </tr>\n",
       "    <tr>\n",
       "      <th>50115169</th>\n",
       "      <td>1</td>\n",
       "      <td>1</td>\n",
       "    </tr>\n",
       "    <tr>\n",
       "      <th>50116155</th>\n",
       "      <td>3</td>\n",
       "      <td>3</td>\n",
       "    </tr>\n",
       "    <tr>\n",
       "      <th>50117350</th>\n",
       "      <td>5</td>\n",
       "      <td>5</td>\n",
       "    </tr>\n",
       "    <tr>\n",
       "      <th>50117434</th>\n",
       "      <td>7</td>\n",
       "      <td>7</td>\n",
       "    </tr>\n",
       "    <tr>\n",
       "      <th>50117959</th>\n",
       "      <td>3</td>\n",
       "      <td>3</td>\n",
       "    </tr>\n",
       "  </tbody>\n",
       "</table>\n",
       "<p>19792 rows × 2 columns</p>\n",
       "</div>"
      ],
      "text/plain": [
       "          dba  critical_flag_Critical\n",
       "camis                                \n",
       "30075445   12                      12\n",
       "30112340    9                       9\n",
       "30191841    5                       5\n",
       "40356018    4                       4\n",
       "40356483   12                      12\n",
       "...       ...                     ...\n",
       "50115169    1                       1\n",
       "50116155    3                       3\n",
       "50117350    5                       5\n",
       "50117434    7                       7\n",
       "50117959    3                       3\n",
       "\n",
       "[19792 rows x 2 columns]"
      ]
     },
     "execution_count": 98,
     "metadata": {},
     "output_type": "execute_result"
    }
   ],
   "source": [
    "critical_flags[critical_flagss]"
   ]
  },
  {
   "cell_type": "code",
   "execution_count": 54,
   "metadata": {
    "ExecuteTime": {
     "end_time": "2022-03-25T14:07:58.740052Z",
     "start_time": "2022-03-25T14:07:58.732065Z"
    }
   },
   "outputs": [
    {
     "data": {
      "text/plain": [
       "115284"
      ]
     },
     "execution_count": 54,
     "metadata": {},
     "output_type": "execute_result"
    }
   ],
   "source": [
    "critical_flags['critical_flag_Not Critical'].sum()"
   ]
  },
  {
   "cell_type": "code",
   "execution_count": 41,
   "metadata": {
    "ExecuteTime": {
     "end_time": "2022-03-25T14:00:08.447544Z",
     "start_time": "2022-03-25T14:00:08.443356Z"
    }
   },
   "outputs": [],
   "source": [
    "non_critical_flags = dohmh_ohe.groupby(['camis'])"
   ]
  },
  {
   "cell_type": "code",
   "execution_count": 43,
   "metadata": {
    "ExecuteTime": {
     "end_time": "2022-03-25T14:00:31.528917Z",
     "start_time": "2022-03-25T14:00:30.783695Z"
    }
   },
   "outputs": [
    {
     "data": {
      "text/plain": [
       "15701"
      ]
     },
     "execution_count": 43,
     "metadata": {},
     "output_type": "execute_result"
    }
   ],
   "source": [
    "dohmh_inspections.duplicated().sum()"
   ]
  },
  {
   "cell_type": "code",
   "execution_count": 19,
   "metadata": {
    "ExecuteTime": {
     "end_time": "2022-03-24T20:07:43.870691Z",
     "start_time": "2022-03-24T20:07:42.979136Z"
    }
   },
   "outputs": [
    {
     "data": {
      "text/html": [
       "<div>\n",
       "<style scoped>\n",
       "    .dataframe tbody tr th:only-of-type {\n",
       "        vertical-align: middle;\n",
       "    }\n",
       "\n",
       "    .dataframe tbody tr th {\n",
       "        vertical-align: top;\n",
       "    }\n",
       "\n",
       "    .dataframe thead th {\n",
       "        text-align: right;\n",
       "    }\n",
       "</style>\n",
       "<table border=\"1\" class=\"dataframe\">\n",
       "  <thead>\n",
       "    <tr style=\"text-align: right;\">\n",
       "      <th></th>\n",
       "      <th>camis</th>\n",
       "      <th>dba</th>\n",
       "      <th>boro</th>\n",
       "      <th>building</th>\n",
       "      <th>street</th>\n",
       "      <th>zipcode</th>\n",
       "      <th>phone</th>\n",
       "      <th>cuisine_description</th>\n",
       "      <th>inspection_date</th>\n",
       "      <th>action</th>\n",
       "      <th>violation_code</th>\n",
       "      <th>violation_description</th>\n",
       "      <th>critical_flag</th>\n",
       "      <th>score</th>\n",
       "      <th>grade</th>\n",
       "      <th>grade_date</th>\n",
       "      <th>record_date</th>\n",
       "      <th>inspection_type</th>\n",
       "      <th>latitude</th>\n",
       "      <th>longitude</th>\n",
       "      <th>community_board</th>\n",
       "      <th>council_district</th>\n",
       "      <th>census_tract</th>\n",
       "      <th>bin</th>\n",
       "      <th>bbl</th>\n",
       "      <th>nta</th>\n",
       "    </tr>\n",
       "  </thead>\n",
       "  <tbody>\n",
       "    <tr>\n",
       "      <th>4</th>\n",
       "      <td>40795021</td>\n",
       "      <td>TAO RESTAURANT</td>\n",
       "      <td>Manhattan</td>\n",
       "      <td>42</td>\n",
       "      <td>EAST   58 STREET</td>\n",
       "      <td>10022.0</td>\n",
       "      <td>2128882288</td>\n",
       "      <td>Asian/Asian Fusion</td>\n",
       "      <td>2020-03-11T00:00:00.000</td>\n",
       "      <td>Violations were cited in the following area(s).</td>\n",
       "      <td>10F</td>\n",
       "      <td>Non-food contact surface improperly constructed. Unacceptable material used. Non-food contact su...</td>\n",
       "      <td>Not Critical</td>\n",
       "      <td>9.0</td>\n",
       "      <td>NaN</td>\n",
       "      <td>NaN</td>\n",
       "      <td>2022-03-24T06:00:41.000</td>\n",
       "      <td>Cycle Inspection / Initial Inspection</td>\n",
       "      <td>40.762786</td>\n",
       "      <td>-73.971486</td>\n",
       "      <td>105.0</td>\n",
       "      <td>4.0</td>\n",
       "      <td>11202.0</td>\n",
       "      <td>1036073.0</td>\n",
       "      <td>1.012930e+09</td>\n",
       "      <td>MN17</td>\n",
       "    </tr>\n",
       "    <tr>\n",
       "      <th>91</th>\n",
       "      <td>41489806</td>\n",
       "      <td>MASALA TIMES</td>\n",
       "      <td>Manhattan</td>\n",
       "      <td>194</td>\n",
       "      <td>BLEECKER STREET</td>\n",
       "      <td>10012.0</td>\n",
       "      <td>2129955100</td>\n",
       "      <td>Indian</td>\n",
       "      <td>2019-02-05T00:00:00.000</td>\n",
       "      <td>Violations were cited in the following area(s).</td>\n",
       "      <td>10F</td>\n",
       "      <td>Non-food contact surface improperly constructed. Unacceptable material used. Non-food contact su...</td>\n",
       "      <td>Not Critical</td>\n",
       "      <td>32.0</td>\n",
       "      <td>NaN</td>\n",
       "      <td>NaN</td>\n",
       "      <td>2022-03-24T06:00:41.000</td>\n",
       "      <td>Cycle Inspection / Initial Inspection</td>\n",
       "      <td>40.729306</td>\n",
       "      <td>-74.001512</td>\n",
       "      <td>102.0</td>\n",
       "      <td>3.0</td>\n",
       "      <td>6500.0</td>\n",
       "      <td>1008300.0</td>\n",
       "      <td>1.005260e+09</td>\n",
       "      <td>MN23</td>\n",
       "    </tr>\n",
       "    <tr>\n",
       "      <th>95</th>\n",
       "      <td>50084938</td>\n",
       "      <td>TACO BELL CANTINA</td>\n",
       "      <td>Manhattan</td>\n",
       "      <td>500</td>\n",
       "      <td>8 AVENUE</td>\n",
       "      <td>10018.0</td>\n",
       "      <td>9292323040</td>\n",
       "      <td>Tex-Mex</td>\n",
       "      <td>2020-01-02T00:00:00.000</td>\n",
       "      <td>Violations were cited in the following area(s).</td>\n",
       "      <td>10F</td>\n",
       "      <td>Non-food contact surface improperly constructed. Unacceptable material used. Non-food contact su...</td>\n",
       "      <td>Not Critical</td>\n",
       "      <td>13.0</td>\n",
       "      <td>A</td>\n",
       "      <td>2020-01-02T00:00:00.000</td>\n",
       "      <td>2022-03-24T06:00:41.000</td>\n",
       "      <td>Cycle Inspection / Initial Inspection</td>\n",
       "      <td>40.752936</td>\n",
       "      <td>-73.992904</td>\n",
       "      <td>105.0</td>\n",
       "      <td>3.0</td>\n",
       "      <td>10900.0</td>\n",
       "      <td>1014421.0</td>\n",
       "      <td>1.007850e+09</td>\n",
       "      <td>MN17</td>\n",
       "    </tr>\n",
       "    <tr>\n",
       "      <th>97</th>\n",
       "      <td>41129343</td>\n",
       "      <td>PINO'S LA FORCHETTA</td>\n",
       "      <td>Brooklyn</td>\n",
       "      <td>181</td>\n",
       "      <td>7 AVENUE</td>\n",
       "      <td>11215.0</td>\n",
       "      <td>7189654020</td>\n",
       "      <td>Pizza</td>\n",
       "      <td>2019-12-07T00:00:00.000</td>\n",
       "      <td>Violations were cited in the following area(s).</td>\n",
       "      <td>06C</td>\n",
       "      <td>Food not protected from potential source of contamination during storage, preparation, transport...</td>\n",
       "      <td>Critical</td>\n",
       "      <td>18.0</td>\n",
       "      <td>NaN</td>\n",
       "      <td>NaN</td>\n",
       "      <td>2022-03-24T06:00:41.000</td>\n",
       "      <td>Cycle Inspection / Initial Inspection</td>\n",
       "      <td>40.671373</td>\n",
       "      <td>-73.977826</td>\n",
       "      <td>306.0</td>\n",
       "      <td>39.0</td>\n",
       "      <td>15500.0</td>\n",
       "      <td>3025166.0</td>\n",
       "      <td>3.010760e+09</td>\n",
       "      <td>BK37</td>\n",
       "    </tr>\n",
       "    <tr>\n",
       "      <th>132</th>\n",
       "      <td>50049662</td>\n",
       "      <td>NEW CARRIZAL RESTAURANT</td>\n",
       "      <td>Brooklyn</td>\n",
       "      <td>1346</td>\n",
       "      <td>BROADWAY</td>\n",
       "      <td>11221.0</td>\n",
       "      <td>3479150505</td>\n",
       "      <td>Spanish</td>\n",
       "      <td>2017-10-05T00:00:00.000</td>\n",
       "      <td>Violations were cited in the following area(s).</td>\n",
       "      <td>10F</td>\n",
       "      <td>Non-food contact surface improperly constructed. Unacceptable material used. Non-food contact su...</td>\n",
       "      <td>Not Critical</td>\n",
       "      <td>25.0</td>\n",
       "      <td>B</td>\n",
       "      <td>2017-10-05T00:00:00.000</td>\n",
       "      <td>2022-03-24T06:00:41.000</td>\n",
       "      <td>Cycle Inspection / Re-inspection</td>\n",
       "      <td>40.689846</td>\n",
       "      <td>-73.922704</td>\n",
       "      <td>303.0</td>\n",
       "      <td>41.0</td>\n",
       "      <td>37500.0</td>\n",
       "      <td>3039620.0</td>\n",
       "      <td>3.014790e+09</td>\n",
       "      <td>BK35</td>\n",
       "    </tr>\n",
       "    <tr>\n",
       "      <th>...</th>\n",
       "      <td>...</td>\n",
       "      <td>...</td>\n",
       "      <td>...</td>\n",
       "      <td>...</td>\n",
       "      <td>...</td>\n",
       "      <td>...</td>\n",
       "      <td>...</td>\n",
       "      <td>...</td>\n",
       "      <td>...</td>\n",
       "      <td>...</td>\n",
       "      <td>...</td>\n",
       "      <td>...</td>\n",
       "      <td>...</td>\n",
       "      <td>...</td>\n",
       "      <td>...</td>\n",
       "      <td>...</td>\n",
       "      <td>...</td>\n",
       "      <td>...</td>\n",
       "      <td>...</td>\n",
       "      <td>...</td>\n",
       "      <td>...</td>\n",
       "      <td>...</td>\n",
       "      <td>...</td>\n",
       "      <td>...</td>\n",
       "      <td>...</td>\n",
       "      <td>...</td>\n",
       "    </tr>\n",
       "    <tr>\n",
       "      <th>327759</th>\n",
       "      <td>50043744</td>\n",
       "      <td>CARIBBEAN COFFEE SHOP</td>\n",
       "      <td>Brooklyn</td>\n",
       "      <td>527</td>\n",
       "      <td>STANLEY AVENUE</td>\n",
       "      <td>11207.0</td>\n",
       "      <td>7189752301</td>\n",
       "      <td>Caribbean</td>\n",
       "      <td>2018-04-04T00:00:00.000</td>\n",
       "      <td>Violations were cited in the following area(s).</td>\n",
       "      <td>05D</td>\n",
       "      <td>Hand washing facility not provided in or near food preparation area and toilet room. Hot and col...</td>\n",
       "      <td>Critical</td>\n",
       "      <td>43.0</td>\n",
       "      <td>NaN</td>\n",
       "      <td>NaN</td>\n",
       "      <td>2022-03-24T06:00:41.000</td>\n",
       "      <td>Cycle Inspection / Initial Inspection</td>\n",
       "      <td>40.657221</td>\n",
       "      <td>-73.888863</td>\n",
       "      <td>305.0</td>\n",
       "      <td>42.0</td>\n",
       "      <td>110400.0</td>\n",
       "      <td>3097671.0</td>\n",
       "      <td>3.043470e+09</td>\n",
       "      <td>BK82</td>\n",
       "    </tr>\n",
       "    <tr>\n",
       "      <th>327796</th>\n",
       "      <td>50003774</td>\n",
       "      <td>GOLDEN KRUST CARIBBEAN BAKERY &amp; GRILL</td>\n",
       "      <td>Brooklyn</td>\n",
       "      <td>4108</td>\n",
       "      <td>FARRAGUT ROAD</td>\n",
       "      <td>11210.0</td>\n",
       "      <td>7185766021</td>\n",
       "      <td>Caribbean</td>\n",
       "      <td>2019-09-09T00:00:00.000</td>\n",
       "      <td>Violations were cited in the following area(s).</td>\n",
       "      <td>10F</td>\n",
       "      <td>Non-food contact surface improperly constructed. Unacceptable material used. Non-food contact su...</td>\n",
       "      <td>Not Critical</td>\n",
       "      <td>4.0</td>\n",
       "      <td>A</td>\n",
       "      <td>2019-09-09T00:00:00.000</td>\n",
       "      <td>2022-03-24T06:00:41.000</td>\n",
       "      <td>Cycle Inspection / Re-inspection</td>\n",
       "      <td>40.636919</td>\n",
       "      <td>-73.937311</td>\n",
       "      <td>317.0</td>\n",
       "      <td>45.0</td>\n",
       "      <td>83600.0</td>\n",
       "      <td>3114504.0</td>\n",
       "      <td>3.050160e+09</td>\n",
       "      <td>BK91</td>\n",
       "    </tr>\n",
       "    <tr>\n",
       "      <th>327797</th>\n",
       "      <td>50003774</td>\n",
       "      <td>GOLDEN KRUST CARIBBEAN BAKERY &amp; GRILL</td>\n",
       "      <td>Brooklyn</td>\n",
       "      <td>4108</td>\n",
       "      <td>FARRAGUT ROAD</td>\n",
       "      <td>11210.0</td>\n",
       "      <td>7185766021</td>\n",
       "      <td>Caribbean</td>\n",
       "      <td>2019-09-09T00:00:00.000</td>\n",
       "      <td>Violations were cited in the following area(s).</td>\n",
       "      <td>10F</td>\n",
       "      <td>Non-food contact surface improperly constructed. Unacceptable material used. Non-food contact su...</td>\n",
       "      <td>Not Critical</td>\n",
       "      <td>4.0</td>\n",
       "      <td>A</td>\n",
       "      <td>2019-09-09T00:00:00.000</td>\n",
       "      <td>2022-03-24T06:00:41.000</td>\n",
       "      <td>Cycle Inspection / Re-inspection</td>\n",
       "      <td>40.636919</td>\n",
       "      <td>-73.937311</td>\n",
       "      <td>317.0</td>\n",
       "      <td>45.0</td>\n",
       "      <td>83600.0</td>\n",
       "      <td>3114504.0</td>\n",
       "      <td>3.050160e+09</td>\n",
       "      <td>BK91</td>\n",
       "    </tr>\n",
       "    <tr>\n",
       "      <th>327799</th>\n",
       "      <td>41556790</td>\n",
       "      <td>FIVE GUYS FAMOUS BURGERS AND FRIES</td>\n",
       "      <td>Manhattan</td>\n",
       "      <td>2847</td>\n",
       "      <td>BROADFWAY</td>\n",
       "      <td>NaN</td>\n",
       "      <td>2126787701</td>\n",
       "      <td>Hamburgers</td>\n",
       "      <td>2019-03-01T00:00:00.000</td>\n",
       "      <td>Violations were cited in the following area(s).</td>\n",
       "      <td>10F</td>\n",
       "      <td>Non-food contact surface improperly constructed. Unacceptable material used. Non-food contact su...</td>\n",
       "      <td>Not Critical</td>\n",
       "      <td>3.0</td>\n",
       "      <td>A</td>\n",
       "      <td>2019-03-01T00:00:00.000</td>\n",
       "      <td>2022-03-24T06:00:41.000</td>\n",
       "      <td>Cycle Inspection / Initial Inspection</td>\n",
       "      <td>0.000000</td>\n",
       "      <td>0.000000</td>\n",
       "      <td>NaN</td>\n",
       "      <td>NaN</td>\n",
       "      <td>NaN</td>\n",
       "      <td>NaN</td>\n",
       "      <td>1.000000e+00</td>\n",
       "      <td>NaN</td>\n",
       "    </tr>\n",
       "    <tr>\n",
       "      <th>327804</th>\n",
       "      <td>41448021</td>\n",
       "      <td>PIER 76</td>\n",
       "      <td>Staten Island</td>\n",
       "      <td>76</td>\n",
       "      <td>BAY STREET</td>\n",
       "      <td>10301.0</td>\n",
       "      <td>7184477437</td>\n",
       "      <td>Italian</td>\n",
       "      <td>2018-09-24T00:00:00.000</td>\n",
       "      <td>Violations were cited in the following area(s).</td>\n",
       "      <td>10B</td>\n",
       "      <td>Plumbing not properly installed or maintained; anti-siphonage or backflow prevention device not ...</td>\n",
       "      <td>Not Critical</td>\n",
       "      <td>12.0</td>\n",
       "      <td>A</td>\n",
       "      <td>2018-09-24T00:00:00.000</td>\n",
       "      <td>2022-03-24T06:00:41.000</td>\n",
       "      <td>Cycle Inspection / Re-inspection</td>\n",
       "      <td>40.640285</td>\n",
       "      <td>-74.075628</td>\n",
       "      <td>501.0</td>\n",
       "      <td>49.0</td>\n",
       "      <td>300.0</td>\n",
       "      <td>5000037.0</td>\n",
       "      <td>5.000050e+09</td>\n",
       "      <td>SI22</td>\n",
       "    </tr>\n",
       "  </tbody>\n",
       "</table>\n",
       "<p>15701 rows × 26 columns</p>\n",
       "</div>"
      ],
      "text/plain": [
       "           camis                                    dba           boro  \\\n",
       "4       40795021                         TAO RESTAURANT      Manhattan   \n",
       "91      41489806                           MASALA TIMES      Manhattan   \n",
       "95      50084938                      TACO BELL CANTINA      Manhattan   \n",
       "97      41129343                    PINO'S LA FORCHETTA       Brooklyn   \n",
       "132     50049662                NEW CARRIZAL RESTAURANT       Brooklyn   \n",
       "...          ...                                    ...            ...   \n",
       "327759  50043744                  CARIBBEAN COFFEE SHOP       Brooklyn   \n",
       "327796  50003774  GOLDEN KRUST CARIBBEAN BAKERY & GRILL       Brooklyn   \n",
       "327797  50003774  GOLDEN KRUST CARIBBEAN BAKERY & GRILL       Brooklyn   \n",
       "327799  41556790     FIVE GUYS FAMOUS BURGERS AND FRIES      Manhattan   \n",
       "327804  41448021                                PIER 76  Staten Island   \n",
       "\n",
       "       building            street  zipcode       phone cuisine_description  \\\n",
       "4            42  EAST   58 STREET  10022.0  2128882288  Asian/Asian Fusion   \n",
       "91          194   BLEECKER STREET  10012.0  2129955100              Indian   \n",
       "95          500          8 AVENUE  10018.0  9292323040             Tex-Mex   \n",
       "97          181          7 AVENUE  11215.0  7189654020               Pizza   \n",
       "132        1346          BROADWAY  11221.0  3479150505             Spanish   \n",
       "...         ...               ...      ...         ...                 ...   \n",
       "327759      527    STANLEY AVENUE  11207.0  7189752301           Caribbean   \n",
       "327796     4108     FARRAGUT ROAD  11210.0  7185766021           Caribbean   \n",
       "327797     4108     FARRAGUT ROAD  11210.0  7185766021           Caribbean   \n",
       "327799     2847         BROADFWAY      NaN  2126787701          Hamburgers   \n",
       "327804       76        BAY STREET  10301.0  7184477437             Italian   \n",
       "\n",
       "                inspection_date  \\\n",
       "4       2020-03-11T00:00:00.000   \n",
       "91      2019-02-05T00:00:00.000   \n",
       "95      2020-01-02T00:00:00.000   \n",
       "97      2019-12-07T00:00:00.000   \n",
       "132     2017-10-05T00:00:00.000   \n",
       "...                         ...   \n",
       "327759  2018-04-04T00:00:00.000   \n",
       "327796  2019-09-09T00:00:00.000   \n",
       "327797  2019-09-09T00:00:00.000   \n",
       "327799  2019-03-01T00:00:00.000   \n",
       "327804  2018-09-24T00:00:00.000   \n",
       "\n",
       "                                                 action violation_code  \\\n",
       "4       Violations were cited in the following area(s).            10F   \n",
       "91      Violations were cited in the following area(s).            10F   \n",
       "95      Violations were cited in the following area(s).            10F   \n",
       "97      Violations were cited in the following area(s).            06C   \n",
       "132     Violations were cited in the following area(s).            10F   \n",
       "...                                                 ...            ...   \n",
       "327759  Violations were cited in the following area(s).            05D   \n",
       "327796  Violations were cited in the following area(s).            10F   \n",
       "327797  Violations were cited in the following area(s).            10F   \n",
       "327799  Violations were cited in the following area(s).            10F   \n",
       "327804  Violations were cited in the following area(s).            10B   \n",
       "\n",
       "                                                                                      violation_description  \\\n",
       "4       Non-food contact surface improperly constructed. Unacceptable material used. Non-food contact su...   \n",
       "91      Non-food contact surface improperly constructed. Unacceptable material used. Non-food contact su...   \n",
       "95      Non-food contact surface improperly constructed. Unacceptable material used. Non-food contact su...   \n",
       "97      Food not protected from potential source of contamination during storage, preparation, transport...   \n",
       "132     Non-food contact surface improperly constructed. Unacceptable material used. Non-food contact su...   \n",
       "...                                                                                                     ...   \n",
       "327759  Hand washing facility not provided in or near food preparation area and toilet room. Hot and col...   \n",
       "327796  Non-food contact surface improperly constructed. Unacceptable material used. Non-food contact su...   \n",
       "327797  Non-food contact surface improperly constructed. Unacceptable material used. Non-food contact su...   \n",
       "327799  Non-food contact surface improperly constructed. Unacceptable material used. Non-food contact su...   \n",
       "327804  Plumbing not properly installed or maintained; anti-siphonage or backflow prevention device not ...   \n",
       "\n",
       "       critical_flag  score grade               grade_date  \\\n",
       "4       Not Critical    9.0   NaN                      NaN   \n",
       "91      Not Critical   32.0   NaN                      NaN   \n",
       "95      Not Critical   13.0     A  2020-01-02T00:00:00.000   \n",
       "97          Critical   18.0   NaN                      NaN   \n",
       "132     Not Critical   25.0     B  2017-10-05T00:00:00.000   \n",
       "...              ...    ...   ...                      ...   \n",
       "327759      Critical   43.0   NaN                      NaN   \n",
       "327796  Not Critical    4.0     A  2019-09-09T00:00:00.000   \n",
       "327797  Not Critical    4.0     A  2019-09-09T00:00:00.000   \n",
       "327799  Not Critical    3.0     A  2019-03-01T00:00:00.000   \n",
       "327804  Not Critical   12.0     A  2018-09-24T00:00:00.000   \n",
       "\n",
       "                    record_date                        inspection_type  \\\n",
       "4       2022-03-24T06:00:41.000  Cycle Inspection / Initial Inspection   \n",
       "91      2022-03-24T06:00:41.000  Cycle Inspection / Initial Inspection   \n",
       "95      2022-03-24T06:00:41.000  Cycle Inspection / Initial Inspection   \n",
       "97      2022-03-24T06:00:41.000  Cycle Inspection / Initial Inspection   \n",
       "132     2022-03-24T06:00:41.000       Cycle Inspection / Re-inspection   \n",
       "...                         ...                                    ...   \n",
       "327759  2022-03-24T06:00:41.000  Cycle Inspection / Initial Inspection   \n",
       "327796  2022-03-24T06:00:41.000       Cycle Inspection / Re-inspection   \n",
       "327797  2022-03-24T06:00:41.000       Cycle Inspection / Re-inspection   \n",
       "327799  2022-03-24T06:00:41.000  Cycle Inspection / Initial Inspection   \n",
       "327804  2022-03-24T06:00:41.000       Cycle Inspection / Re-inspection   \n",
       "\n",
       "         latitude  longitude  community_board  council_district  census_tract  \\\n",
       "4       40.762786 -73.971486            105.0               4.0       11202.0   \n",
       "91      40.729306 -74.001512            102.0               3.0        6500.0   \n",
       "95      40.752936 -73.992904            105.0               3.0       10900.0   \n",
       "97      40.671373 -73.977826            306.0              39.0       15500.0   \n",
       "132     40.689846 -73.922704            303.0              41.0       37500.0   \n",
       "...           ...        ...              ...               ...           ...   \n",
       "327759  40.657221 -73.888863            305.0              42.0      110400.0   \n",
       "327796  40.636919 -73.937311            317.0              45.0       83600.0   \n",
       "327797  40.636919 -73.937311            317.0              45.0       83600.0   \n",
       "327799   0.000000   0.000000              NaN               NaN           NaN   \n",
       "327804  40.640285 -74.075628            501.0              49.0         300.0   \n",
       "\n",
       "              bin           bbl   nta  \n",
       "4       1036073.0  1.012930e+09  MN17  \n",
       "91      1008300.0  1.005260e+09  MN23  \n",
       "95      1014421.0  1.007850e+09  MN17  \n",
       "97      3025166.0  3.010760e+09  BK37  \n",
       "132     3039620.0  3.014790e+09  BK35  \n",
       "...           ...           ...   ...  \n",
       "327759  3097671.0  3.043470e+09  BK82  \n",
       "327796  3114504.0  3.050160e+09  BK91  \n",
       "327797  3114504.0  3.050160e+09  BK91  \n",
       "327799        NaN  1.000000e+00   NaN  \n",
       "327804  5000037.0  5.000050e+09  SI22  \n",
       "\n",
       "[15701 rows x 26 columns]"
      ]
     },
     "execution_count": 19,
     "metadata": {},
     "output_type": "execute_result"
    }
   ],
   "source": [
    "dohmh_inspections.loc[dohmh_inspections.duplicated(keep='first'),:]"
   ]
  },
  {
   "cell_type": "code",
   "execution_count": 44,
   "metadata": {
    "ExecuteTime": {
     "end_time": "2022-03-25T14:00:44.519563Z",
     "start_time": "2022-03-25T14:00:43.762531Z"
    }
   },
   "outputs": [
    {
     "data": {
      "text/plain": [
       "(242162, 26)"
      ]
     },
     "execution_count": 44,
     "metadata": {},
     "output_type": "execute_result"
    }
   ],
   "source": [
    "dohmh_inspections.drop_duplicates().shape"
   ]
  },
  {
   "cell_type": "code",
   "execution_count": 45,
   "metadata": {
    "ExecuteTime": {
     "end_time": "2022-03-25T14:00:47.862026Z",
     "start_time": "2022-03-25T14:00:47.835019Z"
    }
   },
   "outputs": [
    {
     "data": {
      "text/plain": [
       "238071"
      ]
     },
     "execution_count": 45,
     "metadata": {},
     "output_type": "execute_result"
    }
   ],
   "source": [
    "dohmh_inspections.duplicated(subset=['camis']).sum()"
   ]
  },
  {
   "cell_type": "code",
   "execution_count": 46,
   "metadata": {
    "ExecuteTime": {
     "end_time": "2022-03-25T14:01:12.814518Z",
     "start_time": "2022-03-25T14:01:12.801669Z"
    }
   },
   "outputs": [
    {
     "data": {
      "text/plain": [
       "19792"
      ]
     },
     "execution_count": 46,
     "metadata": {},
     "output_type": "execute_result"
    }
   ],
   "source": [
    "dohmh_inspections['camis'].nunique()"
   ]
  },
  {
   "cell_type": "markdown",
   "metadata": {},
   "source": [
    "There are approximately 28,000 restaurants that have been inspected by the DOHMH. Let's check out how many have ever been flagged for a critical violation."
   ]
  },
  {
   "cell_type": "markdown",
   "metadata": {},
   "source": [
    "## Mapping with Follium"
   ]
  },
  {
   "cell_type": "code",
   "execution_count": null,
   "metadata": {},
   "outputs": [],
   "source": [
    "\n"
   ]
  }
 ],
 "metadata": {
  "kernelspec": {
   "display_name": "Python (learn-env)",
   "language": "python",
   "name": "learn-env"
  },
  "language_info": {
   "codemirror_mode": {
    "name": "ipython",
    "version": 3
   },
   "file_extension": ".py",
   "mimetype": "text/x-python",
   "name": "python",
   "nbconvert_exporter": "python",
   "pygments_lexer": "ipython3",
   "version": "3.8.5"
  },
  "toc": {
   "base_numbering": 1,
   "nav_menu": {},
   "number_sections": true,
   "sideBar": true,
   "skip_h1_title": false,
   "title_cell": "Table of Contents",
   "title_sidebar": "Contents",
   "toc_cell": false,
   "toc_position": {
    "height": "calc(100% - 180px)",
    "left": "10px",
    "top": "150px",
    "width": "248px"
   },
   "toc_section_display": true,
   "toc_window_display": true
  }
 },
 "nbformat": 4,
 "nbformat_minor": 4
}
