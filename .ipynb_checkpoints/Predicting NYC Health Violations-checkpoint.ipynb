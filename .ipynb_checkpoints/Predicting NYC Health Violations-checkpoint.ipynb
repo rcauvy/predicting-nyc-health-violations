{
 "cells": [
  {
   "cell_type": "code",
   "execution_count": 1,
   "metadata": {
    "ExecuteTime": {
     "end_time": "2022-04-12T21:58:50.395113Z",
     "start_time": "2022-04-12T21:58:43.079840Z"
    }
   },
   "outputs": [],
   "source": [
    "from IPython import display\n",
    "import requests\n",
    "import json\n",
    "from sodapy import Socrata\n",
    "import pandas as pd\n",
    "import numpy as np\n",
    "import matplotlib.pyplot as plt\n",
    "%matplotlib inline\n",
    "import seaborn as sns\n",
    "import warnings\n",
    "import time\n",
    "warnings.filterwarnings(\"ignore\")\n",
    "pd.set_option('display.max_colwidth',100)\n",
    "pd.set_option('display.max_columns',50)\n",
    "\n",
    "from sklearn.preprocessing import OneHotEncoder\n"
   ]
  },
  {
   "cell_type": "markdown",
   "metadata": {},
   "source": [
    "# Introduction"
   ]
  },
  {
   "cell_type": "markdown",
   "metadata": {},
   "source": [
    "According to the CDC, more than 48 million Americans per year become sick from food, and an estimated 75% of the outbreaks came from food prepared by caterers, delis, and restaurants. In most cities, health inspections are generally random, which can increase time spent on spot checks at clean restaurants that have been following the rules closely — and missed opportunities to improve health and hygiene at places with more pressing food safety issues.\n",
    "\n",
    "The goal for this project is to leverage public citizen generated data from social media to narrow the search for critical health and safety violations in New York City. As the City of New York manages  an open data portal, everyone can access historical hygiene inspections and violation records. By combine these two data source this project aims to determine which words, phrases, ratings, and patterns among restaurants lead to critical health and safety violations. This model can assist city health inspectors do their job better by prioritizing the kitchens most likely to be in violation of code."
   ]
  },
  {
   "cell_type": "markdown",
   "metadata": {},
   "source": [
    "# Obtain"
   ]
  },
  {
   "cell_type": "markdown",
   "metadata": {},
   "source": [
    "This project requires data pulled from two different sources, the City of New York and Yelp. To obtain the data we will call the API keys."
   ]
  },
  {
   "cell_type": "markdown",
   "metadata": {},
   "source": [
    "## NYC Open Data API"
   ]
  },
  {
   "cell_type": "code",
   "execution_count": null,
   "metadata": {},
   "outputs": [],
   "source": []
  },
  {
   "cell_type": "code",
   "execution_count": 29,
   "metadata": {
    "ExecuteTime": {
     "end_time": "2022-04-12T22:10:39.884037Z",
     "start_time": "2022-04-12T22:10:38.378949Z"
    }
   },
   "outputs": [
    {
     "data": {
      "text/html": [
       "<div>\n",
       "<style scoped>\n",
       "    .dataframe tbody tr th:only-of-type {\n",
       "        vertical-align: middle;\n",
       "    }\n",
       "\n",
       "    .dataframe tbody tr th {\n",
       "        vertical-align: top;\n",
       "    }\n",
       "\n",
       "    .dataframe thead th {\n",
       "        text-align: right;\n",
       "    }\n",
       "</style>\n",
       "<table border=\"1\" class=\"dataframe\">\n",
       "  <thead>\n",
       "    <tr style=\"text-align: right;\">\n",
       "      <th></th>\n",
       "      <th>CAMIS</th>\n",
       "      <th>DBA</th>\n",
       "      <th>BORO</th>\n",
       "      <th>BUILDING</th>\n",
       "      <th>STREET</th>\n",
       "      <th>ZIPCODE</th>\n",
       "      <th>PHONE</th>\n",
       "      <th>CUISINE DESCRIPTION</th>\n",
       "      <th>INSPECTION DATE</th>\n",
       "      <th>ACTION</th>\n",
       "      <th>VIOLATION CODE</th>\n",
       "      <th>VIOLATION DESCRIPTION</th>\n",
       "      <th>CRITICAL FLAG</th>\n",
       "      <th>SCORE</th>\n",
       "      <th>GRADE</th>\n",
       "      <th>GRADE DATE</th>\n",
       "      <th>RECORD DATE</th>\n",
       "      <th>INSPECTION TYPE</th>\n",
       "      <th>Latitude</th>\n",
       "      <th>Longitude</th>\n",
       "      <th>Community Board</th>\n",
       "      <th>Council District</th>\n",
       "      <th>Census Tract</th>\n",
       "      <th>BIN</th>\n",
       "      <th>BBL</th>\n",
       "      <th>NTA</th>\n",
       "    </tr>\n",
       "  </thead>\n",
       "  <tbody>\n",
       "    <tr>\n",
       "      <th>0</th>\n",
       "      <td>50008319</td>\n",
       "      <td>POULETTE</td>\n",
       "      <td>Manhattan</td>\n",
       "      <td>790</td>\n",
       "      <td>9 AVENUE</td>\n",
       "      <td>10019.0</td>\n",
       "      <td>2129569488</td>\n",
       "      <td>Chicken</td>\n",
       "      <td>01/28/2019</td>\n",
       "      <td>Violations were cited in the following area(s).</td>\n",
       "      <td>04D</td>\n",
       "      <td>Food worker does not wash hands thoroughly after using the toilet, coughing, sneezing, smoking, ...</td>\n",
       "      <td>Critical</td>\n",
       "      <td>22</td>\n",
       "      <td>NaN</td>\n",
       "      <td>NaN</td>\n",
       "      <td>03/24/2022</td>\n",
       "      <td>Cycle Inspection / Initial Inspection</td>\n",
       "      <td>40.765040</td>\n",
       "      <td>-73.987795</td>\n",
       "      <td>104.0</td>\n",
       "      <td>3.0</td>\n",
       "      <td>13300.0</td>\n",
       "      <td>1025235.0</td>\n",
       "      <td>1.010430e+09</td>\n",
       "      <td>MN15</td>\n",
       "    </tr>\n",
       "    <tr>\n",
       "      <th>1</th>\n",
       "      <td>41678734</td>\n",
       "      <td>TINY'S DINER</td>\n",
       "      <td>Bronx</td>\n",
       "      <td>3603</td>\n",
       "      <td>RIVERDALE AVENUE</td>\n",
       "      <td>10463.0</td>\n",
       "      <td>7187087600</td>\n",
       "      <td>American</td>\n",
       "      <td>09/23/2019</td>\n",
       "      <td>Violations were cited in the following area(s).</td>\n",
       "      <td>04M</td>\n",
       "      <td>Live roaches present in facility's food and/or non-food areas.</td>\n",
       "      <td>Critical</td>\n",
       "      <td>24</td>\n",
       "      <td>NaN</td>\n",
       "      <td>NaN</td>\n",
       "      <td>03/24/2022</td>\n",
       "      <td>Cycle Inspection / Initial Inspection</td>\n",
       "      <td>40.886691</td>\n",
       "      <td>-73.907056</td>\n",
       "      <td>208.0</td>\n",
       "      <td>11.0</td>\n",
       "      <td>29500.0</td>\n",
       "      <td>2084186.0</td>\n",
       "      <td>2.057960e+09</td>\n",
       "      <td>BX29</td>\n",
       "    </tr>\n",
       "    <tr>\n",
       "      <th>2</th>\n",
       "      <td>40795021</td>\n",
       "      <td>TAO RESTAURANT</td>\n",
       "      <td>Manhattan</td>\n",
       "      <td>42</td>\n",
       "      <td>EAST   58 STREET</td>\n",
       "      <td>10022.0</td>\n",
       "      <td>2128882288</td>\n",
       "      <td>Asian/Asian Fusion</td>\n",
       "      <td>03/11/2020</td>\n",
       "      <td>Violations were cited in the following area(s).</td>\n",
       "      <td>10F</td>\n",
       "      <td>Non-food contact surface improperly constructed. Unacceptable material used. Non-food contact su...</td>\n",
       "      <td>Not Critical</td>\n",
       "      <td>9</td>\n",
       "      <td>NaN</td>\n",
       "      <td>NaN</td>\n",
       "      <td>03/24/2022</td>\n",
       "      <td>Cycle Inspection / Initial Inspection</td>\n",
       "      <td>40.762786</td>\n",
       "      <td>-73.971486</td>\n",
       "      <td>105.0</td>\n",
       "      <td>4.0</td>\n",
       "      <td>11202.0</td>\n",
       "      <td>1036073.0</td>\n",
       "      <td>1.012930e+09</td>\n",
       "      <td>MN17</td>\n",
       "    </tr>\n",
       "    <tr>\n",
       "      <th>3</th>\n",
       "      <td>40795021</td>\n",
       "      <td>TAO RESTAURANT</td>\n",
       "      <td>Manhattan</td>\n",
       "      <td>42</td>\n",
       "      <td>EAST   58 STREET</td>\n",
       "      <td>10022.0</td>\n",
       "      <td>2128882288</td>\n",
       "      <td>Asian/Asian Fusion</td>\n",
       "      <td>03/11/2020</td>\n",
       "      <td>Violations were cited in the following area(s).</td>\n",
       "      <td>10F</td>\n",
       "      <td>Non-food contact surface improperly constructed. Unacceptable material used. Non-food contact su...</td>\n",
       "      <td>Not Critical</td>\n",
       "      <td>9</td>\n",
       "      <td>NaN</td>\n",
       "      <td>NaN</td>\n",
       "      <td>03/24/2022</td>\n",
       "      <td>Cycle Inspection / Initial Inspection</td>\n",
       "      <td>40.762786</td>\n",
       "      <td>-73.971486</td>\n",
       "      <td>105.0</td>\n",
       "      <td>4.0</td>\n",
       "      <td>11202.0</td>\n",
       "      <td>1036073.0</td>\n",
       "      <td>1.012930e+09</td>\n",
       "      <td>MN17</td>\n",
       "    </tr>\n",
       "    <tr>\n",
       "      <th>4</th>\n",
       "      <td>40538234</td>\n",
       "      <td>DUNKIN',' BASKIN ROBBINS</td>\n",
       "      <td>Queens</td>\n",
       "      <td>9925</td>\n",
       "      <td>HORACE HARDING EXPRESSWAY</td>\n",
       "      <td>11368.0</td>\n",
       "      <td>7182719222</td>\n",
       "      <td>Donuts</td>\n",
       "      <td>07/29/2021</td>\n",
       "      <td>Violations were cited in the following area(s).</td>\n",
       "      <td>06E</td>\n",
       "      <td>Sanitized equipment or utensil, including in-use food dispensing utensil, improperly used or sto...</td>\n",
       "      <td>Critical</td>\n",
       "      <td>10</td>\n",
       "      <td>A</td>\n",
       "      <td>07/29/2021</td>\n",
       "      <td>03/24/2022</td>\n",
       "      <td>Cycle Inspection / Initial Inspection</td>\n",
       "      <td>40.736185</td>\n",
       "      <td>-73.858052</td>\n",
       "      <td>404.0</td>\n",
       "      <td>21.0</td>\n",
       "      <td>43702.0</td>\n",
       "      <td>4047915.0</td>\n",
       "      <td>4.019480e+09</td>\n",
       "      <td>QN25</td>\n",
       "    </tr>\n",
       "    <tr>\n",
       "      <th>...</th>\n",
       "      <td>...</td>\n",
       "      <td>...</td>\n",
       "      <td>...</td>\n",
       "      <td>...</td>\n",
       "      <td>...</td>\n",
       "      <td>...</td>\n",
       "      <td>...</td>\n",
       "      <td>...</td>\n",
       "      <td>...</td>\n",
       "      <td>...</td>\n",
       "      <td>...</td>\n",
       "      <td>...</td>\n",
       "      <td>...</td>\n",
       "      <td>...</td>\n",
       "      <td>...</td>\n",
       "      <td>...</td>\n",
       "      <td>...</td>\n",
       "      <td>...</td>\n",
       "      <td>...</td>\n",
       "      <td>...</td>\n",
       "      <td>...</td>\n",
       "      <td>...</td>\n",
       "      <td>...</td>\n",
       "      <td>...</td>\n",
       "      <td>...</td>\n",
       "      <td>...</td>\n",
       "    </tr>\n",
       "    <tr>\n",
       "      <th>186222</th>\n",
       "      <td>41556790</td>\n",
       "      <td>FIVE GUYS FAMOUS BURGERS AND FRIES</td>\n",
       "      <td>Manhattan</td>\n",
       "      <td>2847</td>\n",
       "      <td>BROADFWAY</td>\n",
       "      <td>NaN</td>\n",
       "      <td>2126787701</td>\n",
       "      <td>Hamburgers</td>\n",
       "      <td>03/01/2019</td>\n",
       "      <td>Violations were cited in the following area(s).</td>\n",
       "      <td>10F</td>\n",
       "      <td>Non-food contact surface improperly constructed. Unacceptable material used. Non-food contact su...</td>\n",
       "      <td>Not Critical</td>\n",
       "      <td>3</td>\n",
       "      <td>A</td>\n",
       "      <td>03/01/2019</td>\n",
       "      <td>03/24/2022</td>\n",
       "      <td>Cycle Inspection / Initial Inspection</td>\n",
       "      <td>0.000000</td>\n",
       "      <td>0.000000</td>\n",
       "      <td>NaN</td>\n",
       "      <td>NaN</td>\n",
       "      <td>NaN</td>\n",
       "      <td>NaN</td>\n",
       "      <td>1.000000e+00</td>\n",
       "      <td>NaN</td>\n",
       "    </tr>\n",
       "    <tr>\n",
       "      <th>186223</th>\n",
       "      <td>50032876</td>\n",
       "      <td>TANNER SMITH'S</td>\n",
       "      <td>Manhattan</td>\n",
       "      <td>204</td>\n",
       "      <td>WEST   55 STREET</td>\n",
       "      <td>10019.0</td>\n",
       "      <td>9175172283</td>\n",
       "      <td>American</td>\n",
       "      <td>06/07/2019</td>\n",
       "      <td>Violations were cited in the following area(s).</td>\n",
       "      <td>08A</td>\n",
       "      <td>Facility not vermin proof. Harborage or conditions conducive to attracting vermin to the premise...</td>\n",
       "      <td>Not Critical</td>\n",
       "      <td>12</td>\n",
       "      <td>A</td>\n",
       "      <td>06/07/2019</td>\n",
       "      <td>03/24/2022</td>\n",
       "      <td>Cycle Inspection / Initial Inspection</td>\n",
       "      <td>40.764364</td>\n",
       "      <td>-73.981362</td>\n",
       "      <td>105.0</td>\n",
       "      <td>4.0</td>\n",
       "      <td>13700.0</td>\n",
       "      <td>1024857.0</td>\n",
       "      <td>1.010260e+09</td>\n",
       "      <td>MN17</td>\n",
       "    </tr>\n",
       "    <tr>\n",
       "      <th>186224</th>\n",
       "      <td>50003842</td>\n",
       "      <td>T- 45</td>\n",
       "      <td>Manhattan</td>\n",
       "      <td>135</td>\n",
       "      <td>WEST   45 STREET</td>\n",
       "      <td>10036.0</td>\n",
       "      <td>6466403775</td>\n",
       "      <td>American</td>\n",
       "      <td>07/26/2018</td>\n",
       "      <td>Violations were cited in the following area(s).</td>\n",
       "      <td>10B</td>\n",
       "      <td>Plumbing not properly installed or maintained; anti-siphonage or backflow prevention device not ...</td>\n",
       "      <td>Not Critical</td>\n",
       "      <td>49</td>\n",
       "      <td>NaN</td>\n",
       "      <td>NaN</td>\n",
       "      <td>03/24/2022</td>\n",
       "      <td>Cycle Inspection / Initial Inspection</td>\n",
       "      <td>40.757244</td>\n",
       "      <td>-73.983815</td>\n",
       "      <td>105.0</td>\n",
       "      <td>4.0</td>\n",
       "      <td>11900.0</td>\n",
       "      <td>1089796.0</td>\n",
       "      <td>1.009980e+09</td>\n",
       "      <td>MN17</td>\n",
       "    </tr>\n",
       "    <tr>\n",
       "      <th>186225</th>\n",
       "      <td>41640824</td>\n",
       "      <td>RICURAS ECUADORIAN BAKERY</td>\n",
       "      <td>Bronx</td>\n",
       "      <td>1576</td>\n",
       "      <td>WATSON AVENUE</td>\n",
       "      <td>10472.0</td>\n",
       "      <td>7184508363</td>\n",
       "      <td>Spanish</td>\n",
       "      <td>07/20/2018</td>\n",
       "      <td>Violations were cited in the following area(s).</td>\n",
       "      <td>06F</td>\n",
       "      <td>Wiping cloths soiled or not stored in sanitizing solution.</td>\n",
       "      <td>Critical</td>\n",
       "      <td>12</td>\n",
       "      <td>A</td>\n",
       "      <td>07/20/2018</td>\n",
       "      <td>03/24/2022</td>\n",
       "      <td>Cycle Inspection / Initial Inspection</td>\n",
       "      <td>40.826352</td>\n",
       "      <td>-73.876066</td>\n",
       "      <td>209.0</td>\n",
       "      <td>18.0</td>\n",
       "      <td>5001.0</td>\n",
       "      <td>2023533.0</td>\n",
       "      <td>2.037160e+09</td>\n",
       "      <td>BX55</td>\n",
       "    </tr>\n",
       "    <tr>\n",
       "      <th>186226</th>\n",
       "      <td>41450971</td>\n",
       "      <td>GIOVANNI'S RESTAURANT</td>\n",
       "      <td>Bronx</td>\n",
       "      <td>3209</td>\n",
       "      <td>WESTCHESTER AVENUE</td>\n",
       "      <td>10461.0</td>\n",
       "      <td>7188924340</td>\n",
       "      <td>Pizza</td>\n",
       "      <td>06/21/2017</td>\n",
       "      <td>Violations were cited in the following area(s).</td>\n",
       "      <td>06D</td>\n",
       "      <td>Food contact surface not properly washed, rinsed and sanitized after each use and following any ...</td>\n",
       "      <td>Critical</td>\n",
       "      <td>16</td>\n",
       "      <td>NaN</td>\n",
       "      <td>NaN</td>\n",
       "      <td>03/24/2022</td>\n",
       "      <td>Cycle Inspection / Initial Inspection</td>\n",
       "      <td>40.851761</td>\n",
       "      <td>-73.829569</td>\n",
       "      <td>210.0</td>\n",
       "      <td>13.0</td>\n",
       "      <td>30000.0</td>\n",
       "      <td>2047655.0</td>\n",
       "      <td>2.042450e+09</td>\n",
       "      <td>BX10</td>\n",
       "    </tr>\n",
       "  </tbody>\n",
       "</table>\n",
       "<p>186227 rows × 26 columns</p>\n",
       "</div>"
      ],
      "text/plain": [
       "           CAMIS                                 DBA       BORO BUILDING  \\\n",
       "0       50008319                            POULETTE  Manhattan      790   \n",
       "1       41678734                        TINY'S DINER      Bronx     3603   \n",
       "2       40795021                      TAO RESTAURANT  Manhattan       42   \n",
       "3       40795021                      TAO RESTAURANT  Manhattan       42   \n",
       "4       40538234            DUNKIN',' BASKIN ROBBINS     Queens     9925   \n",
       "...          ...                                 ...        ...      ...   \n",
       "186222  41556790  FIVE GUYS FAMOUS BURGERS AND FRIES  Manhattan     2847   \n",
       "186223  50032876                      TANNER SMITH'S  Manhattan      204   \n",
       "186224  50003842                               T- 45  Manhattan      135   \n",
       "186225  41640824           RICURAS ECUADORIAN BAKERY      Bronx     1576   \n",
       "186226  41450971               GIOVANNI'S RESTAURANT      Bronx     3209   \n",
       "\n",
       "                           STREET  ZIPCODE       PHONE CUISINE DESCRIPTION  \\\n",
       "0                        9 AVENUE  10019.0  2129569488             Chicken   \n",
       "1                RIVERDALE AVENUE  10463.0  7187087600            American   \n",
       "2                EAST   58 STREET  10022.0  2128882288  Asian/Asian Fusion   \n",
       "3                EAST   58 STREET  10022.0  2128882288  Asian/Asian Fusion   \n",
       "4       HORACE HARDING EXPRESSWAY  11368.0  7182719222              Donuts   \n",
       "...                           ...      ...         ...                 ...   \n",
       "186222                  BROADFWAY      NaN  2126787701          Hamburgers   \n",
       "186223           WEST   55 STREET  10019.0  9175172283            American   \n",
       "186224           WEST   45 STREET  10036.0  6466403775            American   \n",
       "186225              WATSON AVENUE  10472.0  7184508363             Spanish   \n",
       "186226         WESTCHESTER AVENUE  10461.0  7188924340               Pizza   \n",
       "\n",
       "       INSPECTION DATE                                           ACTION  \\\n",
       "0           01/28/2019  Violations were cited in the following area(s).   \n",
       "1           09/23/2019  Violations were cited in the following area(s).   \n",
       "2           03/11/2020  Violations were cited in the following area(s).   \n",
       "3           03/11/2020  Violations were cited in the following area(s).   \n",
       "4           07/29/2021  Violations were cited in the following area(s).   \n",
       "...                ...                                              ...   \n",
       "186222      03/01/2019  Violations were cited in the following area(s).   \n",
       "186223      06/07/2019  Violations were cited in the following area(s).   \n",
       "186224      07/26/2018  Violations were cited in the following area(s).   \n",
       "186225      07/20/2018  Violations were cited in the following area(s).   \n",
       "186226      06/21/2017  Violations were cited in the following area(s).   \n",
       "\n",
       "       VIOLATION CODE  \\\n",
       "0                 04D   \n",
       "1                 04M   \n",
       "2                 10F   \n",
       "3                 10F   \n",
       "4                 06E   \n",
       "...               ...   \n",
       "186222            10F   \n",
       "186223            08A   \n",
       "186224            10B   \n",
       "186225            06F   \n",
       "186226            06D   \n",
       "\n",
       "                                                                                      VIOLATION DESCRIPTION  \\\n",
       "0       Food worker does not wash hands thoroughly after using the toilet, coughing, sneezing, smoking, ...   \n",
       "1                                            Live roaches present in facility's food and/or non-food areas.   \n",
       "2       Non-food contact surface improperly constructed. Unacceptable material used. Non-food contact su...   \n",
       "3       Non-food contact surface improperly constructed. Unacceptable material used. Non-food contact su...   \n",
       "4       Sanitized equipment or utensil, including in-use food dispensing utensil, improperly used or sto...   \n",
       "...                                                                                                     ...   \n",
       "186222  Non-food contact surface improperly constructed. Unacceptable material used. Non-food contact su...   \n",
       "186223  Facility not vermin proof. Harborage or conditions conducive to attracting vermin to the premise...   \n",
       "186224  Plumbing not properly installed or maintained; anti-siphonage or backflow prevention device not ...   \n",
       "186225                                           Wiping cloths soiled or not stored in sanitizing solution.   \n",
       "186226  Food contact surface not properly washed, rinsed and sanitized after each use and following any ...   \n",
       "\n",
       "       CRITICAL FLAG  SCORE GRADE  GRADE DATE RECORD DATE  \\\n",
       "0           Critical     22   NaN         NaN  03/24/2022   \n",
       "1           Critical     24   NaN         NaN  03/24/2022   \n",
       "2       Not Critical      9   NaN         NaN  03/24/2022   \n",
       "3       Not Critical      9   NaN         NaN  03/24/2022   \n",
       "4           Critical     10     A  07/29/2021  03/24/2022   \n",
       "...              ...    ...   ...         ...         ...   \n",
       "186222  Not Critical      3     A  03/01/2019  03/24/2022   \n",
       "186223  Not Critical     12     A  06/07/2019  03/24/2022   \n",
       "186224  Not Critical     49   NaN         NaN  03/24/2022   \n",
       "186225      Critical     12     A  07/20/2018  03/24/2022   \n",
       "186226      Critical     16   NaN         NaN  03/24/2022   \n",
       "\n",
       "                              INSPECTION TYPE   Latitude  Longitude  \\\n",
       "0       Cycle Inspection / Initial Inspection  40.765040 -73.987795   \n",
       "1       Cycle Inspection / Initial Inspection  40.886691 -73.907056   \n",
       "2       Cycle Inspection / Initial Inspection  40.762786 -73.971486   \n",
       "3       Cycle Inspection / Initial Inspection  40.762786 -73.971486   \n",
       "4       Cycle Inspection / Initial Inspection  40.736185 -73.858052   \n",
       "...                                       ...        ...        ...   \n",
       "186222  Cycle Inspection / Initial Inspection   0.000000   0.000000   \n",
       "186223  Cycle Inspection / Initial Inspection  40.764364 -73.981362   \n",
       "186224  Cycle Inspection / Initial Inspection  40.757244 -73.983815   \n",
       "186225  Cycle Inspection / Initial Inspection  40.826352 -73.876066   \n",
       "186226  Cycle Inspection / Initial Inspection  40.851761 -73.829569   \n",
       "\n",
       "        Community Board  Council District  Census Tract        BIN  \\\n",
       "0                 104.0               3.0       13300.0  1025235.0   \n",
       "1                 208.0              11.0       29500.0  2084186.0   \n",
       "2                 105.0               4.0       11202.0  1036073.0   \n",
       "3                 105.0               4.0       11202.0  1036073.0   \n",
       "4                 404.0              21.0       43702.0  4047915.0   \n",
       "...                 ...               ...           ...        ...   \n",
       "186222              NaN               NaN           NaN        NaN   \n",
       "186223            105.0               4.0       13700.0  1024857.0   \n",
       "186224            105.0               4.0       11900.0  1089796.0   \n",
       "186225            209.0              18.0        5001.0  2023533.0   \n",
       "186226            210.0              13.0       30000.0  2047655.0   \n",
       "\n",
       "                 BBL   NTA  \n",
       "0       1.010430e+09  MN15  \n",
       "1       2.057960e+09  BX29  \n",
       "2       1.012930e+09  MN17  \n",
       "3       1.012930e+09  MN17  \n",
       "4       4.019480e+09  QN25  \n",
       "...              ...   ...  \n",
       "186222  1.000000e+00   NaN  \n",
       "186223  1.010260e+09  MN17  \n",
       "186224  1.009980e+09  MN17  \n",
       "186225  2.037160e+09  BX55  \n",
       "186226  2.042450e+09  BX10  \n",
       "\n",
       "[186227 rows x 26 columns]"
      ]
     },
     "execution_count": 29,
     "metadata": {},
     "output_type": "execute_result"
    }
   ],
   "source": [
    "doh = pd.read_csv('data/DOHMH_New_York_City_Restaurant_Inspection_Results.csv')\n",
    "doh"
   ]
  },
  {
   "cell_type": "code",
   "execution_count": 3,
   "metadata": {
    "ExecuteTime": {
     "end_time": "2022-04-12T21:59:27.345185Z",
     "start_time": "2022-04-12T21:59:27.323786Z"
    }
   },
   "outputs": [
    {
     "data": {
      "text/plain": [
       "19792"
      ]
     },
     "execution_count": 3,
     "metadata": {},
     "output_type": "execute_result"
    }
   ],
   "source": [
    "# How many unique restaurants are in this dataset?\n",
    "doh['CAMIS'].nunique()"
   ]
  },
  {
   "cell_type": "markdown",
   "metadata": {},
   "source": [
    "Health code violations found during an inspections carries a point value, and a restaurant’s score corresponds to a letter grade. A lower point score, leads to a better letter grade:\n",
    "\n",
    "\"A\" grade: 0 to 13 points for sanitary violations\n",
    "\"B\" grade: 14 to 27 points for sanitary violations\n",
    "\"C\" grade: 28 or more points for sanitary violations"
   ]
  },
  {
   "cell_type": "code",
   "execution_count": 4,
   "metadata": {
    "ExecuteTime": {
     "end_time": "2022-04-12T21:59:34.096126Z",
     "start_time": "2022-04-12T21:59:34.074365Z"
    }
   },
   "outputs": [],
   "source": [
    "doh['A'] = doh['SCORE'] < 14\n",
    "doh['B'] = (doh['SCORE'] > 13) & (doh['SCORE'] < 28)\n",
    "doh['C'] = doh['SCORE'] > 27"
   ]
  },
  {
   "cell_type": "code",
   "execution_count": 5,
   "metadata": {
    "ExecuteTime": {
     "end_time": "2022-04-12T21:59:35.349602Z",
     "start_time": "2022-04-12T21:59:35.288241Z"
    }
   },
   "outputs": [
    {
     "data": {
      "text/html": [
       "<div>\n",
       "<style scoped>\n",
       "    .dataframe tbody tr th:only-of-type {\n",
       "        vertical-align: middle;\n",
       "    }\n",
       "\n",
       "    .dataframe tbody tr th {\n",
       "        vertical-align: top;\n",
       "    }\n",
       "\n",
       "    .dataframe thead th {\n",
       "        text-align: right;\n",
       "    }\n",
       "</style>\n",
       "<table border=\"1\" class=\"dataframe\">\n",
       "  <thead>\n",
       "    <tr style=\"text-align: right;\">\n",
       "      <th></th>\n",
       "      <th>CAMIS</th>\n",
       "      <th>DBA</th>\n",
       "      <th>BORO</th>\n",
       "      <th>BUILDING</th>\n",
       "      <th>STREET</th>\n",
       "      <th>ZIPCODE</th>\n",
       "      <th>PHONE</th>\n",
       "      <th>CUISINE DESCRIPTION</th>\n",
       "      <th>INSPECTION DATE</th>\n",
       "      <th>ACTION</th>\n",
       "      <th>VIOLATION CODE</th>\n",
       "      <th>VIOLATION DESCRIPTION</th>\n",
       "      <th>CRITICAL FLAG</th>\n",
       "      <th>SCORE</th>\n",
       "      <th>GRADE</th>\n",
       "      <th>GRADE DATE</th>\n",
       "      <th>RECORD DATE</th>\n",
       "      <th>INSPECTION TYPE</th>\n",
       "      <th>Latitude</th>\n",
       "      <th>Longitude</th>\n",
       "      <th>Community Board</th>\n",
       "      <th>Council District</th>\n",
       "      <th>Census Tract</th>\n",
       "      <th>BIN</th>\n",
       "      <th>BBL</th>\n",
       "      <th>NTA</th>\n",
       "      <th>A</th>\n",
       "      <th>B</th>\n",
       "      <th>C</th>\n",
       "    </tr>\n",
       "  </thead>\n",
       "  <tbody>\n",
       "    <tr>\n",
       "      <th>0</th>\n",
       "      <td>50008319</td>\n",
       "      <td>POULETTE</td>\n",
       "      <td>Manhattan</td>\n",
       "      <td>790</td>\n",
       "      <td>9 AVENUE</td>\n",
       "      <td>10019.0</td>\n",
       "      <td>2129569488</td>\n",
       "      <td>Chicken</td>\n",
       "      <td>01/28/2019</td>\n",
       "      <td>Violations were cited in the following area(s).</td>\n",
       "      <td>04D</td>\n",
       "      <td>Food worker does not wash hands thoroughly after using the toilet, coughing, sneezing, smoking, ...</td>\n",
       "      <td>Critical</td>\n",
       "      <td>22</td>\n",
       "      <td>NaN</td>\n",
       "      <td>NaN</td>\n",
       "      <td>03/24/2022</td>\n",
       "      <td>Cycle Inspection / Initial Inspection</td>\n",
       "      <td>40.765040</td>\n",
       "      <td>-73.987795</td>\n",
       "      <td>104.0</td>\n",
       "      <td>3.0</td>\n",
       "      <td>13300.0</td>\n",
       "      <td>1025235.0</td>\n",
       "      <td>1.010430e+09</td>\n",
       "      <td>MN15</td>\n",
       "      <td>False</td>\n",
       "      <td>True</td>\n",
       "      <td>False</td>\n",
       "    </tr>\n",
       "    <tr>\n",
       "      <th>1</th>\n",
       "      <td>41678734</td>\n",
       "      <td>TINY'S DINER</td>\n",
       "      <td>Bronx</td>\n",
       "      <td>3603</td>\n",
       "      <td>RIVERDALE AVENUE</td>\n",
       "      <td>10463.0</td>\n",
       "      <td>7187087600</td>\n",
       "      <td>American</td>\n",
       "      <td>09/23/2019</td>\n",
       "      <td>Violations were cited in the following area(s).</td>\n",
       "      <td>04M</td>\n",
       "      <td>Live roaches present in facility's food and/or non-food areas.</td>\n",
       "      <td>Critical</td>\n",
       "      <td>24</td>\n",
       "      <td>NaN</td>\n",
       "      <td>NaN</td>\n",
       "      <td>03/24/2022</td>\n",
       "      <td>Cycle Inspection / Initial Inspection</td>\n",
       "      <td>40.886691</td>\n",
       "      <td>-73.907056</td>\n",
       "      <td>208.0</td>\n",
       "      <td>11.0</td>\n",
       "      <td>29500.0</td>\n",
       "      <td>2084186.0</td>\n",
       "      <td>2.057960e+09</td>\n",
       "      <td>BX29</td>\n",
       "      <td>False</td>\n",
       "      <td>True</td>\n",
       "      <td>False</td>\n",
       "    </tr>\n",
       "    <tr>\n",
       "      <th>2</th>\n",
       "      <td>40795021</td>\n",
       "      <td>TAO RESTAURANT</td>\n",
       "      <td>Manhattan</td>\n",
       "      <td>42</td>\n",
       "      <td>EAST   58 STREET</td>\n",
       "      <td>10022.0</td>\n",
       "      <td>2128882288</td>\n",
       "      <td>Asian/Asian Fusion</td>\n",
       "      <td>03/11/2020</td>\n",
       "      <td>Violations were cited in the following area(s).</td>\n",
       "      <td>10F</td>\n",
       "      <td>Non-food contact surface improperly constructed. Unacceptable material used. Non-food contact su...</td>\n",
       "      <td>Not Critical</td>\n",
       "      <td>9</td>\n",
       "      <td>NaN</td>\n",
       "      <td>NaN</td>\n",
       "      <td>03/24/2022</td>\n",
       "      <td>Cycle Inspection / Initial Inspection</td>\n",
       "      <td>40.762786</td>\n",
       "      <td>-73.971486</td>\n",
       "      <td>105.0</td>\n",
       "      <td>4.0</td>\n",
       "      <td>11202.0</td>\n",
       "      <td>1036073.0</td>\n",
       "      <td>1.012930e+09</td>\n",
       "      <td>MN17</td>\n",
       "      <td>True</td>\n",
       "      <td>False</td>\n",
       "      <td>False</td>\n",
       "    </tr>\n",
       "    <tr>\n",
       "      <th>3</th>\n",
       "      <td>40795021</td>\n",
       "      <td>TAO RESTAURANT</td>\n",
       "      <td>Manhattan</td>\n",
       "      <td>42</td>\n",
       "      <td>EAST   58 STREET</td>\n",
       "      <td>10022.0</td>\n",
       "      <td>2128882288</td>\n",
       "      <td>Asian/Asian Fusion</td>\n",
       "      <td>03/11/2020</td>\n",
       "      <td>Violations were cited in the following area(s).</td>\n",
       "      <td>10F</td>\n",
       "      <td>Non-food contact surface improperly constructed. Unacceptable material used. Non-food contact su...</td>\n",
       "      <td>Not Critical</td>\n",
       "      <td>9</td>\n",
       "      <td>NaN</td>\n",
       "      <td>NaN</td>\n",
       "      <td>03/24/2022</td>\n",
       "      <td>Cycle Inspection / Initial Inspection</td>\n",
       "      <td>40.762786</td>\n",
       "      <td>-73.971486</td>\n",
       "      <td>105.0</td>\n",
       "      <td>4.0</td>\n",
       "      <td>11202.0</td>\n",
       "      <td>1036073.0</td>\n",
       "      <td>1.012930e+09</td>\n",
       "      <td>MN17</td>\n",
       "      <td>True</td>\n",
       "      <td>False</td>\n",
       "      <td>False</td>\n",
       "    </tr>\n",
       "    <tr>\n",
       "      <th>4</th>\n",
       "      <td>40538234</td>\n",
       "      <td>DUNKIN',' BASKIN ROBBINS</td>\n",
       "      <td>Queens</td>\n",
       "      <td>9925</td>\n",
       "      <td>HORACE HARDING EXPRESSWAY</td>\n",
       "      <td>11368.0</td>\n",
       "      <td>7182719222</td>\n",
       "      <td>Donuts</td>\n",
       "      <td>07/29/2021</td>\n",
       "      <td>Violations were cited in the following area(s).</td>\n",
       "      <td>06E</td>\n",
       "      <td>Sanitized equipment or utensil, including in-use food dispensing utensil, improperly used or sto...</td>\n",
       "      <td>Critical</td>\n",
       "      <td>10</td>\n",
       "      <td>A</td>\n",
       "      <td>07/29/2021</td>\n",
       "      <td>03/24/2022</td>\n",
       "      <td>Cycle Inspection / Initial Inspection</td>\n",
       "      <td>40.736185</td>\n",
       "      <td>-73.858052</td>\n",
       "      <td>404.0</td>\n",
       "      <td>21.0</td>\n",
       "      <td>43702.0</td>\n",
       "      <td>4047915.0</td>\n",
       "      <td>4.019480e+09</td>\n",
       "      <td>QN25</td>\n",
       "      <td>True</td>\n",
       "      <td>False</td>\n",
       "      <td>False</td>\n",
       "    </tr>\n",
       "    <tr>\n",
       "      <th>...</th>\n",
       "      <td>...</td>\n",
       "      <td>...</td>\n",
       "      <td>...</td>\n",
       "      <td>...</td>\n",
       "      <td>...</td>\n",
       "      <td>...</td>\n",
       "      <td>...</td>\n",
       "      <td>...</td>\n",
       "      <td>...</td>\n",
       "      <td>...</td>\n",
       "      <td>...</td>\n",
       "      <td>...</td>\n",
       "      <td>...</td>\n",
       "      <td>...</td>\n",
       "      <td>...</td>\n",
       "      <td>...</td>\n",
       "      <td>...</td>\n",
       "      <td>...</td>\n",
       "      <td>...</td>\n",
       "      <td>...</td>\n",
       "      <td>...</td>\n",
       "      <td>...</td>\n",
       "      <td>...</td>\n",
       "      <td>...</td>\n",
       "      <td>...</td>\n",
       "      <td>...</td>\n",
       "      <td>...</td>\n",
       "      <td>...</td>\n",
       "      <td>...</td>\n",
       "    </tr>\n",
       "    <tr>\n",
       "      <th>186222</th>\n",
       "      <td>41556790</td>\n",
       "      <td>FIVE GUYS FAMOUS BURGERS AND FRIES</td>\n",
       "      <td>Manhattan</td>\n",
       "      <td>2847</td>\n",
       "      <td>BROADFWAY</td>\n",
       "      <td>NaN</td>\n",
       "      <td>2126787701</td>\n",
       "      <td>Hamburgers</td>\n",
       "      <td>03/01/2019</td>\n",
       "      <td>Violations were cited in the following area(s).</td>\n",
       "      <td>10F</td>\n",
       "      <td>Non-food contact surface improperly constructed. Unacceptable material used. Non-food contact su...</td>\n",
       "      <td>Not Critical</td>\n",
       "      <td>3</td>\n",
       "      <td>A</td>\n",
       "      <td>03/01/2019</td>\n",
       "      <td>03/24/2022</td>\n",
       "      <td>Cycle Inspection / Initial Inspection</td>\n",
       "      <td>0.000000</td>\n",
       "      <td>0.000000</td>\n",
       "      <td>NaN</td>\n",
       "      <td>NaN</td>\n",
       "      <td>NaN</td>\n",
       "      <td>NaN</td>\n",
       "      <td>1.000000e+00</td>\n",
       "      <td>NaN</td>\n",
       "      <td>True</td>\n",
       "      <td>False</td>\n",
       "      <td>False</td>\n",
       "    </tr>\n",
       "    <tr>\n",
       "      <th>186223</th>\n",
       "      <td>50032876</td>\n",
       "      <td>TANNER SMITH'S</td>\n",
       "      <td>Manhattan</td>\n",
       "      <td>204</td>\n",
       "      <td>WEST   55 STREET</td>\n",
       "      <td>10019.0</td>\n",
       "      <td>9175172283</td>\n",
       "      <td>American</td>\n",
       "      <td>06/07/2019</td>\n",
       "      <td>Violations were cited in the following area(s).</td>\n",
       "      <td>08A</td>\n",
       "      <td>Facility not vermin proof. Harborage or conditions conducive to attracting vermin to the premise...</td>\n",
       "      <td>Not Critical</td>\n",
       "      <td>12</td>\n",
       "      <td>A</td>\n",
       "      <td>06/07/2019</td>\n",
       "      <td>03/24/2022</td>\n",
       "      <td>Cycle Inspection / Initial Inspection</td>\n",
       "      <td>40.764364</td>\n",
       "      <td>-73.981362</td>\n",
       "      <td>105.0</td>\n",
       "      <td>4.0</td>\n",
       "      <td>13700.0</td>\n",
       "      <td>1024857.0</td>\n",
       "      <td>1.010260e+09</td>\n",
       "      <td>MN17</td>\n",
       "      <td>True</td>\n",
       "      <td>False</td>\n",
       "      <td>False</td>\n",
       "    </tr>\n",
       "    <tr>\n",
       "      <th>186224</th>\n",
       "      <td>50003842</td>\n",
       "      <td>T- 45</td>\n",
       "      <td>Manhattan</td>\n",
       "      <td>135</td>\n",
       "      <td>WEST   45 STREET</td>\n",
       "      <td>10036.0</td>\n",
       "      <td>6466403775</td>\n",
       "      <td>American</td>\n",
       "      <td>07/26/2018</td>\n",
       "      <td>Violations were cited in the following area(s).</td>\n",
       "      <td>10B</td>\n",
       "      <td>Plumbing not properly installed or maintained; anti-siphonage or backflow prevention device not ...</td>\n",
       "      <td>Not Critical</td>\n",
       "      <td>49</td>\n",
       "      <td>NaN</td>\n",
       "      <td>NaN</td>\n",
       "      <td>03/24/2022</td>\n",
       "      <td>Cycle Inspection / Initial Inspection</td>\n",
       "      <td>40.757244</td>\n",
       "      <td>-73.983815</td>\n",
       "      <td>105.0</td>\n",
       "      <td>4.0</td>\n",
       "      <td>11900.0</td>\n",
       "      <td>1089796.0</td>\n",
       "      <td>1.009980e+09</td>\n",
       "      <td>MN17</td>\n",
       "      <td>False</td>\n",
       "      <td>False</td>\n",
       "      <td>True</td>\n",
       "    </tr>\n",
       "    <tr>\n",
       "      <th>186225</th>\n",
       "      <td>41640824</td>\n",
       "      <td>RICURAS ECUADORIAN BAKERY</td>\n",
       "      <td>Bronx</td>\n",
       "      <td>1576</td>\n",
       "      <td>WATSON AVENUE</td>\n",
       "      <td>10472.0</td>\n",
       "      <td>7184508363</td>\n",
       "      <td>Spanish</td>\n",
       "      <td>07/20/2018</td>\n",
       "      <td>Violations were cited in the following area(s).</td>\n",
       "      <td>06F</td>\n",
       "      <td>Wiping cloths soiled or not stored in sanitizing solution.</td>\n",
       "      <td>Critical</td>\n",
       "      <td>12</td>\n",
       "      <td>A</td>\n",
       "      <td>07/20/2018</td>\n",
       "      <td>03/24/2022</td>\n",
       "      <td>Cycle Inspection / Initial Inspection</td>\n",
       "      <td>40.826352</td>\n",
       "      <td>-73.876066</td>\n",
       "      <td>209.0</td>\n",
       "      <td>18.0</td>\n",
       "      <td>5001.0</td>\n",
       "      <td>2023533.0</td>\n",
       "      <td>2.037160e+09</td>\n",
       "      <td>BX55</td>\n",
       "      <td>True</td>\n",
       "      <td>False</td>\n",
       "      <td>False</td>\n",
       "    </tr>\n",
       "    <tr>\n",
       "      <th>186226</th>\n",
       "      <td>41450971</td>\n",
       "      <td>GIOVANNI'S RESTAURANT</td>\n",
       "      <td>Bronx</td>\n",
       "      <td>3209</td>\n",
       "      <td>WESTCHESTER AVENUE</td>\n",
       "      <td>10461.0</td>\n",
       "      <td>7188924340</td>\n",
       "      <td>Pizza</td>\n",
       "      <td>06/21/2017</td>\n",
       "      <td>Violations were cited in the following area(s).</td>\n",
       "      <td>06D</td>\n",
       "      <td>Food contact surface not properly washed, rinsed and sanitized after each use and following any ...</td>\n",
       "      <td>Critical</td>\n",
       "      <td>16</td>\n",
       "      <td>NaN</td>\n",
       "      <td>NaN</td>\n",
       "      <td>03/24/2022</td>\n",
       "      <td>Cycle Inspection / Initial Inspection</td>\n",
       "      <td>40.851761</td>\n",
       "      <td>-73.829569</td>\n",
       "      <td>210.0</td>\n",
       "      <td>13.0</td>\n",
       "      <td>30000.0</td>\n",
       "      <td>2047655.0</td>\n",
       "      <td>2.042450e+09</td>\n",
       "      <td>BX10</td>\n",
       "      <td>False</td>\n",
       "      <td>True</td>\n",
       "      <td>False</td>\n",
       "    </tr>\n",
       "  </tbody>\n",
       "</table>\n",
       "<p>186227 rows × 29 columns</p>\n",
       "</div>"
      ],
      "text/plain": [
       "           CAMIS                                 DBA       BORO BUILDING  \\\n",
       "0       50008319                            POULETTE  Manhattan      790   \n",
       "1       41678734                        TINY'S DINER      Bronx     3603   \n",
       "2       40795021                      TAO RESTAURANT  Manhattan       42   \n",
       "3       40795021                      TAO RESTAURANT  Manhattan       42   \n",
       "4       40538234            DUNKIN',' BASKIN ROBBINS     Queens     9925   \n",
       "...          ...                                 ...        ...      ...   \n",
       "186222  41556790  FIVE GUYS FAMOUS BURGERS AND FRIES  Manhattan     2847   \n",
       "186223  50032876                      TANNER SMITH'S  Manhattan      204   \n",
       "186224  50003842                               T- 45  Manhattan      135   \n",
       "186225  41640824           RICURAS ECUADORIAN BAKERY      Bronx     1576   \n",
       "186226  41450971               GIOVANNI'S RESTAURANT      Bronx     3209   \n",
       "\n",
       "                           STREET  ZIPCODE       PHONE CUISINE DESCRIPTION  \\\n",
       "0                        9 AVENUE  10019.0  2129569488             Chicken   \n",
       "1                RIVERDALE AVENUE  10463.0  7187087600            American   \n",
       "2                EAST   58 STREET  10022.0  2128882288  Asian/Asian Fusion   \n",
       "3                EAST   58 STREET  10022.0  2128882288  Asian/Asian Fusion   \n",
       "4       HORACE HARDING EXPRESSWAY  11368.0  7182719222              Donuts   \n",
       "...                           ...      ...         ...                 ...   \n",
       "186222                  BROADFWAY      NaN  2126787701          Hamburgers   \n",
       "186223           WEST   55 STREET  10019.0  9175172283            American   \n",
       "186224           WEST   45 STREET  10036.0  6466403775            American   \n",
       "186225              WATSON AVENUE  10472.0  7184508363             Spanish   \n",
       "186226         WESTCHESTER AVENUE  10461.0  7188924340               Pizza   \n",
       "\n",
       "       INSPECTION DATE                                           ACTION  \\\n",
       "0           01/28/2019  Violations were cited in the following area(s).   \n",
       "1           09/23/2019  Violations were cited in the following area(s).   \n",
       "2           03/11/2020  Violations were cited in the following area(s).   \n",
       "3           03/11/2020  Violations were cited in the following area(s).   \n",
       "4           07/29/2021  Violations were cited in the following area(s).   \n",
       "...                ...                                              ...   \n",
       "186222      03/01/2019  Violations were cited in the following area(s).   \n",
       "186223      06/07/2019  Violations were cited in the following area(s).   \n",
       "186224      07/26/2018  Violations were cited in the following area(s).   \n",
       "186225      07/20/2018  Violations were cited in the following area(s).   \n",
       "186226      06/21/2017  Violations were cited in the following area(s).   \n",
       "\n",
       "       VIOLATION CODE  \\\n",
       "0                 04D   \n",
       "1                 04M   \n",
       "2                 10F   \n",
       "3                 10F   \n",
       "4                 06E   \n",
       "...               ...   \n",
       "186222            10F   \n",
       "186223            08A   \n",
       "186224            10B   \n",
       "186225            06F   \n",
       "186226            06D   \n",
       "\n",
       "                                                                                      VIOLATION DESCRIPTION  \\\n",
       "0       Food worker does not wash hands thoroughly after using the toilet, coughing, sneezing, smoking, ...   \n",
       "1                                            Live roaches present in facility's food and/or non-food areas.   \n",
       "2       Non-food contact surface improperly constructed. Unacceptable material used. Non-food contact su...   \n",
       "3       Non-food contact surface improperly constructed. Unacceptable material used. Non-food contact su...   \n",
       "4       Sanitized equipment or utensil, including in-use food dispensing utensil, improperly used or sto...   \n",
       "...                                                                                                     ...   \n",
       "186222  Non-food contact surface improperly constructed. Unacceptable material used. Non-food contact su...   \n",
       "186223  Facility not vermin proof. Harborage or conditions conducive to attracting vermin to the premise...   \n",
       "186224  Plumbing not properly installed or maintained; anti-siphonage or backflow prevention device not ...   \n",
       "186225                                           Wiping cloths soiled or not stored in sanitizing solution.   \n",
       "186226  Food contact surface not properly washed, rinsed and sanitized after each use and following any ...   \n",
       "\n",
       "       CRITICAL FLAG  SCORE GRADE  GRADE DATE RECORD DATE  \\\n",
       "0           Critical     22   NaN         NaN  03/24/2022   \n",
       "1           Critical     24   NaN         NaN  03/24/2022   \n",
       "2       Not Critical      9   NaN         NaN  03/24/2022   \n",
       "3       Not Critical      9   NaN         NaN  03/24/2022   \n",
       "4           Critical     10     A  07/29/2021  03/24/2022   \n",
       "...              ...    ...   ...         ...         ...   \n",
       "186222  Not Critical      3     A  03/01/2019  03/24/2022   \n",
       "186223  Not Critical     12     A  06/07/2019  03/24/2022   \n",
       "186224  Not Critical     49   NaN         NaN  03/24/2022   \n",
       "186225      Critical     12     A  07/20/2018  03/24/2022   \n",
       "186226      Critical     16   NaN         NaN  03/24/2022   \n",
       "\n",
       "                              INSPECTION TYPE   Latitude  Longitude  \\\n",
       "0       Cycle Inspection / Initial Inspection  40.765040 -73.987795   \n",
       "1       Cycle Inspection / Initial Inspection  40.886691 -73.907056   \n",
       "2       Cycle Inspection / Initial Inspection  40.762786 -73.971486   \n",
       "3       Cycle Inspection / Initial Inspection  40.762786 -73.971486   \n",
       "4       Cycle Inspection / Initial Inspection  40.736185 -73.858052   \n",
       "...                                       ...        ...        ...   \n",
       "186222  Cycle Inspection / Initial Inspection   0.000000   0.000000   \n",
       "186223  Cycle Inspection / Initial Inspection  40.764364 -73.981362   \n",
       "186224  Cycle Inspection / Initial Inspection  40.757244 -73.983815   \n",
       "186225  Cycle Inspection / Initial Inspection  40.826352 -73.876066   \n",
       "186226  Cycle Inspection / Initial Inspection  40.851761 -73.829569   \n",
       "\n",
       "        Community Board  Council District  Census Tract        BIN  \\\n",
       "0                 104.0               3.0       13300.0  1025235.0   \n",
       "1                 208.0              11.0       29500.0  2084186.0   \n",
       "2                 105.0               4.0       11202.0  1036073.0   \n",
       "3                 105.0               4.0       11202.0  1036073.0   \n",
       "4                 404.0              21.0       43702.0  4047915.0   \n",
       "...                 ...               ...           ...        ...   \n",
       "186222              NaN               NaN           NaN        NaN   \n",
       "186223            105.0               4.0       13700.0  1024857.0   \n",
       "186224            105.0               4.0       11900.0  1089796.0   \n",
       "186225            209.0              18.0        5001.0  2023533.0   \n",
       "186226            210.0              13.0       30000.0  2047655.0   \n",
       "\n",
       "                 BBL   NTA      A      B      C  \n",
       "0       1.010430e+09  MN15  False   True  False  \n",
       "1       2.057960e+09  BX29  False   True  False  \n",
       "2       1.012930e+09  MN17   True  False  False  \n",
       "3       1.012930e+09  MN17   True  False  False  \n",
       "4       4.019480e+09  QN25   True  False  False  \n",
       "...              ...   ...    ...    ...    ...  \n",
       "186222  1.000000e+00   NaN   True  False  False  \n",
       "186223  1.010260e+09  MN17   True  False  False  \n",
       "186224  1.009980e+09  MN17  False  False   True  \n",
       "186225  2.037160e+09  BX55   True  False  False  \n",
       "186226  2.042450e+09  BX10  False   True  False  \n",
       "\n",
       "[186227 rows x 29 columns]"
      ]
     },
     "execution_count": 5,
     "metadata": {},
     "output_type": "execute_result"
    }
   ],
   "source": [
    "doh"
   ]
  },
  {
   "cell_type": "code",
   "execution_count": 30,
   "metadata": {
    "ExecuteTime": {
     "end_time": "2022-04-12T22:11:03.704849Z",
     "start_time": "2022-04-12T22:11:03.608996Z"
    }
   },
   "outputs": [],
   "source": [
    "doh['PHONE'] = '+1'+doh['PHONE']"
   ]
  },
  {
   "cell_type": "code",
   "execution_count": 33,
   "metadata": {
    "ExecuteTime": {
     "end_time": "2022-04-12T22:12:28.659325Z",
     "start_time": "2022-04-12T22:12:28.650880Z"
    }
   },
   "outputs": [
    {
     "data": {
      "text/plain": [
       "'+17187087600'"
      ]
     },
     "execution_count": 33,
     "metadata": {},
     "output_type": "execute_result"
    }
   ],
   "source": [
    "top_doh = doh.head()\n",
    "top_doh['PHONE'].iloc[1]"
   ]
  },
  {
   "cell_type": "code",
   "execution_count": 14,
   "metadata": {
    "ExecuteTime": {
     "end_time": "2022-04-12T22:05:34.987999Z",
     "start_time": "2022-04-12T22:05:34.984416Z"
    }
   },
   "outputs": [],
   "source": [
    "# pass_fail = doh.groupby(['CAMIS'])['PASS', 'FAIL'].sum()"
   ]
  },
  {
   "cell_type": "code",
   "execution_count": 15,
   "metadata": {
    "ExecuteTime": {
     "end_time": "2022-04-12T22:05:37.859032Z",
     "start_time": "2022-04-12T22:05:37.855054Z"
    }
   },
   "outputs": [],
   "source": [
    "# pass_fail[pass_fail['FAIL'] > 0]"
   ]
  },
  {
   "cell_type": "markdown",
   "metadata": {},
   "source": [
    "Of the 19,792 unique restaurants, 12,221 did not pass the intitial inspections at least once."
   ]
  },
  {
   "cell_type": "code",
   "execution_count": 21,
   "metadata": {
    "ExecuteTime": {
     "end_time": "2022-04-12T22:06:00.532949Z",
     "start_time": "2022-04-12T22:06:00.436768Z"
    }
   },
   "outputs": [],
   "source": [
    "doh_grades = doh.groupby(['CAMIS'])['PHONE','BORO','BUILDING','STREET','ZIPCODE',\n",
    "                                    'PHONE','CUISINE DESCRIPTION',\n",
    "                                    'Latitude','Longitude','Community Board',\n",
    "                                    'Council District','Census Tract',\n",
    "                                    'A', 'B','C'].sum()"
   ]
  },
  {
   "cell_type": "code",
   "execution_count": 22,
   "metadata": {
    "ExecuteTime": {
     "end_time": "2022-04-12T22:06:01.324339Z",
     "start_time": "2022-04-12T22:06:01.298415Z"
    }
   },
   "outputs": [
    {
     "data": {
      "text/html": [
       "<div>\n",
       "<style scoped>\n",
       "    .dataframe tbody tr th:only-of-type {\n",
       "        vertical-align: middle;\n",
       "    }\n",
       "\n",
       "    .dataframe tbody tr th {\n",
       "        vertical-align: top;\n",
       "    }\n",
       "\n",
       "    .dataframe thead th {\n",
       "        text-align: right;\n",
       "    }\n",
       "</style>\n",
       "<table border=\"1\" class=\"dataframe\">\n",
       "  <thead>\n",
       "    <tr style=\"text-align: right;\">\n",
       "      <th></th>\n",
       "      <th>ZIPCODE</th>\n",
       "      <th>Latitude</th>\n",
       "      <th>Longitude</th>\n",
       "      <th>Community Board</th>\n",
       "      <th>Council District</th>\n",
       "      <th>Census Tract</th>\n",
       "      <th>A</th>\n",
       "      <th>B</th>\n",
       "      <th>C</th>\n",
       "    </tr>\n",
       "    <tr>\n",
       "      <th>CAMIS</th>\n",
       "      <th></th>\n",
       "      <th></th>\n",
       "      <th></th>\n",
       "      <th></th>\n",
       "      <th></th>\n",
       "      <th></th>\n",
       "      <th></th>\n",
       "      <th></th>\n",
       "      <th></th>\n",
       "    </tr>\n",
       "  </thead>\n",
       "  <tbody>\n",
       "    <tr>\n",
       "      <th>30075445</th>\n",
       "      <td>83696.0</td>\n",
       "      <td>326.785850</td>\n",
       "      <td>-590.847775</td>\n",
       "      <td>1688.0</td>\n",
       "      <td>104.0</td>\n",
       "      <td>201600.0</td>\n",
       "      <td>1</td>\n",
       "      <td>7</td>\n",
       "      <td>0</td>\n",
       "    </tr>\n",
       "    <tr>\n",
       "      <th>30112340</th>\n",
       "      <td>56125.0</td>\n",
       "      <td>203.313258</td>\n",
       "      <td>-369.810407</td>\n",
       "      <td>1545.0</td>\n",
       "      <td>200.0</td>\n",
       "      <td>163500.0</td>\n",
       "      <td>5</td>\n",
       "      <td>0</td>\n",
       "      <td>0</td>\n",
       "    </tr>\n",
       "    <tr>\n",
       "      <th>30191841</th>\n",
       "      <td>50095.0</td>\n",
       "      <td>203.836629</td>\n",
       "      <td>-369.921552</td>\n",
       "      <td>520.0</td>\n",
       "      <td>15.0</td>\n",
       "      <td>69500.0</td>\n",
       "      <td>5</td>\n",
       "      <td>0</td>\n",
       "      <td>0</td>\n",
       "    </tr>\n",
       "    <tr>\n",
       "      <th>40356018</th>\n",
       "      <td>44896.0</td>\n",
       "      <td>162.319681</td>\n",
       "      <td>-295.928361</td>\n",
       "      <td>1252.0</td>\n",
       "      <td>188.0</td>\n",
       "      <td>139200.0</td>\n",
       "      <td>4</td>\n",
       "      <td>0</td>\n",
       "      <td>0</td>\n",
       "    </tr>\n",
       "    <tr>\n",
       "      <th>40356483</th>\n",
       "      <td>78638.0</td>\n",
       "      <td>284.340781</td>\n",
       "      <td>-517.348926</td>\n",
       "      <td>2226.0</td>\n",
       "      <td>322.0</td>\n",
       "      <td>490000.0</td>\n",
       "      <td>3</td>\n",
       "      <td>4</td>\n",
       "      <td>0</td>\n",
       "    </tr>\n",
       "    <tr>\n",
       "      <th>...</th>\n",
       "      <td>...</td>\n",
       "      <td>...</td>\n",
       "      <td>...</td>\n",
       "      <td>...</td>\n",
       "      <td>...</td>\n",
       "      <td>...</td>\n",
       "      <td>...</td>\n",
       "      <td>...</td>\n",
       "      <td>...</td>\n",
       "    </tr>\n",
       "    <tr>\n",
       "      <th>50115169</th>\n",
       "      <td>10002.0</td>\n",
       "      <td>40.714841</td>\n",
       "      <td>-73.991700</td>\n",
       "      <td>103.0</td>\n",
       "      <td>1.0</td>\n",
       "      <td>1600.0</td>\n",
       "      <td>1</td>\n",
       "      <td>0</td>\n",
       "      <td>0</td>\n",
       "    </tr>\n",
       "    <tr>\n",
       "      <th>50116155</th>\n",
       "      <td>33699.0</td>\n",
       "      <td>122.051758</td>\n",
       "      <td>-221.752145</td>\n",
       "      <td>948.0</td>\n",
       "      <td>123.0</td>\n",
       "      <td>111900.0</td>\n",
       "      <td>3</td>\n",
       "      <td>0</td>\n",
       "      <td>0</td>\n",
       "    </tr>\n",
       "    <tr>\n",
       "      <th>50117350</th>\n",
       "      <td>30054.0</td>\n",
       "      <td>122.257596</td>\n",
       "      <td>-221.968545</td>\n",
       "      <td>315.0</td>\n",
       "      <td>9.0</td>\n",
       "      <td>32700.0</td>\n",
       "      <td>3</td>\n",
       "      <td>0</td>\n",
       "      <td>0</td>\n",
       "    </tr>\n",
       "    <tr>\n",
       "      <th>50117434</th>\n",
       "      <td>79604.0</td>\n",
       "      <td>285.289075</td>\n",
       "      <td>-517.196049</td>\n",
       "      <td>2821.0</td>\n",
       "      <td>175.0</td>\n",
       "      <td>228900.0</td>\n",
       "      <td>0</td>\n",
       "      <td>0</td>\n",
       "      <td>7</td>\n",
       "    </tr>\n",
       "    <tr>\n",
       "      <th>50117959</th>\n",
       "      <td>20058.0</td>\n",
       "      <td>81.581044</td>\n",
       "      <td>-147.885035</td>\n",
       "      <td>222.0</td>\n",
       "      <td>16.0</td>\n",
       "      <td>34000.0</td>\n",
       "      <td>2</td>\n",
       "      <td>0</td>\n",
       "      <td>0</td>\n",
       "    </tr>\n",
       "  </tbody>\n",
       "</table>\n",
       "<p>19792 rows × 9 columns</p>\n",
       "</div>"
      ],
      "text/plain": [
       "          ZIPCODE    Latitude   Longitude  Community Board  Council District  \\\n",
       "CAMIS                                                                          \n",
       "30075445  83696.0  326.785850 -590.847775           1688.0             104.0   \n",
       "30112340  56125.0  203.313258 -369.810407           1545.0             200.0   \n",
       "30191841  50095.0  203.836629 -369.921552            520.0              15.0   \n",
       "40356018  44896.0  162.319681 -295.928361           1252.0             188.0   \n",
       "40356483  78638.0  284.340781 -517.348926           2226.0             322.0   \n",
       "...           ...         ...         ...              ...               ...   \n",
       "50115169  10002.0   40.714841  -73.991700            103.0               1.0   \n",
       "50116155  33699.0  122.051758 -221.752145            948.0             123.0   \n",
       "50117350  30054.0  122.257596 -221.968545            315.0               9.0   \n",
       "50117434  79604.0  285.289075 -517.196049           2821.0             175.0   \n",
       "50117959  20058.0   81.581044 -147.885035            222.0              16.0   \n",
       "\n",
       "          Census Tract  A  B  C  \n",
       "CAMIS                            \n",
       "30075445      201600.0  1  7  0  \n",
       "30112340      163500.0  5  0  0  \n",
       "30191841       69500.0  5  0  0  \n",
       "40356018      139200.0  4  0  0  \n",
       "40356483      490000.0  3  4  0  \n",
       "...                ... .. .. ..  \n",
       "50115169        1600.0  1  0  0  \n",
       "50116155      111900.0  3  0  0  \n",
       "50117350       32700.0  3  0  0  \n",
       "50117434      228900.0  0  0  7  \n",
       "50117959       34000.0  2  0  0  \n",
       "\n",
       "[19792 rows x 9 columns]"
      ]
     },
     "execution_count": 22,
     "metadata": {},
     "output_type": "execute_result"
    }
   ],
   "source": [
    "doh_grades"
   ]
  },
  {
   "cell_type": "code",
   "execution_count": 18,
   "metadata": {
    "ExecuteTime": {
     "end_time": "2022-04-12T22:05:43.671331Z",
     "start_time": "2022-04-12T22:05:43.645571Z"
    }
   },
   "outputs": [
    {
     "data": {
      "text/html": [
       "<div>\n",
       "<style scoped>\n",
       "    .dataframe tbody tr th:only-of-type {\n",
       "        vertical-align: middle;\n",
       "    }\n",
       "\n",
       "    .dataframe tbody tr th {\n",
       "        vertical-align: top;\n",
       "    }\n",
       "\n",
       "    .dataframe thead th {\n",
       "        text-align: right;\n",
       "    }\n",
       "</style>\n",
       "<table border=\"1\" class=\"dataframe\">\n",
       "  <thead>\n",
       "    <tr style=\"text-align: right;\">\n",
       "      <th></th>\n",
       "      <th>ZIPCODE</th>\n",
       "      <th>Latitude</th>\n",
       "      <th>Longitude</th>\n",
       "      <th>Community Board</th>\n",
       "      <th>Council District</th>\n",
       "      <th>Census Tract</th>\n",
       "      <th>A</th>\n",
       "      <th>B</th>\n",
       "      <th>C</th>\n",
       "    </tr>\n",
       "    <tr>\n",
       "      <th>CAMIS</th>\n",
       "      <th></th>\n",
       "      <th></th>\n",
       "      <th></th>\n",
       "      <th></th>\n",
       "      <th></th>\n",
       "      <th></th>\n",
       "      <th></th>\n",
       "      <th></th>\n",
       "      <th></th>\n",
       "    </tr>\n",
       "  </thead>\n",
       "  <tbody>\n",
       "    <tr>\n",
       "      <th>30075445</th>\n",
       "      <td>83696.0</td>\n",
       "      <td>326.785850</td>\n",
       "      <td>-590.847775</td>\n",
       "      <td>1688.0</td>\n",
       "      <td>104.0</td>\n",
       "      <td>201600.0</td>\n",
       "      <td>1</td>\n",
       "      <td>7</td>\n",
       "      <td>0</td>\n",
       "    </tr>\n",
       "    <tr>\n",
       "      <th>40356483</th>\n",
       "      <td>101106.0</td>\n",
       "      <td>365.581004</td>\n",
       "      <td>-665.162905</td>\n",
       "      <td>2862.0</td>\n",
       "      <td>414.0</td>\n",
       "      <td>630000.0</td>\n",
       "      <td>5</td>\n",
       "      <td>4</td>\n",
       "      <td>0</td>\n",
       "    </tr>\n",
       "    <tr>\n",
       "      <th>40362264</th>\n",
       "      <td>70175.0</td>\n",
       "      <td>285.548344</td>\n",
       "      <td>-517.773967</td>\n",
       "      <td>749.0</td>\n",
       "      <td>42.0</td>\n",
       "      <td>126700.0</td>\n",
       "      <td>3</td>\n",
       "      <td>4</td>\n",
       "      <td>0</td>\n",
       "    </tr>\n",
       "    <tr>\n",
       "      <th>40362274</th>\n",
       "      <td>70084.0</td>\n",
       "      <td>285.080205</td>\n",
       "      <td>-517.982347</td>\n",
       "      <td>714.0</td>\n",
       "      <td>7.0</td>\n",
       "      <td>38507.0</td>\n",
       "      <td>1</td>\n",
       "      <td>6</td>\n",
       "      <td>0</td>\n",
       "    </tr>\n",
       "    <tr>\n",
       "      <th>40362715</th>\n",
       "      <td>230115.0</td>\n",
       "      <td>936.235858</td>\n",
       "      <td>-1702.198016</td>\n",
       "      <td>2323.0</td>\n",
       "      <td>23.0</td>\n",
       "      <td>16100.0</td>\n",
       "      <td>7</td>\n",
       "      <td>11</td>\n",
       "      <td>5</td>\n",
       "    </tr>\n",
       "    <tr>\n",
       "      <th>...</th>\n",
       "      <td>...</td>\n",
       "      <td>...</td>\n",
       "      <td>...</td>\n",
       "      <td>...</td>\n",
       "      <td>...</td>\n",
       "      <td>...</td>\n",
       "      <td>...</td>\n",
       "      <td>...</td>\n",
       "      <td>...</td>\n",
       "    </tr>\n",
       "    <tr>\n",
       "      <th>50111805</th>\n",
       "      <td>30042.0</td>\n",
       "      <td>122.195939</td>\n",
       "      <td>-222.011203</td>\n",
       "      <td>306.0</td>\n",
       "      <td>9.0</td>\n",
       "      <td>20100.0</td>\n",
       "      <td>0</td>\n",
       "      <td>3</td>\n",
       "      <td>0</td>\n",
       "    </tr>\n",
       "    <tr>\n",
       "      <th>50113198</th>\n",
       "      <td>40008.0</td>\n",
       "      <td>162.854183</td>\n",
       "      <td>-295.984590</td>\n",
       "      <td>412.0</td>\n",
       "      <td>4.0</td>\n",
       "      <td>3200.0</td>\n",
       "      <td>0</td>\n",
       "      <td>4</td>\n",
       "      <td>0</td>\n",
       "    </tr>\n",
       "    <tr>\n",
       "      <th>50113951</th>\n",
       "      <td>41820.0</td>\n",
       "      <td>163.249463</td>\n",
       "      <td>-295.613108</td>\n",
       "      <td>808.0</td>\n",
       "      <td>32.0</td>\n",
       "      <td>33200.0</td>\n",
       "      <td>0</td>\n",
       "      <td>4</td>\n",
       "      <td>0</td>\n",
       "    </tr>\n",
       "    <tr>\n",
       "      <th>50113984</th>\n",
       "      <td>30081.0</td>\n",
       "      <td>122.429129</td>\n",
       "      <td>-221.880270</td>\n",
       "      <td>327.0</td>\n",
       "      <td>21.0</td>\n",
       "      <td>60900.0</td>\n",
       "      <td>0</td>\n",
       "      <td>3</td>\n",
       "      <td>0</td>\n",
       "    </tr>\n",
       "    <tr>\n",
       "      <th>50114370</th>\n",
       "      <td>33639.0</td>\n",
       "      <td>121.993404</td>\n",
       "      <td>-221.794553</td>\n",
       "      <td>927.0</td>\n",
       "      <td>123.0</td>\n",
       "      <td>106500.0</td>\n",
       "      <td>0</td>\n",
       "      <td>3</td>\n",
       "      <td>0</td>\n",
       "    </tr>\n",
       "  </tbody>\n",
       "</table>\n",
       "<p>9978 rows × 9 columns</p>\n",
       "</div>"
      ],
      "text/plain": [
       "           ZIPCODE    Latitude    Longitude  Community Board  \\\n",
       "CAMIS                                                          \n",
       "30075445   83696.0  326.785850  -590.847775           1688.0   \n",
       "40356483  101106.0  365.581004  -665.162905           2862.0   \n",
       "40362264   70175.0  285.548344  -517.773967            749.0   \n",
       "40362274   70084.0  285.080205  -517.982347            714.0   \n",
       "40362715  230115.0  936.235858 -1702.198016           2323.0   \n",
       "...            ...         ...          ...              ...   \n",
       "50111805   30042.0  122.195939  -222.011203            306.0   \n",
       "50113198   40008.0  162.854183  -295.984590            412.0   \n",
       "50113951   41820.0  163.249463  -295.613108            808.0   \n",
       "50113984   30081.0  122.429129  -221.880270            327.0   \n",
       "50114370   33639.0  121.993404  -221.794553            927.0   \n",
       "\n",
       "          Council District  Census Tract  A   B  C  \n",
       "CAMIS                                               \n",
       "30075445             104.0      201600.0  1   7  0  \n",
       "40356483             414.0      630000.0  5   4  0  \n",
       "40362264              42.0      126700.0  3   4  0  \n",
       "40362274               7.0       38507.0  1   6  0  \n",
       "40362715              23.0       16100.0  7  11  5  \n",
       "...                    ...           ... ..  .. ..  \n",
       "50111805               9.0       20100.0  0   3  0  \n",
       "50113198               4.0        3200.0  0   4  0  \n",
       "50113951              32.0       33200.0  0   4  0  \n",
       "50113984              21.0       60900.0  0   3  0  \n",
       "50114370             123.0      106500.0  0   3  0  \n",
       "\n",
       "[9978 rows x 9 columns]"
      ]
     },
     "execution_count": 18,
     "metadata": {},
     "output_type": "execute_result"
    }
   ],
   "source": [
    "doh_grades[doh_grades['B'] > 0]"
   ]
  },
  {
   "cell_type": "markdown",
   "metadata": {},
   "source": [
    "Of the 19,792 unique restaurants, 9,978 failed an initial cycle inspection at least once."
   ]
  },
  {
   "cell_type": "code",
   "execution_count": 19,
   "metadata": {
    "ExecuteTime": {
     "end_time": "2022-04-12T22:05:48.975162Z",
     "start_time": "2022-04-12T22:05:48.404660Z"
    }
   },
   "outputs": [
    {
     "data": {
      "text/plain": [
       "11502"
      ]
     },
     "execution_count": 19,
     "metadata": {},
     "output_type": "execute_result"
    }
   ],
   "source": [
    "doh.duplicated().sum()"
   ]
  },
  {
   "cell_type": "code",
   "execution_count": 20,
   "metadata": {
    "ExecuteTime": {
     "end_time": "2022-04-12T22:05:49.719270Z",
     "start_time": "2022-04-12T22:05:49.057601Z"
    }
   },
   "outputs": [],
   "source": [
    "doh.drop_duplicates(inplace=True)"
   ]
  },
  {
   "cell_type": "code",
   "execution_count": null,
   "metadata": {
    "ExecuteTime": {
     "end_time": "2022-03-26T00:43:39.535897Z",
     "start_time": "2022-03-26T00:43:39.526939Z"
    }
   },
   "outputs": [],
   "source": [
    "doh.shape"
   ]
  },
  {
   "cell_type": "code",
   "execution_count": null,
   "metadata": {
    "ExecuteTime": {
     "end_time": "2022-03-26T00:43:43.616308Z",
     "start_time": "2022-03-26T00:43:43.610145Z"
    }
   },
   "outputs": [],
   "source": [
    "doh['SCORE'].isna().sum()"
   ]
  },
  {
   "cell_type": "code",
   "execution_count": null,
   "metadata": {
    "ExecuteTime": {
     "end_time": "2022-03-26T00:43:44.952194Z",
     "start_time": "2022-03-26T00:43:44.318734Z"
    }
   },
   "outputs": [],
   "source": [
    "doh['SCORE'].hist(bins=113, figsize=(12,8));"
   ]
  },
  {
   "cell_type": "code",
   "execution_count": null,
   "metadata": {
    "ExecuteTime": {
     "end_time": "2022-03-26T00:43:46.040149Z",
     "start_time": "2022-03-26T00:43:46.018190Z"
    }
   },
   "outputs": [],
   "source": [
    "doh['SCORE'].value_counts()"
   ]
  },
  {
   "cell_type": "code",
   "execution_count": null,
   "metadata": {
    "ExecuteTime": {
     "end_time": "2022-03-26T00:43:55.538283Z",
     "start_time": "2022-03-26T00:43:55.527840Z"
    }
   },
   "outputs": [],
   "source": [
    "doh['SCORE'].mean()"
   ]
  },
  {
   "cell_type": "code",
   "execution_count": null,
   "metadata": {
    "ExecuteTime": {
     "end_time": "2022-03-26T00:43:56.340926Z",
     "start_time": "2022-03-26T00:43:56.320324Z"
    }
   },
   "outputs": [],
   "source": [
    "doh['SCORE'].median()"
   ]
  },
  {
   "cell_type": "code",
   "execution_count": null,
   "metadata": {
    "ExecuteTime": {
     "end_time": "2022-03-26T00:43:57.150869Z",
     "start_time": "2022-03-26T00:43:57.134478Z"
    }
   },
   "outputs": [],
   "source": [
    "doh['SCORE'].mode()"
   ]
  },
  {
   "cell_type": "code",
   "execution_count": null,
   "metadata": {
    "ExecuteTime": {
     "end_time": "2022-03-26T00:43:59.815226Z",
     "start_time": "2022-03-26T00:43:59.794722Z"
    }
   },
   "outputs": [],
   "source": [
    "doh['GRADE'].isna().sum()"
   ]
  },
  {
   "cell_type": "code",
   "execution_count": null,
   "metadata": {
    "ExecuteTime": {
     "end_time": "2022-03-25T18:42:20.540069Z",
     "start_time": "2022-03-25T18:42:20.473413Z"
    }
   },
   "outputs": [],
   "source": [
    "doh['GRADE'].value_counts()"
   ]
  },
  {
   "cell_type": "code",
   "execution_count": null,
   "metadata": {
    "ExecuteTime": {
     "end_time": "2022-03-25T18:30:39.271881Z",
     "start_time": "2022-03-25T18:30:39.033137Z"
    }
   },
   "outputs": [],
   "source": [
    "doh.info()"
   ]
  },
  {
   "cell_type": "code",
   "execution_count": null,
   "metadata": {
    "ExecuteTime": {
     "end_time": "2022-03-26T00:33:04.431419Z",
     "start_time": "2022-03-26T00:33:03.703544Z"
    }
   },
   "outputs": [],
   "source": [
    "doh['INSPECTION DATE'] =  pd.to_datetime(doh['INSPECTION DATE'])"
   ]
  },
  {
   "cell_type": "code",
   "execution_count": null,
   "metadata": {
    "ExecuteTime": {
     "end_time": "2022-03-26T00:42:54.549470Z",
     "start_time": "2022-03-26T00:42:54.522854Z"
    }
   },
   "outputs": [],
   "source": [
    "# doh.pivot(columns=['CAMIS','INSPECTION DATE'],values='SCORE')"
   ]
  },
  {
   "cell_type": "code",
   "execution_count": null,
   "metadata": {},
   "outputs": [],
   "source": []
  },
  {
   "cell_type": "markdown",
   "metadata": {},
   "source": [
    "The New York Health Department inspects the approximately 27,000 restaurants within the city to monitor their compliance with food safety regulations. Inspectors observe how food is prepared, served and stored and whether restaurant workers are practicing good hygiene. They check food temperatures, equipment maintenance and pest control measures."
   ]
  },
  {
   "cell_type": "markdown",
   "metadata": {},
   "source": [
    "Calling API"
   ]
  },
  {
   "cell_type": "code",
   "execution_count": null,
   "metadata": {
    "ExecuteTime": {
     "end_time": "2022-03-25T16:51:41.595774Z",
     "start_time": "2022-03-25T16:51:40.363098Z"
    }
   },
   "outputs": [],
   "source": [
    "dohmh_df['score'].hist(bins='auto', figsize=(12,8));"
   ]
  },
  {
   "cell_type": "code",
   "execution_count": null,
   "metadata": {
    "ExecuteTime": {
     "end_time": "2022-03-23T14:15:24.838006Z",
     "start_time": "2022-03-23T14:15:23.353483Z"
    },
    "scrolled": true
   },
   "outputs": [],
   "source": [
    "# # Take a look at duplicated records\n",
    "# duplicates = df1.duplicated(subset=['camis'], keep=False)\n",
    "# df1.loc[duplicates.loc[duplicates==True].index].sort_values(by='camis')"
   ]
  },
  {
   "cell_type": "code",
   "execution_count": null,
   "metadata": {
    "ExecuteTime": {
     "end_time": "2022-03-21T23:11:43.399873Z",
     "start_time": "2022-03-21T23:11:42.924387Z"
    }
   },
   "outputs": [],
   "source": [
    "# # Unauthenticated client only works with public data sets. Note 'None'\n",
    "# # in place of application token, and no username or password:\n",
    "# client = Socrata(\"data.cityofnewyork.us\", None)\n",
    "\n",
    "\n",
    "\n",
    "# # Example authenticated client (needed for non-public datasets):\n",
    "# client = Socrata(data.cityofnewyork.us,\n",
    "#                  MyAppToken,\n",
    "#                  userame=\"user@example.com\",\n",
    "#                  password=\"AFakePassword\")\n",
    "\n",
    "# # First 2000 results, returned as JSON from API / converted to Python list of\n",
    "# # dictionaries by sodapy.\n",
    "# results = client.get(\"43nn-pn8j\", limit=2000)\n",
    "\n",
    "# # Convert to pandas DataFrame\n",
    "# dohmh_df = pd.DataFrame.from_records(results)"
   ]
  },
  {
   "cell_type": "markdown",
   "metadata": {},
   "source": [
    "## Yelp API"
   ]
  },
  {
   "cell_type": "code",
   "execution_count": 8,
   "metadata": {
    "ExecuteTime": {
     "end_time": "2022-04-12T22:00:01.528856Z",
     "start_time": "2022-04-12T22:00:01.523046Z"
    }
   },
   "outputs": [],
   "source": [
    "with open('/Users/Rob/.secret/yelp_api.json') as f:\n",
    "    creds = json.load(f)"
   ]
  },
  {
   "cell_type": "code",
   "execution_count": 9,
   "metadata": {
    "ExecuteTime": {
     "end_time": "2022-04-12T22:00:03.772875Z",
     "start_time": "2022-04-12T22:00:03.761462Z"
    }
   },
   "outputs": [
    {
     "data": {
      "text/plain": [
       "dict_keys(['api_key'])"
      ]
     },
     "execution_count": 9,
     "metadata": {},
     "output_type": "execute_result"
    }
   ],
   "source": [
    "creds.keys()"
   ]
  },
  {
   "cell_type": "code",
   "execution_count": 10,
   "metadata": {
    "ExecuteTime": {
     "end_time": "2022-04-12T22:00:12.138716Z",
     "start_time": "2022-04-12T22:00:12.133805Z"
    }
   },
   "outputs": [],
   "source": [
    "#Business Search      \n",
    "# url = 'https://api.yelp.com/v3/businesses/search'\n",
    "\n",
    "#Business Match       \n",
    "# url = 'https://api.yelp.com/v3/businesses/matches'\n",
    "\n",
    "#Phone Search         \n",
    "url = 'https://api.yelp.com/v3/businesses/search/phone'\n",
    "\n",
    "#Business Details     \n",
    "# url = 'https://api.yelp.com/v3/businesses/{id}'\n",
    "\n",
    "#Business Reviews     \n",
    "# url = 'https://api.yelp.com/v3/businesses/{id}/reviews'"
   ]
  },
  {
   "cell_type": "code",
   "execution_count": null,
   "metadata": {
    "ExecuteTime": {
     "end_time": "2022-04-12T17:40:46.110231Z",
     "start_time": "2022-04-12T17:40:45.431775Z"
    }
   },
   "outputs": [],
   "source": [
    "# #Business Search  \n",
    "# headers = {\n",
    "#     'Authorization': 'Bearer ' + creds['api_key']\n",
    "#           }\n",
    "# location = 'New York NY'\n",
    "# SEARCH_LIMIT = 50\n",
    "\n",
    "# url_params = {\n",
    "#     'limit': SEARCH_LIMIT,\n",
    "#     'location' : location.replace(' ','+'),\n",
    "#     'offset': 0\n",
    "#              }\n",
    "\n",
    "\n",
    "# response = requests.get(url, headers=headers, params=url_params)\n",
    "# print(response.status_code)"
   ]
  },
  {
   "cell_type": "code",
   "execution_count": 26,
   "metadata": {
    "ExecuteTime": {
     "end_time": "2022-04-12T22:07:20.631441Z",
     "start_time": "2022-04-12T22:07:20.624371Z"
    }
   },
   "outputs": [
    {
     "data": {
      "text/plain": [
       "['+2129569488', '+7187087600', '+2128882288', '+2128882288', '+7182719222']"
      ]
     },
     "execution_count": 26,
     "metadata": {},
     "output_type": "execute_result"
    }
   ],
   "source": [
    "phones = list(top_doh['PHONE'])"
   ]
  },
  {
   "cell_type": "code",
   "execution_count": 34,
   "metadata": {
    "ExecuteTime": {
     "end_time": "2022-04-12T22:13:11.725230Z",
     "start_time": "2022-04-12T22:13:11.097145Z"
    }
   },
   "outputs": [
    {
     "name": "stdout",
     "output_type": "stream",
     "text": [
      "200\n"
     ]
    }
   ],
   "source": [
    "#Phone Search  \n",
    "headers = {\n",
    "    'Authorization': 'Bearer ' + creds['api_key']\n",
    "          }\n",
    "\n",
    "url_params = {\n",
    "    'phone': top_doh['PHONE'].iloc[1]\n",
    "             }\n",
    "\n",
    "\n",
    "response = requests.get(url, headers=headers, params=url_params)\n",
    "print(response.status_code)"
   ]
  },
  {
   "cell_type": "code",
   "execution_count": 35,
   "metadata": {
    "ExecuteTime": {
     "end_time": "2022-04-12T22:13:16.626294Z",
     "start_time": "2022-04-12T22:13:16.617788Z"
    }
   },
   "outputs": [
    {
     "data": {
      "text/plain": [
       "dict_keys(['businesses', 'total'])"
      ]
     },
     "execution_count": 35,
     "metadata": {},
     "output_type": "execute_result"
    }
   ],
   "source": [
    "response_json = response.json()\n",
    "# View the keys\n",
    "response_json.keys()"
   ]
  },
  {
   "cell_type": "code",
   "execution_count": 47,
   "metadata": {
    "ExecuteTime": {
     "end_time": "2022-04-12T22:20:29.711047Z",
     "start_time": "2022-04-12T22:20:29.701890Z"
    }
   },
   "outputs": [],
   "source": [
    "# Functionize the Yelp API call\n",
    "def get_results(url='https://api.yelp.com/v3/businesses/search/phone',\n",
    "                cred=None,fpath='/Users/Rob/.secret/yelp_api.json',phones=None):\n",
    "    \n",
    "    \n",
    "    if cred is None:\n",
    "    \n",
    "        with open(fpath) as f:\n",
    "            cred = json.load(f)\n",
    "\n",
    "    headers = {\n",
    "        'Authorization': 'Bearer ' + cred['api_key']\n",
    "    }\n",
    "\n",
    "    url_params = {\n",
    "        'phone': phones\n",
    "    }\n",
    "\n",
    "\n",
    "    response = requests.get(url, headers=headers, params=url_params)\n",
    "    return response.json()"
   ]
  },
  {
   "cell_type": "code",
   "execution_count": 50,
   "metadata": {
    "ExecuteTime": {
     "end_time": "2022-04-12T22:20:44.592458Z",
     "start_time": "2022-04-12T22:20:44.574228Z"
    }
   },
   "outputs": [
    {
     "ename": "NameError",
     "evalue": "name 'phones' is not defined",
     "output_type": "error",
     "traceback": [
      "\u001b[0;31m---------------------------------------------------------------------------\u001b[0m",
      "\u001b[0;31mNameError\u001b[0m                                 Traceback (most recent call last)",
      "\u001b[0;32m<ipython-input-50-34e8d2a18a0d>\u001b[0m in \u001b[0;36m<module>\u001b[0;34m\u001b[0m\n\u001b[0;32m----> 1\u001b[0;31m \u001b[0mresponse\u001b[0m \u001b[0;34m=\u001b[0m \u001b[0mget_results\u001b[0m\u001b[0;34m(\u001b[0m\u001b[0mphones\u001b[0m\u001b[0;34m)\u001b[0m\u001b[0;34m\u001b[0m\u001b[0;34m\u001b[0m\u001b[0m\n\u001b[0m",
      "\u001b[0;31mNameError\u001b[0m: name 'phones' is not defined"
     ]
    }
   ],
   "source": [
    "response = get_results(phones)"
   ]
  },
  {
   "cell_type": "code",
   "execution_count": 49,
   "metadata": {
    "ExecuteTime": {
     "end_time": "2022-04-12T22:20:35.858388Z",
     "start_time": "2022-04-12T22:20:35.844226Z"
    }
   },
   "outputs": [
    {
     "ename": "KeyError",
     "evalue": "'total'",
     "output_type": "error",
     "traceback": [
      "\u001b[0;31m---------------------------------------------------------------------------\u001b[0m",
      "\u001b[0;31mKeyError\u001b[0m                                  Traceback (most recent call last)",
      "\u001b[0;32m<ipython-input-49-c6bf4b9ae478>\u001b[0m in \u001b[0;36m<module>\u001b[0;34m\u001b[0m\n\u001b[0;32m----> 1\u001b[0;31m \u001b[0mresponse\u001b[0m\u001b[0;34m[\u001b[0m\u001b[0;34m'total'\u001b[0m\u001b[0;34m]\u001b[0m\u001b[0;34m\u001b[0m\u001b[0;34m\u001b[0m\u001b[0m\n\u001b[0m",
      "\u001b[0;31mKeyError\u001b[0m: 'total'"
     ]
    }
   ],
   "source": [
    "response['total']"
   ]
  },
  {
   "cell_type": "code",
   "execution_count": null,
   "metadata": {
    "ExecuteTime": {
     "end_time": "2022-04-12T17:39:29.384669Z",
     "start_time": "2022-04-12T17:39:29.380991Z"
    }
   },
   "outputs": [],
   "source": [
    "total = response['total']"
   ]
  },
  {
   "cell_type": "markdown",
   "metadata": {},
   "source": [
    "Yelp has information for 25,800 businesses in NYC."
   ]
  },
  {
   "cell_type": "code",
   "execution_count": 39,
   "metadata": {
    "ExecuteTime": {
     "end_time": "2022-04-12T22:14:42.662743Z",
     "start_time": "2022-04-12T22:14:42.649914Z"
    }
   },
   "outputs": [
    {
     "data": {
      "text/plain": [
       "[{'id': 'k9M1t_n2MnutuEpavf1ezQ',\n",
       "  'alias': 'tinys-diner-bronx',\n",
       "  'name': \"Tiny's Diner\",\n",
       "  'image_url': 'https://s3-media0.fl.yelpcdn.com/bphoto/XX8BU3GnD8HAmIeT4lMIZA/o.jpg',\n",
       "  'is_closed': False,\n",
       "  'url': 'https://www.yelp.com/biz/tinys-diner-bronx?adjust_creative=82uXkAt1Tiw7u9_h33zr1A&utm_campaign=yelp_api_v3&utm_medium=api_v3_phone_search&utm_source=82uXkAt1Tiw7u9_h33zr1A',\n",
       "  'review_count': 101,\n",
       "  'categories': [{'alias': 'diners', 'title': 'Diners'}],\n",
       "  'rating': 3.0,\n",
       "  'coordinates': {'latitude': 40.8867411222787,\n",
       "   'longitude': -73.9072045235889},\n",
       "  'transactions': ['pickup', 'delivery'],\n",
       "  'price': '$$',\n",
       "  'location': {'address1': '3603 Riverdale Ave',\n",
       "   'address2': '',\n",
       "   'address3': '',\n",
       "   'city': 'Bronx',\n",
       "   'zip_code': '10463',\n",
       "   'country': 'US',\n",
       "   'state': 'NY',\n",
       "   'display_address': ['3603 Riverdale Ave', 'Bronx, NY 10463']},\n",
       "  'phone': '+17187087600',\n",
       "  'display_phone': '(718) 708-7600'}]"
      ]
     },
     "execution_count": 39,
     "metadata": {},
     "output_type": "execute_result"
    }
   ],
   "source": [
    "# Retrieve the value from response_json\n",
    "businesses = response_json.get('businesses',{})\n",
    "# View the first 2 records\n",
    "businesses"
   ]
  },
  {
   "cell_type": "code",
   "execution_count": null,
   "metadata": {
    "ExecuteTime": {
     "end_time": "2022-04-12T17:38:07.467539Z",
     "start_time": "2022-04-12T17:38:07.458973Z"
    }
   },
   "outputs": [],
   "source": [
    "type(businesses)"
   ]
  },
  {
   "cell_type": "code",
   "execution_count": null,
   "metadata": {
    "ExecuteTime": {
     "end_time": "2022-04-06T21:10:42.746234Z",
     "start_time": "2022-04-06T21:10:42.728669Z"
    }
   },
   "outputs": [],
   "source": [
    "# def prepare_data(data_list):\n",
    "#     \"\"\"\n",
    "#     This function takes in a list of dictionaries and prepares it\n",
    "#     for analysis\n",
    "#     \"\"\"\n",
    "    \n",
    "#     # Make a new list to hold results\n",
    "#     results = []\n",
    "    \n",
    "#     for business_data in data_list:\n",
    "    \n",
    "#         # Make a new dictionary to hold prepared data for this business\n",
    "#         prepared_data = {}\n",
    "        \n",
    "#         # Extract name, review_count, rating, and price key-value pairs\n",
    "#         # from business_data and add to prepared_data\n",
    "#         # If a key is not present in business_data, add it to prepared_data\n",
    "#         # with an associated value of None\n",
    "#         for key in (\"name\", \"review_count\", \"rating\", \"price\"):\n",
    "#             prepared_data[key] = business_data.get(key, None)\n",
    "    \n",
    "#         # Parse and add latitude and longitude columns\n",
    "#         coordinates = business_data[\"coordinates\"]\n",
    "#         prepared_data[\"latitude\"] = coordinates[\"latitude\"]\n",
    "#         prepared_data[\"longitude\"] = coordinates[\"longitude\"]\n",
    "        \n",
    "#         # Add to list if all values are present\n",
    "#         if all(prepared_data.values()):\n",
    "#             results.append(prepared_data)\n",
    "    \n",
    "#     return results\n",
    "    \n",
    "# # Test out function\n",
    "# prepared_businesses = prepare_data(businesses)\n",
    "# prepared_businesses[:5]"
   ]
  },
  {
   "cell_type": "markdown",
   "metadata": {},
   "source": [
    "### Loop Through Pagination"
   ]
  },
  {
   "cell_type": "code",
   "execution_count": null,
   "metadata": {
    "ExecuteTime": {
     "end_time": "2022-04-06T20:59:13.829586Z",
     "start_time": "2022-04-06T20:59:13.824532Z"
    }
   },
   "outputs": [],
   "source": [
    "def get_offsets(total):\n",
    "    \"\"\"\n",
    "    Get a list of offsets needed to get all pages\n",
    "    of data up until the total\n",
    "    \"\"\"\n",
    "    return list(range(0, total, 50))"
   ]
  },
  {
   "cell_type": "code",
   "execution_count": null,
   "metadata": {
    "ExecuteTime": {
     "end_time": "2022-04-06T21:04:30.453526Z",
     "start_time": "2022-04-06T21:04:30.446242Z"
    }
   },
   "outputs": [],
   "source": [
    "url_params"
   ]
  },
  {
   "cell_type": "code",
   "execution_count": null,
   "metadata": {
    "ExecuteTime": {
     "end_time": "2022-04-11T22:02:01.893509Z",
     "start_time": "2022-04-11T22:00:38.625992Z"
    }
   },
   "outputs": [],
   "source": [
    "# full_dataset = []\n",
    "\n",
    "# for offset in get_offsets(total):\n",
    "    \n",
    "#     url_params['offset'] = offset\n",
    "    \n",
    "#     response = requests.get(url, headers=headers, params=url_params)\n",
    "    \n",
    "#     time.sleep(1)\n",
    "    \n",
    "#     response_json = response.json()\n",
    "    \n",
    "#     businesses = response_json.get('businesses')\n",
    "# #    \n",
    "#     prepared_business = prepare_data(businesses)\n",
    "    \n",
    "#     full_dataset.extend(prepared_businesses)\n",
    "\n",
    "# len(full_dataset)"
   ]
  },
  {
   "cell_type": "code",
   "execution_count": null,
   "metadata": {
    "ExecuteTime": {
     "end_time": "2022-04-12T17:41:35.415761Z",
     "start_time": "2022-04-12T17:41:14.580318Z"
    }
   },
   "outputs": [],
   "source": [
    "# Loop to retrieve all the results from the original request for all NYC businesses\n",
    "offset=0\n",
    "response = get_results('New York,NY',offset=offset)\n",
    "\n",
    "n_per_page = len(response['businesses'])\n",
    "total_result = response['total']\n",
    "\n",
    "results = response_json.get('businesses',{})\n",
    "\n",
    "while offset < total_result:\n",
    "    offset+=n_per_page\n",
    "    res = get_results('New York,NY',offset=offset)\n",
    "    results.extend(res['businesses'])\n",
    "results[:5]"
   ]
  },
  {
   "cell_type": "code",
   "execution_count": null,
   "metadata": {
    "ExecuteTime": {
     "end_time": "2022-04-12T17:43:40.752363Z",
     "start_time": "2022-04-12T17:43:40.743060Z"
    }
   },
   "outputs": [],
   "source": [
    "res"
   ]
  },
  {
   "cell_type": "code",
   "execution_count": null,
   "metadata": {
    "ExecuteTime": {
     "end_time": "2022-04-06T20:49:53.570860Z",
     "start_time": "2022-04-06T20:49:53.555324Z"
    }
   },
   "outputs": [],
   "source": [
    "len(results)"
   ]
  },
  {
   "cell_type": "code",
   "execution_count": null,
   "metadata": {
    "ExecuteTime": {
     "end_time": "2022-04-06T20:50:05.545264Z",
     "start_time": "2022-04-06T20:50:05.352853Z"
    }
   },
   "outputs": [],
   "source": [
    "df = pd.DataFrame(results)\n",
    "df.to_csv('yelp_results2.csv',index=False)\n",
    "df = pd.read_csv('yelp_results2.csv')\n",
    "df"
   ]
  },
  {
   "cell_type": "code",
   "execution_count": null,
   "metadata": {
    "ExecuteTime": {
     "end_time": "2022-03-22T22:37:24.921979Z",
     "start_time": "2022-03-22T22:37:24.895779Z"
    }
   },
   "outputs": [],
   "source": [
    "# response.json().keys()"
   ]
  },
  {
   "cell_type": "code",
   "execution_count": null,
   "metadata": {
    "ExecuteTime": {
     "end_time": "2022-03-23T01:52:39.899435Z",
     "start_time": "2022-03-23T01:52:39.894942Z"
    }
   },
   "outputs": [],
   "source": [
    "# yelp_df = pd.DataFrame(response.json()['businesses'])\n",
    "# # yelp_df.head(3)"
   ]
  },
  {
   "cell_type": "code",
   "execution_count": null,
   "metadata": {
    "ExecuteTime": {
     "end_time": "2022-03-23T01:52:48.820508Z",
     "start_time": "2022-03-23T01:52:48.809218Z"
    }
   },
   "outputs": [],
   "source": [
    "# lat = []\n",
    "# long = []\n",
    "\n",
    "# for _,business in yelp_df.iterrows():\n",
    "#     lat.append(business['coordinates']['latitude'])\n",
    "#     long.append(business['coordinates']['longitude'])\n",
    "\n",
    "# yelp_df['lat'] = lat\n",
    "# yelp_df['long'] = long"
   ]
  },
  {
   "cell_type": "code",
   "execution_count": null,
   "metadata": {},
   "outputs": [],
   "source": []
  },
  {
   "cell_type": "markdown",
   "metadata": {},
   "source": [
    "# Data Understanding"
   ]
  },
  {
   "cell_type": "markdown",
   "metadata": {},
   "source": [
    "For this project there will be two sources and types of data used:\n",
    "\n",
    "* Historical health and hygiene inspections recorded by New York City Department of Health and Mental Hygiene (DOHMH) public health inspectors\n",
    "* User generated Yelp business ratings and reviews"
   ]
  },
  {
   "cell_type": "markdown",
   "metadata": {},
   "source": [
    "## Understanding NYC DOHMH Data"
   ]
  },
  {
   "cell_type": "markdown",
   "metadata": {},
   "source": [
    "This dataset contains over 330,000 records, let's explore its contents."
   ]
  },
  {
   "cell_type": "code",
   "execution_count": null,
   "metadata": {
    "ExecuteTime": {
     "end_time": "2022-03-24T20:13:39.503467Z",
     "start_time": "2022-03-24T20:13:39.388312Z"
    }
   },
   "outputs": [],
   "source": [
    "dohmh_df['inspection_date'] =  pd.to_datetime(dohmh_inspections['inspection_date'])"
   ]
  },
  {
   "cell_type": "code",
   "execution_count": null,
   "metadata": {
    "ExecuteTime": {
     "end_time": "2022-03-24T20:13:45.498607Z",
     "start_time": "2022-03-24T20:13:45.485185Z"
    }
   },
   "outputs": [],
   "source": [
    "dohmh_df['inspection_date'].min()"
   ]
  },
  {
   "cell_type": "code",
   "execution_count": null,
   "metadata": {
    "ExecuteTime": {
     "end_time": "2022-03-24T20:13:56.414351Z",
     "start_time": "2022-03-24T20:13:56.397701Z"
    }
   },
   "outputs": [],
   "source": [
    "dohmh_df['inspection_date'].max()"
   ]
  },
  {
   "cell_type": "markdown",
   "metadata": {},
   "source": [
    "Inspections in this dataset range from May 2008 up to present day."
   ]
  },
  {
   "cell_type": "code",
   "execution_count": null,
   "metadata": {
    "ExecuteTime": {
     "end_time": "2022-03-24T20:16:39.819970Z",
     "start_time": "2022-03-24T20:16:39.815805Z"
    }
   },
   "outputs": [],
   "source": [
    "# dohmh_df.set_index('inspection_date')"
   ]
  },
  {
   "cell_type": "code",
   "execution_count": null,
   "metadata": {
    "ExecuteTime": {
     "end_time": "2022-03-24T20:06:23.107542Z",
     "start_time": "2022-03-24T20:06:23.039343Z"
    }
   },
   "outputs": [],
   "source": [
    "dohmh_df['boro'].value_counts()"
   ]
  },
  {
   "cell_type": "code",
   "execution_count": null,
   "metadata": {
    "ExecuteTime": {
     "end_time": "2022-03-24T20:06:48.973901Z",
     "start_time": "2022-03-24T20:06:48.947792Z"
    }
   },
   "outputs": [],
   "source": [
    "dohmh_df['score'].value_counts()"
   ]
  },
  {
   "cell_type": "code",
   "execution_count": null,
   "metadata": {},
   "outputs": [],
   "source": []
  },
  {
   "cell_type": "code",
   "execution_count": null,
   "metadata": {
    "ExecuteTime": {
     "end_time": "2022-03-24T20:06:52.338177Z",
     "start_time": "2022-03-24T20:06:52.329477Z"
    }
   },
   "outputs": [],
   "source": [
    "dohmh_df['score'].isna().sum()"
   ]
  },
  {
   "cell_type": "code",
   "execution_count": null,
   "metadata": {
    "ExecuteTime": {
     "end_time": "2022-03-24T20:06:53.801108Z",
     "start_time": "2022-03-24T20:06:53.742457Z"
    }
   },
   "outputs": [],
   "source": [
    "dohmh_df['grade'].value_counts()"
   ]
  },
  {
   "cell_type": "code",
   "execution_count": null,
   "metadata": {
    "ExecuteTime": {
     "end_time": "2022-03-25T18:08:16.344961Z",
     "start_time": "2022-03-25T18:08:16.232615Z"
    }
   },
   "outputs": [],
   "source": [
    "dohmh_df['grade'].value_counts(normalize=True)"
   ]
  },
  {
   "cell_type": "code",
   "execution_count": null,
   "metadata": {
    "ExecuteTime": {
     "end_time": "2022-03-24T20:06:55.741139Z",
     "start_time": "2022-03-24T20:06:55.706697Z"
    }
   },
   "outputs": [],
   "source": [
    "dohmh_df['grade'].isna().sum()"
   ]
  },
  {
   "cell_type": "code",
   "execution_count": null,
   "metadata": {
    "ExecuteTime": {
     "end_time": "2022-03-24T20:07:21.888553Z",
     "start_time": "2022-03-24T20:07:21.831624Z"
    }
   },
   "outputs": [],
   "source": [
    "dohmh_df['critical_flag'].value_counts()"
   ]
  },
  {
   "cell_type": "markdown",
   "metadata": {},
   "source": [
    "Critical violations are those most likely to contribute to foodborne illness"
   ]
  },
  {
   "cell_type": "code",
   "execution_count": null,
   "metadata": {
    "ExecuteTime": {
     "end_time": "2022-03-24T20:07:24.216744Z",
     "start_time": "2022-03-24T20:07:24.147788Z"
    }
   },
   "outputs": [],
   "source": [
    "dohmh_df['critical_flag'].value_counts(normalize=True)"
   ]
  },
  {
   "cell_type": "code",
   "execution_count": null,
   "metadata": {
    "ExecuteTime": {
     "end_time": "2022-03-24T20:07:25.228707Z",
     "start_time": "2022-03-24T20:07:25.168956Z"
    }
   },
   "outputs": [],
   "source": [
    "dohmh_df['inspection_type'].value_counts()"
   ]
  },
  {
   "cell_type": "code",
   "execution_count": null,
   "metadata": {
    "ExecuteTime": {
     "end_time": "2022-03-24T23:19:02.351760Z",
     "start_time": "2022-03-24T23:19:02.076866Z"
    }
   },
   "outputs": [],
   "source": [
    "dohmh_inspections = dohmh_df[(dohmh_df['inspection_type'] ==\n",
    "                              'Cycle Inspection / Initial Inspection') | (dohmh_df['inspection_type'] ==\n",
    "                              'Cycle Inspection / Re-inspection')]"
   ]
  },
  {
   "cell_type": "code",
   "execution_count": null,
   "metadata": {
    "ExecuteTime": {
     "end_time": "2022-03-24T23:19:04.172448Z",
     "start_time": "2022-03-24T23:19:04.102283Z"
    }
   },
   "outputs": [],
   "source": [
    "dohmh_inspections['critical_flag'].value_counts()"
   ]
  },
  {
   "cell_type": "code",
   "execution_count": null,
   "metadata": {
    "ExecuteTime": {
     "end_time": "2022-03-25T13:45:01.843258Z",
     "start_time": "2022-03-25T13:45:00.880168Z"
    }
   },
   "outputs": [],
   "source": [
    "# Drop records with NA critical_flag\n",
    "\n",
    "dohmh_ohe = dohmh_inspections[dohmh_inspections['critical_flag'] != 'Not Applicable']"
   ]
  },
  {
   "cell_type": "code",
   "execution_count": null,
   "metadata": {
    "ExecuteTime": {
     "end_time": "2022-03-25T13:45:33.328672Z",
     "start_time": "2022-03-25T13:45:33.035849Z"
    }
   },
   "outputs": [],
   "source": [
    "dohmh_ohe = pd.get_dummies(dohmh_inspections,columns=['critical_flag'])"
   ]
  },
  {
   "cell_type": "code",
   "execution_count": null,
   "metadata": {
    "ExecuteTime": {
     "end_time": "2022-03-25T13:45:51.839949Z",
     "start_time": "2022-03-25T13:45:51.783181Z"
    }
   },
   "outputs": [],
   "source": [
    "dohmh_ohe.head(2)"
   ]
  },
  {
   "cell_type": "code",
   "execution_count": null,
   "metadata": {
    "ExecuteTime": {
     "end_time": "2022-03-25T14:50:30.907183Z",
     "start_time": "2022-03-25T14:50:30.884584Z"
    }
   },
   "outputs": [],
   "source": [
    "critical_flags = dohmh_ohe.groupby(['camis'])['critical_flag_Critical'].count()"
   ]
  },
  {
   "cell_type": "code",
   "execution_count": null,
   "metadata": {
    "ExecuteTime": {
     "end_time": "2022-03-25T14:50:23.875323Z",
     "start_time": "2022-03-25T14:50:23.860854Z"
    }
   },
   "outputs": [],
   "source": [
    "critical_flags[critical_flagss]"
   ]
  },
  {
   "cell_type": "code",
   "execution_count": null,
   "metadata": {
    "ExecuteTime": {
     "end_time": "2022-03-25T14:07:58.740052Z",
     "start_time": "2022-03-25T14:07:58.732065Z"
    }
   },
   "outputs": [],
   "source": [
    "critical_flags['critical_flag_Not Critical'].sum()"
   ]
  },
  {
   "cell_type": "code",
   "execution_count": null,
   "metadata": {
    "ExecuteTime": {
     "end_time": "2022-03-25T14:00:08.447544Z",
     "start_time": "2022-03-25T14:00:08.443356Z"
    }
   },
   "outputs": [],
   "source": [
    "non_critical_flags = dohmh_ohe.groupby(['camis'])"
   ]
  },
  {
   "cell_type": "code",
   "execution_count": null,
   "metadata": {
    "ExecuteTime": {
     "end_time": "2022-03-25T14:00:31.528917Z",
     "start_time": "2022-03-25T14:00:30.783695Z"
    }
   },
   "outputs": [],
   "source": [
    "dohmh_inspections.duplicated().sum()"
   ]
  },
  {
   "cell_type": "code",
   "execution_count": null,
   "metadata": {
    "ExecuteTime": {
     "end_time": "2022-03-24T20:07:43.870691Z",
     "start_time": "2022-03-24T20:07:42.979136Z"
    }
   },
   "outputs": [],
   "source": [
    "dohmh_inspections.loc[dohmh_inspections.duplicated(keep='first'),:]"
   ]
  },
  {
   "cell_type": "code",
   "execution_count": null,
   "metadata": {
    "ExecuteTime": {
     "end_time": "2022-03-25T14:00:44.519563Z",
     "start_time": "2022-03-25T14:00:43.762531Z"
    }
   },
   "outputs": [],
   "source": [
    "dohmh_inspections.drop_duplicates().shape"
   ]
  },
  {
   "cell_type": "code",
   "execution_count": null,
   "metadata": {
    "ExecuteTime": {
     "end_time": "2022-03-25T14:00:47.862026Z",
     "start_time": "2022-03-25T14:00:47.835019Z"
    }
   },
   "outputs": [],
   "source": [
    "dohmh_inspections.duplicated(subset=['camis']).sum()"
   ]
  },
  {
   "cell_type": "code",
   "execution_count": null,
   "metadata": {
    "ExecuteTime": {
     "end_time": "2022-03-25T14:01:12.814518Z",
     "start_time": "2022-03-25T14:01:12.801669Z"
    }
   },
   "outputs": [],
   "source": [
    "dohmh_inspections['camis'].nunique()"
   ]
  },
  {
   "cell_type": "markdown",
   "metadata": {},
   "source": [
    "There are approximately 28,000 restaurants that have been inspected by the DOHMH. Let's check out how many have ever been flagged for a critical violation."
   ]
  },
  {
   "cell_type": "markdown",
   "metadata": {},
   "source": [
    "## Mapping with Follium"
   ]
  },
  {
   "cell_type": "code",
   "execution_count": null,
   "metadata": {},
   "outputs": [],
   "source": [
    "\n"
   ]
  }
 ],
 "metadata": {
  "kernelspec": {
   "display_name": "Python (learn-env)",
   "language": "python",
   "name": "learn-env"
  },
  "language_info": {
   "codemirror_mode": {
    "name": "ipython",
    "version": 3
   },
   "file_extension": ".py",
   "mimetype": "text/x-python",
   "name": "python",
   "nbconvert_exporter": "python",
   "pygments_lexer": "ipython3",
   "version": "3.8.5"
  },
  "toc": {
   "base_numbering": 1,
   "nav_menu": {},
   "number_sections": true,
   "sideBar": true,
   "skip_h1_title": false,
   "title_cell": "Table of Contents",
   "title_sidebar": "Contents",
   "toc_cell": false,
   "toc_position": {
    "height": "calc(100% - 180px)",
    "left": "10px",
    "top": "150px",
    "width": "248px"
   },
   "toc_section_display": true,
   "toc_window_display": true
  }
 },
 "nbformat": 4,
 "nbformat_minor": 4
}
