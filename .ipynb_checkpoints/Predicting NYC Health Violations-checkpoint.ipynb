{
 "cells": [
  {
   "cell_type": "markdown",
   "metadata": {},
   "source": [
    "# Introduction"
   ]
  },
  {
   "cell_type": "markdown",
   "metadata": {},
   "source": [
    "According to the CDC, more than 48 million Americans per year become sick from food, and an estimated 75% of the outbreaks came from food prepared by caterers, delis, and restaurants. In most cities, health inspections are generally random, which can increase time spent on spot checks at clean restaurants that have been following the rules closely — and missed opportunities to improve health and hygiene at places with more pressing food safety issues.\n",
    "\n",
    "The goal for this project is to leverage public citizen generated data from social media to narrow the search for critical health and safety violations in New York City. As the City of New York manages  an open data portal, everyone can access historical hygiene inspections and violation records. By combine these two data source this project aims to determine which words, phrases, ratings, and patterns among restaurants lead to critical health and safety violations. This model can assist city health inspectors do their job better by prioritizing the kitchens most likely to be in violation of code."
   ]
  },
  {
   "cell_type": "markdown",
   "metadata": {},
   "source": [
    "The New York Health Department inspects the approximately 27,000 restaurants within the city to monitor their compliance with food safety regulations. Inspectors observe how food is prepared, served and stored and whether restaurant workers are practicing good hygiene. They check food temperatures, equipment maintenance and pest control measures."
   ]
  },
  {
   "cell_type": "markdown",
   "metadata": {},
   "source": [
    "### Imports"
   ]
  },
  {
   "cell_type": "code",
   "execution_count": 19,
   "metadata": {
    "ExecuteTime": {
     "end_time": "2022-04-20T20:27:34.014258Z",
     "start_time": "2022-04-20T20:27:25.717936Z"
    }
   },
   "outputs": [],
   "source": [
    "from IPython import display\n",
    "from bs4 import BeautifulSoup as bs\n",
    "import requests\n",
    "import json\n",
    "from sodapy import Socrata\n",
    "import pandas as pd\n",
    "import numpy as np\n",
    "import matplotlib.pyplot as plt\n",
    "%matplotlib inline\n",
    "import seaborn as sns\n",
    "import warnings\n",
    "import time\n",
    "\n",
    "import glob, os\n",
    "\n",
    "call_apis = False\n",
    "warnings.filterwarnings(\"ignore\")\n",
    "pd.set_option('display.max_colwidth',100)\n",
    "pd.set_option('display.max_columns',50)\n",
    "pd.options.display.float_format = '{:.2f}'.format\n",
    "\n",
    "from sklearn.preprocessing import OneHotEncoder\n"
   ]
  },
  {
   "cell_type": "markdown",
   "metadata": {},
   "source": [
    "# Obtain"
   ]
  },
  {
   "cell_type": "markdown",
   "metadata": {},
   "source": [
    "This project requires data pulled from two different sources, the City of New York and Yelp. To obtain the data we will call the API keys."
   ]
  },
  {
   "cell_type": "markdown",
   "metadata": {},
   "source": [
    " > The dataset contains every sustained or not yet adjudicated violation citation from every full or special program inspection conducted up to three years prior to the most recent inspection for restaurants and college cafeterias in an active status on the RECORD DATE (date of the data pull). When an inspection results in more than one violation, values for associated fields are repeated for each additional violation record. Establishments are uniquely identified by their CAMIS (record ID) number. Keep in mind that thousands of restaurants start business and go out of business every year; only restaurants in an active status are included in the dataset.\n",
    "Records are also included for each restaurant that has applied for a permit but has not yet been inspected and for inspections resulting in no violations. Establishments with inspection date of 1/1/1900 are new establishments that have not yet received an inspection. Restaurants that received no violations are represented by a single row and coded as having no violations using the ACTION field.\n",
    "Because this dataset is compiled from several large administrative data systems, it contains some illogical values that could be a result of data entry or transfer errors. Data may also be missing.\n",
    "This dataset and the information on the Health Department’s Restaurant Grading website come from the same data source. The Health Department’s Restaurant Grading website is here:\n",
    "http://www1.nyc.gov/site/doh/services/restaurant-grades.page"
   ]
  },
  {
   "cell_type": "markdown",
   "metadata": {},
   "source": [
    "> Why does the Health Department inspect restaurants?\n",
    "The Health Department inspects the approximately 27,000 restaurants in New York City to monitor their compliance with food safety regulations. Inspectors observe how food is prepared, served and stored and whether restaurant workers are practicing good hygiene. They check food temperatures, equipment maintenance and pest control measures."
   ]
  },
  {
   "cell_type": "markdown",
   "metadata": {},
   "source": [
    "> Since 2010, New York City has required restaurants to post letter grades that correspond to scores received from sanitary inspections. An inspection score of 0 to 13 is an A, 14 to 27 points is a B, and 28 or more points is a C. Grade cards must be posted where they can easily be seen by people passing by."
   ]
  },
  {
   "cell_type": "markdown",
   "metadata": {},
   "source": [
    "> The New York City Health Department inspects all food service establishments to make sure they meet Health Code requirements, which helps prevent\n",
    "foodborne illness. How often a restaurant is inspected depends on its inspection score. Restaurants that receive a low score on the initial or first inspection\n",
    "in the inspection cycle are inspected less often than those that receive a high score."
   ]
  },
  {
   "cell_type": "markdown",
   "metadata": {},
   "source": [
    "> The points for a particular violation depend on the health risk it poses to the public. Violations fall into three categories:\n",
    ">* A public health hazard, such as failing to keep food at the right temperature, triggers a minimum of 7 points. If the violation can’t be corrected before the inspection ends, the Health Department may close the restaurant until it’s fixed.\n",
    ">* A critical violation, for example, serving raw food such as a salad without properly washing it first, carries a minimum of 5 points.\n",
    ">* A general violation, such as not properly sanitizing\n",
    "cooking utensils, receives at least 2 points.\n",
    "\n",
    ">Inspectors assign additional points to reflect the extent of the\n",
    "violation. A violation’s condition level can range from 1 (least\n",
    "extensive) to 5 (most extensive). For example, the presence of\n",
    "one contaminated food item is a condition level 1 violation,\n",
    "generating 7 points. Four or more contaminated food items\n",
    "is a condition level 4 violation, resulting in 10 points. "
   ]
  },
  {
   "cell_type": "markdown",
   "metadata": {},
   "source": [
    "> How are restaurants graded?\n",
    "Violations found during inspections carry point values, and a restaurant’s score corresponds to a letter grade. The point/grade cut-offs are the same as for mobile food vending letter grading, with fewer points corresponding to a better grade:\n",
    "\n",
    ">* \"A\" grade: 0 to 13 points for sanitary violations\n",
    ">* \"B\" grade: 14 to 27 points for sanitary violations\n",
    ">* \"C\" grade: 28 or more points for sanitary violations\n"
   ]
  },
  {
   "cell_type": "markdown",
   "metadata": {},
   "source": [
    "The City of New York inspects all restaurants cyclically. And if a business does not pass it's initial inspection for the cycle, it will be re-inspected in 3-5 months."
   ]
  },
  {
   "cell_type": "code",
   "execution_count": null,
   "metadata": {},
   "outputs": [],
   "source": []
  },
  {
   "cell_type": "markdown",
   "metadata": {},
   "source": [
    "## Obtaining Restaurant Inspection Results from NYC Open Data Portal"
   ]
  },
  {
   "cell_type": "markdown",
   "metadata": {
    "ExecuteTime": {
     "end_time": "2022-04-19T15:04:10.996002Z",
     "start_time": "2022-04-19T15:04:10.983796Z"
    }
   },
   "source": [
    "The dataset can be obtained here\n",
    "\n",
    "https://data.cityofnewyork.us/Health/DOHMH-New-York-City-Restaurant-Inspection-Results/43nn-pn8j"
   ]
  },
  {
   "cell_type": "markdown",
   "metadata": {},
   "source": [
    "The dataset was downloaded and saved to this repository. Let's load it in and explore its contents."
   ]
  },
  {
   "cell_type": "markdown",
   "metadata": {},
   "source": [
    "Detailed descriptions about each column can be found in the Restaurant Inspection Data Dictionary."
   ]
  },
  {
   "cell_type": "code",
   "execution_count": 20,
   "metadata": {
    "ExecuteTime": {
     "end_time": "2022-04-20T20:27:58.424539Z",
     "start_time": "2022-04-20T20:27:56.722397Z"
    }
   },
   "outputs": [
    {
     "data": {
      "text/html": [
       "<div>\n",
       "<style scoped>\n",
       "    .dataframe tbody tr th:only-of-type {\n",
       "        vertical-align: middle;\n",
       "    }\n",
       "\n",
       "    .dataframe tbody tr th {\n",
       "        vertical-align: top;\n",
       "    }\n",
       "\n",
       "    .dataframe thead th {\n",
       "        text-align: right;\n",
       "    }\n",
       "</style>\n",
       "<table border=\"1\" class=\"dataframe\">\n",
       "  <thead>\n",
       "    <tr style=\"text-align: right;\">\n",
       "      <th></th>\n",
       "      <th>CAMIS</th>\n",
       "      <th>DBA</th>\n",
       "      <th>BORO</th>\n",
       "      <th>BUILDING</th>\n",
       "      <th>STREET</th>\n",
       "      <th>ZIPCODE</th>\n",
       "      <th>PHONE</th>\n",
       "      <th>CUISINE DESCRIPTION</th>\n",
       "      <th>INSPECTION DATE</th>\n",
       "      <th>ACTION</th>\n",
       "      <th>VIOLATION CODE</th>\n",
       "      <th>VIOLATION DESCRIPTION</th>\n",
       "      <th>CRITICAL FLAG</th>\n",
       "      <th>SCORE</th>\n",
       "      <th>GRADE</th>\n",
       "      <th>GRADE DATE</th>\n",
       "      <th>RECORD DATE</th>\n",
       "      <th>INSPECTION TYPE</th>\n",
       "      <th>Latitude</th>\n",
       "      <th>Longitude</th>\n",
       "      <th>Community Board</th>\n",
       "      <th>Council District</th>\n",
       "      <th>Census Tract</th>\n",
       "      <th>BIN</th>\n",
       "      <th>BBL</th>\n",
       "      <th>NTA</th>\n",
       "    </tr>\n",
       "  </thead>\n",
       "  <tbody>\n",
       "    <tr>\n",
       "      <th>0</th>\n",
       "      <td>50008319</td>\n",
       "      <td>POULETTE</td>\n",
       "      <td>Manhattan</td>\n",
       "      <td>790</td>\n",
       "      <td>9 AVENUE</td>\n",
       "      <td>10019.00</td>\n",
       "      <td>2129569488</td>\n",
       "      <td>Chicken</td>\n",
       "      <td>01/28/2019</td>\n",
       "      <td>Violations were cited in the following area(s).</td>\n",
       "      <td>04D</td>\n",
       "      <td>Food worker does not wash hands thoroughly after using the toilet, coughing, sneezing, smoking, ...</td>\n",
       "      <td>Critical</td>\n",
       "      <td>22</td>\n",
       "      <td>NaN</td>\n",
       "      <td>NaN</td>\n",
       "      <td>03/24/2022</td>\n",
       "      <td>Cycle Inspection / Initial Inspection</td>\n",
       "      <td>40.77</td>\n",
       "      <td>-73.99</td>\n",
       "      <td>104.00</td>\n",
       "      <td>3.00</td>\n",
       "      <td>13300.00</td>\n",
       "      <td>1025235.00</td>\n",
       "      <td>1010430004.00</td>\n",
       "      <td>MN15</td>\n",
       "    </tr>\n",
       "    <tr>\n",
       "      <th>1</th>\n",
       "      <td>41678734</td>\n",
       "      <td>TINY'S DINER</td>\n",
       "      <td>Bronx</td>\n",
       "      <td>3603</td>\n",
       "      <td>RIVERDALE AVENUE</td>\n",
       "      <td>10463.00</td>\n",
       "      <td>7187087600</td>\n",
       "      <td>American</td>\n",
       "      <td>09/23/2019</td>\n",
       "      <td>Violations were cited in the following area(s).</td>\n",
       "      <td>04M</td>\n",
       "      <td>Live roaches present in facility's food and/or non-food areas.</td>\n",
       "      <td>Critical</td>\n",
       "      <td>24</td>\n",
       "      <td>NaN</td>\n",
       "      <td>NaN</td>\n",
       "      <td>03/24/2022</td>\n",
       "      <td>Cycle Inspection / Initial Inspection</td>\n",
       "      <td>40.89</td>\n",
       "      <td>-73.91</td>\n",
       "      <td>208.00</td>\n",
       "      <td>11.00</td>\n",
       "      <td>29500.00</td>\n",
       "      <td>2084186.00</td>\n",
       "      <td>2057960167.00</td>\n",
       "      <td>BX29</td>\n",
       "    </tr>\n",
       "    <tr>\n",
       "      <th>2</th>\n",
       "      <td>40795021</td>\n",
       "      <td>TAO RESTAURANT</td>\n",
       "      <td>Manhattan</td>\n",
       "      <td>42</td>\n",
       "      <td>EAST   58 STREET</td>\n",
       "      <td>10022.00</td>\n",
       "      <td>2128882288</td>\n",
       "      <td>Asian/Asian Fusion</td>\n",
       "      <td>03/11/2020</td>\n",
       "      <td>Violations were cited in the following area(s).</td>\n",
       "      <td>10F</td>\n",
       "      <td>Non-food contact surface improperly constructed. Unacceptable material used. Non-food contact su...</td>\n",
       "      <td>Not Critical</td>\n",
       "      <td>9</td>\n",
       "      <td>NaN</td>\n",
       "      <td>NaN</td>\n",
       "      <td>03/24/2022</td>\n",
       "      <td>Cycle Inspection / Initial Inspection</td>\n",
       "      <td>40.76</td>\n",
       "      <td>-73.97</td>\n",
       "      <td>105.00</td>\n",
       "      <td>4.00</td>\n",
       "      <td>11202.00</td>\n",
       "      <td>1036073.00</td>\n",
       "      <td>1012930047.00</td>\n",
       "      <td>MN17</td>\n",
       "    </tr>\n",
       "    <tr>\n",
       "      <th>3</th>\n",
       "      <td>40795021</td>\n",
       "      <td>TAO RESTAURANT</td>\n",
       "      <td>Manhattan</td>\n",
       "      <td>42</td>\n",
       "      <td>EAST   58 STREET</td>\n",
       "      <td>10022.00</td>\n",
       "      <td>2128882288</td>\n",
       "      <td>Asian/Asian Fusion</td>\n",
       "      <td>03/11/2020</td>\n",
       "      <td>Violations were cited in the following area(s).</td>\n",
       "      <td>10F</td>\n",
       "      <td>Non-food contact surface improperly constructed. Unacceptable material used. Non-food contact su...</td>\n",
       "      <td>Not Critical</td>\n",
       "      <td>9</td>\n",
       "      <td>NaN</td>\n",
       "      <td>NaN</td>\n",
       "      <td>03/24/2022</td>\n",
       "      <td>Cycle Inspection / Initial Inspection</td>\n",
       "      <td>40.76</td>\n",
       "      <td>-73.97</td>\n",
       "      <td>105.00</td>\n",
       "      <td>4.00</td>\n",
       "      <td>11202.00</td>\n",
       "      <td>1036073.00</td>\n",
       "      <td>1012930047.00</td>\n",
       "      <td>MN17</td>\n",
       "    </tr>\n",
       "    <tr>\n",
       "      <th>4</th>\n",
       "      <td>40538234</td>\n",
       "      <td>DUNKIN',' BASKIN ROBBINS</td>\n",
       "      <td>Queens</td>\n",
       "      <td>9925</td>\n",
       "      <td>HORACE HARDING EXPRESSWAY</td>\n",
       "      <td>11368.00</td>\n",
       "      <td>7182719222</td>\n",
       "      <td>Donuts</td>\n",
       "      <td>07/29/2021</td>\n",
       "      <td>Violations were cited in the following area(s).</td>\n",
       "      <td>06E</td>\n",
       "      <td>Sanitized equipment or utensil, including in-use food dispensing utensil, improperly used or sto...</td>\n",
       "      <td>Critical</td>\n",
       "      <td>10</td>\n",
       "      <td>A</td>\n",
       "      <td>07/29/2021</td>\n",
       "      <td>03/24/2022</td>\n",
       "      <td>Cycle Inspection / Initial Inspection</td>\n",
       "      <td>40.74</td>\n",
       "      <td>-73.86</td>\n",
       "      <td>404.00</td>\n",
       "      <td>21.00</td>\n",
       "      <td>43702.00</td>\n",
       "      <td>4047915.00</td>\n",
       "      <td>4019480019.00</td>\n",
       "      <td>QN25</td>\n",
       "    </tr>\n",
       "    <tr>\n",
       "      <th>...</th>\n",
       "      <td>...</td>\n",
       "      <td>...</td>\n",
       "      <td>...</td>\n",
       "      <td>...</td>\n",
       "      <td>...</td>\n",
       "      <td>...</td>\n",
       "      <td>...</td>\n",
       "      <td>...</td>\n",
       "      <td>...</td>\n",
       "      <td>...</td>\n",
       "      <td>...</td>\n",
       "      <td>...</td>\n",
       "      <td>...</td>\n",
       "      <td>...</td>\n",
       "      <td>...</td>\n",
       "      <td>...</td>\n",
       "      <td>...</td>\n",
       "      <td>...</td>\n",
       "      <td>...</td>\n",
       "      <td>...</td>\n",
       "      <td>...</td>\n",
       "      <td>...</td>\n",
       "      <td>...</td>\n",
       "      <td>...</td>\n",
       "      <td>...</td>\n",
       "      <td>...</td>\n",
       "    </tr>\n",
       "    <tr>\n",
       "      <th>186222</th>\n",
       "      <td>41556790</td>\n",
       "      <td>FIVE GUYS FAMOUS BURGERS AND FRIES</td>\n",
       "      <td>Manhattan</td>\n",
       "      <td>2847</td>\n",
       "      <td>BROADFWAY</td>\n",
       "      <td>nan</td>\n",
       "      <td>2126787701</td>\n",
       "      <td>Hamburgers</td>\n",
       "      <td>03/01/2019</td>\n",
       "      <td>Violations were cited in the following area(s).</td>\n",
       "      <td>10F</td>\n",
       "      <td>Non-food contact surface improperly constructed. Unacceptable material used. Non-food contact su...</td>\n",
       "      <td>Not Critical</td>\n",
       "      <td>3</td>\n",
       "      <td>A</td>\n",
       "      <td>03/01/2019</td>\n",
       "      <td>03/24/2022</td>\n",
       "      <td>Cycle Inspection / Initial Inspection</td>\n",
       "      <td>0.00</td>\n",
       "      <td>0.00</td>\n",
       "      <td>nan</td>\n",
       "      <td>nan</td>\n",
       "      <td>nan</td>\n",
       "      <td>nan</td>\n",
       "      <td>1.00</td>\n",
       "      <td>NaN</td>\n",
       "    </tr>\n",
       "    <tr>\n",
       "      <th>186223</th>\n",
       "      <td>50032876</td>\n",
       "      <td>TANNER SMITH'S</td>\n",
       "      <td>Manhattan</td>\n",
       "      <td>204</td>\n",
       "      <td>WEST   55 STREET</td>\n",
       "      <td>10019.00</td>\n",
       "      <td>9175172283</td>\n",
       "      <td>American</td>\n",
       "      <td>06/07/2019</td>\n",
       "      <td>Violations were cited in the following area(s).</td>\n",
       "      <td>08A</td>\n",
       "      <td>Facility not vermin proof. Harborage or conditions conducive to attracting vermin to the premise...</td>\n",
       "      <td>Not Critical</td>\n",
       "      <td>12</td>\n",
       "      <td>A</td>\n",
       "      <td>06/07/2019</td>\n",
       "      <td>03/24/2022</td>\n",
       "      <td>Cycle Inspection / Initial Inspection</td>\n",
       "      <td>40.76</td>\n",
       "      <td>-73.98</td>\n",
       "      <td>105.00</td>\n",
       "      <td>4.00</td>\n",
       "      <td>13700.00</td>\n",
       "      <td>1024857.00</td>\n",
       "      <td>1010260037.00</td>\n",
       "      <td>MN17</td>\n",
       "    </tr>\n",
       "    <tr>\n",
       "      <th>186224</th>\n",
       "      <td>50003842</td>\n",
       "      <td>T- 45</td>\n",
       "      <td>Manhattan</td>\n",
       "      <td>135</td>\n",
       "      <td>WEST   45 STREET</td>\n",
       "      <td>10036.00</td>\n",
       "      <td>6466403775</td>\n",
       "      <td>American</td>\n",
       "      <td>07/26/2018</td>\n",
       "      <td>Violations were cited in the following area(s).</td>\n",
       "      <td>10B</td>\n",
       "      <td>Plumbing not properly installed or maintained; anti-siphonage or backflow prevention device not ...</td>\n",
       "      <td>Not Critical</td>\n",
       "      <td>49</td>\n",
       "      <td>NaN</td>\n",
       "      <td>NaN</td>\n",
       "      <td>03/24/2022</td>\n",
       "      <td>Cycle Inspection / Initial Inspection</td>\n",
       "      <td>40.76</td>\n",
       "      <td>-73.98</td>\n",
       "      <td>105.00</td>\n",
       "      <td>4.00</td>\n",
       "      <td>11900.00</td>\n",
       "      <td>1089796.00</td>\n",
       "      <td>1009980015.00</td>\n",
       "      <td>MN17</td>\n",
       "    </tr>\n",
       "    <tr>\n",
       "      <th>186225</th>\n",
       "      <td>41640824</td>\n",
       "      <td>RICURAS ECUADORIAN BAKERY</td>\n",
       "      <td>Bronx</td>\n",
       "      <td>1576</td>\n",
       "      <td>WATSON AVENUE</td>\n",
       "      <td>10472.00</td>\n",
       "      <td>7184508363</td>\n",
       "      <td>Spanish</td>\n",
       "      <td>07/20/2018</td>\n",
       "      <td>Violations were cited in the following area(s).</td>\n",
       "      <td>06F</td>\n",
       "      <td>Wiping cloths soiled or not stored in sanitizing solution.</td>\n",
       "      <td>Critical</td>\n",
       "      <td>12</td>\n",
       "      <td>A</td>\n",
       "      <td>07/20/2018</td>\n",
       "      <td>03/24/2022</td>\n",
       "      <td>Cycle Inspection / Initial Inspection</td>\n",
       "      <td>40.83</td>\n",
       "      <td>-73.88</td>\n",
       "      <td>209.00</td>\n",
       "      <td>18.00</td>\n",
       "      <td>5001.00</td>\n",
       "      <td>2023533.00</td>\n",
       "      <td>2037160036.00</td>\n",
       "      <td>BX55</td>\n",
       "    </tr>\n",
       "    <tr>\n",
       "      <th>186226</th>\n",
       "      <td>41450971</td>\n",
       "      <td>GIOVANNI'S RESTAURANT</td>\n",
       "      <td>Bronx</td>\n",
       "      <td>3209</td>\n",
       "      <td>WESTCHESTER AVENUE</td>\n",
       "      <td>10461.00</td>\n",
       "      <td>7188924340</td>\n",
       "      <td>Pizza</td>\n",
       "      <td>06/21/2017</td>\n",
       "      <td>Violations were cited in the following area(s).</td>\n",
       "      <td>06D</td>\n",
       "      <td>Food contact surface not properly washed, rinsed and sanitized after each use and following any ...</td>\n",
       "      <td>Critical</td>\n",
       "      <td>16</td>\n",
       "      <td>NaN</td>\n",
       "      <td>NaN</td>\n",
       "      <td>03/24/2022</td>\n",
       "      <td>Cycle Inspection / Initial Inspection</td>\n",
       "      <td>40.85</td>\n",
       "      <td>-73.83</td>\n",
       "      <td>210.00</td>\n",
       "      <td>13.00</td>\n",
       "      <td>30000.00</td>\n",
       "      <td>2047655.00</td>\n",
       "      <td>2042450020.00</td>\n",
       "      <td>BX10</td>\n",
       "    </tr>\n",
       "  </tbody>\n",
       "</table>\n",
       "<p>186227 rows × 26 columns</p>\n",
       "</div>"
      ],
      "text/plain": [
       "           CAMIS                                 DBA       BORO BUILDING  \\\n",
       "0       50008319                            POULETTE  Manhattan      790   \n",
       "1       41678734                        TINY'S DINER      Bronx     3603   \n",
       "2       40795021                      TAO RESTAURANT  Manhattan       42   \n",
       "3       40795021                      TAO RESTAURANT  Manhattan       42   \n",
       "4       40538234            DUNKIN',' BASKIN ROBBINS     Queens     9925   \n",
       "...          ...                                 ...        ...      ...   \n",
       "186222  41556790  FIVE GUYS FAMOUS BURGERS AND FRIES  Manhattan     2847   \n",
       "186223  50032876                      TANNER SMITH'S  Manhattan      204   \n",
       "186224  50003842                               T- 45  Manhattan      135   \n",
       "186225  41640824           RICURAS ECUADORIAN BAKERY      Bronx     1576   \n",
       "186226  41450971               GIOVANNI'S RESTAURANT      Bronx     3209   \n",
       "\n",
       "                           STREET  ZIPCODE       PHONE CUISINE DESCRIPTION  \\\n",
       "0                        9 AVENUE 10019.00  2129569488             Chicken   \n",
       "1                RIVERDALE AVENUE 10463.00  7187087600            American   \n",
       "2                EAST   58 STREET 10022.00  2128882288  Asian/Asian Fusion   \n",
       "3                EAST   58 STREET 10022.00  2128882288  Asian/Asian Fusion   \n",
       "4       HORACE HARDING EXPRESSWAY 11368.00  7182719222              Donuts   \n",
       "...                           ...      ...         ...                 ...   \n",
       "186222                  BROADFWAY      nan  2126787701          Hamburgers   \n",
       "186223           WEST   55 STREET 10019.00  9175172283            American   \n",
       "186224           WEST   45 STREET 10036.00  6466403775            American   \n",
       "186225              WATSON AVENUE 10472.00  7184508363             Spanish   \n",
       "186226         WESTCHESTER AVENUE 10461.00  7188924340               Pizza   \n",
       "\n",
       "       INSPECTION DATE                                           ACTION  \\\n",
       "0           01/28/2019  Violations were cited in the following area(s).   \n",
       "1           09/23/2019  Violations were cited in the following area(s).   \n",
       "2           03/11/2020  Violations were cited in the following area(s).   \n",
       "3           03/11/2020  Violations were cited in the following area(s).   \n",
       "4           07/29/2021  Violations were cited in the following area(s).   \n",
       "...                ...                                              ...   \n",
       "186222      03/01/2019  Violations were cited in the following area(s).   \n",
       "186223      06/07/2019  Violations were cited in the following area(s).   \n",
       "186224      07/26/2018  Violations were cited in the following area(s).   \n",
       "186225      07/20/2018  Violations were cited in the following area(s).   \n",
       "186226      06/21/2017  Violations were cited in the following area(s).   \n",
       "\n",
       "       VIOLATION CODE  \\\n",
       "0                 04D   \n",
       "1                 04M   \n",
       "2                 10F   \n",
       "3                 10F   \n",
       "4                 06E   \n",
       "...               ...   \n",
       "186222            10F   \n",
       "186223            08A   \n",
       "186224            10B   \n",
       "186225            06F   \n",
       "186226            06D   \n",
       "\n",
       "                                                                                      VIOLATION DESCRIPTION  \\\n",
       "0       Food worker does not wash hands thoroughly after using the toilet, coughing, sneezing, smoking, ...   \n",
       "1                                            Live roaches present in facility's food and/or non-food areas.   \n",
       "2       Non-food contact surface improperly constructed. Unacceptable material used. Non-food contact su...   \n",
       "3       Non-food contact surface improperly constructed. Unacceptable material used. Non-food contact su...   \n",
       "4       Sanitized equipment or utensil, including in-use food dispensing utensil, improperly used or sto...   \n",
       "...                                                                                                     ...   \n",
       "186222  Non-food contact surface improperly constructed. Unacceptable material used. Non-food contact su...   \n",
       "186223  Facility not vermin proof. Harborage or conditions conducive to attracting vermin to the premise...   \n",
       "186224  Plumbing not properly installed or maintained; anti-siphonage or backflow prevention device not ...   \n",
       "186225                                           Wiping cloths soiled or not stored in sanitizing solution.   \n",
       "186226  Food contact surface not properly washed, rinsed and sanitized after each use and following any ...   \n",
       "\n",
       "       CRITICAL FLAG  SCORE GRADE  GRADE DATE RECORD DATE  \\\n",
       "0           Critical     22   NaN         NaN  03/24/2022   \n",
       "1           Critical     24   NaN         NaN  03/24/2022   \n",
       "2       Not Critical      9   NaN         NaN  03/24/2022   \n",
       "3       Not Critical      9   NaN         NaN  03/24/2022   \n",
       "4           Critical     10     A  07/29/2021  03/24/2022   \n",
       "...              ...    ...   ...         ...         ...   \n",
       "186222  Not Critical      3     A  03/01/2019  03/24/2022   \n",
       "186223  Not Critical     12     A  06/07/2019  03/24/2022   \n",
       "186224  Not Critical     49   NaN         NaN  03/24/2022   \n",
       "186225      Critical     12     A  07/20/2018  03/24/2022   \n",
       "186226      Critical     16   NaN         NaN  03/24/2022   \n",
       "\n",
       "                              INSPECTION TYPE  Latitude  Longitude  \\\n",
       "0       Cycle Inspection / Initial Inspection     40.77     -73.99   \n",
       "1       Cycle Inspection / Initial Inspection     40.89     -73.91   \n",
       "2       Cycle Inspection / Initial Inspection     40.76     -73.97   \n",
       "3       Cycle Inspection / Initial Inspection     40.76     -73.97   \n",
       "4       Cycle Inspection / Initial Inspection     40.74     -73.86   \n",
       "...                                       ...       ...        ...   \n",
       "186222  Cycle Inspection / Initial Inspection      0.00       0.00   \n",
       "186223  Cycle Inspection / Initial Inspection     40.76     -73.98   \n",
       "186224  Cycle Inspection / Initial Inspection     40.76     -73.98   \n",
       "186225  Cycle Inspection / Initial Inspection     40.83     -73.88   \n",
       "186226  Cycle Inspection / Initial Inspection     40.85     -73.83   \n",
       "\n",
       "        Community Board  Council District  Census Tract        BIN  \\\n",
       "0                104.00              3.00      13300.00 1025235.00   \n",
       "1                208.00             11.00      29500.00 2084186.00   \n",
       "2                105.00              4.00      11202.00 1036073.00   \n",
       "3                105.00              4.00      11202.00 1036073.00   \n",
       "4                404.00             21.00      43702.00 4047915.00   \n",
       "...                 ...               ...           ...        ...   \n",
       "186222              nan               nan           nan        nan   \n",
       "186223           105.00              4.00      13700.00 1024857.00   \n",
       "186224           105.00              4.00      11900.00 1089796.00   \n",
       "186225           209.00             18.00       5001.00 2023533.00   \n",
       "186226           210.00             13.00      30000.00 2047655.00   \n",
       "\n",
       "                 BBL   NTA  \n",
       "0      1010430004.00  MN15  \n",
       "1      2057960167.00  BX29  \n",
       "2      1012930047.00  MN17  \n",
       "3      1012930047.00  MN17  \n",
       "4      4019480019.00  QN25  \n",
       "...              ...   ...  \n",
       "186222          1.00   NaN  \n",
       "186223 1010260037.00  MN17  \n",
       "186224 1009980015.00  MN17  \n",
       "186225 2037160036.00  BX55  \n",
       "186226 2042450020.00  BX10  \n",
       "\n",
       "[186227 rows x 26 columns]"
      ]
     },
     "execution_count": 20,
     "metadata": {},
     "output_type": "execute_result"
    }
   ],
   "source": [
    "doh_df = pd.read_csv('data/nyc_open_data/DOHMH_New_York_City_Restaurant_Inspection_Results.csv')\n",
    "doh_df"
   ]
  },
  {
   "cell_type": "markdown",
   "metadata": {},
   "source": [
    "The dataset contains 186,227 inspection results. However, when an inspection results in more than one violation, values for associated fields are repeated for each additional violation record. So let's check how many individual restaurants are in the dataset."
   ]
  },
  {
   "cell_type": "markdown",
   "metadata": {},
   "source": [
    "### Understanding NYC DOHMH Data"
   ]
  },
  {
   "cell_type": "code",
   "execution_count": 21,
   "metadata": {
    "ExecuteTime": {
     "end_time": "2022-04-20T20:28:00.049387Z",
     "start_time": "2022-04-20T20:28:00.017190Z"
    }
   },
   "outputs": [
    {
     "name": "stdout",
     "output_type": "stream",
     "text": [
      "There are 19792 unique restaurants in the dataset. \n"
     ]
    }
   ],
   "source": [
    "# How many unique restaurants are in this dataset?\n",
    "n_unique = doh_df['CAMIS'].nunique()\n",
    "print(f'There are {n_unique} unique restaurants in the dataset. ')"
   ]
  },
  {
   "cell_type": "code",
   "execution_count": 27,
   "metadata": {
    "ExecuteTime": {
     "end_time": "2022-04-20T20:28:11.402977Z",
     "start_time": "2022-04-20T20:28:11.193390Z"
    },
    "scrolled": true
   },
   "outputs": [
    {
     "name": "stdout",
     "output_type": "stream",
     "text": [
      "<class 'pandas.core.frame.DataFrame'>\n",
      "Int64Index: 174725 entries, 0 to 186226\n",
      "Data columns (total 26 columns):\n",
      " #   Column                 Non-Null Count   Dtype  \n",
      "---  ------                 --------------   -----  \n",
      " 0   CAMIS                  174725 non-null  int64  \n",
      " 1   DBA                    174698 non-null  object \n",
      " 2   BORO                   174725 non-null  object \n",
      " 3   BUILDING               174320 non-null  object \n",
      " 4   STREET                 174725 non-null  object \n",
      " 5   ZIPCODE                171831 non-null  float64\n",
      " 6   PHONE                  174712 non-null  object \n",
      " 7   CUISINE DESCRIPTION    174724 non-null  object \n",
      " 8   INSPECTION DATE        174725 non-null  object \n",
      " 9   ACTION                 174725 non-null  object \n",
      " 10  VIOLATION CODE         173929 non-null  object \n",
      " 11  VIOLATION DESCRIPTION  174361 non-null  object \n",
      " 12  CRITICAL FLAG          174725 non-null  object \n",
      " 13  SCORE                  174725 non-null  int64  \n",
      " 14  GRADE                  61921 non-null   object \n",
      " 15  GRADE DATE             61271 non-null   object \n",
      " 16  RECORD DATE            174725 non-null  object \n",
      " 17  INSPECTION TYPE        174725 non-null  object \n",
      " 18  Latitude               174577 non-null  float64\n",
      " 19  Longitude              174577 non-null  float64\n",
      " 20  Community Board        171341 non-null  float64\n",
      " 21  Council District       171346 non-null  float64\n",
      " 22  Census Tract           171346 non-null  float64\n",
      " 23  BIN                    170573 non-null  float64\n",
      " 24  BBL                    174235 non-null  float64\n",
      " 25  NTA                    171341 non-null  object \n",
      "dtypes: float64(8), int64(2), object(16)\n",
      "memory usage: 36.0+ MB\n"
     ]
    }
   ],
   "source": [
    "# Get more information about the dataset contents\n",
    "doh_df.info()"
   ]
  },
  {
   "cell_type": "code",
   "execution_count": 22,
   "metadata": {
    "ExecuteTime": {
     "end_time": "2022-04-20T20:28:01.315256Z",
     "start_time": "2022-04-20T20:28:01.006601Z"
    }
   },
   "outputs": [
    {
     "data": {
      "text/plain": [
       "0         10019.0\n",
       "1         10463.0\n",
       "2         10022.0\n",
       "3         10022.0\n",
       "4         11368.0\n",
       "           ...   \n",
       "186222        nan\n",
       "186223    10019.0\n",
       "186224    10036.0\n",
       "186225    10472.0\n",
       "186226    10461.0\n",
       "Name: ZIPCODE, Length: 186227, dtype: object"
      ]
     },
     "execution_count": 22,
     "metadata": {},
     "output_type": "execute_result"
    }
   ],
   "source": [
    "doh_df['ZIPCODE'].astype(str)"
   ]
  },
  {
   "cell_type": "code",
   "execution_count": 28,
   "metadata": {
    "ExecuteTime": {
     "end_time": "2022-04-20T20:28:16.049718Z",
     "start_time": "2022-04-20T20:28:15.884829Z"
    }
   },
   "outputs": [
    {
     "data": {
      "text/plain": [
       "0         104.0\n",
       "1         208.0\n",
       "2         105.0\n",
       "4         404.0\n",
       "5         101.0\n",
       "          ...  \n",
       "186221      nan\n",
       "186223    105.0\n",
       "186224    105.0\n",
       "186225    209.0\n",
       "186226    210.0\n",
       "Name: Community Board, Length: 174725, dtype: object"
      ]
     },
     "execution_count": 28,
     "metadata": {},
     "output_type": "execute_result"
    }
   ],
   "source": [
    "doh_df['Community Board'].astype(str)"
   ]
  },
  {
   "cell_type": "code",
   "execution_count": 23,
   "metadata": {
    "ExecuteTime": {
     "end_time": "2022-04-20T20:28:02.039708Z",
     "start_time": "2022-04-20T20:28:01.864463Z"
    }
   },
   "outputs": [
    {
     "data": {
      "text/plain": [
       "0          3.0\n",
       "1         11.0\n",
       "2          4.0\n",
       "3          4.0\n",
       "4         21.0\n",
       "          ... \n",
       "186222     nan\n",
       "186223     4.0\n",
       "186224     4.0\n",
       "186225    18.0\n",
       "186226    13.0\n",
       "Name: Council District, Length: 186227, dtype: object"
      ]
     },
     "execution_count": 23,
     "metadata": {},
     "output_type": "execute_result"
    }
   ],
   "source": [
    "doh_df['Council District'].astype(str)"
   ]
  },
  {
   "cell_type": "code",
   "execution_count": 26,
   "metadata": {
    "ExecuteTime": {
     "end_time": "2022-04-20T20:28:07.743273Z",
     "start_time": "2022-04-20T20:28:07.574324Z"
    }
   },
   "outputs": [
    {
     "data": {
      "text/plain": [
       "0         13300.0\n",
       "1         29500.0\n",
       "2         11202.0\n",
       "4         43702.0\n",
       "5          2100.0\n",
       "           ...   \n",
       "186221        nan\n",
       "186223    13700.0\n",
       "186224    11900.0\n",
       "186225     5001.0\n",
       "186226    30000.0\n",
       "Name: Census Tract, Length: 174725, dtype: object"
      ]
     },
     "execution_count": 26,
     "metadata": {},
     "output_type": "execute_result"
    }
   ],
   "source": [
    "doh_df['Census Tract'].astype(str)"
   ]
  },
  {
   "cell_type": "markdown",
   "metadata": {},
   "source": [
    "Every row has a restaurant ID, address, date, and score. Let's ensure there aren't any duplicated rows."
   ]
  },
  {
   "cell_type": "code",
   "execution_count": 29,
   "metadata": {
    "ExecuteTime": {
     "end_time": "2022-04-20T20:28:19.252663Z",
     "start_time": "2022-04-20T20:28:18.708945Z"
    }
   },
   "outputs": [
    {
     "name": "stdout",
     "output_type": "stream",
     "text": [
      "There are 0 duplicated rows. \n"
     ]
    }
   ],
   "source": [
    "print(f'There are {doh_df.duplicated(keep=False).sum()} duplicated rows. ')"
   ]
  },
  {
   "cell_type": "code",
   "execution_count": 24,
   "metadata": {
    "ExecuteTime": {
     "end_time": "2022-04-20T20:28:04.024843Z",
     "start_time": "2022-04-20T20:28:03.340870Z"
    }
   },
   "outputs": [],
   "source": [
    "# Let's drop these duplucated rows\n",
    "doh_df.drop_duplicates(keep='first',inplace=True)"
   ]
  },
  {
   "cell_type": "code",
   "execution_count": 30,
   "metadata": {
    "ExecuteTime": {
     "end_time": "2022-04-20T20:28:22.014263Z",
     "start_time": "2022-04-20T20:28:22.005175Z"
    }
   },
   "outputs": [
    {
     "data": {
      "text/plain": [
       "(174725, 26)"
      ]
     },
     "execution_count": 30,
     "metadata": {},
     "output_type": "execute_result"
    }
   ],
   "source": [
    "# Confirming duplicates have been removed\n",
    "doh_df.shape"
   ]
  },
  {
   "cell_type": "markdown",
   "metadata": {},
   "source": [
    "Since this project will be leveraging data publicly generated from social media a lookup value will be needed to call the API and join the tables. The Yelp API has an endpoint for Phone Search. This will allow us to pull Yelp business data for each restaurant by proivinging a telephone number. More infomration can be found in the [documentation here.](https://www.yelp.com/developers/documentation/v3/business_search_phone)"
   ]
  },
  {
   "cell_type": "code",
   "execution_count": 31,
   "metadata": {
    "ExecuteTime": {
     "end_time": "2022-04-20T20:28:23.307605Z",
     "start_time": "2022-04-20T20:28:23.287825Z"
    }
   },
   "outputs": [
    {
     "name": "stdout",
     "output_type": "stream",
     "text": [
      "There are 13 restaunts missing a telephone number.\n"
     ]
    }
   ],
   "source": [
    "# Checking that every restaunt has a phone number\n",
    "missing_num = doh_df['PHONE'].isna().sum()\n",
    "print(f'There are {missing_num} restaunts missing a telephone number.')"
   ]
  },
  {
   "cell_type": "code",
   "execution_count": 32,
   "metadata": {
    "ExecuteTime": {
     "end_time": "2022-04-20T20:28:24.737821Z",
     "start_time": "2022-04-20T20:28:24.619602Z"
    }
   },
   "outputs": [],
   "source": [
    "# Since only 13 numbers are missing, these rows can be dropped\n",
    "doh_df.dropna(subset=['PHONE'],inplace=True)"
   ]
  },
  {
   "cell_type": "code",
   "execution_count": 33,
   "metadata": {
    "ExecuteTime": {
     "end_time": "2022-04-20T20:28:25.273115Z",
     "start_time": "2022-04-20T20:28:25.254818Z"
    }
   },
   "outputs": [
    {
     "data": {
      "text/plain": [
       "0"
      ]
     },
     "execution_count": 33,
     "metadata": {},
     "output_type": "execute_result"
    }
   ],
   "source": [
    "# Confirming records were dropped\n",
    "doh_df['PHONE'].isna().sum()"
   ]
  },
  {
   "cell_type": "code",
   "execution_count": 34,
   "metadata": {
    "ExecuteTime": {
     "end_time": "2022-04-20T20:28:27.022841Z",
     "start_time": "2022-04-20T20:28:27.011554Z"
    }
   },
   "outputs": [
    {
     "name": "stdout",
     "output_type": "stream",
     "text": [
      "There are 19790 unique restaurants remaining in the dataset. \n"
     ]
    }
   ],
   "source": [
    "# How many unique restaurants are remaining?\n",
    "n_unique = doh_df['CAMIS'].nunique()\n",
    "print(f'There are {n_unique} unique restaurants remaining in the dataset. ')"
   ]
  },
  {
   "cell_type": "markdown",
   "metadata": {},
   "source": [
    "Let's explore the date range for this dataset."
   ]
  },
  {
   "cell_type": "code",
   "execution_count": 35,
   "metadata": {
    "ExecuteTime": {
     "end_time": "2022-04-20T20:28:28.162380Z",
     "start_time": "2022-04-20T20:28:27.944090Z"
    }
   },
   "outputs": [
    {
     "name": "stdout",
     "output_type": "stream",
     "text": [
      "The data ranges from 2009-05-16 00:00:00 to 2022-03-23 00:00:00\n"
     ]
    }
   ],
   "source": [
    "doh_df['INSPECTION DATE'] =  pd.to_datetime(doh_df['INSPECTION DATE'])\n",
    "begin_date = doh_df['INSPECTION DATE'].min()\n",
    "end_date = doh_df['INSPECTION DATE'].max()\n",
    "print(f'The data ranges from {begin_date} to {end_date}')"
   ]
  },
  {
   "cell_type": "markdown",
   "metadata": {},
   "source": [
    "Inspections in this dataset range from May 2009 up to March 2022."
   ]
  },
  {
   "cell_type": "markdown",
   "metadata": {},
   "source": [
    "### Target Variable -- NYCDOH Inspection Grades"
   ]
  },
  {
   "cell_type": "markdown",
   "metadata": {},
   "source": [
    "Health code violations found during an inspections carries a point value, and a restaurant’s score corresponds to a letter grade. A lower point score, leads to a better letter grade:\n",
    "\n",
    "* \"A\" grade: 0 to 13 points for sanitary violations\n",
    "* \"B\" grade: 14 to 27 points for sanitary violations\n",
    "* \"C\" grade: 28 or more points for sanitary violations"
   ]
  },
  {
   "cell_type": "code",
   "execution_count": 36,
   "metadata": {
    "ExecuteTime": {
     "end_time": "2022-04-20T20:28:30.968619Z",
     "start_time": "2022-04-20T20:28:30.236570Z"
    }
   },
   "outputs": [
    {
     "data": {
      "image/png": "[encoded data removed]",
      "text/plain": [
       "<Figure size 864x432 with 1 Axes>"
      ]
     },
     "metadata": {
      "needs_background": "light"
     },
     "output_type": "display_data"
    }
   ],
   "source": [
    "# Let see what the score distribution is\n",
    "doh_df['SCORE'].hist(bins=113, figsize=(12,6));"
   ]
  },
  {
   "cell_type": "code",
   "execution_count": 37,
   "metadata": {
    "ExecuteTime": {
     "end_time": "2022-04-20T20:28:31.012825Z",
     "start_time": "2022-04-20T20:28:30.974869Z"
    }
   },
   "outputs": [
    {
     "data": {
      "text/plain": [
       "count   174712.00\n",
       "mean        21.36\n",
       "std         14.36\n",
       "min          0.00\n",
       "25%         12.00\n",
       "50%         18.00\n",
       "75%         27.00\n",
       "max        131.00\n",
       "Name: SCORE, dtype: float64"
      ]
     },
     "execution_count": 37,
     "metadata": {},
     "output_type": "execute_result"
    }
   ],
   "source": [
    "doh_df['SCORE'].describe()"
   ]
  },
  {
   "cell_type": "code",
   "execution_count": null,
   "metadata": {},
   "outputs": [],
   "source": []
  },
  {
   "cell_type": "code",
   "execution_count": 38,
   "metadata": {
    "ExecuteTime": {
     "end_time": "2022-04-20T20:28:32.714018Z",
     "start_time": "2022-04-20T20:28:32.670198Z"
    }
   },
   "outputs": [],
   "source": [
    "doh_graded = doh_df.copy()"
   ]
  },
  {
   "cell_type": "code",
   "execution_count": 39,
   "metadata": {
    "ExecuteTime": {
     "end_time": "2022-04-20T20:28:33.438028Z",
     "start_time": "2022-04-20T20:28:33.377283Z"
    }
   },
   "outputs": [],
   "source": [
    "doh_graded.drop(columns=['INSPECTION DATE', 'ACTION', 'VIOLATION CODE',\n",
    "       'VIOLATION DESCRIPTION', 'CRITICAL FLAG','GRADE',\n",
    "       'GRADE DATE', 'RECORD DATE', 'INSPECTION TYPE'],inplace=True)"
   ]
  },
  {
   "cell_type": "code",
   "execution_count": 40,
   "metadata": {
    "ExecuteTime": {
     "end_time": "2022-04-20T20:28:34.077700Z",
     "start_time": "2022-04-20T20:28:34.063417Z"
    }
   },
   "outputs": [],
   "source": [
    "doh_graded['A'] = (doh_graded['SCORE'] < 14).astype(int)\n",
    "doh_graded['B'] = (doh_graded['SCORE'] > 13).astype(int) & (doh_df['SCORE'] < 28).astype(int)\n",
    "doh_graded['C'] = (doh_graded['SCORE'] > 27).astype(int)"
   ]
  },
  {
   "cell_type": "code",
   "execution_count": 41,
   "metadata": {
    "ExecuteTime": {
     "end_time": "2022-04-20T20:28:35.390402Z",
     "start_time": "2022-04-20T20:28:34.974123Z"
    }
   },
   "outputs": [],
   "source": [
    "doh_grouped = doh_graded.groupby(by=['CAMIS', 'DBA','CUISINE DESCRIPTION',\n",
    "                                     'BORO', 'BUILDING',\n",
    "                                     'STREET', 'ZIPCODE', 'PHONE', 'Latitude',\n",
    "                                     'Longitude', 'Community Board',\n",
    "                                     'Council District','Census Tract'],dropna=False)['A','B','C'].sum()"
   ]
  },
  {
   "cell_type": "code",
   "execution_count": 42,
   "metadata": {
    "ExecuteTime": {
     "end_time": "2022-04-20T20:28:35.862171Z",
     "start_time": "2022-04-20T20:28:35.851593Z"
    }
   },
   "outputs": [
    {
     "data": {
      "text/plain": [
       "9977"
      ]
     },
     "execution_count": 42,
     "metadata": {},
     "output_type": "execute_result"
    }
   ],
   "source": [
    "(doh_grouped['B'] > 0).sum()"
   ]
  },
  {
   "cell_type": "markdown",
   "metadata": {},
   "source": [
    "Of the 19,790 unique restaurants, 9,977 failed an initial cycle inspection at least once."
   ]
  },
  {
   "cell_type": "code",
   "execution_count": 43,
   "metadata": {
    "ExecuteTime": {
     "end_time": "2022-04-20T20:28:37.177464Z",
     "start_time": "2022-04-20T20:28:37.157329Z"
    }
   },
   "outputs": [
    {
     "data": {
      "text/plain": [
       "5648"
      ]
     },
     "execution_count": 43,
     "metadata": {},
     "output_type": "execute_result"
    }
   ],
   "source": [
    "(doh_grouped['C'] > 0).sum()"
   ]
  },
  {
   "cell_type": "markdown",
   "metadata": {},
   "source": [
    "Of the 19,790 unique restaurants, 5,648 severly failed an initial cycle inspection at least once and are at risk of being closed by the DOHMH."
   ]
  },
  {
   "cell_type": "code",
   "execution_count": 44,
   "metadata": {
    "ExecuteTime": {
     "end_time": "2022-04-20T20:28:38.420646Z",
     "start_time": "2022-04-20T20:28:38.408571Z"
    }
   },
   "outputs": [],
   "source": [
    "# Creating the Target Variable 'Severe' for Restaurants that have scored over 28 points in an initial inspection.\n",
    "doh_grouped['Severe'] = (doh_grouped['C'] > 0).astype(int)"
   ]
  },
  {
   "cell_type": "code",
   "execution_count": 101,
   "metadata": {
    "ExecuteTime": {
     "end_time": "2022-04-20T21:44:44.136248Z",
     "start_time": "2022-04-20T21:44:44.012722Z"
    }
   },
   "outputs": [
    {
     "data": {
      "text/html": [
       "<div>\n",
       "<style scoped>\n",
       "    .dataframe tbody tr th:only-of-type {\n",
       "        vertical-align: middle;\n",
       "    }\n",
       "\n",
       "    .dataframe tbody tr th {\n",
       "        vertical-align: top;\n",
       "    }\n",
       "\n",
       "    .dataframe thead th {\n",
       "        text-align: right;\n",
       "    }\n",
       "</style>\n",
       "<table border=\"1\" class=\"dataframe\">\n",
       "  <thead>\n",
       "    <tr style=\"text-align: right;\">\n",
       "      <th></th>\n",
       "      <th>CAMIS</th>\n",
       "      <th>DBA</th>\n",
       "      <th>CUISINE DESCRIPTION</th>\n",
       "      <th>BORO</th>\n",
       "      <th>BUILDING</th>\n",
       "      <th>STREET</th>\n",
       "      <th>ZIPCODE</th>\n",
       "      <th>PHONE</th>\n",
       "      <th>Latitude</th>\n",
       "      <th>Longitude</th>\n",
       "      <th>Community Board</th>\n",
       "      <th>Council District</th>\n",
       "      <th>Census Tract</th>\n",
       "      <th>Severe</th>\n",
       "    </tr>\n",
       "  </thead>\n",
       "  <tbody>\n",
       "    <tr>\n",
       "      <th>0</th>\n",
       "      <td>30075445</td>\n",
       "      <td>MORRIS PARK BAKE SHOP</td>\n",
       "      <td>Bakery Products/Desserts</td>\n",
       "      <td>Bronx</td>\n",
       "      <td>1007</td>\n",
       "      <td>MORRIS PARK AVENUE</td>\n",
       "      <td>10462.00</td>\n",
       "      <td>7188924968</td>\n",
       "      <td>40.85</td>\n",
       "      <td>-73.86</td>\n",
       "      <td>211.00</td>\n",
       "      <td>13.00</td>\n",
       "      <td>25200.00</td>\n",
       "      <td>0</td>\n",
       "    </tr>\n",
       "    <tr>\n",
       "      <th>1</th>\n",
       "      <td>30112340</td>\n",
       "      <td>WENDY'S</td>\n",
       "      <td>Hamburgers</td>\n",
       "      <td>Brooklyn</td>\n",
       "      <td>469</td>\n",
       "      <td>FLATBUSH AVENUE</td>\n",
       "      <td>11225.00</td>\n",
       "      <td>7182875005</td>\n",
       "      <td>40.66</td>\n",
       "      <td>-73.96</td>\n",
       "      <td>309.00</td>\n",
       "      <td>40.00</td>\n",
       "      <td>32700.00</td>\n",
       "      <td>0</td>\n",
       "    </tr>\n",
       "    <tr>\n",
       "      <th>2</th>\n",
       "      <td>30191841</td>\n",
       "      <td>DJ REYNOLDS PUB AND RESTAURANT</td>\n",
       "      <td>Irish</td>\n",
       "      <td>Manhattan</td>\n",
       "      <td>351</td>\n",
       "      <td>WEST   57 STREET</td>\n",
       "      <td>10019.00</td>\n",
       "      <td>2122452912</td>\n",
       "      <td>40.77</td>\n",
       "      <td>-73.98</td>\n",
       "      <td>104.00</td>\n",
       "      <td>3.00</td>\n",
       "      <td>13900.00</td>\n",
       "      <td>0</td>\n",
       "    </tr>\n",
       "    <tr>\n",
       "      <th>3</th>\n",
       "      <td>40356018</td>\n",
       "      <td>RIVIERA CATERERS</td>\n",
       "      <td>American</td>\n",
       "      <td>Brooklyn</td>\n",
       "      <td>2780</td>\n",
       "      <td>STILLWELL AVENUE</td>\n",
       "      <td>11224.00</td>\n",
       "      <td>7183723031</td>\n",
       "      <td>40.58</td>\n",
       "      <td>-73.98</td>\n",
       "      <td>313.00</td>\n",
       "      <td>47.00</td>\n",
       "      <td>34800.00</td>\n",
       "      <td>0</td>\n",
       "    </tr>\n",
       "    <tr>\n",
       "      <th>4</th>\n",
       "      <td>40356483</td>\n",
       "      <td>WILKEN'S FINE FOOD</td>\n",
       "      <td>Sandwiches</td>\n",
       "      <td>Brooklyn</td>\n",
       "      <td>7114</td>\n",
       "      <td>AVENUE U</td>\n",
       "      <td>11234.00</td>\n",
       "      <td>7184443838</td>\n",
       "      <td>40.62</td>\n",
       "      <td>-73.91</td>\n",
       "      <td>318.00</td>\n",
       "      <td>46.00</td>\n",
       "      <td>70000.00</td>\n",
       "      <td>0</td>\n",
       "    </tr>\n",
       "    <tr>\n",
       "      <th>...</th>\n",
       "      <td>...</td>\n",
       "      <td>...</td>\n",
       "      <td>...</td>\n",
       "      <td>...</td>\n",
       "      <td>...</td>\n",
       "      <td>...</td>\n",
       "      <td>...</td>\n",
       "      <td>...</td>\n",
       "      <td>...</td>\n",
       "      <td>...</td>\n",
       "      <td>...</td>\n",
       "      <td>...</td>\n",
       "      <td>...</td>\n",
       "      <td>...</td>\n",
       "    </tr>\n",
       "    <tr>\n",
       "      <th>19785</th>\n",
       "      <td>50115169</td>\n",
       "      <td>Sobak</td>\n",
       "      <td>Korean</td>\n",
       "      <td>Manhattan</td>\n",
       "      <td>51</td>\n",
       "      <td>CANAL STREET</td>\n",
       "      <td>10002.00</td>\n",
       "      <td>9294018597</td>\n",
       "      <td>40.71</td>\n",
       "      <td>-73.99</td>\n",
       "      <td>103.00</td>\n",
       "      <td>1.00</td>\n",
       "      <td>1600.00</td>\n",
       "      <td>0</td>\n",
       "    </tr>\n",
       "    <tr>\n",
       "      <th>19786</th>\n",
       "      <td>50116155</td>\n",
       "      <td>SEPTEMBER</td>\n",
       "      <td>Coffee/Tea</td>\n",
       "      <td>Brooklyn</td>\n",
       "      <td>83</td>\n",
       "      <td>SARATOGA AVENUE</td>\n",
       "      <td>11233.00</td>\n",
       "      <td>5086491703</td>\n",
       "      <td>40.68</td>\n",
       "      <td>-73.92</td>\n",
       "      <td>316.00</td>\n",
       "      <td>41.00</td>\n",
       "      <td>37300.00</td>\n",
       "      <td>0</td>\n",
       "    </tr>\n",
       "    <tr>\n",
       "      <th>19787</th>\n",
       "      <td>50117350</td>\n",
       "      <td>SONG TEA</td>\n",
       "      <td>Coffee/Tea</td>\n",
       "      <td>Manhattan</td>\n",
       "      <td>488</td>\n",
       "      <td>7 AVENUE</td>\n",
       "      <td>10018.00</td>\n",
       "      <td>6466697802</td>\n",
       "      <td>40.75</td>\n",
       "      <td>-73.99</td>\n",
       "      <td>105.00</td>\n",
       "      <td>3.00</td>\n",
       "      <td>10900.00</td>\n",
       "      <td>0</td>\n",
       "    </tr>\n",
       "    <tr>\n",
       "      <th>19788</th>\n",
       "      <td>50117434</td>\n",
       "      <td>LA POLLERA COLORADA</td>\n",
       "      <td>Spanish</td>\n",
       "      <td>Queens</td>\n",
       "      <td>8213</td>\n",
       "      <td>NORTHERN BLVD</td>\n",
       "      <td>11372.00</td>\n",
       "      <td>7184246531</td>\n",
       "      <td>40.76</td>\n",
       "      <td>-73.89</td>\n",
       "      <td>403.00</td>\n",
       "      <td>25.00</td>\n",
       "      <td>32700.00</td>\n",
       "      <td>1</td>\n",
       "    </tr>\n",
       "    <tr>\n",
       "      <th>19789</th>\n",
       "      <td>50117959</td>\n",
       "      <td>SOL MAYA RESTAURANT</td>\n",
       "      <td>American</td>\n",
       "      <td>Manhattan</td>\n",
       "      <td>2061</td>\n",
       "      <td>2 AVENUE</td>\n",
       "      <td>10029.00</td>\n",
       "      <td>2124106950</td>\n",
       "      <td>40.79</td>\n",
       "      <td>-73.94</td>\n",
       "      <td>111.00</td>\n",
       "      <td>8.00</td>\n",
       "      <td>17000.00</td>\n",
       "      <td>0</td>\n",
       "    </tr>\n",
       "  </tbody>\n",
       "</table>\n",
       "<p>19790 rows × 14 columns</p>\n",
       "</div>"
      ],
      "text/plain": [
       "          CAMIS                             DBA       CUISINE DESCRIPTION  \\\n",
       "0      30075445           MORRIS PARK BAKE SHOP  Bakery Products/Desserts   \n",
       "1      30112340                         WENDY'S                Hamburgers   \n",
       "2      30191841  DJ REYNOLDS PUB AND RESTAURANT                     Irish   \n",
       "3      40356018                RIVIERA CATERERS                  American   \n",
       "4      40356483              WILKEN'S FINE FOOD                Sandwiches   \n",
       "...         ...                             ...                       ...   \n",
       "19785  50115169                           Sobak                    Korean   \n",
       "19786  50116155                       SEPTEMBER                Coffee/Tea   \n",
       "19787  50117350                        SONG TEA                Coffee/Tea   \n",
       "19788  50117434             LA POLLERA COLORADA                   Spanish   \n",
       "19789  50117959             SOL MAYA RESTAURANT                  American   \n",
       "\n",
       "            BORO BUILDING              STREET  ZIPCODE       PHONE  Latitude  \\\n",
       "0          Bronx     1007  MORRIS PARK AVENUE 10462.00  7188924968     40.85   \n",
       "1       Brooklyn      469     FLATBUSH AVENUE 11225.00  7182875005     40.66   \n",
       "2      Manhattan      351    WEST   57 STREET 10019.00  2122452912     40.77   \n",
       "3       Brooklyn     2780    STILLWELL AVENUE 11224.00  7183723031     40.58   \n",
       "4       Brooklyn     7114            AVENUE U 11234.00  7184443838     40.62   \n",
       "...          ...      ...                 ...      ...         ...       ...   \n",
       "19785  Manhattan       51        CANAL STREET 10002.00  9294018597     40.71   \n",
       "19786   Brooklyn       83     SARATOGA AVENUE 11233.00  5086491703     40.68   \n",
       "19787  Manhattan      488            7 AVENUE 10018.00  6466697802     40.75   \n",
       "19788     Queens     8213       NORTHERN BLVD 11372.00  7184246531     40.76   \n",
       "19789  Manhattan     2061            2 AVENUE 10029.00  2124106950     40.79   \n",
       "\n",
       "       Longitude  Community Board  Council District  Census Tract  Severe  \n",
       "0         -73.86           211.00             13.00      25200.00       0  \n",
       "1         -73.96           309.00             40.00      32700.00       0  \n",
       "2         -73.98           104.00              3.00      13900.00       0  \n",
       "3         -73.98           313.00             47.00      34800.00       0  \n",
       "4         -73.91           318.00             46.00      70000.00       0  \n",
       "...          ...              ...               ...           ...     ...  \n",
       "19785     -73.99           103.00              1.00       1600.00       0  \n",
       "19786     -73.92           316.00             41.00      37300.00       0  \n",
       "19787     -73.99           105.00              3.00      10900.00       0  \n",
       "19788     -73.89           403.00             25.00      32700.00       1  \n",
       "19789     -73.94           111.00              8.00      17000.00       0  \n",
       "\n",
       "[19790 rows x 14 columns]"
      ]
     },
     "execution_count": 101,
     "metadata": {},
     "output_type": "execute_result"
    }
   ],
   "source": [
    "nyc_df = doh_grouped.reset_index()\n",
    "nyc_df.drop(['A','B','C'],axis=1, inplace=True)\n",
    "nyc_df"
   ]
  },
  {
   "cell_type": "markdown",
   "metadata": {},
   "source": [
    "#### NYC DOH Data Exploration"
   ]
  },
  {
   "cell_type": "code",
   "execution_count": 46,
   "metadata": {
    "ExecuteTime": {
     "end_time": "2022-04-20T20:28:43.680801Z",
     "start_time": "2022-04-20T20:28:43.669764Z"
    }
   },
   "outputs": [
    {
     "data": {
      "text/plain": [
       "Manhattan        7892\n",
       "Brooklyn         4801\n",
       "Queens           4468\n",
       "Bronx            1920\n",
       "Staten Island     704\n",
       "0                   5\n",
       "Name: BORO, dtype: int64"
      ]
     },
     "execution_count": 46,
     "metadata": {},
     "output_type": "execute_result"
    }
   ],
   "source": [
    "nyc_df['BORO'].value_counts()"
   ]
  },
  {
   "cell_type": "code",
   "execution_count": 47,
   "metadata": {
    "ExecuteTime": {
     "end_time": "2022-04-20T20:28:44.111952Z",
     "start_time": "2022-04-20T20:28:44.093970Z"
    }
   },
   "outputs": [
    {
     "data": {
      "text/plain": [
       "American             4269\n",
       "Chinese              1716\n",
       "Coffee/Tea           1316\n",
       "Pizza                1249\n",
       "Italian               829\n",
       "                     ... \n",
       "New American            3\n",
       "Fruits/Vegetables       2\n",
       "Basque                  1\n",
       "Chilean                 1\n",
       "Fusion                  1\n",
       "Name: CUISINE DESCRIPTION, Length: 84, dtype: int64"
      ]
     },
     "execution_count": 47,
     "metadata": {},
     "output_type": "execute_result"
    }
   ],
   "source": [
    "nyc_df['CUISINE DESCRIPTION'].value_counts()"
   ]
  },
  {
   "cell_type": "code",
   "execution_count": 48,
   "metadata": {
    "ExecuteTime": {
     "end_time": "2022-04-20T20:28:44.821590Z",
     "start_time": "2022-04-20T20:28:44.805180Z"
    }
   },
   "outputs": [
    {
     "data": {
      "text/plain": [
       "10019.00    513\n",
       "10036.00    469\n",
       "10003.00    463\n",
       "10001.00    367\n",
       "10022.00    359\n",
       "           ... \n",
       "10177.00      1\n",
       "10173.00      1\n",
       "10170.00      1\n",
       "10171.00      1\n",
       "10069.00      1\n",
       "Name: ZIPCODE, Length: 221, dtype: int64"
      ]
     },
     "execution_count": 48,
     "metadata": {},
     "output_type": "execute_result"
    }
   ],
   "source": [
    "nyc_df['ZIPCODE'].value_counts()"
   ]
  },
  {
   "cell_type": "markdown",
   "metadata": {},
   "source": [
    "## Obtaining Yelp Buniness and Review Data"
   ]
  },
  {
   "cell_type": "markdown",
   "metadata": {},
   "source": [
    "Now that we have an understanding of the city's inspection results and have explored that dataset it is time to pull in data from the crowd-sourced review platform Yelp."
   ]
  },
  {
   "cell_type": "code",
   "execution_count": 49,
   "metadata": {
    "ExecuteTime": {
     "end_time": "2022-04-20T20:28:50.468194Z",
     "start_time": "2022-04-20T20:28:50.456152Z"
    }
   },
   "outputs": [],
   "source": [
    "# Loading in locally stored API credentials. \n",
    "# You can sign up for access and obtain credentials to the Yelp API here: \n",
    "# https://www.yelp.com/developers/documentation/v3\n",
    "\n",
    "with open('/Users/Rob/.secret/yelp_api.json') as f:\n",
    "    creds = json.load(f)"
   ]
  },
  {
   "cell_type": "code",
   "execution_count": 50,
   "metadata": {
    "ExecuteTime": {
     "end_time": "2022-04-20T20:28:50.945276Z",
     "start_time": "2022-04-20T20:28:50.937219Z"
    }
   },
   "outputs": [
    {
     "data": {
      "text/plain": [
       "dict_keys(['api_key'])"
      ]
     },
     "execution_count": 50,
     "metadata": {},
     "output_type": "execute_result"
    }
   ],
   "source": [
    "# Checking creds were properly loaded in\n",
    "creds.keys()"
   ]
  },
  {
   "cell_type": "markdown",
   "metadata": {},
   "source": [
    "### Yelp Business Search"
   ]
  },
  {
   "cell_type": "code",
   "execution_count": 103,
   "metadata": {
    "ExecuteTime": {
     "end_time": "2022-04-20T21:46:37.013979Z",
     "start_time": "2022-04-20T21:46:36.995159Z"
    }
   },
   "outputs": [
    {
     "name": "stdout",
     "output_type": "stream",
     "text": [
      "There are 18937 unique phone numbers.\n"
     ]
    }
   ],
   "source": [
    "# Formatting phone numbers provided in the NYCDOH dataset \n",
    "nyc_df['PHONE'] = '+1'+nyc_df['PHONE']\n",
    "\n",
    "# Ensure the list contains unique phone numbers only\n",
    "phone_numbers = set(nyc_df['PHONE'])\n",
    "phone_numbers = list(phone_numbers)\n",
    "number_count = len(phone_numbers)\n",
    "print(f'There are {number_count} unique phone numbers.')"
   ]
  },
  {
   "cell_type": "markdown",
   "metadata": {},
   "source": [
    "So we will call the Yelp API at the Phone Search Endpoint for all the numbers in the `phone_numbers` list. However the API only allows 5000 callers per day so we'll slice the list into smaller list."
   ]
  },
  {
   "cell_type": "code",
   "execution_count": 53,
   "metadata": {
    "ExecuteTime": {
     "end_time": "2022-04-20T20:29:07.339656Z",
     "start_time": "2022-04-20T20:29:07.328446Z"
    }
   },
   "outputs": [],
   "source": [
    "# Slicing the phone list into smaller list to fit under the API daily limit restrictions\n",
    "phone_numbers1 = phone_numbers[1:1000]\n",
    "phone_numbers2 = phone_numbers[1000:2000]\n",
    "phone_numbers3 = phone_numbers[2000:2500]\n",
    "phone_numbers4 = phone_numbers[2500:3500]\n",
    "phone_numbers5 = phone_numbers[3500:5000]\n",
    "phone_numbers6 = phone_numbers[5000:6000]\n",
    "phone_numbers7 = phone_numbers[6000:7500]\n",
    "phone_numbers8 = phone_numbers[7500:10000]\n",
    "phone_numbers9 = phone_numbers[10000:12500]\n",
    "phone_numbers11 = phone_numbers[15000:17500]\n",
    "phone_numbers12 = phone_numbers[17500:20000]\n",
    "phone_numbers9 = phone_numbers[10000:12500]\n",
    "phone_numbers10 = phone_numbers[12500:15000]\n",
    "phone_numbers11 = phone_numbers[15000:17500]\n",
    "phone_numbers12 = phone_numbers[17500:19000]"
   ]
  },
  {
   "cell_type": "code",
   "execution_count": 54,
   "metadata": {
    "ExecuteTime": {
     "end_time": "2022-04-20T20:29:07.906103Z",
     "start_time": "2022-04-20T20:29:07.896533Z"
    }
   },
   "outputs": [],
   "source": [
    "#Functionizing the Yelp API Phone Search\n",
    "\n",
    "def get_businesses(phone_numbers):\n",
    "    \"\"\"Input a list of formatted phone numbers\n",
    "    (must start with + and include the country code, like +14159083801)\n",
    "    and returns a corresponding list of Yelp Businesses\"\"\"\n",
    "    \n",
    "    biz_list = []\n",
    "    \n",
    "    for number in phone_numbers:\n",
    "        url = 'https://api.yelp.com/v3/businesses/search/phone'\n",
    "        headers = {'Authorization': 'Bearer ' + creds['api_key']}\n",
    "        url_params = {'phone': number}\n",
    "        response = requests.get(url, headers=headers, params=url_params)\n",
    "        response_json = response.json()\n",
    "        biz_list.extend(response_json.get('businesses','U'))\n",
    "        \n",
    "    while 'U' in biz_list:\n",
    "        biz_list.remove('U')\n",
    "        \n",
    "    return biz_list"
   ]
  },
  {
   "cell_type": "code",
   "execution_count": 55,
   "metadata": {
    "ExecuteTime": {
     "end_time": "2022-04-20T20:29:08.413023Z",
     "start_time": "2022-04-20T20:29:08.389067Z"
    }
   },
   "outputs": [],
   "source": [
    "# Call `get_business` function\n",
    "if call_apis == True:\n",
    "    biz_list12 = get_businesses(phone_numbers12)\n",
    "    \n",
    "    # Save returned list as a DataFrame and .csv file\n",
    "    biz12_df = pd.DataFrame(biz_list12)\n",
    "    biz12_df.to_csv('data/yelp_data/yelp_business/yelp_phone12.csv',index=False)"
   ]
  },
  {
   "cell_type": "code",
   "execution_count": 56,
   "metadata": {
    "ExecuteTime": {
     "end_time": "2022-04-20T20:29:08.893089Z",
     "start_time": "2022-04-20T20:29:08.878584Z"
    }
   },
   "outputs": [],
   "source": [
    "# List of files containing Yelp business data\n",
    "fpath = 'data/yelp_data/yelp_businesses/'\n",
    "os.listdir(fpath)\n",
    "query = fpath+\"*.csv\"\n",
    "f_list = glob.glob(query)"
   ]
  },
  {
   "cell_type": "code",
   "execution_count": 59,
   "metadata": {
    "ExecuteTime": {
     "end_time": "2022-04-20T20:29:20.696802Z",
     "start_time": "2022-04-20T20:29:20.275016Z"
    }
   },
   "outputs": [],
   "source": [
    "# Append saved Yelp Business tables to a dict\n",
    "yelp_tables = {}\n",
    "\n",
    "for f in f_list:\n",
    "    temp_df = pd.read_csv(f)\n",
    "    fname = f.replace('data/yelp_data/yelp_businesses/yelp_phone','df_').replace('.csv','')\n",
    "    yelp_tables[fname] = temp_df"
   ]
  },
  {
   "cell_type": "code",
   "execution_count": 60,
   "metadata": {
    "ExecuteTime": {
     "end_time": "2022-04-20T20:29:21.260456Z",
     "start_time": "2022-04-20T20:29:21.256733Z"
    }
   },
   "outputs": [],
   "source": [
    "yelp_df_list = [t for t in list(yelp_tables.keys())]"
   ]
  },
  {
   "cell_type": "code",
   "execution_count": 61,
   "metadata": {
    "ExecuteTime": {
     "end_time": "2022-04-20T20:29:22.116252Z",
     "start_time": "2022-04-20T20:29:22.032148Z"
    }
   },
   "outputs": [
    {
     "data": {
      "text/html": [
       "<div>\n",
       "<style scoped>\n",
       "    .dataframe tbody tr th:only-of-type {\n",
       "        vertical-align: middle;\n",
       "    }\n",
       "\n",
       "    .dataframe tbody tr th {\n",
       "        vertical-align: top;\n",
       "    }\n",
       "\n",
       "    .dataframe thead th {\n",
       "        text-align: right;\n",
       "    }\n",
       "</style>\n",
       "<table border=\"1\" class=\"dataframe\">\n",
       "  <thead>\n",
       "    <tr style=\"text-align: right;\">\n",
       "      <th></th>\n",
       "      <th>id</th>\n",
       "      <th>alias</th>\n",
       "      <th>name</th>\n",
       "      <th>image_url</th>\n",
       "      <th>is_closed</th>\n",
       "      <th>url</th>\n",
       "      <th>review_count</th>\n",
       "      <th>categories</th>\n",
       "      <th>rating</th>\n",
       "      <th>coordinates</th>\n",
       "      <th>transactions</th>\n",
       "      <th>price</th>\n",
       "      <th>location</th>\n",
       "      <th>phone</th>\n",
       "      <th>display_phone</th>\n",
       "    </tr>\n",
       "  </thead>\n",
       "  <tbody>\n",
       "    <tr>\n",
       "      <th>0</th>\n",
       "      <td>RzKR9QcYP03EQ_8DxTxowg</td>\n",
       "      <td>barrio-chino-new-york</td>\n",
       "      <td>Barrio Chino</td>\n",
       "      <td>https://s3-media0.fl.yelpcdn.com/bphoto/dpaRqPZD6xqDZo2ZfOyjnQ/o.jpg</td>\n",
       "      <td>False</td>\n",
       "      <td>https://www.yelp.com/biz/barrio-chino-new-york?adjust_creative=82uXkAt1Tiw7u9_h33zr1A&amp;utm_campai...</td>\n",
       "      <td>1148</td>\n",
       "      <td>[{'alias': 'mexican', 'title': 'Mexican'}, {'alias': 'bars', 'title': 'Bars'}]</td>\n",
       "      <td>4.00</td>\n",
       "      <td>{'latitude': 40.718022, 'longitude': -73.990026}</td>\n",
       "      <td>['delivery', 'pickup']</td>\n",
       "      <td>$$</td>\n",
       "      <td>{'address1': '253 Broome St', 'address2': None, 'address3': '', 'city': 'New York', 'zip_code': ...</td>\n",
       "      <td>12122286710</td>\n",
       "      <td>(212) 228-6710</td>\n",
       "    </tr>\n",
       "    <tr>\n",
       "      <th>1</th>\n",
       "      <td>hrP3xLWJ8sLwG_XxEGq61Q</td>\n",
       "      <td>reyes-restaurant-woodside</td>\n",
       "      <td>Reyes Restaurant</td>\n",
       "      <td>https://s3-media0.fl.yelpcdn.com/bphoto/_dwQGccROJaxa-oNIxQsEg/o.jpg</td>\n",
       "      <td>False</td>\n",
       "      <td>https://www.yelp.com/biz/reyes-restaurant-woodside?adjust_creative=82uXkAt1Tiw7u9_h33zr1A&amp;utm_ca...</td>\n",
       "      <td>7</td>\n",
       "      <td>[{'alias': 'latin', 'title': 'Latin American'}, {'alias': 'dominican', 'title': 'Dominican'}]</td>\n",
       "      <td>4.00</td>\n",
       "      <td>{'latitude': 40.7466, 'longitude': -73.9098}</td>\n",
       "      <td>['delivery']</td>\n",
       "      <td>$</td>\n",
       "      <td>{'address1': '4754 46th St', 'address2': '', 'address3': '', 'city': 'Woodside', 'zip_code': '11...</td>\n",
       "      <td>17187529577</td>\n",
       "      <td>(718) 752-9577</td>\n",
       "    </tr>\n",
       "    <tr>\n",
       "      <th>2</th>\n",
       "      <td>in7QM4vNUTHVZIi7Outetg</td>\n",
       "      <td>mcdonalds-new-york-430</td>\n",
       "      <td>McDonald's</td>\n",
       "      <td>https://s3-media0.fl.yelpcdn.com/bphoto/bNmu8D1sjwJzbxxP9ZwJOQ/o.jpg</td>\n",
       "      <td>False</td>\n",
       "      <td>https://www.yelp.com/biz/mcdonalds-new-york-430?adjust_creative=82uXkAt1Tiw7u9_h33zr1A&amp;utm_campa...</td>\n",
       "      <td>103</td>\n",
       "      <td>[{'alias': 'burgers', 'title': 'Burgers'}, {'alias': 'hotdogs', 'title': 'Fast Food'}, {'alias':...</td>\n",
       "      <td>1.50</td>\n",
       "      <td>{'latitude': 40.7163213865248, 'longitude': -74.0106988300204}</td>\n",
       "      <td>['delivery']</td>\n",
       "      <td>$</td>\n",
       "      <td>{'address1': '167 Chambers St', 'address2': '', 'address3': '', 'city': 'New York', 'zip_code': ...</td>\n",
       "      <td>12126082405</td>\n",
       "      <td>(212) 608-2405</td>\n",
       "    </tr>\n",
       "    <tr>\n",
       "      <th>3</th>\n",
       "      <td>F-YGKegXRG2TE-Xw1AWeCA</td>\n",
       "      <td>popeyes-louisiana-kitchen-rockaway-beach-2</td>\n",
       "      <td>Popeyes Louisiana Kitchen</td>\n",
       "      <td>https://s3-media0.fl.yelpcdn.com/bphoto/A4MR2hDN3mWefMUT7bBB2A/o.jpg</td>\n",
       "      <td>False</td>\n",
       "      <td>https://www.yelp.com/biz/popeyes-louisiana-kitchen-rockaway-beach-2?adjust_creative=82uXkAt1Tiw7...</td>\n",
       "      <td>21</td>\n",
       "      <td>[{'alias': 'hotdogs', 'title': 'Fast Food'}, {'alias': 'seafood', 'title': 'Seafood'}, {'alias':...</td>\n",
       "      <td>2.00</td>\n",
       "      <td>{'latitude': 40.587551867915515, 'longitude': -73.81088484629929}</td>\n",
       "      <td>['pickup', 'delivery']</td>\n",
       "      <td>$</td>\n",
       "      <td>{'address1': '8601 Rockaway Beach Blvd', 'address2': '', 'address3': None, 'city': 'Rockaway Bea...</td>\n",
       "      <td>17189452815</td>\n",
       "      <td>(718) 945-2815</td>\n",
       "    </tr>\n",
       "    <tr>\n",
       "      <th>4</th>\n",
       "      <td>rYl_R-UILYqA6vYsbNwLsg</td>\n",
       "      <td>joe-coffee-company-new-york-14</td>\n",
       "      <td>Joe Coffee Company</td>\n",
       "      <td>https://s3-media0.fl.yelpcdn.com/bphoto/e-nX3g-MQAN48MDPAv2cIg/o.jpg</td>\n",
       "      <td>False</td>\n",
       "      <td>https://www.yelp.com/biz/joe-coffee-company-new-york-14?adjust_creative=82uXkAt1Tiw7u9_h33zr1A&amp;u...</td>\n",
       "      <td>24</td>\n",
       "      <td>[{'alias': 'coffee', 'title': 'Coffee &amp; Tea'}, {'alias': 'coffeeroasteries', 'title': 'Coffee Ro...</td>\n",
       "      <td>4.00</td>\n",
       "      <td>{'latitude': 40.7126284147746, 'longitude': -74.0128198486877}</td>\n",
       "      <td>[]</td>\n",
       "      <td>$$</td>\n",
       "      <td>{'address1': '185 Greenwich St', 'address2': 'LL3110', 'address3': None, 'city': 'New York', 'zi...</td>\n",
       "      <td>16467661719</td>\n",
       "      <td>(646) 766-1719</td>\n",
       "    </tr>\n",
       "    <tr>\n",
       "      <th>...</th>\n",
       "      <td>...</td>\n",
       "      <td>...</td>\n",
       "      <td>...</td>\n",
       "      <td>...</td>\n",
       "      <td>...</td>\n",
       "      <td>...</td>\n",
       "      <td>...</td>\n",
       "      <td>...</td>\n",
       "      <td>...</td>\n",
       "      <td>...</td>\n",
       "      <td>...</td>\n",
       "      <td>...</td>\n",
       "      <td>...</td>\n",
       "      <td>...</td>\n",
       "      <td>...</td>\n",
       "    </tr>\n",
       "    <tr>\n",
       "      <th>17297</th>\n",
       "      <td>K_e7_aNgghFLZ2zvjFSNkQ</td>\n",
       "      <td>loreley-beer-garden-new-york-2</td>\n",
       "      <td>Loreley Beer Garden</td>\n",
       "      <td>https://s3-media0.fl.yelpcdn.com/bphoto/RHzuMs1HJjcbSjpkmJIFlg/o.jpg</td>\n",
       "      <td>False</td>\n",
       "      <td>https://www.yelp.com/biz/loreley-beer-garden-new-york-2?adjust_creative=82uXkAt1Tiw7u9_h33zr1A&amp;u...</td>\n",
       "      <td>814</td>\n",
       "      <td>[{'alias': 'german', 'title': 'German'}, {'alias': 'beergardens', 'title': 'Beer Gardens'}]</td>\n",
       "      <td>3.50</td>\n",
       "      <td>{'latitude': 40.7212291, 'longitude': -73.992872}</td>\n",
       "      <td>['pickup', 'delivery']</td>\n",
       "      <td>$$</td>\n",
       "      <td>{'address1': '7 Rivington St', 'address2': None, 'address3': '', 'city': 'New York', 'zip_code':...</td>\n",
       "      <td>12122537077</td>\n",
       "      <td>(212) 253-7077</td>\n",
       "    </tr>\n",
       "    <tr>\n",
       "      <th>17298</th>\n",
       "      <td>Pi-AJhThWqhb89mjHU65Nw</td>\n",
       "      <td>majestic-restaurant-bronx</td>\n",
       "      <td>Majestic restaurant</td>\n",
       "      <td>https://s3-media0.fl.yelpcdn.com/bphoto/EpUrURPt_-Cu1sWNwmJbYw/o.jpg</td>\n",
       "      <td>False</td>\n",
       "      <td>https://www.yelp.com/biz/majestic-restaurant-bronx?adjust_creative=82uXkAt1Tiw7u9_h33zr1A&amp;utm_ca...</td>\n",
       "      <td>17</td>\n",
       "      <td>[{'alias': 'dominican', 'title': 'Dominican'}]</td>\n",
       "      <td>3.00</td>\n",
       "      <td>{'latitude': 40.854152, 'longitude': -73.8840031}</td>\n",
       "      <td>['pickup', 'delivery']</td>\n",
       "      <td>NaN</td>\n",
       "      <td>{'address1': '709 E 187th St', 'address2': None, 'address3': '', 'city': 'bronx', 'zip_code': '1...</td>\n",
       "      <td>17186180032</td>\n",
       "      <td>(718) 618-0032</td>\n",
       "    </tr>\n",
       "    <tr>\n",
       "      <th>17299</th>\n",
       "      <td>lEUzamk42G4kkVXFdhExSw</td>\n",
       "      <td>golden-sands-cafe-sheepshead-bay</td>\n",
       "      <td>Golden Sands Cafe</td>\n",
       "      <td>https://s3-media0.fl.yelpcdn.com/bphoto/vUg1wFXfMjRqLdfs8j5a_Q/o.jpg</td>\n",
       "      <td>False</td>\n",
       "      <td>https://www.yelp.com/biz/golden-sands-cafe-sheepshead-bay?adjust_creative=82uXkAt1Tiw7u9_h33zr1A...</td>\n",
       "      <td>18</td>\n",
       "      <td>[{'alias': 'dimsum', 'title': 'Dim Sum'}, {'alias': 'cafes', 'title': 'Cafes'}, {'alias': 'sandw...</td>\n",
       "      <td>3.50</td>\n",
       "      <td>{'latitude': 40.599075, 'longitude': -73.951736}</td>\n",
       "      <td>['delivery', 'pickup']</td>\n",
       "      <td>$</td>\n",
       "      <td>{'address1': '1924 Ave U', 'address2': '', 'address3': '', 'city': 'Sheepshead Bay', 'zip_code':...</td>\n",
       "      <td>17186488898</td>\n",
       "      <td>(718) 648-8898</td>\n",
       "    </tr>\n",
       "    <tr>\n",
       "      <th>17300</th>\n",
       "      <td>8pSdwDyx4Xu4PdYluzxtJQ</td>\n",
       "      <td>century-cafe-of-brooklyn-brooklyn</td>\n",
       "      <td>Century Cafe of Brooklyn</td>\n",
       "      <td>https://s3-media0.fl.yelpcdn.com/bphoto/c4ZHWfFEv58OFjTTznd74Q/o.jpg</td>\n",
       "      <td>True</td>\n",
       "      <td>https://www.yelp.com/biz/century-cafe-of-brooklyn-brooklyn?adjust_creative=82uXkAt1Tiw7u9_h33zr1...</td>\n",
       "      <td>9</td>\n",
       "      <td>[{'alias': 'bakeries', 'title': 'Bakeries'}, {'alias': 'coffee', 'title': 'Coffee &amp; Tea'}]</td>\n",
       "      <td>3.50</td>\n",
       "      <td>{'latitude': 40.599084, 'longitude': -73.951738}</td>\n",
       "      <td>[]</td>\n",
       "      <td>$</td>\n",
       "      <td>{'address1': '1924 Ave U', 'address2': '', 'address3': '', 'city': 'Brooklyn', 'zip_code': '1122...</td>\n",
       "      <td>17186488898</td>\n",
       "      <td>(718) 648-8898</td>\n",
       "    </tr>\n",
       "    <tr>\n",
       "      <th>17301</th>\n",
       "      <td>boJPw2UISD67hm3Ro0kong</td>\n",
       "      <td>bobby-vans-steakhouse-new-york-10</td>\n",
       "      <td>Bobby Van's Steakhouse</td>\n",
       "      <td>https://s3-media0.fl.yelpcdn.com/bphoto/qvJpHCqvsrhQKqPnKaEzWQ/o.jpg</td>\n",
       "      <td>False</td>\n",
       "      <td>https://www.yelp.com/biz/bobby-vans-steakhouse-new-york-10?adjust_creative=82uXkAt1Tiw7u9_h33zr1...</td>\n",
       "      <td>139</td>\n",
       "      <td>[{'alias': 'steak', 'title': 'Steakhouses'}, {'alias': 'tradamerican', 'title': 'American (Tradi...</td>\n",
       "      <td>3.50</td>\n",
       "      <td>{'latitude': 40.7543768198208, 'longitude': -73.9755606651306}</td>\n",
       "      <td>['pickup', 'delivery']</td>\n",
       "      <td>$$$$</td>\n",
       "      <td>{'address1': '230 Park Ave', 'address2': '', 'address3': '', 'city': 'New York', 'zip_code': '10...</td>\n",
       "      <td>12128675490</td>\n",
       "      <td>(212) 867-5490</td>\n",
       "    </tr>\n",
       "  </tbody>\n",
       "</table>\n",
       "<p>17302 rows × 15 columns</p>\n",
       "</div>"
      ],
      "text/plain": [
       "                           id                                       alias  \\\n",
       "0      RzKR9QcYP03EQ_8DxTxowg                       barrio-chino-new-york   \n",
       "1      hrP3xLWJ8sLwG_XxEGq61Q                   reyes-restaurant-woodside   \n",
       "2      in7QM4vNUTHVZIi7Outetg                      mcdonalds-new-york-430   \n",
       "3      F-YGKegXRG2TE-Xw1AWeCA  popeyes-louisiana-kitchen-rockaway-beach-2   \n",
       "4      rYl_R-UILYqA6vYsbNwLsg              joe-coffee-company-new-york-14   \n",
       "...                       ...                                         ...   \n",
       "17297  K_e7_aNgghFLZ2zvjFSNkQ              loreley-beer-garden-new-york-2   \n",
       "17298  Pi-AJhThWqhb89mjHU65Nw                   majestic-restaurant-bronx   \n",
       "17299  lEUzamk42G4kkVXFdhExSw            golden-sands-cafe-sheepshead-bay   \n",
       "17300  8pSdwDyx4Xu4PdYluzxtJQ           century-cafe-of-brooklyn-brooklyn   \n",
       "17301  boJPw2UISD67hm3Ro0kong           bobby-vans-steakhouse-new-york-10   \n",
       "\n",
       "                            name  \\\n",
       "0                   Barrio Chino   \n",
       "1               Reyes Restaurant   \n",
       "2                     McDonald's   \n",
       "3      Popeyes Louisiana Kitchen   \n",
       "4             Joe Coffee Company   \n",
       "...                          ...   \n",
       "17297        Loreley Beer Garden   \n",
       "17298        Majestic restaurant   \n",
       "17299          Golden Sands Cafe   \n",
       "17300   Century Cafe of Brooklyn   \n",
       "17301     Bobby Van's Steakhouse   \n",
       "\n",
       "                                                                  image_url  \\\n",
       "0      https://s3-media0.fl.yelpcdn.com/bphoto/dpaRqPZD6xqDZo2ZfOyjnQ/o.jpg   \n",
       "1      https://s3-media0.fl.yelpcdn.com/bphoto/_dwQGccROJaxa-oNIxQsEg/o.jpg   \n",
       "2      https://s3-media0.fl.yelpcdn.com/bphoto/bNmu8D1sjwJzbxxP9ZwJOQ/o.jpg   \n",
       "3      https://s3-media0.fl.yelpcdn.com/bphoto/A4MR2hDN3mWefMUT7bBB2A/o.jpg   \n",
       "4      https://s3-media0.fl.yelpcdn.com/bphoto/e-nX3g-MQAN48MDPAv2cIg/o.jpg   \n",
       "...                                                                     ...   \n",
       "17297  https://s3-media0.fl.yelpcdn.com/bphoto/RHzuMs1HJjcbSjpkmJIFlg/o.jpg   \n",
       "17298  https://s3-media0.fl.yelpcdn.com/bphoto/EpUrURPt_-Cu1sWNwmJbYw/o.jpg   \n",
       "17299  https://s3-media0.fl.yelpcdn.com/bphoto/vUg1wFXfMjRqLdfs8j5a_Q/o.jpg   \n",
       "17300  https://s3-media0.fl.yelpcdn.com/bphoto/c4ZHWfFEv58OFjTTznd74Q/o.jpg   \n",
       "17301  https://s3-media0.fl.yelpcdn.com/bphoto/qvJpHCqvsrhQKqPnKaEzWQ/o.jpg   \n",
       "\n",
       "       is_closed  \\\n",
       "0          False   \n",
       "1          False   \n",
       "2          False   \n",
       "3          False   \n",
       "4          False   \n",
       "...          ...   \n",
       "17297      False   \n",
       "17298      False   \n",
       "17299      False   \n",
       "17300       True   \n",
       "17301      False   \n",
       "\n",
       "                                                                                                       url  \\\n",
       "0      https://www.yelp.com/biz/barrio-chino-new-york?adjust_creative=82uXkAt1Tiw7u9_h33zr1A&utm_campai...   \n",
       "1      https://www.yelp.com/biz/reyes-restaurant-woodside?adjust_creative=82uXkAt1Tiw7u9_h33zr1A&utm_ca...   \n",
       "2      https://www.yelp.com/biz/mcdonalds-new-york-430?adjust_creative=82uXkAt1Tiw7u9_h33zr1A&utm_campa...   \n",
       "3      https://www.yelp.com/biz/popeyes-louisiana-kitchen-rockaway-beach-2?adjust_creative=82uXkAt1Tiw7...   \n",
       "4      https://www.yelp.com/biz/joe-coffee-company-new-york-14?adjust_creative=82uXkAt1Tiw7u9_h33zr1A&u...   \n",
       "...                                                                                                    ...   \n",
       "17297  https://www.yelp.com/biz/loreley-beer-garden-new-york-2?adjust_creative=82uXkAt1Tiw7u9_h33zr1A&u...   \n",
       "17298  https://www.yelp.com/biz/majestic-restaurant-bronx?adjust_creative=82uXkAt1Tiw7u9_h33zr1A&utm_ca...   \n",
       "17299  https://www.yelp.com/biz/golden-sands-cafe-sheepshead-bay?adjust_creative=82uXkAt1Tiw7u9_h33zr1A...   \n",
       "17300  https://www.yelp.com/biz/century-cafe-of-brooklyn-brooklyn?adjust_creative=82uXkAt1Tiw7u9_h33zr1...   \n",
       "17301  https://www.yelp.com/biz/bobby-vans-steakhouse-new-york-10?adjust_creative=82uXkAt1Tiw7u9_h33zr1...   \n",
       "\n",
       "       review_count  \\\n",
       "0              1148   \n",
       "1                 7   \n",
       "2               103   \n",
       "3                21   \n",
       "4                24   \n",
       "...             ...   \n",
       "17297           814   \n",
       "17298            17   \n",
       "17299            18   \n",
       "17300             9   \n",
       "17301           139   \n",
       "\n",
       "                                                                                                categories  \\\n",
       "0                           [{'alias': 'mexican', 'title': 'Mexican'}, {'alias': 'bars', 'title': 'Bars'}]   \n",
       "1            [{'alias': 'latin', 'title': 'Latin American'}, {'alias': 'dominican', 'title': 'Dominican'}]   \n",
       "2      [{'alias': 'burgers', 'title': 'Burgers'}, {'alias': 'hotdogs', 'title': 'Fast Food'}, {'alias':...   \n",
       "3      [{'alias': 'hotdogs', 'title': 'Fast Food'}, {'alias': 'seafood', 'title': 'Seafood'}, {'alias':...   \n",
       "4      [{'alias': 'coffee', 'title': 'Coffee & Tea'}, {'alias': 'coffeeroasteries', 'title': 'Coffee Ro...   \n",
       "...                                                                                                    ...   \n",
       "17297          [{'alias': 'german', 'title': 'German'}, {'alias': 'beergardens', 'title': 'Beer Gardens'}]   \n",
       "17298                                                       [{'alias': 'dominican', 'title': 'Dominican'}]   \n",
       "17299  [{'alias': 'dimsum', 'title': 'Dim Sum'}, {'alias': 'cafes', 'title': 'Cafes'}, {'alias': 'sandw...   \n",
       "17300           [{'alias': 'bakeries', 'title': 'Bakeries'}, {'alias': 'coffee', 'title': 'Coffee & Tea'}]   \n",
       "17301  [{'alias': 'steak', 'title': 'Steakhouses'}, {'alias': 'tradamerican', 'title': 'American (Tradi...   \n",
       "\n",
       "       rating  \\\n",
       "0        4.00   \n",
       "1        4.00   \n",
       "2        1.50   \n",
       "3        2.00   \n",
       "4        4.00   \n",
       "...       ...   \n",
       "17297    3.50   \n",
       "17298    3.00   \n",
       "17299    3.50   \n",
       "17300    3.50   \n",
       "17301    3.50   \n",
       "\n",
       "                                                             coordinates  \\\n",
       "0                       {'latitude': 40.718022, 'longitude': -73.990026}   \n",
       "1                           {'latitude': 40.7466, 'longitude': -73.9098}   \n",
       "2         {'latitude': 40.7163213865248, 'longitude': -74.0106988300204}   \n",
       "3      {'latitude': 40.587551867915515, 'longitude': -73.81088484629929}   \n",
       "4         {'latitude': 40.7126284147746, 'longitude': -74.0128198486877}   \n",
       "...                                                                  ...   \n",
       "17297                  {'latitude': 40.7212291, 'longitude': -73.992872}   \n",
       "17298                  {'latitude': 40.854152, 'longitude': -73.8840031}   \n",
       "17299                   {'latitude': 40.599075, 'longitude': -73.951736}   \n",
       "17300                   {'latitude': 40.599084, 'longitude': -73.951738}   \n",
       "17301     {'latitude': 40.7543768198208, 'longitude': -73.9755606651306}   \n",
       "\n",
       "                 transactions price  \\\n",
       "0      ['delivery', 'pickup']    $$   \n",
       "1                ['delivery']     $   \n",
       "2                ['delivery']     $   \n",
       "3      ['pickup', 'delivery']     $   \n",
       "4                          []    $$   \n",
       "...                       ...   ...   \n",
       "17297  ['pickup', 'delivery']    $$   \n",
       "17298  ['pickup', 'delivery']   NaN   \n",
       "17299  ['delivery', 'pickup']     $   \n",
       "17300                      []     $   \n",
       "17301  ['pickup', 'delivery']  $$$$   \n",
       "\n",
       "                                                                                                  location  \\\n",
       "0      {'address1': '253 Broome St', 'address2': None, 'address3': '', 'city': 'New York', 'zip_code': ...   \n",
       "1      {'address1': '4754 46th St', 'address2': '', 'address3': '', 'city': 'Woodside', 'zip_code': '11...   \n",
       "2      {'address1': '167 Chambers St', 'address2': '', 'address3': '', 'city': 'New York', 'zip_code': ...   \n",
       "3      {'address1': '8601 Rockaway Beach Blvd', 'address2': '', 'address3': None, 'city': 'Rockaway Bea...   \n",
       "4      {'address1': '185 Greenwich St', 'address2': 'LL3110', 'address3': None, 'city': 'New York', 'zi...   \n",
       "...                                                                                                    ...   \n",
       "17297  {'address1': '7 Rivington St', 'address2': None, 'address3': '', 'city': 'New York', 'zip_code':...   \n",
       "17298  {'address1': '709 E 187th St', 'address2': None, 'address3': '', 'city': 'bronx', 'zip_code': '1...   \n",
       "17299  {'address1': '1924 Ave U', 'address2': '', 'address3': '', 'city': 'Sheepshead Bay', 'zip_code':...   \n",
       "17300  {'address1': '1924 Ave U', 'address2': '', 'address3': '', 'city': 'Brooklyn', 'zip_code': '1122...   \n",
       "17301  {'address1': '230 Park Ave', 'address2': '', 'address3': '', 'city': 'New York', 'zip_code': '10...   \n",
       "\n",
       "             phone   display_phone  \n",
       "0      12122286710  (212) 228-6710  \n",
       "1      17187529577  (718) 752-9577  \n",
       "2      12126082405  (212) 608-2405  \n",
       "3      17189452815  (718) 945-2815  \n",
       "4      16467661719  (646) 766-1719  \n",
       "...            ...             ...  \n",
       "17297  12122537077  (212) 253-7077  \n",
       "17298  17186180032  (718) 618-0032  \n",
       "17299  17186488898  (718) 648-8898  \n",
       "17300  17186488898  (718) 648-8898  \n",
       "17301  12128675490  (212) 867-5490  \n",
       "\n",
       "[17302 rows x 15 columns]"
      ]
     },
     "execution_count": 61,
     "metadata": {},
     "output_type": "execute_result"
    }
   ],
   "source": [
    "# Concatenating all Yelp Businesses responses from the Phone Search\n",
    "yelp_businesses_df = pd.concat(yelp_tables,ignore_index=True)\n",
    "yelp_businesses_df"
   ]
  },
  {
   "cell_type": "markdown",
   "metadata": {},
   "source": [
    "#### Exploring Yelp Businesses Response Data"
   ]
  },
  {
   "cell_type": "code",
   "execution_count": 62,
   "metadata": {
    "ExecuteTime": {
     "end_time": "2022-04-20T20:29:25.405089Z",
     "start_time": "2022-04-20T20:29:25.347277Z"
    }
   },
   "outputs": [
    {
     "name": "stdout",
     "output_type": "stream",
     "text": [
      "<class 'pandas.core.frame.DataFrame'>\n",
      "RangeIndex: 17302 entries, 0 to 17301\n",
      "Data columns (total 15 columns):\n",
      " #   Column         Non-Null Count  Dtype  \n",
      "---  ------         --------------  -----  \n",
      " 0   id             17302 non-null  object \n",
      " 1   alias          17302 non-null  object \n",
      " 2   name           17302 non-null  object \n",
      " 3   image_url      16563 non-null  object \n",
      " 4   is_closed      17302 non-null  bool   \n",
      " 5   url            17302 non-null  object \n",
      " 6   review_count   17302 non-null  int64  \n",
      " 7   categories     17302 non-null  object \n",
      " 8   rating         17302 non-null  float64\n",
      " 9   coordinates    17302 non-null  object \n",
      " 10  transactions   17302 non-null  object \n",
      " 11  price          14501 non-null  object \n",
      " 12  location       17302 non-null  object \n",
      " 13  phone          17302 non-null  int64  \n",
      " 14  display_phone  17302 non-null  object \n",
      "dtypes: bool(1), float64(1), int64(2), object(11)\n",
      "memory usage: 1.9+ MB\n"
     ]
    }
   ],
   "source": [
    "yelp_businesses_df.info()"
   ]
  },
  {
   "cell_type": "code",
   "execution_count": 63,
   "metadata": {
    "ExecuteTime": {
     "end_time": "2022-04-20T20:29:26.255587Z",
     "start_time": "2022-04-20T20:29:26.237246Z"
    }
   },
   "outputs": [
    {
     "data": {
      "text/plain": [
       "$$     0.53\n",
       "$      0.37\n",
       "$$$    0.07\n",
       "$$$$   0.02\n",
       "Name: price, dtype: float64"
      ]
     },
     "execution_count": 63,
     "metadata": {},
     "output_type": "execute_result"
    }
   ],
   "source": [
    "yelp_businesses_df['price'].value_counts(normalize=True)"
   ]
  },
  {
   "cell_type": "code",
   "execution_count": 64,
   "metadata": {
    "ExecuteTime": {
     "end_time": "2022-04-20T20:29:26.828857Z",
     "start_time": "2022-04-20T20:29:26.812278Z"
    }
   },
   "outputs": [
    {
     "data": {
      "text/plain": [
       "4.00   0.30\n",
       "3.50   0.25\n",
       "3.00   0.14\n",
       "4.50   0.12\n",
       "2.50   0.08\n",
       "2.00   0.04\n",
       "5.00   0.03\n",
       "1.50   0.02\n",
       "1.00   0.01\n",
       "Name: rating, dtype: float64"
      ]
     },
     "execution_count": 64,
     "metadata": {},
     "output_type": "execute_result"
    }
   ],
   "source": [
    "yelp_businesses_df['rating'].value_counts(normalize=True)"
   ]
  },
  {
   "cell_type": "code",
   "execution_count": 65,
   "metadata": {
    "ExecuteTime": {
     "end_time": "2022-04-20T20:29:27.648261Z",
     "start_time": "2022-04-20T20:29:27.622623Z"
    }
   },
   "outputs": [
    {
     "data": {
      "text/plain": [
       "[{'alias': 'chinese', 'title': 'Chinese'}]                                                                                            0.05\n",
       "[{'alias': 'pizza', 'title': 'Pizza'}]                                                                                                0.04\n",
       "[{'alias': 'coffee', 'title': 'Coffee & Tea'}]                                                                                        0.02\n",
       "[{'alias': 'mexican', 'title': 'Mexican'}]                                                                                            0.02\n",
       "[{'alias': 'italian', 'title': 'Italian'}]                                                                                            0.02\n",
       "                                                                                                                                      ... \n",
       "[{'alias': 'diners', 'title': 'Diners'}, {'alias': 'greek', 'title': 'Greek'}]                                                        0.00\n",
       "[{'alias': 'bars', 'title': 'Bars'}, {'alias': 'burgers', 'title': 'Burgers'}, {'alias': 'newamerican', 'title': 'American (New)'}]   0.00\n",
       "[{'alias': 'observatories', 'title': 'Observatories'}]                                                                                0.00\n",
       "[{'alias': 'spanish', 'title': 'Spanish'}, {'alias': 'greek', 'title': 'Greek'}, {'alias': 'chickenshop', 'title': 'Chicken Shop'}]   0.00\n",
       "[{'alias': 'lounges', 'title': 'Lounges'}, {'alias': 'diners', 'title': 'Diners'}]                                                    0.00\n",
       "Name: categories, Length: 4277, dtype: float64"
      ]
     },
     "execution_count": 65,
     "metadata": {},
     "output_type": "execute_result"
    }
   ],
   "source": [
    "yelp_businesses_df['categories'].value_counts(normalize=True)"
   ]
  },
  {
   "cell_type": "code",
   "execution_count": null,
   "metadata": {},
   "outputs": [],
   "source": []
  },
  {
   "cell_type": "code",
   "execution_count": 66,
   "metadata": {
    "ExecuteTime": {
     "end_time": "2022-04-20T20:29:28.959347Z",
     "start_time": "2022-04-20T20:29:28.928738Z"
    }
   },
   "outputs": [
    {
     "data": {
      "text/plain": [
       "id               8474\n",
       "alias            8474\n",
       "name             8474\n",
       "image_url        8123\n",
       "is_closed        8474\n",
       "url              8474\n",
       "review_count     8474\n",
       "categories       8474\n",
       "rating           8474\n",
       "coordinates      8474\n",
       "transactions     8474\n",
       "price            7109\n",
       "location         8474\n",
       "phone            8474\n",
       "display_phone    8474\n",
       "dtype: int64"
      ]
     },
     "execution_count": 66,
     "metadata": {},
     "output_type": "execute_result"
    }
   ],
   "source": [
    "# Duplicates?\n",
    "yelp_businesses_df[yelp_businesses_df.duplicated(['id'], keep=False)].count()"
   ]
  },
  {
   "cell_type": "code",
   "execution_count": 67,
   "metadata": {
    "ExecuteTime": {
     "end_time": "2022-04-20T20:29:29.710032Z",
     "start_time": "2022-04-20T20:29:29.669845Z"
    }
   },
   "outputs": [
    {
     "data": {
      "text/html": [
       "<div>\n",
       "<style scoped>\n",
       "    .dataframe tbody tr th:only-of-type {\n",
       "        vertical-align: middle;\n",
       "    }\n",
       "\n",
       "    .dataframe tbody tr th {\n",
       "        vertical-align: top;\n",
       "    }\n",
       "\n",
       "    .dataframe thead th {\n",
       "        text-align: right;\n",
       "    }\n",
       "</style>\n",
       "<table border=\"1\" class=\"dataframe\">\n",
       "  <thead>\n",
       "    <tr style=\"text-align: right;\">\n",
       "      <th></th>\n",
       "      <th>review_count</th>\n",
       "      <th>rating</th>\n",
       "      <th>phone</th>\n",
       "    </tr>\n",
       "  </thead>\n",
       "  <tbody>\n",
       "    <tr>\n",
       "      <th>count</th>\n",
       "      <td>17302.00</td>\n",
       "      <td>17302.00</td>\n",
       "      <td>17302.00</td>\n",
       "    </tr>\n",
       "    <tr>\n",
       "      <th>mean</th>\n",
       "      <td>189.46</td>\n",
       "      <td>3.53</td>\n",
       "      <td>15227799712.25</td>\n",
       "    </tr>\n",
       "    <tr>\n",
       "      <th>std</th>\n",
       "      <td>378.43</td>\n",
       "      <td>0.79</td>\n",
       "      <td>2494930771.02</td>\n",
       "    </tr>\n",
       "    <tr>\n",
       "      <th>min</th>\n",
       "      <td>1.00</td>\n",
       "      <td>1.00</td>\n",
       "      <td>12062250663.00</td>\n",
       "    </tr>\n",
       "    <tr>\n",
       "      <th>25%</th>\n",
       "      <td>17.00</td>\n",
       "      <td>3.00</td>\n",
       "      <td>12127498940.50</td>\n",
       "    </tr>\n",
       "    <tr>\n",
       "      <th>50%</th>\n",
       "      <td>67.00</td>\n",
       "      <td>3.50</td>\n",
       "      <td>17182416042.00</td>\n",
       "    </tr>\n",
       "    <tr>\n",
       "      <th>75%</th>\n",
       "      <td>209.00</td>\n",
       "      <td>4.00</td>\n",
       "      <td>17186241444.00</td>\n",
       "    </tr>\n",
       "    <tr>\n",
       "      <th>max</th>\n",
       "      <td>13458.00</td>\n",
       "      <td>5.00</td>\n",
       "      <td>19732238527.00</td>\n",
       "    </tr>\n",
       "  </tbody>\n",
       "</table>\n",
       "</div>"
      ],
      "text/plain": [
       "       review_count   rating          phone\n",
       "count      17302.00 17302.00       17302.00\n",
       "mean         189.46     3.53 15227799712.25\n",
       "std          378.43     0.79  2494930771.02\n",
       "min            1.00     1.00 12062250663.00\n",
       "25%           17.00     3.00 12127498940.50\n",
       "50%           67.00     3.50 17182416042.00\n",
       "75%          209.00     4.00 17186241444.00\n",
       "max        13458.00     5.00 19732238527.00"
      ]
     },
     "execution_count": 67,
     "metadata": {},
     "output_type": "execute_result"
    }
   ],
   "source": [
    "yelp_businesses_df.describe()"
   ]
  },
  {
   "cell_type": "code",
   "execution_count": 68,
   "metadata": {
    "ExecuteTime": {
     "end_time": "2022-04-20T20:29:32.813739Z",
     "start_time": "2022-04-20T20:29:32.803732Z"
    }
   },
   "outputs": [
    {
     "data": {
      "text/plain": [
       "3278066"
      ]
     },
     "execution_count": 68,
     "metadata": {},
     "output_type": "execute_result"
    }
   ],
   "source": [
    "yelp_businesses_df['review_count'].sum()"
   ]
  },
  {
   "cell_type": "markdown",
   "metadata": {},
   "source": [
    "### Yelp Reviews"
   ]
  },
  {
   "cell_type": "markdown",
   "metadata": {},
   "source": [
    "Now that all the restaurants from the NYC DOHMH dataset have been used to search the Yelp API and have been concatenated we can use the return url to gather reviews for each business."
   ]
  },
  {
   "cell_type": "code",
   "execution_count": 353,
   "metadata": {
    "ExecuteTime": {
     "end_time": "2022-04-19T22:09:37.348828Z",
     "start_time": "2022-04-19T22:09:37.339571Z"
    }
   },
   "outputs": [],
   "source": [
    "# OLD from webscraping\n",
    "# df_10_2 = df_10.loc[1000:2173]\n",
    "# df_10_2.to_csv('df_10_2',index=False)"
   ]
  },
  {
   "cell_type": "code",
   "execution_count": 69,
   "metadata": {
    "ExecuteTime": {
     "end_time": "2022-04-20T20:29:34.611646Z",
     "start_time": "2022-04-20T20:29:34.597217Z"
    }
   },
   "outputs": [],
   "source": [
    "def get_text(url_list):\n",
    "    \"\"\" Given a list of urls, this function will iterate through the list and \n",
    "    extract text from the first page of reviews. The data will be joined into \n",
    "    a corpus for each business\"\"\"\n",
    "    \n",
    "    review_txt = []\n",
    "\n",
    "    for url in url_list:\n",
    "        req = requests.get(url)\n",
    "        soup = bs(req.content)\n",
    "        comments = soup.find_all(class_='raw__09f24__T4Ezm', lang=\"en\")\n",
    "        comment_txt = []\n",
    "\n",
    "        for comment in comments:\n",
    "            comment_txt.append(comment.text)\n",
    "\n",
    "        comment_corp = ('.'.join(comment_txt))\n",
    "        review_txt.append(comment_corp)\n",
    "    return review_txt"
   ]
  },
  {
   "cell_type": "markdown",
   "metadata": {},
   "source": [
    "Due to the time required to run this function, it can be broken into smaller requests. Since we already have smaller list used when we called the API earlier we can take the urls returned from the API here. "
   ]
  },
  {
   "cell_type": "code",
   "execution_count": 70,
   "metadata": {
    "ExecuteTime": {
     "end_time": "2022-04-20T20:29:36.141494Z",
     "start_time": "2022-04-20T20:29:36.126793Z"
    }
   },
   "outputs": [
    {
     "data": {
      "text/plain": [
       "859"
      ]
     },
     "execution_count": 70,
     "metadata": {},
     "output_type": "execute_result"
    }
   ],
   "source": [
    "# Obtaining list of yelp business urls from saved API response\n",
    "url_list = list(yelp_tables['df_1']['url'])\n",
    "len(url_list)"
   ]
  },
  {
   "cell_type": "code",
   "execution_count": 71,
   "metadata": {
    "ExecuteTime": {
     "end_time": "2022-04-20T20:29:37.023615Z",
     "start_time": "2022-04-20T20:29:37.016083Z"
    }
   },
   "outputs": [],
   "source": [
    "# Calling `get_text` function to obtain Yelp reviews\n",
    "if call_apis == True:\n",
    "    review_text = get_text(url_list)"
   ]
  },
  {
   "cell_type": "code",
   "execution_count": 72,
   "metadata": {
    "ExecuteTime": {
     "end_time": "2022-04-20T20:29:37.609125Z",
     "start_time": "2022-04-20T20:29:37.603003Z"
    }
   },
   "outputs": [],
   "source": [
    "# Saving the Reviews to a csv in the repository\n",
    "if call_apis == True:\n",
    "    rvw_txt = pd.DataFrame(review_text,columns=['Review_Text'])\n",
    "    rvw_txt.to_csv('rvw_txt1.csv',index=False)\n"
   ]
  },
  {
   "cell_type": "markdown",
   "metadata": {},
   "source": [
    "Repeat this for all the urls returned from the API"
   ]
  },
  {
   "cell_type": "markdown",
   "metadata": {},
   "source": [
    "### Joining Yelp Reviews to Yelp Business Tables"
   ]
  },
  {
   "cell_type": "code",
   "execution_count": 73,
   "metadata": {
    "ExecuteTime": {
     "end_time": "2022-04-20T20:29:41.221934Z",
     "start_time": "2022-04-20T20:29:41.214428Z"
    }
   },
   "outputs": [],
   "source": [
    "# List of files containing Yelp business data\n",
    "fpath = 'data/yelp_data/yelp_reviews/'\n",
    "os.listdir(fpath)\n",
    "query = fpath+\"*.csv\"\n",
    "f_list = glob.glob(query)"
   ]
  },
  {
   "cell_type": "code",
   "execution_count": 74,
   "metadata": {
    "ExecuteTime": {
     "end_time": "2022-04-20T20:29:45.412486Z",
     "start_time": "2022-04-20T20:29:45.400010Z"
    }
   },
   "outputs": [
    {
     "data": {
      "text/plain": [
       "['data/yelp_data/yelp_reviews/rvw_txt11.csv',\n",
       " 'data/yelp_data/yelp_reviews/rvw_txt10.csv',\n",
       " 'data/yelp_data/yelp_reviews/rvw_txt12.csv',\n",
       " 'data/yelp_data/yelp_reviews/rvw_txt2.csv',\n",
       " 'data/yelp_data/yelp_reviews/rvw_txt3.csv',\n",
       " 'data/yelp_data/yelp_reviews/rvw_txt1.csv',\n",
       " 'data/yelp_data/yelp_reviews/rvw_txt4.csv',\n",
       " 'data/yelp_data/yelp_reviews/rvw_txt5.csv',\n",
       " 'data/yelp_data/yelp_reviews/rvw_txt7.csv',\n",
       " 'data/yelp_data/yelp_reviews/rvw_txt6.csv',\n",
       " 'data/yelp_data/yelp_reviews/rvw_txt8.csv',\n",
       " 'data/yelp_data/yelp_reviews/rvw_txt9.csv']"
      ]
     },
     "execution_count": 74,
     "metadata": {},
     "output_type": "execute_result"
    }
   ],
   "source": [
    "f_list"
   ]
  },
  {
   "cell_type": "code",
   "execution_count": 76,
   "metadata": {
    "ExecuteTime": {
     "end_time": "2022-04-20T20:29:50.784122Z",
     "start_time": "2022-04-20T20:29:49.708272Z"
    }
   },
   "outputs": [],
   "source": [
    "# Append saved Yelp Reviews to a dict\n",
    "rvw_tables = {}\n",
    "\n",
    "for file in f_list:\n",
    "    temp_df = pd.read_csv(file)\n",
    "    fname = file.replace('data/yelp_data/yelp_reviews/rvw_txt','txt_').replace('.csv','')\n",
    "    rvw_tables[fname] = temp_df"
   ]
  },
  {
   "cell_type": "code",
   "execution_count": 79,
   "metadata": {
    "ExecuteTime": {
     "end_time": "2022-04-20T20:30:12.883494Z",
     "start_time": "2022-04-20T20:30:12.878664Z"
    }
   },
   "outputs": [],
   "source": [
    "rvw_df_list = [t for t in list(rvw_tables.keys())]"
   ]
  },
  {
   "cell_type": "code",
   "execution_count": 80,
   "metadata": {
    "ExecuteTime": {
     "end_time": "2022-04-20T20:30:16.211828Z",
     "start_time": "2022-04-20T20:30:16.144444Z"
    }
   },
   "outputs": [],
   "source": [
    "rvw1 = pd.read_csv('data/yelp_data/yelp_reviews/rvw_txt1.csv')"
   ]
  },
  {
   "cell_type": "code",
   "execution_count": 81,
   "metadata": {
    "ExecuteTime": {
     "end_time": "2022-04-20T20:30:17.299728Z",
     "start_time": "2022-04-20T20:30:17.272005Z"
    }
   },
   "outputs": [
    {
     "data": {
      "text/plain": [
       "dict_keys(['df_8', 'df_9', 'df_1', 'df_2', 'df_3', 'df_11', 'df_7', 'df_6', 'df_10', 'df_12', 'df_4', 'df_5'])"
      ]
     },
     "execution_count": 81,
     "metadata": {},
     "output_type": "execute_result"
    }
   ],
   "source": [
    "yelp_tables.keys()"
   ]
  },
  {
   "cell_type": "code",
   "execution_count": 82,
   "metadata": {
    "ExecuteTime": {
     "end_time": "2022-04-20T20:30:17.843062Z",
     "start_time": "2022-04-20T20:30:17.831950Z"
    }
   },
   "outputs": [
    {
     "data": {
      "text/plain": [
       "dict_keys(['txt_11', 'txt_10', 'txt_12', 'txt_2', 'txt_3', 'txt_1', 'txt_4', 'txt_5', 'txt_7', 'txt_6', 'txt_8', 'txt_9'])"
      ]
     },
     "execution_count": 82,
     "metadata": {},
     "output_type": "execute_result"
    }
   ],
   "source": [
    "rvw_tables.keys()"
   ]
  },
  {
   "cell_type": "code",
   "execution_count": 83,
   "metadata": {
    "ExecuteTime": {
     "end_time": "2022-04-20T20:30:18.614343Z",
     "start_time": "2022-04-20T20:30:18.588764Z"
    }
   },
   "outputs": [],
   "source": [
    "# Adding review text to the Yelp Business tables\n",
    "yelp_tables['df_1']['Reviews'] =  rvw_tables['txt_1']\n",
    "yelp_tables['df_2']['Reviews'] =  rvw_tables['txt_2']\n",
    "yelp_tables['df_3']['Reviews'] =  rvw_tables['txt_3']\n",
    "yelp_tables['df_4']['Reviews'] =  rvw_tables['txt_4']\n",
    "yelp_tables['df_5']['Reviews'] =  rvw_tables['txt_5']\n",
    "yelp_tables['df_6']['Reviews'] =  rvw_tables['txt_6']\n",
    "yelp_tables['df_7']['Reviews'] =  rvw_tables['txt_7']\n",
    "yelp_tables['df_8']['Reviews'] =  rvw_tables['txt_8']\n",
    "yelp_tables['df_9']['Reviews'] =  rvw_tables['txt_9']\n",
    "yelp_tables['df_10']['Reviews'] =  rvw_tables['txt_10']\n",
    "yelp_tables['df_11']['Reviews'] =  rvw_tables['txt_11']\n",
    "yelp_tables['df_12']['Reviews'] =  rvw_tables['txt_12']"
   ]
  },
  {
   "cell_type": "code",
   "execution_count": 107,
   "metadata": {
    "ExecuteTime": {
     "end_time": "2022-04-20T21:47:12.785871Z",
     "start_time": "2022-04-20T21:47:12.461694Z"
    }
   },
   "outputs": [
    {
     "data": {
      "text/html": [
       "<div>\n",
       "<style scoped>\n",
       "    .dataframe tbody tr th:only-of-type {\n",
       "        vertical-align: middle;\n",
       "    }\n",
       "\n",
       "    .dataframe tbody tr th {\n",
       "        vertical-align: top;\n",
       "    }\n",
       "\n",
       "    .dataframe thead th {\n",
       "        text-align: right;\n",
       "    }\n",
       "</style>\n",
       "<table border=\"1\" class=\"dataframe\">\n",
       "  <thead>\n",
       "    <tr style=\"text-align: right;\">\n",
       "      <th></th>\n",
       "      <th>id</th>\n",
       "      <th>alias</th>\n",
       "      <th>name</th>\n",
       "      <th>image_url</th>\n",
       "      <th>is_closed</th>\n",
       "      <th>url</th>\n",
       "      <th>review_count</th>\n",
       "      <th>categories</th>\n",
       "      <th>rating</th>\n",
       "      <th>coordinates</th>\n",
       "      <th>transactions</th>\n",
       "      <th>price</th>\n",
       "      <th>location</th>\n",
       "      <th>phone</th>\n",
       "      <th>display_phone</th>\n",
       "      <th>Reviews</th>\n",
       "    </tr>\n",
       "  </thead>\n",
       "  <tbody>\n",
       "    <tr>\n",
       "      <th>0</th>\n",
       "      <td>RzKR9QcYP03EQ_8DxTxowg</td>\n",
       "      <td>barrio-chino-new-york</td>\n",
       "      <td>Barrio Chino</td>\n",
       "      <td>https://s3-media0.fl.yelpcdn.com/bphoto/dpaRqPZD6xqDZo2ZfOyjnQ/o.jpg</td>\n",
       "      <td>False</td>\n",
       "      <td>https://www.yelp.com/biz/barrio-chino-new-york?adjust_creative=82uXkAt1Tiw7u9_h33zr1A&amp;utm_campai...</td>\n",
       "      <td>1148</td>\n",
       "      <td>[{'alias': 'mexican', 'title': 'Mexican'}, {'alias': 'bars', 'title': 'Bars'}]</td>\n",
       "      <td>4.00</td>\n",
       "      <td>{'latitude': 40.718022, 'longitude': -73.990026}</td>\n",
       "      <td>['delivery', 'pickup']</td>\n",
       "      <td>$$</td>\n",
       "      <td>{'address1': '253 Broome St', 'address2': None, 'address3': '', 'city': 'New York', 'zip_code': ...</td>\n",
       "      <td>12122286710</td>\n",
       "      <td>(212) 228-6710</td>\n",
       "      <td>My sister has gone here a bunch of times and I finally went. I am truly mad at myself for not go...</td>\n",
       "    </tr>\n",
       "    <tr>\n",
       "      <th>1</th>\n",
       "      <td>hrP3xLWJ8sLwG_XxEGq61Q</td>\n",
       "      <td>reyes-restaurant-woodside</td>\n",
       "      <td>Reyes Restaurant</td>\n",
       "      <td>https://s3-media0.fl.yelpcdn.com/bphoto/_dwQGccROJaxa-oNIxQsEg/o.jpg</td>\n",
       "      <td>False</td>\n",
       "      <td>https://www.yelp.com/biz/reyes-restaurant-woodside?adjust_creative=82uXkAt1Tiw7u9_h33zr1A&amp;utm_ca...</td>\n",
       "      <td>7</td>\n",
       "      <td>[{'alias': 'latin', 'title': 'Latin American'}, {'alias': 'dominican', 'title': 'Dominican'}]</td>\n",
       "      <td>4.00</td>\n",
       "      <td>{'latitude': 40.7466, 'longitude': -73.9098}</td>\n",
       "      <td>['delivery']</td>\n",
       "      <td>$</td>\n",
       "      <td>{'address1': '4754 46th St', 'address2': '', 'address3': '', 'city': 'Woodside', 'zip_code': '11...</td>\n",
       "      <td>17187529577</td>\n",
       "      <td>(718) 752-9577</td>\n",
       "      <td>Good food served by good people. Love the mangu with everything, it's my go-to order..I was supe...</td>\n",
       "    </tr>\n",
       "    <tr>\n",
       "      <th>2</th>\n",
       "      <td>in7QM4vNUTHVZIi7Outetg</td>\n",
       "      <td>mcdonalds-new-york-430</td>\n",
       "      <td>McDonald's</td>\n",
       "      <td>https://s3-media0.fl.yelpcdn.com/bphoto/bNmu8D1sjwJzbxxP9ZwJOQ/o.jpg</td>\n",
       "      <td>False</td>\n",
       "      <td>https://www.yelp.com/biz/mcdonalds-new-york-430?adjust_creative=82uXkAt1Tiw7u9_h33zr1A&amp;utm_campa...</td>\n",
       "      <td>103</td>\n",
       "      <td>[{'alias': 'burgers', 'title': 'Burgers'}, {'alias': 'hotdogs', 'title': 'Fast Food'}, {'alias':...</td>\n",
       "      <td>1.50</td>\n",
       "      <td>{'latitude': 40.7163213865248, 'longitude': -74.0106988300204}</td>\n",
       "      <td>['delivery']</td>\n",
       "      <td>$</td>\n",
       "      <td>{'address1': '167 Chambers St', 'address2': '', 'address3': '', 'city': 'New York', 'zip_code': ...</td>\n",
       "      <td>12126082405</td>\n",
       "      <td>(212) 608-2405</td>\n",
       "      <td>I love McDonalds breakfast but of the 6 times I've been here recently, this is the 2nd time they...</td>\n",
       "    </tr>\n",
       "    <tr>\n",
       "      <th>3</th>\n",
       "      <td>F-YGKegXRG2TE-Xw1AWeCA</td>\n",
       "      <td>popeyes-louisiana-kitchen-rockaway-beach-2</td>\n",
       "      <td>Popeyes Louisiana Kitchen</td>\n",
       "      <td>https://s3-media0.fl.yelpcdn.com/bphoto/A4MR2hDN3mWefMUT7bBB2A/o.jpg</td>\n",
       "      <td>False</td>\n",
       "      <td>https://www.yelp.com/biz/popeyes-louisiana-kitchen-rockaway-beach-2?adjust_creative=82uXkAt1Tiw7...</td>\n",
       "      <td>21</td>\n",
       "      <td>[{'alias': 'hotdogs', 'title': 'Fast Food'}, {'alias': 'seafood', 'title': 'Seafood'}, {'alias':...</td>\n",
       "      <td>2.00</td>\n",
       "      <td>{'latitude': 40.587551867915515, 'longitude': -73.81088484629929}</td>\n",
       "      <td>['pickup', 'delivery']</td>\n",
       "      <td>$</td>\n",
       "      <td>{'address1': '8601 Rockaway Beach Blvd', 'address2': '', 'address3': None, 'city': 'Rockaway Bea...</td>\n",
       "      <td>17189452815</td>\n",
       "      <td>(718) 945-2815</td>\n",
       "      <td>The app was messed up &amp; I called &amp; spoke to this wonderful worker Tiffany! She was able to allow...</td>\n",
       "    </tr>\n",
       "    <tr>\n",
       "      <th>4</th>\n",
       "      <td>rYl_R-UILYqA6vYsbNwLsg</td>\n",
       "      <td>joe-coffee-company-new-york-14</td>\n",
       "      <td>Joe Coffee Company</td>\n",
       "      <td>https://s3-media0.fl.yelpcdn.com/bphoto/e-nX3g-MQAN48MDPAv2cIg/o.jpg</td>\n",
       "      <td>False</td>\n",
       "      <td>https://www.yelp.com/biz/joe-coffee-company-new-york-14?adjust_creative=82uXkAt1Tiw7u9_h33zr1A&amp;u...</td>\n",
       "      <td>24</td>\n",
       "      <td>[{'alias': 'coffee', 'title': 'Coffee &amp; Tea'}, {'alias': 'coffeeroasteries', 'title': 'Coffee Ro...</td>\n",
       "      <td>4.00</td>\n",
       "      <td>{'latitude': 40.7126284147746, 'longitude': -74.0128198486877}</td>\n",
       "      <td>[]</td>\n",
       "      <td>$$</td>\n",
       "      <td>{'address1': '185 Greenwich St', 'address2': 'LL3110', 'address3': None, 'city': 'New York', 'zi...</td>\n",
       "      <td>16467661719</td>\n",
       "      <td>(646) 766-1719</td>\n",
       "      <td>This is inside the Oculus. I just wanted a cappuccino, dry. The barista certainly knew how to ma...</td>\n",
       "    </tr>\n",
       "    <tr>\n",
       "      <th>...</th>\n",
       "      <td>...</td>\n",
       "      <td>...</td>\n",
       "      <td>...</td>\n",
       "      <td>...</td>\n",
       "      <td>...</td>\n",
       "      <td>...</td>\n",
       "      <td>...</td>\n",
       "      <td>...</td>\n",
       "      <td>...</td>\n",
       "      <td>...</td>\n",
       "      <td>...</td>\n",
       "      <td>...</td>\n",
       "      <td>...</td>\n",
       "      <td>...</td>\n",
       "      <td>...</td>\n",
       "      <td>...</td>\n",
       "    </tr>\n",
       "    <tr>\n",
       "      <th>17297</th>\n",
       "      <td>K_e7_aNgghFLZ2zvjFSNkQ</td>\n",
       "      <td>loreley-beer-garden-new-york-2</td>\n",
       "      <td>Loreley Beer Garden</td>\n",
       "      <td>https://s3-media0.fl.yelpcdn.com/bphoto/RHzuMs1HJjcbSjpkmJIFlg/o.jpg</td>\n",
       "      <td>False</td>\n",
       "      <td>https://www.yelp.com/biz/loreley-beer-garden-new-york-2?adjust_creative=82uXkAt1Tiw7u9_h33zr1A&amp;u...</td>\n",
       "      <td>814</td>\n",
       "      <td>[{'alias': 'german', 'title': 'German'}, {'alias': 'beergardens', 'title': 'Beer Gardens'}]</td>\n",
       "      <td>3.50</td>\n",
       "      <td>{'latitude': 40.7212291, 'longitude': -73.992872}</td>\n",
       "      <td>['pickup', 'delivery']</td>\n",
       "      <td>$$</td>\n",
       "      <td>{'address1': '7 Rivington St', 'address2': None, 'address3': '', 'city': 'New York', 'zip_code':...</td>\n",
       "      <td>12122537077</td>\n",
       "      <td>(212) 253-7077</td>\n",
       "      <td>Mulled wine: my friend says, \"Would recommend does a good job of warming you up on a cold night....</td>\n",
       "    </tr>\n",
       "    <tr>\n",
       "      <th>17298</th>\n",
       "      <td>Pi-AJhThWqhb89mjHU65Nw</td>\n",
       "      <td>majestic-restaurant-bronx</td>\n",
       "      <td>Majestic restaurant</td>\n",
       "      <td>https://s3-media0.fl.yelpcdn.com/bphoto/EpUrURPt_-Cu1sWNwmJbYw/o.jpg</td>\n",
       "      <td>False</td>\n",
       "      <td>https://www.yelp.com/biz/majestic-restaurant-bronx?adjust_creative=82uXkAt1Tiw7u9_h33zr1A&amp;utm_ca...</td>\n",
       "      <td>17</td>\n",
       "      <td>[{'alias': 'dominican', 'title': 'Dominican'}]</td>\n",
       "      <td>3.00</td>\n",
       "      <td>{'latitude': 40.854152, 'longitude': -73.8840031}</td>\n",
       "      <td>['pickup', 'delivery']</td>\n",
       "      <td>NaN</td>\n",
       "      <td>{'address1': '709 E 187th St', 'address2': None, 'address3': '', 'city': 'bronx', 'zip_code': '1...</td>\n",
       "      <td>17186180032</td>\n",
       "      <td>(718) 618-0032</td>\n",
       "      <td>Breakfast was great and filling. The mangu was freshly made and tasted really good. The only thi...</td>\n",
       "    </tr>\n",
       "    <tr>\n",
       "      <th>17299</th>\n",
       "      <td>lEUzamk42G4kkVXFdhExSw</td>\n",
       "      <td>golden-sands-cafe-sheepshead-bay</td>\n",
       "      <td>Golden Sands Cafe</td>\n",
       "      <td>https://s3-media0.fl.yelpcdn.com/bphoto/vUg1wFXfMjRqLdfs8j5a_Q/o.jpg</td>\n",
       "      <td>False</td>\n",
       "      <td>https://www.yelp.com/biz/golden-sands-cafe-sheepshead-bay?adjust_creative=82uXkAt1Tiw7u9_h33zr1A...</td>\n",
       "      <td>18</td>\n",
       "      <td>[{'alias': 'dimsum', 'title': 'Dim Sum'}, {'alias': 'cafes', 'title': 'Cafes'}, {'alias': 'sandw...</td>\n",
       "      <td>3.50</td>\n",
       "      <td>{'latitude': 40.599075, 'longitude': -73.951736}</td>\n",
       "      <td>['delivery', 'pickup']</td>\n",
       "      <td>$</td>\n",
       "      <td>{'address1': '1924 Ave U', 'address2': '', 'address3': '', 'city': 'Sheepshead Bay', 'zip_code':...</td>\n",
       "      <td>17186488898</td>\n",
       "      <td>(718) 648-8898</td>\n",
       "      <td>I usually stop by for breakfast or lunch. Dimsum and iced coffee are always on point. They have ...</td>\n",
       "    </tr>\n",
       "    <tr>\n",
       "      <th>17300</th>\n",
       "      <td>8pSdwDyx4Xu4PdYluzxtJQ</td>\n",
       "      <td>century-cafe-of-brooklyn-brooklyn</td>\n",
       "      <td>Century Cafe of Brooklyn</td>\n",
       "      <td>https://s3-media0.fl.yelpcdn.com/bphoto/c4ZHWfFEv58OFjTTznd74Q/o.jpg</td>\n",
       "      <td>True</td>\n",
       "      <td>https://www.yelp.com/biz/century-cafe-of-brooklyn-brooklyn?adjust_creative=82uXkAt1Tiw7u9_h33zr1...</td>\n",
       "      <td>9</td>\n",
       "      <td>[{'alias': 'bakeries', 'title': 'Bakeries'}, {'alias': 'coffee', 'title': 'Coffee &amp; Tea'}]</td>\n",
       "      <td>3.50</td>\n",
       "      <td>{'latitude': 40.599084, 'longitude': -73.951738}</td>\n",
       "      <td>[]</td>\n",
       "      <td>$</td>\n",
       "      <td>{'address1': '1924 Ave U', 'address2': '', 'address3': '', 'city': 'Brooklyn', 'zip_code': '1122...</td>\n",
       "      <td>17186488898</td>\n",
       "      <td>(718) 648-8898</td>\n",
       "      <td>The 3 stars is for the very very decent vietnamese buns they have. It's really creamy and pepper...</td>\n",
       "    </tr>\n",
       "    <tr>\n",
       "      <th>17301</th>\n",
       "      <td>boJPw2UISD67hm3Ro0kong</td>\n",
       "      <td>bobby-vans-steakhouse-new-york-10</td>\n",
       "      <td>Bobby Van's Steakhouse</td>\n",
       "      <td>https://s3-media0.fl.yelpcdn.com/bphoto/qvJpHCqvsrhQKqPnKaEzWQ/o.jpg</td>\n",
       "      <td>False</td>\n",
       "      <td>https://www.yelp.com/biz/bobby-vans-steakhouse-new-york-10?adjust_creative=82uXkAt1Tiw7u9_h33zr1...</td>\n",
       "      <td>139</td>\n",
       "      <td>[{'alias': 'steak', 'title': 'Steakhouses'}, {'alias': 'tradamerican', 'title': 'American (Tradi...</td>\n",
       "      <td>3.50</td>\n",
       "      <td>{'latitude': 40.7543768198208, 'longitude': -73.9755606651306}</td>\n",
       "      <td>['pickup', 'delivery']</td>\n",
       "      <td>$$$$</td>\n",
       "      <td>{'address1': '230 Park Ave', 'address2': '', 'address3': '', 'city': 'New York', 'zip_code': '10...</td>\n",
       "      <td>12128675490</td>\n",
       "      <td>(212) 867-5490</td>\n",
       "      <td>Old school steakhouse--what you would expect. Every thing tastes good and the service is attenti...</td>\n",
       "    </tr>\n",
       "  </tbody>\n",
       "</table>\n",
       "<p>17302 rows × 16 columns</p>\n",
       "</div>"
      ],
      "text/plain": [
       "                           id                                       alias  \\\n",
       "0      RzKR9QcYP03EQ_8DxTxowg                       barrio-chino-new-york   \n",
       "1      hrP3xLWJ8sLwG_XxEGq61Q                   reyes-restaurant-woodside   \n",
       "2      in7QM4vNUTHVZIi7Outetg                      mcdonalds-new-york-430   \n",
       "3      F-YGKegXRG2TE-Xw1AWeCA  popeyes-louisiana-kitchen-rockaway-beach-2   \n",
       "4      rYl_R-UILYqA6vYsbNwLsg              joe-coffee-company-new-york-14   \n",
       "...                       ...                                         ...   \n",
       "17297  K_e7_aNgghFLZ2zvjFSNkQ              loreley-beer-garden-new-york-2   \n",
       "17298  Pi-AJhThWqhb89mjHU65Nw                   majestic-restaurant-bronx   \n",
       "17299  lEUzamk42G4kkVXFdhExSw            golden-sands-cafe-sheepshead-bay   \n",
       "17300  8pSdwDyx4Xu4PdYluzxtJQ           century-cafe-of-brooklyn-brooklyn   \n",
       "17301  boJPw2UISD67hm3Ro0kong           bobby-vans-steakhouse-new-york-10   \n",
       "\n",
       "                            name  \\\n",
       "0                   Barrio Chino   \n",
       "1               Reyes Restaurant   \n",
       "2                     McDonald's   \n",
       "3      Popeyes Louisiana Kitchen   \n",
       "4             Joe Coffee Company   \n",
       "...                          ...   \n",
       "17297        Loreley Beer Garden   \n",
       "17298        Majestic restaurant   \n",
       "17299          Golden Sands Cafe   \n",
       "17300   Century Cafe of Brooklyn   \n",
       "17301     Bobby Van's Steakhouse   \n",
       "\n",
       "                                                                  image_url  \\\n",
       "0      https://s3-media0.fl.yelpcdn.com/bphoto/dpaRqPZD6xqDZo2ZfOyjnQ/o.jpg   \n",
       "1      https://s3-media0.fl.yelpcdn.com/bphoto/_dwQGccROJaxa-oNIxQsEg/o.jpg   \n",
       "2      https://s3-media0.fl.yelpcdn.com/bphoto/bNmu8D1sjwJzbxxP9ZwJOQ/o.jpg   \n",
       "3      https://s3-media0.fl.yelpcdn.com/bphoto/A4MR2hDN3mWefMUT7bBB2A/o.jpg   \n",
       "4      https://s3-media0.fl.yelpcdn.com/bphoto/e-nX3g-MQAN48MDPAv2cIg/o.jpg   \n",
       "...                                                                     ...   \n",
       "17297  https://s3-media0.fl.yelpcdn.com/bphoto/RHzuMs1HJjcbSjpkmJIFlg/o.jpg   \n",
       "17298  https://s3-media0.fl.yelpcdn.com/bphoto/EpUrURPt_-Cu1sWNwmJbYw/o.jpg   \n",
       "17299  https://s3-media0.fl.yelpcdn.com/bphoto/vUg1wFXfMjRqLdfs8j5a_Q/o.jpg   \n",
       "17300  https://s3-media0.fl.yelpcdn.com/bphoto/c4ZHWfFEv58OFjTTznd74Q/o.jpg   \n",
       "17301  https://s3-media0.fl.yelpcdn.com/bphoto/qvJpHCqvsrhQKqPnKaEzWQ/o.jpg   \n",
       "\n",
       "       is_closed  \\\n",
       "0          False   \n",
       "1          False   \n",
       "2          False   \n",
       "3          False   \n",
       "4          False   \n",
       "...          ...   \n",
       "17297      False   \n",
       "17298      False   \n",
       "17299      False   \n",
       "17300       True   \n",
       "17301      False   \n",
       "\n",
       "                                                                                                       url  \\\n",
       "0      https://www.yelp.com/biz/barrio-chino-new-york?adjust_creative=82uXkAt1Tiw7u9_h33zr1A&utm_campai...   \n",
       "1      https://www.yelp.com/biz/reyes-restaurant-woodside?adjust_creative=82uXkAt1Tiw7u9_h33zr1A&utm_ca...   \n",
       "2      https://www.yelp.com/biz/mcdonalds-new-york-430?adjust_creative=82uXkAt1Tiw7u9_h33zr1A&utm_campa...   \n",
       "3      https://www.yelp.com/biz/popeyes-louisiana-kitchen-rockaway-beach-2?adjust_creative=82uXkAt1Tiw7...   \n",
       "4      https://www.yelp.com/biz/joe-coffee-company-new-york-14?adjust_creative=82uXkAt1Tiw7u9_h33zr1A&u...   \n",
       "...                                                                                                    ...   \n",
       "17297  https://www.yelp.com/biz/loreley-beer-garden-new-york-2?adjust_creative=82uXkAt1Tiw7u9_h33zr1A&u...   \n",
       "17298  https://www.yelp.com/biz/majestic-restaurant-bronx?adjust_creative=82uXkAt1Tiw7u9_h33zr1A&utm_ca...   \n",
       "17299  https://www.yelp.com/biz/golden-sands-cafe-sheepshead-bay?adjust_creative=82uXkAt1Tiw7u9_h33zr1A...   \n",
       "17300  https://www.yelp.com/biz/century-cafe-of-brooklyn-brooklyn?adjust_creative=82uXkAt1Tiw7u9_h33zr1...   \n",
       "17301  https://www.yelp.com/biz/bobby-vans-steakhouse-new-york-10?adjust_creative=82uXkAt1Tiw7u9_h33zr1...   \n",
       "\n",
       "       review_count  \\\n",
       "0              1148   \n",
       "1                 7   \n",
       "2               103   \n",
       "3                21   \n",
       "4                24   \n",
       "...             ...   \n",
       "17297           814   \n",
       "17298            17   \n",
       "17299            18   \n",
       "17300             9   \n",
       "17301           139   \n",
       "\n",
       "                                                                                                categories  \\\n",
       "0                           [{'alias': 'mexican', 'title': 'Mexican'}, {'alias': 'bars', 'title': 'Bars'}]   \n",
       "1            [{'alias': 'latin', 'title': 'Latin American'}, {'alias': 'dominican', 'title': 'Dominican'}]   \n",
       "2      [{'alias': 'burgers', 'title': 'Burgers'}, {'alias': 'hotdogs', 'title': 'Fast Food'}, {'alias':...   \n",
       "3      [{'alias': 'hotdogs', 'title': 'Fast Food'}, {'alias': 'seafood', 'title': 'Seafood'}, {'alias':...   \n",
       "4      [{'alias': 'coffee', 'title': 'Coffee & Tea'}, {'alias': 'coffeeroasteries', 'title': 'Coffee Ro...   \n",
       "...                                                                                                    ...   \n",
       "17297          [{'alias': 'german', 'title': 'German'}, {'alias': 'beergardens', 'title': 'Beer Gardens'}]   \n",
       "17298                                                       [{'alias': 'dominican', 'title': 'Dominican'}]   \n",
       "17299  [{'alias': 'dimsum', 'title': 'Dim Sum'}, {'alias': 'cafes', 'title': 'Cafes'}, {'alias': 'sandw...   \n",
       "17300           [{'alias': 'bakeries', 'title': 'Bakeries'}, {'alias': 'coffee', 'title': 'Coffee & Tea'}]   \n",
       "17301  [{'alias': 'steak', 'title': 'Steakhouses'}, {'alias': 'tradamerican', 'title': 'American (Tradi...   \n",
       "\n",
       "       rating  \\\n",
       "0        4.00   \n",
       "1        4.00   \n",
       "2        1.50   \n",
       "3        2.00   \n",
       "4        4.00   \n",
       "...       ...   \n",
       "17297    3.50   \n",
       "17298    3.00   \n",
       "17299    3.50   \n",
       "17300    3.50   \n",
       "17301    3.50   \n",
       "\n",
       "                                                             coordinates  \\\n",
       "0                       {'latitude': 40.718022, 'longitude': -73.990026}   \n",
       "1                           {'latitude': 40.7466, 'longitude': -73.9098}   \n",
       "2         {'latitude': 40.7163213865248, 'longitude': -74.0106988300204}   \n",
       "3      {'latitude': 40.587551867915515, 'longitude': -73.81088484629929}   \n",
       "4         {'latitude': 40.7126284147746, 'longitude': -74.0128198486877}   \n",
       "...                                                                  ...   \n",
       "17297                  {'latitude': 40.7212291, 'longitude': -73.992872}   \n",
       "17298                  {'latitude': 40.854152, 'longitude': -73.8840031}   \n",
       "17299                   {'latitude': 40.599075, 'longitude': -73.951736}   \n",
       "17300                   {'latitude': 40.599084, 'longitude': -73.951738}   \n",
       "17301     {'latitude': 40.7543768198208, 'longitude': -73.9755606651306}   \n",
       "\n",
       "                 transactions price  \\\n",
       "0      ['delivery', 'pickup']    $$   \n",
       "1                ['delivery']     $   \n",
       "2                ['delivery']     $   \n",
       "3      ['pickup', 'delivery']     $   \n",
       "4                          []    $$   \n",
       "...                       ...   ...   \n",
       "17297  ['pickup', 'delivery']    $$   \n",
       "17298  ['pickup', 'delivery']   NaN   \n",
       "17299  ['delivery', 'pickup']     $   \n",
       "17300                      []     $   \n",
       "17301  ['pickup', 'delivery']  $$$$   \n",
       "\n",
       "                                                                                                  location  \\\n",
       "0      {'address1': '253 Broome St', 'address2': None, 'address3': '', 'city': 'New York', 'zip_code': ...   \n",
       "1      {'address1': '4754 46th St', 'address2': '', 'address3': '', 'city': 'Woodside', 'zip_code': '11...   \n",
       "2      {'address1': '167 Chambers St', 'address2': '', 'address3': '', 'city': 'New York', 'zip_code': ...   \n",
       "3      {'address1': '8601 Rockaway Beach Blvd', 'address2': '', 'address3': None, 'city': 'Rockaway Bea...   \n",
       "4      {'address1': '185 Greenwich St', 'address2': 'LL3110', 'address3': None, 'city': 'New York', 'zi...   \n",
       "...                                                                                                    ...   \n",
       "17297  {'address1': '7 Rivington St', 'address2': None, 'address3': '', 'city': 'New York', 'zip_code':...   \n",
       "17298  {'address1': '709 E 187th St', 'address2': None, 'address3': '', 'city': 'bronx', 'zip_code': '1...   \n",
       "17299  {'address1': '1924 Ave U', 'address2': '', 'address3': '', 'city': 'Sheepshead Bay', 'zip_code':...   \n",
       "17300  {'address1': '1924 Ave U', 'address2': '', 'address3': '', 'city': 'Brooklyn', 'zip_code': '1122...   \n",
       "17301  {'address1': '230 Park Ave', 'address2': '', 'address3': '', 'city': 'New York', 'zip_code': '10...   \n",
       "\n",
       "             phone   display_phone  \\\n",
       "0      12122286710  (212) 228-6710   \n",
       "1      17187529577  (718) 752-9577   \n",
       "2      12126082405  (212) 608-2405   \n",
       "3      17189452815  (718) 945-2815   \n",
       "4      16467661719  (646) 766-1719   \n",
       "...            ...             ...   \n",
       "17297  12122537077  (212) 253-7077   \n",
       "17298  17186180032  (718) 618-0032   \n",
       "17299  17186488898  (718) 648-8898   \n",
       "17300  17186488898  (718) 648-8898   \n",
       "17301  12128675490  (212) 867-5490   \n",
       "\n",
       "                                                                                                   Reviews  \n",
       "0      My sister has gone here a bunch of times and I finally went. I am truly mad at myself for not go...  \n",
       "1      Good food served by good people. Love the mangu with everything, it's my go-to order..I was supe...  \n",
       "2      I love McDonalds breakfast but of the 6 times I've been here recently, this is the 2nd time they...  \n",
       "3      The app was messed up & I called & spoke to this wonderful worker Tiffany! She was able to allow...  \n",
       "4      This is inside the Oculus. I just wanted a cappuccino, dry. The barista certainly knew how to ma...  \n",
       "...                                                                                                    ...  \n",
       "17297  Mulled wine: my friend says, \"Would recommend does a good job of warming you up on a cold night....  \n",
       "17298  Breakfast was great and filling. The mangu was freshly made and tasted really good. The only thi...  \n",
       "17299  I usually stop by for breakfast or lunch. Dimsum and iced coffee are always on point. They have ...  \n",
       "17300  The 3 stars is for the very very decent vietnamese buns they have. It's really creamy and pepper...  \n",
       "17301  Old school steakhouse--what you would expect. Every thing tastes good and the service is attenti...  \n",
       "\n",
       "[17302 rows x 16 columns]"
      ]
     },
     "execution_count": 107,
     "metadata": {},
     "output_type": "execute_result"
    }
   ],
   "source": [
    "# Concatenating all Yelp businesses tables with review text included\n",
    "yelp_df = pd.concat(yelp_tables,ignore_index=True)\n",
    "yelp_df"
   ]
  },
  {
   "cell_type": "code",
   "execution_count": null,
   "metadata": {
    "ExecuteTime": {
     "end_time": "2022-04-06T21:10:42.746234Z",
     "start_time": "2022-04-06T21:10:42.728669Z"
    }
   },
   "outputs": [],
   "source": [
    "# NOT OLD - clean JSON dataframes\n",
    "\n",
    "# def prepare_data(data_list):\n",
    "#     \"\"\"\n",
    "#     This function takes in a list of dictionaries and prepares it\n",
    "#     for analysis\n",
    "#     \"\"\"\n",
    "    \n",
    "#     # Make a new list to hold results\n",
    "#     results = []\n",
    "    \n",
    "#     for business_data in data_list:\n",
    "    \n",
    "#         # Make a new dictionary to hold prepared data for this business\n",
    "#         prepared_data = {}\n",
    "        \n",
    "#         # Extract name, review_count, rating, and price key-value pairs\n",
    "#         # from business_data and add to prepared_data\n",
    "#         # If a key is not present in business_data, add it to prepared_data\n",
    "#         # with an associated value of None\n",
    "#         for key in (\"name\", \"review_count\", \"rating\", \"price\"):\n",
    "#             prepared_data[key] = business_data.get(key, None)\n",
    "    \n",
    "#         # Parse and add latitude and longitude columns\n",
    "#         coordinates = business_data[\"coordinates\"]\n",
    "#         prepared_data[\"latitude\"] = coordinates[\"latitude\"]\n",
    "#         prepared_data[\"longitude\"] = coordinates[\"longitude\"]\n",
    "        \n",
    "#         # Add to list if all values are present\n",
    "#         if all(prepared_data.values()):\n",
    "#             results.append(prepared_data)\n",
    "    \n",
    "#     return results\n",
    "    \n",
    "# # Test out function\n",
    "# prepared_businesses = prepare_data(businesses)\n",
    "# prepared_businesses[:5]"
   ]
  },
  {
   "cell_type": "code",
   "execution_count": null,
   "metadata": {
    "ExecuteTime": {
     "end_time": "2022-03-23T01:52:48.820508Z",
     "start_time": "2022-03-23T01:52:48.809218Z"
    }
   },
   "outputs": [],
   "source": [
    "# NOT OLD - clean JSON dataframes\n",
    "# lat = []\n",
    "# long = []\n",
    "\n",
    "# for _,business in yelp_df.iterrows():\n",
    "#     lat.append(business['coordinates']['latitude'])\n",
    "#     long.append(business['coordinates']['longitude'])\n",
    "\n",
    "# yelp_df['lat'] = lat\n",
    "# yelp_df['long'] = long"
   ]
  },
  {
   "cell_type": "code",
   "execution_count": null,
   "metadata": {
    "ExecuteTime": {
     "end_time": "2022-04-16T17:22:24.996907Z",
     "start_time": "2022-04-16T17:22:24.990683Z"
    }
   },
   "outputs": [],
   "source": [
    "# OLD Yelp Review API\n",
    "# yelp_ids = list(yelp_businesses_df['id'])"
   ]
  },
  {
   "cell_type": "code",
   "execution_count": null,
   "metadata": {
    "ExecuteTime": {
     "end_time": "2022-04-16T17:38:23.035631Z",
     "start_time": "2022-04-16T17:38:22.612783Z"
    }
   },
   "outputs": [],
   "source": [
    "# OLD Yelp Review API\n",
    "# review_corp = []\n",
    "\n",
    "# for business in  yelp_ids:\n",
    "#     yelp_id = business\n",
    "#     url = f'https://api.yelp.com/v3/businesses/{yelp_id}/reviews'\n",
    "#     headers = {'Authorization': 'Bearer ' + creds['api_key']}\n",
    "#     response = requests.get(url, headers=headers)\n",
    "#     response_json = response.json()\n",
    "#     response_json\n",
    "    \n",
    "#     for review in response_json.get('reviews'):\n",
    "#         review_corp.append(review['text'])\n",
    "        \n",
    "#     dict_test = {'yelp_id' : yelp_id, 'review_text' : review_corp}\n",
    "\n",
    "#     df_test = pd.DataFrame(dict_test)\n",
    "    \n",
    "# df_test"
   ]
  },
  {
   "cell_type": "code",
   "execution_count": null,
   "metadata": {
    "ExecuteTime": {
     "end_time": "2022-04-17T16:05:35.052610Z",
     "start_time": "2022-04-17T16:05:35.026084Z"
    }
   },
   "outputs": [],
   "source": [
    "# OLD Yelp Review API\n",
    "# for review in review_corp:\n",
    "#     print(len(review))"
   ]
  },
  {
   "cell_type": "code",
   "execution_count": null,
   "metadata": {
    "ExecuteTime": {
     "end_time": "2022-04-15T02:12:08.605749Z",
     "start_time": "2022-04-15T02:12:08.247867Z"
    }
   },
   "outputs": [],
   "source": [
    "# OLD Yelp Review API\n",
    "# #Review Search \n",
    "# yelp_id = 'fEsgUESZxOQtd4YEmAUuow'\n",
    "# url = f'https://api.yelp.com/v3/businesses/{yelp_id}/reviews'\n",
    "# headers = {'Authorization': 'Bearer ' + creds['api_key']}\n",
    "# response = requests.get(url, headers=headers)\n",
    "# response_json = response.json()\n",
    "# response_json"
   ]
  },
  {
   "cell_type": "code",
   "execution_count": null,
   "metadata": {
    "ExecuteTime": {
     "end_time": "2022-04-15T02:40:22.429405Z",
     "start_time": "2022-04-15T02:40:22.419460Z"
    }
   },
   "outputs": [],
   "source": [
    "# OLD Yelp Review API\n",
    "# review_corp = []\n",
    "\n",
    "# for review in response_json.get('reviews'):\n",
    "#     review_corp.append(review['text'])"
   ]
  },
  {
   "cell_type": "code",
   "execution_count": null,
   "metadata": {
    "ExecuteTime": {
     "end_time": "2022-04-15T02:44:56.085995Z",
     "start_time": "2022-04-15T02:44:56.082350Z"
    }
   },
   "outputs": [],
   "source": [
    "# OLD Yelp Review API\n",
    "# review_corp = ''.join(review_corp)"
   ]
  },
  {
   "cell_type": "code",
   "execution_count": null,
   "metadata": {
    "ExecuteTime": {
     "end_time": "2022-04-15T02:40:24.820929Z",
     "start_time": "2022-04-15T02:40:24.806937Z"
    }
   },
   "outputs": [],
   "source": [
    "# OLD Yelp Review API\n",
    "# dict_test = {'yelp_id' : yelp_id, 'review_text' : review_corp}\n",
    "# df_test = pd.DataFrame(dict_test)\n",
    "# df_test"
   ]
  },
  {
   "cell_type": "code",
   "execution_count": null,
   "metadata": {
    "ExecuteTime": {
     "end_time": "2022-04-14T15:07:46.486247Z",
     "start_time": "2022-04-14T15:07:46.435062Z"
    }
   },
   "outputs": [],
   "source": [
    "# OLD Yelp Review API\n",
    "# review_df = pd.DataFrame(response_json.get('reviews'))\n",
    "# review_df"
   ]
  },
  {
   "cell_type": "markdown",
   "metadata": {},
   "source": [
    "## Joining NYC DOHMH & Yelp Datasets"
   ]
  },
  {
   "cell_type": "code",
   "execution_count": 132,
   "metadata": {
    "ExecuteTime": {
     "end_time": "2022-04-20T22:10:20.757835Z",
     "start_time": "2022-04-20T22:10:20.733500Z"
    }
   },
   "outputs": [
    {
     "data": {
      "text/html": [
       "<div>\n",
       "<style scoped>\n",
       "    .dataframe tbody tr th:only-of-type {\n",
       "        vertical-align: middle;\n",
       "    }\n",
       "\n",
       "    .dataframe tbody tr th {\n",
       "        vertical-align: top;\n",
       "    }\n",
       "\n",
       "    .dataframe thead th {\n",
       "        text-align: right;\n",
       "    }\n",
       "</style>\n",
       "<table border=\"1\" class=\"dataframe\">\n",
       "  <thead>\n",
       "    <tr style=\"text-align: right;\">\n",
       "      <th></th>\n",
       "      <th>CAMIS</th>\n",
       "      <th>DBA</th>\n",
       "      <th>CUISINE DESCRIPTION</th>\n",
       "      <th>BORO</th>\n",
       "      <th>BUILDING</th>\n",
       "      <th>STREET</th>\n",
       "      <th>ZIPCODE</th>\n",
       "      <th>PHONE</th>\n",
       "      <th>Latitude</th>\n",
       "      <th>Longitude</th>\n",
       "      <th>Community Board</th>\n",
       "      <th>Council District</th>\n",
       "      <th>Census Tract</th>\n",
       "      <th>Severe</th>\n",
       "    </tr>\n",
       "  </thead>\n",
       "  <tbody>\n",
       "    <tr>\n",
       "      <th>0</th>\n",
       "      <td>30075445</td>\n",
       "      <td>MORRIS PARK BAKE SHOP</td>\n",
       "      <td>Bakery Products/Desserts</td>\n",
       "      <td>Bronx</td>\n",
       "      <td>1007</td>\n",
       "      <td>MORRIS PARK AVENUE</td>\n",
       "      <td>10462.00</td>\n",
       "      <td>+17188924968</td>\n",
       "      <td>40.85</td>\n",
       "      <td>-73.86</td>\n",
       "      <td>211.00</td>\n",
       "      <td>13.00</td>\n",
       "      <td>25200.00</td>\n",
       "      <td>0</td>\n",
       "    </tr>\n",
       "    <tr>\n",
       "      <th>1</th>\n",
       "      <td>30112340</td>\n",
       "      <td>WENDY'S</td>\n",
       "      <td>Hamburgers</td>\n",
       "      <td>Brooklyn</td>\n",
       "      <td>469</td>\n",
       "      <td>FLATBUSH AVENUE</td>\n",
       "      <td>11225.00</td>\n",
       "      <td>+17182875005</td>\n",
       "      <td>40.66</td>\n",
       "      <td>-73.96</td>\n",
       "      <td>309.00</td>\n",
       "      <td>40.00</td>\n",
       "      <td>32700.00</td>\n",
       "      <td>0</td>\n",
       "    </tr>\n",
       "    <tr>\n",
       "      <th>2</th>\n",
       "      <td>30191841</td>\n",
       "      <td>DJ REYNOLDS PUB AND RESTAURANT</td>\n",
       "      <td>Irish</td>\n",
       "      <td>Manhattan</td>\n",
       "      <td>351</td>\n",
       "      <td>WEST   57 STREET</td>\n",
       "      <td>10019.00</td>\n",
       "      <td>+12122452912</td>\n",
       "      <td>40.77</td>\n",
       "      <td>-73.98</td>\n",
       "      <td>104.00</td>\n",
       "      <td>3.00</td>\n",
       "      <td>13900.00</td>\n",
       "      <td>0</td>\n",
       "    </tr>\n",
       "    <tr>\n",
       "      <th>3</th>\n",
       "      <td>40356018</td>\n",
       "      <td>RIVIERA CATERERS</td>\n",
       "      <td>American</td>\n",
       "      <td>Brooklyn</td>\n",
       "      <td>2780</td>\n",
       "      <td>STILLWELL AVENUE</td>\n",
       "      <td>11224.00</td>\n",
       "      <td>+17183723031</td>\n",
       "      <td>40.58</td>\n",
       "      <td>-73.98</td>\n",
       "      <td>313.00</td>\n",
       "      <td>47.00</td>\n",
       "      <td>34800.00</td>\n",
       "      <td>0</td>\n",
       "    </tr>\n",
       "    <tr>\n",
       "      <th>4</th>\n",
       "      <td>40356483</td>\n",
       "      <td>WILKEN'S FINE FOOD</td>\n",
       "      <td>Sandwiches</td>\n",
       "      <td>Brooklyn</td>\n",
       "      <td>7114</td>\n",
       "      <td>AVENUE U</td>\n",
       "      <td>11234.00</td>\n",
       "      <td>+17184443838</td>\n",
       "      <td>40.62</td>\n",
       "      <td>-73.91</td>\n",
       "      <td>318.00</td>\n",
       "      <td>46.00</td>\n",
       "      <td>70000.00</td>\n",
       "      <td>0</td>\n",
       "    </tr>\n",
       "  </tbody>\n",
       "</table>\n",
       "</div>"
      ],
      "text/plain": [
       "      CAMIS                             DBA       CUISINE DESCRIPTION  \\\n",
       "0  30075445           MORRIS PARK BAKE SHOP  Bakery Products/Desserts   \n",
       "1  30112340                         WENDY'S                Hamburgers   \n",
       "2  30191841  DJ REYNOLDS PUB AND RESTAURANT                     Irish   \n",
       "3  40356018                RIVIERA CATERERS                  American   \n",
       "4  40356483              WILKEN'S FINE FOOD                Sandwiches   \n",
       "\n",
       "        BORO BUILDING              STREET  ZIPCODE         PHONE  Latitude  \\\n",
       "0      Bronx     1007  MORRIS PARK AVENUE 10462.00  +17188924968     40.85   \n",
       "1   Brooklyn      469     FLATBUSH AVENUE 11225.00  +17182875005     40.66   \n",
       "2  Manhattan      351    WEST   57 STREET 10019.00  +12122452912     40.77   \n",
       "3   Brooklyn     2780    STILLWELL AVENUE 11224.00  +17183723031     40.58   \n",
       "4   Brooklyn     7114            AVENUE U 11234.00  +17184443838     40.62   \n",
       "\n",
       "   Longitude  Community Board  Council District  Census Tract  Severe  \n",
       "0     -73.86           211.00             13.00      25200.00       0  \n",
       "1     -73.96           309.00             40.00      32700.00       0  \n",
       "2     -73.98           104.00              3.00      13900.00       0  \n",
       "3     -73.98           313.00             47.00      34800.00       0  \n",
       "4     -73.91           318.00             46.00      70000.00       0  "
      ]
     },
     "execution_count": 132,
     "metadata": {},
     "output_type": "execute_result"
    }
   ],
   "source": [
    "nyc_df.head()"
   ]
  },
  {
   "cell_type": "code",
   "execution_count": 86,
   "metadata": {
    "ExecuteTime": {
     "end_time": "2022-04-20T20:30:29.604315Z",
     "start_time": "2022-04-20T20:30:29.568706Z"
    }
   },
   "outputs": [
    {
     "name": "stdout",
     "output_type": "stream",
     "text": [
      "<class 'pandas.core.frame.DataFrame'>\n",
      "RangeIndex: 19790 entries, 0 to 19789\n",
      "Data columns (total 14 columns):\n",
      " #   Column               Non-Null Count  Dtype  \n",
      "---  ------               --------------  -----  \n",
      " 0   CAMIS                19790 non-null  int64  \n",
      " 1   DBA                  19785 non-null  object \n",
      " 2   CUISINE DESCRIPTION  19789 non-null  object \n",
      " 3   BORO                 19790 non-null  object \n",
      " 4   BUILDING             19722 non-null  object \n",
      " 5   STREET               19790 non-null  object \n",
      " 6   ZIPCODE              19440 non-null  float64\n",
      " 7   PHONE                19790 non-null  object \n",
      " 8   Latitude             19764 non-null  float64\n",
      " 9   Longitude            19764 non-null  float64\n",
      " 10  Community Board      19358 non-null  float64\n",
      " 11  Council District     19359 non-null  float64\n",
      " 12  Census Tract         19359 non-null  float64\n",
      " 13  Severe               19790 non-null  int64  \n",
      "dtypes: float64(6), int64(2), object(6)\n",
      "memory usage: 2.1+ MB\n"
     ]
    }
   ],
   "source": [
    "nyc_df.info()"
   ]
  },
  {
   "cell_type": "code",
   "execution_count": 87,
   "metadata": {
    "ExecuteTime": {
     "end_time": "2022-04-20T20:30:29.984745Z",
     "start_time": "2022-04-20T20:30:29.942646Z"
    }
   },
   "outputs": [
    {
     "data": {
      "text/html": [
       "<div>\n",
       "<style scoped>\n",
       "    .dataframe tbody tr th:only-of-type {\n",
       "        vertical-align: middle;\n",
       "    }\n",
       "\n",
       "    .dataframe tbody tr th {\n",
       "        vertical-align: top;\n",
       "    }\n",
       "\n",
       "    .dataframe thead th {\n",
       "        text-align: right;\n",
       "    }\n",
       "</style>\n",
       "<table border=\"1\" class=\"dataframe\">\n",
       "  <thead>\n",
       "    <tr style=\"text-align: right;\">\n",
       "      <th></th>\n",
       "      <th>id</th>\n",
       "      <th>alias</th>\n",
       "      <th>name</th>\n",
       "      <th>image_url</th>\n",
       "      <th>is_closed</th>\n",
       "      <th>url</th>\n",
       "      <th>review_count</th>\n",
       "      <th>categories</th>\n",
       "      <th>rating</th>\n",
       "      <th>coordinates</th>\n",
       "      <th>transactions</th>\n",
       "      <th>price</th>\n",
       "      <th>location</th>\n",
       "      <th>phone</th>\n",
       "      <th>display_phone</th>\n",
       "      <th>Reviews</th>\n",
       "    </tr>\n",
       "  </thead>\n",
       "  <tbody>\n",
       "    <tr>\n",
       "      <th>0</th>\n",
       "      <td>RzKR9QcYP03EQ_8DxTxowg</td>\n",
       "      <td>barrio-chino-new-york</td>\n",
       "      <td>Barrio Chino</td>\n",
       "      <td>https://s3-media0.fl.yelpcdn.com/bphoto/dpaRqPZD6xqDZo2ZfOyjnQ/o.jpg</td>\n",
       "      <td>False</td>\n",
       "      <td>https://www.yelp.com/biz/barrio-chino-new-york?adjust_creative=82uXkAt1Tiw7u9_h33zr1A&amp;utm_campai...</td>\n",
       "      <td>1148</td>\n",
       "      <td>[{'alias': 'mexican', 'title': 'Mexican'}, {'alias': 'bars', 'title': 'Bars'}]</td>\n",
       "      <td>4.00</td>\n",
       "      <td>{'latitude': 40.718022, 'longitude': -73.990026}</td>\n",
       "      <td>['delivery', 'pickup']</td>\n",
       "      <td>$$</td>\n",
       "      <td>{'address1': '253 Broome St', 'address2': None, 'address3': '', 'city': 'New York', 'zip_code': ...</td>\n",
       "      <td>12122286710</td>\n",
       "      <td>(212) 228-6710</td>\n",
       "      <td>My sister has gone here a bunch of times and I finally went. I am truly mad at myself for not go...</td>\n",
       "    </tr>\n",
       "    <tr>\n",
       "      <th>1</th>\n",
       "      <td>hrP3xLWJ8sLwG_XxEGq61Q</td>\n",
       "      <td>reyes-restaurant-woodside</td>\n",
       "      <td>Reyes Restaurant</td>\n",
       "      <td>https://s3-media0.fl.yelpcdn.com/bphoto/_dwQGccROJaxa-oNIxQsEg/o.jpg</td>\n",
       "      <td>False</td>\n",
       "      <td>https://www.yelp.com/biz/reyes-restaurant-woodside?adjust_creative=82uXkAt1Tiw7u9_h33zr1A&amp;utm_ca...</td>\n",
       "      <td>7</td>\n",
       "      <td>[{'alias': 'latin', 'title': 'Latin American'}, {'alias': 'dominican', 'title': 'Dominican'}]</td>\n",
       "      <td>4.00</td>\n",
       "      <td>{'latitude': 40.7466, 'longitude': -73.9098}</td>\n",
       "      <td>['delivery']</td>\n",
       "      <td>$</td>\n",
       "      <td>{'address1': '4754 46th St', 'address2': '', 'address3': '', 'city': 'Woodside', 'zip_code': '11...</td>\n",
       "      <td>17187529577</td>\n",
       "      <td>(718) 752-9577</td>\n",
       "      <td>Good food served by good people. Love the mangu with everything, it's my go-to order..I was supe...</td>\n",
       "    </tr>\n",
       "    <tr>\n",
       "      <th>2</th>\n",
       "      <td>in7QM4vNUTHVZIi7Outetg</td>\n",
       "      <td>mcdonalds-new-york-430</td>\n",
       "      <td>McDonald's</td>\n",
       "      <td>https://s3-media0.fl.yelpcdn.com/bphoto/bNmu8D1sjwJzbxxP9ZwJOQ/o.jpg</td>\n",
       "      <td>False</td>\n",
       "      <td>https://www.yelp.com/biz/mcdonalds-new-york-430?adjust_creative=82uXkAt1Tiw7u9_h33zr1A&amp;utm_campa...</td>\n",
       "      <td>103</td>\n",
       "      <td>[{'alias': 'burgers', 'title': 'Burgers'}, {'alias': 'hotdogs', 'title': 'Fast Food'}, {'alias':...</td>\n",
       "      <td>1.50</td>\n",
       "      <td>{'latitude': 40.7163213865248, 'longitude': -74.0106988300204}</td>\n",
       "      <td>['delivery']</td>\n",
       "      <td>$</td>\n",
       "      <td>{'address1': '167 Chambers St', 'address2': '', 'address3': '', 'city': 'New York', 'zip_code': ...</td>\n",
       "      <td>12126082405</td>\n",
       "      <td>(212) 608-2405</td>\n",
       "      <td>I love McDonalds breakfast but of the 6 times I've been here recently, this is the 2nd time they...</td>\n",
       "    </tr>\n",
       "    <tr>\n",
       "      <th>3</th>\n",
       "      <td>F-YGKegXRG2TE-Xw1AWeCA</td>\n",
       "      <td>popeyes-louisiana-kitchen-rockaway-beach-2</td>\n",
       "      <td>Popeyes Louisiana Kitchen</td>\n",
       "      <td>https://s3-media0.fl.yelpcdn.com/bphoto/A4MR2hDN3mWefMUT7bBB2A/o.jpg</td>\n",
       "      <td>False</td>\n",
       "      <td>https://www.yelp.com/biz/popeyes-louisiana-kitchen-rockaway-beach-2?adjust_creative=82uXkAt1Tiw7...</td>\n",
       "      <td>21</td>\n",
       "      <td>[{'alias': 'hotdogs', 'title': 'Fast Food'}, {'alias': 'seafood', 'title': 'Seafood'}, {'alias':...</td>\n",
       "      <td>2.00</td>\n",
       "      <td>{'latitude': 40.587551867915515, 'longitude': -73.81088484629929}</td>\n",
       "      <td>['pickup', 'delivery']</td>\n",
       "      <td>$</td>\n",
       "      <td>{'address1': '8601 Rockaway Beach Blvd', 'address2': '', 'address3': None, 'city': 'Rockaway Bea...</td>\n",
       "      <td>17189452815</td>\n",
       "      <td>(718) 945-2815</td>\n",
       "      <td>The app was messed up &amp; I called &amp; spoke to this wonderful worker Tiffany! She was able to allow...</td>\n",
       "    </tr>\n",
       "    <tr>\n",
       "      <th>4</th>\n",
       "      <td>rYl_R-UILYqA6vYsbNwLsg</td>\n",
       "      <td>joe-coffee-company-new-york-14</td>\n",
       "      <td>Joe Coffee Company</td>\n",
       "      <td>https://s3-media0.fl.yelpcdn.com/bphoto/e-nX3g-MQAN48MDPAv2cIg/o.jpg</td>\n",
       "      <td>False</td>\n",
       "      <td>https://www.yelp.com/biz/joe-coffee-company-new-york-14?adjust_creative=82uXkAt1Tiw7u9_h33zr1A&amp;u...</td>\n",
       "      <td>24</td>\n",
       "      <td>[{'alias': 'coffee', 'title': 'Coffee &amp; Tea'}, {'alias': 'coffeeroasteries', 'title': 'Coffee Ro...</td>\n",
       "      <td>4.00</td>\n",
       "      <td>{'latitude': 40.7126284147746, 'longitude': -74.0128198486877}</td>\n",
       "      <td>[]</td>\n",
       "      <td>$$</td>\n",
       "      <td>{'address1': '185 Greenwich St', 'address2': 'LL3110', 'address3': None, 'city': 'New York', 'zi...</td>\n",
       "      <td>16467661719</td>\n",
       "      <td>(646) 766-1719</td>\n",
       "      <td>This is inside the Oculus. I just wanted a cappuccino, dry. The barista certainly knew how to ma...</td>\n",
       "    </tr>\n",
       "  </tbody>\n",
       "</table>\n",
       "</div>"
      ],
      "text/plain": [
       "                       id                                       alias  \\\n",
       "0  RzKR9QcYP03EQ_8DxTxowg                       barrio-chino-new-york   \n",
       "1  hrP3xLWJ8sLwG_XxEGq61Q                   reyes-restaurant-woodside   \n",
       "2  in7QM4vNUTHVZIi7Outetg                      mcdonalds-new-york-430   \n",
       "3  F-YGKegXRG2TE-Xw1AWeCA  popeyes-louisiana-kitchen-rockaway-beach-2   \n",
       "4  rYl_R-UILYqA6vYsbNwLsg              joe-coffee-company-new-york-14   \n",
       "\n",
       "                        name  \\\n",
       "0               Barrio Chino   \n",
       "1           Reyes Restaurant   \n",
       "2                 McDonald's   \n",
       "3  Popeyes Louisiana Kitchen   \n",
       "4         Joe Coffee Company   \n",
       "\n",
       "                                                              image_url  \\\n",
       "0  https://s3-media0.fl.yelpcdn.com/bphoto/dpaRqPZD6xqDZo2ZfOyjnQ/o.jpg   \n",
       "1  https://s3-media0.fl.yelpcdn.com/bphoto/_dwQGccROJaxa-oNIxQsEg/o.jpg   \n",
       "2  https://s3-media0.fl.yelpcdn.com/bphoto/bNmu8D1sjwJzbxxP9ZwJOQ/o.jpg   \n",
       "3  https://s3-media0.fl.yelpcdn.com/bphoto/A4MR2hDN3mWefMUT7bBB2A/o.jpg   \n",
       "4  https://s3-media0.fl.yelpcdn.com/bphoto/e-nX3g-MQAN48MDPAv2cIg/o.jpg   \n",
       "\n",
       "   is_closed  \\\n",
       "0      False   \n",
       "1      False   \n",
       "2      False   \n",
       "3      False   \n",
       "4      False   \n",
       "\n",
       "                                                                                                   url  \\\n",
       "0  https://www.yelp.com/biz/barrio-chino-new-york?adjust_creative=82uXkAt1Tiw7u9_h33zr1A&utm_campai...   \n",
       "1  https://www.yelp.com/biz/reyes-restaurant-woodside?adjust_creative=82uXkAt1Tiw7u9_h33zr1A&utm_ca...   \n",
       "2  https://www.yelp.com/biz/mcdonalds-new-york-430?adjust_creative=82uXkAt1Tiw7u9_h33zr1A&utm_campa...   \n",
       "3  https://www.yelp.com/biz/popeyes-louisiana-kitchen-rockaway-beach-2?adjust_creative=82uXkAt1Tiw7...   \n",
       "4  https://www.yelp.com/biz/joe-coffee-company-new-york-14?adjust_creative=82uXkAt1Tiw7u9_h33zr1A&u...   \n",
       "\n",
       "   review_count  \\\n",
       "0          1148   \n",
       "1             7   \n",
       "2           103   \n",
       "3            21   \n",
       "4            24   \n",
       "\n",
       "                                                                                            categories  \\\n",
       "0                       [{'alias': 'mexican', 'title': 'Mexican'}, {'alias': 'bars', 'title': 'Bars'}]   \n",
       "1        [{'alias': 'latin', 'title': 'Latin American'}, {'alias': 'dominican', 'title': 'Dominican'}]   \n",
       "2  [{'alias': 'burgers', 'title': 'Burgers'}, {'alias': 'hotdogs', 'title': 'Fast Food'}, {'alias':...   \n",
       "3  [{'alias': 'hotdogs', 'title': 'Fast Food'}, {'alias': 'seafood', 'title': 'Seafood'}, {'alias':...   \n",
       "4  [{'alias': 'coffee', 'title': 'Coffee & Tea'}, {'alias': 'coffeeroasteries', 'title': 'Coffee Ro...   \n",
       "\n",
       "   rating                                                        coordinates  \\\n",
       "0    4.00                   {'latitude': 40.718022, 'longitude': -73.990026}   \n",
       "1    4.00                       {'latitude': 40.7466, 'longitude': -73.9098}   \n",
       "2    1.50     {'latitude': 40.7163213865248, 'longitude': -74.0106988300204}   \n",
       "3    2.00  {'latitude': 40.587551867915515, 'longitude': -73.81088484629929}   \n",
       "4    4.00     {'latitude': 40.7126284147746, 'longitude': -74.0128198486877}   \n",
       "\n",
       "             transactions price  \\\n",
       "0  ['delivery', 'pickup']    $$   \n",
       "1            ['delivery']     $   \n",
       "2            ['delivery']     $   \n",
       "3  ['pickup', 'delivery']     $   \n",
       "4                      []    $$   \n",
       "\n",
       "                                                                                              location  \\\n",
       "0  {'address1': '253 Broome St', 'address2': None, 'address3': '', 'city': 'New York', 'zip_code': ...   \n",
       "1  {'address1': '4754 46th St', 'address2': '', 'address3': '', 'city': 'Woodside', 'zip_code': '11...   \n",
       "2  {'address1': '167 Chambers St', 'address2': '', 'address3': '', 'city': 'New York', 'zip_code': ...   \n",
       "3  {'address1': '8601 Rockaway Beach Blvd', 'address2': '', 'address3': None, 'city': 'Rockaway Bea...   \n",
       "4  {'address1': '185 Greenwich St', 'address2': 'LL3110', 'address3': None, 'city': 'New York', 'zi...   \n",
       "\n",
       "         phone   display_phone  \\\n",
       "0  12122286710  (212) 228-6710   \n",
       "1  17187529577  (718) 752-9577   \n",
       "2  12126082405  (212) 608-2405   \n",
       "3  17189452815  (718) 945-2815   \n",
       "4  16467661719  (646) 766-1719   \n",
       "\n",
       "                                                                                               Reviews  \n",
       "0  My sister has gone here a bunch of times and I finally went. I am truly mad at myself for not go...  \n",
       "1  Good food served by good people. Love the mangu with everything, it's my go-to order..I was supe...  \n",
       "2  I love McDonalds breakfast but of the 6 times I've been here recently, this is the 2nd time they...  \n",
       "3  The app was messed up & I called & spoke to this wonderful worker Tiffany! She was able to allow...  \n",
       "4  This is inside the Oculus. I just wanted a cappuccino, dry. The barista certainly knew how to ma...  "
      ]
     },
     "execution_count": 87,
     "metadata": {},
     "output_type": "execute_result"
    }
   ],
   "source": [
    "yelp_df.head()"
   ]
  },
  {
   "cell_type": "code",
   "execution_count": 88,
   "metadata": {
    "ExecuteTime": {
     "end_time": "2022-04-20T20:30:30.737742Z",
     "start_time": "2022-04-20T20:30:30.689675Z"
    }
   },
   "outputs": [
    {
     "name": "stdout",
     "output_type": "stream",
     "text": [
      "<class 'pandas.core.frame.DataFrame'>\n",
      "RangeIndex: 17302 entries, 0 to 17301\n",
      "Data columns (total 16 columns):\n",
      " #   Column         Non-Null Count  Dtype  \n",
      "---  ------         --------------  -----  \n",
      " 0   id             17302 non-null  object \n",
      " 1   alias          17302 non-null  object \n",
      " 2   name           17302 non-null  object \n",
      " 3   image_url      16563 non-null  object \n",
      " 4   is_closed      17302 non-null  bool   \n",
      " 5   url            17302 non-null  object \n",
      " 6   review_count   17302 non-null  int64  \n",
      " 7   categories     17302 non-null  object \n",
      " 8   rating         17302 non-null  float64\n",
      " 9   coordinates    17302 non-null  object \n",
      " 10  transactions   17302 non-null  object \n",
      " 11  price          14501 non-null  object \n",
      " 12  location       17302 non-null  object \n",
      " 13  phone          17302 non-null  int64  \n",
      " 14  display_phone  17302 non-null  object \n",
      " 15  Reviews        14785 non-null  object \n",
      "dtypes: bool(1), float64(1), int64(2), object(12)\n",
      "memory usage: 2.0+ MB\n"
     ]
    }
   ],
   "source": [
    "yelp_df.info()"
   ]
  },
  {
   "cell_type": "code",
   "execution_count": 108,
   "metadata": {
    "ExecuteTime": {
     "end_time": "2022-04-20T21:47:23.412176Z",
     "start_time": "2022-04-20T21:47:23.393301Z"
    }
   },
   "outputs": [],
   "source": [
    "# Formatting Yelp phone numbers to align with NYC phone numbers to join on\n",
    "yelp_df['phone'] = '+' + yelp_df['phone'].apply(str)"
   ]
  },
  {
   "cell_type": "code",
   "execution_count": 109,
   "metadata": {
    "ExecuteTime": {
     "end_time": "2022-04-20T21:47:24.917433Z",
     "start_time": "2022-04-20T21:47:24.882146Z"
    }
   },
   "outputs": [
    {
     "data": {
      "text/html": [
       "<div>\n",
       "<style scoped>\n",
       "    .dataframe tbody tr th:only-of-type {\n",
       "        vertical-align: middle;\n",
       "    }\n",
       "\n",
       "    .dataframe tbody tr th {\n",
       "        vertical-align: top;\n",
       "    }\n",
       "\n",
       "    .dataframe thead th {\n",
       "        text-align: right;\n",
       "    }\n",
       "</style>\n",
       "<table border=\"1\" class=\"dataframe\">\n",
       "  <thead>\n",
       "    <tr style=\"text-align: right;\">\n",
       "      <th></th>\n",
       "      <th>id</th>\n",
       "      <th>alias</th>\n",
       "      <th>name</th>\n",
       "      <th>image_url</th>\n",
       "      <th>is_closed</th>\n",
       "      <th>url</th>\n",
       "      <th>review_count</th>\n",
       "      <th>categories</th>\n",
       "      <th>rating</th>\n",
       "      <th>coordinates</th>\n",
       "      <th>transactions</th>\n",
       "      <th>price</th>\n",
       "      <th>location</th>\n",
       "      <th>phone</th>\n",
       "      <th>display_phone</th>\n",
       "      <th>Reviews</th>\n",
       "    </tr>\n",
       "  </thead>\n",
       "  <tbody>\n",
       "    <tr>\n",
       "      <th>0</th>\n",
       "      <td>RzKR9QcYP03EQ_8DxTxowg</td>\n",
       "      <td>barrio-chino-new-york</td>\n",
       "      <td>Barrio Chino</td>\n",
       "      <td>https://s3-media0.fl.yelpcdn.com/bphoto/dpaRqPZD6xqDZo2ZfOyjnQ/o.jpg</td>\n",
       "      <td>False</td>\n",
       "      <td>https://www.yelp.com/biz/barrio-chino-new-york?adjust_creative=82uXkAt1Tiw7u9_h33zr1A&amp;utm_campai...</td>\n",
       "      <td>1148</td>\n",
       "      <td>[{'alias': 'mexican', 'title': 'Mexican'}, {'alias': 'bars', 'title': 'Bars'}]</td>\n",
       "      <td>4.00</td>\n",
       "      <td>{'latitude': 40.718022, 'longitude': -73.990026}</td>\n",
       "      <td>['delivery', 'pickup']</td>\n",
       "      <td>$$</td>\n",
       "      <td>{'address1': '253 Broome St', 'address2': None, 'address3': '', 'city': 'New York', 'zip_code': ...</td>\n",
       "      <td>+12122286710</td>\n",
       "      <td>(212) 228-6710</td>\n",
       "      <td>My sister has gone here a bunch of times and I finally went. I am truly mad at myself for not go...</td>\n",
       "    </tr>\n",
       "    <tr>\n",
       "      <th>1</th>\n",
       "      <td>hrP3xLWJ8sLwG_XxEGq61Q</td>\n",
       "      <td>reyes-restaurant-woodside</td>\n",
       "      <td>Reyes Restaurant</td>\n",
       "      <td>https://s3-media0.fl.yelpcdn.com/bphoto/_dwQGccROJaxa-oNIxQsEg/o.jpg</td>\n",
       "      <td>False</td>\n",
       "      <td>https://www.yelp.com/biz/reyes-restaurant-woodside?adjust_creative=82uXkAt1Tiw7u9_h33zr1A&amp;utm_ca...</td>\n",
       "      <td>7</td>\n",
       "      <td>[{'alias': 'latin', 'title': 'Latin American'}, {'alias': 'dominican', 'title': 'Dominican'}]</td>\n",
       "      <td>4.00</td>\n",
       "      <td>{'latitude': 40.7466, 'longitude': -73.9098}</td>\n",
       "      <td>['delivery']</td>\n",
       "      <td>$</td>\n",
       "      <td>{'address1': '4754 46th St', 'address2': '', 'address3': '', 'city': 'Woodside', 'zip_code': '11...</td>\n",
       "      <td>+17187529577</td>\n",
       "      <td>(718) 752-9577</td>\n",
       "      <td>Good food served by good people. Love the mangu with everything, it's my go-to order..I was supe...</td>\n",
       "    </tr>\n",
       "    <tr>\n",
       "      <th>2</th>\n",
       "      <td>in7QM4vNUTHVZIi7Outetg</td>\n",
       "      <td>mcdonalds-new-york-430</td>\n",
       "      <td>McDonald's</td>\n",
       "      <td>https://s3-media0.fl.yelpcdn.com/bphoto/bNmu8D1sjwJzbxxP9ZwJOQ/o.jpg</td>\n",
       "      <td>False</td>\n",
       "      <td>https://www.yelp.com/biz/mcdonalds-new-york-430?adjust_creative=82uXkAt1Tiw7u9_h33zr1A&amp;utm_campa...</td>\n",
       "      <td>103</td>\n",
       "      <td>[{'alias': 'burgers', 'title': 'Burgers'}, {'alias': 'hotdogs', 'title': 'Fast Food'}, {'alias':...</td>\n",
       "      <td>1.50</td>\n",
       "      <td>{'latitude': 40.7163213865248, 'longitude': -74.0106988300204}</td>\n",
       "      <td>['delivery']</td>\n",
       "      <td>$</td>\n",
       "      <td>{'address1': '167 Chambers St', 'address2': '', 'address3': '', 'city': 'New York', 'zip_code': ...</td>\n",
       "      <td>+12126082405</td>\n",
       "      <td>(212) 608-2405</td>\n",
       "      <td>I love McDonalds breakfast but of the 6 times I've been here recently, this is the 2nd time they...</td>\n",
       "    </tr>\n",
       "    <tr>\n",
       "      <th>3</th>\n",
       "      <td>F-YGKegXRG2TE-Xw1AWeCA</td>\n",
       "      <td>popeyes-louisiana-kitchen-rockaway-beach-2</td>\n",
       "      <td>Popeyes Louisiana Kitchen</td>\n",
       "      <td>https://s3-media0.fl.yelpcdn.com/bphoto/A4MR2hDN3mWefMUT7bBB2A/o.jpg</td>\n",
       "      <td>False</td>\n",
       "      <td>https://www.yelp.com/biz/popeyes-louisiana-kitchen-rockaway-beach-2?adjust_creative=82uXkAt1Tiw7...</td>\n",
       "      <td>21</td>\n",
       "      <td>[{'alias': 'hotdogs', 'title': 'Fast Food'}, {'alias': 'seafood', 'title': 'Seafood'}, {'alias':...</td>\n",
       "      <td>2.00</td>\n",
       "      <td>{'latitude': 40.587551867915515, 'longitude': -73.81088484629929}</td>\n",
       "      <td>['pickup', 'delivery']</td>\n",
       "      <td>$</td>\n",
       "      <td>{'address1': '8601 Rockaway Beach Blvd', 'address2': '', 'address3': None, 'city': 'Rockaway Bea...</td>\n",
       "      <td>+17189452815</td>\n",
       "      <td>(718) 945-2815</td>\n",
       "      <td>The app was messed up &amp; I called &amp; spoke to this wonderful worker Tiffany! She was able to allow...</td>\n",
       "    </tr>\n",
       "    <tr>\n",
       "      <th>4</th>\n",
       "      <td>rYl_R-UILYqA6vYsbNwLsg</td>\n",
       "      <td>joe-coffee-company-new-york-14</td>\n",
       "      <td>Joe Coffee Company</td>\n",
       "      <td>https://s3-media0.fl.yelpcdn.com/bphoto/e-nX3g-MQAN48MDPAv2cIg/o.jpg</td>\n",
       "      <td>False</td>\n",
       "      <td>https://www.yelp.com/biz/joe-coffee-company-new-york-14?adjust_creative=82uXkAt1Tiw7u9_h33zr1A&amp;u...</td>\n",
       "      <td>24</td>\n",
       "      <td>[{'alias': 'coffee', 'title': 'Coffee &amp; Tea'}, {'alias': 'coffeeroasteries', 'title': 'Coffee Ro...</td>\n",
       "      <td>4.00</td>\n",
       "      <td>{'latitude': 40.7126284147746, 'longitude': -74.0128198486877}</td>\n",
       "      <td>[]</td>\n",
       "      <td>$$</td>\n",
       "      <td>{'address1': '185 Greenwich St', 'address2': 'LL3110', 'address3': None, 'city': 'New York', 'zi...</td>\n",
       "      <td>+16467661719</td>\n",
       "      <td>(646) 766-1719</td>\n",
       "      <td>This is inside the Oculus. I just wanted a cappuccino, dry. The barista certainly knew how to ma...</td>\n",
       "    </tr>\n",
       "  </tbody>\n",
       "</table>\n",
       "</div>"
      ],
      "text/plain": [
       "                       id                                       alias  \\\n",
       "0  RzKR9QcYP03EQ_8DxTxowg                       barrio-chino-new-york   \n",
       "1  hrP3xLWJ8sLwG_XxEGq61Q                   reyes-restaurant-woodside   \n",
       "2  in7QM4vNUTHVZIi7Outetg                      mcdonalds-new-york-430   \n",
       "3  F-YGKegXRG2TE-Xw1AWeCA  popeyes-louisiana-kitchen-rockaway-beach-2   \n",
       "4  rYl_R-UILYqA6vYsbNwLsg              joe-coffee-company-new-york-14   \n",
       "\n",
       "                        name  \\\n",
       "0               Barrio Chino   \n",
       "1           Reyes Restaurant   \n",
       "2                 McDonald's   \n",
       "3  Popeyes Louisiana Kitchen   \n",
       "4         Joe Coffee Company   \n",
       "\n",
       "                                                              image_url  \\\n",
       "0  https://s3-media0.fl.yelpcdn.com/bphoto/dpaRqPZD6xqDZo2ZfOyjnQ/o.jpg   \n",
       "1  https://s3-media0.fl.yelpcdn.com/bphoto/_dwQGccROJaxa-oNIxQsEg/o.jpg   \n",
       "2  https://s3-media0.fl.yelpcdn.com/bphoto/bNmu8D1sjwJzbxxP9ZwJOQ/o.jpg   \n",
       "3  https://s3-media0.fl.yelpcdn.com/bphoto/A4MR2hDN3mWefMUT7bBB2A/o.jpg   \n",
       "4  https://s3-media0.fl.yelpcdn.com/bphoto/e-nX3g-MQAN48MDPAv2cIg/o.jpg   \n",
       "\n",
       "   is_closed  \\\n",
       "0      False   \n",
       "1      False   \n",
       "2      False   \n",
       "3      False   \n",
       "4      False   \n",
       "\n",
       "                                                                                                   url  \\\n",
       "0  https://www.yelp.com/biz/barrio-chino-new-york?adjust_creative=82uXkAt1Tiw7u9_h33zr1A&utm_campai...   \n",
       "1  https://www.yelp.com/biz/reyes-restaurant-woodside?adjust_creative=82uXkAt1Tiw7u9_h33zr1A&utm_ca...   \n",
       "2  https://www.yelp.com/biz/mcdonalds-new-york-430?adjust_creative=82uXkAt1Tiw7u9_h33zr1A&utm_campa...   \n",
       "3  https://www.yelp.com/biz/popeyes-louisiana-kitchen-rockaway-beach-2?adjust_creative=82uXkAt1Tiw7...   \n",
       "4  https://www.yelp.com/biz/joe-coffee-company-new-york-14?adjust_creative=82uXkAt1Tiw7u9_h33zr1A&u...   \n",
       "\n",
       "   review_count  \\\n",
       "0          1148   \n",
       "1             7   \n",
       "2           103   \n",
       "3            21   \n",
       "4            24   \n",
       "\n",
       "                                                                                            categories  \\\n",
       "0                       [{'alias': 'mexican', 'title': 'Mexican'}, {'alias': 'bars', 'title': 'Bars'}]   \n",
       "1        [{'alias': 'latin', 'title': 'Latin American'}, {'alias': 'dominican', 'title': 'Dominican'}]   \n",
       "2  [{'alias': 'burgers', 'title': 'Burgers'}, {'alias': 'hotdogs', 'title': 'Fast Food'}, {'alias':...   \n",
       "3  [{'alias': 'hotdogs', 'title': 'Fast Food'}, {'alias': 'seafood', 'title': 'Seafood'}, {'alias':...   \n",
       "4  [{'alias': 'coffee', 'title': 'Coffee & Tea'}, {'alias': 'coffeeroasteries', 'title': 'Coffee Ro...   \n",
       "\n",
       "   rating                                                        coordinates  \\\n",
       "0    4.00                   {'latitude': 40.718022, 'longitude': -73.990026}   \n",
       "1    4.00                       {'latitude': 40.7466, 'longitude': -73.9098}   \n",
       "2    1.50     {'latitude': 40.7163213865248, 'longitude': -74.0106988300204}   \n",
       "3    2.00  {'latitude': 40.587551867915515, 'longitude': -73.81088484629929}   \n",
       "4    4.00     {'latitude': 40.7126284147746, 'longitude': -74.0128198486877}   \n",
       "\n",
       "             transactions price  \\\n",
       "0  ['delivery', 'pickup']    $$   \n",
       "1            ['delivery']     $   \n",
       "2            ['delivery']     $   \n",
       "3  ['pickup', 'delivery']     $   \n",
       "4                      []    $$   \n",
       "\n",
       "                                                                                              location  \\\n",
       "0  {'address1': '253 Broome St', 'address2': None, 'address3': '', 'city': 'New York', 'zip_code': ...   \n",
       "1  {'address1': '4754 46th St', 'address2': '', 'address3': '', 'city': 'Woodside', 'zip_code': '11...   \n",
       "2  {'address1': '167 Chambers St', 'address2': '', 'address3': '', 'city': 'New York', 'zip_code': ...   \n",
       "3  {'address1': '8601 Rockaway Beach Blvd', 'address2': '', 'address3': None, 'city': 'Rockaway Bea...   \n",
       "4  {'address1': '185 Greenwich St', 'address2': 'LL3110', 'address3': None, 'city': 'New York', 'zi...   \n",
       "\n",
       "          phone   display_phone  \\\n",
       "0  +12122286710  (212) 228-6710   \n",
       "1  +17187529577  (718) 752-9577   \n",
       "2  +12126082405  (212) 608-2405   \n",
       "3  +17189452815  (718) 945-2815   \n",
       "4  +16467661719  (646) 766-1719   \n",
       "\n",
       "                                                                                               Reviews  \n",
       "0  My sister has gone here a bunch of times and I finally went. I am truly mad at myself for not go...  \n",
       "1  Good food served by good people. Love the mangu with everything, it's my go-to order..I was supe...  \n",
       "2  I love McDonalds breakfast but of the 6 times I've been here recently, this is the 2nd time they...  \n",
       "3  The app was messed up & I called & spoke to this wonderful worker Tiffany! She was able to allow...  \n",
       "4  This is inside the Oculus. I just wanted a cappuccino, dry. The barista certainly knew how to ma...  "
      ]
     },
     "execution_count": 109,
     "metadata": {},
     "output_type": "execute_result"
    }
   ],
   "source": [
    "yelp_df.head()"
   ]
  },
  {
   "cell_type": "code",
   "execution_count": 131,
   "metadata": {
    "ExecuteTime": {
     "end_time": "2022-04-20T22:10:07.472669Z",
     "start_time": "2022-04-20T22:10:07.466780Z"
    }
   },
   "outputs": [],
   "source": [
    "nyc_df.rename(columns={\"phone\": \"PHONE\"},inplace=True)"
   ]
  },
  {
   "cell_type": "code",
   "execution_count": 93,
   "metadata": {
    "ExecuteTime": {
     "end_time": "2022-04-20T20:30:53.489930Z",
     "start_time": "2022-04-20T20:30:53.480135Z"
    }
   },
   "outputs": [],
   "source": [
    "from sqlalchemy import create_engine"
   ]
  },
  {
   "cell_type": "code",
   "execution_count": 94,
   "metadata": {
    "ExecuteTime": {
     "end_time": "2022-04-20T20:30:55.927528Z",
     "start_time": "2022-04-20T20:30:55.921439Z"
    }
   },
   "outputs": [],
   "source": [
    "# must start with 'sqlite:///' for a relative path\n",
    "engine = create_engine('sqlite:///capstone.db', echo=True) \n",
    "# echo determines whether actions are output"
   ]
  },
  {
   "cell_type": "code",
   "execution_count": 95,
   "metadata": {
    "ExecuteTime": {
     "end_time": "2022-04-20T20:30:58.121932Z",
     "start_time": "2022-04-20T20:30:58.116957Z"
    }
   },
   "outputs": [],
   "source": [
    "# Functionize SQL table creation with .to_sql\n",
    "def create_sql_table(df, table_name, engine):\n",
    "    df.to_sql(table_name, con=engine, if_exists='replace')"
   ]
  },
  {
   "cell_type": "code",
   "execution_count": 130,
   "metadata": {
    "ExecuteTime": {
     "end_time": "2022-04-20T22:08:42.503751Z",
     "start_time": "2022-04-20T22:08:42.493292Z"
    }
   },
   "outputs": [],
   "source": [
    "# create_sql_table(nyc_df, 'nyc_restaurants', engine)"
   ]
  },
  {
   "cell_type": "code",
   "execution_count": 129,
   "metadata": {
    "ExecuteTime": {
     "end_time": "2022-04-20T22:08:37.351244Z",
     "start_time": "2022-04-20T22:08:37.329435Z"
    }
   },
   "outputs": [],
   "source": [
    "# create_sql_table(yelp_df, 'yelp', engine)"
   ]
  },
  {
   "cell_type": "code",
   "execution_count": 122,
   "metadata": {
    "ExecuteTime": {
     "end_time": "2022-04-20T22:01:48.160506Z",
     "start_time": "2022-04-20T22:01:48.147086Z"
    }
   },
   "outputs": [
    {
     "data": {
      "text/plain": [
       "18937"
      ]
     },
     "execution_count": 122,
     "metadata": {},
     "output_type": "execute_result"
    }
   ],
   "source": [
    "nyc_df.phone.nunique()"
   ]
  },
  {
   "cell_type": "code",
   "execution_count": 123,
   "metadata": {
    "ExecuteTime": {
     "end_time": "2022-04-20T22:01:59.381462Z",
     "start_time": "2022-04-20T22:01:59.363551Z"
    }
   },
   "outputs": [
    {
     "data": {
      "text/plain": [
       "10293"
      ]
     },
     "execution_count": 123,
     "metadata": {},
     "output_type": "execute_result"
    }
   ],
   "source": [
    "yelp_df.phone.nunique()"
   ]
  },
  {
   "cell_type": "code",
   "execution_count": 136,
   "metadata": {
    "ExecuteTime": {
     "end_time": "2022-04-20T22:10:55.722696Z",
     "start_time": "2022-04-20T22:10:55.668659Z"
    }
   },
   "outputs": [],
   "source": [
    "df = pd.merge(nyc_df, yelp_df, left_on='PHONE', right_on='phone', how='inner')"
   ]
  },
  {
   "cell_type": "code",
   "execution_count": 137,
   "metadata": {
    "ExecuteTime": {
     "end_time": "2022-04-20T22:10:56.850703Z",
     "start_time": "2022-04-20T22:10:56.781857Z"
    }
   },
   "outputs": [
    {
     "data": {
      "text/html": [
       "<div>\n",
       "<style scoped>\n",
       "    .dataframe tbody tr th:only-of-type {\n",
       "        vertical-align: middle;\n",
       "    }\n",
       "\n",
       "    .dataframe tbody tr th {\n",
       "        vertical-align: top;\n",
       "    }\n",
       "\n",
       "    .dataframe thead th {\n",
       "        text-align: right;\n",
       "    }\n",
       "</style>\n",
       "<table border=\"1\" class=\"dataframe\">\n",
       "  <thead>\n",
       "    <tr style=\"text-align: right;\">\n",
       "      <th></th>\n",
       "      <th>CAMIS</th>\n",
       "      <th>DBA</th>\n",
       "      <th>CUISINE DESCRIPTION</th>\n",
       "      <th>BORO</th>\n",
       "      <th>BUILDING</th>\n",
       "      <th>STREET</th>\n",
       "      <th>ZIPCODE</th>\n",
       "      <th>PHONE</th>\n",
       "      <th>Latitude</th>\n",
       "      <th>Longitude</th>\n",
       "      <th>Community Board</th>\n",
       "      <th>Council District</th>\n",
       "      <th>Census Tract</th>\n",
       "      <th>Severe</th>\n",
       "      <th>id</th>\n",
       "      <th>alias</th>\n",
       "      <th>name</th>\n",
       "      <th>image_url</th>\n",
       "      <th>is_closed</th>\n",
       "      <th>url</th>\n",
       "      <th>review_count</th>\n",
       "      <th>categories</th>\n",
       "      <th>rating</th>\n",
       "      <th>coordinates</th>\n",
       "      <th>transactions</th>\n",
       "      <th>price</th>\n",
       "      <th>location</th>\n",
       "      <th>phone</th>\n",
       "      <th>display_phone</th>\n",
       "      <th>Reviews</th>\n",
       "    </tr>\n",
       "  </thead>\n",
       "  <tbody>\n",
       "    <tr>\n",
       "      <th>0</th>\n",
       "      <td>30112340</td>\n",
       "      <td>WENDY'S</td>\n",
       "      <td>Hamburgers</td>\n",
       "      <td>Brooklyn</td>\n",
       "      <td>469</td>\n",
       "      <td>FLATBUSH AVENUE</td>\n",
       "      <td>11225.00</td>\n",
       "      <td>+17182875005</td>\n",
       "      <td>40.66</td>\n",
       "      <td>-73.96</td>\n",
       "      <td>309.00</td>\n",
       "      <td>40.00</td>\n",
       "      <td>32700.00</td>\n",
       "      <td>0</td>\n",
       "      <td>AMxMPBkWi20dn_1BRalahA</td>\n",
       "      <td>wendys-brooklyn-4</td>\n",
       "      <td>Wendy's</td>\n",
       "      <td>https://s3-media0.fl.yelpcdn.com/bphoto/fR70FbX4_WV2-ofhsE89YA/o.jpg</td>\n",
       "      <td>False</td>\n",
       "      <td>https://www.yelp.com/biz/wendys-brooklyn-4?adjust_creative=82uXkAt1Tiw7u9_h33zr1A&amp;utm_campaign=y...</td>\n",
       "      <td>55</td>\n",
       "      <td>[{'alias': 'hotdogs', 'title': 'Fast Food'}, {'alias': 'burgers', 'title': 'Burgers'}]</td>\n",
       "      <td>1.50</td>\n",
       "      <td>{'latitude': 40.662952, 'longitude': -73.961753}</td>\n",
       "      <td>['delivery']</td>\n",
       "      <td>$</td>\n",
       "      <td>{'address1': '469 Flatbush Ave', 'address2': '', 'address3': '', 'city': 'Brooklyn', 'zip_code':...</td>\n",
       "      <td>+17182875005</td>\n",
       "      <td>(718) 287-5005</td>\n",
       "      <td>Forgot my root beer and the burger tasted very weird.If I can give this place no stars I absolut...</td>\n",
       "    </tr>\n",
       "    <tr>\n",
       "      <th>1</th>\n",
       "      <td>40356018</td>\n",
       "      <td>RIVIERA CATERERS</td>\n",
       "      <td>American</td>\n",
       "      <td>Brooklyn</td>\n",
       "      <td>2780</td>\n",
       "      <td>STILLWELL AVENUE</td>\n",
       "      <td>11224.00</td>\n",
       "      <td>+17183723031</td>\n",
       "      <td>40.58</td>\n",
       "      <td>-73.98</td>\n",
       "      <td>313.00</td>\n",
       "      <td>47.00</td>\n",
       "      <td>34800.00</td>\n",
       "      <td>0</td>\n",
       "      <td>g8fAhVqBsC-BN6otcn85OA</td>\n",
       "      <td>riviera-caterers-brooklyn</td>\n",
       "      <td>Riviera Caterers</td>\n",
       "      <td>https://s3-media0.fl.yelpcdn.com/bphoto/5qZ27Uarz2kNWxV3KktK1g/o.jpg</td>\n",
       "      <td>False</td>\n",
       "      <td>https://www.yelp.com/biz/riviera-caterers-brooklyn?adjust_creative=82uXkAt1Tiw7u9_h33zr1A&amp;utm_ca...</td>\n",
       "      <td>55</td>\n",
       "      <td>[{'alias': 'catering', 'title': 'Caterers'}]</td>\n",
       "      <td>4.50</td>\n",
       "      <td>{'latitude': 40.57952, 'longitude': -73.98243}</td>\n",
       "      <td>[]</td>\n",
       "      <td>NaN</td>\n",
       "      <td>{'address1': '2780 Stillwell Ave', 'address2': '', 'address3': '', 'city': 'Brooklyn', 'zip_code...</td>\n",
       "      <td>+17183723031</td>\n",
       "      <td>(718) 372-3031</td>\n",
       "      <td>I had my wedding here a month ago and I would give Riviera 10 stars if I could. It was such a jo...</td>\n",
       "    </tr>\n",
       "    <tr>\n",
       "      <th>2</th>\n",
       "      <td>40356483</td>\n",
       "      <td>WILKEN'S FINE FOOD</td>\n",
       "      <td>Sandwiches</td>\n",
       "      <td>Brooklyn</td>\n",
       "      <td>7114</td>\n",
       "      <td>AVENUE U</td>\n",
       "      <td>11234.00</td>\n",
       "      <td>+17184443838</td>\n",
       "      <td>40.62</td>\n",
       "      <td>-73.91</td>\n",
       "      <td>318.00</td>\n",
       "      <td>46.00</td>\n",
       "      <td>70000.00</td>\n",
       "      <td>0</td>\n",
       "      <td>Pe6MsH2DW0CXjvUtxUpI4A</td>\n",
       "      <td>wilkens-fine-foods-brooklyn-2</td>\n",
       "      <td>Wilkens Fine Foods</td>\n",
       "      <td>https://s3-media0.fl.yelpcdn.com/bphoto/gOyUSHz_oJWiN9Nw0AEpVg/o.jpg</td>\n",
       "      <td>False</td>\n",
       "      <td>https://www.yelp.com/biz/wilkens-fine-foods-brooklyn-2?adjust_creative=82uXkAt1Tiw7u9_h33zr1A&amp;ut...</td>\n",
       "      <td>54</td>\n",
       "      <td>[{'alias': 'delis', 'title': 'Delis'}]</td>\n",
       "      <td>3.00</td>\n",
       "      <td>{'latitude': 40.6199, 'longitude': -73.90685}</td>\n",
       "      <td>['pickup', 'delivery']</td>\n",
       "      <td>$$</td>\n",
       "      <td>{'address1': '7114 Ave U', 'address2': '', 'address3': '', 'city': 'Brooklyn', 'zip_code': '1123...</td>\n",
       "      <td>+17184443838</td>\n",
       "      <td>(718) 444-3838</td>\n",
       "      <td>We've recently discovered this gem on Uber Eats and they have the best sandwiches!!The broccoli ...</td>\n",
       "    </tr>\n",
       "    <tr>\n",
       "      <th>3</th>\n",
       "      <td>40356731</td>\n",
       "      <td>TASTE THE TROPICS ICE CREAM</td>\n",
       "      <td>Frozen Desserts</td>\n",
       "      <td>Brooklyn</td>\n",
       "      <td>1839</td>\n",
       "      <td>NOSTRAND AVENUE</td>\n",
       "      <td>11226.00</td>\n",
       "      <td>+17188560821</td>\n",
       "      <td>40.64</td>\n",
       "      <td>-73.95</td>\n",
       "      <td>317.00</td>\n",
       "      <td>45.00</td>\n",
       "      <td>82800.00</td>\n",
       "      <td>0</td>\n",
       "      <td>Q18r5FKi2qkQhtKZqWR8ww</td>\n",
       "      <td>taste-the-tropics-usa-brooklyn</td>\n",
       "      <td>Taste the Tropics USA</td>\n",
       "      <td>https://s3-media0.fl.yelpcdn.com/bphoto/xW8S_DHdStqZiqjwQ_UUKw/o.jpg</td>\n",
       "      <td>False</td>\n",
       "      <td>https://www.yelp.com/biz/taste-the-tropics-usa-brooklyn?adjust_creative=82uXkAt1Tiw7u9_h33zr1A&amp;u...</td>\n",
       "      <td>49</td>\n",
       "      <td>[{'alias': 'icecream', 'title': 'Ice Cream &amp; Frozen Yogurt'}]</td>\n",
       "      <td>4.50</td>\n",
       "      <td>{'latitude': 40.64083, 'longitude': -73.94835}</td>\n",
       "      <td>['pickup', 'delivery']</td>\n",
       "      <td>$</td>\n",
       "      <td>{'address1': '1839 Nostrand Ave', 'address2': '', 'address3': '', 'city': 'Brooklyn', 'zip_code'...</td>\n",
       "      <td>+17188560821</td>\n",
       "      <td>(718) 856-0821</td>\n",
       "      <td>We've ordered from these folks a number of times on Grubhub and have always been extremely satis...</td>\n",
       "    </tr>\n",
       "    <tr>\n",
       "      <th>4</th>\n",
       "      <td>40356731</td>\n",
       "      <td>TASTE THE TROPICS ICE CREAM</td>\n",
       "      <td>Frozen Desserts</td>\n",
       "      <td>Brooklyn</td>\n",
       "      <td>1839</td>\n",
       "      <td>NOSTRAND AVENUE</td>\n",
       "      <td>11226.00</td>\n",
       "      <td>+17188560821</td>\n",
       "      <td>40.64</td>\n",
       "      <td>-73.95</td>\n",
       "      <td>317.00</td>\n",
       "      <td>45.00</td>\n",
       "      <td>82800.00</td>\n",
       "      <td>0</td>\n",
       "      <td>Q18r5FKi2qkQhtKZqWR8ww</td>\n",
       "      <td>taste-the-tropics-usa-brooklyn</td>\n",
       "      <td>Taste the Tropics USA</td>\n",
       "      <td>https://s3-media0.fl.yelpcdn.com/bphoto/xW8S_DHdStqZiqjwQ_UUKw/o.jpg</td>\n",
       "      <td>False</td>\n",
       "      <td>https://www.yelp.com/biz/taste-the-tropics-usa-brooklyn?adjust_creative=82uXkAt1Tiw7u9_h33zr1A&amp;u...</td>\n",
       "      <td>49</td>\n",
       "      <td>[{'alias': 'icecream', 'title': 'Ice Cream &amp; Frozen Yogurt'}]</td>\n",
       "      <td>4.50</td>\n",
       "      <td>{'latitude': 40.64083, 'longitude': -73.94835}</td>\n",
       "      <td>['delivery', 'pickup']</td>\n",
       "      <td>$</td>\n",
       "      <td>{'address1': '1839 Nostrand Ave', 'address2': '', 'address3': '', 'city': 'Brooklyn', 'zip_code'...</td>\n",
       "      <td>+17188560821</td>\n",
       "      <td>(718) 856-0821</td>\n",
       "      <td>We've ordered from these folks a number of times on Grubhub and have always been extremely satis...</td>\n",
       "    </tr>\n",
       "    <tr>\n",
       "      <th>...</th>\n",
       "      <td>...</td>\n",
       "      <td>...</td>\n",
       "      <td>...</td>\n",
       "      <td>...</td>\n",
       "      <td>...</td>\n",
       "      <td>...</td>\n",
       "      <td>...</td>\n",
       "      <td>...</td>\n",
       "      <td>...</td>\n",
       "      <td>...</td>\n",
       "      <td>...</td>\n",
       "      <td>...</td>\n",
       "      <td>...</td>\n",
       "      <td>...</td>\n",
       "      <td>...</td>\n",
       "      <td>...</td>\n",
       "      <td>...</td>\n",
       "      <td>...</td>\n",
       "      <td>...</td>\n",
       "      <td>...</td>\n",
       "      <td>...</td>\n",
       "      <td>...</td>\n",
       "      <td>...</td>\n",
       "      <td>...</td>\n",
       "      <td>...</td>\n",
       "      <td>...</td>\n",
       "      <td>...</td>\n",
       "      <td>...</td>\n",
       "      <td>...</td>\n",
       "      <td>...</td>\n",
       "    </tr>\n",
       "    <tr>\n",
       "      <th>18457</th>\n",
       "      <td>50113139</td>\n",
       "      <td>98K</td>\n",
       "      <td>Chicken</td>\n",
       "      <td>Brooklyn</td>\n",
       "      <td>12</td>\n",
       "      <td>BAY   25 STREET</td>\n",
       "      <td>11214.00</td>\n",
       "      <td>+17183331088</td>\n",
       "      <td>40.60</td>\n",
       "      <td>-74.00</td>\n",
       "      <td>311.00</td>\n",
       "      <td>47.00</td>\n",
       "      <td>28800.00</td>\n",
       "      <td>1</td>\n",
       "      <td>XHL1bVCv3zZskXXTiOk3Nw</td>\n",
       "      <td>munchies-cafe-brooklyn</td>\n",
       "      <td>Munchies Cafe</td>\n",
       "      <td>https://s3-media0.fl.yelpcdn.com/bphoto/b329J79tnMNzKATdFw5Lfg/o.jpg</td>\n",
       "      <td>True</td>\n",
       "      <td>https://www.yelp.com/biz/munchies-cafe-brooklyn?adjust_creative=82uXkAt1Tiw7u9_h33zr1A&amp;utm_campa...</td>\n",
       "      <td>137</td>\n",
       "      <td>[{'alias': 'desserts', 'title': 'Desserts'}, {'alias': 'chinese', 'title': 'Chinese'}]</td>\n",
       "      <td>3.50</td>\n",
       "      <td>{'latitude': 40.60394, 'longitude': -73.99796}</td>\n",
       "      <td>[]</td>\n",
       "      <td>$</td>\n",
       "      <td>{'address1': '12 Bay 25th St', 'address2': '', 'address3': '', 'city': 'Brooklyn', 'zip_code': '...</td>\n",
       "      <td>+17183331088</td>\n",
       "      <td>(718) 333-1088</td>\n",
       "      <td>This is my go to dessert place since its nearby and affordable. The Ice-cream is extremely good,...</td>\n",
       "    </tr>\n",
       "    <tr>\n",
       "      <th>18458</th>\n",
       "      <td>50113139</td>\n",
       "      <td>98K</td>\n",
       "      <td>Chicken</td>\n",
       "      <td>Brooklyn</td>\n",
       "      <td>12</td>\n",
       "      <td>BAY   25 STREET</td>\n",
       "      <td>11214.00</td>\n",
       "      <td>+17183331088</td>\n",
       "      <td>40.60</td>\n",
       "      <td>-74.00</td>\n",
       "      <td>311.00</td>\n",
       "      <td>47.00</td>\n",
       "      <td>28800.00</td>\n",
       "      <td>1</td>\n",
       "      <td>--zlzg_JqUMb3KssgmT7MA</td>\n",
       "      <td>happy-home-cuisine-brooklyn</td>\n",
       "      <td>Happy Home Cuisine</td>\n",
       "      <td>https://s3-media0.fl.yelpcdn.com/bphoto/B2FPlMR4Nvu0roQlyMgVsg/o.jpg</td>\n",
       "      <td>True</td>\n",
       "      <td>https://www.yelp.com/biz/happy-home-cuisine-brooklyn?adjust_creative=82uXkAt1Tiw7u9_h33zr1A&amp;utm_...</td>\n",
       "      <td>36</td>\n",
       "      <td>[{'alias': 'bbq', 'title': 'Barbeque'}, {'alias': 'seafood', 'title': 'Seafood'}, {'alias': 'noo...</td>\n",
       "      <td>3.50</td>\n",
       "      <td>{'latitude': 40.6039450276978, 'longitude': -73.9979839324951}</td>\n",
       "      <td>['delivery']</td>\n",
       "      <td>$</td>\n",
       "      <td>{'address1': '12 Bay 25th St', 'address2': '', 'address3': None, 'city': 'Brooklyn', 'zip_code':...</td>\n",
       "      <td>+17183331088</td>\n",
       "      <td>(718) 333-1088</td>\n",
       "      <td>My family wanted bo zai fan and decided to come try here for outdoor dining on 10/3. There was 5...</td>\n",
       "    </tr>\n",
       "    <tr>\n",
       "      <th>18459</th>\n",
       "      <td>50113198</td>\n",
       "      <td>SENG SEAFOOD RESTAURANT</td>\n",
       "      <td>Seafood</td>\n",
       "      <td>Manhattan</td>\n",
       "      <td>39</td>\n",
       "      <td>EAST BROADWAY</td>\n",
       "      <td>10002.00</td>\n",
       "      <td>+16467999378</td>\n",
       "      <td>40.71</td>\n",
       "      <td>-74.00</td>\n",
       "      <td>103.00</td>\n",
       "      <td>1.00</td>\n",
       "      <td>800.00</td>\n",
       "      <td>0</td>\n",
       "      <td>rcwEQN8lxHzkr-QtfH_b8Q</td>\n",
       "      <td>seng-seafood-restaurant-new-york</td>\n",
       "      <td>Seng Seafood Restaurant</td>\n",
       "      <td>https://s3-media0.fl.yelpcdn.com/bphoto/VVyjCoK5-u1QCaUlq9UDtQ/o.jpg</td>\n",
       "      <td>False</td>\n",
       "      <td>https://www.yelp.com/biz/seng-seafood-restaurant-new-york?adjust_creative=82uXkAt1Tiw7u9_h33zr1A...</td>\n",
       "      <td>21</td>\n",
       "      <td>[{'alias': 'dimsum', 'title': 'Dim Sum'}, {'alias': 'seafood', 'title': 'Seafood'}, {'alias': 'c...</td>\n",
       "      <td>4.00</td>\n",
       "      <td>{'latitude': 40.71345, 'longitude': -73.9962}</td>\n",
       "      <td>['restaurant_reservation']</td>\n",
       "      <td>$$</td>\n",
       "      <td>{'address1': '39 E Broadway', 'address2': 'Fl 2', 'address3': None, 'city': 'New York', 'zip_cod...</td>\n",
       "      <td>+16467999378</td>\n",
       "      <td>(646) 799-9378</td>\n",
       "      <td>GREATEST PRICE FOR DIMSUM. You don't find prices like this anymore, not in NYC, not in Bay Area,...</td>\n",
       "    </tr>\n",
       "    <tr>\n",
       "      <th>18460</th>\n",
       "      <td>50117350</td>\n",
       "      <td>SONG TEA</td>\n",
       "      <td>Coffee/Tea</td>\n",
       "      <td>Manhattan</td>\n",
       "      <td>488</td>\n",
       "      <td>7 AVENUE</td>\n",
       "      <td>10018.00</td>\n",
       "      <td>+16466697802</td>\n",
       "      <td>40.75</td>\n",
       "      <td>-73.99</td>\n",
       "      <td>105.00</td>\n",
       "      <td>3.00</td>\n",
       "      <td>10900.00</td>\n",
       "      <td>0</td>\n",
       "      <td>VAOGMSIeoou-6-Hnwsy5sw</td>\n",
       "      <td>song-tea-new-york</td>\n",
       "      <td>Song Tea</td>\n",
       "      <td>https://s3-media0.fl.yelpcdn.com/bphoto/HDrxhkHjJTqFYtEQp3zRew/o.jpg</td>\n",
       "      <td>False</td>\n",
       "      <td>https://www.yelp.com/biz/song-tea-new-york?adjust_creative=82uXkAt1Tiw7u9_h33zr1A&amp;utm_campaign=y...</td>\n",
       "      <td>8</td>\n",
       "      <td>[{'alias': 'bubbletea', 'title': 'Bubble Tea'}]</td>\n",
       "      <td>4.00</td>\n",
       "      <td>{'latitude': 40.75255, 'longitude': -73.98972}</td>\n",
       "      <td>['delivery', 'pickup']</td>\n",
       "      <td>NaN</td>\n",
       "      <td>{'address1': '488 7th Ave', 'address2': '', 'address3': None, 'city': 'New York', 'zip_code': '1...</td>\n",
       "      <td>+16466697802</td>\n",
       "      <td>(646) 669-7802</td>\n",
       "      <td>I really like the drinks here that come with mochi.  It's a layer of gooey sticky ricecake that'...</td>\n",
       "    </tr>\n",
       "    <tr>\n",
       "      <th>18461</th>\n",
       "      <td>50117959</td>\n",
       "      <td>SOL MAYA RESTAURANT</td>\n",
       "      <td>American</td>\n",
       "      <td>Manhattan</td>\n",
       "      <td>2061</td>\n",
       "      <td>2 AVENUE</td>\n",
       "      <td>10029.00</td>\n",
       "      <td>+12124106950</td>\n",
       "      <td>40.79</td>\n",
       "      <td>-73.94</td>\n",
       "      <td>111.00</td>\n",
       "      <td>8.00</td>\n",
       "      <td>17000.00</td>\n",
       "      <td>0</td>\n",
       "      <td>RUekg91-5EwrKjmFGkIleA</td>\n",
       "      <td>triple-a-1-restaurant-new-york</td>\n",
       "      <td>Triple A 1 Restaurant</td>\n",
       "      <td>https://s3-media0.fl.yelpcdn.com/bphoto/GoETPnK2Kye8xaND9lyf6g/o.jpg</td>\n",
       "      <td>False</td>\n",
       "      <td>https://www.yelp.com/biz/triple-a-1-restaurant-new-york?adjust_creative=82uXkAt1Tiw7u9_h33zr1A&amp;u...</td>\n",
       "      <td>61</td>\n",
       "      <td>[{'alias': 'diners', 'title': 'Diners'}, {'alias': 'mexican', 'title': 'Mexican'}, {'alias': 'br...</td>\n",
       "      <td>3.50</td>\n",
       "      <td>{'latitude': 40.790588, 'longitude': -73.94281}</td>\n",
       "      <td>['delivery', 'pickup']</td>\n",
       "      <td>$</td>\n",
       "      <td>{'address1': '2061 2nd Ave', 'address2': '', 'address3': '', 'city': 'New York', 'zip_code': '10...</td>\n",
       "      <td>+12124106950</td>\n",
       "      <td>(212) 410-6950</td>\n",
       "      <td>Because I've been going here since I was 7 years old And never let me down some of the best food...</td>\n",
       "    </tr>\n",
       "  </tbody>\n",
       "</table>\n",
       "<p>18462 rows × 30 columns</p>\n",
       "</div>"
      ],
      "text/plain": [
       "          CAMIS                          DBA CUISINE DESCRIPTION       BORO  \\\n",
       "0      30112340                      WENDY'S          Hamburgers   Brooklyn   \n",
       "1      40356018             RIVIERA CATERERS            American   Brooklyn   \n",
       "2      40356483           WILKEN'S FINE FOOD          Sandwiches   Brooklyn   \n",
       "3      40356731  TASTE THE TROPICS ICE CREAM     Frozen Desserts   Brooklyn   \n",
       "4      40356731  TASTE THE TROPICS ICE CREAM     Frozen Desserts   Brooklyn   \n",
       "...         ...                          ...                 ...        ...   \n",
       "18457  50113139                          98K             Chicken   Brooklyn   \n",
       "18458  50113139                          98K             Chicken   Brooklyn   \n",
       "18459  50113198      SENG SEAFOOD RESTAURANT             Seafood  Manhattan   \n",
       "18460  50117350                     SONG TEA          Coffee/Tea  Manhattan   \n",
       "18461  50117959          SOL MAYA RESTAURANT            American  Manhattan   \n",
       "\n",
       "      BUILDING            STREET  ZIPCODE         PHONE  Latitude  Longitude  \\\n",
       "0          469   FLATBUSH AVENUE 11225.00  +17182875005     40.66     -73.96   \n",
       "1         2780  STILLWELL AVENUE 11224.00  +17183723031     40.58     -73.98   \n",
       "2         7114          AVENUE U 11234.00  +17184443838     40.62     -73.91   \n",
       "3         1839   NOSTRAND AVENUE 11226.00  +17188560821     40.64     -73.95   \n",
       "4         1839   NOSTRAND AVENUE 11226.00  +17188560821     40.64     -73.95   \n",
       "...        ...               ...      ...           ...       ...        ...   \n",
       "18457       12   BAY   25 STREET 11214.00  +17183331088     40.60     -74.00   \n",
       "18458       12   BAY   25 STREET 11214.00  +17183331088     40.60     -74.00   \n",
       "18459       39     EAST BROADWAY 10002.00  +16467999378     40.71     -74.00   \n",
       "18460      488          7 AVENUE 10018.00  +16466697802     40.75     -73.99   \n",
       "18461     2061          2 AVENUE 10029.00  +12124106950     40.79     -73.94   \n",
       "\n",
       "       Community Board  Council District  Census Tract  Severe  \\\n",
       "0               309.00             40.00      32700.00       0   \n",
       "1               313.00             47.00      34800.00       0   \n",
       "2               318.00             46.00      70000.00       0   \n",
       "3               317.00             45.00      82800.00       0   \n",
       "4               317.00             45.00      82800.00       0   \n",
       "...                ...               ...           ...     ...   \n",
       "18457           311.00             47.00      28800.00       1   \n",
       "18458           311.00             47.00      28800.00       1   \n",
       "18459           103.00              1.00        800.00       0   \n",
       "18460           105.00              3.00      10900.00       0   \n",
       "18461           111.00              8.00      17000.00       0   \n",
       "\n",
       "                           id                             alias  \\\n",
       "0      AMxMPBkWi20dn_1BRalahA                 wendys-brooklyn-4   \n",
       "1      g8fAhVqBsC-BN6otcn85OA         riviera-caterers-brooklyn   \n",
       "2      Pe6MsH2DW0CXjvUtxUpI4A     wilkens-fine-foods-brooklyn-2   \n",
       "3      Q18r5FKi2qkQhtKZqWR8ww    taste-the-tropics-usa-brooklyn   \n",
       "4      Q18r5FKi2qkQhtKZqWR8ww    taste-the-tropics-usa-brooklyn   \n",
       "...                       ...                               ...   \n",
       "18457  XHL1bVCv3zZskXXTiOk3Nw            munchies-cafe-brooklyn   \n",
       "18458  --zlzg_JqUMb3KssgmT7MA       happy-home-cuisine-brooklyn   \n",
       "18459  rcwEQN8lxHzkr-QtfH_b8Q  seng-seafood-restaurant-new-york   \n",
       "18460  VAOGMSIeoou-6-Hnwsy5sw                 song-tea-new-york   \n",
       "18461  RUekg91-5EwrKjmFGkIleA    triple-a-1-restaurant-new-york   \n",
       "\n",
       "                          name  \\\n",
       "0                      Wendy's   \n",
       "1             Riviera Caterers   \n",
       "2           Wilkens Fine Foods   \n",
       "3        Taste the Tropics USA   \n",
       "4        Taste the Tropics USA   \n",
       "...                        ...   \n",
       "18457            Munchies Cafe   \n",
       "18458       Happy Home Cuisine   \n",
       "18459  Seng Seafood Restaurant   \n",
       "18460                 Song Tea   \n",
       "18461    Triple A 1 Restaurant   \n",
       "\n",
       "                                                                  image_url  \\\n",
       "0      https://s3-media0.fl.yelpcdn.com/bphoto/fR70FbX4_WV2-ofhsE89YA/o.jpg   \n",
       "1      https://s3-media0.fl.yelpcdn.com/bphoto/5qZ27Uarz2kNWxV3KktK1g/o.jpg   \n",
       "2      https://s3-media0.fl.yelpcdn.com/bphoto/gOyUSHz_oJWiN9Nw0AEpVg/o.jpg   \n",
       "3      https://s3-media0.fl.yelpcdn.com/bphoto/xW8S_DHdStqZiqjwQ_UUKw/o.jpg   \n",
       "4      https://s3-media0.fl.yelpcdn.com/bphoto/xW8S_DHdStqZiqjwQ_UUKw/o.jpg   \n",
       "...                                                                     ...   \n",
       "18457  https://s3-media0.fl.yelpcdn.com/bphoto/b329J79tnMNzKATdFw5Lfg/o.jpg   \n",
       "18458  https://s3-media0.fl.yelpcdn.com/bphoto/B2FPlMR4Nvu0roQlyMgVsg/o.jpg   \n",
       "18459  https://s3-media0.fl.yelpcdn.com/bphoto/VVyjCoK5-u1QCaUlq9UDtQ/o.jpg   \n",
       "18460  https://s3-media0.fl.yelpcdn.com/bphoto/HDrxhkHjJTqFYtEQp3zRew/o.jpg   \n",
       "18461  https://s3-media0.fl.yelpcdn.com/bphoto/GoETPnK2Kye8xaND9lyf6g/o.jpg   \n",
       "\n",
       "       is_closed  \\\n",
       "0          False   \n",
       "1          False   \n",
       "2          False   \n",
       "3          False   \n",
       "4          False   \n",
       "...          ...   \n",
       "18457       True   \n",
       "18458       True   \n",
       "18459      False   \n",
       "18460      False   \n",
       "18461      False   \n",
       "\n",
       "                                                                                                       url  \\\n",
       "0      https://www.yelp.com/biz/wendys-brooklyn-4?adjust_creative=82uXkAt1Tiw7u9_h33zr1A&utm_campaign=y...   \n",
       "1      https://www.yelp.com/biz/riviera-caterers-brooklyn?adjust_creative=82uXkAt1Tiw7u9_h33zr1A&utm_ca...   \n",
       "2      https://www.yelp.com/biz/wilkens-fine-foods-brooklyn-2?adjust_creative=82uXkAt1Tiw7u9_h33zr1A&ut...   \n",
       "3      https://www.yelp.com/biz/taste-the-tropics-usa-brooklyn?adjust_creative=82uXkAt1Tiw7u9_h33zr1A&u...   \n",
       "4      https://www.yelp.com/biz/taste-the-tropics-usa-brooklyn?adjust_creative=82uXkAt1Tiw7u9_h33zr1A&u...   \n",
       "...                                                                                                    ...   \n",
       "18457  https://www.yelp.com/biz/munchies-cafe-brooklyn?adjust_creative=82uXkAt1Tiw7u9_h33zr1A&utm_campa...   \n",
       "18458  https://www.yelp.com/biz/happy-home-cuisine-brooklyn?adjust_creative=82uXkAt1Tiw7u9_h33zr1A&utm_...   \n",
       "18459  https://www.yelp.com/biz/seng-seafood-restaurant-new-york?adjust_creative=82uXkAt1Tiw7u9_h33zr1A...   \n",
       "18460  https://www.yelp.com/biz/song-tea-new-york?adjust_creative=82uXkAt1Tiw7u9_h33zr1A&utm_campaign=y...   \n",
       "18461  https://www.yelp.com/biz/triple-a-1-restaurant-new-york?adjust_creative=82uXkAt1Tiw7u9_h33zr1A&u...   \n",
       "\n",
       "       review_count  \\\n",
       "0                55   \n",
       "1                55   \n",
       "2                54   \n",
       "3                49   \n",
       "4                49   \n",
       "...             ...   \n",
       "18457           137   \n",
       "18458            36   \n",
       "18459            21   \n",
       "18460             8   \n",
       "18461            61   \n",
       "\n",
       "                                                                                                categories  \\\n",
       "0                   [{'alias': 'hotdogs', 'title': 'Fast Food'}, {'alias': 'burgers', 'title': 'Burgers'}]   \n",
       "1                                                             [{'alias': 'catering', 'title': 'Caterers'}]   \n",
       "2                                                                   [{'alias': 'delis', 'title': 'Delis'}]   \n",
       "3                                            [{'alias': 'icecream', 'title': 'Ice Cream & Frozen Yogurt'}]   \n",
       "4                                            [{'alias': 'icecream', 'title': 'Ice Cream & Frozen Yogurt'}]   \n",
       "...                                                                                                    ...   \n",
       "18457               [{'alias': 'desserts', 'title': 'Desserts'}, {'alias': 'chinese', 'title': 'Chinese'}]   \n",
       "18458  [{'alias': 'bbq', 'title': 'Barbeque'}, {'alias': 'seafood', 'title': 'Seafood'}, {'alias': 'noo...   \n",
       "18459  [{'alias': 'dimsum', 'title': 'Dim Sum'}, {'alias': 'seafood', 'title': 'Seafood'}, {'alias': 'c...   \n",
       "18460                                                      [{'alias': 'bubbletea', 'title': 'Bubble Tea'}]   \n",
       "18461  [{'alias': 'diners', 'title': 'Diners'}, {'alias': 'mexican', 'title': 'Mexican'}, {'alias': 'br...   \n",
       "\n",
       "       rating                                                     coordinates  \\\n",
       "0        1.50                {'latitude': 40.662952, 'longitude': -73.961753}   \n",
       "1        4.50                  {'latitude': 40.57952, 'longitude': -73.98243}   \n",
       "2        3.00                   {'latitude': 40.6199, 'longitude': -73.90685}   \n",
       "3        4.50                  {'latitude': 40.64083, 'longitude': -73.94835}   \n",
       "4        4.50                  {'latitude': 40.64083, 'longitude': -73.94835}   \n",
       "...       ...                                                             ...   \n",
       "18457    3.50                  {'latitude': 40.60394, 'longitude': -73.99796}   \n",
       "18458    3.50  {'latitude': 40.6039450276978, 'longitude': -73.9979839324951}   \n",
       "18459    4.00                   {'latitude': 40.71345, 'longitude': -73.9962}   \n",
       "18460    4.00                  {'latitude': 40.75255, 'longitude': -73.98972}   \n",
       "18461    3.50                 {'latitude': 40.790588, 'longitude': -73.94281}   \n",
       "\n",
       "                     transactions price  \\\n",
       "0                    ['delivery']     $   \n",
       "1                              []   NaN   \n",
       "2          ['pickup', 'delivery']    $$   \n",
       "3          ['pickup', 'delivery']     $   \n",
       "4          ['delivery', 'pickup']     $   \n",
       "...                           ...   ...   \n",
       "18457                          []     $   \n",
       "18458                ['delivery']     $   \n",
       "18459  ['restaurant_reservation']    $$   \n",
       "18460      ['delivery', 'pickup']   NaN   \n",
       "18461      ['delivery', 'pickup']     $   \n",
       "\n",
       "                                                                                                  location  \\\n",
       "0      {'address1': '469 Flatbush Ave', 'address2': '', 'address3': '', 'city': 'Brooklyn', 'zip_code':...   \n",
       "1      {'address1': '2780 Stillwell Ave', 'address2': '', 'address3': '', 'city': 'Brooklyn', 'zip_code...   \n",
       "2      {'address1': '7114 Ave U', 'address2': '', 'address3': '', 'city': 'Brooklyn', 'zip_code': '1123...   \n",
       "3      {'address1': '1839 Nostrand Ave', 'address2': '', 'address3': '', 'city': 'Brooklyn', 'zip_code'...   \n",
       "4      {'address1': '1839 Nostrand Ave', 'address2': '', 'address3': '', 'city': 'Brooklyn', 'zip_code'...   \n",
       "...                                                                                                    ...   \n",
       "18457  {'address1': '12 Bay 25th St', 'address2': '', 'address3': '', 'city': 'Brooklyn', 'zip_code': '...   \n",
       "18458  {'address1': '12 Bay 25th St', 'address2': '', 'address3': None, 'city': 'Brooklyn', 'zip_code':...   \n",
       "18459  {'address1': '39 E Broadway', 'address2': 'Fl 2', 'address3': None, 'city': 'New York', 'zip_cod...   \n",
       "18460  {'address1': '488 7th Ave', 'address2': '', 'address3': None, 'city': 'New York', 'zip_code': '1...   \n",
       "18461  {'address1': '2061 2nd Ave', 'address2': '', 'address3': '', 'city': 'New York', 'zip_code': '10...   \n",
       "\n",
       "              phone   display_phone  \\\n",
       "0      +17182875005  (718) 287-5005   \n",
       "1      +17183723031  (718) 372-3031   \n",
       "2      +17184443838  (718) 444-3838   \n",
       "3      +17188560821  (718) 856-0821   \n",
       "4      +17188560821  (718) 856-0821   \n",
       "...             ...             ...   \n",
       "18457  +17183331088  (718) 333-1088   \n",
       "18458  +17183331088  (718) 333-1088   \n",
       "18459  +16467999378  (646) 799-9378   \n",
       "18460  +16466697802  (646) 669-7802   \n",
       "18461  +12124106950  (212) 410-6950   \n",
       "\n",
       "                                                                                                   Reviews  \n",
       "0      Forgot my root beer and the burger tasted very weird.If I can give this place no stars I absolut...  \n",
       "1      I had my wedding here a month ago and I would give Riviera 10 stars if I could. It was such a jo...  \n",
       "2      We've recently discovered this gem on Uber Eats and they have the best sandwiches!!The broccoli ...  \n",
       "3      We've ordered from these folks a number of times on Grubhub and have always been extremely satis...  \n",
       "4      We've ordered from these folks a number of times on Grubhub and have always been extremely satis...  \n",
       "...                                                                                                    ...  \n",
       "18457  This is my go to dessert place since its nearby and affordable. The Ice-cream is extremely good,...  \n",
       "18458  My family wanted bo zai fan and decided to come try here for outdoor dining on 10/3. There was 5...  \n",
       "18459  GREATEST PRICE FOR DIMSUM. You don't find prices like this anymore, not in NYC, not in Bay Area,...  \n",
       "18460  I really like the drinks here that come with mochi.  It's a layer of gooey sticky ricecake that'...  \n",
       "18461  Because I've been going here since I was 7 years old And never let me down some of the best food...  \n",
       "\n",
       "[18462 rows x 30 columns]"
      ]
     },
     "execution_count": 137,
     "metadata": {},
     "output_type": "execute_result"
    }
   ],
   "source": [
    "df"
   ]
  },
  {
   "cell_type": "markdown",
   "metadata": {},
   "source": [
    "# Exploring The Full Dataset"
   ]
  },
  {
   "cell_type": "markdown",
   "metadata": {},
   "source": [
    "For this project there will be two sources and types of data used:\n",
    "\n",
    "* Historical health and hygiene inspections recorded by New York City Department of Health and Mental Hygiene (DOHMH) public health inspectors\n",
    "* User generated Yelp business ratings and reviews"
   ]
  },
  {
   "cell_type": "code",
   "execution_count": 1,
   "metadata": {
    "ExecuteTime": {
     "end_time": "2022-04-20T16:35:50.058081Z",
     "start_time": "2022-04-20T16:35:50.045598Z"
    }
   },
   "outputs": [],
   "source": [
    "# Look at all the feautres compared to the 0 class and 1 class"
   ]
  },
  {
   "cell_type": "markdown",
   "metadata": {},
   "source": [
    "# Model"
   ]
  },
  {
   "cell_type": "code",
   "execution_count": null,
   "metadata": {},
   "outputs": [],
   "source": []
  },
  {
   "cell_type": "code",
   "execution_count": null,
   "metadata": {},
   "outputs": [],
   "source": []
  },
  {
   "cell_type": "code",
   "execution_count": null,
   "metadata": {},
   "outputs": [],
   "source": []
  },
  {
   "cell_type": "code",
   "execution_count": null,
   "metadata": {},
   "outputs": [],
   "source": []
  },
  {
   "cell_type": "markdown",
   "metadata": {},
   "source": [
    "# Interpreting Results"
   ]
  },
  {
   "cell_type": "code",
   "execution_count": null,
   "metadata": {},
   "outputs": [],
   "source": []
  }
 ],
 "metadata": {
  "kernelspec": {
   "display_name": "Python (learn-env)",
   "language": "python",
   "name": "learn-env"
  },
  "language_info": {
   "codemirror_mode": {
    "name": "ipython",
    "version": 3
   },
   "file_extension": ".py",
   "mimetype": "text/x-python",
   "name": "python",
   "nbconvert_exporter": "python",
   "pygments_lexer": "ipython3",
   "version": "3.8.5"
  },
  "toc": {
   "base_numbering": 1,
   "nav_menu": {},
   "number_sections": true,
   "sideBar": true,
   "skip_h1_title": false,
   "title_cell": "Table of Contents",
   "title_sidebar": "Contents",
   "toc_cell": false,
   "toc_position": {
    "height": "calc(100% - 180px)",
    "left": "10px",
    "top": "150px",
    "width": "165px"
   },
   "toc_section_display": true,
   "toc_window_display": true
  }
 },
 "nbformat": 4,
 "nbformat_minor": 4
}
