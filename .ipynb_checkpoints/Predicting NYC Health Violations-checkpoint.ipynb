{
 "cells": [
  {
   "cell_type": "code",
   "execution_count": 1,
   "metadata": {
    "ExecuteTime": {
     "end_time": "2022-04-18T10:16:30.403639Z",
     "start_time": "2022-04-18T10:16:21.859263Z"
    }
   },
   "outputs": [],
   "source": [
    "from IPython import display\n",
    "from bs4 import BeautifulSoup as bs\n",
    "import requests\n",
    "import json\n",
    "from sodapy import Socrata\n",
    "import pandas as pd\n",
    "import numpy as np\n",
    "import matplotlib.pyplot as plt\n",
    "%matplotlib inline\n",
    "import seaborn as sns\n",
    "import warnings\n",
    "import time\n",
    "warnings.filterwarnings(\"ignore\")\n",
    "pd.set_option('display.max_colwidth',None)\n",
    "pd.set_option('display.max_columns',50)\n",
    "pd.options.display.float_format = '{:.1f}'.format\n",
    "\n",
    "from sklearn.preprocessing import OneHotEncoder\n"
   ]
  },
  {
   "cell_type": "markdown",
   "metadata": {},
   "source": [
    "# Introduction"
   ]
  },
  {
   "cell_type": "markdown",
   "metadata": {},
   "source": [
    "According to the CDC, more than 48 million Americans per year become sick from food, and an estimated 75% of the outbreaks came from food prepared by caterers, delis, and restaurants. In most cities, health inspections are generally random, which can increase time spent on spot checks at clean restaurants that have been following the rules closely — and missed opportunities to improve health and hygiene at places with more pressing food safety issues.\n",
    "\n",
    "The goal for this project is to leverage public citizen generated data from social media to narrow the search for critical health and safety violations in New York City. As the City of New York manages  an open data portal, everyone can access historical hygiene inspections and violation records. By combine these two data source this project aims to determine which words, phrases, ratings, and patterns among restaurants lead to critical health and safety violations. This model can assist city health inspectors do their job better by prioritizing the kitchens most likely to be in violation of code."
   ]
  },
  {
   "cell_type": "markdown",
   "metadata": {},
   "source": [
    "# Obtain"
   ]
  },
  {
   "cell_type": "markdown",
   "metadata": {},
   "source": [
    "This project requires data pulled from two different sources, the City of New York and Yelp. To obtain the data we will call the API keys."
   ]
  },
  {
   "cell_type": "markdown",
   "metadata": {},
   "source": [
    "## NYC Open Data Portal"
   ]
  },
  {
   "cell_type": "markdown",
   "metadata": {},
   "source": []
  },
  {
   "cell_type": "code",
   "execution_count": 2,
   "metadata": {
    "ExecuteTime": {
     "end_time": "2022-04-16T16:29:08.031411Z",
     "start_time": "2022-04-16T16:29:06.515611Z"
    }
   },
   "outputs": [
    {
     "data": {
      "text/html": [
       "<div>\n",
       "<style scoped>\n",
       "    .dataframe tbody tr th:only-of-type {\n",
       "        vertical-align: middle;\n",
       "    }\n",
       "\n",
       "    .dataframe tbody tr th {\n",
       "        vertical-align: top;\n",
       "    }\n",
       "\n",
       "    .dataframe thead th {\n",
       "        text-align: right;\n",
       "    }\n",
       "</style>\n",
       "<table border=\"1\" class=\"dataframe\">\n",
       "  <thead>\n",
       "    <tr style=\"text-align: right;\">\n",
       "      <th></th>\n",
       "      <th>CAMIS</th>\n",
       "      <th>DBA</th>\n",
       "      <th>BORO</th>\n",
       "      <th>BUILDING</th>\n",
       "      <th>STREET</th>\n",
       "      <th>ZIPCODE</th>\n",
       "      <th>PHONE</th>\n",
       "      <th>CUISINE DESCRIPTION</th>\n",
       "      <th>INSPECTION DATE</th>\n",
       "      <th>ACTION</th>\n",
       "      <th>VIOLATION CODE</th>\n",
       "      <th>VIOLATION DESCRIPTION</th>\n",
       "      <th>CRITICAL FLAG</th>\n",
       "      <th>SCORE</th>\n",
       "      <th>GRADE</th>\n",
       "      <th>GRADE DATE</th>\n",
       "      <th>RECORD DATE</th>\n",
       "      <th>INSPECTION TYPE</th>\n",
       "      <th>Latitude</th>\n",
       "      <th>Longitude</th>\n",
       "      <th>Community Board</th>\n",
       "      <th>Council District</th>\n",
       "      <th>Census Tract</th>\n",
       "      <th>BIN</th>\n",
       "      <th>BBL</th>\n",
       "      <th>NTA</th>\n",
       "    </tr>\n",
       "  </thead>\n",
       "  <tbody>\n",
       "    <tr>\n",
       "      <th>0</th>\n",
       "      <td>50008319</td>\n",
       "      <td>POULETTE</td>\n",
       "      <td>Manhattan</td>\n",
       "      <td>790</td>\n",
       "      <td>9 AVENUE</td>\n",
       "      <td>10019.0</td>\n",
       "      <td>2129569488</td>\n",
       "      <td>Chicken</td>\n",
       "      <td>01/28/2019</td>\n",
       "      <td>Violations were cited in the following area(s).</td>\n",
       "      <td>04D</td>\n",
       "      <td>Food worker does not wash hands thoroughly after using the toilet, coughing, sneezing, smoking, ...</td>\n",
       "      <td>Critical</td>\n",
       "      <td>22</td>\n",
       "      <td>NaN</td>\n",
       "      <td>NaN</td>\n",
       "      <td>03/24/2022</td>\n",
       "      <td>Cycle Inspection / Initial Inspection</td>\n",
       "      <td>40.765040</td>\n",
       "      <td>-73.987795</td>\n",
       "      <td>104.0</td>\n",
       "      <td>3.0</td>\n",
       "      <td>13300.0</td>\n",
       "      <td>1025235.0</td>\n",
       "      <td>1.010430e+09</td>\n",
       "      <td>MN15</td>\n",
       "    </tr>\n",
       "    <tr>\n",
       "      <th>1</th>\n",
       "      <td>41678734</td>\n",
       "      <td>TINY'S DINER</td>\n",
       "      <td>Bronx</td>\n",
       "      <td>3603</td>\n",
       "      <td>RIVERDALE AVENUE</td>\n",
       "      <td>10463.0</td>\n",
       "      <td>7187087600</td>\n",
       "      <td>American</td>\n",
       "      <td>09/23/2019</td>\n",
       "      <td>Violations were cited in the following area(s).</td>\n",
       "      <td>04M</td>\n",
       "      <td>Live roaches present in facility's food and/or non-food areas.</td>\n",
       "      <td>Critical</td>\n",
       "      <td>24</td>\n",
       "      <td>NaN</td>\n",
       "      <td>NaN</td>\n",
       "      <td>03/24/2022</td>\n",
       "      <td>Cycle Inspection / Initial Inspection</td>\n",
       "      <td>40.886691</td>\n",
       "      <td>-73.907056</td>\n",
       "      <td>208.0</td>\n",
       "      <td>11.0</td>\n",
       "      <td>29500.0</td>\n",
       "      <td>2084186.0</td>\n",
       "      <td>2.057960e+09</td>\n",
       "      <td>BX29</td>\n",
       "    </tr>\n",
       "    <tr>\n",
       "      <th>2</th>\n",
       "      <td>40795021</td>\n",
       "      <td>TAO RESTAURANT</td>\n",
       "      <td>Manhattan</td>\n",
       "      <td>42</td>\n",
       "      <td>EAST   58 STREET</td>\n",
       "      <td>10022.0</td>\n",
       "      <td>2128882288</td>\n",
       "      <td>Asian/Asian Fusion</td>\n",
       "      <td>03/11/2020</td>\n",
       "      <td>Violations were cited in the following area(s).</td>\n",
       "      <td>10F</td>\n",
       "      <td>Non-food contact surface improperly constructed. Unacceptable material used. Non-food contact su...</td>\n",
       "      <td>Not Critical</td>\n",
       "      <td>9</td>\n",
       "      <td>NaN</td>\n",
       "      <td>NaN</td>\n",
       "      <td>03/24/2022</td>\n",
       "      <td>Cycle Inspection / Initial Inspection</td>\n",
       "      <td>40.762786</td>\n",
       "      <td>-73.971486</td>\n",
       "      <td>105.0</td>\n",
       "      <td>4.0</td>\n",
       "      <td>11202.0</td>\n",
       "      <td>1036073.0</td>\n",
       "      <td>1.012930e+09</td>\n",
       "      <td>MN17</td>\n",
       "    </tr>\n",
       "    <tr>\n",
       "      <th>3</th>\n",
       "      <td>40795021</td>\n",
       "      <td>TAO RESTAURANT</td>\n",
       "      <td>Manhattan</td>\n",
       "      <td>42</td>\n",
       "      <td>EAST   58 STREET</td>\n",
       "      <td>10022.0</td>\n",
       "      <td>2128882288</td>\n",
       "      <td>Asian/Asian Fusion</td>\n",
       "      <td>03/11/2020</td>\n",
       "      <td>Violations were cited in the following area(s).</td>\n",
       "      <td>10F</td>\n",
       "      <td>Non-food contact surface improperly constructed. Unacceptable material used. Non-food contact su...</td>\n",
       "      <td>Not Critical</td>\n",
       "      <td>9</td>\n",
       "      <td>NaN</td>\n",
       "      <td>NaN</td>\n",
       "      <td>03/24/2022</td>\n",
       "      <td>Cycle Inspection / Initial Inspection</td>\n",
       "      <td>40.762786</td>\n",
       "      <td>-73.971486</td>\n",
       "      <td>105.0</td>\n",
       "      <td>4.0</td>\n",
       "      <td>11202.0</td>\n",
       "      <td>1036073.0</td>\n",
       "      <td>1.012930e+09</td>\n",
       "      <td>MN17</td>\n",
       "    </tr>\n",
       "    <tr>\n",
       "      <th>4</th>\n",
       "      <td>40538234</td>\n",
       "      <td>DUNKIN',' BASKIN ROBBINS</td>\n",
       "      <td>Queens</td>\n",
       "      <td>9925</td>\n",
       "      <td>HORACE HARDING EXPRESSWAY</td>\n",
       "      <td>11368.0</td>\n",
       "      <td>7182719222</td>\n",
       "      <td>Donuts</td>\n",
       "      <td>07/29/2021</td>\n",
       "      <td>Violations were cited in the following area(s).</td>\n",
       "      <td>06E</td>\n",
       "      <td>Sanitized equipment or utensil, including in-use food dispensing utensil, improperly used or sto...</td>\n",
       "      <td>Critical</td>\n",
       "      <td>10</td>\n",
       "      <td>A</td>\n",
       "      <td>07/29/2021</td>\n",
       "      <td>03/24/2022</td>\n",
       "      <td>Cycle Inspection / Initial Inspection</td>\n",
       "      <td>40.736185</td>\n",
       "      <td>-73.858052</td>\n",
       "      <td>404.0</td>\n",
       "      <td>21.0</td>\n",
       "      <td>43702.0</td>\n",
       "      <td>4047915.0</td>\n",
       "      <td>4.019480e+09</td>\n",
       "      <td>QN25</td>\n",
       "    </tr>\n",
       "    <tr>\n",
       "      <th>...</th>\n",
       "      <td>...</td>\n",
       "      <td>...</td>\n",
       "      <td>...</td>\n",
       "      <td>...</td>\n",
       "      <td>...</td>\n",
       "      <td>...</td>\n",
       "      <td>...</td>\n",
       "      <td>...</td>\n",
       "      <td>...</td>\n",
       "      <td>...</td>\n",
       "      <td>...</td>\n",
       "      <td>...</td>\n",
       "      <td>...</td>\n",
       "      <td>...</td>\n",
       "      <td>...</td>\n",
       "      <td>...</td>\n",
       "      <td>...</td>\n",
       "      <td>...</td>\n",
       "      <td>...</td>\n",
       "      <td>...</td>\n",
       "      <td>...</td>\n",
       "      <td>...</td>\n",
       "      <td>...</td>\n",
       "      <td>...</td>\n",
       "      <td>...</td>\n",
       "      <td>...</td>\n",
       "    </tr>\n",
       "    <tr>\n",
       "      <th>186222</th>\n",
       "      <td>41556790</td>\n",
       "      <td>FIVE GUYS FAMOUS BURGERS AND FRIES</td>\n",
       "      <td>Manhattan</td>\n",
       "      <td>2847</td>\n",
       "      <td>BROADFWAY</td>\n",
       "      <td>NaN</td>\n",
       "      <td>2126787701</td>\n",
       "      <td>Hamburgers</td>\n",
       "      <td>03/01/2019</td>\n",
       "      <td>Violations were cited in the following area(s).</td>\n",
       "      <td>10F</td>\n",
       "      <td>Non-food contact surface improperly constructed. Unacceptable material used. Non-food contact su...</td>\n",
       "      <td>Not Critical</td>\n",
       "      <td>3</td>\n",
       "      <td>A</td>\n",
       "      <td>03/01/2019</td>\n",
       "      <td>03/24/2022</td>\n",
       "      <td>Cycle Inspection / Initial Inspection</td>\n",
       "      <td>0.000000</td>\n",
       "      <td>0.000000</td>\n",
       "      <td>NaN</td>\n",
       "      <td>NaN</td>\n",
       "      <td>NaN</td>\n",
       "      <td>NaN</td>\n",
       "      <td>1.000000e+00</td>\n",
       "      <td>NaN</td>\n",
       "    </tr>\n",
       "    <tr>\n",
       "      <th>186223</th>\n",
       "      <td>50032876</td>\n",
       "      <td>TANNER SMITH'S</td>\n",
       "      <td>Manhattan</td>\n",
       "      <td>204</td>\n",
       "      <td>WEST   55 STREET</td>\n",
       "      <td>10019.0</td>\n",
       "      <td>9175172283</td>\n",
       "      <td>American</td>\n",
       "      <td>06/07/2019</td>\n",
       "      <td>Violations were cited in the following area(s).</td>\n",
       "      <td>08A</td>\n",
       "      <td>Facility not vermin proof. Harborage or conditions conducive to attracting vermin to the premise...</td>\n",
       "      <td>Not Critical</td>\n",
       "      <td>12</td>\n",
       "      <td>A</td>\n",
       "      <td>06/07/2019</td>\n",
       "      <td>03/24/2022</td>\n",
       "      <td>Cycle Inspection / Initial Inspection</td>\n",
       "      <td>40.764364</td>\n",
       "      <td>-73.981362</td>\n",
       "      <td>105.0</td>\n",
       "      <td>4.0</td>\n",
       "      <td>13700.0</td>\n",
       "      <td>1024857.0</td>\n",
       "      <td>1.010260e+09</td>\n",
       "      <td>MN17</td>\n",
       "    </tr>\n",
       "    <tr>\n",
       "      <th>186224</th>\n",
       "      <td>50003842</td>\n",
       "      <td>T- 45</td>\n",
       "      <td>Manhattan</td>\n",
       "      <td>135</td>\n",
       "      <td>WEST   45 STREET</td>\n",
       "      <td>10036.0</td>\n",
       "      <td>6466403775</td>\n",
       "      <td>American</td>\n",
       "      <td>07/26/2018</td>\n",
       "      <td>Violations were cited in the following area(s).</td>\n",
       "      <td>10B</td>\n",
       "      <td>Plumbing not properly installed or maintained; anti-siphonage or backflow prevention device not ...</td>\n",
       "      <td>Not Critical</td>\n",
       "      <td>49</td>\n",
       "      <td>NaN</td>\n",
       "      <td>NaN</td>\n",
       "      <td>03/24/2022</td>\n",
       "      <td>Cycle Inspection / Initial Inspection</td>\n",
       "      <td>40.757244</td>\n",
       "      <td>-73.983815</td>\n",
       "      <td>105.0</td>\n",
       "      <td>4.0</td>\n",
       "      <td>11900.0</td>\n",
       "      <td>1089796.0</td>\n",
       "      <td>1.009980e+09</td>\n",
       "      <td>MN17</td>\n",
       "    </tr>\n",
       "    <tr>\n",
       "      <th>186225</th>\n",
       "      <td>41640824</td>\n",
       "      <td>RICURAS ECUADORIAN BAKERY</td>\n",
       "      <td>Bronx</td>\n",
       "      <td>1576</td>\n",
       "      <td>WATSON AVENUE</td>\n",
       "      <td>10472.0</td>\n",
       "      <td>7184508363</td>\n",
       "      <td>Spanish</td>\n",
       "      <td>07/20/2018</td>\n",
       "      <td>Violations were cited in the following area(s).</td>\n",
       "      <td>06F</td>\n",
       "      <td>Wiping cloths soiled or not stored in sanitizing solution.</td>\n",
       "      <td>Critical</td>\n",
       "      <td>12</td>\n",
       "      <td>A</td>\n",
       "      <td>07/20/2018</td>\n",
       "      <td>03/24/2022</td>\n",
       "      <td>Cycle Inspection / Initial Inspection</td>\n",
       "      <td>40.826352</td>\n",
       "      <td>-73.876066</td>\n",
       "      <td>209.0</td>\n",
       "      <td>18.0</td>\n",
       "      <td>5001.0</td>\n",
       "      <td>2023533.0</td>\n",
       "      <td>2.037160e+09</td>\n",
       "      <td>BX55</td>\n",
       "    </tr>\n",
       "    <tr>\n",
       "      <th>186226</th>\n",
       "      <td>41450971</td>\n",
       "      <td>GIOVANNI'S RESTAURANT</td>\n",
       "      <td>Bronx</td>\n",
       "      <td>3209</td>\n",
       "      <td>WESTCHESTER AVENUE</td>\n",
       "      <td>10461.0</td>\n",
       "      <td>7188924340</td>\n",
       "      <td>Pizza</td>\n",
       "      <td>06/21/2017</td>\n",
       "      <td>Violations were cited in the following area(s).</td>\n",
       "      <td>06D</td>\n",
       "      <td>Food contact surface not properly washed, rinsed and sanitized after each use and following any ...</td>\n",
       "      <td>Critical</td>\n",
       "      <td>16</td>\n",
       "      <td>NaN</td>\n",
       "      <td>NaN</td>\n",
       "      <td>03/24/2022</td>\n",
       "      <td>Cycle Inspection / Initial Inspection</td>\n",
       "      <td>40.851761</td>\n",
       "      <td>-73.829569</td>\n",
       "      <td>210.0</td>\n",
       "      <td>13.0</td>\n",
       "      <td>30000.0</td>\n",
       "      <td>2047655.0</td>\n",
       "      <td>2.042450e+09</td>\n",
       "      <td>BX10</td>\n",
       "    </tr>\n",
       "  </tbody>\n",
       "</table>\n",
       "<p>186227 rows × 26 columns</p>\n",
       "</div>"
      ],
      "text/plain": [
       "           CAMIS                                 DBA       BORO BUILDING  \\\n",
       "0       50008319                            POULETTE  Manhattan      790   \n",
       "1       41678734                        TINY'S DINER      Bronx     3603   \n",
       "2       40795021                      TAO RESTAURANT  Manhattan       42   \n",
       "3       40795021                      TAO RESTAURANT  Manhattan       42   \n",
       "4       40538234            DUNKIN',' BASKIN ROBBINS     Queens     9925   \n",
       "...          ...                                 ...        ...      ...   \n",
       "186222  41556790  FIVE GUYS FAMOUS BURGERS AND FRIES  Manhattan     2847   \n",
       "186223  50032876                      TANNER SMITH'S  Manhattan      204   \n",
       "186224  50003842                               T- 45  Manhattan      135   \n",
       "186225  41640824           RICURAS ECUADORIAN BAKERY      Bronx     1576   \n",
       "186226  41450971               GIOVANNI'S RESTAURANT      Bronx     3209   \n",
       "\n",
       "                           STREET  ZIPCODE       PHONE CUISINE DESCRIPTION  \\\n",
       "0                        9 AVENUE  10019.0  2129569488             Chicken   \n",
       "1                RIVERDALE AVENUE  10463.0  7187087600            American   \n",
       "2                EAST   58 STREET  10022.0  2128882288  Asian/Asian Fusion   \n",
       "3                EAST   58 STREET  10022.0  2128882288  Asian/Asian Fusion   \n",
       "4       HORACE HARDING EXPRESSWAY  11368.0  7182719222              Donuts   \n",
       "...                           ...      ...         ...                 ...   \n",
       "186222                  BROADFWAY      NaN  2126787701          Hamburgers   \n",
       "186223           WEST   55 STREET  10019.0  9175172283            American   \n",
       "186224           WEST   45 STREET  10036.0  6466403775            American   \n",
       "186225              WATSON AVENUE  10472.0  7184508363             Spanish   \n",
       "186226         WESTCHESTER AVENUE  10461.0  7188924340               Pizza   \n",
       "\n",
       "       INSPECTION DATE                                           ACTION  \\\n",
       "0           01/28/2019  Violations were cited in the following area(s).   \n",
       "1           09/23/2019  Violations were cited in the following area(s).   \n",
       "2           03/11/2020  Violations were cited in the following area(s).   \n",
       "3           03/11/2020  Violations were cited in the following area(s).   \n",
       "4           07/29/2021  Violations were cited in the following area(s).   \n",
       "...                ...                                              ...   \n",
       "186222      03/01/2019  Violations were cited in the following area(s).   \n",
       "186223      06/07/2019  Violations were cited in the following area(s).   \n",
       "186224      07/26/2018  Violations were cited in the following area(s).   \n",
       "186225      07/20/2018  Violations were cited in the following area(s).   \n",
       "186226      06/21/2017  Violations were cited in the following area(s).   \n",
       "\n",
       "       VIOLATION CODE  \\\n",
       "0                 04D   \n",
       "1                 04M   \n",
       "2                 10F   \n",
       "3                 10F   \n",
       "4                 06E   \n",
       "...               ...   \n",
       "186222            10F   \n",
       "186223            08A   \n",
       "186224            10B   \n",
       "186225            06F   \n",
       "186226            06D   \n",
       "\n",
       "                                                                                      VIOLATION DESCRIPTION  \\\n",
       "0       Food worker does not wash hands thoroughly after using the toilet, coughing, sneezing, smoking, ...   \n",
       "1                                            Live roaches present in facility's food and/or non-food areas.   \n",
       "2       Non-food contact surface improperly constructed. Unacceptable material used. Non-food contact su...   \n",
       "3       Non-food contact surface improperly constructed. Unacceptable material used. Non-food contact su...   \n",
       "4       Sanitized equipment or utensil, including in-use food dispensing utensil, improperly used or sto...   \n",
       "...                                                                                                     ...   \n",
       "186222  Non-food contact surface improperly constructed. Unacceptable material used. Non-food contact su...   \n",
       "186223  Facility not vermin proof. Harborage or conditions conducive to attracting vermin to the premise...   \n",
       "186224  Plumbing not properly installed or maintained; anti-siphonage or backflow prevention device not ...   \n",
       "186225                                           Wiping cloths soiled or not stored in sanitizing solution.   \n",
       "186226  Food contact surface not properly washed, rinsed and sanitized after each use and following any ...   \n",
       "\n",
       "       CRITICAL FLAG  SCORE GRADE  GRADE DATE RECORD DATE  \\\n",
       "0           Critical     22   NaN         NaN  03/24/2022   \n",
       "1           Critical     24   NaN         NaN  03/24/2022   \n",
       "2       Not Critical      9   NaN         NaN  03/24/2022   \n",
       "3       Not Critical      9   NaN         NaN  03/24/2022   \n",
       "4           Critical     10     A  07/29/2021  03/24/2022   \n",
       "...              ...    ...   ...         ...         ...   \n",
       "186222  Not Critical      3     A  03/01/2019  03/24/2022   \n",
       "186223  Not Critical     12     A  06/07/2019  03/24/2022   \n",
       "186224  Not Critical     49   NaN         NaN  03/24/2022   \n",
       "186225      Critical     12     A  07/20/2018  03/24/2022   \n",
       "186226      Critical     16   NaN         NaN  03/24/2022   \n",
       "\n",
       "                              INSPECTION TYPE   Latitude  Longitude  \\\n",
       "0       Cycle Inspection / Initial Inspection  40.765040 -73.987795   \n",
       "1       Cycle Inspection / Initial Inspection  40.886691 -73.907056   \n",
       "2       Cycle Inspection / Initial Inspection  40.762786 -73.971486   \n",
       "3       Cycle Inspection / Initial Inspection  40.762786 -73.971486   \n",
       "4       Cycle Inspection / Initial Inspection  40.736185 -73.858052   \n",
       "...                                       ...        ...        ...   \n",
       "186222  Cycle Inspection / Initial Inspection   0.000000   0.000000   \n",
       "186223  Cycle Inspection / Initial Inspection  40.764364 -73.981362   \n",
       "186224  Cycle Inspection / Initial Inspection  40.757244 -73.983815   \n",
       "186225  Cycle Inspection / Initial Inspection  40.826352 -73.876066   \n",
       "186226  Cycle Inspection / Initial Inspection  40.851761 -73.829569   \n",
       "\n",
       "        Community Board  Council District  Census Tract        BIN  \\\n",
       "0                 104.0               3.0       13300.0  1025235.0   \n",
       "1                 208.0              11.0       29500.0  2084186.0   \n",
       "2                 105.0               4.0       11202.0  1036073.0   \n",
       "3                 105.0               4.0       11202.0  1036073.0   \n",
       "4                 404.0              21.0       43702.0  4047915.0   \n",
       "...                 ...               ...           ...        ...   \n",
       "186222              NaN               NaN           NaN        NaN   \n",
       "186223            105.0               4.0       13700.0  1024857.0   \n",
       "186224            105.0               4.0       11900.0  1089796.0   \n",
       "186225            209.0              18.0        5001.0  2023533.0   \n",
       "186226            210.0              13.0       30000.0  2047655.0   \n",
       "\n",
       "                 BBL   NTA  \n",
       "0       1.010430e+09  MN15  \n",
       "1       2.057960e+09  BX29  \n",
       "2       1.012930e+09  MN17  \n",
       "3       1.012930e+09  MN17  \n",
       "4       4.019480e+09  QN25  \n",
       "...              ...   ...  \n",
       "186222  1.000000e+00   NaN  \n",
       "186223  1.010260e+09  MN17  \n",
       "186224  1.009980e+09  MN17  \n",
       "186225  2.037160e+09  BX55  \n",
       "186226  2.042450e+09  BX10  \n",
       "\n",
       "[186227 rows x 26 columns]"
      ]
     },
     "execution_count": 2,
     "metadata": {},
     "output_type": "execute_result"
    }
   ],
   "source": [
    "doh = pd.read_csv('data/DOHMH_New_York_City_Restaurant_Inspection_Results.csv')\n",
    "doh"
   ]
  },
  {
   "cell_type": "code",
   "execution_count": 3,
   "metadata": {
    "ExecuteTime": {
     "end_time": "2022-04-16T16:29:10.818411Z",
     "start_time": "2022-04-16T16:29:10.601547Z"
    }
   },
   "outputs": [
    {
     "name": "stdout",
     "output_type": "stream",
     "text": [
      "<class 'pandas.core.frame.DataFrame'>\n",
      "RangeIndex: 186227 entries, 0 to 186226\n",
      "Data columns (total 26 columns):\n",
      " #   Column                 Non-Null Count   Dtype  \n",
      "---  ------                 --------------   -----  \n",
      " 0   CAMIS                  186227 non-null  int64  \n",
      " 1   DBA                    186200 non-null  object \n",
      " 2   BORO                   186227 non-null  object \n",
      " 3   BUILDING               185799 non-null  object \n",
      " 4   STREET                 186227 non-null  object \n",
      " 5   ZIPCODE                183146 non-null  float64\n",
      " 6   PHONE                  186214 non-null  object \n",
      " 7   CUISINE DESCRIPTION    186226 non-null  object \n",
      " 8   INSPECTION DATE        186227 non-null  object \n",
      " 9   ACTION                 186227 non-null  object \n",
      " 10  VIOLATION CODE         185413 non-null  object \n",
      " 11  VIOLATION DESCRIPTION  185863 non-null  object \n",
      " 12  CRITICAL FLAG          186227 non-null  object \n",
      " 13  SCORE                  186227 non-null  int64  \n",
      " 14  GRADE                  67933 non-null   object \n",
      " 15  GRADE DATE             67238 non-null   object \n",
      " 16  RECORD DATE            186227 non-null  object \n",
      " 17  INSPECTION TYPE        186227 non-null  object \n",
      " 18  Latitude               186069 non-null  float64\n",
      " 19  Longitude              186069 non-null  float64\n",
      " 20  Community Board        182624 non-null  float64\n",
      " 21  Council District       182629 non-null  float64\n",
      " 22  Census Tract           182629 non-null  float64\n",
      " 23  BIN                    181803 non-null  float64\n",
      " 24  BBL                    185705 non-null  float64\n",
      " 25  NTA                    182624 non-null  object \n",
      "dtypes: float64(8), int64(2), object(16)\n",
      "memory usage: 36.9+ MB\n"
     ]
    }
   ],
   "source": [
    "doh.info()"
   ]
  },
  {
   "cell_type": "code",
   "execution_count": 4,
   "metadata": {
    "ExecuteTime": {
     "end_time": "2022-04-16T16:29:14.171695Z",
     "start_time": "2022-04-16T16:29:14.061136Z"
    }
   },
   "outputs": [],
   "source": [
    "doh.dropna(subset=['PHONE'],inplace=True)"
   ]
  },
  {
   "cell_type": "code",
   "execution_count": 5,
   "metadata": {
    "ExecuteTime": {
     "end_time": "2022-04-16T16:29:15.144678Z",
     "start_time": "2022-04-16T16:29:14.976498Z"
    }
   },
   "outputs": [
    {
     "name": "stdout",
     "output_type": "stream",
     "text": [
      "<class 'pandas.core.frame.DataFrame'>\n",
      "Int64Index: 186214 entries, 0 to 186226\n",
      "Data columns (total 26 columns):\n",
      " #   Column                 Non-Null Count   Dtype  \n",
      "---  ------                 --------------   -----  \n",
      " 0   CAMIS                  186214 non-null  int64  \n",
      " 1   DBA                    186187 non-null  object \n",
      " 2   BORO                   186214 non-null  object \n",
      " 3   BUILDING               185786 non-null  object \n",
      " 4   STREET                 186214 non-null  object \n",
      " 5   ZIPCODE                183133 non-null  float64\n",
      " 6   PHONE                  186214 non-null  object \n",
      " 7   CUISINE DESCRIPTION    186213 non-null  object \n",
      " 8   INSPECTION DATE        186214 non-null  object \n",
      " 9   ACTION                 186214 non-null  object \n",
      " 10  VIOLATION CODE         185400 non-null  object \n",
      " 11  VIOLATION DESCRIPTION  185850 non-null  object \n",
      " 12  CRITICAL FLAG          186214 non-null  object \n",
      " 13  SCORE                  186214 non-null  int64  \n",
      " 14  GRADE                  67924 non-null   object \n",
      " 15  GRADE DATE             67229 non-null   object \n",
      " 16  RECORD DATE            186214 non-null  object \n",
      " 17  INSPECTION TYPE        186214 non-null  object \n",
      " 18  Latitude               186056 non-null  float64\n",
      " 19  Longitude              186056 non-null  float64\n",
      " 20  Community Board        182611 non-null  float64\n",
      " 21  Council District       182616 non-null  float64\n",
      " 22  Census Tract           182616 non-null  float64\n",
      " 23  BIN                    181790 non-null  float64\n",
      " 24  BBL                    185692 non-null  float64\n",
      " 25  NTA                    182611 non-null  object \n",
      "dtypes: float64(8), int64(2), object(16)\n",
      "memory usage: 38.4+ MB\n"
     ]
    }
   ],
   "source": [
    "doh.info()"
   ]
  },
  {
   "cell_type": "code",
   "execution_count": 235,
   "metadata": {
    "ExecuteTime": {
     "end_time": "2022-04-17T22:50:17.685151Z",
     "start_time": "2022-04-17T22:50:17.657362Z"
    }
   },
   "outputs": [
    {
     "data": {
      "text/plain": [
       "19790"
      ]
     },
     "execution_count": 235,
     "metadata": {},
     "output_type": "execute_result"
    }
   ],
   "source": [
    "# How many unique restaurants are in this dataset?\n",
    "doh['CAMIS'].nunique()"
   ]
  },
  {
   "cell_type": "markdown",
   "metadata": {},
   "source": [
    "Health code violations found during an inspections carries a point value, and a restaurant’s score corresponds to a letter grade. A lower point score, leads to a better letter grade:\n",
    "\n",
    "\"A\" grade: 0 to 13 points for sanitary violations\n",
    "\"B\" grade: 14 to 27 points for sanitary violations\n",
    "\"C\" grade: 28 or more points for sanitary violations"
   ]
  },
  {
   "cell_type": "code",
   "execution_count": 7,
   "metadata": {
    "ExecuteTime": {
     "end_time": "2022-04-16T16:29:26.472000Z",
     "start_time": "2022-04-16T16:29:26.456607Z"
    }
   },
   "outputs": [],
   "source": [
    "doh['A'] = doh['SCORE'] < 14\n",
    "doh['B'] = (doh['SCORE'] > 13) & (doh['SCORE'] < 28)\n",
    "doh['C'] = doh['SCORE'] > 27"
   ]
  },
  {
   "cell_type": "code",
   "execution_count": 8,
   "metadata": {
    "ExecuteTime": {
     "end_time": "2022-04-16T16:29:27.293884Z",
     "start_time": "2022-04-16T16:29:27.229306Z"
    }
   },
   "outputs": [
    {
     "data": {
      "text/html": [
       "<div>\n",
       "<style scoped>\n",
       "    .dataframe tbody tr th:only-of-type {\n",
       "        vertical-align: middle;\n",
       "    }\n",
       "\n",
       "    .dataframe tbody tr th {\n",
       "        vertical-align: top;\n",
       "    }\n",
       "\n",
       "    .dataframe thead th {\n",
       "        text-align: right;\n",
       "    }\n",
       "</style>\n",
       "<table border=\"1\" class=\"dataframe\">\n",
       "  <thead>\n",
       "    <tr style=\"text-align: right;\">\n",
       "      <th></th>\n",
       "      <th>CAMIS</th>\n",
       "      <th>DBA</th>\n",
       "      <th>BORO</th>\n",
       "      <th>BUILDING</th>\n",
       "      <th>STREET</th>\n",
       "      <th>ZIPCODE</th>\n",
       "      <th>PHONE</th>\n",
       "      <th>CUISINE DESCRIPTION</th>\n",
       "      <th>INSPECTION DATE</th>\n",
       "      <th>ACTION</th>\n",
       "      <th>VIOLATION CODE</th>\n",
       "      <th>VIOLATION DESCRIPTION</th>\n",
       "      <th>CRITICAL FLAG</th>\n",
       "      <th>SCORE</th>\n",
       "      <th>GRADE</th>\n",
       "      <th>GRADE DATE</th>\n",
       "      <th>RECORD DATE</th>\n",
       "      <th>INSPECTION TYPE</th>\n",
       "      <th>Latitude</th>\n",
       "      <th>Longitude</th>\n",
       "      <th>Community Board</th>\n",
       "      <th>Council District</th>\n",
       "      <th>Census Tract</th>\n",
       "      <th>BIN</th>\n",
       "      <th>BBL</th>\n",
       "      <th>NTA</th>\n",
       "      <th>A</th>\n",
       "      <th>B</th>\n",
       "      <th>C</th>\n",
       "    </tr>\n",
       "  </thead>\n",
       "  <tbody>\n",
       "    <tr>\n",
       "      <th>0</th>\n",
       "      <td>50008319</td>\n",
       "      <td>POULETTE</td>\n",
       "      <td>Manhattan</td>\n",
       "      <td>790</td>\n",
       "      <td>9 AVENUE</td>\n",
       "      <td>10019.0</td>\n",
       "      <td>2129569488</td>\n",
       "      <td>Chicken</td>\n",
       "      <td>01/28/2019</td>\n",
       "      <td>Violations were cited in the following area(s).</td>\n",
       "      <td>04D</td>\n",
       "      <td>Food worker does not wash hands thoroughly after using the toilet, coughing, sneezing, smoking, ...</td>\n",
       "      <td>Critical</td>\n",
       "      <td>22</td>\n",
       "      <td>NaN</td>\n",
       "      <td>NaN</td>\n",
       "      <td>03/24/2022</td>\n",
       "      <td>Cycle Inspection / Initial Inspection</td>\n",
       "      <td>40.765040</td>\n",
       "      <td>-73.987795</td>\n",
       "      <td>104.0</td>\n",
       "      <td>3.0</td>\n",
       "      <td>13300.0</td>\n",
       "      <td>1025235.0</td>\n",
       "      <td>1.010430e+09</td>\n",
       "      <td>MN15</td>\n",
       "      <td>False</td>\n",
       "      <td>True</td>\n",
       "      <td>False</td>\n",
       "    </tr>\n",
       "    <tr>\n",
       "      <th>1</th>\n",
       "      <td>41678734</td>\n",
       "      <td>TINY'S DINER</td>\n",
       "      <td>Bronx</td>\n",
       "      <td>3603</td>\n",
       "      <td>RIVERDALE AVENUE</td>\n",
       "      <td>10463.0</td>\n",
       "      <td>7187087600</td>\n",
       "      <td>American</td>\n",
       "      <td>09/23/2019</td>\n",
       "      <td>Violations were cited in the following area(s).</td>\n",
       "      <td>04M</td>\n",
       "      <td>Live roaches present in facility's food and/or non-food areas.</td>\n",
       "      <td>Critical</td>\n",
       "      <td>24</td>\n",
       "      <td>NaN</td>\n",
       "      <td>NaN</td>\n",
       "      <td>03/24/2022</td>\n",
       "      <td>Cycle Inspection / Initial Inspection</td>\n",
       "      <td>40.886691</td>\n",
       "      <td>-73.907056</td>\n",
       "      <td>208.0</td>\n",
       "      <td>11.0</td>\n",
       "      <td>29500.0</td>\n",
       "      <td>2084186.0</td>\n",
       "      <td>2.057960e+09</td>\n",
       "      <td>BX29</td>\n",
       "      <td>False</td>\n",
       "      <td>True</td>\n",
       "      <td>False</td>\n",
       "    </tr>\n",
       "    <tr>\n",
       "      <th>2</th>\n",
       "      <td>40795021</td>\n",
       "      <td>TAO RESTAURANT</td>\n",
       "      <td>Manhattan</td>\n",
       "      <td>42</td>\n",
       "      <td>EAST   58 STREET</td>\n",
       "      <td>10022.0</td>\n",
       "      <td>2128882288</td>\n",
       "      <td>Asian/Asian Fusion</td>\n",
       "      <td>03/11/2020</td>\n",
       "      <td>Violations were cited in the following area(s).</td>\n",
       "      <td>10F</td>\n",
       "      <td>Non-food contact surface improperly constructed. Unacceptable material used. Non-food contact su...</td>\n",
       "      <td>Not Critical</td>\n",
       "      <td>9</td>\n",
       "      <td>NaN</td>\n",
       "      <td>NaN</td>\n",
       "      <td>03/24/2022</td>\n",
       "      <td>Cycle Inspection / Initial Inspection</td>\n",
       "      <td>40.762786</td>\n",
       "      <td>-73.971486</td>\n",
       "      <td>105.0</td>\n",
       "      <td>4.0</td>\n",
       "      <td>11202.0</td>\n",
       "      <td>1036073.0</td>\n",
       "      <td>1.012930e+09</td>\n",
       "      <td>MN17</td>\n",
       "      <td>True</td>\n",
       "      <td>False</td>\n",
       "      <td>False</td>\n",
       "    </tr>\n",
       "    <tr>\n",
       "      <th>3</th>\n",
       "      <td>40795021</td>\n",
       "      <td>TAO RESTAURANT</td>\n",
       "      <td>Manhattan</td>\n",
       "      <td>42</td>\n",
       "      <td>EAST   58 STREET</td>\n",
       "      <td>10022.0</td>\n",
       "      <td>2128882288</td>\n",
       "      <td>Asian/Asian Fusion</td>\n",
       "      <td>03/11/2020</td>\n",
       "      <td>Violations were cited in the following area(s).</td>\n",
       "      <td>10F</td>\n",
       "      <td>Non-food contact surface improperly constructed. Unacceptable material used. Non-food contact su...</td>\n",
       "      <td>Not Critical</td>\n",
       "      <td>9</td>\n",
       "      <td>NaN</td>\n",
       "      <td>NaN</td>\n",
       "      <td>03/24/2022</td>\n",
       "      <td>Cycle Inspection / Initial Inspection</td>\n",
       "      <td>40.762786</td>\n",
       "      <td>-73.971486</td>\n",
       "      <td>105.0</td>\n",
       "      <td>4.0</td>\n",
       "      <td>11202.0</td>\n",
       "      <td>1036073.0</td>\n",
       "      <td>1.012930e+09</td>\n",
       "      <td>MN17</td>\n",
       "      <td>True</td>\n",
       "      <td>False</td>\n",
       "      <td>False</td>\n",
       "    </tr>\n",
       "    <tr>\n",
       "      <th>4</th>\n",
       "      <td>40538234</td>\n",
       "      <td>DUNKIN',' BASKIN ROBBINS</td>\n",
       "      <td>Queens</td>\n",
       "      <td>9925</td>\n",
       "      <td>HORACE HARDING EXPRESSWAY</td>\n",
       "      <td>11368.0</td>\n",
       "      <td>7182719222</td>\n",
       "      <td>Donuts</td>\n",
       "      <td>07/29/2021</td>\n",
       "      <td>Violations were cited in the following area(s).</td>\n",
       "      <td>06E</td>\n",
       "      <td>Sanitized equipment or utensil, including in-use food dispensing utensil, improperly used or sto...</td>\n",
       "      <td>Critical</td>\n",
       "      <td>10</td>\n",
       "      <td>A</td>\n",
       "      <td>07/29/2021</td>\n",
       "      <td>03/24/2022</td>\n",
       "      <td>Cycle Inspection / Initial Inspection</td>\n",
       "      <td>40.736185</td>\n",
       "      <td>-73.858052</td>\n",
       "      <td>404.0</td>\n",
       "      <td>21.0</td>\n",
       "      <td>43702.0</td>\n",
       "      <td>4047915.0</td>\n",
       "      <td>4.019480e+09</td>\n",
       "      <td>QN25</td>\n",
       "      <td>True</td>\n",
       "      <td>False</td>\n",
       "      <td>False</td>\n",
       "    </tr>\n",
       "    <tr>\n",
       "      <th>...</th>\n",
       "      <td>...</td>\n",
       "      <td>...</td>\n",
       "      <td>...</td>\n",
       "      <td>...</td>\n",
       "      <td>...</td>\n",
       "      <td>...</td>\n",
       "      <td>...</td>\n",
       "      <td>...</td>\n",
       "      <td>...</td>\n",
       "      <td>...</td>\n",
       "      <td>...</td>\n",
       "      <td>...</td>\n",
       "      <td>...</td>\n",
       "      <td>...</td>\n",
       "      <td>...</td>\n",
       "      <td>...</td>\n",
       "      <td>...</td>\n",
       "      <td>...</td>\n",
       "      <td>...</td>\n",
       "      <td>...</td>\n",
       "      <td>...</td>\n",
       "      <td>...</td>\n",
       "      <td>...</td>\n",
       "      <td>...</td>\n",
       "      <td>...</td>\n",
       "      <td>...</td>\n",
       "      <td>...</td>\n",
       "      <td>...</td>\n",
       "      <td>...</td>\n",
       "    </tr>\n",
       "    <tr>\n",
       "      <th>186222</th>\n",
       "      <td>41556790</td>\n",
       "      <td>FIVE GUYS FAMOUS BURGERS AND FRIES</td>\n",
       "      <td>Manhattan</td>\n",
       "      <td>2847</td>\n",
       "      <td>BROADFWAY</td>\n",
       "      <td>NaN</td>\n",
       "      <td>2126787701</td>\n",
       "      <td>Hamburgers</td>\n",
       "      <td>03/01/2019</td>\n",
       "      <td>Violations were cited in the following area(s).</td>\n",
       "      <td>10F</td>\n",
       "      <td>Non-food contact surface improperly constructed. Unacceptable material used. Non-food contact su...</td>\n",
       "      <td>Not Critical</td>\n",
       "      <td>3</td>\n",
       "      <td>A</td>\n",
       "      <td>03/01/2019</td>\n",
       "      <td>03/24/2022</td>\n",
       "      <td>Cycle Inspection / Initial Inspection</td>\n",
       "      <td>0.000000</td>\n",
       "      <td>0.000000</td>\n",
       "      <td>NaN</td>\n",
       "      <td>NaN</td>\n",
       "      <td>NaN</td>\n",
       "      <td>NaN</td>\n",
       "      <td>1.000000e+00</td>\n",
       "      <td>NaN</td>\n",
       "      <td>True</td>\n",
       "      <td>False</td>\n",
       "      <td>False</td>\n",
       "    </tr>\n",
       "    <tr>\n",
       "      <th>186223</th>\n",
       "      <td>50032876</td>\n",
       "      <td>TANNER SMITH'S</td>\n",
       "      <td>Manhattan</td>\n",
       "      <td>204</td>\n",
       "      <td>WEST   55 STREET</td>\n",
       "      <td>10019.0</td>\n",
       "      <td>9175172283</td>\n",
       "      <td>American</td>\n",
       "      <td>06/07/2019</td>\n",
       "      <td>Violations were cited in the following area(s).</td>\n",
       "      <td>08A</td>\n",
       "      <td>Facility not vermin proof. Harborage or conditions conducive to attracting vermin to the premise...</td>\n",
       "      <td>Not Critical</td>\n",
       "      <td>12</td>\n",
       "      <td>A</td>\n",
       "      <td>06/07/2019</td>\n",
       "      <td>03/24/2022</td>\n",
       "      <td>Cycle Inspection / Initial Inspection</td>\n",
       "      <td>40.764364</td>\n",
       "      <td>-73.981362</td>\n",
       "      <td>105.0</td>\n",
       "      <td>4.0</td>\n",
       "      <td>13700.0</td>\n",
       "      <td>1024857.0</td>\n",
       "      <td>1.010260e+09</td>\n",
       "      <td>MN17</td>\n",
       "      <td>True</td>\n",
       "      <td>False</td>\n",
       "      <td>False</td>\n",
       "    </tr>\n",
       "    <tr>\n",
       "      <th>186224</th>\n",
       "      <td>50003842</td>\n",
       "      <td>T- 45</td>\n",
       "      <td>Manhattan</td>\n",
       "      <td>135</td>\n",
       "      <td>WEST   45 STREET</td>\n",
       "      <td>10036.0</td>\n",
       "      <td>6466403775</td>\n",
       "      <td>American</td>\n",
       "      <td>07/26/2018</td>\n",
       "      <td>Violations were cited in the following area(s).</td>\n",
       "      <td>10B</td>\n",
       "      <td>Plumbing not properly installed or maintained; anti-siphonage or backflow prevention device not ...</td>\n",
       "      <td>Not Critical</td>\n",
       "      <td>49</td>\n",
       "      <td>NaN</td>\n",
       "      <td>NaN</td>\n",
       "      <td>03/24/2022</td>\n",
       "      <td>Cycle Inspection / Initial Inspection</td>\n",
       "      <td>40.757244</td>\n",
       "      <td>-73.983815</td>\n",
       "      <td>105.0</td>\n",
       "      <td>4.0</td>\n",
       "      <td>11900.0</td>\n",
       "      <td>1089796.0</td>\n",
       "      <td>1.009980e+09</td>\n",
       "      <td>MN17</td>\n",
       "      <td>False</td>\n",
       "      <td>False</td>\n",
       "      <td>True</td>\n",
       "    </tr>\n",
       "    <tr>\n",
       "      <th>186225</th>\n",
       "      <td>41640824</td>\n",
       "      <td>RICURAS ECUADORIAN BAKERY</td>\n",
       "      <td>Bronx</td>\n",
       "      <td>1576</td>\n",
       "      <td>WATSON AVENUE</td>\n",
       "      <td>10472.0</td>\n",
       "      <td>7184508363</td>\n",
       "      <td>Spanish</td>\n",
       "      <td>07/20/2018</td>\n",
       "      <td>Violations were cited in the following area(s).</td>\n",
       "      <td>06F</td>\n",
       "      <td>Wiping cloths soiled or not stored in sanitizing solution.</td>\n",
       "      <td>Critical</td>\n",
       "      <td>12</td>\n",
       "      <td>A</td>\n",
       "      <td>07/20/2018</td>\n",
       "      <td>03/24/2022</td>\n",
       "      <td>Cycle Inspection / Initial Inspection</td>\n",
       "      <td>40.826352</td>\n",
       "      <td>-73.876066</td>\n",
       "      <td>209.0</td>\n",
       "      <td>18.0</td>\n",
       "      <td>5001.0</td>\n",
       "      <td>2023533.0</td>\n",
       "      <td>2.037160e+09</td>\n",
       "      <td>BX55</td>\n",
       "      <td>True</td>\n",
       "      <td>False</td>\n",
       "      <td>False</td>\n",
       "    </tr>\n",
       "    <tr>\n",
       "      <th>186226</th>\n",
       "      <td>41450971</td>\n",
       "      <td>GIOVANNI'S RESTAURANT</td>\n",
       "      <td>Bronx</td>\n",
       "      <td>3209</td>\n",
       "      <td>WESTCHESTER AVENUE</td>\n",
       "      <td>10461.0</td>\n",
       "      <td>7188924340</td>\n",
       "      <td>Pizza</td>\n",
       "      <td>06/21/2017</td>\n",
       "      <td>Violations were cited in the following area(s).</td>\n",
       "      <td>06D</td>\n",
       "      <td>Food contact surface not properly washed, rinsed and sanitized after each use and following any ...</td>\n",
       "      <td>Critical</td>\n",
       "      <td>16</td>\n",
       "      <td>NaN</td>\n",
       "      <td>NaN</td>\n",
       "      <td>03/24/2022</td>\n",
       "      <td>Cycle Inspection / Initial Inspection</td>\n",
       "      <td>40.851761</td>\n",
       "      <td>-73.829569</td>\n",
       "      <td>210.0</td>\n",
       "      <td>13.0</td>\n",
       "      <td>30000.0</td>\n",
       "      <td>2047655.0</td>\n",
       "      <td>2.042450e+09</td>\n",
       "      <td>BX10</td>\n",
       "      <td>False</td>\n",
       "      <td>True</td>\n",
       "      <td>False</td>\n",
       "    </tr>\n",
       "  </tbody>\n",
       "</table>\n",
       "<p>186214 rows × 29 columns</p>\n",
       "</div>"
      ],
      "text/plain": [
       "           CAMIS                                 DBA       BORO BUILDING  \\\n",
       "0       50008319                            POULETTE  Manhattan      790   \n",
       "1       41678734                        TINY'S DINER      Bronx     3603   \n",
       "2       40795021                      TAO RESTAURANT  Manhattan       42   \n",
       "3       40795021                      TAO RESTAURANT  Manhattan       42   \n",
       "4       40538234            DUNKIN',' BASKIN ROBBINS     Queens     9925   \n",
       "...          ...                                 ...        ...      ...   \n",
       "186222  41556790  FIVE GUYS FAMOUS BURGERS AND FRIES  Manhattan     2847   \n",
       "186223  50032876                      TANNER SMITH'S  Manhattan      204   \n",
       "186224  50003842                               T- 45  Manhattan      135   \n",
       "186225  41640824           RICURAS ECUADORIAN BAKERY      Bronx     1576   \n",
       "186226  41450971               GIOVANNI'S RESTAURANT      Bronx     3209   \n",
       "\n",
       "                           STREET  ZIPCODE       PHONE CUISINE DESCRIPTION  \\\n",
       "0                        9 AVENUE  10019.0  2129569488             Chicken   \n",
       "1                RIVERDALE AVENUE  10463.0  7187087600            American   \n",
       "2                EAST   58 STREET  10022.0  2128882288  Asian/Asian Fusion   \n",
       "3                EAST   58 STREET  10022.0  2128882288  Asian/Asian Fusion   \n",
       "4       HORACE HARDING EXPRESSWAY  11368.0  7182719222              Donuts   \n",
       "...                           ...      ...         ...                 ...   \n",
       "186222                  BROADFWAY      NaN  2126787701          Hamburgers   \n",
       "186223           WEST   55 STREET  10019.0  9175172283            American   \n",
       "186224           WEST   45 STREET  10036.0  6466403775            American   \n",
       "186225              WATSON AVENUE  10472.0  7184508363             Spanish   \n",
       "186226         WESTCHESTER AVENUE  10461.0  7188924340               Pizza   \n",
       "\n",
       "       INSPECTION DATE                                           ACTION  \\\n",
       "0           01/28/2019  Violations were cited in the following area(s).   \n",
       "1           09/23/2019  Violations were cited in the following area(s).   \n",
       "2           03/11/2020  Violations were cited in the following area(s).   \n",
       "3           03/11/2020  Violations were cited in the following area(s).   \n",
       "4           07/29/2021  Violations were cited in the following area(s).   \n",
       "...                ...                                              ...   \n",
       "186222      03/01/2019  Violations were cited in the following area(s).   \n",
       "186223      06/07/2019  Violations were cited in the following area(s).   \n",
       "186224      07/26/2018  Violations were cited in the following area(s).   \n",
       "186225      07/20/2018  Violations were cited in the following area(s).   \n",
       "186226      06/21/2017  Violations were cited in the following area(s).   \n",
       "\n",
       "       VIOLATION CODE  \\\n",
       "0                 04D   \n",
       "1                 04M   \n",
       "2                 10F   \n",
       "3                 10F   \n",
       "4                 06E   \n",
       "...               ...   \n",
       "186222            10F   \n",
       "186223            08A   \n",
       "186224            10B   \n",
       "186225            06F   \n",
       "186226            06D   \n",
       "\n",
       "                                                                                      VIOLATION DESCRIPTION  \\\n",
       "0       Food worker does not wash hands thoroughly after using the toilet, coughing, sneezing, smoking, ...   \n",
       "1                                            Live roaches present in facility's food and/or non-food areas.   \n",
       "2       Non-food contact surface improperly constructed. Unacceptable material used. Non-food contact su...   \n",
       "3       Non-food contact surface improperly constructed. Unacceptable material used. Non-food contact su...   \n",
       "4       Sanitized equipment or utensil, including in-use food dispensing utensil, improperly used or sto...   \n",
       "...                                                                                                     ...   \n",
       "186222  Non-food contact surface improperly constructed. Unacceptable material used. Non-food contact su...   \n",
       "186223  Facility not vermin proof. Harborage or conditions conducive to attracting vermin to the premise...   \n",
       "186224  Plumbing not properly installed or maintained; anti-siphonage or backflow prevention device not ...   \n",
       "186225                                           Wiping cloths soiled or not stored in sanitizing solution.   \n",
       "186226  Food contact surface not properly washed, rinsed and sanitized after each use and following any ...   \n",
       "\n",
       "       CRITICAL FLAG  SCORE GRADE  GRADE DATE RECORD DATE  \\\n",
       "0           Critical     22   NaN         NaN  03/24/2022   \n",
       "1           Critical     24   NaN         NaN  03/24/2022   \n",
       "2       Not Critical      9   NaN         NaN  03/24/2022   \n",
       "3       Not Critical      9   NaN         NaN  03/24/2022   \n",
       "4           Critical     10     A  07/29/2021  03/24/2022   \n",
       "...              ...    ...   ...         ...         ...   \n",
       "186222  Not Critical      3     A  03/01/2019  03/24/2022   \n",
       "186223  Not Critical     12     A  06/07/2019  03/24/2022   \n",
       "186224  Not Critical     49   NaN         NaN  03/24/2022   \n",
       "186225      Critical     12     A  07/20/2018  03/24/2022   \n",
       "186226      Critical     16   NaN         NaN  03/24/2022   \n",
       "\n",
       "                              INSPECTION TYPE   Latitude  Longitude  \\\n",
       "0       Cycle Inspection / Initial Inspection  40.765040 -73.987795   \n",
       "1       Cycle Inspection / Initial Inspection  40.886691 -73.907056   \n",
       "2       Cycle Inspection / Initial Inspection  40.762786 -73.971486   \n",
       "3       Cycle Inspection / Initial Inspection  40.762786 -73.971486   \n",
       "4       Cycle Inspection / Initial Inspection  40.736185 -73.858052   \n",
       "...                                       ...        ...        ...   \n",
       "186222  Cycle Inspection / Initial Inspection   0.000000   0.000000   \n",
       "186223  Cycle Inspection / Initial Inspection  40.764364 -73.981362   \n",
       "186224  Cycle Inspection / Initial Inspection  40.757244 -73.983815   \n",
       "186225  Cycle Inspection / Initial Inspection  40.826352 -73.876066   \n",
       "186226  Cycle Inspection / Initial Inspection  40.851761 -73.829569   \n",
       "\n",
       "        Community Board  Council District  Census Tract        BIN  \\\n",
       "0                 104.0               3.0       13300.0  1025235.0   \n",
       "1                 208.0              11.0       29500.0  2084186.0   \n",
       "2                 105.0               4.0       11202.0  1036073.0   \n",
       "3                 105.0               4.0       11202.0  1036073.0   \n",
       "4                 404.0              21.0       43702.0  4047915.0   \n",
       "...                 ...               ...           ...        ...   \n",
       "186222              NaN               NaN           NaN        NaN   \n",
       "186223            105.0               4.0       13700.0  1024857.0   \n",
       "186224            105.0               4.0       11900.0  1089796.0   \n",
       "186225            209.0              18.0        5001.0  2023533.0   \n",
       "186226            210.0              13.0       30000.0  2047655.0   \n",
       "\n",
       "                 BBL   NTA      A      B      C  \n",
       "0       1.010430e+09  MN15  False   True  False  \n",
       "1       2.057960e+09  BX29  False   True  False  \n",
       "2       1.012930e+09  MN17   True  False  False  \n",
       "3       1.012930e+09  MN17   True  False  False  \n",
       "4       4.019480e+09  QN25   True  False  False  \n",
       "...              ...   ...    ...    ...    ...  \n",
       "186222  1.000000e+00   NaN   True  False  False  \n",
       "186223  1.010260e+09  MN17   True  False  False  \n",
       "186224  1.009980e+09  MN17  False  False   True  \n",
       "186225  2.037160e+09  BX55   True  False  False  \n",
       "186226  2.042450e+09  BX10  False   True  False  \n",
       "\n",
       "[186214 rows x 29 columns]"
      ]
     },
     "execution_count": 8,
     "metadata": {},
     "output_type": "execute_result"
    }
   ],
   "source": [
    "doh"
   ]
  },
  {
   "cell_type": "code",
   "execution_count": 9,
   "metadata": {
    "ExecuteTime": {
     "end_time": "2022-04-16T16:29:45.055380Z",
     "start_time": "2022-04-16T16:29:45.010468Z"
    }
   },
   "outputs": [],
   "source": [
    "doh['PHONE'] = '+1'+doh['PHONE']"
   ]
  },
  {
   "cell_type": "markdown",
   "metadata": {},
   "source": [
    "Of the 19,792 unique restaurants, 12,221 did not pass the intitial inspections at least once."
   ]
  },
  {
   "cell_type": "code",
   "execution_count": 10,
   "metadata": {
    "ExecuteTime": {
     "end_time": "2022-04-16T16:29:48.073125Z",
     "start_time": "2022-04-16T16:29:47.943585Z"
    }
   },
   "outputs": [],
   "source": [
    "doh_grades = doh.groupby(['CAMIS'])['PHONE','BORO','BUILDING','STREET','ZIPCODE',\n",
    "                                    'PHONE','CUISINE DESCRIPTION',\n",
    "                                    'Latitude','Longitude','Community Board',\n",
    "                                    'Council District','Census Tract',\n",
    "                                    'A', 'B','C'].sum()"
   ]
  },
  {
   "cell_type": "code",
   "execution_count": 11,
   "metadata": {
    "ExecuteTime": {
     "end_time": "2022-04-16T16:29:49.806585Z",
     "start_time": "2022-04-16T16:29:49.780596Z"
    }
   },
   "outputs": [
    {
     "data": {
      "text/html": [
       "<div>\n",
       "<style scoped>\n",
       "    .dataframe tbody tr th:only-of-type {\n",
       "        vertical-align: middle;\n",
       "    }\n",
       "\n",
       "    .dataframe tbody tr th {\n",
       "        vertical-align: top;\n",
       "    }\n",
       "\n",
       "    .dataframe thead th {\n",
       "        text-align: right;\n",
       "    }\n",
       "</style>\n",
       "<table border=\"1\" class=\"dataframe\">\n",
       "  <thead>\n",
       "    <tr style=\"text-align: right;\">\n",
       "      <th></th>\n",
       "      <th>ZIPCODE</th>\n",
       "      <th>Latitude</th>\n",
       "      <th>Longitude</th>\n",
       "      <th>Community Board</th>\n",
       "      <th>Council District</th>\n",
       "      <th>Census Tract</th>\n",
       "      <th>A</th>\n",
       "      <th>B</th>\n",
       "      <th>C</th>\n",
       "    </tr>\n",
       "    <tr>\n",
       "      <th>CAMIS</th>\n",
       "      <th></th>\n",
       "      <th></th>\n",
       "      <th></th>\n",
       "      <th></th>\n",
       "      <th></th>\n",
       "      <th></th>\n",
       "      <th></th>\n",
       "      <th></th>\n",
       "      <th></th>\n",
       "    </tr>\n",
       "  </thead>\n",
       "  <tbody>\n",
       "    <tr>\n",
       "      <th>30075445</th>\n",
       "      <td>83696.0</td>\n",
       "      <td>326.785850</td>\n",
       "      <td>-590.847775</td>\n",
       "      <td>1688.0</td>\n",
       "      <td>104.0</td>\n",
       "      <td>201600.0</td>\n",
       "      <td>1</td>\n",
       "      <td>7</td>\n",
       "      <td>0</td>\n",
       "    </tr>\n",
       "    <tr>\n",
       "      <th>30112340</th>\n",
       "      <td>56125.0</td>\n",
       "      <td>203.313258</td>\n",
       "      <td>-369.810407</td>\n",
       "      <td>1545.0</td>\n",
       "      <td>200.0</td>\n",
       "      <td>163500.0</td>\n",
       "      <td>5</td>\n",
       "      <td>0</td>\n",
       "      <td>0</td>\n",
       "    </tr>\n",
       "    <tr>\n",
       "      <th>30191841</th>\n",
       "      <td>50095.0</td>\n",
       "      <td>203.836629</td>\n",
       "      <td>-369.921552</td>\n",
       "      <td>520.0</td>\n",
       "      <td>15.0</td>\n",
       "      <td>69500.0</td>\n",
       "      <td>5</td>\n",
       "      <td>0</td>\n",
       "      <td>0</td>\n",
       "    </tr>\n",
       "    <tr>\n",
       "      <th>40356018</th>\n",
       "      <td>44896.0</td>\n",
       "      <td>162.319681</td>\n",
       "      <td>-295.928361</td>\n",
       "      <td>1252.0</td>\n",
       "      <td>188.0</td>\n",
       "      <td>139200.0</td>\n",
       "      <td>4</td>\n",
       "      <td>0</td>\n",
       "      <td>0</td>\n",
       "    </tr>\n",
       "    <tr>\n",
       "      <th>40356483</th>\n",
       "      <td>101106.0</td>\n",
       "      <td>365.581004</td>\n",
       "      <td>-665.162905</td>\n",
       "      <td>2862.0</td>\n",
       "      <td>414.0</td>\n",
       "      <td>630000.0</td>\n",
       "      <td>5</td>\n",
       "      <td>4</td>\n",
       "      <td>0</td>\n",
       "    </tr>\n",
       "    <tr>\n",
       "      <th>...</th>\n",
       "      <td>...</td>\n",
       "      <td>...</td>\n",
       "      <td>...</td>\n",
       "      <td>...</td>\n",
       "      <td>...</td>\n",
       "      <td>...</td>\n",
       "      <td>...</td>\n",
       "      <td>...</td>\n",
       "      <td>...</td>\n",
       "    </tr>\n",
       "    <tr>\n",
       "      <th>50115169</th>\n",
       "      <td>10002.0</td>\n",
       "      <td>40.714841</td>\n",
       "      <td>-73.991700</td>\n",
       "      <td>103.0</td>\n",
       "      <td>1.0</td>\n",
       "      <td>1600.0</td>\n",
       "      <td>1</td>\n",
       "      <td>0</td>\n",
       "      <td>0</td>\n",
       "    </tr>\n",
       "    <tr>\n",
       "      <th>50116155</th>\n",
       "      <td>33699.0</td>\n",
       "      <td>122.051758</td>\n",
       "      <td>-221.752145</td>\n",
       "      <td>948.0</td>\n",
       "      <td>123.0</td>\n",
       "      <td>111900.0</td>\n",
       "      <td>3</td>\n",
       "      <td>0</td>\n",
       "      <td>0</td>\n",
       "    </tr>\n",
       "    <tr>\n",
       "      <th>50117350</th>\n",
       "      <td>50090.0</td>\n",
       "      <td>203.762660</td>\n",
       "      <td>-369.947575</td>\n",
       "      <td>525.0</td>\n",
       "      <td>15.0</td>\n",
       "      <td>54500.0</td>\n",
       "      <td>5</td>\n",
       "      <td>0</td>\n",
       "      <td>0</td>\n",
       "    </tr>\n",
       "    <tr>\n",
       "      <th>50117434</th>\n",
       "      <td>79604.0</td>\n",
       "      <td>285.289075</td>\n",
       "      <td>-517.196049</td>\n",
       "      <td>2821.0</td>\n",
       "      <td>175.0</td>\n",
       "      <td>228900.0</td>\n",
       "      <td>0</td>\n",
       "      <td>0</td>\n",
       "      <td>7</td>\n",
       "    </tr>\n",
       "    <tr>\n",
       "      <th>50117959</th>\n",
       "      <td>30087.0</td>\n",
       "      <td>122.371566</td>\n",
       "      <td>-221.827553</td>\n",
       "      <td>333.0</td>\n",
       "      <td>24.0</td>\n",
       "      <td>51000.0</td>\n",
       "      <td>3</td>\n",
       "      <td>0</td>\n",
       "      <td>0</td>\n",
       "    </tr>\n",
       "  </tbody>\n",
       "</table>\n",
       "<p>19790 rows × 9 columns</p>\n",
       "</div>"
      ],
      "text/plain": [
       "           ZIPCODE    Latitude   Longitude  Community Board  Council District  \\\n",
       "CAMIS                                                                           \n",
       "30075445   83696.0  326.785850 -590.847775           1688.0             104.0   \n",
       "30112340   56125.0  203.313258 -369.810407           1545.0             200.0   \n",
       "30191841   50095.0  203.836629 -369.921552            520.0              15.0   \n",
       "40356018   44896.0  162.319681 -295.928361           1252.0             188.0   \n",
       "40356483  101106.0  365.581004 -665.162905           2862.0             414.0   \n",
       "...            ...         ...         ...              ...               ...   \n",
       "50115169   10002.0   40.714841  -73.991700            103.0               1.0   \n",
       "50116155   33699.0  122.051758 -221.752145            948.0             123.0   \n",
       "50117350   50090.0  203.762660 -369.947575            525.0              15.0   \n",
       "50117434   79604.0  285.289075 -517.196049           2821.0             175.0   \n",
       "50117959   30087.0  122.371566 -221.827553            333.0              24.0   \n",
       "\n",
       "          Census Tract  A  B  C  \n",
       "CAMIS                            \n",
       "30075445      201600.0  1  7  0  \n",
       "30112340      163500.0  5  0  0  \n",
       "30191841       69500.0  5  0  0  \n",
       "40356018      139200.0  4  0  0  \n",
       "40356483      630000.0  5  4  0  \n",
       "...                ... .. .. ..  \n",
       "50115169        1600.0  1  0  0  \n",
       "50116155      111900.0  3  0  0  \n",
       "50117350       54500.0  5  0  0  \n",
       "50117434      228900.0  0  0  7  \n",
       "50117959       51000.0  3  0  0  \n",
       "\n",
       "[19790 rows x 9 columns]"
      ]
     },
     "execution_count": 11,
     "metadata": {},
     "output_type": "execute_result"
    }
   ],
   "source": [
    "doh_grades"
   ]
  },
  {
   "cell_type": "code",
   "execution_count": 12,
   "metadata": {
    "ExecuteTime": {
     "end_time": "2022-04-16T16:29:51.915703Z",
     "start_time": "2022-04-16T16:29:51.890669Z"
    }
   },
   "outputs": [
    {
     "data": {
      "text/html": [
       "<div>\n",
       "<style scoped>\n",
       "    .dataframe tbody tr th:only-of-type {\n",
       "        vertical-align: middle;\n",
       "    }\n",
       "\n",
       "    .dataframe tbody tr th {\n",
       "        vertical-align: top;\n",
       "    }\n",
       "\n",
       "    .dataframe thead th {\n",
       "        text-align: right;\n",
       "    }\n",
       "</style>\n",
       "<table border=\"1\" class=\"dataframe\">\n",
       "  <thead>\n",
       "    <tr style=\"text-align: right;\">\n",
       "      <th></th>\n",
       "      <th>ZIPCODE</th>\n",
       "      <th>Latitude</th>\n",
       "      <th>Longitude</th>\n",
       "      <th>Community Board</th>\n",
       "      <th>Council District</th>\n",
       "      <th>Census Tract</th>\n",
       "      <th>A</th>\n",
       "      <th>B</th>\n",
       "      <th>C</th>\n",
       "    </tr>\n",
       "    <tr>\n",
       "      <th>CAMIS</th>\n",
       "      <th></th>\n",
       "      <th></th>\n",
       "      <th></th>\n",
       "      <th></th>\n",
       "      <th></th>\n",
       "      <th></th>\n",
       "      <th></th>\n",
       "      <th></th>\n",
       "      <th></th>\n",
       "    </tr>\n",
       "  </thead>\n",
       "  <tbody>\n",
       "    <tr>\n",
       "      <th>30075445</th>\n",
       "      <td>83696.0</td>\n",
       "      <td>326.785850</td>\n",
       "      <td>-590.847775</td>\n",
       "      <td>1688.0</td>\n",
       "      <td>104.0</td>\n",
       "      <td>201600.0</td>\n",
       "      <td>1</td>\n",
       "      <td>7</td>\n",
       "      <td>0</td>\n",
       "    </tr>\n",
       "    <tr>\n",
       "      <th>40356483</th>\n",
       "      <td>101106.0</td>\n",
       "      <td>365.581004</td>\n",
       "      <td>-665.162905</td>\n",
       "      <td>2862.0</td>\n",
       "      <td>414.0</td>\n",
       "      <td>630000.0</td>\n",
       "      <td>5</td>\n",
       "      <td>4</td>\n",
       "      <td>0</td>\n",
       "    </tr>\n",
       "    <tr>\n",
       "      <th>40362264</th>\n",
       "      <td>70175.0</td>\n",
       "      <td>285.548344</td>\n",
       "      <td>-517.773967</td>\n",
       "      <td>749.0</td>\n",
       "      <td>42.0</td>\n",
       "      <td>126700.0</td>\n",
       "      <td>3</td>\n",
       "      <td>4</td>\n",
       "      <td>0</td>\n",
       "    </tr>\n",
       "    <tr>\n",
       "      <th>40362274</th>\n",
       "      <td>70084.0</td>\n",
       "      <td>285.080205</td>\n",
       "      <td>-517.982347</td>\n",
       "      <td>714.0</td>\n",
       "      <td>7.0</td>\n",
       "      <td>38507.0</td>\n",
       "      <td>1</td>\n",
       "      <td>6</td>\n",
       "      <td>0</td>\n",
       "    </tr>\n",
       "    <tr>\n",
       "      <th>40362715</th>\n",
       "      <td>230115.0</td>\n",
       "      <td>936.235858</td>\n",
       "      <td>-1702.198016</td>\n",
       "      <td>2323.0</td>\n",
       "      <td>23.0</td>\n",
       "      <td>16100.0</td>\n",
       "      <td>7</td>\n",
       "      <td>11</td>\n",
       "      <td>5</td>\n",
       "    </tr>\n",
       "    <tr>\n",
       "      <th>...</th>\n",
       "      <td>...</td>\n",
       "      <td>...</td>\n",
       "      <td>...</td>\n",
       "      <td>...</td>\n",
       "      <td>...</td>\n",
       "      <td>...</td>\n",
       "      <td>...</td>\n",
       "      <td>...</td>\n",
       "      <td>...</td>\n",
       "    </tr>\n",
       "    <tr>\n",
       "      <th>50111805</th>\n",
       "      <td>30042.0</td>\n",
       "      <td>122.195939</td>\n",
       "      <td>-222.011203</td>\n",
       "      <td>306.0</td>\n",
       "      <td>9.0</td>\n",
       "      <td>20100.0</td>\n",
       "      <td>0</td>\n",
       "      <td>3</td>\n",
       "      <td>0</td>\n",
       "    </tr>\n",
       "    <tr>\n",
       "      <th>50113198</th>\n",
       "      <td>40008.0</td>\n",
       "      <td>162.854183</td>\n",
       "      <td>-295.984590</td>\n",
       "      <td>412.0</td>\n",
       "      <td>4.0</td>\n",
       "      <td>3200.0</td>\n",
       "      <td>0</td>\n",
       "      <td>4</td>\n",
       "      <td>0</td>\n",
       "    </tr>\n",
       "    <tr>\n",
       "      <th>50113951</th>\n",
       "      <td>41820.0</td>\n",
       "      <td>163.249463</td>\n",
       "      <td>-295.613108</td>\n",
       "      <td>808.0</td>\n",
       "      <td>32.0</td>\n",
       "      <td>33200.0</td>\n",
       "      <td>0</td>\n",
       "      <td>4</td>\n",
       "      <td>0</td>\n",
       "    </tr>\n",
       "    <tr>\n",
       "      <th>50113984</th>\n",
       "      <td>30081.0</td>\n",
       "      <td>122.429129</td>\n",
       "      <td>-221.880270</td>\n",
       "      <td>327.0</td>\n",
       "      <td>21.0</td>\n",
       "      <td>60900.0</td>\n",
       "      <td>0</td>\n",
       "      <td>3</td>\n",
       "      <td>0</td>\n",
       "    </tr>\n",
       "    <tr>\n",
       "      <th>50114370</th>\n",
       "      <td>33639.0</td>\n",
       "      <td>121.993404</td>\n",
       "      <td>-221.794553</td>\n",
       "      <td>927.0</td>\n",
       "      <td>123.0</td>\n",
       "      <td>106500.0</td>\n",
       "      <td>0</td>\n",
       "      <td>3</td>\n",
       "      <td>0</td>\n",
       "    </tr>\n",
       "  </tbody>\n",
       "</table>\n",
       "<p>9977 rows × 9 columns</p>\n",
       "</div>"
      ],
      "text/plain": [
       "           ZIPCODE    Latitude    Longitude  Community Board  \\\n",
       "CAMIS                                                          \n",
       "30075445   83696.0  326.785850  -590.847775           1688.0   \n",
       "40356483  101106.0  365.581004  -665.162905           2862.0   \n",
       "40362264   70175.0  285.548344  -517.773967            749.0   \n",
       "40362274   70084.0  285.080205  -517.982347            714.0   \n",
       "40362715  230115.0  936.235858 -1702.198016           2323.0   \n",
       "...            ...         ...          ...              ...   \n",
       "50111805   30042.0  122.195939  -222.011203            306.0   \n",
       "50113198   40008.0  162.854183  -295.984590            412.0   \n",
       "50113951   41820.0  163.249463  -295.613108            808.0   \n",
       "50113984   30081.0  122.429129  -221.880270            327.0   \n",
       "50114370   33639.0  121.993404  -221.794553            927.0   \n",
       "\n",
       "          Council District  Census Tract  A   B  C  \n",
       "CAMIS                                               \n",
       "30075445             104.0      201600.0  1   7  0  \n",
       "40356483             414.0      630000.0  5   4  0  \n",
       "40362264              42.0      126700.0  3   4  0  \n",
       "40362274               7.0       38507.0  1   6  0  \n",
       "40362715              23.0       16100.0  7  11  5  \n",
       "...                    ...           ... ..  .. ..  \n",
       "50111805               9.0       20100.0  0   3  0  \n",
       "50113198               4.0        3200.0  0   4  0  \n",
       "50113951              32.0       33200.0  0   4  0  \n",
       "50113984              21.0       60900.0  0   3  0  \n",
       "50114370             123.0      106500.0  0   3  0  \n",
       "\n",
       "[9977 rows x 9 columns]"
      ]
     },
     "execution_count": 12,
     "metadata": {},
     "output_type": "execute_result"
    }
   ],
   "source": [
    "doh_grades[doh_grades['B'] > 0]"
   ]
  },
  {
   "cell_type": "markdown",
   "metadata": {},
   "source": [
    "Of the 19,792 unique restaurants, 9,978 failed an initial cycle inspection at least once."
   ]
  },
  {
   "cell_type": "code",
   "execution_count": 13,
   "metadata": {
    "ExecuteTime": {
     "end_time": "2022-04-16T16:29:54.019613Z",
     "start_time": "2022-04-16T16:29:53.987531Z"
    }
   },
   "outputs": [
    {
     "data": {
      "text/html": [
       "<div>\n",
       "<style scoped>\n",
       "    .dataframe tbody tr th:only-of-type {\n",
       "        vertical-align: middle;\n",
       "    }\n",
       "\n",
       "    .dataframe tbody tr th {\n",
       "        vertical-align: top;\n",
       "    }\n",
       "\n",
       "    .dataframe thead th {\n",
       "        text-align: right;\n",
       "    }\n",
       "</style>\n",
       "<table border=\"1\" class=\"dataframe\">\n",
       "  <thead>\n",
       "    <tr style=\"text-align: right;\">\n",
       "      <th></th>\n",
       "      <th>ZIPCODE</th>\n",
       "      <th>Latitude</th>\n",
       "      <th>Longitude</th>\n",
       "      <th>Community Board</th>\n",
       "      <th>Council District</th>\n",
       "      <th>Census Tract</th>\n",
       "      <th>A</th>\n",
       "      <th>B</th>\n",
       "      <th>C</th>\n",
       "    </tr>\n",
       "    <tr>\n",
       "      <th>CAMIS</th>\n",
       "      <th></th>\n",
       "      <th></th>\n",
       "      <th></th>\n",
       "      <th></th>\n",
       "      <th></th>\n",
       "      <th></th>\n",
       "      <th></th>\n",
       "      <th></th>\n",
       "      <th></th>\n",
       "    </tr>\n",
       "  </thead>\n",
       "  <tbody>\n",
       "    <tr>\n",
       "      <th>40360076</th>\n",
       "      <td>112180.0</td>\n",
       "      <td>406.433297</td>\n",
       "      <td>-739.781887</td>\n",
       "      <td>3120.0</td>\n",
       "      <td>390.0</td>\n",
       "      <td>496000.0</td>\n",
       "      <td>4</td>\n",
       "      <td>0</td>\n",
       "      <td>6</td>\n",
       "    </tr>\n",
       "    <tr>\n",
       "      <th>40362715</th>\n",
       "      <td>230115.0</td>\n",
       "      <td>936.235858</td>\n",
       "      <td>-1702.198016</td>\n",
       "      <td>2323.0</td>\n",
       "      <td>23.0</td>\n",
       "      <td>16100.0</td>\n",
       "      <td>7</td>\n",
       "      <td>11</td>\n",
       "      <td>5</td>\n",
       "    </tr>\n",
       "    <tr>\n",
       "      <th>40363630</th>\n",
       "      <td>200560.0</td>\n",
       "      <td>815.505622</td>\n",
       "      <td>-1479.131518</td>\n",
       "      <td>2160.0</td>\n",
       "      <td>100.0</td>\n",
       "      <td>280000.0</td>\n",
       "      <td>2</td>\n",
       "      <td>11</td>\n",
       "      <td>7</td>\n",
       "    </tr>\n",
       "    <tr>\n",
       "      <th>40364179</th>\n",
       "      <td>190475.0</td>\n",
       "      <td>775.226054</td>\n",
       "      <td>-1405.243039</td>\n",
       "      <td>2033.0</td>\n",
       "      <td>133.0</td>\n",
       "      <td>366700.0</td>\n",
       "      <td>3</td>\n",
       "      <td>5</td>\n",
       "      <td>11</td>\n",
       "    </tr>\n",
       "    <tr>\n",
       "      <th>40364362</th>\n",
       "      <td>120228.0</td>\n",
       "      <td>489.124894</td>\n",
       "      <td>-887.733038</td>\n",
       "      <td>1260.0</td>\n",
       "      <td>48.0</td>\n",
       "      <td>124800.0</td>\n",
       "      <td>3</td>\n",
       "      <td>3</td>\n",
       "      <td>6</td>\n",
       "    </tr>\n",
       "    <tr>\n",
       "      <th>...</th>\n",
       "      <td>...</td>\n",
       "      <td>...</td>\n",
       "      <td>...</td>\n",
       "      <td>...</td>\n",
       "      <td>...</td>\n",
       "      <td>...</td>\n",
       "      <td>...</td>\n",
       "      <td>...</td>\n",
       "      <td>...</td>\n",
       "    </tr>\n",
       "    <tr>\n",
       "      <th>50110216</th>\n",
       "      <td>79604.0</td>\n",
       "      <td>285.233461</td>\n",
       "      <td>-517.186091</td>\n",
       "      <td>2828.0</td>\n",
       "      <td>147.0</td>\n",
       "      <td>188307.0</td>\n",
       "      <td>0</td>\n",
       "      <td>0</td>\n",
       "      <td>7</td>\n",
       "    </tr>\n",
       "    <tr>\n",
       "      <th>50112974</th>\n",
       "      <td>70049.0</td>\n",
       "      <td>285.004311</td>\n",
       "      <td>-518.044896</td>\n",
       "      <td>707.0</td>\n",
       "      <td>7.0</td>\n",
       "      <td>14700.0</td>\n",
       "      <td>0</td>\n",
       "      <td>0</td>\n",
       "      <td>7</td>\n",
       "    </tr>\n",
       "    <tr>\n",
       "      <th>50113139</th>\n",
       "      <td>100926.0</td>\n",
       "      <td>365.433842</td>\n",
       "      <td>-665.981428</td>\n",
       "      <td>2799.0</td>\n",
       "      <td>423.0</td>\n",
       "      <td>259200.0</td>\n",
       "      <td>0</td>\n",
       "      <td>0</td>\n",
       "      <td>9</td>\n",
       "    </tr>\n",
       "    <tr>\n",
       "      <th>50113991</th>\n",
       "      <td>60162.0</td>\n",
       "      <td>244.858259</td>\n",
       "      <td>-443.760539</td>\n",
       "      <td>654.0</td>\n",
       "      <td>42.0</td>\n",
       "      <td>121800.0</td>\n",
       "      <td>0</td>\n",
       "      <td>0</td>\n",
       "      <td>6</td>\n",
       "    </tr>\n",
       "    <tr>\n",
       "      <th>50117434</th>\n",
       "      <td>79604.0</td>\n",
       "      <td>285.289075</td>\n",
       "      <td>-517.196049</td>\n",
       "      <td>2821.0</td>\n",
       "      <td>175.0</td>\n",
       "      <td>228900.0</td>\n",
       "      <td>0</td>\n",
       "      <td>0</td>\n",
       "      <td>7</td>\n",
       "    </tr>\n",
       "  </tbody>\n",
       "</table>\n",
       "<p>5648 rows × 9 columns</p>\n",
       "</div>"
      ],
      "text/plain": [
       "           ZIPCODE    Latitude    Longitude  Community Board  \\\n",
       "CAMIS                                                          \n",
       "40360076  112180.0  406.433297  -739.781887           3120.0   \n",
       "40362715  230115.0  936.235858 -1702.198016           2323.0   \n",
       "40363630  200560.0  815.505622 -1479.131518           2160.0   \n",
       "40364179  190475.0  775.226054 -1405.243039           2033.0   \n",
       "40364362  120228.0  489.124894  -887.733038           1260.0   \n",
       "...            ...         ...          ...              ...   \n",
       "50110216   79604.0  285.233461  -517.186091           2828.0   \n",
       "50112974   70049.0  285.004311  -518.044896            707.0   \n",
       "50113139  100926.0  365.433842  -665.981428           2799.0   \n",
       "50113991   60162.0  244.858259  -443.760539            654.0   \n",
       "50117434   79604.0  285.289075  -517.196049           2821.0   \n",
       "\n",
       "          Council District  Census Tract  A   B   C  \n",
       "CAMIS                                                \n",
       "40360076             390.0      496000.0  4   0   6  \n",
       "40362715              23.0       16100.0  7  11   5  \n",
       "40363630             100.0      280000.0  2  11   7  \n",
       "40364179             133.0      366700.0  3   5  11  \n",
       "40364362              48.0      124800.0  3   3   6  \n",
       "...                    ...           ... ..  ..  ..  \n",
       "50110216             147.0      188307.0  0   0   7  \n",
       "50112974               7.0       14700.0  0   0   7  \n",
       "50113139             423.0      259200.0  0   0   9  \n",
       "50113991              42.0      121800.0  0   0   6  \n",
       "50117434             175.0      228900.0  0   0   7  \n",
       "\n",
       "[5648 rows x 9 columns]"
      ]
     },
     "execution_count": 13,
     "metadata": {},
     "output_type": "execute_result"
    }
   ],
   "source": [
    "doh_grades[doh_grades['C'] > 0]"
   ]
  },
  {
   "cell_type": "markdown",
   "metadata": {},
   "source": [
    "Of the 19,792 unique restaurants, 5,648 severly failed an initial cycle inspection at least once and are at risk of being closed by the DOHMH."
   ]
  },
  {
   "cell_type": "code",
   "execution_count": 236,
   "metadata": {
    "ExecuteTime": {
     "end_time": "2022-04-17T22:50:35.483677Z",
     "start_time": "2022-04-17T22:50:34.397486Z"
    }
   },
   "outputs": [
    {
     "data": {
      "text/plain": [
       "0"
      ]
     },
     "execution_count": 236,
     "metadata": {},
     "output_type": "execute_result"
    }
   ],
   "source": [
    "doh.duplicated().sum()"
   ]
  },
  {
   "cell_type": "code",
   "execution_count": 237,
   "metadata": {
    "ExecuteTime": {
     "end_time": "2022-04-17T22:50:40.339995Z",
     "start_time": "2022-04-17T22:50:39.801865Z"
    }
   },
   "outputs": [],
   "source": [
    "doh.drop_duplicates(inplace=True)"
   ]
  },
  {
   "cell_type": "code",
   "execution_count": 238,
   "metadata": {
    "ExecuteTime": {
     "end_time": "2022-04-17T22:50:41.308074Z",
     "start_time": "2022-04-17T22:50:41.301306Z"
    }
   },
   "outputs": [
    {
     "data": {
      "text/plain": [
       "(174712, 29)"
      ]
     },
     "execution_count": 238,
     "metadata": {},
     "output_type": "execute_result"
    }
   ],
   "source": [
    "doh.shape"
   ]
  },
  {
   "cell_type": "code",
   "execution_count": 17,
   "metadata": {
    "ExecuteTime": {
     "end_time": "2022-04-16T16:30:02.159367Z",
     "start_time": "2022-04-16T16:30:02.150237Z"
    }
   },
   "outputs": [
    {
     "data": {
      "text/plain": [
       "0"
      ]
     },
     "execution_count": 17,
     "metadata": {},
     "output_type": "execute_result"
    }
   ],
   "source": [
    "doh['SCORE'].isna().sum()"
   ]
  },
  {
   "cell_type": "code",
   "execution_count": 18,
   "metadata": {
    "ExecuteTime": {
     "end_time": "2022-04-16T16:30:04.870386Z",
     "start_time": "2022-04-16T16:30:04.274344Z"
    }
   },
   "outputs": [
    {
     "data": {
      "image/png": "[encoded data removed]",
      "text/plain": [
       "<Figure size 864x576 with 1 Axes>"
      ]
     },
     "metadata": {
      "needs_background": "light"
     },
     "output_type": "display_data"
    }
   ],
   "source": [
    "doh['SCORE'].hist(bins=113, figsize=(12,8));"
   ]
  },
  {
   "cell_type": "code",
   "execution_count": 19,
   "metadata": {
    "ExecuteTime": {
     "end_time": "2022-04-16T16:30:04.890243Z",
     "start_time": "2022-04-16T16:30:04.874510Z"
    }
   },
   "outputs": [
    {
     "data": {
      "text/plain": [
       "12     16132\n",
       "13     12559\n",
       "10      8627\n",
       "11      8408\n",
       "9       7904\n",
       "       ...  \n",
       "115        8\n",
       "109        8\n",
       "106        7\n",
       "103        7\n",
       "92         7\n",
       "Name: SCORE, Length: 113, dtype: int64"
      ]
     },
     "execution_count": 19,
     "metadata": {},
     "output_type": "execute_result"
    }
   ],
   "source": [
    "doh['SCORE'].value_counts()"
   ]
  },
  {
   "cell_type": "code",
   "execution_count": 20,
   "metadata": {
    "ExecuteTime": {
     "end_time": "2022-04-16T16:30:07.671492Z",
     "start_time": "2022-04-16T16:30:07.659542Z"
    }
   },
   "outputs": [
    {
     "data": {
      "text/plain": [
       "21.3592082970832"
      ]
     },
     "execution_count": 20,
     "metadata": {},
     "output_type": "execute_result"
    }
   ],
   "source": [
    "doh['SCORE'].mean()"
   ]
  },
  {
   "cell_type": "code",
   "execution_count": 21,
   "metadata": {
    "ExecuteTime": {
     "end_time": "2022-04-16T16:30:08.106627Z",
     "start_time": "2022-04-16T16:30:08.093954Z"
    }
   },
   "outputs": [
    {
     "data": {
      "text/plain": [
       "18.0"
      ]
     },
     "execution_count": 21,
     "metadata": {},
     "output_type": "execute_result"
    }
   ],
   "source": [
    "doh['SCORE'].median()"
   ]
  },
  {
   "cell_type": "code",
   "execution_count": 22,
   "metadata": {
    "ExecuteTime": {
     "end_time": "2022-04-16T16:30:09.669729Z",
     "start_time": "2022-04-16T16:30:09.660794Z"
    }
   },
   "outputs": [
    {
     "data": {
      "text/plain": [
       "0    12\n",
       "dtype: int64"
      ]
     },
     "execution_count": 22,
     "metadata": {},
     "output_type": "execute_result"
    }
   ],
   "source": [
    "doh['SCORE'].mode()"
   ]
  },
  {
   "cell_type": "code",
   "execution_count": 23,
   "metadata": {
    "ExecuteTime": {
     "end_time": "2022-04-16T16:30:10.324822Z",
     "start_time": "2022-04-16T16:30:10.309069Z"
    }
   },
   "outputs": [
    {
     "data": {
      "text/plain": [
       "112800"
      ]
     },
     "execution_count": 23,
     "metadata": {},
     "output_type": "execute_result"
    }
   ],
   "source": [
    "doh['GRADE'].isna().sum()"
   ]
  },
  {
   "cell_type": "code",
   "execution_count": 24,
   "metadata": {
    "ExecuteTime": {
     "end_time": "2022-04-16T16:30:11.055127Z",
     "start_time": "2022-04-16T16:30:11.028912Z"
    }
   },
   "outputs": [
    {
     "data": {
      "text/plain": [
       "A    61251\n",
       "N      650\n",
       "C        6\n",
       "Z        3\n",
       "B        2\n",
       "Name: GRADE, dtype: int64"
      ]
     },
     "execution_count": 24,
     "metadata": {},
     "output_type": "execute_result"
    }
   ],
   "source": [
    "doh['GRADE'].value_counts()"
   ]
  },
  {
   "cell_type": "code",
   "execution_count": 25,
   "metadata": {
    "ExecuteTime": {
     "end_time": "2022-04-16T16:30:13.156631Z",
     "start_time": "2022-04-16T16:30:12.991620Z"
    }
   },
   "outputs": [
    {
     "name": "stdout",
     "output_type": "stream",
     "text": [
      "<class 'pandas.core.frame.DataFrame'>\n",
      "Int64Index: 174712 entries, 0 to 186226\n",
      "Data columns (total 29 columns):\n",
      " #   Column                 Non-Null Count   Dtype  \n",
      "---  ------                 --------------   -----  \n",
      " 0   CAMIS                  174712 non-null  int64  \n",
      " 1   DBA                    174685 non-null  object \n",
      " 2   BORO                   174712 non-null  object \n",
      " 3   BUILDING               174307 non-null  object \n",
      " 4   STREET                 174712 non-null  object \n",
      " 5   ZIPCODE                171818 non-null  float64\n",
      " 6   PHONE                  174712 non-null  object \n",
      " 7   CUISINE DESCRIPTION    174711 non-null  object \n",
      " 8   INSPECTION DATE        174712 non-null  object \n",
      " 9   ACTION                 174712 non-null  object \n",
      " 10  VIOLATION CODE         173916 non-null  object \n",
      " 11  VIOLATION DESCRIPTION  174348 non-null  object \n",
      " 12  CRITICAL FLAG          174712 non-null  object \n",
      " 13  SCORE                  174712 non-null  int64  \n",
      " 14  GRADE                  61912 non-null   object \n",
      " 15  GRADE DATE             61262 non-null   object \n",
      " 16  RECORD DATE            174712 non-null  object \n",
      " 17  INSPECTION TYPE        174712 non-null  object \n",
      " 18  Latitude               174564 non-null  float64\n",
      " 19  Longitude              174564 non-null  float64\n",
      " 20  Community Board        171328 non-null  float64\n",
      " 21  Council District       171333 non-null  float64\n",
      " 22  Census Tract           171333 non-null  float64\n",
      " 23  BIN                    170560 non-null  float64\n",
      " 24  BBL                    174222 non-null  float64\n",
      " 25  NTA                    171328 non-null  object \n",
      " 26  A                      174712 non-null  bool   \n",
      " 27  B                      174712 non-null  bool   \n",
      " 28  C                      174712 non-null  bool   \n",
      "dtypes: bool(3), float64(8), int64(2), object(16)\n",
      "memory usage: 36.5+ MB\n"
     ]
    }
   ],
   "source": [
    "doh.info()"
   ]
  },
  {
   "cell_type": "code",
   "execution_count": 26,
   "metadata": {
    "ExecuteTime": {
     "end_time": "2022-04-16T16:30:16.722913Z",
     "start_time": "2022-04-16T16:30:16.521822Z"
    }
   },
   "outputs": [],
   "source": [
    "doh['INSPECTION DATE'] =  pd.to_datetime(doh['INSPECTION DATE'])"
   ]
  },
  {
   "cell_type": "code",
   "execution_count": null,
   "metadata": {
    "ExecuteTime": {
     "end_time": "2022-03-26T00:42:54.549470Z",
     "start_time": "2022-03-26T00:42:54.522854Z"
    }
   },
   "outputs": [],
   "source": [
    "# doh.pivot(columns=['CAMIS','INSPECTION DATE'],values='SCORE')"
   ]
  },
  {
   "cell_type": "code",
   "execution_count": null,
   "metadata": {},
   "outputs": [],
   "source": []
  },
  {
   "cell_type": "markdown",
   "metadata": {},
   "source": [
    "The New York Health Department inspects the approximately 27,000 restaurants within the city to monitor their compliance with food safety regulations. Inspectors observe how food is prepared, served and stored and whether restaurant workers are practicing good hygiene. They check food temperatures, equipment maintenance and pest control measures."
   ]
  },
  {
   "cell_type": "markdown",
   "metadata": {},
   "source": [
    "Calling API"
   ]
  },
  {
   "cell_type": "code",
   "execution_count": null,
   "metadata": {
    "ExecuteTime": {
     "end_time": "2022-03-23T14:15:24.838006Z",
     "start_time": "2022-03-23T14:15:23.353483Z"
    },
    "scrolled": true
   },
   "outputs": [],
   "source": [
    "# # Take a look at duplicated records\n",
    "# duplicates = df1.duplicated(subset=['camis'], keep=False)\n",
    "# df1.loc[duplicates.loc[duplicates==True].index].sort_values(by='camis')"
   ]
  },
  {
   "cell_type": "markdown",
   "metadata": {},
   "source": [
    "## Yelp API"
   ]
  },
  {
   "cell_type": "code",
   "execution_count": 2,
   "metadata": {
    "ExecuteTime": {
     "end_time": "2022-04-18T10:17:04.615583Z",
     "start_time": "2022-04-18T10:17:04.604551Z"
    }
   },
   "outputs": [],
   "source": [
    "with open('/Users/Rob/.secret/yelp_api.json') as f:\n",
    "    creds = json.load(f)"
   ]
  },
  {
   "cell_type": "code",
   "execution_count": 29,
   "metadata": {
    "ExecuteTime": {
     "end_time": "2022-04-16T16:30:53.765404Z",
     "start_time": "2022-04-16T16:30:53.757849Z"
    }
   },
   "outputs": [
    {
     "data": {
      "text/plain": [
       "dict_keys(['api_key'])"
      ]
     },
     "execution_count": 29,
     "metadata": {},
     "output_type": "execute_result"
    }
   ],
   "source": [
    "creds.keys()"
   ]
  },
  {
   "cell_type": "code",
   "execution_count": 10,
   "metadata": {
    "ExecuteTime": {
     "end_time": "2022-04-12T22:00:12.138716Z",
     "start_time": "2022-04-12T22:00:12.133805Z"
    }
   },
   "outputs": [],
   "source": [
    "#Business Search      \n",
    "# url = 'https://api.yelp.com/v3/businesses/search'\n",
    "\n",
    "#Business Match       \n",
    "# url = 'https://api.yelp.com/v3/businesses/matches'\n",
    "\n",
    "#Phone Search         \n",
    "url = 'https://api.yelp.com/v3/businesses/search/phone'\n",
    "\n",
    "#Business Details     \n",
    "# url = 'https://api.yelp.com/v3/businesses/{id}'\n",
    "\n",
    "#Business Reviews     \n",
    "# url = 'https://api.yelp.com/v3/businesses/{id}/reviews'"
   ]
  },
  {
   "cell_type": "code",
   "execution_count": null,
   "metadata": {
    "ExecuteTime": {
     "end_time": "2022-04-12T17:40:46.110231Z",
     "start_time": "2022-04-12T17:40:45.431775Z"
    }
   },
   "outputs": [],
   "source": [
    "# #Business Search  \n",
    "# headers = {\n",
    "#     'Authorization': 'Bearer ' + creds['api_key']\n",
    "#           }\n",
    "# location = 'New York NY'\n",
    "# SEARCH_LIMIT = 50\n",
    "\n",
    "# url_params = {\n",
    "#     'limit': SEARCH_LIMIT,\n",
    "#     'location' : location.replace(' ','+'),\n",
    "#     'offset': 0\n",
    "#              }\n",
    "\n",
    "\n",
    "# response = requests.get(url, headers=headers, params=url_params)\n",
    "# print(response.status_code)"
   ]
  },
  {
   "cell_type": "code",
   "execution_count": 31,
   "metadata": {
    "ExecuteTime": {
     "end_time": "2022-04-16T16:31:15.947376Z",
     "start_time": "2022-04-16T16:31:15.891598Z"
    }
   },
   "outputs": [],
   "source": [
    "phone_numbers = set(doh['PHONE'])"
   ]
  },
  {
   "cell_type": "code",
   "execution_count": 32,
   "metadata": {
    "ExecuteTime": {
     "end_time": "2022-04-16T16:31:17.768126Z",
     "start_time": "2022-04-16T16:31:17.762149Z"
    }
   },
   "outputs": [
    {
     "data": {
      "text/plain": [
       "18937"
      ]
     },
     "execution_count": 32,
     "metadata": {},
     "output_type": "execute_result"
    }
   ],
   "source": [
    "len(phone_numbers)"
   ]
  },
  {
   "cell_type": "code",
   "execution_count": 33,
   "metadata": {
    "ExecuteTime": {
     "end_time": "2022-04-16T16:31:21.897811Z",
     "start_time": "2022-04-16T16:31:21.892683Z"
    }
   },
   "outputs": [],
   "source": [
    "phone_numbers = list(phone_numbers)"
   ]
  },
  {
   "cell_type": "code",
   "execution_count": 155,
   "metadata": {
    "ExecuteTime": {
     "end_time": "2022-04-13T17:20:35.882683Z",
     "start_time": "2022-04-13T17:20:35.878245Z"
    }
   },
   "outputs": [],
   "source": [
    "phone_numbers1 = phone_numbers[1:1000]"
   ]
  },
  {
   "cell_type": "code",
   "execution_count": 199,
   "metadata": {
    "ExecuteTime": {
     "end_time": "2022-04-13T17:55:34.146965Z",
     "start_time": "2022-04-13T17:55:34.138277Z"
    }
   },
   "outputs": [],
   "source": [
    "phone_numbers2 = phone_numbers[1000:2000]"
   ]
  },
  {
   "cell_type": "code",
   "execution_count": 235,
   "metadata": {
    "ExecuteTime": {
     "end_time": "2022-04-14T02:20:00.268122Z",
     "start_time": "2022-04-14T02:20:00.258854Z"
    }
   },
   "outputs": [],
   "source": [
    "phone_numbers3 = phone_numbers[2000:2500]"
   ]
  },
  {
   "cell_type": "code",
   "execution_count": 236,
   "metadata": {
    "ExecuteTime": {
     "end_time": "2022-04-14T02:20:02.892386Z",
     "start_time": "2022-04-14T02:20:02.885842Z"
    }
   },
   "outputs": [],
   "source": [
    "phone_numbers4 = phone_numbers[2500:3500]"
   ]
  },
  {
   "cell_type": "code",
   "execution_count": 254,
   "metadata": {
    "ExecuteTime": {
     "end_time": "2022-04-14T02:25:37.278461Z",
     "start_time": "2022-04-14T02:25:37.270195Z"
    }
   },
   "outputs": [],
   "source": [
    "phone_numbers5 = phone_numbers[3500:5000]"
   ]
  },
  {
   "cell_type": "code",
   "execution_count": 298,
   "metadata": {
    "ExecuteTime": {
     "end_time": "2022-04-14T14:00:19.873400Z",
     "start_time": "2022-04-14T14:00:19.867556Z"
    }
   },
   "outputs": [],
   "source": [
    "phone_numbers6 = phone_numbers[5000:6000]"
   ]
  },
  {
   "cell_type": "code",
   "execution_count": 306,
   "metadata": {
    "ExecuteTime": {
     "end_time": "2022-04-14T14:06:29.044373Z",
     "start_time": "2022-04-14T14:06:29.033607Z"
    }
   },
   "outputs": [],
   "source": [
    "phone_numbers7 = phone_numbers[6000:7500]"
   ]
  },
  {
   "cell_type": "code",
   "execution_count": 317,
   "metadata": {
    "ExecuteTime": {
     "end_time": "2022-04-14T14:24:15.186206Z",
     "start_time": "2022-04-14T14:24:15.177173Z"
    }
   },
   "outputs": [],
   "source": [
    "phone_numbers8 = phone_numbers[7500:10000]"
   ]
  },
  {
   "cell_type": "code",
   "execution_count": 327,
   "metadata": {
    "ExecuteTime": {
     "end_time": "2022-04-15T00:53:23.113441Z",
     "start_time": "2022-04-15T00:53:23.102826Z"
    }
   },
   "outputs": [],
   "source": [
    "phone_numbers9 = phone_numbers[10000:12500]"
   ]
  },
  {
   "cell_type": "code",
   "execution_count": 34,
   "metadata": {
    "ExecuteTime": {
     "end_time": "2022-04-16T16:31:41.489503Z",
     "start_time": "2022-04-16T16:31:41.484761Z"
    }
   },
   "outputs": [],
   "source": [
    "phone_numbers10 = phone_numbers[12500:15000]"
   ]
  },
  {
   "cell_type": "code",
   "execution_count": 39,
   "metadata": {
    "ExecuteTime": {
     "end_time": "2022-04-16T16:41:31.145357Z",
     "start_time": "2022-04-16T16:41:31.140619Z"
    }
   },
   "outputs": [],
   "source": [
    "phone_numbers11 = phone_numbers[15000:17500]"
   ]
  },
  {
   "cell_type": "code",
   "execution_count": 67,
   "metadata": {
    "ExecuteTime": {
     "end_time": "2022-04-16T16:57:21.772718Z",
     "start_time": "2022-04-16T16:57:21.768590Z"
    }
   },
   "outputs": [],
   "source": [
    "phone_numbers12 = phone_numbers[17500:20000]"
   ]
  },
  {
   "cell_type": "code",
   "execution_count": 68,
   "metadata": {
    "ExecuteTime": {
     "end_time": "2022-04-16T16:57:29.852807Z",
     "start_time": "2022-04-16T16:57:29.848076Z"
    }
   },
   "outputs": [],
   "source": [
    "# Initialize empty list\n",
    "biz_list12 = []"
   ]
  },
  {
   "cell_type": "code",
   "execution_count": 103,
   "metadata": {
    "ExecuteTime": {
     "end_time": "2022-04-17T07:09:27.422249Z",
     "start_time": "2022-04-17T07:04:48.785941Z"
    }
   },
   "outputs": [],
   "source": [
    "#Phone Search \n",
    "for number in phone_numbers12:\n",
    "    url = 'https://api.yelp.com/v3/businesses/search/phone'\n",
    "    headers = {'Authorization': 'Bearer ' + creds['api_key']}\n",
    "    url_params = {'phone': number}\n",
    "    response = requests.get(url, headers=headers, params=url_params)\n",
    "    response_json = response.json()\n",
    "    biz_list12.extend(response_json.get('businesses','U'))\n",
    "    "
   ]
  },
  {
   "cell_type": "code",
   "execution_count": 104,
   "metadata": {
    "ExecuteTime": {
     "end_time": "2022-04-17T07:10:46.013133Z",
     "start_time": "2022-04-17T07:10:45.999769Z"
    }
   },
   "outputs": [],
   "source": [
    "while 'U' in biz_list12:\n",
    "    biz_list12.remove('U')"
   ]
  },
  {
   "cell_type": "code",
   "execution_count": 105,
   "metadata": {
    "ExecuteTime": {
     "end_time": "2022-04-17T07:10:49.187934Z",
     "start_time": "2022-04-17T07:10:48.862272Z"
    },
    "scrolled": true
   },
   "outputs": [
    {
     "data": {
      "text/html": [
       "<div>\n",
       "<style scoped>\n",
       "    .dataframe tbody tr th:only-of-type {\n",
       "        vertical-align: middle;\n",
       "    }\n",
       "\n",
       "    .dataframe tbody tr th {\n",
       "        vertical-align: top;\n",
       "    }\n",
       "\n",
       "    .dataframe thead th {\n",
       "        text-align: right;\n",
       "    }\n",
       "</style>\n",
       "<table border=\"1\" class=\"dataframe\">\n",
       "  <thead>\n",
       "    <tr style=\"text-align: right;\">\n",
       "      <th></th>\n",
       "      <th>id</th>\n",
       "      <th>alias</th>\n",
       "      <th>name</th>\n",
       "      <th>image_url</th>\n",
       "      <th>is_closed</th>\n",
       "      <th>url</th>\n",
       "      <th>review_count</th>\n",
       "      <th>categories</th>\n",
       "      <th>rating</th>\n",
       "      <th>coordinates</th>\n",
       "      <th>transactions</th>\n",
       "      <th>price</th>\n",
       "      <th>location</th>\n",
       "      <th>phone</th>\n",
       "      <th>display_phone</th>\n",
       "    </tr>\n",
       "  </thead>\n",
       "  <tbody>\n",
       "    <tr>\n",
       "      <th>0</th>\n",
       "      <td>SGpqzs1ZtOqGPVTfedrf8w</td>\n",
       "      <td>simons-bbq-brooklyn-2</td>\n",
       "      <td>Simon's BBQ</td>\n",
       "      <td>https://s3-media0.fl.yelpcdn.com/bphoto/wBiZZY6KZlK0D80fHROhrA/o.jpg</td>\n",
       "      <td>False</td>\n",
       "      <td>https://www.yelp.com/biz/simons-bbq-brooklyn-2?adjust_creative=82uXkAt1Tiw7u9_h33zr1A&amp;utm_campaign=yelp_api_v3&amp;utm_medium=api_v3_phone_search&amp;utm_source=82uXkAt1Tiw7u9_h33zr1A</td>\n",
       "      <td>32</td>\n",
       "      <td>[{'alias': 'bbq', 'title': 'Barbeque'}, {'alias': 'chinese', 'title': 'Chinese'}]</td>\n",
       "      <td>4.0</td>\n",
       "      <td>{'latitude': 40.6416092, 'longitude': -74.0027924}</td>\n",
       "      <td>[]</td>\n",
       "      <td>$</td>\n",
       "      <td>{'address1': '4823 8th Ave 1R', 'address2': '', 'address3': '', 'city': 'Brooklyn', 'zip_code': '11220', 'country': 'US', 'state': 'NY', 'display_address': ['4823 8th Ave 1R', 'Brooklyn, NY 11220']}</td>\n",
       "      <td>17184310688</td>\n",
       "      <td>(718) 431-0688</td>\n",
       "    </tr>\n",
       "    <tr>\n",
       "      <th>1</th>\n",
       "      <td>F-eRrDik2KK0sNjpGiNbAg</td>\n",
       "      <td>trattoria-il-gusto-wine-bar-new-york-2</td>\n",
       "      <td>Trattoria iL Gusto Wine Bar</td>\n",
       "      <td>https://s3-media0.fl.yelpcdn.com/bphoto/BSjc210htrdhV7R3LGYnHw/o.jpg</td>\n",
       "      <td>False</td>\n",
       "      <td>https://www.yelp.com/biz/trattoria-il-gusto-wine-bar-new-york-2?adjust_creative=82uXkAt1Tiw7u9_h33zr1A&amp;utm_campaign=yelp_api_v3&amp;utm_medium=api_v3_phone_search&amp;utm_source=82uXkAt1Tiw7u9_h33zr1A</td>\n",
       "      <td>73</td>\n",
       "      <td>[{'alias': 'wine_bars', 'title': 'Wine Bars'}, {'alias': 'italian', 'title': 'Italian'}, {'alias': 'desserts', 'title': 'Desserts'}]</td>\n",
       "      <td>3.5</td>\n",
       "      <td>{'latitude': 40.78923, 'longitude': -73.9698499}</td>\n",
       "      <td>['delivery', 'pickup']</td>\n",
       "      <td>$$</td>\n",
       "      <td>{'address1': '625 Columbus Ave', 'address2': '', 'address3': None, 'city': 'New York', 'zip_code': '10024', 'country': 'US', 'state': 'NY', 'display_address': ['625 Columbus Ave', 'New York, NY 10024']}</td>\n",
       "      <td>12125797970</td>\n",
       "      <td>(212) 579-7970</td>\n",
       "    </tr>\n",
       "    <tr>\n",
       "      <th>2</th>\n",
       "      <td>WVNKWxmjijbwvQrVHaPtQw</td>\n",
       "      <td>trattoria-pesce-pasta-quattro-new-york</td>\n",
       "      <td>Trattoria Pesce Pasta Quattro</td>\n",
       "      <td>https://s3-media0.fl.yelpcdn.com/bphoto/y_uAxhK6H_nxW_ny6ncXtg/o.jpg</td>\n",
       "      <td>True</td>\n",
       "      <td>https://www.yelp.com/biz/trattoria-pesce-pasta-quattro-new-york?adjust_creative=82uXkAt1Tiw7u9_h33zr1A&amp;utm_campaign=yelp_api_v3&amp;utm_medium=api_v3_phone_search&amp;utm_source=82uXkAt1Tiw7u9_h33zr1A</td>\n",
       "      <td>42</td>\n",
       "      <td>[{'alias': 'italian', 'title': 'Italian'}, {'alias': 'seafood', 'title': 'Seafood'}, {'alias': 'wine_bars', 'title': 'Wine Bars'}]</td>\n",
       "      <td>3.5</td>\n",
       "      <td>{'latitude': 40.78923, 'longitude': -73.9698499}</td>\n",
       "      <td>['delivery', 'pickup']</td>\n",
       "      <td>$$</td>\n",
       "      <td>{'address1': '625 Columbus Ave', 'address2': '', 'address3': '', 'city': 'New York', 'zip_code': '10024', 'country': 'US', 'state': 'NY', 'display_address': ['625 Columbus Ave', 'New York, NY 10024']}</td>\n",
       "      <td>12125797970</td>\n",
       "      <td>(212) 579-7970</td>\n",
       "    </tr>\n",
       "    <tr>\n",
       "      <th>3</th>\n",
       "      <td>edLi09LmjWXgL1NOCJ4qjA</td>\n",
       "      <td>bungalow-bar-rockaway-beach</td>\n",
       "      <td>Bungalow Bar</td>\n",
       "      <td>https://s3-media0.fl.yelpcdn.com/bphoto/e7zNdLKPXDzym15W6wU_iQ/o.jpg</td>\n",
       "      <td>False</td>\n",
       "      <td>https://www.yelp.com/biz/bungalow-bar-rockaway-beach?adjust_creative=82uXkAt1Tiw7u9_h33zr1A&amp;utm_campaign=yelp_api_v3&amp;utm_medium=api_v3_phone_search&amp;utm_source=82uXkAt1Tiw7u9_h33zr1A</td>\n",
       "      <td>568</td>\n",
       "      <td>[{'alias': 'tradamerican', 'title': 'American (Traditional)'}, {'alias': 'seafood', 'title': 'Seafood'}, {'alias': 'bars', 'title': 'Bars'}]</td>\n",
       "      <td>4.0</td>\n",
       "      <td>{'latitude': 40.5890639, 'longitude': -73.817172}</td>\n",
       "      <td>['pickup', 'delivery']</td>\n",
       "      <td>$$</td>\n",
       "      <td>{'address1': '377 Beach 92nd St', 'address2': '', 'address3': '', 'city': 'Rockaway Beach', 'zip_code': '11693', 'country': 'US', 'state': 'NY', 'display_address': ['377 Beach 92nd St', 'Rockaway Beach, NY 11693']}</td>\n",
       "      <td>17189452100</td>\n",
       "      <td>(718) 945-2100</td>\n",
       "    </tr>\n",
       "    <tr>\n",
       "      <th>4</th>\n",
       "      <td>hvMbN42EaHlZoHMS3degLg</td>\n",
       "      <td>sweet-talk-brooklyn</td>\n",
       "      <td>Sweet Talk</td>\n",
       "      <td>https://s3-media0.fl.yelpcdn.com/bphoto/6aXGfu845w3VNjEvQpYTUw/o.jpg</td>\n",
       "      <td>False</td>\n",
       "      <td>https://www.yelp.com/biz/sweet-talk-brooklyn?adjust_creative=82uXkAt1Tiw7u9_h33zr1A&amp;utm_campaign=yelp_api_v3&amp;utm_medium=api_v3_phone_search&amp;utm_source=82uXkAt1Tiw7u9_h33zr1A</td>\n",
       "      <td>262</td>\n",
       "      <td>[{'alias': 'cocktailbars', 'title': 'Cocktail Bars'}, {'alias': 'hawaiian', 'title': 'Hawaiian'}, {'alias': 'tacos', 'title': 'Tacos'}]</td>\n",
       "      <td>4.0</td>\n",
       "      <td>{'latitude': 40.6712112426758, 'longitude': -73.9909439086914}</td>\n",
       "      <td>['delivery', 'pickup']</td>\n",
       "      <td>$$</td>\n",
       "      <td>{'address1': '457 3rd Ave', 'address2': '', 'address3': '', 'city': 'Brooklyn', 'zip_code': '11215', 'country': 'US', 'state': 'NY', 'display_address': ['457 3rd Ave', 'Brooklyn, NY 11215']}</td>\n",
       "      <td>17184993400</td>\n",
       "      <td>(718) 499-3400</td>\n",
       "    </tr>\n",
       "    <tr>\n",
       "      <th>...</th>\n",
       "      <td>...</td>\n",
       "      <td>...</td>\n",
       "      <td>...</td>\n",
       "      <td>...</td>\n",
       "      <td>...</td>\n",
       "      <td>...</td>\n",
       "      <td>...</td>\n",
       "      <td>...</td>\n",
       "      <td>...</td>\n",
       "      <td>...</td>\n",
       "      <td>...</td>\n",
       "      <td>...</td>\n",
       "      <td>...</td>\n",
       "      <td>...</td>\n",
       "      <td>...</td>\n",
       "    </tr>\n",
       "    <tr>\n",
       "      <th>2134</th>\n",
       "      <td>osnb51lPIHxUKRlcg7idwA</td>\n",
       "      <td>kathys-dumplings-brooklyn</td>\n",
       "      <td>Kathy's Dumplings</td>\n",
       "      <td>https://s3-media0.fl.yelpcdn.com/bphoto/4PHqX5uxThKNvLcD0DZqrw/o.jpg</td>\n",
       "      <td>False</td>\n",
       "      <td>https://www.yelp.com/biz/kathys-dumplings-brooklyn?adjust_creative=82uXkAt1Tiw7u9_h33zr1A&amp;utm_campaign=yelp_api_v3&amp;utm_medium=api_v3_phone_search&amp;utm_source=82uXkAt1Tiw7u9_h33zr1A</td>\n",
       "      <td>231</td>\n",
       "      <td>[{'alias': 'chinese', 'title': 'Chinese'}]</td>\n",
       "      <td>4.0</td>\n",
       "      <td>{'latitude': 40.6279735, 'longitude': -74.0293625}</td>\n",
       "      <td>['pickup', 'delivery']</td>\n",
       "      <td>$</td>\n",
       "      <td>{'address1': '7924 3rd Ave', 'address2': '', 'address3': '', 'city': 'Brooklyn', 'zip_code': '11209', 'country': 'US', 'state': 'NY', 'display_address': ['7924 3rd Ave', 'Brooklyn, NY 11209']}</td>\n",
       "      <td>17188337000</td>\n",
       "      <td>(718) 833-7000</td>\n",
       "    </tr>\n",
       "    <tr>\n",
       "      <th>2135</th>\n",
       "      <td>SkYcO8FaqYgoP-66g58OMw</td>\n",
       "      <td>thai-pot-forest-hills</td>\n",
       "      <td>Thai Pot</td>\n",
       "      <td>https://s3-media0.fl.yelpcdn.com/bphoto/Qu_oE3bTpWt-pJw8r4LXxw/o.jpg</td>\n",
       "      <td>False</td>\n",
       "      <td>https://www.yelp.com/biz/thai-pot-forest-hills?adjust_creative=82uXkAt1Tiw7u9_h33zr1A&amp;utm_campaign=yelp_api_v3&amp;utm_medium=api_v3_phone_search&amp;utm_source=82uXkAt1Tiw7u9_h33zr1A</td>\n",
       "      <td>258</td>\n",
       "      <td>[{'alias': 'thai', 'title': 'Thai'}]</td>\n",
       "      <td>3.0</td>\n",
       "      <td>{'latitude': 40.7247545048924, 'longitude': -73.8498401641846}</td>\n",
       "      <td>['delivery', 'pickup']</td>\n",
       "      <td>$$</td>\n",
       "      <td>{'address1': '103-07 Queens Blvd', 'address2': '', 'address3': '', 'city': 'Forest Hills', 'zip_code': '11375', 'country': 'US', 'state': 'NY', 'display_address': ['103-07 Queens Blvd', 'Forest Hills, NY 11375']}</td>\n",
       "      <td>17188973898</td>\n",
       "      <td>(718) 897-3898</td>\n",
       "    </tr>\n",
       "    <tr>\n",
       "      <th>2136</th>\n",
       "      <td>nt-B5XlmTJlQsDqoiL7UKA</td>\n",
       "      <td>chang-pai-jamaica</td>\n",
       "      <td>Chang Pai</td>\n",
       "      <td>https://s3-media0.fl.yelpcdn.com/bphoto/KAR293sfF0SDEHYpjT9cHQ/o.jpg</td>\n",
       "      <td>False</td>\n",
       "      <td>https://www.yelp.com/biz/chang-pai-jamaica?adjust_creative=82uXkAt1Tiw7u9_h33zr1A&amp;utm_campaign=yelp_api_v3&amp;utm_medium=api_v3_phone_search&amp;utm_source=82uXkAt1Tiw7u9_h33zr1A</td>\n",
       "      <td>70</td>\n",
       "      <td>[{'alias': 'thai', 'title': 'Thai'}, {'alias': 'chinese', 'title': 'Chinese'}]</td>\n",
       "      <td>2.0</td>\n",
       "      <td>{'latitude': 40.7094307, 'longitude': -73.7955093}</td>\n",
       "      <td>['delivery', 'pickup']</td>\n",
       "      <td>$$</td>\n",
       "      <td>{'address1': '166-12 Hillside Ave', 'address2': '', 'address3': '', 'city': 'Jamaica', 'zip_code': '11432', 'country': 'US', 'state': 'NY', 'display_address': ['166-12 Hillside Ave', 'Jamaica, NY 11432']}</td>\n",
       "      <td>17182918222</td>\n",
       "      <td>(718) 291-8222</td>\n",
       "    </tr>\n",
       "    <tr>\n",
       "      <th>2137</th>\n",
       "      <td>E-_NtEsnwxrMfqb5_vIW3Q</td>\n",
       "      <td>starbucks-los-angeles-193</td>\n",
       "      <td>Starbucks</td>\n",
       "      <td>https://s3-media0.fl.yelpcdn.com/bphoto/V5NGsaUdyns0Jm_aPGFMSw/o.jpg</td>\n",
       "      <td>True</td>\n",
       "      <td>https://www.yelp.com/biz/starbucks-los-angeles-193?adjust_creative=82uXkAt1Tiw7u9_h33zr1A&amp;utm_campaign=yelp_api_v3&amp;utm_medium=api_v3_phone_search&amp;utm_source=82uXkAt1Tiw7u9_h33zr1A</td>\n",
       "      <td>1</td>\n",
       "      <td>[{'alias': 'coffee', 'title': 'Coffee &amp; Tea'}]</td>\n",
       "      <td>1.0</td>\n",
       "      <td>{'latitude': 33.986341, 'longitude': -118.32644}</td>\n",
       "      <td>[]</td>\n",
       "      <td>$</td>\n",
       "      <td>{'address1': '871 8th Ave', 'address2': '', 'address3': '', 'city': 'Los Angeles', 'zip_code': '90019', 'country': 'US', 'state': 'CA', 'display_address': ['871 8th Ave', 'Los Angeles, CA 90019']}</td>\n",
       "      <td>12122467699</td>\n",
       "      <td>(212) 246-7699</td>\n",
       "    </tr>\n",
       "    <tr>\n",
       "      <th>2138</th>\n",
       "      <td>pJPQ1N5PRti_ab--mXL5Tw</td>\n",
       "      <td>starbucks-new-york-310</td>\n",
       "      <td>Starbucks</td>\n",
       "      <td>https://s3-media0.fl.yelpcdn.com/bphoto/_hzEpvNsjC_OgLk9VGN47A/o.jpg</td>\n",
       "      <td>False</td>\n",
       "      <td>https://www.yelp.com/biz/starbucks-new-york-310?adjust_creative=82uXkAt1Tiw7u9_h33zr1A&amp;utm_campaign=yelp_api_v3&amp;utm_medium=api_v3_phone_search&amp;utm_source=82uXkAt1Tiw7u9_h33zr1A</td>\n",
       "      <td>61</td>\n",
       "      <td>[{'alias': 'coffee', 'title': 'Coffee &amp; Tea'}]</td>\n",
       "      <td>2.5</td>\n",
       "      <td>{'latitude': 40.763714, 'longitude': -73.985313}</td>\n",
       "      <td>[]</td>\n",
       "      <td>$$</td>\n",
       "      <td>{'address1': '871 8th Ave', 'address2': '', 'address3': '', 'city': 'New York', 'zip_code': '10019', 'country': 'US', 'state': 'NY', 'display_address': ['871 8th Ave', 'New York, NY 10019']}</td>\n",
       "      <td>12122467699</td>\n",
       "      <td>(212) 246-7699</td>\n",
       "    </tr>\n",
       "  </tbody>\n",
       "</table>\n",
       "<p>2139 rows × 15 columns</p>\n",
       "</div>"
      ],
      "text/plain": [
       "                          id                                   alias  \\\n",
       "0     SGpqzs1ZtOqGPVTfedrf8w                   simons-bbq-brooklyn-2   \n",
       "1     F-eRrDik2KK0sNjpGiNbAg  trattoria-il-gusto-wine-bar-new-york-2   \n",
       "2     WVNKWxmjijbwvQrVHaPtQw  trattoria-pesce-pasta-quattro-new-york   \n",
       "3     edLi09LmjWXgL1NOCJ4qjA             bungalow-bar-rockaway-beach   \n",
       "4     hvMbN42EaHlZoHMS3degLg                     sweet-talk-brooklyn   \n",
       "...                      ...                                     ...   \n",
       "2134  osnb51lPIHxUKRlcg7idwA               kathys-dumplings-brooklyn   \n",
       "2135  SkYcO8FaqYgoP-66g58OMw                   thai-pot-forest-hills   \n",
       "2136  nt-B5XlmTJlQsDqoiL7UKA                       chang-pai-jamaica   \n",
       "2137  E-_NtEsnwxrMfqb5_vIW3Q               starbucks-los-angeles-193   \n",
       "2138  pJPQ1N5PRti_ab--mXL5Tw                  starbucks-new-york-310   \n",
       "\n",
       "                               name  \\\n",
       "0                       Simon's BBQ   \n",
       "1       Trattoria iL Gusto Wine Bar   \n",
       "2     Trattoria Pesce Pasta Quattro   \n",
       "3                      Bungalow Bar   \n",
       "4                        Sweet Talk   \n",
       "...                             ...   \n",
       "2134              Kathy's Dumplings   \n",
       "2135                       Thai Pot   \n",
       "2136                      Chang Pai   \n",
       "2137                      Starbucks   \n",
       "2138                      Starbucks   \n",
       "\n",
       "                                                                 image_url  \\\n",
       "0     https://s3-media0.fl.yelpcdn.com/bphoto/wBiZZY6KZlK0D80fHROhrA/o.jpg   \n",
       "1     https://s3-media0.fl.yelpcdn.com/bphoto/BSjc210htrdhV7R3LGYnHw/o.jpg   \n",
       "2     https://s3-media0.fl.yelpcdn.com/bphoto/y_uAxhK6H_nxW_ny6ncXtg/o.jpg   \n",
       "3     https://s3-media0.fl.yelpcdn.com/bphoto/e7zNdLKPXDzym15W6wU_iQ/o.jpg   \n",
       "4     https://s3-media0.fl.yelpcdn.com/bphoto/6aXGfu845w3VNjEvQpYTUw/o.jpg   \n",
       "...                                                                    ...   \n",
       "2134  https://s3-media0.fl.yelpcdn.com/bphoto/4PHqX5uxThKNvLcD0DZqrw/o.jpg   \n",
       "2135  https://s3-media0.fl.yelpcdn.com/bphoto/Qu_oE3bTpWt-pJw8r4LXxw/o.jpg   \n",
       "2136  https://s3-media0.fl.yelpcdn.com/bphoto/KAR293sfF0SDEHYpjT9cHQ/o.jpg   \n",
       "2137  https://s3-media0.fl.yelpcdn.com/bphoto/V5NGsaUdyns0Jm_aPGFMSw/o.jpg   \n",
       "2138  https://s3-media0.fl.yelpcdn.com/bphoto/_hzEpvNsjC_OgLk9VGN47A/o.jpg   \n",
       "\n",
       "      is_closed  \\\n",
       "0         False   \n",
       "1         False   \n",
       "2          True   \n",
       "3         False   \n",
       "4         False   \n",
       "...         ...   \n",
       "2134      False   \n",
       "2135      False   \n",
       "2136      False   \n",
       "2137       True   \n",
       "2138      False   \n",
       "\n",
       "                                                                                                                                                                                                   url  \\\n",
       "0                      https://www.yelp.com/biz/simons-bbq-brooklyn-2?adjust_creative=82uXkAt1Tiw7u9_h33zr1A&utm_campaign=yelp_api_v3&utm_medium=api_v3_phone_search&utm_source=82uXkAt1Tiw7u9_h33zr1A   \n",
       "1     https://www.yelp.com/biz/trattoria-il-gusto-wine-bar-new-york-2?adjust_creative=82uXkAt1Tiw7u9_h33zr1A&utm_campaign=yelp_api_v3&utm_medium=api_v3_phone_search&utm_source=82uXkAt1Tiw7u9_h33zr1A   \n",
       "2     https://www.yelp.com/biz/trattoria-pesce-pasta-quattro-new-york?adjust_creative=82uXkAt1Tiw7u9_h33zr1A&utm_campaign=yelp_api_v3&utm_medium=api_v3_phone_search&utm_source=82uXkAt1Tiw7u9_h33zr1A   \n",
       "3                https://www.yelp.com/biz/bungalow-bar-rockaway-beach?adjust_creative=82uXkAt1Tiw7u9_h33zr1A&utm_campaign=yelp_api_v3&utm_medium=api_v3_phone_search&utm_source=82uXkAt1Tiw7u9_h33zr1A   \n",
       "4                        https://www.yelp.com/biz/sweet-talk-brooklyn?adjust_creative=82uXkAt1Tiw7u9_h33zr1A&utm_campaign=yelp_api_v3&utm_medium=api_v3_phone_search&utm_source=82uXkAt1Tiw7u9_h33zr1A   \n",
       "...                                                                                                                                                                                                ...   \n",
       "2134               https://www.yelp.com/biz/kathys-dumplings-brooklyn?adjust_creative=82uXkAt1Tiw7u9_h33zr1A&utm_campaign=yelp_api_v3&utm_medium=api_v3_phone_search&utm_source=82uXkAt1Tiw7u9_h33zr1A   \n",
       "2135                   https://www.yelp.com/biz/thai-pot-forest-hills?adjust_creative=82uXkAt1Tiw7u9_h33zr1A&utm_campaign=yelp_api_v3&utm_medium=api_v3_phone_search&utm_source=82uXkAt1Tiw7u9_h33zr1A   \n",
       "2136                       https://www.yelp.com/biz/chang-pai-jamaica?adjust_creative=82uXkAt1Tiw7u9_h33zr1A&utm_campaign=yelp_api_v3&utm_medium=api_v3_phone_search&utm_source=82uXkAt1Tiw7u9_h33zr1A   \n",
       "2137               https://www.yelp.com/biz/starbucks-los-angeles-193?adjust_creative=82uXkAt1Tiw7u9_h33zr1A&utm_campaign=yelp_api_v3&utm_medium=api_v3_phone_search&utm_source=82uXkAt1Tiw7u9_h33zr1A   \n",
       "2138                  https://www.yelp.com/biz/starbucks-new-york-310?adjust_creative=82uXkAt1Tiw7u9_h33zr1A&utm_campaign=yelp_api_v3&utm_medium=api_v3_phone_search&utm_source=82uXkAt1Tiw7u9_h33zr1A   \n",
       "\n",
       "      review_count  \\\n",
       "0               32   \n",
       "1               73   \n",
       "2               42   \n",
       "3              568   \n",
       "4              262   \n",
       "...            ...   \n",
       "2134           231   \n",
       "2135           258   \n",
       "2136            70   \n",
       "2137             1   \n",
       "2138            61   \n",
       "\n",
       "                                                                                                                                        categories  \\\n",
       "0                                                                [{'alias': 'bbq', 'title': 'Barbeque'}, {'alias': 'chinese', 'title': 'Chinese'}]   \n",
       "1             [{'alias': 'wine_bars', 'title': 'Wine Bars'}, {'alias': 'italian', 'title': 'Italian'}, {'alias': 'desserts', 'title': 'Desserts'}]   \n",
       "2               [{'alias': 'italian', 'title': 'Italian'}, {'alias': 'seafood', 'title': 'Seafood'}, {'alias': 'wine_bars', 'title': 'Wine Bars'}]   \n",
       "3     [{'alias': 'tradamerican', 'title': 'American (Traditional)'}, {'alias': 'seafood', 'title': 'Seafood'}, {'alias': 'bars', 'title': 'Bars'}]   \n",
       "4          [{'alias': 'cocktailbars', 'title': 'Cocktail Bars'}, {'alias': 'hawaiian', 'title': 'Hawaiian'}, {'alias': 'tacos', 'title': 'Tacos'}]   \n",
       "...                                                                                                                                            ...   \n",
       "2134                                                                                                    [{'alias': 'chinese', 'title': 'Chinese'}]   \n",
       "2135                                                                                                          [{'alias': 'thai', 'title': 'Thai'}]   \n",
       "2136                                                                [{'alias': 'thai', 'title': 'Thai'}, {'alias': 'chinese', 'title': 'Chinese'}]   \n",
       "2137                                                                                                [{'alias': 'coffee', 'title': 'Coffee & Tea'}]   \n",
       "2138                                                                                                [{'alias': 'coffee', 'title': 'Coffee & Tea'}]   \n",
       "\n",
       "      rating                                                     coordinates  \\\n",
       "0        4.0              {'latitude': 40.6416092, 'longitude': -74.0027924}   \n",
       "1        3.5                {'latitude': 40.78923, 'longitude': -73.9698499}   \n",
       "2        3.5                {'latitude': 40.78923, 'longitude': -73.9698499}   \n",
       "3        4.0               {'latitude': 40.5890639, 'longitude': -73.817172}   \n",
       "4        4.0  {'latitude': 40.6712112426758, 'longitude': -73.9909439086914}   \n",
       "...      ...                                                             ...   \n",
       "2134     4.0              {'latitude': 40.6279735, 'longitude': -74.0293625}   \n",
       "2135     3.0  {'latitude': 40.7247545048924, 'longitude': -73.8498401641846}   \n",
       "2136     2.0              {'latitude': 40.7094307, 'longitude': -73.7955093}   \n",
       "2137     1.0                {'latitude': 33.986341, 'longitude': -118.32644}   \n",
       "2138     2.5                {'latitude': 40.763714, 'longitude': -73.985313}   \n",
       "\n",
       "                transactions price  \\\n",
       "0                         []     $   \n",
       "1     ['delivery', 'pickup']    $$   \n",
       "2     ['delivery', 'pickup']    $$   \n",
       "3     ['pickup', 'delivery']    $$   \n",
       "4     ['delivery', 'pickup']    $$   \n",
       "...                      ...   ...   \n",
       "2134  ['pickup', 'delivery']     $   \n",
       "2135  ['delivery', 'pickup']    $$   \n",
       "2136  ['delivery', 'pickup']    $$   \n",
       "2137                      []     $   \n",
       "2138                      []    $$   \n",
       "\n",
       "                                                                                                                                                                                                                    location  \\\n",
       "0                     {'address1': '4823 8th Ave 1R', 'address2': '', 'address3': '', 'city': 'Brooklyn', 'zip_code': '11220', 'country': 'US', 'state': 'NY', 'display_address': ['4823 8th Ave 1R', 'Brooklyn, NY 11220']}   \n",
       "1                 {'address1': '625 Columbus Ave', 'address2': '', 'address3': None, 'city': 'New York', 'zip_code': '10024', 'country': 'US', 'state': 'NY', 'display_address': ['625 Columbus Ave', 'New York, NY 10024']}   \n",
       "2                   {'address1': '625 Columbus Ave', 'address2': '', 'address3': '', 'city': 'New York', 'zip_code': '10024', 'country': 'US', 'state': 'NY', 'display_address': ['625 Columbus Ave', 'New York, NY 10024']}   \n",
       "3     {'address1': '377 Beach 92nd St', 'address2': '', 'address3': '', 'city': 'Rockaway Beach', 'zip_code': '11693', 'country': 'US', 'state': 'NY', 'display_address': ['377 Beach 92nd St', 'Rockaway Beach, NY 11693']}   \n",
       "4                             {'address1': '457 3rd Ave', 'address2': '', 'address3': '', 'city': 'Brooklyn', 'zip_code': '11215', 'country': 'US', 'state': 'NY', 'display_address': ['457 3rd Ave', 'Brooklyn, NY 11215']}   \n",
       "...                                                                                                                                                                                                                      ...   \n",
       "2134                        {'address1': '7924 3rd Ave', 'address2': '', 'address3': '', 'city': 'Brooklyn', 'zip_code': '11209', 'country': 'US', 'state': 'NY', 'display_address': ['7924 3rd Ave', 'Brooklyn, NY 11209']}   \n",
       "2135    {'address1': '103-07 Queens Blvd', 'address2': '', 'address3': '', 'city': 'Forest Hills', 'zip_code': '11375', 'country': 'US', 'state': 'NY', 'display_address': ['103-07 Queens Blvd', 'Forest Hills, NY 11375']}   \n",
       "2136            {'address1': '166-12 Hillside Ave', 'address2': '', 'address3': '', 'city': 'Jamaica', 'zip_code': '11432', 'country': 'US', 'state': 'NY', 'display_address': ['166-12 Hillside Ave', 'Jamaica, NY 11432']}   \n",
       "2137                    {'address1': '871 8th Ave', 'address2': '', 'address3': '', 'city': 'Los Angeles', 'zip_code': '90019', 'country': 'US', 'state': 'CA', 'display_address': ['871 8th Ave', 'Los Angeles, CA 90019']}   \n",
       "2138                          {'address1': '871 8th Ave', 'address2': '', 'address3': '', 'city': 'New York', 'zip_code': '10019', 'country': 'US', 'state': 'NY', 'display_address': ['871 8th Ave', 'New York, NY 10019']}   \n",
       "\n",
       "            phone   display_phone  \n",
       "0     17184310688  (718) 431-0688  \n",
       "1     12125797970  (212) 579-7970  \n",
       "2     12125797970  (212) 579-7970  \n",
       "3     17189452100  (718) 945-2100  \n",
       "4     17184993400  (718) 499-3400  \n",
       "...           ...             ...  \n",
       "2134  17188337000  (718) 833-7000  \n",
       "2135  17188973898  (718) 897-3898  \n",
       "2136  17182918222  (718) 291-8222  \n",
       "2137  12122467699  (212) 246-7699  \n",
       "2138  12122467699  (212) 246-7699  \n",
       "\n",
       "[2139 rows x 15 columns]"
      ]
     },
     "execution_count": 105,
     "metadata": {},
     "output_type": "execute_result"
    }
   ],
   "source": [
    "biz12_df = pd.DataFrame(biz_list12)\n",
    "biz11_df.to_csv('yelp_phone12.csv',index=False)\n",
    "df = pd.read_csv('yelp_phone12.csv')\n",
    "df"
   ]
  },
  {
   "cell_type": "code",
   "execution_count": 3,
   "metadata": {
    "ExecuteTime": {
     "end_time": "2022-04-18T10:18:07.556666Z",
     "start_time": "2022-04-18T10:18:07.142725Z"
    }
   },
   "outputs": [],
   "source": [
    "df_1 = pd.read_csv('yelp_phone1.csv')\n",
    "df_2 = pd.read_csv('yelp_phone2.csv')\n",
    "df_3 = pd.read_csv('yelp_phone3.csv')\n",
    "df_4 = pd.read_csv('yelp_phone4.csv')\n",
    "df_5 = pd.read_csv('yelp_phone5.csv')\n",
    "df_6 = pd.read_csv('yelp_phone6.csv')\n",
    "df_7 = pd.read_csv('yelp_phone7.csv')\n",
    "df_8 = pd.read_csv('yelp_phone8.csv')\n",
    "df_9 = pd.read_csv('yelp_phone9.csv')\n",
    "df_10 = pd.read_csv('yelp_phone10.csv')\n",
    "df_11 = pd.read_csv('yelp_phone11.csv')\n",
    "df_12 = pd.read_csv('yelp_phone12.csv')"
   ]
  },
  {
   "cell_type": "code",
   "execution_count": 4,
   "metadata": {
    "ExecuteTime": {
     "end_time": "2022-04-18T10:18:08.820518Z",
     "start_time": "2022-04-18T10:18:08.815924Z"
    }
   },
   "outputs": [],
   "source": [
    "df_list = [df_1,df_2,df_3,df_4,df_5,df_6,df_7,df_8,df_9,df_10,df_11,df_12]"
   ]
  },
  {
   "cell_type": "code",
   "execution_count": 243,
   "metadata": {
    "ExecuteTime": {
     "end_time": "2022-04-17T22:54:31.347499Z",
     "start_time": "2022-04-17T22:54:31.273749Z"
    }
   },
   "outputs": [
    {
     "data": {
      "text/html": [
       "<div>\n",
       "<style scoped>\n",
       "    .dataframe tbody tr th:only-of-type {\n",
       "        vertical-align: middle;\n",
       "    }\n",
       "\n",
       "    .dataframe tbody tr th {\n",
       "        vertical-align: top;\n",
       "    }\n",
       "\n",
       "    .dataframe thead th {\n",
       "        text-align: right;\n",
       "    }\n",
       "</style>\n",
       "<table border=\"1\" class=\"dataframe\">\n",
       "  <thead>\n",
       "    <tr style=\"text-align: right;\">\n",
       "      <th></th>\n",
       "      <th>id</th>\n",
       "      <th>alias</th>\n",
       "      <th>name</th>\n",
       "      <th>image_url</th>\n",
       "      <th>is_closed</th>\n",
       "      <th>url</th>\n",
       "      <th>review_count</th>\n",
       "      <th>categories</th>\n",
       "      <th>rating</th>\n",
       "      <th>coordinates</th>\n",
       "      <th>transactions</th>\n",
       "      <th>price</th>\n",
       "      <th>location</th>\n",
       "      <th>phone</th>\n",
       "      <th>display_phone</th>\n",
       "    </tr>\n",
       "  </thead>\n",
       "  <tbody>\n",
       "    <tr>\n",
       "      <th>0</th>\n",
       "      <td>fEsgUESZxOQtd4YEmAUuow</td>\n",
       "      <td>ii-caffe-latte-2-new-york-4</td>\n",
       "      <td>II Caffe Latte 2</td>\n",
       "      <td>https://s3-media0.fl.yelpcdn.com/bphoto/rL-1bjIrEvnG6zV8ofrZpg/o.jpg</td>\n",
       "      <td>False</td>\n",
       "      <td>https://www.yelp.com/biz/ii-caffe-latte-2-new-york-4?adjust_creative=82uXkAt1Tiw7u9_h33zr1A&amp;utm_campaign=yelp_api_v3&amp;utm_medium=api_v3_phone_search&amp;utm_source=82uXkAt1Tiw7u9_h33zr1A</td>\n",
       "      <td>127</td>\n",
       "      <td>[{'alias': 'breakfast_brunch', 'title': 'Breakfast &amp; Brunch'}, {'alias': 'desserts', 'title': 'Desserts'}, {'alias': 'cafes', 'title': 'Cafes'}]</td>\n",
       "      <td>3.5</td>\n",
       "      <td>{'latitude': 40.8246899, 'longitude': -73.94704}</td>\n",
       "      <td>['delivery', 'pickup']</td>\n",
       "      <td>$$</td>\n",
       "      <td>{'address1': '458 W 145th St', 'address2': '', 'address3': '', 'city': 'New York', 'zip_code': '10031', 'country': 'US', 'state': 'NY', 'display_address': ['458 W 145th St', 'New York, NY 10031']}</td>\n",
       "      <td>12122340202</td>\n",
       "      <td>(212) 234-0202</td>\n",
       "    </tr>\n",
       "    <tr>\n",
       "      <th>1</th>\n",
       "      <td>zm_ngfMxyU6d85AaTIgI7Q</td>\n",
       "      <td>chloes-restaurant-and-lounge-brooklyn</td>\n",
       "      <td>Chloe's Restaurant &amp; Lounge</td>\n",
       "      <td>https://s3-media0.fl.yelpcdn.com/bphoto/AFD_nPVpU1rhI7VMWvbltA/o.jpg</td>\n",
       "      <td>False</td>\n",
       "      <td>https://www.yelp.com/biz/chloes-restaurant-and-lounge-brooklyn?adjust_creative=82uXkAt1Tiw7u9_h33zr1A&amp;utm_campaign=yelp_api_v3&amp;utm_medium=api_v3_phone_search&amp;utm_source=82uXkAt1Tiw7u9_h33zr1A</td>\n",
       "      <td>192</td>\n",
       "      <td>[{'alias': 'haitian', 'title': 'Haitian'}, {'alias': 'salad', 'title': 'Salad'}, {'alias': 'seafood', 'title': 'Seafood'}]</td>\n",
       "      <td>2.5</td>\n",
       "      <td>{'latitude': 40.63755, 'longitude': -73.89731}</td>\n",
       "      <td>['delivery', 'pickup']</td>\n",
       "      <td>$$</td>\n",
       "      <td>{'address1': '9413 Ave L', 'address2': None, 'address3': '', 'city': 'Brooklyn', 'zip_code': '11236', 'country': 'US', 'state': 'NY', 'display_address': ['9413 Ave L', 'Brooklyn, NY 11236']}</td>\n",
       "      <td>13477709051</td>\n",
       "      <td>(347) 770-9051</td>\n",
       "    </tr>\n",
       "    <tr>\n",
       "      <th>2</th>\n",
       "      <td>LbGAKVX3cwZj4fUC2XOLxg</td>\n",
       "      <td>jahns-jackson-heights</td>\n",
       "      <td>Jahn's</td>\n",
       "      <td>https://s3-media0.fl.yelpcdn.com/bphoto/9Oa1n8Dyo_n2N9YIhJxsgw/o.jpg</td>\n",
       "      <td>False</td>\n",
       "      <td>https://www.yelp.com/biz/jahns-jackson-heights?adjust_creative=82uXkAt1Tiw7u9_h33zr1A&amp;utm_campaign=yelp_api_v3&amp;utm_medium=api_v3_phone_search&amp;utm_source=82uXkAt1Tiw7u9_h33zr1A</td>\n",
       "      <td>172</td>\n",
       "      <td>[{'alias': 'diners', 'title': 'Diners'}]</td>\n",
       "      <td>3.5</td>\n",
       "      <td>{'latitude': 40.74941, 'longitude': -73.88497}</td>\n",
       "      <td>['delivery', 'pickup']</td>\n",
       "      <td>$$</td>\n",
       "      <td>{'address1': '81-04 37th Ave', 'address2': '', 'address3': '', 'city': 'Jackson Heights', 'zip_code': '11372', 'country': 'US', 'state': 'NY', 'display_address': ['81-04 37th Ave', 'Jackson Heights, NY 11372']}</td>\n",
       "      <td>17186510700</td>\n",
       "      <td>(718) 651-0700</td>\n",
       "    </tr>\n",
       "    <tr>\n",
       "      <th>3</th>\n",
       "      <td>i8ejDDR4COtukAAA1Ls5fw</td>\n",
       "      <td>soba-ya-new-york</td>\n",
       "      <td>Soba-ya</td>\n",
       "      <td>https://s3-media0.fl.yelpcdn.com/bphoto/LnjY25INn-aM1eAyiav8XA/o.jpg</td>\n",
       "      <td>False</td>\n",
       "      <td>https://www.yelp.com/biz/soba-ya-new-york?adjust_creative=82uXkAt1Tiw7u9_h33zr1A&amp;utm_campaign=yelp_api_v3&amp;utm_medium=api_v3_phone_search&amp;utm_source=82uXkAt1Tiw7u9_h33zr1A</td>\n",
       "      <td>1496</td>\n",
       "      <td>[{'alias': 'japanese', 'title': 'Japanese'}, {'alias': 'noodles', 'title': 'Noodles'}]</td>\n",
       "      <td>4.0</td>\n",
       "      <td>{'latitude': 40.72965, 'longitude': -73.9878899}</td>\n",
       "      <td>['delivery', 'pickup']</td>\n",
       "      <td>$$</td>\n",
       "      <td>{'address1': '229 E 9th St', 'address2': '', 'address3': '', 'city': 'New York', 'zip_code': '10003', 'country': 'US', 'state': 'NY', 'display_address': ['229 E 9th St', 'New York, NY 10003']}</td>\n",
       "      <td>12125336966</td>\n",
       "      <td>(212) 533-6966</td>\n",
       "    </tr>\n",
       "    <tr>\n",
       "      <th>4</th>\n",
       "      <td>YV0VaJgV2zotzI7XNUaMCQ</td>\n",
       "      <td>mcdonalds-new-york-100</td>\n",
       "      <td>McDonald's</td>\n",
       "      <td>https://s3-media0.fl.yelpcdn.com/bphoto/X710tzNcQt5xzpJMVIpZHw/o.jpg</td>\n",
       "      <td>False</td>\n",
       "      <td>https://www.yelp.com/biz/mcdonalds-new-york-100?adjust_creative=82uXkAt1Tiw7u9_h33zr1A&amp;utm_campaign=yelp_api_v3&amp;utm_medium=api_v3_phone_search&amp;utm_source=82uXkAt1Tiw7u9_h33zr1A</td>\n",
       "      <td>85</td>\n",
       "      <td>[{'alias': 'hotdogs', 'title': 'Fast Food'}, {'alias': 'burgers', 'title': 'Burgers'}, {'alias': 'coffee', 'title': 'Coffee &amp; Tea'}]</td>\n",
       "      <td>2.5</td>\n",
       "      <td>{'latitude': 40.71852, 'longitude': -74.00115}</td>\n",
       "      <td>['delivery']</td>\n",
       "      <td>$</td>\n",
       "      <td>{'address1': '262 Canal St', 'address2': None, 'address3': '', 'city': 'New York', 'zip_code': '10013', 'country': 'US', 'state': 'NY', 'display_address': ['262 Canal St', 'New York, NY 10013']}</td>\n",
       "      <td>12129415823</td>\n",
       "      <td>(212) 941-5823</td>\n",
       "    </tr>\n",
       "    <tr>\n",
       "      <th>...</th>\n",
       "      <td>...</td>\n",
       "      <td>...</td>\n",
       "      <td>...</td>\n",
       "      <td>...</td>\n",
       "      <td>...</td>\n",
       "      <td>...</td>\n",
       "      <td>...</td>\n",
       "      <td>...</td>\n",
       "      <td>...</td>\n",
       "      <td>...</td>\n",
       "      <td>...</td>\n",
       "      <td>...</td>\n",
       "      <td>...</td>\n",
       "      <td>...</td>\n",
       "      <td>...</td>\n",
       "    </tr>\n",
       "    <tr>\n",
       "      <th>17297</th>\n",
       "      <td>osnb51lPIHxUKRlcg7idwA</td>\n",
       "      <td>kathys-dumplings-brooklyn</td>\n",
       "      <td>Kathy's Dumplings</td>\n",
       "      <td>https://s3-media0.fl.yelpcdn.com/bphoto/4PHqX5uxThKNvLcD0DZqrw/o.jpg</td>\n",
       "      <td>False</td>\n",
       "      <td>https://www.yelp.com/biz/kathys-dumplings-brooklyn?adjust_creative=82uXkAt1Tiw7u9_h33zr1A&amp;utm_campaign=yelp_api_v3&amp;utm_medium=api_v3_phone_search&amp;utm_source=82uXkAt1Tiw7u9_h33zr1A</td>\n",
       "      <td>231</td>\n",
       "      <td>[{'alias': 'chinese', 'title': 'Chinese'}]</td>\n",
       "      <td>4.0</td>\n",
       "      <td>{'latitude': 40.6279735, 'longitude': -74.0293625}</td>\n",
       "      <td>['pickup', 'delivery']</td>\n",
       "      <td>$</td>\n",
       "      <td>{'address1': '7924 3rd Ave', 'address2': '', 'address3': '', 'city': 'Brooklyn', 'zip_code': '11209', 'country': 'US', 'state': 'NY', 'display_address': ['7924 3rd Ave', 'Brooklyn, NY 11209']}</td>\n",
       "      <td>17188337000</td>\n",
       "      <td>(718) 833-7000</td>\n",
       "    </tr>\n",
       "    <tr>\n",
       "      <th>17298</th>\n",
       "      <td>SkYcO8FaqYgoP-66g58OMw</td>\n",
       "      <td>thai-pot-forest-hills</td>\n",
       "      <td>Thai Pot</td>\n",
       "      <td>https://s3-media0.fl.yelpcdn.com/bphoto/Qu_oE3bTpWt-pJw8r4LXxw/o.jpg</td>\n",
       "      <td>False</td>\n",
       "      <td>https://www.yelp.com/biz/thai-pot-forest-hills?adjust_creative=82uXkAt1Tiw7u9_h33zr1A&amp;utm_campaign=yelp_api_v3&amp;utm_medium=api_v3_phone_search&amp;utm_source=82uXkAt1Tiw7u9_h33zr1A</td>\n",
       "      <td>258</td>\n",
       "      <td>[{'alias': 'thai', 'title': 'Thai'}]</td>\n",
       "      <td>3.0</td>\n",
       "      <td>{'latitude': 40.7247545048924, 'longitude': -73.8498401641846}</td>\n",
       "      <td>['delivery', 'pickup']</td>\n",
       "      <td>$$</td>\n",
       "      <td>{'address1': '103-07 Queens Blvd', 'address2': '', 'address3': '', 'city': 'Forest Hills', 'zip_code': '11375', 'country': 'US', 'state': 'NY', 'display_address': ['103-07 Queens Blvd', 'Forest Hills, NY 11375']}</td>\n",
       "      <td>17188973898</td>\n",
       "      <td>(718) 897-3898</td>\n",
       "    </tr>\n",
       "    <tr>\n",
       "      <th>17299</th>\n",
       "      <td>nt-B5XlmTJlQsDqoiL7UKA</td>\n",
       "      <td>chang-pai-jamaica</td>\n",
       "      <td>Chang Pai</td>\n",
       "      <td>https://s3-media0.fl.yelpcdn.com/bphoto/KAR293sfF0SDEHYpjT9cHQ/o.jpg</td>\n",
       "      <td>False</td>\n",
       "      <td>https://www.yelp.com/biz/chang-pai-jamaica?adjust_creative=82uXkAt1Tiw7u9_h33zr1A&amp;utm_campaign=yelp_api_v3&amp;utm_medium=api_v3_phone_search&amp;utm_source=82uXkAt1Tiw7u9_h33zr1A</td>\n",
       "      <td>70</td>\n",
       "      <td>[{'alias': 'thai', 'title': 'Thai'}, {'alias': 'chinese', 'title': 'Chinese'}]</td>\n",
       "      <td>2.0</td>\n",
       "      <td>{'latitude': 40.7094307, 'longitude': -73.7955093}</td>\n",
       "      <td>['delivery', 'pickup']</td>\n",
       "      <td>$$</td>\n",
       "      <td>{'address1': '166-12 Hillside Ave', 'address2': '', 'address3': '', 'city': 'Jamaica', 'zip_code': '11432', 'country': 'US', 'state': 'NY', 'display_address': ['166-12 Hillside Ave', 'Jamaica, NY 11432']}</td>\n",
       "      <td>17182918222</td>\n",
       "      <td>(718) 291-8222</td>\n",
       "    </tr>\n",
       "    <tr>\n",
       "      <th>17300</th>\n",
       "      <td>E-_NtEsnwxrMfqb5_vIW3Q</td>\n",
       "      <td>starbucks-los-angeles-193</td>\n",
       "      <td>Starbucks</td>\n",
       "      <td>https://s3-media0.fl.yelpcdn.com/bphoto/V5NGsaUdyns0Jm_aPGFMSw/o.jpg</td>\n",
       "      <td>True</td>\n",
       "      <td>https://www.yelp.com/biz/starbucks-los-angeles-193?adjust_creative=82uXkAt1Tiw7u9_h33zr1A&amp;utm_campaign=yelp_api_v3&amp;utm_medium=api_v3_phone_search&amp;utm_source=82uXkAt1Tiw7u9_h33zr1A</td>\n",
       "      <td>1</td>\n",
       "      <td>[{'alias': 'coffee', 'title': 'Coffee &amp; Tea'}]</td>\n",
       "      <td>1.0</td>\n",
       "      <td>{'latitude': 33.986341, 'longitude': -118.32644}</td>\n",
       "      <td>[]</td>\n",
       "      <td>$</td>\n",
       "      <td>{'address1': '871 8th Ave', 'address2': '', 'address3': '', 'city': 'Los Angeles', 'zip_code': '90019', 'country': 'US', 'state': 'CA', 'display_address': ['871 8th Ave', 'Los Angeles, CA 90019']}</td>\n",
       "      <td>12122467699</td>\n",
       "      <td>(212) 246-7699</td>\n",
       "    </tr>\n",
       "    <tr>\n",
       "      <th>17301</th>\n",
       "      <td>pJPQ1N5PRti_ab--mXL5Tw</td>\n",
       "      <td>starbucks-new-york-310</td>\n",
       "      <td>Starbucks</td>\n",
       "      <td>https://s3-media0.fl.yelpcdn.com/bphoto/_hzEpvNsjC_OgLk9VGN47A/o.jpg</td>\n",
       "      <td>False</td>\n",
       "      <td>https://www.yelp.com/biz/starbucks-new-york-310?adjust_creative=82uXkAt1Tiw7u9_h33zr1A&amp;utm_campaign=yelp_api_v3&amp;utm_medium=api_v3_phone_search&amp;utm_source=82uXkAt1Tiw7u9_h33zr1A</td>\n",
       "      <td>61</td>\n",
       "      <td>[{'alias': 'coffee', 'title': 'Coffee &amp; Tea'}]</td>\n",
       "      <td>2.5</td>\n",
       "      <td>{'latitude': 40.763714, 'longitude': -73.985313}</td>\n",
       "      <td>[]</td>\n",
       "      <td>$$</td>\n",
       "      <td>{'address1': '871 8th Ave', 'address2': '', 'address3': '', 'city': 'New York', 'zip_code': '10019', 'country': 'US', 'state': 'NY', 'display_address': ['871 8th Ave', 'New York, NY 10019']}</td>\n",
       "      <td>12122467699</td>\n",
       "      <td>(212) 246-7699</td>\n",
       "    </tr>\n",
       "  </tbody>\n",
       "</table>\n",
       "<p>17302 rows × 15 columns</p>\n",
       "</div>"
      ],
      "text/plain": [
       "                           id                                  alias  \\\n",
       "0      fEsgUESZxOQtd4YEmAUuow            ii-caffe-latte-2-new-york-4   \n",
       "1      zm_ngfMxyU6d85AaTIgI7Q  chloes-restaurant-and-lounge-brooklyn   \n",
       "2      LbGAKVX3cwZj4fUC2XOLxg                  jahns-jackson-heights   \n",
       "3      i8ejDDR4COtukAAA1Ls5fw                       soba-ya-new-york   \n",
       "4      YV0VaJgV2zotzI7XNUaMCQ                 mcdonalds-new-york-100   \n",
       "...                       ...                                    ...   \n",
       "17297  osnb51lPIHxUKRlcg7idwA              kathys-dumplings-brooklyn   \n",
       "17298  SkYcO8FaqYgoP-66g58OMw                  thai-pot-forest-hills   \n",
       "17299  nt-B5XlmTJlQsDqoiL7UKA                      chang-pai-jamaica   \n",
       "17300  E-_NtEsnwxrMfqb5_vIW3Q              starbucks-los-angeles-193   \n",
       "17301  pJPQ1N5PRti_ab--mXL5Tw                 starbucks-new-york-310   \n",
       "\n",
       "                              name  \\\n",
       "0                 II Caffe Latte 2   \n",
       "1      Chloe's Restaurant & Lounge   \n",
       "2                           Jahn's   \n",
       "3                          Soba-ya   \n",
       "4                       McDonald's   \n",
       "...                            ...   \n",
       "17297            Kathy's Dumplings   \n",
       "17298                     Thai Pot   \n",
       "17299                    Chang Pai   \n",
       "17300                    Starbucks   \n",
       "17301                    Starbucks   \n",
       "\n",
       "                                                                  image_url  \\\n",
       "0      https://s3-media0.fl.yelpcdn.com/bphoto/rL-1bjIrEvnG6zV8ofrZpg/o.jpg   \n",
       "1      https://s3-media0.fl.yelpcdn.com/bphoto/AFD_nPVpU1rhI7VMWvbltA/o.jpg   \n",
       "2      https://s3-media0.fl.yelpcdn.com/bphoto/9Oa1n8Dyo_n2N9YIhJxsgw/o.jpg   \n",
       "3      https://s3-media0.fl.yelpcdn.com/bphoto/LnjY25INn-aM1eAyiav8XA/o.jpg   \n",
       "4      https://s3-media0.fl.yelpcdn.com/bphoto/X710tzNcQt5xzpJMVIpZHw/o.jpg   \n",
       "...                                                                     ...   \n",
       "17297  https://s3-media0.fl.yelpcdn.com/bphoto/4PHqX5uxThKNvLcD0DZqrw/o.jpg   \n",
       "17298  https://s3-media0.fl.yelpcdn.com/bphoto/Qu_oE3bTpWt-pJw8r4LXxw/o.jpg   \n",
       "17299  https://s3-media0.fl.yelpcdn.com/bphoto/KAR293sfF0SDEHYpjT9cHQ/o.jpg   \n",
       "17300  https://s3-media0.fl.yelpcdn.com/bphoto/V5NGsaUdyns0Jm_aPGFMSw/o.jpg   \n",
       "17301  https://s3-media0.fl.yelpcdn.com/bphoto/_hzEpvNsjC_OgLk9VGN47A/o.jpg   \n",
       "\n",
       "       is_closed  \\\n",
       "0          False   \n",
       "1          False   \n",
       "2          False   \n",
       "3          False   \n",
       "4          False   \n",
       "...          ...   \n",
       "17297      False   \n",
       "17298      False   \n",
       "17299      False   \n",
       "17300       True   \n",
       "17301      False   \n",
       "\n",
       "                                                                                                                                                                                                   url  \\\n",
       "0                https://www.yelp.com/biz/ii-caffe-latte-2-new-york-4?adjust_creative=82uXkAt1Tiw7u9_h33zr1A&utm_campaign=yelp_api_v3&utm_medium=api_v3_phone_search&utm_source=82uXkAt1Tiw7u9_h33zr1A   \n",
       "1      https://www.yelp.com/biz/chloes-restaurant-and-lounge-brooklyn?adjust_creative=82uXkAt1Tiw7u9_h33zr1A&utm_campaign=yelp_api_v3&utm_medium=api_v3_phone_search&utm_source=82uXkAt1Tiw7u9_h33zr1A   \n",
       "2                      https://www.yelp.com/biz/jahns-jackson-heights?adjust_creative=82uXkAt1Tiw7u9_h33zr1A&utm_campaign=yelp_api_v3&utm_medium=api_v3_phone_search&utm_source=82uXkAt1Tiw7u9_h33zr1A   \n",
       "3                           https://www.yelp.com/biz/soba-ya-new-york?adjust_creative=82uXkAt1Tiw7u9_h33zr1A&utm_campaign=yelp_api_v3&utm_medium=api_v3_phone_search&utm_source=82uXkAt1Tiw7u9_h33zr1A   \n",
       "4                     https://www.yelp.com/biz/mcdonalds-new-york-100?adjust_creative=82uXkAt1Tiw7u9_h33zr1A&utm_campaign=yelp_api_v3&utm_medium=api_v3_phone_search&utm_source=82uXkAt1Tiw7u9_h33zr1A   \n",
       "...                                                                                                                                                                                                ...   \n",
       "17297              https://www.yelp.com/biz/kathys-dumplings-brooklyn?adjust_creative=82uXkAt1Tiw7u9_h33zr1A&utm_campaign=yelp_api_v3&utm_medium=api_v3_phone_search&utm_source=82uXkAt1Tiw7u9_h33zr1A   \n",
       "17298                  https://www.yelp.com/biz/thai-pot-forest-hills?adjust_creative=82uXkAt1Tiw7u9_h33zr1A&utm_campaign=yelp_api_v3&utm_medium=api_v3_phone_search&utm_source=82uXkAt1Tiw7u9_h33zr1A   \n",
       "17299                      https://www.yelp.com/biz/chang-pai-jamaica?adjust_creative=82uXkAt1Tiw7u9_h33zr1A&utm_campaign=yelp_api_v3&utm_medium=api_v3_phone_search&utm_source=82uXkAt1Tiw7u9_h33zr1A   \n",
       "17300              https://www.yelp.com/biz/starbucks-los-angeles-193?adjust_creative=82uXkAt1Tiw7u9_h33zr1A&utm_campaign=yelp_api_v3&utm_medium=api_v3_phone_search&utm_source=82uXkAt1Tiw7u9_h33zr1A   \n",
       "17301                 https://www.yelp.com/biz/starbucks-new-york-310?adjust_creative=82uXkAt1Tiw7u9_h33zr1A&utm_campaign=yelp_api_v3&utm_medium=api_v3_phone_search&utm_source=82uXkAt1Tiw7u9_h33zr1A   \n",
       "\n",
       "       review_count  \\\n",
       "0               127   \n",
       "1               192   \n",
       "2               172   \n",
       "3              1496   \n",
       "4                85   \n",
       "...             ...   \n",
       "17297           231   \n",
       "17298           258   \n",
       "17299            70   \n",
       "17300             1   \n",
       "17301            61   \n",
       "\n",
       "                                                                                                                                             categories  \\\n",
       "0      [{'alias': 'breakfast_brunch', 'title': 'Breakfast & Brunch'}, {'alias': 'desserts', 'title': 'Desserts'}, {'alias': 'cafes', 'title': 'Cafes'}]   \n",
       "1                            [{'alias': 'haitian', 'title': 'Haitian'}, {'alias': 'salad', 'title': 'Salad'}, {'alias': 'seafood', 'title': 'Seafood'}]   \n",
       "2                                                                                                              [{'alias': 'diners', 'title': 'Diners'}]   \n",
       "3                                                                [{'alias': 'japanese', 'title': 'Japanese'}, {'alias': 'noodles', 'title': 'Noodles'}]   \n",
       "4                  [{'alias': 'hotdogs', 'title': 'Fast Food'}, {'alias': 'burgers', 'title': 'Burgers'}, {'alias': 'coffee', 'title': 'Coffee & Tea'}]   \n",
       "...                                                                                                                                                 ...   \n",
       "17297                                                                                                        [{'alias': 'chinese', 'title': 'Chinese'}]   \n",
       "17298                                                                                                              [{'alias': 'thai', 'title': 'Thai'}]   \n",
       "17299                                                                    [{'alias': 'thai', 'title': 'Thai'}, {'alias': 'chinese', 'title': 'Chinese'}]   \n",
       "17300                                                                                                    [{'alias': 'coffee', 'title': 'Coffee & Tea'}]   \n",
       "17301                                                                                                    [{'alias': 'coffee', 'title': 'Coffee & Tea'}]   \n",
       "\n",
       "       rating                                                     coordinates  \\\n",
       "0         3.5                {'latitude': 40.8246899, 'longitude': -73.94704}   \n",
       "1         2.5                  {'latitude': 40.63755, 'longitude': -73.89731}   \n",
       "2         3.5                  {'latitude': 40.74941, 'longitude': -73.88497}   \n",
       "3         4.0                {'latitude': 40.72965, 'longitude': -73.9878899}   \n",
       "4         2.5                  {'latitude': 40.71852, 'longitude': -74.00115}   \n",
       "...       ...                                                             ...   \n",
       "17297     4.0              {'latitude': 40.6279735, 'longitude': -74.0293625}   \n",
       "17298     3.0  {'latitude': 40.7247545048924, 'longitude': -73.8498401641846}   \n",
       "17299     2.0              {'latitude': 40.7094307, 'longitude': -73.7955093}   \n",
       "17300     1.0                {'latitude': 33.986341, 'longitude': -118.32644}   \n",
       "17301     2.5                {'latitude': 40.763714, 'longitude': -73.985313}   \n",
       "\n",
       "                 transactions price  \\\n",
       "0      ['delivery', 'pickup']    $$   \n",
       "1      ['delivery', 'pickup']    $$   \n",
       "2      ['delivery', 'pickup']    $$   \n",
       "3      ['delivery', 'pickup']    $$   \n",
       "4                ['delivery']     $   \n",
       "...                       ...   ...   \n",
       "17297  ['pickup', 'delivery']     $   \n",
       "17298  ['delivery', 'pickup']    $$   \n",
       "17299  ['delivery', 'pickup']    $$   \n",
       "17300                      []     $   \n",
       "17301                      []    $$   \n",
       "\n",
       "                                                                                                                                                                                                                   location  \\\n",
       "0                      {'address1': '458 W 145th St', 'address2': '', 'address3': '', 'city': 'New York', 'zip_code': '10031', 'country': 'US', 'state': 'NY', 'display_address': ['458 W 145th St', 'New York, NY 10031']}   \n",
       "1                            {'address1': '9413 Ave L', 'address2': None, 'address3': '', 'city': 'Brooklyn', 'zip_code': '11236', 'country': 'US', 'state': 'NY', 'display_address': ['9413 Ave L', 'Brooklyn, NY 11236']}   \n",
       "2        {'address1': '81-04 37th Ave', 'address2': '', 'address3': '', 'city': 'Jackson Heights', 'zip_code': '11372', 'country': 'US', 'state': 'NY', 'display_address': ['81-04 37th Ave', 'Jackson Heights, NY 11372']}   \n",
       "3                          {'address1': '229 E 9th St', 'address2': '', 'address3': '', 'city': 'New York', 'zip_code': '10003', 'country': 'US', 'state': 'NY', 'display_address': ['229 E 9th St', 'New York, NY 10003']}   \n",
       "4                        {'address1': '262 Canal St', 'address2': None, 'address3': '', 'city': 'New York', 'zip_code': '10013', 'country': 'US', 'state': 'NY', 'display_address': ['262 Canal St', 'New York, NY 10013']}   \n",
       "...                                                                                                                                                                                                                     ...   \n",
       "17297                      {'address1': '7924 3rd Ave', 'address2': '', 'address3': '', 'city': 'Brooklyn', 'zip_code': '11209', 'country': 'US', 'state': 'NY', 'display_address': ['7924 3rd Ave', 'Brooklyn, NY 11209']}   \n",
       "17298  {'address1': '103-07 Queens Blvd', 'address2': '', 'address3': '', 'city': 'Forest Hills', 'zip_code': '11375', 'country': 'US', 'state': 'NY', 'display_address': ['103-07 Queens Blvd', 'Forest Hills, NY 11375']}   \n",
       "17299          {'address1': '166-12 Hillside Ave', 'address2': '', 'address3': '', 'city': 'Jamaica', 'zip_code': '11432', 'country': 'US', 'state': 'NY', 'display_address': ['166-12 Hillside Ave', 'Jamaica, NY 11432']}   \n",
       "17300                  {'address1': '871 8th Ave', 'address2': '', 'address3': '', 'city': 'Los Angeles', 'zip_code': '90019', 'country': 'US', 'state': 'CA', 'display_address': ['871 8th Ave', 'Los Angeles, CA 90019']}   \n",
       "17301                        {'address1': '871 8th Ave', 'address2': '', 'address3': '', 'city': 'New York', 'zip_code': '10019', 'country': 'US', 'state': 'NY', 'display_address': ['871 8th Ave', 'New York, NY 10019']}   \n",
       "\n",
       "             phone   display_phone  \n",
       "0      12122340202  (212) 234-0202  \n",
       "1      13477709051  (347) 770-9051  \n",
       "2      17186510700  (718) 651-0700  \n",
       "3      12125336966  (212) 533-6966  \n",
       "4      12129415823  (212) 941-5823  \n",
       "...            ...             ...  \n",
       "17297  17188337000  (718) 833-7000  \n",
       "17298  17188973898  (718) 897-3898  \n",
       "17299  17182918222  (718) 291-8222  \n",
       "17300  12122467699  (212) 246-7699  \n",
       "17301  12122467699  (212) 246-7699  \n",
       "\n",
       "[17302 rows x 15 columns]"
      ]
     },
     "execution_count": 243,
     "metadata": {},
     "output_type": "execute_result"
    }
   ],
   "source": [
    "yelp_businesses_df = pd.concat(df_list,ignore_index=True)\n",
    "yelp_businesses_df"
   ]
  },
  {
   "cell_type": "code",
   "execution_count": 108,
   "metadata": {
    "ExecuteTime": {
     "end_time": "2022-04-17T07:11:44.640718Z",
     "start_time": "2022-04-17T07:11:43.935448Z"
    }
   },
   "outputs": [
    {
     "data": {
      "text/html": [
       "<div>\n",
       "<style scoped>\n",
       "    .dataframe tbody tr th:only-of-type {\n",
       "        vertical-align: middle;\n",
       "    }\n",
       "\n",
       "    .dataframe tbody tr th {\n",
       "        vertical-align: top;\n",
       "    }\n",
       "\n",
       "    .dataframe thead th {\n",
       "        text-align: right;\n",
       "    }\n",
       "</style>\n",
       "<table border=\"1\" class=\"dataframe\">\n",
       "  <thead>\n",
       "    <tr style=\"text-align: right;\">\n",
       "      <th></th>\n",
       "      <th>id</th>\n",
       "      <th>alias</th>\n",
       "      <th>name</th>\n",
       "      <th>image_url</th>\n",
       "      <th>is_closed</th>\n",
       "      <th>url</th>\n",
       "      <th>review_count</th>\n",
       "      <th>categories</th>\n",
       "      <th>rating</th>\n",
       "      <th>coordinates</th>\n",
       "      <th>transactions</th>\n",
       "      <th>price</th>\n",
       "      <th>location</th>\n",
       "      <th>phone</th>\n",
       "      <th>display_phone</th>\n",
       "    </tr>\n",
       "  </thead>\n",
       "  <tbody>\n",
       "    <tr>\n",
       "      <th>0</th>\n",
       "      <td>fEsgUESZxOQtd4YEmAUuow</td>\n",
       "      <td>ii-caffe-latte-2-new-york-4</td>\n",
       "      <td>II Caffe Latte 2</td>\n",
       "      <td>https://s3-media0.fl.yelpcdn.com/bphoto/rL-1bjIrEvnG6zV8ofrZpg/o.jpg</td>\n",
       "      <td>False</td>\n",
       "      <td>https://www.yelp.com/biz/ii-caffe-latte-2-new-york-4?adjust_creative=82uXkAt1Tiw7u9_h33zr1A&amp;utm_campaign=yelp_api_v3&amp;utm_medium=api_v3_phone_search&amp;utm_source=82uXkAt1Tiw7u9_h33zr1A</td>\n",
       "      <td>127</td>\n",
       "      <td>[{'alias': 'breakfast_brunch', 'title': 'Breakfast &amp; Brunch'}, {'alias': 'desserts', 'title': 'Desserts'}, {'alias': 'cafes', 'title': 'Cafes'}]</td>\n",
       "      <td>3.5</td>\n",
       "      <td>{'latitude': 40.8246899, 'longitude': -73.94704}</td>\n",
       "      <td>['delivery', 'pickup']</td>\n",
       "      <td>$$</td>\n",
       "      <td>{'address1': '458 W 145th St', 'address2': '', 'address3': '', 'city': 'New York', 'zip_code': '10031', 'country': 'US', 'state': 'NY', 'display_address': ['458 W 145th St', 'New York, NY 10031']}</td>\n",
       "      <td>12122340202</td>\n",
       "      <td>(212) 234-0202</td>\n",
       "    </tr>\n",
       "    <tr>\n",
       "      <th>1</th>\n",
       "      <td>zm_ngfMxyU6d85AaTIgI7Q</td>\n",
       "      <td>chloes-restaurant-and-lounge-brooklyn</td>\n",
       "      <td>Chloe's Restaurant &amp; Lounge</td>\n",
       "      <td>https://s3-media0.fl.yelpcdn.com/bphoto/AFD_nPVpU1rhI7VMWvbltA/o.jpg</td>\n",
       "      <td>False</td>\n",
       "      <td>https://www.yelp.com/biz/chloes-restaurant-and-lounge-brooklyn?adjust_creative=82uXkAt1Tiw7u9_h33zr1A&amp;utm_campaign=yelp_api_v3&amp;utm_medium=api_v3_phone_search&amp;utm_source=82uXkAt1Tiw7u9_h33zr1A</td>\n",
       "      <td>192</td>\n",
       "      <td>[{'alias': 'haitian', 'title': 'Haitian'}, {'alias': 'salad', 'title': 'Salad'}, {'alias': 'seafood', 'title': 'Seafood'}]</td>\n",
       "      <td>2.5</td>\n",
       "      <td>{'latitude': 40.63755, 'longitude': -73.89731}</td>\n",
       "      <td>['delivery', 'pickup']</td>\n",
       "      <td>$$</td>\n",
       "      <td>{'address1': '9413 Ave L', 'address2': None, 'address3': '', 'city': 'Brooklyn', 'zip_code': '11236', 'country': 'US', 'state': 'NY', 'display_address': ['9413 Ave L', 'Brooklyn, NY 11236']}</td>\n",
       "      <td>13477709051</td>\n",
       "      <td>(347) 770-9051</td>\n",
       "    </tr>\n",
       "    <tr>\n",
       "      <th>2</th>\n",
       "      <td>LbGAKVX3cwZj4fUC2XOLxg</td>\n",
       "      <td>jahns-jackson-heights</td>\n",
       "      <td>Jahn's</td>\n",
       "      <td>https://s3-media0.fl.yelpcdn.com/bphoto/9Oa1n8Dyo_n2N9YIhJxsgw/o.jpg</td>\n",
       "      <td>False</td>\n",
       "      <td>https://www.yelp.com/biz/jahns-jackson-heights?adjust_creative=82uXkAt1Tiw7u9_h33zr1A&amp;utm_campaign=yelp_api_v3&amp;utm_medium=api_v3_phone_search&amp;utm_source=82uXkAt1Tiw7u9_h33zr1A</td>\n",
       "      <td>172</td>\n",
       "      <td>[{'alias': 'diners', 'title': 'Diners'}]</td>\n",
       "      <td>3.5</td>\n",
       "      <td>{'latitude': 40.74941, 'longitude': -73.88497}</td>\n",
       "      <td>['delivery', 'pickup']</td>\n",
       "      <td>$$</td>\n",
       "      <td>{'address1': '81-04 37th Ave', 'address2': '', 'address3': '', 'city': 'Jackson Heights', 'zip_code': '11372', 'country': 'US', 'state': 'NY', 'display_address': ['81-04 37th Ave', 'Jackson Heights, NY 11372']}</td>\n",
       "      <td>17186510700</td>\n",
       "      <td>(718) 651-0700</td>\n",
       "    </tr>\n",
       "    <tr>\n",
       "      <th>3</th>\n",
       "      <td>i8ejDDR4COtukAAA1Ls5fw</td>\n",
       "      <td>soba-ya-new-york</td>\n",
       "      <td>Soba-ya</td>\n",
       "      <td>https://s3-media0.fl.yelpcdn.com/bphoto/LnjY25INn-aM1eAyiav8XA/o.jpg</td>\n",
       "      <td>False</td>\n",
       "      <td>https://www.yelp.com/biz/soba-ya-new-york?adjust_creative=82uXkAt1Tiw7u9_h33zr1A&amp;utm_campaign=yelp_api_v3&amp;utm_medium=api_v3_phone_search&amp;utm_source=82uXkAt1Tiw7u9_h33zr1A</td>\n",
       "      <td>1496</td>\n",
       "      <td>[{'alias': 'japanese', 'title': 'Japanese'}, {'alias': 'noodles', 'title': 'Noodles'}]</td>\n",
       "      <td>4.0</td>\n",
       "      <td>{'latitude': 40.72965, 'longitude': -73.9878899}</td>\n",
       "      <td>['delivery', 'pickup']</td>\n",
       "      <td>$$</td>\n",
       "      <td>{'address1': '229 E 9th St', 'address2': '', 'address3': '', 'city': 'New York', 'zip_code': '10003', 'country': 'US', 'state': 'NY', 'display_address': ['229 E 9th St', 'New York, NY 10003']}</td>\n",
       "      <td>12125336966</td>\n",
       "      <td>(212) 533-6966</td>\n",
       "    </tr>\n",
       "    <tr>\n",
       "      <th>4</th>\n",
       "      <td>YV0VaJgV2zotzI7XNUaMCQ</td>\n",
       "      <td>mcdonalds-new-york-100</td>\n",
       "      <td>McDonald's</td>\n",
       "      <td>https://s3-media0.fl.yelpcdn.com/bphoto/X710tzNcQt5xzpJMVIpZHw/o.jpg</td>\n",
       "      <td>False</td>\n",
       "      <td>https://www.yelp.com/biz/mcdonalds-new-york-100?adjust_creative=82uXkAt1Tiw7u9_h33zr1A&amp;utm_campaign=yelp_api_v3&amp;utm_medium=api_v3_phone_search&amp;utm_source=82uXkAt1Tiw7u9_h33zr1A</td>\n",
       "      <td>85</td>\n",
       "      <td>[{'alias': 'hotdogs', 'title': 'Fast Food'}, {'alias': 'burgers', 'title': 'Burgers'}, {'alias': 'coffee', 'title': 'Coffee &amp; Tea'}]</td>\n",
       "      <td>2.5</td>\n",
       "      <td>{'latitude': 40.71852, 'longitude': -74.00115}</td>\n",
       "      <td>['delivery']</td>\n",
       "      <td>$</td>\n",
       "      <td>{'address1': '262 Canal St', 'address2': None, 'address3': '', 'city': 'New York', 'zip_code': '10013', 'country': 'US', 'state': 'NY', 'display_address': ['262 Canal St', 'New York, NY 10013']}</td>\n",
       "      <td>12129415823</td>\n",
       "      <td>(212) 941-5823</td>\n",
       "    </tr>\n",
       "    <tr>\n",
       "      <th>...</th>\n",
       "      <td>...</td>\n",
       "      <td>...</td>\n",
       "      <td>...</td>\n",
       "      <td>...</td>\n",
       "      <td>...</td>\n",
       "      <td>...</td>\n",
       "      <td>...</td>\n",
       "      <td>...</td>\n",
       "      <td>...</td>\n",
       "      <td>...</td>\n",
       "      <td>...</td>\n",
       "      <td>...</td>\n",
       "      <td>...</td>\n",
       "      <td>...</td>\n",
       "      <td>...</td>\n",
       "    </tr>\n",
       "    <tr>\n",
       "      <th>17297</th>\n",
       "      <td>osnb51lPIHxUKRlcg7idwA</td>\n",
       "      <td>kathys-dumplings-brooklyn</td>\n",
       "      <td>Kathy's Dumplings</td>\n",
       "      <td>https://s3-media0.fl.yelpcdn.com/bphoto/4PHqX5uxThKNvLcD0DZqrw/o.jpg</td>\n",
       "      <td>False</td>\n",
       "      <td>https://www.yelp.com/biz/kathys-dumplings-brooklyn?adjust_creative=82uXkAt1Tiw7u9_h33zr1A&amp;utm_campaign=yelp_api_v3&amp;utm_medium=api_v3_phone_search&amp;utm_source=82uXkAt1Tiw7u9_h33zr1A</td>\n",
       "      <td>231</td>\n",
       "      <td>[{'alias': 'chinese', 'title': 'Chinese'}]</td>\n",
       "      <td>4.0</td>\n",
       "      <td>{'latitude': 40.6279735, 'longitude': -74.0293625}</td>\n",
       "      <td>['pickup', 'delivery']</td>\n",
       "      <td>$</td>\n",
       "      <td>{'address1': '7924 3rd Ave', 'address2': '', 'address3': '', 'city': 'Brooklyn', 'zip_code': '11209', 'country': 'US', 'state': 'NY', 'display_address': ['7924 3rd Ave', 'Brooklyn, NY 11209']}</td>\n",
       "      <td>17188337000</td>\n",
       "      <td>(718) 833-7000</td>\n",
       "    </tr>\n",
       "    <tr>\n",
       "      <th>17298</th>\n",
       "      <td>SkYcO8FaqYgoP-66g58OMw</td>\n",
       "      <td>thai-pot-forest-hills</td>\n",
       "      <td>Thai Pot</td>\n",
       "      <td>https://s3-media0.fl.yelpcdn.com/bphoto/Qu_oE3bTpWt-pJw8r4LXxw/o.jpg</td>\n",
       "      <td>False</td>\n",
       "      <td>https://www.yelp.com/biz/thai-pot-forest-hills?adjust_creative=82uXkAt1Tiw7u9_h33zr1A&amp;utm_campaign=yelp_api_v3&amp;utm_medium=api_v3_phone_search&amp;utm_source=82uXkAt1Tiw7u9_h33zr1A</td>\n",
       "      <td>258</td>\n",
       "      <td>[{'alias': 'thai', 'title': 'Thai'}]</td>\n",
       "      <td>3.0</td>\n",
       "      <td>{'latitude': 40.7247545048924, 'longitude': -73.8498401641846}</td>\n",
       "      <td>['delivery', 'pickup']</td>\n",
       "      <td>$$</td>\n",
       "      <td>{'address1': '103-07 Queens Blvd', 'address2': '', 'address3': '', 'city': 'Forest Hills', 'zip_code': '11375', 'country': 'US', 'state': 'NY', 'display_address': ['103-07 Queens Blvd', 'Forest Hills, NY 11375']}</td>\n",
       "      <td>17188973898</td>\n",
       "      <td>(718) 897-3898</td>\n",
       "    </tr>\n",
       "    <tr>\n",
       "      <th>17299</th>\n",
       "      <td>nt-B5XlmTJlQsDqoiL7UKA</td>\n",
       "      <td>chang-pai-jamaica</td>\n",
       "      <td>Chang Pai</td>\n",
       "      <td>https://s3-media0.fl.yelpcdn.com/bphoto/KAR293sfF0SDEHYpjT9cHQ/o.jpg</td>\n",
       "      <td>False</td>\n",
       "      <td>https://www.yelp.com/biz/chang-pai-jamaica?adjust_creative=82uXkAt1Tiw7u9_h33zr1A&amp;utm_campaign=yelp_api_v3&amp;utm_medium=api_v3_phone_search&amp;utm_source=82uXkAt1Tiw7u9_h33zr1A</td>\n",
       "      <td>70</td>\n",
       "      <td>[{'alias': 'thai', 'title': 'Thai'}, {'alias': 'chinese', 'title': 'Chinese'}]</td>\n",
       "      <td>2.0</td>\n",
       "      <td>{'latitude': 40.7094307, 'longitude': -73.7955093}</td>\n",
       "      <td>['delivery', 'pickup']</td>\n",
       "      <td>$$</td>\n",
       "      <td>{'address1': '166-12 Hillside Ave', 'address2': '', 'address3': '', 'city': 'Jamaica', 'zip_code': '11432', 'country': 'US', 'state': 'NY', 'display_address': ['166-12 Hillside Ave', 'Jamaica, NY 11432']}</td>\n",
       "      <td>17182918222</td>\n",
       "      <td>(718) 291-8222</td>\n",
       "    </tr>\n",
       "    <tr>\n",
       "      <th>17300</th>\n",
       "      <td>E-_NtEsnwxrMfqb5_vIW3Q</td>\n",
       "      <td>starbucks-los-angeles-193</td>\n",
       "      <td>Starbucks</td>\n",
       "      <td>https://s3-media0.fl.yelpcdn.com/bphoto/V5NGsaUdyns0Jm_aPGFMSw/o.jpg</td>\n",
       "      <td>True</td>\n",
       "      <td>https://www.yelp.com/biz/starbucks-los-angeles-193?adjust_creative=82uXkAt1Tiw7u9_h33zr1A&amp;utm_campaign=yelp_api_v3&amp;utm_medium=api_v3_phone_search&amp;utm_source=82uXkAt1Tiw7u9_h33zr1A</td>\n",
       "      <td>1</td>\n",
       "      <td>[{'alias': 'coffee', 'title': 'Coffee &amp; Tea'}]</td>\n",
       "      <td>1.0</td>\n",
       "      <td>{'latitude': 33.986341, 'longitude': -118.32644}</td>\n",
       "      <td>[]</td>\n",
       "      <td>$</td>\n",
       "      <td>{'address1': '871 8th Ave', 'address2': '', 'address3': '', 'city': 'Los Angeles', 'zip_code': '90019', 'country': 'US', 'state': 'CA', 'display_address': ['871 8th Ave', 'Los Angeles, CA 90019']}</td>\n",
       "      <td>12122467699</td>\n",
       "      <td>(212) 246-7699</td>\n",
       "    </tr>\n",
       "    <tr>\n",
       "      <th>17301</th>\n",
       "      <td>pJPQ1N5PRti_ab--mXL5Tw</td>\n",
       "      <td>starbucks-new-york-310</td>\n",
       "      <td>Starbucks</td>\n",
       "      <td>https://s3-media0.fl.yelpcdn.com/bphoto/_hzEpvNsjC_OgLk9VGN47A/o.jpg</td>\n",
       "      <td>False</td>\n",
       "      <td>https://www.yelp.com/biz/starbucks-new-york-310?adjust_creative=82uXkAt1Tiw7u9_h33zr1A&amp;utm_campaign=yelp_api_v3&amp;utm_medium=api_v3_phone_search&amp;utm_source=82uXkAt1Tiw7u9_h33zr1A</td>\n",
       "      <td>61</td>\n",
       "      <td>[{'alias': 'coffee', 'title': 'Coffee &amp; Tea'}]</td>\n",
       "      <td>2.5</td>\n",
       "      <td>{'latitude': 40.763714, 'longitude': -73.985313}</td>\n",
       "      <td>[]</td>\n",
       "      <td>$$</td>\n",
       "      <td>{'address1': '871 8th Ave', 'address2': '', 'address3': '', 'city': 'New York', 'zip_code': '10019', 'country': 'US', 'state': 'NY', 'display_address': ['871 8th Ave', 'New York, NY 10019']}</td>\n",
       "      <td>12122467699</td>\n",
       "      <td>(212) 246-7699</td>\n",
       "    </tr>\n",
       "  </tbody>\n",
       "</table>\n",
       "<p>17302 rows × 15 columns</p>\n",
       "</div>"
      ],
      "text/plain": [
       "                           id                                  alias  \\\n",
       "0      fEsgUESZxOQtd4YEmAUuow            ii-caffe-latte-2-new-york-4   \n",
       "1      zm_ngfMxyU6d85AaTIgI7Q  chloes-restaurant-and-lounge-brooklyn   \n",
       "2      LbGAKVX3cwZj4fUC2XOLxg                  jahns-jackson-heights   \n",
       "3      i8ejDDR4COtukAAA1Ls5fw                       soba-ya-new-york   \n",
       "4      YV0VaJgV2zotzI7XNUaMCQ                 mcdonalds-new-york-100   \n",
       "...                       ...                                    ...   \n",
       "17297  osnb51lPIHxUKRlcg7idwA              kathys-dumplings-brooklyn   \n",
       "17298  SkYcO8FaqYgoP-66g58OMw                  thai-pot-forest-hills   \n",
       "17299  nt-B5XlmTJlQsDqoiL7UKA                      chang-pai-jamaica   \n",
       "17300  E-_NtEsnwxrMfqb5_vIW3Q              starbucks-los-angeles-193   \n",
       "17301  pJPQ1N5PRti_ab--mXL5Tw                 starbucks-new-york-310   \n",
       "\n",
       "                              name  \\\n",
       "0                 II Caffe Latte 2   \n",
       "1      Chloe's Restaurant & Lounge   \n",
       "2                           Jahn's   \n",
       "3                          Soba-ya   \n",
       "4                       McDonald's   \n",
       "...                            ...   \n",
       "17297            Kathy's Dumplings   \n",
       "17298                     Thai Pot   \n",
       "17299                    Chang Pai   \n",
       "17300                    Starbucks   \n",
       "17301                    Starbucks   \n",
       "\n",
       "                                                                  image_url  \\\n",
       "0      https://s3-media0.fl.yelpcdn.com/bphoto/rL-1bjIrEvnG6zV8ofrZpg/o.jpg   \n",
       "1      https://s3-media0.fl.yelpcdn.com/bphoto/AFD_nPVpU1rhI7VMWvbltA/o.jpg   \n",
       "2      https://s3-media0.fl.yelpcdn.com/bphoto/9Oa1n8Dyo_n2N9YIhJxsgw/o.jpg   \n",
       "3      https://s3-media0.fl.yelpcdn.com/bphoto/LnjY25INn-aM1eAyiav8XA/o.jpg   \n",
       "4      https://s3-media0.fl.yelpcdn.com/bphoto/X710tzNcQt5xzpJMVIpZHw/o.jpg   \n",
       "...                                                                     ...   \n",
       "17297  https://s3-media0.fl.yelpcdn.com/bphoto/4PHqX5uxThKNvLcD0DZqrw/o.jpg   \n",
       "17298  https://s3-media0.fl.yelpcdn.com/bphoto/Qu_oE3bTpWt-pJw8r4LXxw/o.jpg   \n",
       "17299  https://s3-media0.fl.yelpcdn.com/bphoto/KAR293sfF0SDEHYpjT9cHQ/o.jpg   \n",
       "17300  https://s3-media0.fl.yelpcdn.com/bphoto/V5NGsaUdyns0Jm_aPGFMSw/o.jpg   \n",
       "17301  https://s3-media0.fl.yelpcdn.com/bphoto/_hzEpvNsjC_OgLk9VGN47A/o.jpg   \n",
       "\n",
       "       is_closed  \\\n",
       "0          False   \n",
       "1          False   \n",
       "2          False   \n",
       "3          False   \n",
       "4          False   \n",
       "...          ...   \n",
       "17297      False   \n",
       "17298      False   \n",
       "17299      False   \n",
       "17300       True   \n",
       "17301      False   \n",
       "\n",
       "                                                                                                                                                                                                   url  \\\n",
       "0                https://www.yelp.com/biz/ii-caffe-latte-2-new-york-4?adjust_creative=82uXkAt1Tiw7u9_h33zr1A&utm_campaign=yelp_api_v3&utm_medium=api_v3_phone_search&utm_source=82uXkAt1Tiw7u9_h33zr1A   \n",
       "1      https://www.yelp.com/biz/chloes-restaurant-and-lounge-brooklyn?adjust_creative=82uXkAt1Tiw7u9_h33zr1A&utm_campaign=yelp_api_v3&utm_medium=api_v3_phone_search&utm_source=82uXkAt1Tiw7u9_h33zr1A   \n",
       "2                      https://www.yelp.com/biz/jahns-jackson-heights?adjust_creative=82uXkAt1Tiw7u9_h33zr1A&utm_campaign=yelp_api_v3&utm_medium=api_v3_phone_search&utm_source=82uXkAt1Tiw7u9_h33zr1A   \n",
       "3                           https://www.yelp.com/biz/soba-ya-new-york?adjust_creative=82uXkAt1Tiw7u9_h33zr1A&utm_campaign=yelp_api_v3&utm_medium=api_v3_phone_search&utm_source=82uXkAt1Tiw7u9_h33zr1A   \n",
       "4                     https://www.yelp.com/biz/mcdonalds-new-york-100?adjust_creative=82uXkAt1Tiw7u9_h33zr1A&utm_campaign=yelp_api_v3&utm_medium=api_v3_phone_search&utm_source=82uXkAt1Tiw7u9_h33zr1A   \n",
       "...                                                                                                                                                                                                ...   \n",
       "17297              https://www.yelp.com/biz/kathys-dumplings-brooklyn?adjust_creative=82uXkAt1Tiw7u9_h33zr1A&utm_campaign=yelp_api_v3&utm_medium=api_v3_phone_search&utm_source=82uXkAt1Tiw7u9_h33zr1A   \n",
       "17298                  https://www.yelp.com/biz/thai-pot-forest-hills?adjust_creative=82uXkAt1Tiw7u9_h33zr1A&utm_campaign=yelp_api_v3&utm_medium=api_v3_phone_search&utm_source=82uXkAt1Tiw7u9_h33zr1A   \n",
       "17299                      https://www.yelp.com/biz/chang-pai-jamaica?adjust_creative=82uXkAt1Tiw7u9_h33zr1A&utm_campaign=yelp_api_v3&utm_medium=api_v3_phone_search&utm_source=82uXkAt1Tiw7u9_h33zr1A   \n",
       "17300              https://www.yelp.com/biz/starbucks-los-angeles-193?adjust_creative=82uXkAt1Tiw7u9_h33zr1A&utm_campaign=yelp_api_v3&utm_medium=api_v3_phone_search&utm_source=82uXkAt1Tiw7u9_h33zr1A   \n",
       "17301                 https://www.yelp.com/biz/starbucks-new-york-310?adjust_creative=82uXkAt1Tiw7u9_h33zr1A&utm_campaign=yelp_api_v3&utm_medium=api_v3_phone_search&utm_source=82uXkAt1Tiw7u9_h33zr1A   \n",
       "\n",
       "       review_count  \\\n",
       "0               127   \n",
       "1               192   \n",
       "2               172   \n",
       "3              1496   \n",
       "4                85   \n",
       "...             ...   \n",
       "17297           231   \n",
       "17298           258   \n",
       "17299            70   \n",
       "17300             1   \n",
       "17301            61   \n",
       "\n",
       "                                                                                                                                             categories  \\\n",
       "0      [{'alias': 'breakfast_brunch', 'title': 'Breakfast & Brunch'}, {'alias': 'desserts', 'title': 'Desserts'}, {'alias': 'cafes', 'title': 'Cafes'}]   \n",
       "1                            [{'alias': 'haitian', 'title': 'Haitian'}, {'alias': 'salad', 'title': 'Salad'}, {'alias': 'seafood', 'title': 'Seafood'}]   \n",
       "2                                                                                                              [{'alias': 'diners', 'title': 'Diners'}]   \n",
       "3                                                                [{'alias': 'japanese', 'title': 'Japanese'}, {'alias': 'noodles', 'title': 'Noodles'}]   \n",
       "4                  [{'alias': 'hotdogs', 'title': 'Fast Food'}, {'alias': 'burgers', 'title': 'Burgers'}, {'alias': 'coffee', 'title': 'Coffee & Tea'}]   \n",
       "...                                                                                                                                                 ...   \n",
       "17297                                                                                                        [{'alias': 'chinese', 'title': 'Chinese'}]   \n",
       "17298                                                                                                              [{'alias': 'thai', 'title': 'Thai'}]   \n",
       "17299                                                                    [{'alias': 'thai', 'title': 'Thai'}, {'alias': 'chinese', 'title': 'Chinese'}]   \n",
       "17300                                                                                                    [{'alias': 'coffee', 'title': 'Coffee & Tea'}]   \n",
       "17301                                                                                                    [{'alias': 'coffee', 'title': 'Coffee & Tea'}]   \n",
       "\n",
       "       rating                                                     coordinates  \\\n",
       "0         3.5                {'latitude': 40.8246899, 'longitude': -73.94704}   \n",
       "1         2.5                  {'latitude': 40.63755, 'longitude': -73.89731}   \n",
       "2         3.5                  {'latitude': 40.74941, 'longitude': -73.88497}   \n",
       "3         4.0                {'latitude': 40.72965, 'longitude': -73.9878899}   \n",
       "4         2.5                  {'latitude': 40.71852, 'longitude': -74.00115}   \n",
       "...       ...                                                             ...   \n",
       "17297     4.0              {'latitude': 40.6279735, 'longitude': -74.0293625}   \n",
       "17298     3.0  {'latitude': 40.7247545048924, 'longitude': -73.8498401641846}   \n",
       "17299     2.0              {'latitude': 40.7094307, 'longitude': -73.7955093}   \n",
       "17300     1.0                {'latitude': 33.986341, 'longitude': -118.32644}   \n",
       "17301     2.5                {'latitude': 40.763714, 'longitude': -73.985313}   \n",
       "\n",
       "                 transactions price  \\\n",
       "0      ['delivery', 'pickup']    $$   \n",
       "1      ['delivery', 'pickup']    $$   \n",
       "2      ['delivery', 'pickup']    $$   \n",
       "3      ['delivery', 'pickup']    $$   \n",
       "4                ['delivery']     $   \n",
       "...                       ...   ...   \n",
       "17297  ['pickup', 'delivery']     $   \n",
       "17298  ['delivery', 'pickup']    $$   \n",
       "17299  ['delivery', 'pickup']    $$   \n",
       "17300                      []     $   \n",
       "17301                      []    $$   \n",
       "\n",
       "                                                                                                                                                                                                                   location  \\\n",
       "0                      {'address1': '458 W 145th St', 'address2': '', 'address3': '', 'city': 'New York', 'zip_code': '10031', 'country': 'US', 'state': 'NY', 'display_address': ['458 W 145th St', 'New York, NY 10031']}   \n",
       "1                            {'address1': '9413 Ave L', 'address2': None, 'address3': '', 'city': 'Brooklyn', 'zip_code': '11236', 'country': 'US', 'state': 'NY', 'display_address': ['9413 Ave L', 'Brooklyn, NY 11236']}   \n",
       "2        {'address1': '81-04 37th Ave', 'address2': '', 'address3': '', 'city': 'Jackson Heights', 'zip_code': '11372', 'country': 'US', 'state': 'NY', 'display_address': ['81-04 37th Ave', 'Jackson Heights, NY 11372']}   \n",
       "3                          {'address1': '229 E 9th St', 'address2': '', 'address3': '', 'city': 'New York', 'zip_code': '10003', 'country': 'US', 'state': 'NY', 'display_address': ['229 E 9th St', 'New York, NY 10003']}   \n",
       "4                        {'address1': '262 Canal St', 'address2': None, 'address3': '', 'city': 'New York', 'zip_code': '10013', 'country': 'US', 'state': 'NY', 'display_address': ['262 Canal St', 'New York, NY 10013']}   \n",
       "...                                                                                                                                                                                                                     ...   \n",
       "17297                      {'address1': '7924 3rd Ave', 'address2': '', 'address3': '', 'city': 'Brooklyn', 'zip_code': '11209', 'country': 'US', 'state': 'NY', 'display_address': ['7924 3rd Ave', 'Brooklyn, NY 11209']}   \n",
       "17298  {'address1': '103-07 Queens Blvd', 'address2': '', 'address3': '', 'city': 'Forest Hills', 'zip_code': '11375', 'country': 'US', 'state': 'NY', 'display_address': ['103-07 Queens Blvd', 'Forest Hills, NY 11375']}   \n",
       "17299          {'address1': '166-12 Hillside Ave', 'address2': '', 'address3': '', 'city': 'Jamaica', 'zip_code': '11432', 'country': 'US', 'state': 'NY', 'display_address': ['166-12 Hillside Ave', 'Jamaica, NY 11432']}   \n",
       "17300                  {'address1': '871 8th Ave', 'address2': '', 'address3': '', 'city': 'Los Angeles', 'zip_code': '90019', 'country': 'US', 'state': 'CA', 'display_address': ['871 8th Ave', 'Los Angeles, CA 90019']}   \n",
       "17301                        {'address1': '871 8th Ave', 'address2': '', 'address3': '', 'city': 'New York', 'zip_code': '10019', 'country': 'US', 'state': 'NY', 'display_address': ['871 8th Ave', 'New York, NY 10019']}   \n",
       "\n",
       "             phone   display_phone  \n",
       "0      12122340202  (212) 234-0202  \n",
       "1      13477709051  (347) 770-9051  \n",
       "2      17186510700  (718) 651-0700  \n",
       "3      12125336966  (212) 533-6966  \n",
       "4      12129415823  (212) 941-5823  \n",
       "...            ...             ...  \n",
       "17297  17188337000  (718) 833-7000  \n",
       "17298  17188973898  (718) 897-3898  \n",
       "17299  17182918222  (718) 291-8222  \n",
       "17300  12122467699  (212) 246-7699  \n",
       "17301  12122467699  (212) 246-7699  \n",
       "\n",
       "[17302 rows x 15 columns]"
      ]
     },
     "execution_count": 108,
     "metadata": {},
     "output_type": "execute_result"
    }
   ],
   "source": [
    "yelp_businesses_df.to_csv('yelp_businesses.csv',index=False)\n",
    "yelp_df = pd.read_csv('yelp_businesses.csv')\n",
    "yelp_df"
   ]
  },
  {
   "cell_type": "code",
   "execution_count": 109,
   "metadata": {
    "ExecuteTime": {
     "end_time": "2022-04-17T07:12:43.271814Z",
     "start_time": "2022-04-17T07:12:43.206394Z"
    }
   },
   "outputs": [
    {
     "name": "stdout",
     "output_type": "stream",
     "text": [
      "<class 'pandas.core.frame.DataFrame'>\n",
      "RangeIndex: 17302 entries, 0 to 17301\n",
      "Data columns (total 15 columns):\n",
      " #   Column         Non-Null Count  Dtype  \n",
      "---  ------         --------------  -----  \n",
      " 0   id             17302 non-null  object \n",
      " 1   alias          17302 non-null  object \n",
      " 2   name           17302 non-null  object \n",
      " 3   image_url      16563 non-null  object \n",
      " 4   is_closed      17302 non-null  bool   \n",
      " 5   url            17302 non-null  object \n",
      " 6   review_count   17302 non-null  int64  \n",
      " 7   categories     17302 non-null  object \n",
      " 8   rating         17302 non-null  float64\n",
      " 9   coordinates    17302 non-null  object \n",
      " 10  transactions   17302 non-null  object \n",
      " 11  price          14501 non-null  object \n",
      " 12  location       17302 non-null  object \n",
      " 13  phone          17302 non-null  int64  \n",
      " 14  display_phone  17302 non-null  object \n",
      "dtypes: bool(1), float64(1), int64(2), object(11)\n",
      "memory usage: 1.9+ MB\n"
     ]
    }
   ],
   "source": [
    "yelp_df.info()"
   ]
  },
  {
   "cell_type": "code",
   "execution_count": 225,
   "metadata": {
    "ExecuteTime": {
     "end_time": "2022-04-17T22:45:10.223471Z",
     "start_time": "2022-04-17T22:45:10.157385Z"
    }
   },
   "outputs": [],
   "source": [
    "yelp_df['url'] = 'https://www.yelp.com/biz/'+yelp_df['alias']"
   ]
  },
  {
   "cell_type": "code",
   "execution_count": 234,
   "metadata": {
    "ExecuteTime": {
     "end_time": "2022-04-17T22:49:42.145388Z",
     "start_time": "2022-04-17T22:49:42.132333Z"
    }
   },
   "outputs": [
    {
     "data": {
      "text/plain": [
       "10294"
      ]
     },
     "execution_count": 234,
     "metadata": {},
     "output_type": "execute_result"
    }
   ],
   "source": [
    "yelp_df['display_phone'].nunique()"
   ]
  },
  {
   "cell_type": "code",
   "execution_count": 231,
   "metadata": {
    "ExecuteTime": {
     "end_time": "2022-04-17T22:48:22.439239Z",
     "start_time": "2022-04-17T22:48:22.307121Z"
    }
   },
   "outputs": [
    {
     "data": {
      "text/html": [
       "<div>\n",
       "<style scoped>\n",
       "    .dataframe tbody tr th:only-of-type {\n",
       "        vertical-align: middle;\n",
       "    }\n",
       "\n",
       "    .dataframe tbody tr th {\n",
       "        vertical-align: top;\n",
       "    }\n",
       "\n",
       "    .dataframe thead th {\n",
       "        text-align: right;\n",
       "    }\n",
       "</style>\n",
       "<table border=\"1\" class=\"dataframe\">\n",
       "  <thead>\n",
       "    <tr style=\"text-align: right;\">\n",
       "      <th></th>\n",
       "      <th>id</th>\n",
       "      <th>alias</th>\n",
       "      <th>name</th>\n",
       "      <th>image_url</th>\n",
       "      <th>is_closed</th>\n",
       "      <th>url</th>\n",
       "      <th>review_count</th>\n",
       "      <th>categories</th>\n",
       "      <th>rating</th>\n",
       "      <th>coordinates</th>\n",
       "      <th>transactions</th>\n",
       "      <th>price</th>\n",
       "      <th>location</th>\n",
       "      <th>phone</th>\n",
       "      <th>display_phone</th>\n",
       "    </tr>\n",
       "  </thead>\n",
       "  <tbody>\n",
       "    <tr>\n",
       "      <th>6</th>\n",
       "      <td>yIWKtjt9v0m7i8mKBQlsug</td>\n",
       "      <td>la-casa-de-julia-woodside</td>\n",
       "      <td>La Casa de Julia</td>\n",
       "      <td>https://s3-media0.fl.yelpcdn.com/bphoto/OOY3KQW7ylz-tDRyNkdRtA/o.jpg</td>\n",
       "      <td>False</td>\n",
       "      <td>https://www.yelp.com/biz/la-casa-de-julia-woodside</td>\n",
       "      <td>9</td>\n",
       "      <td>[{'alias': 'tacos', 'title': 'Tacos'}, {'alias': 'sportsbars', 'title': 'Sports Bars'}]</td>\n",
       "      <td>3.5</td>\n",
       "      <td>{'latitude': 40.74618, 'longitude': -73.89954}</td>\n",
       "      <td>['delivery', 'pickup']</td>\n",
       "      <td>NaN</td>\n",
       "      <td>{'address1': '64-09 Roosevelt Ave', 'address2': None, 'address3': None, 'city': 'Woodside', 'zip_code': '11377', 'country': 'US', 'state': 'NY', 'display_address': ['64-09 Roosevelt Ave', 'Woodside, NY 11377']}</td>\n",
       "      <td>13478080627</td>\n",
       "      <td>(347) 808-0627</td>\n",
       "    </tr>\n",
       "    <tr>\n",
       "      <th>9</th>\n",
       "      <td>zdgJUdnxkRmmtb4qIk0ZHg</td>\n",
       "      <td>sushi-zo-midtown-new-york-new-york</td>\n",
       "      <td>Sushi Zo | Midtown New York</td>\n",
       "      <td>https://s3-media0.fl.yelpcdn.com/bphoto/kibfipheDdcSR7MGtjmH5Q/o.jpg</td>\n",
       "      <td>False</td>\n",
       "      <td>https://www.yelp.com/biz/sushi-zo-midtown-new-york-new-york</td>\n",
       "      <td>28</td>\n",
       "      <td>[{'alias': 'sushi', 'title': 'Sushi Bars'}]</td>\n",
       "      <td>4.5</td>\n",
       "      <td>{'latitude': 40.74971, 'longitude': -73.97759}</td>\n",
       "      <td>[]</td>\n",
       "      <td>$$$$</td>\n",
       "      <td>{'address1': '127 E 39th St', 'address2': '', 'address3': None, 'city': 'New York', 'zip_code': '10016', 'country': 'US', 'state': 'NY', 'display_address': ['127 E 39th St', 'New York, NY 10016']}</td>\n",
       "      <td>19172658054</td>\n",
       "      <td>(917) 265-8054</td>\n",
       "    </tr>\n",
       "    <tr>\n",
       "      <th>10</th>\n",
       "      <td>v8npyOL2ADgobgr6pSUNuA</td>\n",
       "      <td>mcdonalds-brooklyn-100</td>\n",
       "      <td>McDonald's</td>\n",
       "      <td>https://s3-media0.fl.yelpcdn.com/bphoto/Ujr37VSP0i5PitOv-uEMfQ/o.jpg</td>\n",
       "      <td>False</td>\n",
       "      <td>https://www.yelp.com/biz/mcdonalds-brooklyn-100</td>\n",
       "      <td>60</td>\n",
       "      <td>[{'alias': 'hotdogs', 'title': 'Fast Food'}, {'alias': 'burgers', 'title': 'Burgers'}, {'alias': 'coffee', 'title': 'Coffee &amp; Tea'}]</td>\n",
       "      <td>2.5</td>\n",
       "      <td>{'latitude': 40.5993204166153, 'longitude': -73.9889772317838}</td>\n",
       "      <td>['delivery']</td>\n",
       "      <td>$</td>\n",
       "      <td>{'address1': '2413 86th St', 'address2': '', 'address3': '', 'city': 'Brooklyn', 'zip_code': '11214', 'country': 'US', 'state': 'NY', 'display_address': ['2413 86th St', 'Brooklyn, NY 11214']}</td>\n",
       "      <td>17183729098</td>\n",
       "      <td>(718) 372-9098</td>\n",
       "    </tr>\n",
       "    <tr>\n",
       "      <th>11</th>\n",
       "      <td>HhOu55Tw7IuUL3h65GF25A</td>\n",
       "      <td>bonjour-crepes-and-wine-new-york-2</td>\n",
       "      <td>Bonjour Crepes &amp; Wine</td>\n",
       "      <td>https://s3-media0.fl.yelpcdn.com/bphoto/QRsfojUgceb7LVhTCLGwuw/o.jpg</td>\n",
       "      <td>False</td>\n",
       "      <td>https://www.yelp.com/biz/bonjour-crepes-and-wine-new-york-2</td>\n",
       "      <td>161</td>\n",
       "      <td>[{'alias': 'creperies', 'title': 'Creperies'}, {'alias': 'wine_bars', 'title': 'Wine Bars'}, {'alias': 'coffee', 'title': 'Coffee &amp; Tea'}]</td>\n",
       "      <td>3.5</td>\n",
       "      <td>{'latitude': 40.78456, 'longitude': -73.95219}</td>\n",
       "      <td>['pickup', 'delivery']</td>\n",
       "      <td>$$</td>\n",
       "      <td>{'address1': '1442 Lexington Ave', 'address2': '', 'address3': '', 'city': 'New York', 'zip_code': '10128', 'country': 'US', 'state': 'NY', 'display_address': ['1442 Lexington Ave', 'New York, NY 10128']}</td>\n",
       "      <td>12125344300</td>\n",
       "      <td>(212) 534-4300</td>\n",
       "    </tr>\n",
       "    <tr>\n",
       "      <th>13</th>\n",
       "      <td>wLvcBF3tbvu5h6XDYfm7DA</td>\n",
       "      <td>burp-castle-new-york</td>\n",
       "      <td>Burp Castle</td>\n",
       "      <td>https://s3-media0.fl.yelpcdn.com/bphoto/3aqHNbGm3mRGIjclVq0CaA/o.jpg</td>\n",
       "      <td>False</td>\n",
       "      <td>https://www.yelp.com/biz/burp-castle-new-york</td>\n",
       "      <td>557</td>\n",
       "      <td>[{'alias': 'pubs', 'title': 'Pubs'}, {'alias': 'lounges', 'title': 'Lounges'}]</td>\n",
       "      <td>4.0</td>\n",
       "      <td>{'latitude': 40.7283252192663, 'longitude': -73.9886448736218}</td>\n",
       "      <td>[]</td>\n",
       "      <td>$$</td>\n",
       "      <td>{'address1': '41 E 7th St', 'address2': '', 'address3': '', 'city': 'New York', 'zip_code': '10003', 'country': 'US', 'state': 'NY', 'display_address': ['41 E 7th St', 'New York, NY 10003']}</td>\n",
       "      <td>12129824576</td>\n",
       "      <td>(212) 982-4576</td>\n",
       "    </tr>\n",
       "    <tr>\n",
       "      <th>...</th>\n",
       "      <td>...</td>\n",
       "      <td>...</td>\n",
       "      <td>...</td>\n",
       "      <td>...</td>\n",
       "      <td>...</td>\n",
       "      <td>...</td>\n",
       "      <td>...</td>\n",
       "      <td>...</td>\n",
       "      <td>...</td>\n",
       "      <td>...</td>\n",
       "      <td>...</td>\n",
       "      <td>...</td>\n",
       "      <td>...</td>\n",
       "      <td>...</td>\n",
       "      <td>...</td>\n",
       "    </tr>\n",
       "    <tr>\n",
       "      <th>17297</th>\n",
       "      <td>osnb51lPIHxUKRlcg7idwA</td>\n",
       "      <td>kathys-dumplings-brooklyn</td>\n",
       "      <td>Kathy's Dumplings</td>\n",
       "      <td>https://s3-media0.fl.yelpcdn.com/bphoto/4PHqX5uxThKNvLcD0DZqrw/o.jpg</td>\n",
       "      <td>False</td>\n",
       "      <td>https://www.yelp.com/biz/kathys-dumplings-brooklyn</td>\n",
       "      <td>231</td>\n",
       "      <td>[{'alias': 'chinese', 'title': 'Chinese'}]</td>\n",
       "      <td>4.0</td>\n",
       "      <td>{'latitude': 40.6279735, 'longitude': -74.0293625}</td>\n",
       "      <td>['pickup', 'delivery']</td>\n",
       "      <td>$</td>\n",
       "      <td>{'address1': '7924 3rd Ave', 'address2': '', 'address3': '', 'city': 'Brooklyn', 'zip_code': '11209', 'country': 'US', 'state': 'NY', 'display_address': ['7924 3rd Ave', 'Brooklyn, NY 11209']}</td>\n",
       "      <td>17188337000</td>\n",
       "      <td>(718) 833-7000</td>\n",
       "    </tr>\n",
       "    <tr>\n",
       "      <th>17298</th>\n",
       "      <td>SkYcO8FaqYgoP-66g58OMw</td>\n",
       "      <td>thai-pot-forest-hills</td>\n",
       "      <td>Thai Pot</td>\n",
       "      <td>https://s3-media0.fl.yelpcdn.com/bphoto/Qu_oE3bTpWt-pJw8r4LXxw/o.jpg</td>\n",
       "      <td>False</td>\n",
       "      <td>https://www.yelp.com/biz/thai-pot-forest-hills</td>\n",
       "      <td>258</td>\n",
       "      <td>[{'alias': 'thai', 'title': 'Thai'}]</td>\n",
       "      <td>3.0</td>\n",
       "      <td>{'latitude': 40.7247545048924, 'longitude': -73.8498401641846}</td>\n",
       "      <td>['delivery', 'pickup']</td>\n",
       "      <td>$$</td>\n",
       "      <td>{'address1': '103-07 Queens Blvd', 'address2': '', 'address3': '', 'city': 'Forest Hills', 'zip_code': '11375', 'country': 'US', 'state': 'NY', 'display_address': ['103-07 Queens Blvd', 'Forest Hills, NY 11375']}</td>\n",
       "      <td>17188973898</td>\n",
       "      <td>(718) 897-3898</td>\n",
       "    </tr>\n",
       "    <tr>\n",
       "      <th>17299</th>\n",
       "      <td>nt-B5XlmTJlQsDqoiL7UKA</td>\n",
       "      <td>chang-pai-jamaica</td>\n",
       "      <td>Chang Pai</td>\n",
       "      <td>https://s3-media0.fl.yelpcdn.com/bphoto/KAR293sfF0SDEHYpjT9cHQ/o.jpg</td>\n",
       "      <td>False</td>\n",
       "      <td>https://www.yelp.com/biz/chang-pai-jamaica</td>\n",
       "      <td>70</td>\n",
       "      <td>[{'alias': 'thai', 'title': 'Thai'}, {'alias': 'chinese', 'title': 'Chinese'}]</td>\n",
       "      <td>2.0</td>\n",
       "      <td>{'latitude': 40.7094307, 'longitude': -73.7955093}</td>\n",
       "      <td>['delivery', 'pickup']</td>\n",
       "      <td>$$</td>\n",
       "      <td>{'address1': '166-12 Hillside Ave', 'address2': '', 'address3': '', 'city': 'Jamaica', 'zip_code': '11432', 'country': 'US', 'state': 'NY', 'display_address': ['166-12 Hillside Ave', 'Jamaica, NY 11432']}</td>\n",
       "      <td>17182918222</td>\n",
       "      <td>(718) 291-8222</td>\n",
       "    </tr>\n",
       "    <tr>\n",
       "      <th>17300</th>\n",
       "      <td>E-_NtEsnwxrMfqb5_vIW3Q</td>\n",
       "      <td>starbucks-los-angeles-193</td>\n",
       "      <td>Starbucks</td>\n",
       "      <td>https://s3-media0.fl.yelpcdn.com/bphoto/V5NGsaUdyns0Jm_aPGFMSw/o.jpg</td>\n",
       "      <td>True</td>\n",
       "      <td>https://www.yelp.com/biz/starbucks-los-angeles-193</td>\n",
       "      <td>1</td>\n",
       "      <td>[{'alias': 'coffee', 'title': 'Coffee &amp; Tea'}]</td>\n",
       "      <td>1.0</td>\n",
       "      <td>{'latitude': 33.986341, 'longitude': -118.32644}</td>\n",
       "      <td>[]</td>\n",
       "      <td>$</td>\n",
       "      <td>{'address1': '871 8th Ave', 'address2': '', 'address3': '', 'city': 'Los Angeles', 'zip_code': '90019', 'country': 'US', 'state': 'CA', 'display_address': ['871 8th Ave', 'Los Angeles, CA 90019']}</td>\n",
       "      <td>12122467699</td>\n",
       "      <td>(212) 246-7699</td>\n",
       "    </tr>\n",
       "    <tr>\n",
       "      <th>17301</th>\n",
       "      <td>pJPQ1N5PRti_ab--mXL5Tw</td>\n",
       "      <td>starbucks-new-york-310</td>\n",
       "      <td>Starbucks</td>\n",
       "      <td>https://s3-media0.fl.yelpcdn.com/bphoto/_hzEpvNsjC_OgLk9VGN47A/o.jpg</td>\n",
       "      <td>False</td>\n",
       "      <td>https://www.yelp.com/biz/starbucks-new-york-310</td>\n",
       "      <td>61</td>\n",
       "      <td>[{'alias': 'coffee', 'title': 'Coffee &amp; Tea'}]</td>\n",
       "      <td>2.5</td>\n",
       "      <td>{'latitude': 40.763714, 'longitude': -73.985313}</td>\n",
       "      <td>[]</td>\n",
       "      <td>$$</td>\n",
       "      <td>{'address1': '871 8th Ave', 'address2': '', 'address3': '', 'city': 'New York', 'zip_code': '10019', 'country': 'US', 'state': 'NY', 'display_address': ['871 8th Ave', 'New York, NY 10019']}</td>\n",
       "      <td>12122467699</td>\n",
       "      <td>(212) 246-7699</td>\n",
       "    </tr>\n",
       "  </tbody>\n",
       "</table>\n",
       "<p>8474 rows × 15 columns</p>\n",
       "</div>"
      ],
      "text/plain": [
       "                           id                               alias  \\\n",
       "6      yIWKtjt9v0m7i8mKBQlsug           la-casa-de-julia-woodside   \n",
       "9      zdgJUdnxkRmmtb4qIk0ZHg  sushi-zo-midtown-new-york-new-york   \n",
       "10     v8npyOL2ADgobgr6pSUNuA              mcdonalds-brooklyn-100   \n",
       "11     HhOu55Tw7IuUL3h65GF25A  bonjour-crepes-and-wine-new-york-2   \n",
       "13     wLvcBF3tbvu5h6XDYfm7DA                burp-castle-new-york   \n",
       "...                       ...                                 ...   \n",
       "17297  osnb51lPIHxUKRlcg7idwA           kathys-dumplings-brooklyn   \n",
       "17298  SkYcO8FaqYgoP-66g58OMw               thai-pot-forest-hills   \n",
       "17299  nt-B5XlmTJlQsDqoiL7UKA                   chang-pai-jamaica   \n",
       "17300  E-_NtEsnwxrMfqb5_vIW3Q           starbucks-los-angeles-193   \n",
       "17301  pJPQ1N5PRti_ab--mXL5Tw              starbucks-new-york-310   \n",
       "\n",
       "                              name  \\\n",
       "6                 La Casa de Julia   \n",
       "9      Sushi Zo | Midtown New York   \n",
       "10                      McDonald's   \n",
       "11           Bonjour Crepes & Wine   \n",
       "13                     Burp Castle   \n",
       "...                            ...   \n",
       "17297            Kathy's Dumplings   \n",
       "17298                     Thai Pot   \n",
       "17299                    Chang Pai   \n",
       "17300                    Starbucks   \n",
       "17301                    Starbucks   \n",
       "\n",
       "                                                                  image_url  \\\n",
       "6      https://s3-media0.fl.yelpcdn.com/bphoto/OOY3KQW7ylz-tDRyNkdRtA/o.jpg   \n",
       "9      https://s3-media0.fl.yelpcdn.com/bphoto/kibfipheDdcSR7MGtjmH5Q/o.jpg   \n",
       "10     https://s3-media0.fl.yelpcdn.com/bphoto/Ujr37VSP0i5PitOv-uEMfQ/o.jpg   \n",
       "11     https://s3-media0.fl.yelpcdn.com/bphoto/QRsfojUgceb7LVhTCLGwuw/o.jpg   \n",
       "13     https://s3-media0.fl.yelpcdn.com/bphoto/3aqHNbGm3mRGIjclVq0CaA/o.jpg   \n",
       "...                                                                     ...   \n",
       "17297  https://s3-media0.fl.yelpcdn.com/bphoto/4PHqX5uxThKNvLcD0DZqrw/o.jpg   \n",
       "17298  https://s3-media0.fl.yelpcdn.com/bphoto/Qu_oE3bTpWt-pJw8r4LXxw/o.jpg   \n",
       "17299  https://s3-media0.fl.yelpcdn.com/bphoto/KAR293sfF0SDEHYpjT9cHQ/o.jpg   \n",
       "17300  https://s3-media0.fl.yelpcdn.com/bphoto/V5NGsaUdyns0Jm_aPGFMSw/o.jpg   \n",
       "17301  https://s3-media0.fl.yelpcdn.com/bphoto/_hzEpvNsjC_OgLk9VGN47A/o.jpg   \n",
       "\n",
       "       is_closed                                                          url  \\\n",
       "6          False           https://www.yelp.com/biz/la-casa-de-julia-woodside   \n",
       "9          False  https://www.yelp.com/biz/sushi-zo-midtown-new-york-new-york   \n",
       "10         False              https://www.yelp.com/biz/mcdonalds-brooklyn-100   \n",
       "11         False  https://www.yelp.com/biz/bonjour-crepes-and-wine-new-york-2   \n",
       "13         False                https://www.yelp.com/biz/burp-castle-new-york   \n",
       "...          ...                                                          ...   \n",
       "17297      False           https://www.yelp.com/biz/kathys-dumplings-brooklyn   \n",
       "17298      False               https://www.yelp.com/biz/thai-pot-forest-hills   \n",
       "17299      False                   https://www.yelp.com/biz/chang-pai-jamaica   \n",
       "17300       True           https://www.yelp.com/biz/starbucks-los-angeles-193   \n",
       "17301      False              https://www.yelp.com/biz/starbucks-new-york-310   \n",
       "\n",
       "       review_count  \\\n",
       "6                 9   \n",
       "9                28   \n",
       "10               60   \n",
       "11              161   \n",
       "13              557   \n",
       "...             ...   \n",
       "17297           231   \n",
       "17298           258   \n",
       "17299            70   \n",
       "17300             1   \n",
       "17301            61   \n",
       "\n",
       "                                                                                                                                       categories  \\\n",
       "6                                                         [{'alias': 'tacos', 'title': 'Tacos'}, {'alias': 'sportsbars', 'title': 'Sports Bars'}]   \n",
       "9                                                                                                     [{'alias': 'sushi', 'title': 'Sushi Bars'}]   \n",
       "10           [{'alias': 'hotdogs', 'title': 'Fast Food'}, {'alias': 'burgers', 'title': 'Burgers'}, {'alias': 'coffee', 'title': 'Coffee & Tea'}]   \n",
       "11     [{'alias': 'creperies', 'title': 'Creperies'}, {'alias': 'wine_bars', 'title': 'Wine Bars'}, {'alias': 'coffee', 'title': 'Coffee & Tea'}]   \n",
       "13                                                                 [{'alias': 'pubs', 'title': 'Pubs'}, {'alias': 'lounges', 'title': 'Lounges'}]   \n",
       "...                                                                                                                                           ...   \n",
       "17297                                                                                                  [{'alias': 'chinese', 'title': 'Chinese'}]   \n",
       "17298                                                                                                        [{'alias': 'thai', 'title': 'Thai'}]   \n",
       "17299                                                              [{'alias': 'thai', 'title': 'Thai'}, {'alias': 'chinese', 'title': 'Chinese'}]   \n",
       "17300                                                                                              [{'alias': 'coffee', 'title': 'Coffee & Tea'}]   \n",
       "17301                                                                                              [{'alias': 'coffee', 'title': 'Coffee & Tea'}]   \n",
       "\n",
       "       rating                                                     coordinates  \\\n",
       "6         3.5                  {'latitude': 40.74618, 'longitude': -73.89954}   \n",
       "9         4.5                  {'latitude': 40.74971, 'longitude': -73.97759}   \n",
       "10        2.5  {'latitude': 40.5993204166153, 'longitude': -73.9889772317838}   \n",
       "11        3.5                  {'latitude': 40.78456, 'longitude': -73.95219}   \n",
       "13        4.0  {'latitude': 40.7283252192663, 'longitude': -73.9886448736218}   \n",
       "...       ...                                                             ...   \n",
       "17297     4.0              {'latitude': 40.6279735, 'longitude': -74.0293625}   \n",
       "17298     3.0  {'latitude': 40.7247545048924, 'longitude': -73.8498401641846}   \n",
       "17299     2.0              {'latitude': 40.7094307, 'longitude': -73.7955093}   \n",
       "17300     1.0                {'latitude': 33.986341, 'longitude': -118.32644}   \n",
       "17301     2.5                {'latitude': 40.763714, 'longitude': -73.985313}   \n",
       "\n",
       "                 transactions price  \\\n",
       "6      ['delivery', 'pickup']   NaN   \n",
       "9                          []  $$$$   \n",
       "10               ['delivery']     $   \n",
       "11     ['pickup', 'delivery']    $$   \n",
       "13                         []    $$   \n",
       "...                       ...   ...   \n",
       "17297  ['pickup', 'delivery']     $   \n",
       "17298  ['delivery', 'pickup']    $$   \n",
       "17299  ['delivery', 'pickup']    $$   \n",
       "17300                      []     $   \n",
       "17301                      []    $$   \n",
       "\n",
       "                                                                                                                                                                                                                   location  \\\n",
       "6        {'address1': '64-09 Roosevelt Ave', 'address2': None, 'address3': None, 'city': 'Woodside', 'zip_code': '11377', 'country': 'US', 'state': 'NY', 'display_address': ['64-09 Roosevelt Ave', 'Woodside, NY 11377']}   \n",
       "9                      {'address1': '127 E 39th St', 'address2': '', 'address3': None, 'city': 'New York', 'zip_code': '10016', 'country': 'US', 'state': 'NY', 'display_address': ['127 E 39th St', 'New York, NY 10016']}   \n",
       "10                         {'address1': '2413 86th St', 'address2': '', 'address3': '', 'city': 'Brooklyn', 'zip_code': '11214', 'country': 'US', 'state': 'NY', 'display_address': ['2413 86th St', 'Brooklyn, NY 11214']}   \n",
       "11             {'address1': '1442 Lexington Ave', 'address2': '', 'address3': '', 'city': 'New York', 'zip_code': '10128', 'country': 'US', 'state': 'NY', 'display_address': ['1442 Lexington Ave', 'New York, NY 10128']}   \n",
       "13                           {'address1': '41 E 7th St', 'address2': '', 'address3': '', 'city': 'New York', 'zip_code': '10003', 'country': 'US', 'state': 'NY', 'display_address': ['41 E 7th St', 'New York, NY 10003']}   \n",
       "...                                                                                                                                                                                                                     ...   \n",
       "17297                      {'address1': '7924 3rd Ave', 'address2': '', 'address3': '', 'city': 'Brooklyn', 'zip_code': '11209', 'country': 'US', 'state': 'NY', 'display_address': ['7924 3rd Ave', 'Brooklyn, NY 11209']}   \n",
       "17298  {'address1': '103-07 Queens Blvd', 'address2': '', 'address3': '', 'city': 'Forest Hills', 'zip_code': '11375', 'country': 'US', 'state': 'NY', 'display_address': ['103-07 Queens Blvd', 'Forest Hills, NY 11375']}   \n",
       "17299          {'address1': '166-12 Hillside Ave', 'address2': '', 'address3': '', 'city': 'Jamaica', 'zip_code': '11432', 'country': 'US', 'state': 'NY', 'display_address': ['166-12 Hillside Ave', 'Jamaica, NY 11432']}   \n",
       "17300                  {'address1': '871 8th Ave', 'address2': '', 'address3': '', 'city': 'Los Angeles', 'zip_code': '90019', 'country': 'US', 'state': 'CA', 'display_address': ['871 8th Ave', 'Los Angeles, CA 90019']}   \n",
       "17301                        {'address1': '871 8th Ave', 'address2': '', 'address3': '', 'city': 'New York', 'zip_code': '10019', 'country': 'US', 'state': 'NY', 'display_address': ['871 8th Ave', 'New York, NY 10019']}   \n",
       "\n",
       "             phone   display_phone  \n",
       "6      13478080627  (347) 808-0627  \n",
       "9      19172658054  (917) 265-8054  \n",
       "10     17183729098  (718) 372-9098  \n",
       "11     12125344300  (212) 534-4300  \n",
       "13     12129824576  (212) 982-4576  \n",
       "...            ...             ...  \n",
       "17297  17188337000  (718) 833-7000  \n",
       "17298  17188973898  (718) 897-3898  \n",
       "17299  17182918222  (718) 291-8222  \n",
       "17300  12122467699  (212) 246-7699  \n",
       "17301  12122467699  (212) 246-7699  \n",
       "\n",
       "[8474 rows x 15 columns]"
      ]
     },
     "execution_count": 231,
     "metadata": {},
     "output_type": "execute_result"
    }
   ],
   "source": [
    "yelp_df[yelp_df.duplicated(['id'], keep=False)]"
   ]
  },
  {
   "cell_type": "code",
   "execution_count": 110,
   "metadata": {
    "ExecuteTime": {
     "end_time": "2022-04-17T07:12:49.775208Z",
     "start_time": "2022-04-17T07:12:49.694141Z"
    }
   },
   "outputs": [
    {
     "data": {
      "text/html": [
       "<div>\n",
       "<style scoped>\n",
       "    .dataframe tbody tr th:only-of-type {\n",
       "        vertical-align: middle;\n",
       "    }\n",
       "\n",
       "    .dataframe tbody tr th {\n",
       "        vertical-align: top;\n",
       "    }\n",
       "\n",
       "    .dataframe thead th {\n",
       "        text-align: right;\n",
       "    }\n",
       "</style>\n",
       "<table border=\"1\" class=\"dataframe\">\n",
       "  <thead>\n",
       "    <tr style=\"text-align: right;\">\n",
       "      <th></th>\n",
       "      <th>review_count</th>\n",
       "      <th>rating</th>\n",
       "      <th>phone</th>\n",
       "    </tr>\n",
       "  </thead>\n",
       "  <tbody>\n",
       "    <tr>\n",
       "      <th>count</th>\n",
       "      <td>17302.0</td>\n",
       "      <td>17302.0</td>\n",
       "      <td>17302.0</td>\n",
       "    </tr>\n",
       "    <tr>\n",
       "      <th>mean</th>\n",
       "      <td>189.5</td>\n",
       "      <td>3.5</td>\n",
       "      <td>15227799712.2</td>\n",
       "    </tr>\n",
       "    <tr>\n",
       "      <th>std</th>\n",
       "      <td>378.4</td>\n",
       "      <td>0.8</td>\n",
       "      <td>2494930771.0</td>\n",
       "    </tr>\n",
       "    <tr>\n",
       "      <th>min</th>\n",
       "      <td>1.0</td>\n",
       "      <td>1.0</td>\n",
       "      <td>12062250663.0</td>\n",
       "    </tr>\n",
       "    <tr>\n",
       "      <th>25%</th>\n",
       "      <td>17.0</td>\n",
       "      <td>3.0</td>\n",
       "      <td>12127498940.5</td>\n",
       "    </tr>\n",
       "    <tr>\n",
       "      <th>50%</th>\n",
       "      <td>67.0</td>\n",
       "      <td>3.5</td>\n",
       "      <td>17182416042.0</td>\n",
       "    </tr>\n",
       "    <tr>\n",
       "      <th>75%</th>\n",
       "      <td>209.0</td>\n",
       "      <td>4.0</td>\n",
       "      <td>17186241444.0</td>\n",
       "    </tr>\n",
       "    <tr>\n",
       "      <th>max</th>\n",
       "      <td>13458.0</td>\n",
       "      <td>5.0</td>\n",
       "      <td>19732238527.0</td>\n",
       "    </tr>\n",
       "  </tbody>\n",
       "</table>\n",
       "</div>"
      ],
      "text/plain": [
       "       review_count  rating         phone\n",
       "count       17302.0 17302.0       17302.0\n",
       "mean          189.5     3.5 15227799712.2\n",
       "std           378.4     0.8  2494930771.0\n",
       "min             1.0     1.0 12062250663.0\n",
       "25%            17.0     3.0 12127498940.5\n",
       "50%            67.0     3.5 17182416042.0\n",
       "75%           209.0     4.0 17186241444.0\n",
       "max         13458.0     5.0 19732238527.0"
      ]
     },
     "execution_count": 110,
     "metadata": {},
     "output_type": "execute_result"
    }
   ],
   "source": [
    "yelp_businesses_df.describe()"
   ]
  },
  {
   "cell_type": "code",
   "execution_count": 111,
   "metadata": {
    "ExecuteTime": {
     "end_time": "2022-04-17T07:12:53.483662Z",
     "start_time": "2022-04-17T07:12:53.475902Z"
    }
   },
   "outputs": [
    {
     "data": {
      "text/plain": [
       "3278066"
      ]
     },
     "execution_count": 111,
     "metadata": {},
     "output_type": "execute_result"
    }
   ],
   "source": [
    "yelp_businesses_df['review_count'].sum()"
   ]
  },
  {
   "cell_type": "code",
   "execution_count": 5,
   "metadata": {
    "ExecuteTime": {
     "end_time": "2022-04-18T10:19:20.831977Z",
     "start_time": "2022-04-18T10:19:20.792218Z"
    }
   },
   "outputs": [],
   "source": [
    "for df in df_list:\n",
    "    df['url'] = 'https://www.yelp.com/biz/'+df['alias']"
   ]
  },
  {
   "cell_type": "code",
   "execution_count": 6,
   "metadata": {
    "ExecuteTime": {
     "end_time": "2022-04-18T10:19:25.422659Z",
     "start_time": "2022-04-18T10:19:25.419093Z"
    }
   },
   "outputs": [],
   "source": [
    "url_list2 = list(df_2['url'])"
   ]
  },
  {
   "cell_type": "code",
   "execution_count": 30,
   "metadata": {
    "ExecuteTime": {
     "end_time": "2022-04-18T11:49:35.800310Z",
     "start_time": "2022-04-18T11:49:35.791931Z"
    }
   },
   "outputs": [],
   "source": [
    "url_list5 = list(df_5['url'])"
   ]
  },
  {
   "cell_type": "code",
   "execution_count": 45,
   "metadata": {
    "ExecuteTime": {
     "end_time": "2022-04-18T15:33:09.940136Z",
     "start_time": "2022-04-18T15:33:09.924801Z"
    }
   },
   "outputs": [
    {
     "data": {
      "text/plain": [
       "2210"
      ]
     },
     "execution_count": 45,
     "metadata": {},
     "output_type": "execute_result"
    }
   ],
   "source": [
    "url_list8 = list(df_8['url'])\n",
    "len(url_list8)"
   ]
  },
  {
   "cell_type": "code",
   "execution_count": 33,
   "metadata": {
    "ExecuteTime": {
     "end_time": "2022-04-18T13:04:30.583635Z",
     "start_time": "2022-04-18T13:04:30.568371Z"
    }
   },
   "outputs": [],
   "source": [
    "def get_text(url_list):\n",
    "    review_txt = []\n",
    "\n",
    "    for url in url_list:\n",
    "        req = requests.get(url)\n",
    "        soup = bs(req.content)\n",
    "        comments = soup.find_all(class_='raw__09f24__T4Ezm', lang=\"en\")\n",
    "        comment_txt = []\n",
    "\n",
    "        for comment in comments:\n",
    "            comment_txt.append(comment.text)\n",
    "\n",
    "        comment_corp = ('.'.join(comment_txt))\n",
    "        review_txt.append(comment_corp)\n",
    "    return review_txt"
   ]
  },
  {
   "cell_type": "code",
   "execution_count": null,
   "metadata": {
    "ExecuteTime": {
     "start_time": "2022-04-18T15:36:14.457Z"
    }
   },
   "outputs": [],
   "source": [
    "review_txt8 = get_text(url_list8)"
   ]
  },
  {
   "cell_type": "code",
   "execution_count": 42,
   "metadata": {
    "ExecuteTime": {
     "end_time": "2022-04-18T15:33:09.940136Z",
     "start_time": "2022-04-18T15:33:09.924801Z"
    }
   },
   "outputs": [],
   "source": [
    "url_list7 = list(df_7['url'])"
   ]
  },
  {
   "cell_type": "code",
   "execution_count": 32,
   "metadata": {
    "ExecuteTime": {
     "end_time": "2022-04-18T13:04:30.565380Z",
     "start_time": "2022-04-18T11:51:19.104679Z"
    }
   },
   "outputs": [],
   "source": [
    "review_txt5 = []\n",
    "\n",
    "for url5 in url_list5:\n",
    "    req5 = requests.get(url5)\n",
    "    soup5 = bs(req5.content)\n",
    "    comments5 = soup5.find_all(class_='raw__09f24__T4Ezm', lang=\"en\")\n",
    "    comment_txt5 = []\n",
    "    \n",
    "    for comment5 in comments5:\n",
    "        comment_txt5.append(comment5.text)\n",
    "    \n",
    "    comment_corp5 = ('.'.join(comment_txt5))\n",
    "    review_txt5.append(comment_corp5)"
   ]
  },
  {
   "cell_type": "code",
   "execution_count": 13,
   "metadata": {
    "ExecuteTime": {
     "end_time": "2022-04-18T11:11:31.242703Z",
     "start_time": "2022-04-18T11:11:31.214447Z"
    }
   },
   "outputs": [],
   "source": [
    "df_2['Review_Text'] = review_txt2"
   ]
  },
  {
   "cell_type": "code",
   "execution_count": 18,
   "metadata": {
    "ExecuteTime": {
     "end_time": "2022-04-18T11:15:24.981021Z",
     "start_time": "2022-04-18T11:15:24.871169Z"
    }
   },
   "outputs": [],
   "source": [
    "rvw1 = pd.read_csv('rvw_txt1.csv')"
   ]
  },
  {
   "cell_type": "code",
   "execution_count": 21,
   "metadata": {
    "ExecuteTime": {
     "end_time": "2022-04-18T11:16:20.462459Z",
     "start_time": "2022-04-18T11:16:20.440704Z"
    }
   },
   "outputs": [
    {
     "data": {
      "text/plain": [
       "(859, 1)"
      ]
     },
     "execution_count": 21,
     "metadata": {},
     "output_type": "execute_result"
    }
   ],
   "source": [
    "rvw1.shape"
   ]
  },
  {
   "cell_type": "code",
   "execution_count": 23,
   "metadata": {
    "ExecuteTime": {
     "end_time": "2022-04-18T11:16:35.191690Z",
     "start_time": "2022-04-18T11:16:35.181277Z"
    }
   },
   "outputs": [],
   "source": [
    "df_1['Reviews'] =  rvw1"
   ]
  },
  {
   "cell_type": "code",
   "execution_count": 24,
   "metadata": {
    "ExecuteTime": {
     "end_time": "2022-04-18T11:16:40.165003Z",
     "start_time": "2022-04-18T11:16:40.036910Z"
    }
   },
   "outputs": [
    {
     "data": {
      "text/html": [
       "<div>\n",
       "<style scoped>\n",
       "    .dataframe tbody tr th:only-of-type {\n",
       "        vertical-align: middle;\n",
       "    }\n",
       "\n",
       "    .dataframe tbody tr th {\n",
       "        vertical-align: top;\n",
       "    }\n",
       "\n",
       "    .dataframe thead th {\n",
       "        text-align: right;\n",
       "    }\n",
       "</style>\n",
       "<table border=\"1\" class=\"dataframe\">\n",
       "  <thead>\n",
       "    <tr style=\"text-align: right;\">\n",
       "      <th></th>\n",
       "      <th>id</th>\n",
       "      <th>alias</th>\n",
       "      <th>name</th>\n",
       "      <th>image_url</th>\n",
       "      <th>is_closed</th>\n",
       "      <th>url</th>\n",
       "      <th>review_count</th>\n",
       "      <th>categories</th>\n",
       "      <th>rating</th>\n",
       "      <th>coordinates</th>\n",
       "      <th>transactions</th>\n",
       "      <th>price</th>\n",
       "      <th>location</th>\n",
       "      <th>phone</th>\n",
       "      <th>display_phone</th>\n",
       "      <th>Reviews</th>\n",
       "    </tr>\n",
       "  </thead>\n",
       "  <tbody>\n",
       "    <tr>\n",
       "      <th>0</th>\n",
       "      <td>fEsgUESZxOQtd4YEmAUuow</td>\n",
       "      <td>ii-caffe-latte-2-new-york-4</td>\n",
       "      <td>II Caffe Latte 2</td>\n",
       "      <td>https://s3-media0.fl.yelpcdn.com/bphoto/rL-1bjIrEvnG6zV8ofrZpg/o.jpg</td>\n",
       "      <td>False</td>\n",
       "      <td>https://www.yelp.com/biz/ii-caffe-latte-2-new-york-4</td>\n",
       "      <td>127</td>\n",
       "      <td>[{'alias': 'breakfast_brunch', 'title': 'Breakfast &amp; Brunch'}, {'alias': 'desserts', 'title': 'Desserts'}, {'alias': 'cafes', 'title': 'Cafes'}]</td>\n",
       "      <td>3.5</td>\n",
       "      <td>{'latitude': 40.8246899, 'longitude': -73.94704}</td>\n",
       "      <td>['delivery', 'pickup']</td>\n",
       "      <td>$$</td>\n",
       "      <td>{'address1': '458 W 145th St', 'address2': '', 'address3': '', 'city': 'New York', 'zip_code': '10031', 'country': 'US', 'state': 'NY', 'display_address': ['458 W 145th St', 'New York, NY 10031']}</td>\n",
       "      <td>12122340202</td>\n",
       "      <td>(212) 234-0202</td>\n",
       "      <td>Met my bestie for a warm beverage yesterday and we ended up here at Caffe Latte. Immediately upon entering, the lady working there let us know that the table, chairs and menus had been totally disinfected (Eff this Coronavirus ). And it's true, as soon as other people got up when their meal was finished, I watched her disinfect where they had just been. She also came by and offered us sanitizer for our hands. Cleanliness has always been important, but now more so than ever! And she was nailing it, making us feel at ease. The vibe was so cute inside that I actually decided to stay a little longer and order an entree. I think I got the Linguini Alfredo?? And I added shrimp. It was VERY good. Told her about my dietary restrictions and she worked some magic (Which she also did with my hot chocolate as well  I didn't even know dairy free whip cream was a thing!)During this whole COVID19 scare, I haven't been eating out a lot. But I would feel confident coming back here to enjoy a little time out in the wild..Walked in to check out their menu. Person working there didn't acknowledge me. I guess the dishes were more important than my patronage. Place was empty so I guess it was all a sign..I've been to this location twice and each time the service , the food and the atmosphere has CHANGED MY LIFE. I had the black Ink ravioli and my long time wife of 10 years had the 4 cheese ravioli, safe to say it left us both deeply satisfied. The waiter made us feel loved. Will definitely be returning in the future for our anniversary!.Had a great comforting brunch this morning in this adorable neighborhood cafe.  The entryway is decorated with the bottoms of wine bottles. Small seating area on the main level with mouthwatering desserts on display, further seating upstairs with live music on occasion.Split waffles with a light &amp; airy non-dairy whipped maple fluff &amp; berries, as well as huevos rancheros made with excellent refried beans. Everything was cooked well, great flavor. Topped off our meal with a blood orange mimosa &amp; cafe mocha.The staff was warm &amp; welcoming, attentive without being a pest.  The prices are super reasonable for NYC! Great neighborhood gem - a must-go!.They had outdoor tables and we stopped by. It was a nice setting and the server was nice. Food(we had Korean BBQ tacos and simple tomato sauce linguini)tasted a bit too sweet (tomato sauce was even a bit sweet... it caught us off guard) though I have a feeling we should have ordered waffles and pancake type of food(one review says something yummy about Tiramisu!!!). I would love to support local businesses and I hope others would stop by and grub bites at this cute spot..I went to this place years ago with my boyfriend for breakfast and loved it! Service was great we ordered the Acapulco breakfast went there so many times again got the black bean burger and it was delish I never remember the name and now that I found it again I love that's still opened during COVID AND IM DEFINITELY ordering to go.I LOVE this restaurant the food id amazing I enjoy their  quesadillas and their pasta. It is very flavorful and I would recommend it for anyone..Visited with a friend earlier this evening to decompress a bit after reviewing for final exams. Staff was really friendly and I loved my black bean burger. It was maybe an hour and change to closing time so we got a lot individualized attention. Really enjoyed the casual, cozy atmosphere. Will be back again for more tiramisu :).Rudest and unprofessional workers ever I would never come to this place again  Place was empty, literally only me and my friend there and these two workers would not stop asking us to order and rush us through out. I ordered a chai latte that tasted nothing like chai but more like water, 1 second later rushed me to order something else and they didn't stop till me and my friend decided to leave because it was getting too uncomfortable. Asian lady ridiculously unprofessional, making sarcastic jokes to rush us. And again, only me and my friend were at this place.Food is decent but too pricey, I would much rather go to a nearby deli and order better food and better service We ended up taking our business to sugar hill cafe, much better atmosphere, laid back people, very friendly and welcoming I would give 0 stars if I could Don't waste your money, not worth it at all Many more places around waaaaaaaaay better.I get weird about food sometimes. Like recently, I've been looking for a place in the area that had a great Caesar salad with anchovies in the dressing. There's something about the umami bomb of anchovies that makes a true Caesar a Caesar. It's harder to find than you think... weirdly enough. Anyways, I found it &amp; a little bit more. Live music playing in the front of the store. Authentic Caesar salad inside. Great service with a smile. Eclectic place where new &amp; old locals as well as tourists come in.I really love this place. The people who work here are what makes me love living in Harlem.</td>\n",
       "    </tr>\n",
       "    <tr>\n",
       "      <th>1</th>\n",
       "      <td>zm_ngfMxyU6d85AaTIgI7Q</td>\n",
       "      <td>chloes-restaurant-and-lounge-brooklyn</td>\n",
       "      <td>Chloe's Restaurant &amp; Lounge</td>\n",
       "      <td>https://s3-media0.fl.yelpcdn.com/bphoto/AFD_nPVpU1rhI7VMWvbltA/o.jpg</td>\n",
       "      <td>False</td>\n",
       "      <td>https://www.yelp.com/biz/chloes-restaurant-and-lounge-brooklyn</td>\n",
       "      <td>192</td>\n",
       "      <td>[{'alias': 'haitian', 'title': 'Haitian'}, {'alias': 'salad', 'title': 'Salad'}, {'alias': 'seafood', 'title': 'Seafood'}]</td>\n",
       "      <td>2.5</td>\n",
       "      <td>{'latitude': 40.63755, 'longitude': -73.89731}</td>\n",
       "      <td>['delivery', 'pickup']</td>\n",
       "      <td>$$</td>\n",
       "      <td>{'address1': '9413 Ave L', 'address2': None, 'address3': '', 'city': 'Brooklyn', 'zip_code': '11236', 'country': 'US', 'state': 'NY', 'display_address': ['9413 Ave L', 'Brooklyn, NY 11236']}</td>\n",
       "      <td>13477709051</td>\n",
       "      <td>(347) 770-9051</td>\n",
       "      <td>- good griot- nice pairing with the waffle- not much traditional american breakfast- DJ turned up at 3:30 on a sunday- the champagne tasted cheap- the flavored champagne was super sweet- they were kinda stingy with the shrimp- pickliz was great- they were able to replace the grits with dumplings- it was kinda empty on a sunday between 1-4  i doubt a resey would be necessary- the place is very spacious.I ordered  griot and rice on 3/1/22. When I reached home, I was disappointed with the amount of griot I received in a small tin container. I spent $20 plus dollars on this meal. It tastes good but definitely a tease. On March 15, 2022, I decided to order again. This time, I asked about the portion of the griot. They said this is the portion they give. If I want more griot I have to pay an additional $13.00 for another portion in the aluminum tin. I was tired and didn't feel like cooking, so I ordered. That was the biggest mistake ever. I got so sick. I had food poisoning. I had stomach pain, hot cold sweat , vomiting, etc. I couldn't finish food. Griot was under cook. I called the next day to speak to a supervisor. The receptionist took my message. The supervisor never called me back. I called the next day , and they said to come after 6 pm. I arrived around 830 and no supervisor. The restaurant was closing   . No call back or anything. You guys must learn to have better customer service.  By the way, if you want extra gravy, they charge you a dollar.My business partner and I, attempted to have dinner at this establishment. The hostess greeted us and ask if we preferred to be seated at the front or the back of the restaurant. We opted for the back.As we were trying to get situated, a woman began screaming from across the room that she needed to see our ID and vaccination card. In the same breath, she asked if we were doing hookah. We told her no, and she stated, we needed to be seated at the front part of the restaurant as people do not like the smell of hookah in their food.My issue, is the way we were approached. This woman should have approach us like a professional and not like an inpatient toddler. She also made a lot of assumptions instead of asking the right questions.I want to be very clear, that we did not have an issue with this establishment's rules. Our issue, is how we were approached. The way the staff was screaming from across the room in front of other customers was unacceptable.At any rate, we kindly left and took our money to Suede, where the staff was excellent and the food was absolutely delicious..This spot is great for food Haitian food and chill vibes. The rum punch is tasty and strong. When dining here, you should try their wings, salmon, or pasta. The food is tastes great, but be prepared for a long wait time. Chloe's is also great for dancing, seeing a love band, or brunch vibes. Overall, you should give this place  try..The restaurant can be easily overlooked if you're not a local or front the area. This is my third time going there. Twice I went there to eat. The first time year ago, I didn't a brunch. The second the lounge area is def a vibe and the dj was amazing on either Friday or Saturday night. Now recently I went OCT 2021 just to get a quick bite. This is a Haitian / Caribbean restaurant. As a Haitian, myself I maybe be bias. The food is good but not better than my mother/ grandmother's food. But it get the job done. The blue long island had me feeling a little tipsy which is good. The margaritas were straight juice or sugar water. The rice was okay and the great of the food was amazing. If I'm in the area, I would stop by but I won't go out my way to eat at Chloe's..I was not disappointed all!Security guards had amazing personalities and did not have attitudes (unlike most establishments you visit and the security guards are mad for no reason)There was one waiter so the food and drinks took forever to come. I had the Chloe Gouyad drink it tasted so good. The salmon and mashed potatoes were amazing. The Dj was awesome!I love the selection of music he played and he didn't talk a on the mic and interrupt the tunes playing. Hookah...Yes this place has hookah. Highly Recommend this place.Soooooo upset to get my calamari and it be in this small ass tin. 14.50$ for it at that. The wings are ok but my calamari was cold and soggy just a disappointment in all. Footprints gives a bigger portion for the same price..I've had some great times here. Food is always great and so are the drinks. The ambiance here is enjoyable also with great music, although it can get very loud and you won't be able to hear your neighbor. There's a big open dance floor if you're not satisfied with doing a little shimmy from your seat like me :).The absolute WORST SERVICE I ever came across. Over an hour and half for my food. I order apps (wings) and was sitting at the bar.  If it wasn't getting late would have went elsewhere.  I end up having to take my food to go. The Bartender was not polite at all and the drinks sucked. Ashamed how a restaurant i use to like fell off so bad,.Came in and was seated immediately. Went on a Wednesday night. There was a game night and karaoke going on. When my friend and I got there, there was a happy hour special. Two drinks for $15.  I ordered everything I had the taste for on the menu and I enjoyed most of it. This is a Haitian styled restaurant. I liked everything but the Mac and cheese. It wasn't terrible, just not my style of Mac. Everyone was nice. Thank u.</td>\n",
       "    </tr>\n",
       "    <tr>\n",
       "      <th>2</th>\n",
       "      <td>LbGAKVX3cwZj4fUC2XOLxg</td>\n",
       "      <td>jahns-jackson-heights</td>\n",
       "      <td>Jahn's</td>\n",
       "      <td>https://s3-media0.fl.yelpcdn.com/bphoto/9Oa1n8Dyo_n2N9YIhJxsgw/o.jpg</td>\n",
       "      <td>False</td>\n",
       "      <td>https://www.yelp.com/biz/jahns-jackson-heights</td>\n",
       "      <td>172</td>\n",
       "      <td>[{'alias': 'diners', 'title': 'Diners'}]</td>\n",
       "      <td>3.5</td>\n",
       "      <td>{'latitude': 40.74941, 'longitude': -73.88497}</td>\n",
       "      <td>['delivery', 'pickup']</td>\n",
       "      <td>$$</td>\n",
       "      <td>{'address1': '81-04 37th Ave', 'address2': '', 'address3': '', 'city': 'Jackson Heights', 'zip_code': '11372', 'country': 'US', 'state': 'NY', 'display_address': ['81-04 37th Ave', 'Jackson Heights, NY 11372']}</td>\n",
       "      <td>17186510700</td>\n",
       "      <td>(718) 651-0700</td>\n",
       "      <td>This spot is right across my job so it is super convenient to order from here. The only downfall is that their prices are a bit elevated, like it is everywhere. I have tried their tuna melts, pancakes, and yesterday I tried their chicken souvlaki platter and I absolutely loved it. It comes with grilled chicken, Greek salad, pita bread and French fries. The chicken was cooked perfectly, although they do not add too much pieces of chicken, the salad was fresh and the fries were crispy. Very good diner !.I am 9 months pregnant and really wanted chocolate chip pancakes. They provided butter, enough syrup, a fork and knife. I didn't have to waddle to the kitchen for a thing. This delivery was the highlight of my day..Jahn's is a dying breed for sure!  An \"old school\" soda/ice cream shop with the long counter seating with it's red leather swivel stools!  This brings back memories for anyone that isn't.....25!!Jahn's has been around a long time, and I must say, this particular spot in Jackson Heights is quite the cool neighborhood!  A lot of activity outside with the street vendors and quaint shops, but step inside to a time gone by for sure!Ice cream done well is their claim to fame and they didn't disappoint!  The banana split was delicious with it's three large scoops, the bananas were fresh, but not so much that it had that \"green\" taste to them.  The toppings were enough without having the ice cream swimming in the sauces.It reminds me of going into places like this as a kid and ordering a hot dog and fries, and of course, followed by some delicious ice cream creation!.The food is great if you dine in. Otherwise, you risk missing items when ordering through a delivery app. I've ordered a cheeseburger twice, and both times I was missing fries, lettuce and tomatoes.If you're not going to include the items, don't claim that the order comes with it. So stupid I have to contact support and possibly risk my reputation on the app due to the restaurant's incompetence..Basic diner food but old school classic decor. I ordered the French toast with a side of turkey sausage. The French toast was pretty good but the turkey sausage was salty. The coffee was decent. Everything just tasted very okay but nothing wowed me..Everyone should come for brunch, but more importantly, for the sundaes and the milkshakes and the ice creams! They've got an entire separate menu dedicated to just the desserts!I've been coming here with my family ever since I was a little girl, then on dates as a teenager, then to treat my parents to brunch - and thru it, all of Jahn's charm and hospitality thankfully remains now that I take my son over for a meal or a sundae ever so often. I especially love how nostalgic and quaint the diner still feels. Never change Jahn's!.Wonderful spot to visit no matter the day or time. Great hospitality with comfort food done right. Little gem worth visiting if you are in the area..Basic diner food. Both me and my bf ended up with diarrhea. All we had was pancakes bacon and eggs. Maybe someone didn't cook something right or food was old but that's never happened before where we both got diarrhea instantly from having simple breakfast . So definitely not coming back here. So sad because location is so close to my home I can walk here..Jahn's is that one old school place that most people have in their hometowns or neighborhoods. It's alright, there's really nothing special about it to me other than maybe some of the ice cream. I would never talk about Jahn's poorly though because it's a Jackson Heights staple and the people there are always nice. It's retro and a nice spot for the kids. Food is a little pricey for mediocre food but it is expensive rent in the area. I remember the food definitely being better a long time ago, and the ice cream isn't bad. Nothing special though, yummy banana splits however are yum. And DEFINITELY waffles with ice cream. Sometimes my friends or family go late just for a waffle with ice cream My favorite thing about Jahn's is on your birthday you get a free Birthday sundae..Really good place to eat, it's a place to eat in the morning to have a cup of coffee. The employees were really cool and chill. Over all a nice place!</td>\n",
       "    </tr>\n",
       "    <tr>\n",
       "      <th>3</th>\n",
       "      <td>i8ejDDR4COtukAAA1Ls5fw</td>\n",
       "      <td>soba-ya-new-york</td>\n",
       "      <td>Soba-ya</td>\n",
       "      <td>https://s3-media0.fl.yelpcdn.com/bphoto/LnjY25INn-aM1eAyiav8XA/o.jpg</td>\n",
       "      <td>False</td>\n",
       "      <td>https://www.yelp.com/biz/soba-ya-new-york</td>\n",
       "      <td>1496</td>\n",
       "      <td>[{'alias': 'japanese', 'title': 'Japanese'}, {'alias': 'noodles', 'title': 'Noodles'}]</td>\n",
       "      <td>4.0</td>\n",
       "      <td>{'latitude': 40.72965, 'longitude': -73.9878899}</td>\n",
       "      <td>['delivery', 'pickup']</td>\n",
       "      <td>$$</td>\n",
       "      <td>{'address1': '229 E 9th St', 'address2': '', 'address3': '', 'city': 'New York', 'zip_code': '10003', 'country': 'US', 'state': 'NY', 'display_address': ['229 E 9th St', 'New York, NY 10003']}</td>\n",
       "      <td>12125336966</td>\n",
       "      <td>(212) 533-6966</td>\n",
       "      <td>3.5 The soba is home made. There is a subtle grainy texture of the soba that is more noticeable in the hot soba than the cold one. I liked my ten zaku soba with the tempura. It was refreshing. The tempura was fried nice and crispy. The dipping broth was light and refreshing. And the soba was chewy which I liked. It tasted like pretty standard soba. Nothing extraordinary and nothing terrible.Vibes were nice.Went back recently, and can say Soba-ya is still one of my faves in the city.This place was crazy packed on a Friday evening. FYI, although one of their websites says no reservations, they definitely do take reservations, so I recommend calling in advance. Unfortunately if you put your name down for walk-in, you can't really leave because they won't call or text - they will only come outside and look for you.However, the food is as good as I remember it. The texture of the noodles/soba is fabulous, with the perfect \"bite\". I've never ordered the rice dishes, but my friend who ordered the chicken katsu don loved the dish. My only disappointment is that they didn't have the cold uni soba dish on the menu my most recent visit, as that used to be my go-to order. They have happy hour between 3-6pm on weekends with half price beer and discounted sake. Service is quick and courteous.My only suggestion would be to bring back the uni soba!.Has lunch today after several months and surprised that they changed the lunch menu and also the regular menu. That was disappointing given that Inloved the lunch box they use to offer at $25 (soba, salmon, salad, rice, tempura, dessert...)Basically the main menu is shorter in all senses and sobas are more basic but you can add toppings (before you could also add toppings). Now the menu comes with a picture of the dishes.VERY VERY DISAPPOINTED that they do not offer tempura! Not as appetizer nor main course. It only appears with soba. SO sad, I was such a big fan of their tempura.So, I forgot to take the picture but the lunch menu is now basically $21 and there are only 3 options: sashimi don, eel don, tempura don. That is, a bowl of soba or udon cold or hot, and the dons (sashimi, eel or tempura on rice). I wish the soba portion was a bit larger....Still giving 4 stars because I love their soba soupOh! Also, they only offered the lunch menu when we asked....Lunch box is amazing!!!!!!Variety and quality food! Everything so so yummy!!! Best deal ever for lunch!.Cozy japanese with excellent service restaurant! Will definitely come back for more udon and soba!Went on Tuesday at 10.25pm and were very well attended (even though they close the kitchen at 10.30pm.We had the tasty tuna tartar, edamame, soba and udon soup. Everything was excellent, while the soba was as expected, the udon soup is really mind blowing!!!.I came back here again, craving udon and tempura. They don't offer the old lunch set anymore with a small portion of everything. I guess since post pandemic businesses are struggling so I noticed the portions are smaller and for the same price we are getting less food. I got the tempura shrimp and veggie with a small bowl of udon. That's about $22. Prior to pandemic we would get a lot more food for the same price. I believe we got salmon, mash potatoes and seaweed salad etc. there were a mix of small sides. But this time just tempura and noodles available plus a bowl of rice. It was a bit disappointing , I hope they offer the old menu again..Love this place, especially their diva special for lunch or dinner! It's worth the pricy aftermath. Great seating and attention detailed staff. The restaurant is very traditional Japanese and there's always a long line so def come early and come hungry! I had shrimp tempera soba, three course meal with ice cream etc and it was great , I've been a regular since I tried this place many years ago!.The environment is really good. Their seasonal Sake Ikura Don ( salmon mushroom over rice) was super fresh and tasty, recommmend. Ten Zaru (Cold Soba) is recommended. I personally prefer dish with light taste, so their flavor is perfect for me. Would be better if they offer more apprtizer, otherwise you really finish the meal within 20 mins..A personal 3/5 :\"(Just wasn't suuuuper impressed by the noodles or portion here, especially for the price. Also the lack of vegetarian options made me a lil sad!My order: mori dipping noodle with kakiage.* didn't really taste the buckwheat in the soba/anything special (the waiter emphasized that the noodle was made in house)* the portion sizes were smaller than expected (there is a wooden slat on the bottom of the noodle)* the kakiage was also quite small for an extra $2-3 dollars* the dipping sauce kind of tasted like really strong soy sauce to me :\"(It's possible my palette isn't refined for this type of dish, so if this interests you &amp; you're into soba ™ I'd say come check it out! But if you're looking for a good bowl of noodles, I'd say maybe try somewhere else.Great food and decent priced.  Delicious soba and the sashimi was fresh.    Uni ja rice box at $22 is expensive for the amount but everything else was very good.Decent soba noodles and okay value. I ordered the Ten Zaru, which came with cold soba noodles and shrimp tempura. The noodles are actually not as much as they look, since there is a wood board in the bowl halfway up which the noodles are sitting on. But the noodles were decent, albeit a bit bland. There were three shrimp tempuras on the side which were standard in quality. The dipping sauce didn't really add much flavor. For $24, I would've hoped for more than just some okay noodles and three shrimp.The staff were pretty friendly, but the service speed was a bit slow. I had to ask them twice just to bring the check. The interior has a decent amount of seating and it's fairly normal in terms of layout and decor for a Japanese restaurant.Overall, Soba-ya is not a bad option for soba noodles, but also not a particularly great one. You should keep it in mind, but there is some stiff competition from the many other restaurants nearby..A good switch up after being on a carnivore diet for a month. The soba was light and refreshing. Heard that it was handmade. Unfortunately my not very delicate palate couldn't taste the difference.Soba-ya is like a haven in bustling Manhattan. We decided to eat here around 4PM on a Sunday after forgoing the wait at Hi-Collar. Immediately upon walking in, we all enter a collective state of calm due to the Japanese style dining room. The low lighting, quiet music, spacious tables, ample social distancing, and warmth of the restaurant beckoned us to sit down and have a happy meal. Service was very efficient. Of course, the restaurant is known for its soba but I don't like buckwheat noodles so I opted for my eternal love, sushi. I got the sake salmon don, a rice bowl topped with buttery slices of salmon sashimi and ikura. We also ordered hot tea for the table. They only had green tea, but no complaints. The piping, bold tea warmed our souls and kept us hydrated as we enjoyed our meal and conversation. My don was simple yet delicious. The ingredients were clearly very fresh. The salmon was so smooth and came with plain cuts as well as sake marinated slices. It wasn't anything too unique but it was exactly what I was craving. I think the relaxing ambiance and comforting dishes here are great for an intimate dinner over comforting dishes. I love how the tea was only $1 for the whole table and they gave unlimited refills.</td>\n",
       "    </tr>\n",
       "    <tr>\n",
       "      <th>4</th>\n",
       "      <td>YV0VaJgV2zotzI7XNUaMCQ</td>\n",
       "      <td>mcdonalds-new-york-100</td>\n",
       "      <td>McDonald's</td>\n",
       "      <td>https://s3-media0.fl.yelpcdn.com/bphoto/X710tzNcQt5xzpJMVIpZHw/o.jpg</td>\n",
       "      <td>False</td>\n",
       "      <td>https://www.yelp.com/biz/mcdonalds-new-york-100</td>\n",
       "      <td>85</td>\n",
       "      <td>[{'alias': 'hotdogs', 'title': 'Fast Food'}, {'alias': 'burgers', 'title': 'Burgers'}, {'alias': 'coffee', 'title': 'Coffee &amp; Tea'}]</td>\n",
       "      <td>2.5</td>\n",
       "      <td>{'latitude': 40.71852, 'longitude': -74.00115}</td>\n",
       "      <td>['delivery']</td>\n",
       "      <td>$</td>\n",
       "      <td>{'address1': '262 Canal St', 'address2': None, 'address3': '', 'city': 'New York', 'zip_code': '10013', 'country': 'US', 'state': 'NY', 'display_address': ['262 Canal St', 'New York, NY 10013']}</td>\n",
       "      <td>12129415823</td>\n",
       "      <td>(212) 941-5823</td>\n",
       "      <td>Did not have fountain drinks, but quick service and very cool interior design. The pies were warm, crumbly and scrumdilious.Check for the condiments before you leave, they consistently forget to include butter or syrup when i order pancakes. Who eats pancakes dry? Wtf.I mean food at McDonald's always 5stars. But the service here been nicer for some reason. So I think I should give them 4 stars. We love it since they open 24hrs and 3 blocks from our place..Our family of three was starving and in need of sustenance so we pulled over so I could hop in to grab us a quick bite.No lines was a beautiful sight, and yet the order took a while to compile. I ordered McChicken sandwich with no mayo, small fries, a happy meal, and a meal (can't remember) for my husband. I had enough time to head upstairs to the restrooms, which need some TLC. I hate public restrooms...ugh. There were teenagers seated upstairs, which indicated to me that this was a.an after school hangout spot. I made it downstairs, was handed my huge shopping bag of food, and was out the door. Sadly, my McChicken was nowhere to be found and that's because it was left off the order ticket smh. Clearly there's some room for improvement..This is pretty good atmosphere for Nyc arch experience..Honestly if you're in the Chinatown area, you probably shouldn't be eating here since there are so many nearby restaurants with good Chinese food. Even so, I stopped in here because I wanted something quick and just to take a break from Chinese food since I have it so often. This McDonald's was pretty huge with multi-floors. It was pretty crowded inside for a Saturday night. I was able to place my order with their mobile app, so I was able to skip the lines for ordering at the counter or with one of the kiosks. I was able to get my food fairly quickly and was on my way. The food (McDouble and a cheeseburger) was pretty standard for a McDonald's. Definitely A-OK..No clue what these other negative reviews are saying. This place is by far the cleanest, most professionally run McDonald's I have ever been to. I ordered the McChicken sandwich. Perfect amount of condiments applied. A+.Ok, let's get one thing straight - this is McDonalds. If you eat at any McDonalds, you're eating at your own risk. I was in the area here and decided that after spending hours freezing, I wanted a hot chocolate and to also use the restroom. I figured it would be busy since it was around the lunch hour, but it was worth the sacrifice. This location is 3 floors - bathroom is on the 2nd floor. Like a lot of businesses in Manhattan, it's confining in some areas and especially more so if it's crowded. And it was VERY crowded and busy when I came here, so the feeling of confinement was there......even after riding in a rush hour subway car. There were employees at least on the first 2 floors that were constantly cleaning, which is a very good thing. Speaking of employees, there were a lot of them in here both behind the counter and circulating the floors. Not sure of others' opinions, but despite being very crowded and with some moron customers, some creep customers, and some brain dead customers, each employee I encountered even in the smallest way was friendly and courteous. That says a lot being not only a McDonalds, but a business in general. I can't even recall this many MsDonalds employees at the same place being nice - and I've reluctantly been to several McDonalds in different cities and states. So if anything, the 3rd star is just for the friendliness of the employees here. I respect others' experiences, but for my own experience the employees here were very good. Speaking of \"employees\", I had two of them try to convince me to use the self service kiosk, which I didn't use. There were two of them with 2 sides. I'm not sure if it's the crowds at this location or the McDonalds response to the $15 minimum wage issues. I wasn't the only one wanting a hot beverage, so the wait for 1 hot chocolate took much longer than I would've guessed. If there is one thing I'd fix here, it's having at least 2 hot beverage dispensers with 2 employees running them instead of 1. Again, the \"food\" at McDonalds is its own issue. I assume the menu tastes similar to most other locations, though I rarely will ever eat at any McDonalds in the first place. So say what you will about McDonalds, but this is a good location and I would return here if I was in the area. Just be warned, this is a very busy location so bring your patience with you..Service is so hit or miss here, it's unbelievable. I've come in multiple times and received great service, and very fresh breakfast, and... the location was clean and inviting. Then... I've come in other times, walked in to a store where every spot of the floor is sticky and covered in foot prints, given heat lamp destroyed food, and asked to leave after picking up my order. To top it all off, on a few occasions, I've been threatened or harassed by homeless who use the location as a shelter and are ignored by the lack of management. It's so hit or mess that I don't recommend it. Roll the dice and hope for the best if you venture in..Absolutely love McDonald's. I would always come and order a meal of bacon quarter pounder. The entire staff are quick and efficient. Although the ice cream machine breaks too much，the staff tends to you in any way they can. I would definitely recommend coming here and they're busy on weekends.</td>\n",
       "    </tr>\n",
       "    <tr>\n",
       "      <th>...</th>\n",
       "      <td>...</td>\n",
       "      <td>...</td>\n",
       "      <td>...</td>\n",
       "      <td>...</td>\n",
       "      <td>...</td>\n",
       "      <td>...</td>\n",
       "      <td>...</td>\n",
       "      <td>...</td>\n",
       "      <td>...</td>\n",
       "      <td>...</td>\n",
       "      <td>...</td>\n",
       "      <td>...</td>\n",
       "      <td>...</td>\n",
       "      <td>...</td>\n",
       "      <td>...</td>\n",
       "      <td>...</td>\n",
       "    </tr>\n",
       "    <tr>\n",
       "      <th>854</th>\n",
       "      <td>2BDC9WjKYP5eHtkZvGlboQ</td>\n",
       "      <td>park-delicatessen-brooklyn</td>\n",
       "      <td>Park Delicatessen</td>\n",
       "      <td>https://s3-media0.fl.yelpcdn.com/bphoto/CtYyfhpPdQRndzm7d-ZT8g/o.jpg</td>\n",
       "      <td>False</td>\n",
       "      <td>https://www.yelp.com/biz/park-delicatessen-brooklyn</td>\n",
       "      <td>23</td>\n",
       "      <td>[{'alias': 'delis', 'title': 'Delis'}, {'alias': 'meats', 'title': 'Meat Shops'}]</td>\n",
       "      <td>4.5</td>\n",
       "      <td>{'latitude': 40.7257351177142, 'longitude': -73.94427729785}</td>\n",
       "      <td>['pickup', 'delivery']</td>\n",
       "      <td>$</td>\n",
       "      <td>{'address1': '209 Nassau Ave', 'address2': None, 'address3': '', 'city': 'Brooklyn', 'zip_code': '11222', 'country': 'US', 'state': 'NY', 'display_address': ['209 Nassau Ave', 'Brooklyn, NY 11222']}</td>\n",
       "      <td>17183832080</td>\n",
       "      <td>(718) 383-2080</td>\n",
       "      <td>This hidden gem on Nassau Av has offers very good and fresh food which is made daily from scratch! Eating here is like having a freshly cooked home meal made with love!You can get a freshly made sandwich or select from many hot or cold food dishes which are sitting and waiting for you in the display cases. I would highly recommend their breaded chicken cutlets and the pierogis are to die for!Best time to visit is during lunch hour before it's gets sold out, most dishes are refilled so don't worry but I would suggest coming in early!The staff is very friendly and provides great customer service! There's also seating inside but it very limited..Heck yes.  This place is a prefect NYC deli experience! Complete with little polish lady that is sweet as szarlotka. I had the chicken noodle soup and the chicken cutlet sandwich; both made with love and care. It was too much food for me, but this place is a winner..Park Delicatessen is a favorite! Their chicken cutlet sandwich is perfection. Crispy fried cutlet, not too greasy, on a great hero roll. Their breakfast sandwiches are also delicious, piled high with fresh ingredients. I am also a fan of their chicken noodle soup, using homemade stock, making it rich and chickeny. I have also had their pierogies, and am a big fan of the potato and cheese one, and the sauerkraut! Overall quality is far above your average deli, my only wish is they were open more often and I lived close enough to pick up!Definitely recommend giving them a try!.Ordered some dumplings and soup for pickup. The ladies at the front were nice, and the food was delicious! The meat dumplings were okay but cottage cheese dumplings were on point. The main concern was the lack of masks in the store... everybody's face was uncovered! It made me uncomfortable and question their health and safety standards. Will give them another try in the post-vaccine world..This is a no-frills but great deli!  Super simple, fresh food. Very polite and kind staff (even if you're not Polish, which apparently is an issue based on other establishments I stopped at in this neighborhood). Highly recommended. :D.This place has the best Potato and Egg sandwiches, and at lunch the best Chicken cutlets.  Great food,  cooked by the nicest women you will ever come across.   Always greet you with a smile.   They're fantastic cooks and make everything fresh daily..KRYSIAAAAAAA!Sometimes, I go inside just to say hello to the owner. She is a real staple in our Greenpoint community. Service is so important ESPECIALLY for a mom and pop establishment and Krysia understtands that.Krysia is a sweetheart and so is her staff!! So accommodating, no matter what the time, no matter how busy they are. They literally serve smiles. I always walk in happy and excited to see what they are serving for the day!When they got chicken cutlets, it's sammmmmwich day! And when they don't, you bet I'm getting salmon, stuffed cabbage with a side of broccoli. Be careful - once you discover Park, you won't be able to go anywhere else for lunch. Get ready to pack on the lbs!.Lady was nice enough to bring me out a menu &amp; informed me that they had homemade pierogies. I eat any type of dough now that I'm pregnant but my husband he's a picky eater. We shared an order &amp; it took us longer to open the box than to finish them they were really good. Can't post a picture because we devoured them.I'm giving myself one star for never having been here until recently. The food is refreshingly uncomplicated, fresh, delicious and well-priced.  The ladies here are beautiful and friendly and charming. Noted that one review suggested a seating area.. please don't ruin this place by allowing people to stay and kill the vibe..Good quality meat for sandwiches. reasonable prices. friendly service. im going to add it to the lunch rotation</td>\n",
       "    </tr>\n",
       "    <tr>\n",
       "      <th>855</th>\n",
       "      <td>V6xlMNLFTsxB4W0VVcRK_Q</td>\n",
       "      <td>230-fifth-rooftop-bar-new-york</td>\n",
       "      <td>230 Fifth Rooftop Bar</td>\n",
       "      <td>https://s3-media0.fl.yelpcdn.com/bphoto/Ygy2PfrN8nuIGMttdzRsxg/o.jpg</td>\n",
       "      <td>False</td>\n",
       "      <td>https://www.yelp.com/biz/230-fifth-rooftop-bar-new-york</td>\n",
       "      <td>3943</td>\n",
       "      <td>[{'alias': 'cocktailbars', 'title': 'Cocktail Bars'}]</td>\n",
       "      <td>3.0</td>\n",
       "      <td>{'latitude': 40.7440395, 'longitude': -73.9881258}</td>\n",
       "      <td>['delivery', 'pickup']</td>\n",
       "      <td>$$$</td>\n",
       "      <td>{'address1': '230 5th Ave', 'address2': '(corner 27th)', 'address3': '', 'city': 'New York', 'zip_code': '10001', 'country': 'US', 'state': 'NY', 'display_address': ['230 5th Ave', '(corner 27th)', 'New York, NY 10001']}</td>\n",
       "      <td>12127254300</td>\n",
       "      <td>(212) 725-4300</td>\n",
       "      <td>Music here is great. Brenda at the bar was amazing and kept us happy with her quick service and perfectly made drinks all night.Visiting New York for the second time around December, I lived near K-town, this bar is about a 7-minute walk. Although it was a weekday, I still waited for a while to get in. The view from Rooftop was really beautiful, plus the Christmas decorations and the bubble room (reservation required), also waited for a while to order a drink, but it was very atmospheric. Because it was really cold at the time, I ordered a hot drink instead.12月二訪紐約的時候，住在K-town區，步行約7分鐘路程，雖然是平日但仍排隊排了一陣子，Rooftop看到的景色真的很漂亮，加上聖誕裝飾還有泡泡屋(需要預訂)，點喝的稍微等了一陣子，但很有氣氛，因為當時真的挺冷的，所以反而點了熱的飲料來喝。.For a rooftop bar, the view is okay. Though there is a direct sight of the Empire State Building, the seating makes it difficult to get a better view of the city and surroundings. That being said, the rooftop does offer a large amount of seating. They have igloos with fireplaces inside which is a cute concept. However, these are reservation only. They also have other smaller tables and some mini \"homes\" which are Christmas decorated. The mini homes and other tables are open seats. I think the rooftop could have a little more walking space versus seating. There's also an inside area, but everyone was mostly on the rooftop. In the inside area, there is a photo booth as an added bonus. It's a little small inside and the borders could be a little more themed/original. We took them anyway for the memories which cost us $5..They stop the music and close an hour before they're supposed to. The bar takes at least 20 mins for one drink. The DJ lowers the music an hour before closing time. All in all, would only go for brunch or something similar. The nightlife is not the best option in the area.\"The city that never sleeps\" they said. Tuh.EDIT***** The owner commented saying they \"lower the music\" from 3-4 to calm the vibe is a complete lie. We were literally kicked out at 3:15 while trying to take pictures on the roof and the club was silent and clear by 3:30. As I stated previously: it's NYC and I recommend going elsewhere. This is not a good option for nightlife..I made a prepaid brunch reservation here for $230, but unfortunately found out I had tested positive for Covid the day before. When requesting to cancel the reservation, the manager (named Nicole) told me over the phone that she wouldn't be able to accommodate it and that \"I can still come to the restaurant with Covid as long as I am vaccinated\" (have this on video as well).Are you joking me? You would rather have Covid positive guests come to your restaurant instead of giving them a refund?! This place needs to be re-evaluated by the BBB..There are a lot of rooftop bars in Manhattan, but this may be the only bar you'll actually need to visit on your trip to the Big Apple.We were fortunate enough to come here during happy hour because the prices were a STEAL. I can definitely see this place popping at night because it has both an indoor and outdoor location and it has SO MUCH SPACE!I loved that they had a perfect view of the Empire State Building and a cute photo op to boot. FROSÉ - $10 -- if you are looking for the adult version of a capri sun, then this is the one for you! Thank goodness for warm weather because this was the perfect bevvie! It comes in a hilariously big boba straw which you'll definitely need because this cocktail is worth sharing with another person. CHICKEN STRIPS - $10 -- what better pairing is alcohol with chicken strips? They've got this amazing sauce to go with it and honestly I could have had my weight in that sauce if they let me. Definitely worth ordering but be warned, it'll be so good you probably won't share it.Overall, this was my favorite rooftop bar and I cannot wait to return on my next visit!(16/100--2022).This bar is super cute and has amazing views. Really nice for photo opportunities and the staff was super nice as well. Really walkable also. It looks like they also host events..My friend and I came here to relax and listen to some good music, since the weather was nice. We sat at an open table in the bar area, and were told by the hosts that someone would be by soon. The table and chairs had trash and spilled liquid on it, so we stood, waiting for someone to come buss it. After watching the four bartenders talk and socialize behind the bar, we went up to the bar to order and asked them to send a busser over so we could sit. We got our drinks about 5 mins later, went back to the table and it still hadn't been bussed. So we figured we'd stand next to the table and sip our drinks, waiting for someone to take the trash and wipe it down. Multiple staff walked right by us, including the four people socializing behind the host stand and the multiple bartenders socializing behind the bar. It was really not super busy. So, I walked up to what seemed like a server station and asked a server and a busser if they could, at minimum, give us a towel so we could wipe down the seats and table. They said they'd send someone over. We waited another 15+ minutes, the people next to us left and a busser immediately cleaned off their table. We asked that busser if they could do our table and he said he'd be right back. 10 more minutes passed, we had finished our drinks, taken shots and were getting ready to leave and FINALLY, someone busses our table. As for the drinks: the Raspberry mojito tasted like nothing, I got an Irish mule with woodford that the bartender didn't garnish with a lime (like Irish mules should be). Our patron shots with training wheels didn't have salt and had the hardest, most bitter limes I've ever tasted. Ruined the tequila.In summation: Despite how the bar was pretty slow and they were overstaffed, service was nonexistent and drinks were mediocre. Music was alright.Update: To reply to the business owner's rude response and reiterate what I already said, MY drink did not spill, it was from the previous person who sat at the table..Definitely one of those tourist must-go if friends are visiting for the first time but that's about it. If you come on a holiday or weekend, there's a $20 cover to go in and the drinks aren't cheap. I've been in here once without a cover so not sure if their rules. The drinks are pretty good though especially their mango smoothiee. Not sure if it was a special July 4th drink but it was sooo good &amp; strong.I've never been to the restaurant part of it. I've only been to the rooftop where you have an amazing view of the Empire State and especially nice for pictures!! They also have those huge clear igloos in the winter but I've never been in one..If you go expecting no frills you'll leave satisfied. My boyfriend and I popped in on a Tuesday evening without reservations. Upon arrival outside your vax card and ID are checked, then you're granted access upstairs to the rooftop. Once on the rooftop there's a sign next to the hostess stand telling you to seat yourself. Drink &amp; food orders are placed by walking up to the bar area. We just had lunch so we passed on the food. We really came for a drink with a view. I ordered a Mango Jalapeño Margarita for myself and a Jack Daniels neat for him. My Margarita had zero spice to it, needed to be shaken better and was weak. Can't go wrong with a neat drink so no complaints there. The bartender surely needs a class in customer service. He was stoic, not friendly and clearly bothered by being at work. NYC is full of rooftops.... Checked 230 off the list and wouldn't return.</td>\n",
       "    </tr>\n",
       "    <tr>\n",
       "      <th>856</th>\n",
       "      <td>8VTSpsJCyB-wgtCFkSTszg</td>\n",
       "      <td>spa-castle-college-point</td>\n",
       "      <td>Spa Castle</td>\n",
       "      <td>https://s3-media0.fl.yelpcdn.com/bphoto/i8or0Z0fwUI1yyKZvrZ-9w/o.jpg</td>\n",
       "      <td>False</td>\n",
       "      <td>https://www.yelp.com/biz/spa-castle-college-point</td>\n",
       "      <td>1954</td>\n",
       "      <td>[{'alias': 'massage', 'title': 'Massage'}, {'alias': 'reflexology', 'title': 'Reflexology'}, {'alias': 'hydrotherapy', 'title': 'Hydrotherapy'}]</td>\n",
       "      <td>3.0</td>\n",
       "      <td>{'latitude': 40.78747054911353, 'longitude': -73.8369738}</td>\n",
       "      <td>[]</td>\n",
       "      <td>$$$</td>\n",
       "      <td>{'address1': '13110 11th Ave', 'address2': '', 'address3': '', 'city': 'College Point', 'zip_code': '11356', 'country': 'US', 'state': 'NY', 'display_address': ['13110 11th Ave', 'College Point, NY 11356']}</td>\n",
       "      <td>17189396300</td>\n",
       "      <td>(718) 939-6300</td>\n",
       "      <td>COVID related closures seem to have unfortunately taken a toll on this once-very-busy health &amp; wellness spa. Although it was certainly never the epitome of luxury spa clubs, it has always been a decently-priced location where the the sauna rooms were always hot, the jet tubs were always bubbling, and the complimentary toiletries were always available - until now. I've visited this location more than a dozen times over the past few years and I've never seen it so empty and in need of repairs. The sauna rooms were mostly all working (with the exception of the cold sauna room which was out of order and another hot sauna room) but the temperatures were lower than they used to be - most of them were in the 130's and 140's *F. Some of the jets in the outdoor pool were not working and others would be very weak - there was even a station that seemed to have been ripped out, leaving exposed wiring visible to all, I would be lying if I said I wasn't concerned about electrocution for a moment but I'm here typing this review so I guess they had cut power to it. The sauna located by the upstairs pool area was set to a mere 98*F and good lighting was lacking. The drinks were great as always and the staff was friendly as per usual.  The small number of people made it a little more bearable experience than pre-pandemic but alas this is probably why they may feel the need to cut down on costs - overall understandable but it leaves one wondering if we should just make the trip out to Jersey for other locations. Again though, the convenience of this location for those who live in Queens is unparalleled so I'll probably head back whenever I'm in need of some muscle relaxation, which is often..Amazing place,I went here on a week day and it was amazing the food was great and there was a resting area for people who were a bit tired. And they had a roof top pool which was warm so you could go to the roof top pool in winter. Also my favorite part was the saunas they were amazing, after a hot one you could go to the one named ice land and each sauna had different looks and it was amazing.Overall the experience was good &amp; I will definitely be coming back.Wanna get sexually violated in the sauna and have management do nothing about it? Go here! Not only did they call me a liar, they chased me out and banned me because I \"stole their wristband\" (which I gave back, the manager is just an idiot). Terrible place with terrible staff, avoid if you don't want to be traumatized. DO NO GO HERE..Not sure if I would recommend the spa although I had a very relaxing time there. I went on a Tuesday midday and booked and appointment for a K Scrub Special. The Spa was clean and relaxing and not crowded which I like. They have a new food place on the top floor and nice new additions to the menu. They have different baths and saunas and the pools and stuff and of course the bar. They have a new wall for cute photo ops. The problem is that they do not give full size towels any more or robes or spa gear like total decline. I understand the pandemic but no towels. It's a spa. They give a small hand/face towel. And then there was the scrub. I was cold and I really enjoyed my experience here in the past and this time was totally not satisfied. I was asking myself like is she trying to conserve water, and tried to say I'm cold. I'm sure she saw the goosebumps. But try catching the sniffles and being annoying and she asked me for her tip like 10-15 times. I really didn't like that. I will settle my bill when I leave and I'm naked man like how you asking me for tip when I'm blow drying my hair. Chill ma. So like I said I don't know if I would recommend it. I feel like I only when bc I could drink and unwind and most Spas don't allow drinks..3 starts because they STOPPED GIVING the spa clothes. I mean the price didn't go down in fact it went up and in we lost amenities (how). I scheduled an appt for a massage and showed up 1 minute late and to my surprise they took my no issues. This made me happy; however the food service is right outside the spa so I kept hearing ding ding order number so and so while the massage was going on. I would have  preferred silence. Also this is not their fault but I do not like it when the kids come over when I'm in the adult Hot Tub they were just staring at me when I was drinking liquor and their parents were like why are you here and I'm like because Im relaxing away from my kids duhhh. Anyway they should have a separation or a separate floor or something. I brought my own face masks and lotions and used like 3 different saunas. My friend who came with fell asleep in the relaxation room even though people's kids kept on walking in and out she didn't mind as much as I did and I was happy that she was able to feel that relaxed and comfortable. I took the liberty to order some waffles with icecream while she slept it was nice. I enjoyed myself..They honored an expired Groupon I bought precovid and I couldn't use during covid times. 10am. Pretty empty. No crowds. No more uniforms.  rent slippers if you don't bring your own. No more big towels. Bring your own. No robes with admission. No more food on the main floor. At least one hot tub is broken. One of the sauna is also broken. I also don't understand why they would have electrical wires just out in the pool area. Water just going in and out with people inside the water.  I also feel like they know people are complaining about their standards and they don't really care anymore. Feels like spa castle just needs some upgrades and major maintenance or it's on its last year. Hope they fix. I loved it ten years ago. Lol$50 on Monday..Not what it used to be. My girlfriend and I used to come to relax and rejuvenate. However since the pandemic the place looks run down, a lot of the features are closed, including the kids pool, waterfalls, saunas and their buffet style food area. There are exposed wires to buttons that used to work and garbage in the pool (plastic straws and cups)This was my experience yesterday with customer service. My girlfriend and I paid for a couples massage package, upon arrival they charged us the wrong price that was advertised online, first stating  \"That's just the additional tax\" however they charged another sales tax on top of that total. And then upon leaving they charged us again for the same thing we already paid for. And for them to fix this we had to wait 15 mins and could not leave. We also overheard staff talking about how employees don't arrive on time anymore - clearly the overall quality of the place has gone down.To top it all off, we ordered (very overpriced) lunch. Since the buffet is closed, we went to the fast food style lunch window, ordered chicken fingers and a salad - and were served raw chicken! They immediately corrected it, re-frying the chicken in what I presume to be the communal fryer. Not sure if this is how it's supposed to be handled, but just another red flag to add to the list.I understand that mistakes happen and that the past two years have been rough, but I definitely did not want to spend my Sunday fighting with customer service and try to relax between dangerously exposed wires while worrying about food poisoning. Spa castle, do better please - you are not cheap and I expect decent services in return!.I have been coming to spa castle since it opened up. When it first opened it was perfect. They had uniforms, towels, healthier food options, frozen yogurt, a sleeping room, and it was so peaceful. Spa castle now is actually quite horrendous, which is unfortunate cause it's the only option in the queens area that gives you multiple saunas and access to the outdoor pools. Let's breakdown why they are no longer good. Firstly, they changed all the food to basic fast food. Fried chicken strips and Americanized/Asian inspired food. The smoothies are terrible just as the service that goes along with it. The people working their are MISERABLE. Everything is over priced for what you are getting. Why have crappy food at a spa? Makes no sense. They no longer provide you with a towel or flip flops. They allow children into the spa, which I'm sorry but some of us are trying to get away and relax, not be splashed by kids in the pool. Then you have those that come there just to get drunk and be obnoxious in the saunas. What is relaxing about that? It's so disrespectful to others. The showers are also located inside of the nude area and you will be reprimanded if you walk in with even so much as a towel into that area. The only safe bet is to come on a weekday in the morning to avoid all the above..We came to NY to celebrate my birthday &amp; my husband suggested spa castle. We had a great time and took advantage of the multiple levels. Food was fresh and tasty when we ordered lunch. My suggestions...bring your own towels, flip flops for common areas an insulated cup to keep your drinks cold/frozen, and a cover up if you plan on eating in the upstairs restaurant. There were a few areas \"out of order\" or temporarily shut down (like the napping room ) But overall a great stay! p.s. my only other \"complaint \" were the kids. Most kids think of this place as fun (instead of relaxing) so the splashing, horse playing and yelling is real! Wish they had an \"adult only\" side or level so we can relax in peace..Had fun Romantic time with hubby. Very relaxing! For sure will be back ! Nice get away.Gone are the uniforms. Gone are the towels (you get one hand towel). Gone is the water fountain, the TV and the towel dryer. Gone are the jet seats (only three work). Gone are the four hot tubs (only three work). Gone are the hair dryers, gone are the moisturizers. Gone are the jets, gone are the jet buttons (well the wires are still there...). Gone is the ambiance, gone is the class. Gone is the luxury, which is a real shame. Gone is my business, because the prices are unchanged.</td>\n",
       "    </tr>\n",
       "    <tr>\n",
       "      <th>857</th>\n",
       "      <td>SyBFnqsPEge00N0_bHs2fQ</td>\n",
       "      <td>madera-cuban-grill-and-steakhouse-long-island-city</td>\n",
       "      <td>Madera Cuban Grill &amp; Steakhouse</td>\n",
       "      <td>https://s3-media0.fl.yelpcdn.com/bphoto/F3z2VTAQ35s9etnhmZWK1A/o.jpg</td>\n",
       "      <td>False</td>\n",
       "      <td>https://www.yelp.com/biz/madera-cuban-grill-and-steakhouse-long-island-city</td>\n",
       "      <td>448</td>\n",
       "      <td>[{'alias': 'cuban', 'title': 'Cuban'}, {'alias': 'steak', 'title': 'Steakhouses'}]</td>\n",
       "      <td>3.5</td>\n",
       "      <td>{'latitude': 40.744598, 'longitude': -73.953336}</td>\n",
       "      <td>['delivery', 'restaurant_reservation', 'pickup']</td>\n",
       "      <td>$$</td>\n",
       "      <td>{'address1': '47-29 Vernon Blvd', 'address2': '', 'address3': '', 'city': 'Long Island City', 'zip_code': '11101', 'country': 'US', 'state': 'NY', 'display_address': ['47-29 Vernon Blvd', 'Long Island City, NY 11101']}</td>\n",
       "      <td>17186061236</td>\n",
       "      <td>(718) 606-1236</td>\n",
       "      <td>Very welcoming. Was craving a cubano sandwich all day and ordered one. Cleaned up the plate. Probably the best cubano I've ever tasted..I've been a here a few times but this was the first visit post pandemic and the prices have gone way up amd portion sizes gone way down. You will get great food and service but will pay for it. They have one of the best Skirt Steaks in LIC..Happy Hour at the bar, was worth the stop to break up the heat and start our LIC bar crawl. Beautiful decor, bright colors with Cuban artisan Claire, sculptures, photography and paintings of Havana. Meeting up with a former Miami friend, we were looking to reminisce of our 305 memories. We shared appetizers, and had mojitos in honor of our love of a Cuban cuisine and culture..Delicious food and great service. They have cocktails and wine. Nice setup indoor and outdoor seating with sanitizer. I enjoyed the guac with plantains, empanadas,  ropa vieja, skirt steak with some Malbec..My experience was excellent all around. I was on a much anticipated first date and wanted a quiet environment for getting to know the person across from me. (I also happen to be sensitive to noise). They had soft music on in the background. The space felt very open and tables are spaced apart well. The service was excellent. They asked us if we wanted sparkling or tap water without mentioning alcohol. We are both non-drinkers mostly and I find this exceptionally rare. I appreciate not having a server expect us to order alcoholic drinks. I ordered the snapper with black bean mango salsa -- this fish was cooked to perfection! He ordered the Madera-style chicken which I'll get next time we go back -- we both agreed it was melt-in-your-mouth good! And we will definitely be back since it will now be \"our spot.\".So my hubby and I found this little place of heaven by mistake.  We were on our 23rd anniversary and wanted something fun to eat with music. We were suppose to go to another spot and got dropped off here instead. We were like what the heck let's do it. Thank godddddd it was so much fun and the food is excellent. Still talking about it. The staff was very accommodating and sweet - sat us down even though we didn't have a a reservation ( made space for us ) and the music was so good. Both my hubby and I had appetizers entree and dessert with drinks and it was pretty affordable. We will definitely be returning and with friends.Everything I have eaten here is so delicious My favorite is the Picadillo and the Ropa ViejaMy husband loves the Cuban sandwiches and black beans.A friend and I were looking for cocktails and appetizers. We started at at Piatto, a place by the water and found the piped music miserably loud and very bland and sterile atmosphere. We left and walked along Vernon and swung into this place. We were very happy with everything, from the cozy atmosphere, attentive and friendly waiter, to the excellent spiced margaritas and appetizers (all we got was friend calamari and a salad). Would definitely go back. In fact, I think this is my new drink/appetizer spot!.I really appreciated how quickly my friends were seated on Friday evening. However, I felt the due to the lack of wait staff that the service clearly became lacking as I would order drinks and they never came. But, I really enjoyed my food (the fish below)! When, a round of my drinks actually came it was pretty good. My friends got steak and it was overcooked. But, they still liked it. The overall meal was a bit pricy about ~$220 for all of us. But, we got an appetizer and drink so kind of balances out..My family &amp; I decided to give this restaurant a try for my sisters bday, we walked in &amp; they welcomed us without a problem. Drinks were good, appetizers &amp; entrees were all good, seasoned great and dessert was good as well. We're Hispanic so we enjoyed it all -down to the music. Prices were very reasonable compared to the restaurants in that area</td>\n",
       "    </tr>\n",
       "    <tr>\n",
       "      <th>858</th>\n",
       "      <td>M9sDIlJJa8gXjmxqV92p8Q</td>\n",
       "      <td>sophies-new-york</td>\n",
       "      <td>Sophie's</td>\n",
       "      <td>https://s3-media0.fl.yelpcdn.com/bphoto/0m738qPOSycABsyB0wifGw/o.jpg</td>\n",
       "      <td>False</td>\n",
       "      <td>https://www.yelp.com/biz/sophies-new-york</td>\n",
       "      <td>133</td>\n",
       "      <td>[{'alias': 'divebars', 'title': 'Dive Bars'}]</td>\n",
       "      <td>3.5</td>\n",
       "      <td>{'latitude': 40.724807, 'longitude': -73.983703}</td>\n",
       "      <td>['delivery']</td>\n",
       "      <td>$</td>\n",
       "      <td>{'address1': '509 E 5th St', 'address2': '', 'address3': '', 'city': 'New York', 'zip_code': '10003', 'country': 'US', 'state': 'NY', 'display_address': ['509 E 5th St', 'New York, NY 10003']}</td>\n",
       "      <td>12122285680</td>\n",
       "      <td>(212) 228-5680</td>\n",
       "      <td>\"Classic East Village Dive Bar\"This place excuses every classic trait of an East Village dive bar, which is becoming a dying breed- cheap prices- plenty of taps- pool table- juke box - No drink menu (and that's a bonus)The lighting m, clientele and staff personality gives this place an authenticity.  You'll find people of every type and even other countries here.The only downside is who is working can change the tone a bit and some staff should maybe dial down the attitude..A group of friends and I came here and we're having a very nice time to start. We ordered 2 pitchers of beer for ~10 people and sat at a table. A friend of mine went to the bar to ask for some waters, and the bar tender cursed him out. Literally \"f*ck you\", and ignored him. When he asked another bar tender she then brought them over and physically shoved multiple people in our party while doing so.My boyfriend was cursed out when asking for the bill, and being the decent person he is still tipped her very well (I used to work as a bartender so we're big on this, especially on busy nights!). I realize I probably shouldn't have, but I tried to approach her about it, and just say hey you seem really stressed maybe step out for a cigarette or something and take a minute for yourself. She, of course, cursed me out and then came out from behind the bar to scream in my face which was appalling. Luckily we were already on our way out. Having worked in the service industry for years, this is just not how you treat patrons. Your job is to make sure people are happy, and especially make sure they're hydrated and have access to water when they need it. Seeing other reviews about this kind of behavior and can only assume it's the same woman. I will absolutely not be returning here, and advise that others do the same unless you like your drinks with a side of harassment from the bartender. The bouncer was incredibly kind about the incident, and seemed sympathetic to the experience as I was walking out. If the manager reads these reviews from myself and others, handle this bartender problem..I've been going to this bar for 8 years, and recently I had the most appalling experience I need others to be forewarned. To make a long story short, I was threatened to be \"slapped like a bitch\" by a patron at the pool table, so I calmly let the bouncer know this man was potentially violent. Afterward the bartender B came to me and started interrogating me, saying I didn't understand the board clearly. She was so combative I tried to quickly resolve the situation and said never mind, apologizing to HER. Then my friends tried to reason and tell her the story, and one by one she called this some \"Me Too bullshit\", called my friends a homophobic slur, and kicked out all of my party one by one. The worst part is she assumed my whole party was white (we weren't), and made it into a racial issue. Accusing us of causing a scene because it was MLK day, when we simply were warning the bouncer, not her, of a potentially violent person. It was actually devastating as a woman to be silenced for simply seeking  help when my safety was threatened. I hope this person gets help and never does this to anyone else, because this bar is now a place of trauma I can never return to..I've never written a Yelp review before, but I had an absolutely HORRIBLE experience at this bar last Saturday night. As soon as my two other girl friends and I entered the bar, we were immediately harassed by one of the bartenders. Unprompted, she started berating and heckling us from across the bar, while we were deciding what to order. We were extremely confused about what warranted this behavior, although we assumed it was because she was drunk. She was incessantly rude to us to the point where we did not feel comfortable staying. It felt as though there was internalized misogyny at play. As we left, the bouncer told us that this bartender does this every weekend. I will NOT be returning. I wish I could give 0 stars, because I have never been so disrespected at an establishment. There are plenty of other fun dive bars in the area, so I highly recommend looking into one of those instead!.The bartender was stumbling like she was extremely drunk. She started yelling at me saying I was a gay racist.  I am a gay man.... My friend complained that a man was aggressive at the pool table and the same guy continued to be aggressive to my boyfriend and the bartender yelled at my friends when they complained the man that was extremely aggressive at the pool table. My other friends then tried to resolve the situation and the bartender screamed and kicked them out..Best downtown bar. Real and unpretentious. Really knowledgeable and friendly bartenders. One of the last places in Manhattan that is neither  a frat-boy-financial-advisor-bar or  a trying-too-hard-hipster-bar. During Santa Con, they had a sign outside declaring that people in Santa costume were not allowed inside. My kind of place:).It's a decent bar to go in between other bars in the area. I had a puzzlingly negative experience with one terribly rude bartender, however, so I wouldn't recommend it. Otherwise, it's a solid 3-star establishment. Very nice bouncer too..3 stars is exactly what you're getting here. A simple dive bar, we met some pretty cool people, the drinks were not good, and the music was nostalgic. I wouldn't spend my whole night here, but it's nice to stop in for a few or in between other plans..Don't have a jukebox if you can't handle some classic music, dummies. Lol the bartender was hella rude about it.Just want to come on here and say thank you to the bartenders that worked last night. I came in trying to hide the fact that I was crying after having a really hard night. The bartenders immediately took care of me, treated me like family, offered their ear if I needed to talk, and tried their best to make me laugh. I'm just visiting but have been looking to move close by. When I do, this will certainly be my local bar.</td>\n",
       "    </tr>\n",
       "  </tbody>\n",
       "</table>\n",
       "<p>859 rows × 16 columns</p>\n",
       "</div>"
      ],
      "text/plain": [
       "                         id  \\\n",
       "0    fEsgUESZxOQtd4YEmAUuow   \n",
       "1    zm_ngfMxyU6d85AaTIgI7Q   \n",
       "2    LbGAKVX3cwZj4fUC2XOLxg   \n",
       "3    i8ejDDR4COtukAAA1Ls5fw   \n",
       "4    YV0VaJgV2zotzI7XNUaMCQ   \n",
       "..                      ...   \n",
       "854  2BDC9WjKYP5eHtkZvGlboQ   \n",
       "855  V6xlMNLFTsxB4W0VVcRK_Q   \n",
       "856  8VTSpsJCyB-wgtCFkSTszg   \n",
       "857  SyBFnqsPEge00N0_bHs2fQ   \n",
       "858  M9sDIlJJa8gXjmxqV92p8Q   \n",
       "\n",
       "                                                  alias  \\\n",
       "0                           ii-caffe-latte-2-new-york-4   \n",
       "1                 chloes-restaurant-and-lounge-brooklyn   \n",
       "2                                 jahns-jackson-heights   \n",
       "3                                      soba-ya-new-york   \n",
       "4                                mcdonalds-new-york-100   \n",
       "..                                                  ...   \n",
       "854                          park-delicatessen-brooklyn   \n",
       "855                      230-fifth-rooftop-bar-new-york   \n",
       "856                            spa-castle-college-point   \n",
       "857  madera-cuban-grill-and-steakhouse-long-island-city   \n",
       "858                                    sophies-new-york   \n",
       "\n",
       "                                name  \\\n",
       "0                   II Caffe Latte 2   \n",
       "1        Chloe's Restaurant & Lounge   \n",
       "2                             Jahn's   \n",
       "3                            Soba-ya   \n",
       "4                         McDonald's   \n",
       "..                               ...   \n",
       "854                Park Delicatessen   \n",
       "855            230 Fifth Rooftop Bar   \n",
       "856                       Spa Castle   \n",
       "857  Madera Cuban Grill & Steakhouse   \n",
       "858                         Sophie's   \n",
       "\n",
       "                                                                image_url  \\\n",
       "0    https://s3-media0.fl.yelpcdn.com/bphoto/rL-1bjIrEvnG6zV8ofrZpg/o.jpg   \n",
       "1    https://s3-media0.fl.yelpcdn.com/bphoto/AFD_nPVpU1rhI7VMWvbltA/o.jpg   \n",
       "2    https://s3-media0.fl.yelpcdn.com/bphoto/9Oa1n8Dyo_n2N9YIhJxsgw/o.jpg   \n",
       "3    https://s3-media0.fl.yelpcdn.com/bphoto/LnjY25INn-aM1eAyiav8XA/o.jpg   \n",
       "4    https://s3-media0.fl.yelpcdn.com/bphoto/X710tzNcQt5xzpJMVIpZHw/o.jpg   \n",
       "..                                                                    ...   \n",
       "854  https://s3-media0.fl.yelpcdn.com/bphoto/CtYyfhpPdQRndzm7d-ZT8g/o.jpg   \n",
       "855  https://s3-media0.fl.yelpcdn.com/bphoto/Ygy2PfrN8nuIGMttdzRsxg/o.jpg   \n",
       "856  https://s3-media0.fl.yelpcdn.com/bphoto/i8or0Z0fwUI1yyKZvrZ-9w/o.jpg   \n",
       "857  https://s3-media0.fl.yelpcdn.com/bphoto/F3z2VTAQ35s9etnhmZWK1A/o.jpg   \n",
       "858  https://s3-media0.fl.yelpcdn.com/bphoto/0m738qPOSycABsyB0wifGw/o.jpg   \n",
       "\n",
       "     is_closed  \\\n",
       "0        False   \n",
       "1        False   \n",
       "2        False   \n",
       "3        False   \n",
       "4        False   \n",
       "..         ...   \n",
       "854      False   \n",
       "855      False   \n",
       "856      False   \n",
       "857      False   \n",
       "858      False   \n",
       "\n",
       "                                                                             url  \\\n",
       "0                           https://www.yelp.com/biz/ii-caffe-latte-2-new-york-4   \n",
       "1                 https://www.yelp.com/biz/chloes-restaurant-and-lounge-brooklyn   \n",
       "2                                 https://www.yelp.com/biz/jahns-jackson-heights   \n",
       "3                                      https://www.yelp.com/biz/soba-ya-new-york   \n",
       "4                                https://www.yelp.com/biz/mcdonalds-new-york-100   \n",
       "..                                                                           ...   \n",
       "854                          https://www.yelp.com/biz/park-delicatessen-brooklyn   \n",
       "855                      https://www.yelp.com/biz/230-fifth-rooftop-bar-new-york   \n",
       "856                            https://www.yelp.com/biz/spa-castle-college-point   \n",
       "857  https://www.yelp.com/biz/madera-cuban-grill-and-steakhouse-long-island-city   \n",
       "858                                    https://www.yelp.com/biz/sophies-new-york   \n",
       "\n",
       "     review_count  \\\n",
       "0             127   \n",
       "1             192   \n",
       "2             172   \n",
       "3            1496   \n",
       "4              85   \n",
       "..            ...   \n",
       "854            23   \n",
       "855          3943   \n",
       "856          1954   \n",
       "857           448   \n",
       "858           133   \n",
       "\n",
       "                                                                                                                                           categories  \\\n",
       "0    [{'alias': 'breakfast_brunch', 'title': 'Breakfast & Brunch'}, {'alias': 'desserts', 'title': 'Desserts'}, {'alias': 'cafes', 'title': 'Cafes'}]   \n",
       "1                          [{'alias': 'haitian', 'title': 'Haitian'}, {'alias': 'salad', 'title': 'Salad'}, {'alias': 'seafood', 'title': 'Seafood'}]   \n",
       "2                                                                                                            [{'alias': 'diners', 'title': 'Diners'}]   \n",
       "3                                                              [{'alias': 'japanese', 'title': 'Japanese'}, {'alias': 'noodles', 'title': 'Noodles'}]   \n",
       "4                [{'alias': 'hotdogs', 'title': 'Fast Food'}, {'alias': 'burgers', 'title': 'Burgers'}, {'alias': 'coffee', 'title': 'Coffee & Tea'}]   \n",
       "..                                                                                                                                                ...   \n",
       "854                                                                 [{'alias': 'delis', 'title': 'Delis'}, {'alias': 'meats', 'title': 'Meat Shops'}]   \n",
       "855                                                                                             [{'alias': 'cocktailbars', 'title': 'Cocktail Bars'}]   \n",
       "856  [{'alias': 'massage', 'title': 'Massage'}, {'alias': 'reflexology', 'title': 'Reflexology'}, {'alias': 'hydrotherapy', 'title': 'Hydrotherapy'}]   \n",
       "857                                                                [{'alias': 'cuban', 'title': 'Cuban'}, {'alias': 'steak', 'title': 'Steakhouses'}]   \n",
       "858                                                                                                     [{'alias': 'divebars', 'title': 'Dive Bars'}]   \n",
       "\n",
       "     rating                                                   coordinates  \\\n",
       "0       3.5              {'latitude': 40.8246899, 'longitude': -73.94704}   \n",
       "1       2.5                {'latitude': 40.63755, 'longitude': -73.89731}   \n",
       "2       3.5                {'latitude': 40.74941, 'longitude': -73.88497}   \n",
       "3       4.0              {'latitude': 40.72965, 'longitude': -73.9878899}   \n",
       "4       2.5                {'latitude': 40.71852, 'longitude': -74.00115}   \n",
       "..      ...                                                           ...   \n",
       "854     4.5  {'latitude': 40.7257351177142, 'longitude': -73.94427729785}   \n",
       "855     3.0            {'latitude': 40.7440395, 'longitude': -73.9881258}   \n",
       "856     3.0     {'latitude': 40.78747054911353, 'longitude': -73.8369738}   \n",
       "857     3.5              {'latitude': 40.744598, 'longitude': -73.953336}   \n",
       "858     3.5              {'latitude': 40.724807, 'longitude': -73.983703}   \n",
       "\n",
       "                                         transactions price  \\\n",
       "0                              ['delivery', 'pickup']    $$   \n",
       "1                              ['delivery', 'pickup']    $$   \n",
       "2                              ['delivery', 'pickup']    $$   \n",
       "3                              ['delivery', 'pickup']    $$   \n",
       "4                                        ['delivery']     $   \n",
       "..                                                ...   ...   \n",
       "854                            ['pickup', 'delivery']     $   \n",
       "855                            ['delivery', 'pickup']   $$$   \n",
       "856                                                []   $$$   \n",
       "857  ['delivery', 'restaurant_reservation', 'pickup']    $$   \n",
       "858                                      ['delivery']     $   \n",
       "\n",
       "                                                                                                                                                                                                                         location  \\\n",
       "0                            {'address1': '458 W 145th St', 'address2': '', 'address3': '', 'city': 'New York', 'zip_code': '10031', 'country': 'US', 'state': 'NY', 'display_address': ['458 W 145th St', 'New York, NY 10031']}   \n",
       "1                                  {'address1': '9413 Ave L', 'address2': None, 'address3': '', 'city': 'Brooklyn', 'zip_code': '11236', 'country': 'US', 'state': 'NY', 'display_address': ['9413 Ave L', 'Brooklyn, NY 11236']}   \n",
       "2              {'address1': '81-04 37th Ave', 'address2': '', 'address3': '', 'city': 'Jackson Heights', 'zip_code': '11372', 'country': 'US', 'state': 'NY', 'display_address': ['81-04 37th Ave', 'Jackson Heights, NY 11372']}   \n",
       "3                                {'address1': '229 E 9th St', 'address2': '', 'address3': '', 'city': 'New York', 'zip_code': '10003', 'country': 'US', 'state': 'NY', 'display_address': ['229 E 9th St', 'New York, NY 10003']}   \n",
       "4                              {'address1': '262 Canal St', 'address2': None, 'address3': '', 'city': 'New York', 'zip_code': '10013', 'country': 'US', 'state': 'NY', 'display_address': ['262 Canal St', 'New York, NY 10013']}   \n",
       "..                                                                                                                                                                                                                            ...   \n",
       "854                        {'address1': '209 Nassau Ave', 'address2': None, 'address3': '', 'city': 'Brooklyn', 'zip_code': '11222', 'country': 'US', 'state': 'NY', 'display_address': ['209 Nassau Ave', 'Brooklyn, NY 11222']}   \n",
       "855  {'address1': '230 5th Ave', 'address2': '(corner 27th)', 'address3': '', 'city': 'New York', 'zip_code': '10001', 'country': 'US', 'state': 'NY', 'display_address': ['230 5th Ave', '(corner 27th)', 'New York, NY 10001']}   \n",
       "856                {'address1': '13110 11th Ave', 'address2': '', 'address3': '', 'city': 'College Point', 'zip_code': '11356', 'country': 'US', 'state': 'NY', 'display_address': ['13110 11th Ave', 'College Point, NY 11356']}   \n",
       "857    {'address1': '47-29 Vernon Blvd', 'address2': '', 'address3': '', 'city': 'Long Island City', 'zip_code': '11101', 'country': 'US', 'state': 'NY', 'display_address': ['47-29 Vernon Blvd', 'Long Island City, NY 11101']}   \n",
       "858                              {'address1': '509 E 5th St', 'address2': '', 'address3': '', 'city': 'New York', 'zip_code': '10003', 'country': 'US', 'state': 'NY', 'display_address': ['509 E 5th St', 'New York, NY 10003']}   \n",
       "\n",
       "           phone   display_phone  \\\n",
       "0    12122340202  (212) 234-0202   \n",
       "1    13477709051  (347) 770-9051   \n",
       "2    17186510700  (718) 651-0700   \n",
       "3    12125336966  (212) 533-6966   \n",
       "4    12129415823  (212) 941-5823   \n",
       "..           ...             ...   \n",
       "854  17183832080  (718) 383-2080   \n",
       "855  12127254300  (212) 725-4300   \n",
       "856  17189396300  (718) 939-6300   \n",
       "857  17186061236  (718) 606-1236   \n",
       "858  12122285680  (212) 228-5680   \n",
       "\n",
       "                                                                                                                                                                                                                                                                                                                                                                                                                                                                                                                                                                                                                                                                                                                                                                                                                                                                                                                                                                                                                                                                                                                                                                                                                                                                                                                                                                                                                                                                                                                                                                                                                                                                                                                                                                                                                                                                                                                                                                                                                                                                                                                                                                                                                                                                                                                                                                                                                                                                                                                                                                                                                                                                                                                                                                                                                                                                                                                                                                                                                                                                                                                                                                                                                                                                                                                                                                                                                                                                                                                                                                                                                                                                                                                                                                                                                                                                                                                                                                                                                                                                                                                                                                                                                                                                                                                                                                                                                                                                                                                                                                                                                                                                                                                                                                                                                                                                                                                                                                                                                                                                                                                                                                                                                                                                                                                                                                                                                                                                                                                                                                                                                                                                                                                                                                                                                                                                                                                                                                                                                                                                                                                                                                                                                                                                                                                                                                                                                                                                                                                                                                                                                                                                                                                                                                                                                                                                                                                                                                                                                                                                                                                                                                                                                                                                                                                                                                                                                                                                                                                                                                                                                                                                                                                                                                                                                                                                                                                                                                                                                                                                                                                                                                                                                                                                                                                                                                                                                                                                                                                                                                                                                                                                                                                                                                                                                                                                                                                                                                                                                                                                                                                                                                                                                                                                                                                                                                                                                                                                                                                                                                                                                                                                                                                                                                                                                                                                                                                                                                                                                                                                                                                                                                                                                                                                                                                  Reviews  \n",
       "0                                                                                                                                                                                                                                                                                                                                                                                                                                                                                                                                                                                                                                                                                                                                                                                                                                                                                                                                                                                                                                                                                                                                                                                                                                                                                                                                                                                                                                                                                                                                                                                                                                                                                                                                                                                                                                                                                                                                                                                                                                                                                                                                                                                                                                                                                                                                                                                                                                                                                                                                                                                                                                                                                                                                                                                                                                                                                                                                                                                                                                                                                                                                                                                                                                                                                                                                                                                                                                                                                                                                                                                                                                                                                                                                                                                                                                                                                                                                                                                                                                                                                                                                                                                                                                                                                                                                                                                                                                                                                                                                                                                                                                                                                                                                                                                                                                                                                                                                                                                                                                                                                                                      Met my bestie for a warm beverage yesterday and we ended up here at Caffe Latte. Immediately upon entering, the lady working there let us know that the table, chairs and menus had been totally disinfected (Eff this Coronavirus ). And it's true, as soon as other people got up when their meal was finished, I watched her disinfect where they had just been. She also came by and offered us sanitizer for our hands. Cleanliness has always been important, but now more so than ever! And she was nailing it, making us feel at ease. The vibe was so cute inside that I actually decided to stay a little longer and order an entree. I think I got the Linguini Alfredo?? And I added shrimp. It was VERY good. Told her about my dietary restrictions and she worked some magic (Which she also did with my hot chocolate as well  I didn't even know dairy free whip cream was a thing!)During this whole COVID19 scare, I haven't been eating out a lot. But I would feel confident coming back here to enjoy a little time out in the wild..Walked in to check out their menu. Person working there didn't acknowledge me. I guess the dishes were more important than my patronage. Place was empty so I guess it was all a sign..I've been to this location twice and each time the service , the food and the atmosphere has CHANGED MY LIFE. I had the black Ink ravioli and my long time wife of 10 years had the 4 cheese ravioli, safe to say it left us both deeply satisfied. The waiter made us feel loved. Will definitely be returning in the future for our anniversary!.Had a great comforting brunch this morning in this adorable neighborhood cafe.  The entryway is decorated with the bottoms of wine bottles. Small seating area on the main level with mouthwatering desserts on display, further seating upstairs with live music on occasion.Split waffles with a light & airy non-dairy whipped maple fluff & berries, as well as huevos rancheros made with excellent refried beans. Everything was cooked well, great flavor. Topped off our meal with a blood orange mimosa & cafe mocha.The staff was warm & welcoming, attentive without being a pest.  The prices are super reasonable for NYC! Great neighborhood gem - a must-go!.They had outdoor tables and we stopped by. It was a nice setting and the server was nice. Food(we had Korean BBQ tacos and simple tomato sauce linguini)tasted a bit too sweet (tomato sauce was even a bit sweet... it caught us off guard) though I have a feeling we should have ordered waffles and pancake type of food(one review says something yummy about Tiramisu!!!). I would love to support local businesses and I hope others would stop by and grub bites at this cute spot..I went to this place years ago with my boyfriend for breakfast and loved it! Service was great we ordered the Acapulco breakfast went there so many times again got the black bean burger and it was delish I never remember the name and now that I found it again I love that's still opened during COVID AND IM DEFINITELY ordering to go.I LOVE this restaurant the food id amazing I enjoy their  quesadillas and their pasta. It is very flavorful and I would recommend it for anyone..Visited with a friend earlier this evening to decompress a bit after reviewing for final exams. Staff was really friendly and I loved my black bean burger. It was maybe an hour and change to closing time so we got a lot individualized attention. Really enjoyed the casual, cozy atmosphere. Will be back again for more tiramisu :).Rudest and unprofessional workers ever I would never come to this place again  Place was empty, literally only me and my friend there and these two workers would not stop asking us to order and rush us through out. I ordered a chai latte that tasted nothing like chai but more like water, 1 second later rushed me to order something else and they didn't stop till me and my friend decided to leave because it was getting too uncomfortable. Asian lady ridiculously unprofessional, making sarcastic jokes to rush us. And again, only me and my friend were at this place.Food is decent but too pricey, I would much rather go to a nearby deli and order better food and better service We ended up taking our business to sugar hill cafe, much better atmosphere, laid back people, very friendly and welcoming I would give 0 stars if I could Don't waste your money, not worth it at all Many more places around waaaaaaaaay better.I get weird about food sometimes. Like recently, I've been looking for a place in the area that had a great Caesar salad with anchovies in the dressing. There's something about the umami bomb of anchovies that makes a true Caesar a Caesar. It's harder to find than you think... weirdly enough. Anyways, I found it & a little bit more. Live music playing in the front of the store. Authentic Caesar salad inside. Great service with a smile. Eclectic place where new & old locals as well as tourists come in.I really love this place. The people who work here are what makes me love living in Harlem.  \n",
       "1                                                                                                                                                                                                                                                                                                                                                                                                                                                                                                                                                                                                                                                                                                                                                                                                                                                                                                                                                                                                                                                                                                                                                                                                                                                                                                                                                                                                                                                                                                                                                                                                                                                                                                                                                                                                                                                                                                                                                                                                                                                                                                                                                                                                                                                                                                                                                                                                                                                                                                                                                                                                                                                                                                                                                                                                                                                                                                                                                                                                                                                                                                                                                                                                                                                                                                                                                                                                                                                                                                                                                                                                                                                                                                                                                                                                                                                                                                                                                                                                                                                                                                                                                                                                                                                                                                                                                                                                                                                                                                                                                                                                - good griot- nice pairing with the waffle- not much traditional american breakfast- DJ turned up at 3:30 on a sunday- the champagne tasted cheap- the flavored champagne was super sweet- they were kinda stingy with the shrimp- pickliz was great- they were able to replace the grits with dumplings- it was kinda empty on a sunday between 1-4  i doubt a resey would be necessary- the place is very spacious.I ordered  griot and rice on 3/1/22. When I reached home, I was disappointed with the amount of griot I received in a small tin container. I spent $20 plus dollars on this meal. It tastes good but definitely a tease. On March 15, 2022, I decided to order again. This time, I asked about the portion of the griot. They said this is the portion they give. If I want more griot I have to pay an additional $13.00 for another portion in the aluminum tin. I was tired and didn't feel like cooking, so I ordered. That was the biggest mistake ever. I got so sick. I had food poisoning. I had stomach pain, hot cold sweat , vomiting, etc. I couldn't finish food. Griot was under cook. I called the next day to speak to a supervisor. The receptionist took my message. The supervisor never called me back. I called the next day , and they said to come after 6 pm. I arrived around 830 and no supervisor. The restaurant was closing   . No call back or anything. You guys must learn to have better customer service.  By the way, if you want extra gravy, they charge you a dollar.My business partner and I, attempted to have dinner at this establishment. The hostess greeted us and ask if we preferred to be seated at the front or the back of the restaurant. We opted for the back.As we were trying to get situated, a woman began screaming from across the room that she needed to see our ID and vaccination card. In the same breath, she asked if we were doing hookah. We told her no, and she stated, we needed to be seated at the front part of the restaurant as people do not like the smell of hookah in their food.My issue, is the way we were approached. This woman should have approach us like a professional and not like an inpatient toddler. She also made a lot of assumptions instead of asking the right questions.I want to be very clear, that we did not have an issue with this establishment's rules. Our issue, is how we were approached. The way the staff was screaming from across the room in front of other customers was unacceptable.At any rate, we kindly left and took our money to Suede, where the staff was excellent and the food was absolutely delicious..This spot is great for food Haitian food and chill vibes. The rum punch is tasty and strong. When dining here, you should try their wings, salmon, or pasta. The food is tastes great, but be prepared for a long wait time. Chloe's is also great for dancing, seeing a love band, or brunch vibes. Overall, you should give this place  try..The restaurant can be easily overlooked if you're not a local or front the area. This is my third time going there. Twice I went there to eat. The first time year ago, I didn't a brunch. The second the lounge area is def a vibe and the dj was amazing on either Friday or Saturday night. Now recently I went OCT 2021 just to get a quick bite. This is a Haitian / Caribbean restaurant. As a Haitian, myself I maybe be bias. The food is good but not better than my mother/ grandmother's food. But it get the job done. The blue long island had me feeling a little tipsy which is good. The margaritas were straight juice or sugar water. The rice was okay and the great of the food was amazing. If I'm in the area, I would stop by but I won't go out my way to eat at Chloe's..I was not disappointed all!Security guards had amazing personalities and did not have attitudes (unlike most establishments you visit and the security guards are mad for no reason)There was one waiter so the food and drinks took forever to come. I had the Chloe Gouyad drink it tasted so good. The salmon and mashed potatoes were amazing. The Dj was awesome!I love the selection of music he played and he didn't talk a on the mic and interrupt the tunes playing. Hookah...Yes this place has hookah. Highly Recommend this place.Soooooo upset to get my calamari and it be in this small ass tin. 14.50$ for it at that. The wings are ok but my calamari was cold and soggy just a disappointment in all. Footprints gives a bigger portion for the same price..I've had some great times here. Food is always great and so are the drinks. The ambiance here is enjoyable also with great music, although it can get very loud and you won't be able to hear your neighbor. There's a big open dance floor if you're not satisfied with doing a little shimmy from your seat like me :).The absolute WORST SERVICE I ever came across. Over an hour and half for my food. I order apps (wings) and was sitting at the bar.  If it wasn't getting late would have went elsewhere.  I end up having to take my food to go. The Bartender was not polite at all and the drinks sucked. Ashamed how a restaurant i use to like fell off so bad,.Came in and was seated immediately. Went on a Wednesday night. There was a game night and karaoke going on. When my friend and I got there, there was a happy hour special. Two drinks for $15.  I ordered everything I had the taste for on the menu and I enjoyed most of it. This is a Haitian styled restaurant. I liked everything but the Mac and cheese. It wasn't terrible, just not my style of Mac. Everyone was nice. Thank u.  \n",
       "2                                                                                                                                                                                                                                                                                                                                                                                                                                                                                                                                                                                                                                                                                                                                                                                                                                                                                                                                                                                                                                                                                                                                                                                                                                                                                                                                                                                                                                                                                                                                                                                                                                                                                                                                                                                                                                                                                                                                                                                                                                                                                                                                                                                                                                                                                                                                                                                                                                                                                                                                                                                                                                                                                                                                                                                                                                                                                                                                                                                                                                                                                                                                                                                                                                                                                                                                                                                                                                                                                                                                                                                                                                                                                                                                                                                                                                                                                                                                                                                                                                                                                                                                                                                                                                                                                                                                                                                                                                                                                                                                                                                                                                                                                                                                                                                                                                                                                                                                                                                                                                                                                                                                                                                                                                                                                                                                                                                                                                                                                                                                                                                                                                                                                                                                                                                                                                                                                                                               This spot is right across my job so it is super convenient to order from here. The only downfall is that their prices are a bit elevated, like it is everywhere. I have tried their tuna melts, pancakes, and yesterday I tried their chicken souvlaki platter and I absolutely loved it. It comes with grilled chicken, Greek salad, pita bread and French fries. The chicken was cooked perfectly, although they do not add too much pieces of chicken, the salad was fresh and the fries were crispy. Very good diner !.I am 9 months pregnant and really wanted chocolate chip pancakes. They provided butter, enough syrup, a fork and knife. I didn't have to waddle to the kitchen for a thing. This delivery was the highlight of my day..Jahn's is a dying breed for sure!  An \"old school\" soda/ice cream shop with the long counter seating with it's red leather swivel stools!  This brings back memories for anyone that isn't.....25!!Jahn's has been around a long time, and I must say, this particular spot in Jackson Heights is quite the cool neighborhood!  A lot of activity outside with the street vendors and quaint shops, but step inside to a time gone by for sure!Ice cream done well is their claim to fame and they didn't disappoint!  The banana split was delicious with it's three large scoops, the bananas were fresh, but not so much that it had that \"green\" taste to them.  The toppings were enough without having the ice cream swimming in the sauces.It reminds me of going into places like this as a kid and ordering a hot dog and fries, and of course, followed by some delicious ice cream creation!.The food is great if you dine in. Otherwise, you risk missing items when ordering through a delivery app. I've ordered a cheeseburger twice, and both times I was missing fries, lettuce and tomatoes.If you're not going to include the items, don't claim that the order comes with it. So stupid I have to contact support and possibly risk my reputation on the app due to the restaurant's incompetence..Basic diner food but old school classic decor. I ordered the French toast with a side of turkey sausage. The French toast was pretty good but the turkey sausage was salty. The coffee was decent. Everything just tasted very okay but nothing wowed me..Everyone should come for brunch, but more importantly, for the sundaes and the milkshakes and the ice creams! They've got an entire separate menu dedicated to just the desserts!I've been coming here with my family ever since I was a little girl, then on dates as a teenager, then to treat my parents to brunch - and thru it, all of Jahn's charm and hospitality thankfully remains now that I take my son over for a meal or a sundae ever so often. I especially love how nostalgic and quaint the diner still feels. Never change Jahn's!.Wonderful spot to visit no matter the day or time. Great hospitality with comfort food done right. Little gem worth visiting if you are in the area..Basic diner food. Both me and my bf ended up with diarrhea. All we had was pancakes bacon and eggs. Maybe someone didn't cook something right or food was old but that's never happened before where we both got diarrhea instantly from having simple breakfast . So definitely not coming back here. So sad because location is so close to my home I can walk here..Jahn's is that one old school place that most people have in their hometowns or neighborhoods. It's alright, there's really nothing special about it to me other than maybe some of the ice cream. I would never talk about Jahn's poorly though because it's a Jackson Heights staple and the people there are always nice. It's retro and a nice spot for the kids. Food is a little pricey for mediocre food but it is expensive rent in the area. I remember the food definitely being better a long time ago, and the ice cream isn't bad. Nothing special though, yummy banana splits however are yum. And DEFINITELY waffles with ice cream. Sometimes my friends or family go late just for a waffle with ice cream My favorite thing about Jahn's is on your birthday you get a free Birthday sundae..Really good place to eat, it's a place to eat in the morning to have a cup of coffee. The employees were really cool and chill. Over all a nice place!  \n",
       "3                                                                                                                                                                                                                                                                                                                                                                                                                                                                                                                                                                                                                                                                                                                                                                                                                                                                                                                                                                                                                                                                                                                                                                                                                                                                                                                                                                                                                                                                                                                                                                                                                                                                                                                                                                                                                                                                                                                                                                                                                                                                                                                                                                                                                                                                                                                                                                                                                                                                                                             3.5 The soba is home made. There is a subtle grainy texture of the soba that is more noticeable in the hot soba than the cold one. I liked my ten zaku soba with the tempura. It was refreshing. The tempura was fried nice and crispy. The dipping broth was light and refreshing. And the soba was chewy which I liked. It tasted like pretty standard soba. Nothing extraordinary and nothing terrible.Vibes were nice.Went back recently, and can say Soba-ya is still one of my faves in the city.This place was crazy packed on a Friday evening. FYI, although one of their websites says no reservations, they definitely do take reservations, so I recommend calling in advance. Unfortunately if you put your name down for walk-in, you can't really leave because they won't call or text - they will only come outside and look for you.However, the food is as good as I remember it. The texture of the noodles/soba is fabulous, with the perfect \"bite\". I've never ordered the rice dishes, but my friend who ordered the chicken katsu don loved the dish. My only disappointment is that they didn't have the cold uni soba dish on the menu my most recent visit, as that used to be my go-to order. They have happy hour between 3-6pm on weekends with half price beer and discounted sake. Service is quick and courteous.My only suggestion would be to bring back the uni soba!.Has lunch today after several months and surprised that they changed the lunch menu and also the regular menu. That was disappointing given that Inloved the lunch box they use to offer at $25 (soba, salmon, salad, rice, tempura, dessert...)Basically the main menu is shorter in all senses and sobas are more basic but you can add toppings (before you could also add toppings). Now the menu comes with a picture of the dishes.VERY VERY DISAPPOINTED that they do not offer tempura! Not as appetizer nor main course. It only appears with soba. SO sad, I was such a big fan of their tempura.So, I forgot to take the picture but the lunch menu is now basically $21 and there are only 3 options: sashimi don, eel don, tempura don. That is, a bowl of soba or udon cold or hot, and the dons (sashimi, eel or tempura on rice). I wish the soba portion was a bit larger....Still giving 4 stars because I love their soba soupOh! Also, they only offered the lunch menu when we asked....Lunch box is amazing!!!!!!Variety and quality food! Everything so so yummy!!! Best deal ever for lunch!.Cozy japanese with excellent service restaurant! Will definitely come back for more udon and soba!Went on Tuesday at 10.25pm and were very well attended (even though they close the kitchen at 10.30pm.We had the tasty tuna tartar, edamame, soba and udon soup. Everything was excellent, while the soba was as expected, the udon soup is really mind blowing!!!.I came back here again, craving udon and tempura. They don't offer the old lunch set anymore with a small portion of everything. I guess since post pandemic businesses are struggling so I noticed the portions are smaller and for the same price we are getting less food. I got the tempura shrimp and veggie with a small bowl of udon. That's about $22. Prior to pandemic we would get a lot more food for the same price. I believe we got salmon, mash potatoes and seaweed salad etc. there were a mix of small sides. But this time just tempura and noodles available plus a bowl of rice. It was a bit disappointing , I hope they offer the old menu again..Love this place, especially their diva special for lunch or dinner! It's worth the pricy aftermath. Great seating and attention detailed staff. The restaurant is very traditional Japanese and there's always a long line so def come early and come hungry! I had shrimp tempera soba, three course meal with ice cream etc and it was great , I've been a regular since I tried this place many years ago!.The environment is really good. Their seasonal Sake Ikura Don ( salmon mushroom over rice) was super fresh and tasty, recommmend. Ten Zaru (Cold Soba) is recommended. I personally prefer dish with light taste, so their flavor is perfect for me. Would be better if they offer more apprtizer, otherwise you really finish the meal within 20 mins..A personal 3/5 :\"(Just wasn't suuuuper impressed by the noodles or portion here, especially for the price. Also the lack of vegetarian options made me a lil sad!My order: mori dipping noodle with kakiage.* didn't really taste the buckwheat in the soba/anything special (the waiter emphasized that the noodle was made in house)* the portion sizes were smaller than expected (there is a wooden slat on the bottom of the noodle)* the kakiage was also quite small for an extra $2-3 dollars* the dipping sauce kind of tasted like really strong soy sauce to me :\"(It's possible my palette isn't refined for this type of dish, so if this interests you & you're into soba ™ I'd say come check it out! But if you're looking for a good bowl of noodles, I'd say maybe try somewhere else.Great food and decent priced.  Delicious soba and the sashimi was fresh.    Uni ja rice box at $22 is expensive for the amount but everything else was very good.Decent soba noodles and okay value. I ordered the Ten Zaru, which came with cold soba noodles and shrimp tempura. The noodles are actually not as much as they look, since there is a wood board in the bowl halfway up which the noodles are sitting on. But the noodles were decent, albeit a bit bland. There were three shrimp tempuras on the side which were standard in quality. The dipping sauce didn't really add much flavor. For $24, I would've hoped for more than just some okay noodles and three shrimp.The staff were pretty friendly, but the service speed was a bit slow. I had to ask them twice just to bring the check. The interior has a decent amount of seating and it's fairly normal in terms of layout and decor for a Japanese restaurant.Overall, Soba-ya is not a bad option for soba noodles, but also not a particularly great one. You should keep it in mind, but there is some stiff competition from the many other restaurants nearby..A good switch up after being on a carnivore diet for a month. The soba was light and refreshing. Heard that it was handmade. Unfortunately my not very delicate palate couldn't taste the difference.Soba-ya is like a haven in bustling Manhattan. We decided to eat here around 4PM on a Sunday after forgoing the wait at Hi-Collar. Immediately upon walking in, we all enter a collective state of calm due to the Japanese style dining room. The low lighting, quiet music, spacious tables, ample social distancing, and warmth of the restaurant beckoned us to sit down and have a happy meal. Service was very efficient. Of course, the restaurant is known for its soba but I don't like buckwheat noodles so I opted for my eternal love, sushi. I got the sake salmon don, a rice bowl topped with buttery slices of salmon sashimi and ikura. We also ordered hot tea for the table. They only had green tea, but no complaints. The piping, bold tea warmed our souls and kept us hydrated as we enjoyed our meal and conversation. My don was simple yet delicious. The ingredients were clearly very fresh. The salmon was so smooth and came with plain cuts as well as sake marinated slices. It wasn't anything too unique but it was exactly what I was craving. I think the relaxing ambiance and comforting dishes here are great for an intimate dinner over comforting dishes. I love how the tea was only $1 for the whole table and they gave unlimited refills.  \n",
       "4                                                                                                                                                                                                                                                                                                                                                                                                                                                                                                                                                                                                                                                                                                                                                                                                                                                                                                                                                                                                                                                                                                                                                                                                                                                                                                                                                                                                                                                                                                                                                                                                                                                                                                                                                                                                                                                                                                                                                                                                                                                                                                                                                                                                                                                                                                                                                                                                                                                                                                                                                                                                                                                                                                                                                                                                                                                                                                                                                                                                                                                                                                                                                                                                                                                                                                                                                                                                                                                                                                                                                                                                                                                                                                                                                                                                                                                                                                                                                                                                                                                                                                                                                                                                                                                                                                                                                                                                                                                                                                                                                                                                                                              Did not have fountain drinks, but quick service and very cool interior design. The pies were warm, crumbly and scrumdilious.Check for the condiments before you leave, they consistently forget to include butter or syrup when i order pancakes. Who eats pancakes dry? Wtf.I mean food at McDonald's always 5stars. But the service here been nicer for some reason. So I think I should give them 4 stars. We love it since they open 24hrs and 3 blocks from our place..Our family of three was starving and in need of sustenance so we pulled over so I could hop in to grab us a quick bite.No lines was a beautiful sight, and yet the order took a while to compile. I ordered McChicken sandwich with no mayo, small fries, a happy meal, and a meal (can't remember) for my husband. I had enough time to head upstairs to the restrooms, which need some TLC. I hate public restrooms...ugh. There were teenagers seated upstairs, which indicated to me that this was a.an after school hangout spot. I made it downstairs, was handed my huge shopping bag of food, and was out the door. Sadly, my McChicken was nowhere to be found and that's because it was left off the order ticket smh. Clearly there's some room for improvement..This is pretty good atmosphere for Nyc arch experience..Honestly if you're in the Chinatown area, you probably shouldn't be eating here since there are so many nearby restaurants with good Chinese food. Even so, I stopped in here because I wanted something quick and just to take a break from Chinese food since I have it so often. This McDonald's was pretty huge with multi-floors. It was pretty crowded inside for a Saturday night. I was able to place my order with their mobile app, so I was able to skip the lines for ordering at the counter or with one of the kiosks. I was able to get my food fairly quickly and was on my way. The food (McDouble and a cheeseburger) was pretty standard for a McDonald's. Definitely A-OK..No clue what these other negative reviews are saying. This place is by far the cleanest, most professionally run McDonald's I have ever been to. I ordered the McChicken sandwich. Perfect amount of condiments applied. A+.Ok, let's get one thing straight - this is McDonalds. If you eat at any McDonalds, you're eating at your own risk. I was in the area here and decided that after spending hours freezing, I wanted a hot chocolate and to also use the restroom. I figured it would be busy since it was around the lunch hour, but it was worth the sacrifice. This location is 3 floors - bathroom is on the 2nd floor. Like a lot of businesses in Manhattan, it's confining in some areas and especially more so if it's crowded. And it was VERY crowded and busy when I came here, so the feeling of confinement was there......even after riding in a rush hour subway car. There were employees at least on the first 2 floors that were constantly cleaning, which is a very good thing. Speaking of employees, there were a lot of them in here both behind the counter and circulating the floors. Not sure of others' opinions, but despite being very crowded and with some moron customers, some creep customers, and some brain dead customers, each employee I encountered even in the smallest way was friendly and courteous. That says a lot being not only a McDonalds, but a business in general. I can't even recall this many MsDonalds employees at the same place being nice - and I've reluctantly been to several McDonalds in different cities and states. So if anything, the 3rd star is just for the friendliness of the employees here. I respect others' experiences, but for my own experience the employees here were very good. Speaking of \"employees\", I had two of them try to convince me to use the self service kiosk, which I didn't use. There were two of them with 2 sides. I'm not sure if it's the crowds at this location or the McDonalds response to the $15 minimum wage issues. I wasn't the only one wanting a hot beverage, so the wait for 1 hot chocolate took much longer than I would've guessed. If there is one thing I'd fix here, it's having at least 2 hot beverage dispensers with 2 employees running them instead of 1. Again, the \"food\" at McDonalds is its own issue. I assume the menu tastes similar to most other locations, though I rarely will ever eat at any McDonalds in the first place. So say what you will about McDonalds, but this is a good location and I would return here if I was in the area. Just be warned, this is a very busy location so bring your patience with you..Service is so hit or miss here, it's unbelievable. I've come in multiple times and received great service, and very fresh breakfast, and... the location was clean and inviting. Then... I've come in other times, walked in to a store where every spot of the floor is sticky and covered in foot prints, given heat lamp destroyed food, and asked to leave after picking up my order. To top it all off, on a few occasions, I've been threatened or harassed by homeless who use the location as a shelter and are ignored by the lack of management. It's so hit or mess that I don't recommend it. Roll the dice and hope for the best if you venture in..Absolutely love McDonald's. I would always come and order a meal of bacon quarter pounder. The entire staff are quick and efficient. Although the ice cream machine breaks too much，the staff tends to you in any way they can. I would definitely recommend coming here and they're busy on weekends.  \n",
       "..                                                                                                                                                                                                                                                                                                                                                                                                                                                                                                                                                                                                                                                                                                                                                                                                                                                                                                                                                                                                                                                                                                                                                                                                                                                                                                                                                                                                                                                                                                                                                                                                                                                                                                                                                                                                                                                                                                                                                                                                                                                                                                                                                                                                                                                                                                                                                                                                                                                                                                                                                                                                                                                                                                                                                                                                                                                                                                                                                                                                                                                                                                                                                                                                                                                                                                                                                                                                                                                                                                                                                                                                                                                                                                                                                                                                                                                                                                                                                                                                                                                                                                                                                                                                                                                                                                                                                                                                                                                                                                                                                                                                                                                                                                                                                                                                                                                                                                                                                                                                                                                                                                                                                                                                                                                                                                                                                                                                                                                                                                                                                                                                                                                                                                                                                                                                                                                                                                                                                                                                                                                                                                                                                                                                                                                                                                                                                                                                                                                                                                                                                                                                                                                                                                                                                                                                                                                                                                                                                                                                                                                                                                                                                                                                                                                                                                                                                                                                                                                                                                                                                                                                                                                                                                                                                                                                                                                                                                                                                                                                                                                                                                                                                                                                                                                                                                                                                                                                                                                                                                                                                                                                                                                                                                                                                                                                                                                                                                                                                                                                                                                                                                                                                                                                                                                                                                                                                                                                                                                                                                                                                                                                                                                                                                                                                                                                                                                                                                                                                                                                                                                                                                                                                                                                                                                                                                                    ...  \n",
       "854                                                                                                                                                                                                                                                                                                                                                                                                                                                                                                                                                                                                                                                                                                                                                                                                                                                                                                                                                                                                                                                                                                                                                                                                                                                                                                                                                                                                                                                                                                                                                                                                                                                                                                                                                                                                                                                                                                                                                                                                                                                                                                                                                                                                                                                                                                                                                                                                                                                                                                                                                                                                                                                                                                                                                                                                                                                                                                                                                                                                                                                                                                                                                                                                                                                                                                                                                                                                                                                                                                                                                                                                                                                                                                                                                                                                                                                                                                                                                                                                                                                                                                                                                                                                                                                                                                                                                                                                                                                                                                                                                                                                                                                                                                                                                                                                                                                                                                                                                                                                                                                                                                                                                                                                                                                                                                                                                                                                                                                                                                                                                                                                                                                                                                                                                                                                                                                                                                                                                                                                                                                                                                                                                                                                                                                                                                                                 This hidden gem on Nassau Av has offers very good and fresh food which is made daily from scratch! Eating here is like having a freshly cooked home meal made with love!You can get a freshly made sandwich or select from many hot or cold food dishes which are sitting and waiting for you in the display cases. I would highly recommend their breaded chicken cutlets and the pierogis are to die for!Best time to visit is during lunch hour before it's gets sold out, most dishes are refilled so don't worry but I would suggest coming in early!The staff is very friendly and provides great customer service! There's also seating inside but it very limited..Heck yes.  This place is a prefect NYC deli experience! Complete with little polish lady that is sweet as szarlotka. I had the chicken noodle soup and the chicken cutlet sandwich; both made with love and care. It was too much food for me, but this place is a winner..Park Delicatessen is a favorite! Their chicken cutlet sandwich is perfection. Crispy fried cutlet, not too greasy, on a great hero roll. Their breakfast sandwiches are also delicious, piled high with fresh ingredients. I am also a fan of their chicken noodle soup, using homemade stock, making it rich and chickeny. I have also had their pierogies, and am a big fan of the potato and cheese one, and the sauerkraut! Overall quality is far above your average deli, my only wish is they were open more often and I lived close enough to pick up!Definitely recommend giving them a try!.Ordered some dumplings and soup for pickup. The ladies at the front were nice, and the food was delicious! The meat dumplings were okay but cottage cheese dumplings were on point. The main concern was the lack of masks in the store... everybody's face was uncovered! It made me uncomfortable and question their health and safety standards. Will give them another try in the post-vaccine world..This is a no-frills but great deli!  Super simple, fresh food. Very polite and kind staff (even if you're not Polish, which apparently is an issue based on other establishments I stopped at in this neighborhood). Highly recommended. :D.This place has the best Potato and Egg sandwiches, and at lunch the best Chicken cutlets.  Great food,  cooked by the nicest women you will ever come across.   Always greet you with a smile.   They're fantastic cooks and make everything fresh daily..KRYSIAAAAAAA!Sometimes, I go inside just to say hello to the owner. She is a real staple in our Greenpoint community. Service is so important ESPECIALLY for a mom and pop establishment and Krysia understtands that.Krysia is a sweetheart and so is her staff!! So accommodating, no matter what the time, no matter how busy they are. They literally serve smiles. I always walk in happy and excited to see what they are serving for the day!When they got chicken cutlets, it's sammmmmwich day! And when they don't, you bet I'm getting salmon, stuffed cabbage with a side of broccoli. Be careful - once you discover Park, you won't be able to go anywhere else for lunch. Get ready to pack on the lbs!.Lady was nice enough to bring me out a menu & informed me that they had homemade pierogies. I eat any type of dough now that I'm pregnant but my husband he's a picky eater. We shared an order & it took us longer to open the box than to finish them they were really good. Can't post a picture because we devoured them.I'm giving myself one star for never having been here until recently. The food is refreshingly uncomplicated, fresh, delicious and well-priced.  The ladies here are beautiful and friendly and charming. Noted that one review suggested a seating area.. please don't ruin this place by allowing people to stay and kill the vibe..Good quality meat for sandwiches. reasonable prices. friendly service. im going to add it to the lunch rotation  \n",
       "855                                                                                                                                                                                                                                                                                                                                                                                                                                                                                                                                                                                                                                                                                                                                                                                                                                                                                                                                                                                                                                                                                                                                                                                                                                                                                                                                                                                                                                                                                                                                                                                                                                                                                                                                                                                                                                                                                                                                                                                                                                                                                                                                                                                                                                                                                                                                                                                                                                                                  Music here is great. Brenda at the bar was amazing and kept us happy with her quick service and perfectly made drinks all night.Visiting New York for the second time around December, I lived near K-town, this bar is about a 7-minute walk. Although it was a weekday, I still waited for a while to get in. The view from Rooftop was really beautiful, plus the Christmas decorations and the bubble room (reservation required), also waited for a while to order a drink, but it was very atmospheric. Because it was really cold at the time, I ordered a hot drink instead.12月二訪紐約的時候，住在K-town區，步行約7分鐘路程，雖然是平日但仍排隊排了一陣子，Rooftop看到的景色真的很漂亮，加上聖誕裝飾還有泡泡屋(需要預訂)，點喝的稍微等了一陣子，但很有氣氛，因為當時真的挺冷的，所以反而點了熱的飲料來喝。.For a rooftop bar, the view is okay. Though there is a direct sight of the Empire State Building, the seating makes it difficult to get a better view of the city and surroundings. That being said, the rooftop does offer a large amount of seating. They have igloos with fireplaces inside which is a cute concept. However, these are reservation only. They also have other smaller tables and some mini \"homes\" which are Christmas decorated. The mini homes and other tables are open seats. I think the rooftop could have a little more walking space versus seating. There's also an inside area, but everyone was mostly on the rooftop. In the inside area, there is a photo booth as an added bonus. It's a little small inside and the borders could be a little more themed/original. We took them anyway for the memories which cost us $5..They stop the music and close an hour before they're supposed to. The bar takes at least 20 mins for one drink. The DJ lowers the music an hour before closing time. All in all, would only go for brunch or something similar. The nightlife is not the best option in the area.\"The city that never sleeps\" they said. Tuh.EDIT***** The owner commented saying they \"lower the music\" from 3-4 to calm the vibe is a complete lie. We were literally kicked out at 3:15 while trying to take pictures on the roof and the club was silent and clear by 3:30. As I stated previously: it's NYC and I recommend going elsewhere. This is not a good option for nightlife..I made a prepaid brunch reservation here for $230, but unfortunately found out I had tested positive for Covid the day before. When requesting to cancel the reservation, the manager (named Nicole) told me over the phone that she wouldn't be able to accommodate it and that \"I can still come to the restaurant with Covid as long as I am vaccinated\" (have this on video as well).Are you joking me? You would rather have Covid positive guests come to your restaurant instead of giving them a refund?! This place needs to be re-evaluated by the BBB..There are a lot of rooftop bars in Manhattan, but this may be the only bar you'll actually need to visit on your trip to the Big Apple.We were fortunate enough to come here during happy hour because the prices were a STEAL. I can definitely see this place popping at night because it has both an indoor and outdoor location and it has SO MUCH SPACE!I loved that they had a perfect view of the Empire State Building and a cute photo op to boot. FROSÉ - $10 -- if you are looking for the adult version of a capri sun, then this is the one for you! Thank goodness for warm weather because this was the perfect bevvie! It comes in a hilariously big boba straw which you'll definitely need because this cocktail is worth sharing with another person. CHICKEN STRIPS - $10 -- what better pairing is alcohol with chicken strips? They've got this amazing sauce to go with it and honestly I could have had my weight in that sauce if they let me. Definitely worth ordering but be warned, it'll be so good you probably won't share it.Overall, this was my favorite rooftop bar and I cannot wait to return on my next visit!(16/100--2022).This bar is super cute and has amazing views. Really nice for photo opportunities and the staff was super nice as well. Really walkable also. It looks like they also host events..My friend and I came here to relax and listen to some good music, since the weather was nice. We sat at an open table in the bar area, and were told by the hosts that someone would be by soon. The table and chairs had trash and spilled liquid on it, so we stood, waiting for someone to come buss it. After watching the four bartenders talk and socialize behind the bar, we went up to the bar to order and asked them to send a busser over so we could sit. We got our drinks about 5 mins later, went back to the table and it still hadn't been bussed. So we figured we'd stand next to the table and sip our drinks, waiting for someone to take the trash and wipe it down. Multiple staff walked right by us, including the four people socializing behind the host stand and the multiple bartenders socializing behind the bar. It was really not super busy. So, I walked up to what seemed like a server station and asked a server and a busser if they could, at minimum, give us a towel so we could wipe down the seats and table. They said they'd send someone over. We waited another 15+ minutes, the people next to us left and a busser immediately cleaned off their table. We asked that busser if they could do our table and he said he'd be right back. 10 more minutes passed, we had finished our drinks, taken shots and were getting ready to leave and FINALLY, someone busses our table. As for the drinks: the Raspberry mojito tasted like nothing, I got an Irish mule with woodford that the bartender didn't garnish with a lime (like Irish mules should be). Our patron shots with training wheels didn't have salt and had the hardest, most bitter limes I've ever tasted. Ruined the tequila.In summation: Despite how the bar was pretty slow and they were overstaffed, service was nonexistent and drinks were mediocre. Music was alright.Update: To reply to the business owner's rude response and reiterate what I already said, MY drink did not spill, it was from the previous person who sat at the table..Definitely one of those tourist must-go if friends are visiting for the first time but that's about it. If you come on a holiday or weekend, there's a $20 cover to go in and the drinks aren't cheap. I've been in here once without a cover so not sure if their rules. The drinks are pretty good though especially their mango smoothiee. Not sure if it was a special July 4th drink but it was sooo good & strong.I've never been to the restaurant part of it. I've only been to the rooftop where you have an amazing view of the Empire State and especially nice for pictures!! They also have those huge clear igloos in the winter but I've never been in one..If you go expecting no frills you'll leave satisfied. My boyfriend and I popped in on a Tuesday evening without reservations. Upon arrival outside your vax card and ID are checked, then you're granted access upstairs to the rooftop. Once on the rooftop there's a sign next to the hostess stand telling you to seat yourself. Drink & food orders are placed by walking up to the bar area. We just had lunch so we passed on the food. We really came for a drink with a view. I ordered a Mango Jalapeño Margarita for myself and a Jack Daniels neat for him. My Margarita had zero spice to it, needed to be shaken better and was weak. Can't go wrong with a neat drink so no complaints there. The bartender surely needs a class in customer service. He was stoic, not friendly and clearly bothered by being at work. NYC is full of rooftops.... Checked 230 off the list and wouldn't return.  \n",
       "856  COVID related closures seem to have unfortunately taken a toll on this once-very-busy health & wellness spa. Although it was certainly never the epitome of luxury spa clubs, it has always been a decently-priced location where the the sauna rooms were always hot, the jet tubs were always bubbling, and the complimentary toiletries were always available - until now. I've visited this location more than a dozen times over the past few years and I've never seen it so empty and in need of repairs. The sauna rooms were mostly all working (with the exception of the cold sauna room which was out of order and another hot sauna room) but the temperatures were lower than they used to be - most of them were in the 130's and 140's *F. Some of the jets in the outdoor pool were not working and others would be very weak - there was even a station that seemed to have been ripped out, leaving exposed wiring visible to all, I would be lying if I said I wasn't concerned about electrocution for a moment but I'm here typing this review so I guess they had cut power to it. The sauna located by the upstairs pool area was set to a mere 98*F and good lighting was lacking. The drinks were great as always and the staff was friendly as per usual.  The small number of people made it a little more bearable experience than pre-pandemic but alas this is probably why they may feel the need to cut down on costs - overall understandable but it leaves one wondering if we should just make the trip out to Jersey for other locations. Again though, the convenience of this location for those who live in Queens is unparalleled so I'll probably head back whenever I'm in need of some muscle relaxation, which is often..Amazing place,I went here on a week day and it was amazing the food was great and there was a resting area for people who were a bit tired. And they had a roof top pool which was warm so you could go to the roof top pool in winter. Also my favorite part was the saunas they were amazing, after a hot one you could go to the one named ice land and each sauna had different looks and it was amazing.Overall the experience was good & I will definitely be coming back.Wanna get sexually violated in the sauna and have management do nothing about it? Go here! Not only did they call me a liar, they chased me out and banned me because I \"stole their wristband\" (which I gave back, the manager is just an idiot). Terrible place with terrible staff, avoid if you don't want to be traumatized. DO NO GO HERE..Not sure if I would recommend the spa although I had a very relaxing time there. I went on a Tuesday midday and booked and appointment for a K Scrub Special. The Spa was clean and relaxing and not crowded which I like. They have a new food place on the top floor and nice new additions to the menu. They have different baths and saunas and the pools and stuff and of course the bar. They have a new wall for cute photo ops. The problem is that they do not give full size towels any more or robes or spa gear like total decline. I understand the pandemic but no towels. It's a spa. They give a small hand/face towel. And then there was the scrub. I was cold and I really enjoyed my experience here in the past and this time was totally not satisfied. I was asking myself like is she trying to conserve water, and tried to say I'm cold. I'm sure she saw the goosebumps. But try catching the sniffles and being annoying and she asked me for her tip like 10-15 times. I really didn't like that. I will settle my bill when I leave and I'm naked man like how you asking me for tip when I'm blow drying my hair. Chill ma. So like I said I don't know if I would recommend it. I feel like I only when bc I could drink and unwind and most Spas don't allow drinks..3 starts because they STOPPED GIVING the spa clothes. I mean the price didn't go down in fact it went up and in we lost amenities (how). I scheduled an appt for a massage and showed up 1 minute late and to my surprise they took my no issues. This made me happy; however the food service is right outside the spa so I kept hearing ding ding order number so and so while the massage was going on. I would have  preferred silence. Also this is not their fault but I do not like it when the kids come over when I'm in the adult Hot Tub they were just staring at me when I was drinking liquor and their parents were like why are you here and I'm like because Im relaxing away from my kids duhhh. Anyway they should have a separation or a separate floor or something. I brought my own face masks and lotions and used like 3 different saunas. My friend who came with fell asleep in the relaxation room even though people's kids kept on walking in and out she didn't mind as much as I did and I was happy that she was able to feel that relaxed and comfortable. I took the liberty to order some waffles with icecream while she slept it was nice. I enjoyed myself..They honored an expired Groupon I bought precovid and I couldn't use during covid times. 10am. Pretty empty. No crowds. No more uniforms.  rent slippers if you don't bring your own. No more big towels. Bring your own. No robes with admission. No more food on the main floor. At least one hot tub is broken. One of the sauna is also broken. I also don't understand why they would have electrical wires just out in the pool area. Water just going in and out with people inside the water.  I also feel like they know people are complaining about their standards and they don't really care anymore. Feels like spa castle just needs some upgrades and major maintenance or it's on its last year. Hope they fix. I loved it ten years ago. Lol$50 on Monday..Not what it used to be. My girlfriend and I used to come to relax and rejuvenate. However since the pandemic the place looks run down, a lot of the features are closed, including the kids pool, waterfalls, saunas and their buffet style food area. There are exposed wires to buttons that used to work and garbage in the pool (plastic straws and cups)This was my experience yesterday with customer service. My girlfriend and I paid for a couples massage package, upon arrival they charged us the wrong price that was advertised online, first stating  \"That's just the additional tax\" however they charged another sales tax on top of that total. And then upon leaving they charged us again for the same thing we already paid for. And for them to fix this we had to wait 15 mins and could not leave. We also overheard staff talking about how employees don't arrive on time anymore - clearly the overall quality of the place has gone down.To top it all off, we ordered (very overpriced) lunch. Since the buffet is closed, we went to the fast food style lunch window, ordered chicken fingers and a salad - and were served raw chicken! They immediately corrected it, re-frying the chicken in what I presume to be the communal fryer. Not sure if this is how it's supposed to be handled, but just another red flag to add to the list.I understand that mistakes happen and that the past two years have been rough, but I definitely did not want to spend my Sunday fighting with customer service and try to relax between dangerously exposed wires while worrying about food poisoning. Spa castle, do better please - you are not cheap and I expect decent services in return!.I have been coming to spa castle since it opened up. When it first opened it was perfect. They had uniforms, towels, healthier food options, frozen yogurt, a sleeping room, and it was so peaceful. Spa castle now is actually quite horrendous, which is unfortunate cause it's the only option in the queens area that gives you multiple saunas and access to the outdoor pools. Let's breakdown why they are no longer good. Firstly, they changed all the food to basic fast food. Fried chicken strips and Americanized/Asian inspired food. The smoothies are terrible just as the service that goes along with it. The people working their are MISERABLE. Everything is over priced for what you are getting. Why have crappy food at a spa? Makes no sense. They no longer provide you with a towel or flip flops. They allow children into the spa, which I'm sorry but some of us are trying to get away and relax, not be splashed by kids in the pool. Then you have those that come there just to get drunk and be obnoxious in the saunas. What is relaxing about that? It's so disrespectful to others. The showers are also located inside of the nude area and you will be reprimanded if you walk in with even so much as a towel into that area. The only safe bet is to come on a weekday in the morning to avoid all the above..We came to NY to celebrate my birthday & my husband suggested spa castle. We had a great time and took advantage of the multiple levels. Food was fresh and tasty when we ordered lunch. My suggestions...bring your own towels, flip flops for common areas an insulated cup to keep your drinks cold/frozen, and a cover up if you plan on eating in the upstairs restaurant. There were a few areas \"out of order\" or temporarily shut down (like the napping room ) But overall a great stay! p.s. my only other \"complaint \" were the kids. Most kids think of this place as fun (instead of relaxing) so the splashing, horse playing and yelling is real! Wish they had an \"adult only\" side or level so we can relax in peace..Had fun Romantic time with hubby. Very relaxing! For sure will be back ! Nice get away.Gone are the uniforms. Gone are the towels (you get one hand towel). Gone is the water fountain, the TV and the towel dryer. Gone are the jet seats (only three work). Gone are the four hot tubs (only three work). Gone are the hair dryers, gone are the moisturizers. Gone are the jets, gone are the jet buttons (well the wires are still there...). Gone is the ambiance, gone is the class. Gone is the luxury, which is a real shame. Gone is my business, because the prices are unchanged.  \n",
       "857                                                                                                                                                                                                                                                                                                                                                                                                                                                                                                                                                                                                                                                                                                                                                                                                                                                                                                                                                                                                                                                                                                                                                                                                                                                                                                                                                                                                                                                                                                                                                                                                                                                                                                                                                                                                                                                                                                                                                                                                                                                                                                                                                                                                                                                                                                                                                                                                                                                                                                                                                                                                                                                                                                                                                                                                                                                                                                                                                                                                                                                                                                                                                                                                                                                                                                                                                                                                                                                                                                                                                                                                                                                                                                                                                                                                                                                                                                                                                                                                                                                                                                                                                                                                                                                                                                                                                                                                                                                                                                                                                                                                                                                                                                                                                                                                                                                                                                                                                                                                                                                                                                                                                                                                                                                                                                                                                                                                                                                                                                                                                                                                                                                                                                                                                                                                                                                                                                                                                                                                                                                                                                                                                                                                                               Very welcoming. Was craving a cubano sandwich all day and ordered one. Cleaned up the plate. Probably the best cubano I've ever tasted..I've been a here a few times but this was the first visit post pandemic and the prices have gone way up amd portion sizes gone way down. You will get great food and service but will pay for it. They have one of the best Skirt Steaks in LIC..Happy Hour at the bar, was worth the stop to break up the heat and start our LIC bar crawl. Beautiful decor, bright colors with Cuban artisan Claire, sculptures, photography and paintings of Havana. Meeting up with a former Miami friend, we were looking to reminisce of our 305 memories. We shared appetizers, and had mojitos in honor of our love of a Cuban cuisine and culture..Delicious food and great service. They have cocktails and wine. Nice setup indoor and outdoor seating with sanitizer. I enjoyed the guac with plantains, empanadas,  ropa vieja, skirt steak with some Malbec..My experience was excellent all around. I was on a much anticipated first date and wanted a quiet environment for getting to know the person across from me. (I also happen to be sensitive to noise). They had soft music on in the background. The space felt very open and tables are spaced apart well. The service was excellent. They asked us if we wanted sparkling or tap water without mentioning alcohol. We are both non-drinkers mostly and I find this exceptionally rare. I appreciate not having a server expect us to order alcoholic drinks. I ordered the snapper with black bean mango salsa -- this fish was cooked to perfection! He ordered the Madera-style chicken which I'll get next time we go back -- we both agreed it was melt-in-your-mouth good! And we will definitely be back since it will now be \"our spot.\".So my hubby and I found this little place of heaven by mistake.  We were on our 23rd anniversary and wanted something fun to eat with music. We were suppose to go to another spot and got dropped off here instead. We were like what the heck let's do it. Thank godddddd it was so much fun and the food is excellent. Still talking about it. The staff was very accommodating and sweet - sat us down even though we didn't have a a reservation ( made space for us ) and the music was so good. Both my hubby and I had appetizers entree and dessert with drinks and it was pretty affordable. We will definitely be returning and with friends.Everything I have eaten here is so delicious My favorite is the Picadillo and the Ropa ViejaMy husband loves the Cuban sandwiches and black beans.A friend and I were looking for cocktails and appetizers. We started at at Piatto, a place by the water and found the piped music miserably loud and very bland and sterile atmosphere. We left and walked along Vernon and swung into this place. We were very happy with everything, from the cozy atmosphere, attentive and friendly waiter, to the excellent spiced margaritas and appetizers (all we got was friend calamari and a salad). Would definitely go back. In fact, I think this is my new drink/appetizer spot!.I really appreciated how quickly my friends were seated on Friday evening. However, I felt the due to the lack of wait staff that the service clearly became lacking as I would order drinks and they never came. But, I really enjoyed my food (the fish below)! When, a round of my drinks actually came it was pretty good. My friends got steak and it was overcooked. But, they still liked it. The overall meal was a bit pricy about ~$220 for all of us. But, we got an appetizer and drink so kind of balances out..My family & I decided to give this restaurant a try for my sisters bday, we walked in & they welcomed us without a problem. Drinks were good, appetizers & entrees were all good, seasoned great and dessert was good as well. We're Hispanic so we enjoyed it all -down to the music. Prices were very reasonable compared to the restaurants in that area  \n",
       "858                                                                                                                                                                                                                                                                                                                                                                                                                                                                                                                                                                                                                                                                                                                                                                                                                                                                                                                                                                                                                                                                                                                                                                                                                                                                                                                                                                                                                                                                                                                                                                                                                                                                                                                                                                                                                                                                                                                                                                                                                                                                                                                                                                                                                                                                                                                                                                                                                                                                                                                                                                                                                                                                                                                                                                                                                                                                                                                                                                                                                                                                                                                                                                                                                                                                                                                                                                                                                                                                                                                                                                                                                                                                                                                                                                                                                                                                                                                                                                                                                                                                     \"Classic East Village Dive Bar\"This place excuses every classic trait of an East Village dive bar, which is becoming a dying breed- cheap prices- plenty of taps- pool table- juke box - No drink menu (and that's a bonus)The lighting m, clientele and staff personality gives this place an authenticity.  You'll find people of every type and even other countries here.The only downside is who is working can change the tone a bit and some staff should maybe dial down the attitude..A group of friends and I came here and we're having a very nice time to start. We ordered 2 pitchers of beer for ~10 people and sat at a table. A friend of mine went to the bar to ask for some waters, and the bar tender cursed him out. Literally \"f*ck you\", and ignored him. When he asked another bar tender she then brought them over and physically shoved multiple people in our party while doing so.My boyfriend was cursed out when asking for the bill, and being the decent person he is still tipped her very well (I used to work as a bartender so we're big on this, especially on busy nights!). I realize I probably shouldn't have, but I tried to approach her about it, and just say hey you seem really stressed maybe step out for a cigarette or something and take a minute for yourself. She, of course, cursed me out and then came out from behind the bar to scream in my face which was appalling. Luckily we were already on our way out. Having worked in the service industry for years, this is just not how you treat patrons. Your job is to make sure people are happy, and especially make sure they're hydrated and have access to water when they need it. Seeing other reviews about this kind of behavior and can only assume it's the same woman. I will absolutely not be returning here, and advise that others do the same unless you like your drinks with a side of harassment from the bartender. The bouncer was incredibly kind about the incident, and seemed sympathetic to the experience as I was walking out. If the manager reads these reviews from myself and others, handle this bartender problem..I've been going to this bar for 8 years, and recently I had the most appalling experience I need others to be forewarned. To make a long story short, I was threatened to be \"slapped like a bitch\" by a patron at the pool table, so I calmly let the bouncer know this man was potentially violent. Afterward the bartender B came to me and started interrogating me, saying I didn't understand the board clearly. She was so combative I tried to quickly resolve the situation and said never mind, apologizing to HER. Then my friends tried to reason and tell her the story, and one by one she called this some \"Me Too bullshit\", called my friends a homophobic slur, and kicked out all of my party one by one. The worst part is she assumed my whole party was white (we weren't), and made it into a racial issue. Accusing us of causing a scene because it was MLK day, when we simply were warning the bouncer, not her, of a potentially violent person. It was actually devastating as a woman to be silenced for simply seeking  help when my safety was threatened. I hope this person gets help and never does this to anyone else, because this bar is now a place of trauma I can never return to..I've never written a Yelp review before, but I had an absolutely HORRIBLE experience at this bar last Saturday night. As soon as my two other girl friends and I entered the bar, we were immediately harassed by one of the bartenders. Unprompted, she started berating and heckling us from across the bar, while we were deciding what to order. We were extremely confused about what warranted this behavior, although we assumed it was because she was drunk. She was incessantly rude to us to the point where we did not feel comfortable staying. It felt as though there was internalized misogyny at play. As we left, the bouncer told us that this bartender does this every weekend. I will NOT be returning. I wish I could give 0 stars, because I have never been so disrespected at an establishment. There are plenty of other fun dive bars in the area, so I highly recommend looking into one of those instead!.The bartender was stumbling like she was extremely drunk. She started yelling at me saying I was a gay racist.  I am a gay man.... My friend complained that a man was aggressive at the pool table and the same guy continued to be aggressive to my boyfriend and the bartender yelled at my friends when they complained the man that was extremely aggressive at the pool table. My other friends then tried to resolve the situation and the bartender screamed and kicked them out..Best downtown bar. Real and unpretentious. Really knowledgeable and friendly bartenders. One of the last places in Manhattan that is neither  a frat-boy-financial-advisor-bar or  a trying-too-hard-hipster-bar. During Santa Con, they had a sign outside declaring that people in Santa costume were not allowed inside. My kind of place:).It's a decent bar to go in between other bars in the area. I had a puzzlingly negative experience with one terribly rude bartender, however, so I wouldn't recommend it. Otherwise, it's a solid 3-star establishment. Very nice bouncer too..3 stars is exactly what you're getting here. A simple dive bar, we met some pretty cool people, the drinks were not good, and the music was nostalgic. I wouldn't spend my whole night here, but it's nice to stop in for a few or in between other plans..Don't have a jukebox if you can't handle some classic music, dummies. Lol the bartender was hella rude about it.Just want to come on here and say thank you to the bartenders that worked last night. I came in trying to hide the fact that I was crying after having a really hard night. The bartenders immediately took care of me, treated me like family, offered their ear if I needed to talk, and tried their best to make me laugh. I'm just visiting but have been looking to move close by. When I do, this will certainly be my local bar.  \n",
       "\n",
       "[859 rows x 16 columns]"
      ]
     },
     "execution_count": 24,
     "metadata": {},
     "output_type": "execute_result"
    }
   ],
   "source": [
    "df_1"
   ]
  },
  {
   "cell_type": "code",
   "execution_count": 14,
   "metadata": {
    "ExecuteTime": {
     "end_time": "2022-04-18T11:11:35.270737Z",
     "start_time": "2022-04-18T11:11:35.104377Z"
    }
   },
   "outputs": [
    {
     "data": {
      "text/html": [
       "<div>\n",
       "<style scoped>\n",
       "    .dataframe tbody tr th:only-of-type {\n",
       "        vertical-align: middle;\n",
       "    }\n",
       "\n",
       "    .dataframe tbody tr th {\n",
       "        vertical-align: top;\n",
       "    }\n",
       "\n",
       "    .dataframe thead th {\n",
       "        text-align: right;\n",
       "    }\n",
       "</style>\n",
       "<table border=\"1\" class=\"dataframe\">\n",
       "  <thead>\n",
       "    <tr style=\"text-align: right;\">\n",
       "      <th></th>\n",
       "      <th>id</th>\n",
       "      <th>alias</th>\n",
       "      <th>name</th>\n",
       "      <th>image_url</th>\n",
       "      <th>is_closed</th>\n",
       "      <th>url</th>\n",
       "      <th>review_count</th>\n",
       "      <th>categories</th>\n",
       "      <th>rating</th>\n",
       "      <th>coordinates</th>\n",
       "      <th>transactions</th>\n",
       "      <th>price</th>\n",
       "      <th>location</th>\n",
       "      <th>phone</th>\n",
       "      <th>display_phone</th>\n",
       "      <th>Review_Text</th>\n",
       "    </tr>\n",
       "  </thead>\n",
       "  <tbody>\n",
       "    <tr>\n",
       "      <th>0</th>\n",
       "      <td>OM5nz6TYlI0vxjckv1in8Q</td>\n",
       "      <td>dunkin-new-york-105</td>\n",
       "      <td>Dunkin'</td>\n",
       "      <td>https://s3-media0.fl.yelpcdn.com/bphoto/HmZzfmHFicBiAtyiNcCxnw/o.jpg</td>\n",
       "      <td>False</td>\n",
       "      <td>https://www.yelp.com/biz/dunkin-new-york-105</td>\n",
       "      <td>20</td>\n",
       "      <td>[{'alias': 'donuts', 'title': 'Donuts'}, {'alias': 'coffee', 'title': 'Coffee &amp; Tea'}]</td>\n",
       "      <td>2.0</td>\n",
       "      <td>{'latitude': 40.79867, 'longitude': -73.94132}</td>\n",
       "      <td>['delivery']</td>\n",
       "      <td>$</td>\n",
       "      <td>{'address1': '147 E 116th Street', 'address2': '', 'address3': '', 'city': 'New York', 'zip_code': '10029', 'country': 'US', 'state': 'NY', 'display_address': ['147 E 116th Street', 'New York, NY 10029']}</td>\n",
       "      <td>16465979456</td>\n",
       "      <td>(646) 597-9456</td>\n",
       "      <td>I mean yeah, this Dunkin kinda sucks. Very slow service and my orders been messed up a few times and /or never made. However, the people that work here deserve to be paid probably double what they already make considering the customer base that frequents this location. I have never encountered so much rudeness and disrespect towards employees like what I've seen in this specific Dunkin' line. I've seen the employees be screamed at, ignored and disregarded completely, and just altogether demeaned by the patrons that come here. It honestly makes me so sad and a little hopeless for humanity. I know the people working here are genuinely trying their best to keep up, make drinks and food, all while trying to communicate and help customers/fulfill their orders. Please be kind. It's literally just coffee..Where do I start? Hmm the Indian/Pakistani people that run it don't even know there own products. On top of that, they have trouble hearing you and they are very ignorant. If you are ever in Manhattan and you go to this Dunkin, I suggest you don't go in. It's in violation of many health codes and it's unacceptable..I ordered a Caramel Iced Macchiato with Almond milk. I didn't drink it until I was already couple blocks away from Dunkin and it tasted so bitter. I am not sure if they put the three pumps of caramel but I didn't have a taste of Carmel in the drink whatsoever. Really turned my mood down. Check the pictures out..Horrible.. this Dunkin Donuts is so unprofessional they should be shut down. I clearly ordered another order then what they have given me. The lady working their in the mornings is very confused and seems overwhelmed. Asking me for my name on the order I told her as soon I told her she started making my order. Once she said order is ready she gave it to me and said everything is included their. Smh ‍ the crazy thing is that she said everything is inside of the bag and no worries.. I came home and opened up the bag it has someone else's order inside. Also if you go to this Dunkin' location around 4 PM there will be another confused lady that works their during the second shift. Location claims to work 24/7 after Monday but they close at certain times so ordering on the app you will lose your money and cause major confusion. Dunkin' needs to do better!.Iv only been here one time but I didn't order no donuts they had flys and I saw the flys land on the donuts . The one on 125st Lexington is better.I was in the neighborhood volunteering for the New York City marathon. (Do this! It takes time and energy, but I thought it was worth it.)Thanks to fellow volunteer Kei, I got to experience Dunkin Donuts coffee with milk and cream (which I rarely add)! She also picked up a croissantwich with egg and sausage which hit the spot.I'm sure there are better local options, but Dunkin Donuts was close to our volunteer stations. Sometimes all you need is convenient, consistent fast food..Literally took 15 minutes for me to get ONE black coffee. I'm not sure how hard that was. I could have made it quicker by myself. They need to get their sh*t together..My experience with this Dunkin was unbelievable I've been here before but never had this experience. So me and my cousins walk into Dunkin to get an iced coffee and some munchkins. So we order the iced coffee and we asked for milk, and sugar so then we see the coffee and it's pure black and bitter and it looks likes iced tea so we was like ok can we get creame with it he just starts having an attitude like saying I asked you if you wanted creme so then it starts looking like a coffee so we walk out and we tasted it and it was DISGUSTING BRO like literally it tasted bitter and nasty so then I was like uh uh let's go back in cause this is not good and this is just disgusting so we go back in and we ask for more sugar he's gonna say OH YOU DONT KNOW WHAT YOU WANT I ASKED YOU IF YOU WANTED SUGAR like just having this whole attitude so we was just keeping it cool cause we was never rude to him and he gave us an attitude and started like shouting so then we get home and we taste the donuts the donuts are just stail and hard. But like he was really disrespectful and there service was just trash..Went into the Dunkin' Donuts at 130am to order a toasted bagel with cream cheese. The guys says he doesn't have bagels when clearly I'm looking at them and wouldn't have ordered them had I not saw them. Then he says they don't have a toaster and they don't toast bagels. That's funny cuz I ordered the exact same thing last week. I guess their toaster is the new McDonald ice cream machine..i must say that i am a bit surprised that i am visting this dd in east harlem , 116 st off lexington ave. a dunkin donuts and a baskin robbins so it can't be that bad and it was not, good assortment of fresh looking donuts and the full array of baskin robbins ice cream including prepacked pints at 2 for 10 bucks. some seating inside but i prefer not to sit next to someone who reeks of weed and cheap malt beer so it's a hot chocolate and a blueberry muffin and some ice cream for the go as i wait for a friend shopping nearby . it's dunkin donuts so don't aim high and you will be just fine and dandy .</td>\n",
       "    </tr>\n",
       "    <tr>\n",
       "      <th>1</th>\n",
       "      <td>R2Zrr3m-UyrSW2GGgDYzLQ</td>\n",
       "      <td>life-health-fitness-whitestone-whitestone</td>\n",
       "      <td>Life Health Fitness - Whitestone</td>\n",
       "      <td>https://s3-media0.fl.yelpcdn.com/bphoto/szqbPMFThvXs_smOt35REQ/o.jpg</td>\n",
       "      <td>False</td>\n",
       "      <td>https://www.yelp.com/biz/life-health-fitness-whitestone-whitestone</td>\n",
       "      <td>52</td>\n",
       "      <td>[{'alias': 'gyms', 'title': 'Gyms'}, {'alias': 'healthtrainers', 'title': 'Trainers'}, {'alias': 'yoga', 'title': 'Yoga'}]</td>\n",
       "      <td>4.0</td>\n",
       "      <td>{'latitude': 40.79266, 'longitude': -73.80745}</td>\n",
       "      <td>[]</td>\n",
       "      <td>NaN</td>\n",
       "      <td>{'address1': '10-24 154th St', 'address2': None, 'address3': '', 'city': 'Whitestone', 'zip_code': '11357', 'country': 'US', 'state': 'NY', 'display_address': ['10-24 154th St', 'Whitestone, NY 11357']}</td>\n",
       "      <td>17183570300</td>\n",
       "      <td>(718) 357-0300</td>\n",
       "      <td>The gym is very clean and all machines are working properly. There is a juice bar that has a variety of shakes. The locker rooms are stocked with soap, lotion, and mouthwash. There is also a steam room or sauna. The gym is a comfortable space overall.The prices are a little high unless you take advantage of the classes, which they are not offering right now. However, it's not easy to find a gym with equipment that's accessible and also in good working condition in queens! The gym reminds me of crunch in Manhattan..This has been my gym for a few years now. I love it here and have a new found appreciation for the facility after they closed/reopened due to covid. The facility was impeccable even before covid but they certainly stepped it up even more. I always see their friendly cleaning staff no matter what time i go in for my workout. The gym is never too cluttered and the crowd is very mixed. I particularly like that  it doesn't feel like \"a guys gym.\" By this i mean that their dumbbells range in all sizes and that plenty of women go..Good: To be fair. It's a nice exercise club with good trainers. Equipment is fairly decent. Certain days there is too much people but everyone is usually very polite and sharing.  Great day care for family's I used it quite often. No other gym has this option where you can drop off your kids down stairs and work out.Bad: if your miss your payment. Braces for the debt collectors to hunt you on your phone! They make it seems like you owe them millions of dollars. Forget trying to block them. They have tons of numbers to call and harass you over $60 dollars. Yes, that is right! They want their rightful $60 dollars.     Than when you want to cancel. They want the Full payment of next month. As stated in the contract. The owner was super nice and attractive..Let me start off my saying, I was one of the first members of LHF with the first management and under the new management, everyone in LHF is great! (Except for one...continue reading to find out) Tony is an amazing trainer and motivator, King is super energetic and makes the classes super engaging and create a family. I try to make it out to the gym when I'm not super busy with work and school. On February 13,2020 I went to sign in and I was told that my membership was CANCELLED by the OWNER ROSA. Who cancelled my membership on December 23,2019. I never recall canceling my membership, receiving a phone call or an email in regards to the cancellation of my membership. I spoke to the manager Nick who was great and tried to settle the situation and allowed me to work out for the day. Rosa states that I did not have an active account and took it upon herself to cancel my account because I had a cheaper membership. Granted, I understand that my membership was much cheaper, but a simple phone call would have been much appreciated. This is how LHF takes cares of their members of over 5+ years. I honestly do not mind paying the new membership price. But the way ROSA handled the situation was such a turn off. Goodbye LHF you were great! Except you Rosa..I've been a member here forever and just recently started frequenting it again. It's on the pricey side but at this point to me its well worth it. I generally don't use the locker room facilities but they're kept clean. The gym itself is also kept clean. Its rare that I've seen something broken and when it does happen its fixed within a few days. It does get crowded during the peak weekday after work time but so does any gym.The best gym in the area hands down..Thank you for being the absolute best during these unprecedented times! I'm really happy with your service..Things like this make me get active on Yelp. Please read the contract fully when signing and request to read the paperwork. They make you sign things that you don't even see what your signing and then tell you \"we emailed it to you.\" Month to month membership and giving 30 days notice, ha. This is not an apartment that you are giving up it's a gym membership. The children behind the desk do not know much of customer service to deal with people because they are probably making low end salaries to sit their and check you in. Stay away from this place. They force you to come in and sign the release in person to lock you for more days then it is worth, because they know you can't come down right away due to life. The contract is also shady with no cancellation addresses just in \"person.\" If this was bought to New York City consumer affairs they have to give you other ways to cancel. Please stop taking advantage of people. Treat people better because when you make it hard for them they won't return to collect your extra month. Nothing special about this place, trying to give you a high end feel but cheaply made in the bathrooms and store. A lot of class cancellations and emails about that. A lot of parking. Enjoy. Update: 8.17.18To respond to the owner who says I'm not a member see attached of picture. Please be professional then trying your tough approach. Buyer beware!.Things like this make me get active on Yelp. Please read the contract fully when signing and request to read the paperwork. They make you sign things that you don't even see what your signing and then tell you \"we emailed it to you.\" Month to month membership and giving 30 days notice, ha. This is not an apartment that you are giving up it's a gym membership. The children behind the desk do not know much of customer service to deal with people because they are probably making low end salaries to sit there and check you in. Stay away from this place. They force you to come in and sign the release in person to lock you for more days then it is worth, because they know you can't come down right away due to life. The contract is also shady with no cancellation addresses just in \"person.\" If this was bought to New York City consumer affairs they have to give you other ways to cancel. Please stop taking advantage of people. Treat people better because when you make it hard for them they won't return after you collect your extra month for notice. They claim they waive the cancellation fee, but with 30 days notice you always have to pay it anyway due to timing. Poor business practices. Nothing special about this place, trying to give you a high end feel but cheaply made in the bathrooms and store. A lot of class cancellations and emails about that. A lot of parking. Enjoy..First let me take a second to hope everyone is safe and doing well during this crazy time in all of our lives.....Recently I joined Life Health Fitness actually right before the Virus really took off especially in Queens. I live in Astoria and I was looking for a clean, friendly gym with a positive atmosphere and parking...This gym covers every concern and even was better than expected. The staff was helpful and friendly and the machines were clean and all working properly! They even offered several payment options and pay with cash when many gyms want to lock you in by only accepting a credit card. For me I was looking for a short term contract because I was selling my condo and planned on moving out of state. The management team went over several options and found something that worked for me. Unfortunately a few days after joining I found out I would be moving even sooner then expected and The Corona Virus exploded closing everything including the gym.. Usually the only option would be a credit going forward but not Life Health! After speaking to management just once by email they immediately responded and agreed to give me a refund. I really did not expect that and I was pleasantly surprised and very thankful. Please support them and be patient while we all go through this crazy time... Thank you Life Health Fitness !!!!.Is not crowded in the afternoon, and has a lot of natural light which a lot of gyms don't have. But I can't stand the blasting techno music, same songs every day during my workout, so loud that I can't hear my headset to block it out and have to wear earplugs. Also they say you can freeze your membership for a month and then they fight you disputing the charge back because it's the last month of my membership..I  don't recall them stipulating what month or months that I couldn't... I was away for a month and got charged full price for that month...Too bad,  They should've let it go, bad karma brings  bad reviews.  The charge back is on my statement Rosa, somebody did it. And then she blocked me from responding.....I came in for a free day trial. Gym was clean and it wasn't crowded( at least at the time i went ) they have weights on the upper floor and bathrooms, daycare on the basement. Staff was friendly. They have the annual membership for $60 a month and 70$ for 6 months.</td>\n",
       "    </tr>\n",
       "    <tr>\n",
       "      <th>2</th>\n",
       "      <td>KJXi9G1ODDEcgGfNJlpKaw</td>\n",
       "      <td>golden-krust-caribbean-restaurant-brooklyn-11</td>\n",
       "      <td>Golden Krust Caribbean Restaurant</td>\n",
       "      <td>https://s3-media0.fl.yelpcdn.com/bphoto/PveOYe6WT-SNlfiBtS1JQA/o.jpg</td>\n",
       "      <td>False</td>\n",
       "      <td>https://www.yelp.com/biz/golden-krust-caribbean-restaurant-brooklyn-11</td>\n",
       "      <td>10</td>\n",
       "      <td>[{'alias': 'caribbean', 'title': 'Caribbean'}, {'alias': 'bakeries', 'title': 'Bakeries'}, {'alias': 'hotdogs', 'title': 'Fast Food'}]</td>\n",
       "      <td>1.5</td>\n",
       "      <td>{'latitude': 40.636501, 'longitude': -73.892392}</td>\n",
       "      <td>['delivery']</td>\n",
       "      <td>$$$</td>\n",
       "      <td>{'address1': '1887 Rockaway Pkwy', 'address2': '', 'address3': None, 'city': 'Brooklyn', 'zip_code': '11236', 'country': 'US', 'state': 'NY', 'display_address': ['1887 Rockaway Pkwy', 'Brooklyn, NY 11236']}</td>\n",
       "      <td>17182094242</td>\n",
       "      <td>(718) 209-4242</td>\n",
       "      <td>Staff was professional and friendly. However, when you hear chicken pattie you would expect for there to be chicken in the pattie and not a paste of curry. Here I have this big pattie and as you bit in to it all you're bitting in to is crust upon, crust upon, crust, with a smear of what looks to be some sort of curry paste that has no indication that it's suppose to be chicken. I'm not saying they have to put a whole chicken in the thing but chunks or anything would be better the rip off that they serve now for $2.20..They allegedly open at 8 am. However breakfast items are not ready . I have been there at 8:15 &amp; the trays are Empty..So I finally figure out how they got a C. I went to this location at night and I noticed the sign changed to a B. So I went in to get something basic- patties! A gentleman walked in behind me and asked for the same thing. So we waited. She comes from the back with three chicken patties; two for me and one for him. His patty happen to have chicken that was oozing out the top she took her fingers (hear me clearly) her bare fingers and grabbed the excess chicken off his patty and threw it on the floor. I was mortified and I went numb. I forgot to walk out. I paid and left. I ate my patties and they lacked the authentic Golden Krust flavor. No seasoning all flakes. This is another location that needs to be closed for business. You cannot stay open any longer. You guys are terrible. She touched his patty with her dirty fingers she uses to touch money. Help me understand. You deserve a  F plus and the city needs to take your license away to sell food..Extremely rude woman answers the phone. Asked if they are open says no, I ask what time she says \"whenever the food is ready\" at 9:00am in the morning! Nasty tone and very dismissive. Even the folks at the counter are rude! Ughhh. Totally blew my morning..The worst customer service. Your workers have the worst unfriendly attitudes . This is not the way a restaurant is suppose to treat people when your spending your money. Take my advice do not waste your time going fo that place. Your employees need to take a class on what is means to be a Professional..Came here to pick up some lunch, no rice and peas at lunch time smh. So I ordered two beef patty's to go. I made it to the belt and decided to eat my patty on my drive home . First thing I noticed the patty wasn't hot the dough was wet, uncooked. I made it to Erskine street and made a uturn and went back for my money unacceptable how you mess up a patty..They would get no stars if I could. I will not be back there again. I came in hungry, planning to eat there. I asked for all the vegetables on a big plate. Cabbage is a vegetable. The rude women behind the counter picked an argument with me about which sized container to use, saying that they were trying to make it cheaper than the owner would have them do it. They cover the vegetables, no cabbage, no dressing on the raw veggies. Still arguing with me. I order 2 beef and a spinach patty, some kind of bun. I say that I don't need the water because I decided not to eat there after all. She says that she already charged me for the water and puts it in the bag. Then rings me up for $22! She seemed to be enjoying the fact that I wanted out of there and away from their cookiness asap, taking as long as they could and acting like they misunderstood my wishes. Bunch of sadistic crooks..It's dirty. Seriously. This restaurant is consistently failing NYC health inspection. I wouldn't eat here unless you want to get sick..Food is ok. Better then the golden crust by the Rockaway train station. Although, the workers move slow; have lots of attitude &amp; sing gospel songs with a heavy Jamaican accent very loudly during service. The place is unbearably hot year 'round. I avoid it during the summer months. Women are flirtatious. Complete with elaborate weaves in hairnets they're not the most attractive. Take note: If you are not receptive to advances, your service quality will noticeably decline..This franchised establishment has no business being on TripAdvisor or any other review website. Owners/management needs to reiterate the definition of customer service to their workers before they consider asking the public for feedback.The ladies working in the front of the restaurant are a disgrace to the service industry. There are 2 older ladies who are unpleasant and always look unapproachable. Any questions asked about the details of the food on display and they take it personal as if you as a guest aren't allow to inquire about a product before purchase. The main lady calls herself the supervisor. Majority of the time the line is out the door while the younger ladies on the register discuss personal matters such as partying events. In addition, although the displays are inviting; I find that the food is overpriced at this location. There are plenty of Jamaican restaurants in this neighborhood that are just as good with less hassle &amp; less sassy front of the house employees representing their brand.</td>\n",
       "    </tr>\n",
       "    <tr>\n",
       "      <th>3</th>\n",
       "      <td>5YFgQpN3AnlLFG4m5fCvzA</td>\n",
       "      <td>gulshan-terrace-woodside</td>\n",
       "      <td>Gulshan Terrace</td>\n",
       "      <td>https://s3-media0.fl.yelpcdn.com/bphoto/EA1PIc8jCZZvZMYuGUFyng/o.jpg</td>\n",
       "      <td>False</td>\n",
       "      <td>https://www.yelp.com/biz/gulshan-terrace-woodside</td>\n",
       "      <td>3</td>\n",
       "      <td>[{'alias': 'indpak', 'title': 'Indian'}, {'alias': 'bangladeshi', 'title': 'Bangladeshi'}]</td>\n",
       "      <td>4.0</td>\n",
       "      <td>{'latitude': 40.7498753, 'longitude': -73.9027518}</td>\n",
       "      <td>[]</td>\n",
       "      <td>NaN</td>\n",
       "      <td>{'address1': '5915 37th Ave', 'address2': '', 'address3': '', 'city': 'Woodside', 'zip_code': '11377', 'country': 'US', 'state': 'NY', 'display_address': ['5915 37th Ave', 'Woodside, NY 11377']}</td>\n",
       "      <td>17184574577</td>\n",
       "      <td>(718) 457-4577</td>\n",
       "      <td>I am surprised I haven't heard of this place before. Based on the former (and few) reviews, this place was called something else. So maybe perhaps it's under new management now? Anyways, I came here for a friend's Nikah (engagement ceremony) and I could tell it easily accommodated 150 people. It's not too far from Bellozino, a different banquet hall where my sister's wedding was held. I wish I had known about this place before. I liked the high ceilings and price per head is supposedly cheaper than the Bellozino. There's a big stage that can accommodate large group pictures. The only downside (not really though) is that there is no valet parking, at least not that I know of. However, I realized through experience that most attendees tend to avoid the valet parking anyway. Food was really tasty too..I recently came here for a mehendi/holud. The place is just one large room. The small hallway leading to the bathroom was scattered with things and looked so messy. I wish they made an effort to be neater before the event. All the drinks were served in small plastic cups that you had to be sure not to squeeze too hard. Like there were cloth napkins and then $1 store plastic cups?? The servers were very sweet and hospitable. The appetisers were really good, but dinner was not. Everything served for dinner had the same overwhelmingly strong cinnamon flavour as if every dish was cooked in the same pot in turns. The chai was yummy. There was only plastic cutlery available, which made it hard to cut some things up. And the A/C was one extreme or the other. It was either entirely too cold or way too warm. I was never comfortable. The place has the potential to be better. They can make good food. Dinner should be just as good as appetisers. Also, if you're a formal event hall, please invest in actual glasses and cutlery!! This was a pre-wedding event not a child's birthday party. The only reason I'm giving three stars is because of the appetisers, chai and the really friendly and helpful servers. Management needs to improve the place overall!.I recently held my birthday party here. It was great, the owner accommodated all my needs. He was quick to answer the phone for any questions I had. The employees are hard workers! Thank you and will be visiting again.</td>\n",
       "    </tr>\n",
       "    <tr>\n",
       "      <th>4</th>\n",
       "      <td>8mZ6fE9n_mK59mJ_MYtrSQ</td>\n",
       "      <td>mimis-hummus-brooklyn</td>\n",
       "      <td>Mimi's Hummus</td>\n",
       "      <td>https://s3-media0.fl.yelpcdn.com/bphoto/ati49nUSXFk6cdW6Of12gw/o.jpg</td>\n",
       "      <td>False</td>\n",
       "      <td>https://www.yelp.com/biz/mimis-hummus-brooklyn</td>\n",
       "      <td>362</td>\n",
       "      <td>[{'alias': 'mediterranean', 'title': 'Mediterranean'}, {'alias': 'mideastern', 'title': 'Middle Eastern'}, {'alias': 'moroccan', 'title': 'Moroccan'}]</td>\n",
       "      <td>4.0</td>\n",
       "      <td>{'latitude': 40.64035, 'longitude': -73.9667}</td>\n",
       "      <td>['delivery', 'pickup']</td>\n",
       "      <td>$$</td>\n",
       "      <td>{'address1': '1209 Cortelyou Rd', 'address2': '', 'address3': '', 'city': 'Brooklyn', 'zip_code': '11218', 'country': 'US', 'state': 'NY', 'display_address': ['1209 Cortelyou Rd', 'Brooklyn, NY 11218']}</td>\n",
       "      <td>17182844444</td>\n",
       "      <td>(718) 284-4444</td>\n",
       "      <td>Delicious food and a fun place to browse!The mushroom hummus is my go to favorite. It's warm, savory, and quite filling if you want a light but satisfying meal.I've dined here for an in-person meal, which was mostly enjoyable. Unfortunately there can be many distractions and interruptions to your conversation since Cortelyou is so busy and the fire station is right across the street.I've ordered takeout a few times to bring over to nearby Sycamore Bar, which allows you to bring in food. It's the perfect sized snack/meal that's not your typical greasy bar food fare to accompany my drinks and trivia time while at Sycamore. While you wait for food, browse the imported Mediterranean groceries and selection of craft beers. I guarantee there will also be something surprising to check out and possible bring home!.I actually made an order through Drizzly, not knowing that this a restaurant. They didn't have one of the hard seltzers I wanted so they actually canceled that part of my order and then threw in 6 random drinks to make up for it. Thought that they were so nice for that! They also threw in a hummus and some homemade savory bread. They were both good but the hummus was delicious!! I had no idea this place was near me, will 100% be ordering food from here next time!.There's nothing like bad hummus to make you swear off falafel sandwiches for a while, but that's not something you have to worry about at Mimi's because they make their namesake dish--served three different ways--really well. You can't go wrong ordering from their Mediterranean comfort food menu, whether it's a shakshuka or a shawarma bowl. Don't sleep on their desserts either.Like many other restaurants during the pandemic, they've largely pivoted to selling grocery items, I'm guessing because sometimes selling the raw ingredients is the best way to stay afloat while people are dining out less overall, and taking those same ingredients and making them into a meal is just more work than it's worth. Their shelves are completely filled with specialty items like different kinds of oils, pasta, and jams.I love their canned alcoholic drink selection, which includes hard kombucha and hard probiotic sparkling drinks. If you're over drinking White Claws, I'd recommend trying Flying Embers, which they carry here. I also purchased a cornucopia of produce, including jalapenos, lemons, and fruit. They even sell prepared foods like soup and babaganoush in their refrigerated section. Everything was quite fresh.If they are selling freshly baked cookies, you'd be remiss not to buy a few. The tahini shortbread was both buttery and just a touch savory, and I savored every last bite. Mimi's Hummus may not be the Mimi's Hummus of yesteryear, but it's still beloved by the Ditmas Park community. Support your local businesses!.I thought the place was ok. The food was good but there were a couple of things I didn't particularly like.First the food: huge portions of tasty hummus and mushrooms. If I am honest, the mushrooms are a little gummy and I think they would be better if chopped a bit smaller. The hummus is good and I definitely cannot complain about the size of the portion. The roasted cauliflower was very tasty. Lots of pita bread, too.On the night I was in the service was really poor. The cashier/server was barely awake. We were the only customers on a Monday night and there was a lot of confusion on our part regarding the drinks and how that all worked since she did not explain it well and the person working the other side of the store was sitting at a table reading and doing what looked like homework. Here's the deal as we now understand it: you cannot purchase alcohol from the restaurant, but you CAN go to the store next door for beer in a cooler. You choose what you want and end up paying for it in the restaurant (part of our confusion) and they do provide glasses but we could not understand why such a strange system. We did not realize until later that the person doing homework worked there. What irritates is the fact we were asking ourselves a lot of questions (again, no one else there, so the place was quiet except for us) about the beers and where to pay and whether we would get a glass...and that person could have answered our questions but simply stayed quiet while we remained confused.We were finishing up our meal and the restaurant was soon to close when we were asked to hurry up and finish. That never sits well, particularly since we were doing our best to get out without inconveniencing the staff. Not sure I would return..I first experienced Mimi's Hummus many years back before it was a market and adored their hummus plates.  Now that it's a mini market, it's even better!  My favorite sandwich is the Iraqi Pita--delicious, more than enough for a meal, and a great vegetarian option (if you're into that thing).  The market offers in-house to-go hummus, tahini, and all the other Mediterranean mezes you can imagine. The also have cans of beer and wine which are *perfect* to bring to Prospect Park, which is roughly a mile away. You can't go wrong here..Mimi's is a super delicious, cute, and intimate restaurant on Cortelyou. My friend and I had dinner here a couple weeks ago and loved everything! We shared the tabbouleh salad, mushroom hummus with pita, and mujaddara bowl with beet salad. The tabbouleh salad was light and fresh. The mushroom hummus was tasty and actually really filling, especially with the pita bread. The pita here is one of the best I've had! The mujaddara bowl was so interesting and full of flavor. I also absolutely loved the yogurt it was paired with. Although I typically don't love beets on their own, I enjoyed the beet salad and thought it was a refreshing side, especially next to a lentil-based dish.Despite coming in hungry and ordering just a few items, we were both full at the end of the meal and even had leftovers! Taste | 4.5Atmosphere | 4Presentation | 4Service | 4OVERALL | 4.5.Fancy Mediterranean take out and dine in. Or during COVID-19, dine out, in a heated 3 sided tent. We recommend the Iraqi pita sandwich, which a good large meal for a vegetarian. Vegans can ask them to leave out the egg. Each component is rich and the strong flavors work well together. My dining companion recommends the kebab flatbread. The humus is, as one would expect, a star here. Try the mushroom! Only complaint is that humus plates only come with one pita, so they're not designed to share. It's a lot of humus for one person... everything is good here, including the baked goods. If you're looking for something not too sweet, take the pistachio or tahini cookies. BTW this is not a kosher place, so check the ingredients..Really great market full of delicious stuff to take home plus their full menu! I especially love the breads, pita, and dips. Love that they expanded the wine selection too. I wish I could convince my husband to order it more often. It's a little pricy but so delicious. The kebab bowl and mushroom hummus are still my favorites..mushroom hummus is amazing and I really love the kebab bowl. such a nice little spot for dinner in my neighborhood. I also love their beer store next door so they usually have great options to drink as well. not the most stellar or attentive service but the food is delish and always filling..Whatever the spicy watermelon cocktail the lovely waitress Emily recommended for me is, get like 5, theyre delicious, as is everything else here. We had a great time, thanks guys!.Andreessa was our server and she was AMAZING. So knowledgeable about the menu and so accommodating and she was attentive to our table the entire time. It was our first time and we are definitely coming back! Hidden gem on Cortelyou.</td>\n",
       "    </tr>\n",
       "    <tr>\n",
       "      <th>...</th>\n",
       "      <td>...</td>\n",
       "      <td>...</td>\n",
       "      <td>...</td>\n",
       "      <td>...</td>\n",
       "      <td>...</td>\n",
       "      <td>...</td>\n",
       "      <td>...</td>\n",
       "      <td>...</td>\n",
       "      <td>...</td>\n",
       "      <td>...</td>\n",
       "      <td>...</td>\n",
       "      <td>...</td>\n",
       "      <td>...</td>\n",
       "      <td>...</td>\n",
       "      <td>...</td>\n",
       "      <td>...</td>\n",
       "    </tr>\n",
       "    <tr>\n",
       "      <th>872</th>\n",
       "      <td>fZuIszXbPoyzYMDSYd3oOA</td>\n",
       "      <td>ghang-thai-kitchen-brooklyn</td>\n",
       "      <td>Ghang Thai Kitchen</td>\n",
       "      <td>https://s3-media0.fl.yelpcdn.com/bphoto/0EIKS1bwgUM8eztCGiD1NA/o.jpg</td>\n",
       "      <td>False</td>\n",
       "      <td>https://www.yelp.com/biz/ghang-thai-kitchen-brooklyn</td>\n",
       "      <td>199</td>\n",
       "      <td>[{'alias': 'thai', 'title': 'Thai'}]</td>\n",
       "      <td>3.5</td>\n",
       "      <td>{'latitude': 40.6861227, 'longitude': -73.9938877}</td>\n",
       "      <td>['delivery', 'pickup']</td>\n",
       "      <td>$$</td>\n",
       "      <td>{'address1': '229 Court St', 'address2': None, 'address3': '', 'city': 'Brooklyn', 'zip_code': '11201', 'country': 'US', 'state': 'NY', 'display_address': ['229 Court St', 'Brooklyn, NY 11201']}</td>\n",
       "      <td>17188751369</td>\n",
       "      <td>(718) 875-1369</td>\n",
       "      <td>- the best Tom Kha soup I've had anywhere. Asked for it spicy and it didn't disappoint- spicy udon noodle dish was solid + large portion size- pad thai was unique, thinner than usual noodles and strong flavor, still liked it a lotCalm vibes and good service, will return.I'm not going to lie, I looked up Joya and it said open at 1. It wasn't. I was pissed! I walked over to Ghang with my husband and kid. It was AWESOME! This was even better then Joya. We had the chicken fried rice, drunkenNoodles with tofu, eggplant and basil, crispy tofu, and spring rolls. This will now be my go to for Thai food. Quality surpassed my expectations..Nice inside but service was not good . The woman who serviced us wasn't very pleasant . She gave us menus and after that she barely came back to our table. We were the only ones inside at first and she never even took our order . Another group of people came in after and she ran to service them even took their orders first and still never came to our table. We were ignored for 15 -20 minutes. Another person walked in and she proceeded to help him and we still haven't gotten a chance to order so at that point we got annoyed and ended up leaving . As we proceeded to leave that's when she decided to run up to us but it was too late . I will not spend my money here !!!.Just had an amazingly fresh and delicious dinner here on a Friday night! First, I ordered a cocktail and the server was very helpful. We had a mango salad (no spice), which was so fresh and crunchy!  Even though I ordered without spice, I still tasted a little kick but that was tolerable and elevated the taste of the salad, in my opinion. Husband had beef lemongrass with mushrooms and mild spice - this was amazing! We got a bonus Thai iced tea for checking in, so hope they still have that promo when you read this. Ambiance was great, low key, casual. Very satisfied. Outdoor space is cute and cozy. We'll definitely return and try other cocktails and entrees on the menu!.my first time thai food in this area nice location. outdoor seat is perfectI had tom yam, and ped pa lo(Duck stew)was great...had Vergin Lychee Mochito, was great....Not sure how this place is still open, we ordered seamless from them tonight, came after more than an hour and the food was terrible. Found a hair in the Chicken Satay, the Papaya salad was sour and unpalatable, the curry that was supposed to be \"medium spicy\" burnt our face off, and not in a nice, rich - flavorful way, it was just hot without any purpose..This is not my favorite Thai place in the neighborhood, but we're spoiled for choice in Cobble Hill, so Ghang Thai is still an excellent option. They're open during Covid-19 for take out, order in person or by phone. They also have a back patio if you want to risk eating around other people. In pre-covid times, this was always a nice lunch spot, with plenty of indoor seating, a water feature, and a full bar for happy hour hang outs. Good vegetarian selection, just be sure to ask if it can be made without fish sauce, without oyster sauce. The pad si yu is excellent, and the pad Thai isn't too sweet. If you ask for spicy, they make spicy! And medium is medium. Pretty good. The edamame starter portion is generous and the salt is evenly distributed, not like in some places. NB they close during the afternoon for the staff break, which varies but is usually around 3-5pm or so. They don't provide sanitizer, so bring your own..This was a great meal! Attentive service and food tasted amazing. Great place for vegetarians -- hard to find a place that has so many appetizers and entrees for us. Will definitely be my go to neighborhood thai place..I have been here twice with my husband. We love the food! The only downside is that the food takes waaaaaay too long to get to the table. We always are waiting three times as long as we should be, despite the place never being busy. Plus side is that the interior is so beautiful! Love this place. When the service is quicker it will get 5 stars!.Since I love thai food I am always checking out new places.  This is in walking distance from work, so I decided to try out one of the lunch specials.  While I waited, I was offered either tea or water, and the host/bar person was very friendly so got in conversation with me.  The space is roomy and from my view point, there seems to be a garden area, that would be great during the warmer months.I love all curry flavors therefore I opted for a vegetable tofu mixed in coconut curry with high heat, because I'm a masochist for spicy hot foods.  The order came with jasmine white rice, salad and a spring roll.  Everything was very flavorful and tasted fresh.  Look forward to visiting them again and trying out one of their other lunch specials, the portions are just right and the cost is also great.</td>\n",
       "    </tr>\n",
       "    <tr>\n",
       "      <th>873</th>\n",
       "      <td>0bopi1hdK_ASDmvPSvwqFg</td>\n",
       "      <td>best-pizza-and-chicken-brooklyn</td>\n",
       "      <td>Best Pizza &amp; Chicken</td>\n",
       "      <td>https://s3-media0.fl.yelpcdn.com/bphoto/TX4_E_1vS64MS3h8QHCh5g/o.jpg</td>\n",
       "      <td>False</td>\n",
       "      <td>https://www.yelp.com/biz/best-pizza-and-chicken-brooklyn</td>\n",
       "      <td>9</td>\n",
       "      <td>[{'alias': 'pizza', 'title': 'Pizza'}, {'alias': 'burgers', 'title': 'Burgers'}]</td>\n",
       "      <td>3.5</td>\n",
       "      <td>{'latitude': 40.61006, 'longitude': -73.9843}</td>\n",
       "      <td>['delivery', 'pickup']</td>\n",
       "      <td>NaN</td>\n",
       "      <td>{'address1': '24 Avenue O', 'address2': '', 'address3': None, 'city': 'Brooklyn', 'zip_code': '11204', 'country': 'US', 'state': 'NY', 'display_address': ['24 Avenue O', 'Brooklyn, NY 11204']}</td>\n",
       "      <td>17185133220</td>\n",
       "      <td>(718) 513-3220</td>\n",
       "      <td>They make really good pizzas. No complaints. Always fresh. Cashier is nice and friendly..For all my locals, I definitely suggest getting the buffalo chicken. The 5 star rating I gave was basically BECAUSE of how delicious the buffalo chicken is. This is my go- to buffalo chicken place! It comes with blue cheese packets, more hot sauce packets, and ketchup. The chicken is a mixture of drums and flats. The fries here are better than the pointy- too hard ones from McDonalds. The fries are pretty skinny but you can kinda taste the oiliness in the flavor. So so far, the buffalo chicken and the fries are pretty on point. However, I tried the Jarritos tamarind flavor (my first Jarritos drink ever). There was so much fizz that I could barely taste the unique tamarind flavor. Only until I got to the end, I could taste the flavor as an aftertaste. I think i'd rather just get regular soda here. Or, if i'm craving for the tamarind flavor I would get the tamarind agua fresca on highlawn at El Gallo Taqueria (another local place).They have free delivery here and for those who are environmentally conscious peeps out there, they delivered the fries in a biodegradable take out box..This is a copy and paste from my previous review from when they rebranded (or were purchased by new management - I don't really know) and added the word \"&amp; Chicken\" to their name which just.... it just makes me love this place even more somehow------------------------------------------------------------Can't really say anything negative about this place.  Even as service at other places seems to fail (Torre's is a prime example of this, unfortunately), their quality just seems to be improving somehow.Pizza was always cooked to my liking (nice and crispy) and was always delicious.  Recently they even started getting their fried chicken, rice and beans game on and they... SURPRISINGLY... are NO JOKE....It blows my mind that I have had ONLY straight up AMAZING/GORMET chicken and pizza experiences here given it's just what appears to be a hole in the wall.  Doesn't taste like it though.... and I'm glad for this.In any case... I recommend giving this place a try.  Just come in, tell them how you like your food and what you want, and everything should come out just like you want it... at least based on my experience.And lately... even if you don't... they seem to take their food pretty seriously and seem, to me, just to be getting better and better.  Maybe someday I'll order here and the pizza will be messed up or the order will be wrong or they'll take way too long who knows.Ordered from here dozens of times though so far and they haven't messed anything up.  Keep it up guys.  Keep growing and getting better because what you are doing seems to be working and the world needs more of that..Best Pizza &amp; Chicken you are most certainly outstanding, I had a spectacular experience here yesterday. Great menu, Great ambiance, Great service, and Great friends! Every thing I've tried until now is great. Workers are really pleasant and service is very quick. Overall great experience at Best Pizza &amp; Chicken with friendly and accommodating service, will definitely return..Terrible customer service. Needs improvement. They did not want to deliver to an address 10 minutes away and waited 1 hour before they called to cancel my order, and without any apology they hang the phone up on me. Truly disgusting and no way to treat a paying customer..Rude cashier! watch out for this guy he might charge u extra as tips for takeouts and tried to throw away ur receipts for unreasonable charges..Their fried chicken thighs are so good and they're only $2 per piece. They have good flavor and are crunchy. Wings and drumsticks are $1 (at least it was last time I bought them, like pre-COVID) I like to get two thighs at a time since they can be tender or juicy and have some fat. Getting two lets me have one of each. Fries and burgers aren't so good. Fries are soggy. Burger patty is thin and dry..Just an average pizza place . Taste ok. Price ok. Hope they make a better taste.!!!!!!!!!!!!!!.My go-to pizza place! I always order from them when I'm craving pizza or their burger and chicken combos. The price is decent and their cheeseburger with egg is so good! The employees are always friendly and the fact that they're close to my home is another plus.</td>\n",
       "    </tr>\n",
       "    <tr>\n",
       "      <th>874</th>\n",
       "      <td>W8vkegdl47HAIqJd6M3CZQ</td>\n",
       "      <td>ave-o-pizza-brooklyn</td>\n",
       "      <td>Ave O Pizza</td>\n",
       "      <td>NaN</td>\n",
       "      <td>True</td>\n",
       "      <td>https://www.yelp.com/biz/ave-o-pizza-brooklyn</td>\n",
       "      <td>4</td>\n",
       "      <td>[{'alias': 'pizza', 'title': 'Pizza'}]</td>\n",
       "      <td>4.5</td>\n",
       "      <td>{'latitude': 40.609936, 'longitude': -73.984268}</td>\n",
       "      <td>['delivery', 'pickup']</td>\n",
       "      <td>$</td>\n",
       "      <td>{'address1': '24 Avenue O', 'address2': None, 'address3': None, 'city': 'Brooklyn', 'zip_code': '11204', 'country': 'US', 'state': 'NY', 'display_address': ['24 Avenue O', 'Brooklyn, NY 11204']}</td>\n",
       "      <td>17185133220</td>\n",
       "      <td>(718) 513-3220</td>\n",
       "      <td>Great pizza I order a delivery which was fast taking too considerations that I don't live close by, but it only took them 30 minutes to make 2 pies and the quality was great, the crust is very thin and the topics were delicious. Definitely will order again!!!.This is exactly what a Midwesterner expects from a neighborhood slice joint. Regular pie has crispy but tender crust (usually just a bit thicker than Napoli-style), unfussy tomatoes, and a reasonable amount of cheese. Baked pastas are hearty enough for two and come with garlic knots (though the sauce has sometimes been far too salty). Sandwiches served on chewy Bensonhurst baguettes. Most importantly, all the guys behind the counter are super nice and take care of their regular customers..It is a small, quick bite to get in the neighborhood. Chinese food available as well. Owners are really nice and its worth a try..Tiny pizzeria on Avenue O. Renovated, added seats looks much cleaner and brighter inside. Friendly staff. Good for a quick run in.</td>\n",
       "    </tr>\n",
       "    <tr>\n",
       "      <th>875</th>\n",
       "      <td>u2aUQmMIYvdaTNhZGcMU3g</td>\n",
       "      <td>best-pizza-bensonhurst</td>\n",
       "      <td>Best Pizza</td>\n",
       "      <td>https://s3-media0.fl.yelpcdn.com/bphoto/80v6_fevo1HY_5o6T2615g/o.jpg</td>\n",
       "      <td>True</td>\n",
       "      <td>https://www.yelp.com/biz/best-pizza-bensonhurst</td>\n",
       "      <td>5</td>\n",
       "      <td>[{'alias': 'pizza', 'title': 'Pizza'}]</td>\n",
       "      <td>3.0</td>\n",
       "      <td>{'latitude': 40.61006, 'longitude': -73.9843}</td>\n",
       "      <td>['delivery', 'pickup']</td>\n",
       "      <td>NaN</td>\n",
       "      <td>{'address1': '24 Ave O', 'address2': '', 'address3': '', 'city': 'Bensonhurst', 'zip_code': '11204', 'country': 'US', 'state': 'NY', 'display_address': ['24 Ave O', 'Bensonhurst, NY 11204']}</td>\n",
       "      <td>17185133220</td>\n",
       "      <td>(718) 513-3220</td>\n",
       "      <td>Looking at the other reviews, I somehow miraculously always had a good experience.Pizza was always cooked to my liking (nice and crispy) and was always delicious.   Recently they even started getting their fried chicken, rice and beans game on and they... SURPRISINGLY... are NO JOKE....It blows my mind that I have had ONLY straight up AMAZING/GORMET chicken and pizza experiences here but it seems like I might be in the minority for some reason.In any case... I recommend giving this place a try.  Just come in, tell them how you like your food and what you want, and everything should come out just like you want it... at least based on my experience..Strangest eating experience ever. I have never tasted cheese, dough, or tomato sauce so bland in my life. In fact, I'm unsure how it is even possible that those three ingredients (especially combined) can work to have ZERO taste. It was like eating air. Even after eating two slices (which would have easily made me feel extra full), I was still hungry. Maybe it was an optical illusion and I actually did eat air? I'm still puzzled by this. Maybe this restaurant is actually ahead of its time and is serving hundreds of calories of air? Either way, Best Pizza must be a well-known joke in the neighborhood because it is actually THE worst pizza I have ever had. I'm all fairness, the food wasn't bad it just wasn't anything. Pro: they aren't too busy so you can call ahead and have your pizza ready in 5-10 minutes. There is also always a seat available because no one is in there..This place was great when we first moved to the neighborhood, but it has gone downhill since the owners handed off the day-to-day operations. I guess having paesanos behind the counter makes a real difference. It's fine if you want the cheapest option in the area, but you'll get what you pay for..Carry out a large plain pie for $10. Decent pizza for a great price. Make sure you calculate the order; last time I ordered toppings and they charged me more than what it suppose to be..The pizza is fine but when I go I have to have someone with me like my brother because the workers there are horny.</td>\n",
       "    </tr>\n",
       "    <tr>\n",
       "      <th>876</th>\n",
       "      <td>W7u2S7Ph-0dsihlA0-r4kg</td>\n",
       "      <td>delight-diner-and-donuts-ridgewood</td>\n",
       "      <td>Delight Diner &amp; Donuts</td>\n",
       "      <td>https://s3-media0.fl.yelpcdn.com/bphoto/f2FzmSBfORHNyakF5pD9hQ/o.jpg</td>\n",
       "      <td>False</td>\n",
       "      <td>https://www.yelp.com/biz/delight-diner-and-donuts-ridgewood</td>\n",
       "      <td>58</td>\n",
       "      <td>[{'alias': 'donuts', 'title': 'Donuts'}, {'alias': 'diners', 'title': 'Diners'}]</td>\n",
       "      <td>3.5</td>\n",
       "      <td>{'latitude': 40.7062199, 'longitude': -73.8965997}</td>\n",
       "      <td>['delivery', 'pickup']</td>\n",
       "      <td>$</td>\n",
       "      <td>{'address1': '66-91 Fresh Pond Rd', 'address2': '', 'address3': '', 'city': 'Ridgewood', 'zip_code': '11385', 'country': 'US', 'state': 'NY', 'display_address': ['66-91 Fresh Pond Rd', 'Ridgewood, NY 11385']}</td>\n",
       "      <td>17186284708</td>\n",
       "      <td>(718) 628-4708</td>\n",
       "      <td>Very delicious pancakes but the waffles are a bit dry. Their grilled chicken sanwiches and gyros are very delicious and the pricing is fair for the portions you get. Super cute diner, perfect on a weekend morning!.When to get breakfast today. This is by far the worst place ever. 2 scrambled eggs, melted swiss on top(1slice), hash browns with 2 slices of turkey.  2 bottles of water and small decaf coffee =$21.25 Outrages. All I got was lots of grease. I will never ever get anything from here. Stay away..I've ordered from here a bunch of times. They're always reliable and delicious. They deliver fast. And the doughnuts are so good!.Great service for a small diner and the eggs and pancakes were very good. Coffee was good also. Clean bathroom is always a plus fir a small location..Old School Diner. Food is good and fresh. The staff is the friendliest around.  If your looking for a diner this is your spot..I put one star because i can t put 0 star! The owner is so rude and the place so dirty! I don t know how many spiders i saw in the restroom and i don t want even think about in the kitchen!!! Don t go there unless you want suicide!!!.Often when I am working in Ridgewood, I skip breakfast. I stumbled upon this little diner while  walking down Fresh pond Road. Ridgewood is a historical neighborhood that is home to many different nationalities. Each block is lined with different restaurants from Polish, Greek, Italian to Mexican. A literal melting pot of cuisine. Delight dishes out ol school diner grub. This is a no frills classic diner. I was ready for lunch and it was after 11. I decided on the falafel on pita, however, I was informed they were out of ingredients for the falafel. I then decided on the Cuban sandwich. Ham, mustard, Swiss cheese, lots of pickles on a toasted hero. The ham was good but I just didn't enjoy the sandwich. The bread didn't seem too fresh. Nothing special. I assume this used to be a donut shop many decades ago.  It's advertised that there are donuts sold by the box. There were no donuts on display. Many patrons were filing in for coffee and Breakfast platters. I assume Breakfast is cheap and decent here. Local police offers stopped in for their coffee breaks. All in all, I probably would go to elsewhere to dine for my dollar..This diner has been here for years. It's not fancy but they are friendly. Food is good. A mix of Greek and American fare. Owner very friendly. Staff was attentive. Just a good neighborhood place..We love eating here, and usually get something from them at least twice a week. The food is both affordable and delicious. The staff is always friendly, and the orders arrive quickly. Highly recommended..Consistently solid old school diner. The folks in the neighborhood have been eating dinner here for 30+ years -- the sign of an institution. Enjoy anything on the menu -- though I usually play it safe with diner classics...</td>\n",
       "    </tr>\n",
       "  </tbody>\n",
       "</table>\n",
       "<p>877 rows × 16 columns</p>\n",
       "</div>"
      ],
      "text/plain": [
       "                         id                                          alias  \\\n",
       "0    OM5nz6TYlI0vxjckv1in8Q                            dunkin-new-york-105   \n",
       "1    R2Zrr3m-UyrSW2GGgDYzLQ      life-health-fitness-whitestone-whitestone   \n",
       "2    KJXi9G1ODDEcgGfNJlpKaw  golden-krust-caribbean-restaurant-brooklyn-11   \n",
       "3    5YFgQpN3AnlLFG4m5fCvzA                       gulshan-terrace-woodside   \n",
       "4    8mZ6fE9n_mK59mJ_MYtrSQ                          mimis-hummus-brooklyn   \n",
       "..                      ...                                            ...   \n",
       "872  fZuIszXbPoyzYMDSYd3oOA                    ghang-thai-kitchen-brooklyn   \n",
       "873  0bopi1hdK_ASDmvPSvwqFg                best-pizza-and-chicken-brooklyn   \n",
       "874  W8vkegdl47HAIqJd6M3CZQ                           ave-o-pizza-brooklyn   \n",
       "875  u2aUQmMIYvdaTNhZGcMU3g                         best-pizza-bensonhurst   \n",
       "876  W7u2S7Ph-0dsihlA0-r4kg             delight-diner-and-donuts-ridgewood   \n",
       "\n",
       "                                  name  \\\n",
       "0                              Dunkin'   \n",
       "1     Life Health Fitness - Whitestone   \n",
       "2    Golden Krust Caribbean Restaurant   \n",
       "3                      Gulshan Terrace   \n",
       "4                        Mimi's Hummus   \n",
       "..                                 ...   \n",
       "872                 Ghang Thai Kitchen   \n",
       "873               Best Pizza & Chicken   \n",
       "874                        Ave O Pizza   \n",
       "875                         Best Pizza   \n",
       "876             Delight Diner & Donuts   \n",
       "\n",
       "                                                                image_url  \\\n",
       "0    https://s3-media0.fl.yelpcdn.com/bphoto/HmZzfmHFicBiAtyiNcCxnw/o.jpg   \n",
       "1    https://s3-media0.fl.yelpcdn.com/bphoto/szqbPMFThvXs_smOt35REQ/o.jpg   \n",
       "2    https://s3-media0.fl.yelpcdn.com/bphoto/PveOYe6WT-SNlfiBtS1JQA/o.jpg   \n",
       "3    https://s3-media0.fl.yelpcdn.com/bphoto/EA1PIc8jCZZvZMYuGUFyng/o.jpg   \n",
       "4    https://s3-media0.fl.yelpcdn.com/bphoto/ati49nUSXFk6cdW6Of12gw/o.jpg   \n",
       "..                                                                    ...   \n",
       "872  https://s3-media0.fl.yelpcdn.com/bphoto/0EIKS1bwgUM8eztCGiD1NA/o.jpg   \n",
       "873  https://s3-media0.fl.yelpcdn.com/bphoto/TX4_E_1vS64MS3h8QHCh5g/o.jpg   \n",
       "874                                                                   NaN   \n",
       "875  https://s3-media0.fl.yelpcdn.com/bphoto/80v6_fevo1HY_5o6T2615g/o.jpg   \n",
       "876  https://s3-media0.fl.yelpcdn.com/bphoto/f2FzmSBfORHNyakF5pD9hQ/o.jpg   \n",
       "\n",
       "     is_closed  \\\n",
       "0        False   \n",
       "1        False   \n",
       "2        False   \n",
       "3        False   \n",
       "4        False   \n",
       "..         ...   \n",
       "872      False   \n",
       "873      False   \n",
       "874       True   \n",
       "875       True   \n",
       "876      False   \n",
       "\n",
       "                                                                        url  \\\n",
       "0                              https://www.yelp.com/biz/dunkin-new-york-105   \n",
       "1        https://www.yelp.com/biz/life-health-fitness-whitestone-whitestone   \n",
       "2    https://www.yelp.com/biz/golden-krust-caribbean-restaurant-brooklyn-11   \n",
       "3                         https://www.yelp.com/biz/gulshan-terrace-woodside   \n",
       "4                            https://www.yelp.com/biz/mimis-hummus-brooklyn   \n",
       "..                                                                      ...   \n",
       "872                    https://www.yelp.com/biz/ghang-thai-kitchen-brooklyn   \n",
       "873                https://www.yelp.com/biz/best-pizza-and-chicken-brooklyn   \n",
       "874                           https://www.yelp.com/biz/ave-o-pizza-brooklyn   \n",
       "875                         https://www.yelp.com/biz/best-pizza-bensonhurst   \n",
       "876             https://www.yelp.com/biz/delight-diner-and-donuts-ridgewood   \n",
       "\n",
       "     review_count  \\\n",
       "0              20   \n",
       "1              52   \n",
       "2              10   \n",
       "3               3   \n",
       "4             362   \n",
       "..            ...   \n",
       "872           199   \n",
       "873             9   \n",
       "874             4   \n",
       "875             5   \n",
       "876            58   \n",
       "\n",
       "                                                                                                                                                 categories  \\\n",
       "0                                                                    [{'alias': 'donuts', 'title': 'Donuts'}, {'alias': 'coffee', 'title': 'Coffee & Tea'}]   \n",
       "1                                [{'alias': 'gyms', 'title': 'Gyms'}, {'alias': 'healthtrainers', 'title': 'Trainers'}, {'alias': 'yoga', 'title': 'Yoga'}]   \n",
       "2                    [{'alias': 'caribbean', 'title': 'Caribbean'}, {'alias': 'bakeries', 'title': 'Bakeries'}, {'alias': 'hotdogs', 'title': 'Fast Food'}]   \n",
       "3                                                                [{'alias': 'indpak', 'title': 'Indian'}, {'alias': 'bangladeshi', 'title': 'Bangladeshi'}]   \n",
       "4    [{'alias': 'mediterranean', 'title': 'Mediterranean'}, {'alias': 'mideastern', 'title': 'Middle Eastern'}, {'alias': 'moroccan', 'title': 'Moroccan'}]   \n",
       "..                                                                                                                                                      ...   \n",
       "872                                                                                                                    [{'alias': 'thai', 'title': 'Thai'}]   \n",
       "873                                                                        [{'alias': 'pizza', 'title': 'Pizza'}, {'alias': 'burgers', 'title': 'Burgers'}]   \n",
       "874                                                                                                                  [{'alias': 'pizza', 'title': 'Pizza'}]   \n",
       "875                                                                                                                  [{'alias': 'pizza', 'title': 'Pizza'}]   \n",
       "876                                                                        [{'alias': 'donuts', 'title': 'Donuts'}, {'alias': 'diners', 'title': 'Diners'}]   \n",
       "\n",
       "     rating                                         coordinates  \\\n",
       "0       2.0      {'latitude': 40.79867, 'longitude': -73.94132}   \n",
       "1       4.0      {'latitude': 40.79266, 'longitude': -73.80745}   \n",
       "2       1.5    {'latitude': 40.636501, 'longitude': -73.892392}   \n",
       "3       4.0  {'latitude': 40.7498753, 'longitude': -73.9027518}   \n",
       "4       4.0       {'latitude': 40.64035, 'longitude': -73.9667}   \n",
       "..      ...                                                 ...   \n",
       "872     3.5  {'latitude': 40.6861227, 'longitude': -73.9938877}   \n",
       "873     3.5       {'latitude': 40.61006, 'longitude': -73.9843}   \n",
       "874     4.5    {'latitude': 40.609936, 'longitude': -73.984268}   \n",
       "875     3.0       {'latitude': 40.61006, 'longitude': -73.9843}   \n",
       "876     3.5  {'latitude': 40.7062199, 'longitude': -73.8965997}   \n",
       "\n",
       "               transactions price  \\\n",
       "0              ['delivery']     $   \n",
       "1                        []   NaN   \n",
       "2              ['delivery']   $$$   \n",
       "3                        []   NaN   \n",
       "4    ['delivery', 'pickup']    $$   \n",
       "..                      ...   ...   \n",
       "872  ['delivery', 'pickup']    $$   \n",
       "873  ['delivery', 'pickup']   NaN   \n",
       "874  ['delivery', 'pickup']     $   \n",
       "875  ['delivery', 'pickup']   NaN   \n",
       "876  ['delivery', 'pickup']     $   \n",
       "\n",
       "                                                                                                                                                                                                             location  \\\n",
       "0        {'address1': '147 E 116th Street', 'address2': '', 'address3': '', 'city': 'New York', 'zip_code': '10029', 'country': 'US', 'state': 'NY', 'display_address': ['147 E 116th Street', 'New York, NY 10029']}   \n",
       "1          {'address1': '10-24 154th St', 'address2': None, 'address3': '', 'city': 'Whitestone', 'zip_code': '11357', 'country': 'US', 'state': 'NY', 'display_address': ['10-24 154th St', 'Whitestone, NY 11357']}   \n",
       "2      {'address1': '1887 Rockaway Pkwy', 'address2': '', 'address3': None, 'city': 'Brooklyn', 'zip_code': '11236', 'country': 'US', 'state': 'NY', 'display_address': ['1887 Rockaway Pkwy', 'Brooklyn, NY 11236']}   \n",
       "3                  {'address1': '5915 37th Ave', 'address2': '', 'address3': '', 'city': 'Woodside', 'zip_code': '11377', 'country': 'US', 'state': 'NY', 'display_address': ['5915 37th Ave', 'Woodside, NY 11377']}   \n",
       "4          {'address1': '1209 Cortelyou Rd', 'address2': '', 'address3': '', 'city': 'Brooklyn', 'zip_code': '11218', 'country': 'US', 'state': 'NY', 'display_address': ['1209 Cortelyou Rd', 'Brooklyn, NY 11218']}   \n",
       "..                                                                                                                                                                                                                ...   \n",
       "872                {'address1': '229 Court St', 'address2': None, 'address3': '', 'city': 'Brooklyn', 'zip_code': '11201', 'country': 'US', 'state': 'NY', 'display_address': ['229 Court St', 'Brooklyn, NY 11201']}   \n",
       "873                  {'address1': '24 Avenue O', 'address2': '', 'address3': None, 'city': 'Brooklyn', 'zip_code': '11204', 'country': 'US', 'state': 'NY', 'display_address': ['24 Avenue O', 'Brooklyn, NY 11204']}   \n",
       "874                {'address1': '24 Avenue O', 'address2': None, 'address3': None, 'city': 'Brooklyn', 'zip_code': '11204', 'country': 'US', 'state': 'NY', 'display_address': ['24 Avenue O', 'Brooklyn, NY 11204']}   \n",
       "875                    {'address1': '24 Ave O', 'address2': '', 'address3': '', 'city': 'Bensonhurst', 'zip_code': '11204', 'country': 'US', 'state': 'NY', 'display_address': ['24 Ave O', 'Bensonhurst, NY 11204']}   \n",
       "876  {'address1': '66-91 Fresh Pond Rd', 'address2': '', 'address3': '', 'city': 'Ridgewood', 'zip_code': '11385', 'country': 'US', 'state': 'NY', 'display_address': ['66-91 Fresh Pond Rd', 'Ridgewood, NY 11385']}   \n",
       "\n",
       "           phone   display_phone  \\\n",
       "0    16465979456  (646) 597-9456   \n",
       "1    17183570300  (718) 357-0300   \n",
       "2    17182094242  (718) 209-4242   \n",
       "3    17184574577  (718) 457-4577   \n",
       "4    17182844444  (718) 284-4444   \n",
       "..           ...             ...   \n",
       "872  17188751369  (718) 875-1369   \n",
       "873  17185133220  (718) 513-3220   \n",
       "874  17185133220  (718) 513-3220   \n",
       "875  17185133220  (718) 513-3220   \n",
       "876  17186284708  (718) 628-4708   \n",
       "\n",
       "                                                                                                                                                                                                                                                                                                                                                                                                                                                                                                                                                                                                                                                                                                                                                                                                                                                                                                                                                                                                                                                                                                                                                                                                                                                                                                                                                                                                                                                                                                                                                                                                                                                                                                                                                                                                                                                                                                                                                                                                                                                                                                                                                                                                                                                                                                                                                                                                                                                                                                                                                                                                                                                                                                                                                                                                                                                                                                                                                                                                                                                                                                                                                                                                                                                                                                                                                                                                                                                                                                                                                                                                                                                                                                                                                                                                                                                                                                                                                                                                                                                                                                                                                                                                                                                                                                                                                                                                                                                                                                                                                                                                                                                                                                                                                                                                                                                                                                                                                                                                                                                                                                                                                                                                                                                                                                                                                                                                                                                                                                                                                                                                                                                                                                                                                                                                                                                                                                                                                                                                                                                                                                                                                                                                                                                                                                                                                                                                                                                                                                                                                                                                                                                                                                                                                                                                                                                                                                                                                                                                                                                                                                                                                                                                                                                                                                                                                                                                                                                                                                                                                                                                                                                                                                                                                                                                                                                                                                                                                                                                                                                                                                                                                                                                                                                                                                                                                                                                                                                                                                                                                                                                                                                                                                                                                                                                                                                                                                                                                                                                                                                                                                                         Review_Text  \n",
       "0                                                                                                                                                                                                                                                                                                                                                                                                                                                                                                                                                                                                                                                                                                                                                                                                                                                                                                                                                                                                                                                                                                                                                                                                                                                                                                                                                                                                                                                                                                                                                                                                                                                                                                                                                                                                                                                                                                                                                                                                                                                                                                                                                                                                                                                                                                                                                                                                                                                                                                                                                                                                                                                                                                                                                                                                                                                                                                                                                                                                                                                                                                                                                                                                                                                                                                                                                                                                                                                                                                                                                                                                                                                                                                               I mean yeah, this Dunkin kinda sucks. Very slow service and my orders been messed up a few times and /or never made. However, the people that work here deserve to be paid probably double what they already make considering the customer base that frequents this location. I have never encountered so much rudeness and disrespect towards employees like what I've seen in this specific Dunkin' line. I've seen the employees be screamed at, ignored and disregarded completely, and just altogether demeaned by the patrons that come here. It honestly makes me so sad and a little hopeless for humanity. I know the people working here are genuinely trying their best to keep up, make drinks and food, all while trying to communicate and help customers/fulfill their orders. Please be kind. It's literally just coffee..Where do I start? Hmm the Indian/Pakistani people that run it don't even know there own products. On top of that, they have trouble hearing you and they are very ignorant. If you are ever in Manhattan and you go to this Dunkin, I suggest you don't go in. It's in violation of many health codes and it's unacceptable..I ordered a Caramel Iced Macchiato with Almond milk. I didn't drink it until I was already couple blocks away from Dunkin and it tasted so bitter. I am not sure if they put the three pumps of caramel but I didn't have a taste of Carmel in the drink whatsoever. Really turned my mood down. Check the pictures out..Horrible.. this Dunkin Donuts is so unprofessional they should be shut down. I clearly ordered another order then what they have given me. The lady working their in the mornings is very confused and seems overwhelmed. Asking me for my name on the order I told her as soon I told her she started making my order. Once she said order is ready she gave it to me and said everything is included their. Smh ‍ the crazy thing is that she said everything is inside of the bag and no worries.. I came home and opened up the bag it has someone else's order inside. Also if you go to this Dunkin' location around 4 PM there will be another confused lady that works their during the second shift. Location claims to work 24/7 after Monday but they close at certain times so ordering on the app you will lose your money and cause major confusion. Dunkin' needs to do better!.Iv only been here one time but I didn't order no donuts they had flys and I saw the flys land on the donuts . The one on 125st Lexington is better.I was in the neighborhood volunteering for the New York City marathon. (Do this! It takes time and energy, but I thought it was worth it.)Thanks to fellow volunteer Kei, I got to experience Dunkin Donuts coffee with milk and cream (which I rarely add)! She also picked up a croissantwich with egg and sausage which hit the spot.I'm sure there are better local options, but Dunkin Donuts was close to our volunteer stations. Sometimes all you need is convenient, consistent fast food..Literally took 15 minutes for me to get ONE black coffee. I'm not sure how hard that was. I could have made it quicker by myself. They need to get their sh*t together..My experience with this Dunkin was unbelievable I've been here before but never had this experience. So me and my cousins walk into Dunkin to get an iced coffee and some munchkins. So we order the iced coffee and we asked for milk, and sugar so then we see the coffee and it's pure black and bitter and it looks likes iced tea so we was like ok can we get creame with it he just starts having an attitude like saying I asked you if you wanted creme so then it starts looking like a coffee so we walk out and we tasted it and it was DISGUSTING BRO like literally it tasted bitter and nasty so then I was like uh uh let's go back in cause this is not good and this is just disgusting so we go back in and we ask for more sugar he's gonna say OH YOU DONT KNOW WHAT YOU WANT I ASKED YOU IF YOU WANTED SUGAR like just having this whole attitude so we was just keeping it cool cause we was never rude to him and he gave us an attitude and started like shouting so then we get home and we taste the donuts the donuts are just stail and hard. But like he was really disrespectful and there service was just trash..Went into the Dunkin' Donuts at 130am to order a toasted bagel with cream cheese. The guys says he doesn't have bagels when clearly I'm looking at them and wouldn't have ordered them had I not saw them. Then he says they don't have a toaster and they don't toast bagels. That's funny cuz I ordered the exact same thing last week. I guess their toaster is the new McDonald ice cream machine..i must say that i am a bit surprised that i am visting this dd in east harlem , 116 st off lexington ave. a dunkin donuts and a baskin robbins so it can't be that bad and it was not, good assortment of fresh looking donuts and the full array of baskin robbins ice cream including prepacked pints at 2 for 10 bucks. some seating inside but i prefer not to sit next to someone who reeks of weed and cheap malt beer so it's a hot chocolate and a blueberry muffin and some ice cream for the go as i wait for a friend shopping nearby . it's dunkin donuts so don't aim high and you will be just fine and dandy .  \n",
       "1    The gym is very clean and all machines are working properly. There is a juice bar that has a variety of shakes. The locker rooms are stocked with soap, lotion, and mouthwash. There is also a steam room or sauna. The gym is a comfortable space overall.The prices are a little high unless you take advantage of the classes, which they are not offering right now. However, it's not easy to find a gym with equipment that's accessible and also in good working condition in queens! The gym reminds me of crunch in Manhattan..This has been my gym for a few years now. I love it here and have a new found appreciation for the facility after they closed/reopened due to covid. The facility was impeccable even before covid but they certainly stepped it up even more. I always see their friendly cleaning staff no matter what time i go in for my workout. The gym is never too cluttered and the crowd is very mixed. I particularly like that  it doesn't feel like \"a guys gym.\" By this i mean that their dumbbells range in all sizes and that plenty of women go..Good: To be fair. It's a nice exercise club with good trainers. Equipment is fairly decent. Certain days there is too much people but everyone is usually very polite and sharing.  Great day care for family's I used it quite often. No other gym has this option where you can drop off your kids down stairs and work out.Bad: if your miss your payment. Braces for the debt collectors to hunt you on your phone! They make it seems like you owe them millions of dollars. Forget trying to block them. They have tons of numbers to call and harass you over $60 dollars. Yes, that is right! They want their rightful $60 dollars.     Than when you want to cancel. They want the Full payment of next month. As stated in the contract. The owner was super nice and attractive..Let me start off my saying, I was one of the first members of LHF with the first management and under the new management, everyone in LHF is great! (Except for one...continue reading to find out) Tony is an amazing trainer and motivator, King is super energetic and makes the classes super engaging and create a family. I try to make it out to the gym when I'm not super busy with work and school. On February 13,2020 I went to sign in and I was told that my membership was CANCELLED by the OWNER ROSA. Who cancelled my membership on December 23,2019. I never recall canceling my membership, receiving a phone call or an email in regards to the cancellation of my membership. I spoke to the manager Nick who was great and tried to settle the situation and allowed me to work out for the day. Rosa states that I did not have an active account and took it upon herself to cancel my account because I had a cheaper membership. Granted, I understand that my membership was much cheaper, but a simple phone call would have been much appreciated. This is how LHF takes cares of their members of over 5+ years. I honestly do not mind paying the new membership price. But the way ROSA handled the situation was such a turn off. Goodbye LHF you were great! Except you Rosa..I've been a member here forever and just recently started frequenting it again. It's on the pricey side but at this point to me its well worth it. I generally don't use the locker room facilities but they're kept clean. The gym itself is also kept clean. Its rare that I've seen something broken and when it does happen its fixed within a few days. It does get crowded during the peak weekday after work time but so does any gym.The best gym in the area hands down..Thank you for being the absolute best during these unprecedented times! I'm really happy with your service..Things like this make me get active on Yelp. Please read the contract fully when signing and request to read the paperwork. They make you sign things that you don't even see what your signing and then tell you \"we emailed it to you.\" Month to month membership and giving 30 days notice, ha. This is not an apartment that you are giving up it's a gym membership. The children behind the desk do not know much of customer service to deal with people because they are probably making low end salaries to sit their and check you in. Stay away from this place. They force you to come in and sign the release in person to lock you for more days then it is worth, because they know you can't come down right away due to life. The contract is also shady with no cancellation addresses just in \"person.\" If this was bought to New York City consumer affairs they have to give you other ways to cancel. Please stop taking advantage of people. Treat people better because when you make it hard for them they won't return to collect your extra month. Nothing special about this place, trying to give you a high end feel but cheaply made in the bathrooms and store. A lot of class cancellations and emails about that. A lot of parking. Enjoy. Update: 8.17.18To respond to the owner who says I'm not a member see attached of picture. Please be professional then trying your tough approach. Buyer beware!.Things like this make me get active on Yelp. Please read the contract fully when signing and request to read the paperwork. They make you sign things that you don't even see what your signing and then tell you \"we emailed it to you.\" Month to month membership and giving 30 days notice, ha. This is not an apartment that you are giving up it's a gym membership. The children behind the desk do not know much of customer service to deal with people because they are probably making low end salaries to sit there and check you in. Stay away from this place. They force you to come in and sign the release in person to lock you for more days then it is worth, because they know you can't come down right away due to life. The contract is also shady with no cancellation addresses just in \"person.\" If this was bought to New York City consumer affairs they have to give you other ways to cancel. Please stop taking advantage of people. Treat people better because when you make it hard for them they won't return after you collect your extra month for notice. They claim they waive the cancellation fee, but with 30 days notice you always have to pay it anyway due to timing. Poor business practices. Nothing special about this place, trying to give you a high end feel but cheaply made in the bathrooms and store. A lot of class cancellations and emails about that. A lot of parking. Enjoy..First let me take a second to hope everyone is safe and doing well during this crazy time in all of our lives.....Recently I joined Life Health Fitness actually right before the Virus really took off especially in Queens. I live in Astoria and I was looking for a clean, friendly gym with a positive atmosphere and parking...This gym covers every concern and even was better than expected. The staff was helpful and friendly and the machines were clean and all working properly! They even offered several payment options and pay with cash when many gyms want to lock you in by only accepting a credit card. For me I was looking for a short term contract because I was selling my condo and planned on moving out of state. The management team went over several options and found something that worked for me. Unfortunately a few days after joining I found out I would be moving even sooner then expected and The Corona Virus exploded closing everything including the gym.. Usually the only option would be a credit going forward but not Life Health! After speaking to management just once by email they immediately responded and agreed to give me a refund. I really did not expect that and I was pleasantly surprised and very thankful. Please support them and be patient while we all go through this crazy time... Thank you Life Health Fitness !!!!.Is not crowded in the afternoon, and has a lot of natural light which a lot of gyms don't have. But I can't stand the blasting techno music, same songs every day during my workout, so loud that I can't hear my headset to block it out and have to wear earplugs. Also they say you can freeze your membership for a month and then they fight you disputing the charge back because it's the last month of my membership..I  don't recall them stipulating what month or months that I couldn't... I was away for a month and got charged full price for that month...Too bad,  They should've let it go, bad karma brings  bad reviews.  The charge back is on my statement Rosa, somebody did it. And then she blocked me from responding.....I came in for a free day trial. Gym was clean and it wasn't crowded( at least at the time i went ) they have weights on the upper floor and bathrooms, daycare on the basement. Staff was friendly. They have the annual membership for $60 a month and 70$ for 6 months.  \n",
       "2                                                                                                                                                                                                                                                                                                                                                                                                                                                                                                                                                                                                                                                                                                                                                                                                                                                                                                                                                                                                                                                                                                                                                                                                                                                                                                                                                                                                                                                                                                                                                                                                                                                                                                                                                                                                                                                                                                                                                                                                                                                                                                                                                                                                                                                                                                                                                                                                                                                                                                                                                                                                                                                                                                                                                                                                                                                                                                                                                                                                                                                                                                                                                                                                                                                                                                                                                                                                                                                                                                                                                                                                                                                                                                                                                                                                                                                                                   Staff was professional and friendly. However, when you hear chicken pattie you would expect for there to be chicken in the pattie and not a paste of curry. Here I have this big pattie and as you bit in to it all you're bitting in to is crust upon, crust upon, crust, with a smear of what looks to be some sort of curry paste that has no indication that it's suppose to be chicken. I'm not saying they have to put a whole chicken in the thing but chunks or anything would be better the rip off that they serve now for $2.20..They allegedly open at 8 am. However breakfast items are not ready . I have been there at 8:15 & the trays are Empty..So I finally figure out how they got a C. I went to this location at night and I noticed the sign changed to a B. So I went in to get something basic- patties! A gentleman walked in behind me and asked for the same thing. So we waited. She comes from the back with three chicken patties; two for me and one for him. His patty happen to have chicken that was oozing out the top she took her fingers (hear me clearly) her bare fingers and grabbed the excess chicken off his patty and threw it on the floor. I was mortified and I went numb. I forgot to walk out. I paid and left. I ate my patties and they lacked the authentic Golden Krust flavor. No seasoning all flakes. This is another location that needs to be closed for business. You cannot stay open any longer. You guys are terrible. She touched his patty with her dirty fingers she uses to touch money. Help me understand. You deserve a  F plus and the city needs to take your license away to sell food..Extremely rude woman answers the phone. Asked if they are open says no, I ask what time she says \"whenever the food is ready\" at 9:00am in the morning! Nasty tone and very dismissive. Even the folks at the counter are rude! Ughhh. Totally blew my morning..The worst customer service. Your workers have the worst unfriendly attitudes . This is not the way a restaurant is suppose to treat people when your spending your money. Take my advice do not waste your time going fo that place. Your employees need to take a class on what is means to be a Professional..Came here to pick up some lunch, no rice and peas at lunch time smh. So I ordered two beef patty's to go. I made it to the belt and decided to eat my patty on my drive home . First thing I noticed the patty wasn't hot the dough was wet, uncooked. I made it to Erskine street and made a uturn and went back for my money unacceptable how you mess up a patty..They would get no stars if I could. I will not be back there again. I came in hungry, planning to eat there. I asked for all the vegetables on a big plate. Cabbage is a vegetable. The rude women behind the counter picked an argument with me about which sized container to use, saying that they were trying to make it cheaper than the owner would have them do it. They cover the vegetables, no cabbage, no dressing on the raw veggies. Still arguing with me. I order 2 beef and a spinach patty, some kind of bun. I say that I don't need the water because I decided not to eat there after all. She says that she already charged me for the water and puts it in the bag. Then rings me up for $22! She seemed to be enjoying the fact that I wanted out of there and away from their cookiness asap, taking as long as they could and acting like they misunderstood my wishes. Bunch of sadistic crooks..It's dirty. Seriously. This restaurant is consistently failing NYC health inspection. I wouldn't eat here unless you want to get sick..Food is ok. Better then the golden crust by the Rockaway train station. Although, the workers move slow; have lots of attitude & sing gospel songs with a heavy Jamaican accent very loudly during service. The place is unbearably hot year 'round. I avoid it during the summer months. Women are flirtatious. Complete with elaborate weaves in hairnets they're not the most attractive. Take note: If you are not receptive to advances, your service quality will noticeably decline..This franchised establishment has no business being on TripAdvisor or any other review website. Owners/management needs to reiterate the definition of customer service to their workers before they consider asking the public for feedback.The ladies working in the front of the restaurant are a disgrace to the service industry. There are 2 older ladies who are unpleasant and always look unapproachable. Any questions asked about the details of the food on display and they take it personal as if you as a guest aren't allow to inquire about a product before purchase. The main lady calls herself the supervisor. Majority of the time the line is out the door while the younger ladies on the register discuss personal matters such as partying events. In addition, although the displays are inviting; I find that the food is overpriced at this location. There are plenty of Jamaican restaurants in this neighborhood that are just as good with less hassle & less sassy front of the house employees representing their brand.  \n",
       "3                                                                                                                                                                                                                                                                                                                                                                                                                                                                                                                                                                                                                                                                                                                                                                                                                                                                                                                                                                                                                                                                                                                                                                                                                                                                                                                                                                                                                                                                                                                                                                                                                                                                                                                                                                                                                                                                                                                                                                                                                                                                                                                                                                                                                                                                                                                                                                                                                                                                                                                                                                                                                                                                                                                                                                                                                                                                                                                                                                                                                                                                                                                                                                                                                                                                                                                                                                                                                                                                                                                                                                                                                                                                                                                                                                                                                                                                                                                                                                                                                                                                                                                                                                                                                                                                                                                                                                                                                                                                                                                                                                                                                                                                                                                                                                                                                                                                                                                                                                                                                                                                                                                                                                                                                                                                                                                                                                                                                                                                                                                                                                                                                                                                                                                                                                                                                                                                                                                                                                                                                                                                                                                                                                                                                                                                                                                                                                                                                                                                                                                                                                                                                                                                                                                                                       I am surprised I haven't heard of this place before. Based on the former (and few) reviews, this place was called something else. So maybe perhaps it's under new management now? Anyways, I came here for a friend's Nikah (engagement ceremony) and I could tell it easily accommodated 150 people. It's not too far from Bellozino, a different banquet hall where my sister's wedding was held. I wish I had known about this place before. I liked the high ceilings and price per head is supposedly cheaper than the Bellozino. There's a big stage that can accommodate large group pictures. The only downside (not really though) is that there is no valet parking, at least not that I know of. However, I realized through experience that most attendees tend to avoid the valet parking anyway. Food was really tasty too..I recently came here for a mehendi/holud. The place is just one large room. The small hallway leading to the bathroom was scattered with things and looked so messy. I wish they made an effort to be neater before the event. All the drinks were served in small plastic cups that you had to be sure not to squeeze too hard. Like there were cloth napkins and then $1 store plastic cups?? The servers were very sweet and hospitable. The appetisers were really good, but dinner was not. Everything served for dinner had the same overwhelmingly strong cinnamon flavour as if every dish was cooked in the same pot in turns. The chai was yummy. There was only plastic cutlery available, which made it hard to cut some things up. And the A/C was one extreme or the other. It was either entirely too cold or way too warm. I was never comfortable. The place has the potential to be better. They can make good food. Dinner should be just as good as appetisers. Also, if you're a formal event hall, please invest in actual glasses and cutlery!! This was a pre-wedding event not a child's birthday party. The only reason I'm giving three stars is because of the appetisers, chai and the really friendly and helpful servers. Management needs to improve the place overall!.I recently held my birthday party here. It was great, the owner accommodated all my needs. He was quick to answer the phone for any questions I had. The employees are hard workers! Thank you and will be visiting again.  \n",
       "4                                                                                                                                                                                                                                                                                                                                                                                                                                                                                                                                                                                                                                                                                                                                                                                                                                                                                                                                                                                                                                                                          Delicious food and a fun place to browse!The mushroom hummus is my go to favorite. It's warm, savory, and quite filling if you want a light but satisfying meal.I've dined here for an in-person meal, which was mostly enjoyable. Unfortunately there can be many distractions and interruptions to your conversation since Cortelyou is so busy and the fire station is right across the street.I've ordered takeout a few times to bring over to nearby Sycamore Bar, which allows you to bring in food. It's the perfect sized snack/meal that's not your typical greasy bar food fare to accompany my drinks and trivia time while at Sycamore. While you wait for food, browse the imported Mediterranean groceries and selection of craft beers. I guarantee there will also be something surprising to check out and possible bring home!.I actually made an order through Drizzly, not knowing that this a restaurant. They didn't have one of the hard seltzers I wanted so they actually canceled that part of my order and then threw in 6 random drinks to make up for it. Thought that they were so nice for that! They also threw in a hummus and some homemade savory bread. They were both good but the hummus was delicious!! I had no idea this place was near me, will 100% be ordering food from here next time!.There's nothing like bad hummus to make you swear off falafel sandwiches for a while, but that's not something you have to worry about at Mimi's because they make their namesake dish--served three different ways--really well. You can't go wrong ordering from their Mediterranean comfort food menu, whether it's a shakshuka or a shawarma bowl. Don't sleep on their desserts either.Like many other restaurants during the pandemic, they've largely pivoted to selling grocery items, I'm guessing because sometimes selling the raw ingredients is the best way to stay afloat while people are dining out less overall, and taking those same ingredients and making them into a meal is just more work than it's worth. Their shelves are completely filled with specialty items like different kinds of oils, pasta, and jams.I love their canned alcoholic drink selection, which includes hard kombucha and hard probiotic sparkling drinks. If you're over drinking White Claws, I'd recommend trying Flying Embers, which they carry here. I also purchased a cornucopia of produce, including jalapenos, lemons, and fruit. They even sell prepared foods like soup and babaganoush in their refrigerated section. Everything was quite fresh.If they are selling freshly baked cookies, you'd be remiss not to buy a few. The tahini shortbread was both buttery and just a touch savory, and I savored every last bite. Mimi's Hummus may not be the Mimi's Hummus of yesteryear, but it's still beloved by the Ditmas Park community. Support your local businesses!.I thought the place was ok. The food was good but there were a couple of things I didn't particularly like.First the food: huge portions of tasty hummus and mushrooms. If I am honest, the mushrooms are a little gummy and I think they would be better if chopped a bit smaller. The hummus is good and I definitely cannot complain about the size of the portion. The roasted cauliflower was very tasty. Lots of pita bread, too.On the night I was in the service was really poor. The cashier/server was barely awake. We were the only customers on a Monday night and there was a lot of confusion on our part regarding the drinks and how that all worked since she did not explain it well and the person working the other side of the store was sitting at a table reading and doing what looked like homework. Here's the deal as we now understand it: you cannot purchase alcohol from the restaurant, but you CAN go to the store next door for beer in a cooler. You choose what you want and end up paying for it in the restaurant (part of our confusion) and they do provide glasses but we could not understand why such a strange system. We did not realize until later that the person doing homework worked there. What irritates is the fact we were asking ourselves a lot of questions (again, no one else there, so the place was quiet except for us) about the beers and where to pay and whether we would get a glass...and that person could have answered our questions but simply stayed quiet while we remained confused.We were finishing up our meal and the restaurant was soon to close when we were asked to hurry up and finish. That never sits well, particularly since we were doing our best to get out without inconveniencing the staff. Not sure I would return..I first experienced Mimi's Hummus many years back before it was a market and adored their hummus plates.  Now that it's a mini market, it's even better!  My favorite sandwich is the Iraqi Pita--delicious, more than enough for a meal, and a great vegetarian option (if you're into that thing).  The market offers in-house to-go hummus, tahini, and all the other Mediterranean mezes you can imagine. The also have cans of beer and wine which are *perfect* to bring to Prospect Park, which is roughly a mile away. You can't go wrong here..Mimi's is a super delicious, cute, and intimate restaurant on Cortelyou. My friend and I had dinner here a couple weeks ago and loved everything! We shared the tabbouleh salad, mushroom hummus with pita, and mujaddara bowl with beet salad. The tabbouleh salad was light and fresh. The mushroom hummus was tasty and actually really filling, especially with the pita bread. The pita here is one of the best I've had! The mujaddara bowl was so interesting and full of flavor. I also absolutely loved the yogurt it was paired with. Although I typically don't love beets on their own, I enjoyed the beet salad and thought it was a refreshing side, especially next to a lentil-based dish.Despite coming in hungry and ordering just a few items, we were both full at the end of the meal and even had leftovers! Taste | 4.5Atmosphere | 4Presentation | 4Service | 4OVERALL | 4.5.Fancy Mediterranean take out and dine in. Or during COVID-19, dine out, in a heated 3 sided tent. We recommend the Iraqi pita sandwich, which a good large meal for a vegetarian. Vegans can ask them to leave out the egg. Each component is rich and the strong flavors work well together. My dining companion recommends the kebab flatbread. The humus is, as one would expect, a star here. Try the mushroom! Only complaint is that humus plates only come with one pita, so they're not designed to share. It's a lot of humus for one person... everything is good here, including the baked goods. If you're looking for something not too sweet, take the pistachio or tahini cookies. BTW this is not a kosher place, so check the ingredients..Really great market full of delicious stuff to take home plus their full menu! I especially love the breads, pita, and dips. Love that they expanded the wine selection too. I wish I could convince my husband to order it more often. It's a little pricy but so delicious. The kebab bowl and mushroom hummus are still my favorites..mushroom hummus is amazing and I really love the kebab bowl. such a nice little spot for dinner in my neighborhood. I also love their beer store next door so they usually have great options to drink as well. not the most stellar or attentive service but the food is delish and always filling..Whatever the spicy watermelon cocktail the lovely waitress Emily recommended for me is, get like 5, theyre delicious, as is everything else here. We had a great time, thanks guys!.Andreessa was our server and she was AMAZING. So knowledgeable about the menu and so accommodating and she was attentive to our table the entire time. It was our first time and we are definitely coming back! Hidden gem on Cortelyou.  \n",
       "..                                                                                                                                                                                                                                                                                                                                                                                                                                                                                                                                                                                                                                                                                                                                                                                                                                                                                                                                                                                                                                                                                                                                                                                                                                                                                                                                                                                                                                                                                                                                                                                                                                                                                                                                                                                                                                                                                                                                                                                                                                                                                                                                                                                                                                                                                                                                                                                                                                                                                                                                                                                                                                                                                                                                                                                                                                                                                                                                                                                                                                                                                                                                                                                                                                                                                                                                                                                                                                                                                                                                                                                                                                                                                                                                                                                                                                                                                                                                                                                                                                                                                                                                                                                                                                                                                                                                                                                                                                                                                                                                                                                                                                                                                                                                                                                                                                                                                                                                                                                                                                                                                                                                                                                                                                                                                                                                                                                                                                                                                                                                                                                                                                                                                                                                                                                                                                                                                                                                                                                                                                                                                                                                                                                                                                                                                                                                                                                                                                                                                                                                                                                                                                                                                                                                                                                                                                                                                                                                                                                                                                                                                                                                                                                                                                                                                                                                                                                                                                                                                                                                                                                                                                                                                                                                                                                                                                                                                                                                                                                                                                                                                                                                                                                                                                                                                                                                                                                                                                                                                                                                                                                                                                                                                                                                                                                                                                                                                                                                                                                                                                                                                                                               ...  \n",
       "872                                                                                                                                                                                                                                                                                                                                                                                                                                                                                                                                                                                                                                                                                                                                                                                                                                                                                                                                                                                                                                                                                                                                                                                                                                                                                                                                                                                                                                                                                                                                                                                                                                                                                                                                                                                                                                                                                                                                                                                                                                                                                                                                                                                                                                                                                                                                                                                                                                                                                                                                                                                                                                                                                                                                                                                                                                                                                                                                                                                                                                                                                                                                                                                                                                                                                                                                                                                                                                                                                                                                                                                                                                                                                                                                                                                                                                                                                                                                                                                                                                                                                                              - the best Tom Kha soup I've had anywhere. Asked for it spicy and it didn't disappoint- spicy udon noodle dish was solid + large portion size- pad thai was unique, thinner than usual noodles and strong flavor, still liked it a lotCalm vibes and good service, will return.I'm not going to lie, I looked up Joya and it said open at 1. It wasn't. I was pissed! I walked over to Ghang with my husband and kid. It was AWESOME! This was even better then Joya. We had the chicken fried rice, drunkenNoodles with tofu, eggplant and basil, crispy tofu, and spring rolls. This will now be my go to for Thai food. Quality surpassed my expectations..Nice inside but service was not good . The woman who serviced us wasn't very pleasant . She gave us menus and after that she barely came back to our table. We were the only ones inside at first and she never even took our order . Another group of people came in after and she ran to service them even took their orders first and still never came to our table. We were ignored for 15 -20 minutes. Another person walked in and she proceeded to help him and we still haven't gotten a chance to order so at that point we got annoyed and ended up leaving . As we proceeded to leave that's when she decided to run up to us but it was too late . I will not spend my money here !!!.Just had an amazingly fresh and delicious dinner here on a Friday night! First, I ordered a cocktail and the server was very helpful. We had a mango salad (no spice), which was so fresh and crunchy!  Even though I ordered without spice, I still tasted a little kick but that was tolerable and elevated the taste of the salad, in my opinion. Husband had beef lemongrass with mushrooms and mild spice - this was amazing! We got a bonus Thai iced tea for checking in, so hope they still have that promo when you read this. Ambiance was great, low key, casual. Very satisfied. Outdoor space is cute and cozy. We'll definitely return and try other cocktails and entrees on the menu!.my first time thai food in this area nice location. outdoor seat is perfectI had tom yam, and ped pa lo(Duck stew)was great...had Vergin Lychee Mochito, was great....Not sure how this place is still open, we ordered seamless from them tonight, came after more than an hour and the food was terrible. Found a hair in the Chicken Satay, the Papaya salad was sour and unpalatable, the curry that was supposed to be \"medium spicy\" burnt our face off, and not in a nice, rich - flavorful way, it was just hot without any purpose..This is not my favorite Thai place in the neighborhood, but we're spoiled for choice in Cobble Hill, so Ghang Thai is still an excellent option. They're open during Covid-19 for take out, order in person or by phone. They also have a back patio if you want to risk eating around other people. In pre-covid times, this was always a nice lunch spot, with plenty of indoor seating, a water feature, and a full bar for happy hour hang outs. Good vegetarian selection, just be sure to ask if it can be made without fish sauce, without oyster sauce. The pad si yu is excellent, and the pad Thai isn't too sweet. If you ask for spicy, they make spicy! And medium is medium. Pretty good. The edamame starter portion is generous and the salt is evenly distributed, not like in some places. NB they close during the afternoon for the staff break, which varies but is usually around 3-5pm or so. They don't provide sanitizer, so bring your own..This was a great meal! Attentive service and food tasted amazing. Great place for vegetarians -- hard to find a place that has so many appetizers and entrees for us. Will definitely be my go to neighborhood thai place..I have been here twice with my husband. We love the food! The only downside is that the food takes waaaaaay too long to get to the table. We always are waiting three times as long as we should be, despite the place never being busy. Plus side is that the interior is so beautiful! Love this place. When the service is quicker it will get 5 stars!.Since I love thai food I am always checking out new places.  This is in walking distance from work, so I decided to try out one of the lunch specials.  While I waited, I was offered either tea or water, and the host/bar person was very friendly so got in conversation with me.  The space is roomy and from my view point, there seems to be a garden area, that would be great during the warmer months.I love all curry flavors therefore I opted for a vegetable tofu mixed in coconut curry with high heat, because I'm a masochist for spicy hot foods.  The order came with jasmine white rice, salad and a spring roll.  Everything was very flavorful and tasted fresh.  Look forward to visiting them again and trying out one of their other lunch specials, the portions are just right and the cost is also great.  \n",
       "873                                                                                                                                                                                                                                                                                                                                                                                                                                                                                                                                                                                                                                                                                                                                                                                                                                                                                                                                                                                                                                                                                                                                                                                                                                                                                                                                                                                                                                                                                                                                                                                                                                                                                                                                                                                                                                                                                                                                                                                                                                                                                                                                                                                                                                                                                                                                                                                                                                                                                                                                                                                                                                                                                                                                                                                                                                                                                                                                                                                                                                                                                                                                                                                                                                                                                                                                                                                                                                                                                                                                                                                                                                                                                                                                                                                                                                                                                                                                                                                                                                                                                                                                                                                                                                                                                                                                                                                                                                                                                                                                                                                                     They make really good pizzas. No complaints. Always fresh. Cashier is nice and friendly..For all my locals, I definitely suggest getting the buffalo chicken. The 5 star rating I gave was basically BECAUSE of how delicious the buffalo chicken is. This is my go- to buffalo chicken place! It comes with blue cheese packets, more hot sauce packets, and ketchup. The chicken is a mixture of drums and flats. The fries here are better than the pointy- too hard ones from McDonalds. The fries are pretty skinny but you can kinda taste the oiliness in the flavor. So so far, the buffalo chicken and the fries are pretty on point. However, I tried the Jarritos tamarind flavor (my first Jarritos drink ever). There was so much fizz that I could barely taste the unique tamarind flavor. Only until I got to the end, I could taste the flavor as an aftertaste. I think i'd rather just get regular soda here. Or, if i'm craving for the tamarind flavor I would get the tamarind agua fresca on highlawn at El Gallo Taqueria (another local place).They have free delivery here and for those who are environmentally conscious peeps out there, they delivered the fries in a biodegradable take out box..This is a copy and paste from my previous review from when they rebranded (or were purchased by new management - I don't really know) and added the word \"& Chicken\" to their name which just.... it just makes me love this place even more somehow------------------------------------------------------------Can't really say anything negative about this place.  Even as service at other places seems to fail (Torre's is a prime example of this, unfortunately), their quality just seems to be improving somehow.Pizza was always cooked to my liking (nice and crispy) and was always delicious.  Recently they even started getting their fried chicken, rice and beans game on and they... SURPRISINGLY... are NO JOKE....It blows my mind that I have had ONLY straight up AMAZING/GORMET chicken and pizza experiences here given it's just what appears to be a hole in the wall.  Doesn't taste like it though.... and I'm glad for this.In any case... I recommend giving this place a try.  Just come in, tell them how you like your food and what you want, and everything should come out just like you want it... at least based on my experience.And lately... even if you don't... they seem to take their food pretty seriously and seem, to me, just to be getting better and better.  Maybe someday I'll order here and the pizza will be messed up or the order will be wrong or they'll take way too long who knows.Ordered from here dozens of times though so far and they haven't messed anything up.  Keep it up guys.  Keep growing and getting better because what you are doing seems to be working and the world needs more of that..Best Pizza & Chicken you are most certainly outstanding, I had a spectacular experience here yesterday. Great menu, Great ambiance, Great service, and Great friends! Every thing I've tried until now is great. Workers are really pleasant and service is very quick. Overall great experience at Best Pizza & Chicken with friendly and accommodating service, will definitely return..Terrible customer service. Needs improvement. They did not want to deliver to an address 10 minutes away and waited 1 hour before they called to cancel my order, and without any apology they hang the phone up on me. Truly disgusting and no way to treat a paying customer..Rude cashier! watch out for this guy he might charge u extra as tips for takeouts and tried to throw away ur receipts for unreasonable charges..Their fried chicken thighs are so good and they're only $2 per piece. They have good flavor and are crunchy. Wings and drumsticks are $1 (at least it was last time I bought them, like pre-COVID) I like to get two thighs at a time since they can be tender or juicy and have some fat. Getting two lets me have one of each. Fries and burgers aren't so good. Fries are soggy. Burger patty is thin and dry..Just an average pizza place . Taste ok. Price ok. Hope they make a better taste.!!!!!!!!!!!!!!.My go-to pizza place! I always order from them when I'm craving pizza or their burger and chicken combos. The price is decent and their cheeseburger with egg is so good! The employees are always friendly and the fact that they're close to my home is another plus.  \n",
       "874                                                                                                                                                                                                                                                                                                                                                                                                                                                                                                                                                                                                                                                                                                                                                                                                                                                                                                                                                                                                                                                                                                                                                                                                                                                                                                                                                                                                                                                                                                                                                                                                                                                                                                                                                                                                                                                                                                                                                                                                                                                                                                                                                                                                                                                                                                                                                                                                                                                                                                                                                                                                                                                                                                                                                                                                                                                                                                                                                                                                                                                                                                                                                                                                                                                                                                                                                                                                                                                                                                                                                                                                                                                                                                                                                                                                                                                                                                                                                                                                                                                                                                                                                                                                                                                                                                                                                                                                                                                                                                                                                                                                                                                                                                                                                                                                                                                                                                                                                                                                                                                                                                                                                                                                                                                                                                                                                                                                                                                                                                                                                                                                                                                                                                                                                                                                                                                                                                                                                                                                                                                                                                                                                                                                                                                                                                                                                                                                                                                                                                                                                                                                                                                                                                                                                                                                                                                                                                                                                                                                                                                                                                                                                                                                                                                                                                                                                                                                                                                                                                                                                                                                                                                                                                                                                                                                                                                                                                                                                                                                                                                                           Great pizza I order a delivery which was fast taking too considerations that I don't live close by, but it only took them 30 minutes to make 2 pies and the quality was great, the crust is very thin and the topics were delicious. Definitely will order again!!!.This is exactly what a Midwesterner expects from a neighborhood slice joint. Regular pie has crispy but tender crust (usually just a bit thicker than Napoli-style), unfussy tomatoes, and a reasonable amount of cheese. Baked pastas are hearty enough for two and come with garlic knots (though the sauce has sometimes been far too salty). Sandwiches served on chewy Bensonhurst baguettes. Most importantly, all the guys behind the counter are super nice and take care of their regular customers..It is a small, quick bite to get in the neighborhood. Chinese food available as well. Owners are really nice and its worth a try..Tiny pizzeria on Avenue O. Renovated, added seats looks much cleaner and brighter inside. Friendly staff. Good for a quick run in.  \n",
       "875                                                                                                                                                                                                                                                                                                                                                                                                                                                                                                                                                                                                                                                                                                                                                                                                                                                                                                                                                                                                                                                                                                                                                                                                                                                                                                                                                                                                                                                                                                                                                                                                                                                                                                                                                                                                                                                                                                                                                                                                                                                                                                                                                                                                                                                                                                                                                                                                                                                                                                                                                                                                                                                                                                                                                                                                                                                                                                                                                                                                                                                                                                                                                                                                                                                                                                                                                                                                                                                                                                                                                                                                                                                                                                                                                                                                                                                                                                                                                                                                                                                                                                                                                                                                                                                                                                                                                                                                                                                                                                                                                                                                                                                                                                                                                                                                                                                                                                                                                                                                                                                                                                                                                                                                                                                                                                                                                                                                                                                                                                                                                                                                                                                                                                                                                                                                                                                                                                                                                                                                                                                                                                                                                                                                                                                                                                                                                                                                                                                                                                                                                                                                                                                                                                                                                                                                                                                                                                       Looking at the other reviews, I somehow miraculously always had a good experience.Pizza was always cooked to my liking (nice and crispy) and was always delicious.   Recently they even started getting their fried chicken, rice and beans game on and they... SURPRISINGLY... are NO JOKE....It blows my mind that I have had ONLY straight up AMAZING/GORMET chicken and pizza experiences here but it seems like I might be in the minority for some reason.In any case... I recommend giving this place a try.  Just come in, tell them how you like your food and what you want, and everything should come out just like you want it... at least based on my experience..Strangest eating experience ever. I have never tasted cheese, dough, or tomato sauce so bland in my life. In fact, I'm unsure how it is even possible that those three ingredients (especially combined) can work to have ZERO taste. It was like eating air. Even after eating two slices (which would have easily made me feel extra full), I was still hungry. Maybe it was an optical illusion and I actually did eat air? I'm still puzzled by this. Maybe this restaurant is actually ahead of its time and is serving hundreds of calories of air? Either way, Best Pizza must be a well-known joke in the neighborhood because it is actually THE worst pizza I have ever had. I'm all fairness, the food wasn't bad it just wasn't anything. Pro: they aren't too busy so you can call ahead and have your pizza ready in 5-10 minutes. There is also always a seat available because no one is in there..This place was great when we first moved to the neighborhood, but it has gone downhill since the owners handed off the day-to-day operations. I guess having paesanos behind the counter makes a real difference. It's fine if you want the cheapest option in the area, but you'll get what you pay for..Carry out a large plain pie for $10. Decent pizza for a great price. Make sure you calculate the order; last time I ordered toppings and they charged me more than what it suppose to be..The pizza is fine but when I go I have to have someone with me like my brother because the workers there are horny.  \n",
       "876                                                                                                                                                                                                                                                                                                                                                                                                                                                                                                                                                                                                                                                                                                                                                                                                                                                                                                                                                                                                                                                                                                                                                                                                                                                                                                                                                                                                                                                                                                                                                                                                                                                                                                                                                                                                                                                                                                                                                                                                                                                                                                                                                                                                                                                                                                                                                                                                                                                                                                                                                                                                                                                                                                                                                                                                                                                                                                                                                                                                                                                                                                                                                                                                                                                                                                                                                                                                                                                                                                                                                                                                                                                                                                                                                                                                                                                                                                                                                                                                                                                                                                                                                                                                                                                                                                                                                                                                                                                                                                                                                                                                                                                                                                                                                                                                                                                                                                                                                                                                                                                                                                                                                                                                                                                                                                                                                                                                                                                                                                                                                                                                                                                                                                                                                                                                                                                                                                                                                                                                                                                                                                  Very delicious pancakes but the waffles are a bit dry. Their grilled chicken sanwiches and gyros are very delicious and the pricing is fair for the portions you get. Super cute diner, perfect on a weekend morning!.When to get breakfast today. This is by far the worst place ever. 2 scrambled eggs, melted swiss on top(1slice), hash browns with 2 slices of turkey.  2 bottles of water and small decaf coffee =$21.25 Outrages. All I got was lots of grease. I will never ever get anything from here. Stay away..I've ordered from here a bunch of times. They're always reliable and delicious. They deliver fast. And the doughnuts are so good!.Great service for a small diner and the eggs and pancakes were very good. Coffee was good also. Clean bathroom is always a plus fir a small location..Old School Diner. Food is good and fresh. The staff is the friendliest around.  If your looking for a diner this is your spot..I put one star because i can t put 0 star! The owner is so rude and the place so dirty! I don t know how many spiders i saw in the restroom and i don t want even think about in the kitchen!!! Don t go there unless you want suicide!!!.Often when I am working in Ridgewood, I skip breakfast. I stumbled upon this little diner while  walking down Fresh pond Road. Ridgewood is a historical neighborhood that is home to many different nationalities. Each block is lined with different restaurants from Polish, Greek, Italian to Mexican. A literal melting pot of cuisine. Delight dishes out ol school diner grub. This is a no frills classic diner. I was ready for lunch and it was after 11. I decided on the falafel on pita, however, I was informed they were out of ingredients for the falafel. I then decided on the Cuban sandwich. Ham, mustard, Swiss cheese, lots of pickles on a toasted hero. The ham was good but I just didn't enjoy the sandwich. The bread didn't seem too fresh. Nothing special. I assume this used to be a donut shop many decades ago.  It's advertised that there are donuts sold by the box. There were no donuts on display. Many patrons were filing in for coffee and Breakfast platters. I assume Breakfast is cheap and decent here. Local police offers stopped in for their coffee breaks. All in all, I probably would go to elsewhere to dine for my dollar..This diner has been here for years. It's not fancy but they are friendly. Food is good. A mix of Greek and American fare. Owner very friendly. Staff was attentive. Just a good neighborhood place..We love eating here, and usually get something from them at least twice a week. The food is both affordable and delicious. The staff is always friendly, and the orders arrive quickly. Highly recommended..Consistently solid old school diner. The folks in the neighborhood have been eating dinner here for 30+ years -- the sign of an institution. Enjoy anything on the menu -- though I usually play it safe with diner classics...  \n",
       "\n",
       "[877 rows x 16 columns]"
      ]
     },
     "execution_count": 14,
     "metadata": {},
     "output_type": "execute_result"
    }
   ],
   "source": [
    "df_2"
   ]
  },
  {
   "cell_type": "code",
   "execution_count": null,
   "metadata": {
    "ExecuteTime": {
     "start_time": "2022-04-18T05:29:29.206Z"
    }
   },
   "outputs": [],
   "source": [
    "review_txt3 = []\n",
    "\n",
    "for url in url_list3:\n",
    "    url = url\n",
    "    req = requests.get(url)\n",
    "    soup = bs(req.content)\n",
    "    comments = soup.find_all(class_='raw__09f24__T4Ezm', lang=\"en\")\n",
    "    comment_txt3 = []\n",
    "    \n",
    "    for comment in comments:\n",
    "        comment_txt3.append(comment.text)\n",
    "    \n",
    "    comment_corp = ('.'.join(comment_txt3))\n",
    "    review_txt3.append(comment_corp)"
   ]
  },
  {
   "cell_type": "code",
   "execution_count": 44,
   "metadata": {
    "ExecuteTime": {
     "end_time": "2022-04-18T15:32:56.107647Z",
     "start_time": "2022-04-18T15:32:55.879182Z"
    }
   },
   "outputs": [],
   "source": [
    "rvw_txt = pd.DataFrame(review_txt7,columns=['Review_Text'])\n",
    "rvw_txt.to_csv('rvw_txt7.csv',index=False)\n"
   ]
  },
  {
   "cell_type": "code",
   "execution_count": null,
   "metadata": {
    "ExecuteTime": {
     "end_time": "2022-04-06T21:10:42.746234Z",
     "start_time": "2022-04-06T21:10:42.728669Z"
    }
   },
   "outputs": [],
   "source": [
    "# def prepare_data(data_list):\n",
    "#     \"\"\"\n",
    "#     This function takes in a list of dictionaries and prepares it\n",
    "#     for analysis\n",
    "#     \"\"\"\n",
    "    \n",
    "#     # Make a new list to hold results\n",
    "#     results = []\n",
    "    \n",
    "#     for business_data in data_list:\n",
    "    \n",
    "#         # Make a new dictionary to hold prepared data for this business\n",
    "#         prepared_data = {}\n",
    "        \n",
    "#         # Extract name, review_count, rating, and price key-value pairs\n",
    "#         # from business_data and add to prepared_data\n",
    "#         # If a key is not present in business_data, add it to prepared_data\n",
    "#         # with an associated value of None\n",
    "#         for key in (\"name\", \"review_count\", \"rating\", \"price\"):\n",
    "#             prepared_data[key] = business_data.get(key, None)\n",
    "    \n",
    "#         # Parse and add latitude and longitude columns\n",
    "#         coordinates = business_data[\"coordinates\"]\n",
    "#         prepared_data[\"latitude\"] = coordinates[\"latitude\"]\n",
    "#         prepared_data[\"longitude\"] = coordinates[\"longitude\"]\n",
    "        \n",
    "#         # Add to list if all values are present\n",
    "#         if all(prepared_data.values()):\n",
    "#             results.append(prepared_data)\n",
    "    \n",
    "#     return results\n",
    "    \n",
    "# # Test out function\n",
    "# prepared_businesses = prepare_data(businesses)\n",
    "# prepared_businesses[:5]"
   ]
  },
  {
   "cell_type": "code",
   "execution_count": null,
   "metadata": {
    "ExecuteTime": {
     "end_time": "2022-03-23T01:52:48.820508Z",
     "start_time": "2022-03-23T01:52:48.809218Z"
    }
   },
   "outputs": [],
   "source": [
    "# lat = []\n",
    "# long = []\n",
    "\n",
    "# for _,business in yelp_df.iterrows():\n",
    "#     lat.append(business['coordinates']['latitude'])\n",
    "#     long.append(business['coordinates']['longitude'])\n",
    "\n",
    "# yelp_df['lat'] = lat\n",
    "# yelp_df['long'] = long"
   ]
  },
  {
   "cell_type": "markdown",
   "metadata": {},
   "source": [
    "## Getting Yelp Reviews"
   ]
  },
  {
   "cell_type": "code",
   "execution_count": 74,
   "metadata": {
    "ExecuteTime": {
     "end_time": "2022-04-16T17:22:24.996907Z",
     "start_time": "2022-04-16T17:22:24.990683Z"
    }
   },
   "outputs": [],
   "source": [
    "yelp_ids = list(yelp_businesses_df['id'])"
   ]
  },
  {
   "cell_type": "code",
   "execution_count": 82,
   "metadata": {
    "ExecuteTime": {
     "end_time": "2022-04-16T17:38:19.508517Z",
     "start_time": "2022-04-16T17:38:19.503966Z"
    }
   },
   "outputs": [],
   "source": [
    " yelp_ids1 = yelp_ids[0:2]"
   ]
  },
  {
   "cell_type": "code",
   "execution_count": 83,
   "metadata": {
    "ExecuteTime": {
     "end_time": "2022-04-16T17:38:20.027170Z",
     "start_time": "2022-04-16T17:38:20.015130Z"
    }
   },
   "outputs": [
    {
     "data": {
      "text/plain": [
       "['fEsgUESZxOQtd4YEmAUuow', 'zm_ngfMxyU6d85AaTIgI7Q']"
      ]
     },
     "execution_count": 83,
     "metadata": {},
     "output_type": "execute_result"
    }
   ],
   "source": [
    "yelp_ids1"
   ]
  },
  {
   "cell_type": "code",
   "execution_count": 84,
   "metadata": {
    "ExecuteTime": {
     "end_time": "2022-04-16T17:38:23.035631Z",
     "start_time": "2022-04-16T17:38:22.612783Z"
    }
   },
   "outputs": [
    {
     "data": {
      "text/html": [
       "<div>\n",
       "<style scoped>\n",
       "    .dataframe tbody tr th:only-of-type {\n",
       "        vertical-align: middle;\n",
       "    }\n",
       "\n",
       "    .dataframe tbody tr th {\n",
       "        vertical-align: top;\n",
       "    }\n",
       "\n",
       "    .dataframe thead th {\n",
       "        text-align: right;\n",
       "    }\n",
       "</style>\n",
       "<table border=\"1\" class=\"dataframe\">\n",
       "  <thead>\n",
       "    <tr style=\"text-align: right;\">\n",
       "      <th></th>\n",
       "      <th>yelp_id</th>\n",
       "      <th>review_text</th>\n",
       "    </tr>\n",
       "  </thead>\n",
       "  <tbody>\n",
       "    <tr>\n",
       "      <th>0</th>\n",
       "      <td>zm_ngfMxyU6d85AaTIgI7Q</td>\n",
       "      <td>Met my bestie for a warm beverage yesterday and we ended up here at Caffe Latte. Immediately upon entering, the lady working there let us know that the...</td>\n",
       "    </tr>\n",
       "    <tr>\n",
       "      <th>1</th>\n",
       "      <td>zm_ngfMxyU6d85AaTIgI7Q</td>\n",
       "      <td>Walked in to check out their menu. Person working there didn't acknowledge me. I guess the dishes were more important than my patronage. Place was empty so...</td>\n",
       "    </tr>\n",
       "    <tr>\n",
       "      <th>2</th>\n",
       "      <td>zm_ngfMxyU6d85AaTIgI7Q</td>\n",
       "      <td>I've been to this location twice and each time the service , the food and the atmosphere has CHANGED MY LIFE. I had the black Ink ravioli and my long time...</td>\n",
       "    </tr>\n",
       "    <tr>\n",
       "      <th>3</th>\n",
       "      <td>zm_ngfMxyU6d85AaTIgI7Q</td>\n",
       "      <td>- good griot\\n- nice pairing with the waffle\\n- not much traditional american breakfast\\n- DJ turned up at 3:30 on a sunday\\n- the champagne tasted cheap\\n- the...</td>\n",
       "    </tr>\n",
       "    <tr>\n",
       "      <th>4</th>\n",
       "      <td>zm_ngfMxyU6d85AaTIgI7Q</td>\n",
       "      <td>I ordered  griot and rice on 3/1/22. When I reached home, I was disappointed with the amount of griot I received in a small tin container. I spent $20 plus...</td>\n",
       "    </tr>\n",
       "    <tr>\n",
       "      <th>5</th>\n",
       "      <td>zm_ngfMxyU6d85AaTIgI7Q</td>\n",
       "      <td>My business partner and I, attempted to have dinner at this establishment. The hostess greeted us and ask if we preferred to be seated at the front or the...</td>\n",
       "    </tr>\n",
       "  </tbody>\n",
       "</table>\n",
       "</div>"
      ],
      "text/plain": [
       "                  yelp_id  \\\n",
       "0  zm_ngfMxyU6d85AaTIgI7Q   \n",
       "1  zm_ngfMxyU6d85AaTIgI7Q   \n",
       "2  zm_ngfMxyU6d85AaTIgI7Q   \n",
       "3  zm_ngfMxyU6d85AaTIgI7Q   \n",
       "4  zm_ngfMxyU6d85AaTIgI7Q   \n",
       "5  zm_ngfMxyU6d85AaTIgI7Q   \n",
       "\n",
       "                                                                                                                                                           review_text  \n",
       "0           Met my bestie for a warm beverage yesterday and we ended up here at Caffe Latte. Immediately upon entering, the lady working there let us know that the...  \n",
       "1       Walked in to check out their menu. Person working there didn't acknowledge me. I guess the dishes were more important than my patronage. Place was empty so...  \n",
       "2        I've been to this location twice and each time the service , the food and the atmosphere has CHANGED MY LIFE. I had the black Ink ravioli and my long time...  \n",
       "3  - good griot\\n- nice pairing with the waffle\\n- not much traditional american breakfast\\n- DJ turned up at 3:30 on a sunday\\n- the champagne tasted cheap\\n- the...  \n",
       "4       I ordered  griot and rice on 3/1/22. When I reached home, I was disappointed with the amount of griot I received in a small tin container. I spent $20 plus...  \n",
       "5        My business partner and I, attempted to have dinner at this establishment. The hostess greeted us and ask if we preferred to be seated at the front or the...  "
      ]
     },
     "execution_count": 84,
     "metadata": {},
     "output_type": "execute_result"
    }
   ],
   "source": [
    "review_corp = []\n",
    "\n",
    "for business in  yelp_ids1:\n",
    "    yelp_id = business\n",
    "    url = f'https://api.yelp.com/v3/businesses/{yelp_id}/reviews'\n",
    "    headers = {'Authorization': 'Bearer ' + creds['api_key']}\n",
    "    response = requests.get(url, headers=headers)\n",
    "    response_json = response.json()\n",
    "    response_json\n",
    "    \n",
    "    for review in response_json.get('reviews'):\n",
    "        review_corp.append(review['text'])\n",
    "        \n",
    "    dict_test = {'yelp_id' : yelp_id, 'review_text' : review_corp}\n",
    "\n",
    "    df_test = pd.DataFrame(dict_test)\n",
    "    \n",
    "df_test"
   ]
  },
  {
   "cell_type": "code",
   "execution_count": 118,
   "metadata": {
    "ExecuteTime": {
     "end_time": "2022-04-17T07:16:22.703797Z",
     "start_time": "2022-04-17T07:16:22.695925Z"
    }
   },
   "outputs": [
    {
     "data": {
      "text/plain": [
       "['Met my bestie for a warm beverage yesterday and we ended up here at Caffe Latte. Immediately upon entering, the lady working there let us know that the...',\n",
       " \"Walked in to check out their menu. Person working there didn't acknowledge me. I guess the dishes were more important than my patronage. Place was empty so...\",\n",
       " \"I've been to this location twice and each time the service , the food and the atmosphere has CHANGED MY LIFE. I had the black Ink ravioli and my long time...\",\n",
       " '- good griot\\n- nice pairing with the waffle\\n- not much traditional american breakfast\\n- DJ turned up at 3:30 on a sunday\\n- the champagne tasted cheap\\n- the...',\n",
       " 'I ordered  griot and rice on 3/1/22. When I reached home, I was disappointed with the amount of griot I received in a small tin container. I spent $20 plus...',\n",
       " 'My business partner and I, attempted to have dinner at this establishment. The hostess greeted us and ask if we preferred to be seated at the front or the...']"
      ]
     },
     "execution_count": 118,
     "metadata": {},
     "output_type": "execute_result"
    }
   ],
   "source": [
    "review_corp"
   ]
  },
  {
   "cell_type": "code",
   "execution_count": 119,
   "metadata": {
    "ExecuteTime": {
     "end_time": "2022-04-17T16:05:35.052610Z",
     "start_time": "2022-04-17T16:05:35.026084Z"
    }
   },
   "outputs": [
    {
     "name": "stdout",
     "output_type": "stream",
     "text": [
      "154\n",
      "158\n",
      "157\n",
      "158\n",
      "158\n",
      "157\n"
     ]
    }
   ],
   "source": [
    "for review in review_corp:\n",
    "    print(len(review))"
   ]
  },
  {
   "cell_type": "code",
   "execution_count": 365,
   "metadata": {
    "ExecuteTime": {
     "end_time": "2022-04-15T02:12:08.605749Z",
     "start_time": "2022-04-15T02:12:08.247867Z"
    }
   },
   "outputs": [
    {
     "data": {
      "text/plain": [
       "{'reviews': [{'id': '3hXVb3qfwkpNYoVs3_9_QA',\n",
       "   'url': 'https://www.yelp.com/biz/ii-caffe-latte-2-new-york-4?adjust_creative=82uXkAt1Tiw7u9_h33zr1A&hrid=3hXVb3qfwkpNYoVs3_9_QA&utm_campaign=yelp_api_v3&utm_medium=api_v3_business_reviews&utm_source=82uXkAt1Tiw7u9_h33zr1A',\n",
       "   'text': 'Met my bestie for a warm beverage yesterday and we ended up here at Caffe Latte. Immediately upon entering, the lady working there let us know that the...',\n",
       "   'rating': 5,\n",
       "   'time_created': '2020-03-15 06:15:11',\n",
       "   'user': {'id': 'KJd4Ey6_spwKIX0oq3CjQw',\n",
       "    'profile_url': 'https://www.yelp.com/user_details?userid=KJd4Ey6_spwKIX0oq3CjQw',\n",
       "    'image_url': 'https://s3-media3.fl.yelpcdn.com/photo/DbTi7vDMa5PUndu-CdP54A/o.jpg',\n",
       "    'name': 'Salisha T.'}},\n",
       "  {'id': 'ONoRuoJtZXfo1rXs8GlGFA',\n",
       "   'url': 'https://www.yelp.com/biz/ii-caffe-latte-2-new-york-4?adjust_creative=82uXkAt1Tiw7u9_h33zr1A&hrid=ONoRuoJtZXfo1rXs8GlGFA&utm_campaign=yelp_api_v3&utm_medium=api_v3_business_reviews&utm_source=82uXkAt1Tiw7u9_h33zr1A',\n",
       "   'text': \"Walked in to check out their menu. Person working there didn't acknowledge me. I guess the dishes were more important than my patronage. Place was empty so...\",\n",
       "   'rating': 1,\n",
       "   'time_created': '2021-10-24 14:53:53',\n",
       "   'user': {'id': 'm-YCck86Jp7hzgswZDezgw',\n",
       "    'profile_url': 'https://www.yelp.com/user_details?userid=m-YCck86Jp7hzgswZDezgw',\n",
       "    'image_url': 'https://s3-media1.fl.yelpcdn.com/photo/Ut474DCzE16ALtL_lEXTYg/o.jpg',\n",
       "    'name': 'Tangerine L.'}},\n",
       "  {'id': 'Y2kV33dCd9RBZ0WrrY6-DQ',\n",
       "   'url': 'https://www.yelp.com/biz/ii-caffe-latte-2-new-york-4?adjust_creative=82uXkAt1Tiw7u9_h33zr1A&hrid=Y2kV33dCd9RBZ0WrrY6-DQ&utm_campaign=yelp_api_v3&utm_medium=api_v3_business_reviews&utm_source=82uXkAt1Tiw7u9_h33zr1A',\n",
       "   'text': \"I've been to this location twice and each time the service , the food and the atmosphere has CHANGED MY LIFE. I had the black Ink ravioli and my long time...\",\n",
       "   'rating': 5,\n",
       "   'time_created': '2021-03-24 15:18:29',\n",
       "   'user': {'id': 'zHGwvcogwOgDGzJsggjf0g',\n",
       "    'profile_url': 'https://www.yelp.com/user_details?userid=zHGwvcogwOgDGzJsggjf0g',\n",
       "    'image_url': 'https://s3-media3.fl.yelpcdn.com/photo/djVGPAjOPVZEFogzXEG07w/o.jpg',\n",
       "    'name': 'Malik c.'}}],\n",
       " 'total': 127,\n",
       " 'possible_languages': ['en', 'de']}"
      ]
     },
     "execution_count": 365,
     "metadata": {},
     "output_type": "execute_result"
    }
   ],
   "source": [
    "#Review Search \n",
    "yelp_id = 'fEsgUESZxOQtd4YEmAUuow'\n",
    "url = f'https://api.yelp.com/v3/businesses/{yelp_id}/reviews'\n",
    "headers = {'Authorization': 'Bearer ' + creds['api_key']}\n",
    "response = requests.get(url, headers=headers)\n",
    "response_json = response.json()\n",
    "response_json"
   ]
  },
  {
   "cell_type": "code",
   "execution_count": 382,
   "metadata": {
    "ExecuteTime": {
     "end_time": "2022-04-15T02:40:22.429405Z",
     "start_time": "2022-04-15T02:40:22.419460Z"
    }
   },
   "outputs": [],
   "source": [
    "review_corp = []\n",
    "\n",
    "for review in response_json.get('reviews'):\n",
    "    review_corp.append(review['text'])"
   ]
  },
  {
   "cell_type": "code",
   "execution_count": 366,
   "metadata": {
    "ExecuteTime": {
     "end_time": "2022-04-15T02:12:48.343959Z",
     "start_time": "2022-04-15T02:12:48.337455Z"
    }
   },
   "outputs": [
    {
     "data": {
      "text/plain": [
       "'fEsgUESZxOQtd4YEmAUuow'"
      ]
     },
     "execution_count": 366,
     "metadata": {},
     "output_type": "execute_result"
    }
   ],
   "source": [
    "yelp_id"
   ]
  },
  {
   "cell_type": "code",
   "execution_count": null,
   "metadata": {},
   "outputs": [],
   "source": []
  },
  {
   "cell_type": "code",
   "execution_count": 386,
   "metadata": {
    "ExecuteTime": {
     "end_time": "2022-04-15T02:44:56.085995Z",
     "start_time": "2022-04-15T02:44:56.082350Z"
    }
   },
   "outputs": [],
   "source": [
    "review_corp = ''.join(review_corp)"
   ]
  },
  {
   "cell_type": "code",
   "execution_count": 383,
   "metadata": {
    "ExecuteTime": {
     "end_time": "2022-04-15T02:40:24.820929Z",
     "start_time": "2022-04-15T02:40:24.806937Z"
    }
   },
   "outputs": [
    {
     "data": {
      "text/html": [
       "<div>\n",
       "<style scoped>\n",
       "    .dataframe tbody tr th:only-of-type {\n",
       "        vertical-align: middle;\n",
       "    }\n",
       "\n",
       "    .dataframe tbody tr th {\n",
       "        vertical-align: top;\n",
       "    }\n",
       "\n",
       "    .dataframe thead th {\n",
       "        text-align: right;\n",
       "    }\n",
       "</style>\n",
       "<table border=\"1\" class=\"dataframe\">\n",
       "  <thead>\n",
       "    <tr style=\"text-align: right;\">\n",
       "      <th></th>\n",
       "      <th>yelp_id</th>\n",
       "      <th>review_text</th>\n",
       "    </tr>\n",
       "  </thead>\n",
       "  <tbody>\n",
       "    <tr>\n",
       "      <th>0</th>\n",
       "      <td>fEsgUESZxOQtd4YEmAUuow</td>\n",
       "      <td>Met my bestie for a warm beverage yesterday and we ended up here at Caffe Latte. Immediately upo...</td>\n",
       "    </tr>\n",
       "    <tr>\n",
       "      <th>1</th>\n",
       "      <td>fEsgUESZxOQtd4YEmAUuow</td>\n",
       "      <td>Walked in to check out their menu. Person working there didn't acknowledge me. I guess the dishe...</td>\n",
       "    </tr>\n",
       "    <tr>\n",
       "      <th>2</th>\n",
       "      <td>fEsgUESZxOQtd4YEmAUuow</td>\n",
       "      <td>I've been to this location twice and each time the service , the food and the atmosphere has CHA...</td>\n",
       "    </tr>\n",
       "  </tbody>\n",
       "</table>\n",
       "</div>"
      ],
      "text/plain": [
       "                  yelp_id  \\\n",
       "0  fEsgUESZxOQtd4YEmAUuow   \n",
       "1  fEsgUESZxOQtd4YEmAUuow   \n",
       "2  fEsgUESZxOQtd4YEmAUuow   \n",
       "\n",
       "                                                                                           review_text  \n",
       "0  Met my bestie for a warm beverage yesterday and we ended up here at Caffe Latte. Immediately upo...  \n",
       "1  Walked in to check out their menu. Person working there didn't acknowledge me. I guess the dishe...  \n",
       "2  I've been to this location twice and each time the service , the food and the atmosphere has CHA...  "
      ]
     },
     "execution_count": 383,
     "metadata": {},
     "output_type": "execute_result"
    }
   ],
   "source": [
    "dict_test = {'yelp_id' : yelp_id, 'review_text' : review_corp}\n",
    "df_test = pd.DataFrame(dict_test)\n",
    "df_test"
   ]
  },
  {
   "cell_type": "code",
   "execution_count": null,
   "metadata": {},
   "outputs": [],
   "source": []
  },
  {
   "cell_type": "code",
   "execution_count": 324,
   "metadata": {
    "ExecuteTime": {
     "end_time": "2022-04-14T15:07:46.486247Z",
     "start_time": "2022-04-14T15:07:46.435062Z"
    }
   },
   "outputs": [
    {
     "data": {
      "text/html": [
       "<div>\n",
       "<style scoped>\n",
       "    .dataframe tbody tr th:only-of-type {\n",
       "        vertical-align: middle;\n",
       "    }\n",
       "\n",
       "    .dataframe tbody tr th {\n",
       "        vertical-align: top;\n",
       "    }\n",
       "\n",
       "    .dataframe thead th {\n",
       "        text-align: right;\n",
       "    }\n",
       "</style>\n",
       "<table border=\"1\" class=\"dataframe\">\n",
       "  <thead>\n",
       "    <tr style=\"text-align: right;\">\n",
       "      <th></th>\n",
       "      <th>id</th>\n",
       "      <th>url</th>\n",
       "      <th>text</th>\n",
       "      <th>rating</th>\n",
       "      <th>time_created</th>\n",
       "      <th>user</th>\n",
       "    </tr>\n",
       "  </thead>\n",
       "  <tbody>\n",
       "    <tr>\n",
       "      <th>0</th>\n",
       "      <td>3hXVb3qfwkpNYoVs3_9_QA</td>\n",
       "      <td>https://www.yelp.com/biz/ii-caffe-latte-2-new-york-4?adjust_creative=82uXkAt1Tiw7u9_h33zr1A&amp;hrid...</td>\n",
       "      <td>Met my bestie for a warm beverage yesterday and we ended up here at Caffe Latte. Immediately upo...</td>\n",
       "      <td>5</td>\n",
       "      <td>2020-03-15 06:15:11</td>\n",
       "      <td>{'id': 'KJd4Ey6_spwKIX0oq3CjQw', 'profile_url': 'https://www.yelp.com/user_details?userid=KJd4Ey...</td>\n",
       "    </tr>\n",
       "    <tr>\n",
       "      <th>1</th>\n",
       "      <td>ONoRuoJtZXfo1rXs8GlGFA</td>\n",
       "      <td>https://www.yelp.com/biz/ii-caffe-latte-2-new-york-4?adjust_creative=82uXkAt1Tiw7u9_h33zr1A&amp;hrid...</td>\n",
       "      <td>Walked in to check out their menu. Person working there didn't acknowledge me. I guess the dishe...</td>\n",
       "      <td>1</td>\n",
       "      <td>2021-10-24 14:53:53</td>\n",
       "      <td>{'id': 'm-YCck86Jp7hzgswZDezgw', 'profile_url': 'https://www.yelp.com/user_details?userid=m-YCck...</td>\n",
       "    </tr>\n",
       "    <tr>\n",
       "      <th>2</th>\n",
       "      <td>Y2kV33dCd9RBZ0WrrY6-DQ</td>\n",
       "      <td>https://www.yelp.com/biz/ii-caffe-latte-2-new-york-4?adjust_creative=82uXkAt1Tiw7u9_h33zr1A&amp;hrid...</td>\n",
       "      <td>I've been to this location twice and each time the service , the food and the atmosphere has CHA...</td>\n",
       "      <td>5</td>\n",
       "      <td>2021-03-24 15:18:29</td>\n",
       "      <td>{'id': 'zHGwvcogwOgDGzJsggjf0g', 'profile_url': 'https://www.yelp.com/user_details?userid=zHGwvc...</td>\n",
       "    </tr>\n",
       "  </tbody>\n",
       "</table>\n",
       "</div>"
      ],
      "text/plain": [
       "                       id  \\\n",
       "0  3hXVb3qfwkpNYoVs3_9_QA   \n",
       "1  ONoRuoJtZXfo1rXs8GlGFA   \n",
       "2  Y2kV33dCd9RBZ0WrrY6-DQ   \n",
       "\n",
       "                                                                                                   url  \\\n",
       "0  https://www.yelp.com/biz/ii-caffe-latte-2-new-york-4?adjust_creative=82uXkAt1Tiw7u9_h33zr1A&hrid...   \n",
       "1  https://www.yelp.com/biz/ii-caffe-latte-2-new-york-4?adjust_creative=82uXkAt1Tiw7u9_h33zr1A&hrid...   \n",
       "2  https://www.yelp.com/biz/ii-caffe-latte-2-new-york-4?adjust_creative=82uXkAt1Tiw7u9_h33zr1A&hrid...   \n",
       "\n",
       "                                                                                                  text  \\\n",
       "0  Met my bestie for a warm beverage yesterday and we ended up here at Caffe Latte. Immediately upo...   \n",
       "1  Walked in to check out their menu. Person working there didn't acknowledge me. I guess the dishe...   \n",
       "2  I've been to this location twice and each time the service , the food and the atmosphere has CHA...   \n",
       "\n",
       "   rating         time_created  \\\n",
       "0       5  2020-03-15 06:15:11   \n",
       "1       1  2021-10-24 14:53:53   \n",
       "2       5  2021-03-24 15:18:29   \n",
       "\n",
       "                                                                                                  user  \n",
       "0  {'id': 'KJd4Ey6_spwKIX0oq3CjQw', 'profile_url': 'https://www.yelp.com/user_details?userid=KJd4Ey...  \n",
       "1  {'id': 'm-YCck86Jp7hzgswZDezgw', 'profile_url': 'https://www.yelp.com/user_details?userid=m-YCck...  \n",
       "2  {'id': 'zHGwvcogwOgDGzJsggjf0g', 'profile_url': 'https://www.yelp.com/user_details?userid=zHGwvc...  "
      ]
     },
     "execution_count": 324,
     "metadata": {},
     "output_type": "execute_result"
    }
   ],
   "source": [
    "review_df = pd.DataFrame(response_json.get('reviews'))\n",
    "review_df"
   ]
  },
  {
   "cell_type": "code",
   "execution_count": null,
   "metadata": {},
   "outputs": [],
   "source": []
  },
  {
   "cell_type": "markdown",
   "metadata": {},
   "source": [
    "# Data Understanding"
   ]
  },
  {
   "cell_type": "markdown",
   "metadata": {},
   "source": [
    "For this project there will be two sources and types of data used:\n",
    "\n",
    "* Historical health and hygiene inspections recorded by New York City Department of Health and Mental Hygiene (DOHMH) public health inspectors\n",
    "* User generated Yelp business ratings and reviews"
   ]
  },
  {
   "cell_type": "markdown",
   "metadata": {},
   "source": [
    "## Understanding NYC DOHMH Data"
   ]
  },
  {
   "cell_type": "markdown",
   "metadata": {},
   "source": [
    "This dataset contains over 330,000 records, let's explore its contents."
   ]
  },
  {
   "cell_type": "code",
   "execution_count": null,
   "metadata": {
    "ExecuteTime": {
     "end_time": "2022-03-24T20:13:39.503467Z",
     "start_time": "2022-03-24T20:13:39.388312Z"
    }
   },
   "outputs": [],
   "source": [
    "dohmh_df['inspection_date'] =  pd.to_datetime(dohmh_inspections['inspection_date'])"
   ]
  },
  {
   "cell_type": "code",
   "execution_count": null,
   "metadata": {
    "ExecuteTime": {
     "end_time": "2022-03-24T20:13:45.498607Z",
     "start_time": "2022-03-24T20:13:45.485185Z"
    }
   },
   "outputs": [],
   "source": [
    "dohmh_df['inspection_date'].min()"
   ]
  },
  {
   "cell_type": "code",
   "execution_count": null,
   "metadata": {
    "ExecuteTime": {
     "end_time": "2022-03-24T20:13:56.414351Z",
     "start_time": "2022-03-24T20:13:56.397701Z"
    }
   },
   "outputs": [],
   "source": [
    "dohmh_df['inspection_date'].max()"
   ]
  },
  {
   "cell_type": "markdown",
   "metadata": {},
   "source": [
    "Inspections in this dataset range from May 2008 up to present day."
   ]
  },
  {
   "cell_type": "code",
   "execution_count": null,
   "metadata": {
    "ExecuteTime": {
     "end_time": "2022-03-24T20:16:39.819970Z",
     "start_time": "2022-03-24T20:16:39.815805Z"
    }
   },
   "outputs": [],
   "source": [
    "# dohmh_df.set_index('inspection_date')"
   ]
  },
  {
   "cell_type": "code",
   "execution_count": null,
   "metadata": {
    "ExecuteTime": {
     "end_time": "2022-03-24T20:06:23.107542Z",
     "start_time": "2022-03-24T20:06:23.039343Z"
    }
   },
   "outputs": [],
   "source": [
    "dohmh_df['boro'].value_counts()"
   ]
  },
  {
   "cell_type": "code",
   "execution_count": null,
   "metadata": {
    "ExecuteTime": {
     "end_time": "2022-03-24T20:06:48.973901Z",
     "start_time": "2022-03-24T20:06:48.947792Z"
    }
   },
   "outputs": [],
   "source": [
    "dohmh_df['score'].value_counts()"
   ]
  },
  {
   "cell_type": "code",
   "execution_count": null,
   "metadata": {},
   "outputs": [],
   "source": []
  },
  {
   "cell_type": "code",
   "execution_count": null,
   "metadata": {
    "ExecuteTime": {
     "end_time": "2022-03-24T20:06:52.338177Z",
     "start_time": "2022-03-24T20:06:52.329477Z"
    }
   },
   "outputs": [],
   "source": [
    "dohmh_df['score'].isna().sum()"
   ]
  },
  {
   "cell_type": "code",
   "execution_count": null,
   "metadata": {
    "ExecuteTime": {
     "end_time": "2022-03-24T20:06:53.801108Z",
     "start_time": "2022-03-24T20:06:53.742457Z"
    }
   },
   "outputs": [],
   "source": [
    "dohmh_df['grade'].value_counts()"
   ]
  },
  {
   "cell_type": "code",
   "execution_count": null,
   "metadata": {
    "ExecuteTime": {
     "end_time": "2022-03-25T18:08:16.344961Z",
     "start_time": "2022-03-25T18:08:16.232615Z"
    }
   },
   "outputs": [],
   "source": [
    "dohmh_df['grade'].value_counts(normalize=True)"
   ]
  },
  {
   "cell_type": "code",
   "execution_count": null,
   "metadata": {
    "ExecuteTime": {
     "end_time": "2022-03-24T20:06:55.741139Z",
     "start_time": "2022-03-24T20:06:55.706697Z"
    }
   },
   "outputs": [],
   "source": [
    "dohmh_df['grade'].isna().sum()"
   ]
  },
  {
   "cell_type": "code",
   "execution_count": null,
   "metadata": {
    "ExecuteTime": {
     "end_time": "2022-03-24T20:07:21.888553Z",
     "start_time": "2022-03-24T20:07:21.831624Z"
    }
   },
   "outputs": [],
   "source": [
    "dohmh_df['critical_flag'].value_counts()"
   ]
  },
  {
   "cell_type": "markdown",
   "metadata": {},
   "source": [
    "Critical violations are those most likely to contribute to foodborne illness"
   ]
  },
  {
   "cell_type": "code",
   "execution_count": null,
   "metadata": {
    "ExecuteTime": {
     "end_time": "2022-03-24T20:07:24.216744Z",
     "start_time": "2022-03-24T20:07:24.147788Z"
    }
   },
   "outputs": [],
   "source": [
    "dohmh_df['critical_flag'].value_counts(normalize=True)"
   ]
  },
  {
   "cell_type": "code",
   "execution_count": null,
   "metadata": {
    "ExecuteTime": {
     "end_time": "2022-03-24T20:07:25.228707Z",
     "start_time": "2022-03-24T20:07:25.168956Z"
    }
   },
   "outputs": [],
   "source": [
    "dohmh_df['inspection_type'].value_counts()"
   ]
  },
  {
   "cell_type": "code",
   "execution_count": null,
   "metadata": {
    "ExecuteTime": {
     "end_time": "2022-03-24T23:19:02.351760Z",
     "start_time": "2022-03-24T23:19:02.076866Z"
    }
   },
   "outputs": [],
   "source": [
    "dohmh_inspections = dohmh_df[(dohmh_df['inspection_type'] ==\n",
    "                              'Cycle Inspection / Initial Inspection') | (dohmh_df['inspection_type'] ==\n",
    "                              'Cycle Inspection / Re-inspection')]"
   ]
  },
  {
   "cell_type": "code",
   "execution_count": null,
   "metadata": {
    "ExecuteTime": {
     "end_time": "2022-03-24T23:19:04.172448Z",
     "start_time": "2022-03-24T23:19:04.102283Z"
    }
   },
   "outputs": [],
   "source": [
    "dohmh_inspections['critical_flag'].value_counts()"
   ]
  },
  {
   "cell_type": "code",
   "execution_count": null,
   "metadata": {
    "ExecuteTime": {
     "end_time": "2022-03-25T13:45:01.843258Z",
     "start_time": "2022-03-25T13:45:00.880168Z"
    }
   },
   "outputs": [],
   "source": [
    "# Drop records with NA critical_flag\n",
    "\n",
    "dohmh_ohe = dohmh_inspections[dohmh_inspections['critical_flag'] != 'Not Applicable']"
   ]
  },
  {
   "cell_type": "code",
   "execution_count": null,
   "metadata": {
    "ExecuteTime": {
     "end_time": "2022-03-25T13:45:33.328672Z",
     "start_time": "2022-03-25T13:45:33.035849Z"
    }
   },
   "outputs": [],
   "source": [
    "dohmh_ohe = pd.get_dummies(dohmh_inspections,columns=['critical_flag'])"
   ]
  },
  {
   "cell_type": "code",
   "execution_count": null,
   "metadata": {
    "ExecuteTime": {
     "end_time": "2022-03-25T13:45:51.839949Z",
     "start_time": "2022-03-25T13:45:51.783181Z"
    }
   },
   "outputs": [],
   "source": [
    "dohmh_ohe.head(2)"
   ]
  },
  {
   "cell_type": "code",
   "execution_count": null,
   "metadata": {
    "ExecuteTime": {
     "end_time": "2022-03-25T14:50:30.907183Z",
     "start_time": "2022-03-25T14:50:30.884584Z"
    }
   },
   "outputs": [],
   "source": [
    "critical_flags = dohmh_ohe.groupby(['camis'])['critical_flag_Critical'].count()"
   ]
  },
  {
   "cell_type": "code",
   "execution_count": null,
   "metadata": {
    "ExecuteTime": {
     "end_time": "2022-03-25T14:50:23.875323Z",
     "start_time": "2022-03-25T14:50:23.860854Z"
    }
   },
   "outputs": [],
   "source": [
    "critical_flags[critical_flagss]"
   ]
  },
  {
   "cell_type": "code",
   "execution_count": null,
   "metadata": {
    "ExecuteTime": {
     "end_time": "2022-03-25T14:07:58.740052Z",
     "start_time": "2022-03-25T14:07:58.732065Z"
    }
   },
   "outputs": [],
   "source": [
    "critical_flags['critical_flag_Not Critical'].sum()"
   ]
  },
  {
   "cell_type": "code",
   "execution_count": null,
   "metadata": {
    "ExecuteTime": {
     "end_time": "2022-03-25T14:00:08.447544Z",
     "start_time": "2022-03-25T14:00:08.443356Z"
    }
   },
   "outputs": [],
   "source": [
    "non_critical_flags = dohmh_ohe.groupby(['camis'])"
   ]
  },
  {
   "cell_type": "code",
   "execution_count": null,
   "metadata": {
    "ExecuteTime": {
     "end_time": "2022-03-25T14:00:31.528917Z",
     "start_time": "2022-03-25T14:00:30.783695Z"
    }
   },
   "outputs": [],
   "source": [
    "dohmh_inspections.duplicated().sum()"
   ]
  },
  {
   "cell_type": "code",
   "execution_count": null,
   "metadata": {
    "ExecuteTime": {
     "end_time": "2022-03-24T20:07:43.870691Z",
     "start_time": "2022-03-24T20:07:42.979136Z"
    }
   },
   "outputs": [],
   "source": [
    "dohmh_inspections.loc[dohmh_inspections.duplicated(keep='first'),:]"
   ]
  },
  {
   "cell_type": "code",
   "execution_count": null,
   "metadata": {
    "ExecuteTime": {
     "end_time": "2022-03-25T14:00:44.519563Z",
     "start_time": "2022-03-25T14:00:43.762531Z"
    }
   },
   "outputs": [],
   "source": [
    "dohmh_inspections.drop_duplicates().shape"
   ]
  },
  {
   "cell_type": "code",
   "execution_count": null,
   "metadata": {
    "ExecuteTime": {
     "end_time": "2022-03-25T14:00:47.862026Z",
     "start_time": "2022-03-25T14:00:47.835019Z"
    }
   },
   "outputs": [],
   "source": [
    "dohmh_inspections.duplicated(subset=['camis']).sum()"
   ]
  },
  {
   "cell_type": "code",
   "execution_count": null,
   "metadata": {
    "ExecuteTime": {
     "end_time": "2022-03-25T14:01:12.814518Z",
     "start_time": "2022-03-25T14:01:12.801669Z"
    }
   },
   "outputs": [],
   "source": [
    "dohmh_inspections['camis'].nunique()"
   ]
  },
  {
   "cell_type": "markdown",
   "metadata": {},
   "source": [
    "There are approximately 28,000 restaurants that have been inspected by the DOHMH. Let's check out how many have ever been flagged for a critical violation."
   ]
  }
 ],
 "metadata": {
  "kernelspec": {
   "display_name": "Python (learn-env)",
   "language": "python",
   "name": "learn-env"
  },
  "language_info": {
   "codemirror_mode": {
    "name": "ipython",
    "version": 3
   },
   "file_extension": ".py",
   "mimetype": "text/x-python",
   "name": "python",
   "nbconvert_exporter": "python",
   "pygments_lexer": "ipython3",
   "version": "3.8.5"
  },
  "toc": {
   "base_numbering": 1,
   "nav_menu": {},
   "number_sections": true,
   "sideBar": true,
   "skip_h1_title": false,
   "title_cell": "Table of Contents",
   "title_sidebar": "Contents",
   "toc_cell": false,
   "toc_position": {
    "height": "calc(100% - 180px)",
    "left": "10px",
    "top": "150px",
    "width": "248px"
   },
   "toc_section_display": true,
   "toc_window_display": true
  }
 },
 "nbformat": 4,
 "nbformat_minor": 4
}
